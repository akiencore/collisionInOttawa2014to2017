{
 "cells": [
  {
   "cell_type": "raw",
   "metadata": {},
   "source": [
    "// learn from http://chris-said.io/2016/02/13/how-to-make-polished-jupyter-presentations-with-optional-code-visibility/\n",
    "<script>\n",
    "  function code_toggle() {\n",
    "    if (code_shown){\n",
    "      $('div.input').hide('500');\n",
    "      $('#toggleButton').val('Show Code')\n",
    "    } else {\n",
    "      $('div.input').show('500');\n",
    "      $('#toggleButton').val('Hide Code')\n",
    "    }\n",
    "    code_shown = !code_shown\n",
    "  }\n",
    "\n",
    "  $( document ).ready(function(){\n",
    "    code_shown=false;\n",
    "    $('div.input').hide()\n",
    "  });\n",
    "</script>\n",
    "<form action=\"javascript:code_toggle()\"><input type=\"submit\" id=\"toggleButton\" value=\"Show Code\"></form>"
   ]
  },
  {
   "cell_type": "code",
   "execution_count": 2,
   "metadata": {},
   "outputs": [
    {
     "data": {
      "text/html": [
       "<script>requirejs.config({paths: { 'plotly': ['https://cdn.plot.ly/plotly-latest.min']},});if(!window.Plotly) {{require(['plotly'],function(plotly) {window.Plotly=plotly;});}}</script>"
      ],
      "text/vnd.plotly.v1+html": [
       "<script>requirejs.config({paths: { 'plotly': ['https://cdn.plot.ly/plotly-latest.min']},});if(!window.Plotly) {{require(['plotly'],function(plotly) {window.Plotly=plotly;});}}</script>"
      ]
     },
     "metadata": {},
     "output_type": "display_data"
    }
   ],
   "source": [
    "import sys\n",
    "import warnings\n",
    "if not sys.warnoptions:\n",
    "    warnings.simplefilter(\"ignore\")\n",
    "\n",
    "%matplotlib  inline               \n",
    "import pandas as pd\n",
    "import numpy as np\n",
    "\n",
    "import plotly.graph_objs as go\n",
    "from plotly.offline import download_plotlyjs, init_notebook_mode, plot, iplot\n",
    "init_notebook_mode(connected=True)\n",
    "\n",
    "import folium\n",
    "import folium.plugins \n",
    "\n",
    "#pd.set_option('html', False)  \n",
    "# unknown error, skip this step\n",
    "pd.set_option('max_columns', 30)\n",
    "pd.set_option('max_rows', 20)\n",
    "\n"
   ]
  },
  {
   "cell_type": "markdown",
   "metadata": {},
   "source": [
    "## 1. Based on organzied csv files, get a table about all vehicle collisions from 2014 to 2017"
   ]
  },
  {
   "cell_type": "markdown",
   "metadata": {},
   "source": [
    "### 1.1 combine vehicle collisions csv files from 2014 to 2017 (in the order of time)"
   ]
  },
  {
   "cell_type": "code",
   "execution_count": 122,
   "metadata": {},
   "outputs": [
    {
     "data": {
      "text/html": [
       "<div>\n",
       "<style scoped>\n",
       "    .dataframe tbody tr th:only-of-type {\n",
       "        vertical-align: middle;\n",
       "    }\n",
       "\n",
       "    .dataframe tbody tr th {\n",
       "        vertical-align: top;\n",
       "    }\n",
       "\n",
       "    .dataframe thead th {\n",
       "        text-align: right;\n",
       "    }\n",
       "</style>\n",
       "<table border=\"1\" class=\"dataframe\">\n",
       "  <thead>\n",
       "    <tr style=\"text-align: right;\">\n",
       "      <th></th>\n",
       "      <th>Record</th>\n",
       "      <th>Location</th>\n",
       "      <th>Date</th>\n",
       "      <th>Time</th>\n",
       "      <th>Environment</th>\n",
       "      <th>Road_Surface</th>\n",
       "      <th>Traffic_Control</th>\n",
       "      <th>Collision_Location</th>\n",
       "      <th>Light</th>\n",
       "      <th>Collision_Classification</th>\n",
       "      <th>Impact_type</th>\n",
       "      <th>longitude</th>\n",
       "      <th>latitude</th>\n",
       "      <th>Year</th>\n",
       "      <th>Month</th>\n",
       "      <th>Day_Of_Week</th>\n",
       "    </tr>\n",
       "  </thead>\n",
       "  <tbody>\n",
       "    <tr>\n",
       "      <th>0</th>\n",
       "      <td>2014000001</td>\n",
       "      <td>RIDEAU ST @ WALLER ST</td>\n",
       "      <td>2014-02-21</td>\n",
       "      <td>06:07:00</td>\n",
       "      <td>02 - Rain</td>\n",
       "      <td>02 - Wet</td>\n",
       "      <td>01 - Traffic signal</td>\n",
       "      <td>03 - At intersection</td>\n",
       "      <td>07 - Dark</td>\n",
       "      <td>01 - Fatal injury</td>\n",
       "      <td>07 - SMV other</td>\n",
       "      <td>-75.688726</td>\n",
       "      <td>45.427533</td>\n",
       "      <td>2014</td>\n",
       "      <td>2</td>\n",
       "      <td>T5_Fri</td>\n",
       "    </tr>\n",
       "    <tr>\n",
       "      <th>1</th>\n",
       "      <td>2014000002</td>\n",
       "      <td>HINES RD btwn INNOVATION DR &amp; SOLANDT RD</td>\n",
       "      <td>2014-08-02</td>\n",
       "      <td>13:55:00</td>\n",
       "      <td>01 - Clear</td>\n",
       "      <td>01 - Dry</td>\n",
       "      <td>10 - No control</td>\n",
       "      <td>04 - At/near private drive</td>\n",
       "      <td>01 - Daylight</td>\n",
       "      <td>01 - Fatal injury</td>\n",
       "      <td>02 - Angle</td>\n",
       "      <td>-75.921033</td>\n",
       "      <td>45.343152</td>\n",
       "      <td>2014</td>\n",
       "      <td>8</td>\n",
       "      <td>T6_Sat</td>\n",
       "    </tr>\n",
       "    <tr>\n",
       "      <th>2</th>\n",
       "      <td>2014000003</td>\n",
       "      <td>LOGGERS WAY btwn KINGDON MINE RD &amp; GALETTA SID...</td>\n",
       "      <td>2014-06-20</td>\n",
       "      <td>23:15:00</td>\n",
       "      <td>01 - Clear</td>\n",
       "      <td>01 - Dry</td>\n",
       "      <td>10 - No control</td>\n",
       "      <td>01 - Non intersection</td>\n",
       "      <td>07 - Dark</td>\n",
       "      <td>01 - Fatal injury</td>\n",
       "      <td>07 - SMV other</td>\n",
       "      <td>-76.247045</td>\n",
       "      <td>45.438627</td>\n",
       "      <td>2014</td>\n",
       "      <td>6</td>\n",
       "      <td>T5_Fri</td>\n",
       "    </tr>\n",
       "  </tbody>\n",
       "</table>\n",
       "</div>"
      ],
      "text/plain": [
       "       Record                                           Location       Date  \\\n",
       "0  2014000001                              RIDEAU ST @ WALLER ST 2014-02-21   \n",
       "1  2014000002           HINES RD btwn INNOVATION DR & SOLANDT RD 2014-08-02   \n",
       "2  2014000003  LOGGERS WAY btwn KINGDON MINE RD & GALETTA SID... 2014-06-20   \n",
       "\n",
       "       Time Environment Road_Surface      Traffic_Control  \\\n",
       "0  06:07:00   02 - Rain     02 - Wet  01 - Traffic signal   \n",
       "1  13:55:00  01 - Clear     01 - Dry      10 - No control   \n",
       "2  23:15:00  01 - Clear     01 - Dry      10 - No control   \n",
       "\n",
       "           Collision_Location          Light Collision_Classification  \\\n",
       "0        03 - At intersection      07 - Dark        01 - Fatal injury   \n",
       "1  04 - At/near private drive  01 - Daylight        01 - Fatal injury   \n",
       "2       01 - Non intersection      07 - Dark        01 - Fatal injury   \n",
       "\n",
       "      Impact_type  longitude   latitude  Year  Month Day_Of_Week  \n",
       "0  07 - SMV other -75.688726  45.427533  2014      2      T5_Fri  \n",
       "1      02 - Angle -75.921033  45.343152  2014      8      T6_Sat  \n",
       "2  07 - SMV other -76.247045  45.438627  2014      6      T5_Fri  "
      ]
     },
     "execution_count": 122,
     "metadata": {},
     "output_type": "execute_result"
    }
   ],
   "source": [
    "df_csv1417 = pd.DataFrame()\n",
    "\n",
    "for y in range(2014, 2018):\n",
    "    fname = \"collision%d.csv\" % (y)\n",
    "    tmp_df = pd.read_csv(fname)\n",
    "    tmp_df[\"Year\"] = y\n",
    "    df_csv1417 = df_csv1417.append(tmp_df, sort = False)\n",
    "\n",
    "df_csv1417.index = range(df_csv1417.shape[0])\n",
    "df_csv1417[\"Date\"] = pd.to_datetime(df_csv1417[\"Date\"])\n",
    "\n",
    "df_csv1417[\"Month\"] = df_csv1417[\"Date\"].apply(lambda x: x.month)\n",
    "\n",
    "def DayOfWeek(date):\n",
    "    dw = date.weekday()\n",
    "    rst = {\n",
    "        0: 'T1_Mon',\n",
    "        1: 'T2_Tue',\n",
    "        2: 'T3_Wed',\n",
    "        3: 'T4_Thu',\n",
    "        4: 'T5_Fri',\n",
    "        5: 'T6_Sat',\n",
    "        6: 'T7_Sun'\n",
    "    }[dw]\n",
    "    return rst\n",
    "\n",
    "df_csv1417[\"Day_Of_Week\"] = df_csv1417[\"Date\"].apply(lambda x: DayOfWeek(x))\n",
    "\n",
    "df_csv1417[\"Environment\"] = df_csv1417[\"Environment\"].astype(\"category\")\n",
    "df_csv1417[\"Road_Surface\"] = df_csv1417[\"Road_Surface\"].astype(\"category\")\n",
    "df_csv1417[\"Traffic_Control\"] = df_csv1417[\"Traffic_Control\"].astype(\"category\")\n",
    "df_csv1417[\"Collision_Location\"] = df_csv1417[\"Collision_Location\"].astype(\"category\")\n",
    "df_csv1417[\"Light\"] = df_csv1417[\"Light\"].astype(\"category\")\n",
    "df_csv1417[\"Collision_Classification\"] = df_csv1417[\"Collision_Classification\"].astype(\"category\")\n",
    "df_csv1417[\"Impact_type\"] = df_csv1417[\"Impact_type\"].astype(\"category\")\n",
    "\n",
    "df_csv1417.head(3)"
   ]
  },
  {
   "cell_type": "code",
   "execution_count": 121,
   "metadata": {},
   "outputs": [
    {
     "data": {
      "text/html": [
       "<div>\n",
       "<style scoped>\n",
       "    .dataframe tbody tr th:only-of-type {\n",
       "        vertical-align: middle;\n",
       "    }\n",
       "\n",
       "    .dataframe tbody tr th {\n",
       "        vertical-align: top;\n",
       "    }\n",
       "\n",
       "    .dataframe thead th {\n",
       "        text-align: right;\n",
       "    }\n",
       "</style>\n",
       "<table border=\"1\" class=\"dataframe\">\n",
       "  <thead>\n",
       "    <tr style=\"text-align: right;\">\n",
       "      <th></th>\n",
       "      <th>Record</th>\n",
       "      <th>Location</th>\n",
       "      <th>Date</th>\n",
       "      <th>Time</th>\n",
       "      <th>Environment</th>\n",
       "      <th>Road_Surface</th>\n",
       "      <th>Traffic_Control</th>\n",
       "      <th>Collision_Location</th>\n",
       "      <th>Light</th>\n",
       "      <th>Collision_Classification</th>\n",
       "      <th>Impact_type</th>\n",
       "      <th>longitude</th>\n",
       "      <th>latitude</th>\n",
       "      <th>Year</th>\n",
       "      <th>Month</th>\n",
       "      <th>Day_Of_Week</th>\n",
       "    </tr>\n",
       "  </thead>\n",
       "  <tbody>\n",
       "    <tr>\n",
       "      <th>58335</th>\n",
       "      <td>2017014392</td>\n",
       "      <td>YORK ST WB btwn TO BE DETERMINED &amp; CUMBERLAND ST</td>\n",
       "      <td>2017-01-23</td>\n",
       "      <td>20:30:00</td>\n",
       "      <td>01 - Clear</td>\n",
       "      <td>01 - Dry</td>\n",
       "      <td>10 - No control</td>\n",
       "      <td>01 - Non intersection</td>\n",
       "      <td>07 - Dark</td>\n",
       "      <td>03 - P.D. only</td>\n",
       "      <td>06 - SMV unattended vehicle</td>\n",
       "      <td>-75.689421</td>\n",
       "      <td>45.429755</td>\n",
       "      <td>2017</td>\n",
       "      <td>1</td>\n",
       "      <td>T1_Mon</td>\n",
       "    </tr>\n",
       "    <tr>\n",
       "      <th>58336</th>\n",
       "      <td>2017014393</td>\n",
       "      <td>YORKS CORNERS RD btwn PANA RD &amp; VICTORIA ST</td>\n",
       "      <td>2017-07-18</td>\n",
       "      <td>18:03:00</td>\n",
       "      <td>01 - Clear</td>\n",
       "      <td>01 - Dry</td>\n",
       "      <td>10 - No control</td>\n",
       "      <td>01 - Non intersection</td>\n",
       "      <td>01 - Daylight</td>\n",
       "      <td>03 - P.D. only</td>\n",
       "      <td>07 - SMV other</td>\n",
       "      <td>-75.431838</td>\n",
       "      <td>45.258973</td>\n",
       "      <td>2017</td>\n",
       "      <td>7</td>\n",
       "      <td>T2_Tue</td>\n",
       "    </tr>\n",
       "    <tr>\n",
       "      <th>58337</th>\n",
       "      <td>2017014394</td>\n",
       "      <td>YORKS CORNERS RD btwn PARKWAY RD &amp; COOPER HILL RD</td>\n",
       "      <td>2017-03-23</td>\n",
       "      <td>16:21:00</td>\n",
       "      <td>01 - Clear</td>\n",
       "      <td>01 - Dry</td>\n",
       "      <td>10 - No control</td>\n",
       "      <td>01 - Non intersection</td>\n",
       "      <td>01 - Daylight</td>\n",
       "      <td>02 - Non-fatal injury</td>\n",
       "      <td>07 - SMV other</td>\n",
       "      <td>-75.453559</td>\n",
       "      <td>45.299801</td>\n",
       "      <td>2017</td>\n",
       "      <td>3</td>\n",
       "      <td>T4_Thu</td>\n",
       "    </tr>\n",
       "  </tbody>\n",
       "</table>\n",
       "</div>"
      ],
      "text/plain": [
       "           Record                                           Location  \\\n",
       "58335  2017014392   YORK ST WB btwn TO BE DETERMINED & CUMBERLAND ST   \n",
       "58336  2017014393        YORKS CORNERS RD btwn PANA RD & VICTORIA ST   \n",
       "58337  2017014394  YORKS CORNERS RD btwn PARKWAY RD & COOPER HILL RD   \n",
       "\n",
       "            Date      Time Environment Road_Surface  Traffic_Control  \\\n",
       "58335 2017-01-23  20:30:00  01 - Clear     01 - Dry  10 - No control   \n",
       "58336 2017-07-18  18:03:00  01 - Clear     01 - Dry  10 - No control   \n",
       "58337 2017-03-23  16:21:00  01 - Clear     01 - Dry  10 - No control   \n",
       "\n",
       "          Collision_Location          Light Collision_Classification  \\\n",
       "58335  01 - Non intersection      07 - Dark           03 - P.D. only   \n",
       "58336  01 - Non intersection  01 - Daylight           03 - P.D. only   \n",
       "58337  01 - Non intersection  01 - Daylight    02 - Non-fatal injury   \n",
       "\n",
       "                       Impact_type  longitude   latitude  Year  Month  \\\n",
       "58335  06 - SMV unattended vehicle -75.689421  45.429755  2017      1   \n",
       "58336               07 - SMV other -75.431838  45.258973  2017      7   \n",
       "58337               07 - SMV other -75.453559  45.299801  2017      3   \n",
       "\n",
       "      Day_Of_Week  \n",
       "58335      T1_Mon  \n",
       "58336      T2_Tue  \n",
       "58337      T4_Thu  "
      ]
     },
     "execution_count": 121,
     "metadata": {},
     "output_type": "execute_result"
    }
   ],
   "source": [
    "df_csv1417.tail(3)"
   ]
  },
  {
   "cell_type": "markdown",
   "metadata": {},
   "source": [
    "### 1.2 append collision table with daily weather, and mark holidays"
   ]
  },
  {
   "cell_type": "code",
   "execution_count": 123,
   "metadata": {
    "scrolled": false
   },
   "outputs": [
    {
     "data": {
      "text/html": [
       "<div>\n",
       "<style scoped>\n",
       "    .dataframe tbody tr th:only-of-type {\n",
       "        vertical-align: middle;\n",
       "    }\n",
       "\n",
       "    .dataframe tbody tr th {\n",
       "        vertical-align: top;\n",
       "    }\n",
       "\n",
       "    .dataframe thead th {\n",
       "        text-align: right;\n",
       "    }\n",
       "</style>\n",
       "<table border=\"1\" class=\"dataframe\">\n",
       "  <thead>\n",
       "    <tr style=\"text-align: right;\">\n",
       "      <th></th>\n",
       "      <th>Date</th>\n",
       "      <th>Max Temp (°C)</th>\n",
       "      <th>Min Temp (°C)</th>\n",
       "      <th>Mean Temp (°C)</th>\n",
       "      <th>Total Rain (mm)</th>\n",
       "      <th>Total Snow (cm)</th>\n",
       "      <th>Total Precip (mm)</th>\n",
       "      <th>Snow on Grnd (cm)</th>\n",
       "      <th>Number of Collisions</th>\n",
       "      <th>Year</th>\n",
       "      <th>Month</th>\n",
       "      <th>Day in month</th>\n",
       "      <th>Holiday</th>\n",
       "      <th>Day_Of_Week</th>\n",
       "    </tr>\n",
       "  </thead>\n",
       "  <tbody>\n",
       "    <tr>\n",
       "      <th>0</th>\n",
       "      <td>2014-01-01</td>\n",
       "      <td>-19.2</td>\n",
       "      <td>-23.0</td>\n",
       "      <td>-21.1</td>\n",
       "      <td>0.0</td>\n",
       "      <td>0.0</td>\n",
       "      <td>0.0</td>\n",
       "      <td>30</td>\n",
       "      <td>31</td>\n",
       "      <td>2014</td>\n",
       "      <td>1</td>\n",
       "      <td>1</td>\n",
       "      <td>New Years Day</td>\n",
       "      <td>T3_Wed</td>\n",
       "    </tr>\n",
       "    <tr>\n",
       "      <th>1</th>\n",
       "      <td>2014-01-02</td>\n",
       "      <td>-20.8</td>\n",
       "      <td>-27.1</td>\n",
       "      <td>-24.0</td>\n",
       "      <td>0.0</td>\n",
       "      <td>0.0</td>\n",
       "      <td>0.0</td>\n",
       "      <td>29</td>\n",
       "      <td>74</td>\n",
       "      <td>2014</td>\n",
       "      <td>1</td>\n",
       "      <td>2</td>\n",
       "      <td>NaN</td>\n",
       "      <td>T4_Thu</td>\n",
       "    </tr>\n",
       "    <tr>\n",
       "      <th>2</th>\n",
       "      <td>2014-01-03</td>\n",
       "      <td>-21.0</td>\n",
       "      <td>-28.1</td>\n",
       "      <td>-24.6</td>\n",
       "      <td>0.0</td>\n",
       "      <td>0.3</td>\n",
       "      <td>0.0</td>\n",
       "      <td>29</td>\n",
       "      <td>151</td>\n",
       "      <td>2014</td>\n",
       "      <td>1</td>\n",
       "      <td>3</td>\n",
       "      <td>NaN</td>\n",
       "      <td>T5_Fri</td>\n",
       "    </tr>\n",
       "  </tbody>\n",
       "</table>\n",
       "</div>"
      ],
      "text/plain": [
       "        Date  Max Temp (°C)  Min Temp (°C)  Mean Temp (°C)  Total Rain (mm)  \\\n",
       "0 2014-01-01          -19.2          -23.0           -21.1              0.0   \n",
       "1 2014-01-02          -20.8          -27.1           -24.0              0.0   \n",
       "2 2014-01-03          -21.0          -28.1           -24.6              0.0   \n",
       "\n",
       "   Total Snow (cm)  Total Precip (mm)  Snow on Grnd (cm)  \\\n",
       "0              0.0                0.0                 30   \n",
       "1              0.0                0.0                 29   \n",
       "2              0.3                0.0                 29   \n",
       "\n",
       "   Number of Collisions  Year  Month  Day in month        Holiday Day_Of_Week  \n",
       "0                    31  2014      1             1  New Years Day      T3_Wed  \n",
       "1                    74  2014      1             2            NaN      T4_Thu  \n",
       "2                   151  2014      1             3            NaN      T5_Fri  "
      ]
     },
     "execution_count": 123,
     "metadata": {},
     "output_type": "execute_result"
    }
   ],
   "source": [
    "wt1417 = pd.read_csv(\"weather1417.csv\")\n",
    "\n",
    "casesByDay = df_csv1417.groupby(['Date']).size().tolist()\n",
    "wt1417[\"Number of Collisions\"] = casesByDay\n",
    "\n",
    "wt1417[\"Date\"] = pd.to_datetime(wt1417[\"Date\"])\n",
    "\n",
    "wt1417[\"Year\"] = wt1417[\"Date\"].apply(lambda x: x.year)\n",
    "wt1417[\"Month\"] = wt1417[\"Date\"].apply(lambda x: x.month)\n",
    "wt1417[\"Day in month\"] = wt1417[\"Date\"].apply(lambda x: x.day)\n",
    "\n",
    "hd1417 = pd.read_csv('holiday1417.csv')\n",
    "hd1417[\"Date\"] = pd.to_datetime(hd1417[\"Date\"])\n",
    "\n",
    "holidays = hd1417[\"Date\"].tolist()\n",
    "\n",
    "for idx, row in hd1417.iterrows():\n",
    "    wt1417.loc[wt1417[\"Date\"] == row['Date'], 'Holiday'] = row['Holiday']\n",
    "    df_csv1417.loc[df_csv1417[\"Date\"] == row['Date'], 'Holiday'] = row['Holiday']\n",
    "\n",
    "wt1417[\"Holiday\"] = wt1417[\"Holiday\"].astype(\"category\")\n",
    "df_csv1417[\"Holiday\"] = df_csv1417[\"Holiday\"].astype(\"category\")\n",
    "\n",
    "wt1417[\"Day_Of_Week\"] = wt1417[\"Date\"].apply(lambda x: DayOfWeek(x))\n",
    "\n",
    "wt1417.head(3)"
   ]
  },
  {
   "cell_type": "code",
   "execution_count": 124,
   "metadata": {},
   "outputs": [
    {
     "data": {
      "text/html": [
       "<div>\n",
       "<style scoped>\n",
       "    .dataframe tbody tr th:only-of-type {\n",
       "        vertical-align: middle;\n",
       "    }\n",
       "\n",
       "    .dataframe tbody tr th {\n",
       "        vertical-align: top;\n",
       "    }\n",
       "\n",
       "    .dataframe thead th {\n",
       "        text-align: right;\n",
       "    }\n",
       "</style>\n",
       "<table border=\"1\" class=\"dataframe\">\n",
       "  <thead>\n",
       "    <tr style=\"text-align: right;\">\n",
       "      <th></th>\n",
       "      <th>Date</th>\n",
       "      <th>Max Temp (°C)</th>\n",
       "      <th>Min Temp (°C)</th>\n",
       "      <th>Mean Temp (°C)</th>\n",
       "      <th>Total Rain (mm)</th>\n",
       "      <th>Total Snow (cm)</th>\n",
       "      <th>Total Precip (mm)</th>\n",
       "      <th>Snow on Grnd (cm)</th>\n",
       "      <th>Number of Collisions</th>\n",
       "      <th>Year</th>\n",
       "      <th>Month</th>\n",
       "      <th>Day in month</th>\n",
       "      <th>Holiday</th>\n",
       "      <th>Day_Of_Week</th>\n",
       "    </tr>\n",
       "  </thead>\n",
       "  <tbody>\n",
       "    <tr>\n",
       "      <th>1458</th>\n",
       "      <td>2017-12-29</td>\n",
       "      <td>-17.5</td>\n",
       "      <td>-26.2</td>\n",
       "      <td>-21.9</td>\n",
       "      <td>0.0</td>\n",
       "      <td>0.0</td>\n",
       "      <td>0.0</td>\n",
       "      <td>20</td>\n",
       "      <td>63</td>\n",
       "      <td>2017</td>\n",
       "      <td>12</td>\n",
       "      <td>29</td>\n",
       "      <td>NaN</td>\n",
       "      <td>T5_Fri</td>\n",
       "    </tr>\n",
       "    <tr>\n",
       "      <th>1459</th>\n",
       "      <td>2017-12-30</td>\n",
       "      <td>-16.0</td>\n",
       "      <td>-27.0</td>\n",
       "      <td>-21.5</td>\n",
       "      <td>0.0</td>\n",
       "      <td>1.0</td>\n",
       "      <td>0.4</td>\n",
       "      <td>19</td>\n",
       "      <td>47</td>\n",
       "      <td>2017</td>\n",
       "      <td>12</td>\n",
       "      <td>30</td>\n",
       "      <td>NaN</td>\n",
       "      <td>T6_Sat</td>\n",
       "    </tr>\n",
       "    <tr>\n",
       "      <th>1460</th>\n",
       "      <td>2017-12-31</td>\n",
       "      <td>-19.5</td>\n",
       "      <td>-24.5</td>\n",
       "      <td>-22.0</td>\n",
       "      <td>0.0</td>\n",
       "      <td>0.0</td>\n",
       "      <td>0.0</td>\n",
       "      <td>20</td>\n",
       "      <td>43</td>\n",
       "      <td>2017</td>\n",
       "      <td>12</td>\n",
       "      <td>31</td>\n",
       "      <td>NaN</td>\n",
       "      <td>T7_Sun</td>\n",
       "    </tr>\n",
       "  </tbody>\n",
       "</table>\n",
       "</div>"
      ],
      "text/plain": [
       "           Date  Max Temp (°C)  Min Temp (°C)  Mean Temp (°C)  \\\n",
       "1458 2017-12-29          -17.5          -26.2           -21.9   \n",
       "1459 2017-12-30          -16.0          -27.0           -21.5   \n",
       "1460 2017-12-31          -19.5          -24.5           -22.0   \n",
       "\n",
       "      Total Rain (mm)  Total Snow (cm)  Total Precip (mm)  Snow on Grnd (cm)  \\\n",
       "1458              0.0              0.0                0.0                 20   \n",
       "1459              0.0              1.0                0.4                 19   \n",
       "1460              0.0              0.0                0.0                 20   \n",
       "\n",
       "      Number of Collisions  Year  Month  Day in month Holiday Day_Of_Week  \n",
       "1458                    63  2017     12            29     NaN      T5_Fri  \n",
       "1459                    47  2017     12            30     NaN      T6_Sat  \n",
       "1460                    43  2017     12            31     NaN      T7_Sun  "
      ]
     },
     "execution_count": 124,
     "metadata": {},
     "output_type": "execute_result"
    }
   ],
   "source": [
    "wt1417.tail(3)"
   ]
  },
  {
   "cell_type": "markdown",
   "metadata": {},
   "source": [
    "## 2. Based on the table we get, do analysis about single variables"
   ]
  },
  {
   "cell_type": "markdown",
   "metadata": {},
   "source": [
    "### 2.1 Overview"
   ]
  },
  {
   "cell_type": "code",
   "execution_count": 7,
   "metadata": {},
   "outputs": [
    {
     "data": {
      "application/vnd.plotly.v1+json": {
       "data": [
        {
         "name": "Number of vehicle collisions in year",
         "opacity": 0.6,
         "text": [
          "14843",
          "15078",
          "14023",
          "14394"
         ],
         "textposition": "auto",
         "type": "bar",
         "uid": "a62cdf44-a722-11e8-9fa6-0800275aa47c",
         "x": [
          2014,
          2015,
          2016,
          2017
         ],
         "y": [
          14843,
          15078,
          14023,
          14394
         ]
        },
        {
         "mode": "lines+text+markers",
         "name": "Growth rate of vehicle collisions (compared with the previous year)",
         "text": [
          "",
          "1.58%",
          "-7.00%",
          "2.65%"
         ],
         "textposition": "top center",
         "type": "scatter",
         "uid": "a62ce688-a722-11e8-9fa6-0800275aa47c",
         "x": [
          2014,
          2015,
          2016,
          2017
         ],
         "y": [
          14843,
          15078,
          14023,
          14394
         ]
        }
       ],
       "layout": {
        "title": "Number of vehicle collisions in year",
        "xaxis": {
         "dtick": 1,
         "title": "Year"
        }
       }
      },
      "text/html": [
       "<div id=\"a51714b2-b286-4d7c-8680-20a9b5d50470\" style=\"height: 525px; width: 100%;\" class=\"plotly-graph-div\"></div><script type=\"text/javascript\">require([\"plotly\"], function(Plotly) { window.PLOTLYENV=window.PLOTLYENV || {};window.PLOTLYENV.BASE_URL=\"https://plot.ly\";Plotly.newPlot(\"a51714b2-b286-4d7c-8680-20a9b5d50470\", [{\"opacity\": 0.6, \"textposition\": \"auto\", \"name\": \"Number of vehicle collisions in year\", \"text\": [\"14843\", \"15078\", \"14023\", \"14394\"], \"y\": [14843.0, 15078.0, 14023.0, 14394.0], \"x\": [2014, 2015, 2016, 2017], \"type\": \"bar\", \"uid\": \"a631d58a-a722-11e8-9fa6-0800275aa47c\"}, {\"textposition\": \"top center\", \"name\": \"Growth rate of vehicle collisions (compared with the previous year)\", \"text\": [\"\", \"1.58%\", \"-7.00%\", \"2.65%\"], \"mode\": \"lines+text+markers\", \"y\": [14843.0, 15078.0, 14023.0, 14394.0], \"x\": [2014, 2015, 2016, 2017], \"type\": \"scatter\", \"uid\": \"a631d814-a722-11e8-9fa6-0800275aa47c\"}], {\"xaxis\": {\"dtick\": 1, \"title\": \"Year\"}, \"title\": \"Number of vehicle collisions in year\"}, {\"linkText\": \"Export to plot.ly\", \"showLink\": true})});</script>"
      ],
      "text/vnd.plotly.v1+html": [
       "<div id=\"a51714b2-b286-4d7c-8680-20a9b5d50470\" style=\"height: 525px; width: 100%;\" class=\"plotly-graph-div\"></div><script type=\"text/javascript\">require([\"plotly\"], function(Plotly) { window.PLOTLYENV=window.PLOTLYENV || {};window.PLOTLYENV.BASE_URL=\"https://plot.ly\";Plotly.newPlot(\"a51714b2-b286-4d7c-8680-20a9b5d50470\", [{\"opacity\": 0.6, \"textposition\": \"auto\", \"name\": \"Number of vehicle collisions in year\", \"text\": [\"14843\", \"15078\", \"14023\", \"14394\"], \"y\": [14843.0, 15078.0, 14023.0, 14394.0], \"x\": [2014, 2015, 2016, 2017], \"type\": \"bar\", \"uid\": \"a631d58a-a722-11e8-9fa6-0800275aa47c\"}, {\"textposition\": \"top center\", \"name\": \"Growth rate of vehicle collisions (compared with the previous year)\", \"text\": [\"\", \"1.58%\", \"-7.00%\", \"2.65%\"], \"mode\": \"lines+text+markers\", \"y\": [14843.0, 15078.0, 14023.0, 14394.0], \"x\": [2014, 2015, 2016, 2017], \"type\": \"scatter\", \"uid\": \"a631d814-a722-11e8-9fa6-0800275aa47c\"}], {\"xaxis\": {\"dtick\": 1, \"title\": \"Year\"}, \"title\": \"Number of vehicle collisions in year\"}, {\"linkText\": \"Export to plot.ly\", \"showLink\": true})});</script>"
      ]
     },
     "metadata": {},
     "output_type": "display_data"
    },
    {
     "name": "stdout",
     "output_type": "stream",
     "text": [
      "Total number of cases: 58338\n"
     ]
    }
   ],
   "source": [
    "countOfCollision = df_csv1417.groupby(['Year']).size()\n",
    "growthRate = (countOfCollision.pct_change()*100).apply(lambda x: '' if pd.isna(x) else format(x,'.2f') + '%')\n",
    "barOfYear = go.Bar(x = range(2014,2018), \n",
    "                   y = countOfCollision,\n",
    "                   text = countOfCollision,\n",
    "                   textposition = 'auto',\n",
    "                   opacity=0.6, \n",
    "                   name = 'Number of vehicle collisions in year')\n",
    "scatterOfYear = go.Scatter(x = range(2014,2018), \n",
    "                           y = countOfCollision,\n",
    "                           text = growthRate,\n",
    "                           mode = 'lines+text+markers',\n",
    "                           textposition = 'top center',\n",
    "                           name = 'Growth rate of vehicle collisions (compared with the previous year)')\n",
    "\n",
    "fig = dict(data = [barOfYear,scatterOfYear], \n",
    "           layout = go.Layout(title = 'Number of vehicle collisions in year', xaxis=dict(title='Year', dtick=1)))\n",
    "iplot(fig)\n",
    "\n",
    "print(\"Total number of cases: \" + str(countOfCollision.sum()))"
   ]
  },
  {
   "cell_type": "markdown",
   "metadata": {},
   "source": [
    "**Brief Conclusion:**\n",
    "* From January 1, 2014 to December 31, 2017, there were **58338** vehicle collision cases happened in Ottawa. \n",
    "* The differences of vehicle collision cases during 4 years are small. \n",
    "* There is a relatively big decrease of the number of cases between 2015 and 2016(-7.0%), while the rest of growth rate between years are increase. \n",
    "\n",
    "**Hypothesis:**\n",
    "* There's no relationship between year and vehicle collisions, or to say driving in a specific year does not lead to a vehicle collision. "
   ]
  },
  {
   "cell_type": "markdown",
   "metadata": {},
   "source": [
    "### 2.2 Percentage of single possible causes of accident"
   ]
  },
  {
   "cell_type": "code",
   "execution_count": 8,
   "metadata": {},
   "outputs": [
    {
     "data": {
      "application/vnd.plotly.v1+json": {
       "data": [
        {
         "cells": {
          "align": [
           "left",
           "right",
           "right"
          ],
          "font": {
           "color": [
            "rgb(40, 40, 40)",
            "rgb(40, 40, 40)",
            "rgb(40, 40, 40)",
            "rgb(40, 40, 40)",
            "rgb(40, 40, 40)"
           ],
           "size": 12
          },
          "format": [
           null,
           null,
           ".2f"
          ],
          "suffix": [
           "",
           "",
           "%"
          ],
          "values": [
           [
            "01 - Clear",
            "03 - Snow",
            "02 - Rain",
            "04 - Freezing Rain",
            "05 - Drifting Snow",
            "07 - Fog, mist, smoke, dust",
            "06 - Strong wind",
            "00 - Unknown",
            "99 - Other"
           ],
           [
            45929,
            5664,
            5433,
            672,
            304,
            164,
            86,
            67,
            18
           ],
           [
            78.73047979841267,
            9.709103999177195,
            9.31312888904126,
            1.151927593122718,
            0.5211101016507534,
            0.2811251864168538,
            0.1474193050722526,
            0.11484992371908051,
            0.030855203387215663
           ]
          ]
         },
         "columnwidth": [
          110,
          55,
          55
         ],
         "domain": {
          "x": [
           0,
           0.4
          ],
          "y": [
           0,
           1
          ]
         },
         "header": {
          "values": [
           "<b>Environment</b>",
           "<b># of Cases</b>",
           "<b>Percentage</b>"
          ]
         },
         "type": "table",
         "uid": "a65d0dea-a722-11e8-9fa6-0800275aa47c"
        },
        {
         "domain": {
          "x": [
           0.6,
           1
          ],
          "y": [
           0,
           1
          ]
         },
         "hole": 0.4,
         "hoverinfo": "label+percent+name",
         "labels": [
          "01 - Clear",
          "03 - Snow",
          "02 - Rain",
          "04 - Freezing Rain",
          "05 - Drifting Snow",
          "07 - Fog, mist, smoke, dust",
          "06 - Strong wind",
          "00 - Unknown",
          "99 - Other"
         ],
         "name": "Environment",
         "showlegend": true,
         "type": "pie",
         "uid": "a65d109c-a722-11e8-9fa6-0800275aa47c",
         "values": [
          45929,
          5664,
          5433,
          672,
          304,
          164,
          86,
          67,
          18
         ]
        }
       ],
       "layout": {
        "title": "Environment"
       }
      },
      "text/html": [
       "<div id=\"e01a5b2f-98b3-4206-9a0a-44bc42cf6d02\" style=\"height: 525px; width: 100%;\" class=\"plotly-graph-div\"></div><script type=\"text/javascript\">require([\"plotly\"], function(Plotly) { window.PLOTLYENV=window.PLOTLYENV || {};window.PLOTLYENV.BASE_URL=\"https://plot.ly\";Plotly.newPlot(\"e01a5b2f-98b3-4206-9a0a-44bc42cf6d02\", [{\"domain\": {\"y\": [0, 1.0], \"x\": [0, 0.4]}, \"uid\": \"a660ea1e-a722-11e8-9fa6-0800275aa47c\", \"columnwidth\": [110, 55, 55], \"cells\": {\"align\": [\"left\", \"right\", \"right\"], \"font\": {\"color\": [\"rgb(40, 40, 40)\", \"rgb(40, 40, 40)\", \"rgb(40, 40, 40)\", \"rgb(40, 40, 40)\", \"rgb(40, 40, 40)\"], \"size\": 12}, \"values\": [[\"01 - Clear\", \"03 - Snow\", \"02 - Rain\", \"04 - Freezing Rain\", \"05 - Drifting Snow\", \"07 - Fog, mist, smoke, dust\", \"06 - Strong wind\", \"00 - Unknown\", \"99 - Other\"], [45929, 5664, 5433, 672, 304, 164, 86, 67, 18], [78.73047979841267, 9.709103999177195, 9.31312888904126, 1.151927593122718, 0.5211101016507534, 0.2811251864168538, 0.1474193050722526, 0.11484992371908051, 0.030855203387215663]], \"suffix\": [\"\", \"\", \"%\"], \"format\": [null, null, \".2f\"]}, \"header\": {\"values\": [\"<b>Environment</b>\", \"<b># of Cases</b>\", \"<b>Percentage</b>\"]}, \"type\": \"table\"}, {\"showlegend\": true, \"name\": \"Environment\", \"labels\": [\"01 - Clear\", \"03 - Snow\", \"02 - Rain\", \"04 - Freezing Rain\", \"05 - Drifting Snow\", \"07 - Fog, mist, smoke, dust\", \"06 - Strong wind\", \"00 - Unknown\", \"99 - Other\"], \"domain\": {\"y\": [0, 1.0], \"x\": [0.6, 1.0]}, \"values\": [45929.0, 5664.0, 5433.0, 672.0, 304.0, 164.0, 86.0, 67.0, 18.0], \"hoverinfo\": \"label+percent+name\", \"hole\": 0.4, \"type\": \"pie\", \"uid\": \"a660ee56-a722-11e8-9fa6-0800275aa47c\"}], {\"title\": \"Environment\"}, {\"linkText\": \"Export to plot.ly\", \"showLink\": true})});</script>"
      ],
      "text/vnd.plotly.v1+html": [
       "<div id=\"e01a5b2f-98b3-4206-9a0a-44bc42cf6d02\" style=\"height: 525px; width: 100%;\" class=\"plotly-graph-div\"></div><script type=\"text/javascript\">require([\"plotly\"], function(Plotly) { window.PLOTLYENV=window.PLOTLYENV || {};window.PLOTLYENV.BASE_URL=\"https://plot.ly\";Plotly.newPlot(\"e01a5b2f-98b3-4206-9a0a-44bc42cf6d02\", [{\"domain\": {\"y\": [0, 1.0], \"x\": [0, 0.4]}, \"uid\": \"a660ea1e-a722-11e8-9fa6-0800275aa47c\", \"columnwidth\": [110, 55, 55], \"cells\": {\"align\": [\"left\", \"right\", \"right\"], \"font\": {\"color\": [\"rgb(40, 40, 40)\", \"rgb(40, 40, 40)\", \"rgb(40, 40, 40)\", \"rgb(40, 40, 40)\", \"rgb(40, 40, 40)\"], \"size\": 12}, \"values\": [[\"01 - Clear\", \"03 - Snow\", \"02 - Rain\", \"04 - Freezing Rain\", \"05 - Drifting Snow\", \"07 - Fog, mist, smoke, dust\", \"06 - Strong wind\", \"00 - Unknown\", \"99 - Other\"], [45929, 5664, 5433, 672, 304, 164, 86, 67, 18], [78.73047979841267, 9.709103999177195, 9.31312888904126, 1.151927593122718, 0.5211101016507534, 0.2811251864168538, 0.1474193050722526, 0.11484992371908051, 0.030855203387215663]], \"suffix\": [\"\", \"\", \"%\"], \"format\": [null, null, \".2f\"]}, \"header\": {\"values\": [\"<b>Environment</b>\", \"<b># of Cases</b>\", \"<b>Percentage</b>\"]}, \"type\": \"table\"}, {\"showlegend\": true, \"name\": \"Environment\", \"labels\": [\"01 - Clear\", \"03 - Snow\", \"02 - Rain\", \"04 - Freezing Rain\", \"05 - Drifting Snow\", \"07 - Fog, mist, smoke, dust\", \"06 - Strong wind\", \"00 - Unknown\", \"99 - Other\"], \"domain\": {\"y\": [0, 1.0], \"x\": [0.6, 1.0]}, \"values\": [45929.0, 5664.0, 5433.0, 672.0, 304.0, 164.0, 86.0, 67.0, 18.0], \"hoverinfo\": \"label+percent+name\", \"hole\": 0.4, \"type\": \"pie\", \"uid\": \"a660ee56-a722-11e8-9fa6-0800275aa47c\"}], {\"title\": \"Environment\"}, {\"linkText\": \"Export to plot.ly\", \"showLink\": true})});</script>"
      ]
     },
     "metadata": {},
     "output_type": "display_data"
    },
    {
     "data": {
      "application/vnd.plotly.v1+json": {
       "data": [
        {
         "cells": {
          "align": [
           "left",
           "right",
           "right"
          ],
          "font": {
           "color": [
            "rgb(40, 40, 40)",
            "rgb(40, 40, 40)",
            "rgb(40, 40, 40)",
            "rgb(40, 40, 40)",
            "rgb(40, 40, 40)"
           ],
           "size": 12
          },
          "format": [
           null,
           null,
           ".2f"
          ],
          "suffix": [
           "",
           "",
           "%"
          ],
          "values": [
           [
            "01 - Dry",
            "02 - Wet",
            "03 - Loose snow",
            "06 - Ice",
            "04 - Slush",
            "05 - Packed snow",
            "08 - Loose sand or gravel",
            "00 - Unknown",
            "99 - Other",
            "07 - Mud",
            "09 - Spilled liquid"
           ],
           [
            38362,
            10123,
            3844,
            2650,
            1760,
            1443,
            56,
            50,
            41,
            5,
            4
           ],
           [
            65.75816791799514,
            17.352326099626318,
            6.589187150742227,
            4.542493743357674,
            3.0169015050224552,
            2.4735164044019338,
            0.09599232061435085,
            0.08570742911995612,
            0.07028009187836401,
            0.008570742911995612,
            0.006856594329596489
           ]
          ]
         },
         "columnwidth": [
          110,
          55,
          55
         ],
         "domain": {
          "x": [
           0,
           0.4
          ],
          "y": [
           0,
           1
          ]
         },
         "header": {
          "values": [
           "<b>Road_Surface</b>",
           "<b># of Cases</b>",
           "<b>Percentage</b>"
          ]
         },
         "type": "table",
         "uid": "a6719b3e-a722-11e8-9fa6-0800275aa47c"
        },
        {
         "domain": {
          "x": [
           0.6,
           1
          ],
          "y": [
           0,
           1
          ]
         },
         "hole": 0.4,
         "hoverinfo": "label+percent+name",
         "labels": [
          "01 - Dry",
          "02 - Wet",
          "03 - Loose snow",
          "06 - Ice",
          "04 - Slush",
          "05 - Packed snow",
          "08 - Loose sand or gravel",
          "00 - Unknown",
          "99 - Other",
          "07 - Mud",
          "09 - Spilled liquid"
         ],
         "name": "Road_Surface",
         "showlegend": true,
         "type": "pie",
         "uid": "a6719ef4-a722-11e8-9fa6-0800275aa47c",
         "values": [
          38362,
          10123,
          3844,
          2650,
          1760,
          1443,
          56,
          50,
          41,
          5,
          4
         ]
        }
       ],
       "layout": {
        "title": "Road_Surface"
       }
      },
      "text/html": [
       "<div id=\"1b55c605-300e-4688-88d0-2a0f153d056e\" style=\"height: 525px; width: 100%;\" class=\"plotly-graph-div\"></div><script type=\"text/javascript\">require([\"plotly\"], function(Plotly) { window.PLOTLYENV=window.PLOTLYENV || {};window.PLOTLYENV.BASE_URL=\"https://plot.ly\";Plotly.newPlot(\"1b55c605-300e-4688-88d0-2a0f153d056e\", [{\"domain\": {\"y\": [0, 1.0], \"x\": [0, 0.4]}, \"uid\": \"a6758e88-a722-11e8-9fa6-0800275aa47c\", \"columnwidth\": [110, 55, 55], \"cells\": {\"align\": [\"left\", \"right\", \"right\"], \"font\": {\"color\": [\"rgb(40, 40, 40)\", \"rgb(40, 40, 40)\", \"rgb(40, 40, 40)\", \"rgb(40, 40, 40)\", \"rgb(40, 40, 40)\"], \"size\": 12}, \"values\": [[\"01 - Dry\", \"02 - Wet\", \"03 - Loose snow\", \"06 - Ice\", \"04 - Slush\", \"05 - Packed snow\", \"08 - Loose sand or gravel\", \"00 - Unknown\", \"99 - Other\", \"07 - Mud\", \"09 - Spilled liquid\"], [38362, 10123, 3844, 2650, 1760, 1443, 56, 50, 41, 5, 4], [65.75816791799514, 17.352326099626318, 6.589187150742227, 4.542493743357674, 3.0169015050224552, 2.4735164044019338, 0.09599232061435085, 0.08570742911995612, 0.07028009187836401, 0.008570742911995612, 0.006856594329596489]], \"suffix\": [\"\", \"\", \"%\"], \"format\": [null, null, \".2f\"]}, \"header\": {\"values\": [\"<b>Road_Surface</b>\", \"<b># of Cases</b>\", \"<b>Percentage</b>\"]}, \"type\": \"table\"}, {\"showlegend\": true, \"name\": \"Road_Surface\", \"labels\": [\"01 - Dry\", \"02 - Wet\", \"03 - Loose snow\", \"06 - Ice\", \"04 - Slush\", \"05 - Packed snow\", \"08 - Loose sand or gravel\", \"00 - Unknown\", \"99 - Other\", \"07 - Mud\", \"09 - Spilled liquid\"], \"domain\": {\"y\": [0, 1.0], \"x\": [0.6, 1.0]}, \"values\": [38362.0, 10123.0, 3844.0, 2650.0, 1760.0, 1443.0, 56.0, 50.0, 41.0, 5.0, 4.0], \"hoverinfo\": \"label+percent+name\", \"hole\": 0.4, \"type\": \"pie\", \"uid\": \"a6759356-a722-11e8-9fa6-0800275aa47c\"}], {\"title\": \"Road_Surface\"}, {\"linkText\": \"Export to plot.ly\", \"showLink\": true})});</script>"
      ],
      "text/vnd.plotly.v1+html": [
       "<div id=\"1b55c605-300e-4688-88d0-2a0f153d056e\" style=\"height: 525px; width: 100%;\" class=\"plotly-graph-div\"></div><script type=\"text/javascript\">require([\"plotly\"], function(Plotly) { window.PLOTLYENV=window.PLOTLYENV || {};window.PLOTLYENV.BASE_URL=\"https://plot.ly\";Plotly.newPlot(\"1b55c605-300e-4688-88d0-2a0f153d056e\", [{\"domain\": {\"y\": [0, 1.0], \"x\": [0, 0.4]}, \"uid\": \"a6758e88-a722-11e8-9fa6-0800275aa47c\", \"columnwidth\": [110, 55, 55], \"cells\": {\"align\": [\"left\", \"right\", \"right\"], \"font\": {\"color\": [\"rgb(40, 40, 40)\", \"rgb(40, 40, 40)\", \"rgb(40, 40, 40)\", \"rgb(40, 40, 40)\", \"rgb(40, 40, 40)\"], \"size\": 12}, \"values\": [[\"01 - Dry\", \"02 - Wet\", \"03 - Loose snow\", \"06 - Ice\", \"04 - Slush\", \"05 - Packed snow\", \"08 - Loose sand or gravel\", \"00 - Unknown\", \"99 - Other\", \"07 - Mud\", \"09 - Spilled liquid\"], [38362, 10123, 3844, 2650, 1760, 1443, 56, 50, 41, 5, 4], [65.75816791799514, 17.352326099626318, 6.589187150742227, 4.542493743357674, 3.0169015050224552, 2.4735164044019338, 0.09599232061435085, 0.08570742911995612, 0.07028009187836401, 0.008570742911995612, 0.006856594329596489]], \"suffix\": [\"\", \"\", \"%\"], \"format\": [null, null, \".2f\"]}, \"header\": {\"values\": [\"<b>Road_Surface</b>\", \"<b># of Cases</b>\", \"<b>Percentage</b>\"]}, \"type\": \"table\"}, {\"showlegend\": true, \"name\": \"Road_Surface\", \"labels\": [\"01 - Dry\", \"02 - Wet\", \"03 - Loose snow\", \"06 - Ice\", \"04 - Slush\", \"05 - Packed snow\", \"08 - Loose sand or gravel\", \"00 - Unknown\", \"99 - Other\", \"07 - Mud\", \"09 - Spilled liquid\"], \"domain\": {\"y\": [0, 1.0], \"x\": [0.6, 1.0]}, \"values\": [38362.0, 10123.0, 3844.0, 2650.0, 1760.0, 1443.0, 56.0, 50.0, 41.0, 5.0, 4.0], \"hoverinfo\": \"label+percent+name\", \"hole\": 0.4, \"type\": \"pie\", \"uid\": \"a6759356-a722-11e8-9fa6-0800275aa47c\"}], {\"title\": \"Road_Surface\"}, {\"linkText\": \"Export to plot.ly\", \"showLink\": true})});</script>"
      ]
     },
     "metadata": {},
     "output_type": "display_data"
    },
    {
     "data": {
      "application/vnd.plotly.v1+json": {
       "data": [
        {
         "cells": {
          "align": [
           "left",
           "right",
           "right"
          ],
          "font": {
           "color": [
            "rgb(40, 40, 40)",
            "rgb(40, 40, 40)",
            "rgb(40, 40, 40)",
            "rgb(40, 40, 40)",
            "rgb(40, 40, 40)"
           ],
           "size": 12
          },
          "format": [
           null,
           null,
           ".2f"
          ],
          "suffix": [
           "",
           "",
           "%"
          ],
          "values": [
           [
            "10 - No control",
            "01 - Traffic signal",
            "02 - Stop sign",
            "11 - Roundabout",
            "03 - Yield sign",
            "08 - Traffic gate",
            "09 - Traffic controller",
            "07 - School bus",
            "04 - Ped. crossover"
           ],
           [
            27966,
            23314,
            6099,
            526,
            370,
            15,
            9,
            2,
            1
           ],
           [
            47.96747967479675,
            39.98833659222668,
            10.461047648451167,
            0.9021988954066756,
            0.6346265994305512,
            0.025728105382319642,
            0.015436863229391787,
            0.003430414050975953,
            0.0017152070254879766
           ]
          ]
         },
         "columnwidth": [
          110,
          55,
          55
         ],
         "domain": {
          "x": [
           0,
           0.4
          ],
          "y": [
           0,
           1
          ]
         },
         "header": {
          "values": [
           "<b>Traffic_Control</b>",
           "<b># of Cases</b>",
           "<b>Percentage</b>"
          ]
         },
         "type": "table",
         "uid": "a68bd92c-a722-11e8-9fa6-0800275aa47c"
        },
        {
         "domain": {
          "x": [
           0.6,
           1
          ],
          "y": [
           0,
           1
          ]
         },
         "hole": 0.4,
         "hoverinfo": "label+percent+name",
         "labels": [
          "10 - No control",
          "01 - Traffic signal",
          "02 - Stop sign",
          "11 - Roundabout",
          "03 - Yield sign",
          "08 - Traffic gate",
          "09 - Traffic controller",
          "07 - School bus",
          "04 - Ped. crossover"
         ],
         "name": "Traffic_Control",
         "showlegend": true,
         "type": "pie",
         "uid": "a68bdbac-a722-11e8-9fa6-0800275aa47c",
         "values": [
          27966,
          23314,
          6099,
          526,
          370,
          15,
          9,
          2,
          1
         ]
        }
       ],
       "layout": {
        "title": "Traffic_Control"
       }
      },
      "text/html": [
       "<div id=\"b15cc386-993d-413b-bb65-1ef86c7854f4\" style=\"height: 525px; width: 100%;\" class=\"plotly-graph-div\"></div><script type=\"text/javascript\">require([\"plotly\"], function(Plotly) { window.PLOTLYENV=window.PLOTLYENV || {};window.PLOTLYENV.BASE_URL=\"https://plot.ly\";Plotly.newPlot(\"b15cc386-993d-413b-bb65-1ef86c7854f4\", [{\"domain\": {\"y\": [0, 1.0], \"x\": [0, 0.4]}, \"uid\": \"a68f67ae-a722-11e8-9fa6-0800275aa47c\", \"columnwidth\": [110, 55, 55], \"cells\": {\"align\": [\"left\", \"right\", \"right\"], \"font\": {\"color\": [\"rgb(40, 40, 40)\", \"rgb(40, 40, 40)\", \"rgb(40, 40, 40)\", \"rgb(40, 40, 40)\", \"rgb(40, 40, 40)\"], \"size\": 12}, \"values\": [[\"10 - No control\", \"01 - Traffic signal\", \"02 - Stop sign\", \"11 - Roundabout\", \"03 - Yield sign\", \"08 - Traffic gate\", \"09 - Traffic controller\", \"07 - School bus\", \"04 - Ped. crossover\"], [27966, 23314, 6099, 526, 370, 15, 9, 2, 1], [47.96747967479675, 39.98833659222668, 10.461047648451167, 0.9021988954066756, 0.6346265994305512, 0.025728105382319642, 0.015436863229391787, 0.003430414050975953, 0.0017152070254879766]], \"suffix\": [\"\", \"\", \"%\"], \"format\": [null, null, \".2f\"]}, \"header\": {\"values\": [\"<b>Traffic_Control</b>\", \"<b># of Cases</b>\", \"<b>Percentage</b>\"]}, \"type\": \"table\"}, {\"showlegend\": true, \"name\": \"Traffic_Control\", \"labels\": [\"10 - No control\", \"01 - Traffic signal\", \"02 - Stop sign\", \"11 - Roundabout\", \"03 - Yield sign\", \"08 - Traffic gate\", \"09 - Traffic controller\", \"07 - School bus\", \"04 - Ped. crossover\"], \"domain\": {\"y\": [0, 1.0], \"x\": [0.6, 1.0]}, \"values\": [27966.0, 23314.0, 6099.0, 526.0, 370.0, 15.0, 9.0, 2.0, 1.0], \"hoverinfo\": \"label+percent+name\", \"hole\": 0.4, \"type\": \"pie\", \"uid\": \"a68f6a1a-a722-11e8-9fa6-0800275aa47c\"}], {\"title\": \"Traffic_Control\"}, {\"linkText\": \"Export to plot.ly\", \"showLink\": true})});</script>"
      ],
      "text/vnd.plotly.v1+html": [
       "<div id=\"b15cc386-993d-413b-bb65-1ef86c7854f4\" style=\"height: 525px; width: 100%;\" class=\"plotly-graph-div\"></div><script type=\"text/javascript\">require([\"plotly\"], function(Plotly) { window.PLOTLYENV=window.PLOTLYENV || {};window.PLOTLYENV.BASE_URL=\"https://plot.ly\";Plotly.newPlot(\"b15cc386-993d-413b-bb65-1ef86c7854f4\", [{\"domain\": {\"y\": [0, 1.0], \"x\": [0, 0.4]}, \"uid\": \"a68f67ae-a722-11e8-9fa6-0800275aa47c\", \"columnwidth\": [110, 55, 55], \"cells\": {\"align\": [\"left\", \"right\", \"right\"], \"font\": {\"color\": [\"rgb(40, 40, 40)\", \"rgb(40, 40, 40)\", \"rgb(40, 40, 40)\", \"rgb(40, 40, 40)\", \"rgb(40, 40, 40)\"], \"size\": 12}, \"values\": [[\"10 - No control\", \"01 - Traffic signal\", \"02 - Stop sign\", \"11 - Roundabout\", \"03 - Yield sign\", \"08 - Traffic gate\", \"09 - Traffic controller\", \"07 - School bus\", \"04 - Ped. crossover\"], [27966, 23314, 6099, 526, 370, 15, 9, 2, 1], [47.96747967479675, 39.98833659222668, 10.461047648451167, 0.9021988954066756, 0.6346265994305512, 0.025728105382319642, 0.015436863229391787, 0.003430414050975953, 0.0017152070254879766]], \"suffix\": [\"\", \"\", \"%\"], \"format\": [null, null, \".2f\"]}, \"header\": {\"values\": [\"<b>Traffic_Control</b>\", \"<b># of Cases</b>\", \"<b>Percentage</b>\"]}, \"type\": \"table\"}, {\"showlegend\": true, \"name\": \"Traffic_Control\", \"labels\": [\"10 - No control\", \"01 - Traffic signal\", \"02 - Stop sign\", \"11 - Roundabout\", \"03 - Yield sign\", \"08 - Traffic gate\", \"09 - Traffic controller\", \"07 - School bus\", \"04 - Ped. crossover\"], \"domain\": {\"y\": [0, 1.0], \"x\": [0.6, 1.0]}, \"values\": [27966.0, 23314.0, 6099.0, 526.0, 370.0, 15.0, 9.0, 2.0, 1.0], \"hoverinfo\": \"label+percent+name\", \"hole\": 0.4, \"type\": \"pie\", \"uid\": \"a68f6a1a-a722-11e8-9fa6-0800275aa47c\"}], {\"title\": \"Traffic_Control\"}, {\"linkText\": \"Export to plot.ly\", \"showLink\": true})});</script>"
      ]
     },
     "metadata": {},
     "output_type": "display_data"
    },
    {
     "data": {
      "application/vnd.plotly.v1+json": {
       "data": [
        {
         "cells": {
          "align": [
           "left",
           "right",
           "right"
          ],
          "font": {
           "color": [
            "rgb(40, 40, 40)",
            "rgb(40, 40, 40)",
            "rgb(40, 40, 40)",
            "rgb(40, 40, 40)",
            "rgb(40, 40, 40)"
           ],
           "size": 12
          },
          "format": [
           null,
           null,
           ".2f"
          ],
          "suffix": [
           "",
           "",
           "%"
          ],
          "values": [
           [
            "01 - Non intersection",
            "02 - Intersection related",
            "03 - At intersection",
            "04 - At/near private drive",
            "07 - Overpass or bridge",
            "05 - At railway crossing",
            "06 - Underpass or tunnel",
            "98 - Other",
            "99 - Other"
           ],
           [
            22114,
            18280,
            12523,
            5105,
            240,
            37,
            29,
            3,
            1
           ],
           [
            37.91058081327573,
            31.33785915106631,
            21.46849070835905,
            8.751628608653911,
            0.41143797572515944,
            0.06343002125762875,
            0.0497154220667901,
            0.0051429746965644925,
            0.001714324898854831
           ]
          ]
         },
         "columnwidth": [
          110,
          55,
          55
         ],
         "domain": {
          "x": [
           0,
           0.4
          ],
          "y": [
           0,
           1
          ]
         },
         "header": {
          "values": [
           "<b>Collision_Location</b>",
           "<b># of Cases</b>",
           "<b>Percentage</b>"
          ]
         },
         "type": "table",
         "uid": "a69c2cd2-a722-11e8-9fa6-0800275aa47c"
        },
        {
         "domain": {
          "x": [
           0.6,
           1
          ],
          "y": [
           0,
           1
          ]
         },
         "hole": 0.4,
         "hoverinfo": "label+percent+name",
         "labels": [
          "01 - Non intersection",
          "02 - Intersection related",
          "03 - At intersection",
          "04 - At/near private drive",
          "07 - Overpass or bridge",
          "05 - At railway crossing",
          "06 - Underpass or tunnel",
          "98 - Other",
          "99 - Other"
         ],
         "name": "Collision_Location",
         "showlegend": true,
         "type": "pie",
         "uid": "a69c2f3e-a722-11e8-9fa6-0800275aa47c",
         "values": [
          22114,
          18280,
          12523,
          5105,
          240,
          37,
          29,
          3,
          1
         ]
        }
       ],
       "layout": {
        "title": "Collision_Location"
       }
      },
      "text/html": [
       "<div id=\"1b75530b-bedc-4772-a44d-807d9a4a417d\" style=\"height: 525px; width: 100%;\" class=\"plotly-graph-div\"></div><script type=\"text/javascript\">require([\"plotly\"], function(Plotly) { window.PLOTLYENV=window.PLOTLYENV || {};window.PLOTLYENV.BASE_URL=\"https://plot.ly\";Plotly.newPlot(\"1b75530b-bedc-4772-a44d-807d9a4a417d\", [{\"domain\": {\"y\": [0, 1.0], \"x\": [0, 0.4]}, \"uid\": \"a6a0aa64-a722-11e8-9fa6-0800275aa47c\", \"columnwidth\": [110, 55, 55], \"cells\": {\"align\": [\"left\", \"right\", \"right\"], \"font\": {\"color\": [\"rgb(40, 40, 40)\", \"rgb(40, 40, 40)\", \"rgb(40, 40, 40)\", \"rgb(40, 40, 40)\", \"rgb(40, 40, 40)\"], \"size\": 12}, \"values\": [[\"01 - Non intersection\", \"02 - Intersection related\", \"03 - At intersection\", \"04 - At/near private drive\", \"07 - Overpass or bridge\", \"05 - At railway crossing\", \"06 - Underpass or tunnel\", \"98 - Other\", \"99 - Other\"], [22114, 18280, 12523, 5105, 240, 37, 29, 3, 1], [37.91058081327573, 31.33785915106631, 21.46849070835905, 8.751628608653911, 0.41143797572515944, 0.06343002125762875, 0.0497154220667901, 0.0051429746965644925, 0.001714324898854831]], \"suffix\": [\"\", \"\", \"%\"], \"format\": [null, null, \".2f\"]}, \"header\": {\"values\": [\"<b>Collision_Location</b>\", \"<b># of Cases</b>\", \"<b>Percentage</b>\"]}, \"type\": \"table\"}, {\"showlegend\": true, \"name\": \"Collision_Location\", \"labels\": [\"01 - Non intersection\", \"02 - Intersection related\", \"03 - At intersection\", \"04 - At/near private drive\", \"07 - Overpass or bridge\", \"05 - At railway crossing\", \"06 - Underpass or tunnel\", \"98 - Other\", \"99 - Other\"], \"domain\": {\"y\": [0, 1.0], \"x\": [0.6, 1.0]}, \"values\": [22114.0, 18280.0, 12523.0, 5105.0, 240.0, 37.0, 29.0, 3.0, 1.0], \"hoverinfo\": \"label+percent+name\", \"hole\": 0.4, \"type\": \"pie\", \"uid\": \"a6a0ad66-a722-11e8-9fa6-0800275aa47c\"}], {\"title\": \"Collision_Location\"}, {\"linkText\": \"Export to plot.ly\", \"showLink\": true})});</script>"
      ],
      "text/vnd.plotly.v1+html": [
       "<div id=\"1b75530b-bedc-4772-a44d-807d9a4a417d\" style=\"height: 525px; width: 100%;\" class=\"plotly-graph-div\"></div><script type=\"text/javascript\">require([\"plotly\"], function(Plotly) { window.PLOTLYENV=window.PLOTLYENV || {};window.PLOTLYENV.BASE_URL=\"https://plot.ly\";Plotly.newPlot(\"1b75530b-bedc-4772-a44d-807d9a4a417d\", [{\"domain\": {\"y\": [0, 1.0], \"x\": [0, 0.4]}, \"uid\": \"a6a0aa64-a722-11e8-9fa6-0800275aa47c\", \"columnwidth\": [110, 55, 55], \"cells\": {\"align\": [\"left\", \"right\", \"right\"], \"font\": {\"color\": [\"rgb(40, 40, 40)\", \"rgb(40, 40, 40)\", \"rgb(40, 40, 40)\", \"rgb(40, 40, 40)\", \"rgb(40, 40, 40)\"], \"size\": 12}, \"values\": [[\"01 - Non intersection\", \"02 - Intersection related\", \"03 - At intersection\", \"04 - At/near private drive\", \"07 - Overpass or bridge\", \"05 - At railway crossing\", \"06 - Underpass or tunnel\", \"98 - Other\", \"99 - Other\"], [22114, 18280, 12523, 5105, 240, 37, 29, 3, 1], [37.91058081327573, 31.33785915106631, 21.46849070835905, 8.751628608653911, 0.41143797572515944, 0.06343002125762875, 0.0497154220667901, 0.0051429746965644925, 0.001714324898854831]], \"suffix\": [\"\", \"\", \"%\"], \"format\": [null, null, \".2f\"]}, \"header\": {\"values\": [\"<b>Collision_Location</b>\", \"<b># of Cases</b>\", \"<b>Percentage</b>\"]}, \"type\": \"table\"}, {\"showlegend\": true, \"name\": \"Collision_Location\", \"labels\": [\"01 - Non intersection\", \"02 - Intersection related\", \"03 - At intersection\", \"04 - At/near private drive\", \"07 - Overpass or bridge\", \"05 - At railway crossing\", \"06 - Underpass or tunnel\", \"98 - Other\", \"99 - Other\"], \"domain\": {\"y\": [0, 1.0], \"x\": [0.6, 1.0]}, \"values\": [22114.0, 18280.0, 12523.0, 5105.0, 240.0, 37.0, 29.0, 3.0, 1.0], \"hoverinfo\": \"label+percent+name\", \"hole\": 0.4, \"type\": \"pie\", \"uid\": \"a6a0ad66-a722-11e8-9fa6-0800275aa47c\"}], {\"title\": \"Collision_Location\"}, {\"linkText\": \"Export to plot.ly\", \"showLink\": true})});</script>"
      ]
     },
     "metadata": {},
     "output_type": "display_data"
    },
    {
     "data": {
      "application/vnd.plotly.v1+json": {
       "data": [
        {
         "cells": {
          "align": [
           "left",
           "right",
           "right"
          ],
          "font": {
           "color": [
            "rgb(40, 40, 40)",
            "rgb(40, 40, 40)",
            "rgb(40, 40, 40)",
            "rgb(40, 40, 40)",
            "rgb(40, 40, 40)"
           ],
           "size": 12
          },
          "format": [
           null,
           null,
           ".2f"
          ],
          "suffix": [
           "",
           "",
           "%"
          ],
          "values": [
           [
            "01 - Daylight",
            "07 - Dark",
            "05 - Dusk",
            "03 - Dawn",
            "00 - Unknown",
            "08 - Dark, artificial",
            "99 - Other",
            "04 - Dawn, artificial",
            "06 - Dusk, artificial",
            "02 - Daylight, artificial"
           ],
           [
            39879,
            13237,
            2609,
            1354,
            1163,
            73,
            11,
            6,
            3,
            1
           ],
           [
            68.36087493143171,
            22.690962698848054,
            4.4723669775095996,
            2.321036752605595,
            1.9936231486560614,
            0.12513713658804168,
            0.01885628085573231,
            0.010285244103126714,
            0.005142622051563357,
            0.0017142073505211192
           ]
          ]
         },
         "columnwidth": [
          110,
          55,
          55
         ],
         "domain": {
          "x": [
           0,
           0.4
          ],
          "y": [
           0,
           1
          ]
         },
         "header": {
          "values": [
           "<b>Light</b>",
           "<b># of Cases</b>",
           "<b>Percentage</b>"
          ]
         },
         "type": "table",
         "uid": "a6ad931e-a722-11e8-9fa6-0800275aa47c"
        },
        {
         "domain": {
          "x": [
           0.6,
           1
          ],
          "y": [
           0,
           1
          ]
         },
         "hole": 0.4,
         "hoverinfo": "label+percent+name",
         "labels": [
          "01 - Daylight",
          "07 - Dark",
          "05 - Dusk",
          "03 - Dawn",
          "00 - Unknown",
          "08 - Dark, artificial",
          "99 - Other",
          "04 - Dawn, artificial",
          "06 - Dusk, artificial",
          "02 - Daylight, artificial"
         ],
         "name": "Light",
         "showlegend": true,
         "type": "pie",
         "uid": "a6ad96d4-a722-11e8-9fa6-0800275aa47c",
         "values": [
          39879,
          13237,
          2609,
          1354,
          1163,
          73,
          11,
          6,
          3,
          1
         ]
        }
       ],
       "layout": {
        "title": "Light"
       }
      },
      "text/html": [
       "<div id=\"34dee7dd-be07-42ba-b813-6d1c5c800e80\" style=\"height: 525px; width: 100%;\" class=\"plotly-graph-div\"></div><script type=\"text/javascript\">require([\"plotly\"], function(Plotly) { window.PLOTLYENV=window.PLOTLYENV || {};window.PLOTLYENV.BASE_URL=\"https://plot.ly\";Plotly.newPlot(\"34dee7dd-be07-42ba-b813-6d1c5c800e80\", [{\"domain\": {\"y\": [0, 1.0], \"x\": [0, 0.4]}, \"uid\": \"a6b0eb68-a722-11e8-9fa6-0800275aa47c\", \"columnwidth\": [110, 55, 55], \"cells\": {\"align\": [\"left\", \"right\", \"right\"], \"font\": {\"color\": [\"rgb(40, 40, 40)\", \"rgb(40, 40, 40)\", \"rgb(40, 40, 40)\", \"rgb(40, 40, 40)\", \"rgb(40, 40, 40)\"], \"size\": 12}, \"values\": [[\"01 - Daylight\", \"07 - Dark\", \"05 - Dusk\", \"03 - Dawn\", \"00 - Unknown\", \"08 - Dark, artificial\", \"99 - Other\", \"04 - Dawn, artificial\", \"06 - Dusk, artificial\", \"02 - Daylight, artificial\"], [39879, 13237, 2609, 1354, 1163, 73, 11, 6, 3, 1], [68.36087493143171, 22.690962698848054, 4.4723669775095996, 2.321036752605595, 1.9936231486560614, 0.12513713658804168, 0.01885628085573231, 0.010285244103126714, 0.005142622051563357, 0.0017142073505211192]], \"suffix\": [\"\", \"\", \"%\"], \"format\": [null, null, \".2f\"]}, \"header\": {\"values\": [\"<b>Light</b>\", \"<b># of Cases</b>\", \"<b>Percentage</b>\"]}, \"type\": \"table\"}, {\"showlegend\": true, \"name\": \"Light\", \"labels\": [\"01 - Daylight\", \"07 - Dark\", \"05 - Dusk\", \"03 - Dawn\", \"00 - Unknown\", \"08 - Dark, artificial\", \"99 - Other\", \"04 - Dawn, artificial\", \"06 - Dusk, artificial\", \"02 - Daylight, artificial\"], \"domain\": {\"y\": [0, 1.0], \"x\": [0.6, 1.0]}, \"values\": [39879.0, 13237.0, 2609.0, 1354.0, 1163.0, 73.0, 11.0, 6.0, 3.0, 1.0], \"hoverinfo\": \"label+percent+name\", \"hole\": 0.4, \"type\": \"pie\", \"uid\": \"a6b0edde-a722-11e8-9fa6-0800275aa47c\"}], {\"title\": \"Light\"}, {\"linkText\": \"Export to plot.ly\", \"showLink\": true})});</script>"
      ],
      "text/vnd.plotly.v1+html": [
       "<div id=\"34dee7dd-be07-42ba-b813-6d1c5c800e80\" style=\"height: 525px; width: 100%;\" class=\"plotly-graph-div\"></div><script type=\"text/javascript\">require([\"plotly\"], function(Plotly) { window.PLOTLYENV=window.PLOTLYENV || {};window.PLOTLYENV.BASE_URL=\"https://plot.ly\";Plotly.newPlot(\"34dee7dd-be07-42ba-b813-6d1c5c800e80\", [{\"domain\": {\"y\": [0, 1.0], \"x\": [0, 0.4]}, \"uid\": \"a6b0eb68-a722-11e8-9fa6-0800275aa47c\", \"columnwidth\": [110, 55, 55], \"cells\": {\"align\": [\"left\", \"right\", \"right\"], \"font\": {\"color\": [\"rgb(40, 40, 40)\", \"rgb(40, 40, 40)\", \"rgb(40, 40, 40)\", \"rgb(40, 40, 40)\", \"rgb(40, 40, 40)\"], \"size\": 12}, \"values\": [[\"01 - Daylight\", \"07 - Dark\", \"05 - Dusk\", \"03 - Dawn\", \"00 - Unknown\", \"08 - Dark, artificial\", \"99 - Other\", \"04 - Dawn, artificial\", \"06 - Dusk, artificial\", \"02 - Daylight, artificial\"], [39879, 13237, 2609, 1354, 1163, 73, 11, 6, 3, 1], [68.36087493143171, 22.690962698848054, 4.4723669775095996, 2.321036752605595, 1.9936231486560614, 0.12513713658804168, 0.01885628085573231, 0.010285244103126714, 0.005142622051563357, 0.0017142073505211192]], \"suffix\": [\"\", \"\", \"%\"], \"format\": [null, null, \".2f\"]}, \"header\": {\"values\": [\"<b>Light</b>\", \"<b># of Cases</b>\", \"<b>Percentage</b>\"]}, \"type\": \"table\"}, {\"showlegend\": true, \"name\": \"Light\", \"labels\": [\"01 - Daylight\", \"07 - Dark\", \"05 - Dusk\", \"03 - Dawn\", \"00 - Unknown\", \"08 - Dark, artificial\", \"99 - Other\", \"04 - Dawn, artificial\", \"06 - Dusk, artificial\", \"02 - Daylight, artificial\"], \"domain\": {\"y\": [0, 1.0], \"x\": [0.6, 1.0]}, \"values\": [39879.0, 13237.0, 2609.0, 1354.0, 1163.0, 73.0, 11.0, 6.0, 3.0, 1.0], \"hoverinfo\": \"label+percent+name\", \"hole\": 0.4, \"type\": \"pie\", \"uid\": \"a6b0edde-a722-11e8-9fa6-0800275aa47c\"}], {\"title\": \"Light\"}, {\"linkText\": \"Export to plot.ly\", \"showLink\": true})});</script>"
      ]
     },
     "metadata": {},
     "output_type": "display_data"
    },
    {
     "data": {
      "application/vnd.plotly.v1+json": {
       "data": [
        {
         "cells": {
          "align": [
           "left",
           "right",
           "right"
          ],
          "font": {
           "color": [
            "rgb(40, 40, 40)",
            "rgb(40, 40, 40)",
            "rgb(40, 40, 40)",
            "rgb(40, 40, 40)",
            "rgb(40, 40, 40)"
           ],
           "size": 12
          },
          "format": [
           null,
           null,
           ".2f"
          ],
          "suffix": [
           "",
           "",
           "%"
          ],
          "values": [
           [
            "03 - P.D. only",
            "02 - Non-fatal injury",
            "01 - Fatal injury"
           ],
           [
            47248,
            10991,
            99
           ],
           [
            80.99009222119373,
            18.840207069148754,
            0.1697007096575131
           ]
          ]
         },
         "columnwidth": [
          110,
          55,
          55
         ],
         "domain": {
          "x": [
           0,
           0.4
          ],
          "y": [
           0,
           1
          ]
         },
         "header": {
          "values": [
           "<b>Collision_Classification</b>",
           "<b># of Cases</b>",
           "<b>Percentage</b>"
          ]
         },
         "type": "table",
         "uid": "a6be082a-a722-11e8-9fa6-0800275aa47c"
        },
        {
         "domain": {
          "x": [
           0.6,
           1
          ],
          "y": [
           0,
           1
          ]
         },
         "hole": 0.4,
         "hoverinfo": "label+percent+name",
         "labels": [
          "03 - P.D. only",
          "02 - Non-fatal injury",
          "01 - Fatal injury"
         ],
         "name": "Collision_Classification",
         "showlegend": true,
         "type": "pie",
         "uid": "a6be0d66-a722-11e8-9fa6-0800275aa47c",
         "values": [
          47248,
          10991,
          99
         ]
        }
       ],
       "layout": {
        "title": "Collision_Classification"
       }
      },
      "text/html": [
       "<div id=\"f8ad765b-b19c-464f-8e39-ebcec324cdd8\" style=\"height: 525px; width: 100%;\" class=\"plotly-graph-div\"></div><script type=\"text/javascript\">require([\"plotly\"], function(Plotly) { window.PLOTLYENV=window.PLOTLYENV || {};window.PLOTLYENV.BASE_URL=\"https://plot.ly\";Plotly.newPlot(\"f8ad765b-b19c-464f-8e39-ebcec324cdd8\", [{\"domain\": {\"y\": [0, 1.0], \"x\": [0, 0.4]}, \"uid\": \"a6c1b47a-a722-11e8-9fa6-0800275aa47c\", \"columnwidth\": [110, 55, 55], \"cells\": {\"align\": [\"left\", \"right\", \"right\"], \"font\": {\"color\": [\"rgb(40, 40, 40)\", \"rgb(40, 40, 40)\", \"rgb(40, 40, 40)\", \"rgb(40, 40, 40)\", \"rgb(40, 40, 40)\"], \"size\": 12}, \"values\": [[\"03 - P.D. only\", \"02 - Non-fatal injury\", \"01 - Fatal injury\"], [47248, 10991, 99], [80.99009222119373, 18.840207069148754, 0.1697007096575131]], \"suffix\": [\"\", \"\", \"%\"], \"format\": [null, null, \".2f\"]}, \"header\": {\"values\": [\"<b>Collision_Classification</b>\", \"<b># of Cases</b>\", \"<b>Percentage</b>\"]}, \"type\": \"table\"}, {\"showlegend\": true, \"name\": \"Collision_Classification\", \"labels\": [\"03 - P.D. only\", \"02 - Non-fatal injury\", \"01 - Fatal injury\"], \"domain\": {\"y\": [0, 1.0], \"x\": [0.6, 1.0]}, \"values\": [47248.0, 10991.0, 99.0], \"hoverinfo\": \"label+percent+name\", \"hole\": 0.4, \"type\": \"pie\", \"uid\": \"a6c1b6d2-a722-11e8-9fa6-0800275aa47c\"}], {\"title\": \"Collision_Classification\"}, {\"linkText\": \"Export to plot.ly\", \"showLink\": true})});</script>"
      ],
      "text/vnd.plotly.v1+html": [
       "<div id=\"f8ad765b-b19c-464f-8e39-ebcec324cdd8\" style=\"height: 525px; width: 100%;\" class=\"plotly-graph-div\"></div><script type=\"text/javascript\">require([\"plotly\"], function(Plotly) { window.PLOTLYENV=window.PLOTLYENV || {};window.PLOTLYENV.BASE_URL=\"https://plot.ly\";Plotly.newPlot(\"f8ad765b-b19c-464f-8e39-ebcec324cdd8\", [{\"domain\": {\"y\": [0, 1.0], \"x\": [0, 0.4]}, \"uid\": \"a6c1b47a-a722-11e8-9fa6-0800275aa47c\", \"columnwidth\": [110, 55, 55], \"cells\": {\"align\": [\"left\", \"right\", \"right\"], \"font\": {\"color\": [\"rgb(40, 40, 40)\", \"rgb(40, 40, 40)\", \"rgb(40, 40, 40)\", \"rgb(40, 40, 40)\", \"rgb(40, 40, 40)\"], \"size\": 12}, \"values\": [[\"03 - P.D. only\", \"02 - Non-fatal injury\", \"01 - Fatal injury\"], [47248, 10991, 99], [80.99009222119373, 18.840207069148754, 0.1697007096575131]], \"suffix\": [\"\", \"\", \"%\"], \"format\": [null, null, \".2f\"]}, \"header\": {\"values\": [\"<b>Collision_Classification</b>\", \"<b># of Cases</b>\", \"<b>Percentage</b>\"]}, \"type\": \"table\"}, {\"showlegend\": true, \"name\": \"Collision_Classification\", \"labels\": [\"03 - P.D. only\", \"02 - Non-fatal injury\", \"01 - Fatal injury\"], \"domain\": {\"y\": [0, 1.0], \"x\": [0.6, 1.0]}, \"values\": [47248.0, 10991.0, 99.0], \"hoverinfo\": \"label+percent+name\", \"hole\": 0.4, \"type\": \"pie\", \"uid\": \"a6c1b6d2-a722-11e8-9fa6-0800275aa47c\"}], {\"title\": \"Collision_Classification\"}, {\"linkText\": \"Export to plot.ly\", \"showLink\": true})});</script>"
      ]
     },
     "metadata": {},
     "output_type": "display_data"
    },
    {
     "data": {
      "application/vnd.plotly.v1+json": {
       "data": [
        {
         "cells": {
          "align": [
           "left",
           "right",
           "right"
          ],
          "font": {
           "color": [
            "rgb(40, 40, 40)",
            "rgb(40, 40, 40)",
            "rgb(40, 40, 40)",
            "rgb(40, 40, 40)",
            "rgb(40, 40, 40)"
           ],
           "size": 12
          },
          "format": [
           null,
           null,
           ".2f"
          ],
          "suffix": [
           "",
           "",
           "%"
          ],
          "values": [
           [
            "03 - Rear end",
            "07 - SMV other",
            "02 - Angle",
            "04 - Sideswipe",
            "05 - Turning movement",
            "06 - SMV unattended vehicle",
            "99 - Other",
            "01 - Approaching"
           ],
           [
            19735,
            9661,
            7985,
            7691,
            6233,
            4717,
            1456,
            860
           ],
           [
            33.828722273646676,
            16.56038945455792,
            13.687476430456991,
            13.18351674723165,
            10.684288114093729,
            8.08563886317666,
            2.495800335973122,
            1.4741677808632452
           ]
          ]
         },
         "columnwidth": [
          110,
          55,
          55
         ],
         "domain": {
          "x": [
           0,
           0.4
          ],
          "y": [
           0,
           1
          ]
         },
         "header": {
          "values": [
           "<b>Impact_type</b>",
           "<b># of Cases</b>",
           "<b>Percentage</b>"
          ]
         },
         "type": "table",
         "uid": "a6cdb09a-a722-11e8-9fa6-0800275aa47c"
        },
        {
         "domain": {
          "x": [
           0.6,
           1
          ],
          "y": [
           0,
           1
          ]
         },
         "hole": 0.4,
         "hoverinfo": "label+percent+name",
         "labels": [
          "03 - Rear end",
          "07 - SMV other",
          "02 - Angle",
          "04 - Sideswipe",
          "05 - Turning movement",
          "06 - SMV unattended vehicle",
          "99 - Other",
          "01 - Approaching"
         ],
         "name": "Impact_type",
         "showlegend": true,
         "type": "pie",
         "uid": "a6cdb536-a722-11e8-9fa6-0800275aa47c",
         "values": [
          19735,
          9661,
          7985,
          7691,
          6233,
          4717,
          1456,
          860
         ]
        }
       ],
       "layout": {
        "title": "Impact_type"
       }
      },
      "text/html": [
       "<div id=\"f3467d3f-ce34-4423-acf3-01ccb821b592\" style=\"height: 525px; width: 100%;\" class=\"plotly-graph-div\"></div><script type=\"text/javascript\">require([\"plotly\"], function(Plotly) { window.PLOTLYENV=window.PLOTLYENV || {};window.PLOTLYENV.BASE_URL=\"https://plot.ly\";Plotly.newPlot(\"f3467d3f-ce34-4423-acf3-01ccb821b592\", [{\"domain\": {\"y\": [0, 1.0], \"x\": [0, 0.4]}, \"uid\": \"a6d2123e-a722-11e8-9fa6-0800275aa47c\", \"columnwidth\": [110, 55, 55], \"cells\": {\"align\": [\"left\", \"right\", \"right\"], \"font\": {\"color\": [\"rgb(40, 40, 40)\", \"rgb(40, 40, 40)\", \"rgb(40, 40, 40)\", \"rgb(40, 40, 40)\", \"rgb(40, 40, 40)\"], \"size\": 12}, \"values\": [[\"03 - Rear end\", \"07 - SMV other\", \"02 - Angle\", \"04 - Sideswipe\", \"05 - Turning movement\", \"06 - SMV unattended vehicle\", \"99 - Other\", \"01 - Approaching\"], [19735, 9661, 7985, 7691, 6233, 4717, 1456, 860], [33.828722273646676, 16.56038945455792, 13.687476430456991, 13.18351674723165, 10.684288114093729, 8.08563886317666, 2.495800335973122, 1.4741677808632452]], \"suffix\": [\"\", \"\", \"%\"], \"format\": [null, null, \".2f\"]}, \"header\": {\"values\": [\"<b>Impact_type</b>\", \"<b># of Cases</b>\", \"<b>Percentage</b>\"]}, \"type\": \"table\"}, {\"showlegend\": true, \"name\": \"Impact_type\", \"labels\": [\"03 - Rear end\", \"07 - SMV other\", \"02 - Angle\", \"04 - Sideswipe\", \"05 - Turning movement\", \"06 - SMV unattended vehicle\", \"99 - Other\", \"01 - Approaching\"], \"domain\": {\"y\": [0, 1.0], \"x\": [0.6, 1.0]}, \"values\": [19735.0, 9661.0, 7985.0, 7691.0, 6233.0, 4717.0, 1456.0, 860.0], \"hoverinfo\": \"label+percent+name\", \"hole\": 0.4, \"type\": \"pie\", \"uid\": \"a6d2152c-a722-11e8-9fa6-0800275aa47c\"}], {\"title\": \"Impact_type\"}, {\"linkText\": \"Export to plot.ly\", \"showLink\": true})});</script>"
      ],
      "text/vnd.plotly.v1+html": [
       "<div id=\"f3467d3f-ce34-4423-acf3-01ccb821b592\" style=\"height: 525px; width: 100%;\" class=\"plotly-graph-div\"></div><script type=\"text/javascript\">require([\"plotly\"], function(Plotly) { window.PLOTLYENV=window.PLOTLYENV || {};window.PLOTLYENV.BASE_URL=\"https://plot.ly\";Plotly.newPlot(\"f3467d3f-ce34-4423-acf3-01ccb821b592\", [{\"domain\": {\"y\": [0, 1.0], \"x\": [0, 0.4]}, \"uid\": \"a6d2123e-a722-11e8-9fa6-0800275aa47c\", \"columnwidth\": [110, 55, 55], \"cells\": {\"align\": [\"left\", \"right\", \"right\"], \"font\": {\"color\": [\"rgb(40, 40, 40)\", \"rgb(40, 40, 40)\", \"rgb(40, 40, 40)\", \"rgb(40, 40, 40)\", \"rgb(40, 40, 40)\"], \"size\": 12}, \"values\": [[\"03 - Rear end\", \"07 - SMV other\", \"02 - Angle\", \"04 - Sideswipe\", \"05 - Turning movement\", \"06 - SMV unattended vehicle\", \"99 - Other\", \"01 - Approaching\"], [19735, 9661, 7985, 7691, 6233, 4717, 1456, 860], [33.828722273646676, 16.56038945455792, 13.687476430456991, 13.18351674723165, 10.684288114093729, 8.08563886317666, 2.495800335973122, 1.4741677808632452]], \"suffix\": [\"\", \"\", \"%\"], \"format\": [null, null, \".2f\"]}, \"header\": {\"values\": [\"<b>Impact_type</b>\", \"<b># of Cases</b>\", \"<b>Percentage</b>\"]}, \"type\": \"table\"}, {\"showlegend\": true, \"name\": \"Impact_type\", \"labels\": [\"03 - Rear end\", \"07 - SMV other\", \"02 - Angle\", \"04 - Sideswipe\", \"05 - Turning movement\", \"06 - SMV unattended vehicle\", \"99 - Other\", \"01 - Approaching\"], \"domain\": {\"y\": [0, 1.0], \"x\": [0.6, 1.0]}, \"values\": [19735.0, 9661.0, 7985.0, 7691.0, 6233.0, 4717.0, 1456.0, 860.0], \"hoverinfo\": \"label+percent+name\", \"hole\": 0.4, \"type\": \"pie\", \"uid\": \"a6d2152c-a722-11e8-9fa6-0800275aa47c\"}], {\"title\": \"Impact_type\"}, {\"linkText\": \"Export to plot.ly\", \"showLink\": true})});</script>"
      ]
     },
     "metadata": {},
     "output_type": "display_data"
    },
    {
     "data": {
      "application/vnd.plotly.v1+json": {
       "data": [
        {
         "cells": {
          "align": [
           "left",
           "right",
           "right"
          ],
          "font": {
           "color": [
            "rgb(40, 40, 40)",
            "rgb(40, 40, 40)",
            "rgb(40, 40, 40)",
            "rgb(40, 40, 40)",
            "rgb(40, 40, 40)"
           ],
           "size": 12
          },
          "format": [
           null,
           null,
           ".2f"
          ],
          "suffix": [
           "",
           "",
           "%"
          ],
          "values": [
           [
            1,
            2,
            12,
            11,
            10,
            6,
            9,
            3,
            5,
            7,
            8,
            4
           ],
           [
            6499,
            6051,
            5774,
            5237,
            4709,
            4615,
            4508,
            4496,
            4401,
            4236,
            4118,
            3694
           ],
           [
            11.140251637011895,
            10.37231307209709,
            9.897493914772532,
            8.976996126024202,
            8.071925674517468,
            7.910795707771949,
            7.727381809455243,
            7.706812026466454,
            7.5439679111385365,
            7.261133395042682,
            7.058863862319587,
            6.332064863382358
           ]
          ]
         },
         "columnwidth": [
          110,
          55,
          55
         ],
         "domain": {
          "x": [
           0,
           0.4
          ],
          "y": [
           0,
           1
          ]
         },
         "header": {
          "values": [
           "<b>Month</b>",
           "<b># of Cases</b>",
           "<b>Percentage</b>"
          ]
         },
         "type": "table",
         "uid": "a6e06e60-a722-11e8-9fa6-0800275aa47c"
        },
        {
         "domain": {
          "x": [
           0.6,
           1
          ],
          "y": [
           0,
           1
          ]
         },
         "hole": 0.4,
         "hoverinfo": "label+percent+name",
         "labels": [
          1,
          2,
          12,
          11,
          10,
          6,
          9,
          3,
          5,
          7,
          8,
          4
         ],
         "name": "Month",
         "showlegend": true,
         "type": "pie",
         "uid": "a6e07194-a722-11e8-9fa6-0800275aa47c",
         "values": [
          6499,
          6051,
          5774,
          5237,
          4709,
          4615,
          4508,
          4496,
          4401,
          4236,
          4118,
          3694
         ]
        }
       ],
       "layout": {
        "title": "Month"
       }
      },
      "text/html": [
       "<div id=\"1e4df499-f100-43bc-a989-3811f5cd2176\" style=\"height: 525px; width: 100%;\" class=\"plotly-graph-div\"></div><script type=\"text/javascript\">require([\"plotly\"], function(Plotly) { window.PLOTLYENV=window.PLOTLYENV || {};window.PLOTLYENV.BASE_URL=\"https://plot.ly\";Plotly.newPlot(\"1e4df499-f100-43bc-a989-3811f5cd2176\", [{\"domain\": {\"y\": [0, 1.0], \"x\": [0, 0.4]}, \"uid\": \"a6e4226c-a722-11e8-9fa6-0800275aa47c\", \"columnwidth\": [110, 55, 55], \"cells\": {\"align\": [\"left\", \"right\", \"right\"], \"font\": {\"color\": [\"rgb(40, 40, 40)\", \"rgb(40, 40, 40)\", \"rgb(40, 40, 40)\", \"rgb(40, 40, 40)\", \"rgb(40, 40, 40)\"], \"size\": 12}, \"values\": [[1, 2, 12, 11, 10, 6, 9, 3, 5, 7, 8, 4], [6499, 6051, 5774, 5237, 4709, 4615, 4508, 4496, 4401, 4236, 4118, 3694], [11.140251637011895, 10.37231307209709, 9.897493914772532, 8.976996126024202, 8.071925674517468, 7.910795707771949, 7.727381809455243, 7.706812026466454, 7.5439679111385365, 7.261133395042682, 7.058863862319587, 6.332064863382358]], \"suffix\": [\"\", \"\", \"%\"], \"format\": [null, null, \".2f\"]}, \"header\": {\"values\": [\"<b>Month</b>\", \"<b># of Cases</b>\", \"<b>Percentage</b>\"]}, \"type\": \"table\"}, {\"showlegend\": true, \"name\": \"Month\", \"labels\": [1.0, 2.0, 12.0, 11.0, 10.0, 6.0, 9.0, 3.0, 5.0, 7.0, 8.0, 4.0], \"domain\": {\"y\": [0, 1.0], \"x\": [0.6, 1.0]}, \"values\": [6499.0, 6051.0, 5774.0, 5237.0, 4709.0, 4615.0, 4508.0, 4496.0, 4401.0, 4236.0, 4118.0, 3694.0], \"hoverinfo\": \"label+percent+name\", \"hole\": 0.4, \"type\": \"pie\", \"uid\": \"a6e424d8-a722-11e8-9fa6-0800275aa47c\"}], {\"title\": \"Month\"}, {\"linkText\": \"Export to plot.ly\", \"showLink\": true})});</script>"
      ],
      "text/vnd.plotly.v1+html": [
       "<div id=\"1e4df499-f100-43bc-a989-3811f5cd2176\" style=\"height: 525px; width: 100%;\" class=\"plotly-graph-div\"></div><script type=\"text/javascript\">require([\"plotly\"], function(Plotly) { window.PLOTLYENV=window.PLOTLYENV || {};window.PLOTLYENV.BASE_URL=\"https://plot.ly\";Plotly.newPlot(\"1e4df499-f100-43bc-a989-3811f5cd2176\", [{\"domain\": {\"y\": [0, 1.0], \"x\": [0, 0.4]}, \"uid\": \"a6e4226c-a722-11e8-9fa6-0800275aa47c\", \"columnwidth\": [110, 55, 55], \"cells\": {\"align\": [\"left\", \"right\", \"right\"], \"font\": {\"color\": [\"rgb(40, 40, 40)\", \"rgb(40, 40, 40)\", \"rgb(40, 40, 40)\", \"rgb(40, 40, 40)\", \"rgb(40, 40, 40)\"], \"size\": 12}, \"values\": [[1, 2, 12, 11, 10, 6, 9, 3, 5, 7, 8, 4], [6499, 6051, 5774, 5237, 4709, 4615, 4508, 4496, 4401, 4236, 4118, 3694], [11.140251637011895, 10.37231307209709, 9.897493914772532, 8.976996126024202, 8.071925674517468, 7.910795707771949, 7.727381809455243, 7.706812026466454, 7.5439679111385365, 7.261133395042682, 7.058863862319587, 6.332064863382358]], \"suffix\": [\"\", \"\", \"%\"], \"format\": [null, null, \".2f\"]}, \"header\": {\"values\": [\"<b>Month</b>\", \"<b># of Cases</b>\", \"<b>Percentage</b>\"]}, \"type\": \"table\"}, {\"showlegend\": true, \"name\": \"Month\", \"labels\": [1.0, 2.0, 12.0, 11.0, 10.0, 6.0, 9.0, 3.0, 5.0, 7.0, 8.0, 4.0], \"domain\": {\"y\": [0, 1.0], \"x\": [0.6, 1.0]}, \"values\": [6499.0, 6051.0, 5774.0, 5237.0, 4709.0, 4615.0, 4508.0, 4496.0, 4401.0, 4236.0, 4118.0, 3694.0], \"hoverinfo\": \"label+percent+name\", \"hole\": 0.4, \"type\": \"pie\", \"uid\": \"a6e424d8-a722-11e8-9fa6-0800275aa47c\"}], {\"title\": \"Month\"}, {\"linkText\": \"Export to plot.ly\", \"showLink\": true})});</script>"
      ]
     },
     "metadata": {},
     "output_type": "display_data"
    },
    {
     "data": {
      "application/vnd.plotly.v1+json": {
       "data": [
        {
         "cells": {
          "align": [
           "left",
           "right",
           "right"
          ],
          "font": {
           "color": [
            "rgb(40, 40, 40)",
            "rgb(40, 40, 40)",
            "rgb(40, 40, 40)",
            "rgb(40, 40, 40)",
            "rgb(40, 40, 40)"
           ],
           "size": 12
          },
          "format": [
           null,
           null,
           ".2f"
          ],
          "suffix": [
           "",
           "",
           "%"
          ],
          "values": [
           [
            "T5_Fri",
            "T4_Thu",
            "T3_Wed",
            "T2_Tue",
            "T1_Mon",
            "T6_Sat",
            "T7_Sun"
           ],
           [
            10067,
            9851,
            9366,
            9158,
            7890,
            6688,
            5318
           ],
           [
            17.256333779011964,
            16.886077685213756,
            16.05471562275018,
            15.698172717611161,
            13.524632315129075,
            11.46422571908533,
            9.115842161198533
           ]
          ]
         },
         "columnwidth": [
          110,
          55,
          55
         ],
         "domain": {
          "x": [
           0,
           0.4
          ],
          "y": [
           0,
           1
          ]
         },
         "header": {
          "values": [
           "<b>Day_Of_Week</b>",
           "<b># of Cases</b>",
           "<b>Percentage</b>"
          ]
         },
         "type": "table",
         "uid": "a6ef2b8a-a722-11e8-9fa6-0800275aa47c"
        },
        {
         "domain": {
          "x": [
           0.6,
           1
          ],
          "y": [
           0,
           1
          ]
         },
         "hole": 0.4,
         "hoverinfo": "label+percent+name",
         "labels": [
          "T5_Fri",
          "T4_Thu",
          "T3_Wed",
          "T2_Tue",
          "T1_Mon",
          "T6_Sat",
          "T7_Sun"
         ],
         "name": "Day_Of_Week",
         "showlegend": true,
         "type": "pie",
         "uid": "a6ef2e46-a722-11e8-9fa6-0800275aa47c",
         "values": [
          10067,
          9851,
          9366,
          9158,
          7890,
          6688,
          5318
         ]
        }
       ],
       "layout": {
        "title": "Day_Of_Week"
       }
      },
      "text/html": [
       "<div id=\"ad112db6-4de1-4f2b-b386-9d5f6ff58ddb\" style=\"height: 525px; width: 100%;\" class=\"plotly-graph-div\"></div><script type=\"text/javascript\">require([\"plotly\"], function(Plotly) { window.PLOTLYENV=window.PLOTLYENV || {};window.PLOTLYENV.BASE_URL=\"https://plot.ly\";Plotly.newPlot(\"ad112db6-4de1-4f2b-b386-9d5f6ff58ddb\", [{\"domain\": {\"y\": [0, 1.0], \"x\": [0, 0.4]}, \"uid\": \"a6f24f68-a722-11e8-9fa6-0800275aa47c\", \"columnwidth\": [110, 55, 55], \"cells\": {\"align\": [\"left\", \"right\", \"right\"], \"font\": {\"color\": [\"rgb(40, 40, 40)\", \"rgb(40, 40, 40)\", \"rgb(40, 40, 40)\", \"rgb(40, 40, 40)\", \"rgb(40, 40, 40)\"], \"size\": 12}, \"values\": [[\"T5_Fri\", \"T4_Thu\", \"T3_Wed\", \"T2_Tue\", \"T1_Mon\", \"T6_Sat\", \"T7_Sun\"], [10067, 9851, 9366, 9158, 7890, 6688, 5318], [17.256333779011964, 16.886077685213756, 16.05471562275018, 15.698172717611161, 13.524632315129075, 11.46422571908533, 9.115842161198533]], \"suffix\": [\"\", \"\", \"%\"], \"format\": [null, null, \".2f\"]}, \"header\": {\"values\": [\"<b>Day_Of_Week</b>\", \"<b># of Cases</b>\", \"<b>Percentage</b>\"]}, \"type\": \"table\"}, {\"showlegend\": true, \"name\": \"Day_Of_Week\", \"labels\": [\"T5_Fri\", \"T4_Thu\", \"T3_Wed\", \"T2_Tue\", \"T1_Mon\", \"T6_Sat\", \"T7_Sun\"], \"domain\": {\"y\": [0, 1.0], \"x\": [0.6, 1.0]}, \"values\": [10067.0, 9851.0, 9366.0, 9158.0, 7890.0, 6688.0, 5318.0], \"hoverinfo\": \"label+percent+name\", \"hole\": 0.4, \"type\": \"pie\", \"uid\": \"a6f251b6-a722-11e8-9fa6-0800275aa47c\"}], {\"title\": \"Day_Of_Week\"}, {\"linkText\": \"Export to plot.ly\", \"showLink\": true})});</script>"
      ],
      "text/vnd.plotly.v1+html": [
       "<div id=\"ad112db6-4de1-4f2b-b386-9d5f6ff58ddb\" style=\"height: 525px; width: 100%;\" class=\"plotly-graph-div\"></div><script type=\"text/javascript\">require([\"plotly\"], function(Plotly) { window.PLOTLYENV=window.PLOTLYENV || {};window.PLOTLYENV.BASE_URL=\"https://plot.ly\";Plotly.newPlot(\"ad112db6-4de1-4f2b-b386-9d5f6ff58ddb\", [{\"domain\": {\"y\": [0, 1.0], \"x\": [0, 0.4]}, \"uid\": \"a6f24f68-a722-11e8-9fa6-0800275aa47c\", \"columnwidth\": [110, 55, 55], \"cells\": {\"align\": [\"left\", \"right\", \"right\"], \"font\": {\"color\": [\"rgb(40, 40, 40)\", \"rgb(40, 40, 40)\", \"rgb(40, 40, 40)\", \"rgb(40, 40, 40)\", \"rgb(40, 40, 40)\"], \"size\": 12}, \"values\": [[\"T5_Fri\", \"T4_Thu\", \"T3_Wed\", \"T2_Tue\", \"T1_Mon\", \"T6_Sat\", \"T7_Sun\"], [10067, 9851, 9366, 9158, 7890, 6688, 5318], [17.256333779011964, 16.886077685213756, 16.05471562275018, 15.698172717611161, 13.524632315129075, 11.46422571908533, 9.115842161198533]], \"suffix\": [\"\", \"\", \"%\"], \"format\": [null, null, \".2f\"]}, \"header\": {\"values\": [\"<b>Day_Of_Week</b>\", \"<b># of Cases</b>\", \"<b>Percentage</b>\"]}, \"type\": \"table\"}, {\"showlegend\": true, \"name\": \"Day_Of_Week\", \"labels\": [\"T5_Fri\", \"T4_Thu\", \"T3_Wed\", \"T2_Tue\", \"T1_Mon\", \"T6_Sat\", \"T7_Sun\"], \"domain\": {\"y\": [0, 1.0], \"x\": [0.6, 1.0]}, \"values\": [10067.0, 9851.0, 9366.0, 9158.0, 7890.0, 6688.0, 5318.0], \"hoverinfo\": \"label+percent+name\", \"hole\": 0.4, \"type\": \"pie\", \"uid\": \"a6f251b6-a722-11e8-9fa6-0800275aa47c\"}], {\"title\": \"Day_Of_Week\"}, {\"linkText\": \"Export to plot.ly\", \"showLink\": true})});</script>"
      ]
     },
     "metadata": {},
     "output_type": "display_data"
    },
    {
     "data": {
      "application/vnd.plotly.v1+json": {
       "data": [
        {
         "cells": {
          "align": [
           "left",
           "right",
           "right"
          ],
          "font": {
           "color": [
            "rgb(40, 40, 40)",
            "rgb(40, 40, 40)",
            "rgb(40, 40, 40)",
            "rgb(40, 40, 40)",
            "rgb(40, 40, 40)"
           ],
           "size": 12
          },
          "format": [
           null,
           null,
           ".2f"
          ],
          "suffix": [
           "",
           "",
           "%"
          ],
          "values": [
           [
            "Boxing Day",
            "Family Day",
            "New Years Day",
            "Good Friday",
            "Canada Day",
            "Labour Day",
            "Thanksgiving",
            "Christmas Day",
            "Victoria Day"
           ],
           [
            135,
            100,
            92,
            78,
            76,
            72,
            72,
            70,
            66
           ],
           [
            17.73981603153745,
            13.14060446780552,
            12.089356110381077,
            10.249671484888305,
            9.986859395532194,
            9.461235216819974,
            9.461235216819974,
            9.198423127463863,
            8.672798948751643
           ]
          ]
         },
         "columnwidth": [
          110,
          55,
          55
         ],
         "domain": {
          "x": [
           0,
           0.4
          ],
          "y": [
           0,
           1
          ]
         },
         "header": {
          "values": [
           "<b>Holiday</b>",
           "<b># of Cases</b>",
           "<b>Percentage</b>"
          ]
         },
         "type": "table",
         "uid": "a6ff3764-a722-11e8-9fa6-0800275aa47c"
        },
        {
         "domain": {
          "x": [
           0.6,
           1
          ],
          "y": [
           0,
           1
          ]
         },
         "hole": 0.4,
         "hoverinfo": "label+percent+name",
         "labels": [
          "Boxing Day",
          "Family Day",
          "New Years Day",
          "Good Friday",
          "Canada Day",
          "Labour Day",
          "Thanksgiving",
          "Christmas Day",
          "Victoria Day"
         ],
         "name": "Holiday",
         "showlegend": true,
         "type": "pie",
         "uid": "a6ff3bd8-a722-11e8-9fa6-0800275aa47c",
         "values": [
          135,
          100,
          92,
          78,
          76,
          72,
          72,
          70,
          66
         ]
        }
       ],
       "layout": {
        "title": "Holiday"
       }
      },
      "text/html": [
       "<div id=\"b253fdd2-4c03-4bc5-8961-78a42638e6bb\" style=\"height: 525px; width: 100%;\" class=\"plotly-graph-div\"></div><script type=\"text/javascript\">require([\"plotly\"], function(Plotly) { window.PLOTLYENV=window.PLOTLYENV || {};window.PLOTLYENV.BASE_URL=\"https://plot.ly\";Plotly.newPlot(\"b253fdd2-4c03-4bc5-8961-78a42638e6bb\", [{\"domain\": {\"y\": [0, 1.0], \"x\": [0, 0.4]}, \"uid\": \"a702ca00-a722-11e8-9fa6-0800275aa47c\", \"columnwidth\": [110, 55, 55], \"cells\": {\"align\": [\"left\", \"right\", \"right\"], \"font\": {\"color\": [\"rgb(40, 40, 40)\", \"rgb(40, 40, 40)\", \"rgb(40, 40, 40)\", \"rgb(40, 40, 40)\", \"rgb(40, 40, 40)\"], \"size\": 12}, \"values\": [[\"Boxing Day\", \"Family Day\", \"New Years Day\", \"Good Friday\", \"Canada Day\", \"Labour Day\", \"Thanksgiving\", \"Christmas Day\", \"Victoria Day\"], [135, 100, 92, 78, 76, 72, 72, 70, 66], [17.73981603153745, 13.14060446780552, 12.089356110381077, 10.249671484888305, 9.986859395532194, 9.461235216819974, 9.461235216819974, 9.198423127463863, 8.672798948751643]], \"suffix\": [\"\", \"\", \"%\"], \"format\": [null, null, \".2f\"]}, \"header\": {\"values\": [\"<b>Holiday</b>\", \"<b># of Cases</b>\", \"<b>Percentage</b>\"]}, \"type\": \"table\"}, {\"showlegend\": true, \"name\": \"Holiday\", \"labels\": [\"Boxing Day\", \"Family Day\", \"New Years Day\", \"Good Friday\", \"Canada Day\", \"Labour Day\", \"Thanksgiving\", \"Christmas Day\", \"Victoria Day\"], \"domain\": {\"y\": [0, 1.0], \"x\": [0.6, 1.0]}, \"values\": [135.0, 100.0, 92.0, 78.0, 76.0, 72.0, 72.0, 70.0, 66.0], \"hoverinfo\": \"label+percent+name\", \"hole\": 0.4, \"type\": \"pie\", \"uid\": \"a702cc62-a722-11e8-9fa6-0800275aa47c\"}], {\"title\": \"Holiday\"}, {\"linkText\": \"Export to plot.ly\", \"showLink\": true})});</script>"
      ],
      "text/vnd.plotly.v1+html": [
       "<div id=\"b253fdd2-4c03-4bc5-8961-78a42638e6bb\" style=\"height: 525px; width: 100%;\" class=\"plotly-graph-div\"></div><script type=\"text/javascript\">require([\"plotly\"], function(Plotly) { window.PLOTLYENV=window.PLOTLYENV || {};window.PLOTLYENV.BASE_URL=\"https://plot.ly\";Plotly.newPlot(\"b253fdd2-4c03-4bc5-8961-78a42638e6bb\", [{\"domain\": {\"y\": [0, 1.0], \"x\": [0, 0.4]}, \"uid\": \"a702ca00-a722-11e8-9fa6-0800275aa47c\", \"columnwidth\": [110, 55, 55], \"cells\": {\"align\": [\"left\", \"right\", \"right\"], \"font\": {\"color\": [\"rgb(40, 40, 40)\", \"rgb(40, 40, 40)\", \"rgb(40, 40, 40)\", \"rgb(40, 40, 40)\", \"rgb(40, 40, 40)\"], \"size\": 12}, \"values\": [[\"Boxing Day\", \"Family Day\", \"New Years Day\", \"Good Friday\", \"Canada Day\", \"Labour Day\", \"Thanksgiving\", \"Christmas Day\", \"Victoria Day\"], [135, 100, 92, 78, 76, 72, 72, 70, 66], [17.73981603153745, 13.14060446780552, 12.089356110381077, 10.249671484888305, 9.986859395532194, 9.461235216819974, 9.461235216819974, 9.198423127463863, 8.672798948751643]], \"suffix\": [\"\", \"\", \"%\"], \"format\": [null, null, \".2f\"]}, \"header\": {\"values\": [\"<b>Holiday</b>\", \"<b># of Cases</b>\", \"<b>Percentage</b>\"]}, \"type\": \"table\"}, {\"showlegend\": true, \"name\": \"Holiday\", \"labels\": [\"Boxing Day\", \"Family Day\", \"New Years Day\", \"Good Friday\", \"Canada Day\", \"Labour Day\", \"Thanksgiving\", \"Christmas Day\", \"Victoria Day\"], \"domain\": {\"y\": [0, 1.0], \"x\": [0.6, 1.0]}, \"values\": [135.0, 100.0, 92.0, 78.0, 76.0, 72.0, 72.0, 70.0, 66.0], \"hoverinfo\": \"label+percent+name\", \"hole\": 0.4, \"type\": \"pie\", \"uid\": \"a702cc62-a722-11e8-9fa6-0800275aa47c\"}], {\"title\": \"Holiday\"}, {\"linkText\": \"Export to plot.ly\", \"showLink\": true})});</script>"
      ]
     },
     "metadata": {},
     "output_type": "display_data"
    }
   ],
   "source": [
    "def analysisInSinglePercent(Col): \n",
    "    count = '# of Cases'\n",
    "    df_cause = pd.crosstab(index = df_csv1417[Col], columns = count, margins = False)\n",
    "    df_cause[Col] = df_cause.index\n",
    "    sumOf = df_cause[count].sum()\n",
    "    df_cause['Percentage'] = df_cause[count]/sumOf*100\n",
    "    df_cause = df_cause[[Col, count, 'Percentage']]\n",
    "    df_cause = df_cause.sort_values([count], ascending=[0])\n",
    "    \n",
    "    tab = go.Table(header = dict(values = ['<b>' + a + '</b>' for a in df_cause.columns.tolist()]),\n",
    "                   domain = dict(x=[0, 0.4], y=[0,1.0]),\n",
    "                   columnwidth = [110,55,55], \n",
    "                   cells = dict(values = [df_cause[b].tolist() for b in df_cause.columns.tolist()],\n",
    "                                font = dict(color=['rgb(40, 40, 40)'] * 5, size=12),\n",
    "                                format = [None] + [None] + ['.2f'],\n",
    "                                suffix = [\"\", \"\", \"%\"], \n",
    "                                align = [\"left\", \"right\", \"right\"]),\n",
    "                  )\n",
    "    pie = go.Pie(values = df_cause[count], \n",
    "                 labels = df_cause.index, \n",
    "                 name = df_cause.index.name,\n",
    "                 domain=dict(x=[0.6, 1.0], y=[0, 1.0]),\n",
    "                 hoverinfo = \"label+percent+name\", hole = .4, showlegend = True)\n",
    "    fig = dict(data = [tab,pie], \n",
    "               layout = go.Layout(title = Col))\n",
    "    iplot(fig)\n",
    "    \n",
    "for n in ['Environment', 'Road_Surface', 'Traffic_Control', 'Collision_Location', \\\n",
    "          'Light', 'Collision_Classification', 'Impact_type', 'Month', \"Day_Of_Week\", \"Holiday\"]:\n",
    "    analysisInSinglePercent(n) "
   ]
  },
  {
   "cell_type": "markdown",
   "metadata": {},
   "source": [
    "**Brief Conclusion - Most of car collisions happen in:**\n",
    "* environment: clear (78.73%)\n",
    "* road surface: dry (65.76%)\n",
    "* traffic control: no traffic control (47.97%)\n",
    "* collision location: at intersection or intersection related (21.47%+31.34% = 52.81%)\n",
    "* light condition: daylight (68.36%)\n",
    "* collision classification: P.D. only (80.99%)\n",
    "* impact type: varies\n",
    "* month: December, January, February (11.14%+10.37%+9.90% = 31.41%)\n",
    "* day of week: workdays, the trend keeps rising from Monday to Friday\n",
    "* holiday: Boxing Day (17.74%), Family Day (13.14%), New Years Day (12.09%)\n",
    "\n",
    "**Hypothesis:**\n",
    "* Those weather that seems common, such as clear environment and dry road surface might lead drivers to be careless(it might be not a dependable factor: the proportions of those weathers such as clear days and dry road surfaces is much more bigger than the proportions of wet road surface and snowy environment). \n",
    "* A place without traffic control might lead drivers to ignore some details that perhaps cause accidents, or some drivers could break the rules. \n",
    "* The location where is close to of at intersection requires drivers to control their wheels and gases carefully due to the heavy traffic and roads to different directions. Under this kind of stressful situation, people without enough driving experience are easy to make mistakes. \n",
    "* Of course, most of collisions did not cause injuries, and the impact type varies, either. P.D. only collisions are highly related to SMV other and rear end impacts. \n",
    "* December, January and February are in winter of Ottawa. The season of winter in Ottawa is cold, so that this season causes many potential factors of collision: snow and ice creates terrible road surface condition that let cars slip, low temperature makes drivers' reaction slower, snow and long night reduces their visability, etc. \n",
    "* Objectively, the traffic is heavier on workdays in a week. According to the table, the stress of people on workdays increases step by step, and the proportion of collisions is also divided by days of week step by step.\n",
    "* Boxing Day, Family Day and New Years Day include multiple possible factors that cause collisions: time is in winter, heavy traffic, many crowded people, used to gather at places like supermarkets with complicated routes. "
   ]
  },
  {
   "cell_type": "markdown",
   "metadata": {},
   "source": [
    "### 2.3 Temperature & Weather Related Variables"
   ]
  },
  {
   "cell_type": "code",
   "execution_count": 9,
   "metadata": {},
   "outputs": [
    {
     "data": {
      "application/vnd.plotly.v1+json": {
       "data": [
        {
         "name": "Number of Collisions",
         "opacity": 0.6,
         "text": [
          "1790",
          "1349",
          "1190",
          "936",
          "1093",
          "1166",
          "1115",
          "1094",
          "1126",
          "1260",
          "1340",
          "1384"
         ],
         "textposition": "auto",
         "type": "bar",
         "uid": "a71a0206-a722-11e8-9fa6-0800275aa47c",
         "x": [
          1,
          2,
          3,
          4,
          5,
          6,
          7,
          8,
          9,
          10,
          11,
          12
         ],
         "y": [
          1790,
          1349,
          1190,
          936,
          1093,
          1166,
          1115,
          1094,
          1126,
          1260,
          1340,
          1384
         ]
        },
        {
         "mode": "lines",
         "name": "Monthly Mean Max Temp",
         "type": "scatter",
         "uid": "a71a04a4-a722-11e8-9fa6-0800275aa47c",
         "x": [
          1,
          2,
          3,
          4,
          5,
          6,
          7,
          8,
          9,
          10,
          11,
          12
         ],
         "xaxis": "x2",
         "y": [
          -6.409677419354837,
          -5.192857142857142,
          -1.4612903225806446,
          10.04,
          19.96774193548387,
          24.766666666666666,
          24.909677419354843,
          24.370967741935484,
          20.99666666666666,
          14.36774193548387,
          4.833333333333333,
          -1.1225806451612907
         ],
         "yaxis": "y2"
        },
        {
         "fill": "tonexty",
         "mode": "lines",
         "name": "Monthly Mean Min Temp",
         "type": "scatter",
         "uid": "a71a08b4-a722-11e8-9fa6-0800275aa47c",
         "x": [
          1,
          2,
          3,
          4,
          5,
          6,
          7,
          8,
          9,
          10,
          11,
          12
         ],
         "xaxis": "x2",
         "y": [
          -15.283870967741935,
          -14.192857142857141,
          -11.703225806451616,
          0.6699999999999998,
          9.174193548387096,
          14.280000000000001,
          14.94838709677419,
          13.935483870967742,
          10.610000000000001,
          6.267741935483871,
          -2.146666666666667,
          -6.493548387096775
         ],
         "yaxis": "y2"
        }
       ],
       "layout": {
        "title": "Temperature Analysis (2014)",
        "xaxis": {
         "dtick": 1,
         "title": "Month"
        },
        "xaxis2": {
         "anchor": "y2",
         "dtick": 1
        },
        "yaxis": {
         "domain": [
          0,
          0.5
         ],
         "dtick": 500,
         "title": "# of Collisions"
        },
        "yaxis2": {
         "autorange": "reversed",
         "domain": [
          0.55,
          1
         ],
         "dtick": 5,
         "title": "Temp (°C)"
        }
       }
      },
      "text/html": [
       "<div id=\"32c93acb-83c6-4775-bb43-ada27ea27b8a\" style=\"height: 525px; width: 100%;\" class=\"plotly-graph-div\"></div><script type=\"text/javascript\">require([\"plotly\"], function(Plotly) { window.PLOTLYENV=window.PLOTLYENV || {};window.PLOTLYENV.BASE_URL=\"https://plot.ly\";Plotly.newPlot(\"32c93acb-83c6-4775-bb43-ada27ea27b8a\", [{\"opacity\": 0.6, \"textposition\": \"auto\", \"name\": \"Number of Collisions\", \"text\": [\"1790\", \"1349\", \"1190\", \"936\", \"1093\", \"1166\", \"1115\", \"1094\", \"1126\", \"1260\", \"1340\", \"1384\"], \"y\": [1790.0, 1349.0, 1190.0, 936.0, 1093.0, 1166.0, 1115.0, 1094.0, 1126.0, 1260.0, 1340.0, 1384.0], \"x\": [1.0, 2.0, 3.0, 4.0, 5.0, 6.0, 7.0, 8.0, 9.0, 10.0, 11.0, 12.0], \"type\": \"bar\", \"uid\": \"a72a8dd8-a722-11e8-9fa6-0800275aa47c\"}, {\"name\": \"Monthly Mean Max Temp\", \"yaxis\": \"y2\", \"mode\": \"lines\", \"xaxis\": \"x2\", \"y\": [-6.409677419354837, -5.192857142857142, -1.4612903225806446, 10.04, 19.96774193548387, 24.766666666666666, 24.909677419354843, 24.370967741935484, 20.99666666666666, 14.36774193548387, 4.833333333333333, -1.1225806451612907], \"x\": [1.0, 2.0, 3.0, 4.0, 5.0, 6.0, 7.0, 8.0, 9.0, 10.0, 11.0, 12.0], \"type\": \"scatter\", \"uid\": \"a72a94fe-a722-11e8-9fa6-0800275aa47c\"}, {\"uid\": \"a72a9710-a722-11e8-9fa6-0800275aa47c\", \"yaxis\": \"y2\", \"mode\": \"lines\", \"xaxis\": \"x2\", \"y\": [-15.283870967741935, -14.192857142857141, -11.703225806451616, 0.6699999999999998, 9.174193548387096, 14.280000000000001, 14.94838709677419, 13.935483870967742, 10.610000000000001, 6.267741935483871, -2.146666666666667, -6.493548387096775], \"x\": [1.0, 2.0, 3.0, 4.0, 5.0, 6.0, 7.0, 8.0, 9.0, 10.0, 11.0, 12.0], \"fill\": \"tonexty\", \"type\": \"scatter\", \"name\": \"Monthly Mean Min Temp\"}], {\"yaxis2\": {\"domain\": [0.55, 1.0], \"autorange\": \"reversed\", \"dtick\": 5, \"title\": \"Temp (\\u00b0C)\"}, \"title\": \"Temperature Analysis (2014)\", \"xaxis2\": {\"anchor\": \"y2\", \"dtick\": 1}, \"xaxis\": {\"dtick\": 1, \"title\": \"Month\"}, \"yaxis\": {\"domain\": [0, 0.5], \"dtick\": 500, \"title\": \"# of Collisions\"}}, {\"linkText\": \"Export to plot.ly\", \"showLink\": true})});</script>"
      ],
      "text/vnd.plotly.v1+html": [
       "<div id=\"32c93acb-83c6-4775-bb43-ada27ea27b8a\" style=\"height: 525px; width: 100%;\" class=\"plotly-graph-div\"></div><script type=\"text/javascript\">require([\"plotly\"], function(Plotly) { window.PLOTLYENV=window.PLOTLYENV || {};window.PLOTLYENV.BASE_URL=\"https://plot.ly\";Plotly.newPlot(\"32c93acb-83c6-4775-bb43-ada27ea27b8a\", [{\"opacity\": 0.6, \"textposition\": \"auto\", \"name\": \"Number of Collisions\", \"text\": [\"1790\", \"1349\", \"1190\", \"936\", \"1093\", \"1166\", \"1115\", \"1094\", \"1126\", \"1260\", \"1340\", \"1384\"], \"y\": [1790.0, 1349.0, 1190.0, 936.0, 1093.0, 1166.0, 1115.0, 1094.0, 1126.0, 1260.0, 1340.0, 1384.0], \"x\": [1.0, 2.0, 3.0, 4.0, 5.0, 6.0, 7.0, 8.0, 9.0, 10.0, 11.0, 12.0], \"type\": \"bar\", \"uid\": \"a72a8dd8-a722-11e8-9fa6-0800275aa47c\"}, {\"name\": \"Monthly Mean Max Temp\", \"yaxis\": \"y2\", \"mode\": \"lines\", \"xaxis\": \"x2\", \"y\": [-6.409677419354837, -5.192857142857142, -1.4612903225806446, 10.04, 19.96774193548387, 24.766666666666666, 24.909677419354843, 24.370967741935484, 20.99666666666666, 14.36774193548387, 4.833333333333333, -1.1225806451612907], \"x\": [1.0, 2.0, 3.0, 4.0, 5.0, 6.0, 7.0, 8.0, 9.0, 10.0, 11.0, 12.0], \"type\": \"scatter\", \"uid\": \"a72a94fe-a722-11e8-9fa6-0800275aa47c\"}, {\"uid\": \"a72a9710-a722-11e8-9fa6-0800275aa47c\", \"yaxis\": \"y2\", \"mode\": \"lines\", \"xaxis\": \"x2\", \"y\": [-15.283870967741935, -14.192857142857141, -11.703225806451616, 0.6699999999999998, 9.174193548387096, 14.280000000000001, 14.94838709677419, 13.935483870967742, 10.610000000000001, 6.267741935483871, -2.146666666666667, -6.493548387096775], \"x\": [1.0, 2.0, 3.0, 4.0, 5.0, 6.0, 7.0, 8.0, 9.0, 10.0, 11.0, 12.0], \"fill\": \"tonexty\", \"type\": \"scatter\", \"name\": \"Monthly Mean Min Temp\"}], {\"yaxis2\": {\"domain\": [0.55, 1.0], \"autorange\": \"reversed\", \"dtick\": 5, \"title\": \"Temp (\\u00b0C)\"}, \"title\": \"Temperature Analysis (2014)\", \"xaxis2\": {\"anchor\": \"y2\", \"dtick\": 1}, \"xaxis\": {\"dtick\": 1, \"title\": \"Month\"}, \"yaxis\": {\"domain\": [0, 0.5], \"dtick\": 500, \"title\": \"# of Collisions\"}}, {\"linkText\": \"Export to plot.ly\", \"showLink\": true})});</script>"
      ]
     },
     "metadata": {},
     "output_type": "display_data"
    },
    {
     "data": {
      "application/vnd.plotly.v1+json": {
       "data": [
        {
         "name": "Number of Collisions",
         "opacity": 0.6,
         "text": [
          "2027",
          "1900",
          "1064",
          "901",
          "1115",
          "1219",
          "1115",
          "1058",
          "1133",
          "1199",
          "1249",
          "1098"
         ],
         "textposition": "auto",
         "type": "bar",
         "uid": "a7387bd2-a722-11e8-9fa6-0800275aa47c",
         "x": [
          1,
          2,
          3,
          4,
          5,
          6,
          7,
          8,
          9,
          10,
          11,
          12
         ],
         "y": [
          2027,
          1900,
          1064,
          901,
          1115,
          1219,
          1115,
          1058,
          1133,
          1199,
          1249,
          1098
         ]
        },
        {
         "mode": "lines",
         "name": "Monthly Mean Max Temp",
         "type": "scatter",
         "uid": "a7387ff6-a722-11e8-9fa6-0800275aa47c",
         "x": [
          1,
          2,
          3,
          4,
          5,
          6,
          7,
          8,
          9,
          10,
          11,
          12
         ],
         "xaxis": "x2",
         "y": [
          -7.848387096774193,
          -11.12857142857143,
          -0.05483870967741936,
          11.893333333333333,
          22.822580645161292,
          22.996666666666666,
          27.022580645161288,
          25.712903225806446,
          24.13333333333333,
          12.761290322580642,
          9.07666666666667,
          4.906451612903226
         ],
         "yaxis": "y2"
        },
        {
         "fill": "tonexty",
         "mode": "lines",
         "name": "Monthly Mean Min Temp",
         "type": "scatter",
         "uid": "a73881cc-a722-11e8-9fa6-0800275aa47c",
         "x": [
          1,
          2,
          3,
          4,
          5,
          6,
          7,
          8,
          9,
          10,
          11,
          12
         ],
         "xaxis": "x2",
         "y": [
          -17.635483870967743,
          -20.41785714285714,
          -9.332258064516129,
          1.1033333333333333,
          9.832258064516127,
          12.486666666666668,
          16.019354838709678,
          14.893548387096772,
          12.866666666666667,
          3.2000000000000006,
          0.8000000000000002,
          -1.2096774193548387
         ],
         "yaxis": "y2"
        }
       ],
       "layout": {
        "title": "Temperature Analysis (2015)",
        "xaxis": {
         "dtick": 1,
         "title": "Month"
        },
        "xaxis2": {
         "anchor": "y2",
         "dtick": 1
        },
        "yaxis": {
         "domain": [
          0,
          0.5
         ],
         "dtick": 500,
         "title": "# of Collisions"
        },
        "yaxis2": {
         "autorange": "reversed",
         "domain": [
          0.55,
          1
         ],
         "dtick": 5,
         "title": "Temp (°C)"
        }
       }
      },
      "text/html": [
       "<div id=\"7b0fbbe6-d5ac-46ac-8dc0-e7da61f0b344\" style=\"height: 525px; width: 100%;\" class=\"plotly-graph-div\"></div><script type=\"text/javascript\">require([\"plotly\"], function(Plotly) { window.PLOTLYENV=window.PLOTLYENV || {};window.PLOTLYENV.BASE_URL=\"https://plot.ly\";Plotly.newPlot(\"7b0fbbe6-d5ac-46ac-8dc0-e7da61f0b344\", [{\"opacity\": 0.6, \"textposition\": \"auto\", \"name\": \"Number of Collisions\", \"text\": [\"2027\", \"1900\", \"1064\", \"901\", \"1115\", \"1219\", \"1115\", \"1058\", \"1133\", \"1199\", \"1249\", \"1098\"], \"y\": [2027.0, 1900.0, 1064.0, 901.0, 1115.0, 1219.0, 1115.0, 1058.0, 1133.0, 1199.0, 1249.0, 1098.0], \"x\": [1.0, 2.0, 3.0, 4.0, 5.0, 6.0, 7.0, 8.0, 9.0, 10.0, 11.0, 12.0], \"type\": \"bar\", \"uid\": \"a73ef6ba-a722-11e8-9fa6-0800275aa47c\"}, {\"name\": \"Monthly Mean Max Temp\", \"yaxis\": \"y2\", \"mode\": \"lines\", \"xaxis\": \"x2\", \"y\": [-7.848387096774193, -11.12857142857143, -0.05483870967741936, 11.893333333333333, 22.822580645161292, 22.996666666666666, 27.022580645161288, 25.712903225806446, 24.13333333333333, 12.761290322580642, 9.07666666666667, 4.906451612903226], \"x\": [1.0, 2.0, 3.0, 4.0, 5.0, 6.0, 7.0, 8.0, 9.0, 10.0, 11.0, 12.0], \"type\": \"scatter\", \"uid\": \"a73ef994-a722-11e8-9fa6-0800275aa47c\"}, {\"uid\": \"a73efb2e-a722-11e8-9fa6-0800275aa47c\", \"yaxis\": \"y2\", \"mode\": \"lines\", \"xaxis\": \"x2\", \"y\": [-17.635483870967743, -20.41785714285714, -9.332258064516129, 1.1033333333333333, 9.832258064516127, 12.486666666666668, 16.019354838709678, 14.893548387096772, 12.866666666666667, 3.2000000000000006, 0.8000000000000002, -1.2096774193548387], \"x\": [1.0, 2.0, 3.0, 4.0, 5.0, 6.0, 7.0, 8.0, 9.0, 10.0, 11.0, 12.0], \"fill\": \"tonexty\", \"type\": \"scatter\", \"name\": \"Monthly Mean Min Temp\"}], {\"yaxis2\": {\"domain\": [0.55, 1.0], \"autorange\": \"reversed\", \"dtick\": 5, \"title\": \"Temp (\\u00b0C)\"}, \"title\": \"Temperature Analysis (2015)\", \"xaxis2\": {\"anchor\": \"y2\", \"dtick\": 1}, \"xaxis\": {\"dtick\": 1, \"title\": \"Month\"}, \"yaxis\": {\"domain\": [0, 0.5], \"dtick\": 500, \"title\": \"# of Collisions\"}}, {\"linkText\": \"Export to plot.ly\", \"showLink\": true})});</script>"
      ],
      "text/vnd.plotly.v1+html": [
       "<div id=\"7b0fbbe6-d5ac-46ac-8dc0-e7da61f0b344\" style=\"height: 525px; width: 100%;\" class=\"plotly-graph-div\"></div><script type=\"text/javascript\">require([\"plotly\"], function(Plotly) { window.PLOTLYENV=window.PLOTLYENV || {};window.PLOTLYENV.BASE_URL=\"https://plot.ly\";Plotly.newPlot(\"7b0fbbe6-d5ac-46ac-8dc0-e7da61f0b344\", [{\"opacity\": 0.6, \"textposition\": \"auto\", \"name\": \"Number of Collisions\", \"text\": [\"2027\", \"1900\", \"1064\", \"901\", \"1115\", \"1219\", \"1115\", \"1058\", \"1133\", \"1199\", \"1249\", \"1098\"], \"y\": [2027.0, 1900.0, 1064.0, 901.0, 1115.0, 1219.0, 1115.0, 1058.0, 1133.0, 1199.0, 1249.0, 1098.0], \"x\": [1.0, 2.0, 3.0, 4.0, 5.0, 6.0, 7.0, 8.0, 9.0, 10.0, 11.0, 12.0], \"type\": \"bar\", \"uid\": \"a73ef6ba-a722-11e8-9fa6-0800275aa47c\"}, {\"name\": \"Monthly Mean Max Temp\", \"yaxis\": \"y2\", \"mode\": \"lines\", \"xaxis\": \"x2\", \"y\": [-7.848387096774193, -11.12857142857143, -0.05483870967741936, 11.893333333333333, 22.822580645161292, 22.996666666666666, 27.022580645161288, 25.712903225806446, 24.13333333333333, 12.761290322580642, 9.07666666666667, 4.906451612903226], \"x\": [1.0, 2.0, 3.0, 4.0, 5.0, 6.0, 7.0, 8.0, 9.0, 10.0, 11.0, 12.0], \"type\": \"scatter\", \"uid\": \"a73ef994-a722-11e8-9fa6-0800275aa47c\"}, {\"uid\": \"a73efb2e-a722-11e8-9fa6-0800275aa47c\", \"yaxis\": \"y2\", \"mode\": \"lines\", \"xaxis\": \"x2\", \"y\": [-17.635483870967743, -20.41785714285714, -9.332258064516129, 1.1033333333333333, 9.832258064516127, 12.486666666666668, 16.019354838709678, 14.893548387096772, 12.866666666666667, 3.2000000000000006, 0.8000000000000002, -1.2096774193548387], \"x\": [1.0, 2.0, 3.0, 4.0, 5.0, 6.0, 7.0, 8.0, 9.0, 10.0, 11.0, 12.0], \"fill\": \"tonexty\", \"type\": \"scatter\", \"name\": \"Monthly Mean Min Temp\"}], {\"yaxis2\": {\"domain\": [0.55, 1.0], \"autorange\": \"reversed\", \"dtick\": 5, \"title\": \"Temp (\\u00b0C)\"}, \"title\": \"Temperature Analysis (2015)\", \"xaxis2\": {\"anchor\": \"y2\", \"dtick\": 1}, \"xaxis\": {\"dtick\": 1, \"title\": \"Month\"}, \"yaxis\": {\"domain\": [0, 0.5], \"dtick\": 500, \"title\": \"# of Collisions\"}}, {\"linkText\": \"Export to plot.ly\", \"showLink\": true})});</script>"
      ]
     },
     "metadata": {},
     "output_type": "display_data"
    },
    {
     "data": {
      "application/vnd.plotly.v1+json": {
       "data": [
        {
         "name": "Number of Collisions",
         "opacity": 0.6,
         "text": [
          "1407",
          "1523",
          "1018",
          "944",
          "1109",
          "1135",
          "1035",
          "976",
          "1073",
          "1111",
          "1155",
          "1537"
         ],
         "textposition": "auto",
         "type": "bar",
         "uid": "a74ddd88-a722-11e8-9fa6-0800275aa47c",
         "x": [
          1,
          2,
          3,
          4,
          5,
          6,
          7,
          8,
          9,
          10,
          11,
          12
         ],
         "y": [
          1407,
          1523,
          1018,
          944,
          1109,
          1135,
          1035,
          976,
          1073,
          1111,
          1155,
          1537
         ]
        },
        {
         "mode": "lines",
         "name": "Monthly Mean Max Temp",
         "type": "scatter",
         "uid": "a74de062-a722-11e8-9fa6-0800275aa47c",
         "x": [
          1,
          2,
          3,
          4,
          5,
          6,
          7,
          8,
          9,
          10,
          11,
          12
         ],
         "xaxis": "x2",
         "y": [
          -3.1064516129032262,
          -3.168965517241379,
          3.8290322580645166,
          9.2,
          20.919354838709676,
          24.966666666666665,
          27.370967741935484,
          28.080645161290324,
          22.916666666666668,
          13.725806451612904,
          7.35,
          -1.1129032258064515
         ],
         "yaxis": "y2"
        },
        {
         "fill": "tonexty",
         "mode": "lines",
         "name": "Monthly Mean Min Temp",
         "type": "scatter",
         "uid": "a74de1fc-a722-11e8-9fa6-0800275aa47c",
         "x": [
          1,
          2,
          3,
          4,
          5,
          6,
          7,
          8,
          9,
          10,
          11,
          12
         ],
         "xaxis": "x2",
         "y": [
          -11.838709677419356,
          -12.320689655172414,
          -5.432258064516129,
          -1.4833333333333334,
          8.580645161290322,
          12.716666666666667,
          15.838709677419354,
          16.43548387096774,
          11.1,
          4.951612903225806,
          0.11666666666666667,
          -8.564516129032258
         ],
         "yaxis": "y2"
        }
       ],
       "layout": {
        "title": "Temperature Analysis (2016)",
        "xaxis": {
         "dtick": 1,
         "title": "Month"
        },
        "xaxis2": {
         "anchor": "y2",
         "dtick": 1
        },
        "yaxis": {
         "domain": [
          0,
          0.5
         ],
         "dtick": 500,
         "title": "# of Collisions"
        },
        "yaxis2": {
         "autorange": "reversed",
         "domain": [
          0.55,
          1
         ],
         "dtick": 5,
         "title": "Temp (°C)"
        }
       }
      },
      "text/html": [
       "<div id=\"e881e3f4-d0db-4c48-9d47-d068b58a6754\" style=\"height: 525px; width: 100%;\" class=\"plotly-graph-div\"></div><script type=\"text/javascript\">require([\"plotly\"], function(Plotly) { window.PLOTLYENV=window.PLOTLYENV || {};window.PLOTLYENV.BASE_URL=\"https://plot.ly\";Plotly.newPlot(\"e881e3f4-d0db-4c48-9d47-d068b58a6754\", [{\"opacity\": 0.6, \"textposition\": \"auto\", \"name\": \"Number of Collisions\", \"text\": [\"1407\", \"1523\", \"1018\", \"944\", \"1109\", \"1135\", \"1035\", \"976\", \"1073\", \"1111\", \"1155\", \"1537\"], \"y\": [1407.0, 1523.0, 1018.0, 944.0, 1109.0, 1135.0, 1035.0, 976.0, 1073.0, 1111.0, 1155.0, 1537.0], \"x\": [1.0, 2.0, 3.0, 4.0, 5.0, 6.0, 7.0, 8.0, 9.0, 10.0, 11.0, 12.0], \"type\": \"bar\", \"uid\": \"a752ca0a-a722-11e8-9fa6-0800275aa47c\"}, {\"name\": \"Monthly Mean Max Temp\", \"yaxis\": \"y2\", \"mode\": \"lines\", \"xaxis\": \"x2\", \"y\": [-3.1064516129032262, -3.168965517241379, 3.8290322580645166, 9.2, 20.919354838709676, 24.966666666666665, 27.370967741935484, 28.080645161290324, 22.916666666666668, 13.725806451612904, 7.35, -1.1129032258064515], \"x\": [1.0, 2.0, 3.0, 4.0, 5.0, 6.0, 7.0, 8.0, 9.0, 10.0, 11.0, 12.0], \"type\": \"scatter\", \"uid\": \"a752ccb2-a722-11e8-9fa6-0800275aa47c\"}, {\"uid\": \"a752ce2e-a722-11e8-9fa6-0800275aa47c\", \"yaxis\": \"y2\", \"mode\": \"lines\", \"xaxis\": \"x2\", \"y\": [-11.838709677419356, -12.320689655172414, -5.432258064516129, -1.4833333333333334, 8.580645161290322, 12.716666666666667, 15.838709677419354, 16.43548387096774, 11.1, 4.951612903225806, 0.11666666666666667, -8.564516129032258], \"x\": [1.0, 2.0, 3.0, 4.0, 5.0, 6.0, 7.0, 8.0, 9.0, 10.0, 11.0, 12.0], \"fill\": \"tonexty\", \"type\": \"scatter\", \"name\": \"Monthly Mean Min Temp\"}], {\"yaxis2\": {\"domain\": [0.55, 1.0], \"autorange\": \"reversed\", \"dtick\": 5, \"title\": \"Temp (\\u00b0C)\"}, \"title\": \"Temperature Analysis (2016)\", \"xaxis2\": {\"anchor\": \"y2\", \"dtick\": 1}, \"xaxis\": {\"dtick\": 1, \"title\": \"Month\"}, \"yaxis\": {\"domain\": [0, 0.5], \"dtick\": 500, \"title\": \"# of Collisions\"}}, {\"linkText\": \"Export to plot.ly\", \"showLink\": true})});</script>"
      ],
      "text/vnd.plotly.v1+html": [
       "<div id=\"e881e3f4-d0db-4c48-9d47-d068b58a6754\" style=\"height: 525px; width: 100%;\" class=\"plotly-graph-div\"></div><script type=\"text/javascript\">require([\"plotly\"], function(Plotly) { window.PLOTLYENV=window.PLOTLYENV || {};window.PLOTLYENV.BASE_URL=\"https://plot.ly\";Plotly.newPlot(\"e881e3f4-d0db-4c48-9d47-d068b58a6754\", [{\"opacity\": 0.6, \"textposition\": \"auto\", \"name\": \"Number of Collisions\", \"text\": [\"1407\", \"1523\", \"1018\", \"944\", \"1109\", \"1135\", \"1035\", \"976\", \"1073\", \"1111\", \"1155\", \"1537\"], \"y\": [1407.0, 1523.0, 1018.0, 944.0, 1109.0, 1135.0, 1035.0, 976.0, 1073.0, 1111.0, 1155.0, 1537.0], \"x\": [1.0, 2.0, 3.0, 4.0, 5.0, 6.0, 7.0, 8.0, 9.0, 10.0, 11.0, 12.0], \"type\": \"bar\", \"uid\": \"a752ca0a-a722-11e8-9fa6-0800275aa47c\"}, {\"name\": \"Monthly Mean Max Temp\", \"yaxis\": \"y2\", \"mode\": \"lines\", \"xaxis\": \"x2\", \"y\": [-3.1064516129032262, -3.168965517241379, 3.8290322580645166, 9.2, 20.919354838709676, 24.966666666666665, 27.370967741935484, 28.080645161290324, 22.916666666666668, 13.725806451612904, 7.35, -1.1129032258064515], \"x\": [1.0, 2.0, 3.0, 4.0, 5.0, 6.0, 7.0, 8.0, 9.0, 10.0, 11.0, 12.0], \"type\": \"scatter\", \"uid\": \"a752ccb2-a722-11e8-9fa6-0800275aa47c\"}, {\"uid\": \"a752ce2e-a722-11e8-9fa6-0800275aa47c\", \"yaxis\": \"y2\", \"mode\": \"lines\", \"xaxis\": \"x2\", \"y\": [-11.838709677419356, -12.320689655172414, -5.432258064516129, -1.4833333333333334, 8.580645161290322, 12.716666666666667, 15.838709677419354, 16.43548387096774, 11.1, 4.951612903225806, 0.11666666666666667, -8.564516129032258], \"x\": [1.0, 2.0, 3.0, 4.0, 5.0, 6.0, 7.0, 8.0, 9.0, 10.0, 11.0, 12.0], \"fill\": \"tonexty\", \"type\": \"scatter\", \"name\": \"Monthly Mean Min Temp\"}], {\"yaxis2\": {\"domain\": [0.55, 1.0], \"autorange\": \"reversed\", \"dtick\": 5, \"title\": \"Temp (\\u00b0C)\"}, \"title\": \"Temperature Analysis (2016)\", \"xaxis2\": {\"anchor\": \"y2\", \"dtick\": 1}, \"xaxis\": {\"dtick\": 1, \"title\": \"Month\"}, \"yaxis\": {\"domain\": [0, 0.5], \"dtick\": 500, \"title\": \"# of Collisions\"}}, {\"linkText\": \"Export to plot.ly\", \"showLink\": true})});</script>"
      ]
     },
     "metadata": {},
     "output_type": "display_data"
    },
    {
     "data": {
      "application/vnd.plotly.v1+json": {
       "data": [
        {
         "name": "Number of Collisions",
         "opacity": 0.6,
         "text": [
          "1275",
          "1279",
          "1224",
          "913",
          "1084",
          "1095",
          "971",
          "990",
          "1176",
          "1139",
          "1493",
          "1755"
         ],
         "textposition": "auto",
         "type": "bar",
         "uid": "a76136f8-a722-11e8-9fa6-0800275aa47c",
         "x": [
          1,
          2,
          3,
          4,
          5,
          6,
          7,
          8,
          9,
          10,
          11,
          12
         ],
         "y": [
          1275,
          1279,
          1224,
          913,
          1084,
          1095,
          971,
          990,
          1176,
          1139,
          1493,
          1755
         ]
        },
        {
         "mode": "lines",
         "name": "Monthly Mean Max Temp",
         "type": "scatter",
         "uid": "a7613a9a-a722-11e8-9fa6-0800275aa47c",
         "x": [
          1,
          2,
          3,
          4,
          5,
          6,
          7,
          8,
          9,
          10,
          11,
          12
         ],
         "xaxis": "x2",
         "y": [
          -1.6935483870967742,
          -0.6785714285714286,
          -0.9516129032258065,
          12.083333333333334,
          17.419354838709676,
          23.166666666666668,
          25.306451612903224,
          24.306451612903224,
          23.6,
          17.532258064516128,
          4.716666666666667,
          -6.041935483870968
         ],
         "yaxis": "y2"
        },
        {
         "fill": "tonexty",
         "mode": "lines",
         "name": "Monthly Mean Min Temp",
         "type": "scatter",
         "uid": "a7613c66-a722-11e8-9fa6-0800275aa47c",
         "x": [
          1,
          2,
          3,
          4,
          5,
          6,
          7,
          8,
          9,
          10,
          11,
          12
         ],
         "xaxis": "x2",
         "y": [
          -9.096774193548388,
          -8.839285714285714,
          -9.048387096774194,
          3.3,
          8.258064516129032,
          13.966666666666667,
          15.725806451612904,
          14.387096774193548,
          12.133333333333333,
          7.516129032258065,
          -2.55,
          -12.367741935483872
         ],
         "yaxis": "y2"
        }
       ],
       "layout": {
        "title": "Temperature Analysis (2017)",
        "xaxis": {
         "dtick": 1,
         "title": "Month"
        },
        "xaxis2": {
         "anchor": "y2",
         "dtick": 1
        },
        "yaxis": {
         "domain": [
          0,
          0.5
         ],
         "dtick": 500,
         "title": "# of Collisions"
        },
        "yaxis2": {
         "autorange": "reversed",
         "domain": [
          0.55,
          1
         ],
         "dtick": 5,
         "title": "Temp (°C)"
        }
       }
      },
      "text/html": [
       "<div id=\"3895d2cc-cb0a-44c6-8f9f-9e40b523ea2b\" style=\"height: 525px; width: 100%;\" class=\"plotly-graph-div\"></div><script type=\"text/javascript\">require([\"plotly\"], function(Plotly) { window.PLOTLYENV=window.PLOTLYENV || {};window.PLOTLYENV.BASE_URL=\"https://plot.ly\";Plotly.newPlot(\"3895d2cc-cb0a-44c6-8f9f-9e40b523ea2b\", [{\"opacity\": 0.6, \"textposition\": \"auto\", \"name\": \"Number of Collisions\", \"text\": [\"1275\", \"1279\", \"1224\", \"913\", \"1084\", \"1095\", \"971\", \"990\", \"1176\", \"1139\", \"1493\", \"1755\"], \"y\": [1275.0, 1279.0, 1224.0, 913.0, 1084.0, 1095.0, 971.0, 990.0, 1176.0, 1139.0, 1493.0, 1755.0], \"x\": [1.0, 2.0, 3.0, 4.0, 5.0, 6.0, 7.0, 8.0, 9.0, 10.0, 11.0, 12.0], \"type\": \"bar\", \"uid\": \"a766726c-a722-11e8-9fa6-0800275aa47c\"}, {\"name\": \"Monthly Mean Max Temp\", \"yaxis\": \"y2\", \"mode\": \"lines\", \"xaxis\": \"x2\", \"y\": [-1.6935483870967742, -0.6785714285714286, -0.9516129032258065, 12.083333333333334, 17.419354838709676, 23.166666666666668, 25.306451612903224, 24.306451612903224, 23.6, 17.532258064516128, 4.716666666666667, -6.041935483870968], \"x\": [1.0, 2.0, 3.0, 4.0, 5.0, 6.0, 7.0, 8.0, 9.0, 10.0, 11.0, 12.0], \"type\": \"scatter\", \"uid\": \"a7667528-a722-11e8-9fa6-0800275aa47c\"}, {\"uid\": \"a76676b8-a722-11e8-9fa6-0800275aa47c\", \"yaxis\": \"y2\", \"mode\": \"lines\", \"xaxis\": \"x2\", \"y\": [-9.096774193548388, -8.839285714285714, -9.048387096774194, 3.3, 8.258064516129032, 13.966666666666667, 15.725806451612904, 14.387096774193548, 12.133333333333333, 7.516129032258065, -2.55, -12.367741935483872], \"x\": [1.0, 2.0, 3.0, 4.0, 5.0, 6.0, 7.0, 8.0, 9.0, 10.0, 11.0, 12.0], \"fill\": \"tonexty\", \"type\": \"scatter\", \"name\": \"Monthly Mean Min Temp\"}], {\"yaxis2\": {\"domain\": [0.55, 1.0], \"autorange\": \"reversed\", \"dtick\": 5, \"title\": \"Temp (\\u00b0C)\"}, \"title\": \"Temperature Analysis (2017)\", \"xaxis2\": {\"anchor\": \"y2\", \"dtick\": 1}, \"xaxis\": {\"dtick\": 1, \"title\": \"Month\"}, \"yaxis\": {\"domain\": [0, 0.5], \"dtick\": 500, \"title\": \"# of Collisions\"}}, {\"linkText\": \"Export to plot.ly\", \"showLink\": true})});</script>"
      ],
      "text/vnd.plotly.v1+html": [
       "<div id=\"3895d2cc-cb0a-44c6-8f9f-9e40b523ea2b\" style=\"height: 525px; width: 100%;\" class=\"plotly-graph-div\"></div><script type=\"text/javascript\">require([\"plotly\"], function(Plotly) { window.PLOTLYENV=window.PLOTLYENV || {};window.PLOTLYENV.BASE_URL=\"https://plot.ly\";Plotly.newPlot(\"3895d2cc-cb0a-44c6-8f9f-9e40b523ea2b\", [{\"opacity\": 0.6, \"textposition\": \"auto\", \"name\": \"Number of Collisions\", \"text\": [\"1275\", \"1279\", \"1224\", \"913\", \"1084\", \"1095\", \"971\", \"990\", \"1176\", \"1139\", \"1493\", \"1755\"], \"y\": [1275.0, 1279.0, 1224.0, 913.0, 1084.0, 1095.0, 971.0, 990.0, 1176.0, 1139.0, 1493.0, 1755.0], \"x\": [1.0, 2.0, 3.0, 4.0, 5.0, 6.0, 7.0, 8.0, 9.0, 10.0, 11.0, 12.0], \"type\": \"bar\", \"uid\": \"a766726c-a722-11e8-9fa6-0800275aa47c\"}, {\"name\": \"Monthly Mean Max Temp\", \"yaxis\": \"y2\", \"mode\": \"lines\", \"xaxis\": \"x2\", \"y\": [-1.6935483870967742, -0.6785714285714286, -0.9516129032258065, 12.083333333333334, 17.419354838709676, 23.166666666666668, 25.306451612903224, 24.306451612903224, 23.6, 17.532258064516128, 4.716666666666667, -6.041935483870968], \"x\": [1.0, 2.0, 3.0, 4.0, 5.0, 6.0, 7.0, 8.0, 9.0, 10.0, 11.0, 12.0], \"type\": \"scatter\", \"uid\": \"a7667528-a722-11e8-9fa6-0800275aa47c\"}, {\"uid\": \"a76676b8-a722-11e8-9fa6-0800275aa47c\", \"yaxis\": \"y2\", \"mode\": \"lines\", \"xaxis\": \"x2\", \"y\": [-9.096774193548388, -8.839285714285714, -9.048387096774194, 3.3, 8.258064516129032, 13.966666666666667, 15.725806451612904, 14.387096774193548, 12.133333333333333, 7.516129032258065, -2.55, -12.367741935483872], \"x\": [1.0, 2.0, 3.0, 4.0, 5.0, 6.0, 7.0, 8.0, 9.0, 10.0, 11.0, 12.0], \"fill\": \"tonexty\", \"type\": \"scatter\", \"name\": \"Monthly Mean Min Temp\"}], {\"yaxis2\": {\"domain\": [0.55, 1.0], \"autorange\": \"reversed\", \"dtick\": 5, \"title\": \"Temp (\\u00b0C)\"}, \"title\": \"Temperature Analysis (2017)\", \"xaxis2\": {\"anchor\": \"y2\", \"dtick\": 1}, \"xaxis\": {\"dtick\": 1, \"title\": \"Month\"}, \"yaxis\": {\"domain\": [0, 0.5], \"dtick\": 500, \"title\": \"# of Collisions\"}}, {\"linkText\": \"Export to plot.ly\", \"showLink\": true})});</script>"
      ]
     },
     "metadata": {},
     "output_type": "display_data"
    },
    {
     "name": "stdout",
     "output_type": "stream",
     "text": [
      "The correlation between number of collisions and mean temperature: \n",
      "all months = -0.7044\n",
      "In each month: \n",
      "\n",
      "January = -0.9936\n",
      "February = -0.9209\n",
      "March = -0.7807\n",
      "April = -0.8263\n",
      "May = 0.9109\n",
      "June = -0.4081\n",
      "July = -0.0211\n",
      "August = -0.5915\n",
      "September = 0.3481\n",
      "October = -0.1837\n",
      "November = -0.7828\n",
      "December = -0.9908\n"
     ]
    }
   ],
   "source": [
    "df_avg = wt1417.groupby([\"Year\",\"Month\"]).mean()\n",
    "df_avg[\"Year\"] = [x[0] for x in df_avg.index]\n",
    "df_avg[\"Month\"] = [x[1] for x in df_avg.index]\n",
    "\n",
    "df_sum = wt1417.groupby([\"Year\",\"Month\"]).sum()\n",
    "df_sum[\"Year\"] = [x[0] for x in df_sum.index]\n",
    "df_sum[\"Month\"] = [x[1] for x in df_sum.index]\n",
    "\n",
    "def printTemInYear(n):\n",
    "    monthCase = go.Bar(x = df_sum[df_sum[\"Year\"]==n][\"Month\"],\n",
    "                       y = df_sum[df_sum[\"Year\"]==n][\"Number of Collisions\"],\n",
    "                       text = df_sum[df_sum[\"Year\"]==n][\"Number of Collisions\"],\n",
    "                       textposition = 'auto',\n",
    "                       opacity = 0.6,\n",
    "                       name = 'Number of Collisions')\n",
    "    max_temp = go.Scatter(x = df_avg[df_avg[\"Year\"]==n][\"Month\"],\n",
    "                         y = df_avg[df_avg[\"Year\"]==n][\"Max Temp (°C)\"],\n",
    "                         mode = 'lines',\n",
    "                         name = 'Monthly Mean Max Temp',\n",
    "                         xaxis = 'x2', \n",
    "                         yaxis = 'y2')\n",
    "    min_temp = go.Scatter(x = df_avg[df_avg[\"Year\"]==n][\"Month\"],\n",
    "                         y = df_avg[df_avg[\"Year\"]==n][\"Min Temp (°C)\"],\n",
    "                         mode = 'lines',\n",
    "                         name = 'Monthly Mean Min Temp',\n",
    "                         fill = 'tonexty', \n",
    "                         xaxis = 'x2', \n",
    "                         yaxis = 'y2')\n",
    "    fig = dict(data = [monthCase, max_temp,min_temp], \n",
    "               layout = go.Layout(title = \"Temperature Analysis (\" + str(n) + \")\",\n",
    "                                  xaxis = dict(title='Month', dtick=1),\n",
    "                                  yaxis = dict(title='# of Collisions', dtick=500, domain = [0,0.5]),\n",
    "                                  yaxis2 = dict(title='Temp (°C)', dtick=5, domain = [0.55,1.0],autorange='reversed'),\n",
    "                                  xaxis2 = dict(dtick=1, anchor = 'y2')\n",
    "                                 )\n",
    "              )\n",
    "    iplot(fig)\n",
    "    \n",
    "for m in range(2014,2018):\n",
    "    printTemInYear(m)\n",
    "    \n",
    "print(\"The correlation between number of collisions and mean temperature: \\n\" \n",
    "      + \"all months = %.4f\" % df_avg[\"Number of Collisions\"].corr(df_avg[\"Mean Temp (°C)\"]) + \"\\n\" \n",
    "      + \"In each month: \" + \"\\n\")\n",
    "\n",
    "def corrInMonth(l):\n",
    "      s = {\n",
    "        1: 'January',\n",
    "        2: 'February',\n",
    "        3: 'March',\n",
    "        4: 'April',\n",
    "        5: 'May',\n",
    "        6: 'June',\n",
    "        7: 'July',\n",
    "        8: 'August',\n",
    "        9: 'September',\n",
    "       10: 'October',\n",
    "       11: 'November',\n",
    "       12: 'December'\n",
    "      }[l]\n",
    "      print(s + \" = %.4f\" % df_avg[df_avg[\"Month\"] == l][\"Number of Collisions\"].corr(df_avg[\"Mean Temp (°C)\"]))\n",
    "        \n",
    "for f in range(1,13):\n",
    "    corrInMonth(f)"
   ]
  },
  {
   "cell_type": "markdown",
   "metadata": {},
   "source": [
    "**Brief Conclusion:**\n",
    "* The number of collisions in winter is always higher than other months in a year. \n",
    "* The correlation between the number of collisions and month becomes extremely low in winter. \n",
    "\n",
    "**Hypothesis:**\n",
    "* Extreme low temperature leads to vehicle collisions, such as vehicle faults and several weathers that are related to low temperature. "
   ]
  },
  {
   "cell_type": "code",
   "execution_count": 10,
   "metadata": {},
   "outputs": [
    {
     "data": {
      "application/vnd.plotly.v1+json": {
       "data": [
        {
         "name": "Number of Collisions",
         "opacity": 0.6,
         "text": [
          "1790",
          "1349",
          "1190",
          "936",
          "1093",
          "1166",
          "1115",
          "1094",
          "1126",
          "1260",
          "1340",
          "1384"
         ],
         "textposition": "auto",
         "type": "bar",
         "uid": "a78248ac-a722-11e8-9fa6-0800275aa47c",
         "x": [
          1,
          2,
          3,
          4,
          5,
          6,
          7,
          8,
          9,
          10,
          11,
          12
         ],
         "y": [
          1790,
          1349,
          1190,
          936,
          1093,
          1166,
          1115,
          1094,
          1126,
          1260,
          1340,
          1384
         ]
        },
        {
         "mode": "lines",
         "name": "Monthly Total Rain",
         "type": "scatter",
         "uid": "a7824b4a-a722-11e8-9fa6-0800275aa47c",
         "x": [
          1,
          2,
          3,
          4,
          5,
          6,
          7,
          8,
          9,
          10,
          11,
          12
         ],
         "xaxis": "x2",
         "y": [
          17.5,
          26.5,
          16.2,
          98.3,
          75.10000000000001,
          156.2,
          85.60000000000001,
          104.3,
          97.10000000000002,
          64.8,
          27.8,
          22.5
         ],
         "yaxis": "y2"
        }
       ],
       "layout": {
        "title": "Rain Analysis (2014)",
        "xaxis": {
         "dtick": 1,
         "title": "Month"
        },
        "xaxis2": {
         "anchor": "y2",
         "dtick": 1
        },
        "yaxis": {
         "domain": [
          0,
          0.5
         ],
         "dtick": 500,
         "title": "# of Collisions"
        },
        "yaxis2": {
         "domain": [
          0.55,
          1
         ],
         "title": "Total Rain (mm)"
        }
       }
      },
      "text/html": [
       "<div id=\"a3bde86a-6963-44b6-a43e-021b37176262\" style=\"height: 525px; width: 100%;\" class=\"plotly-graph-div\"></div><script type=\"text/javascript\">require([\"plotly\"], function(Plotly) { window.PLOTLYENV=window.PLOTLYENV || {};window.PLOTLYENV.BASE_URL=\"https://plot.ly\";Plotly.newPlot(\"a3bde86a-6963-44b6-a43e-021b37176262\", [{\"opacity\": 0.6, \"textposition\": \"auto\", \"name\": \"Number of Collisions\", \"text\": [\"1790\", \"1349\", \"1190\", \"936\", \"1093\", \"1166\", \"1115\", \"1094\", \"1126\", \"1260\", \"1340\", \"1384\"], \"y\": [1790.0, 1349.0, 1190.0, 936.0, 1093.0, 1166.0, 1115.0, 1094.0, 1126.0, 1260.0, 1340.0, 1384.0], \"x\": [1.0, 2.0, 3.0, 4.0, 5.0, 6.0, 7.0, 8.0, 9.0, 10.0, 11.0, 12.0], \"type\": \"bar\", \"uid\": \"a78714ae-a722-11e8-9fa6-0800275aa47c\"}, {\"name\": \"Monthly Total Rain\", \"yaxis\": \"y2\", \"mode\": \"lines\", \"xaxis\": \"x2\", \"y\": [17.5, 26.5, 16.2, 98.3, 75.10000000000001, 156.2, 85.60000000000001, 104.3, 97.10000000000002, 64.8, 27.8, 22.5], \"x\": [1.0, 2.0, 3.0, 4.0, 5.0, 6.0, 7.0, 8.0, 9.0, 10.0, 11.0, 12.0], \"type\": \"scatter\", \"uid\": \"a787185a-a722-11e8-9fa6-0800275aa47c\"}], {\"yaxis2\": {\"domain\": [0.55, 1.0], \"title\": \"Total Rain (mm)\"}, \"title\": \"Rain Analysis (2014)\", \"xaxis2\": {\"anchor\": \"y2\", \"dtick\": 1}, \"xaxis\": {\"dtick\": 1, \"title\": \"Month\"}, \"yaxis\": {\"domain\": [0, 0.5], \"dtick\": 500, \"title\": \"# of Collisions\"}}, {\"linkText\": \"Export to plot.ly\", \"showLink\": true})});</script>"
      ],
      "text/vnd.plotly.v1+html": [
       "<div id=\"a3bde86a-6963-44b6-a43e-021b37176262\" style=\"height: 525px; width: 100%;\" class=\"plotly-graph-div\"></div><script type=\"text/javascript\">require([\"plotly\"], function(Plotly) { window.PLOTLYENV=window.PLOTLYENV || {};window.PLOTLYENV.BASE_URL=\"https://plot.ly\";Plotly.newPlot(\"a3bde86a-6963-44b6-a43e-021b37176262\", [{\"opacity\": 0.6, \"textposition\": \"auto\", \"name\": \"Number of Collisions\", \"text\": [\"1790\", \"1349\", \"1190\", \"936\", \"1093\", \"1166\", \"1115\", \"1094\", \"1126\", \"1260\", \"1340\", \"1384\"], \"y\": [1790.0, 1349.0, 1190.0, 936.0, 1093.0, 1166.0, 1115.0, 1094.0, 1126.0, 1260.0, 1340.0, 1384.0], \"x\": [1.0, 2.0, 3.0, 4.0, 5.0, 6.0, 7.0, 8.0, 9.0, 10.0, 11.0, 12.0], \"type\": \"bar\", \"uid\": \"a78714ae-a722-11e8-9fa6-0800275aa47c\"}, {\"name\": \"Monthly Total Rain\", \"yaxis\": \"y2\", \"mode\": \"lines\", \"xaxis\": \"x2\", \"y\": [17.5, 26.5, 16.2, 98.3, 75.10000000000001, 156.2, 85.60000000000001, 104.3, 97.10000000000002, 64.8, 27.8, 22.5], \"x\": [1.0, 2.0, 3.0, 4.0, 5.0, 6.0, 7.0, 8.0, 9.0, 10.0, 11.0, 12.0], \"type\": \"scatter\", \"uid\": \"a787185a-a722-11e8-9fa6-0800275aa47c\"}], {\"yaxis2\": {\"domain\": [0.55, 1.0], \"title\": \"Total Rain (mm)\"}, \"title\": \"Rain Analysis (2014)\", \"xaxis2\": {\"anchor\": \"y2\", \"dtick\": 1}, \"xaxis\": {\"dtick\": 1, \"title\": \"Month\"}, \"yaxis\": {\"domain\": [0, 0.5], \"dtick\": 500, \"title\": \"# of Collisions\"}}, {\"linkText\": \"Export to plot.ly\", \"showLink\": true})});</script>"
      ]
     },
     "metadata": {},
     "output_type": "display_data"
    },
    {
     "data": {
      "application/vnd.plotly.v1+json": {
       "data": [
        {
         "name": "Number of Collisions",
         "opacity": 0.6,
         "text": [
          "2027",
          "1900",
          "1064",
          "901",
          "1115",
          "1219",
          "1115",
          "1058",
          "1133",
          "1199",
          "1249",
          "1098"
         ],
         "textposition": "auto",
         "type": "bar",
         "uid": "a793593a-a722-11e8-9fa6-0800275aa47c",
         "x": [
          1,
          2,
          3,
          4,
          5,
          6,
          7,
          8,
          9,
          10,
          11,
          12
         ],
         "y": [
          2027,
          1900,
          1064,
          901,
          1115,
          1219,
          1115,
          1058,
          1133,
          1199,
          1249,
          1098
         ]
        },
        {
         "mode": "lines",
         "name": "Monthly Total Rain",
         "type": "scatter",
         "uid": "a7935bf6-a722-11e8-9fa6-0800275aa47c",
         "x": [
          1,
          2,
          3,
          4,
          5,
          6,
          7,
          8,
          9,
          10,
          11,
          12
         ],
         "xaxis": "x2",
         "y": [
          10.7,
          0,
          8.1,
          57.900000000000006,
          65,
          107.99999999999999,
          63.10000000000001,
          76.49999999999999,
          96.6,
          83.99999999999999,
          32.4,
          61.5
         ],
         "yaxis": "y2"
        }
       ],
       "layout": {
        "title": "Rain Analysis (2015)",
        "xaxis": {
         "dtick": 1,
         "title": "Month"
        },
        "xaxis2": {
         "anchor": "y2",
         "dtick": 1
        },
        "yaxis": {
         "domain": [
          0,
          0.5
         ],
         "dtick": 500,
         "title": "# of Collisions"
        },
        "yaxis2": {
         "domain": [
          0.55,
          1
         ],
         "title": "Total Rain (mm)"
        }
       }
      },
      "text/html": [
       "<div id=\"ac0f9048-d62d-4877-95f3-79c339aa3461\" style=\"height: 525px; width: 100%;\" class=\"plotly-graph-div\"></div><script type=\"text/javascript\">require([\"plotly\"], function(Plotly) { window.PLOTLYENV=window.PLOTLYENV || {};window.PLOTLYENV.BASE_URL=\"https://plot.ly\";Plotly.newPlot(\"ac0f9048-d62d-4877-95f3-79c339aa3461\", [{\"opacity\": 0.6, \"textposition\": \"auto\", \"name\": \"Number of Collisions\", \"text\": [\"2027\", \"1900\", \"1064\", \"901\", \"1115\", \"1219\", \"1115\", \"1058\", \"1133\", \"1199\", \"1249\", \"1098\"], \"y\": [2027.0, 1900.0, 1064.0, 901.0, 1115.0, 1219.0, 1115.0, 1058.0, 1133.0, 1199.0, 1249.0, 1098.0], \"x\": [1.0, 2.0, 3.0, 4.0, 5.0, 6.0, 7.0, 8.0, 9.0, 10.0, 11.0, 12.0], \"type\": \"bar\", \"uid\": \"a79889e6-a722-11e8-9fa6-0800275aa47c\"}, {\"name\": \"Monthly Total Rain\", \"yaxis\": \"y2\", \"mode\": \"lines\", \"xaxis\": \"x2\", \"y\": [10.7, 0.0, 8.1, 57.900000000000006, 65.0, 107.99999999999999, 63.10000000000001, 76.49999999999999, 96.6, 83.99999999999999, 32.4, 61.5], \"x\": [1.0, 2.0, 3.0, 4.0, 5.0, 6.0, 7.0, 8.0, 9.0, 10.0, 11.0, 12.0], \"type\": \"scatter\", \"uid\": \"a7988c84-a722-11e8-9fa6-0800275aa47c\"}], {\"yaxis2\": {\"domain\": [0.55, 1.0], \"title\": \"Total Rain (mm)\"}, \"title\": \"Rain Analysis (2015)\", \"xaxis2\": {\"anchor\": \"y2\", \"dtick\": 1}, \"xaxis\": {\"dtick\": 1, \"title\": \"Month\"}, \"yaxis\": {\"domain\": [0, 0.5], \"dtick\": 500, \"title\": \"# of Collisions\"}}, {\"linkText\": \"Export to plot.ly\", \"showLink\": true})});</script>"
      ],
      "text/vnd.plotly.v1+html": [
       "<div id=\"ac0f9048-d62d-4877-95f3-79c339aa3461\" style=\"height: 525px; width: 100%;\" class=\"plotly-graph-div\"></div><script type=\"text/javascript\">require([\"plotly\"], function(Plotly) { window.PLOTLYENV=window.PLOTLYENV || {};window.PLOTLYENV.BASE_URL=\"https://plot.ly\";Plotly.newPlot(\"ac0f9048-d62d-4877-95f3-79c339aa3461\", [{\"opacity\": 0.6, \"textposition\": \"auto\", \"name\": \"Number of Collisions\", \"text\": [\"2027\", \"1900\", \"1064\", \"901\", \"1115\", \"1219\", \"1115\", \"1058\", \"1133\", \"1199\", \"1249\", \"1098\"], \"y\": [2027.0, 1900.0, 1064.0, 901.0, 1115.0, 1219.0, 1115.0, 1058.0, 1133.0, 1199.0, 1249.0, 1098.0], \"x\": [1.0, 2.0, 3.0, 4.0, 5.0, 6.0, 7.0, 8.0, 9.0, 10.0, 11.0, 12.0], \"type\": \"bar\", \"uid\": \"a79889e6-a722-11e8-9fa6-0800275aa47c\"}, {\"name\": \"Monthly Total Rain\", \"yaxis\": \"y2\", \"mode\": \"lines\", \"xaxis\": \"x2\", \"y\": [10.7, 0.0, 8.1, 57.900000000000006, 65.0, 107.99999999999999, 63.10000000000001, 76.49999999999999, 96.6, 83.99999999999999, 32.4, 61.5], \"x\": [1.0, 2.0, 3.0, 4.0, 5.0, 6.0, 7.0, 8.0, 9.0, 10.0, 11.0, 12.0], \"type\": \"scatter\", \"uid\": \"a7988c84-a722-11e8-9fa6-0800275aa47c\"}], {\"yaxis2\": {\"domain\": [0.55, 1.0], \"title\": \"Total Rain (mm)\"}, \"title\": \"Rain Analysis (2015)\", \"xaxis2\": {\"anchor\": \"y2\", \"dtick\": 1}, \"xaxis\": {\"dtick\": 1, \"title\": \"Month\"}, \"yaxis\": {\"domain\": [0, 0.5], \"dtick\": 500, \"title\": \"# of Collisions\"}}, {\"linkText\": \"Export to plot.ly\", \"showLink\": true})});</script>"
      ]
     },
     "metadata": {},
     "output_type": "display_data"
    },
    {
     "data": {
      "application/vnd.plotly.v1+json": {
       "data": [
        {
         "name": "Number of Collisions",
         "opacity": 0.6,
         "text": [
          "1407",
          "1523",
          "1018",
          "944",
          "1109",
          "1135",
          "1035",
          "976",
          "1073",
          "1111",
          "1155",
          "1537"
         ],
         "textposition": "auto",
         "type": "bar",
         "uid": "a7a43b88-a722-11e8-9fa6-0800275aa47c",
         "x": [
          1,
          2,
          3,
          4,
          5,
          6,
          7,
          8,
          9,
          10,
          11,
          12
         ],
         "y": [
          1407,
          1523,
          1018,
          944,
          1109,
          1135,
          1035,
          976,
          1073,
          1111,
          1155,
          1537
         ]
        },
        {
         "mode": "lines",
         "name": "Monthly Total Rain",
         "type": "scatter",
         "uid": "a7a43e6c-a722-11e8-9fa6-0800275aa47c",
         "x": [
          1,
          2,
          3,
          4,
          5,
          6,
          7,
          8,
          9,
          10,
          11,
          12
         ],
         "xaxis": "x2",
         "y": [
          28.400000000000002,
          41.4,
          78.5,
          20.8,
          26.4,
          56.60000000000001,
          100.8,
          122.4,
          76.60000000000001,
          91.19999999999999,
          47.3,
          15
         ],
         "yaxis": "y2"
        }
       ],
       "layout": {
        "title": "Rain Analysis (2016)",
        "xaxis": {
         "dtick": 1,
         "title": "Month"
        },
        "xaxis2": {
         "anchor": "y2",
         "dtick": 1
        },
        "yaxis": {
         "domain": [
          0,
          0.5
         ],
         "dtick": 500,
         "title": "# of Collisions"
        },
        "yaxis2": {
         "domain": [
          0.55,
          1
         ],
         "title": "Total Rain (mm)"
        }
       }
      },
      "text/html": [
       "<div id=\"008d00d0-2028-4ccc-b5d5-7de91247b387\" style=\"height: 525px; width: 100%;\" class=\"plotly-graph-div\"></div><script type=\"text/javascript\">require([\"plotly\"], function(Plotly) { window.PLOTLYENV=window.PLOTLYENV || {};window.PLOTLYENV.BASE_URL=\"https://plot.ly\";Plotly.newPlot(\"008d00d0-2028-4ccc-b5d5-7de91247b387\", [{\"opacity\": 0.6, \"textposition\": \"auto\", \"name\": \"Number of Collisions\", \"text\": [\"1407\", \"1523\", \"1018\", \"944\", \"1109\", \"1135\", \"1035\", \"976\", \"1073\", \"1111\", \"1155\", \"1537\"], \"y\": [1407.0, 1523.0, 1018.0, 944.0, 1109.0, 1135.0, 1035.0, 976.0, 1073.0, 1111.0, 1155.0, 1537.0], \"x\": [1.0, 2.0, 3.0, 4.0, 5.0, 6.0, 7.0, 8.0, 9.0, 10.0, 11.0, 12.0], \"type\": \"bar\", \"uid\": \"a7a98d7c-a722-11e8-9fa6-0800275aa47c\"}, {\"name\": \"Monthly Total Rain\", \"yaxis\": \"y2\", \"mode\": \"lines\", \"xaxis\": \"x2\", \"y\": [28.400000000000002, 41.4, 78.5, 20.8, 26.4, 56.60000000000001, 100.8, 122.4, 76.60000000000001, 91.19999999999999, 47.3, 15.0], \"x\": [1.0, 2.0, 3.0, 4.0, 5.0, 6.0, 7.0, 8.0, 9.0, 10.0, 11.0, 12.0], \"type\": \"scatter\", \"uid\": \"a7a99312-a722-11e8-9fa6-0800275aa47c\"}], {\"yaxis2\": {\"domain\": [0.55, 1.0], \"title\": \"Total Rain (mm)\"}, \"title\": \"Rain Analysis (2016)\", \"xaxis2\": {\"anchor\": \"y2\", \"dtick\": 1}, \"xaxis\": {\"dtick\": 1, \"title\": \"Month\"}, \"yaxis\": {\"domain\": [0, 0.5], \"dtick\": 500, \"title\": \"# of Collisions\"}}, {\"linkText\": \"Export to plot.ly\", \"showLink\": true})});</script>"
      ],
      "text/vnd.plotly.v1+html": [
       "<div id=\"008d00d0-2028-4ccc-b5d5-7de91247b387\" style=\"height: 525px; width: 100%;\" class=\"plotly-graph-div\"></div><script type=\"text/javascript\">require([\"plotly\"], function(Plotly) { window.PLOTLYENV=window.PLOTLYENV || {};window.PLOTLYENV.BASE_URL=\"https://plot.ly\";Plotly.newPlot(\"008d00d0-2028-4ccc-b5d5-7de91247b387\", [{\"opacity\": 0.6, \"textposition\": \"auto\", \"name\": \"Number of Collisions\", \"text\": [\"1407\", \"1523\", \"1018\", \"944\", \"1109\", \"1135\", \"1035\", \"976\", \"1073\", \"1111\", \"1155\", \"1537\"], \"y\": [1407.0, 1523.0, 1018.0, 944.0, 1109.0, 1135.0, 1035.0, 976.0, 1073.0, 1111.0, 1155.0, 1537.0], \"x\": [1.0, 2.0, 3.0, 4.0, 5.0, 6.0, 7.0, 8.0, 9.0, 10.0, 11.0, 12.0], \"type\": \"bar\", \"uid\": \"a7a98d7c-a722-11e8-9fa6-0800275aa47c\"}, {\"name\": \"Monthly Total Rain\", \"yaxis\": \"y2\", \"mode\": \"lines\", \"xaxis\": \"x2\", \"y\": [28.400000000000002, 41.4, 78.5, 20.8, 26.4, 56.60000000000001, 100.8, 122.4, 76.60000000000001, 91.19999999999999, 47.3, 15.0], \"x\": [1.0, 2.0, 3.0, 4.0, 5.0, 6.0, 7.0, 8.0, 9.0, 10.0, 11.0, 12.0], \"type\": \"scatter\", \"uid\": \"a7a99312-a722-11e8-9fa6-0800275aa47c\"}], {\"yaxis2\": {\"domain\": [0.55, 1.0], \"title\": \"Total Rain (mm)\"}, \"title\": \"Rain Analysis (2016)\", \"xaxis2\": {\"anchor\": \"y2\", \"dtick\": 1}, \"xaxis\": {\"dtick\": 1, \"title\": \"Month\"}, \"yaxis\": {\"domain\": [0, 0.5], \"dtick\": 500, \"title\": \"# of Collisions\"}}, {\"linkText\": \"Export to plot.ly\", \"showLink\": true})});</script>"
      ]
     },
     "metadata": {},
     "output_type": "display_data"
    },
    {
     "data": {
      "application/vnd.plotly.v1+json": {
       "data": [
        {
         "name": "Number of Collisions",
         "opacity": 0.6,
         "text": [
          "1275",
          "1279",
          "1224",
          "913",
          "1084",
          "1095",
          "971",
          "990",
          "1176",
          "1139",
          "1493",
          "1755"
         ],
         "textposition": "auto",
         "type": "bar",
         "uid": "a7c62ec8-a722-11e8-9fa6-0800275aa47c",
         "x": [
          1,
          2,
          3,
          4,
          5,
          6,
          7,
          8,
          9,
          10,
          11,
          12
         ],
         "y": [
          1275,
          1279,
          1224,
          913,
          1084,
          1095,
          971,
          990,
          1176,
          1139,
          1493,
          1755
         ]
        },
        {
         "mode": "lines",
         "name": "Monthly Total Rain",
         "type": "scatter",
         "uid": "a7c63224-a722-11e8-9fa6-0800275aa47c",
         "x": [
          1,
          2,
          3,
          4,
          5,
          6,
          7,
          8,
          9,
          10,
          11,
          12
         ],
         "xaxis": "x2",
         "y": [
          29.299999999999997,
          34,
          37.00000000000001,
          159,
          172.4,
          156.8,
          169.6,
          82.39999999999999,
          51.6,
          142.40000000000003,
          75.80000000000001,
          4.6000000000000005
         ],
         "yaxis": "y2"
        }
       ],
       "layout": {
        "title": "Rain Analysis (2017)",
        "xaxis": {
         "dtick": 1,
         "title": "Month"
        },
        "xaxis2": {
         "anchor": "y2",
         "dtick": 1
        },
        "yaxis": {
         "domain": [
          0,
          0.5
         ],
         "dtick": 500,
         "title": "# of Collisions"
        },
        "yaxis2": {
         "domain": [
          0.55,
          1
         ],
         "title": "Total Rain (mm)"
        }
       }
      },
      "text/html": [
       "<div id=\"626cbd3c-80e2-46a7-a89d-90434d854be5\" style=\"height: 525px; width: 100%;\" class=\"plotly-graph-div\"></div><script type=\"text/javascript\">require([\"plotly\"], function(Plotly) { window.PLOTLYENV=window.PLOTLYENV || {};window.PLOTLYENV.BASE_URL=\"https://plot.ly\";Plotly.newPlot(\"626cbd3c-80e2-46a7-a89d-90434d854be5\", [{\"opacity\": 0.6, \"textposition\": \"auto\", \"name\": \"Number of Collisions\", \"text\": [\"1275\", \"1279\", \"1224\", \"913\", \"1084\", \"1095\", \"971\", \"990\", \"1176\", \"1139\", \"1493\", \"1755\"], \"y\": [1275.0, 1279.0, 1224.0, 913.0, 1084.0, 1095.0, 971.0, 990.0, 1176.0, 1139.0, 1493.0, 1755.0], \"x\": [1.0, 2.0, 3.0, 4.0, 5.0, 6.0, 7.0, 8.0, 9.0, 10.0, 11.0, 12.0], \"type\": \"bar\", \"uid\": \"a7cc294a-a722-11e8-9fa6-0800275aa47c\"}, {\"name\": \"Monthly Total Rain\", \"yaxis\": \"y2\", \"mode\": \"lines\", \"xaxis\": \"x2\", \"y\": [29.299999999999997, 34.0, 37.00000000000001, 159.0, 172.4, 156.8, 169.6, 82.39999999999999, 51.6, 142.40000000000003, 75.80000000000001, 4.6000000000000005], \"x\": [1.0, 2.0, 3.0, 4.0, 5.0, 6.0, 7.0, 8.0, 9.0, 10.0, 11.0, 12.0], \"type\": \"scatter\", \"uid\": \"a7cc2d50-a722-11e8-9fa6-0800275aa47c\"}], {\"yaxis2\": {\"domain\": [0.55, 1.0], \"title\": \"Total Rain (mm)\"}, \"title\": \"Rain Analysis (2017)\", \"xaxis2\": {\"anchor\": \"y2\", \"dtick\": 1}, \"xaxis\": {\"dtick\": 1, \"title\": \"Month\"}, \"yaxis\": {\"domain\": [0, 0.5], \"dtick\": 500, \"title\": \"# of Collisions\"}}, {\"linkText\": \"Export to plot.ly\", \"showLink\": true})});</script>"
      ],
      "text/vnd.plotly.v1+html": [
       "<div id=\"626cbd3c-80e2-46a7-a89d-90434d854be5\" style=\"height: 525px; width: 100%;\" class=\"plotly-graph-div\"></div><script type=\"text/javascript\">require([\"plotly\"], function(Plotly) { window.PLOTLYENV=window.PLOTLYENV || {};window.PLOTLYENV.BASE_URL=\"https://plot.ly\";Plotly.newPlot(\"626cbd3c-80e2-46a7-a89d-90434d854be5\", [{\"opacity\": 0.6, \"textposition\": \"auto\", \"name\": \"Number of Collisions\", \"text\": [\"1275\", \"1279\", \"1224\", \"913\", \"1084\", \"1095\", \"971\", \"990\", \"1176\", \"1139\", \"1493\", \"1755\"], \"y\": [1275.0, 1279.0, 1224.0, 913.0, 1084.0, 1095.0, 971.0, 990.0, 1176.0, 1139.0, 1493.0, 1755.0], \"x\": [1.0, 2.0, 3.0, 4.0, 5.0, 6.0, 7.0, 8.0, 9.0, 10.0, 11.0, 12.0], \"type\": \"bar\", \"uid\": \"a7cc294a-a722-11e8-9fa6-0800275aa47c\"}, {\"name\": \"Monthly Total Rain\", \"yaxis\": \"y2\", \"mode\": \"lines\", \"xaxis\": \"x2\", \"y\": [29.299999999999997, 34.0, 37.00000000000001, 159.0, 172.4, 156.8, 169.6, 82.39999999999999, 51.6, 142.40000000000003, 75.80000000000001, 4.6000000000000005], \"x\": [1.0, 2.0, 3.0, 4.0, 5.0, 6.0, 7.0, 8.0, 9.0, 10.0, 11.0, 12.0], \"type\": \"scatter\", \"uid\": \"a7cc2d50-a722-11e8-9fa6-0800275aa47c\"}], {\"yaxis2\": {\"domain\": [0.55, 1.0], \"title\": \"Total Rain (mm)\"}, \"title\": \"Rain Analysis (2017)\", \"xaxis2\": {\"anchor\": \"y2\", \"dtick\": 1}, \"xaxis\": {\"dtick\": 1, \"title\": \"Month\"}, \"yaxis\": {\"domain\": [0, 0.5], \"dtick\": 500, \"title\": \"# of Collisions\"}}, {\"linkText\": \"Export to plot.ly\", \"showLink\": true})});</script>"
      ]
     },
     "metadata": {},
     "output_type": "display_data"
    }
   ],
   "source": [
    "df_avg = wt1417.groupby([\"Year\",\"Month\"]).mean()\n",
    "df_avg[\"Year\"] = [x[0] for x in df_avg.index]\n",
    "df_avg[\"Month\"] = [x[1] for x in df_avg.index]\n",
    "\n",
    "df_sum = wt1417.groupby([\"Year\",\"Month\"]).sum()\n",
    "df_sum[\"Year\"] = [x[0] for x in df_sum.index]\n",
    "df_sum[\"Month\"] = [x[1] for x in df_sum.index]\n",
    "\n",
    "def printRainInYear(n):\n",
    "    monthCase = go.Bar(x = df_sum[df_sum[\"Year\"]==n][\"Month\"],\n",
    "                       y = df_sum[df_sum[\"Year\"]==n][\"Number of Collisions\"],\n",
    "                       text = df_sum[df_sum[\"Year\"]==n][\"Number of Collisions\"],\n",
    "                       textposition = 'auto',\n",
    "                       opacity = 0.6,\n",
    "                       name = 'Number of Collisions')\n",
    "    total_rain = go.Scatter(x = df_sum[df_sum[\"Year\"]==n][\"Month\"],\n",
    "                         y = df_sum[df_sum[\"Year\"]==n][\"Total Rain (mm)\"],\n",
    "                         mode = 'lines',\n",
    "                         name = 'Monthly Total Rain',\n",
    "                         xaxis = 'x2', \n",
    "                         yaxis = 'y2')\n",
    "    fig = dict(data = [monthCase, total_rain], \n",
    "               layout = go.Layout(title = \"Rain Analysis (\" + str(n) + \")\",\n",
    "                                  xaxis = dict(title='Month', dtick=1),\n",
    "                                  yaxis = dict(title='# of Collisions', dtick=500, domain = [0,0.5]),\n",
    "                                  yaxis2 = dict(title='Total Rain (mm)', domain = [0.55,1.0]),\n",
    "                                  xaxis2 = dict(dtick=1, anchor = 'y2')\n",
    "                                 )\n",
    "              )\n",
    "    iplot(fig)\n",
    "    \n",
    "for m in range(2014,2018):\n",
    "    printRainInYear(m)"
   ]
  },
  {
   "cell_type": "markdown",
   "metadata": {},
   "source": [
    "**Brief Conclusion:**\n",
    "* No clear relationship between rain and collisions"
   ]
  },
  {
   "cell_type": "code",
   "execution_count": 11,
   "metadata": {},
   "outputs": [
    {
     "data": {
      "application/vnd.plotly.v1+json": {
       "data": [
        {
         "name": "Number of Collisions",
         "opacity": 0.6,
         "text": [
          "1790",
          "1349",
          "1190",
          "936",
          "1093",
          "1166",
          "1115",
          "1094",
          "1126",
          "1260",
          "1340",
          "1384"
         ],
         "textposition": "auto",
         "type": "bar",
         "uid": "a7e0952e-a722-11e8-9fa6-0800275aa47c",
         "x": [
          1,
          2,
          3,
          4,
          5,
          6,
          7,
          8,
          9,
          10,
          11,
          12
         ],
         "y": [
          1790,
          1349,
          1190,
          936,
          1093,
          1166,
          1115,
          1094,
          1126,
          1260,
          1340,
          1384
         ]
        },
        {
         "mode": "lines",
         "name": "Monthly Total Snow",
         "type": "scatter",
         "uid": "a7e0984e-a722-11e8-9fa6-0800275aa47c",
         "x": [
          1,
          2,
          3,
          4,
          5,
          6,
          7,
          8,
          9,
          10,
          11,
          12
         ],
         "xaxis": "x2",
         "y": [
          29.8,
          39.199999999999996,
          44.400000000000006,
          0,
          0,
          0,
          0,
          0,
          0,
          0,
          10.7,
          21.299999999999997
         ],
         "yaxis": "y2"
        }
       ],
       "layout": {
        "title": "Snow Analysis (2014)",
        "xaxis": {
         "dtick": 1,
         "title": "Month"
        },
        "xaxis2": {
         "anchor": "y2",
         "dtick": 1
        },
        "yaxis": {
         "domain": [
          0,
          0.5
         ],
         "dtick": 500,
         "title": "# of Collisions"
        },
        "yaxis2": {
         "domain": [
          0.55,
          1
         ],
         "title": "Total Snow (cm)"
        }
       }
      },
      "text/html": [
       "<div id=\"be2df789-06cb-44c1-877a-a40375771952\" style=\"height: 525px; width: 100%;\" class=\"plotly-graph-div\"></div><script type=\"text/javascript\">require([\"plotly\"], function(Plotly) { window.PLOTLYENV=window.PLOTLYENV || {};window.PLOTLYENV.BASE_URL=\"https://plot.ly\";Plotly.newPlot(\"be2df789-06cb-44c1-877a-a40375771952\", [{\"opacity\": 0.6, \"textposition\": \"auto\", \"name\": \"Number of Collisions\", \"text\": [\"1790\", \"1349\", \"1190\", \"936\", \"1093\", \"1166\", \"1115\", \"1094\", \"1126\", \"1260\", \"1340\", \"1384\"], \"y\": [1790.0, 1349.0, 1190.0, 936.0, 1093.0, 1166.0, 1115.0, 1094.0, 1126.0, 1260.0, 1340.0, 1384.0], \"x\": [1.0, 2.0, 3.0, 4.0, 5.0, 6.0, 7.0, 8.0, 9.0, 10.0, 11.0, 12.0], \"type\": \"bar\", \"uid\": \"a7e70058-a722-11e8-9fa6-0800275aa47c\"}, {\"name\": \"Monthly Total Snow\", \"yaxis\": \"y2\", \"mode\": \"lines\", \"xaxis\": \"x2\", \"y\": [29.8, 39.199999999999996, 44.400000000000006, 0.0, 0.0, 0.0, 0.0, 0.0, 0.0, 0.0, 10.7, 21.299999999999997], \"x\": [1.0, 2.0, 3.0, 4.0, 5.0, 6.0, 7.0, 8.0, 9.0, 10.0, 11.0, 12.0], \"type\": \"scatter\", \"uid\": \"a7e7047c-a722-11e8-9fa6-0800275aa47c\"}], {\"yaxis2\": {\"domain\": [0.55, 1.0], \"title\": \"Total Snow (cm)\"}, \"title\": \"Snow Analysis (2014)\", \"xaxis2\": {\"anchor\": \"y2\", \"dtick\": 1}, \"xaxis\": {\"dtick\": 1, \"title\": \"Month\"}, \"yaxis\": {\"domain\": [0, 0.5], \"dtick\": 500, \"title\": \"# of Collisions\"}}, {\"linkText\": \"Export to plot.ly\", \"showLink\": true})});</script>"
      ],
      "text/vnd.plotly.v1+html": [
       "<div id=\"be2df789-06cb-44c1-877a-a40375771952\" style=\"height: 525px; width: 100%;\" class=\"plotly-graph-div\"></div><script type=\"text/javascript\">require([\"plotly\"], function(Plotly) { window.PLOTLYENV=window.PLOTLYENV || {};window.PLOTLYENV.BASE_URL=\"https://plot.ly\";Plotly.newPlot(\"be2df789-06cb-44c1-877a-a40375771952\", [{\"opacity\": 0.6, \"textposition\": \"auto\", \"name\": \"Number of Collisions\", \"text\": [\"1790\", \"1349\", \"1190\", \"936\", \"1093\", \"1166\", \"1115\", \"1094\", \"1126\", \"1260\", \"1340\", \"1384\"], \"y\": [1790.0, 1349.0, 1190.0, 936.0, 1093.0, 1166.0, 1115.0, 1094.0, 1126.0, 1260.0, 1340.0, 1384.0], \"x\": [1.0, 2.0, 3.0, 4.0, 5.0, 6.0, 7.0, 8.0, 9.0, 10.0, 11.0, 12.0], \"type\": \"bar\", \"uid\": \"a7e70058-a722-11e8-9fa6-0800275aa47c\"}, {\"name\": \"Monthly Total Snow\", \"yaxis\": \"y2\", \"mode\": \"lines\", \"xaxis\": \"x2\", \"y\": [29.8, 39.199999999999996, 44.400000000000006, 0.0, 0.0, 0.0, 0.0, 0.0, 0.0, 0.0, 10.7, 21.299999999999997], \"x\": [1.0, 2.0, 3.0, 4.0, 5.0, 6.0, 7.0, 8.0, 9.0, 10.0, 11.0, 12.0], \"type\": \"scatter\", \"uid\": \"a7e7047c-a722-11e8-9fa6-0800275aa47c\"}], {\"yaxis2\": {\"domain\": [0.55, 1.0], \"title\": \"Total Snow (cm)\"}, \"title\": \"Snow Analysis (2014)\", \"xaxis2\": {\"anchor\": \"y2\", \"dtick\": 1}, \"xaxis\": {\"dtick\": 1, \"title\": \"Month\"}, \"yaxis\": {\"domain\": [0, 0.5], \"dtick\": 500, \"title\": \"# of Collisions\"}}, {\"linkText\": \"Export to plot.ly\", \"showLink\": true})});</script>"
      ]
     },
     "metadata": {},
     "output_type": "display_data"
    },
    {
     "data": {
      "application/vnd.plotly.v1+json": {
       "data": [
        {
         "name": "Number of Collisions",
         "opacity": 0.6,
         "text": [
          "2027",
          "1900",
          "1064",
          "901",
          "1115",
          "1219",
          "1115",
          "1058",
          "1133",
          "1199",
          "1249",
          "1098"
         ],
         "textposition": "auto",
         "type": "bar",
         "uid": "a7f5abda-a722-11e8-9fa6-0800275aa47c",
         "x": [
          1,
          2,
          3,
          4,
          5,
          6,
          7,
          8,
          9,
          10,
          11,
          12
         ],
         "y": [
          2027,
          1900,
          1064,
          901,
          1115,
          1219,
          1115,
          1058,
          1133,
          1199,
          1249,
          1098
         ]
        },
        {
         "mode": "lines",
         "name": "Monthly Total Snow",
         "type": "scatter",
         "uid": "a7f5af4a-a722-11e8-9fa6-0800275aa47c",
         "x": [
          1,
          2,
          3,
          4,
          5,
          6,
          7,
          8,
          9,
          10,
          11,
          12
         ],
         "xaxis": "x2",
         "y": [
          45.70000000000001,
          54,
          18.7,
          4,
          0,
          0,
          0,
          0,
          0,
          0,
          1,
          31.299999999999997
         ],
         "yaxis": "y2"
        }
       ],
       "layout": {
        "title": "Snow Analysis (2015)",
        "xaxis": {
         "dtick": 1,
         "title": "Month"
        },
        "xaxis2": {
         "anchor": "y2",
         "dtick": 1
        },
        "yaxis": {
         "domain": [
          0,
          0.5
         ],
         "dtick": 500,
         "title": "# of Collisions"
        },
        "yaxis2": {
         "domain": [
          0.55,
          1
         ],
         "title": "Total Snow (cm)"
        }
       }
      },
      "text/html": [
       "<div id=\"44be4580-6d8c-45a7-bc49-0804a350f0e7\" style=\"height: 525px; width: 100%;\" class=\"plotly-graph-div\"></div><script type=\"text/javascript\">require([\"plotly\"], function(Plotly) { window.PLOTLYENV=window.PLOTLYENV || {};window.PLOTLYENV.BASE_URL=\"https://plot.ly\";Plotly.newPlot(\"44be4580-6d8c-45a7-bc49-0804a350f0e7\", [{\"opacity\": 0.6, \"textposition\": \"auto\", \"name\": \"Number of Collisions\", \"text\": [\"2027\", \"1900\", \"1064\", \"901\", \"1115\", \"1219\", \"1115\", \"1058\", \"1133\", \"1199\", \"1249\", \"1098\"], \"y\": [2027.0, 1900.0, 1064.0, 901.0, 1115.0, 1219.0, 1115.0, 1058.0, 1133.0, 1199.0, 1249.0, 1098.0], \"x\": [1.0, 2.0, 3.0, 4.0, 5.0, 6.0, 7.0, 8.0, 9.0, 10.0, 11.0, 12.0], \"type\": \"bar\", \"uid\": \"a7fb9c70-a722-11e8-9fa6-0800275aa47c\"}, {\"name\": \"Monthly Total Snow\", \"yaxis\": \"y2\", \"mode\": \"lines\", \"xaxis\": \"x2\", \"y\": [45.70000000000001, 54.0, 18.7, 4.0, 0.0, 0.0, 0.0, 0.0, 0.0, 0.0, 1.0, 31.299999999999997], \"x\": [1.0, 2.0, 3.0, 4.0, 5.0, 6.0, 7.0, 8.0, 9.0, 10.0, 11.0, 12.0], \"type\": \"scatter\", \"uid\": \"a7fba0da-a722-11e8-9fa6-0800275aa47c\"}], {\"yaxis2\": {\"domain\": [0.55, 1.0], \"title\": \"Total Snow (cm)\"}, \"title\": \"Snow Analysis (2015)\", \"xaxis2\": {\"anchor\": \"y2\", \"dtick\": 1}, \"xaxis\": {\"dtick\": 1, \"title\": \"Month\"}, \"yaxis\": {\"domain\": [0, 0.5], \"dtick\": 500, \"title\": \"# of Collisions\"}}, {\"linkText\": \"Export to plot.ly\", \"showLink\": true})});</script>"
      ],
      "text/vnd.plotly.v1+html": [
       "<div id=\"44be4580-6d8c-45a7-bc49-0804a350f0e7\" style=\"height: 525px; width: 100%;\" class=\"plotly-graph-div\"></div><script type=\"text/javascript\">require([\"plotly\"], function(Plotly) { window.PLOTLYENV=window.PLOTLYENV || {};window.PLOTLYENV.BASE_URL=\"https://plot.ly\";Plotly.newPlot(\"44be4580-6d8c-45a7-bc49-0804a350f0e7\", [{\"opacity\": 0.6, \"textposition\": \"auto\", \"name\": \"Number of Collisions\", \"text\": [\"2027\", \"1900\", \"1064\", \"901\", \"1115\", \"1219\", \"1115\", \"1058\", \"1133\", \"1199\", \"1249\", \"1098\"], \"y\": [2027.0, 1900.0, 1064.0, 901.0, 1115.0, 1219.0, 1115.0, 1058.0, 1133.0, 1199.0, 1249.0, 1098.0], \"x\": [1.0, 2.0, 3.0, 4.0, 5.0, 6.0, 7.0, 8.0, 9.0, 10.0, 11.0, 12.0], \"type\": \"bar\", \"uid\": \"a7fb9c70-a722-11e8-9fa6-0800275aa47c\"}, {\"name\": \"Monthly Total Snow\", \"yaxis\": \"y2\", \"mode\": \"lines\", \"xaxis\": \"x2\", \"y\": [45.70000000000001, 54.0, 18.7, 4.0, 0.0, 0.0, 0.0, 0.0, 0.0, 0.0, 1.0, 31.299999999999997], \"x\": [1.0, 2.0, 3.0, 4.0, 5.0, 6.0, 7.0, 8.0, 9.0, 10.0, 11.0, 12.0], \"type\": \"scatter\", \"uid\": \"a7fba0da-a722-11e8-9fa6-0800275aa47c\"}], {\"yaxis2\": {\"domain\": [0.55, 1.0], \"title\": \"Total Snow (cm)\"}, \"title\": \"Snow Analysis (2015)\", \"xaxis2\": {\"anchor\": \"y2\", \"dtick\": 1}, \"xaxis\": {\"dtick\": 1, \"title\": \"Month\"}, \"yaxis\": {\"domain\": [0, 0.5], \"dtick\": 500, \"title\": \"# of Collisions\"}}, {\"linkText\": \"Export to plot.ly\", \"showLink\": true})});</script>"
      ]
     },
     "metadata": {},
     "output_type": "display_data"
    },
    {
     "data": {
      "application/vnd.plotly.v1+json": {
       "data": [
        {
         "name": "Number of Collisions",
         "opacity": 0.6,
         "text": [
          "1407",
          "1523",
          "1018",
          "944",
          "1109",
          "1135",
          "1035",
          "976",
          "1073",
          "1111",
          "1155",
          "1537"
         ],
         "textposition": "auto",
         "type": "bar",
         "uid": "a808e8bc-a722-11e8-9fa6-0800275aa47c",
         "x": [
          1,
          2,
          3,
          4,
          5,
          6,
          7,
          8,
          9,
          10,
          11,
          12
         ],
         "y": [
          1407,
          1523,
          1018,
          944,
          1109,
          1135,
          1035,
          976,
          1073,
          1111,
          1155,
          1537
         ]
        },
        {
         "mode": "lines",
         "name": "Monthly Total Snow",
         "type": "scatter",
         "uid": "a808ebdc-a722-11e8-9fa6-0800275aa47c",
         "x": [
          1,
          2,
          3,
          4,
          5,
          6,
          7,
          8,
          9,
          10,
          11,
          12
         ],
         "xaxis": "x2",
         "y": [
          30.799999999999997,
          61.1,
          19.5,
          25.200000000000003,
          0,
          0,
          0,
          0,
          0,
          8,
          14.399999999999999,
          84.19999999999999
         ],
         "yaxis": "y2"
        }
       ],
       "layout": {
        "title": "Snow Analysis (2016)",
        "xaxis": {
         "dtick": 1,
         "title": "Month"
        },
        "xaxis2": {
         "anchor": "y2",
         "dtick": 1
        },
        "yaxis": {
         "domain": [
          0,
          0.5
         ],
         "dtick": 500,
         "title": "# of Collisions"
        },
        "yaxis2": {
         "domain": [
          0.55,
          1
         ],
         "title": "Total Snow (cm)"
        }
       }
      },
      "text/html": [
       "<div id=\"ddb8cd99-943a-43b1-b43e-53064778f0dd\" style=\"height: 525px; width: 100%;\" class=\"plotly-graph-div\"></div><script type=\"text/javascript\">require([\"plotly\"], function(Plotly) { window.PLOTLYENV=window.PLOTLYENV || {};window.PLOTLYENV.BASE_URL=\"https://plot.ly\";Plotly.newPlot(\"ddb8cd99-943a-43b1-b43e-53064778f0dd\", [{\"opacity\": 0.6, \"textposition\": \"auto\", \"name\": \"Number of Collisions\", \"text\": [\"1407\", \"1523\", \"1018\", \"944\", \"1109\", \"1135\", \"1035\", \"976\", \"1073\", \"1111\", \"1155\", \"1537\"], \"y\": [1407.0, 1523.0, 1018.0, 944.0, 1109.0, 1135.0, 1035.0, 976.0, 1073.0, 1111.0, 1155.0, 1537.0], \"x\": [1.0, 2.0, 3.0, 4.0, 5.0, 6.0, 7.0, 8.0, 9.0, 10.0, 11.0, 12.0], \"type\": \"bar\", \"uid\": \"a80e6eb8-a722-11e8-9fa6-0800275aa47c\"}, {\"name\": \"Monthly Total Snow\", \"yaxis\": \"y2\", \"mode\": \"lines\", \"xaxis\": \"x2\", \"y\": [30.799999999999997, 61.1, 19.5, 25.200000000000003, 0.0, 0.0, 0.0, 0.0, 0.0, 8.0, 14.399999999999999, 84.19999999999999], \"x\": [1.0, 2.0, 3.0, 4.0, 5.0, 6.0, 7.0, 8.0, 9.0, 10.0, 11.0, 12.0], \"type\": \"scatter\", \"uid\": \"a80e71d8-a722-11e8-9fa6-0800275aa47c\"}], {\"yaxis2\": {\"domain\": [0.55, 1.0], \"title\": \"Total Snow (cm)\"}, \"title\": \"Snow Analysis (2016)\", \"xaxis2\": {\"anchor\": \"y2\", \"dtick\": 1}, \"xaxis\": {\"dtick\": 1, \"title\": \"Month\"}, \"yaxis\": {\"domain\": [0, 0.5], \"dtick\": 500, \"title\": \"# of Collisions\"}}, {\"linkText\": \"Export to plot.ly\", \"showLink\": true})});</script>"
      ],
      "text/vnd.plotly.v1+html": [
       "<div id=\"ddb8cd99-943a-43b1-b43e-53064778f0dd\" style=\"height: 525px; width: 100%;\" class=\"plotly-graph-div\"></div><script type=\"text/javascript\">require([\"plotly\"], function(Plotly) { window.PLOTLYENV=window.PLOTLYENV || {};window.PLOTLYENV.BASE_URL=\"https://plot.ly\";Plotly.newPlot(\"ddb8cd99-943a-43b1-b43e-53064778f0dd\", [{\"opacity\": 0.6, \"textposition\": \"auto\", \"name\": \"Number of Collisions\", \"text\": [\"1407\", \"1523\", \"1018\", \"944\", \"1109\", \"1135\", \"1035\", \"976\", \"1073\", \"1111\", \"1155\", \"1537\"], \"y\": [1407.0, 1523.0, 1018.0, 944.0, 1109.0, 1135.0, 1035.0, 976.0, 1073.0, 1111.0, 1155.0, 1537.0], \"x\": [1.0, 2.0, 3.0, 4.0, 5.0, 6.0, 7.0, 8.0, 9.0, 10.0, 11.0, 12.0], \"type\": \"bar\", \"uid\": \"a80e6eb8-a722-11e8-9fa6-0800275aa47c\"}, {\"name\": \"Monthly Total Snow\", \"yaxis\": \"y2\", \"mode\": \"lines\", \"xaxis\": \"x2\", \"y\": [30.799999999999997, 61.1, 19.5, 25.200000000000003, 0.0, 0.0, 0.0, 0.0, 0.0, 8.0, 14.399999999999999, 84.19999999999999], \"x\": [1.0, 2.0, 3.0, 4.0, 5.0, 6.0, 7.0, 8.0, 9.0, 10.0, 11.0, 12.0], \"type\": \"scatter\", \"uid\": \"a80e71d8-a722-11e8-9fa6-0800275aa47c\"}], {\"yaxis2\": {\"domain\": [0.55, 1.0], \"title\": \"Total Snow (cm)\"}, \"title\": \"Snow Analysis (2016)\", \"xaxis2\": {\"anchor\": \"y2\", \"dtick\": 1}, \"xaxis\": {\"dtick\": 1, \"title\": \"Month\"}, \"yaxis\": {\"domain\": [0, 0.5], \"dtick\": 500, \"title\": \"# of Collisions\"}}, {\"linkText\": \"Export to plot.ly\", \"showLink\": true})});</script>"
      ]
     },
     "metadata": {},
     "output_type": "display_data"
    },
    {
     "data": {
      "application/vnd.plotly.v1+json": {
       "data": [
        {
         "name": "Number of Collisions",
         "opacity": 0.6,
         "text": [
          "1275",
          "1279",
          "1224",
          "913",
          "1084",
          "1095",
          "971",
          "990",
          "1176",
          "1139",
          "1493",
          "1755"
         ],
         "textposition": "auto",
         "type": "bar",
         "uid": "a81db59e-a722-11e8-9fa6-0800275aa47c",
         "x": [
          1,
          2,
          3,
          4,
          5,
          6,
          7,
          8,
          9,
          10,
          11,
          12
         ],
         "y": [
          1275,
          1279,
          1224,
          913,
          1084,
          1095,
          971,
          990,
          1176,
          1139,
          1493,
          1755
         ]
        },
        {
         "mode": "lines",
         "name": "Monthly Total Snow",
         "type": "scatter",
         "uid": "a81dbb66-a722-11e8-9fa6-0800275aa47c",
         "x": [
          1,
          2,
          3,
          4,
          5,
          6,
          7,
          8,
          9,
          10,
          11,
          12
         ],
         "xaxis": "x2",
         "y": [
          36.400000000000006,
          64.6,
          35.4,
          0,
          0,
          0,
          0,
          0,
          0,
          0,
          14.4,
          38.8
         ],
         "yaxis": "y2"
        }
       ],
       "layout": {
        "title": "Snow Analysis (2017)",
        "xaxis": {
         "dtick": 1,
         "title": "Month"
        },
        "xaxis2": {
         "anchor": "y2",
         "dtick": 1
        },
        "yaxis": {
         "domain": [
          0,
          0.5
         ],
         "dtick": 500,
         "title": "# of Collisions"
        },
        "yaxis2": {
         "domain": [
          0.55,
          1
         ],
         "title": "Total Snow (cm)"
        }
       }
      },
      "text/html": [
       "<div id=\"f042980c-0895-46e3-be7b-1e26d6e4ddee\" style=\"height: 525px; width: 100%;\" class=\"plotly-graph-div\"></div><script type=\"text/javascript\">require([\"plotly\"], function(Plotly) { window.PLOTLYENV=window.PLOTLYENV || {};window.PLOTLYENV.BASE_URL=\"https://plot.ly\";Plotly.newPlot(\"f042980c-0895-46e3-be7b-1e26d6e4ddee\", [{\"opacity\": 0.6, \"textposition\": \"auto\", \"name\": \"Number of Collisions\", \"text\": [\"1275\", \"1279\", \"1224\", \"913\", \"1084\", \"1095\", \"971\", \"990\", \"1176\", \"1139\", \"1493\", \"1755\"], \"y\": [1275.0, 1279.0, 1224.0, 913.0, 1084.0, 1095.0, 971.0, 990.0, 1176.0, 1139.0, 1493.0, 1755.0], \"x\": [1.0, 2.0, 3.0, 4.0, 5.0, 6.0, 7.0, 8.0, 9.0, 10.0, 11.0, 12.0], \"type\": \"bar\", \"uid\": \"a824b880-a722-11e8-9fa6-0800275aa47c\"}, {\"name\": \"Monthly Total Snow\", \"yaxis\": \"y2\", \"mode\": \"lines\", \"xaxis\": \"x2\", \"y\": [36.400000000000006, 64.6, 35.4, 0.0, 0.0, 0.0, 0.0, 0.0, 0.0, 0.0, 14.4, 38.8], \"x\": [1.0, 2.0, 3.0, 4.0, 5.0, 6.0, 7.0, 8.0, 9.0, 10.0, 11.0, 12.0], \"type\": \"scatter\", \"uid\": \"a824c078-a722-11e8-9fa6-0800275aa47c\"}], {\"yaxis2\": {\"domain\": [0.55, 1.0], \"title\": \"Total Snow (cm)\"}, \"title\": \"Snow Analysis (2017)\", \"xaxis2\": {\"anchor\": \"y2\", \"dtick\": 1}, \"xaxis\": {\"dtick\": 1, \"title\": \"Month\"}, \"yaxis\": {\"domain\": [0, 0.5], \"dtick\": 500, \"title\": \"# of Collisions\"}}, {\"linkText\": \"Export to plot.ly\", \"showLink\": true})});</script>"
      ],
      "text/vnd.plotly.v1+html": [
       "<div id=\"f042980c-0895-46e3-be7b-1e26d6e4ddee\" style=\"height: 525px; width: 100%;\" class=\"plotly-graph-div\"></div><script type=\"text/javascript\">require([\"plotly\"], function(Plotly) { window.PLOTLYENV=window.PLOTLYENV || {};window.PLOTLYENV.BASE_URL=\"https://plot.ly\";Plotly.newPlot(\"f042980c-0895-46e3-be7b-1e26d6e4ddee\", [{\"opacity\": 0.6, \"textposition\": \"auto\", \"name\": \"Number of Collisions\", \"text\": [\"1275\", \"1279\", \"1224\", \"913\", \"1084\", \"1095\", \"971\", \"990\", \"1176\", \"1139\", \"1493\", \"1755\"], \"y\": [1275.0, 1279.0, 1224.0, 913.0, 1084.0, 1095.0, 971.0, 990.0, 1176.0, 1139.0, 1493.0, 1755.0], \"x\": [1.0, 2.0, 3.0, 4.0, 5.0, 6.0, 7.0, 8.0, 9.0, 10.0, 11.0, 12.0], \"type\": \"bar\", \"uid\": \"a824b880-a722-11e8-9fa6-0800275aa47c\"}, {\"name\": \"Monthly Total Snow\", \"yaxis\": \"y2\", \"mode\": \"lines\", \"xaxis\": \"x2\", \"y\": [36.400000000000006, 64.6, 35.4, 0.0, 0.0, 0.0, 0.0, 0.0, 0.0, 0.0, 14.4, 38.8], \"x\": [1.0, 2.0, 3.0, 4.0, 5.0, 6.0, 7.0, 8.0, 9.0, 10.0, 11.0, 12.0], \"type\": \"scatter\", \"uid\": \"a824c078-a722-11e8-9fa6-0800275aa47c\"}], {\"yaxis2\": {\"domain\": [0.55, 1.0], \"title\": \"Total Snow (cm)\"}, \"title\": \"Snow Analysis (2017)\", \"xaxis2\": {\"anchor\": \"y2\", \"dtick\": 1}, \"xaxis\": {\"dtick\": 1, \"title\": \"Month\"}, \"yaxis\": {\"domain\": [0, 0.5], \"dtick\": 500, \"title\": \"# of Collisions\"}}, {\"linkText\": \"Export to plot.ly\", \"showLink\": true})});</script>"
      ]
     },
     "metadata": {},
     "output_type": "display_data"
    }
   ],
   "source": [
    "df_avg = wt1417.groupby([\"Year\",\"Month\"]).mean()\n",
    "df_avg[\"Year\"] = [x[0] for x in df_avg.index]\n",
    "df_avg[\"Month\"] = [x[1] for x in df_avg.index]\n",
    "\n",
    "df_sum = wt1417.groupby([\"Year\",\"Month\"]).sum()\n",
    "df_sum[\"Year\"] = [x[0] for x in df_sum.index]\n",
    "df_sum[\"Month\"] = [x[1] for x in df_sum.index]\n",
    "\n",
    "def printSnowInYear(n):\n",
    "    monthCase = go.Bar(x = df_sum[df_sum[\"Year\"]==n][\"Month\"],\n",
    "                       y = df_sum[df_sum[\"Year\"]==n][\"Number of Collisions\"],\n",
    "                       text = df_sum[df_sum[\"Year\"]==n][\"Number of Collisions\"],\n",
    "                       textposition = 'auto',\n",
    "                       opacity = 0.6,\n",
    "                       name = 'Number of Collisions')\n",
    "    total_snow = go.Scatter(x = df_sum[df_sum[\"Year\"]==n][\"Month\"],\n",
    "                         y = df_sum[df_sum[\"Year\"]==n][\"Total Snow (cm)\"],\n",
    "                         mode = 'lines',\n",
    "                         name = 'Monthly Total Snow',\n",
    "                         xaxis = 'x2', \n",
    "                         yaxis = 'y2')\n",
    "    fig = dict(data = [monthCase, total_snow], \n",
    "               layout = go.Layout(title = \"Snow Analysis (\" + str(n) + \")\",\n",
    "                                  xaxis = dict(title='Month', dtick=1),\n",
    "                                  yaxis = dict(title='# of Collisions', dtick=500, domain = [0,0.5]),\n",
    "                                  yaxis2 = dict(title='Total Snow (cm)', domain = [0.55,1.0]),\n",
    "                                  xaxis2 = dict(dtick=1, anchor = 'y2')\n",
    "                                 )\n",
    "              )\n",
    "    iplot(fig)\n",
    "    \n",
    "for m in range(2014,2018):\n",
    "    printSnowInYear(m)"
   ]
  },
  {
   "cell_type": "code",
   "execution_count": 12,
   "metadata": {},
   "outputs": [
    {
     "data": {
      "application/vnd.plotly.v1+json": {
       "data": [
        {
         "name": "Number of Collisions",
         "opacity": 0.6,
         "text": [
          "1790",
          "1349",
          "1190",
          "936",
          "1093",
          "1166",
          "1115",
          "1094",
          "1126",
          "1260",
          "1340",
          "1384"
         ],
         "textposition": "auto",
         "type": "bar",
         "uid": "a83867a4-a722-11e8-9fa6-0800275aa47c",
         "x": [
          1,
          2,
          3,
          4,
          5,
          6,
          7,
          8,
          9,
          10,
          11,
          12
         ],
         "y": [
          1790,
          1349,
          1190,
          936,
          1093,
          1166,
          1115,
          1094,
          1126,
          1260,
          1340,
          1384
         ]
        },
        {
         "mode": "lines",
         "name": "Monthly Total Snow on Ground",
         "type": "scatter",
         "uid": "a8386b00-a722-11e8-9fa6-0800275aa47c",
         "x": [
          1,
          2,
          3,
          4,
          5,
          6,
          7,
          8,
          9,
          10,
          11,
          12
         ],
         "xaxis": "x2",
         "y": [
          771,
          1067,
          1214,
          219,
          0,
          0,
          0,
          0,
          0,
          0,
          13,
          116
         ],
         "yaxis": "y2"
        }
       ],
       "layout": {
        "title": "Snow on Ground Analysis (2014)",
        "xaxis": {
         "dtick": 1,
         "title": "Month"
        },
        "xaxis2": {
         "anchor": "y2",
         "dtick": 1
        },
        "yaxis": {
         "domain": [
          0,
          0.5
         ],
         "dtick": 500,
         "title": "# of Collisions"
        },
        "yaxis2": {
         "domain": [
          0.55,
          1
         ],
         "title": "Snow on Grnd (cm)"
        }
       }
      },
      "text/html": [
       "<div id=\"56ccbb87-9a7a-4bb2-ac35-ba785a0b89b3\" style=\"height: 525px; width: 100%;\" class=\"plotly-graph-div\"></div><script type=\"text/javascript\">require([\"plotly\"], function(Plotly) { window.PLOTLYENV=window.PLOTLYENV || {};window.PLOTLYENV.BASE_URL=\"https://plot.ly\";Plotly.newPlot(\"56ccbb87-9a7a-4bb2-ac35-ba785a0b89b3\", [{\"opacity\": 0.6, \"textposition\": \"auto\", \"name\": \"Number of Collisions\", \"text\": [\"1790\", \"1349\", \"1190\", \"936\", \"1093\", \"1166\", \"1115\", \"1094\", \"1126\", \"1260\", \"1340\", \"1384\"], \"y\": [1790.0, 1349.0, 1190.0, 936.0, 1093.0, 1166.0, 1115.0, 1094.0, 1126.0, 1260.0, 1340.0, 1384.0], \"x\": [1.0, 2.0, 3.0, 4.0, 5.0, 6.0, 7.0, 8.0, 9.0, 10.0, 11.0, 12.0], \"type\": \"bar\", \"uid\": \"a83d8018-a722-11e8-9fa6-0800275aa47c\"}, {\"name\": \"Monthly Total Snow on Ground\", \"yaxis\": \"y2\", \"mode\": \"lines\", \"xaxis\": \"x2\", \"y\": [771.0, 1067.0, 1214.0, 219.0, 0.0, 0.0, 0.0, 0.0, 0.0, 0.0, 13.0, 116.0], \"x\": [1.0, 2.0, 3.0, 4.0, 5.0, 6.0, 7.0, 8.0, 9.0, 10.0, 11.0, 12.0], \"type\": \"scatter\", \"uid\": \"a83d8306-a722-11e8-9fa6-0800275aa47c\"}], {\"yaxis2\": {\"domain\": [0.55, 1.0], \"title\": \"Snow on Grnd (cm)\"}, \"title\": \"Snow on Ground Analysis (2014)\", \"xaxis2\": {\"anchor\": \"y2\", \"dtick\": 1}, \"xaxis\": {\"dtick\": 1, \"title\": \"Month\"}, \"yaxis\": {\"domain\": [0, 0.5], \"dtick\": 500, \"title\": \"# of Collisions\"}}, {\"linkText\": \"Export to plot.ly\", \"showLink\": true})});</script>"
      ],
      "text/vnd.plotly.v1+html": [
       "<div id=\"56ccbb87-9a7a-4bb2-ac35-ba785a0b89b3\" style=\"height: 525px; width: 100%;\" class=\"plotly-graph-div\"></div><script type=\"text/javascript\">require([\"plotly\"], function(Plotly) { window.PLOTLYENV=window.PLOTLYENV || {};window.PLOTLYENV.BASE_URL=\"https://plot.ly\";Plotly.newPlot(\"56ccbb87-9a7a-4bb2-ac35-ba785a0b89b3\", [{\"opacity\": 0.6, \"textposition\": \"auto\", \"name\": \"Number of Collisions\", \"text\": [\"1790\", \"1349\", \"1190\", \"936\", \"1093\", \"1166\", \"1115\", \"1094\", \"1126\", \"1260\", \"1340\", \"1384\"], \"y\": [1790.0, 1349.0, 1190.0, 936.0, 1093.0, 1166.0, 1115.0, 1094.0, 1126.0, 1260.0, 1340.0, 1384.0], \"x\": [1.0, 2.0, 3.0, 4.0, 5.0, 6.0, 7.0, 8.0, 9.0, 10.0, 11.0, 12.0], \"type\": \"bar\", \"uid\": \"a83d8018-a722-11e8-9fa6-0800275aa47c\"}, {\"name\": \"Monthly Total Snow on Ground\", \"yaxis\": \"y2\", \"mode\": \"lines\", \"xaxis\": \"x2\", \"y\": [771.0, 1067.0, 1214.0, 219.0, 0.0, 0.0, 0.0, 0.0, 0.0, 0.0, 13.0, 116.0], \"x\": [1.0, 2.0, 3.0, 4.0, 5.0, 6.0, 7.0, 8.0, 9.0, 10.0, 11.0, 12.0], \"type\": \"scatter\", \"uid\": \"a83d8306-a722-11e8-9fa6-0800275aa47c\"}], {\"yaxis2\": {\"domain\": [0.55, 1.0], \"title\": \"Snow on Grnd (cm)\"}, \"title\": \"Snow on Ground Analysis (2014)\", \"xaxis2\": {\"anchor\": \"y2\", \"dtick\": 1}, \"xaxis\": {\"dtick\": 1, \"title\": \"Month\"}, \"yaxis\": {\"domain\": [0, 0.5], \"dtick\": 500, \"title\": \"# of Collisions\"}}, {\"linkText\": \"Export to plot.ly\", \"showLink\": true})});</script>"
      ]
     },
     "metadata": {},
     "output_type": "display_data"
    },
    {
     "data": {
      "application/vnd.plotly.v1+json": {
       "data": [
        {
         "name": "Number of Collisions",
         "opacity": 0.6,
         "text": [
          "2027",
          "1900",
          "1064",
          "901",
          "1115",
          "1219",
          "1115",
          "1058",
          "1133",
          "1199",
          "1249",
          "1098"
         ],
         "textposition": "auto",
         "type": "bar",
         "uid": "a84ae12c-a722-11e8-9fa6-0800275aa47c",
         "x": [
          1,
          2,
          3,
          4,
          5,
          6,
          7,
          8,
          9,
          10,
          11,
          12
         ],
         "y": [
          2027,
          1900,
          1064,
          901,
          1115,
          1219,
          1115,
          1058,
          1133,
          1199,
          1249,
          1098
         ]
        },
        {
         "mode": "lines",
         "name": "Monthly Total Snow on Ground",
         "type": "scatter",
         "uid": "a84ae546-a722-11e8-9fa6-0800275aa47c",
         "x": [
          1,
          2,
          3,
          4,
          5,
          6,
          7,
          8,
          9,
          10,
          11,
          12
         ],
         "xaxis": "x2",
         "y": [
          257,
          790,
          840,
          31,
          0,
          0,
          0,
          0,
          0,
          0,
          1,
          47
         ],
         "yaxis": "y2"
        }
       ],
       "layout": {
        "title": "Snow on Ground Analysis (2015)",
        "xaxis": {
         "dtick": 1,
         "title": "Month"
        },
        "xaxis2": {
         "anchor": "y2",
         "dtick": 1
        },
        "yaxis": {
         "domain": [
          0,
          0.5
         ],
         "dtick": 500,
         "title": "# of Collisions"
        },
        "yaxis2": {
         "domain": [
          0.55,
          1
         ],
         "title": "Snow on Grnd (cm)"
        }
       }
      },
      "text/html": [
       "<div id=\"40bfa34b-fa75-46e9-8be7-891689b6a886\" style=\"height: 525px; width: 100%;\" class=\"plotly-graph-div\"></div><script type=\"text/javascript\">require([\"plotly\"], function(Plotly) { window.PLOTLYENV=window.PLOTLYENV || {};window.PLOTLYENV.BASE_URL=\"https://plot.ly\";Plotly.newPlot(\"40bfa34b-fa75-46e9-8be7-891689b6a886\", [{\"opacity\": 0.6, \"textposition\": \"auto\", \"name\": \"Number of Collisions\", \"text\": [\"2027\", \"1900\", \"1064\", \"901\", \"1115\", \"1219\", \"1115\", \"1058\", \"1133\", \"1199\", \"1249\", \"1098\"], \"y\": [2027.0, 1900.0, 1064.0, 901.0, 1115.0, 1219.0, 1115.0, 1058.0, 1133.0, 1199.0, 1249.0, 1098.0], \"x\": [1.0, 2.0, 3.0, 4.0, 5.0, 6.0, 7.0, 8.0, 9.0, 10.0, 11.0, 12.0], \"type\": \"bar\", \"uid\": \"a862597e-a722-11e8-9fa6-0800275aa47c\"}, {\"name\": \"Monthly Total Snow on Ground\", \"yaxis\": \"y2\", \"mode\": \"lines\", \"xaxis\": \"x2\", \"y\": [257.0, 790.0, 840.0, 31.0, 0.0, 0.0, 0.0, 0.0, 0.0, 0.0, 1.0, 47.0], \"x\": [1.0, 2.0, 3.0, 4.0, 5.0, 6.0, 7.0, 8.0, 9.0, 10.0, 11.0, 12.0], \"type\": \"scatter\", \"uid\": \"a8625d16-a722-11e8-9fa6-0800275aa47c\"}], {\"yaxis2\": {\"domain\": [0.55, 1.0], \"title\": \"Snow on Grnd (cm)\"}, \"title\": \"Snow on Ground Analysis (2015)\", \"xaxis2\": {\"anchor\": \"y2\", \"dtick\": 1}, \"xaxis\": {\"dtick\": 1, \"title\": \"Month\"}, \"yaxis\": {\"domain\": [0, 0.5], \"dtick\": 500, \"title\": \"# of Collisions\"}}, {\"linkText\": \"Export to plot.ly\", \"showLink\": true})});</script>"
      ],
      "text/vnd.plotly.v1+html": [
       "<div id=\"40bfa34b-fa75-46e9-8be7-891689b6a886\" style=\"height: 525px; width: 100%;\" class=\"plotly-graph-div\"></div><script type=\"text/javascript\">require([\"plotly\"], function(Plotly) { window.PLOTLYENV=window.PLOTLYENV || {};window.PLOTLYENV.BASE_URL=\"https://plot.ly\";Plotly.newPlot(\"40bfa34b-fa75-46e9-8be7-891689b6a886\", [{\"opacity\": 0.6, \"textposition\": \"auto\", \"name\": \"Number of Collisions\", \"text\": [\"2027\", \"1900\", \"1064\", \"901\", \"1115\", \"1219\", \"1115\", \"1058\", \"1133\", \"1199\", \"1249\", \"1098\"], \"y\": [2027.0, 1900.0, 1064.0, 901.0, 1115.0, 1219.0, 1115.0, 1058.0, 1133.0, 1199.0, 1249.0, 1098.0], \"x\": [1.0, 2.0, 3.0, 4.0, 5.0, 6.0, 7.0, 8.0, 9.0, 10.0, 11.0, 12.0], \"type\": \"bar\", \"uid\": \"a862597e-a722-11e8-9fa6-0800275aa47c\"}, {\"name\": \"Monthly Total Snow on Ground\", \"yaxis\": \"y2\", \"mode\": \"lines\", \"xaxis\": \"x2\", \"y\": [257.0, 790.0, 840.0, 31.0, 0.0, 0.0, 0.0, 0.0, 0.0, 0.0, 1.0, 47.0], \"x\": [1.0, 2.0, 3.0, 4.0, 5.0, 6.0, 7.0, 8.0, 9.0, 10.0, 11.0, 12.0], \"type\": \"scatter\", \"uid\": \"a8625d16-a722-11e8-9fa6-0800275aa47c\"}], {\"yaxis2\": {\"domain\": [0.55, 1.0], \"title\": \"Snow on Grnd (cm)\"}, \"title\": \"Snow on Ground Analysis (2015)\", \"xaxis2\": {\"anchor\": \"y2\", \"dtick\": 1}, \"xaxis\": {\"dtick\": 1, \"title\": \"Month\"}, \"yaxis\": {\"domain\": [0, 0.5], \"dtick\": 500, \"title\": \"# of Collisions\"}}, {\"linkText\": \"Export to plot.ly\", \"showLink\": true})});</script>"
      ]
     },
     "metadata": {},
     "output_type": "display_data"
    },
    {
     "data": {
      "application/vnd.plotly.v1+json": {
       "data": [
        {
         "name": "Number of Collisions",
         "opacity": 0.6,
         "text": [
          "1407",
          "1523",
          "1018",
          "944",
          "1109",
          "1135",
          "1035",
          "976",
          "1073",
          "1111",
          "1155",
          "1537"
         ],
         "textposition": "auto",
         "type": "bar",
         "uid": "a86f5156-a722-11e8-9fa6-0800275aa47c",
         "x": [
          1,
          2,
          3,
          4,
          5,
          6,
          7,
          8,
          9,
          10,
          11,
          12
         ],
         "y": [
          1407,
          1523,
          1018,
          944,
          1109,
          1135,
          1035,
          976,
          1073,
          1111,
          1155,
          1537
         ]
        },
        {
         "mode": "lines",
         "name": "Monthly Total Snow on Ground",
         "type": "scatter",
         "uid": "a86f5444-a722-11e8-9fa6-0800275aa47c",
         "x": [
          1,
          2,
          3,
          4,
          5,
          6,
          7,
          8,
          9,
          10,
          11,
          12
         ],
         "xaxis": "x2",
         "y": [
          391,
          496,
          376,
          33,
          0,
          0,
          0,
          0,
          0,
          2,
          29,
          369
         ],
         "yaxis": "y2"
        }
       ],
       "layout": {
        "title": "Snow on Ground Analysis (2016)",
        "xaxis": {
         "dtick": 1,
         "title": "Month"
        },
        "xaxis2": {
         "anchor": "y2",
         "dtick": 1
        },
        "yaxis": {
         "domain": [
          0,
          0.5
         ],
         "dtick": 500,
         "title": "# of Collisions"
        },
        "yaxis2": {
         "domain": [
          0.55,
          1
         ],
         "title": "Snow on Grnd (cm)"
        }
       }
      },
      "text/html": [
       "<div id=\"01555ac2-e52a-46ab-baa1-c8916812fb05\" style=\"height: 525px; width: 100%;\" class=\"plotly-graph-div\"></div><script type=\"text/javascript\">require([\"plotly\"], function(Plotly) { window.PLOTLYENV=window.PLOTLYENV || {};window.PLOTLYENV.BASE_URL=\"https://plot.ly\";Plotly.newPlot(\"01555ac2-e52a-46ab-baa1-c8916812fb05\", [{\"opacity\": 0.6, \"textposition\": \"auto\", \"name\": \"Number of Collisions\", \"text\": [\"1407\", \"1523\", \"1018\", \"944\", \"1109\", \"1135\", \"1035\", \"976\", \"1073\", \"1111\", \"1155\", \"1537\"], \"y\": [1407.0, 1523.0, 1018.0, 944.0, 1109.0, 1135.0, 1035.0, 976.0, 1073.0, 1111.0, 1155.0, 1537.0], \"x\": [1.0, 2.0, 3.0, 4.0, 5.0, 6.0, 7.0, 8.0, 9.0, 10.0, 11.0, 12.0], \"type\": \"bar\", \"uid\": \"a875629e-a722-11e8-9fa6-0800275aa47c\"}, {\"name\": \"Monthly Total Snow on Ground\", \"yaxis\": \"y2\", \"mode\": \"lines\", \"xaxis\": \"x2\", \"y\": [391.0, 496.0, 376.0, 33.0, 0.0, 0.0, 0.0, 0.0, 0.0, 2.0, 29.0, 369.0], \"x\": [1.0, 2.0, 3.0, 4.0, 5.0, 6.0, 7.0, 8.0, 9.0, 10.0, 11.0, 12.0], \"type\": \"scatter\", \"uid\": \"a875674e-a722-11e8-9fa6-0800275aa47c\"}], {\"yaxis2\": {\"domain\": [0.55, 1.0], \"title\": \"Snow on Grnd (cm)\"}, \"title\": \"Snow on Ground Analysis (2016)\", \"xaxis2\": {\"anchor\": \"y2\", \"dtick\": 1}, \"xaxis\": {\"dtick\": 1, \"title\": \"Month\"}, \"yaxis\": {\"domain\": [0, 0.5], \"dtick\": 500, \"title\": \"# of Collisions\"}}, {\"linkText\": \"Export to plot.ly\", \"showLink\": true})});</script>"
      ],
      "text/vnd.plotly.v1+html": [
       "<div id=\"01555ac2-e52a-46ab-baa1-c8916812fb05\" style=\"height: 525px; width: 100%;\" class=\"plotly-graph-div\"></div><script type=\"text/javascript\">require([\"plotly\"], function(Plotly) { window.PLOTLYENV=window.PLOTLYENV || {};window.PLOTLYENV.BASE_URL=\"https://plot.ly\";Plotly.newPlot(\"01555ac2-e52a-46ab-baa1-c8916812fb05\", [{\"opacity\": 0.6, \"textposition\": \"auto\", \"name\": \"Number of Collisions\", \"text\": [\"1407\", \"1523\", \"1018\", \"944\", \"1109\", \"1135\", \"1035\", \"976\", \"1073\", \"1111\", \"1155\", \"1537\"], \"y\": [1407.0, 1523.0, 1018.0, 944.0, 1109.0, 1135.0, 1035.0, 976.0, 1073.0, 1111.0, 1155.0, 1537.0], \"x\": [1.0, 2.0, 3.0, 4.0, 5.0, 6.0, 7.0, 8.0, 9.0, 10.0, 11.0, 12.0], \"type\": \"bar\", \"uid\": \"a875629e-a722-11e8-9fa6-0800275aa47c\"}, {\"name\": \"Monthly Total Snow on Ground\", \"yaxis\": \"y2\", \"mode\": \"lines\", \"xaxis\": \"x2\", \"y\": [391.0, 496.0, 376.0, 33.0, 0.0, 0.0, 0.0, 0.0, 0.0, 2.0, 29.0, 369.0], \"x\": [1.0, 2.0, 3.0, 4.0, 5.0, 6.0, 7.0, 8.0, 9.0, 10.0, 11.0, 12.0], \"type\": \"scatter\", \"uid\": \"a875674e-a722-11e8-9fa6-0800275aa47c\"}], {\"yaxis2\": {\"domain\": [0.55, 1.0], \"title\": \"Snow on Grnd (cm)\"}, \"title\": \"Snow on Ground Analysis (2016)\", \"xaxis2\": {\"anchor\": \"y2\", \"dtick\": 1}, \"xaxis\": {\"dtick\": 1, \"title\": \"Month\"}, \"yaxis\": {\"domain\": [0, 0.5], \"dtick\": 500, \"title\": \"# of Collisions\"}}, {\"linkText\": \"Export to plot.ly\", \"showLink\": true})});</script>"
      ]
     },
     "metadata": {},
     "output_type": "display_data"
    },
    {
     "data": {
      "application/vnd.plotly.v1+json": {
       "data": [
        {
         "name": "Number of Collisions",
         "opacity": 0.6,
         "text": [
          "1275",
          "1279",
          "1224",
          "913",
          "1084",
          "1095",
          "971",
          "990",
          "1176",
          "1139",
          "1493",
          "1755"
         ],
         "textposition": "auto",
         "type": "bar",
         "uid": "a88227a4-a722-11e8-9fa6-0800275aa47c",
         "x": [
          1,
          2,
          3,
          4,
          5,
          6,
          7,
          8,
          9,
          10,
          11,
          12
         ],
         "y": [
          1275,
          1279,
          1224,
          913,
          1084,
          1095,
          971,
          990,
          1176,
          1139,
          1493,
          1755
         ]
        },
        {
         "mode": "lines",
         "name": "Monthly Total Snow on Ground",
         "type": "scatter",
         "uid": "a8822a92-a722-11e8-9fa6-0800275aa47c",
         "x": [
          1,
          2,
          3,
          4,
          5,
          6,
          7,
          8,
          9,
          10,
          11,
          12
         ],
         "xaxis": "x2",
         "y": [
          742,
          964,
          485,
          6,
          0,
          0,
          0,
          0,
          0,
          0,
          26,
          311
         ],
         "yaxis": "y2"
        }
       ],
       "layout": {
        "title": "Snow on Ground Analysis (2017)",
        "xaxis": {
         "dtick": 1,
         "title": "Month"
        },
        "xaxis2": {
         "anchor": "y2",
         "dtick": 1
        },
        "yaxis": {
         "domain": [
          0,
          0.5
         ],
         "dtick": 500,
         "title": "# of Collisions"
        },
        "yaxis2": {
         "domain": [
          0.55,
          1
         ],
         "title": "Snow on Grnd (cm)"
        }
       }
      },
      "text/html": [
       "<div id=\"7b9945e0-4558-4c35-95a2-a126c1723d70\" style=\"height: 525px; width: 100%;\" class=\"plotly-graph-div\"></div><script type=\"text/javascript\">require([\"plotly\"], function(Plotly) { window.PLOTLYENV=window.PLOTLYENV || {};window.PLOTLYENV.BASE_URL=\"https://plot.ly\";Plotly.newPlot(\"7b9945e0-4558-4c35-95a2-a126c1723d70\", [{\"opacity\": 0.6, \"textposition\": \"auto\", \"name\": \"Number of Collisions\", \"text\": [\"1275\", \"1279\", \"1224\", \"913\", \"1084\", \"1095\", \"971\", \"990\", \"1176\", \"1139\", \"1493\", \"1755\"], \"y\": [1275.0, 1279.0, 1224.0, 913.0, 1084.0, 1095.0, 971.0, 990.0, 1176.0, 1139.0, 1493.0, 1755.0], \"x\": [1.0, 2.0, 3.0, 4.0, 5.0, 6.0, 7.0, 8.0, 9.0, 10.0, 11.0, 12.0], \"type\": \"bar\", \"uid\": \"a8887546-a722-11e8-9fa6-0800275aa47c\"}, {\"name\": \"Monthly Total Snow on Ground\", \"yaxis\": \"y2\", \"mode\": \"lines\", \"xaxis\": \"x2\", \"y\": [742.0, 964.0, 485.0, 6.0, 0.0, 0.0, 0.0, 0.0, 0.0, 0.0, 26.0, 311.0], \"x\": [1.0, 2.0, 3.0, 4.0, 5.0, 6.0, 7.0, 8.0, 9.0, 10.0, 11.0, 12.0], \"type\": \"scatter\", \"uid\": \"a8887852-a722-11e8-9fa6-0800275aa47c\"}], {\"yaxis2\": {\"domain\": [0.55, 1.0], \"title\": \"Snow on Grnd (cm)\"}, \"title\": \"Snow on Ground Analysis (2017)\", \"xaxis2\": {\"anchor\": \"y2\", \"dtick\": 1}, \"xaxis\": {\"dtick\": 1, \"title\": \"Month\"}, \"yaxis\": {\"domain\": [0, 0.5], \"dtick\": 500, \"title\": \"# of Collisions\"}}, {\"linkText\": \"Export to plot.ly\", \"showLink\": true})});</script>"
      ],
      "text/vnd.plotly.v1+html": [
       "<div id=\"7b9945e0-4558-4c35-95a2-a126c1723d70\" style=\"height: 525px; width: 100%;\" class=\"plotly-graph-div\"></div><script type=\"text/javascript\">require([\"plotly\"], function(Plotly) { window.PLOTLYENV=window.PLOTLYENV || {};window.PLOTLYENV.BASE_URL=\"https://plot.ly\";Plotly.newPlot(\"7b9945e0-4558-4c35-95a2-a126c1723d70\", [{\"opacity\": 0.6, \"textposition\": \"auto\", \"name\": \"Number of Collisions\", \"text\": [\"1275\", \"1279\", \"1224\", \"913\", \"1084\", \"1095\", \"971\", \"990\", \"1176\", \"1139\", \"1493\", \"1755\"], \"y\": [1275.0, 1279.0, 1224.0, 913.0, 1084.0, 1095.0, 971.0, 990.0, 1176.0, 1139.0, 1493.0, 1755.0], \"x\": [1.0, 2.0, 3.0, 4.0, 5.0, 6.0, 7.0, 8.0, 9.0, 10.0, 11.0, 12.0], \"type\": \"bar\", \"uid\": \"a8887546-a722-11e8-9fa6-0800275aa47c\"}, {\"name\": \"Monthly Total Snow on Ground\", \"yaxis\": \"y2\", \"mode\": \"lines\", \"xaxis\": \"x2\", \"y\": [742.0, 964.0, 485.0, 6.0, 0.0, 0.0, 0.0, 0.0, 0.0, 0.0, 26.0, 311.0], \"x\": [1.0, 2.0, 3.0, 4.0, 5.0, 6.0, 7.0, 8.0, 9.0, 10.0, 11.0, 12.0], \"type\": \"scatter\", \"uid\": \"a8887852-a722-11e8-9fa6-0800275aa47c\"}], {\"yaxis2\": {\"domain\": [0.55, 1.0], \"title\": \"Snow on Grnd (cm)\"}, \"title\": \"Snow on Ground Analysis (2017)\", \"xaxis2\": {\"anchor\": \"y2\", \"dtick\": 1}, \"xaxis\": {\"dtick\": 1, \"title\": \"Month\"}, \"yaxis\": {\"domain\": [0, 0.5], \"dtick\": 500, \"title\": \"# of Collisions\"}}, {\"linkText\": \"Export to plot.ly\", \"showLink\": true})});</script>"
      ]
     },
     "metadata": {},
     "output_type": "display_data"
    }
   ],
   "source": [
    "df_avg = wt1417.groupby([\"Year\",\"Month\"]).mean()\n",
    "df_avg[\"Year\"] = [x[0] for x in df_avg.index]\n",
    "df_avg[\"Month\"] = [x[1] for x in df_avg.index]\n",
    "\n",
    "df_sum = wt1417.groupby([\"Year\",\"Month\"]).sum()\n",
    "df_sum[\"Year\"] = [x[0] for x in df_sum.index]\n",
    "df_sum[\"Month\"] = [x[1] for x in df_sum.index]\n",
    "\n",
    "def printSnowOnGrndInYear(n):\n",
    "    monthCase = go.Bar(x = df_sum[df_sum[\"Year\"]==n][\"Month\"],\n",
    "                       y = df_sum[df_sum[\"Year\"]==n][\"Number of Collisions\"],\n",
    "                       text = df_sum[df_sum[\"Year\"]==n][\"Number of Collisions\"],\n",
    "                       textposition = 'auto',\n",
    "                       opacity = 0.6,\n",
    "                       name = 'Number of Collisions')\n",
    "    total_snowOnGrnd = go.Scatter(x = df_sum[df_sum[\"Year\"]==n][\"Month\"],\n",
    "                         y = df_sum[df_sum[\"Year\"]==n][\"Snow on Grnd (cm)\"],\n",
    "                         mode = 'lines',\n",
    "                         name = 'Monthly Total Snow on Ground',\n",
    "                         xaxis = 'x2', \n",
    "                         yaxis = 'y2')\n",
    "    fig = dict(data = [monthCase, total_snowOnGrnd], \n",
    "               layout = go.Layout(title = \"Snow on Ground Analysis (\" + str(n) + \")\",\n",
    "                                  xaxis = dict(title='Month', dtick=1),\n",
    "                                  yaxis = dict(title='# of Collisions', dtick=500, domain = [0,0.5]),\n",
    "                                  yaxis2 = dict(title='Snow on Grnd (cm)', domain = [0.55,1.0]),\n",
    "                                  xaxis2 = dict(dtick=1, anchor = 'y2')\n",
    "                                 )\n",
    "              )\n",
    "    iplot(fig)\n",
    "    \n",
    "for m in range(2014,2018):\n",
    "    printSnowOnGrndInYear(m)"
   ]
  },
  {
   "cell_type": "markdown",
   "metadata": {},
   "source": [
    "**Brief Conclusion:**\n",
    "* The curve of monthly snowfall and snow on ground is similar to the trend of monthly collisions. \n",
    "\n",
    "**Hypothesis:**\n",
    "* Snowy weather causes collisions from the perspective of reducing visibility and grip. "
   ]
  },
  {
   "cell_type": "code",
   "execution_count": 13,
   "metadata": {},
   "outputs": [
    {
     "data": {
      "application/vnd.plotly.v1+json": {
       "data": [
        {
         "name": "Number of Collisions",
         "opacity": 0.6,
         "text": [
          "1790",
          "1349",
          "1190",
          "936",
          "1093",
          "1166",
          "1115",
          "1094",
          "1126",
          "1260",
          "1340",
          "1384"
         ],
         "textposition": "auto",
         "type": "bar",
         "uid": "a89da4de-a722-11e8-9fa6-0800275aa47c",
         "x": [
          1,
          2,
          3,
          4,
          5,
          6,
          7,
          8,
          9,
          10,
          11,
          12
         ],
         "y": [
          1790,
          1349,
          1190,
          936,
          1093,
          1166,
          1115,
          1094,
          1126,
          1260,
          1340,
          1384
         ]
        },
        {
         "mode": "lines",
         "name": "Monthly Total Precip",
         "type": "scatter",
         "uid": "a89da81c-a722-11e8-9fa6-0800275aa47c",
         "x": [
          1,
          2,
          3,
          4,
          5,
          6,
          7,
          8,
          9,
          10,
          11,
          12
         ],
         "xaxis": "x2",
         "y": [
          34.2,
          53.300000000000004,
          54.900000000000006,
          98.3,
          75.10000000000001,
          156.2,
          85.60000000000001,
          104.3,
          97.10000000000002,
          64.8,
          37.2,
          42.1
         ],
         "yaxis": "y2"
        }
       ],
       "layout": {
        "title": "Precip Analysis (2014)",
        "xaxis": {
         "dtick": 1,
         "title": "Month"
        },
        "xaxis2": {
         "anchor": "y2",
         "dtick": 1
        },
        "yaxis": {
         "domain": [
          0,
          0.5
         ],
         "dtick": 500,
         "title": "# of Collisions"
        },
        "yaxis2": {
         "domain": [
          0.55,
          1
         ],
         "title": "Total Precip (mm)"
        }
       }
      },
      "text/html": [
       "<div id=\"3830a93a-741c-479e-b858-a54da8279c74\" style=\"height: 525px; width: 100%;\" class=\"plotly-graph-div\"></div><script type=\"text/javascript\">require([\"plotly\"], function(Plotly) { window.PLOTLYENV=window.PLOTLYENV || {};window.PLOTLYENV.BASE_URL=\"https://plot.ly\";Plotly.newPlot(\"3830a93a-741c-479e-b858-a54da8279c74\", [{\"opacity\": 0.6, \"textposition\": \"auto\", \"name\": \"Number of Collisions\", \"text\": [\"1790\", \"1349\", \"1190\", \"936\", \"1093\", \"1166\", \"1115\", \"1094\", \"1126\", \"1260\", \"1340\", \"1384\"], \"y\": [1790.0, 1349.0, 1190.0, 936.0, 1093.0, 1166.0, 1115.0, 1094.0, 1126.0, 1260.0, 1340.0, 1384.0], \"x\": [1.0, 2.0, 3.0, 4.0, 5.0, 6.0, 7.0, 8.0, 9.0, 10.0, 11.0, 12.0], \"type\": \"bar\", \"uid\": \"a8a48fe2-a722-11e8-9fa6-0800275aa47c\"}, {\"name\": \"Monthly Total Precip\", \"yaxis\": \"y2\", \"mode\": \"lines\", \"xaxis\": \"x2\", \"y\": [34.2, 53.300000000000004, 54.900000000000006, 98.3, 75.10000000000001, 156.2, 85.60000000000001, 104.3, 97.10000000000002, 64.8, 37.2, 42.1], \"x\": [1.0, 2.0, 3.0, 4.0, 5.0, 6.0, 7.0, 8.0, 9.0, 10.0, 11.0, 12.0], \"type\": \"scatter\", \"uid\": \"a8a49474-a722-11e8-9fa6-0800275aa47c\"}], {\"yaxis2\": {\"domain\": [0.55, 1.0], \"title\": \"Total Precip (mm)\"}, \"title\": \"Precip Analysis (2014)\", \"xaxis2\": {\"anchor\": \"y2\", \"dtick\": 1}, \"xaxis\": {\"dtick\": 1, \"title\": \"Month\"}, \"yaxis\": {\"domain\": [0, 0.5], \"dtick\": 500, \"title\": \"# of Collisions\"}}, {\"linkText\": \"Export to plot.ly\", \"showLink\": true})});</script>"
      ],
      "text/vnd.plotly.v1+html": [
       "<div id=\"3830a93a-741c-479e-b858-a54da8279c74\" style=\"height: 525px; width: 100%;\" class=\"plotly-graph-div\"></div><script type=\"text/javascript\">require([\"plotly\"], function(Plotly) { window.PLOTLYENV=window.PLOTLYENV || {};window.PLOTLYENV.BASE_URL=\"https://plot.ly\";Plotly.newPlot(\"3830a93a-741c-479e-b858-a54da8279c74\", [{\"opacity\": 0.6, \"textposition\": \"auto\", \"name\": \"Number of Collisions\", \"text\": [\"1790\", \"1349\", \"1190\", \"936\", \"1093\", \"1166\", \"1115\", \"1094\", \"1126\", \"1260\", \"1340\", \"1384\"], \"y\": [1790.0, 1349.0, 1190.0, 936.0, 1093.0, 1166.0, 1115.0, 1094.0, 1126.0, 1260.0, 1340.0, 1384.0], \"x\": [1.0, 2.0, 3.0, 4.0, 5.0, 6.0, 7.0, 8.0, 9.0, 10.0, 11.0, 12.0], \"type\": \"bar\", \"uid\": \"a8a48fe2-a722-11e8-9fa6-0800275aa47c\"}, {\"name\": \"Monthly Total Precip\", \"yaxis\": \"y2\", \"mode\": \"lines\", \"xaxis\": \"x2\", \"y\": [34.2, 53.300000000000004, 54.900000000000006, 98.3, 75.10000000000001, 156.2, 85.60000000000001, 104.3, 97.10000000000002, 64.8, 37.2, 42.1], \"x\": [1.0, 2.0, 3.0, 4.0, 5.0, 6.0, 7.0, 8.0, 9.0, 10.0, 11.0, 12.0], \"type\": \"scatter\", \"uid\": \"a8a49474-a722-11e8-9fa6-0800275aa47c\"}], {\"yaxis2\": {\"domain\": [0.55, 1.0], \"title\": \"Total Precip (mm)\"}, \"title\": \"Precip Analysis (2014)\", \"xaxis2\": {\"anchor\": \"y2\", \"dtick\": 1}, \"xaxis\": {\"dtick\": 1, \"title\": \"Month\"}, \"yaxis\": {\"domain\": [0, 0.5], \"dtick\": 500, \"title\": \"# of Collisions\"}}, {\"linkText\": \"Export to plot.ly\", \"showLink\": true})});</script>"
      ]
     },
     "metadata": {},
     "output_type": "display_data"
    },
    {
     "data": {
      "application/vnd.plotly.v1+json": {
       "data": [
        {
         "name": "Number of Collisions",
         "opacity": 0.6,
         "text": [
          "2027",
          "1900",
          "1064",
          "901",
          "1115",
          "1219",
          "1115",
          "1058",
          "1133",
          "1199",
          "1249",
          "1098"
         ],
         "textposition": "auto",
         "type": "bar",
         "uid": "a8b473d0-a722-11e8-9fa6-0800275aa47c",
         "x": [
          1,
          2,
          3,
          4,
          5,
          6,
          7,
          8,
          9,
          10,
          11,
          12
         ],
         "y": [
          2027,
          1900,
          1064,
          901,
          1115,
          1219,
          1115,
          1058,
          1133,
          1199,
          1249,
          1098
         ]
        },
        {
         "mode": "lines",
         "name": "Monthly Total Precip",
         "type": "scatter",
         "uid": "a8b4792a-a722-11e8-9fa6-0800275aa47c",
         "x": [
          1,
          2,
          3,
          4,
          5,
          6,
          7,
          8,
          9,
          10,
          11,
          12
         ],
         "xaxis": "x2",
         "y": [
          47.6,
          33.800000000000004,
          24.499999999999996,
          61.5,
          65,
          107.99999999999999,
          63.10000000000001,
          76.49999999999999,
          96.6,
          83.99999999999999,
          33,
          92.10000000000001
         ],
         "yaxis": "y2"
        }
       ],
       "layout": {
        "title": "Precip Analysis (2015)",
        "xaxis": {
         "dtick": 1,
         "title": "Month"
        },
        "xaxis2": {
         "anchor": "y2",
         "dtick": 1
        },
        "yaxis": {
         "domain": [
          0,
          0.5
         ],
         "dtick": 500,
         "title": "# of Collisions"
        },
        "yaxis2": {
         "domain": [
          0.55,
          1
         ],
         "title": "Total Precip (mm)"
        }
       }
      },
      "text/html": [
       "<div id=\"cff8b91c-753b-410a-93e7-94c4146be470\" style=\"height: 525px; width: 100%;\" class=\"plotly-graph-div\"></div><script type=\"text/javascript\">require([\"plotly\"], function(Plotly) { window.PLOTLYENV=window.PLOTLYENV || {};window.PLOTLYENV.BASE_URL=\"https://plot.ly\";Plotly.newPlot(\"cff8b91c-753b-410a-93e7-94c4146be470\", [{\"opacity\": 0.6, \"textposition\": \"auto\", \"name\": \"Number of Collisions\", \"text\": [\"2027\", \"1900\", \"1064\", \"901\", \"1115\", \"1219\", \"1115\", \"1058\", \"1133\", \"1199\", \"1249\", \"1098\"], \"y\": [2027.0, 1900.0, 1064.0, 901.0, 1115.0, 1219.0, 1115.0, 1058.0, 1133.0, 1199.0, 1249.0, 1098.0], \"x\": [1.0, 2.0, 3.0, 4.0, 5.0, 6.0, 7.0, 8.0, 9.0, 10.0, 11.0, 12.0], \"type\": \"bar\", \"uid\": \"a8bad95a-a722-11e8-9fa6-0800275aa47c\"}, {\"name\": \"Monthly Total Precip\", \"yaxis\": \"y2\", \"mode\": \"lines\", \"xaxis\": \"x2\", \"y\": [47.6, 33.800000000000004, 24.499999999999996, 61.5, 65.0, 107.99999999999999, 63.10000000000001, 76.49999999999999, 96.6, 83.99999999999999, 33.0, 92.10000000000001], \"x\": [1.0, 2.0, 3.0, 4.0, 5.0, 6.0, 7.0, 8.0, 9.0, 10.0, 11.0, 12.0], \"type\": \"scatter\", \"uid\": \"a8badcd4-a722-11e8-9fa6-0800275aa47c\"}], {\"yaxis2\": {\"domain\": [0.55, 1.0], \"title\": \"Total Precip (mm)\"}, \"title\": \"Precip Analysis (2015)\", \"xaxis2\": {\"anchor\": \"y2\", \"dtick\": 1}, \"xaxis\": {\"dtick\": 1, \"title\": \"Month\"}, \"yaxis\": {\"domain\": [0, 0.5], \"dtick\": 500, \"title\": \"# of Collisions\"}}, {\"linkText\": \"Export to plot.ly\", \"showLink\": true})});</script>"
      ],
      "text/vnd.plotly.v1+html": [
       "<div id=\"cff8b91c-753b-410a-93e7-94c4146be470\" style=\"height: 525px; width: 100%;\" class=\"plotly-graph-div\"></div><script type=\"text/javascript\">require([\"plotly\"], function(Plotly) { window.PLOTLYENV=window.PLOTLYENV || {};window.PLOTLYENV.BASE_URL=\"https://plot.ly\";Plotly.newPlot(\"cff8b91c-753b-410a-93e7-94c4146be470\", [{\"opacity\": 0.6, \"textposition\": \"auto\", \"name\": \"Number of Collisions\", \"text\": [\"2027\", \"1900\", \"1064\", \"901\", \"1115\", \"1219\", \"1115\", \"1058\", \"1133\", \"1199\", \"1249\", \"1098\"], \"y\": [2027.0, 1900.0, 1064.0, 901.0, 1115.0, 1219.0, 1115.0, 1058.0, 1133.0, 1199.0, 1249.0, 1098.0], \"x\": [1.0, 2.0, 3.0, 4.0, 5.0, 6.0, 7.0, 8.0, 9.0, 10.0, 11.0, 12.0], \"type\": \"bar\", \"uid\": \"a8bad95a-a722-11e8-9fa6-0800275aa47c\"}, {\"name\": \"Monthly Total Precip\", \"yaxis\": \"y2\", \"mode\": \"lines\", \"xaxis\": \"x2\", \"y\": [47.6, 33.800000000000004, 24.499999999999996, 61.5, 65.0, 107.99999999999999, 63.10000000000001, 76.49999999999999, 96.6, 83.99999999999999, 33.0, 92.10000000000001], \"x\": [1.0, 2.0, 3.0, 4.0, 5.0, 6.0, 7.0, 8.0, 9.0, 10.0, 11.0, 12.0], \"type\": \"scatter\", \"uid\": \"a8badcd4-a722-11e8-9fa6-0800275aa47c\"}], {\"yaxis2\": {\"domain\": [0.55, 1.0], \"title\": \"Total Precip (mm)\"}, \"title\": \"Precip Analysis (2015)\", \"xaxis2\": {\"anchor\": \"y2\", \"dtick\": 1}, \"xaxis\": {\"dtick\": 1, \"title\": \"Month\"}, \"yaxis\": {\"domain\": [0, 0.5], \"dtick\": 500, \"title\": \"# of Collisions\"}}, {\"linkText\": \"Export to plot.ly\", \"showLink\": true})});</script>"
      ]
     },
     "metadata": {},
     "output_type": "display_data"
    },
    {
     "data": {
      "application/vnd.plotly.v1+json": {
       "data": [
        {
         "name": "Number of Collisions",
         "opacity": 0.6,
         "text": [
          "1407",
          "1523",
          "1018",
          "944",
          "1109",
          "1135",
          "1035",
          "976",
          "1073",
          "1111",
          "1155",
          "1537"
         ],
         "textposition": "auto",
         "type": "bar",
         "uid": "a8c9a8b8-a722-11e8-9fa6-0800275aa47c",
         "x": [
          1,
          2,
          3,
          4,
          5,
          6,
          7,
          8,
          9,
          10,
          11,
          12
         ],
         "y": [
          1407,
          1523,
          1018,
          944,
          1109,
          1135,
          1035,
          976,
          1073,
          1111,
          1155,
          1537
         ]
        },
        {
         "mode": "lines",
         "name": "Monthly Total Precip",
         "type": "scatter",
         "uid": "a8c9ac1e-a722-11e8-9fa6-0800275aa47c",
         "x": [
          1,
          2,
          3,
          4,
          5,
          6,
          7,
          8,
          9,
          10,
          11,
          12
         ],
         "xaxis": "x2",
         "y": [
          52.199999999999996,
          98.39999999999999,
          98,
          42.4,
          26.4,
          56.60000000000001,
          100.8,
          122.4,
          76.60000000000001,
          99.19999999999999,
          60.9,
          84
         ],
         "yaxis": "y2"
        }
       ],
       "layout": {
        "title": "Precip Analysis (2016)",
        "xaxis": {
         "dtick": 1,
         "title": "Month"
        },
        "xaxis2": {
         "anchor": "y2",
         "dtick": 1
        },
        "yaxis": {
         "domain": [
          0,
          0.5
         ],
         "dtick": 500,
         "title": "# of Collisions"
        },
        "yaxis2": {
         "domain": [
          0.55,
          1
         ],
         "title": "Total Precip (mm)"
        }
       }
      },
      "text/html": [
       "<div id=\"84208554-0ccd-4f4d-aaa9-a25dde18a621\" style=\"height: 525px; width: 100%;\" class=\"plotly-graph-div\"></div><script type=\"text/javascript\">require([\"plotly\"], function(Plotly) { window.PLOTLYENV=window.PLOTLYENV || {};window.PLOTLYENV.BASE_URL=\"https://plot.ly\";Plotly.newPlot(\"84208554-0ccd-4f4d-aaa9-a25dde18a621\", [{\"opacity\": 0.6, \"textposition\": \"auto\", \"name\": \"Number of Collisions\", \"text\": [\"1407\", \"1523\", \"1018\", \"944\", \"1109\", \"1135\", \"1035\", \"976\", \"1073\", \"1111\", \"1155\", \"1537\"], \"y\": [1407.0, 1523.0, 1018.0, 944.0, 1109.0, 1135.0, 1035.0, 976.0, 1073.0, 1111.0, 1155.0, 1537.0], \"x\": [1.0, 2.0, 3.0, 4.0, 5.0, 6.0, 7.0, 8.0, 9.0, 10.0, 11.0, 12.0], \"type\": \"bar\", \"uid\": \"a8cf5db2-a722-11e8-9fa6-0800275aa47c\"}, {\"name\": \"Monthly Total Precip\", \"yaxis\": \"y2\", \"mode\": \"lines\", \"xaxis\": \"x2\", \"y\": [52.199999999999996, 98.39999999999999, 98.0, 42.4, 26.4, 56.60000000000001, 100.8, 122.4, 76.60000000000001, 99.19999999999999, 60.9, 84.0], \"x\": [1.0, 2.0, 3.0, 4.0, 5.0, 6.0, 7.0, 8.0, 9.0, 10.0, 11.0, 12.0], \"type\": \"scatter\", \"uid\": \"a8cf6348-a722-11e8-9fa6-0800275aa47c\"}], {\"yaxis2\": {\"domain\": [0.55, 1.0], \"title\": \"Total Precip (mm)\"}, \"title\": \"Precip Analysis (2016)\", \"xaxis2\": {\"anchor\": \"y2\", \"dtick\": 1}, \"xaxis\": {\"dtick\": 1, \"title\": \"Month\"}, \"yaxis\": {\"domain\": [0, 0.5], \"dtick\": 500, \"title\": \"# of Collisions\"}}, {\"linkText\": \"Export to plot.ly\", \"showLink\": true})});</script>"
      ],
      "text/vnd.plotly.v1+html": [
       "<div id=\"84208554-0ccd-4f4d-aaa9-a25dde18a621\" style=\"height: 525px; width: 100%;\" class=\"plotly-graph-div\"></div><script type=\"text/javascript\">require([\"plotly\"], function(Plotly) { window.PLOTLYENV=window.PLOTLYENV || {};window.PLOTLYENV.BASE_URL=\"https://plot.ly\";Plotly.newPlot(\"84208554-0ccd-4f4d-aaa9-a25dde18a621\", [{\"opacity\": 0.6, \"textposition\": \"auto\", \"name\": \"Number of Collisions\", \"text\": [\"1407\", \"1523\", \"1018\", \"944\", \"1109\", \"1135\", \"1035\", \"976\", \"1073\", \"1111\", \"1155\", \"1537\"], \"y\": [1407.0, 1523.0, 1018.0, 944.0, 1109.0, 1135.0, 1035.0, 976.0, 1073.0, 1111.0, 1155.0, 1537.0], \"x\": [1.0, 2.0, 3.0, 4.0, 5.0, 6.0, 7.0, 8.0, 9.0, 10.0, 11.0, 12.0], \"type\": \"bar\", \"uid\": \"a8cf5db2-a722-11e8-9fa6-0800275aa47c\"}, {\"name\": \"Monthly Total Precip\", \"yaxis\": \"y2\", \"mode\": \"lines\", \"xaxis\": \"x2\", \"y\": [52.199999999999996, 98.39999999999999, 98.0, 42.4, 26.4, 56.60000000000001, 100.8, 122.4, 76.60000000000001, 99.19999999999999, 60.9, 84.0], \"x\": [1.0, 2.0, 3.0, 4.0, 5.0, 6.0, 7.0, 8.0, 9.0, 10.0, 11.0, 12.0], \"type\": \"scatter\", \"uid\": \"a8cf6348-a722-11e8-9fa6-0800275aa47c\"}], {\"yaxis2\": {\"domain\": [0.55, 1.0], \"title\": \"Total Precip (mm)\"}, \"title\": \"Precip Analysis (2016)\", \"xaxis2\": {\"anchor\": \"y2\", \"dtick\": 1}, \"xaxis\": {\"dtick\": 1, \"title\": \"Month\"}, \"yaxis\": {\"domain\": [0, 0.5], \"dtick\": 500, \"title\": \"# of Collisions\"}}, {\"linkText\": \"Export to plot.ly\", \"showLink\": true})});</script>"
      ]
     },
     "metadata": {},
     "output_type": "display_data"
    },
    {
     "data": {
      "application/vnd.plotly.v1+json": {
       "data": [
        {
         "name": "Number of Collisions",
         "opacity": 0.6,
         "text": [
          "1275",
          "1279",
          "1224",
          "913",
          "1084",
          "1095",
          "971",
          "990",
          "1176",
          "1139",
          "1493",
          "1755"
         ],
         "textposition": "auto",
         "type": "bar",
         "uid": "a8dca1d4-a722-11e8-9fa6-0800275aa47c",
         "x": [
          1,
          2,
          3,
          4,
          5,
          6,
          7,
          8,
          9,
          10,
          11,
          12
         ],
         "y": [
          1275,
          1279,
          1224,
          913,
          1084,
          1095,
          971,
          990,
          1176,
          1139,
          1493,
          1755
         ]
        },
        {
         "mode": "lines",
         "name": "Monthly Total Precip",
         "type": "scatter",
         "uid": "a8dca5a8-a722-11e8-9fa6-0800275aa47c",
         "x": [
          1,
          2,
          3,
          4,
          5,
          6,
          7,
          8,
          9,
          10,
          11,
          12
         ],
         "xaxis": "x2",
         "y": [
          64.89999999999999,
          88.8,
          61.800000000000004,
          159,
          172.4,
          156.8,
          169.6,
          82.39999999999999,
          51.6,
          142.40000000000003,
          86.4,
          32.400000000000006
         ],
         "yaxis": "y2"
        }
       ],
       "layout": {
        "title": "Precip Analysis (2017)",
        "xaxis": {
         "dtick": 1,
         "title": "Month"
        },
        "xaxis2": {
         "anchor": "y2",
         "dtick": 1
        },
        "yaxis": {
         "domain": [
          0,
          0.5
         ],
         "dtick": 500,
         "title": "# of Collisions"
        },
        "yaxis2": {
         "domain": [
          0.55,
          1
         ],
         "title": "Total Precip (mm)"
        }
       }
      },
      "text/html": [
       "<div id=\"c23495a5-49e3-47b2-be0b-36b8a9407af0\" style=\"height: 525px; width: 100%;\" class=\"plotly-graph-div\"></div><script type=\"text/javascript\">require([\"plotly\"], function(Plotly) { window.PLOTLYENV=window.PLOTLYENV || {};window.PLOTLYENV.BASE_URL=\"https://plot.ly\";Plotly.newPlot(\"c23495a5-49e3-47b2-be0b-36b8a9407af0\", [{\"opacity\": 0.6, \"textposition\": \"auto\", \"name\": \"Number of Collisions\", \"text\": [\"1275\", \"1279\", \"1224\", \"913\", \"1084\", \"1095\", \"971\", \"990\", \"1176\", \"1139\", \"1493\", \"1755\"], \"y\": [1275.0, 1279.0, 1224.0, 913.0, 1084.0, 1095.0, 971.0, 990.0, 1176.0, 1139.0, 1493.0, 1755.0], \"x\": [1.0, 2.0, 3.0, 4.0, 5.0, 6.0, 7.0, 8.0, 9.0, 10.0, 11.0, 12.0], \"type\": \"bar\", \"uid\": \"a8e38152-a722-11e8-9fa6-0800275aa47c\"}, {\"name\": \"Monthly Total Precip\", \"yaxis\": \"y2\", \"mode\": \"lines\", \"xaxis\": \"x2\", \"y\": [64.89999999999999, 88.8, 61.800000000000004, 159.0, 172.4, 156.8, 169.6, 82.39999999999999, 51.6, 142.40000000000003, 86.4, 32.400000000000006], \"x\": [1.0, 2.0, 3.0, 4.0, 5.0, 6.0, 7.0, 8.0, 9.0, 10.0, 11.0, 12.0], \"type\": \"scatter\", \"uid\": \"a8e38512-a722-11e8-9fa6-0800275aa47c\"}], {\"yaxis2\": {\"domain\": [0.55, 1.0], \"title\": \"Total Precip (mm)\"}, \"title\": \"Precip Analysis (2017)\", \"xaxis2\": {\"anchor\": \"y2\", \"dtick\": 1}, \"xaxis\": {\"dtick\": 1, \"title\": \"Month\"}, \"yaxis\": {\"domain\": [0, 0.5], \"dtick\": 500, \"title\": \"# of Collisions\"}}, {\"linkText\": \"Export to plot.ly\", \"showLink\": true})});</script>"
      ],
      "text/vnd.plotly.v1+html": [
       "<div id=\"c23495a5-49e3-47b2-be0b-36b8a9407af0\" style=\"height: 525px; width: 100%;\" class=\"plotly-graph-div\"></div><script type=\"text/javascript\">require([\"plotly\"], function(Plotly) { window.PLOTLYENV=window.PLOTLYENV || {};window.PLOTLYENV.BASE_URL=\"https://plot.ly\";Plotly.newPlot(\"c23495a5-49e3-47b2-be0b-36b8a9407af0\", [{\"opacity\": 0.6, \"textposition\": \"auto\", \"name\": \"Number of Collisions\", \"text\": [\"1275\", \"1279\", \"1224\", \"913\", \"1084\", \"1095\", \"971\", \"990\", \"1176\", \"1139\", \"1493\", \"1755\"], \"y\": [1275.0, 1279.0, 1224.0, 913.0, 1084.0, 1095.0, 971.0, 990.0, 1176.0, 1139.0, 1493.0, 1755.0], \"x\": [1.0, 2.0, 3.0, 4.0, 5.0, 6.0, 7.0, 8.0, 9.0, 10.0, 11.0, 12.0], \"type\": \"bar\", \"uid\": \"a8e38152-a722-11e8-9fa6-0800275aa47c\"}, {\"name\": \"Monthly Total Precip\", \"yaxis\": \"y2\", \"mode\": \"lines\", \"xaxis\": \"x2\", \"y\": [64.89999999999999, 88.8, 61.800000000000004, 159.0, 172.4, 156.8, 169.6, 82.39999999999999, 51.6, 142.40000000000003, 86.4, 32.400000000000006], \"x\": [1.0, 2.0, 3.0, 4.0, 5.0, 6.0, 7.0, 8.0, 9.0, 10.0, 11.0, 12.0], \"type\": \"scatter\", \"uid\": \"a8e38512-a722-11e8-9fa6-0800275aa47c\"}], {\"yaxis2\": {\"domain\": [0.55, 1.0], \"title\": \"Total Precip (mm)\"}, \"title\": \"Precip Analysis (2017)\", \"xaxis2\": {\"anchor\": \"y2\", \"dtick\": 1}, \"xaxis\": {\"dtick\": 1, \"title\": \"Month\"}, \"yaxis\": {\"domain\": [0, 0.5], \"dtick\": 500, \"title\": \"# of Collisions\"}}, {\"linkText\": \"Export to plot.ly\", \"showLink\": true})});</script>"
      ]
     },
     "metadata": {},
     "output_type": "display_data"
    }
   ],
   "source": [
    "df_avg = wt1417.groupby([\"Year\",\"Month\"]).mean()\n",
    "df_avg[\"Year\"] = [x[0] for x in df_avg.index]\n",
    "df_avg[\"Month\"] = [x[1] for x in df_avg.index]\n",
    "\n",
    "df_sum = wt1417.groupby([\"Year\",\"Month\"]).sum()\n",
    "df_sum[\"Year\"] = [x[0] for x in df_sum.index]\n",
    "df_sum[\"Month\"] = [x[1] for x in df_sum.index]\n",
    "\n",
    "def printPrecipInYear(n):\n",
    "    monthCase = go.Bar(x = df_sum[df_sum[\"Year\"]==n][\"Month\"],\n",
    "                       y = df_sum[df_sum[\"Year\"]==n][\"Number of Collisions\"],\n",
    "                       text = df_sum[df_sum[\"Year\"]==n][\"Number of Collisions\"],\n",
    "                       textposition = 'auto',\n",
    "                       opacity = 0.6,\n",
    "                       name = 'Number of Collisions')\n",
    "    total_precip = go.Scatter(x = df_sum[df_sum[\"Year\"]==n][\"Month\"],\n",
    "                         y = df_sum[df_sum[\"Year\"]==n][\"Total Precip (mm)\"],\n",
    "                         mode = 'lines',\n",
    "                         name = 'Monthly Total Precip',\n",
    "                         xaxis = 'x2', \n",
    "                         yaxis = 'y2')\n",
    "    fig = dict(data = [monthCase, total_precip], \n",
    "               layout = go.Layout(title = \"Precip Analysis (\" + str(n) + \")\",\n",
    "                                  xaxis = dict(title='Month', dtick=1),\n",
    "                                  yaxis = dict(title='# of Collisions', dtick=500, domain = [0,0.5]),\n",
    "                                  yaxis2 = dict(title='Total Precip (mm)', domain = [0.55,1.0]),\n",
    "                                  xaxis2 = dict(dtick=1, anchor = 'y2')\n",
    "                                 )\n",
    "              )\n",
    "    iplot(fig)\n",
    "    \n",
    "for m in range(2014,2018):\n",
    "    printPrecipInYear(m)"
   ]
  },
  {
   "cell_type": "markdown",
   "metadata": {},
   "source": [
    "**Brief Conclusion:**\n",
    "* No clear relationship between monthly precipitation and collisions"
   ]
  },
  {
   "cell_type": "markdown",
   "metadata": {},
   "source": [
    "### 2.4 The day in a year with the largest number of collisions"
   ]
  },
  {
   "cell_type": "markdown",
   "metadata": {},
   "source": [
    "**In 2014:**"
   ]
  },
  {
   "cell_type": "code",
   "execution_count": 33,
   "metadata": {},
   "outputs": [
    {
     "data": {
      "text/html": [
       "<div>\n",
       "<style scoped>\n",
       "    .dataframe tbody tr th:only-of-type {\n",
       "        vertical-align: middle;\n",
       "    }\n",
       "\n",
       "    .dataframe tbody tr th {\n",
       "        vertical-align: top;\n",
       "    }\n",
       "\n",
       "    .dataframe thead th {\n",
       "        text-align: right;\n",
       "    }\n",
       "</style>\n",
       "<table border=\"1\" class=\"dataframe\">\n",
       "  <thead>\n",
       "    <tr style=\"text-align: right;\">\n",
       "      <th></th>\n",
       "      <th>Date</th>\n",
       "      <th>Max Temp (°C)</th>\n",
       "      <th>Min Temp (°C)</th>\n",
       "      <th>Mean Temp (°C)</th>\n",
       "      <th>Total Rain (mm)</th>\n",
       "      <th>Total Snow (cm)</th>\n",
       "      <th>Total Precip (mm)</th>\n",
       "      <th>Snow on Grnd (cm)</th>\n",
       "      <th>Number of Collisions</th>\n",
       "      <th>Year</th>\n",
       "      <th>Month</th>\n",
       "      <th>Day in month</th>\n",
       "      <th>Holiday</th>\n",
       "      <th>Day_Of_Week</th>\n",
       "    </tr>\n",
       "  </thead>\n",
       "  <tbody>\n",
       "    <tr>\n",
       "      <th>2</th>\n",
       "      <td>2014-01-03</td>\n",
       "      <td>-21.0</td>\n",
       "      <td>-28.1</td>\n",
       "      <td>-24.6</td>\n",
       "      <td>0.0</td>\n",
       "      <td>0.3</td>\n",
       "      <td>0.0</td>\n",
       "      <td>29</td>\n",
       "      <td>151</td>\n",
       "      <td>2014</td>\n",
       "      <td>1</td>\n",
       "      <td>3</td>\n",
       "      <td>NaN</td>\n",
       "      <td>T5_Fri</td>\n",
       "    </tr>\n",
       "  </tbody>\n",
       "</table>\n",
       "</div>"
      ],
      "text/plain": [
       "        Date  Max Temp (°C)  Min Temp (°C)  Mean Temp (°C)  Total Rain (mm)  \\\n",
       "2 2014-01-03          -21.0          -28.1           -24.6              0.0   \n",
       "\n",
       "   Total Snow (cm)  Total Precip (mm)  Snow on Grnd (cm)  \\\n",
       "2              0.3                0.0                 29   \n",
       "\n",
       "   Number of Collisions  Year  Month  Day in month Holiday Day_Of_Week  \n",
       "2                   151  2014      1             3     NaN      T5_Fri  "
      ]
     },
     "execution_count": 33,
     "metadata": {},
     "output_type": "execute_result"
    }
   ],
   "source": [
    "maxColl2014 = wt1417[wt1417[\"Year\"]==2014].sort_values([\"Number of Collisions\"], ascending=[0])\n",
    "maxColl2014.iloc[[0]]"
   ]
  },
  {
   "cell_type": "markdown",
   "metadata": {},
   "source": [
    "**In 2015:**"
   ]
  },
  {
   "cell_type": "code",
   "execution_count": 15,
   "metadata": {},
   "outputs": [
    {
     "data": {
      "text/html": [
       "<div>\n",
       "<style scoped>\n",
       "    .dataframe tbody tr th:only-of-type {\n",
       "        vertical-align: middle;\n",
       "    }\n",
       "\n",
       "    .dataframe tbody tr th {\n",
       "        vertical-align: top;\n",
       "    }\n",
       "\n",
       "    .dataframe thead th {\n",
       "        text-align: right;\n",
       "    }\n",
       "</style>\n",
       "<table border=\"1\" class=\"dataframe\">\n",
       "  <thead>\n",
       "    <tr style=\"text-align: right;\">\n",
       "      <th></th>\n",
       "      <th>Date</th>\n",
       "      <th>Max Temp (°C)</th>\n",
       "      <th>Min Temp (°C)</th>\n",
       "      <th>Mean Temp (°C)</th>\n",
       "      <th>Total Rain (mm)</th>\n",
       "      <th>Total Snow (cm)</th>\n",
       "      <th>Total Precip (mm)</th>\n",
       "      <th>Snow on Grnd (cm)</th>\n",
       "      <th>Number of Collisions</th>\n",
       "      <th>Year</th>\n",
       "      <th>Month</th>\n",
       "      <th>Day in month</th>\n",
       "      <th>Holiday</th>\n",
       "      <th>Day_Of_Week</th>\n",
       "    </tr>\n",
       "  </thead>\n",
       "  <tbody>\n",
       "    <tr>\n",
       "      <th>397</th>\n",
       "      <td>2015-02-02</td>\n",
       "      <td>-14.3</td>\n",
       "      <td>-20.4</td>\n",
       "      <td>-17.4</td>\n",
       "      <td>0.0</td>\n",
       "      <td>3.0</td>\n",
       "      <td>1.5</td>\n",
       "      <td>14</td>\n",
       "      <td>160</td>\n",
       "      <td>2015</td>\n",
       "      <td>2</td>\n",
       "      <td>2</td>\n",
       "      <td>NaN</td>\n",
       "      <td>T1_Mon</td>\n",
       "    </tr>\n",
       "  </tbody>\n",
       "</table>\n",
       "</div>"
      ],
      "text/plain": [
       "          Date  Max Temp (°C)  Min Temp (°C)  Mean Temp (°C)  Total Rain (mm)  \\\n",
       "397 2015-02-02          -14.3          -20.4           -17.4              0.0   \n",
       "\n",
       "     Total Snow (cm)  Total Precip (mm)  Snow on Grnd (cm)  \\\n",
       "397              3.0                1.5                 14   \n",
       "\n",
       "     Number of Collisions  Year  Month  Day in month Holiday Day_Of_Week  \n",
       "397                   160  2015      2             2     NaN      T1_Mon  "
      ]
     },
     "execution_count": 15,
     "metadata": {},
     "output_type": "execute_result"
    }
   ],
   "source": [
    "maxColl2015 = wt1417[wt1417[\"Year\"]==2015].sort_values([\"Number of Collisions\"], ascending=[0])\n",
    "maxColl2015.iloc[[0]]"
   ]
  },
  {
   "cell_type": "markdown",
   "metadata": {},
   "source": [
    "**In 2016:**"
   ]
  },
  {
   "cell_type": "code",
   "execution_count": 16,
   "metadata": {},
   "outputs": [
    {
     "data": {
      "text/html": [
       "<div>\n",
       "<style scoped>\n",
       "    .dataframe tbody tr th:only-of-type {\n",
       "        vertical-align: middle;\n",
       "    }\n",
       "\n",
       "    .dataframe tbody tr th {\n",
       "        vertical-align: top;\n",
       "    }\n",
       "\n",
       "    .dataframe thead th {\n",
       "        text-align: right;\n",
       "    }\n",
       "</style>\n",
       "<table border=\"1\" class=\"dataframe\">\n",
       "  <thead>\n",
       "    <tr style=\"text-align: right;\">\n",
       "      <th></th>\n",
       "      <th>Date</th>\n",
       "      <th>Max Temp (°C)</th>\n",
       "      <th>Min Temp (°C)</th>\n",
       "      <th>Mean Temp (°C)</th>\n",
       "      <th>Total Rain (mm)</th>\n",
       "      <th>Total Snow (cm)</th>\n",
       "      <th>Total Precip (mm)</th>\n",
       "      <th>Snow on Grnd (cm)</th>\n",
       "      <th>Number of Collisions</th>\n",
       "      <th>Year</th>\n",
       "      <th>Month</th>\n",
       "      <th>Day in month</th>\n",
       "      <th>Holiday</th>\n",
       "      <th>Day_Of_Week</th>\n",
       "    </tr>\n",
       "  </thead>\n",
       "  <tbody>\n",
       "    <tr>\n",
       "      <th>777</th>\n",
       "      <td>2016-02-17</td>\n",
       "      <td>0.1</td>\n",
       "      <td>-11.2</td>\n",
       "      <td>-5.6</td>\n",
       "      <td>0.0</td>\n",
       "      <td>0.4</td>\n",
       "      <td>0.4</td>\n",
       "      <td>40</td>\n",
       "      <td>152</td>\n",
       "      <td>2016</td>\n",
       "      <td>2</td>\n",
       "      <td>17</td>\n",
       "      <td>NaN</td>\n",
       "      <td>T3_Wed</td>\n",
       "    </tr>\n",
       "  </tbody>\n",
       "</table>\n",
       "</div>"
      ],
      "text/plain": [
       "          Date  Max Temp (°C)  Min Temp (°C)  Mean Temp (°C)  Total Rain (mm)  \\\n",
       "777 2016-02-17            0.1          -11.2            -5.6              0.0   \n",
       "\n",
       "     Total Snow (cm)  Total Precip (mm)  Snow on Grnd (cm)  \\\n",
       "777              0.4                0.4                 40   \n",
       "\n",
       "     Number of Collisions  Year  Month  Day in month Holiday Day_Of_Week  \n",
       "777                   152  2016      2            17     NaN      T3_Wed  "
      ]
     },
     "execution_count": 16,
     "metadata": {},
     "output_type": "execute_result"
    }
   ],
   "source": [
    "maxColl2016 = wt1417[wt1417[\"Year\"]==2016].sort_values([\"Number of Collisions\"], ascending=[0])\n",
    "maxColl2016.iloc[[0]]"
   ]
  },
  {
   "cell_type": "markdown",
   "metadata": {},
   "source": [
    "**In 2017:**"
   ]
  },
  {
   "cell_type": "code",
   "execution_count": 17,
   "metadata": {},
   "outputs": [
    {
     "data": {
      "text/html": [
       "<div>\n",
       "<style scoped>\n",
       "    .dataframe tbody tr th:only-of-type {\n",
       "        vertical-align: middle;\n",
       "    }\n",
       "\n",
       "    .dataframe tbody tr th {\n",
       "        vertical-align: top;\n",
       "    }\n",
       "\n",
       "    .dataframe thead th {\n",
       "        text-align: right;\n",
       "    }\n",
       "</style>\n",
       "<table border=\"1\" class=\"dataframe\">\n",
       "  <thead>\n",
       "    <tr style=\"text-align: right;\">\n",
       "      <th></th>\n",
       "      <th>Date</th>\n",
       "      <th>Max Temp (°C)</th>\n",
       "      <th>Min Temp (°C)</th>\n",
       "      <th>Mean Temp (°C)</th>\n",
       "      <th>Total Rain (mm)</th>\n",
       "      <th>Total Snow (cm)</th>\n",
       "      <th>Total Precip (mm)</th>\n",
       "      <th>Snow on Grnd (cm)</th>\n",
       "      <th>Number of Collisions</th>\n",
       "      <th>Year</th>\n",
       "      <th>Month</th>\n",
       "      <th>Day in month</th>\n",
       "      <th>Holiday</th>\n",
       "      <th>Day_Of_Week</th>\n",
       "    </tr>\n",
       "  </thead>\n",
       "  <tbody>\n",
       "    <tr>\n",
       "      <th>1178</th>\n",
       "      <td>2017-03-24</td>\n",
       "      <td>1.0</td>\n",
       "      <td>-4.0</td>\n",
       "      <td>-1.5</td>\n",
       "      <td>6.0</td>\n",
       "      <td>7.0</td>\n",
       "      <td>12.6</td>\n",
       "      <td>17</td>\n",
       "      <td>134</td>\n",
       "      <td>2017</td>\n",
       "      <td>3</td>\n",
       "      <td>24</td>\n",
       "      <td>NaN</td>\n",
       "      <td>T5_Fri</td>\n",
       "    </tr>\n",
       "  </tbody>\n",
       "</table>\n",
       "</div>"
      ],
      "text/plain": [
       "           Date  Max Temp (°C)  Min Temp (°C)  Mean Temp (°C)  \\\n",
       "1178 2017-03-24            1.0           -4.0            -1.5   \n",
       "\n",
       "      Total Rain (mm)  Total Snow (cm)  Total Precip (mm)  Snow on Grnd (cm)  \\\n",
       "1178              6.0              7.0               12.6                 17   \n",
       "\n",
       "      Number of Collisions  Year  Month  Day in month Holiday Day_Of_Week  \n",
       "1178                   134  2017      3            24     NaN      T5_Fri  "
      ]
     },
     "execution_count": 17,
     "metadata": {},
     "output_type": "execute_result"
    }
   ],
   "source": [
    "maxColl2017 = wt1417[wt1417[\"Year\"]==2017].sort_values([\"Number of Collisions\"], ascending=[0])\n",
    "maxColl2017.iloc[[0]]"
   ]
  },
  {
   "cell_type": "markdown",
   "metadata": {},
   "source": [
    "**Brief Conclusion:**\n",
    "* The day in a year with the largest number of collisions are in winter or close to winter. \n",
    "* low temperature, and with snow\n",
    "\n",
    "**Hypothesis:**\n",
    "* It still supports the hypothesis about weather: low temperature and snowy weather leads to collisions"
   ]
  },
  {
   "cell_type": "markdown",
   "metadata": {},
   "source": [
    "### 2.5 The location of collisions in Ottawa (on the date with the largest number of collisions)"
   ]
  },
  {
   "cell_type": "code",
   "execution_count": 18,
   "metadata": {},
   "outputs": [
    {
     "name": "stdout",
     "output_type": "stream",
     "text": [
      "2014/1/3:\n"
     ]
    },
    {
     "data": {
      "text/html": [
       "<div style=\"width:100%;\"><div style=\"position:relative;width:100%;height:0;padding-bottom:60%;\"><iframe src=\"data:text/html;charset=utf-8;base64,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\" style=\"position:absolute;width:100%;height:100%;left:0;top:0;border:none !important;\" allowfullscreen webkitallowfullscreen mozallowfullscreen></iframe></div></div>"
      ],
      "text/plain": [
       "<folium.folium.Map at 0x766ff10>"
      ]
     },
     "metadata": {},
     "output_type": "display_data"
    },
    {
     "name": "stdout",
     "output_type": "stream",
     "text": [
      "2015/2/2:\n"
     ]
    },
    {
     "data": {
      "text/html": [
       "<div style=\"width:100%;\"><div style=\"position:relative;width:100%;height:0;padding-bottom:60%;\"><iframe src=\"data:text/html;charset=utf-8;base64,PCFET0NUWVBFIGh0bWw+CjxoZWFkPiAgICAKICAgIDxtZXRhIGh0dHAtZXF1aXY9ImNvbnRlbnQtdHlwZSIgY29udGVudD0idGV4dC9odG1sOyBjaGFyc2V0PVVURi04IiAvPgogICAgPHNjcmlwdD5MX1BSRUZFUl9DQU5WQVM9ZmFsc2U7IExfTk9fVE9VQ0g9ZmFsc2U7IExfRElTQUJMRV8zRD1mYWxzZTs8L3NjcmlwdD4KICAgIDxzY3JpcHQgc3JjPSJodHRwczovL2Nkbi5qc2RlbGl2ci5uZXQvbnBtL2xlYWZsZXRAMS4yLjAvZGlzdC9sZWFmbGV0LmpzIj48L3NjcmlwdD4KICAgIDxzY3JpcHQgc3JjPSJodHRwczovL2FqYXguZ29vZ2xlYXBpcy5jb20vYWpheC9saWJzL2pxdWVyeS8xLjExLjEvanF1ZXJ5Lm1pbi5qcyI+PC9zY3JpcHQ+CiAgICA8c2NyaXB0IHNyYz0iaHR0cHM6Ly9tYXhjZG4uYm9vdHN0cmFwY2RuLmNvbS9ib290c3RyYXAvMy4yLjAvanMvYm9vdHN0cmFwLm1pbi5qcyI+PC9zY3JpcHQ+CiAgICA8c2NyaXB0IHNyYz0iaHR0cHM6Ly9jZG5qcy5jbG91ZGZsYXJlLmNvbS9hamF4L2xpYnMvTGVhZmxldC5hd2Vzb21lLW1hcmtlcnMvMi4wLjIvbGVhZmxldC5hd2Vzb21lLW1hcmtlcnMuanMiPjwvc2NyaXB0PgogICAgPGxpbmsgcmVsPSJzdHlsZXNoZWV0IiBocmVmPSJodHRwczovL2Nkbi5qc2RlbGl2ci5uZXQvbnBtL2xlYWZsZXRAMS4yLjAvZGlzdC9sZWFmbGV0LmNzcyIvPgogICAgPGxpbmsgcmVsPSJzdHlsZXNoZWV0IiBocmVmPSJodHRwczovL21heGNkbi5ib290c3RyYXBjZG4uY29tL2Jvb3RzdHJhcC8zLjIuMC9jc3MvYm9vdHN0cmFwLm1pbi5jc3MiLz4KICAgIDxsaW5rIHJlbD0ic3R5bGVzaGVldCIgaHJlZj0iaHR0cHM6Ly9tYXhjZG4uYm9vdHN0cmFwY2RuLmNvbS9ib290c3RyYXAvMy4yLjAvY3NzL2Jvb3RzdHJhcC10aGVtZS5taW4uY3NzIi8+CiAgICA8bGluayByZWw9InN0eWxlc2hlZXQiIGhyZWY9Imh0dHBzOi8vbWF4Y2RuLmJvb3RzdHJhcGNkbi5jb20vZm9udC1hd2Vzb21lLzQuNi4zL2Nzcy9mb250LWF3ZXNvbWUubWluLmNzcyIvPgogICAgPGxpbmsgcmVsPSJzdHlsZXNoZWV0IiBocmVmPSJodHRwczovL2NkbmpzLmNsb3VkZmxhcmUuY29tL2FqYXgvbGlicy9MZWFmbGV0LmF3ZXNvbWUtbWFya2Vycy8yLjAuMi9sZWFmbGV0LmF3ZXNvbWUtbWFya2Vycy5jc3MiLz4KICAgIDxsaW5rIHJlbD0ic3R5bGVzaGVldCIgaHJlZj0iaHR0cHM6Ly9yYXdnaXQuY29tL3B5dGhvbi12aXN1YWxpemF0aW9uL2ZvbGl1bS9tYXN0ZXIvZm9saXVtL3RlbXBsYXRlcy9sZWFmbGV0LmF3ZXNvbWUucm90YXRlLmNzcyIvPgogICAgPHN0eWxlPmh0bWwsIGJvZHkge3dpZHRoOiAxMDAlO2hlaWdodDogMTAwJTttYXJnaW46IDA7cGFkZGluZzogMDt9PC9zdHlsZT4KICAgIDxzdHlsZT4jbWFwIHtwb3NpdGlvbjphYnNvbHV0ZTt0b3A6MDtib3R0b206MDtyaWdodDowO2xlZnQ6MDt9PC9zdHlsZT4KICAgIAogICAgPHN0eWxlPiNtYXBfZWY3ZTFmMjliMDQxNDM2OWFlNGNkNTg0ZDFiYWJhOTUgewogICAgICAgIHBvc2l0aW9uOiByZWxhdGl2ZTsKICAgICAgICB3aWR0aDogMTAwLjAlOwogICAgICAgIGhlaWdodDogMTAwLjAlOwogICAgICAgIGxlZnQ6IDAuMCU7CiAgICAgICAgdG9wOiAwLjAlOwogICAgICAgIH0KICAgIDwvc3R5bGU+CiAgICA8c2NyaXB0IHNyYz0iaHR0cHM6Ly9jZG5qcy5jbG91ZGZsYXJlLmNvbS9hamF4L2xpYnMvbGVhZmxldC5tYXJrZXJjbHVzdGVyLzEuMS4wL2xlYWZsZXQubWFya2VyY2x1c3Rlci5qcyI+PC9zY3JpcHQ+CiAgICA8bGluayByZWw9InN0eWxlc2hlZXQiIGhyZWY9Imh0dHBzOi8vY2RuanMuY2xvdWRmbGFyZS5jb20vYWpheC9saWJzL2xlYWZsZXQubWFya2VyY2x1c3Rlci8xLjEuMC9NYXJrZXJDbHVzdGVyLmNzcyIvPgogICAgPGxpbmsgcmVsPSJzdHlsZXNoZWV0IiBocmVmPSJodHRwczovL2NkbmpzLmNsb3VkZmxhcmUuY29tL2FqYXgvbGlicy9sZWFmbGV0Lm1hcmtlcmNsdXN0ZXIvMS4xLjAvTWFya2VyQ2x1c3Rlci5EZWZhdWx0LmNzcyIvPgo8L2hlYWQ+Cjxib2R5PiAgICAKICAgIAogICAgPGRpdiBjbGFzcz0iZm9saXVtLW1hcCIgaWQ9Im1hcF9lZjdlMWYyOWIwNDE0MzY5YWU0Y2Q1ODRkMWJhYmE5NSIgPjwvZGl2Pgo8L2JvZHk+CjxzY3JpcHQ+ICAgIAogICAgCiAgICAKICAgICAgICB2YXIgYm91bmRzID0gbnVsbDsKICAgIAoKICAgIHZhciBtYXBfZWY3ZTFmMjliMDQxNDM2OWFlNGNkNTg0ZDFiYWJhOTUgPSBMLm1hcCgKICAgICAgICAnbWFwX2VmN2UxZjI5YjA0MTQzNjlhZTRjZDU4NGQxYmFiYTk1JywgewogICAgICAgIGNlbnRlcjogWzQ1LjI5NjUwMTc3MDgsIC03NS43OTM0ODQxMjQ5XSwKICAgICAgICB6b29tOiAxMCwKICAgICAgICBtYXhCb3VuZHM6IGJvdW5kcywKICAgICAgICBsYXllcnM6IFtdLAogICAgICAgIHdvcmxkQ29weUp1bXA6IGZhbHNlLAogICAgICAgIGNyczogTC5DUlMuRVBTRzM4NTcsCiAgICAgICAgem9vbUNvbnRyb2w6IHRydWUsCiAgICAgICAgfSk7CgogICAgCiAgICAKICAgIHZhciB0aWxlX2xheWVyXzA1MzBmZjlmOWQwYTQ1YjlhZDdjOGI3ODUxNGJkNTJmID0gTC50aWxlTGF5ZXIoCiAgICAgICAgJ2h0dHBzOi8ve3N9LnRpbGUub3BlbnN0cmVldG1hcC5vcmcve3p9L3t4fS97eX0ucG5nJywKICAgICAgICB7CiAgICAgICAgImF0dHJpYnV0aW9uIjogbnVsbCwgCiAgICAgICAgImRldGVjdFJldGluYSI6IGZhbHNlLCAKICAgICAgICAibWF4TmF0aXZlWm9vbSI6IDE4LCAKICAgICAgICAibWF4Wm9vbSI6IDE4LCAKICAgICAgICAibWluWm9vbSI6IDAsIAogICAgICAgICJub1dyYXAiOiBmYWxzZSwgCiAgICAgICAgInN1YmRvbWFpbnMiOiAiYWJjIgp9KS5hZGRUbyhtYXBfZWY3ZTFmMjliMDQxNDM2OWFlNGNkNTg0ZDFiYWJhOTUpOwogICAgCiAgICAgICAgICAgIHZhciBtYXJrZXJfY2x1c3Rlcl9lZDAzMTZkN2I5NzM0MmQ2OTE4ODRjMmNlN2JiOTFhZCA9IEwubWFya2VyQ2x1c3Rlckdyb3VwKHt9KTsKICAgICAgICAgICAgbWFwX2VmN2UxZjI5YjA0MTQzNjlhZTRjZDU4NGQxYmFiYTk1LmFkZExheWVyKG1hcmtlcl9jbHVzdGVyX2VkMDMxNmQ3Yjk3MzQyZDY5MTg4NGMyY2U3YmI5MWFkKTsKICAgICAgICAgICAgCiAgICAKICAgICAgICB2YXIgbWFya2VyXzMxM2M1MjQxMDQ3MTQ3ZTE4MzI4Y2Y3NTRjMDFiNzJhID0gTC5tYXJrZXIoCiAgICAgICAgICAgIFs0NS4zNDQ3ODI2Njg3LCAtNzUuODE0Nzc0ODIwNl0sCiAgICAgICAgICAgIHsKICAgICAgICAgICAgICAgIGljb246IG5ldyBMLkljb24uRGVmYXVsdCgpCiAgICAgICAgICAgICAgICB9CiAgICAgICAgICAgICkuYWRkVG8obWFya2VyX2NsdXN0ZXJfZWQwMzE2ZDdiOTczNDJkNjkxODg0YzJjZTdiYjkxYWQpOwogICAgICAgIAogICAgCiAgICAgICAgdmFyIG1hcmtlcl8yMDE0MzMxMTgzN2I0YjY0OTA0N2NmMzcxMGQ3NWIwOCA9IEwubWFya2VyKAogICAgICAgICAgICBbNDUuNDA1OTg0NTc1MywgLTc1LjcyOTAwOTE4MDZdLAogICAgICAgICAgICB7CiAgICAgICAgICAgICAgICBpY29uOiBuZXcgTC5JY29uLkRlZmF1bHQoKQogICAgICAgICAgICAgICAgfQogICAgICAgICAgICApLmFkZFRvKG1hcmtlcl9jbHVzdGVyX2VkMDMxNmQ3Yjk3MzQyZDY5MTg4NGMyY2U3YmI5MWFkKTsKICAgICAgICAKICAgIAogICAgICAgIHZhciBtYXJrZXJfYzVlYWQ1MTEyNTRmNDEzYTkzYTQzZTlmOWY1YWZjOWUgPSBMLm1hcmtlcigKICAgICAgICAgICAgWzQ1LjI3NDYzNjgwODEsIC03NS42ODM4MTAxNTM0XSwKICAgICAgICAgICAgewogICAgICAgICAgICAgICAgaWNvbjogbmV3IEwuSWNvbi5EZWZhdWx0KCkKICAgICAgICAgICAgICAgIH0KICAgICAgICAgICAgKS5hZGRUbyhtYXJrZXJfY2x1c3Rlcl9lZDAzMTZkN2I5NzM0MmQ2OTE4ODRjMmNlN2JiOTFhZCk7CiAgICAgICAgCiAgICAKICAgICAgICB2YXIgbWFya2VyXzllNTUzODE5YmRjOTQyMzhhYmExYzNhZjUyMDc1NmI0ID0gTC5tYXJrZXIoCiAgICAgICAgICAgIFs0NS4zMzY4MTA5MTQxLCAtNzUuNzE5NDgzMjgwOV0sCiAgICAgICAgICAgIHsKICAgICAgICAgICAgICAgIGljb246IG5ldyBMLkljb24uRGVmYXVsdCgpCiAgICAgICAgICAgICAgICB9CiAgICAgICAgICAgICkuYWRkVG8obWFya2VyX2NsdXN0ZXJfZWQwMzE2ZDdiOTczNDJkNjkxODg0YzJjZTdiYjkxYWQpOwogICAgICAgIAogICAgCiAgICAgICAgdmFyIG1hcmtlcl84MjMxNjEwZDJmM2Y0ZGI5YjliNzYwNWE3YzJkZTQ5NSA9IEwubWFya2VyKAogICAgICAgICAgICBbNDUuNDMxMzYwOTM5NCwgLTc1LjY5NTcwMDU0NzRdLAogICAgICAgICAgICB7CiAgICAgICAgICAgICAgICBpY29uOiBuZXcgTC5JY29uLkRlZmF1bHQoKQogICAgICAgICAgICAgICAgfQogICAgICAgICAgICApLmFkZFRvKG1hcmtlcl9jbHVzdGVyX2VkMDMxNmQ3Yjk3MzQyZDY5MTg4NGMyY2U3YmI5MWFkKTsKICAgICAgICAKICAgIAogICAgICAgIHZhciBtYXJrZXJfMDgyYWE3YzRlZmU3NDM1ZWJkN2U5MTljM2ZiOTQ0ZDMgPSBMLm1hcmtlcigKICAgICAgICAgICAgWzQ1LjQ2MDg5MzUxMDYsIC03NS40ODc5MTE1MTUyXSwKICAgICAgICAgICAgewogICAgICAgICAgICAgICAgaWNvbjogbmV3IEwuSWNvbi5EZWZhdWx0KCkKICAgICAgICAgICAgICAgIH0KICAgICAgICAgICAgKS5hZGRUbyhtYXJrZXJfY2x1c3Rlcl9lZDAzMTZkN2I5NzM0MmQ2OTE4ODRjMmNlN2JiOTFhZCk7CiAgICAgICAgCiAgICAKICAgICAgICB2YXIgbWFya2VyX2JiYjYwZmY1MDhjZDQ2NjBiM2JkNzg1NzZhNzBiM2IwID0gTC5tYXJrZXIoCiAgICAgICAgICAgIFs0NS4zNjAzOTI3NzYzLCAtNzUuNjU2ODgxODgxMV0sCiAgICAgICAgICAgIHsKICAgICAgICAgICAgICAgIGljb246IG5ldyBMLkljb24uRGVmYXVsdCgpCiAgICAgICAgICAgICAgICB9CiAgICAgICAgICAgICkuYWRkVG8obWFya2VyX2NsdXN0ZXJfZWQwMzE2ZDdiOTczNDJkNjkxODg0YzJjZTdiYjkxYWQpOwogICAgICAgIAogICAgCiAgICAgICAgdmFyIG1hcmtlcl9lMmQ4NmRmNWQwMWQ0ODY3OThkMThlYmM3YTkwNTVhYyA9IEwubWFya2VyKAogICAgICAgICAgICBbNDUuMzQzNzQ2MTIsIC03NS43Mjk3NDc0MDk2XSwKICAgICAgICAgICAgewogICAgICAgICAgICAgICAgaWNvbjogbmV3IEwuSWNvbi5EZWZhdWx0KCkKICAgICAgICAgICAgICAgIH0KICAgICAgICAgICAgKS5hZGRUbyhtYXJrZXJfY2x1c3Rlcl9lZDAzMTZkN2I5NzM0MmQ2OTE4ODRjMmNlN2JiOTFhZCk7CiAgICAgICAgCiAgICAKICAgICAgICB2YXIgbWFya2VyX2Q1Zjc2NGNjMTI3NzRlNDI4ZjkyMjZmZTYzNGM1YmIxID0gTC5tYXJrZXIoCiAgICAgICAgICAgIFs0NS4zNTM2NDQ0NDE0LCAtNzUuNjQ3MzQ1MTRdLAogICAgICAgICAgICB7CiAgICAgICAgICAgICAgICBpY29uOiBuZXcgTC5JY29uLkRlZmF1bHQoKQogICAgICAgICAgICAgICAgfQogICAgICAgICAgICApLmFkZFRvKG1hcmtlcl9jbHVzdGVyX2VkMDMxNmQ3Yjk3MzQyZDY5MTg4NGMyY2U3YmI5MWFkKTsKICAgICAgICAKICAgIAogICAgICAgIHZhciBtYXJrZXJfNGRkOGZlYTdhOTY1NGY4ZWEwNmEzYmNmYjA3NjQ4MzIgPSBMLm1hcmtlcigKICAgICAgICAgICAgWzQ1LjI5MDY2ODY0MjYsIC03NS42MDYyODI1NTMyXSwKICAgICAgICAgICAgewogICAgICAgICAgICAgICAgaWNvbjogbmV3IEwuSWNvbi5EZWZhdWx0KCkKICAgICAgICAgICAgICAgIH0KICAgICAgICAgICAgKS5hZGRUbyhtYXJrZXJfY2x1c3Rlcl9lZDAzMTZkN2I5NzM0MmQ2OTE4ODRjMmNlN2JiOTFhZCk7CiAgICAgICAgCiAgICAKICAgICAgICB2YXIgbWFya2VyX2UxZGUyNTNlMjkxMjQ2OWFhOTRiMjEyNWZjYzMzOTNjID0gTC5tYXJrZXIoCiAgICAgICAgICAgIFs0NS40MDY1MTEyODczLCAtNzUuNzA3MjU2NjgxMV0sCiAgICAgICAgICAgIHsKICAgICAgICAgICAgICAgIGljb246IG5ldyBMLkljb24uRGVmYXVsdCgpCiAgICAgICAgICAgICAgICB9CiAgICAgICAgICAgICkuYWRkVG8obWFya2VyX2NsdXN0ZXJfZWQwMzE2ZDdiOTczNDJkNjkxODg0YzJjZTdiYjkxYWQpOwogICAgICAgIAogICAgCiAgICAgICAgdmFyIG1hcmtlcl85OWMxZDhjZWEzMzA0OGY5OGNmZGFiOTg1MzZlYWIzZiA9IEwubWFya2VyKAogICAgICAgICAgICBbNDUuMzc4OTgwMzA4LCAtNzUuNjYxMjE0MjkzNV0sCiAgICAgICAgICAgIHsKICAgICAgICAgICAgICAgIGljb246IG5ldyBMLkljb24uRGVmYXVsdCgpCiAgICAgICAgICAgICAgICB9CiAgICAgICAgICAgICkuYWRkVG8obWFya2VyX2NsdXN0ZXJfZWQwMzE2ZDdiOTczNDJkNjkxODg0YzJjZTdiYjkxYWQpOwogICAgICAgIAogICAgCiAgICAgICAgdmFyIG1hcmtlcl83YmY5NTE2ZDBkZjE0ZjcyYTYzNThmYWNkYzYyODc1YiA9IEwubWFya2VyKAogICAgICAgICAgICBbNDUuMjM5NzY1MTA5NSwgLTc1LjcyODE0MjA3ODldLAogICAgICAgICAgICB7CiAgICAgICAgICAgICAgICBpY29uOiBuZXcgTC5JY29uLkRlZmF1bHQoKQogICAgICAgICAgICAgICAgfQogICAgICAgICAgICApLmFkZFRvKG1hcmtlcl9jbHVzdGVyX2VkMDMxNmQ3Yjk3MzQyZDY5MTg4NGMyY2U3YmI5MWFkKTsKICAgICAgICAKICAgIAogICAgICAgIHZhciBtYXJrZXJfMTg2YzY3NmRlYjlkNGExYWJkMGIyYTNhYzk1MzdjZDIgPSBMLm1hcmtlcigKICAgICAgICAgICAgWzQ1LjQyMTY4OTM4MjksIC03NS42OTYyNDc5OTg1XSwKICAgICAgICAgICAgewogICAgICAgICAgICAgICAgaWNvbjogbmV3IEwuSWNvbi5EZWZhdWx0KCkKICAgICAgICAgICAgICAgIH0KICAgICAgICAgICAgKS5hZGRUbyhtYXJrZXJfY2x1c3Rlcl9lZDAzMTZkN2I5NzM0MmQ2OTE4ODRjMmNlN2JiOTFhZCk7CiAgICAgICAgCiAgICAKICAgICAgICB2YXIgbWFya2VyXzkyMGJlM2JlYjJjMDQ5ZjI5MWI1NmI3MmFhY2I5ZjQ2ID0gTC5tYXJrZXIoCiAgICAgICAgICAgIFs0NS40MTI2ODkyODk1LCAtNzUuNjAzMTIxMTE2NV0sCiAgICAgICAgICAgIHsKICAgICAgICAgICAgICAgIGljb246IG5ldyBMLkljb24uRGVmYXVsdCgpCiAgICAgICAgICAgICAgICB9CiAgICAgICAgICAgICkuYWRkVG8obWFya2VyX2NsdXN0ZXJfZWQwMzE2ZDdiOTczNDJkNjkxODg0YzJjZTdiYjkxYWQpOwogICAgICAgIAogICAgCiAgICAgICAgdmFyIG1hcmtlcl83YTNhY2M1NGRmOWY0M2YwODNhYjUwZTMwNzhmNzlhYiA9IEwubWFya2VyKAogICAgICAgICAgICBbNDUuNDE2NDk3MTc1OCwgLTc1LjYwMjQzODE1ODRdLAogICAgICAgICAgICB7CiAgICAgICAgICAgICAgICBpY29uOiBuZXcgTC5JY29uLkRlZmF1bHQoKQogICAgICAgICAgICAgICAgfQogICAgICAgICAgICApLmFkZFRvKG1hcmtlcl9jbHVzdGVyX2VkMDMxNmQ3Yjk3MzQyZDY5MTg4NGMyY2U3YmI5MWFkKTsKICAgICAgICAKICAgIAogICAgICAgIHZhciBtYXJrZXJfNzUwMjA1ZjYyOTAwNDJjMTlmYjA2MTIyNzE0NzdiODAgPSBMLm1hcmtlcigKICAgICAgICAgICAgWzQ1LjQzNjY5NDU4NDQsIC03NS42NjAwOTQ4NjY3XSwKICAgICAgICAgICAgewogICAgICAgICAgICAgICAgaWNvbjogbmV3IEwuSWNvbi5EZWZhdWx0KCkKICAgICAgICAgICAgICAgIH0KICAgICAgICAgICAgKS5hZGRUbyhtYXJrZXJfY2x1c3Rlcl9lZDAzMTZkN2I5NzM0MmQ2OTE4ODRjMmNlN2JiOTFhZCk7CiAgICAgICAgCiAgICAKICAgICAgICB2YXIgbWFya2VyXzE3YTU3YWM3NzAyNzRiM2RhMjU3NGU0ZWM5ODgwZDY0ID0gTC5tYXJrZXIoCiAgICAgICAgICAgIFs0NS4zNDk4OTQ0ODQyLCAtNzUuNDQ0OTAwMTAyMl0sCiAgICAgICAgICAgIHsKICAgICAgICAgICAgICAgIGljb246IG5ldyBMLkljb24uRGVmYXVsdCgpCiAgICAgICAgICAgICAgICB9CiAgICAgICAgICAgICkuYWRkVG8obWFya2VyX2NsdXN0ZXJfZWQwMzE2ZDdiOTczNDJkNjkxODg0YzJjZTdiYjkxYWQpOwogICAgICAgIAogICAgCiAgICAgICAgdmFyIG1hcmtlcl84MGM1Y2RjYTg5NzQ0YzU0OWNlYTk1NDNiMjY1YzlmMSA9IEwubWFya2VyKAogICAgICAgICAgICBbNDUuNDIwOTk0NTkzNSwgLTc1LjYxNDE5MDAwMDldLAogICAgICAgICAgICB7CiAgICAgICAgICAgICAgICBpY29uOiBuZXcgTC5JY29uLkRlZmF1bHQoKQogICAgICAgICAgICAgICAgfQogICAgICAgICAgICApLmFkZFRvKG1hcmtlcl9jbHVzdGVyX2VkMDMxNmQ3Yjk3MzQyZDY5MTg4NGMyY2U3YmI5MWFkKTsKICAgICAgICAKICAgIAogICAgICAgIHZhciBtYXJrZXJfZTZlYmJkYTRmZmEzNGFjZjljYWNmMTAzNTQ3YWY0MjEgPSBMLm1hcmtlcigKICAgICAgICAgICAgWzQ1LjMzMTg4NzkzMTQsIC03NS44MDk0NzM2OTQ5XSwKICAgICAgICAgICAgewogICAgICAgICAgICAgICAgaWNvbjogbmV3IEwuSWNvbi5EZWZhdWx0KCkKICAgICAgICAgICAgICAgIH0KICAgICAgICAgICAgKS5hZGRUbyhtYXJrZXJfY2x1c3Rlcl9lZDAzMTZkN2I5NzM0MmQ2OTE4ODRjMmNlN2JiOTFhZCk7CiAgICAgICAgCiAgICAKICAgICAgICB2YXIgbWFya2VyX2M0MzI3ZTE2Zjk2OTQ1MGI5NzcyNTE2NjVhY2YyZDQ5ID0gTC5tYXJrZXIoCiAgICAgICAgICAgIFs0NS4zMTY5MjE2NjMsIC03NS44ODM5MTE2NzM2XSwKICAgICAgICAgICAgewogICAgICAgICAgICAgICAgaWNvbjogbmV3IEwuSWNvbi5EZWZhdWx0KCkKICAgICAgICAgICAgICAgIH0KICAgICAgICAgICAgKS5hZGRUbyhtYXJrZXJfY2x1c3Rlcl9lZDAzMTZkN2I5NzM0MmQ2OTE4ODRjMmNlN2JiOTFhZCk7CiAgICAgICAgCiAgICAKICAgICAgICB2YXIgbWFya2VyX2E1ZTY1ODljNjgwMDRhMjdiM2QyOWI2YzQ4MTc2ZTc1ID0gTC5tYXJrZXIoCiAgICAgICAgICAgIFs0NS4zMDA1NTY5NjcyLCAtNzUuODc0ODU0ODA5N10sCiAgICAgICAgICAgIHsKICAgICAgICAgICAgICAgIGljb246IG5ldyBMLkljb24uRGVmYXVsdCgpCiAgICAgICAgICAgICAgICB9CiAgICAgICAgICAgICkuYWRkVG8obWFya2VyX2NsdXN0ZXJfZWQwMzE2ZDdiOTczNDJkNjkxODg0YzJjZTdiYjkxYWQpOwogICAgICAgIAogICAgCiAgICAgICAgdmFyIG1hcmtlcl9hNzA5ZjM0MDExOGU0MWY3OGIwZWYwMjcxMTU5NDgxNSA9IEwubWFya2VyKAogICAgICAgICAgICBbNDUuMzQxNzQ2MzgzMywgLTc1Ljc2MjAzOTk3MTRdLAogICAgICAgICAgICB7CiAgICAgICAgICAgICAgICBpY29uOiBuZXcgTC5JY29uLkRlZmF1bHQoKQogICAgICAgICAgICAgICAgfQogICAgICAgICAgICApLmFkZFRvKG1hcmtlcl9jbHVzdGVyX2VkMDMxNmQ3Yjk3MzQyZDY5MTg4NGMyY2U3YmI5MWFkKTsKICAgICAgICAKICAgIAogICAgICAgIHZhciBtYXJrZXJfOGM0YjllN2VmNWZlNGY2OTkwODQzMjQxMzc4MTRjZmMgPSBMLm1hcmtlcigKICAgICAgICAgICAgWzQ1LjM0MzY5NjU0NzEsIC03NS43OTAwNTY0NjM1XSwKICAgICAgICAgICAgewogICAgICAgICAgICAgICAgaWNvbjogbmV3IEwuSWNvbi5EZWZhdWx0KCkKICAgICAgICAgICAgICAgIH0KICAgICAgICAgICAgKS5hZGRUbyhtYXJrZXJfY2x1c3Rlcl9lZDAzMTZkN2I5NzM0MmQ2OTE4ODRjMmNlN2JiOTFhZCk7CiAgICAgICAgCiAgICAKICAgICAgICB2YXIgbWFya2VyX2UzZDllZTNjZTIzZjQ2MGFhZGFlMDE1MTg1NTRlYTk2ID0gTC5tYXJrZXIoCiAgICAgICAgICAgIFs0NS4zMDIxODg5Nzk4LCAtNzUuNzIzOTcxMjc4Ml0sCiAgICAgICAgICAgIHsKICAgICAgICAgICAgICAgIGljb246IG5ldyBMLkljb24uRGVmYXVsdCgpCiAgICAgICAgICAgICAgICB9CiAgICAgICAgICAgICkuYWRkVG8obWFya2VyX2NsdXN0ZXJfZWQwMzE2ZDdiOTczNDJkNjkxODg0YzJjZTdiYjkxYWQpOwogICAgICAgIAogICAgCiAgICAgICAgdmFyIG1hcmtlcl9iNDg0Y2YwODQ3MjI0MjBiOTg1NzFkMTBhMTZhYzQ5OCA9IEwubWFya2VyKAogICAgICAgICAgICBbNDUuMzc0NzkzMTU0NywgLTc1LjQyMTQyODkzNjddLAogICAgICAgICAgICB7CiAgICAgICAgICAgICAgICBpY29uOiBuZXcgTC5JY29uLkRlZmF1bHQoKQogICAgICAgICAgICAgICAgfQogICAgICAgICAgICApLmFkZFRvKG1hcmtlcl9jbHVzdGVyX2VkMDMxNmQ3Yjk3MzQyZDY5MTg4NGMyY2U3YmI5MWFkKTsKICAgICAgICAKICAgIAogICAgICAgIHZhciBtYXJrZXJfYTNmNDEyOTUwZGIwNDU3YmJiZTc4MWNkOWFhZjQ0YjYgPSBMLm1hcmtlcigKICAgICAgICAgICAgWzQ1LjM3ODA4MzM5MjYsIC03NS43NDE5NDA4ODU2XSwKICAgICAgICAgICAgewogICAgICAgICAgICAgICAgaWNvbjogbmV3IEwuSWNvbi5EZWZhdWx0KCkKICAgICAgICAgICAgICAgIH0KICAgICAgICAgICAgKS5hZGRUbyhtYXJrZXJfY2x1c3Rlcl9lZDAzMTZkN2I5NzM0MmQ2OTE4ODRjMmNlN2JiOTFhZCk7CiAgICAgICAgCiAgICAKICAgICAgICB2YXIgbWFya2VyXzg4N2FhYTRmNzY0NTQxODI5ZGNlNzAxMzE0ZjU4MzZhID0gTC5tYXJrZXIoCiAgICAgICAgICAgIFs0NS4zNzMyODkyNTQ2LCAtNzYuMDk3MTUwNjEzMl0sCiAgICAgICAgICAgIHsKICAgICAgICAgICAgICAgIGljb246IG5ldyBMLkljb24uRGVmYXVsdCgpCiAgICAgICAgICAgICAgICB9CiAgICAgICAgICAgICkuYWRkVG8obWFya2VyX2NsdXN0ZXJfZWQwMzE2ZDdiOTczNDJkNjkxODg0YzJjZTdiYjkxYWQpOwogICAgICAgIAogICAgCiAgICAgICAgdmFyIG1hcmtlcl8yNjk4YjkyODEwYjc0MGFiOTdmYjllOWVjMmMwOGY5NiA9IEwubWFya2VyKAogICAgICAgICAgICBbNDUuMjk3Mjg2MTU0NywgLTc1LjczNDM4ODQ2NF0sCiAgICAgICAgICAgIHsKICAgICAgICAgICAgICAgIGljb246IG5ldyBMLkljb24uRGVmYXVsdCgpCiAgICAgICAgICAgICAgICB9CiAgICAgICAgICAgICkuYWRkVG8obWFya2VyX2NsdXN0ZXJfZWQwMzE2ZDdiOTczNDJkNjkxODg0YzJjZTdiYjkxYWQpOwogICAgICAgIAogICAgCiAgICAgICAgdmFyIG1hcmtlcl9hNDA2ODJlNWRhMTE0OWZlOWVmYzE1M2YzM2JjYzNhMCA9IEwubWFya2VyKAogICAgICAgICAgICBbNDUuMzYyMDc1ODM4NCwgLTc1Ljc2ODgwMzg1MTVdLAogICAgICAgICAgICB7CiAgICAgICAgICAgICAgICBpY29uOiBuZXcgTC5JY29uLkRlZmF1bHQoKQogICAgICAgICAgICAgICAgfQogICAgICAgICAgICApLmFkZFRvKG1hcmtlcl9jbHVzdGVyX2VkMDMxNmQ3Yjk3MzQyZDY5MTg4NGMyY2U3YmI5MWFkKTsKICAgICAgICAKICAgIAogICAgICAgIHZhciBtYXJrZXJfYWExM2UwZDU5MTRkNGExYWJiNTI5OTI0ZTk4ZDdlNjIgPSBMLm1hcmtlcigKICAgICAgICAgICAgWzQ1LjM0OTQyMzQ1MzUsIC03NS44MDUyODg3Nzc2XSwKICAgICAgICAgICAgewogICAgICAgICAgICAgICAgaWNvbjogbmV3IEwuSWNvbi5EZWZhdWx0KCkKICAgICAgICAgICAgICAgIH0KICAgICAgICAgICAgKS5hZGRUbyhtYXJrZXJfY2x1c3Rlcl9lZDAzMTZkN2I5NzM0MmQ2OTE4ODRjMmNlN2JiOTFhZCk7CiAgICAgICAgCiAgICAKICAgICAgICB2YXIgbWFya2VyXzRlNGM1NGZkN2I1ZDQ4MjQ4NzViY2JiZTEyZTFkNzdhID0gTC5tYXJrZXIoCiAgICAgICAgICAgIFs0NS4zOTY5MzYxNTU4LCAtNzUuNzI2Nzc5ODgxMl0sCiAgICAgICAgICAgIHsKICAgICAgICAgICAgICAgIGljb246IG5ldyBMLkljb24uRGVmYXVsdCgpCiAgICAgICAgICAgICAgICB9CiAgICAgICAgICAgICkuYWRkVG8obWFya2VyX2NsdXN0ZXJfZWQwMzE2ZDdiOTczNDJkNjkxODg0YzJjZTdiYjkxYWQpOwogICAgICAgIAogICAgCiAgICAgICAgdmFyIG1hcmtlcl9lNzQ1YzIwMTE5Yzg0NGE1OTViOWEzMWExYjk0N2Y2YyA9IEwubWFya2VyKAogICAgICAgICAgICBbNDUuNDMwNjQ5MTY0OCwgLTc1LjY4NzIyNDQxODFdLAogICAgICAgICAgICB7CiAgICAgICAgICAgICAgICBpY29uOiBuZXcgTC5JY29uLkRlZmF1bHQoKQogICAgICAgICAgICAgICAgfQogICAgICAgICAgICApLmFkZFRvKG1hcmtlcl9jbHVzdGVyX2VkMDMxNmQ3Yjk3MzQyZDY5MTg4NGMyY2U3YmI5MWFkKTsKICAgICAgICAKICAgIAogICAgICAgIHZhciBtYXJrZXJfODNlOWJhOGZkNjFjNDc4OGE2N2Y0MzU0ODBkNjFlMzggPSBMLm1hcmtlcigKICAgICAgICAgICAgWzQ1LjM0NjU3Mzc2MSwgLTc1LjcwMTIxNTMwNTldLAogICAgICAgICAgICB7CiAgICAgICAgICAgICAgICBpY29uOiBuZXcgTC5JY29uLkRlZmF1bHQoKQogICAgICAgICAgICAgICAgfQogICAgICAgICAgICApLmFkZFRvKG1hcmtlcl9jbHVzdGVyX2VkMDMxNmQ3Yjk3MzQyZDY5MTg4NGMyY2U3YmI5MWFkKTsKICAgICAgICAKICAgIAogICAgICAgIHZhciBtYXJrZXJfNzYyZTE2YjBjMmI4NGIxOGJjMzcxZGIyZjkwMGQ1MzEgPSBMLm1hcmtlcigKICAgICAgICAgICAgWzQ1LjM4OTk1NDEwMDgsIC03NS43MzQwODE0NDk2XSwKICAgICAgICAgICAgewogICAgICAgICAgICAgICAgaWNvbjogbmV3IEwuSWNvbi5EZWZhdWx0KCkKICAgICAgICAgICAgICAgIH0KICAgICAgICAgICAgKS5hZGRUbyhtYXJrZXJfY2x1c3Rlcl9lZDAzMTZkN2I5NzM0MmQ2OTE4ODRjMmNlN2JiOTFhZCk7CiAgICAgICAgCiAgICAKICAgICAgICB2YXIgbWFya2VyX2RmNmQ0Y2I4ZDg4NTQ2ZDZiODI4M2VhNDg0MDhkOTZiID0gTC5tYXJrZXIoCiAgICAgICAgICAgIFs0NS40MzQ2ODUzNTI1LCAtNzUuNjg2NzYyMjExNl0sCiAgICAgICAgICAgIHsKICAgICAgICAgICAgICAgIGljb246IG5ldyBMLkljb24uRGVmYXVsdCgpCiAgICAgICAgICAgICAgICB9CiAgICAgICAgICAgICkuYWRkVG8obWFya2VyX2NsdXN0ZXJfZWQwMzE2ZDdiOTczNDJkNjkxODg0YzJjZTdiYjkxYWQpOwogICAgICAgIAogICAgCiAgICAgICAgdmFyIG1hcmtlcl9lYjEyM2E3Y2U3N2U0OGRlYjg1OGQyZDQ1NzcwNzFlNyA9IEwubWFya2VyKAogICAgICAgICAgICBbNDUuMzUwNTYwMjYzNSwgLTc1LjY1Mzk2NDMyMjRdLAogICAgICAgICAgICB7CiAgICAgICAgICAgICAgICBpY29uOiBuZXcgTC5JY29uLkRlZmF1bHQoKQogICAgICAgICAgICAgICAgfQogICAgICAgICAgICApLmFkZFRvKG1hcmtlcl9jbHVzdGVyX2VkMDMxNmQ3Yjk3MzQyZDY5MTg4NGMyY2U3YmI5MWFkKTsKICAgICAgICAKICAgIAogICAgICAgIHZhciBtYXJrZXJfNTBkZmMxZDNmMjg0NGRiOWJhNDJjMWE3ODM4NmYwYTQgPSBMLm1hcmtlcigKICAgICAgICAgICAgWzQ1LjMzMjk0OTg2MjUsIC03NS43Mjg5NTMwOTY1XSwKICAgICAgICAgICAgewogICAgICAgICAgICAgICAgaWNvbjogbmV3IEwuSWNvbi5EZWZhdWx0KCkKICAgICAgICAgICAgICAgIH0KICAgICAgICAgICAgKS5hZGRUbyhtYXJrZXJfY2x1c3Rlcl9lZDAzMTZkN2I5NzM0MmQ2OTE4ODRjMmNlN2JiOTFhZCk7CiAgICAgICAgCiAgICAKICAgICAgICB2YXIgbWFya2VyX2RjN2E5MDQ3Y2RmZjRiY2RiYzFlYWUxYjQxMDBjNTQ2ID0gTC5tYXJrZXIoCiAgICAgICAgICAgIFs0NS4yODAxMTkxOTUsIC03NS44Nzk4MjYwMjA1XSwKICAgICAgICAgICAgewogICAgICAgICAgICAgICAgaWNvbjogbmV3IEwuSWNvbi5EZWZhdWx0KCkKICAgICAgICAgICAgICAgIH0KICAgICAgICAgICAgKS5hZGRUbyhtYXJrZXJfY2x1c3Rlcl9lZDAzMTZkN2I5NzM0MmQ2OTE4ODRjMmNlN2JiOTFhZCk7CiAgICAgICAgCiAgICAKICAgICAgICB2YXIgbWFya2VyX2IxOWNhZTA4YmZlZTRiNDY4YmY4YjFlZjM4MjExMTdiID0gTC5tYXJrZXIoCiAgICAgICAgICAgIFs0NS40MTY0NTU1OTM5LCAtNzUuNzEyNjgxOTkwMV0sCiAgICAgICAgICAgIHsKICAgICAgICAgICAgICAgIGljb246IG5ldyBMLkljb24uRGVmYXVsdCgpCiAgICAgICAgICAgICAgICB9CiAgICAgICAgICAgICkuYWRkVG8obWFya2VyX2NsdXN0ZXJfZWQwMzE2ZDdiOTczNDJkNjkxODg0YzJjZTdiYjkxYWQpOwogICAgICAgIAogICAgCiAgICAgICAgdmFyIG1hcmtlcl8yMmU5Y2EwMjY4MGQ0NzZjOGZhY2M1MTgxNGU0MmYyZSA9IEwubWFya2VyKAogICAgICAgICAgICBbNDUuMzg4MDI1MDM1OCwgLTc1LjY3NjIyNzQzODFdLAogICAgICAgICAgICB7CiAgICAgICAgICAgICAgICBpY29uOiBuZXcgTC5JY29uLkRlZmF1bHQoKQogICAgICAgICAgICAgICAgfQogICAgICAgICAgICApLmFkZFRvKG1hcmtlcl9jbHVzdGVyX2VkMDMxNmQ3Yjk3MzQyZDY5MTg4NGMyY2U3YmI5MWFkKTsKICAgICAgICAKICAgIAogICAgICAgIHZhciBtYXJrZXJfMTI0MmM2OGM1ZWI3NDFmNjgzNTM2NzVlZGRmMWZkZTEgPSBMLm1hcmtlcigKICAgICAgICAgICAgWzQ1LjM2ODM4NzEzOTEsIC03NS43MDEyMTE2MDEzXSwKICAgICAgICAgICAgewogICAgICAgICAgICAgICAgaWNvbjogbmV3IEwuSWNvbi5EZWZhdWx0KCkKICAgICAgICAgICAgICAgIH0KICAgICAgICAgICAgKS5hZGRUbyhtYXJrZXJfY2x1c3Rlcl9lZDAzMTZkN2I5NzM0MmQ2OTE4ODRjMmNlN2JiOTFhZCk7CiAgICAgICAgCiAgICAKICAgICAgICB2YXIgbWFya2VyX2Q3ZGQyZWQxYWUyZTQzMTc4OWU4NGFmYTEyNGU5NzM3ID0gTC5tYXJrZXIoCiAgICAgICAgICAgIFs0NS4yODg4ODY4Mjg5LCAtNzUuODY1NDcxOTUwNl0sCiAgICAgICAgICAgIHsKICAgICAgICAgICAgICAgIGljb246IG5ldyBMLkljb24uRGVmYXVsdCgpCiAgICAgICAgICAgICAgICB9CiAgICAgICAgICAgICkuYWRkVG8obWFya2VyX2NsdXN0ZXJfZWQwMzE2ZDdiOTczNDJkNjkxODg0YzJjZTdiYjkxYWQpOwogICAgICAgIAogICAgCiAgICAgICAgdmFyIG1hcmtlcl8yNTBhNzgxZmZjMDg0NThkYTkwNjNlODNiODFmNjZmMCA9IEwubWFya2VyKAogICAgICAgICAgICBbNDUuNDQzNjAxMTY2OSwgLTc1LjYzOTM0ODAzMzldLAogICAgICAgICAgICB7CiAgICAgICAgICAgICAgICBpY29uOiBuZXcgTC5JY29uLkRlZmF1bHQoKQogICAgICAgICAgICAgICAgfQogICAgICAgICAgICApLmFkZFRvKG1hcmtlcl9jbHVzdGVyX2VkMDMxNmQ3Yjk3MzQyZDY5MTg4NGMyY2U3YmI5MWFkKTsKICAgICAgICAKICAgIAogICAgICAgIHZhciBtYXJrZXJfMjlmNzAyZWVjMWVkNGVkMmI5NzE2ZWU5OTMxMDZlODcgPSBMLm1hcmtlcigKICAgICAgICAgICAgWzQ1LjQwNzUxODM4OTIsIC03NS43MDQ1NjAyNTQ0XSwKICAgICAgICAgICAgewogICAgICAgICAgICAgICAgaWNvbjogbmV3IEwuSWNvbi5EZWZhdWx0KCkKICAgICAgICAgICAgICAgIH0KICAgICAgICAgICAgKS5hZGRUbyhtYXJrZXJfY2x1c3Rlcl9lZDAzMTZkN2I5NzM0MmQ2OTE4ODRjMmNlN2JiOTFhZCk7CiAgICAgICAgCiAgICAKICAgICAgICB2YXIgbWFya2VyXzkzNDI0ZmVmZGMwNjQxNDg5YmU0Y2E4ZGNjZDcxMGFhID0gTC5tYXJrZXIoCiAgICAgICAgICAgIFs0NS4zNDI2NjAxMzYyLCAtNzUuNzI4NjMwNDkyNF0sCiAgICAgICAgICAgIHsKICAgICAgICAgICAgICAgIGljb246IG5ldyBMLkljb24uRGVmYXVsdCgpCiAgICAgICAgICAgICAgICB9CiAgICAgICAgICAgICkuYWRkVG8obWFya2VyX2NsdXN0ZXJfZWQwMzE2ZDdiOTczNDJkNjkxODg0YzJjZTdiYjkxYWQpOwogICAgICAgIAogICAgCiAgICAgICAgdmFyIG1hcmtlcl9iYjkyZDdhZWVlMzE0ZWZlYjg1YjNmMDQxZDc0ZjM5MSA9IEwubWFya2VyKAogICAgICAgICAgICBbNDUuNDgwMDY1ODQ1NywgLTc2LjA3NTE1NTIzN10sCiAgICAgICAgICAgIHsKICAgICAgICAgICAgICAgIGljb246IG5ldyBMLkljb24uRGVmYXVsdCgpCiAgICAgICAgICAgICAgICB9CiAgICAgICAgICAgICkuYWRkVG8obWFya2VyX2NsdXN0ZXJfZWQwMzE2ZDdiOTczNDJkNjkxODg0YzJjZTdiYjkxYWQpOwogICAgICAgIAogICAgCiAgICAgICAgdmFyIG1hcmtlcl80ODdkNzAwOWRkN2Q0ZWViOTk0ZTllNmVjMzJiMWZjNSA9IEwubWFya2VyKAogICAgICAgICAgICBbNDUuNDE1MDQyMzYzMiwgLTc1LjY4Nzk1ODkyMjNdLAogICAgICAgICAgICB7CiAgICAgICAgICAgICAgICBpY29uOiBuZXcgTC5JY29uLkRlZmF1bHQoKQogICAgICAgICAgICAgICAgfQogICAgICAgICAgICApLmFkZFRvKG1hcmtlcl9jbHVzdGVyX2VkMDMxNmQ3Yjk3MzQyZDY5MTg4NGMyY2U3YmI5MWFkKTsKICAgICAgICAKICAgIAogICAgICAgIHZhciBtYXJrZXJfNzFkMjY4NTQxMGUwNDIyYTkxZDRmZjBjNjg5MWI4YzkgPSBMLm1hcmtlcigKICAgICAgICAgICAgWzQ1LjM1NTYyNjYyNjYsIC03NS42NDQwMDk3MTA4XSwKICAgICAgICAgICAgewogICAgICAgICAgICAgICAgaWNvbjogbmV3IEwuSWNvbi5EZWZhdWx0KCkKICAgICAgICAgICAgICAgIH0KICAgICAgICAgICAgKS5hZGRUbyhtYXJrZXJfY2x1c3Rlcl9lZDAzMTZkN2I5NzM0MmQ2OTE4ODRjMmNlN2JiOTFhZCk7CiAgICAgICAgCiAgICAKICAgICAgICB2YXIgbWFya2VyXzVjNzFkM2FjMWY2ZjQ3NGRhNjRkNDIwYjg2MzczYTEyID0gTC5tYXJrZXIoCiAgICAgICAgICAgIFs0NS4zMDY1MzI3MTI0LCAtNzUuNTU4NjMzMTgxOV0sCiAgICAgICAgICAgIHsKICAgICAgICAgICAgICAgIGljb246IG5ldyBMLkljb24uRGVmYXVsdCgpCiAgICAgICAgICAgICAgICB9CiAgICAgICAgICAgICkuYWRkVG8obWFya2VyX2NsdXN0ZXJfZWQwMzE2ZDdiOTczNDJkNjkxODg0YzJjZTdiYjkxYWQpOwogICAgICAgIAogICAgCiAgICAgICAgdmFyIG1hcmtlcl9jZDFiYjI1NjlkOWI0OWQ0OWNkYjdkYjYzNjExZWM5MyA9IEwubWFya2VyKAogICAgICAgICAgICBbNDUuMjI1NzI0NTQzNywgLTc1LjgwNTE5MTY0ODNdLAogICAgICAgICAgICB7CiAgICAgICAgICAgICAgICBpY29uOiBuZXcgTC5JY29uLkRlZmF1bHQoKQogICAgICAgICAgICAgICAgfQogICAgICAgICAgICApLmFkZFRvKG1hcmtlcl9jbHVzdGVyX2VkMDMxNmQ3Yjk3MzQyZDY5MTg4NGMyY2U3YmI5MWFkKTsKICAgICAgICAKICAgIAogICAgICAgIHZhciBtYXJrZXJfNGI5OWRlZTg0ZDBhNGJkNTg0M2ZmOTQxMjZlOGQ4OTQgPSBMLm1hcmtlcigKICAgICAgICAgICAgWzQ1LjQyODYxMzYzMDUsIC03NS42ODYxNDEyMDQ4XSwKICAgICAgICAgICAgewogICAgICAgICAgICAgICAgaWNvbjogbmV3IEwuSWNvbi5EZWZhdWx0KCkKICAgICAgICAgICAgICAgIH0KICAgICAgICAgICAgKS5hZGRUbyhtYXJrZXJfY2x1c3Rlcl9lZDAzMTZkN2I5NzM0MmQ2OTE4ODRjMmNlN2JiOTFhZCk7CiAgICAgICAgCiAgICAKICAgICAgICB2YXIgbWFya2VyXzNjNDczZjc2ZmY0MjRlYTk4MmM0NGMyN2Y0OGFhZmQ0ID0gTC5tYXJrZXIoCiAgICAgICAgICAgIFs0NS40Njk3NDIwOTM0LCAtNzUuNTQ3MDg4MTExNl0sCiAgICAgICAgICAgIHsKICAgICAgICAgICAgICAgIGljb246IG5ldyBMLkljb24uRGVmYXVsdCgpCiAgICAgICAgICAgICAgICB9CiAgICAgICAgICAgICkuYWRkVG8obWFya2VyX2NsdXN0ZXJfZWQwMzE2ZDdiOTczNDJkNjkxODg0YzJjZTdiYjkxYWQpOwogICAgICAgIAogICAgCiAgICAgICAgdmFyIG1hcmtlcl9mN2E4ZmVlYTdlNjI0NWY1ODhhMDZiYzQ3ZTdlZTE4YiA9IEwubWFya2VyKAogICAgICAgICAgICBbNDUuMzI0MDM2MzE2MywgLTc1LjkxMzk1NjQ0OTddLAogICAgICAgICAgICB7CiAgICAgICAgICAgICAgICBpY29uOiBuZXcgTC5JY29uLkRlZmF1bHQoKQogICAgICAgICAgICAgICAgfQogICAgICAgICAgICApLmFkZFRvKG1hcmtlcl9jbHVzdGVyX2VkMDMxNmQ3Yjk3MzQyZDY5MTg4NGMyY2U3YmI5MWFkKTsKICAgICAgICAKICAgIAogICAgICAgIHZhciBtYXJrZXJfZDFmMmNmOTdhNmQ4NDQxNDg3OWNhYWUwMWI0ZjNlNDIgPSBMLm1hcmtlcigKICAgICAgICAgICAgWzQ1LjQxMTY3MjQxODgsIC03NS42MzAzNDE2MTNdLAogICAgICAgICAgICB7CiAgICAgICAgICAgICAgICBpY29uOiBuZXcgTC5JY29uLkRlZmF1bHQoKQogICAgICAgICAgICAgICAgfQogICAgICAgICAgICApLmFkZFRvKG1hcmtlcl9jbHVzdGVyX2VkMDMxNmQ3Yjk3MzQyZDY5MTg4NGMyY2U3YmI5MWFkKTsKICAgICAgICAKICAgIAogICAgICAgIHZhciBtYXJrZXJfOGM5NWRkYTVjMDUyNGJmM2JlMjBlMDIyZDRmZmYxMDIgPSBMLm1hcmtlcigKICAgICAgICAgICAgWzQ1LjE0MzIyNjE5NjEsIC03NS42MTIwNTM5NDE3XSwKICAgICAgICAgICAgewogICAgICAgICAgICAgICAgaWNvbjogbmV3IEwuSWNvbi5EZWZhdWx0KCkKICAgICAgICAgICAgICAgIH0KICAgICAgICAgICAgKS5hZGRUbyhtYXJrZXJfY2x1c3Rlcl9lZDAzMTZkN2I5NzM0MmQ2OTE4ODRjMmNlN2JiOTFhZCk7CiAgICAgICAgCiAgICAKICAgICAgICB2YXIgbWFya2VyX2I4MTViY2M5OWE2ODQzYjliNGZmOTQzYmNiYmU0NmVkID0gTC5tYXJrZXIoCiAgICAgICAgICAgIFs0NS40NTA2Mjg2MDYyLCAtNzUuNDY3ODk2MzA4OF0sCiAgICAgICAgICAgIHsKICAgICAgICAgICAgICAgIGljb246IG5ldyBMLkljb24uRGVmYXVsdCgpCiAgICAgICAgICAgICAgICB9CiAgICAgICAgICAgICkuYWRkVG8obWFya2VyX2NsdXN0ZXJfZWQwMzE2ZDdiOTczNDJkNjkxODg0YzJjZTdiYjkxYWQpOwogICAgICAgIAogICAgCiAgICAgICAgdmFyIG1hcmtlcl81ZDFkZDA1NDZiYTA0MzZiOTI1YmEwNjcyZTFiYTQ5NyA9IEwubWFya2VyKAogICAgICAgICAgICBbNDUuMzUzMDk4OTg2NiwgLTc1LjY3Mjg0MzI3Nl0sCiAgICAgICAgICAgIHsKICAgICAgICAgICAgICAgIGljb246IG5ldyBMLkljb24uRGVmYXVsdCgpCiAgICAgICAgICAgICAgICB9CiAgICAgICAgICAgICkuYWRkVG8obWFya2VyX2NsdXN0ZXJfZWQwMzE2ZDdiOTczNDJkNjkxODg0YzJjZTdiYjkxYWQpOwogICAgICAgIAogICAgCiAgICAgICAgdmFyIG1hcmtlcl9jM2U5NzE4MzVhNTc0ODhjODljZTc3ZjYxMWIwNGVjOCA9IEwubWFya2VyKAogICAgICAgICAgICBbNDUuNDI0MjQ1OTAwOSwgLTc1LjYzNzM5MzU1MThdLAogICAgICAgICAgICB7CiAgICAgICAgICAgICAgICBpY29uOiBuZXcgTC5JY29uLkRlZmF1bHQoKQogICAgICAgICAgICAgICAgfQogICAgICAgICAgICApLmFkZFRvKG1hcmtlcl9jbHVzdGVyX2VkMDMxNmQ3Yjk3MzQyZDY5MTg4NGMyY2U3YmI5MWFkKTsKICAgICAgICAKICAgIAogICAgICAgIHZhciBtYXJrZXJfZjM0NDkyZGU3MDYyNDA5NWJjYTgwNGM1ZmU2ZTc1ZTUgPSBMLm1hcmtlcigKICAgICAgICAgICAgWzQ1LjQwNjI3MjMxMTUsIC03NS42NzYzOTY3NjQ0XSwKICAgICAgICAgICAgewogICAgICAgICAgICAgICAgaWNvbjogbmV3IEwuSWNvbi5EZWZhdWx0KCkKICAgICAgICAgICAgICAgIH0KICAgICAgICAgICAgKS5hZGRUbyhtYXJrZXJfY2x1c3Rlcl9lZDAzMTZkN2I5NzM0MmQ2OTE4ODRjMmNlN2JiOTFhZCk7CiAgICAgICAgCiAgICAKICAgICAgICB2YXIgbWFya2VyXzY0NmNmNzBkYzZkZDQ2ZDc4NWY1OWM1M2MzNmU5NGY5ID0gTC5tYXJrZXIoCiAgICAgICAgICAgIFs0NS4zOTM1ODE3Nzc5LCAtNzUuNjk2MDUwMjU1NV0sCiAgICAgICAgICAgIHsKICAgICAgICAgICAgICAgIGljb246IG5ldyBMLkljb24uRGVmYXVsdCgpCiAgICAgICAgICAgICAgICB9CiAgICAgICAgICAgICkuYWRkVG8obWFya2VyX2NsdXN0ZXJfZWQwMzE2ZDdiOTczNDJkNjkxODg0YzJjZTdiYjkxYWQpOwogICAgICAgIAogICAgCiAgICAgICAgdmFyIG1hcmtlcl9mMmUyYTBiYmMwZWQ0NjRjYjM0ZmZmOTM3Yjc4Yzk3NiA9IEwubWFya2VyKAogICAgICAgICAgICBbNDUuNDQzOTczNDg4MSwgLTc1LjYzODExNTgzMjFdLAogICAgICAgICAgICB7CiAgICAgICAgICAgICAgICBpY29uOiBuZXcgTC5JY29uLkRlZmF1bHQoKQogICAgICAgICAgICAgICAgfQogICAgICAgICAgICApLmFkZFRvKG1hcmtlcl9jbHVzdGVyX2VkMDMxNmQ3Yjk3MzQyZDY5MTg4NGMyY2U3YmI5MWFkKTsKICAgICAgICAKICAgIAogICAgICAgIHZhciBtYXJrZXJfZTMzYmRhZmZlODgxNGViMmI0YjZhNWNmZGVmNDJjNGIgPSBMLm1hcmtlcigKICAgICAgICAgICAgWzQ1LjMzNDgwODM1NzYsIC03NS43MjQwOTIyMTg0XSwKICAgICAgICAgICAgewogICAgICAgICAgICAgICAgaWNvbjogbmV3IEwuSWNvbi5EZWZhdWx0KCkKICAgICAgICAgICAgICAgIH0KICAgICAgICAgICAgKS5hZGRUbyhtYXJrZXJfY2x1c3Rlcl9lZDAzMTZkN2I5NzM0MmQ2OTE4ODRjMmNlN2JiOTFhZCk7CiAgICAgICAgCiAgICAKICAgICAgICB2YXIgbWFya2VyXzExMDJlODQ0YTFlYzQ5YzliZjAwYTg0YjQ0YWQ2YzQ2ID0gTC5tYXJrZXIoCiAgICAgICAgICAgIFs0NS40MzA3MjU3NTE2LCAtNzUuNjY5MDI0MzA3NF0sCiAgICAgICAgICAgIHsKICAgICAgICAgICAgICAgIGljb246IG5ldyBMLkljb24uRGVmYXVsdCgpCiAgICAgICAgICAgICAgICB9CiAgICAgICAgICAgICkuYWRkVG8obWFya2VyX2NsdXN0ZXJfZWQwMzE2ZDdiOTczNDJkNjkxODg0YzJjZTdiYjkxYWQpOwogICAgICAgIAogICAgCiAgICAgICAgdmFyIG1hcmtlcl84MTQxOWIxNDBlYjY0NDAxOGM0YzkwOGZmZmM4MGM0YiA9IEwubWFya2VyKAogICAgICAgICAgICBbNDUuNDEzMTEyNDk5MSwgLTc1LjYzMTE1ODUzMzNdLAogICAgICAgICAgICB7CiAgICAgICAgICAgICAgICBpY29uOiBuZXcgTC5JY29uLkRlZmF1bHQoKQogICAgICAgICAgICAgICAgfQogICAgICAgICAgICApLmFkZFRvKG1hcmtlcl9jbHVzdGVyX2VkMDMxNmQ3Yjk3MzQyZDY5MTg4NGMyY2U3YmI5MWFkKTsKICAgICAgICAKICAgIAogICAgICAgIHZhciBtYXJrZXJfZTc4MzYwYzgzMTIyNGQ5OTg4YjAzODlmMWViZGM5OTYgPSBMLm1hcmtlcigKICAgICAgICAgICAgWzQ1LjQwOTc0MzYyNTgsIC03NS42OTE1NzQ1MTYyXSwKICAgICAgICAgICAgewogICAgICAgICAgICAgICAgaWNvbjogbmV3IEwuSWNvbi5EZWZhdWx0KCkKICAgICAgICAgICAgICAgIH0KICAgICAgICAgICAgKS5hZGRUbyhtYXJrZXJfY2x1c3Rlcl9lZDAzMTZkN2I5NzM0MmQ2OTE4ODRjMmNlN2JiOTFhZCk7CiAgICAgICAgCiAgICAKICAgICAgICB2YXIgbWFya2VyXzY2ZDFmZjU5YTE4MjQ3NzE4ZGI5NjNhZWY2Y2E1ZmY5ID0gTC5tYXJrZXIoCiAgICAgICAgICAgIFs0NS40NDEyODY3Nzg5LCAtNzUuNjQ2MzUxMTUzNV0sCiAgICAgICAgICAgIHsKICAgICAgICAgICAgICAgIGljb246IG5ldyBMLkljb24uRGVmYXVsdCgpCiAgICAgICAgICAgICAgICB9CiAgICAgICAgICAgICkuYWRkVG8obWFya2VyX2NsdXN0ZXJfZWQwMzE2ZDdiOTczNDJkNjkxODg0YzJjZTdiYjkxYWQpOwogICAgICAgIAogICAgCiAgICAgICAgdmFyIG1hcmtlcl9iM2ZlYWQ1NTk1MTk0ZjJhYTA2N2I5OTA3YjY5MmI3NyA9IEwubWFya2VyKAogICAgICAgICAgICBbNDUuMjYwNDgwMjEyNiwgLTc1LjY5OTcxNjExNzNdLAogICAgICAgICAgICB7CiAgICAgICAgICAgICAgICBpY29uOiBuZXcgTC5JY29uLkRlZmF1bHQoKQogICAgICAgICAgICAgICAgfQogICAgICAgICAgICApLmFkZFRvKG1hcmtlcl9jbHVzdGVyX2VkMDMxNmQ3Yjk3MzQyZDY5MTg4NGMyY2U3YmI5MWFkKTsKICAgICAgICAKICAgIAogICAgICAgIHZhciBtYXJrZXJfZmRlNzQ3N2E2MDFmNGU2OGE3ZGIyYjg2MjlhMWE0YjMgPSBMLm1hcmtlcigKICAgICAgICAgICAgWzQ1LjM5MTkyNzcwMjksIC03NS43MjM3NzQ0MDYyXSwKICAgICAgICAgICAgewogICAgICAgICAgICAgICAgaWNvbjogbmV3IEwuSWNvbi5EZWZhdWx0KCkKICAgICAgICAgICAgICAgIH0KICAgICAgICAgICAgKS5hZGRUbyhtYXJrZXJfY2x1c3Rlcl9lZDAzMTZkN2I5NzM0MmQ2OTE4ODRjMmNlN2JiOTFhZCk7CiAgICAgICAgCiAgICAKICAgICAgICB2YXIgbWFya2VyX2MxNWRkMWZmZDU2NzQzODJiMDczZTAxMGFlYTE3YjFkID0gTC5tYXJrZXIoCiAgICAgICAgICAgIFs0NS4zOTk5MzEwMTU3LCAtNzUuNjIxNTU4MzY2N10sCiAgICAgICAgICAgIHsKICAgICAgICAgICAgICAgIGljb246IG5ldyBMLkljb24uRGVmYXVsdCgpCiAgICAgICAgICAgICAgICB9CiAgICAgICAgICAgICkuYWRkVG8obWFya2VyX2NsdXN0ZXJfZWQwMzE2ZDdiOTczNDJkNjkxODg0YzJjZTdiYjkxYWQpOwogICAgICAgIAogICAgCiAgICAgICAgdmFyIG1hcmtlcl8xM2U0OWFlNzExNTY0ZjQ3YjgyYzYxOGVkYzRlYjE4YiA9IEwubWFya2VyKAogICAgICAgICAgICBbNDUuNDIzNzE0Mzg0OCwgLTc1LjYzNzA3NjUwMTFdLAogICAgICAgICAgICB7CiAgICAgICAgICAgICAgICBpY29uOiBuZXcgTC5JY29uLkRlZmF1bHQoKQogICAgICAgICAgICAgICAgfQogICAgICAgICAgICApLmFkZFRvKG1hcmtlcl9jbHVzdGVyX2VkMDMxNmQ3Yjk3MzQyZDY5MTg4NGMyY2U3YmI5MWFkKTsKICAgICAgICAKICAgIAogICAgICAgIHZhciBtYXJrZXJfMDk5M2Y5MDAwOTA4NGFlNGJjNmY1NmYzZTIzMTAxZGEgPSBMLm1hcmtlcigKICAgICAgICAgICAgWzQ1LjM3ODM0MTUxNTIsIC03NS42Njc0NDY2MDE5XSwKICAgICAgICAgICAgewogICAgICAgICAgICAgICAgaWNvbjogbmV3IEwuSWNvbi5EZWZhdWx0KCkKICAgICAgICAgICAgICAgIH0KICAgICAgICAgICAgKS5hZGRUbyhtYXJrZXJfY2x1c3Rlcl9lZDAzMTZkN2I5NzM0MmQ2OTE4ODRjMmNlN2JiOTFhZCk7CiAgICAgICAgCiAgICAKICAgICAgICB2YXIgbWFya2VyX2Y5MGIzNTJjOGFhODQzMTM5NGE0NGUyZTVhOTRhYWRkID0gTC5tYXJrZXIoCiAgICAgICAgICAgIFs0NS40NjEzODYwODIsIC03NS41NDkwNzYzNzkyXSwKICAgICAgICAgICAgewogICAgICAgICAgICAgICAgaWNvbjogbmV3IEwuSWNvbi5EZWZhdWx0KCkKICAgICAgICAgICAgICAgIH0KICAgICAgICAgICAgKS5hZGRUbyhtYXJrZXJfY2x1c3Rlcl9lZDAzMTZkN2I5NzM0MmQ2OTE4ODRjMmNlN2JiOTFhZCk7CiAgICAgICAgCiAgICAKICAgICAgICB2YXIgbWFya2VyX2ViNWNlODc5MWFmMTRiMzVhMmFhZDJjYzJmNDkyMmZiID0gTC5tYXJrZXIoCiAgICAgICAgICAgIFs0NS40MjcyOTY3ODA0LCAtNzUuNjYyNzg3NTIxN10sCiAgICAgICAgICAgIHsKICAgICAgICAgICAgICAgIGljb246IG5ldyBMLkljb24uRGVmYXVsdCgpCiAgICAgICAgICAgICAgICB9CiAgICAgICAgICAgICkuYWRkVG8obWFya2VyX2NsdXN0ZXJfZWQwMzE2ZDdiOTczNDJkNjkxODg0YzJjZTdiYjkxYWQpOwogICAgICAgIAogICAgCiAgICAgICAgdmFyIG1hcmtlcl8xZTNjODU1YjJlNWE0OGEwYWE1M2FkMWJiYTdhZDgxZiA9IEwubWFya2VyKAogICAgICAgICAgICBbNDUuMzI1NDU4NzExMiwgLTc1LjcyMDE3Njk3MDJdLAogICAgICAgICAgICB7CiAgICAgICAgICAgICAgICBpY29uOiBuZXcgTC5JY29uLkRlZmF1bHQoKQogICAgICAgICAgICAgICAgfQogICAgICAgICAgICApLmFkZFRvKG1hcmtlcl9jbHVzdGVyX2VkMDMxNmQ3Yjk3MzQyZDY5MTg4NGMyY2U3YmI5MWFkKTsKICAgICAgICAKICAgIAogICAgICAgIHZhciBtYXJrZXJfZWVhZDg5OWE4NjcxNDdhOWExMzJiNTZkYzNjOTRlNWEgPSBMLm1hcmtlcigKICAgICAgICAgICAgWzQ1LjQyNDYyMjcyMDksIC03NS42ODQ2MDI5Mzk3XSwKICAgICAgICAgICAgewogICAgICAgICAgICAgICAgaWNvbjogbmV3IEwuSWNvbi5EZWZhdWx0KCkKICAgICAgICAgICAgICAgIH0KICAgICAgICAgICAgKS5hZGRUbyhtYXJrZXJfY2x1c3Rlcl9lZDAzMTZkN2I5NzM0MmQ2OTE4ODRjMmNlN2JiOTFhZCk7CiAgICAgICAgCiAgICAKICAgICAgICB2YXIgbWFya2VyX2M1ZDQwNTUxYzYxZjQwYjNhYTdiY2Y2NThmZjdmMzc1ID0gTC5tYXJrZXIoCiAgICAgICAgICAgIFs0NS4zNDk5MDQ0MjY0LCAtNzUuNDQ0ODc3MTg4Nl0sCiAgICAgICAgICAgIHsKICAgICAgICAgICAgICAgIGljb246IG5ldyBMLkljb24uRGVmYXVsdCgpCiAgICAgICAgICAgICAgICB9CiAgICAgICAgICAgICkuYWRkVG8obWFya2VyX2NsdXN0ZXJfZWQwMzE2ZDdiOTczNDJkNjkxODg0YzJjZTdiYjkxYWQpOwogICAgICAgIAogICAgCiAgICAgICAgdmFyIG1hcmtlcl9hMTljYmIwMzBlZTI0MzA1OWY1NzM5OTg0NDZlMjk0ZCA9IEwubWFya2VyKAogICAgICAgICAgICBbNDUuNDIzNTAzNDAwMywgLTc1LjYzNjkyMjM0NDldLAogICAgICAgICAgICB7CiAgICAgICAgICAgICAgICBpY29uOiBuZXcgTC5JY29uLkRlZmF1bHQoKQogICAgICAgICAgICAgICAgfQogICAgICAgICAgICApLmFkZFRvKG1hcmtlcl9jbHVzdGVyX2VkMDMxNmQ3Yjk3MzQyZDY5MTg4NGMyY2U3YmI5MWFkKTsKICAgICAgICAKICAgIAogICAgICAgIHZhciBtYXJrZXJfMDE4YWFkNmE3ODM4NDA4ZTgxNmQ3YmM4ZTY5OGIwZTUgPSBMLm1hcmtlcigKICAgICAgICAgICAgWzQ1LjM5MzEwODM3MDMsIC03NS42ODg5Nzc0OTY2XSwKICAgICAgICAgICAgewogICAgICAgICAgICAgICAgaWNvbjogbmV3IEwuSWNvbi5EZWZhdWx0KCkKICAgICAgICAgICAgICAgIH0KICAgICAgICAgICAgKS5hZGRUbyhtYXJrZXJfY2x1c3Rlcl9lZDAzMTZkN2I5NzM0MmQ2OTE4ODRjMmNlN2JiOTFhZCk7CiAgICAgICAgCiAgICAKICAgICAgICB2YXIgbWFya2VyXzlkMjkyYjI3NDhjMDQ2ZWVhMzM4NGUyYjcxYmMwYzFhID0gTC5tYXJrZXIoCiAgICAgICAgICAgIFs0NS4yNjk1NzA3ODczLCAtNzUuODAyODg1MjQzMV0sCiAgICAgICAgICAgIHsKICAgICAgICAgICAgICAgIGljb246IG5ldyBMLkljb24uRGVmYXVsdCgpCiAgICAgICAgICAgICAgICB9CiAgICAgICAgICAgICkuYWRkVG8obWFya2VyX2NsdXN0ZXJfZWQwMzE2ZDdiOTczNDJkNjkxODg0YzJjZTdiYjkxYWQpOwogICAgICAgIAogICAgCiAgICAgICAgdmFyIG1hcmtlcl8xY2JjNGEwOTM1NmM0NThlOGM3MzE3ZTY5ZGYzMWU0YyA9IEwubWFya2VyKAogICAgICAgICAgICBbNDUuNDIwMDc1Njk5OSwgLTc1LjY1NzEwNjA0Ml0sCiAgICAgICAgICAgIHsKICAgICAgICAgICAgICAgIGljb246IG5ldyBMLkljb24uRGVmYXVsdCgpCiAgICAgICAgICAgICAgICB9CiAgICAgICAgICAgICkuYWRkVG8obWFya2VyX2NsdXN0ZXJfZWQwMzE2ZDdiOTczNDJkNjkxODg0YzJjZTdiYjkxYWQpOwogICAgICAgIAogICAgCiAgICAgICAgdmFyIG1hcmtlcl9lZjI1NGQ1ZmFmM2U0NWM4OTdiNDhiZGUzNDlkNTMwNSA9IEwubWFya2VyKAogICAgICAgICAgICBbNDUuMzk0ODUxNDQ4NCwgLTc1Ljc0MDYzOTcxMDVdLAogICAgICAgICAgICB7CiAgICAgICAgICAgICAgICBpY29uOiBuZXcgTC5JY29uLkRlZmF1bHQoKQogICAgICAgICAgICAgICAgfQogICAgICAgICAgICApLmFkZFRvKG1hcmtlcl9jbHVzdGVyX2VkMDMxNmQ3Yjk3MzQyZDY5MTg4NGMyY2U3YmI5MWFkKTsKICAgICAgICAKICAgIAogICAgICAgIHZhciBtYXJrZXJfZDhlZDYzMWUxMmFkNDA1NGI0ZGM2YzY5YjBkNDE4NzIgPSBMLm1hcmtlcigKICAgICAgICAgICAgWzQ1LjI5OTUxMzEwMSwgLTc1Ljg4Mzc2MzcxMjJdLAogICAgICAgICAgICB7CiAgICAgICAgICAgICAgICBpY29uOiBuZXcgTC5JY29uLkRlZmF1bHQoKQogICAgICAgICAgICAgICAgfQogICAgICAgICAgICApLmFkZFRvKG1hcmtlcl9jbHVzdGVyX2VkMDMxNmQ3Yjk3MzQyZDY5MTg4NGMyY2U3YmI5MWFkKTsKICAgICAgICAKICAgIAogICAgICAgIHZhciBtYXJrZXJfMDVkNDc4ZDhlNDBjNDk3YzllMmQ0ZGI0NjgzMzA0MjYgPSBMLm1hcmtlcigKICAgICAgICAgICAgWzQ1LjM5NzkzMzA2MzksIC03NS42MjI0NjI3NjI0XSwKICAgICAgICAgICAgewogICAgICAgICAgICAgICAgaWNvbjogbmV3IEwuSWNvbi5EZWZhdWx0KCkKICAgICAgICAgICAgICAgIH0KICAgICAgICAgICAgKS5hZGRUbyhtYXJrZXJfY2x1c3Rlcl9lZDAzMTZkN2I5NzM0MmQ2OTE4ODRjMmNlN2JiOTFhZCk7CiAgICAgICAgCiAgICAKICAgICAgICB2YXIgbWFya2VyXzViMTI5ZTFhNmNiZjQ5NTA5NDc3ZjkxZWYwMTVhYjY5ID0gTC5tYXJrZXIoCiAgICAgICAgICAgIFs0NS40MDA3MDU2NTY0LCAtNzUuNzQ4MDk4MDg5OF0sCiAgICAgICAgICAgIHsKICAgICAgICAgICAgICAgIGljb246IG5ldyBMLkljb24uRGVmYXVsdCgpCiAgICAgICAgICAgICAgICB9CiAgICAgICAgICAgICkuYWRkVG8obWFya2VyX2NsdXN0ZXJfZWQwMzE2ZDdiOTczNDJkNjkxODg0YzJjZTdiYjkxYWQpOwogICAgICAgIAogICAgCiAgICAgICAgdmFyIG1hcmtlcl8yODAzZmNlNGQ4ZWQ0OGI3YmU1MmFiMjFlMjU2Y2I2ZiA9IEwubWFya2VyKAogICAgICAgICAgICBbNDUuNDQxMTA4MTU3OSwgLTc1LjY0NjgyMjAyODFdLAogICAgICAgICAgICB7CiAgICAgICAgICAgICAgICBpY29uOiBuZXcgTC5JY29uLkRlZmF1bHQoKQogICAgICAgICAgICAgICAgfQogICAgICAgICAgICApLmFkZFRvKG1hcmtlcl9jbHVzdGVyX2VkMDMxNmQ3Yjk3MzQyZDY5MTg4NGMyY2U3YmI5MWFkKTsKICAgICAgICAKICAgIAogICAgICAgIHZhciBtYXJrZXJfYmE0NGYyNThjZGNhNGU4NjllMTRiYTFlNTE1ZDQ3NGMgPSBMLm1hcmtlcigKICAgICAgICAgICAgWzQ1LjQ0OTA5MTU5MzEsIC03NS40ODY4OTI3NzU0XSwKICAgICAgICAgICAgewogICAgICAgICAgICAgICAgaWNvbjogbmV3IEwuSWNvbi5EZWZhdWx0KCkKICAgICAgICAgICAgICAgIH0KICAgICAgICAgICAgKS5hZGRUbyhtYXJrZXJfY2x1c3Rlcl9lZDAzMTZkN2I5NzM0MmQ2OTE4ODRjMmNlN2JiOTFhZCk7CiAgICAgICAgCiAgICAKICAgICAgICB2YXIgbWFya2VyXzkwYWZlOGY5NjZkMDQ5ZmI5OTQ1MjUwYzliNmEyNDhlID0gTC5tYXJrZXIoCiAgICAgICAgICAgIFs0NS4zNjE1NTMwODI0LCAtNzUuNzM5NTEyMDA2Ml0sCiAgICAgICAgICAgIHsKICAgICAgICAgICAgICAgIGljb246IG5ldyBMLkljb24uRGVmYXVsdCgpCiAgICAgICAgICAgICAgICB9CiAgICAgICAgICAgICkuYWRkVG8obWFya2VyX2NsdXN0ZXJfZWQwMzE2ZDdiOTczNDJkNjkxODg0YzJjZTdiYjkxYWQpOwogICAgICAgIAogICAgCiAgICAgICAgdmFyIG1hcmtlcl9jMTA0N2UwNjIxNWI0NjZhODUwZTJlMDM1NjgyMmNiNSA9IEwubWFya2VyKAogICAgICAgICAgICBbNDUuNDAxMjM5Nzc2MSwgLTc1Ljc1NDY3NDM5OTVdLAogICAgICAgICAgICB7CiAgICAgICAgICAgICAgICBpY29uOiBuZXcgTC5JY29uLkRlZmF1bHQoKQogICAgICAgICAgICAgICAgfQogICAgICAgICAgICApLmFkZFRvKG1hcmtlcl9jbHVzdGVyX2VkMDMxNmQ3Yjk3MzQyZDY5MTg4NGMyY2U3YmI5MWFkKTsKICAgICAgICAKICAgIAogICAgICAgIHZhciBtYXJrZXJfYmNlZTdjNDI1ZmFjNGE4ZDg3MjY5MzEwOWNiYTk2ZTAgPSBMLm1hcmtlcigKICAgICAgICAgICAgWzQ1LjQ0MzA3OTAzMTQsIC03NS42NDA4OTg4Mjc2XSwKICAgICAgICAgICAgewogICAgICAgICAgICAgICAgaWNvbjogbmV3IEwuSWNvbi5EZWZhdWx0KCkKICAgICAgICAgICAgICAgIH0KICAgICAgICAgICAgKS5hZGRUbyhtYXJrZXJfY2x1c3Rlcl9lZDAzMTZkN2I5NzM0MmQ2OTE4ODRjMmNlN2JiOTFhZCk7CiAgICAgICAgCiAgICAKICAgICAgICB2YXIgbWFya2VyX2U1ZTdjNWEzMWJmODRjZDU4MmZlN2UzZDNmODM0M2VlID0gTC5tYXJrZXIoCiAgICAgICAgICAgIFs0NS4zNjUyMTQ0NDAzLCAtNzUuNjE5NjQzMjY0OF0sCiAgICAgICAgICAgIHsKICAgICAgICAgICAgICAgIGljb246IG5ldyBMLkljb24uRGVmYXVsdCgpCiAgICAgICAgICAgICAgICB9CiAgICAgICAgICAgICkuYWRkVG8obWFya2VyX2NsdXN0ZXJfZWQwMzE2ZDdiOTczNDJkNjkxODg0YzJjZTdiYjkxYWQpOwogICAgICAgIAogICAgCiAgICAgICAgdmFyIG1hcmtlcl85Yjc4YjExYmQyY2E0ZDEyOGRjYmE5YTBmOGYzYTIzMiA9IEwubWFya2VyKAogICAgICAgICAgICBbNDUuMjgxMjUyODExMSwgLTc1LjgzNzUyMzczMThdLAogICAgICAgICAgICB7CiAgICAgICAgICAgICAgICBpY29uOiBuZXcgTC5JY29uLkRlZmF1bHQoKQogICAgICAgICAgICAgICAgfQogICAgICAgICAgICApLmFkZFRvKG1hcmtlcl9jbHVzdGVyX2VkMDMxNmQ3Yjk3MzQyZDY5MTg4NGMyY2U3YmI5MWFkKTsKICAgICAgICAKICAgIAogICAgICAgIHZhciBtYXJrZXJfOTliYTJjOTBlMTg1NDIxOGEzZmYxMDczNWY3NTZjOTYgPSBMLm1hcmtlcigKICAgICAgICAgICAgWzQ1LjM0MTQzNzY0NjQsIC03NS44MzY5ODY4ODJdLAogICAgICAgICAgICB7CiAgICAgICAgICAgICAgICBpY29uOiBuZXcgTC5JY29uLkRlZmF1bHQoKQogICAgICAgICAgICAgICAgfQogICAgICAgICAgICApLmFkZFRvKG1hcmtlcl9jbHVzdGVyX2VkMDMxNmQ3Yjk3MzQyZDY5MTg4NGMyY2U3YmI5MWFkKTsKICAgICAgICAKICAgIAogICAgICAgIHZhciBtYXJrZXJfZGUwYjJhMTM5MDk2NDhjMzljZTA4OWMwYjNiOGQ1NmIgPSBMLm1hcmtlcigKICAgICAgICAgICAgWzQ1LjQ1NDI0MDk0MjYsIC03NS40ODQwNzk3NDQxXSwKICAgICAgICAgICAgewogICAgICAgICAgICAgICAgaWNvbjogbmV3IEwuSWNvbi5EZWZhdWx0KCkKICAgICAgICAgICAgICAgIH0KICAgICAgICAgICAgKS5hZGRUbyhtYXJrZXJfY2x1c3Rlcl9lZDAzMTZkN2I5NzM0MmQ2OTE4ODRjMmNlN2JiOTFhZCk7CiAgICAgICAgCiAgICAKICAgICAgICB2YXIgbWFya2VyXzYwMmZjZWFkNDQyNzRkODg5YmYxNzk1YzgxNDE4OWU4ID0gTC5tYXJrZXIoCiAgICAgICAgICAgIFs0NS4zMDM2ODU2MTQ3LCAtNzUuODc2NTc1MjMzNV0sCiAgICAgICAgICAgIHsKICAgICAgICAgICAgICAgIGljb246IG5ldyBMLkljb24uRGVmYXVsdCgpCiAgICAgICAgICAgICAgICB9CiAgICAgICAgICAgICkuYWRkVG8obWFya2VyX2NsdXN0ZXJfZWQwMzE2ZDdiOTczNDJkNjkxODg0YzJjZTdiYjkxYWQpOwogICAgICAgIAogICAgCiAgICAgICAgdmFyIG1hcmtlcl9iZjZmZDhjNGZjODg0NmVkYjVhNTBiNDBjMTAzY2I5MSA9IEwubWFya2VyKAogICAgICAgICAgICBbNDUuMzg5OTIzMzY0NiwgLTc1LjY5MzgzNzE5Ml0sCiAgICAgICAgICAgIHsKICAgICAgICAgICAgICAgIGljb246IG5ldyBMLkljb24uRGVmYXVsdCgpCiAgICAgICAgICAgICAgICB9CiAgICAgICAgICAgICkuYWRkVG8obWFya2VyX2NsdXN0ZXJfZWQwMzE2ZDdiOTczNDJkNjkxODg0YzJjZTdiYjkxYWQpOwogICAgICAgIAogICAgCiAgICAgICAgdmFyIG1hcmtlcl80MGE2OTNhZWEzNmQ0MzdiOGVmZDcyNDQ2ZDI2ODI2YSA9IEwubWFya2VyKAogICAgICAgICAgICBbNDUuNDA5MzA1NTEsIC03NS42MjE5MTAwMjA1XSwKICAgICAgICAgICAgewogICAgICAgICAgICAgICAgaWNvbjogbmV3IEwuSWNvbi5EZWZhdWx0KCkKICAgICAgICAgICAgICAgIH0KICAgICAgICAgICAgKS5hZGRUbyhtYXJrZXJfY2x1c3Rlcl9lZDAzMTZkN2I5NzM0MmQ2OTE4ODRjMmNlN2JiOTFhZCk7CiAgICAgICAgCiAgICAKICAgICAgICB2YXIgbWFya2VyXzdmMTA5ZDlkYjFjMzQ1YWI5MjJhMDBiYjU0YzkwNDFkID0gTC5tYXJrZXIoCiAgICAgICAgICAgIFs0NS4zMzU2Nzg5NjQ0LCAtNzUuNjkzMTI4MjU2XSwKICAgICAgICAgICAgewogICAgICAgICAgICAgICAgaWNvbjogbmV3IEwuSWNvbi5EZWZhdWx0KCkKICAgICAgICAgICAgICAgIH0KICAgICAgICAgICAgKS5hZGRUbyhtYXJrZXJfY2x1c3Rlcl9lZDAzMTZkN2I5NzM0MmQ2OTE4ODRjMmNlN2JiOTFhZCk7CiAgICAgICAgCiAgICAKICAgICAgICB2YXIgbWFya2VyXzJhYWZmZWM1Y2ZhMDQzZjliNmY0MTJiMGRjOTE0NThhID0gTC5tYXJrZXIoCiAgICAgICAgICAgIFs0NS4zNzY4OTI1NTA4LCAtNzUuNjkxNTAxNTY3N10sCiAgICAgICAgICAgIHsKICAgICAgICAgICAgICAgIGljb246IG5ldyBMLkljb24uRGVmYXVsdCgpCiAgICAgICAgICAgICAgICB9CiAgICAgICAgICAgICkuYWRkVG8obWFya2VyX2NsdXN0ZXJfZWQwMzE2ZDdiOTczNDJkNjkxODg0YzJjZTdiYjkxYWQpOwogICAgICAgIAogICAgCiAgICAgICAgdmFyIG1hcmtlcl9hODhlZGU4MWNlZTY0MGQxYWNkYzM5N2M1Y2IwMWMxZSA9IEwubWFya2VyKAogICAgICAgICAgICBbNDUuMzkzNjI1MTQwNCwgLTc1LjY5NjA0OTY0MDddLAogICAgICAgICAgICB7CiAgICAgICAgICAgICAgICBpY29uOiBuZXcgTC5JY29uLkRlZmF1bHQoKQogICAgICAgICAgICAgICAgfQogICAgICAgICAgICApLmFkZFRvKG1hcmtlcl9jbHVzdGVyX2VkMDMxNmQ3Yjk3MzQyZDY5MTg4NGMyY2U3YmI5MWFkKTsKICAgICAgICAKICAgIAogICAgICAgIHZhciBtYXJrZXJfNDRkMmJjNDcwYWI5NDMxZDlhNGY4MjQxYTgxMjA2ZDEgPSBMLm1hcmtlcigKICAgICAgICAgICAgWzQ1LjIxNjk5NzEzNzYsIC03NS43NzIzMTQwNjY5XSwKICAgICAgICAgICAgewogICAgICAgICAgICAgICAgaWNvbjogbmV3IEwuSWNvbi5EZWZhdWx0KCkKICAgICAgICAgICAgICAgIH0KICAgICAgICAgICAgKS5hZGRUbyhtYXJrZXJfY2x1c3Rlcl9lZDAzMTZkN2I5NzM0MmQ2OTE4ODRjMmNlN2JiOTFhZCk7CiAgICAgICAgCiAgICAKICAgICAgICB2YXIgbWFya2VyXzVkMGYwM2YwODVkNzRhZjg5MGJmY2E3ZTk2NjY0ODA1ID0gTC5tYXJrZXIoCiAgICAgICAgICAgIFs0NS4zNjgzODcxMzkxLCAtNzUuNzAxMjExNjAxM10sCiAgICAgICAgICAgIHsKICAgICAgICAgICAgICAgIGljb246IG5ldyBMLkljb24uRGVmYXVsdCgpCiAgICAgICAgICAgICAgICB9CiAgICAgICAgICAgICkuYWRkVG8obWFya2VyX2NsdXN0ZXJfZWQwMzE2ZDdiOTczNDJkNjkxODg0YzJjZTdiYjkxYWQpOwogICAgICAgIAogICAgCiAgICAgICAgdmFyIG1hcmtlcl9iYzI2MjQxZTQ5ZTU0YjlhYWY1ZTMxMDgzMjc5OTY0NiA9IEwubWFya2VyKAogICAgICAgICAgICBbNDUuNDU1NzIzMzMxOCwgLTc1LjUwNDc5MjQxOTFdLAogICAgICAgICAgICB7CiAgICAgICAgICAgICAgICBpY29uOiBuZXcgTC5JY29uLkRlZmF1bHQoKQogICAgICAgICAgICAgICAgfQogICAgICAgICAgICApLmFkZFRvKG1hcmtlcl9jbHVzdGVyX2VkMDMxNmQ3Yjk3MzQyZDY5MTg4NGMyY2U3YmI5MWFkKTsKICAgICAgICAKICAgIAogICAgICAgIHZhciBtYXJrZXJfNzE5MGQzY2FlODU2NGM3MmJiMDYzMDNmOGEwNGYwMjQgPSBMLm1hcmtlcigKICAgICAgICAgICAgWzQ1LjQwMTA0MzA3NzQsIC03NS42NzM0MDU0ODU1XSwKICAgICAgICAgICAgewogICAgICAgICAgICAgICAgaWNvbjogbmV3IEwuSWNvbi5EZWZhdWx0KCkKICAgICAgICAgICAgICAgIH0KICAgICAgICAgICAgKS5hZGRUbyhtYXJrZXJfY2x1c3Rlcl9lZDAzMTZkN2I5NzM0MmQ2OTE4ODRjMmNlN2JiOTFhZCk7CiAgICAgICAgCiAgICAKICAgICAgICB2YXIgbWFya2VyXzBlMjBlZTU4NDVmZDRmZTNhNzQ4OTdjZDBhYWQ1YWM0ID0gTC5tYXJrZXIoCiAgICAgICAgICAgIFs0NS4zNDgxMjgxMzM2LCAtNzUuNjA5NTg5NTc3OV0sCiAgICAgICAgICAgIHsKICAgICAgICAgICAgICAgIGljb246IG5ldyBMLkljb24uRGVmYXVsdCgpCiAgICAgICAgICAgICAgICB9CiAgICAgICAgICAgICkuYWRkVG8obWFya2VyX2NsdXN0ZXJfZWQwMzE2ZDdiOTczNDJkNjkxODg0YzJjZTdiYjkxYWQpOwogICAgICAgIAogICAgCiAgICAgICAgdmFyIG1hcmtlcl9hNzhlNDIyMzk4ZjI0YjJiYTZhZGExOTk1ODAzNjk1MSA9IEwubWFya2VyKAogICAgICAgICAgICBbNDUuMjQ3MDA5MDM0NiwgLTc1LjcxMTMzODQwNjFdLAogICAgICAgICAgICB7CiAgICAgICAgICAgICAgICBpY29uOiBuZXcgTC5JY29uLkRlZmF1bHQoKQogICAgICAgICAgICAgICAgfQogICAgICAgICAgICApLmFkZFRvKG1hcmtlcl9jbHVzdGVyX2VkMDMxNmQ3Yjk3MzQyZDY5MTg4NGMyY2U3YmI5MWFkKTsKICAgICAgICAKICAgIAogICAgICAgIHZhciBtYXJrZXJfN2RhZjI1MzQwMGVkNGNmZTlmMmVhYTg0ZDBiM2FjZjggPSBMLm1hcmtlcigKICAgICAgICAgICAgWzQ1LjQxMDU4OTYxNzcsIC03NS42ODk0NTQ1MzY1XSwKICAgICAgICAgICAgewogICAgICAgICAgICAgICAgaWNvbjogbmV3IEwuSWNvbi5EZWZhdWx0KCkKICAgICAgICAgICAgICAgIH0KICAgICAgICAgICAgKS5hZGRUbyhtYXJrZXJfY2x1c3Rlcl9lZDAzMTZkN2I5NzM0MmQ2OTE4ODRjMmNlN2JiOTFhZCk7CiAgICAgICAgCiAgICAKICAgICAgICB2YXIgbWFya2VyXzA1YWVjMTllMjA1ODQ4MWM5NGM3ZTJhYmNhMDU3Y2YxID0gTC5tYXJrZXIoCiAgICAgICAgICAgIFs0NS40MjE3MTExOTc3LCAtNzUuNjk2MTY0MzUxN10sCiAgICAgICAgICAgIHsKICAgICAgICAgICAgICAgIGljb246IG5ldyBMLkljb24uRGVmYXVsdCgpCiAgICAgICAgICAgICAgICB9CiAgICAgICAgICAgICkuYWRkVG8obWFya2VyX2NsdXN0ZXJfZWQwMzE2ZDdiOTczNDJkNjkxODg0YzJjZTdiYjkxYWQpOwogICAgICAgIAogICAgCiAgICAgICAgdmFyIG1hcmtlcl8zMzM1OTZjYjRhNzY0NjMwODNjZTc5YmVjNzRhZWVlNiA9IEwubWFya2VyKAogICAgICAgICAgICBbNDUuNDM1Nzg4MjE0MywgLTc1LjY2MjM5MzU0ODFdLAogICAgICAgICAgICB7CiAgICAgICAgICAgICAgICBpY29uOiBuZXcgTC5JY29uLkRlZmF1bHQoKQogICAgICAgICAgICAgICAgfQogICAgICAgICAgICApLmFkZFRvKG1hcmtlcl9jbHVzdGVyX2VkMDMxNmQ3Yjk3MzQyZDY5MTg4NGMyY2U3YmI5MWFkKTsKICAgICAgICAKICAgIAogICAgICAgIHZhciBtYXJrZXJfYzIyMWI3OWQzMzg4NDljOThmZDczZDAwZDgxMDk1MjkgPSBMLm1hcmtlcigKICAgICAgICAgICAgWzQ1LjMzNDk2ODA3MzIsIC03NS42OTMxNzUyNDQ0XSwKICAgICAgICAgICAgewogICAgICAgICAgICAgICAgaWNvbjogbmV3IEwuSWNvbi5EZWZhdWx0KCkKICAgICAgICAgICAgICAgIH0KICAgICAgICAgICAgKS5hZGRUbyhtYXJrZXJfY2x1c3Rlcl9lZDAzMTZkN2I5NzM0MmQ2OTE4ODRjMmNlN2JiOTFhZCk7CiAgICAgICAgCiAgICAKICAgICAgICB2YXIgbWFya2VyX2ZmODc4YjE3OTdhMDRjOWFiYmU3NTc2ZTBjZTRiMzVhID0gTC5tYXJrZXIoCiAgICAgICAgICAgIFs0NS40MzM5MTgyMjI2LCAtNzUuNTQ2ODk5ODQ0OF0sCiAgICAgICAgICAgIHsKICAgICAgICAgICAgICAgIGljb246IG5ldyBMLkljb24uRGVmYXVsdCgpCiAgICAgICAgICAgICAgICB9CiAgICAgICAgICAgICkuYWRkVG8obWFya2VyX2NsdXN0ZXJfZWQwMzE2ZDdiOTczNDJkNjkxODg0YzJjZTdiYjkxYWQpOwogICAgICAgIAogICAgCiAgICAgICAgdmFyIG1hcmtlcl9kZDlmZTA3NWZkNTA0NDkxYmUxMTY0Mzc0OTMxZWVkMCA9IEwubWFya2VyKAogICAgICAgICAgICBbNDUuMzM0MTc4NTk1NCwgLTc1LjcwMDU3MzA2MjddLAogICAgICAgICAgICB7CiAgICAgICAgICAgICAgICBpY29uOiBuZXcgTC5JY29uLkRlZmF1bHQoKQogICAgICAgICAgICAgICAgfQogICAgICAgICAgICApLmFkZFRvKG1hcmtlcl9jbHVzdGVyX2VkMDMxNmQ3Yjk3MzQyZDY5MTg4NGMyY2U3YmI5MWFkKTsKICAgICAgICAKICAgIAogICAgICAgIHZhciBtYXJrZXJfMjZkYTkyYzFhYzk0NDA5ZWE3NTMzOTYyZmI3YWQwODAgPSBMLm1hcmtlcigKICAgICAgICAgICAgWzQ1LjMwMjQ5MjM4NzMsIC03NS45MDc4OTI4MDY5XSwKICAgICAgICAgICAgewogICAgICAgICAgICAgICAgaWNvbjogbmV3IEwuSWNvbi5EZWZhdWx0KCkKICAgICAgICAgICAgICAgIH0KICAgICAgICAgICAgKS5hZGRUbyhtYXJrZXJfY2x1c3Rlcl9lZDAzMTZkN2I5NzM0MmQ2OTE4ODRjMmNlN2JiOTFhZCk7CiAgICAgICAgCiAgICAKICAgICAgICB2YXIgbWFya2VyXzAwODQ4NDBjYzczMTRhZWVhZmE0YTA5MWZmODJlZGMyID0gTC5tYXJrZXIoCiAgICAgICAgICAgIFs0NS40MDk0MTM3Nzk4LCAtNzUuNzAwMjY1MjQ2Ml0sCiAgICAgICAgICAgIHsKICAgICAgICAgICAgICAgIGljb246IG5ldyBMLkljb24uRGVmYXVsdCgpCiAgICAgICAgICAgICAgICB9CiAgICAgICAgICAgICkuYWRkVG8obWFya2VyX2NsdXN0ZXJfZWQwMzE2ZDdiOTczNDJkNjkxODg0YzJjZTdiYjkxYWQpOwogICAgICAgIAogICAgCiAgICAgICAgdmFyIG1hcmtlcl9kNDkxNmM1MmRmM2I0OWYwOTExNThjN2NjZmEwMTllZSA9IEwubWFya2VyKAogICAgICAgICAgICBbNDUuNDU1NzA1ODgwNSwgLTc1LjUwNDc4MDQwMjNdLAogICAgICAgICAgICB7CiAgICAgICAgICAgICAgICBpY29uOiBuZXcgTC5JY29uLkRlZmF1bHQoKQogICAgICAgICAgICAgICAgfQogICAgICAgICAgICApLmFkZFRvKG1hcmtlcl9jbHVzdGVyX2VkMDMxNmQ3Yjk3MzQyZDY5MTg4NGMyY2U3YmI5MWFkKTsKICAgICAgICAKICAgIAogICAgICAgIHZhciBtYXJrZXJfY2VhNzUwN2ZlNWZmNGQ3ODgyMGEzMDIyMDc0MjQwYWEgPSBMLm1hcmtlcigKICAgICAgICAgICAgWzQ1LjM5NjUxNzA2MjMsIC03NS43MTAzMDg1NzU4XSwKICAgICAgICAgICAgewogICAgICAgICAgICAgICAgaWNvbjogbmV3IEwuSWNvbi5EZWZhdWx0KCkKICAgICAgICAgICAgICAgIH0KICAgICAgICAgICAgKS5hZGRUbyhtYXJrZXJfY2x1c3Rlcl9lZDAzMTZkN2I5NzM0MmQ2OTE4ODRjMmNlN2JiOTFhZCk7CiAgICAgICAgCiAgICAKICAgICAgICB2YXIgbWFya2VyX2Y2YjJiMzE0MWE5OTRmMDU5MGU3MGY2NjE0OTY0Mzg2ID0gTC5tYXJrZXIoCiAgICAgICAgICAgIFs0NS40MTE2NjUzMDYyLCAtNzUuNjgyOTU4NDE1OV0sCiAgICAgICAgICAgIHsKICAgICAgICAgICAgICAgIGljb246IG5ldyBMLkljb24uRGVmYXVsdCgpCiAgICAgICAgICAgICAgICB9CiAgICAgICAgICAgICkuYWRkVG8obWFya2VyX2NsdXN0ZXJfZWQwMzE2ZDdiOTczNDJkNjkxODg0YzJjZTdiYjkxYWQpOwogICAgICAgIAogICAgCiAgICAgICAgdmFyIG1hcmtlcl9hYTVhMjFkMmIyZTc0MDZjOWMxMmExNDM5ZGQ0NmY5NyA9IEwubWFya2VyKAogICAgICAgICAgICBbNDUuMzg4OTQ4MTQ0NywgLTc1LjYzMjUyMTc5NjhdLAogICAgICAgICAgICB7CiAgICAgICAgICAgICAgICBpY29uOiBuZXcgTC5JY29uLkRlZmF1bHQoKQogICAgICAgICAgICAgICAgfQogICAgICAgICAgICApLmFkZFRvKG1hcmtlcl9jbHVzdGVyX2VkMDMxNmQ3Yjk3MzQyZDY5MTg4NGMyY2U3YmI5MWFkKTsKICAgICAgICAKICAgIAogICAgICAgIHZhciBtYXJrZXJfNDhlN2Q4Mjc1Y2ZiNGMwNTg5MDQ5N2M5NWZlYTBmY2UgPSBMLm1hcmtlcigKICAgICAgICAgICAgWzQ1LjQxMDIyNTE1NCwgLTc1LjYxOTY5MTU5MzldLAogICAgICAgICAgICB7CiAgICAgICAgICAgICAgICBpY29uOiBuZXcgTC5JY29uLkRlZmF1bHQoKQogICAgICAgICAgICAgICAgfQogICAgICAgICAgICApLmFkZFRvKG1hcmtlcl9jbHVzdGVyX2VkMDMxNmQ3Yjk3MzQyZDY5MTg4NGMyY2U3YmI5MWFkKTsKICAgICAgICAKICAgIAogICAgICAgIHZhciBtYXJrZXJfMmNiZDNiNWRjZTE4NDhkYmJjMThkMTQ3NmYwNTkxYmIgPSBMLm1hcmtlcigKICAgICAgICAgICAgWzQ1LjQyMTEyNjU5ODksIC03NS42MjEwMjg4Mzk3XSwKICAgICAgICAgICAgewogICAgICAgICAgICAgICAgaWNvbjogbmV3IEwuSWNvbi5EZWZhdWx0KCkKICAgICAgICAgICAgICAgIH0KICAgICAgICAgICAgKS5hZGRUbyhtYXJrZXJfY2x1c3Rlcl9lZDAzMTZkN2I5NzM0MmQ2OTE4ODRjMmNlN2JiOTFhZCk7CiAgICAgICAgCiAgICAKICAgICAgICB2YXIgbWFya2VyX2Q0NDRkY2RkMWNhZjRlNTBiYjgxMzkzZWU5YTc0MWU3ID0gTC5tYXJrZXIoCiAgICAgICAgICAgIFs0NS40ODEwOTk1ODcsIC03NS41MTg2NTE3MjIzXSwKICAgICAgICAgICAgewogICAgICAgICAgICAgICAgaWNvbjogbmV3IEwuSWNvbi5EZWZhdWx0KCkKICAgICAgICAgICAgICAgIH0KICAgICAgICAgICAgKS5hZGRUbyhtYXJrZXJfY2x1c3Rlcl9lZDAzMTZkN2I5NzM0MmQ2OTE4ODRjMmNlN2JiOTFhZCk7CiAgICAgICAgCiAgICAKICAgICAgICB2YXIgbWFya2VyX2M2ZDc4Nzk4OWE3ODQ5NmRiOWNhYmMzNzBjZjVhY2Y1ID0gTC5tYXJrZXIoCiAgICAgICAgICAgIFs0NS40MzAyNDQ1NTE3LCAtNzUuNjkyMjkxMjc4Ml0sCiAgICAgICAgICAgIHsKICAgICAgICAgICAgICAgIGljb246IG5ldyBMLkljb24uRGVmYXVsdCgpCiAgICAgICAgICAgICAgICB9CiAgICAgICAgICAgICkuYWRkVG8obWFya2VyX2NsdXN0ZXJfZWQwMzE2ZDdiOTczNDJkNjkxODg0YzJjZTdiYjkxYWQpOwogICAgICAgIAogICAgCiAgICAgICAgdmFyIG1hcmtlcl9lMDkxMzMzZmM2ZDY0NjA1OWVmYTE0MDI3NjVhNGMzMSA9IEwubWFya2VyKAogICAgICAgICAgICBbNDUuMzgxMDUzOTI2OSwgLTc1LjYyODI3MTYxODRdLAogICAgICAgICAgICB7CiAgICAgICAgICAgICAgICBpY29uOiBuZXcgTC5JY29uLkRlZmF1bHQoKQogICAgICAgICAgICAgICAgfQogICAgICAgICAgICApLmFkZFRvKG1hcmtlcl9jbHVzdGVyX2VkMDMxNmQ3Yjk3MzQyZDY5MTg4NGMyY2U3YmI5MWFkKTsKICAgICAgICAKICAgIAogICAgICAgIHZhciBtYXJrZXJfYzBmMjI1ZjE1NzIzNGRlMGI4OWI3YzQ3ZTk4NTk1ZDMgPSBMLm1hcmtlcigKICAgICAgICAgICAgWzQ1LjQ1MjE1MzA0MzYsIC03NS41ODkzMzM0MzA0XSwKICAgICAgICAgICAgewogICAgICAgICAgICAgICAgaWNvbjogbmV3IEwuSWNvbi5EZWZhdWx0KCkKICAgICAgICAgICAgICAgIH0KICAgICAgICAgICAgKS5hZGRUbyhtYXJrZXJfY2x1c3Rlcl9lZDAzMTZkN2I5NzM0MmQ2OTE4ODRjMmNlN2JiOTFhZCk7CiAgICAgICAgCiAgICAKICAgICAgICB2YXIgbWFya2VyX2NmZjU5ZDcwYjVlYTQ1NmJiM2FhMTc2ZDg5MmEzNTY4ID0gTC5tYXJrZXIoCiAgICAgICAgICAgIFs0NS40NDU3MDY1ODUxLCAtNzUuNjQzOTI0MjU0MV0sCiAgICAgICAgICAgIHsKICAgICAgICAgICAgICAgIGljb246IG5ldyBMLkljb24uRGVmYXVsdCgpCiAgICAgICAgICAgICAgICB9CiAgICAgICAgICAgICkuYWRkVG8obWFya2VyX2NsdXN0ZXJfZWQwMzE2ZDdiOTczNDJkNjkxODg0YzJjZTdiYjkxYWQpOwogICAgICAgIAogICAgCiAgICAgICAgdmFyIG1hcmtlcl9iNDQyOGFiYWJjOGI0Njk4OWI1ZGU5ZGUwNTVhMjVkOSA9IEwubWFya2VyKAogICAgICAgICAgICBbNDUuNDI5NTAwODk2MiwgLTc1LjY5NDA2NTQ0NjNdLAogICAgICAgICAgICB7CiAgICAgICAgICAgICAgICBpY29uOiBuZXcgTC5JY29uLkRlZmF1bHQoKQogICAgICAgICAgICAgICAgfQogICAgICAgICAgICApLmFkZFRvKG1hcmtlcl9jbHVzdGVyX2VkMDMxNmQ3Yjk3MzQyZDY5MTg4NGMyY2U3YmI5MWFkKTsKICAgICAgICAKICAgIAogICAgICAgIHZhciBtYXJrZXJfZjViOTNmMDE1OWE3NGViOGJjY2E1ODE5MTE0MDk0MTQgPSBMLm1hcmtlcigKICAgICAgICAgICAgWzQ1LjQzMTEwNzM3MDgsIC03NS42NjM5NDEzODMzXSwKICAgICAgICAgICAgewogICAgICAgICAgICAgICAgaWNvbjogbmV3IEwuSWNvbi5EZWZhdWx0KCkKICAgICAgICAgICAgICAgIH0KICAgICAgICAgICAgKS5hZGRUbyhtYXJrZXJfY2x1c3Rlcl9lZDAzMTZkN2I5NzM0MmQ2OTE4ODRjMmNlN2JiOTFhZCk7CiAgICAgICAgCiAgICAKICAgICAgICB2YXIgbWFya2VyXzBhNWY0YmZkOTlmMjRlZGE5ZDA0NTM0MjAyYzQ3MzUzID0gTC5tYXJrZXIoCiAgICAgICAgICAgIFs0NS40NjAzMTU4NTAxLCAtNzUuNDQ4NDkyNTUzNl0sCiAgICAgICAgICAgIHsKICAgICAgICAgICAgICAgIGljb246IG5ldyBMLkljb24uRGVmYXVsdCgpCiAgICAgICAgICAgICAgICB9CiAgICAgICAgICAgICkuYWRkVG8obWFya2VyX2NsdXN0ZXJfZWQwMzE2ZDdiOTczNDJkNjkxODg0YzJjZTdiYjkxYWQpOwogICAgICAgIAogICAgCiAgICAgICAgdmFyIG1hcmtlcl8yMDUyMTY2YzJmNDc0MDBjOTU0OGUwN2YxYTQyMDJjZCA9IEwubWFya2VyKAogICAgICAgICAgICBbNDUuNDI0OTg0NzM2NCwgLTc1LjY5MzE1OTM0NjZdLAogICAgICAgICAgICB7CiAgICAgICAgICAgICAgICBpY29uOiBuZXcgTC5JY29uLkRlZmF1bHQoKQogICAgICAgICAgICAgICAgfQogICAgICAgICAgICApLmFkZFRvKG1hcmtlcl9jbHVzdGVyX2VkMDMxNmQ3Yjk3MzQyZDY5MTg4NGMyY2U3YmI5MWFkKTsKICAgICAgICAKICAgIAogICAgICAgIHZhciBtYXJrZXJfMDJhZjQ1ZDRjNGYyNDllYmE3ZjZlMTViYTE4YjA2YTIgPSBMLm1hcmtlcigKICAgICAgICAgICAgWzQ1LjMzOTUxNTU3MDcsIC03NS44MzkzMDQyNjMyXSwKICAgICAgICAgICAgewogICAgICAgICAgICAgICAgaWNvbjogbmV3IEwuSWNvbi5EZWZhdWx0KCkKICAgICAgICAgICAgICAgIH0KICAgICAgICAgICAgKS5hZGRUbyhtYXJrZXJfY2x1c3Rlcl9lZDAzMTZkN2I5NzM0MmQ2OTE4ODRjMmNlN2JiOTFhZCk7CiAgICAgICAgCiAgICAKICAgICAgICB2YXIgbWFya2VyX2RkNjJjMjI3ZDFlNzRmOTRhMGJlMjdjZDFhZWY4MGZhID0gTC5tYXJrZXIoCiAgICAgICAgICAgIFs0NS40MDYwOTY4NjM2LCAtNzUuNjk4NTM2NzY3NF0sCiAgICAgICAgICAgIHsKICAgICAgICAgICAgICAgIGljb246IG5ldyBMLkljb24uRGVmYXVsdCgpCiAgICAgICAgICAgICAgICB9CiAgICAgICAgICAgICkuYWRkVG8obWFya2VyX2NsdXN0ZXJfZWQwMzE2ZDdiOTczNDJkNjkxODg0YzJjZTdiYjkxYWQpOwogICAgICAgIAogICAgCiAgICAgICAgdmFyIG1hcmtlcl9kMzRhZjRjZjZiYzg0MWI3Yjk5ZWFjNTkwNWEzZTQ3ZiA9IEwubWFya2VyKAogICAgICAgICAgICBbNDUuNDA3ODE4MzQ4MywgLTc1LjU5Nzk0MTE0MTJdLAogICAgICAgICAgICB7CiAgICAgICAgICAgICAgICBpY29uOiBuZXcgTC5JY29uLkRlZmF1bHQoKQogICAgICAgICAgICAgICAgfQogICAgICAgICAgICApLmFkZFRvKG1hcmtlcl9jbHVzdGVyX2VkMDMxNmQ3Yjk3MzQyZDY5MTg4NGMyY2U3YmI5MWFkKTsKICAgICAgICAKICAgIAogICAgICAgIHZhciBtYXJrZXJfZGViMzA5YjY3NDJlNGZkOWEzNDEyYmM2OTNkMjBhOWYgPSBMLm1hcmtlcigKICAgICAgICAgICAgWzQ1LjM1MDc0NDgyMTMsIC03NS40NTIyNjI0NjE4XSwKICAgICAgICAgICAgewogICAgICAgICAgICAgICAgaWNvbjogbmV3IEwuSWNvbi5EZWZhdWx0KCkKICAgICAgICAgICAgICAgIH0KICAgICAgICAgICAgKS5hZGRUbyhtYXJrZXJfY2x1c3Rlcl9lZDAzMTZkN2I5NzM0MmQ2OTE4ODRjMmNlN2JiOTFhZCk7CiAgICAgICAgCiAgICAKICAgICAgICB2YXIgbWFya2VyXzJkOGRlZTNiYmE3ZDRiY2U5YmY4OTI2YTFjYmQ4MzlhID0gTC5tYXJrZXIoCiAgICAgICAgICAgIFs0NS4zNDQyNjA1NzA1LCAtNzUuODE0MDI4Njk1N10sCiAgICAgICAgICAgIHsKICAgICAgICAgICAgICAgIGljb246IG5ldyBMLkljb24uRGVmYXVsdCgpCiAgICAgICAgICAgICAgICB9CiAgICAgICAgICAgICkuYWRkVG8obWFya2VyX2NsdXN0ZXJfZWQwMzE2ZDdiOTczNDJkNjkxODg0YzJjZTdiYjkxYWQpOwogICAgICAgIAogICAgCiAgICAgICAgdmFyIG1hcmtlcl9mMzAzOGU2ODRiN2Y0ZTVlYmI5ZDQwNzQ2ZGFmYWEwYiA9IEwubWFya2VyKAogICAgICAgICAgICBbNDUuMzQzNDM0MjUwOCwgLTc1LjgxOTUwNTI5MjNdLAogICAgICAgICAgICB7CiAgICAgICAgICAgICAgICBpY29uOiBuZXcgTC5JY29uLkRlZmF1bHQoKQogICAgICAgICAgICAgICAgfQogICAgICAgICAgICApLmFkZFRvKG1hcmtlcl9jbHVzdGVyX2VkMDMxNmQ3Yjk3MzQyZDY5MTg4NGMyY2U3YmI5MWFkKTsKICAgICAgICAKICAgIAogICAgICAgIHZhciBtYXJrZXJfM2E4MzZiMTNjMmUxNGU3NWExNzljZTk0MjI4YjM4NjIgPSBMLm1hcmtlcigKICAgICAgICAgICAgWzQ1LjM0MjI0MTQxMzgsIC03NS44Mjg1MDI4M10sCiAgICAgICAgICAgIHsKICAgICAgICAgICAgICAgIGljb246IG5ldyBMLkljb24uRGVmYXVsdCgpCiAgICAgICAgICAgICAgICB9CiAgICAgICAgICAgICkuYWRkVG8obWFya2VyX2NsdXN0ZXJfZWQwMzE2ZDdiOTczNDJkNjkxODg0YzJjZTdiYjkxYWQpOwogICAgICAgIAogICAgCiAgICAgICAgdmFyIG1hcmtlcl82ZjhlZDM0ZWE1MWQ0ZDAyYTZjZTlmYzFiMjZhNGRkZiA9IEwubWFya2VyKAogICAgICAgICAgICBbNDUuNDAzNTAzODU4NywgLTc1LjcwODQ5NzYwNDldLAogICAgICAgICAgICB7CiAgICAgICAgICAgICAgICBpY29uOiBuZXcgTC5JY29uLkRlZmF1bHQoKQogICAgICAgICAgICAgICAgfQogICAgICAgICAgICApLmFkZFRvKG1hcmtlcl9jbHVzdGVyX2VkMDMxNmQ3Yjk3MzQyZDY5MTg4NGMyY2U3YmI5MWFkKTsKICAgICAgICAKICAgIAogICAgICAgIHZhciBtYXJrZXJfZTYyMDY5NmRiMDAyNGYyNzhjZDZjM2JlMzViMmYxODEgPSBMLm1hcmtlcigKICAgICAgICAgICAgWzQ1LjM2MTE4OTA3MTgsIC03NS43Njg0ODM0ODg0XSwKICAgICAgICAgICAgewogICAgICAgICAgICAgICAgaWNvbjogbmV3IEwuSWNvbi5EZWZhdWx0KCkKICAgICAgICAgICAgICAgIH0KICAgICAgICAgICAgKS5hZGRUbyhtYXJrZXJfY2x1c3Rlcl9lZDAzMTZkN2I5NzM0MmQ2OTE4ODRjMmNlN2JiOTFhZCk7CiAgICAgICAgCiAgICAKICAgICAgICB2YXIgbWFya2VyXzc0MzE1NjBjNjQyZjQ0MjM5NmRkYmRiNDNhYzVmNGQyID0gTC5tYXJrZXIoCiAgICAgICAgICAgIFs0NS4zNjk4NTI0NzA5LCAtNzUuNzU1NDQzNTg2Ml0sCiAgICAgICAgICAgIHsKICAgICAgICAgICAgICAgIGljb246IG5ldyBMLkljb24uRGVmYXVsdCgpCiAgICAgICAgICAgICAgICB9CiAgICAgICAgICAgICkuYWRkVG8obWFya2VyX2NsdXN0ZXJfZWQwMzE2ZDdiOTczNDJkNjkxODg0YzJjZTdiYjkxYWQpOwogICAgICAgIAogICAgCiAgICAgICAgdmFyIG1hcmtlcl82NTZjMDcyNzkyZjA0ZjFlYjE1NzYyNjEwMmQxYjFjMSA9IEwubWFya2VyKAogICAgICAgICAgICBbNDUuMzk3MzY5OTc0NywgLTc1LjcyNjg3ODQ5N10sCiAgICAgICAgICAgIHsKICAgICAgICAgICAgICAgIGljb246IG5ldyBMLkljb24uRGVmYXVsdCgpCiAgICAgICAgICAgICAgICB9CiAgICAgICAgICAgICkuYWRkVG8obWFya2VyX2NsdXN0ZXJfZWQwMzE2ZDdiOTczNDJkNjkxODg0YzJjZTdiYjkxYWQpOwogICAgICAgIAogICAgCiAgICAgICAgdmFyIG1hcmtlcl9kZDkwMDc1YTJlMDU0OTAzYTZkZGM5MGU4OGRkZGQzNSA9IEwubWFya2VyKAogICAgICAgICAgICBbNDUuMzk3Mzg1Njk1MiwgLTc1LjcyNjgxNDIxOTVdLAogICAgICAgICAgICB7CiAgICAgICAgICAgICAgICBpY29uOiBuZXcgTC5JY29uLkRlZmF1bHQoKQogICAgICAgICAgICAgICAgfQogICAgICAgICAgICApLmFkZFRvKG1hcmtlcl9jbHVzdGVyX2VkMDMxNmQ3Yjk3MzQyZDY5MTg4NGMyY2U3YmI5MWFkKTsKICAgICAgICAKICAgIAogICAgICAgIHZhciBtYXJrZXJfNGIxOWFiZTNmZjU4NDlkNzg0MjNjODQ0YzYxMTZkY2IgPSBMLm1hcmtlcigKICAgICAgICAgICAgWzQ1LjMzMzI2MzQwNjcsIC03NS44NTMyNjg2MDEyXSwKICAgICAgICAgICAgewogICAgICAgICAgICAgICAgaWNvbjogbmV3IEwuSWNvbi5EZWZhdWx0KCkKICAgICAgICAgICAgICAgIH0KICAgICAgICAgICAgKS5hZGRUbyhtYXJrZXJfY2x1c3Rlcl9lZDAzMTZkN2I5NzM0MmQ2OTE4ODRjMmNlN2JiOTFhZCk7CiAgICAgICAgCiAgICAKICAgICAgICB2YXIgbWFya2VyXzJmZTM1ZGRiYWU0NDQ1MjI4ODZiMjE0YmVmMmI3NTY0ID0gTC5tYXJrZXIoCiAgICAgICAgICAgIFs0NS4zNjExOTI5MTE3LCAtNzUuNzY4MDY4NzA2Ml0sCiAgICAgICAgICAgIHsKICAgICAgICAgICAgICAgIGljb246IG5ldyBMLkljb24uRGVmYXVsdCgpCiAgICAgICAgICAgICAgICB9CiAgICAgICAgICAgICkuYWRkVG8obWFya2VyX2NsdXN0ZXJfZWQwMzE2ZDdiOTczNDJkNjkxODg0YzJjZTdiYjkxYWQpOwogICAgICAgIAogICAgCiAgICAgICAgdmFyIG1hcmtlcl81ZDJmYTVjN2Q3Nzk0MDFmOGY4ZGMyODY4Mjg3MmNiOSA9IEwubWFya2VyKAogICAgICAgICAgICBbNDUuMzQxNTQzNjQzNCwgLTc1LjM4NzY5MDA4OV0sCiAgICAgICAgICAgIHsKICAgICAgICAgICAgICAgIGljb246IG5ldyBMLkljb24uRGVmYXVsdCgpCiAgICAgICAgICAgICAgICB9CiAgICAgICAgICAgICkuYWRkVG8obWFya2VyX2NsdXN0ZXJfZWQwMzE2ZDdiOTczNDJkNjkxODg0YzJjZTdiYjkxYWQpOwogICAgICAgIAogICAgCiAgICAgICAgdmFyIG1hcmtlcl8zZGZkMzUwODAzNDE0ZTVkOWQxMmM2NjhjZTEwYjM2MiA9IEwubWFya2VyKAogICAgICAgICAgICBbNDUuNDA3ODM3Nzg1NywgLTc1LjY5MzY3NTkzODhdLAogICAgICAgICAgICB7CiAgICAgICAgICAgICAgICBpY29uOiBuZXcgTC5JY29uLkRlZmF1bHQoKQogICAgICAgICAgICAgICAgfQogICAgICAgICAgICApLmFkZFRvKG1hcmtlcl9jbHVzdGVyX2VkMDMxNmQ3Yjk3MzQyZDY5MTg4NGMyY2U3YmI5MWFkKTsKICAgICAgICAKICAgIAogICAgICAgIHZhciBtYXJrZXJfM2VjMmRmMTk5NGE5NDA5ZmIxZTJhNjBlMzkxOTVkN2UgPSBMLm1hcmtlcigKICAgICAgICAgICAgWzQ1LjMzMzYwOTcxNDksIC03NS44NTM4MTAxNDNdLAogICAgICAgICAgICB7CiAgICAgICAgICAgICAgICBpY29uOiBuZXcgTC5JY29uLkRlZmF1bHQoKQogICAgICAgICAgICAgICAgfQogICAgICAgICAgICApLmFkZFRvKG1hcmtlcl9jbHVzdGVyX2VkMDMxNmQ3Yjk3MzQyZDY5MTg4NGMyY2U3YmI5MWFkKTsKICAgICAgICAKICAgIAogICAgICAgIHZhciBtYXJrZXJfM2ZjMWE2NWI2NTBmNGIyMWFmMzg4NTQyZjRiNzhjN2UgPSBMLm1hcmtlcigKICAgICAgICAgICAgWzQ1LjM0MTQ5MjAwNzksIC03NS44MzIwNzU4NzU3XSwKICAgICAgICAgICAgewogICAgICAgICAgICAgICAgaWNvbjogbmV3IEwuSWNvbi5EZWZhdWx0KCkKICAgICAgICAgICAgICAgIH0KICAgICAgICAgICAgKS5hZGRUbyhtYXJrZXJfY2x1c3Rlcl9lZDAzMTZkN2I5NzM0MmQ2OTE4ODRjMmNlN2JiOTFhZCk7CiAgICAgICAgCiAgICAKICAgICAgICB2YXIgbWFya2VyXzI2NDhmNTExNWQ4ZjQzNGY4YjY0MGY2ZjQ2NTU2Zjg5ID0gTC5tYXJrZXIoCiAgICAgICAgICAgIFs0NS4zNjE1MjMwNjE3LCAtNzUuNzY3ODgwMTIyM10sCiAgICAgICAgICAgIHsKICAgICAgICAgICAgICAgIGljb246IG5ldyBMLkljb24uRGVmYXVsdCgpCiAgICAgICAgICAgICAgICB9CiAgICAgICAgICAgICkuYWRkVG8obWFya2VyX2NsdXN0ZXJfZWQwMzE2ZDdiOTczNDJkNjkxODg0YzJjZTdiYjkxYWQpOwogICAgICAgIAogICAgCiAgICAgICAgdmFyIG1hcmtlcl8xNzgyOGE4NWVlM2I0YjFjYTVjZjQ2YWFmMmQzMzQ5NiA9IEwubWFya2VyKAogICAgICAgICAgICBbNDUuMzk1NzQ0NTUwNSwgLTc1LjcyOTQ0NTgzMDFdLAogICAgICAgICAgICB7CiAgICAgICAgICAgICAgICBpY29uOiBuZXcgTC5JY29uLkRlZmF1bHQoKQogICAgICAgICAgICAgICAgfQogICAgICAgICAgICApLmFkZFRvKG1hcmtlcl9jbHVzdGVyX2VkMDMxNmQ3Yjk3MzQyZDY5MTg4NGMyY2U3YmI5MWFkKTsKICAgICAgICAKICAgIAogICAgICAgIHZhciBtYXJrZXJfNGQ4NDUyOTRiZGIxNGMwNjg5NjRkOTM4Y2QwNjU3MDkgPSBMLm1hcmtlcigKICAgICAgICAgICAgWzQ1LjM2NzE2MDk2MTQsIC03NS43NTgwOTE5ODUzXSwKICAgICAgICAgICAgewogICAgICAgICAgICAgICAgaWNvbjogbmV3IEwuSWNvbi5EZWZhdWx0KCkKICAgICAgICAgICAgICAgIH0KICAgICAgICAgICAgKS5hZGRUbyhtYXJrZXJfY2x1c3Rlcl9lZDAzMTZkN2I5NzM0MmQ2OTE4ODRjMmNlN2JiOTFhZCk7CiAgICAgICAgCiAgICAKICAgICAgICB2YXIgbWFya2VyXzY0ZWY5ZDNiNzFkMTQ4YzI5NTEwZmU0MTI3ZTIyYTc3ID0gTC5tYXJrZXIoCiAgICAgICAgICAgIFs0NS4zNjAyODkwNDQ0LCAtNzUuNzY3OTUxMzM0OF0sCiAgICAgICAgICAgIHsKICAgICAgICAgICAgICAgIGljb246IG5ldyBMLkljb24uRGVmYXVsdCgpCiAgICAgICAgICAgICAgICB9CiAgICAgICAgICAgICkuYWRkVG8obWFya2VyX2NsdXN0ZXJfZWQwMzE2ZDdiOTczNDJkNjkxODg0YzJjZTdiYjkxYWQpOwogICAgICAgIAogICAgCiAgICAgICAgdmFyIG1hcmtlcl83NWU5N2YwY2FjY2I0MzMzOTI2YWZmOWU5ZGRkZjU5YSA9IEwubWFya2VyKAogICAgICAgICAgICBbNDUuMzM2ODgyMDgxMiwgLTc1Ljg0NTcxMTE5MTVdLAogICAgICAgICAgICB7CiAgICAgICAgICAgICAgICBpY29uOiBuZXcgTC5JY29uLkRlZmF1bHQoKQogICAgICAgICAgICAgICAgfQogICAgICAgICAgICApLmFkZFRvKG1hcmtlcl9jbHVzdGVyX2VkMDMxNmQ3Yjk3MzQyZDY5MTg4NGMyY2U3YmI5MWFkKTsKICAgICAgICAKICAgIAogICAgICAgIHZhciBtYXJrZXJfNjU4MTYxMWRkNWYxNDQ2NWJkYTljYzNkNjkzYWFhNWYgPSBMLm1hcmtlcigKICAgICAgICAgICAgWzQ1LjMwNTQzOTkyMDMsIC03NS45MTAwNzEzMjcyXSwKICAgICAgICAgICAgewogICAgICAgICAgICAgICAgaWNvbjogbmV3IEwuSWNvbi5EZWZhdWx0KCkKICAgICAgICAgICAgICAgIH0KICAgICAgICAgICAgKS5hZGRUbyhtYXJrZXJfY2x1c3Rlcl9lZDAzMTZkN2I5NzM0MmQ2OTE4ODRjMmNlN2JiOTFhZCk7CiAgICAgICAgCiAgICAKICAgICAgICB2YXIgbWFya2VyX2NhYzE2MDA0ZjhjZjRkYjU5MDkxN2U3NzgyNzk1OGU1ID0gTC5tYXJrZXIoCiAgICAgICAgICAgIFs0NS4zODQ2MzM0NTE3LCAtNzUuNzM5MjEwMjAyM10sCiAgICAgICAgICAgIHsKICAgICAgICAgICAgICAgIGljb246IG5ldyBMLkljb24uRGVmYXVsdCgpCiAgICAgICAgICAgICAgICB9CiAgICAgICAgICAgICkuYWRkVG8obWFya2VyX2NsdXN0ZXJfZWQwMzE2ZDdiOTczNDJkNjkxODg0YzJjZTdiYjkxYWQpOwogICAgICAgIAogICAgCiAgICAgICAgdmFyIG1hcmtlcl8zNjIzNjgyMDk0NGI0YzliOWY0YWFjNzI2MGQxZjA3MSA9IEwubWFya2VyKAogICAgICAgICAgICBbNDUuMzg0MjU5NDEwMSwgLTc1LjczOTYzMDEyMV0sCiAgICAgICAgICAgIHsKICAgICAgICAgICAgICAgIGljb246IG5ldyBMLkljb24uRGVmYXVsdCgpCiAgICAgICAgICAgICAgICB9CiAgICAgICAgICAgICkuYWRkVG8obWFya2VyX2NsdXN0ZXJfZWQwMzE2ZDdiOTczNDJkNjkxODg0YzJjZTdiYjkxYWQpOwogICAgICAgIAogICAgCiAgICAgICAgdmFyIG1hcmtlcl9mZDk4MTY1MWVkOWE0MzFmYmIzNjMzN2MxYzA3YzUxMCA9IEwubWFya2VyKAogICAgICAgICAgICBbNDUuMjk3Mjg0ODUyNCwgLTc1LjkzMTIwMTM5MTRdLAogICAgICAgICAgICB7CiAgICAgICAgICAgICAgICBpY29uOiBuZXcgTC5JY29uLkRlZmF1bHQoKQogICAgICAgICAgICAgICAgfQogICAgICAgICAgICApLmFkZFRvKG1hcmtlcl9jbHVzdGVyX2VkMDMxNmQ3Yjk3MzQyZDY5MTg4NGMyY2U3YmI5MWFkKTsKICAgICAgICAKICAgIAogICAgICAgIHZhciBtYXJrZXJfYWRkZWFjMGQ0YjJkNDk4NzhiMDUyYjRmMWIzOGYwNTUgPSBMLm1hcmtlcigKICAgICAgICAgICAgWzQ1LjM2MjMxNDMzNCwgLTc1Ljc2NTYzOTUzMThdLAogICAgICAgICAgICB7CiAgICAgICAgICAgICAgICBpY29uOiBuZXcgTC5JY29uLkRlZmF1bHQoKQogICAgICAgICAgICAgICAgfQogICAgICAgICAgICApLmFkZFRvKG1hcmtlcl9jbHVzdGVyX2VkMDMxNmQ3Yjk3MzQyZDY5MTg4NGMyY2U3YmI5MWFkKTsKICAgICAgICAKICAgIAogICAgICAgIHZhciBtYXJrZXJfNTUxMThmMDlkMTA2NDEwYjk3ZmMwMGZlN2QxYTUyZDAgPSBMLm1hcmtlcigKICAgICAgICAgICAgWzQ1LjM1MTEwNjcxNzgsIC03NS43ODcxMTk0NjJdLAogICAgICAgICAgICB7CiAgICAgICAgICAgICAgICBpY29uOiBuZXcgTC5JY29uLkRlZmF1bHQoKQogICAgICAgICAgICAgICAgfQogICAgICAgICAgICApLmFkZFRvKG1hcmtlcl9jbHVzdGVyX2VkMDMxNmQ3Yjk3MzQyZDY5MTg4NGMyY2U3YmI5MWFkKTsKICAgICAgICAKICAgIAogICAgICAgIHZhciBtYXJrZXJfMjRjMTRiYmNiNzNhNDM2OTgxNzYzMmMyMjFkNzYxZWQgPSBMLm1hcmtlcigKICAgICAgICAgICAgWzQ1LjMwNTI5MDMxNTEsIC03NS43OTUxNTk3MTk3XSwKICAgICAgICAgICAgewogICAgICAgICAgICAgICAgaWNvbjogbmV3IEwuSWNvbi5EZWZhdWx0KCkKICAgICAgICAgICAgICAgIH0KICAgICAgICAgICAgKS5hZGRUbyhtYXJrZXJfY2x1c3Rlcl9lZDAzMTZkN2I5NzM0MmQ2OTE4ODRjMmNlN2JiOTFhZCk7CiAgICAgICAgCiAgICAKICAgICAgICB2YXIgbWFya2VyXzVhZTdmMzU4NDJmMjQwMTFhZGY4OGM2ZGI0NDQ2M2IxID0gTC5tYXJrZXIoCiAgICAgICAgICAgIFs0NS4yOTY1MDE3NzA4LCAtNzUuNzkzNDg0MTI0OV0sCiAgICAgICAgICAgIHsKICAgICAgICAgICAgICAgIGljb246IG5ldyBMLkljb24uRGVmYXVsdCgpCiAgICAgICAgICAgICAgICB9CiAgICAgICAgICAgICkuYWRkVG8obWFya2VyX2NsdXN0ZXJfZWQwMzE2ZDdiOTczNDJkNjkxODg0YzJjZTdiYjkxYWQpOwogICAgICAgIAo8L3NjcmlwdD4=\" style=\"position:absolute;width:100%;height:100%;left:0;top:0;border:none !important;\" allowfullscreen webkitallowfullscreen mozallowfullscreen></iframe></div></div>"
      ],
      "text/plain": [
       "<folium.folium.Map at 0xa3f3310>"
      ]
     },
     "metadata": {},
     "output_type": "display_data"
    },
    {
     "name": "stdout",
     "output_type": "stream",
     "text": [
      "2016/2/17:\n"
     ]
    },
    {
     "data": {
      "text/html": [
       "<div style=\"width:100%;\"><div style=\"position:relative;width:100%;height:0;padding-bottom:60%;\"><iframe src=\"data:text/html;charset=utf-8;base64,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\" style=\"position:absolute;width:100%;height:100%;left:0;top:0;border:none !important;\" allowfullscreen webkitallowfullscreen mozallowfullscreen></iframe></div></div>"
      ],
      "text/plain": [
       "<folium.folium.Map at 0x9f088d0>"
      ]
     },
     "metadata": {},
     "output_type": "display_data"
    },
    {
     "name": "stdout",
     "output_type": "stream",
     "text": [
      "2017/3/24:\n"
     ]
    },
    {
     "data": {
      "text/html": [
       "<div style=\"width:100%;\"><div style=\"position:relative;width:100%;height:0;padding-bottom:60%;\"><iframe src=\"data:text/html;charset=utf-8;base64,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\" style=\"position:absolute;width:100%;height:100%;left:0;top:0;border:none !important;\" allowfullscreen webkitallowfullscreen mozallowfullscreen></iframe></div></div>"
      ],
      "text/plain": [
       "<folium.folium.Map at 0xa3f3350>"
      ]
     },
     "metadata": {},
     "output_type": "display_data"
    }
   ],
   "source": [
    "dayOf2014 = pd.to_datetime('2014/01/03', format = '%Y/%m/%d')\n",
    "dayOf2015 = pd.to_datetime('2015/02/02', format = '%Y/%m/%d')\n",
    "dayOf2016 = pd.to_datetime('2016/02/17', format = '%Y/%m/%d')\n",
    "dayOf2017 = pd.to_datetime('2017/03/24', format = '%Y/%m/%d')\n",
    "\n",
    "def mapOfMaxCollision(dayOf):\n",
    "    df_day = df_csv1417[df_csv1417[\"Date\"] == dayOf]\n",
    "    lat_lons = [[row['latitude'], row['longitude']] for index, row in df_day.iterrows()]\n",
    "    lats = [lat for [lat, lon] in lat_lons]\n",
    "    lons = [lon for [lat, lon] in lat_lons]\n",
    "\n",
    "    center = [((np.min(lat) + np.max(lat))/2), ((np.min(lon) + np.max(lon))/2)]\n",
    "\n",
    "    map = folium.Map(location=center,\n",
    "                        zoom_start=10,\n",
    "                        tiles='OpenStreetMap'\n",
    "                       )\n",
    "\n",
    "    plugin = folium.plugins.MarkerCluster(locations = lat_lons)\n",
    "    plugin.add_to(map)\n",
    "    print(str(dayOf.year) + \"/\" + str(dayOf.month) + \"/\" + str(dayOf.day) + \":\")\n",
    "    display(map)\n",
    "\n",
    "for dt in [dayOf2014, dayOf2015, dayOf2016, dayOf2017]:\n",
    "    mapOfMaxCollision(dt)"
   ]
  },
  {
   "cell_type": "markdown",
   "metadata": {},
   "source": [
    "### 2.6 2017 Canada 150th anniversary (2017-07-01) "
   ]
  },
  {
   "cell_type": "code",
   "execution_count": 133,
   "metadata": {},
   "outputs": [
    {
     "data": {
      "text/html": [
       "<div>\n",
       "<style scoped>\n",
       "    .dataframe tbody tr th:only-of-type {\n",
       "        vertical-align: middle;\n",
       "    }\n",
       "\n",
       "    .dataframe tbody tr th {\n",
       "        vertical-align: top;\n",
       "    }\n",
       "\n",
       "    .dataframe thead th {\n",
       "        text-align: right;\n",
       "    }\n",
       "</style>\n",
       "<table border=\"1\" class=\"dataframe\">\n",
       "  <thead>\n",
       "    <tr style=\"text-align: right;\">\n",
       "      <th></th>\n",
       "      <th>Date</th>\n",
       "      <th>Max Temp (°C)</th>\n",
       "      <th>Min Temp (°C)</th>\n",
       "      <th>Mean Temp (°C)</th>\n",
       "      <th>Total Rain (mm)</th>\n",
       "      <th>Total Snow (cm)</th>\n",
       "      <th>Total Precip (mm)</th>\n",
       "      <th>Snow on Grnd (cm)</th>\n",
       "      <th>Number of Collisions</th>\n",
       "      <th>Year</th>\n",
       "      <th>Month</th>\n",
       "      <th>Day in month</th>\n",
       "      <th>Holiday</th>\n",
       "      <th>Day_Of_Week</th>\n",
       "    </tr>\n",
       "  </thead>\n",
       "  <tbody>\n",
       "    <tr>\n",
       "      <th>181</th>\n",
       "      <td>2014-07-01</td>\n",
       "      <td>31.0</td>\n",
       "      <td>22.0</td>\n",
       "      <td>26.5</td>\n",
       "      <td>0.2</td>\n",
       "      <td>0.0</td>\n",
       "      <td>0.2</td>\n",
       "      <td>0</td>\n",
       "      <td>25</td>\n",
       "      <td>2014</td>\n",
       "      <td>7</td>\n",
       "      <td>1</td>\n",
       "      <td>Canada Day</td>\n",
       "      <td>T2_Tue</td>\n",
       "    </tr>\n",
       "    <tr>\n",
       "      <th>546</th>\n",
       "      <td>2015-07-01</td>\n",
       "      <td>22.7</td>\n",
       "      <td>16.7</td>\n",
       "      <td>19.7</td>\n",
       "      <td>16.6</td>\n",
       "      <td>0.0</td>\n",
       "      <td>16.6</td>\n",
       "      <td>0</td>\n",
       "      <td>20</td>\n",
       "      <td>2015</td>\n",
       "      <td>7</td>\n",
       "      <td>1</td>\n",
       "      <td>Canada Day</td>\n",
       "      <td>T3_Wed</td>\n",
       "    </tr>\n",
       "    <tr>\n",
       "      <th>912</th>\n",
       "      <td>2016-07-01</td>\n",
       "      <td>27.0</td>\n",
       "      <td>12.0</td>\n",
       "      <td>19.5</td>\n",
       "      <td>12.6</td>\n",
       "      <td>0.0</td>\n",
       "      <td>12.6</td>\n",
       "      <td>0</td>\n",
       "      <td>14</td>\n",
       "      <td>2016</td>\n",
       "      <td>7</td>\n",
       "      <td>1</td>\n",
       "      <td>Canada Day</td>\n",
       "      <td>T5_Fri</td>\n",
       "    </tr>\n",
       "    <tr>\n",
       "      <th>1279</th>\n",
       "      <td>2017-07-03</td>\n",
       "      <td>24.5</td>\n",
       "      <td>15.0</td>\n",
       "      <td>19.8</td>\n",
       "      <td>0.0</td>\n",
       "      <td>0.0</td>\n",
       "      <td>0.0</td>\n",
       "      <td>0</td>\n",
       "      <td>17</td>\n",
       "      <td>2017</td>\n",
       "      <td>7</td>\n",
       "      <td>3</td>\n",
       "      <td>Canada Day</td>\n",
       "      <td>T1_Mon</td>\n",
       "    </tr>\n",
       "  </tbody>\n",
       "</table>\n",
       "</div>"
      ],
      "text/plain": [
       "           Date  Max Temp (°C)  Min Temp (°C)  Mean Temp (°C)  \\\n",
       "181  2014-07-01           31.0           22.0            26.5   \n",
       "546  2015-07-01           22.7           16.7            19.7   \n",
       "912  2016-07-01           27.0           12.0            19.5   \n",
       "1279 2017-07-03           24.5           15.0            19.8   \n",
       "\n",
       "      Total Rain (mm)  Total Snow (cm)  Total Precip (mm)  Snow on Grnd (cm)  \\\n",
       "181               0.2              0.0                0.2                  0   \n",
       "546              16.6              0.0               16.6                  0   \n",
       "912              12.6              0.0               12.6                  0   \n",
       "1279              0.0              0.0                0.0                  0   \n",
       "\n",
       "      Number of Collisions  Year  Month  Day in month     Holiday Day_Of_Week  \n",
       "181                     25  2014      7             1  Canada Day      T2_Tue  \n",
       "546                     20  2015      7             1  Canada Day      T3_Wed  \n",
       "912                     14  2016      7             1  Canada Day      T5_Fri  \n",
       "1279                    17  2017      7             3  Canada Day      T1_Mon  "
      ]
     },
     "execution_count": 133,
     "metadata": {},
     "output_type": "execute_result"
    }
   ],
   "source": [
    "wt1417[wt1417['Holiday'] == 'Canada Day']"
   ]
  },
  {
   "cell_type": "code",
   "execution_count": 134,
   "metadata": {
    "scrolled": true
   },
   "outputs": [
    {
     "name": "stdout",
     "output_type": "stream",
     "text": [
      "2014/7/1:\n"
     ]
    },
    {
     "data": {
      "text/html": [
       "<div style=\"width:100%;\"><div style=\"position:relative;width:100%;height:0;padding-bottom:60%;\"><iframe src=\"data:text/html;charset=utf-8;base64,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\" style=\"position:absolute;width:100%;height:100%;left:0;top:0;border:none !important;\" allowfullscreen webkitallowfullscreen mozallowfullscreen></iframe></div></div>"
      ],
      "text/plain": [
       "<folium.folium.Map at 0x90e3ad0>"
      ]
     },
     "metadata": {},
     "output_type": "display_data"
    },
    {
     "name": "stdout",
     "output_type": "stream",
     "text": [
      "2015/7/1:\n"
     ]
    },
    {
     "data": {
      "text/html": [
       "<div style=\"width:100%;\"><div style=\"position:relative;width:100%;height:0;padding-bottom:60%;\"><iframe src=\"data:text/html;charset=utf-8;base64,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\" style=\"position:absolute;width:100%;height:100%;left:0;top:0;border:none !important;\" allowfullscreen webkitallowfullscreen mozallowfullscreen></iframe></div></div>"
      ],
      "text/plain": [
       "<folium.folium.Map at 0xa0d25d0>"
      ]
     },
     "metadata": {},
     "output_type": "display_data"
    },
    {
     "name": "stdout",
     "output_type": "stream",
     "text": [
      "2016/7/1:\n"
     ]
    },
    {
     "data": {
      "text/html": [
       "<div style=\"width:100%;\"><div style=\"position:relative;width:100%;height:0;padding-bottom:60%;\"><iframe src=\"data:text/html;charset=utf-8;base64,PCFET0NUWVBFIGh0bWw+CjxoZWFkPiAgICAKICAgIDxtZXRhIGh0dHAtZXF1aXY9ImNvbnRlbnQtdHlwZSIgY29udGVudD0idGV4dC9odG1sOyBjaGFyc2V0PVVURi04IiAvPgogICAgPHNjcmlwdD5MX1BSRUZFUl9DQU5WQVM9ZmFsc2U7IExfTk9fVE9VQ0g9ZmFsc2U7IExfRElTQUJMRV8zRD1mYWxzZTs8L3NjcmlwdD4KICAgIDxzY3JpcHQgc3JjPSJodHRwczovL2Nkbi5qc2RlbGl2ci5uZXQvbnBtL2xlYWZsZXRAMS4yLjAvZGlzdC9sZWFmbGV0LmpzIj48L3NjcmlwdD4KICAgIDxzY3JpcHQgc3JjPSJodHRwczovL2FqYXguZ29vZ2xlYXBpcy5jb20vYWpheC9saWJzL2pxdWVyeS8xLjExLjEvanF1ZXJ5Lm1pbi5qcyI+PC9zY3JpcHQ+CiAgICA8c2NyaXB0IHNyYz0iaHR0cHM6Ly9tYXhjZG4uYm9vdHN0cmFwY2RuLmNvbS9ib290c3RyYXAvMy4yLjAvanMvYm9vdHN0cmFwLm1pbi5qcyI+PC9zY3JpcHQ+CiAgICA8c2NyaXB0IHNyYz0iaHR0cHM6Ly9jZG5qcy5jbG91ZGZsYXJlLmNvbS9hamF4L2xpYnMvTGVhZmxldC5hd2Vzb21lLW1hcmtlcnMvMi4wLjIvbGVhZmxldC5hd2Vzb21lLW1hcmtlcnMuanMiPjwvc2NyaXB0PgogICAgPGxpbmsgcmVsPSJzdHlsZXNoZWV0IiBocmVmPSJodHRwczovL2Nkbi5qc2RlbGl2ci5uZXQvbnBtL2xlYWZsZXRAMS4yLjAvZGlzdC9sZWFmbGV0LmNzcyIvPgogICAgPGxpbmsgcmVsPSJzdHlsZXNoZWV0IiBocmVmPSJodHRwczovL21heGNkbi5ib290c3RyYXBjZG4uY29tL2Jvb3RzdHJhcC8zLjIuMC9jc3MvYm9vdHN0cmFwLm1pbi5jc3MiLz4KICAgIDxsaW5rIHJlbD0ic3R5bGVzaGVldCIgaHJlZj0iaHR0cHM6Ly9tYXhjZG4uYm9vdHN0cmFwY2RuLmNvbS9ib290c3RyYXAvMy4yLjAvY3NzL2Jvb3RzdHJhcC10aGVtZS5taW4uY3NzIi8+CiAgICA8bGluayByZWw9InN0eWxlc2hlZXQiIGhyZWY9Imh0dHBzOi8vbWF4Y2RuLmJvb3RzdHJhcGNkbi5jb20vZm9udC1hd2Vzb21lLzQuNi4zL2Nzcy9mb250LWF3ZXNvbWUubWluLmNzcyIvPgogICAgPGxpbmsgcmVsPSJzdHlsZXNoZWV0IiBocmVmPSJodHRwczovL2NkbmpzLmNsb3VkZmxhcmUuY29tL2FqYXgvbGlicy9MZWFmbGV0LmF3ZXNvbWUtbWFya2Vycy8yLjAuMi9sZWFmbGV0LmF3ZXNvbWUtbWFya2Vycy5jc3MiLz4KICAgIDxsaW5rIHJlbD0ic3R5bGVzaGVldCIgaHJlZj0iaHR0cHM6Ly9yYXdnaXQuY29tL3B5dGhvbi12aXN1YWxpemF0aW9uL2ZvbGl1bS9tYXN0ZXIvZm9saXVtL3RlbXBsYXRlcy9sZWFmbGV0LmF3ZXNvbWUucm90YXRlLmNzcyIvPgogICAgPHN0eWxlPmh0bWwsIGJvZHkge3dpZHRoOiAxMDAlO2hlaWdodDogMTAwJTttYXJnaW46IDA7cGFkZGluZzogMDt9PC9zdHlsZT4KICAgIDxzdHlsZT4jbWFwIHtwb3NpdGlvbjphYnNvbHV0ZTt0b3A6MDtib3R0b206MDtyaWdodDowO2xlZnQ6MDt9PC9zdHlsZT4KICAgIAogICAgPHN0eWxlPiNtYXBfMzYyZTlkMjRhNDM0NDUwNGEzYWYxMjIwMmVlNTIzN2EgewogICAgICAgIHBvc2l0aW9uOiByZWxhdGl2ZTsKICAgICAgICB3aWR0aDogMTAwLjAlOwogICAgICAgIGhlaWdodDogMTAwLjAlOwogICAgICAgIGxlZnQ6IDAuMCU7CiAgICAgICAgdG9wOiAwLjAlOwogICAgICAgIH0KICAgIDwvc3R5bGU+CiAgICA8c2NyaXB0IHNyYz0iaHR0cHM6Ly9jZG5qcy5jbG91ZGZsYXJlLmNvbS9hamF4L2xpYnMvbGVhZmxldC5tYXJrZXJjbHVzdGVyLzEuMS4wL2xlYWZsZXQubWFya2VyY2x1c3Rlci5qcyI+PC9zY3JpcHQ+CiAgICA8bGluayByZWw9InN0eWxlc2hlZXQiIGhyZWY9Imh0dHBzOi8vY2RuanMuY2xvdWRmbGFyZS5jb20vYWpheC9saWJzL2xlYWZsZXQubWFya2VyY2x1c3Rlci8xLjEuMC9NYXJrZXJDbHVzdGVyLmNzcyIvPgogICAgPGxpbmsgcmVsPSJzdHlsZXNoZWV0IiBocmVmPSJodHRwczovL2NkbmpzLmNsb3VkZmxhcmUuY29tL2FqYXgvbGlicy9sZWFmbGV0Lm1hcmtlcmNsdXN0ZXIvMS4xLjAvTWFya2VyQ2x1c3Rlci5EZWZhdWx0LmNzcyIvPgo8L2hlYWQ+Cjxib2R5PiAgICAKICAgIAogICAgPGRpdiBjbGFzcz0iZm9saXVtLW1hcCIgaWQ9Im1hcF8zNjJlOWQyNGE0MzQ0NTA0YTNhZjEyMjAyZWU1MjM3YSIgPjwvZGl2Pgo8L2JvZHk+CjxzY3JpcHQ+ICAgIAogICAgCiAgICAKICAgICAgICB2YXIgYm91bmRzID0gbnVsbDsKICAgIAoKICAgIHZhciBtYXBfMzYyZTlkMjRhNDM0NDUwNGEzYWYxMjIwMmVlNTIzN2EgPSBMLm1hcCgKICAgICAgICAnbWFwXzM2MmU5ZDI0YTQzNDQ1MDRhM2FmMTIyMDJlZTUyMzdhJywgewogICAgICAgIGNlbnRlcjogWzQ1LjQyODc3NTAxNzgsIC03NS42OTEyOTQ3NjIzOTk5OV0sCiAgICAgICAgem9vbTogMTAsCiAgICAgICAgbWF4Qm91bmRzOiBib3VuZHMsCiAgICAgICAgbGF5ZXJzOiBbXSwKICAgICAgICB3b3JsZENvcHlKdW1wOiBmYWxzZSwKICAgICAgICBjcnM6IEwuQ1JTLkVQU0czODU3LAogICAgICAgIHpvb21Db250cm9sOiB0cnVlLAogICAgICAgIH0pOwoKICAgIAogICAgCiAgICB2YXIgdGlsZV9sYXllcl9iNWQ2MmY1M2YwMTg0MDMzODk4MzBiMzFkZTY1NzAwYiA9IEwudGlsZUxheWVyKAogICAgICAgICdodHRwczovL3tzfS50aWxlLm9wZW5zdHJlZXRtYXAub3JnL3t6fS97eH0ve3l9LnBuZycsCiAgICAgICAgewogICAgICAgICJhdHRyaWJ1dGlvbiI6IG51bGwsIAogICAgICAgICJkZXRlY3RSZXRpbmEiOiBmYWxzZSwgCiAgICAgICAgIm1heE5hdGl2ZVpvb20iOiAxOCwgCiAgICAgICAgIm1heFpvb20iOiAxOCwgCiAgICAgICAgIm1pblpvb20iOiAwLCAKICAgICAgICAibm9XcmFwIjogZmFsc2UsIAogICAgICAgICJzdWJkb21haW5zIjogImFiYyIKfSkuYWRkVG8obWFwXzM2MmU5ZDI0YTQzNDQ1MDRhM2FmMTIyMDJlZTUyMzdhKTsKICAgIAogICAgICAgICAgICB2YXIgbWFya2VyX2NsdXN0ZXJfNzU1MWVlODJkMTZlNGE5OWEyMzcxNDg0NzgxYzNiOGMgPSBMLm1hcmtlckNsdXN0ZXJHcm91cCh7fSk7CiAgICAgICAgICAgIG1hcF8zNjJlOWQyNGE0MzQ0NTA0YTNhZjEyMjAyZWU1MjM3YS5hZGRMYXllcihtYXJrZXJfY2x1c3Rlcl83NTUxZWU4MmQxNmU0YTk5YTIzNzE0ODQ3ODFjM2I4Yyk7CiAgICAgICAgICAgIAogICAgCiAgICAgICAgdmFyIG1hcmtlcl85MTJiYTdhNWRiYzg0YmY2OTMzODU0MTA3MTMyOGNjYiA9IEwubWFya2VyKAogICAgICAgICAgICBbNDUuNDEzMDk1Mzc5MiwgLTc1LjY4NjIzNzg4NDVdLAogICAgICAgICAgICB7CiAgICAgICAgICAgICAgICBpY29uOiBuZXcgTC5JY29uLkRlZmF1bHQoKQogICAgICAgICAgICAgICAgfQogICAgICAgICAgICApLmFkZFRvKG1hcmtlcl9jbHVzdGVyXzc1NTFlZTgyZDE2ZTRhOTlhMjM3MTQ4NDc4MWMzYjhjKTsKICAgICAgICAKICAgIAogICAgICAgIHZhciBtYXJrZXJfMjFjZWRmNmYwZjNiNGQ2YmJjNTI4Y2U3Mjk3NzhiZDMgPSBMLm1hcmtlcigKICAgICAgICAgICAgWzQ1LjQxNjg4NDEzNTUsIC03NS43MDU0NjczOThdLAogICAgICAgICAgICB7CiAgICAgICAgICAgICAgICBpY29uOiBuZXcgTC5JY29uLkRlZmF1bHQoKQogICAgICAgICAgICAgICAgfQogICAgICAgICAgICApLmFkZFRvKG1hcmtlcl9jbHVzdGVyXzc1NTFlZTgyZDE2ZTRhOTlhMjM3MTQ4NDc4MWMzYjhjKTsKICAgICAgICAKICAgIAogICAgICAgIHZhciBtYXJrZXJfNjg2NzhjNWUzMDVhNDQzYzk2MDY4ZTliMDdjMGY1MTkgPSBMLm1hcmtlcigKICAgICAgICAgICAgWzQ1LjQzNTQxNzY0NzMsIC03NS41NDM3Mzk1OTY1XSwKICAgICAgICAgICAgewogICAgICAgICAgICAgICAgaWNvbjogbmV3IEwuSWNvbi5EZWZhdWx0KCkKICAgICAgICAgICAgICAgIH0KICAgICAgICAgICAgKS5hZGRUbyhtYXJrZXJfY2x1c3Rlcl83NTUxZWU4MmQxNmU0YTk5YTIzNzE0ODQ3ODFjM2I4Yyk7CiAgICAgICAgCiAgICAKICAgICAgICB2YXIgbWFya2VyX2FlN2IxOTZiNDljNjQ5Y2FhNjY5NmQzYmY3NTJiODgwID0gTC5tYXJrZXIoCiAgICAgICAgICAgIFs0NS4zMjI1NDQ3OTkzLCAtNzUuODkwNTUyNTU5M10sCiAgICAgICAgICAgIHsKICAgICAgICAgICAgICAgIGljb246IG5ldyBMLkljb24uRGVmYXVsdCgpCiAgICAgICAgICAgICAgICB9CiAgICAgICAgICAgICkuYWRkVG8obWFya2VyX2NsdXN0ZXJfNzU1MWVlODJkMTZlNGE5OWEyMzcxNDg0NzgxYzNiOGMpOwogICAgICAgIAogICAgCiAgICAgICAgdmFyIG1hcmtlcl9iZjEwNjZjNDRkNGI0YmZhOGM3ZjQxYTc0MjdiNDMzZiA9IEwubWFya2VyKAogICAgICAgICAgICBbNDUuMTEwNDQ0OTg3NCwgLTc1Ljk3MjM3ODU5MjJdLAogICAgICAgICAgICB7CiAgICAgICAgICAgICAgICBpY29uOiBuZXcgTC5JY29uLkRlZmF1bHQoKQogICAgICAgICAgICAgICAgfQogICAgICAgICAgICApLmFkZFRvKG1hcmtlcl9jbHVzdGVyXzc1NTFlZTgyZDE2ZTRhOTlhMjM3MTQ4NDc4MWMzYjhjKTsKICAgICAgICAKICAgIAogICAgICAgIHZhciBtYXJrZXJfZmEzZTcyNTUwMjM1NDUxNDk3ZmRiODRiMzU2YzFjZjEgPSBMLm1hcmtlcigKICAgICAgICAgICAgWzQ1LjM2MTExNDM0ODIsIC03NS43NjgyMDg4ODk5XSwKICAgICAgICAgICAgewogICAgICAgICAgICAgICAgaWNvbjogbmV3IEwuSWNvbi5EZWZhdWx0KCkKICAgICAgICAgICAgICAgIH0KICAgICAgICAgICAgKS5hZGRUbyhtYXJrZXJfY2x1c3Rlcl83NTUxZWU4MmQxNmU0YTk5YTIzNzE0ODQ3ODFjM2I4Yyk7CiAgICAgICAgCiAgICAKICAgICAgICB2YXIgbWFya2VyXzRmNGFlMzFkZGZhOTRiMDJiZjFlMGU3ODk3NDMzYTAyID0gTC5tYXJrZXIoCiAgICAgICAgICAgIFs0NS40MTE5MTcxLCAtNzUuNjg1MDU1Njg4N10sCiAgICAgICAgICAgIHsKICAgICAgICAgICAgICAgIGljb246IG5ldyBMLkljb24uRGVmYXVsdCgpCiAgICAgICAgICAgICAgICB9CiAgICAgICAgICAgICkuYWRkVG8obWFya2VyX2NsdXN0ZXJfNzU1MWVlODJkMTZlNGE5OWEyMzcxNDg0NzgxYzNiOGMpOwogICAgICAgIAogICAgCiAgICAgICAgdmFyIG1hcmtlcl8wZmY4ZWUxMGM3ZWU0NjA3ODNkZmZmOTEyMjcxYTNkNiA9IEwubWFya2VyKAogICAgICAgICAgICBbNDUuNDcwNTk4MTYyNSwgLTc1LjQ1NDI3MjA1NDRdLAogICAgICAgICAgICB7CiAgICAgICAgICAgICAgICBpY29uOiBuZXcgTC5JY29uLkRlZmF1bHQoKQogICAgICAgICAgICAgICAgfQogICAgICAgICAgICApLmFkZFRvKG1hcmtlcl9jbHVzdGVyXzc1NTFlZTgyZDE2ZTRhOTlhMjM3MTQ4NDc4MWMzYjhjKTsKICAgICAgICAKICAgIAogICAgICAgIHZhciBtYXJrZXJfZDRmNWQwOTkyZDJhNDRmN2I4ZWI0YTA5ZTc4MWIyODkgPSBMLm1hcmtlcigKICAgICAgICAgICAgWzQ1LjM1NzU2MjczMzEsIC03NS43NjYzMDYyNjc4XSwKICAgICAgICAgICAgewogICAgICAgICAgICAgICAgaWNvbjogbmV3IEwuSWNvbi5EZWZhdWx0KCkKICAgICAgICAgICAgICAgIH0KICAgICAgICAgICAgKS5hZGRUbyhtYXJrZXJfY2x1c3Rlcl83NTUxZWU4MmQxNmU0YTk5YTIzNzE0ODQ3ODFjM2I4Yyk7CiAgICAgICAgCiAgICAKICAgICAgICB2YXIgbWFya2VyXzIzOGIxNTliZjBkOTRjNTE4MjE1MmI3YjAyMTlmMTg2ID0gTC5tYXJrZXIoCiAgICAgICAgICAgIFs0NS4zNjE4Njg1NTcyLCAtNzUuNzkxMjM3MDAzM10sCiAgICAgICAgICAgIHsKICAgICAgICAgICAgICAgIGljb246IG5ldyBMLkljb24uRGVmYXVsdCgpCiAgICAgICAgICAgICAgICB9CiAgICAgICAgICAgICkuYWRkVG8obWFya2VyX2NsdXN0ZXJfNzU1MWVlODJkMTZlNGE5OWEyMzcxNDg0NzgxYzNiOGMpOwogICAgICAgIAogICAgCiAgICAgICAgdmFyIG1hcmtlcl80ZWUyZWJiNTA5N2I0ZGRlODEzYTNhNWJkZTliNWMzOSA9IEwubWFya2VyKAogICAgICAgICAgICBbNDUuMzI3NzM2ODMxNSwgLTc1LjcwMjA2NzIxODFdLAogICAgICAgICAgICB7CiAgICAgICAgICAgICAgICBpY29uOiBuZXcgTC5JY29uLkRlZmF1bHQoKQogICAgICAgICAgICAgICAgfQogICAgICAgICAgICApLmFkZFRvKG1hcmtlcl9jbHVzdGVyXzc1NTFlZTgyZDE2ZTRhOTlhMjM3MTQ4NDc4MWMzYjhjKTsKICAgICAgICAKICAgIAogICAgICAgIHZhciBtYXJrZXJfMjI1MmE5MTc5OTI1NGY1NDhhZjg3MThjMTk2M2JkNDIgPSBMLm1hcmtlcigKICAgICAgICAgICAgWzQ1LjI2MjEzMDQ1MzYsIC03NS43NjUwNzEzODUxXSwKICAgICAgICAgICAgewogICAgICAgICAgICAgICAgaWNvbjogbmV3IEwuSWNvbi5EZWZhdWx0KCkKICAgICAgICAgICAgICAgIH0KICAgICAgICAgICAgKS5hZGRUbyhtYXJrZXJfY2x1c3Rlcl83NTUxZWU4MmQxNmU0YTk5YTIzNzE0ODQ3ODFjM2I4Yyk7CiAgICAgICAgCiAgICAKICAgICAgICB2YXIgbWFya2VyXzVlYTM1ZGQ4NjRhYjQzYTA4MThjYmE4Y2U2MGIyMmJiID0gTC5tYXJrZXIoCiAgICAgICAgICAgIFs0NS40MDc1MDQ5NTUxLCAtNzUuNzA3MTI5ODkxNF0sCiAgICAgICAgICAgIHsKICAgICAgICAgICAgICAgIGljb246IG5ldyBMLkljb24uRGVmYXVsdCgpCiAgICAgICAgICAgICAgICB9CiAgICAgICAgICAgICkuYWRkVG8obWFya2VyX2NsdXN0ZXJfNzU1MWVlODJkMTZlNGE5OWEyMzcxNDg0NzgxYzNiOGMpOwogICAgICAgIAogICAgCiAgICAgICAgdmFyIG1hcmtlcl9hNWMwMmM3NjAyZmQ0NTg5YmMxM2YxODUxMDMyNTdiYSA9IEwubWFya2VyKAogICAgICAgICAgICBbNDUuNDI4Nzc1MDE3OCwgLTc1LjY5MTI5NDc2MjRdLAogICAgICAgICAgICB7CiAgICAgICAgICAgICAgICBpY29uOiBuZXcgTC5JY29uLkRlZmF1bHQoKQogICAgICAgICAgICAgICAgfQogICAgICAgICAgICApLmFkZFRvKG1hcmtlcl9jbHVzdGVyXzc1NTFlZTgyZDE2ZTRhOTlhMjM3MTQ4NDc4MWMzYjhjKTsKICAgICAgICAKPC9zY3JpcHQ+\" style=\"position:absolute;width:100%;height:100%;left:0;top:0;border:none !important;\" allowfullscreen webkitallowfullscreen mozallowfullscreen></iframe></div></div>"
      ],
      "text/plain": [
       "<folium.folium.Map at 0xa0e45d0>"
      ]
     },
     "metadata": {},
     "output_type": "display_data"
    },
    {
     "name": "stdout",
     "output_type": "stream",
     "text": [
      "2017/7/3:\n"
     ]
    },
    {
     "data": {
      "text/html": [
       "<div style=\"width:100%;\"><div style=\"position:relative;width:100%;height:0;padding-bottom:60%;\"><iframe src=\"data:text/html;charset=utf-8;base64,PCFET0NUWVBFIGh0bWw+CjxoZWFkPiAgICAKICAgIDxtZXRhIGh0dHAtZXF1aXY9ImNvbnRlbnQtdHlwZSIgY29udGVudD0idGV4dC9odG1sOyBjaGFyc2V0PVVURi04IiAvPgogICAgPHNjcmlwdD5MX1BSRUZFUl9DQU5WQVM9ZmFsc2U7IExfTk9fVE9VQ0g9ZmFsc2U7IExfRElTQUJMRV8zRD1mYWxzZTs8L3NjcmlwdD4KICAgIDxzY3JpcHQgc3JjPSJodHRwczovL2Nkbi5qc2RlbGl2ci5uZXQvbnBtL2xlYWZsZXRAMS4yLjAvZGlzdC9sZWFmbGV0LmpzIj48L3NjcmlwdD4KICAgIDxzY3JpcHQgc3JjPSJodHRwczovL2FqYXguZ29vZ2xlYXBpcy5jb20vYWpheC9saWJzL2pxdWVyeS8xLjExLjEvanF1ZXJ5Lm1pbi5qcyI+PC9zY3JpcHQ+CiAgICA8c2NyaXB0IHNyYz0iaHR0cHM6Ly9tYXhjZG4uYm9vdHN0cmFwY2RuLmNvbS9ib290c3RyYXAvMy4yLjAvanMvYm9vdHN0cmFwLm1pbi5qcyI+PC9zY3JpcHQ+CiAgICA8c2NyaXB0IHNyYz0iaHR0cHM6Ly9jZG5qcy5jbG91ZGZsYXJlLmNvbS9hamF4L2xpYnMvTGVhZmxldC5hd2Vzb21lLW1hcmtlcnMvMi4wLjIvbGVhZmxldC5hd2Vzb21lLW1hcmtlcnMuanMiPjwvc2NyaXB0PgogICAgPGxpbmsgcmVsPSJzdHlsZXNoZWV0IiBocmVmPSJodHRwczovL2Nkbi5qc2RlbGl2ci5uZXQvbnBtL2xlYWZsZXRAMS4yLjAvZGlzdC9sZWFmbGV0LmNzcyIvPgogICAgPGxpbmsgcmVsPSJzdHlsZXNoZWV0IiBocmVmPSJodHRwczovL21heGNkbi5ib290c3RyYXBjZG4uY29tL2Jvb3RzdHJhcC8zLjIuMC9jc3MvYm9vdHN0cmFwLm1pbi5jc3MiLz4KICAgIDxsaW5rIHJlbD0ic3R5bGVzaGVldCIgaHJlZj0iaHR0cHM6Ly9tYXhjZG4uYm9vdHN0cmFwY2RuLmNvbS9ib290c3RyYXAvMy4yLjAvY3NzL2Jvb3RzdHJhcC10aGVtZS5taW4uY3NzIi8+CiAgICA8bGluayByZWw9InN0eWxlc2hlZXQiIGhyZWY9Imh0dHBzOi8vbWF4Y2RuLmJvb3RzdHJhcGNkbi5jb20vZm9udC1hd2Vzb21lLzQuNi4zL2Nzcy9mb250LWF3ZXNvbWUubWluLmNzcyIvPgogICAgPGxpbmsgcmVsPSJzdHlsZXNoZWV0IiBocmVmPSJodHRwczovL2NkbmpzLmNsb3VkZmxhcmUuY29tL2FqYXgvbGlicy9MZWFmbGV0LmF3ZXNvbWUtbWFya2Vycy8yLjAuMi9sZWFmbGV0LmF3ZXNvbWUtbWFya2Vycy5jc3MiLz4KICAgIDxsaW5rIHJlbD0ic3R5bGVzaGVldCIgaHJlZj0iaHR0cHM6Ly9yYXdnaXQuY29tL3B5dGhvbi12aXN1YWxpemF0aW9uL2ZvbGl1bS9tYXN0ZXIvZm9saXVtL3RlbXBsYXRlcy9sZWFmbGV0LmF3ZXNvbWUucm90YXRlLmNzcyIvPgogICAgPHN0eWxlPmh0bWwsIGJvZHkge3dpZHRoOiAxMDAlO2hlaWdodDogMTAwJTttYXJnaW46IDA7cGFkZGluZzogMDt9PC9zdHlsZT4KICAgIDxzdHlsZT4jbWFwIHtwb3NpdGlvbjphYnNvbHV0ZTt0b3A6MDtib3R0b206MDtyaWdodDowO2xlZnQ6MDt9PC9zdHlsZT4KICAgIAogICAgPHN0eWxlPiNtYXBfNDc2OGRhMzRjNDQ3NDkwMmI5ODEzMmZkYTgzMGM5ZDYgewogICAgICAgIHBvc2l0aW9uOiByZWxhdGl2ZTsKICAgICAgICB3aWR0aDogMTAwLjAlOwogICAgICAgIGhlaWdodDogMTAwLjAlOwogICAgICAgIGxlZnQ6IDAuMCU7CiAgICAgICAgdG9wOiAwLjAlOwogICAgICAgIH0KICAgIDwvc3R5bGU+CiAgICA8c2NyaXB0IHNyYz0iaHR0cHM6Ly9jZG5qcy5jbG91ZGZsYXJlLmNvbS9hamF4L2xpYnMvbGVhZmxldC5tYXJrZXJjbHVzdGVyLzEuMS4wL2xlYWZsZXQubWFya2VyY2x1c3Rlci5qcyI+PC9zY3JpcHQ+CiAgICA8bGluayByZWw9InN0eWxlc2hlZXQiIGhyZWY9Imh0dHBzOi8vY2RuanMuY2xvdWRmbGFyZS5jb20vYWpheC9saWJzL2xlYWZsZXQubWFya2VyY2x1c3Rlci8xLjEuMC9NYXJrZXJDbHVzdGVyLmNzcyIvPgogICAgPGxpbmsgcmVsPSJzdHlsZXNoZWV0IiBocmVmPSJodHRwczovL2NkbmpzLmNsb3VkZmxhcmUuY29tL2FqYXgvbGlicy9sZWFmbGV0Lm1hcmtlcmNsdXN0ZXIvMS4xLjAvTWFya2VyQ2x1c3Rlci5EZWZhdWx0LmNzcyIvPgo8L2hlYWQ+Cjxib2R5PiAgICAKICAgIAogICAgPGRpdiBjbGFzcz0iZm9saXVtLW1hcCIgaWQ9Im1hcF80NzY4ZGEzNGM0NDc0OTAyYjk4MTMyZmRhODMwYzlkNiIgPjwvZGl2Pgo8L2JvZHk+CjxzY3JpcHQ+ICAgIAogICAgCiAgICAKICAgICAgICB2YXIgYm91bmRzID0gbnVsbDsKICAgIAoKICAgIHZhciBtYXBfNDc2OGRhMzRjNDQ3NDkwMmI5ODEzMmZkYTgzMGM5ZDYgPSBMLm1hcCgKICAgICAgICAnbWFwXzQ3NjhkYTM0YzQ0NzQ5MDJiOTgxMzJmZGE4MzBjOWQ2JywgewogICAgICAgIGNlbnRlcjogWzQ1LjMzODkzNTY1LCAtNzUuNzE0NjA1MzhdLAogICAgICAgIHpvb206IDEwLAogICAgICAgIG1heEJvdW5kczogYm91bmRzLAogICAgICAgIGxheWVyczogW10sCiAgICAgICAgd29ybGRDb3B5SnVtcDogZmFsc2UsCiAgICAgICAgY3JzOiBMLkNSUy5FUFNHMzg1NywKICAgICAgICB6b29tQ29udHJvbDogdHJ1ZSwKICAgICAgICB9KTsKCiAgICAKICAgIAogICAgdmFyIHRpbGVfbGF5ZXJfYzIxZjlkYWJhYzQ3NDRlMDgyMDA1NGU3Yzk4ZmY0ZjAgPSBMLnRpbGVMYXllcigKICAgICAgICAnaHR0cHM6Ly97c30udGlsZS5vcGVuc3RyZWV0bWFwLm9yZy97en0ve3h9L3t5fS5wbmcnLAogICAgICAgIHsKICAgICAgICAiYXR0cmlidXRpb24iOiBudWxsLCAKICAgICAgICAiZGV0ZWN0UmV0aW5hIjogZmFsc2UsIAogICAgICAgICJtYXhOYXRpdmVab29tIjogMTgsIAogICAgICAgICJtYXhab29tIjogMTgsIAogICAgICAgICJtaW5ab29tIjogMCwgCiAgICAgICAgIm5vV3JhcCI6IGZhbHNlLCAKICAgICAgICAic3ViZG9tYWlucyI6ICJhYmMiCn0pLmFkZFRvKG1hcF80NzY4ZGEzNGM0NDc0OTAyYjk4MTMyZmRhODMwYzlkNik7CiAgICAKICAgICAgICAgICAgdmFyIG1hcmtlcl9jbHVzdGVyX2I0ZmMxNTZiZjhlMzQwYjdiNDI3ODgwNzZhYTU5ZDE0ID0gTC5tYXJrZXJDbHVzdGVyR3JvdXAoe30pOwogICAgICAgICAgICBtYXBfNDc2OGRhMzRjNDQ3NDkwMmI5ODEzMmZkYTgzMGM5ZDYuYWRkTGF5ZXIobWFya2VyX2NsdXN0ZXJfYjRmYzE1NmJmOGUzNDBiN2I0Mjc4ODA3NmFhNTlkMTQpOwogICAgICAgICAgICAKICAgIAogICAgICAgIHZhciBtYXJrZXJfOGE0YjFhZjg0ZDBiNDQ3NWFhNGU5ZTkyMTBiMTZiMzggPSBMLm1hcmtlcigKICAgICAgICAgICAgWzQ1LjI3NjgyMjkyLCAtNzUuODQ2NDIwOTddLAogICAgICAgICAgICB7CiAgICAgICAgICAgICAgICBpY29uOiBuZXcgTC5JY29uLkRlZmF1bHQoKQogICAgICAgICAgICAgICAgfQogICAgICAgICAgICApLmFkZFRvKG1hcmtlcl9jbHVzdGVyX2I0ZmMxNTZiZjhlMzQwYjdiNDI3ODgwNzZhYTU5ZDE0KTsKICAgICAgICAKICAgIAogICAgICAgIHZhciBtYXJrZXJfZTQ1YjU4NDMxZGFkNDM5ZTlmYjMzNDI4ZmM1N2RlZWIgPSBMLm1hcmtlcigKICAgICAgICAgICAgWzQ1LjQxNjk3MzkyLCAtNzUuNjQyMDUyMTNdLAogICAgICAgICAgICB7CiAgICAgICAgICAgICAgICBpY29uOiBuZXcgTC5JY29uLkRlZmF1bHQoKQogICAgICAgICAgICAgICAgfQogICAgICAgICAgICApLmFkZFRvKG1hcmtlcl9jbHVzdGVyX2I0ZmMxNTZiZjhlMzQwYjdiNDI3ODgwNzZhYTU5ZDE0KTsKICAgICAgICAKICAgIAogICAgICAgIHZhciBtYXJrZXJfYWI4ZGU2NmIzNDFmNGI5Njk5YjA1NDhjNjkxOGQ2NDcgPSBMLm1hcmtlcigKICAgICAgICAgICAgWzQ1LjI5NzQxNjAxLCAtNzUuODg5NTQ0Nl0sCiAgICAgICAgICAgIHsKICAgICAgICAgICAgICAgIGljb246IG5ldyBMLkljb24uRGVmYXVsdCgpCiAgICAgICAgICAgICAgICB9CiAgICAgICAgICAgICkuYWRkVG8obWFya2VyX2NsdXN0ZXJfYjRmYzE1NmJmOGUzNDBiN2I0Mjc4ODA3NmFhNTlkMTQpOwogICAgICAgIAogICAgCiAgICAgICAgdmFyIG1hcmtlcl8wOGNlMDgyNGRmMzQ0MTdlOWQ5YmM3YTc5N2NhNmZmNSA9IEwubWFya2VyKAogICAgICAgICAgICBbNDUuMjczNTI4MywgLTc1Ljg1MTExODcyXSwKICAgICAgICAgICAgewogICAgICAgICAgICAgICAgaWNvbjogbmV3IEwuSWNvbi5EZWZhdWx0KCkKICAgICAgICAgICAgICAgIH0KICAgICAgICAgICAgKS5hZGRUbyhtYXJrZXJfY2x1c3Rlcl9iNGZjMTU2YmY4ZTM0MGI3YjQyNzg4MDc2YWE1OWQxNCk7CiAgICAgICAgCiAgICAKICAgICAgICB2YXIgbWFya2VyX2Y5ZTk4OTBiODBlODQxYWY4MGNhZTcxYzdlZjQ3ZjA0ID0gTC5tYXJrZXIoCiAgICAgICAgICAgIFs0NS40MjEzNDYyNiwgLTc1LjY1ODIzOTQ1XSwKICAgICAgICAgICAgewogICAgICAgICAgICAgICAgaWNvbjogbmV3IEwuSWNvbi5EZWZhdWx0KCkKICAgICAgICAgICAgICAgIH0KICAgICAgICAgICAgKS5hZGRUbyhtYXJrZXJfY2x1c3Rlcl9iNGZjMTU2YmY4ZTM0MGI3YjQyNzg4MDc2YWE1OWQxNCk7CiAgICAgICAgCiAgICAKICAgICAgICB2YXIgbWFya2VyXzZjNTAyYzNlMjljYjQ4NjA5MzdiNDMxNWNlOWI3ZjM5ID0gTC5tYXJrZXIoCiAgICAgICAgICAgIFs0NS40MzE4MTE2MywgLTc1LjY5MDYxMTU4XSwKICAgICAgICAgICAgewogICAgICAgICAgICAgICAgaWNvbjogbmV3IEwuSWNvbi5EZWZhdWx0KCkKICAgICAgICAgICAgICAgIH0KICAgICAgICAgICAgKS5hZGRUbyhtYXJrZXJfY2x1c3Rlcl9iNGZjMTU2YmY4ZTM0MGI3YjQyNzg4MDc2YWE1OWQxNCk7CiAgICAgICAgCiAgICAKICAgICAgICB2YXIgbWFya2VyXzIyN2MwZDdjODVmMDRkNWViMmE3YTljMzNjY2I0NmY4ID0gTC5tYXJrZXIoCiAgICAgICAgICAgIFs0NS40MjE5MDU2NiwgLTc1LjY5MzgyMjhdLAogICAgICAgICAgICB7CiAgICAgICAgICAgICAgICBpY29uOiBuZXcgTC5JY29uLkRlZmF1bHQoKQogICAgICAgICAgICAgICAgfQogICAgICAgICAgICApLmFkZFRvKG1hcmtlcl9jbHVzdGVyX2I0ZmMxNTZiZjhlMzQwYjdiNDI3ODgwNzZhYTU5ZDE0KTsKICAgICAgICAKICAgIAogICAgICAgIHZhciBtYXJrZXJfYjA2YTM5N2E0OGQ0NGMwY2JjOTk4ZmEyMWJkMTdhNmEgPSBMLm1hcmtlcigKICAgICAgICAgICAgWzQ1LjM0NDYzNjM4LCAtNzUuOTQ0MTk4NV0sCiAgICAgICAgICAgIHsKICAgICAgICAgICAgICAgIGljb246IG5ldyBMLkljb24uRGVmYXVsdCgpCiAgICAgICAgICAgICAgICB9CiAgICAgICAgICAgICkuYWRkVG8obWFya2VyX2NsdXN0ZXJfYjRmYzE1NmJmOGUzNDBiN2I0Mjc4ODA3NmFhNTlkMTQpOwogICAgICAgIAogICAgCiAgICAgICAgdmFyIG1hcmtlcl8yMTRhMjU5NWZlMmU0MjMyOTA2MWU1YzlkOTBlNGJlMCA9IEwubWFya2VyKAogICAgICAgICAgICBbNDUuMzQ3NTQ4MDIsIC03NS43ODg3NzgzOF0sCiAgICAgICAgICAgIHsKICAgICAgICAgICAgICAgIGljb246IG5ldyBMLkljb24uRGVmYXVsdCgpCiAgICAgICAgICAgICAgICB9CiAgICAgICAgICAgICkuYWRkVG8obWFya2VyX2NsdXN0ZXJfYjRmYzE1NmJmOGUzNDBiN2I0Mjc4ODA3NmFhNTlkMTQpOwogICAgICAgIAogICAgCiAgICAgICAgdmFyIG1hcmtlcl8yMzY5OTlhMDEwY2E0ZWY2ODg2Zjk5NmFhMjE3NTc4OCA9IEwubWFya2VyKAogICAgICAgICAgICBbNDUuMzUxNTgyNjksIC03NS42NTE0MTM4NF0sCiAgICAgICAgICAgIHsKICAgICAgICAgICAgICAgIGljb246IG5ldyBMLkljb24uRGVmYXVsdCgpCiAgICAgICAgICAgICAgICB9CiAgICAgICAgICAgICkuYWRkVG8obWFya2VyX2NsdXN0ZXJfYjRmYzE1NmJmOGUzNDBiN2I0Mjc4ODA3NmFhNTlkMTQpOwogICAgICAgIAogICAgCiAgICAgICAgdmFyIG1hcmtlcl8zYjRiOWM2MzMxZmU0NTZkYjkyM2EyMDA2ODk2ZTY1NyA9IEwubWFya2VyKAogICAgICAgICAgICBbNDUuMzkzODU1MDIsIC03NS42MDQ1NzY3XSwKICAgICAgICAgICAgewogICAgICAgICAgICAgICAgaWNvbjogbmV3IEwuSWNvbi5EZWZhdWx0KCkKICAgICAgICAgICAgICAgIH0KICAgICAgICAgICAgKS5hZGRUbyhtYXJrZXJfY2x1c3Rlcl9iNGZjMTU2YmY4ZTM0MGI3YjQyNzg4MDc2YWE1OWQxNCk7CiAgICAgICAgCiAgICAKICAgICAgICB2YXIgbWFya2VyXzM5NjU1ZTczMDM5YjRmYzE4ZGY5MTEwNjljODJjMWQ1ID0gTC5tYXJrZXIoCiAgICAgICAgICAgIFs0NS4zNzkyMjg0OCwgLTc1Ljc3MzI5NjMxXSwKICAgICAgICAgICAgewogICAgICAgICAgICAgICAgaWNvbjogbmV3IEwuSWNvbi5EZWZhdWx0KCkKICAgICAgICAgICAgICAgIH0KICAgICAgICAgICAgKS5hZGRUbyhtYXJrZXJfY2x1c3Rlcl9iNGZjMTU2YmY4ZTM0MGI3YjQyNzg4MDc2YWE1OWQxNCk7CiAgICAgICAgCiAgICAKICAgICAgICB2YXIgbWFya2VyXzU3YmFiMjIwNTJlNTQyYTdiZjViZTkwNGQ2M2YwYWFlID0gTC5tYXJrZXIoCiAgICAgICAgICAgIFs0NS4zMzQ3OTgwMiwgLTc1LjcyNDA5NTYyXSwKICAgICAgICAgICAgewogICAgICAgICAgICAgICAgaWNvbjogbmV3IEwuSWNvbi5EZWZhdWx0KCkKICAgICAgICAgICAgICAgIH0KICAgICAgICAgICAgKS5hZGRUbyhtYXJrZXJfY2x1c3Rlcl9iNGZjMTU2YmY4ZTM0MGI3YjQyNzg4MDc2YWE1OWQxNCk7CiAgICAgICAgCiAgICAKICAgICAgICB2YXIgbWFya2VyXzM4ODUyNDRiYzU3ZjQzZmQ5YzZjMzRlMTMzOWIyOTlhID0gTC5tYXJrZXIoCiAgICAgICAgICAgIFs0NS40NzcxNzI3OCwgLTc1LjQyMDQ3NTU2XSwKICAgICAgICAgICAgewogICAgICAgICAgICAgICAgaWNvbjogbmV3IEwuSWNvbi5EZWZhdWx0KCkKICAgICAgICAgICAgICAgIH0KICAgICAgICAgICAgKS5hZGRUbyhtYXJrZXJfY2x1c3Rlcl9iNGZjMTU2YmY4ZTM0MGI3YjQyNzg4MDc2YWE1OWQxNCk7CiAgICAgICAgCiAgICAKICAgICAgICB2YXIgbWFya2VyX2QzMWRhNWUwYjQyNTRmZjU4MzFlNGMxZTAzNjViMzMzID0gTC5tYXJrZXIoCiAgICAgICAgICAgIFs0NS40MzE2NzU5NCwgLTc1LjY3ODc4NzddLAogICAgICAgICAgICB7CiAgICAgICAgICAgICAgICBpY29uOiBuZXcgTC5JY29uLkRlZmF1bHQoKQogICAgICAgICAgICAgICAgfQogICAgICAgICAgICApLmFkZFRvKG1hcmtlcl9jbHVzdGVyX2I0ZmMxNTZiZjhlMzQwYjdiNDI3ODgwNzZhYTU5ZDE0KTsKICAgICAgICAKICAgIAogICAgICAgIHZhciBtYXJrZXJfY2Y2M2MyYWNjZWUyNDhhM2E5MzIxNGE0OGY1NjNhMzcgPSBMLm1hcmtlcigKICAgICAgICAgICAgWzQ1LjM5NDE3ODk3LCAtNzUuNjEwMzMxNzddLAogICAgICAgICAgICB7CiAgICAgICAgICAgICAgICBpY29uOiBuZXcgTC5JY29uLkRlZmF1bHQoKQogICAgICAgICAgICAgICAgfQogICAgICAgICAgICApLmFkZFRvKG1hcmtlcl9jbHVzdGVyX2I0ZmMxNTZiZjhlMzQwYjdiNDI3ODgwNzZhYTU5ZDE0KTsKICAgICAgICAKICAgIAogICAgICAgIHZhciBtYXJrZXJfMGJkMDJlMzhiYzNjNDY4YThjNTE2ZTAzZmMyN2ViZmEgPSBMLm1hcmtlcigKICAgICAgICAgICAgWzQ1LjMzODkzNTY1LCAtNzUuNzE0NjA1MzhdLAogICAgICAgICAgICB7CiAgICAgICAgICAgICAgICBpY29uOiBuZXcgTC5JY29uLkRlZmF1bHQoKQogICAgICAgICAgICAgICAgfQogICAgICAgICAgICApLmFkZFRvKG1hcmtlcl9jbHVzdGVyX2I0ZmMxNTZiZjhlMzQwYjdiNDI3ODgwNzZhYTU5ZDE0KTsKICAgICAgICAKPC9zY3JpcHQ+\" style=\"position:absolute;width:100%;height:100%;left:0;top:0;border:none !important;\" allowfullscreen webkitallowfullscreen mozallowfullscreen></iframe></div></div>"
      ],
      "text/plain": [
       "<folium.folium.Map at 0xa108d90>"
      ]
     },
     "metadata": {},
     "output_type": "display_data"
    }
   ],
   "source": [
    "Canada2014 = pd.to_datetime('2014/07/01', format = '%Y/%m/%d')\n",
    "Canada2015 = pd.to_datetime('2015/07/01', format = '%Y/%m/%d')\n",
    "Canada2016 = pd.to_datetime('2016/07/01', format = '%Y/%m/%d')\n",
    "Canada2017 = pd.to_datetime('2017/07/03', format = '%Y/%m/%d')\n",
    "\n",
    "for cd in [Canada2014, Canada2015, Canada2016, Canada2017]:\n",
    "    mapOfMaxCollision(cd)"
   ]
  },
  {
   "cell_type": "markdown",
   "metadata": {},
   "source": [
    "### Brief Conclusion: \n",
    "* The distribution and number of collisions beside the parliament hill in 2017 is small compared to the values in 2014 and 2015. \n",
    "\n",
    "### Hypothesis: \n",
    "* Even though the predction is that the 150th anniversary attracts more people to the place of celebration(most of them are beside the parliament hill), the government did more traffic control on Canada Day in 2017. "
   ]
  },
  {
   "cell_type": "markdown",
   "metadata": {},
   "source": [
    "## 3. Do analysis about those combinations of variables"
   ]
  },
  {
   "cell_type": "markdown",
   "metadata": {},
   "source": [
    "### 3.1 Correlation between independent variables"
   ]
  },
  {
   "cell_type": "code",
   "execution_count": 19,
   "metadata": {
    "scrolled": true
   },
   "outputs": [
    {
     "data": {
      "text/html": [
       "<div>\n",
       "<style scoped>\n",
       "    .dataframe tbody tr th:only-of-type {\n",
       "        vertical-align: middle;\n",
       "    }\n",
       "\n",
       "    .dataframe tbody tr th {\n",
       "        vertical-align: top;\n",
       "    }\n",
       "\n",
       "    .dataframe thead th {\n",
       "        text-align: right;\n",
       "    }\n",
       "</style>\n",
       "<table border=\"1\" class=\"dataframe\">\n",
       "  <thead>\n",
       "    <tr style=\"text-align: right;\">\n",
       "      <th></th>\n",
       "      <th>Environment</th>\n",
       "      <th>Road_Surface</th>\n",
       "      <th>Traffic_Control</th>\n",
       "      <th>Collision_Location</th>\n",
       "      <th>Light</th>\n",
       "      <th>Collision_Classification</th>\n",
       "      <th>Impact_type</th>\n",
       "      <th>Year</th>\n",
       "      <th>Month</th>\n",
       "      <th>Day_Of_Week</th>\n",
       "    </tr>\n",
       "  </thead>\n",
       "  <tbody>\n",
       "    <tr>\n",
       "      <th>Environment</th>\n",
       "      <td>1.000000</td>\n",
       "      <td>0.407237</td>\n",
       "      <td>0.033659</td>\n",
       "      <td>0.023043</td>\n",
       "      <td>-0.013634</td>\n",
       "      <td>0.032732</td>\n",
       "      <td>-0.065814</td>\n",
       "      <td>0.028877</td>\n",
       "      <td>0.042192</td>\n",
       "      <td>0.025752</td>\n",
       "    </tr>\n",
       "    <tr>\n",
       "      <th>Road_Surface</th>\n",
       "      <td>0.407237</td>\n",
       "      <td>1.000000</td>\n",
       "      <td>0.052701</td>\n",
       "      <td>0.028649</td>\n",
       "      <td>0.006519</td>\n",
       "      <td>0.062297</td>\n",
       "      <td>-0.066913</td>\n",
       "      <td>0.027234</td>\n",
       "      <td>0.002951</td>\n",
       "      <td>0.026177</td>\n",
       "    </tr>\n",
       "    <tr>\n",
       "      <th>Traffic_Control</th>\n",
       "      <td>0.033659</td>\n",
       "      <td>0.052701</td>\n",
       "      <td>1.000000</td>\n",
       "      <td>-0.143711</td>\n",
       "      <td>0.026917</td>\n",
       "      <td>0.033407</td>\n",
       "      <td>-0.179868</td>\n",
       "      <td>0.006068</td>\n",
       "      <td>-0.000393</td>\n",
       "      <td>-0.005413</td>\n",
       "    </tr>\n",
       "    <tr>\n",
       "      <th>Collision_Location</th>\n",
       "      <td>0.023043</td>\n",
       "      <td>0.028649</td>\n",
       "      <td>-0.143711</td>\n",
       "      <td>1.000000</td>\n",
       "      <td>0.042738</td>\n",
       "      <td>0.116057</td>\n",
       "      <td>0.477705</td>\n",
       "      <td>0.004390</td>\n",
       "      <td>-0.002106</td>\n",
       "      <td>0.005891</td>\n",
       "    </tr>\n",
       "    <tr>\n",
       "      <th>Light</th>\n",
       "      <td>-0.013634</td>\n",
       "      <td>0.006519</td>\n",
       "      <td>0.026917</td>\n",
       "      <td>0.042738</td>\n",
       "      <td>1.000000</td>\n",
       "      <td>0.041628</td>\n",
       "      <td>0.061463</td>\n",
       "      <td>0.016489</td>\n",
       "      <td>-0.009449</td>\n",
       "      <td>0.015724</td>\n",
       "    </tr>\n",
       "    <tr>\n",
       "      <th>Collision_Classification</th>\n",
       "      <td>0.032732</td>\n",
       "      <td>0.062297</td>\n",
       "      <td>0.033407</td>\n",
       "      <td>0.116057</td>\n",
       "      <td>0.041628</td>\n",
       "      <td>1.000000</td>\n",
       "      <td>0.081291</td>\n",
       "      <td>-0.012735</td>\n",
       "      <td>0.011433</td>\n",
       "      <td>0.002105</td>\n",
       "    </tr>\n",
       "    <tr>\n",
       "      <th>Impact_type</th>\n",
       "      <td>-0.065814</td>\n",
       "      <td>-0.066913</td>\n",
       "      <td>-0.179868</td>\n",
       "      <td>0.477705</td>\n",
       "      <td>0.061463</td>\n",
       "      <td>0.081291</td>\n",
       "      <td>1.000000</td>\n",
       "      <td>0.001780</td>\n",
       "      <td>-0.012958</td>\n",
       "      <td>0.023057</td>\n",
       "    </tr>\n",
       "    <tr>\n",
       "      <th>Year</th>\n",
       "      <td>0.028877</td>\n",
       "      <td>0.027234</td>\n",
       "      <td>0.006068</td>\n",
       "      <td>0.004390</td>\n",
       "      <td>0.016489</td>\n",
       "      <td>-0.012735</td>\n",
       "      <td>0.001780</td>\n",
       "      <td>1.000000</td>\n",
       "      <td>0.007460</td>\n",
       "      <td>0.006355</td>\n",
       "    </tr>\n",
       "    <tr>\n",
       "      <th>Month</th>\n",
       "      <td>0.042192</td>\n",
       "      <td>0.002951</td>\n",
       "      <td>-0.000393</td>\n",
       "      <td>-0.002106</td>\n",
       "      <td>-0.009449</td>\n",
       "      <td>0.011433</td>\n",
       "      <td>-0.012958</td>\n",
       "      <td>0.007460</td>\n",
       "      <td>1.000000</td>\n",
       "      <td>-0.009906</td>\n",
       "    </tr>\n",
       "    <tr>\n",
       "      <th>Day_Of_Week</th>\n",
       "      <td>0.025752</td>\n",
       "      <td>0.026177</td>\n",
       "      <td>-0.005413</td>\n",
       "      <td>0.005891</td>\n",
       "      <td>0.015724</td>\n",
       "      <td>0.002105</td>\n",
       "      <td>0.023057</td>\n",
       "      <td>0.006355</td>\n",
       "      <td>-0.009906</td>\n",
       "      <td>1.000000</td>\n",
       "    </tr>\n",
       "  </tbody>\n",
       "</table>\n",
       "</div>"
      ],
      "text/plain": [
       "                          Environment  Road_Surface  Traffic_Control  \\\n",
       "Environment                  1.000000      0.407237         0.033659   \n",
       "Road_Surface                 0.407237      1.000000         0.052701   \n",
       "Traffic_Control              0.033659      0.052701         1.000000   \n",
       "Collision_Location           0.023043      0.028649        -0.143711   \n",
       "Light                       -0.013634      0.006519         0.026917   \n",
       "Collision_Classification     0.032732      0.062297         0.033407   \n",
       "Impact_type                 -0.065814     -0.066913        -0.179868   \n",
       "Year                         0.028877      0.027234         0.006068   \n",
       "Month                        0.042192      0.002951        -0.000393   \n",
       "Day_Of_Week                  0.025752      0.026177        -0.005413   \n",
       "\n",
       "                          Collision_Location     Light  \\\n",
       "Environment                         0.023043 -0.013634   \n",
       "Road_Surface                        0.028649  0.006519   \n",
       "Traffic_Control                    -0.143711  0.026917   \n",
       "Collision_Location                  1.000000  0.042738   \n",
       "Light                               0.042738  1.000000   \n",
       "Collision_Classification            0.116057  0.041628   \n",
       "Impact_type                         0.477705  0.061463   \n",
       "Year                                0.004390  0.016489   \n",
       "Month                              -0.002106 -0.009449   \n",
       "Day_Of_Week                         0.005891  0.015724   \n",
       "\n",
       "                          Collision_Classification  Impact_type      Year  \\\n",
       "Environment                               0.032732    -0.065814  0.028877   \n",
       "Road_Surface                              0.062297    -0.066913  0.027234   \n",
       "Traffic_Control                           0.033407    -0.179868  0.006068   \n",
       "Collision_Location                        0.116057     0.477705  0.004390   \n",
       "Light                                     0.041628     0.061463  0.016489   \n",
       "Collision_Classification                  1.000000     0.081291 -0.012735   \n",
       "Impact_type                               0.081291     1.000000  0.001780   \n",
       "Year                                     -0.012735     0.001780  1.000000   \n",
       "Month                                     0.011433    -0.012958  0.007460   \n",
       "Day_Of_Week                               0.002105     0.023057  0.006355   \n",
       "\n",
       "                             Month  Day_Of_Week  \n",
       "Environment               0.042192     0.025752  \n",
       "Road_Surface              0.002951     0.026177  \n",
       "Traffic_Control          -0.000393    -0.005413  \n",
       "Collision_Location       -0.002106     0.005891  \n",
       "Light                    -0.009449     0.015724  \n",
       "Collision_Classification  0.011433     0.002105  \n",
       "Impact_type              -0.012958     0.023057  \n",
       "Year                      0.007460     0.006355  \n",
       "Month                     1.000000    -0.009906  \n",
       "Day_Of_Week              -0.009906     1.000000  "
      ]
     },
     "execution_count": 19,
     "metadata": {},
     "output_type": "execute_result"
    }
   ],
   "source": [
    "df_vars = df_csv1417[['Environment', 'Road_Surface', 'Traffic_Control', 'Collision_Location', \n",
    "                      'Light', 'Collision_Classification', 'Impact_type', 'Year', 'Month', 'Day_Of_Week']]\n",
    "\n",
    "df_corr = df_vars.apply(lambda x : pd.factorize(x)[0]).corr(method='pearson', min_periods=1)\n",
    "df_corr"
   ]
  },
  {
   "cell_type": "code",
   "execution_count": null,
   "metadata": {},
   "outputs": [],
   "source": []
  },
  {
   "cell_type": "code",
   "execution_count": 20,
   "metadata": {},
   "outputs": [
    {
     "data": {
      "application/vnd.plotly.v1+json": {
       "data": [
        {
         "type": "heatmap",
         "uid": "a9b91b3c-a722-11e8-9fa6-0800275aa47c",
         "x": [
          "Environment",
          "Environment",
          "Environment",
          "Environment",
          "Environment",
          "Environment",
          "Environment",
          "Environment",
          "Environment",
          "Environment",
          "Road_Surface",
          "Road_Surface",
          "Road_Surface",
          "Road_Surface",
          "Road_Surface",
          "Road_Surface",
          "Road_Surface",
          "Road_Surface",
          "Road_Surface",
          "Road_Surface",
          "Traffic_Control",
          "Traffic_Control",
          "Traffic_Control",
          "Traffic_Control",
          "Traffic_Control",
          "Traffic_Control",
          "Traffic_Control",
          "Traffic_Control",
          "Traffic_Control",
          "Traffic_Control",
          "Collision_Location",
          "Collision_Location",
          "Collision_Location",
          "Collision_Location",
          "Collision_Location",
          "Collision_Location",
          "Collision_Location",
          "Collision_Location",
          "Collision_Location",
          "Collision_Location",
          "Light",
          "Light",
          "Light",
          "Light",
          "Light",
          "Light",
          "Light",
          "Light",
          "Light",
          "Light",
          "Collision_Classification",
          "Collision_Classification",
          "Collision_Classification",
          "Collision_Classification",
          "Collision_Classification",
          "Collision_Classification",
          "Collision_Classification",
          "Collision_Classification",
          "Collision_Classification",
          "Collision_Classification",
          "Impact_type",
          "Impact_type",
          "Impact_type",
          "Impact_type",
          "Impact_type",
          "Impact_type",
          "Impact_type",
          "Impact_type",
          "Impact_type",
          "Impact_type",
          "Year",
          "Year",
          "Year",
          "Year",
          "Year",
          "Year",
          "Year",
          "Year",
          "Year",
          "Year",
          "Month",
          "Month",
          "Month",
          "Month",
          "Month",
          "Month",
          "Month",
          "Month",
          "Month",
          "Month",
          "Day_Of_Week",
          "Day_Of_Week",
          "Day_Of_Week",
          "Day_Of_Week",
          "Day_Of_Week",
          "Day_Of_Week",
          "Day_Of_Week",
          "Day_Of_Week",
          "Day_Of_Week",
          "Day_Of_Week"
         ],
         "y": [
          "Environment",
          "Road_Surface",
          "Traffic_Control",
          "Collision_Location",
          "Light",
          "Collision_Classification",
          "Impact_type",
          "Year",
          "Month",
          "Day_Of_Week",
          "Environment",
          "Road_Surface",
          "Traffic_Control",
          "Collision_Location",
          "Light",
          "Collision_Classification",
          "Impact_type",
          "Year",
          "Month",
          "Day_Of_Week",
          "Environment",
          "Road_Surface",
          "Traffic_Control",
          "Collision_Location",
          "Light",
          "Collision_Classification",
          "Impact_type",
          "Year",
          "Month",
          "Day_Of_Week",
          "Environment",
          "Road_Surface",
          "Traffic_Control",
          "Collision_Location",
          "Light",
          "Collision_Classification",
          "Impact_type",
          "Year",
          "Month",
          "Day_Of_Week",
          "Environment",
          "Road_Surface",
          "Traffic_Control",
          "Collision_Location",
          "Light",
          "Collision_Classification",
          "Impact_type",
          "Year",
          "Month",
          "Day_Of_Week",
          "Environment",
          "Road_Surface",
          "Traffic_Control",
          "Collision_Location",
          "Light",
          "Collision_Classification",
          "Impact_type",
          "Year",
          "Month",
          "Day_Of_Week",
          "Environment",
          "Road_Surface",
          "Traffic_Control",
          "Collision_Location",
          "Light",
          "Collision_Classification",
          "Impact_type",
          "Year",
          "Month",
          "Day_Of_Week",
          "Environment",
          "Road_Surface",
          "Traffic_Control",
          "Collision_Location",
          "Light",
          "Collision_Classification",
          "Impact_type",
          "Year",
          "Month",
          "Day_Of_Week",
          "Environment",
          "Road_Surface",
          "Traffic_Control",
          "Collision_Location",
          "Light",
          "Collision_Classification",
          "Impact_type",
          "Year",
          "Month",
          "Day_Of_Week",
          "Environment",
          "Road_Surface",
          "Traffic_Control",
          "Collision_Location",
          "Light",
          "Collision_Classification",
          "Impact_type",
          "Year",
          "Month",
          "Day_Of_Week"
         ],
         "z": [
          1,
          0.4072369871834664,
          0.033658568702857765,
          0.023043484396722345,
          -0.013634229253574668,
          0.03273212566175706,
          -0.06581427651067992,
          0.028876502298970343,
          0.04219170090590787,
          0.025751597182446254,
          0.4072369871834664,
          1,
          0.05270146278013149,
          0.028649421989299307,
          0.00651864901992285,
          0.062297046860876726,
          -0.0669126410196724,
          0.027234100090145378,
          0.0029508840422938715,
          0.02617721935923829,
          0.033658568702857765,
          0.05270146278013149,
          1,
          -0.14371149051935012,
          0.026916532310199314,
          0.03340667557890571,
          -0.17986796859411552,
          0.006067794675924021,
          -0.0003933954692235262,
          -0.00541348964140966,
          0.023043484396722345,
          0.028649421989299307,
          -0.14371149051935012,
          1,
          0.04273809021434376,
          0.11605698678456294,
          0.4777046297582626,
          0.004390012252474468,
          -0.002105944826842248,
          0.005891089242072931,
          -0.013634229253574668,
          0.00651864901992285,
          0.026916532310199314,
          0.04273809021434376,
          1,
          0.041628200000074875,
          0.06146340186068619,
          0.016489016697336514,
          -0.009448587352404014,
          0.01572430615577022,
          0.03273212566175706,
          0.062297046860876726,
          0.03340667557890571,
          0.11605698678456294,
          0.041628200000074875,
          1,
          0.08129056268538229,
          -0.012735210263866151,
          0.011433474826105242,
          0.0021054966076073777,
          -0.06581427651067992,
          -0.0669126410196724,
          -0.17986796859411552,
          0.4777046297582626,
          0.06146340186068619,
          0.08129056268538229,
          1,
          0.0017803502166531932,
          -0.0129583547807179,
          0.023057006767220358,
          0.028876502298970343,
          0.027234100090145378,
          0.006067794675924021,
          0.004390012252474468,
          0.016489016697336514,
          -0.012735210263866151,
          0.0017803502166531932,
          1,
          0.007459604749502657,
          0.006354850584136215,
          0.04219170090590787,
          0.0029508840422938715,
          -0.0003933954692235262,
          -0.002105944826842248,
          -0.009448587352404014,
          0.011433474826105242,
          -0.0129583547807179,
          0.007459604749502657,
          1,
          -0.009905689285280664,
          0.025751597182446254,
          0.02617721935923829,
          -0.00541348964140966,
          0.005891089242072931,
          0.01572430615577022,
          0.0021054966076073777,
          0.023057006767220358,
          0.006354850584136215,
          -0.009905689285280664,
          1
         ]
        }
       ],
       "layout": {}
      },
      "text/html": [
       "<div id=\"06033ca4-9f0b-488d-8822-ee58d8115e8d\" style=\"height: 525px; width: 100%;\" class=\"plotly-graph-div\"></div><script type=\"text/javascript\">require([\"plotly\"], function(Plotly) { window.PLOTLYENV=window.PLOTLYENV || {};window.PLOTLYENV.BASE_URL=\"https://plot.ly\";Plotly.newPlot(\"06033ca4-9f0b-488d-8822-ee58d8115e8d\", [{\"y\": [\"Environment\", \"Road_Surface\", \"Traffic_Control\", \"Collision_Location\", \"Light\", \"Collision_Classification\", \"Impact_type\", \"Year\", \"Month\", \"Day_Of_Week\", \"Environment\", \"Road_Surface\", \"Traffic_Control\", \"Collision_Location\", \"Light\", \"Collision_Classification\", \"Impact_type\", \"Year\", \"Month\", \"Day_Of_Week\", \"Environment\", \"Road_Surface\", \"Traffic_Control\", \"Collision_Location\", \"Light\", \"Collision_Classification\", \"Impact_type\", \"Year\", \"Month\", \"Day_Of_Week\", \"Environment\", \"Road_Surface\", \"Traffic_Control\", \"Collision_Location\", \"Light\", \"Collision_Classification\", \"Impact_type\", \"Year\", \"Month\", \"Day_Of_Week\", \"Environment\", \"Road_Surface\", \"Traffic_Control\", \"Collision_Location\", \"Light\", \"Collision_Classification\", \"Impact_type\", \"Year\", \"Month\", \"Day_Of_Week\", \"Environment\", \"Road_Surface\", \"Traffic_Control\", \"Collision_Location\", \"Light\", \"Collision_Classification\", \"Impact_type\", \"Year\", \"Month\", \"Day_Of_Week\", \"Environment\", \"Road_Surface\", \"Traffic_Control\", \"Collision_Location\", \"Light\", \"Collision_Classification\", \"Impact_type\", \"Year\", \"Month\", \"Day_Of_Week\", \"Environment\", \"Road_Surface\", \"Traffic_Control\", \"Collision_Location\", \"Light\", \"Collision_Classification\", \"Impact_type\", \"Year\", \"Month\", \"Day_Of_Week\", \"Environment\", \"Road_Surface\", \"Traffic_Control\", \"Collision_Location\", \"Light\", \"Collision_Classification\", \"Impact_type\", \"Year\", \"Month\", \"Day_Of_Week\", \"Environment\", \"Road_Surface\", \"Traffic_Control\", \"Collision_Location\", \"Light\", \"Collision_Classification\", \"Impact_type\", \"Year\", \"Month\", \"Day_Of_Week\"], \"x\": [\"Environment\", \"Environment\", \"Environment\", \"Environment\", \"Environment\", \"Environment\", \"Environment\", \"Environment\", \"Environment\", \"Environment\", \"Road_Surface\", \"Road_Surface\", \"Road_Surface\", \"Road_Surface\", \"Road_Surface\", \"Road_Surface\", \"Road_Surface\", \"Road_Surface\", \"Road_Surface\", \"Road_Surface\", \"Traffic_Control\", \"Traffic_Control\", \"Traffic_Control\", \"Traffic_Control\", \"Traffic_Control\", \"Traffic_Control\", \"Traffic_Control\", \"Traffic_Control\", \"Traffic_Control\", \"Traffic_Control\", \"Collision_Location\", \"Collision_Location\", \"Collision_Location\", \"Collision_Location\", \"Collision_Location\", \"Collision_Location\", \"Collision_Location\", \"Collision_Location\", \"Collision_Location\", \"Collision_Location\", \"Light\", \"Light\", \"Light\", \"Light\", \"Light\", \"Light\", \"Light\", \"Light\", \"Light\", \"Light\", \"Collision_Classification\", \"Collision_Classification\", \"Collision_Classification\", \"Collision_Classification\", \"Collision_Classification\", \"Collision_Classification\", \"Collision_Classification\", \"Collision_Classification\", \"Collision_Classification\", \"Collision_Classification\", \"Impact_type\", \"Impact_type\", \"Impact_type\", \"Impact_type\", \"Impact_type\", \"Impact_type\", \"Impact_type\", \"Impact_type\", \"Impact_type\", \"Impact_type\", \"Year\", \"Year\", \"Year\", \"Year\", \"Year\", \"Year\", \"Year\", \"Year\", \"Year\", \"Year\", \"Month\", \"Month\", \"Month\", \"Month\", \"Month\", \"Month\", \"Month\", \"Month\", \"Month\", \"Month\", \"Day_Of_Week\", \"Day_Of_Week\", \"Day_Of_Week\", \"Day_Of_Week\", \"Day_Of_Week\", \"Day_Of_Week\", \"Day_Of_Week\", \"Day_Of_Week\", \"Day_Of_Week\", \"Day_Of_Week\"], \"z\": [1.0, 0.4072369871834664, 0.033658568702857765, 0.023043484396722345, -0.013634229253574668, 0.03273212566175706, -0.06581427651067992, 0.028876502298970343, 0.04219170090590787, 0.025751597182446254, 0.4072369871834664, 1.0, 0.05270146278013149, 0.028649421989299307, 0.00651864901992285, 0.062297046860876726, -0.0669126410196724, 0.027234100090145378, 0.0029508840422938715, 0.02617721935923829, 0.033658568702857765, 0.05270146278013149, 1.0, -0.14371149051935012, 0.026916532310199314, 0.03340667557890571, -0.17986796859411552, 0.006067794675924021, -0.0003933954692235262, -0.00541348964140966, 0.023043484396722345, 0.028649421989299307, -0.14371149051935012, 1.0, 0.04273809021434376, 0.11605698678456294, 0.4777046297582626, 0.004390012252474468, -0.002105944826842248, 0.005891089242072931, -0.013634229253574668, 0.00651864901992285, 0.026916532310199314, 0.04273809021434376, 1.0, 0.041628200000074875, 0.06146340186068619, 0.016489016697336514, -0.009448587352404014, 0.01572430615577022, 0.03273212566175706, 0.062297046860876726, 0.03340667557890571, 0.11605698678456294, 0.041628200000074875, 1.0, 0.08129056268538229, -0.012735210263866151, 0.011433474826105242, 0.0021054966076073777, -0.06581427651067992, -0.0669126410196724, -0.17986796859411552, 0.4777046297582626, 0.06146340186068619, 0.08129056268538229, 1.0, 0.0017803502166531932, -0.0129583547807179, 0.023057006767220358, 0.028876502298970343, 0.027234100090145378, 0.006067794675924021, 0.004390012252474468, 0.016489016697336514, -0.012735210263866151, 0.0017803502166531932, 1.0, 0.007459604749502657, 0.006354850584136215, 0.04219170090590787, 0.0029508840422938715, -0.0003933954692235262, -0.002105944826842248, -0.009448587352404014, 0.011433474826105242, -0.0129583547807179, 0.007459604749502657, 1.0, -0.009905689285280664, 0.025751597182446254, 0.02617721935923829, -0.00541348964140966, 0.005891089242072931, 0.01572430615577022, 0.0021054966076073777, 0.023057006767220358, 0.006354850584136215, -0.009905689285280664, 1.0], \"type\": \"heatmap\", \"uid\": \"a9be017e-a722-11e8-9fa6-0800275aa47c\"}], {}, {\"linkText\": \"Export to plot.ly\", \"showLink\": true})});</script>"
      ],
      "text/vnd.plotly.v1+html": [
       "<div id=\"06033ca4-9f0b-488d-8822-ee58d8115e8d\" style=\"height: 525px; width: 100%;\" class=\"plotly-graph-div\"></div><script type=\"text/javascript\">require([\"plotly\"], function(Plotly) { window.PLOTLYENV=window.PLOTLYENV || {};window.PLOTLYENV.BASE_URL=\"https://plot.ly\";Plotly.newPlot(\"06033ca4-9f0b-488d-8822-ee58d8115e8d\", [{\"y\": [\"Environment\", \"Road_Surface\", \"Traffic_Control\", \"Collision_Location\", \"Light\", \"Collision_Classification\", \"Impact_type\", \"Year\", \"Month\", \"Day_Of_Week\", \"Environment\", \"Road_Surface\", \"Traffic_Control\", \"Collision_Location\", \"Light\", \"Collision_Classification\", \"Impact_type\", \"Year\", \"Month\", \"Day_Of_Week\", \"Environment\", \"Road_Surface\", \"Traffic_Control\", \"Collision_Location\", \"Light\", \"Collision_Classification\", \"Impact_type\", \"Year\", \"Month\", \"Day_Of_Week\", \"Environment\", \"Road_Surface\", \"Traffic_Control\", \"Collision_Location\", \"Light\", \"Collision_Classification\", \"Impact_type\", \"Year\", \"Month\", \"Day_Of_Week\", \"Environment\", \"Road_Surface\", \"Traffic_Control\", \"Collision_Location\", \"Light\", \"Collision_Classification\", \"Impact_type\", \"Year\", \"Month\", \"Day_Of_Week\", \"Environment\", \"Road_Surface\", \"Traffic_Control\", \"Collision_Location\", \"Light\", \"Collision_Classification\", \"Impact_type\", \"Year\", \"Month\", \"Day_Of_Week\", \"Environment\", \"Road_Surface\", \"Traffic_Control\", \"Collision_Location\", \"Light\", \"Collision_Classification\", \"Impact_type\", \"Year\", \"Month\", \"Day_Of_Week\", \"Environment\", \"Road_Surface\", \"Traffic_Control\", \"Collision_Location\", \"Light\", \"Collision_Classification\", \"Impact_type\", \"Year\", \"Month\", \"Day_Of_Week\", \"Environment\", \"Road_Surface\", \"Traffic_Control\", \"Collision_Location\", \"Light\", \"Collision_Classification\", \"Impact_type\", \"Year\", \"Month\", \"Day_Of_Week\", \"Environment\", \"Road_Surface\", \"Traffic_Control\", \"Collision_Location\", \"Light\", \"Collision_Classification\", \"Impact_type\", \"Year\", \"Month\", \"Day_Of_Week\"], \"x\": [\"Environment\", \"Environment\", \"Environment\", \"Environment\", \"Environment\", \"Environment\", \"Environment\", \"Environment\", \"Environment\", \"Environment\", \"Road_Surface\", \"Road_Surface\", \"Road_Surface\", \"Road_Surface\", \"Road_Surface\", \"Road_Surface\", \"Road_Surface\", \"Road_Surface\", \"Road_Surface\", \"Road_Surface\", \"Traffic_Control\", \"Traffic_Control\", \"Traffic_Control\", \"Traffic_Control\", \"Traffic_Control\", \"Traffic_Control\", \"Traffic_Control\", \"Traffic_Control\", \"Traffic_Control\", \"Traffic_Control\", \"Collision_Location\", \"Collision_Location\", \"Collision_Location\", \"Collision_Location\", \"Collision_Location\", \"Collision_Location\", \"Collision_Location\", \"Collision_Location\", \"Collision_Location\", \"Collision_Location\", \"Light\", \"Light\", \"Light\", \"Light\", \"Light\", \"Light\", \"Light\", \"Light\", \"Light\", \"Light\", \"Collision_Classification\", \"Collision_Classification\", \"Collision_Classification\", \"Collision_Classification\", \"Collision_Classification\", \"Collision_Classification\", \"Collision_Classification\", \"Collision_Classification\", \"Collision_Classification\", \"Collision_Classification\", \"Impact_type\", \"Impact_type\", \"Impact_type\", \"Impact_type\", \"Impact_type\", \"Impact_type\", \"Impact_type\", \"Impact_type\", \"Impact_type\", \"Impact_type\", \"Year\", \"Year\", \"Year\", \"Year\", \"Year\", \"Year\", \"Year\", \"Year\", \"Year\", \"Year\", \"Month\", \"Month\", \"Month\", \"Month\", \"Month\", \"Month\", \"Month\", \"Month\", \"Month\", \"Month\", \"Day_Of_Week\", \"Day_Of_Week\", \"Day_Of_Week\", \"Day_Of_Week\", \"Day_Of_Week\", \"Day_Of_Week\", \"Day_Of_Week\", \"Day_Of_Week\", \"Day_Of_Week\", \"Day_Of_Week\"], \"z\": [1.0, 0.4072369871834664, 0.033658568702857765, 0.023043484396722345, -0.013634229253574668, 0.03273212566175706, -0.06581427651067992, 0.028876502298970343, 0.04219170090590787, 0.025751597182446254, 0.4072369871834664, 1.0, 0.05270146278013149, 0.028649421989299307, 0.00651864901992285, 0.062297046860876726, -0.0669126410196724, 0.027234100090145378, 0.0029508840422938715, 0.02617721935923829, 0.033658568702857765, 0.05270146278013149, 1.0, -0.14371149051935012, 0.026916532310199314, 0.03340667557890571, -0.17986796859411552, 0.006067794675924021, -0.0003933954692235262, -0.00541348964140966, 0.023043484396722345, 0.028649421989299307, -0.14371149051935012, 1.0, 0.04273809021434376, 0.11605698678456294, 0.4777046297582626, 0.004390012252474468, -0.002105944826842248, 0.005891089242072931, -0.013634229253574668, 0.00651864901992285, 0.026916532310199314, 0.04273809021434376, 1.0, 0.041628200000074875, 0.06146340186068619, 0.016489016697336514, -0.009448587352404014, 0.01572430615577022, 0.03273212566175706, 0.062297046860876726, 0.03340667557890571, 0.11605698678456294, 0.041628200000074875, 1.0, 0.08129056268538229, -0.012735210263866151, 0.011433474826105242, 0.0021054966076073777, -0.06581427651067992, -0.0669126410196724, -0.17986796859411552, 0.4777046297582626, 0.06146340186068619, 0.08129056268538229, 1.0, 0.0017803502166531932, -0.0129583547807179, 0.023057006767220358, 0.028876502298970343, 0.027234100090145378, 0.006067794675924021, 0.004390012252474468, 0.016489016697336514, -0.012735210263866151, 0.0017803502166531932, 1.0, 0.007459604749502657, 0.006354850584136215, 0.04219170090590787, 0.0029508840422938715, -0.0003933954692235262, -0.002105944826842248, -0.009448587352404014, 0.011433474826105242, -0.0129583547807179, 0.007459604749502657, 1.0, -0.009905689285280664, 0.025751597182446254, 0.02617721935923829, -0.00541348964140966, 0.005891089242072931, 0.01572430615577022, 0.0021054966076073777, 0.023057006767220358, 0.006354850584136215, -0.009905689285280664, 1.0], \"type\": \"heatmap\", \"uid\": \"a9be017e-a722-11e8-9fa6-0800275aa47c\"}], {}, {\"linkText\": \"Export to plot.ly\", \"showLink\": true})});</script>"
      ]
     },
     "metadata": {},
     "output_type": "display_data"
    }
   ],
   "source": [
    "df_inLongList = df_corr.stack(dropna = False).reset_index(name='Correlation')\n",
    "trace = go.Heatmap(x = df_inLongList['level_0'], y = df_inLongList['level_1'], z = df_inLongList['Correlation'])\n",
    "iplot([trace])"
   ]
  },
  {
   "cell_type": "markdown",
   "metadata": {},
   "source": [
    "**Brief Conclusion:**\n",
    "* Independent variables which are related to correlation might leave some effects on each other if one of them changes. For example, rainy environment -> wet road surface. \n",
    "* Then, sometimes it's better to analyze the relationship between the dependent variable and the group of correlated variables together. \n",
    "* According to the pattern of the heatmap, there is a slight correlation between 2 groups: **Environment** and **Road_Surface**, **Collision_Location** and **Impact_type**. "
   ]
  },
  {
   "cell_type": "code",
   "execution_count": 21,
   "metadata": {},
   "outputs": [],
   "source": [
    "def corrAnalysis(df, var1, var2):\n",
    "    tmpdf = pd.crosstab(index = df[var1], \n",
    "                        columns = df[var2], \n",
    "                        dropna = False).stack(dropna = False).reset_index(name='# of Cases')\n",
    "    trace = go.Heatmap(x = tmpdf[var1], y = tmpdf[var2], z = tmpdf['# of Cases'])\n",
    "    iplot([trace])"
   ]
  },
  {
   "cell_type": "markdown",
   "metadata": {},
   "source": [
    "### 3.1.1 Environment and Road_Surface"
   ]
  },
  {
   "cell_type": "code",
   "execution_count": 25,
   "metadata": {},
   "outputs": [
    {
     "data": {
      "application/vnd.plotly.v1+json": {
       "data": [
        {
         "type": "heatmap",
         "uid": "b30331aa-a722-11e8-9fa6-0800275aa47c",
         "x": [
          "00 - Unknown",
          "00 - Unknown",
          "00 - Unknown",
          "00 - Unknown",
          "00 - Unknown",
          "00 - Unknown",
          "00 - Unknown",
          "00 - Unknown",
          "00 - Unknown",
          "00 - Unknown",
          "00 - Unknown",
          "01 - Clear",
          "01 - Clear",
          "01 - Clear",
          "01 - Clear",
          "01 - Clear",
          "01 - Clear",
          "01 - Clear",
          "01 - Clear",
          "01 - Clear",
          "01 - Clear",
          "01 - Clear",
          "02 - Rain",
          "02 - Rain",
          "02 - Rain",
          "02 - Rain",
          "02 - Rain",
          "02 - Rain",
          "02 - Rain",
          "02 - Rain",
          "02 - Rain",
          "02 - Rain",
          "02 - Rain",
          "03 - Snow",
          "03 - Snow",
          "03 - Snow",
          "03 - Snow",
          "03 - Snow",
          "03 - Snow",
          "03 - Snow",
          "03 - Snow",
          "03 - Snow",
          "03 - Snow",
          "03 - Snow",
          "04 - Freezing Rain",
          "04 - Freezing Rain",
          "04 - Freezing Rain",
          "04 - Freezing Rain",
          "04 - Freezing Rain",
          "04 - Freezing Rain",
          "04 - Freezing Rain",
          "04 - Freezing Rain",
          "04 - Freezing Rain",
          "04 - Freezing Rain",
          "04 - Freezing Rain",
          "05 - Drifting Snow",
          "05 - Drifting Snow",
          "05 - Drifting Snow",
          "05 - Drifting Snow",
          "05 - Drifting Snow",
          "05 - Drifting Snow",
          "05 - Drifting Snow",
          "05 - Drifting Snow",
          "05 - Drifting Snow",
          "05 - Drifting Snow",
          "05 - Drifting Snow",
          "06 - Strong wind",
          "06 - Strong wind",
          "06 - Strong wind",
          "06 - Strong wind",
          "06 - Strong wind",
          "06 - Strong wind",
          "06 - Strong wind",
          "06 - Strong wind",
          "06 - Strong wind",
          "06 - Strong wind",
          "06 - Strong wind",
          "07 - Fog, mist, smoke, dust",
          "07 - Fog, mist, smoke, dust",
          "07 - Fog, mist, smoke, dust",
          "07 - Fog, mist, smoke, dust",
          "07 - Fog, mist, smoke, dust",
          "07 - Fog, mist, smoke, dust",
          "07 - Fog, mist, smoke, dust",
          "07 - Fog, mist, smoke, dust",
          "07 - Fog, mist, smoke, dust",
          "07 - Fog, mist, smoke, dust",
          "07 - Fog, mist, smoke, dust",
          "99 - Other",
          "99 - Other",
          "99 - Other",
          "99 - Other",
          "99 - Other",
          "99 - Other",
          "99 - Other",
          "99 - Other",
          "99 - Other",
          "99 - Other",
          "99 - Other"
         ],
         "y": [
          "00 - Unknown",
          "01 - Dry",
          "02 - Wet",
          "03 - Loose snow",
          "04 - Slush",
          "05 - Packed snow",
          "06 - Ice",
          "07 - Mud",
          "08 - Loose sand or gravel",
          "09 - Spilled liquid",
          "99 - Other",
          "00 - Unknown",
          "01 - Dry",
          "02 - Wet",
          "03 - Loose snow",
          "04 - Slush",
          "05 - Packed snow",
          "06 - Ice",
          "07 - Mud",
          "08 - Loose sand or gravel",
          "09 - Spilled liquid",
          "99 - Other",
          "00 - Unknown",
          "01 - Dry",
          "02 - Wet",
          "03 - Loose snow",
          "04 - Slush",
          "05 - Packed snow",
          "06 - Ice",
          "07 - Mud",
          "08 - Loose sand or gravel",
          "09 - Spilled liquid",
          "99 - Other",
          "00 - Unknown",
          "01 - Dry",
          "02 - Wet",
          "03 - Loose snow",
          "04 - Slush",
          "05 - Packed snow",
          "06 - Ice",
          "07 - Mud",
          "08 - Loose sand or gravel",
          "09 - Spilled liquid",
          "99 - Other",
          "00 - Unknown",
          "01 - Dry",
          "02 - Wet",
          "03 - Loose snow",
          "04 - Slush",
          "05 - Packed snow",
          "06 - Ice",
          "07 - Mud",
          "08 - Loose sand or gravel",
          "09 - Spilled liquid",
          "99 - Other",
          "00 - Unknown",
          "01 - Dry",
          "02 - Wet",
          "03 - Loose snow",
          "04 - Slush",
          "05 - Packed snow",
          "06 - Ice",
          "07 - Mud",
          "08 - Loose sand or gravel",
          "09 - Spilled liquid",
          "99 - Other",
          "00 - Unknown",
          "01 - Dry",
          "02 - Wet",
          "03 - Loose snow",
          "04 - Slush",
          "05 - Packed snow",
          "06 - Ice",
          "07 - Mud",
          "08 - Loose sand or gravel",
          "09 - Spilled liquid",
          "99 - Other",
          "00 - Unknown",
          "01 - Dry",
          "02 - Wet",
          "03 - Loose snow",
          "04 - Slush",
          "05 - Packed snow",
          "06 - Ice",
          "07 - Mud",
          "08 - Loose sand or gravel",
          "09 - Spilled liquid",
          "99 - Other",
          "00 - Unknown",
          "01 - Dry",
          "02 - Wet",
          "03 - Loose snow",
          "04 - Slush",
          "05 - Packed snow",
          "06 - Ice",
          "07 - Mud",
          "08 - Loose sand or gravel",
          "09 - Spilled liquid",
          "99 - Other"
         ],
         "z": [
          22,
          18,
          6,
          5,
          0,
          1,
          11,
          0,
          0,
          0,
          4,
          26,
          38232,
          4121,
          706,
          691,
          643,
          1422,
          5,
          51,
          3,
          29,
          1,
          0,
          5203,
          47,
          89,
          10,
          79,
          0,
          2,
          1,
          1,
          0,
          13,
          620,
          2917,
          840,
          700,
          570,
          0,
          3,
          0,
          1,
          0,
          0,
          65,
          29,
          114,
          18,
          444,
          0,
          0,
          0,
          2,
          0,
          4,
          14,
          130,
          18,
          60,
          78,
          0,
          0,
          0,
          0,
          0,
          11,
          17,
          7,
          5,
          10,
          36,
          0,
          0,
          0,
          0,
          0,
          81,
          71,
          2,
          2,
          1,
          6,
          0,
          0,
          0,
          1,
          0,
          3,
          6,
          1,
          1,
          0,
          4,
          0,
          0,
          0,
          3
         ]
        }
       ],
       "layout": {}
      },
      "text/html": [
       "<div id=\"72b52b9a-f6f1-4fba-97f4-66b4cd209723\" style=\"height: 525px; width: 100%;\" class=\"plotly-graph-div\"></div><script type=\"text/javascript\">require([\"plotly\"], function(Plotly) { window.PLOTLYENV=window.PLOTLYENV || {};window.PLOTLYENV.BASE_URL=\"https://plot.ly\";Plotly.newPlot(\"72b52b9a-f6f1-4fba-97f4-66b4cd209723\", [{\"y\": [\"00 - Unknown\", \"01 - Dry\", \"02 - Wet\", \"03 - Loose snow\", \"04 - Slush\", \"05 - Packed snow\", \"06 - Ice\", \"07 - Mud\", \"08 - Loose sand or gravel\", \"09 - Spilled liquid\", \"99 - Other\", \"00 - Unknown\", \"01 - Dry\", \"02 - Wet\", \"03 - Loose snow\", \"04 - Slush\", \"05 - Packed snow\", \"06 - Ice\", \"07 - Mud\", \"08 - Loose sand or gravel\", \"09 - Spilled liquid\", \"99 - Other\", \"00 - Unknown\", \"01 - Dry\", \"02 - Wet\", \"03 - Loose snow\", \"04 - Slush\", \"05 - Packed snow\", \"06 - Ice\", \"07 - Mud\", \"08 - Loose sand or gravel\", \"09 - Spilled liquid\", \"99 - Other\", \"00 - Unknown\", \"01 - Dry\", \"02 - Wet\", \"03 - Loose snow\", \"04 - Slush\", \"05 - Packed snow\", \"06 - Ice\", \"07 - Mud\", \"08 - Loose sand or gravel\", \"09 - Spilled liquid\", \"99 - Other\", \"00 - Unknown\", \"01 - Dry\", \"02 - Wet\", \"03 - Loose snow\", \"04 - Slush\", \"05 - Packed snow\", \"06 - Ice\", \"07 - Mud\", \"08 - Loose sand or gravel\", \"09 - Spilled liquid\", \"99 - Other\", \"00 - Unknown\", \"01 - Dry\", \"02 - Wet\", \"03 - Loose snow\", \"04 - Slush\", \"05 - Packed snow\", \"06 - Ice\", \"07 - Mud\", \"08 - Loose sand or gravel\", \"09 - Spilled liquid\", \"99 - Other\", \"00 - Unknown\", \"01 - Dry\", \"02 - Wet\", \"03 - Loose snow\", \"04 - Slush\", \"05 - Packed snow\", \"06 - Ice\", \"07 - Mud\", \"08 - Loose sand or gravel\", \"09 - Spilled liquid\", \"99 - Other\", \"00 - Unknown\", \"01 - Dry\", \"02 - Wet\", \"03 - Loose snow\", \"04 - Slush\", \"05 - Packed snow\", \"06 - Ice\", \"07 - Mud\", \"08 - Loose sand or gravel\", \"09 - Spilled liquid\", \"99 - Other\", \"00 - Unknown\", \"01 - Dry\", \"02 - Wet\", \"03 - Loose snow\", \"04 - Slush\", \"05 - Packed snow\", \"06 - Ice\", \"07 - Mud\", \"08 - Loose sand or gravel\", \"09 - Spilled liquid\", \"99 - Other\"], \"x\": [\"00 - Unknown\", \"00 - Unknown\", \"00 - Unknown\", \"00 - Unknown\", \"00 - Unknown\", \"00 - Unknown\", \"00 - Unknown\", \"00 - Unknown\", \"00 - Unknown\", \"00 - Unknown\", \"00 - Unknown\", \"01 - Clear\", \"01 - Clear\", \"01 - Clear\", \"01 - Clear\", \"01 - Clear\", \"01 - Clear\", \"01 - Clear\", \"01 - Clear\", \"01 - Clear\", \"01 - Clear\", \"01 - Clear\", \"02 - Rain\", \"02 - Rain\", \"02 - Rain\", \"02 - Rain\", \"02 - Rain\", \"02 - Rain\", \"02 - Rain\", \"02 - Rain\", \"02 - Rain\", \"02 - Rain\", \"02 - Rain\", \"03 - Snow\", \"03 - Snow\", \"03 - Snow\", \"03 - Snow\", \"03 - Snow\", \"03 - Snow\", \"03 - Snow\", \"03 - Snow\", \"03 - Snow\", \"03 - Snow\", \"03 - Snow\", \"04 - Freezing Rain\", \"04 - Freezing Rain\", \"04 - Freezing Rain\", \"04 - Freezing Rain\", \"04 - Freezing Rain\", \"04 - Freezing Rain\", \"04 - Freezing Rain\", \"04 - Freezing Rain\", \"04 - Freezing Rain\", \"04 - Freezing Rain\", \"04 - Freezing Rain\", \"05 - Drifting Snow\", \"05 - Drifting Snow\", \"05 - Drifting Snow\", \"05 - Drifting Snow\", \"05 - Drifting Snow\", \"05 - Drifting Snow\", \"05 - Drifting Snow\", \"05 - Drifting Snow\", \"05 - Drifting Snow\", \"05 - Drifting Snow\", \"05 - Drifting Snow\", \"06 - Strong wind\", \"06 - Strong wind\", \"06 - Strong wind\", \"06 - Strong wind\", \"06 - Strong wind\", \"06 - Strong wind\", \"06 - Strong wind\", \"06 - Strong wind\", \"06 - Strong wind\", \"06 - Strong wind\", \"06 - Strong wind\", \"07 - Fog, mist, smoke, dust\", \"07 - Fog, mist, smoke, dust\", \"07 - Fog, mist, smoke, dust\", \"07 - Fog, mist, smoke, dust\", \"07 - Fog, mist, smoke, dust\", \"07 - Fog, mist, smoke, dust\", \"07 - Fog, mist, smoke, dust\", \"07 - Fog, mist, smoke, dust\", \"07 - Fog, mist, smoke, dust\", \"07 - Fog, mist, smoke, dust\", \"07 - Fog, mist, smoke, dust\", \"99 - Other\", \"99 - Other\", \"99 - Other\", \"99 - Other\", \"99 - Other\", \"99 - Other\", \"99 - Other\", \"99 - Other\", \"99 - Other\", \"99 - Other\", \"99 - Other\"], \"z\": [22.0, 18.0, 6.0, 5.0, 0.0, 1.0, 11.0, 0.0, 0.0, 0.0, 4.0, 26.0, 38232.0, 4121.0, 706.0, 691.0, 643.0, 1422.0, 5.0, 51.0, 3.0, 29.0, 1.0, 0.0, 5203.0, 47.0, 89.0, 10.0, 79.0, 0.0, 2.0, 1.0, 1.0, 0.0, 13.0, 620.0, 2917.0, 840.0, 700.0, 570.0, 0.0, 3.0, 0.0, 1.0, 0.0, 0.0, 65.0, 29.0, 114.0, 18.0, 444.0, 0.0, 0.0, 0.0, 2.0, 0.0, 4.0, 14.0, 130.0, 18.0, 60.0, 78.0, 0.0, 0.0, 0.0, 0.0, 0.0, 11.0, 17.0, 7.0, 5.0, 10.0, 36.0, 0.0, 0.0, 0.0, 0.0, 0.0, 81.0, 71.0, 2.0, 2.0, 1.0, 6.0, 0.0, 0.0, 0.0, 1.0, 0.0, 3.0, 6.0, 1.0, 1.0, 0.0, 4.0, 0.0, 0.0, 0.0, 3.0], \"type\": \"heatmap\", \"uid\": \"b306600a-a722-11e8-9fa6-0800275aa47c\"}], {}, {\"linkText\": \"Export to plot.ly\", \"showLink\": true})});</script>"
      ],
      "text/vnd.plotly.v1+html": [
       "<div id=\"72b52b9a-f6f1-4fba-97f4-66b4cd209723\" style=\"height: 525px; width: 100%;\" class=\"plotly-graph-div\"></div><script type=\"text/javascript\">require([\"plotly\"], function(Plotly) { window.PLOTLYENV=window.PLOTLYENV || {};window.PLOTLYENV.BASE_URL=\"https://plot.ly\";Plotly.newPlot(\"72b52b9a-f6f1-4fba-97f4-66b4cd209723\", [{\"y\": [\"00 - Unknown\", \"01 - Dry\", \"02 - Wet\", \"03 - Loose snow\", \"04 - Slush\", \"05 - Packed snow\", \"06 - Ice\", \"07 - Mud\", \"08 - Loose sand or gravel\", \"09 - Spilled liquid\", \"99 - Other\", \"00 - Unknown\", \"01 - Dry\", \"02 - Wet\", \"03 - Loose snow\", \"04 - Slush\", \"05 - Packed snow\", \"06 - Ice\", \"07 - Mud\", \"08 - Loose sand or gravel\", \"09 - Spilled liquid\", \"99 - Other\", \"00 - Unknown\", \"01 - Dry\", \"02 - Wet\", \"03 - Loose snow\", \"04 - Slush\", \"05 - Packed snow\", \"06 - Ice\", \"07 - Mud\", \"08 - Loose sand or gravel\", \"09 - Spilled liquid\", \"99 - Other\", \"00 - Unknown\", \"01 - Dry\", \"02 - Wet\", \"03 - Loose snow\", \"04 - Slush\", \"05 - Packed snow\", \"06 - Ice\", \"07 - Mud\", \"08 - Loose sand or gravel\", \"09 - Spilled liquid\", \"99 - Other\", \"00 - Unknown\", \"01 - Dry\", \"02 - Wet\", \"03 - Loose snow\", \"04 - Slush\", \"05 - Packed snow\", \"06 - Ice\", \"07 - Mud\", \"08 - Loose sand or gravel\", \"09 - Spilled liquid\", \"99 - Other\", \"00 - Unknown\", \"01 - Dry\", \"02 - Wet\", \"03 - Loose snow\", \"04 - Slush\", \"05 - Packed snow\", \"06 - Ice\", \"07 - Mud\", \"08 - Loose sand or gravel\", \"09 - Spilled liquid\", \"99 - Other\", \"00 - Unknown\", \"01 - Dry\", \"02 - Wet\", \"03 - Loose snow\", \"04 - Slush\", \"05 - Packed snow\", \"06 - Ice\", \"07 - Mud\", \"08 - Loose sand or gravel\", \"09 - Spilled liquid\", \"99 - Other\", \"00 - Unknown\", \"01 - Dry\", \"02 - Wet\", \"03 - Loose snow\", \"04 - Slush\", \"05 - Packed snow\", \"06 - Ice\", \"07 - Mud\", \"08 - Loose sand or gravel\", \"09 - Spilled liquid\", \"99 - Other\", \"00 - Unknown\", \"01 - Dry\", \"02 - Wet\", \"03 - Loose snow\", \"04 - Slush\", \"05 - Packed snow\", \"06 - Ice\", \"07 - Mud\", \"08 - Loose sand or gravel\", \"09 - Spilled liquid\", \"99 - Other\"], \"x\": [\"00 - Unknown\", \"00 - Unknown\", \"00 - Unknown\", \"00 - Unknown\", \"00 - Unknown\", \"00 - Unknown\", \"00 - Unknown\", \"00 - Unknown\", \"00 - Unknown\", \"00 - Unknown\", \"00 - Unknown\", \"01 - Clear\", \"01 - Clear\", \"01 - Clear\", \"01 - Clear\", \"01 - Clear\", \"01 - Clear\", \"01 - Clear\", \"01 - Clear\", \"01 - Clear\", \"01 - Clear\", \"01 - Clear\", \"02 - Rain\", \"02 - Rain\", \"02 - Rain\", \"02 - Rain\", \"02 - Rain\", \"02 - Rain\", \"02 - Rain\", \"02 - Rain\", \"02 - Rain\", \"02 - Rain\", \"02 - Rain\", \"03 - Snow\", \"03 - Snow\", \"03 - Snow\", \"03 - Snow\", \"03 - Snow\", \"03 - Snow\", \"03 - Snow\", \"03 - Snow\", \"03 - Snow\", \"03 - Snow\", \"03 - Snow\", \"04 - Freezing Rain\", \"04 - Freezing Rain\", \"04 - Freezing Rain\", \"04 - Freezing Rain\", \"04 - Freezing Rain\", \"04 - Freezing Rain\", \"04 - Freezing Rain\", \"04 - Freezing Rain\", \"04 - Freezing Rain\", \"04 - Freezing Rain\", \"04 - Freezing Rain\", \"05 - Drifting Snow\", \"05 - Drifting Snow\", \"05 - Drifting Snow\", \"05 - Drifting Snow\", \"05 - Drifting Snow\", \"05 - Drifting Snow\", \"05 - Drifting Snow\", \"05 - Drifting Snow\", \"05 - Drifting Snow\", \"05 - Drifting Snow\", \"05 - Drifting Snow\", \"06 - Strong wind\", \"06 - Strong wind\", \"06 - Strong wind\", \"06 - Strong wind\", \"06 - Strong wind\", \"06 - Strong wind\", \"06 - Strong wind\", \"06 - Strong wind\", \"06 - Strong wind\", \"06 - Strong wind\", \"06 - Strong wind\", \"07 - Fog, mist, smoke, dust\", \"07 - Fog, mist, smoke, dust\", \"07 - Fog, mist, smoke, dust\", \"07 - Fog, mist, smoke, dust\", \"07 - Fog, mist, smoke, dust\", \"07 - Fog, mist, smoke, dust\", \"07 - Fog, mist, smoke, dust\", \"07 - Fog, mist, smoke, dust\", \"07 - Fog, mist, smoke, dust\", \"07 - Fog, mist, smoke, dust\", \"07 - Fog, mist, smoke, dust\", \"99 - Other\", \"99 - Other\", \"99 - Other\", \"99 - Other\", \"99 - Other\", \"99 - Other\", \"99 - Other\", \"99 - Other\", \"99 - Other\", \"99 - Other\", \"99 - Other\"], \"z\": [22.0, 18.0, 6.0, 5.0, 0.0, 1.0, 11.0, 0.0, 0.0, 0.0, 4.0, 26.0, 38232.0, 4121.0, 706.0, 691.0, 643.0, 1422.0, 5.0, 51.0, 3.0, 29.0, 1.0, 0.0, 5203.0, 47.0, 89.0, 10.0, 79.0, 0.0, 2.0, 1.0, 1.0, 0.0, 13.0, 620.0, 2917.0, 840.0, 700.0, 570.0, 0.0, 3.0, 0.0, 1.0, 0.0, 0.0, 65.0, 29.0, 114.0, 18.0, 444.0, 0.0, 0.0, 0.0, 2.0, 0.0, 4.0, 14.0, 130.0, 18.0, 60.0, 78.0, 0.0, 0.0, 0.0, 0.0, 0.0, 11.0, 17.0, 7.0, 5.0, 10.0, 36.0, 0.0, 0.0, 0.0, 0.0, 0.0, 81.0, 71.0, 2.0, 2.0, 1.0, 6.0, 0.0, 0.0, 0.0, 1.0, 0.0, 3.0, 6.0, 1.0, 1.0, 0.0, 4.0, 0.0, 0.0, 0.0, 3.0], \"type\": \"heatmap\", \"uid\": \"b306600a-a722-11e8-9fa6-0800275aa47c\"}], {}, {\"linkText\": \"Export to plot.ly\", \"showLink\": true})});</script>"
      ]
     },
     "metadata": {},
     "output_type": "display_data"
    }
   ],
   "source": [
    "corrAnalysis(df_csv1417,'Environment','Road_Surface')"
   ]
  },
  {
   "cell_type": "markdown",
   "metadata": {},
   "source": [
    "### Brief Conclusion: \n",
    "* Even though most of cases happens in the combination of dry and clear situation, but since the most common weather in Ottawa is dry and clear, this result is not so representative."
   ]
  },
  {
   "cell_type": "markdown",
   "metadata": {},
   "source": [
    "### 3.1.2 Collision_Location and Impact_type"
   ]
  },
  {
   "cell_type": "code",
   "execution_count": 26,
   "metadata": {},
   "outputs": [
    {
     "data": {
      "application/vnd.plotly.v1+json": {
       "data": [
        {
         "type": "heatmap",
         "uid": "b343efd8-a722-11e8-9fa6-0800275aa47c",
         "x": [
          "01 - Non intersection",
          "01 - Non intersection",
          "01 - Non intersection",
          "01 - Non intersection",
          "01 - Non intersection",
          "01 - Non intersection",
          "01 - Non intersection",
          "01 - Non intersection",
          "02 - Intersection related",
          "02 - Intersection related",
          "02 - Intersection related",
          "02 - Intersection related",
          "02 - Intersection related",
          "02 - Intersection related",
          "02 - Intersection related",
          "02 - Intersection related",
          "03 - At intersection",
          "03 - At intersection",
          "03 - At intersection",
          "03 - At intersection",
          "03 - At intersection",
          "03 - At intersection",
          "03 - At intersection",
          "03 - At intersection",
          "04 - At/near private drive",
          "04 - At/near private drive",
          "04 - At/near private drive",
          "04 - At/near private drive",
          "04 - At/near private drive",
          "04 - At/near private drive",
          "04 - At/near private drive",
          "04 - At/near private drive",
          "05 - At railway crossing",
          "05 - At railway crossing",
          "05 - At railway crossing",
          "05 - At railway crossing",
          "05 - At railway crossing",
          "05 - At railway crossing",
          "05 - At railway crossing",
          "05 - At railway crossing",
          "06 - Underpass or tunnel",
          "06 - Underpass or tunnel",
          "06 - Underpass or tunnel",
          "06 - Underpass or tunnel",
          "06 - Underpass or tunnel",
          "06 - Underpass or tunnel",
          "06 - Underpass or tunnel",
          "06 - Underpass or tunnel",
          "07 - Overpass or bridge",
          "07 - Overpass or bridge",
          "07 - Overpass or bridge",
          "07 - Overpass or bridge",
          "07 - Overpass or bridge",
          "07 - Overpass or bridge",
          "07 - Overpass or bridge",
          "07 - Overpass or bridge",
          "98 - Other",
          "98 - Other",
          "98 - Other",
          "98 - Other",
          "98 - Other",
          "98 - Other",
          "98 - Other",
          "98 - Other",
          "99 - Other",
          "99 - Other",
          "99 - Other",
          "99 - Other",
          "99 - Other",
          "99 - Other",
          "99 - Other",
          "99 - Other"
         ],
         "y": [
          "01 - Approaching",
          "02 - Angle",
          "03 - Rear end",
          "04 - Sideswipe",
          "05 - Turning movement",
          "06 - SMV unattended vehicle",
          "07 - SMV other",
          "99 - Other",
          "01 - Approaching",
          "02 - Angle",
          "03 - Rear end",
          "04 - Sideswipe",
          "05 - Turning movement",
          "06 - SMV unattended vehicle",
          "07 - SMV other",
          "99 - Other",
          "01 - Approaching",
          "02 - Angle",
          "03 - Rear end",
          "04 - Sideswipe",
          "05 - Turning movement",
          "06 - SMV unattended vehicle",
          "07 - SMV other",
          "99 - Other",
          "01 - Approaching",
          "02 - Angle",
          "03 - Rear end",
          "04 - Sideswipe",
          "05 - Turning movement",
          "06 - SMV unattended vehicle",
          "07 - SMV other",
          "99 - Other",
          "01 - Approaching",
          "02 - Angle",
          "03 - Rear end",
          "04 - Sideswipe",
          "05 - Turning movement",
          "06 - SMV unattended vehicle",
          "07 - SMV other",
          "99 - Other",
          "01 - Approaching",
          "02 - Angle",
          "03 - Rear end",
          "04 - Sideswipe",
          "05 - Turning movement",
          "06 - SMV unattended vehicle",
          "07 - SMV other",
          "99 - Other",
          "01 - Approaching",
          "02 - Angle",
          "03 - Rear end",
          "04 - Sideswipe",
          "05 - Turning movement",
          "06 - SMV unattended vehicle",
          "07 - SMV other",
          "99 - Other",
          "01 - Approaching",
          "02 - Angle",
          "03 - Rear end",
          "04 - Sideswipe",
          "05 - Turning movement",
          "06 - SMV unattended vehicle",
          "07 - SMV other",
          "99 - Other",
          "01 - Approaching",
          "02 - Angle",
          "03 - Rear end",
          "04 - Sideswipe",
          "05 - Turning movement",
          "06 - SMV unattended vehicle",
          "07 - SMV other",
          "99 - Other"
         ],
         "z": [
          642,
          116,
          6258,
          3829,
          399,
          3577,
          6612,
          681,
          124,
          851,
          11825,
          2911,
          602,
          193,
          1329,
          445,
          63,
          4944,
          956,
          789,
          4295,
          26,
          1369,
          81,
          18,
          2072,
          529,
          122,
          934,
          921,
          272,
          237,
          0,
          0,
          23,
          1,
          1,
          0,
          8,
          4,
          2,
          0,
          4,
          2,
          1,
          0,
          17,
          3,
          11,
          1,
          139,
          36,
          1,
          0,
          48,
          4,
          0,
          0,
          0,
          0,
          0,
          0,
          2,
          1,
          0,
          0,
          0,
          0,
          0,
          0,
          1,
          0
         ]
        }
       ],
       "layout": {}
      },
      "text/html": [
       "<div id=\"ba07ccc6-79f9-42fb-a44c-8a89285f7445\" style=\"height: 525px; width: 100%;\" class=\"plotly-graph-div\"></div><script type=\"text/javascript\">require([\"plotly\"], function(Plotly) { window.PLOTLYENV=window.PLOTLYENV || {};window.PLOTLYENV.BASE_URL=\"https://plot.ly\";Plotly.newPlot(\"ba07ccc6-79f9-42fb-a44c-8a89285f7445\", [{\"y\": [\"01 - Approaching\", \"02 - Angle\", \"03 - Rear end\", \"04 - Sideswipe\", \"05 - Turning movement\", \"06 - SMV unattended vehicle\", \"07 - SMV other\", \"99 - Other\", \"01 - Approaching\", \"02 - Angle\", \"03 - Rear end\", \"04 - Sideswipe\", \"05 - Turning movement\", \"06 - SMV unattended vehicle\", \"07 - SMV other\", \"99 - Other\", \"01 - Approaching\", \"02 - Angle\", \"03 - Rear end\", \"04 - Sideswipe\", \"05 - Turning movement\", \"06 - SMV unattended vehicle\", \"07 - SMV other\", \"99 - Other\", \"01 - Approaching\", \"02 - Angle\", \"03 - Rear end\", \"04 - Sideswipe\", \"05 - Turning movement\", \"06 - SMV unattended vehicle\", \"07 - SMV other\", \"99 - Other\", \"01 - Approaching\", \"02 - Angle\", \"03 - Rear end\", \"04 - Sideswipe\", \"05 - Turning movement\", \"06 - SMV unattended vehicle\", \"07 - SMV other\", \"99 - Other\", \"01 - Approaching\", \"02 - Angle\", \"03 - Rear end\", \"04 - Sideswipe\", \"05 - Turning movement\", \"06 - SMV unattended vehicle\", \"07 - SMV other\", \"99 - Other\", \"01 - Approaching\", \"02 - Angle\", \"03 - Rear end\", \"04 - Sideswipe\", \"05 - Turning movement\", \"06 - SMV unattended vehicle\", \"07 - SMV other\", \"99 - Other\", \"01 - Approaching\", \"02 - Angle\", \"03 - Rear end\", \"04 - Sideswipe\", \"05 - Turning movement\", \"06 - SMV unattended vehicle\", \"07 - SMV other\", \"99 - Other\", \"01 - Approaching\", \"02 - Angle\", \"03 - Rear end\", \"04 - Sideswipe\", \"05 - Turning movement\", \"06 - SMV unattended vehicle\", \"07 - SMV other\", \"99 - Other\"], \"x\": [\"01 - Non intersection\", \"01 - Non intersection\", \"01 - Non intersection\", \"01 - Non intersection\", \"01 - Non intersection\", \"01 - Non intersection\", \"01 - Non intersection\", \"01 - Non intersection\", \"02 - Intersection related\", \"02 - Intersection related\", \"02 - Intersection related\", \"02 - Intersection related\", \"02 - Intersection related\", \"02 - Intersection related\", \"02 - Intersection related\", \"02 - Intersection related\", \"03 - At intersection\", \"03 - At intersection\", \"03 - At intersection\", \"03 - At intersection\", \"03 - At intersection\", \"03 - At intersection\", \"03 - At intersection\", \"03 - At intersection\", \"04 - At/near private drive\", \"04 - At/near private drive\", \"04 - At/near private drive\", \"04 - At/near private drive\", \"04 - At/near private drive\", \"04 - At/near private drive\", \"04 - At/near private drive\", \"04 - At/near private drive\", \"05 - At railway crossing\", \"05 - At railway crossing\", \"05 - At railway crossing\", \"05 - At railway crossing\", \"05 - At railway crossing\", \"05 - At railway crossing\", \"05 - At railway crossing\", \"05 - At railway crossing\", \"06 - Underpass or tunnel\", \"06 - Underpass or tunnel\", \"06 - Underpass or tunnel\", \"06 - Underpass or tunnel\", \"06 - Underpass or tunnel\", \"06 - Underpass or tunnel\", \"06 - Underpass or tunnel\", \"06 - Underpass or tunnel\", \"07 - Overpass or bridge\", \"07 - Overpass or bridge\", \"07 - Overpass or bridge\", \"07 - Overpass or bridge\", \"07 - Overpass or bridge\", \"07 - Overpass or bridge\", \"07 - Overpass or bridge\", \"07 - Overpass or bridge\", \"98 - Other\", \"98 - Other\", \"98 - Other\", \"98 - Other\", \"98 - Other\", \"98 - Other\", \"98 - Other\", \"98 - Other\", \"99 - Other\", \"99 - Other\", \"99 - Other\", \"99 - Other\", \"99 - Other\", \"99 - Other\", \"99 - Other\", \"99 - Other\"], \"z\": [642.0, 116.0, 6258.0, 3829.0, 399.0, 3577.0, 6612.0, 681.0, 124.0, 851.0, 11825.0, 2911.0, 602.0, 193.0, 1329.0, 445.0, 63.0, 4944.0, 956.0, 789.0, 4295.0, 26.0, 1369.0, 81.0, 18.0, 2072.0, 529.0, 122.0, 934.0, 921.0, 272.0, 237.0, 0.0, 0.0, 23.0, 1.0, 1.0, 0.0, 8.0, 4.0, 2.0, 0.0, 4.0, 2.0, 1.0, 0.0, 17.0, 3.0, 11.0, 1.0, 139.0, 36.0, 1.0, 0.0, 48.0, 4.0, 0.0, 0.0, 0.0, 0.0, 0.0, 0.0, 2.0, 1.0, 0.0, 0.0, 0.0, 0.0, 0.0, 0.0, 1.0, 0.0], \"type\": \"heatmap\", \"uid\": \"b34734e0-a722-11e8-9fa6-0800275aa47c\"}], {}, {\"linkText\": \"Export to plot.ly\", \"showLink\": true})});</script>"
      ],
      "text/vnd.plotly.v1+html": [
       "<div id=\"ba07ccc6-79f9-42fb-a44c-8a89285f7445\" style=\"height: 525px; width: 100%;\" class=\"plotly-graph-div\"></div><script type=\"text/javascript\">require([\"plotly\"], function(Plotly) { window.PLOTLYENV=window.PLOTLYENV || {};window.PLOTLYENV.BASE_URL=\"https://plot.ly\";Plotly.newPlot(\"ba07ccc6-79f9-42fb-a44c-8a89285f7445\", [{\"y\": [\"01 - Approaching\", \"02 - Angle\", \"03 - Rear end\", \"04 - Sideswipe\", \"05 - Turning movement\", \"06 - SMV unattended vehicle\", \"07 - SMV other\", \"99 - Other\", \"01 - Approaching\", \"02 - Angle\", \"03 - Rear end\", \"04 - Sideswipe\", \"05 - Turning movement\", \"06 - SMV unattended vehicle\", \"07 - SMV other\", \"99 - Other\", \"01 - Approaching\", \"02 - Angle\", \"03 - Rear end\", \"04 - Sideswipe\", \"05 - Turning movement\", \"06 - SMV unattended vehicle\", \"07 - SMV other\", \"99 - Other\", \"01 - Approaching\", \"02 - Angle\", \"03 - Rear end\", \"04 - Sideswipe\", \"05 - Turning movement\", \"06 - SMV unattended vehicle\", \"07 - SMV other\", \"99 - Other\", \"01 - Approaching\", \"02 - Angle\", \"03 - Rear end\", \"04 - Sideswipe\", \"05 - Turning movement\", \"06 - SMV unattended vehicle\", \"07 - SMV other\", \"99 - Other\", \"01 - Approaching\", \"02 - Angle\", \"03 - Rear end\", \"04 - Sideswipe\", \"05 - Turning movement\", \"06 - SMV unattended vehicle\", \"07 - SMV other\", \"99 - Other\", \"01 - Approaching\", \"02 - Angle\", \"03 - Rear end\", \"04 - Sideswipe\", \"05 - Turning movement\", \"06 - SMV unattended vehicle\", \"07 - SMV other\", \"99 - Other\", \"01 - Approaching\", \"02 - Angle\", \"03 - Rear end\", \"04 - Sideswipe\", \"05 - Turning movement\", \"06 - SMV unattended vehicle\", \"07 - SMV other\", \"99 - Other\", \"01 - Approaching\", \"02 - Angle\", \"03 - Rear end\", \"04 - Sideswipe\", \"05 - Turning movement\", \"06 - SMV unattended vehicle\", \"07 - SMV other\", \"99 - Other\"], \"x\": [\"01 - Non intersection\", \"01 - Non intersection\", \"01 - Non intersection\", \"01 - Non intersection\", \"01 - Non intersection\", \"01 - Non intersection\", \"01 - Non intersection\", \"01 - Non intersection\", \"02 - Intersection related\", \"02 - Intersection related\", \"02 - Intersection related\", \"02 - Intersection related\", \"02 - Intersection related\", \"02 - Intersection related\", \"02 - Intersection related\", \"02 - Intersection related\", \"03 - At intersection\", \"03 - At intersection\", \"03 - At intersection\", \"03 - At intersection\", \"03 - At intersection\", \"03 - At intersection\", \"03 - At intersection\", \"03 - At intersection\", \"04 - At/near private drive\", \"04 - At/near private drive\", \"04 - At/near private drive\", \"04 - At/near private drive\", \"04 - At/near private drive\", \"04 - At/near private drive\", \"04 - At/near private drive\", \"04 - At/near private drive\", \"05 - At railway crossing\", \"05 - At railway crossing\", \"05 - At railway crossing\", \"05 - At railway crossing\", \"05 - At railway crossing\", \"05 - At railway crossing\", \"05 - At railway crossing\", \"05 - At railway crossing\", \"06 - Underpass or tunnel\", \"06 - Underpass or tunnel\", \"06 - Underpass or tunnel\", \"06 - Underpass or tunnel\", \"06 - Underpass or tunnel\", \"06 - Underpass or tunnel\", \"06 - Underpass or tunnel\", \"06 - Underpass or tunnel\", \"07 - Overpass or bridge\", \"07 - Overpass or bridge\", \"07 - Overpass or bridge\", \"07 - Overpass or bridge\", \"07 - Overpass or bridge\", \"07 - Overpass or bridge\", \"07 - Overpass or bridge\", \"07 - Overpass or bridge\", \"98 - Other\", \"98 - Other\", \"98 - Other\", \"98 - Other\", \"98 - Other\", \"98 - Other\", \"98 - Other\", \"98 - Other\", \"99 - Other\", \"99 - Other\", \"99 - Other\", \"99 - Other\", \"99 - Other\", \"99 - Other\", \"99 - Other\", \"99 - Other\"], \"z\": [642.0, 116.0, 6258.0, 3829.0, 399.0, 3577.0, 6612.0, 681.0, 124.0, 851.0, 11825.0, 2911.0, 602.0, 193.0, 1329.0, 445.0, 63.0, 4944.0, 956.0, 789.0, 4295.0, 26.0, 1369.0, 81.0, 18.0, 2072.0, 529.0, 122.0, 934.0, 921.0, 272.0, 237.0, 0.0, 0.0, 23.0, 1.0, 1.0, 0.0, 8.0, 4.0, 2.0, 0.0, 4.0, 2.0, 1.0, 0.0, 17.0, 3.0, 11.0, 1.0, 139.0, 36.0, 1.0, 0.0, 48.0, 4.0, 0.0, 0.0, 0.0, 0.0, 0.0, 0.0, 2.0, 1.0, 0.0, 0.0, 0.0, 0.0, 0.0, 0.0, 1.0, 0.0], \"type\": \"heatmap\", \"uid\": \"b34734e0-a722-11e8-9fa6-0800275aa47c\"}], {}, {\"linkText\": \"Export to plot.ly\", \"showLink\": true})});</script>"
      ]
     },
     "metadata": {},
     "output_type": "display_data"
    }
   ],
   "source": [
    "corrAnalysis(df_csv1417,'Collision_Location','Impact_type')"
   ]
  },
  {
   "cell_type": "code",
   "execution_count": 113,
   "metadata": {},
   "outputs": [
    {
     "data": {
      "text/html": [
       "<div>\n",
       "<style scoped>\n",
       "    .dataframe tbody tr th:only-of-type {\n",
       "        vertical-align: middle;\n",
       "    }\n",
       "\n",
       "    .dataframe tbody tr th {\n",
       "        vertical-align: top;\n",
       "    }\n",
       "\n",
       "    .dataframe thead th {\n",
       "        text-align: right;\n",
       "    }\n",
       "</style>\n",
       "<table border=\"1\" class=\"dataframe\">\n",
       "  <thead>\n",
       "    <tr style=\"text-align: right;\">\n",
       "      <th></th>\n",
       "      <th>Collision_Location</th>\n",
       "      <th>Impact_type</th>\n",
       "      <th># of Cases</th>\n",
       "      <th>Proportion of cases(%)</th>\n",
       "    </tr>\n",
       "  </thead>\n",
       "  <tbody>\n",
       "    <tr>\n",
       "      <th>10</th>\n",
       "      <td>02 - Intersection related</td>\n",
       "      <td>03 - Rear end</td>\n",
       "      <td>11825</td>\n",
       "      <td>20.27</td>\n",
       "    </tr>\n",
       "    <tr>\n",
       "      <th>6</th>\n",
       "      <td>01 - Non intersection</td>\n",
       "      <td>07 - SMV other</td>\n",
       "      <td>6612</td>\n",
       "      <td>11.34</td>\n",
       "    </tr>\n",
       "    <tr>\n",
       "      <th>2</th>\n",
       "      <td>01 - Non intersection</td>\n",
       "      <td>03 - Rear end</td>\n",
       "      <td>6258</td>\n",
       "      <td>10.73</td>\n",
       "    </tr>\n",
       "    <tr>\n",
       "      <th>17</th>\n",
       "      <td>03 - At intersection</td>\n",
       "      <td>02 - Angle</td>\n",
       "      <td>4944</td>\n",
       "      <td>8.48</td>\n",
       "    </tr>\n",
       "    <tr>\n",
       "      <th>20</th>\n",
       "      <td>03 - At intersection</td>\n",
       "      <td>05 - Turning movement</td>\n",
       "      <td>4295</td>\n",
       "      <td>7.36</td>\n",
       "    </tr>\n",
       "  </tbody>\n",
       "</table>\n",
       "</div>"
      ],
      "text/plain": [
       "           Collision_Location            Impact_type  # of Cases  \\\n",
       "10  02 - Intersection related          03 - Rear end       11825   \n",
       "6       01 - Non intersection         07 - SMV other        6612   \n",
       "2       01 - Non intersection          03 - Rear end        6258   \n",
       "17       03 - At intersection             02 - Angle        4944   \n",
       "20       03 - At intersection  05 - Turning movement        4295   \n",
       "\n",
       "   Proportion of cases(%)  \n",
       "10                  20.27  \n",
       "6                   11.34  \n",
       "2                   10.73  \n",
       "17                   8.48  \n",
       "20                   7.36  "
      ]
     },
     "execution_count": 113,
     "metadata": {},
     "output_type": "execute_result"
    }
   ],
   "source": [
    "df_locationType = pd.crosstab(index = df_csv1417['Collision_Location'], \n",
    "                  columns = df_csv1417['Impact_type'], \n",
    "                  dropna = False).stack(dropna = False).reset_index(name='# of Cases').sort_values(['# of Cases'], ascending=[0])\n",
    "\n",
    "caseNum = df_locationType['# of Cases'].sum()\n",
    "df_locationType['Proportion of cases(%)'] = ((df_locationType['# of Cases']/caseNum)*100.0).apply(lambda x: format(x, '.2f'))\n",
    "df_locationType.head(5)"
   ]
  },
  {
   "cell_type": "markdown",
   "metadata": {},
   "source": [
    "### Brief Conclusion: \n",
    "* From the heatmap, those situations have more cases of collisions compared with other pairs:\n",
    "* 1. Intersection related & Rear end\n",
    "* 2. Non intersection & Rear end\n",
    "* 3. Non intersection & SMV other\n",
    "* 4. At intersection & Angle\n",
    "* 5. At intersection & Turning movement\n",
    "\n",
    "### Hypothesis:\n",
    "* If a driver face to these situations:  \n",
    "* 1. roads related to intersection, when traffic light changes the signal, might lead to an impact because of fault when enter or exit the intersection\n",
    "* 2. roads like stright lines, might lead to a driver unable to brake on time and cause a rear end or SMV other impact\n",
    "* 3. roads at intersection, a driver might ignore the traffic light or make a mistake at the point of turning"
   ]
  },
  {
   "cell_type": "code",
   "execution_count": 104,
   "metadata": {},
   "outputs": [
    {
     "data": {
      "text/html": [
       "<div>\n",
       "<style scoped>\n",
       "    .dataframe tbody tr th:only-of-type {\n",
       "        vertical-align: middle;\n",
       "    }\n",
       "\n",
       "    .dataframe tbody tr th {\n",
       "        vertical-align: top;\n",
       "    }\n",
       "\n",
       "    .dataframe thead th {\n",
       "        text-align: right;\n",
       "    }\n",
       "</style>\n",
       "<table border=\"1\" class=\"dataframe\">\n",
       "  <thead>\n",
       "    <tr style=\"text-align: right;\">\n",
       "      <th></th>\n",
       "      <th>Collision_Location</th>\n",
       "      <th>Impact_type</th>\n",
       "      <th># of Cases</th>\n",
       "      <th>Proportion of cases(%)</th>\n",
       "    </tr>\n",
       "  </thead>\n",
       "  <tbody>\n",
       "    <tr>\n",
       "      <th>10</th>\n",
       "      <td>02 - Intersection related</td>\n",
       "      <td>03 - Rear end</td>\n",
       "      <td>11825</td>\n",
       "      <td>10    20.271892\\n6     11.335116\\n2     10.728...</td>\n",
       "    </tr>\n",
       "    <tr>\n",
       "      <th>6</th>\n",
       "      <td>01 - Non intersection</td>\n",
       "      <td>07 - SMV other</td>\n",
       "      <td>6612</td>\n",
       "      <td>10    20.271892\\n6     11.335116\\n2     10.728...</td>\n",
       "    </tr>\n",
       "    <tr>\n",
       "      <th>2</th>\n",
       "      <td>01 - Non intersection</td>\n",
       "      <td>03 - Rear end</td>\n",
       "      <td>6258</td>\n",
       "      <td>10    20.271892\\n6     11.335116\\n2     10.728...</td>\n",
       "    </tr>\n",
       "    <tr>\n",
       "      <th>17</th>\n",
       "      <td>03 - At intersection</td>\n",
       "      <td>02 - Angle</td>\n",
       "      <td>4944</td>\n",
       "      <td>10    20.271892\\n6     11.335116\\n2     10.728...</td>\n",
       "    </tr>\n",
       "    <tr>\n",
       "      <th>20</th>\n",
       "      <td>03 - At intersection</td>\n",
       "      <td>05 - Turning movement</td>\n",
       "      <td>4295</td>\n",
       "      <td>10    20.271892\\n6     11.335116\\n2     10.728...</td>\n",
       "    </tr>\n",
       "    <tr>\n",
       "      <th>3</th>\n",
       "      <td>01 - Non intersection</td>\n",
       "      <td>04 - Sideswipe</td>\n",
       "      <td>3829</td>\n",
       "      <td>10    20.271892\\n6     11.335116\\n2     10.728...</td>\n",
       "    </tr>\n",
       "    <tr>\n",
       "      <th>5</th>\n",
       "      <td>01 - Non intersection</td>\n",
       "      <td>06 - SMV unattended vehicle</td>\n",
       "      <td>3577</td>\n",
       "      <td>10    20.271892\\n6     11.335116\\n2     10.728...</td>\n",
       "    </tr>\n",
       "    <tr>\n",
       "      <th>11</th>\n",
       "      <td>02 - Intersection related</td>\n",
       "      <td>04 - Sideswipe</td>\n",
       "      <td>2911</td>\n",
       "      <td>10    20.271892\\n6     11.335116\\n2     10.728...</td>\n",
       "    </tr>\n",
       "    <tr>\n",
       "      <th>25</th>\n",
       "      <td>04 - At/near private drive</td>\n",
       "      <td>02 - Angle</td>\n",
       "      <td>2072</td>\n",
       "      <td>10    20.271892\\n6     11.335116\\n2     10.728...</td>\n",
       "    </tr>\n",
       "    <tr>\n",
       "      <th>22</th>\n",
       "      <td>03 - At intersection</td>\n",
       "      <td>07 - SMV other</td>\n",
       "      <td>1369</td>\n",
       "      <td>10    20.271892\\n6     11.335116\\n2     10.728...</td>\n",
       "    </tr>\n",
       "    <tr>\n",
       "      <th>...</th>\n",
       "      <td>...</td>\n",
       "      <td>...</td>\n",
       "      <td>...</td>\n",
       "      <td>...</td>\n",
       "    </tr>\n",
       "    <tr>\n",
       "      <th>45</th>\n",
       "      <td>06 - Underpass or tunnel</td>\n",
       "      <td>06 - SMV unattended vehicle</td>\n",
       "      <td>0</td>\n",
       "      <td>10    20.271892\\n6     11.335116\\n2     10.728...</td>\n",
       "    </tr>\n",
       "    <tr>\n",
       "      <th>60</th>\n",
       "      <td>98 - Other</td>\n",
       "      <td>05 - Turning movement</td>\n",
       "      <td>0</td>\n",
       "      <td>10    20.271892\\n6     11.335116\\n2     10.728...</td>\n",
       "    </tr>\n",
       "    <tr>\n",
       "      <th>59</th>\n",
       "      <td>98 - Other</td>\n",
       "      <td>04 - Sideswipe</td>\n",
       "      <td>0</td>\n",
       "      <td>10    20.271892\\n6     11.335116\\n2     10.728...</td>\n",
       "    </tr>\n",
       "    <tr>\n",
       "      <th>58</th>\n",
       "      <td>98 - Other</td>\n",
       "      <td>03 - Rear end</td>\n",
       "      <td>0</td>\n",
       "      <td>10    20.271892\\n6     11.335116\\n2     10.728...</td>\n",
       "    </tr>\n",
       "    <tr>\n",
       "      <th>57</th>\n",
       "      <td>98 - Other</td>\n",
       "      <td>02 - Angle</td>\n",
       "      <td>0</td>\n",
       "      <td>10    20.271892\\n6     11.335116\\n2     10.728...</td>\n",
       "    </tr>\n",
       "    <tr>\n",
       "      <th>56</th>\n",
       "      <td>98 - Other</td>\n",
       "      <td>01 - Approaching</td>\n",
       "      <td>0</td>\n",
       "      <td>10    20.271892\\n6     11.335116\\n2     10.728...</td>\n",
       "    </tr>\n",
       "    <tr>\n",
       "      <th>37</th>\n",
       "      <td>05 - At railway crossing</td>\n",
       "      <td>06 - SMV unattended vehicle</td>\n",
       "      <td>0</td>\n",
       "      <td>10    20.271892\\n6     11.335116\\n2     10.728...</td>\n",
       "    </tr>\n",
       "    <tr>\n",
       "      <th>41</th>\n",
       "      <td>06 - Underpass or tunnel</td>\n",
       "      <td>02 - Angle</td>\n",
       "      <td>0</td>\n",
       "      <td>10    20.271892\\n6     11.335116\\n2     10.728...</td>\n",
       "    </tr>\n",
       "    <tr>\n",
       "      <th>53</th>\n",
       "      <td>07 - Overpass or bridge</td>\n",
       "      <td>06 - SMV unattended vehicle</td>\n",
       "      <td>0</td>\n",
       "      <td>10    20.271892\\n6     11.335116\\n2     10.728...</td>\n",
       "    </tr>\n",
       "    <tr>\n",
       "      <th>71</th>\n",
       "      <td>99 - Other</td>\n",
       "      <td>99 - Other</td>\n",
       "      <td>0</td>\n",
       "      <td>10    20.271892\\n6     11.335116\\n2     10.728...</td>\n",
       "    </tr>\n",
       "  </tbody>\n",
       "</table>\n",
       "<p>72 rows × 4 columns</p>\n",
       "</div>"
      ],
      "text/plain": [
       "            Collision_Location                  Impact_type  # of Cases  \\\n",
       "10   02 - Intersection related                03 - Rear end       11825   \n",
       "6        01 - Non intersection               07 - SMV other        6612   \n",
       "2        01 - Non intersection                03 - Rear end        6258   \n",
       "17        03 - At intersection                   02 - Angle        4944   \n",
       "20        03 - At intersection        05 - Turning movement        4295   \n",
       "3        01 - Non intersection               04 - Sideswipe        3829   \n",
       "5        01 - Non intersection  06 - SMV unattended vehicle        3577   \n",
       "11   02 - Intersection related               04 - Sideswipe        2911   \n",
       "25  04 - At/near private drive                   02 - Angle        2072   \n",
       "22        03 - At intersection               07 - SMV other        1369   \n",
       "..                         ...                          ...         ...   \n",
       "45    06 - Underpass or tunnel  06 - SMV unattended vehicle           0   \n",
       "60                  98 - Other        05 - Turning movement           0   \n",
       "59                  98 - Other               04 - Sideswipe           0   \n",
       "58                  98 - Other                03 - Rear end           0   \n",
       "57                  98 - Other                   02 - Angle           0   \n",
       "56                  98 - Other             01 - Approaching           0   \n",
       "37    05 - At railway crossing  06 - SMV unattended vehicle           0   \n",
       "41    06 - Underpass or tunnel                   02 - Angle           0   \n",
       "53     07 - Overpass or bridge  06 - SMV unattended vehicle           0   \n",
       "71                  99 - Other                   99 - Other           0   \n",
       "\n",
       "                               Proportion of cases(%)  \n",
       "10  10    20.271892\\n6     11.335116\\n2     10.728...  \n",
       "6   10    20.271892\\n6     11.335116\\n2     10.728...  \n",
       "2   10    20.271892\\n6     11.335116\\n2     10.728...  \n",
       "17  10    20.271892\\n6     11.335116\\n2     10.728...  \n",
       "20  10    20.271892\\n6     11.335116\\n2     10.728...  \n",
       "3   10    20.271892\\n6     11.335116\\n2     10.728...  \n",
       "5   10    20.271892\\n6     11.335116\\n2     10.728...  \n",
       "11  10    20.271892\\n6     11.335116\\n2     10.728...  \n",
       "25  10    20.271892\\n6     11.335116\\n2     10.728...  \n",
       "22  10    20.271892\\n6     11.335116\\n2     10.728...  \n",
       "..                                                ...  \n",
       "45  10    20.271892\\n6     11.335116\\n2     10.728...  \n",
       "60  10    20.271892\\n6     11.335116\\n2     10.728...  \n",
       "59  10    20.271892\\n6     11.335116\\n2     10.728...  \n",
       "58  10    20.271892\\n6     11.335116\\n2     10.728...  \n",
       "57  10    20.271892\\n6     11.335116\\n2     10.728...  \n",
       "56  10    20.271892\\n6     11.335116\\n2     10.728...  \n",
       "37  10    20.271892\\n6     11.335116\\n2     10.728...  \n",
       "41  10    20.271892\\n6     11.335116\\n2     10.728...  \n",
       "53  10    20.271892\\n6     11.335116\\n2     10.728...  \n",
       "71  10    20.271892\\n6     11.335116\\n2     10.728...  \n",
       "\n",
       "[72 rows x 4 columns]"
      ]
     },
     "execution_count": 104,
     "metadata": {},
     "output_type": "execute_result"
    }
   ],
   "source": [
    "df_locationType"
   ]
  },
  {
   "cell_type": "markdown",
   "metadata": {},
   "source": [
    "### 3.2 Fatal Injury"
   ]
  },
  {
   "cell_type": "code",
   "execution_count": 140,
   "metadata": {},
   "outputs": [
    {
     "data": {
      "text/html": [
       "<div>\n",
       "<style scoped>\n",
       "    .dataframe tbody tr th:only-of-type {\n",
       "        vertical-align: middle;\n",
       "    }\n",
       "\n",
       "    .dataframe tbody tr th {\n",
       "        vertical-align: top;\n",
       "    }\n",
       "\n",
       "    .dataframe thead th {\n",
       "        text-align: right;\n",
       "    }\n",
       "</style>\n",
       "<table border=\"1\" class=\"dataframe\">\n",
       "  <thead>\n",
       "    <tr style=\"text-align: right;\">\n",
       "      <th></th>\n",
       "      <th>Record</th>\n",
       "      <th>Location</th>\n",
       "      <th>Date</th>\n",
       "      <th>Time</th>\n",
       "      <th>Environment</th>\n",
       "      <th>Road_Surface</th>\n",
       "      <th>Traffic_Control</th>\n",
       "      <th>Collision_Location</th>\n",
       "      <th>Light</th>\n",
       "      <th>Collision_Classification</th>\n",
       "      <th>Impact_type</th>\n",
       "      <th>longitude</th>\n",
       "      <th>latitude</th>\n",
       "      <th>Year</th>\n",
       "      <th>Month</th>\n",
       "      <th>Day_Of_Week</th>\n",
       "      <th>Holiday</th>\n",
       "    </tr>\n",
       "  </thead>\n",
       "  <tbody>\n",
       "    <tr>\n",
       "      <th>0</th>\n",
       "      <td>2014000001</td>\n",
       "      <td>RIDEAU ST @ WALLER ST</td>\n",
       "      <td>2014-02-21</td>\n",
       "      <td>06:07:00</td>\n",
       "      <td>02 - Rain</td>\n",
       "      <td>02 - Wet</td>\n",
       "      <td>01 - Traffic signal</td>\n",
       "      <td>03 - At intersection</td>\n",
       "      <td>07 - Dark</td>\n",
       "      <td>01 - Fatal injury</td>\n",
       "      <td>07 - SMV other</td>\n",
       "      <td>-75.688726</td>\n",
       "      <td>45.427533</td>\n",
       "      <td>2014</td>\n",
       "      <td>2</td>\n",
       "      <td>T5_Fri</td>\n",
       "      <td>NaN</td>\n",
       "    </tr>\n",
       "    <tr>\n",
       "      <th>1</th>\n",
       "      <td>2014000002</td>\n",
       "      <td>HINES RD btwn INNOVATION DR &amp; SOLANDT RD</td>\n",
       "      <td>2014-08-02</td>\n",
       "      <td>13:55:00</td>\n",
       "      <td>01 - Clear</td>\n",
       "      <td>01 - Dry</td>\n",
       "      <td>10 - No control</td>\n",
       "      <td>04 - At/near private drive</td>\n",
       "      <td>01 - Daylight</td>\n",
       "      <td>01 - Fatal injury</td>\n",
       "      <td>02 - Angle</td>\n",
       "      <td>-75.921033</td>\n",
       "      <td>45.343152</td>\n",
       "      <td>2014</td>\n",
       "      <td>8</td>\n",
       "      <td>T6_Sat</td>\n",
       "      <td>NaN</td>\n",
       "    </tr>\n",
       "    <tr>\n",
       "      <th>2</th>\n",
       "      <td>2014000003</td>\n",
       "      <td>LOGGERS WAY btwn KINGDON MINE RD &amp; GALETTA SID...</td>\n",
       "      <td>2014-06-20</td>\n",
       "      <td>23:15:00</td>\n",
       "      <td>01 - Clear</td>\n",
       "      <td>01 - Dry</td>\n",
       "      <td>10 - No control</td>\n",
       "      <td>01 - Non intersection</td>\n",
       "      <td>07 - Dark</td>\n",
       "      <td>01 - Fatal injury</td>\n",
       "      <td>07 - SMV other</td>\n",
       "      <td>-76.247045</td>\n",
       "      <td>45.438627</td>\n",
       "      <td>2014</td>\n",
       "      <td>6</td>\n",
       "      <td>T5_Fri</td>\n",
       "      <td>NaN</td>\n",
       "    </tr>\n",
       "  </tbody>\n",
       "</table>\n",
       "</div>"
      ],
      "text/plain": [
       "       Record                                           Location       Date  \\\n",
       "0  2014000001                              RIDEAU ST @ WALLER ST 2014-02-21   \n",
       "1  2014000002           HINES RD btwn INNOVATION DR & SOLANDT RD 2014-08-02   \n",
       "2  2014000003  LOGGERS WAY btwn KINGDON MINE RD & GALETTA SID... 2014-06-20   \n",
       "\n",
       "       Time Environment Road_Surface      Traffic_Control  \\\n",
       "0  06:07:00   02 - Rain     02 - Wet  01 - Traffic signal   \n",
       "1  13:55:00  01 - Clear     01 - Dry      10 - No control   \n",
       "2  23:15:00  01 - Clear     01 - Dry      10 - No control   \n",
       "\n",
       "           Collision_Location          Light Collision_Classification  \\\n",
       "0        03 - At intersection      07 - Dark        01 - Fatal injury   \n",
       "1  04 - At/near private drive  01 - Daylight        01 - Fatal injury   \n",
       "2       01 - Non intersection      07 - Dark        01 - Fatal injury   \n",
       "\n",
       "      Impact_type  longitude   latitude  Year  Month Day_Of_Week Holiday  \n",
       "0  07 - SMV other -75.688726  45.427533  2014      2      T5_Fri     NaN  \n",
       "1      02 - Angle -75.921033  45.343152  2014      8      T6_Sat     NaN  \n",
       "2  07 - SMV other -76.247045  45.438627  2014      6      T5_Fri     NaN  "
      ]
     },
     "execution_count": 140,
     "metadata": {},
     "output_type": "execute_result"
    }
   ],
   "source": [
    "df_fatal = df_csv1417[df_csv1417['Collision_Classification'] == '01 - Fatal injury']\n",
    "\n",
    "df_fatal.head(3)"
   ]
  },
  {
   "cell_type": "code",
   "execution_count": 141,
   "metadata": {
    "scrolled": true
   },
   "outputs": [
    {
     "data": {
      "text/html": [
       "<div>\n",
       "<style scoped>\n",
       "    .dataframe tbody tr th:only-of-type {\n",
       "        vertical-align: middle;\n",
       "    }\n",
       "\n",
       "    .dataframe tbody tr th {\n",
       "        vertical-align: top;\n",
       "    }\n",
       "\n",
       "    .dataframe thead th {\n",
       "        text-align: right;\n",
       "    }\n",
       "</style>\n",
       "<table border=\"1\" class=\"dataframe\">\n",
       "  <thead>\n",
       "    <tr style=\"text-align: right;\">\n",
       "      <th></th>\n",
       "      <th>Record</th>\n",
       "      <th>Location</th>\n",
       "      <th>Date</th>\n",
       "      <th>Time</th>\n",
       "      <th>Environment</th>\n",
       "      <th>Road_Surface</th>\n",
       "      <th>Traffic_Control</th>\n",
       "      <th>Collision_Location</th>\n",
       "      <th>Light</th>\n",
       "      <th>Collision_Classification</th>\n",
       "      <th>Impact_type</th>\n",
       "      <th>longitude</th>\n",
       "      <th>latitude</th>\n",
       "      <th>Year</th>\n",
       "      <th>Month</th>\n",
       "      <th>Day_Of_Week</th>\n",
       "      <th>Holiday</th>\n",
       "    </tr>\n",
       "  </thead>\n",
       "  <tbody>\n",
       "    <tr>\n",
       "      <th>55836</th>\n",
       "      <td>2017011893</td>\n",
       "      <td>REGIONAL ROAD 174 btwn QUIGLEY HILL RD &amp; REGIO...</td>\n",
       "      <td>2017-12-16</td>\n",
       "      <td>22:20:00</td>\n",
       "      <td>01 - Clear</td>\n",
       "      <td>01 - Dry</td>\n",
       "      <td>10 - No control</td>\n",
       "      <td>01 - Non intersection</td>\n",
       "      <td>07 - Dark</td>\n",
       "      <td>01 - Fatal injury</td>\n",
       "      <td>01 - Approaching</td>\n",
       "      <td>-75.475746</td>\n",
       "      <td>45.502894</td>\n",
       "      <td>2017</td>\n",
       "      <td>12</td>\n",
       "      <td>T6_Sat</td>\n",
       "      <td>NaN</td>\n",
       "    </tr>\n",
       "    <tr>\n",
       "      <th>56749</th>\n",
       "      <td>2017012806</td>\n",
       "      <td>SNAKE ISLAND RD btwn 5TH LINE RD &amp; GREY'S CREE...</td>\n",
       "      <td>2017-06-04</td>\n",
       "      <td>19:39:00</td>\n",
       "      <td>01 - Clear</td>\n",
       "      <td>01 - Dry</td>\n",
       "      <td>10 - No control</td>\n",
       "      <td>01 - Non intersection</td>\n",
       "      <td>01 - Daylight</td>\n",
       "      <td>01 - Fatal injury</td>\n",
       "      <td>01 - Approaching</td>\n",
       "      <td>-75.522968</td>\n",
       "      <td>45.214922</td>\n",
       "      <td>2017</td>\n",
       "      <td>6</td>\n",
       "      <td>T7_Sun</td>\n",
       "      <td>NaN</td>\n",
       "    </tr>\n",
       "    <tr>\n",
       "      <th>58081</th>\n",
       "      <td>2017014138</td>\n",
       "      <td>WEST HUNT CLUB RD WB btwn CEDARVIEW RD &amp; GREEN...</td>\n",
       "      <td>2017-12-22</td>\n",
       "      <td>15:44:00</td>\n",
       "      <td>01 - Clear</td>\n",
       "      <td>05 - Packed snow</td>\n",
       "      <td>10 - No control</td>\n",
       "      <td>01 - Non intersection</td>\n",
       "      <td>01 - Daylight</td>\n",
       "      <td>01 - Fatal injury</td>\n",
       "      <td>01 - Approaching</td>\n",
       "      <td>-75.778142</td>\n",
       "      <td>45.321768</td>\n",
       "      <td>2017</td>\n",
       "      <td>12</td>\n",
       "      <td>T5_Fri</td>\n",
       "      <td>NaN</td>\n",
       "    </tr>\n",
       "  </tbody>\n",
       "</table>\n",
       "</div>"
      ],
      "text/plain": [
       "           Record                                           Location  \\\n",
       "55836  2017011893  REGIONAL ROAD 174 btwn QUIGLEY HILL RD & REGIO...   \n",
       "56749  2017012806  SNAKE ISLAND RD btwn 5TH LINE RD & GREY'S CREE...   \n",
       "58081  2017014138  WEST HUNT CLUB RD WB btwn CEDARVIEW RD & GREEN...   \n",
       "\n",
       "            Date      Time Environment      Road_Surface  Traffic_Control  \\\n",
       "55836 2017-12-16  22:20:00  01 - Clear          01 - Dry  10 - No control   \n",
       "56749 2017-06-04  19:39:00  01 - Clear          01 - Dry  10 - No control   \n",
       "58081 2017-12-22  15:44:00  01 - Clear  05 - Packed snow  10 - No control   \n",
       "\n",
       "          Collision_Location          Light Collision_Classification  \\\n",
       "55836  01 - Non intersection      07 - Dark        01 - Fatal injury   \n",
       "56749  01 - Non intersection  01 - Daylight        01 - Fatal injury   \n",
       "58081  01 - Non intersection  01 - Daylight        01 - Fatal injury   \n",
       "\n",
       "            Impact_type  longitude   latitude  Year  Month Day_Of_Week Holiday  \n",
       "55836  01 - Approaching -75.475746  45.502894  2017     12      T6_Sat     NaN  \n",
       "56749  01 - Approaching -75.522968  45.214922  2017      6      T7_Sun     NaN  \n",
       "58081  01 - Approaching -75.778142  45.321768  2017     12      T5_Fri     NaN  "
      ]
     },
     "execution_count": 141,
     "metadata": {},
     "output_type": "execute_result"
    }
   ],
   "source": [
    "df_fatal.tail(3)"
   ]
  },
  {
   "cell_type": "code",
   "execution_count": 157,
   "metadata": {},
   "outputs": [
    {
     "data": {
      "text/plain": [
       "99"
      ]
     },
     "execution_count": 157,
     "metadata": {},
     "output_type": "execute_result"
    }
   ],
   "source": [
    "caseFtl = len(df_fatal)\n",
    "caseFtl"
   ]
  },
  {
   "cell_type": "code",
   "execution_count": 204,
   "metadata": {},
   "outputs": [
    {
     "data": {
      "application/vnd.plotly.v1+json": {
       "data": [
        {
         "name": "Proportion of fatal collisions",
         "opacity": 0.6,
         "text": [
          "1.01%",
          "88.89%",
          "8.08%",
          "2.02%",
          "0.00%",
          "0.00%",
          "0.00%",
          "0.00%",
          "0.00%"
         ],
         "textposition": "auto",
         "type": "bar",
         "uid": "6f72d9e4-a7f0-11e8-9fa6-0800275aa47c",
         "x": [
          "00 - Unknown",
          "01 - Clear",
          "02 - Rain",
          "03 - Snow",
          "04 - Freezing Rain",
          "05 - Drifting Snow",
          "06 - Strong wind",
          "07 - Fog, mist, smoke, dust",
          "99 - Other"
         ],
         "y": [
          "1.01",
          "88.89",
          "8.08",
          "2.02",
          "0.00",
          "0.00",
          "0.00",
          "0.00",
          "0.00"
         ]
        },
        {
         "name": "Proportion of all collisions",
         "opacity": 0.6,
         "text": [
          "0.11%",
          "78.74%",
          "9.31%",
          "9.71%",
          "1.15%",
          "0.52%",
          "0.15%",
          "0.28%",
          "0.03%"
         ],
         "textposition": "auto",
         "type": "bar",
         "uid": "6f72dcd2-a7f0-11e8-9fa6-0800275aa47c",
         "x": [
          "00 - Unknown",
          "01 - Clear",
          "02 - Rain",
          "03 - Snow",
          "04 - Freezing Rain",
          "05 - Drifting Snow",
          "06 - Strong wind",
          "07 - Fog, mist, smoke, dust",
          "99 - Other"
         ],
         "y": [
          "0.11",
          "78.74",
          "9.31",
          "9.71",
          "1.15",
          "0.52",
          "0.15",
          "0.28",
          "0.03"
         ]
        }
       ],
       "layout": {
        "title": "Environment",
        "yaxis": {
         "title": "Proportion(%)"
        }
       }
      },
      "text/html": [
       "<div id=\"3563ca8b-227b-4cbb-92e5-73e3993eafe0\" style=\"height: 525px; width: 100%;\" class=\"plotly-graph-div\"></div><script type=\"text/javascript\">require([\"plotly\"], function(Plotly) { window.PLOTLYENV=window.PLOTLYENV || {};window.PLOTLYENV.BASE_URL=\"https://plot.ly\";Plotly.newPlot(\"3563ca8b-227b-4cbb-92e5-73e3993eafe0\", [{\"opacity\": 0.6, \"textposition\": \"auto\", \"name\": \"Proportion of fatal collisions\", \"text\": [\"1.01%\", \"88.89%\", \"8.08%\", \"2.02%\", \"0.00%\", \"0.00%\", \"0.00%\", \"0.00%\", \"0.00%\"], \"y\": [\"1.01\", \"88.89\", \"8.08\", \"2.02\", \"0.00\", \"0.00\", \"0.00\", \"0.00\", \"0.00\"], \"x\": [\"00 - Unknown\", \"01 - Clear\", \"02 - Rain\", \"03 - Snow\", \"04 - Freezing Rain\", \"05 - Drifting Snow\", \"06 - Strong wind\", \"07 - Fog, mist, smoke, dust\", \"99 - Other\"], \"type\": \"bar\", \"uid\": \"6f766b68-a7f0-11e8-9fa6-0800275aa47c\"}, {\"opacity\": 0.6, \"textposition\": \"auto\", \"name\": \"Proportion of all collisions\", \"text\": [\"0.11%\", \"78.74%\", \"9.31%\", \"9.71%\", \"1.15%\", \"0.52%\", \"0.15%\", \"0.28%\", \"0.03%\"], \"y\": [\"0.11\", \"78.74\", \"9.31\", \"9.71\", \"1.15\", \"0.52\", \"0.15\", \"0.28\", \"0.03\"], \"x\": [\"00 - Unknown\", \"01 - Clear\", \"02 - Rain\", \"03 - Snow\", \"04 - Freezing Rain\", \"05 - Drifting Snow\", \"06 - Strong wind\", \"07 - Fog, mist, smoke, dust\", \"99 - Other\"], \"type\": \"bar\", \"uid\": \"6f766f6e-a7f0-11e8-9fa6-0800275aa47c\"}], {\"title\": \"Environment\", \"yaxis\": {\"title\": \"Proportion(%)\"}}, {\"linkText\": \"Export to plot.ly\", \"showLink\": true})});</script>"
      ],
      "text/vnd.plotly.v1+html": [
       "<div id=\"3563ca8b-227b-4cbb-92e5-73e3993eafe0\" style=\"height: 525px; width: 100%;\" class=\"plotly-graph-div\"></div><script type=\"text/javascript\">require([\"plotly\"], function(Plotly) { window.PLOTLYENV=window.PLOTLYENV || {};window.PLOTLYENV.BASE_URL=\"https://plot.ly\";Plotly.newPlot(\"3563ca8b-227b-4cbb-92e5-73e3993eafe0\", [{\"opacity\": 0.6, \"textposition\": \"auto\", \"name\": \"Proportion of fatal collisions\", \"text\": [\"1.01%\", \"88.89%\", \"8.08%\", \"2.02%\", \"0.00%\", \"0.00%\", \"0.00%\", \"0.00%\", \"0.00%\"], \"y\": [\"1.01\", \"88.89\", \"8.08\", \"2.02\", \"0.00\", \"0.00\", \"0.00\", \"0.00\", \"0.00\"], \"x\": [\"00 - Unknown\", \"01 - Clear\", \"02 - Rain\", \"03 - Snow\", \"04 - Freezing Rain\", \"05 - Drifting Snow\", \"06 - Strong wind\", \"07 - Fog, mist, smoke, dust\", \"99 - Other\"], \"type\": \"bar\", \"uid\": \"6f766b68-a7f0-11e8-9fa6-0800275aa47c\"}, {\"opacity\": 0.6, \"textposition\": \"auto\", \"name\": \"Proportion of all collisions\", \"text\": [\"0.11%\", \"78.74%\", \"9.31%\", \"9.71%\", \"1.15%\", \"0.52%\", \"0.15%\", \"0.28%\", \"0.03%\"], \"y\": [\"0.11\", \"78.74\", \"9.31\", \"9.71\", \"1.15\", \"0.52\", \"0.15\", \"0.28\", \"0.03\"], \"x\": [\"00 - Unknown\", \"01 - Clear\", \"02 - Rain\", \"03 - Snow\", \"04 - Freezing Rain\", \"05 - Drifting Snow\", \"06 - Strong wind\", \"07 - Fog, mist, smoke, dust\", \"99 - Other\"], \"type\": \"bar\", \"uid\": \"6f766f6e-a7f0-11e8-9fa6-0800275aa47c\"}], {\"title\": \"Environment\", \"yaxis\": {\"title\": \"Proportion(%)\"}}, {\"linkText\": \"Export to plot.ly\", \"showLink\": true})});</script>"
      ]
     },
     "metadata": {},
     "output_type": "display_data"
    },
    {
     "data": {
      "application/vnd.plotly.v1+json": {
       "data": [
        {
         "name": "Proportion of fatal collisions",
         "opacity": 0.6,
         "text": [
          "1.01%",
          "80.81%",
          "15.15%",
          "1.01%",
          "0.00%",
          "1.01%",
          "1.01%",
          "0.00%",
          "0.00%",
          "0.00%",
          "0.00%"
         ],
         "textposition": "auto",
         "type": "bar",
         "uid": "6f99c5a4-a7f0-11e8-9fa6-0800275aa47c",
         "x": [
          "00 - Unknown",
          "01 - Dry",
          "02 - Wet",
          "03 - Loose snow",
          "04 - Slush",
          "05 - Packed snow",
          "06 - Ice",
          "07 - Mud",
          "08 - Loose sand or gravel",
          "09 - Spilled liquid",
          "99 - Other"
         ],
         "y": [
          "1.01",
          "80.81",
          "15.15",
          "1.01",
          "0.00",
          "1.01",
          "1.01",
          "0.00",
          "0.00",
          "0.00",
          "0.00"
         ]
        },
        {
         "name": "Proportion of all collisions",
         "opacity": 0.6,
         "text": [
          "0.09%",
          "65.76%",
          "17.35%",
          "6.59%",
          "3.02%",
          "2.47%",
          "4.54%",
          "0.01%",
          "0.10%",
          "0.01%",
          "0.07%"
         ],
         "textposition": "auto",
         "type": "bar",
         "uid": "6f99c7e8-a7f0-11e8-9fa6-0800275aa47c",
         "x": [
          "00 - Unknown",
          "01 - Dry",
          "02 - Wet",
          "03 - Loose snow",
          "04 - Slush",
          "05 - Packed snow",
          "06 - Ice",
          "07 - Mud",
          "08 - Loose sand or gravel",
          "09 - Spilled liquid",
          "99 - Other"
         ],
         "y": [
          "0.09",
          "65.76",
          "17.35",
          "6.59",
          "3.02",
          "2.47",
          "4.54",
          "0.01",
          "0.10",
          "0.01",
          "0.07"
         ]
        }
       ],
       "layout": {
        "title": "Road_Surface",
        "yaxis": {
         "title": "Proportion(%)"
        }
       }
      },
      "text/html": [
       "<div id=\"0a73a50c-8df0-4f97-8d53-838dfb732bef\" style=\"height: 525px; width: 100%;\" class=\"plotly-graph-div\"></div><script type=\"text/javascript\">require([\"plotly\"], function(Plotly) { window.PLOTLYENV=window.PLOTLYENV || {};window.PLOTLYENV.BASE_URL=\"https://plot.ly\";Plotly.newPlot(\"0a73a50c-8df0-4f97-8d53-838dfb732bef\", [{\"opacity\": 0.6, \"textposition\": \"auto\", \"name\": \"Proportion of fatal collisions\", \"text\": [\"1.01%\", \"80.81%\", \"15.15%\", \"1.01%\", \"0.00%\", \"1.01%\", \"1.01%\", \"0.00%\", \"0.00%\", \"0.00%\", \"0.00%\"], \"y\": [\"1.01\", \"80.81\", \"15.15\", \"1.01\", \"0.00\", \"1.01\", \"1.01\", \"0.00\", \"0.00\", \"0.00\", \"0.00\"], \"x\": [\"00 - Unknown\", \"01 - Dry\", \"02 - Wet\", \"03 - Loose snow\", \"04 - Slush\", \"05 - Packed snow\", \"06 - Ice\", \"07 - Mud\", \"08 - Loose sand or gravel\", \"09 - Spilled liquid\", \"99 - Other\"], \"type\": \"bar\", \"uid\": \"6f9d3004-a7f0-11e8-9fa6-0800275aa47c\"}, {\"opacity\": 0.6, \"textposition\": \"auto\", \"name\": \"Proportion of all collisions\", \"text\": [\"0.09%\", \"65.76%\", \"17.35%\", \"6.59%\", \"3.02%\", \"2.47%\", \"4.54%\", \"0.01%\", \"0.10%\", \"0.01%\", \"0.07%\"], \"y\": [\"0.09\", \"65.76\", \"17.35\", \"6.59\", \"3.02\", \"2.47\", \"4.54\", \"0.01\", \"0.10\", \"0.01\", \"0.07\"], \"x\": [\"00 - Unknown\", \"01 - Dry\", \"02 - Wet\", \"03 - Loose snow\", \"04 - Slush\", \"05 - Packed snow\", \"06 - Ice\", \"07 - Mud\", \"08 - Loose sand or gravel\", \"09 - Spilled liquid\", \"99 - Other\"], \"type\": \"bar\", \"uid\": \"6f9d3234-a7f0-11e8-9fa6-0800275aa47c\"}], {\"title\": \"Road_Surface\", \"yaxis\": {\"title\": \"Proportion(%)\"}}, {\"linkText\": \"Export to plot.ly\", \"showLink\": true})});</script>"
      ],
      "text/vnd.plotly.v1+html": [
       "<div id=\"0a73a50c-8df0-4f97-8d53-838dfb732bef\" style=\"height: 525px; width: 100%;\" class=\"plotly-graph-div\"></div><script type=\"text/javascript\">require([\"plotly\"], function(Plotly) { window.PLOTLYENV=window.PLOTLYENV || {};window.PLOTLYENV.BASE_URL=\"https://plot.ly\";Plotly.newPlot(\"0a73a50c-8df0-4f97-8d53-838dfb732bef\", [{\"opacity\": 0.6, \"textposition\": \"auto\", \"name\": \"Proportion of fatal collisions\", \"text\": [\"1.01%\", \"80.81%\", \"15.15%\", \"1.01%\", \"0.00%\", \"1.01%\", \"1.01%\", \"0.00%\", \"0.00%\", \"0.00%\", \"0.00%\"], \"y\": [\"1.01\", \"80.81\", \"15.15\", \"1.01\", \"0.00\", \"1.01\", \"1.01\", \"0.00\", \"0.00\", \"0.00\", \"0.00\"], \"x\": [\"00 - Unknown\", \"01 - Dry\", \"02 - Wet\", \"03 - Loose snow\", \"04 - Slush\", \"05 - Packed snow\", \"06 - Ice\", \"07 - Mud\", \"08 - Loose sand or gravel\", \"09 - Spilled liquid\", \"99 - Other\"], \"type\": \"bar\", \"uid\": \"6f9d3004-a7f0-11e8-9fa6-0800275aa47c\"}, {\"opacity\": 0.6, \"textposition\": \"auto\", \"name\": \"Proportion of all collisions\", \"text\": [\"0.09%\", \"65.76%\", \"17.35%\", \"6.59%\", \"3.02%\", \"2.47%\", \"4.54%\", \"0.01%\", \"0.10%\", \"0.01%\", \"0.07%\"], \"y\": [\"0.09\", \"65.76\", \"17.35\", \"6.59\", \"3.02\", \"2.47\", \"4.54\", \"0.01\", \"0.10\", \"0.01\", \"0.07\"], \"x\": [\"00 - Unknown\", \"01 - Dry\", \"02 - Wet\", \"03 - Loose snow\", \"04 - Slush\", \"05 - Packed snow\", \"06 - Ice\", \"07 - Mud\", \"08 - Loose sand or gravel\", \"09 - Spilled liquid\", \"99 - Other\"], \"type\": \"bar\", \"uid\": \"6f9d3234-a7f0-11e8-9fa6-0800275aa47c\"}], {\"title\": \"Road_Surface\", \"yaxis\": {\"title\": \"Proportion(%)\"}}, {\"linkText\": \"Export to plot.ly\", \"showLink\": true})});</script>"
      ]
     },
     "metadata": {},
     "output_type": "display_data"
    },
    {
     "data": {
      "application/vnd.plotly.v1+json": {
       "data": [
        {
         "name": "Proportion of fatal collisions",
         "opacity": 0.6,
         "text": [
          "29.29%",
          "7.07%",
          "0.00%",
          "0.00%",
          "0.00%",
          "0.00%",
          "0.00%",
          "63.64%",
          "0.00%"
         ],
         "textposition": "auto",
         "type": "bar",
         "uid": "6fc4df28-a7f0-11e8-9fa6-0800275aa47c",
         "x": [
          "01 - Traffic signal",
          "02 - Stop sign",
          "03 - Yield sign",
          "04 - Ped. crossover",
          "07 - School bus",
          "08 - Traffic gate",
          "09 - Traffic controller",
          "10 - No control",
          "11 - Roundabout"
         ],
         "y": [
          "29.29",
          "7.07",
          "0.00",
          "0.00",
          "0.00",
          "0.00",
          "0.00",
          "63.64",
          "0.00"
         ]
        },
        {
         "name": "Proportion of all collisions",
         "opacity": 0.6,
         "text": [
          "39.97%",
          "10.46%",
          "0.63%",
          "0.00%",
          "0.00%",
          "0.03%",
          "0.02%",
          "47.94%",
          "0.90%"
         ],
         "textposition": "auto",
         "type": "bar",
         "uid": "6fc4e2ac-a7f0-11e8-9fa6-0800275aa47c",
         "x": [
          "01 - Traffic signal",
          "02 - Stop sign",
          "03 - Yield sign",
          "04 - Ped. crossover",
          "07 - School bus",
          "08 - Traffic gate",
          "09 - Traffic controller",
          "10 - No control",
          "11 - Roundabout"
         ],
         "y": [
          "39.97",
          "10.46",
          "0.63",
          "0.00",
          "0.00",
          "0.03",
          "0.02",
          "47.94",
          "0.90"
         ]
        }
       ],
       "layout": {
        "title": "Traffic_Control",
        "yaxis": {
         "title": "Proportion(%)"
        }
       }
      },
      "text/html": [
       "<div id=\"8970aca2-c598-4f8b-93fb-51716c239b0c\" style=\"height: 525px; width: 100%;\" class=\"plotly-graph-div\"></div><script type=\"text/javascript\">require([\"plotly\"], function(Plotly) { window.PLOTLYENV=window.PLOTLYENV || {};window.PLOTLYENV.BASE_URL=\"https://plot.ly\";Plotly.newPlot(\"8970aca2-c598-4f8b-93fb-51716c239b0c\", [{\"opacity\": 0.6, \"textposition\": \"auto\", \"name\": \"Proportion of fatal collisions\", \"text\": [\"29.29%\", \"7.07%\", \"0.00%\", \"0.00%\", \"0.00%\", \"0.00%\", \"0.00%\", \"63.64%\", \"0.00%\"], \"y\": [\"29.29\", \"7.07\", \"0.00\", \"0.00\", \"0.00\", \"0.00\", \"0.00\", \"63.64\", \"0.00\"], \"x\": [\"01 - Traffic signal\", \"02 - Stop sign\", \"03 - Yield sign\", \"04 - Ped. crossover\", \"07 - School bus\", \"08 - Traffic gate\", \"09 - Traffic controller\", \"10 - No control\", \"11 - Roundabout\"], \"type\": \"bar\", \"uid\": \"6fc9b3ea-a7f0-11e8-9fa6-0800275aa47c\"}, {\"opacity\": 0.6, \"textposition\": \"auto\", \"name\": \"Proportion of all collisions\", \"text\": [\"39.97%\", \"10.46%\", \"0.63%\", \"0.00%\", \"0.00%\", \"0.03%\", \"0.02%\", \"47.94%\", \"0.90%\"], \"y\": [\"39.97\", \"10.46\", \"0.63\", \"0.00\", \"0.00\", \"0.03\", \"0.02\", \"47.94\", \"0.90\"], \"x\": [\"01 - Traffic signal\", \"02 - Stop sign\", \"03 - Yield sign\", \"04 - Ped. crossover\", \"07 - School bus\", \"08 - Traffic gate\", \"09 - Traffic controller\", \"10 - No control\", \"11 - Roundabout\"], \"type\": \"bar\", \"uid\": \"6fc9b67e-a7f0-11e8-9fa6-0800275aa47c\"}], {\"title\": \"Traffic_Control\", \"yaxis\": {\"title\": \"Proportion(%)\"}}, {\"linkText\": \"Export to plot.ly\", \"showLink\": true})});</script>"
      ],
      "text/vnd.plotly.v1+html": [
       "<div id=\"8970aca2-c598-4f8b-93fb-51716c239b0c\" style=\"height: 525px; width: 100%;\" class=\"plotly-graph-div\"></div><script type=\"text/javascript\">require([\"plotly\"], function(Plotly) { window.PLOTLYENV=window.PLOTLYENV || {};window.PLOTLYENV.BASE_URL=\"https://plot.ly\";Plotly.newPlot(\"8970aca2-c598-4f8b-93fb-51716c239b0c\", [{\"opacity\": 0.6, \"textposition\": \"auto\", \"name\": \"Proportion of fatal collisions\", \"text\": [\"29.29%\", \"7.07%\", \"0.00%\", \"0.00%\", \"0.00%\", \"0.00%\", \"0.00%\", \"63.64%\", \"0.00%\"], \"y\": [\"29.29\", \"7.07\", \"0.00\", \"0.00\", \"0.00\", \"0.00\", \"0.00\", \"63.64\", \"0.00\"], \"x\": [\"01 - Traffic signal\", \"02 - Stop sign\", \"03 - Yield sign\", \"04 - Ped. crossover\", \"07 - School bus\", \"08 - Traffic gate\", \"09 - Traffic controller\", \"10 - No control\", \"11 - Roundabout\"], \"type\": \"bar\", \"uid\": \"6fc9b3ea-a7f0-11e8-9fa6-0800275aa47c\"}, {\"opacity\": 0.6, \"textposition\": \"auto\", \"name\": \"Proportion of all collisions\", \"text\": [\"39.97%\", \"10.46%\", \"0.63%\", \"0.00%\", \"0.00%\", \"0.03%\", \"0.02%\", \"47.94%\", \"0.90%\"], \"y\": [\"39.97\", \"10.46\", \"0.63\", \"0.00\", \"0.00\", \"0.03\", \"0.02\", \"47.94\", \"0.90\"], \"x\": [\"01 - Traffic signal\", \"02 - Stop sign\", \"03 - Yield sign\", \"04 - Ped. crossover\", \"07 - School bus\", \"08 - Traffic gate\", \"09 - Traffic controller\", \"10 - No control\", \"11 - Roundabout\"], \"type\": \"bar\", \"uid\": \"6fc9b67e-a7f0-11e8-9fa6-0800275aa47c\"}], {\"title\": \"Traffic_Control\", \"yaxis\": {\"title\": \"Proportion(%)\"}}, {\"linkText\": \"Export to plot.ly\", \"showLink\": true})});</script>"
      ]
     },
     "metadata": {},
     "output_type": "display_data"
    },
    {
     "data": {
      "application/vnd.plotly.v1+json": {
       "data": [
        {
         "name": "Proportion of fatal collisions",
         "opacity": 0.6,
         "text": [
          "58.59%",
          "6.06%",
          "31.31%",
          "3.03%",
          "0.00%",
          "1.01%",
          "0.00%",
          "0.00%",
          "0.00%"
         ],
         "textposition": "auto",
         "type": "bar",
         "uid": "6fea8110-a7f0-11e8-9fa6-0800275aa47c",
         "x": [
          "01 - Non intersection",
          "02 - Intersection related",
          "03 - At intersection",
          "04 - At/near private drive",
          "05 - At railway crossing",
          "06 - Underpass or tunnel",
          "07 - Overpass or bridge",
          "98 - Other",
          "99 - Other"
         ],
         "y": [
          "58.59",
          "6.06",
          "31.31",
          "3.03",
          "0.00",
          "1.01",
          "0.00",
          "0.00",
          "0.00"
         ]
        },
        {
         "name": "Proportion of all collisions",
         "opacity": 0.6,
         "text": [
          "37.91%",
          "31.34%",
          "21.47%",
          "8.75%",
          "0.06%",
          "0.05%",
          "0.41%",
          "0.01%",
          "0.00%"
         ],
         "textposition": "auto",
         "type": "bar",
         "uid": "6fea8534-a7f0-11e8-9fa6-0800275aa47c",
         "x": [
          "01 - Non intersection",
          "02 - Intersection related",
          "03 - At intersection",
          "04 - At/near private drive",
          "05 - At railway crossing",
          "06 - Underpass or tunnel",
          "07 - Overpass or bridge",
          "98 - Other",
          "99 - Other"
         ],
         "y": [
          "37.91",
          "31.34",
          "21.47",
          "8.75",
          "0.06",
          "0.05",
          "0.41",
          "0.01",
          "0.00"
         ]
        }
       ],
       "layout": {
        "title": "Collision_Location",
        "yaxis": {
         "title": "Proportion(%)"
        }
       }
      },
      "text/html": [
       "<div id=\"d4445798-1285-43eb-b635-74c2a30b65b9\" style=\"height: 525px; width: 100%;\" class=\"plotly-graph-div\"></div><script type=\"text/javascript\">require([\"plotly\"], function(Plotly) { window.PLOTLYENV=window.PLOTLYENV || {};window.PLOTLYENV.BASE_URL=\"https://plot.ly\";Plotly.newPlot(\"d4445798-1285-43eb-b635-74c2a30b65b9\", [{\"opacity\": 0.6, \"textposition\": \"auto\", \"name\": \"Proportion of fatal collisions\", \"text\": [\"58.59%\", \"6.06%\", \"31.31%\", \"3.03%\", \"0.00%\", \"1.01%\", \"0.00%\", \"0.00%\", \"0.00%\"], \"y\": [\"58.59\", \"6.06\", \"31.31\", \"3.03\", \"0.00\", \"1.01\", \"0.00\", \"0.00\", \"0.00\"], \"x\": [\"01 - Non intersection\", \"02 - Intersection related\", \"03 - At intersection\", \"04 - At/near private drive\", \"05 - At railway crossing\", \"06 - Underpass or tunnel\", \"07 - Overpass or bridge\", \"98 - Other\", \"99 - Other\"], \"type\": \"bar\", \"uid\": \"6fee261c-a7f0-11e8-9fa6-0800275aa47c\"}, {\"opacity\": 0.6, \"textposition\": \"auto\", \"name\": \"Proportion of all collisions\", \"text\": [\"37.91%\", \"31.34%\", \"21.47%\", \"8.75%\", \"0.06%\", \"0.05%\", \"0.41%\", \"0.01%\", \"0.00%\"], \"y\": [\"37.91\", \"31.34\", \"21.47\", \"8.75\", \"0.06\", \"0.05\", \"0.41\", \"0.01\", \"0.00\"], \"x\": [\"01 - Non intersection\", \"02 - Intersection related\", \"03 - At intersection\", \"04 - At/near private drive\", \"05 - At railway crossing\", \"06 - Underpass or tunnel\", \"07 - Overpass or bridge\", \"98 - Other\", \"99 - Other\"], \"type\": \"bar\", \"uid\": \"6fee2856-a7f0-11e8-9fa6-0800275aa47c\"}], {\"title\": \"Collision_Location\", \"yaxis\": {\"title\": \"Proportion(%)\"}}, {\"linkText\": \"Export to plot.ly\", \"showLink\": true})});</script>"
      ],
      "text/vnd.plotly.v1+html": [
       "<div id=\"d4445798-1285-43eb-b635-74c2a30b65b9\" style=\"height: 525px; width: 100%;\" class=\"plotly-graph-div\"></div><script type=\"text/javascript\">require([\"plotly\"], function(Plotly) { window.PLOTLYENV=window.PLOTLYENV || {};window.PLOTLYENV.BASE_URL=\"https://plot.ly\";Plotly.newPlot(\"d4445798-1285-43eb-b635-74c2a30b65b9\", [{\"opacity\": 0.6, \"textposition\": \"auto\", \"name\": \"Proportion of fatal collisions\", \"text\": [\"58.59%\", \"6.06%\", \"31.31%\", \"3.03%\", \"0.00%\", \"1.01%\", \"0.00%\", \"0.00%\", \"0.00%\"], \"y\": [\"58.59\", \"6.06\", \"31.31\", \"3.03\", \"0.00\", \"1.01\", \"0.00\", \"0.00\", \"0.00\"], \"x\": [\"01 - Non intersection\", \"02 - Intersection related\", \"03 - At intersection\", \"04 - At/near private drive\", \"05 - At railway crossing\", \"06 - Underpass or tunnel\", \"07 - Overpass or bridge\", \"98 - Other\", \"99 - Other\"], \"type\": \"bar\", \"uid\": \"6fee261c-a7f0-11e8-9fa6-0800275aa47c\"}, {\"opacity\": 0.6, \"textposition\": \"auto\", \"name\": \"Proportion of all collisions\", \"text\": [\"37.91%\", \"31.34%\", \"21.47%\", \"8.75%\", \"0.06%\", \"0.05%\", \"0.41%\", \"0.01%\", \"0.00%\"], \"y\": [\"37.91\", \"31.34\", \"21.47\", \"8.75\", \"0.06\", \"0.05\", \"0.41\", \"0.01\", \"0.00\"], \"x\": [\"01 - Non intersection\", \"02 - Intersection related\", \"03 - At intersection\", \"04 - At/near private drive\", \"05 - At railway crossing\", \"06 - Underpass or tunnel\", \"07 - Overpass or bridge\", \"98 - Other\", \"99 - Other\"], \"type\": \"bar\", \"uid\": \"6fee2856-a7f0-11e8-9fa6-0800275aa47c\"}], {\"title\": \"Collision_Location\", \"yaxis\": {\"title\": \"Proportion(%)\"}}, {\"linkText\": \"Export to plot.ly\", \"showLink\": true})});</script>"
      ]
     },
     "metadata": {},
     "output_type": "display_data"
    },
    {
     "data": {
      "application/vnd.plotly.v1+json": {
       "data": [
        {
         "name": "Proportion of fatal collisions",
         "opacity": 0.6,
         "text": [
          "0.00%",
          "55.56%",
          "0.00%",
          "4.04%",
          "0.00%",
          "3.03%",
          "0.00%",
          "37.37%",
          "0.00%",
          "0.00%"
         ],
         "textposition": "auto",
         "type": "bar",
         "uid": "70139a28-a7f0-11e8-9fa6-0800275aa47c",
         "x": [
          "00 - Unknown",
          "01 - Daylight",
          "02 - Daylight, artificial",
          "03 - Dawn",
          "04 - Dawn, artificial",
          "05 - Dusk",
          "06 - Dusk, artificial",
          "07 - Dark",
          "08 - Dark, artificial",
          "99 - Other"
         ],
         "y": [
          "0.00",
          "55.56",
          "0.00",
          "4.04",
          "0.00",
          "3.03",
          "0.00",
          "37.37",
          "0.00",
          "0.00"
         ]
        },
        {
         "name": "Proportion of all collisions",
         "opacity": 0.6,
         "text": [
          "1.99%",
          "68.37%",
          "0.00%",
          "2.32%",
          "0.01%",
          "4.47%",
          "0.01%",
          "22.69%",
          "0.13%",
          "0.02%"
         ],
         "textposition": "auto",
         "type": "bar",
         "uid": "70139cee-a7f0-11e8-9fa6-0800275aa47c",
         "x": [
          "00 - Unknown",
          "01 - Daylight",
          "02 - Daylight, artificial",
          "03 - Dawn",
          "04 - Dawn, artificial",
          "05 - Dusk",
          "06 - Dusk, artificial",
          "07 - Dark",
          "08 - Dark, artificial",
          "99 - Other"
         ],
         "y": [
          "1.99",
          "68.37",
          "0.00",
          "2.32",
          "0.01",
          "4.47",
          "0.01",
          "22.69",
          "0.13",
          "0.02"
         ]
        }
       ],
       "layout": {
        "title": "Light",
        "yaxis": {
         "title": "Proportion(%)"
        }
       }
      },
      "text/html": [
       "<div id=\"f581d7bf-4550-4982-b39c-fca5df79f1bd\" style=\"height: 525px; width: 100%;\" class=\"plotly-graph-div\"></div><script type=\"text/javascript\">require([\"plotly\"], function(Plotly) { window.PLOTLYENV=window.PLOTLYENV || {};window.PLOTLYENV.BASE_URL=\"https://plot.ly\";Plotly.newPlot(\"f581d7bf-4550-4982-b39c-fca5df79f1bd\", [{\"opacity\": 0.6, \"textposition\": \"auto\", \"name\": \"Proportion of fatal collisions\", \"text\": [\"0.00%\", \"55.56%\", \"0.00%\", \"4.04%\", \"0.00%\", \"3.03%\", \"0.00%\", \"37.37%\", \"0.00%\", \"0.00%\"], \"y\": [\"0.00\", \"55.56\", \"0.00\", \"4.04\", \"0.00\", \"3.03\", \"0.00\", \"37.37\", \"0.00\", \"0.00\"], \"x\": [\"00 - Unknown\", \"01 - Daylight\", \"02 - Daylight, artificial\", \"03 - Dawn\", \"04 - Dawn, artificial\", \"05 - Dusk\", \"06 - Dusk, artificial\", \"07 - Dark\", \"08 - Dark, artificial\", \"99 - Other\"], \"type\": \"bar\", \"uid\": \"70177d64-a7f0-11e8-9fa6-0800275aa47c\"}, {\"opacity\": 0.6, \"textposition\": \"auto\", \"name\": \"Proportion of all collisions\", \"text\": [\"1.99%\", \"68.37%\", \"0.00%\", \"2.32%\", \"0.01%\", \"4.47%\", \"0.01%\", \"22.69%\", \"0.13%\", \"0.02%\"], \"y\": [\"1.99\", \"68.37\", \"0.00\", \"2.32\", \"0.01\", \"4.47\", \"0.01\", \"22.69\", \"0.13\", \"0.02\"], \"x\": [\"00 - Unknown\", \"01 - Daylight\", \"02 - Daylight, artificial\", \"03 - Dawn\", \"04 - Dawn, artificial\", \"05 - Dusk\", \"06 - Dusk, artificial\", \"07 - Dark\", \"08 - Dark, artificial\", \"99 - Other\"], \"type\": \"bar\", \"uid\": \"70177fa8-a7f0-11e8-9fa6-0800275aa47c\"}], {\"title\": \"Light\", \"yaxis\": {\"title\": \"Proportion(%)\"}}, {\"linkText\": \"Export to plot.ly\", \"showLink\": true})});</script>"
      ],
      "text/vnd.plotly.v1+html": [
       "<div id=\"f581d7bf-4550-4982-b39c-fca5df79f1bd\" style=\"height: 525px; width: 100%;\" class=\"plotly-graph-div\"></div><script type=\"text/javascript\">require([\"plotly\"], function(Plotly) { window.PLOTLYENV=window.PLOTLYENV || {};window.PLOTLYENV.BASE_URL=\"https://plot.ly\";Plotly.newPlot(\"f581d7bf-4550-4982-b39c-fca5df79f1bd\", [{\"opacity\": 0.6, \"textposition\": \"auto\", \"name\": \"Proportion of fatal collisions\", \"text\": [\"0.00%\", \"55.56%\", \"0.00%\", \"4.04%\", \"0.00%\", \"3.03%\", \"0.00%\", \"37.37%\", \"0.00%\", \"0.00%\"], \"y\": [\"0.00\", \"55.56\", \"0.00\", \"4.04\", \"0.00\", \"3.03\", \"0.00\", \"37.37\", \"0.00\", \"0.00\"], \"x\": [\"00 - Unknown\", \"01 - Daylight\", \"02 - Daylight, artificial\", \"03 - Dawn\", \"04 - Dawn, artificial\", \"05 - Dusk\", \"06 - Dusk, artificial\", \"07 - Dark\", \"08 - Dark, artificial\", \"99 - Other\"], \"type\": \"bar\", \"uid\": \"70177d64-a7f0-11e8-9fa6-0800275aa47c\"}, {\"opacity\": 0.6, \"textposition\": \"auto\", \"name\": \"Proportion of all collisions\", \"text\": [\"1.99%\", \"68.37%\", \"0.00%\", \"2.32%\", \"0.01%\", \"4.47%\", \"0.01%\", \"22.69%\", \"0.13%\", \"0.02%\"], \"y\": [\"1.99\", \"68.37\", \"0.00\", \"2.32\", \"0.01\", \"4.47\", \"0.01\", \"22.69\", \"0.13\", \"0.02\"], \"x\": [\"00 - Unknown\", \"01 - Daylight\", \"02 - Daylight, artificial\", \"03 - Dawn\", \"04 - Dawn, artificial\", \"05 - Dusk\", \"06 - Dusk, artificial\", \"07 - Dark\", \"08 - Dark, artificial\", \"99 - Other\"], \"type\": \"bar\", \"uid\": \"70177fa8-a7f0-11e8-9fa6-0800275aa47c\"}], {\"title\": \"Light\", \"yaxis\": {\"title\": \"Proportion(%)\"}}, {\"linkText\": \"Export to plot.ly\", \"showLink\": true})});</script>"
      ]
     },
     "metadata": {},
     "output_type": "display_data"
    },
    {
     "data": {
      "application/vnd.plotly.v1+json": {
       "data": [
        {
         "name": "Proportion of fatal collisions",
         "opacity": 0.6,
         "text": [
          "14.14%",
          "9.09%",
          "4.04%",
          "6.06%",
          "13.13%",
          "1.01%",
          "46.46%",
          "6.06%"
         ],
         "textposition": "auto",
         "type": "bar",
         "uid": "7039ab00-a7f0-11e8-9fa6-0800275aa47c",
         "x": [
          "01 - Approaching",
          "02 - Angle",
          "03 - Rear end",
          "04 - Sideswipe",
          "05 - Turning movement",
          "06 - SMV unattended vehicle",
          "07 - SMV other",
          "99 - Other"
         ],
         "y": [
          "14.14",
          "9.09",
          "4.04",
          "6.06",
          "13.13",
          "1.01",
          "46.46",
          "6.06"
         ]
        },
        {
         "name": "Proportion of all collisions",
         "opacity": 0.6,
         "text": [
          "1.47%",
          "13.69%",
          "33.83%",
          "13.18%",
          "10.69%",
          "8.09%",
          "16.56%",
          "2.50%"
         ],
         "textposition": "auto",
         "type": "bar",
         "uid": "7039af74-a7f0-11e8-9fa6-0800275aa47c",
         "x": [
          "01 - Approaching",
          "02 - Angle",
          "03 - Rear end",
          "04 - Sideswipe",
          "05 - Turning movement",
          "06 - SMV unattended vehicle",
          "07 - SMV other",
          "99 - Other"
         ],
         "y": [
          "1.47",
          "13.69",
          "33.83",
          "13.18",
          "10.69",
          "8.09",
          "16.56",
          "2.50"
         ]
        }
       ],
       "layout": {
        "title": "Impact_type",
        "yaxis": {
         "title": "Proportion(%)"
        }
       }
      },
      "text/html": [
       "<div id=\"86a0cf6c-e8d6-4c55-88ce-c619e76c1cda\" style=\"height: 525px; width: 100%;\" class=\"plotly-graph-div\"></div><script type=\"text/javascript\">require([\"plotly\"], function(Plotly) { window.PLOTLYENV=window.PLOTLYENV || {};window.PLOTLYENV.BASE_URL=\"https://plot.ly\";Plotly.newPlot(\"86a0cf6c-e8d6-4c55-88ce-c619e76c1cda\", [{\"opacity\": 0.6, \"textposition\": \"auto\", \"name\": \"Proportion of fatal collisions\", \"text\": [\"14.14%\", \"9.09%\", \"4.04%\", \"6.06%\", \"13.13%\", \"1.01%\", \"46.46%\", \"6.06%\"], \"y\": [\"14.14\", \"9.09\", \"4.04\", \"6.06\", \"13.13\", \"1.01\", \"46.46\", \"6.06\"], \"x\": [\"01 - Approaching\", \"02 - Angle\", \"03 - Rear end\", \"04 - Sideswipe\", \"05 - Turning movement\", \"06 - SMV unattended vehicle\", \"07 - SMV other\", \"99 - Other\"], \"type\": \"bar\", \"uid\": \"703de4e0-a7f0-11e8-9fa6-0800275aa47c\"}, {\"opacity\": 0.6, \"textposition\": \"auto\", \"name\": \"Proportion of all collisions\", \"text\": [\"1.47%\", \"13.69%\", \"33.83%\", \"13.18%\", \"10.69%\", \"8.09%\", \"16.56%\", \"2.50%\"], \"y\": [\"1.47\", \"13.69\", \"33.83\", \"13.18\", \"10.69\", \"8.09\", \"16.56\", \"2.50\"], \"x\": [\"01 - Approaching\", \"02 - Angle\", \"03 - Rear end\", \"04 - Sideswipe\", \"05 - Turning movement\", \"06 - SMV unattended vehicle\", \"07 - SMV other\", \"99 - Other\"], \"type\": \"bar\", \"uid\": \"703de738-a7f0-11e8-9fa6-0800275aa47c\"}], {\"title\": \"Impact_type\", \"yaxis\": {\"title\": \"Proportion(%)\"}}, {\"linkText\": \"Export to plot.ly\", \"showLink\": true})});</script>"
      ],
      "text/vnd.plotly.v1+html": [
       "<div id=\"86a0cf6c-e8d6-4c55-88ce-c619e76c1cda\" style=\"height: 525px; width: 100%;\" class=\"plotly-graph-div\"></div><script type=\"text/javascript\">require([\"plotly\"], function(Plotly) { window.PLOTLYENV=window.PLOTLYENV || {};window.PLOTLYENV.BASE_URL=\"https://plot.ly\";Plotly.newPlot(\"86a0cf6c-e8d6-4c55-88ce-c619e76c1cda\", [{\"opacity\": 0.6, \"textposition\": \"auto\", \"name\": \"Proportion of fatal collisions\", \"text\": [\"14.14%\", \"9.09%\", \"4.04%\", \"6.06%\", \"13.13%\", \"1.01%\", \"46.46%\", \"6.06%\"], \"y\": [\"14.14\", \"9.09\", \"4.04\", \"6.06\", \"13.13\", \"1.01\", \"46.46\", \"6.06\"], \"x\": [\"01 - Approaching\", \"02 - Angle\", \"03 - Rear end\", \"04 - Sideswipe\", \"05 - Turning movement\", \"06 - SMV unattended vehicle\", \"07 - SMV other\", \"99 - Other\"], \"type\": \"bar\", \"uid\": \"703de4e0-a7f0-11e8-9fa6-0800275aa47c\"}, {\"opacity\": 0.6, \"textposition\": \"auto\", \"name\": \"Proportion of all collisions\", \"text\": [\"1.47%\", \"13.69%\", \"33.83%\", \"13.18%\", \"10.69%\", \"8.09%\", \"16.56%\", \"2.50%\"], \"y\": [\"1.47\", \"13.69\", \"33.83\", \"13.18\", \"10.69\", \"8.09\", \"16.56\", \"2.50\"], \"x\": [\"01 - Approaching\", \"02 - Angle\", \"03 - Rear end\", \"04 - Sideswipe\", \"05 - Turning movement\", \"06 - SMV unattended vehicle\", \"07 - SMV other\", \"99 - Other\"], \"type\": \"bar\", \"uid\": \"703de738-a7f0-11e8-9fa6-0800275aa47c\"}], {\"title\": \"Impact_type\", \"yaxis\": {\"title\": \"Proportion(%)\"}}, {\"linkText\": \"Export to plot.ly\", \"showLink\": true})});</script>"
      ]
     },
     "metadata": {},
     "output_type": "display_data"
    },
    {
     "data": {
      "application/vnd.plotly.v1+json": {
       "data": [
        {
         "name": "Proportion of fatal collisions",
         "opacity": 0.6,
         "text": [
          "11.11%",
          "8.08%",
          "11.11%",
          "15.15%",
          "25.25%",
          "12.12%",
          "17.17%"
         ],
         "textposition": "auto",
         "type": "bar",
         "uid": "705f0d64-a7f0-11e8-9fa6-0800275aa47c",
         "x": [
          "T1_Mon",
          "T2_Tue",
          "T3_Wed",
          "T4_Thu",
          "T5_Fri",
          "T6_Sat",
          "T7_Sun"
         ],
         "y": [
          "11.11",
          "8.08",
          "11.11",
          "15.15",
          "25.25",
          "12.12",
          "17.17"
         ]
        },
        {
         "name": "Proportion of all collisions",
         "opacity": 0.6,
         "text": [
          "13.53%",
          "15.70%",
          "16.06%",
          "16.89%",
          "17.26%",
          "11.47%",
          "9.12%"
         ],
         "textposition": "auto",
         "type": "bar",
         "uid": "705f112e-a7f0-11e8-9fa6-0800275aa47c",
         "x": [
          "T1_Mon",
          "T2_Tue",
          "T3_Wed",
          "T4_Thu",
          "T5_Fri",
          "T6_Sat",
          "T7_Sun"
         ],
         "y": [
          "13.53",
          "15.70",
          "16.06",
          "16.89",
          "17.26",
          "11.47",
          "9.12"
         ]
        }
       ],
       "layout": {
        "title": "Day_Of_Week",
        "yaxis": {
         "title": "Proportion(%)"
        }
       }
      },
      "text/html": [
       "<div id=\"76452848-e8c3-4626-b1d7-b1423d935fba\" style=\"height: 525px; width: 100%;\" class=\"plotly-graph-div\"></div><script type=\"text/javascript\">require([\"plotly\"], function(Plotly) { window.PLOTLYENV=window.PLOTLYENV || {};window.PLOTLYENV.BASE_URL=\"https://plot.ly\";Plotly.newPlot(\"76452848-e8c3-4626-b1d7-b1423d935fba\", [{\"opacity\": 0.6, \"textposition\": \"auto\", \"name\": \"Proportion of fatal collisions\", \"text\": [\"11.11%\", \"8.08%\", \"11.11%\", \"15.15%\", \"25.25%\", \"12.12%\", \"17.17%\"], \"y\": [\"11.11\", \"8.08\", \"11.11\", \"15.15\", \"25.25\", \"12.12\", \"17.17\"], \"x\": [\"T1_Mon\", \"T2_Tue\", \"T3_Wed\", \"T4_Thu\", \"T5_Fri\", \"T6_Sat\", \"T7_Sun\"], \"type\": \"bar\", \"uid\": \"70631922-a7f0-11e8-9fa6-0800275aa47c\"}, {\"opacity\": 0.6, \"textposition\": \"auto\", \"name\": \"Proportion of all collisions\", \"text\": [\"13.53%\", \"15.70%\", \"16.06%\", \"16.89%\", \"17.26%\", \"11.47%\", \"9.12%\"], \"y\": [\"13.53\", \"15.70\", \"16.06\", \"16.89\", \"17.26\", \"11.47\", \"9.12\"], \"x\": [\"T1_Mon\", \"T2_Tue\", \"T3_Wed\", \"T4_Thu\", \"T5_Fri\", \"T6_Sat\", \"T7_Sun\"], \"type\": \"bar\", \"uid\": \"70631b66-a7f0-11e8-9fa6-0800275aa47c\"}], {\"title\": \"Day_Of_Week\", \"yaxis\": {\"title\": \"Proportion(%)\"}}, {\"linkText\": \"Export to plot.ly\", \"showLink\": true})});</script>"
      ],
      "text/vnd.plotly.v1+html": [
       "<div id=\"76452848-e8c3-4626-b1d7-b1423d935fba\" style=\"height: 525px; width: 100%;\" class=\"plotly-graph-div\"></div><script type=\"text/javascript\">require([\"plotly\"], function(Plotly) { window.PLOTLYENV=window.PLOTLYENV || {};window.PLOTLYENV.BASE_URL=\"https://plot.ly\";Plotly.newPlot(\"76452848-e8c3-4626-b1d7-b1423d935fba\", [{\"opacity\": 0.6, \"textposition\": \"auto\", \"name\": \"Proportion of fatal collisions\", \"text\": [\"11.11%\", \"8.08%\", \"11.11%\", \"15.15%\", \"25.25%\", \"12.12%\", \"17.17%\"], \"y\": [\"11.11\", \"8.08\", \"11.11\", \"15.15\", \"25.25\", \"12.12\", \"17.17\"], \"x\": [\"T1_Mon\", \"T2_Tue\", \"T3_Wed\", \"T4_Thu\", \"T5_Fri\", \"T6_Sat\", \"T7_Sun\"], \"type\": \"bar\", \"uid\": \"70631922-a7f0-11e8-9fa6-0800275aa47c\"}, {\"opacity\": 0.6, \"textposition\": \"auto\", \"name\": \"Proportion of all collisions\", \"text\": [\"13.53%\", \"15.70%\", \"16.06%\", \"16.89%\", \"17.26%\", \"11.47%\", \"9.12%\"], \"y\": [\"13.53\", \"15.70\", \"16.06\", \"16.89\", \"17.26\", \"11.47\", \"9.12\"], \"x\": [\"T1_Mon\", \"T2_Tue\", \"T3_Wed\", \"T4_Thu\", \"T5_Fri\", \"T6_Sat\", \"T7_Sun\"], \"type\": \"bar\", \"uid\": \"70631b66-a7f0-11e8-9fa6-0800275aa47c\"}], {\"title\": \"Day_Of_Week\", \"yaxis\": {\"title\": \"Proportion(%)\"}}, {\"linkText\": \"Export to plot.ly\", \"showLink\": true})});</script>"
      ]
     },
     "metadata": {},
     "output_type": "display_data"
    }
   ],
   "source": [
    "def displayOfFatal(var):\n",
    "    df_ftl = pd.crosstab(index = df_fatal[var],\n",
    "                        columns = 'count',\n",
    "                        dropna = False)\n",
    "    df_ftl['Proportion(%)'] = ((df_ftl['count']/caseFtl) * 100).apply(lambda x: format(x, '.2f'))\n",
    "    df_all = pd.crosstab(index = df_csv1417[var],\n",
    "                            columns = 'count',\n",
    "                            dropna = False)\n",
    "    df_all['Proportion(%)'] = ((df_all['count']/caseNum) * 100).apply(lambda x: format(x, '.2f'))\n",
    "    fatalPercentage = go.Bar(x = df_ftl.index, \n",
    "                             y = df_ftl['Proportion(%)'],\n",
    "                           text = df_ftl['Proportion(%)'] + '%',\n",
    "                           textposition = 'auto',\n",
    "                           opacity=0.6, \n",
    "                           name = 'Proportion of fatal collisions')\n",
    "    totalPercentage = go.Bar(x = df_all.index, \n",
    "                             y = df_all['Proportion(%)'],\n",
    "                           text = df_all['Proportion(%)'] + '%',\n",
    "                           textposition = 'auto',\n",
    "                           opacity=0.6, \n",
    "                           name = 'Proportion of all collisions')\n",
    "\n",
    "    fig = dict(data = [fatalPercentage, totalPercentage], \n",
    "               layout = go.Layout(title = var, yaxis=dict(title='Proportion(%)')))\n",
    "    iplot(fig)\n",
    "    \n",
    "for k in [\"Environment\", 'Road_Surface', 'Traffic_Control', \n",
    "                  'Collision_Location', 'Light', 'Impact_type', 'Day_Of_Week']: \n",
    "    displayOfFatal(k)"
   ]
  },
  {
   "cell_type": "code",
   "execution_count": null,
   "metadata": {},
   "outputs": [],
   "source": []
  },
  {
   "cell_type": "code",
   "execution_count": 146,
   "metadata": {},
   "outputs": [
    {
     "data": {
      "text/plain": [
       "Environment                  col_0\n",
       "00 - Unknown                 count       67\n",
       "01 - Clear                   count    45929\n",
       "02 - Rain                    count     5433\n",
       "03 - Snow                    count     5664\n",
       "04 - Freezing Rain           count      672\n",
       "05 - Drifting Snow           count      304\n",
       "06 - Strong wind             count       86\n",
       "07 - Fog, mist, smoke, dust  count      164\n",
       "99 - Other                   count       18\n",
       "dtype: int64"
      ]
     },
     "execution_count": 146,
     "metadata": {},
     "output_type": "execute_result"
    }
   ],
   "source": [
    "tmpdf = pd.crosstab(index = df_csv1417['Environment'], \n",
    "                    columns = 'count', \n",
    "                    dropna = False).stack(dropna = False)\n",
    "tmpdf"
   ]
  },
  {
   "cell_type": "code",
   "execution_count": 50,
   "metadata": {},
   "outputs": [
    {
     "data": {
      "text/plain": [
       "pandas.core.frame.DataFrame"
      ]
     },
     "execution_count": 50,
     "metadata": {},
     "output_type": "execute_result"
    }
   ],
   "source": [
    "tmpdf = pd.crosstab(index = df_csv1417['Collision_Location'], \n",
    "                        columns = df_csv1417['Impact_type'], \n",
    "                        dropna = False).stack(dropna = False).reset_index(name='# of Cases')\n",
    "type(tmpdf)"
   ]
  },
  {
   "cell_type": "code",
   "execution_count": null,
   "metadata": {},
   "outputs": [],
   "source": []
  },
  {
   "cell_type": "code",
   "execution_count": 30,
   "metadata": {},
   "outputs": [],
   "source": [
    "?pd.DataFrame.merge()"
   ]
  },
  {
   "cell_type": "code",
   "execution_count": null,
   "metadata": {},
   "outputs": [],
   "source": []
  }
 ],
 "metadata": {
  "kernelspec": {
   "display_name": "Python 2",
   "language": "python",
   "name": "python2"
  },
  "language_info": {
   "codemirror_mode": {
    "name": "ipython",
    "version": 2
   },
   "file_extension": ".py",
   "mimetype": "text/x-python",
   "name": "python",
   "nbconvert_exporter": "python",
   "pygments_lexer": "ipython2",
   "version": "2.7.5"
  }
 },
 "nbformat": 4,
 "nbformat_minor": 2
}
