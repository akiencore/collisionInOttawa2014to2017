{
 "cells": [
  {
   "cell_type": "code",
   "execution_count": 1,
   "metadata": {},
   "outputs": [
    {
     "data": {
      "text/html": [
       "<script>requirejs.config({paths: { 'plotly': ['https://cdn.plot.ly/plotly-latest.min']},});if(!window.Plotly) {{require(['plotly'],function(plotly) {window.Plotly=plotly;});}}</script>"
      ],
      "text/vnd.plotly.v1+html": [
       "<script>requirejs.config({paths: { 'plotly': ['https://cdn.plot.ly/plotly-latest.min']},});if(!window.Plotly) {{require(['plotly'],function(plotly) {window.Plotly=plotly;});}}</script>"
      ]
     },
     "metadata": {},
     "output_type": "display_data"
    }
   ],
   "source": [
    "import sys\n",
    "import warnings\n",
    "if not sys.warnoptions:\n",
    "    warnings.simplefilter(\"ignore\")\n",
    "\n",
    "%matplotlib  inline               \n",
    "import pandas as pd\n",
    "import numpy as np\n",
    "\n",
    "import plotly.graph_objs as go\n",
    "from plotly.offline import download_plotlyjs, init_notebook_mode, plot, iplot\n",
    "init_notebook_mode(connected=True)\n",
    "\n",
    "#pd.set_option('html', False)  \n",
    "# unknown error, skip this step\n",
    "pd.set_option('max_columns', 30)\n",
    "pd.set_option('max_rows', 20)"
   ]
  },
  {
   "cell_type": "markdown",
   "metadata": {},
   "source": [
    "## 1. Based on organzied csv files, get a table about all vehicle collisions from 2014 to 2017"
   ]
  },
  {
   "cell_type": "markdown",
   "metadata": {},
   "source": [
    "### 1.1 combine vehicle collisions csv files from 2014 to 2017 (in the order of time)"
   ]
  },
  {
   "cell_type": "code",
   "execution_count": 2,
   "metadata": {},
   "outputs": [
    {
     "data": {
      "text/html": [
       "<div>\n",
       "<style scoped>\n",
       "    .dataframe tbody tr th:only-of-type {\n",
       "        vertical-align: middle;\n",
       "    }\n",
       "\n",
       "    .dataframe tbody tr th {\n",
       "        vertical-align: top;\n",
       "    }\n",
       "\n",
       "    .dataframe thead th {\n",
       "        text-align: right;\n",
       "    }\n",
       "</style>\n",
       "<table border=\"1\" class=\"dataframe\">\n",
       "  <thead>\n",
       "    <tr style=\"text-align: right;\">\n",
       "      <th></th>\n",
       "      <th>Record</th>\n",
       "      <th>Location</th>\n",
       "      <th>Date</th>\n",
       "      <th>Time</th>\n",
       "      <th>Environment</th>\n",
       "      <th>Road_Surface</th>\n",
       "      <th>Traffic_Control</th>\n",
       "      <th>Collision_Location</th>\n",
       "      <th>Light</th>\n",
       "      <th>Collision_Classification</th>\n",
       "      <th>Impact_type</th>\n",
       "      <th>longitude</th>\n",
       "      <th>latitude</th>\n",
       "      <th>Year</th>\n",
       "      <th>Month</th>\n",
       "      <th>Day_Of_Week</th>\n",
       "    </tr>\n",
       "  </thead>\n",
       "  <tbody>\n",
       "    <tr>\n",
       "      <th>0</th>\n",
       "      <td>2014000001</td>\n",
       "      <td>RIDEAU ST @ WALLER ST</td>\n",
       "      <td>2014-02-21</td>\n",
       "      <td>06:07:00</td>\n",
       "      <td>02 - Rain</td>\n",
       "      <td>02 - Wet</td>\n",
       "      <td>01 - Traffic signal</td>\n",
       "      <td>03 - At intersection</td>\n",
       "      <td>07 - Dark</td>\n",
       "      <td>01 - Fatal injury</td>\n",
       "      <td>07 - SMV other</td>\n",
       "      <td>-75.688726</td>\n",
       "      <td>45.427533</td>\n",
       "      <td>2014</td>\n",
       "      <td>2</td>\n",
       "      <td>T5_Fri</td>\n",
       "    </tr>\n",
       "    <tr>\n",
       "      <th>1</th>\n",
       "      <td>2014000002</td>\n",
       "      <td>HINES RD btwn INNOVATION DR &amp; SOLANDT RD</td>\n",
       "      <td>2014-08-02</td>\n",
       "      <td>13:55:00</td>\n",
       "      <td>01 - Clear</td>\n",
       "      <td>01 - Dry</td>\n",
       "      <td>10 - No control</td>\n",
       "      <td>04 - At/near private drive</td>\n",
       "      <td>01 - Daylight</td>\n",
       "      <td>01 - Fatal injury</td>\n",
       "      <td>02 - Angle</td>\n",
       "      <td>-75.921033</td>\n",
       "      <td>45.343152</td>\n",
       "      <td>2014</td>\n",
       "      <td>8</td>\n",
       "      <td>T6_Sat</td>\n",
       "    </tr>\n",
       "    <tr>\n",
       "      <th>2</th>\n",
       "      <td>2014000003</td>\n",
       "      <td>LOGGERS WAY btwn KINGDON MINE RD &amp; GALETTA SID...</td>\n",
       "      <td>2014-06-20</td>\n",
       "      <td>23:15:00</td>\n",
       "      <td>01 - Clear</td>\n",
       "      <td>01 - Dry</td>\n",
       "      <td>10 - No control</td>\n",
       "      <td>01 - Non intersection</td>\n",
       "      <td>07 - Dark</td>\n",
       "      <td>01 - Fatal injury</td>\n",
       "      <td>07 - SMV other</td>\n",
       "      <td>-76.247045</td>\n",
       "      <td>45.438627</td>\n",
       "      <td>2014</td>\n",
       "      <td>6</td>\n",
       "      <td>T5_Fri</td>\n",
       "    </tr>\n",
       "    <tr>\n",
       "      <th>3</th>\n",
       "      <td>2014000004</td>\n",
       "      <td>MONTREAL RD @ BATHGATE DR/BURMA RD</td>\n",
       "      <td>2014-07-29</td>\n",
       "      <td>16:31:00</td>\n",
       "      <td>01 - Clear</td>\n",
       "      <td>01 - Dry</td>\n",
       "      <td>01 - Traffic signal</td>\n",
       "      <td>03 - At intersection</td>\n",
       "      <td>01 - Daylight</td>\n",
       "      <td>01 - Fatal injury</td>\n",
       "      <td>05 - Turning movement</td>\n",
       "      <td>-75.625271</td>\n",
       "      <td>45.447248</td>\n",
       "      <td>2014</td>\n",
       "      <td>7</td>\n",
       "      <td>T2_Tue</td>\n",
       "    </tr>\n",
       "    <tr>\n",
       "      <th>4</th>\n",
       "      <td>2014000005</td>\n",
       "      <td>RICHMOND RD btwn FALLOWFIELD RD &amp; RUSHMORE RD</td>\n",
       "      <td>2014-08-05</td>\n",
       "      <td>20:05:00</td>\n",
       "      <td>01 - Clear</td>\n",
       "      <td>01 - Dry</td>\n",
       "      <td>10 - No control</td>\n",
       "      <td>01 - Non intersection</td>\n",
       "      <td>05 - Dusk</td>\n",
       "      <td>01 - Fatal injury</td>\n",
       "      <td>07 - SMV other</td>\n",
       "      <td>-75.820252</td>\n",
       "      <td>45.251073</td>\n",
       "      <td>2014</td>\n",
       "      <td>8</td>\n",
       "      <td>T2_Tue</td>\n",
       "    </tr>\n",
       "    <tr>\n",
       "      <th>5</th>\n",
       "      <td>2014000006</td>\n",
       "      <td>PARKDALE AVE btwn RUSKIN ST &amp; INGLEWOOD PL</td>\n",
       "      <td>2014-04-19</td>\n",
       "      <td>10:22:00</td>\n",
       "      <td>01 - Clear</td>\n",
       "      <td>01 - Dry</td>\n",
       "      <td>10 - No control</td>\n",
       "      <td>01 - Non intersection</td>\n",
       "      <td>01 - Daylight</td>\n",
       "      <td>01 - Fatal injury</td>\n",
       "      <td>06 - SMV unattended vehicle</td>\n",
       "      <td>-75.724021</td>\n",
       "      <td>45.392357</td>\n",
       "      <td>2014</td>\n",
       "      <td>4</td>\n",
       "      <td>T6_Sat</td>\n",
       "    </tr>\n",
       "    <tr>\n",
       "      <th>6</th>\n",
       "      <td>2014000007</td>\n",
       "      <td>CARLING AVE/STATION RD @ MARCH RD</td>\n",
       "      <td>2014-07-27</td>\n",
       "      <td>13:10:00</td>\n",
       "      <td>01 - Clear</td>\n",
       "      <td>01 - Dry</td>\n",
       "      <td>01 - Traffic signal</td>\n",
       "      <td>02 - Intersection related</td>\n",
       "      <td>01 - Daylight</td>\n",
       "      <td>01 - Fatal injury</td>\n",
       "      <td>99 - Other</td>\n",
       "      <td>-75.911687</td>\n",
       "      <td>45.338652</td>\n",
       "      <td>2014</td>\n",
       "      <td>7</td>\n",
       "      <td>T7_Sun</td>\n",
       "    </tr>\n",
       "    <tr>\n",
       "      <th>7</th>\n",
       "      <td>2014000008</td>\n",
       "      <td>CATHERINE ST @ KENT ST</td>\n",
       "      <td>2014-08-12</td>\n",
       "      <td>22:18:00</td>\n",
       "      <td>02 - Rain</td>\n",
       "      <td>02 - Wet</td>\n",
       "      <td>01 - Traffic signal</td>\n",
       "      <td>03 - At intersection</td>\n",
       "      <td>07 - Dark</td>\n",
       "      <td>01 - Fatal injury</td>\n",
       "      <td>07 - SMV other</td>\n",
       "      <td>-75.693767</td>\n",
       "      <td>45.408797</td>\n",
       "      <td>2014</td>\n",
       "      <td>8</td>\n",
       "      <td>T2_Tue</td>\n",
       "    </tr>\n",
       "    <tr>\n",
       "      <th>8</th>\n",
       "      <td>2014000009</td>\n",
       "      <td>DOYLE RD @ RIVER RD</td>\n",
       "      <td>2014-09-06</td>\n",
       "      <td>10:58:00</td>\n",
       "      <td>02 - Rain</td>\n",
       "      <td>02 - Wet</td>\n",
       "      <td>02 - Stop sign</td>\n",
       "      <td>02 - Intersection related</td>\n",
       "      <td>01 - Daylight</td>\n",
       "      <td>01 - Fatal injury</td>\n",
       "      <td>04 - Sideswipe</td>\n",
       "      <td>-75.622802</td>\n",
       "      <td>45.171309</td>\n",
       "      <td>2014</td>\n",
       "      <td>9</td>\n",
       "      <td>T6_Sat</td>\n",
       "    </tr>\n",
       "    <tr>\n",
       "      <th>9</th>\n",
       "      <td>2014000010</td>\n",
       "      <td>KATIMAVIK RD btwn PEARY WAY &amp; CHIMO DR</td>\n",
       "      <td>2014-04-22</td>\n",
       "      <td>16:17:00</td>\n",
       "      <td>01 - Clear</td>\n",
       "      <td>01 - Dry</td>\n",
       "      <td>10 - No control</td>\n",
       "      <td>01 - Non intersection</td>\n",
       "      <td>01 - Daylight</td>\n",
       "      <td>01 - Fatal injury</td>\n",
       "      <td>07 - SMV other</td>\n",
       "      <td>-75.886024</td>\n",
       "      <td>45.314923</td>\n",
       "      <td>2014</td>\n",
       "      <td>4</td>\n",
       "      <td>T2_Tue</td>\n",
       "    </tr>\n",
       "    <tr>\n",
       "      <th>...</th>\n",
       "      <td>...</td>\n",
       "      <td>...</td>\n",
       "      <td>...</td>\n",
       "      <td>...</td>\n",
       "      <td>...</td>\n",
       "      <td>...</td>\n",
       "      <td>...</td>\n",
       "      <td>...</td>\n",
       "      <td>...</td>\n",
       "      <td>...</td>\n",
       "      <td>...</td>\n",
       "      <td>...</td>\n",
       "      <td>...</td>\n",
       "      <td>...</td>\n",
       "      <td>...</td>\n",
       "      <td>...</td>\n",
       "    </tr>\n",
       "    <tr>\n",
       "      <th>58328</th>\n",
       "      <td>2017014385</td>\n",
       "      <td>YORK ST EB btwn TO BE DETERMINED &amp; CUMBERLAND ST</td>\n",
       "      <td>2017-03-15</td>\n",
       "      <td>10:29:00</td>\n",
       "      <td>03 - Snow</td>\n",
       "      <td>03 - Loose snow</td>\n",
       "      <td>10 - No control</td>\n",
       "      <td>04 - At/near private drive</td>\n",
       "      <td>01 - Daylight</td>\n",
       "      <td>03 - P.D. only</td>\n",
       "      <td>06 - SMV unattended vehicle</td>\n",
       "      <td>-75.689540</td>\n",
       "      <td>45.429505</td>\n",
       "      <td>2017</td>\n",
       "      <td>3</td>\n",
       "      <td>T3_Wed</td>\n",
       "    </tr>\n",
       "    <tr>\n",
       "      <th>58329</th>\n",
       "      <td>2017014386</td>\n",
       "      <td>YORK ST WB btwn BYWARD MARKE SQ &amp; SUSSEX DR</td>\n",
       "      <td>2017-06-25</td>\n",
       "      <td>02:04:00</td>\n",
       "      <td>01 - Clear</td>\n",
       "      <td>01 - Dry</td>\n",
       "      <td>10 - No control</td>\n",
       "      <td>01 - Non intersection</td>\n",
       "      <td>07 - Dark</td>\n",
       "      <td>02 - Non-fatal injury</td>\n",
       "      <td>07 - SMV other</td>\n",
       "      <td>-75.694544</td>\n",
       "      <td>45.427604</td>\n",
       "      <td>2017</td>\n",
       "      <td>6</td>\n",
       "      <td>T7_Sun</td>\n",
       "    </tr>\n",
       "    <tr>\n",
       "      <th>58330</th>\n",
       "      <td>2017014387</td>\n",
       "      <td>YORK ST WB btwn BYWARD MARKE SQ &amp; SUSSEX DR</td>\n",
       "      <td>2017-07-17</td>\n",
       "      <td>02:32:00</td>\n",
       "      <td>01 - Clear</td>\n",
       "      <td>01 - Dry</td>\n",
       "      <td>10 - No control</td>\n",
       "      <td>01 - Non intersection</td>\n",
       "      <td>07 - Dark</td>\n",
       "      <td>03 - P.D. only</td>\n",
       "      <td>07 - SMV other</td>\n",
       "      <td>-75.694788</td>\n",
       "      <td>45.427531</td>\n",
       "      <td>2017</td>\n",
       "      <td>7</td>\n",
       "      <td>T1_Mon</td>\n",
       "    </tr>\n",
       "    <tr>\n",
       "      <th>58331</th>\n",
       "      <td>2017014388</td>\n",
       "      <td>YORK ST WB btwn BYWARD MARKE SQ &amp; SUSSEX DR</td>\n",
       "      <td>2017-11-17</td>\n",
       "      <td>02:33:00</td>\n",
       "      <td>01 - Clear</td>\n",
       "      <td>01 - Dry</td>\n",
       "      <td>10 - No control</td>\n",
       "      <td>04 - At/near private drive</td>\n",
       "      <td>07 - Dark</td>\n",
       "      <td>02 - Non-fatal injury</td>\n",
       "      <td>07 - SMV other</td>\n",
       "      <td>-75.693855</td>\n",
       "      <td>45.427908</td>\n",
       "      <td>2017</td>\n",
       "      <td>11</td>\n",
       "      <td>T5_Fri</td>\n",
       "    </tr>\n",
       "    <tr>\n",
       "      <th>58332</th>\n",
       "      <td>2017014389</td>\n",
       "      <td>YORK ST WB btwn BYWARD MARKE SQ &amp; SUSSEX DR</td>\n",
       "      <td>2017-02-03</td>\n",
       "      <td>20:47:00</td>\n",
       "      <td>01 - Clear</td>\n",
       "      <td>01 - Dry</td>\n",
       "      <td>10 - No control</td>\n",
       "      <td>01 - Non intersection</td>\n",
       "      <td>07 - Dark</td>\n",
       "      <td>03 - P.D. only</td>\n",
       "      <td>02 - Angle</td>\n",
       "      <td>-75.693840</td>\n",
       "      <td>45.427903</td>\n",
       "      <td>2017</td>\n",
       "      <td>2</td>\n",
       "      <td>T5_Fri</td>\n",
       "    </tr>\n",
       "    <tr>\n",
       "      <th>58333</th>\n",
       "      <td>2017014390</td>\n",
       "      <td>YORK ST WB btwn BYWARD MARKE SQ &amp; SUSSEX DR</td>\n",
       "      <td>2017-03-25</td>\n",
       "      <td>13:11:00</td>\n",
       "      <td>01 - Clear</td>\n",
       "      <td>02 - Wet</td>\n",
       "      <td>10 - No control</td>\n",
       "      <td>04 - At/near private drive</td>\n",
       "      <td>01 - Daylight</td>\n",
       "      <td>03 - P.D. only</td>\n",
       "      <td>05 - Turning movement</td>\n",
       "      <td>-75.694409</td>\n",
       "      <td>45.427689</td>\n",
       "      <td>2017</td>\n",
       "      <td>3</td>\n",
       "      <td>T6_Sat</td>\n",
       "    </tr>\n",
       "    <tr>\n",
       "      <th>58334</th>\n",
       "      <td>2017014391</td>\n",
       "      <td>YORK ST WB btwn TO BE DETERMINED &amp; CUMBERLAND ST</td>\n",
       "      <td>2017-07-25</td>\n",
       "      <td>08:40:00</td>\n",
       "      <td>02 - Rain</td>\n",
       "      <td>02 - Wet</td>\n",
       "      <td>10 - No control</td>\n",
       "      <td>01 - Non intersection</td>\n",
       "      <td>01 - Daylight</td>\n",
       "      <td>03 - P.D. only</td>\n",
       "      <td>02 - Angle</td>\n",
       "      <td>-75.689545</td>\n",
       "      <td>45.429707</td>\n",
       "      <td>2017</td>\n",
       "      <td>7</td>\n",
       "      <td>T2_Tue</td>\n",
       "    </tr>\n",
       "    <tr>\n",
       "      <th>58335</th>\n",
       "      <td>2017014392</td>\n",
       "      <td>YORK ST WB btwn TO BE DETERMINED &amp; CUMBERLAND ST</td>\n",
       "      <td>2017-01-23</td>\n",
       "      <td>20:30:00</td>\n",
       "      <td>01 - Clear</td>\n",
       "      <td>01 - Dry</td>\n",
       "      <td>10 - No control</td>\n",
       "      <td>01 - Non intersection</td>\n",
       "      <td>07 - Dark</td>\n",
       "      <td>03 - P.D. only</td>\n",
       "      <td>06 - SMV unattended vehicle</td>\n",
       "      <td>-75.689421</td>\n",
       "      <td>45.429755</td>\n",
       "      <td>2017</td>\n",
       "      <td>1</td>\n",
       "      <td>T1_Mon</td>\n",
       "    </tr>\n",
       "    <tr>\n",
       "      <th>58336</th>\n",
       "      <td>2017014393</td>\n",
       "      <td>YORKS CORNERS RD btwn PANA RD &amp; VICTORIA ST</td>\n",
       "      <td>2017-07-18</td>\n",
       "      <td>18:03:00</td>\n",
       "      <td>01 - Clear</td>\n",
       "      <td>01 - Dry</td>\n",
       "      <td>10 - No control</td>\n",
       "      <td>01 - Non intersection</td>\n",
       "      <td>01 - Daylight</td>\n",
       "      <td>03 - P.D. only</td>\n",
       "      <td>07 - SMV other</td>\n",
       "      <td>-75.431838</td>\n",
       "      <td>45.258973</td>\n",
       "      <td>2017</td>\n",
       "      <td>7</td>\n",
       "      <td>T2_Tue</td>\n",
       "    </tr>\n",
       "    <tr>\n",
       "      <th>58337</th>\n",
       "      <td>2017014394</td>\n",
       "      <td>YORKS CORNERS RD btwn PARKWAY RD &amp; COOPER HILL RD</td>\n",
       "      <td>2017-03-23</td>\n",
       "      <td>16:21:00</td>\n",
       "      <td>01 - Clear</td>\n",
       "      <td>01 - Dry</td>\n",
       "      <td>10 - No control</td>\n",
       "      <td>01 - Non intersection</td>\n",
       "      <td>01 - Daylight</td>\n",
       "      <td>02 - Non-fatal injury</td>\n",
       "      <td>07 - SMV other</td>\n",
       "      <td>-75.453559</td>\n",
       "      <td>45.299801</td>\n",
       "      <td>2017</td>\n",
       "      <td>3</td>\n",
       "      <td>T4_Thu</td>\n",
       "    </tr>\n",
       "  </tbody>\n",
       "</table>\n",
       "<p>58338 rows × 16 columns</p>\n",
       "</div>"
      ],
      "text/plain": [
       "           Record                                           Location  \\\n",
       "0      2014000001                              RIDEAU ST @ WALLER ST   \n",
       "1      2014000002           HINES RD btwn INNOVATION DR & SOLANDT RD   \n",
       "2      2014000003  LOGGERS WAY btwn KINGDON MINE RD & GALETTA SID...   \n",
       "3      2014000004                 MONTREAL RD @ BATHGATE DR/BURMA RD   \n",
       "4      2014000005      RICHMOND RD btwn FALLOWFIELD RD & RUSHMORE RD   \n",
       "5      2014000006         PARKDALE AVE btwn RUSKIN ST & INGLEWOOD PL   \n",
       "6      2014000007                  CARLING AVE/STATION RD @ MARCH RD   \n",
       "7      2014000008                             CATHERINE ST @ KENT ST   \n",
       "8      2014000009                                DOYLE RD @ RIVER RD   \n",
       "9      2014000010             KATIMAVIK RD btwn PEARY WAY & CHIMO DR   \n",
       "...           ...                                                ...   \n",
       "58328  2017014385   YORK ST EB btwn TO BE DETERMINED & CUMBERLAND ST   \n",
       "58329  2017014386        YORK ST WB btwn BYWARD MARKE SQ & SUSSEX DR   \n",
       "58330  2017014387        YORK ST WB btwn BYWARD MARKE SQ & SUSSEX DR   \n",
       "58331  2017014388        YORK ST WB btwn BYWARD MARKE SQ & SUSSEX DR   \n",
       "58332  2017014389        YORK ST WB btwn BYWARD MARKE SQ & SUSSEX DR   \n",
       "58333  2017014390        YORK ST WB btwn BYWARD MARKE SQ & SUSSEX DR   \n",
       "58334  2017014391   YORK ST WB btwn TO BE DETERMINED & CUMBERLAND ST   \n",
       "58335  2017014392   YORK ST WB btwn TO BE DETERMINED & CUMBERLAND ST   \n",
       "58336  2017014393        YORKS CORNERS RD btwn PANA RD & VICTORIA ST   \n",
       "58337  2017014394  YORKS CORNERS RD btwn PARKWAY RD & COOPER HILL RD   \n",
       "\n",
       "            Date      Time Environment     Road_Surface      Traffic_Control  \\\n",
       "0     2014-02-21  06:07:00   02 - Rain         02 - Wet  01 - Traffic signal   \n",
       "1     2014-08-02  13:55:00  01 - Clear         01 - Dry      10 - No control   \n",
       "2     2014-06-20  23:15:00  01 - Clear         01 - Dry      10 - No control   \n",
       "3     2014-07-29  16:31:00  01 - Clear         01 - Dry  01 - Traffic signal   \n",
       "4     2014-08-05  20:05:00  01 - Clear         01 - Dry      10 - No control   \n",
       "5     2014-04-19  10:22:00  01 - Clear         01 - Dry      10 - No control   \n",
       "6     2014-07-27  13:10:00  01 - Clear         01 - Dry  01 - Traffic signal   \n",
       "7     2014-08-12  22:18:00   02 - Rain         02 - Wet  01 - Traffic signal   \n",
       "8     2014-09-06  10:58:00   02 - Rain         02 - Wet       02 - Stop sign   \n",
       "9     2014-04-22  16:17:00  01 - Clear         01 - Dry      10 - No control   \n",
       "...          ...       ...         ...              ...                  ...   \n",
       "58328 2017-03-15  10:29:00   03 - Snow  03 - Loose snow      10 - No control   \n",
       "58329 2017-06-25  02:04:00  01 - Clear         01 - Dry      10 - No control   \n",
       "58330 2017-07-17  02:32:00  01 - Clear         01 - Dry      10 - No control   \n",
       "58331 2017-11-17  02:33:00  01 - Clear         01 - Dry      10 - No control   \n",
       "58332 2017-02-03  20:47:00  01 - Clear         01 - Dry      10 - No control   \n",
       "58333 2017-03-25  13:11:00  01 - Clear         02 - Wet      10 - No control   \n",
       "58334 2017-07-25  08:40:00   02 - Rain         02 - Wet      10 - No control   \n",
       "58335 2017-01-23  20:30:00  01 - Clear         01 - Dry      10 - No control   \n",
       "58336 2017-07-18  18:03:00  01 - Clear         01 - Dry      10 - No control   \n",
       "58337 2017-03-23  16:21:00  01 - Clear         01 - Dry      10 - No control   \n",
       "\n",
       "               Collision_Location          Light Collision_Classification  \\\n",
       "0            03 - At intersection      07 - Dark        01 - Fatal injury   \n",
       "1      04 - At/near private drive  01 - Daylight        01 - Fatal injury   \n",
       "2           01 - Non intersection      07 - Dark        01 - Fatal injury   \n",
       "3            03 - At intersection  01 - Daylight        01 - Fatal injury   \n",
       "4           01 - Non intersection      05 - Dusk        01 - Fatal injury   \n",
       "5           01 - Non intersection  01 - Daylight        01 - Fatal injury   \n",
       "6       02 - Intersection related  01 - Daylight        01 - Fatal injury   \n",
       "7            03 - At intersection      07 - Dark        01 - Fatal injury   \n",
       "8       02 - Intersection related  01 - Daylight        01 - Fatal injury   \n",
       "9           01 - Non intersection  01 - Daylight        01 - Fatal injury   \n",
       "...                           ...            ...                      ...   \n",
       "58328  04 - At/near private drive  01 - Daylight           03 - P.D. only   \n",
       "58329       01 - Non intersection      07 - Dark    02 - Non-fatal injury   \n",
       "58330       01 - Non intersection      07 - Dark           03 - P.D. only   \n",
       "58331  04 - At/near private drive      07 - Dark    02 - Non-fatal injury   \n",
       "58332       01 - Non intersection      07 - Dark           03 - P.D. only   \n",
       "58333  04 - At/near private drive  01 - Daylight           03 - P.D. only   \n",
       "58334       01 - Non intersection  01 - Daylight           03 - P.D. only   \n",
       "58335       01 - Non intersection      07 - Dark           03 - P.D. only   \n",
       "58336       01 - Non intersection  01 - Daylight           03 - P.D. only   \n",
       "58337       01 - Non intersection  01 - Daylight    02 - Non-fatal injury   \n",
       "\n",
       "                       Impact_type  longitude   latitude  Year  Month  \\\n",
       "0                   07 - SMV other -75.688726  45.427533  2014      2   \n",
       "1                       02 - Angle -75.921033  45.343152  2014      8   \n",
       "2                   07 - SMV other -76.247045  45.438627  2014      6   \n",
       "3            05 - Turning movement -75.625271  45.447248  2014      7   \n",
       "4                   07 - SMV other -75.820252  45.251073  2014      8   \n",
       "5      06 - SMV unattended vehicle -75.724021  45.392357  2014      4   \n",
       "6                       99 - Other -75.911687  45.338652  2014      7   \n",
       "7                   07 - SMV other -75.693767  45.408797  2014      8   \n",
       "8                   04 - Sideswipe -75.622802  45.171309  2014      9   \n",
       "9                   07 - SMV other -75.886024  45.314923  2014      4   \n",
       "...                            ...        ...        ...   ...    ...   \n",
       "58328  06 - SMV unattended vehicle -75.689540  45.429505  2017      3   \n",
       "58329               07 - SMV other -75.694544  45.427604  2017      6   \n",
       "58330               07 - SMV other -75.694788  45.427531  2017      7   \n",
       "58331               07 - SMV other -75.693855  45.427908  2017     11   \n",
       "58332                   02 - Angle -75.693840  45.427903  2017      2   \n",
       "58333        05 - Turning movement -75.694409  45.427689  2017      3   \n",
       "58334                   02 - Angle -75.689545  45.429707  2017      7   \n",
       "58335  06 - SMV unattended vehicle -75.689421  45.429755  2017      1   \n",
       "58336               07 - SMV other -75.431838  45.258973  2017      7   \n",
       "58337               07 - SMV other -75.453559  45.299801  2017      3   \n",
       "\n",
       "      Day_Of_Week  \n",
       "0          T5_Fri  \n",
       "1          T6_Sat  \n",
       "2          T5_Fri  \n",
       "3          T2_Tue  \n",
       "4          T2_Tue  \n",
       "5          T6_Sat  \n",
       "6          T7_Sun  \n",
       "7          T2_Tue  \n",
       "8          T6_Sat  \n",
       "9          T2_Tue  \n",
       "...           ...  \n",
       "58328      T3_Wed  \n",
       "58329      T7_Sun  \n",
       "58330      T1_Mon  \n",
       "58331      T5_Fri  \n",
       "58332      T5_Fri  \n",
       "58333      T6_Sat  \n",
       "58334      T2_Tue  \n",
       "58335      T1_Mon  \n",
       "58336      T2_Tue  \n",
       "58337      T4_Thu  \n",
       "\n",
       "[58338 rows x 16 columns]"
      ]
     },
     "execution_count": 2,
     "metadata": {},
     "output_type": "execute_result"
    }
   ],
   "source": [
    "df_csv1417 = pd.DataFrame()\n",
    "\n",
    "for y in range(2014, 2018):\n",
    "    fname = \"collision%d.csv\" % (y)\n",
    "    tmp_df = pd.read_csv(fname)\n",
    "    tmp_df[\"Year\"] = y\n",
    "    df_csv1417 = df_csv1417.append(tmp_df, sort = False)\n",
    "\n",
    "df_csv1417.index = range(df_csv1417.shape[0])\n",
    "df_csv1417[\"Date\"] = pd.to_datetime(df_csv1417[\"Date\"])\n",
    "\n",
    "df_csv1417[\"Month\"] = df_csv1417[\"Date\"].apply(lambda x: x.month)\n",
    "\n",
    "def DayOfWeek(date):\n",
    "    dw = date.weekday()\n",
    "    rst = {\n",
    "        0: 'T1_Mon',\n",
    "        1: 'T2_Tue',\n",
    "        2: 'T3_Wed',\n",
    "        3: 'T4_Thu',\n",
    "        4: 'T5_Fri',\n",
    "        5: 'T6_Sat',\n",
    "        6: 'T7_Sun'\n",
    "    }[dw]\n",
    "    return rst\n",
    "\n",
    "df_csv1417[\"Day_Of_Week\"] = df_csv1417[\"Date\"].apply(lambda x: DayOfWeek(x))\n",
    "\n",
    "df_csv1417[\"Environment\"] = df_csv1417[\"Environment\"].astype(\"category\")\n",
    "df_csv1417[\"Road_Surface\"] = df_csv1417[\"Road_Surface\"].astype(\"category\")\n",
    "df_csv1417[\"Traffic_Control\"] = df_csv1417[\"Traffic_Control\"].astype(\"category\")\n",
    "df_csv1417[\"Collision_Location\"] = df_csv1417[\"Collision_Location\"].astype(\"category\")\n",
    "df_csv1417[\"Light\"] = df_csv1417[\"Light\"].astype(\"category\")\n",
    "df_csv1417[\"Collision_Classification\"] = df_csv1417[\"Collision_Classification\"].astype(\"category\")\n",
    "df_csv1417[\"Impact_type\"] = df_csv1417[\"Impact_type\"].astype(\"category\")\n",
    "\n",
    "df_csv1417"
   ]
  },
  {
   "cell_type": "markdown",
   "metadata": {},
   "source": [
    "### 1.2 append collision table with daily weather"
   ]
  },
  {
   "cell_type": "code",
   "execution_count": 3,
   "metadata": {},
   "outputs": [
    {
     "data": {
      "text/html": [
       "<div>\n",
       "<style scoped>\n",
       "    .dataframe tbody tr th:only-of-type {\n",
       "        vertical-align: middle;\n",
       "    }\n",
       "\n",
       "    .dataframe tbody tr th {\n",
       "        vertical-align: top;\n",
       "    }\n",
       "\n",
       "    .dataframe thead th {\n",
       "        text-align: right;\n",
       "    }\n",
       "</style>\n",
       "<table border=\"1\" class=\"dataframe\">\n",
       "  <thead>\n",
       "    <tr style=\"text-align: right;\">\n",
       "      <th></th>\n",
       "      <th>Date</th>\n",
       "      <th>Max Temp (°C)</th>\n",
       "      <th>Min Temp (°C)</th>\n",
       "      <th>Mean Temp (°C)</th>\n",
       "      <th>Total Rain (mm)</th>\n",
       "      <th>Total Snow (cm)</th>\n",
       "      <th>Total Precip (mm)</th>\n",
       "      <th>Snow on Grnd (cm)</th>\n",
       "      <th>Number of Collisions</th>\n",
       "      <th>Year</th>\n",
       "      <th>Month</th>\n",
       "      <th>Day in month</th>\n",
       "    </tr>\n",
       "  </thead>\n",
       "  <tbody>\n",
       "    <tr>\n",
       "      <th>0</th>\n",
       "      <td>2014-01-01</td>\n",
       "      <td>-19.2</td>\n",
       "      <td>-23.0</td>\n",
       "      <td>-21.1</td>\n",
       "      <td>0.0</td>\n",
       "      <td>0.0</td>\n",
       "      <td>0.0</td>\n",
       "      <td>30</td>\n",
       "      <td>31</td>\n",
       "      <td>2014</td>\n",
       "      <td>1</td>\n",
       "      <td>1</td>\n",
       "    </tr>\n",
       "    <tr>\n",
       "      <th>1</th>\n",
       "      <td>2014-01-02</td>\n",
       "      <td>-20.8</td>\n",
       "      <td>-27.1</td>\n",
       "      <td>-24.0</td>\n",
       "      <td>0.0</td>\n",
       "      <td>0.0</td>\n",
       "      <td>0.0</td>\n",
       "      <td>29</td>\n",
       "      <td>74</td>\n",
       "      <td>2014</td>\n",
       "      <td>1</td>\n",
       "      <td>2</td>\n",
       "    </tr>\n",
       "    <tr>\n",
       "      <th>2</th>\n",
       "      <td>2014-01-03</td>\n",
       "      <td>-21.0</td>\n",
       "      <td>-28.1</td>\n",
       "      <td>-24.6</td>\n",
       "      <td>0.0</td>\n",
       "      <td>0.3</td>\n",
       "      <td>0.0</td>\n",
       "      <td>29</td>\n",
       "      <td>151</td>\n",
       "      <td>2014</td>\n",
       "      <td>1</td>\n",
       "      <td>3</td>\n",
       "    </tr>\n",
       "    <tr>\n",
       "      <th>3</th>\n",
       "      <td>2014-01-04</td>\n",
       "      <td>-8.5</td>\n",
       "      <td>-27.5</td>\n",
       "      <td>-18.0</td>\n",
       "      <td>0.0</td>\n",
       "      <td>7.5</td>\n",
       "      <td>2.6</td>\n",
       "      <td>29</td>\n",
       "      <td>51</td>\n",
       "      <td>2014</td>\n",
       "      <td>1</td>\n",
       "      <td>4</td>\n",
       "    </tr>\n",
       "    <tr>\n",
       "      <th>4</th>\n",
       "      <td>2014-01-05</td>\n",
       "      <td>5.8</td>\n",
       "      <td>-12.0</td>\n",
       "      <td>-3.1</td>\n",
       "      <td>13.2</td>\n",
       "      <td>5.5</td>\n",
       "      <td>18.6</td>\n",
       "      <td>36</td>\n",
       "      <td>52</td>\n",
       "      <td>2014</td>\n",
       "      <td>1</td>\n",
       "      <td>5</td>\n",
       "    </tr>\n",
       "    <tr>\n",
       "      <th>5</th>\n",
       "      <td>2014-01-06</td>\n",
       "      <td>5.8</td>\n",
       "      <td>-8.2</td>\n",
       "      <td>-1.2</td>\n",
       "      <td>0.0</td>\n",
       "      <td>0.0</td>\n",
       "      <td>0.0</td>\n",
       "      <td>31</td>\n",
       "      <td>36</td>\n",
       "      <td>2014</td>\n",
       "      <td>1</td>\n",
       "      <td>6</td>\n",
       "    </tr>\n",
       "    <tr>\n",
       "      <th>6</th>\n",
       "      <td>2014-01-07</td>\n",
       "      <td>-14.0</td>\n",
       "      <td>-17.9</td>\n",
       "      <td>-16.0</td>\n",
       "      <td>0.0</td>\n",
       "      <td>0.0</td>\n",
       "      <td>0.0</td>\n",
       "      <td>29</td>\n",
       "      <td>69</td>\n",
       "      <td>2014</td>\n",
       "      <td>1</td>\n",
       "      <td>7</td>\n",
       "    </tr>\n",
       "    <tr>\n",
       "      <th>7</th>\n",
       "      <td>2014-01-08</td>\n",
       "      <td>-9.5</td>\n",
       "      <td>-16.4</td>\n",
       "      <td>-13.0</td>\n",
       "      <td>0.0</td>\n",
       "      <td>0.0</td>\n",
       "      <td>0.0</td>\n",
       "      <td>29</td>\n",
       "      <td>71</td>\n",
       "      <td>2014</td>\n",
       "      <td>1</td>\n",
       "      <td>8</td>\n",
       "    </tr>\n",
       "    <tr>\n",
       "      <th>8</th>\n",
       "      <td>2014-01-09</td>\n",
       "      <td>-7.6</td>\n",
       "      <td>-14.7</td>\n",
       "      <td>-11.2</td>\n",
       "      <td>0.0</td>\n",
       "      <td>0.5</td>\n",
       "      <td>0.2</td>\n",
       "      <td>29</td>\n",
       "      <td>74</td>\n",
       "      <td>2014</td>\n",
       "      <td>1</td>\n",
       "      <td>9</td>\n",
       "    </tr>\n",
       "    <tr>\n",
       "      <th>9</th>\n",
       "      <td>2014-01-10</td>\n",
       "      <td>-1.5</td>\n",
       "      <td>-15.1</td>\n",
       "      <td>-8.3</td>\n",
       "      <td>0.0</td>\n",
       "      <td>0.0</td>\n",
       "      <td>0.0</td>\n",
       "      <td>29</td>\n",
       "      <td>36</td>\n",
       "      <td>2014</td>\n",
       "      <td>1</td>\n",
       "      <td>10</td>\n",
       "    </tr>\n",
       "    <tr>\n",
       "      <th>...</th>\n",
       "      <td>...</td>\n",
       "      <td>...</td>\n",
       "      <td>...</td>\n",
       "      <td>...</td>\n",
       "      <td>...</td>\n",
       "      <td>...</td>\n",
       "      <td>...</td>\n",
       "      <td>...</td>\n",
       "      <td>...</td>\n",
       "      <td>...</td>\n",
       "      <td>...</td>\n",
       "      <td>...</td>\n",
       "    </tr>\n",
       "    <tr>\n",
       "      <th>1451</th>\n",
       "      <td>2017-12-22</td>\n",
       "      <td>-8.5</td>\n",
       "      <td>-16.0</td>\n",
       "      <td>-12.3</td>\n",
       "      <td>0.0</td>\n",
       "      <td>0.0</td>\n",
       "      <td>0.0</td>\n",
       "      <td>14</td>\n",
       "      <td>57</td>\n",
       "      <td>2017</td>\n",
       "      <td>12</td>\n",
       "      <td>22</td>\n",
       "    </tr>\n",
       "    <tr>\n",
       "      <th>1452</th>\n",
       "      <td>2017-12-23</td>\n",
       "      <td>-6.5</td>\n",
       "      <td>-12.5</td>\n",
       "      <td>-9.5</td>\n",
       "      <td>0.0</td>\n",
       "      <td>4.0</td>\n",
       "      <td>3.8</td>\n",
       "      <td>13</td>\n",
       "      <td>75</td>\n",
       "      <td>2017</td>\n",
       "      <td>12</td>\n",
       "      <td>23</td>\n",
       "    </tr>\n",
       "    <tr>\n",
       "      <th>1453</th>\n",
       "      <td>2017-12-24</td>\n",
       "      <td>-6.0</td>\n",
       "      <td>-12.0</td>\n",
       "      <td>-9.0</td>\n",
       "      <td>0.0</td>\n",
       "      <td>4.0</td>\n",
       "      <td>4.0</td>\n",
       "      <td>18</td>\n",
       "      <td>28</td>\n",
       "      <td>2017</td>\n",
       "      <td>12</td>\n",
       "      <td>24</td>\n",
       "    </tr>\n",
       "    <tr>\n",
       "      <th>1454</th>\n",
       "      <td>2017-12-25</td>\n",
       "      <td>-5.5</td>\n",
       "      <td>-9.0</td>\n",
       "      <td>-7.3</td>\n",
       "      <td>0.0</td>\n",
       "      <td>1.0</td>\n",
       "      <td>0.4</td>\n",
       "      <td>22</td>\n",
       "      <td>31</td>\n",
       "      <td>2017</td>\n",
       "      <td>12</td>\n",
       "      <td>25</td>\n",
       "    </tr>\n",
       "    <tr>\n",
       "      <th>1455</th>\n",
       "      <td>2017-12-26</td>\n",
       "      <td>-13.0</td>\n",
       "      <td>-16.0</td>\n",
       "      <td>-14.5</td>\n",
       "      <td>0.0</td>\n",
       "      <td>0.0</td>\n",
       "      <td>0.0</td>\n",
       "      <td>21</td>\n",
       "      <td>44</td>\n",
       "      <td>2017</td>\n",
       "      <td>12</td>\n",
       "      <td>26</td>\n",
       "    </tr>\n",
       "    <tr>\n",
       "      <th>1456</th>\n",
       "      <td>2017-12-27</td>\n",
       "      <td>-20.0</td>\n",
       "      <td>-26.1</td>\n",
       "      <td>-23.1</td>\n",
       "      <td>0.0</td>\n",
       "      <td>0.0</td>\n",
       "      <td>0.0</td>\n",
       "      <td>20</td>\n",
       "      <td>62</td>\n",
       "      <td>2017</td>\n",
       "      <td>12</td>\n",
       "      <td>27</td>\n",
       "    </tr>\n",
       "    <tr>\n",
       "      <th>1457</th>\n",
       "      <td>2017-12-28</td>\n",
       "      <td>-20.3</td>\n",
       "      <td>-27.1</td>\n",
       "      <td>-23.7</td>\n",
       "      <td>0.0</td>\n",
       "      <td>0.0</td>\n",
       "      <td>0.0</td>\n",
       "      <td>20</td>\n",
       "      <td>73</td>\n",
       "      <td>2017</td>\n",
       "      <td>12</td>\n",
       "      <td>28</td>\n",
       "    </tr>\n",
       "    <tr>\n",
       "      <th>1458</th>\n",
       "      <td>2017-12-29</td>\n",
       "      <td>-17.5</td>\n",
       "      <td>-26.2</td>\n",
       "      <td>-21.9</td>\n",
       "      <td>0.0</td>\n",
       "      <td>0.0</td>\n",
       "      <td>0.0</td>\n",
       "      <td>20</td>\n",
       "      <td>63</td>\n",
       "      <td>2017</td>\n",
       "      <td>12</td>\n",
       "      <td>29</td>\n",
       "    </tr>\n",
       "    <tr>\n",
       "      <th>1459</th>\n",
       "      <td>2017-12-30</td>\n",
       "      <td>-16.0</td>\n",
       "      <td>-27.0</td>\n",
       "      <td>-21.5</td>\n",
       "      <td>0.0</td>\n",
       "      <td>1.0</td>\n",
       "      <td>0.4</td>\n",
       "      <td>19</td>\n",
       "      <td>47</td>\n",
       "      <td>2017</td>\n",
       "      <td>12</td>\n",
       "      <td>30</td>\n",
       "    </tr>\n",
       "    <tr>\n",
       "      <th>1460</th>\n",
       "      <td>2017-12-31</td>\n",
       "      <td>-19.5</td>\n",
       "      <td>-24.5</td>\n",
       "      <td>-22.0</td>\n",
       "      <td>0.0</td>\n",
       "      <td>0.0</td>\n",
       "      <td>0.0</td>\n",
       "      <td>20</td>\n",
       "      <td>43</td>\n",
       "      <td>2017</td>\n",
       "      <td>12</td>\n",
       "      <td>31</td>\n",
       "    </tr>\n",
       "  </tbody>\n",
       "</table>\n",
       "<p>1461 rows × 12 columns</p>\n",
       "</div>"
      ],
      "text/plain": [
       "           Date  Max Temp (°C)  Min Temp (°C)  Mean Temp (°C)  \\\n",
       "0    2014-01-01          -19.2          -23.0           -21.1   \n",
       "1    2014-01-02          -20.8          -27.1           -24.0   \n",
       "2    2014-01-03          -21.0          -28.1           -24.6   \n",
       "3    2014-01-04           -8.5          -27.5           -18.0   \n",
       "4    2014-01-05            5.8          -12.0            -3.1   \n",
       "5    2014-01-06            5.8           -8.2            -1.2   \n",
       "6    2014-01-07          -14.0          -17.9           -16.0   \n",
       "7    2014-01-08           -9.5          -16.4           -13.0   \n",
       "8    2014-01-09           -7.6          -14.7           -11.2   \n",
       "9    2014-01-10           -1.5          -15.1            -8.3   \n",
       "...         ...            ...            ...             ...   \n",
       "1451 2017-12-22           -8.5          -16.0           -12.3   \n",
       "1452 2017-12-23           -6.5          -12.5            -9.5   \n",
       "1453 2017-12-24           -6.0          -12.0            -9.0   \n",
       "1454 2017-12-25           -5.5           -9.0            -7.3   \n",
       "1455 2017-12-26          -13.0          -16.0           -14.5   \n",
       "1456 2017-12-27          -20.0          -26.1           -23.1   \n",
       "1457 2017-12-28          -20.3          -27.1           -23.7   \n",
       "1458 2017-12-29          -17.5          -26.2           -21.9   \n",
       "1459 2017-12-30          -16.0          -27.0           -21.5   \n",
       "1460 2017-12-31          -19.5          -24.5           -22.0   \n",
       "\n",
       "      Total Rain (mm)  Total Snow (cm)  Total Precip (mm)  Snow on Grnd (cm)  \\\n",
       "0                 0.0              0.0                0.0                 30   \n",
       "1                 0.0              0.0                0.0                 29   \n",
       "2                 0.0              0.3                0.0                 29   \n",
       "3                 0.0              7.5                2.6                 29   \n",
       "4                13.2              5.5               18.6                 36   \n",
       "5                 0.0              0.0                0.0                 31   \n",
       "6                 0.0              0.0                0.0                 29   \n",
       "7                 0.0              0.0                0.0                 29   \n",
       "8                 0.0              0.5                0.2                 29   \n",
       "9                 0.0              0.0                0.0                 29   \n",
       "...               ...              ...                ...                ...   \n",
       "1451              0.0              0.0                0.0                 14   \n",
       "1452              0.0              4.0                3.8                 13   \n",
       "1453              0.0              4.0                4.0                 18   \n",
       "1454              0.0              1.0                0.4                 22   \n",
       "1455              0.0              0.0                0.0                 21   \n",
       "1456              0.0              0.0                0.0                 20   \n",
       "1457              0.0              0.0                0.0                 20   \n",
       "1458              0.0              0.0                0.0                 20   \n",
       "1459              0.0              1.0                0.4                 19   \n",
       "1460              0.0              0.0                0.0                 20   \n",
       "\n",
       "      Number of Collisions  Year  Month  Day in month  \n",
       "0                       31  2014      1             1  \n",
       "1                       74  2014      1             2  \n",
       "2                      151  2014      1             3  \n",
       "3                       51  2014      1             4  \n",
       "4                       52  2014      1             5  \n",
       "5                       36  2014      1             6  \n",
       "6                       69  2014      1             7  \n",
       "7                       71  2014      1             8  \n",
       "8                       74  2014      1             9  \n",
       "9                       36  2014      1            10  \n",
       "...                    ...   ...    ...           ...  \n",
       "1451                    57  2017     12            22  \n",
       "1452                    75  2017     12            23  \n",
       "1453                    28  2017     12            24  \n",
       "1454                    31  2017     12            25  \n",
       "1455                    44  2017     12            26  \n",
       "1456                    62  2017     12            27  \n",
       "1457                    73  2017     12            28  \n",
       "1458                    63  2017     12            29  \n",
       "1459                    47  2017     12            30  \n",
       "1460                    43  2017     12            31  \n",
       "\n",
       "[1461 rows x 12 columns]"
      ]
     },
     "execution_count": 3,
     "metadata": {},
     "output_type": "execute_result"
    }
   ],
   "source": [
    "wt1417 = pd.read_csv(\"weather1417.csv\")\n",
    "\n",
    "casesByDay = df_csv1417.groupby(['Date']).size().tolist()\n",
    "wt1417[\"Number of Collisions\"] = casesByDay\n",
    "\n",
    "wt1417[\"Date\"] = pd.to_datetime(wt1417[\"Date\"])\n",
    "\n",
    "wt1417[\"Year\"] = wt1417[\"Date\"].apply(lambda x: x.year)\n",
    "wt1417[\"Month\"] = wt1417[\"Date\"].apply(lambda x: x.month)\n",
    "wt1417[\"Day in month\"] = wt1417[\"Date\"].apply(lambda x: x.day)\n",
    "\n",
    "wt1417"
   ]
  },
  {
   "cell_type": "code",
   "execution_count": 50,
   "metadata": {},
   "outputs": [
    {
     "data": {
      "text/plain": [
       "Date\n",
       "2014-01-01     31\n",
       "2014-01-02     74\n",
       "2014-01-03    151\n",
       "2014-01-04     51\n",
       "2014-01-05     52\n",
       "2014-01-06     36\n",
       "2014-01-07     69\n",
       "2014-01-08     71\n",
       "2014-01-09     74\n",
       "2014-01-10     36\n",
       "             ... \n",
       "2017-12-22     57\n",
       "2017-12-23     75\n",
       "2017-12-24     28\n",
       "2017-12-25     31\n",
       "2017-12-26     44\n",
       "2017-12-27     62\n",
       "2017-12-28     73\n",
       "2017-12-29     63\n",
       "2017-12-30     47\n",
       "2017-12-31     43\n",
       "Length: 1461, dtype: int64"
      ]
     },
     "execution_count": 50,
     "metadata": {},
     "output_type": "execute_result"
    }
   ],
   "source": []
  },
  {
   "cell_type": "markdown",
   "metadata": {},
   "source": [
    "### 1.3 mark holdays"
   ]
  },
  {
   "cell_type": "markdown",
   "metadata": {},
   "source": [
    "## 2. Based on the table we get, do "
   ]
  },
  {
   "cell_type": "markdown",
   "metadata": {},
   "source": [
    "### 2.1 Overview"
   ]
  },
  {
   "cell_type": "code",
   "execution_count": 4,
   "metadata": {},
   "outputs": [
    {
     "data": {
      "application/vnd.plotly.v1+json": {
       "data": [
        {
         "name": "Number of vehicle collisions in year",
         "opacity": 0.6,
         "text": [
          "14843",
          "15078",
          "14023",
          "14394"
         ],
         "textposition": "auto",
         "type": "bar",
         "uid": "f3850cb0-a193-11e8-9409-0800275aa47c",
         "x": [
          2014,
          2015,
          2016,
          2017
         ],
         "y": [
          14843,
          15078,
          14023,
          14394
         ]
        },
        {
         "mode": "lines+text+markers",
         "name": "Growth rate of vehicle collisions (compared with the previous year)",
         "text": [
          "",
          "1.58%",
          "-7.00%",
          "2.65%"
         ],
         "textposition": "top center",
         "type": "scatter",
         "uid": "f3851002-a193-11e8-9409-0800275aa47c",
         "x": [
          2014,
          2015,
          2016,
          2017
         ],
         "y": [
          14843,
          15078,
          14023,
          14394
         ]
        }
       ],
       "layout": {
        "title": "Number of vehicle collisions in year",
        "xaxis": {
         "dtick": 1,
         "title": "Year"
        }
       }
      },
      "text/html": [
       "<div id=\"f0dac0fc-3183-4721-99ec-2329f77d3b06\" style=\"height: 525px; width: 100%;\" class=\"plotly-graph-div\"></div><script type=\"text/javascript\">require([\"plotly\"], function(Plotly) { window.PLOTLYENV=window.PLOTLYENV || {};window.PLOTLYENV.BASE_URL=\"https://plot.ly\";Plotly.newPlot(\"f0dac0fc-3183-4721-99ec-2329f77d3b06\", [{\"opacity\": 0.6, \"textposition\": \"auto\", \"name\": \"Number of vehicle collisions in year\", \"text\": [\"14843\", \"15078\", \"14023\", \"14394\"], \"y\": [14843.0, 15078.0, 14023.0, 14394.0], \"x\": [2014, 2015, 2016, 2017], \"type\": \"bar\", \"uid\": \"f3890ba8-a193-11e8-9409-0800275aa47c\"}, {\"textposition\": \"top center\", \"name\": \"Growth rate of vehicle collisions (compared with the previous year)\", \"text\": [\"\", \"1.58%\", \"-7.00%\", \"2.65%\"], \"mode\": \"lines+text+markers\", \"y\": [14843.0, 15078.0, 14023.0, 14394.0], \"x\": [2014, 2015, 2016, 2017], \"type\": \"scatter\", \"uid\": \"f3890e00-a193-11e8-9409-0800275aa47c\"}], {\"xaxis\": {\"dtick\": 1, \"title\": \"Year\"}, \"title\": \"Number of vehicle collisions in year\"}, {\"linkText\": \"Export to plot.ly\", \"showLink\": true})});</script>"
      ],
      "text/vnd.plotly.v1+html": [
       "<div id=\"f0dac0fc-3183-4721-99ec-2329f77d3b06\" style=\"height: 525px; width: 100%;\" class=\"plotly-graph-div\"></div><script type=\"text/javascript\">require([\"plotly\"], function(Plotly) { window.PLOTLYENV=window.PLOTLYENV || {};window.PLOTLYENV.BASE_URL=\"https://plot.ly\";Plotly.newPlot(\"f0dac0fc-3183-4721-99ec-2329f77d3b06\", [{\"opacity\": 0.6, \"textposition\": \"auto\", \"name\": \"Number of vehicle collisions in year\", \"text\": [\"14843\", \"15078\", \"14023\", \"14394\"], \"y\": [14843.0, 15078.0, 14023.0, 14394.0], \"x\": [2014, 2015, 2016, 2017], \"type\": \"bar\", \"uid\": \"f3890ba8-a193-11e8-9409-0800275aa47c\"}, {\"textposition\": \"top center\", \"name\": \"Growth rate of vehicle collisions (compared with the previous year)\", \"text\": [\"\", \"1.58%\", \"-7.00%\", \"2.65%\"], \"mode\": \"lines+text+markers\", \"y\": [14843.0, 15078.0, 14023.0, 14394.0], \"x\": [2014, 2015, 2016, 2017], \"type\": \"scatter\", \"uid\": \"f3890e00-a193-11e8-9409-0800275aa47c\"}], {\"xaxis\": {\"dtick\": 1, \"title\": \"Year\"}, \"title\": \"Number of vehicle collisions in year\"}, {\"linkText\": \"Export to plot.ly\", \"showLink\": true})});</script>"
      ]
     },
     "metadata": {},
     "output_type": "display_data"
    },
    {
     "name": "stdout",
     "output_type": "stream",
     "text": [
      "Total number of cases: 58338\n"
     ]
    }
   ],
   "source": [
    "countOfCollision = df_csv1417.groupby(['Year']).size()\n",
    "growthRate = (countOfCollision.pct_change()*100).apply(lambda x: '' if pd.isna(x) else format(x,'.2f') + '%')\n",
    "barOfYear = go.Bar(x = range(2014,2018), \n",
    "                   y = countOfCollision,\n",
    "                   text = countOfCollision,\n",
    "                   textposition = 'auto',\n",
    "                   opacity=0.6, \n",
    "                   name = 'Number of vehicle collisions in year')\n",
    "scatterOfYear = go.Scatter(x = range(2014,2018), \n",
    "                           y = countOfCollision,\n",
    "                           text = growthRate,\n",
    "                           mode = 'lines+text+markers',\n",
    "                           textposition = 'top center',\n",
    "                           name = 'Growth rate of vehicle collisions (compared with the previous year)')\n",
    "\n",
    "fig = dict(data = [barOfYear,scatterOfYear], \n",
    "           layout = go.Layout(title = 'Number of vehicle collisions in year', xaxis=dict(title='Year', dtick=1)))\n",
    "iplot(fig)\n",
    "\n",
    "print(\"Total number of cases: \" + str(countOfCollision.sum()))"
   ]
  },
  {
   "cell_type": "markdown",
   "metadata": {},
   "source": [
    "**Brief Conclusion:**\n",
    "* From January 1, 2014 to December 31, 2017, there were **58338** vehicle collision cases happened in Ottawa. \n",
    "* The differences of vehicle collision cases during 4 years are small. \n",
    "* There is a relatively big decrease of the number of cases between 2015 and 2016(-7.0%), while the rest of growth rate between years are increase. \n",
    "\n",
    "**Hypothesis:**\n",
    "* There's no relationship between year and vehicle collisions, or to say driving in a specific year does not lead to a vehicle collision. "
   ]
  },
  {
   "cell_type": "markdown",
   "metadata": {},
   "source": [
    "### 2.2 Percentage of single possible causes of accident"
   ]
  },
  {
   "cell_type": "code",
   "execution_count": 5,
   "metadata": {},
   "outputs": [
    {
     "data": {
      "application/vnd.plotly.v1+json": {
       "data": [
        {
         "cells": {
          "align": [
           "left",
           "right",
           "right"
          ],
          "font": {
           "color": [
            "rgb(40, 40, 40)",
            "rgb(40, 40, 40)",
            "rgb(40, 40, 40)",
            "rgb(40, 40, 40)",
            "rgb(40, 40, 40)"
           ],
           "size": 12
          },
          "format": [
           null,
           null,
           ".2f"
          ],
          "suffix": [
           "",
           "",
           "%"
          ],
          "values": [
           [
            "01 - Clear",
            "03 - Snow",
            "02 - Rain",
            "04 - Freezing Rain",
            "05 - Drifting Snow",
            "07 - Fog, mist, smoke, dust",
            "06 - Strong wind",
            "00 - Unknown",
            "99 - Other"
           ],
           [
            45929,
            5664,
            5433,
            672,
            304,
            164,
            86,
            67,
            18
           ],
           [
            78.73047979841267,
            9.709103999177195,
            9.31312888904126,
            1.151927593122718,
            0.5211101016507534,
            0.2811251864168538,
            0.1474193050722526,
            0.11484992371908051,
            0.030855203387215663
           ]
          ]
         },
         "columnwidth": [
          110,
          55,
          55
         ],
         "domain": {
          "x": [
           0,
           0.4
          ],
          "y": [
           0,
           1
          ]
         },
         "header": {
          "values": [
           "<b>Environment</b>",
           "<b># of Cases</b>",
           "<b>Percentage</b>"
          ]
         },
         "type": "table",
         "uid": "f5aaee2e-a193-11e8-9409-0800275aa47c"
        },
        {
         "domain": {
          "x": [
           0.6,
           1
          ],
          "y": [
           0,
           1
          ]
         },
         "hole": 0.4,
         "hoverinfo": "label+percent+name",
         "labels": [
          "01 - Clear",
          "03 - Snow",
          "02 - Rain",
          "04 - Freezing Rain",
          "05 - Drifting Snow",
          "07 - Fog, mist, smoke, dust",
          "06 - Strong wind",
          "00 - Unknown",
          "99 - Other"
         ],
         "name": "Environment",
         "showlegend": true,
         "type": "pie",
         "uid": "f5aaf0cc-a193-11e8-9409-0800275aa47c",
         "values": [
          45929,
          5664,
          5433,
          672,
          304,
          164,
          86,
          67,
          18
         ]
        }
       ],
       "layout": {
        "title": "Environment"
       }
      },
      "text/html": [
       "<div id=\"aacf4046-b4d8-41de-9a82-acdfa550e809\" style=\"height: 525px; width: 100%;\" class=\"plotly-graph-div\"></div><script type=\"text/javascript\">require([\"plotly\"], function(Plotly) { window.PLOTLYENV=window.PLOTLYENV || {};window.PLOTLYENV.BASE_URL=\"https://plot.ly\";Plotly.newPlot(\"aacf4046-b4d8-41de-9a82-acdfa550e809\", [{\"domain\": {\"y\": [0, 1.0], \"x\": [0, 0.4]}, \"uid\": \"f5ade6ba-a193-11e8-9409-0800275aa47c\", \"columnwidth\": [110, 55, 55], \"cells\": {\"align\": [\"left\", \"right\", \"right\"], \"font\": {\"color\": [\"rgb(40, 40, 40)\", \"rgb(40, 40, 40)\", \"rgb(40, 40, 40)\", \"rgb(40, 40, 40)\", \"rgb(40, 40, 40)\"], \"size\": 12}, \"values\": [[\"01 - Clear\", \"03 - Snow\", \"02 - Rain\", \"04 - Freezing Rain\", \"05 - Drifting Snow\", \"07 - Fog, mist, smoke, dust\", \"06 - Strong wind\", \"00 - Unknown\", \"99 - Other\"], [45929, 5664, 5433, 672, 304, 164, 86, 67, 18], [78.73047979841267, 9.709103999177195, 9.31312888904126, 1.151927593122718, 0.5211101016507534, 0.2811251864168538, 0.1474193050722526, 0.11484992371908051, 0.030855203387215663]], \"suffix\": [\"\", \"\", \"%\"], \"format\": [null, null, \".2f\"]}, \"header\": {\"values\": [\"<b>Environment</b>\", \"<b># of Cases</b>\", \"<b>Percentage</b>\"]}, \"type\": \"table\"}, {\"showlegend\": true, \"name\": \"Environment\", \"labels\": [\"01 - Clear\", \"03 - Snow\", \"02 - Rain\", \"04 - Freezing Rain\", \"05 - Drifting Snow\", \"07 - Fog, mist, smoke, dust\", \"06 - Strong wind\", \"00 - Unknown\", \"99 - Other\"], \"domain\": {\"y\": [0, 1.0], \"x\": [0.6, 1.0]}, \"values\": [45929.0, 5664.0, 5433.0, 672.0, 304.0, 164.0, 86.0, 67.0, 18.0], \"hoverinfo\": \"label+percent+name\", \"hole\": 0.4, \"type\": \"pie\", \"uid\": \"f5ade8ea-a193-11e8-9409-0800275aa47c\"}], {\"title\": \"Environment\"}, {\"linkText\": \"Export to plot.ly\", \"showLink\": true})});</script>"
      ],
      "text/vnd.plotly.v1+html": [
       "<div id=\"aacf4046-b4d8-41de-9a82-acdfa550e809\" style=\"height: 525px; width: 100%;\" class=\"plotly-graph-div\"></div><script type=\"text/javascript\">require([\"plotly\"], function(Plotly) { window.PLOTLYENV=window.PLOTLYENV || {};window.PLOTLYENV.BASE_URL=\"https://plot.ly\";Plotly.newPlot(\"aacf4046-b4d8-41de-9a82-acdfa550e809\", [{\"domain\": {\"y\": [0, 1.0], \"x\": [0, 0.4]}, \"uid\": \"f5ade6ba-a193-11e8-9409-0800275aa47c\", \"columnwidth\": [110, 55, 55], \"cells\": {\"align\": [\"left\", \"right\", \"right\"], \"font\": {\"color\": [\"rgb(40, 40, 40)\", \"rgb(40, 40, 40)\", \"rgb(40, 40, 40)\", \"rgb(40, 40, 40)\", \"rgb(40, 40, 40)\"], \"size\": 12}, \"values\": [[\"01 - Clear\", \"03 - Snow\", \"02 - Rain\", \"04 - Freezing Rain\", \"05 - Drifting Snow\", \"07 - Fog, mist, smoke, dust\", \"06 - Strong wind\", \"00 - Unknown\", \"99 - Other\"], [45929, 5664, 5433, 672, 304, 164, 86, 67, 18], [78.73047979841267, 9.709103999177195, 9.31312888904126, 1.151927593122718, 0.5211101016507534, 0.2811251864168538, 0.1474193050722526, 0.11484992371908051, 0.030855203387215663]], \"suffix\": [\"\", \"\", \"%\"], \"format\": [null, null, \".2f\"]}, \"header\": {\"values\": [\"<b>Environment</b>\", \"<b># of Cases</b>\", \"<b>Percentage</b>\"]}, \"type\": \"table\"}, {\"showlegend\": true, \"name\": \"Environment\", \"labels\": [\"01 - Clear\", \"03 - Snow\", \"02 - Rain\", \"04 - Freezing Rain\", \"05 - Drifting Snow\", \"07 - Fog, mist, smoke, dust\", \"06 - Strong wind\", \"00 - Unknown\", \"99 - Other\"], \"domain\": {\"y\": [0, 1.0], \"x\": [0.6, 1.0]}, \"values\": [45929.0, 5664.0, 5433.0, 672.0, 304.0, 164.0, 86.0, 67.0, 18.0], \"hoverinfo\": \"label+percent+name\", \"hole\": 0.4, \"type\": \"pie\", \"uid\": \"f5ade8ea-a193-11e8-9409-0800275aa47c\"}], {\"title\": \"Environment\"}, {\"linkText\": \"Export to plot.ly\", \"showLink\": true})});</script>"
      ]
     },
     "metadata": {},
     "output_type": "display_data"
    },
    {
     "data": {
      "application/vnd.plotly.v1+json": {
       "data": [
        {
         "cells": {
          "align": [
           "left",
           "right",
           "right"
          ],
          "font": {
           "color": [
            "rgb(40, 40, 40)",
            "rgb(40, 40, 40)",
            "rgb(40, 40, 40)",
            "rgb(40, 40, 40)",
            "rgb(40, 40, 40)"
           ],
           "size": 12
          },
          "format": [
           null,
           null,
           ".2f"
          ],
          "suffix": [
           "",
           "",
           "%"
          ],
          "values": [
           [
            "01 - Dry",
            "02 - Wet",
            "03 - Loose snow",
            "06 - Ice",
            "04 - Slush",
            "05 - Packed snow",
            "08 - Loose sand or gravel",
            "00 - Unknown",
            "99 - Other",
            "07 - Mud",
            "09 - Spilled liquid"
           ],
           [
            38362,
            10123,
            3844,
            2650,
            1760,
            1443,
            56,
            50,
            41,
            5,
            4
           ],
           [
            65.75816791799514,
            17.352326099626318,
            6.589187150742227,
            4.542493743357674,
            3.0169015050224552,
            2.4735164044019338,
            0.09599232061435085,
            0.08570742911995612,
            0.07028009187836401,
            0.008570742911995612,
            0.006856594329596489
           ]
          ]
         },
         "columnwidth": [
          110,
          55,
          55
         ],
         "domain": {
          "x": [
           0,
           0.4
          ],
          "y": [
           0,
           1
          ]
         },
         "header": {
          "values": [
           "<b>Road_Surface</b>",
           "<b># of Cases</b>",
           "<b>Percentage</b>"
          ]
         },
         "type": "table",
         "uid": "f5bba4d0-a193-11e8-9409-0800275aa47c"
        },
        {
         "domain": {
          "x": [
           0.6,
           1
          ],
          "y": [
           0,
           1
          ]
         },
         "hole": 0.4,
         "hoverinfo": "label+percent+name",
         "labels": [
          "01 - Dry",
          "02 - Wet",
          "03 - Loose snow",
          "06 - Ice",
          "04 - Slush",
          "05 - Packed snow",
          "08 - Loose sand or gravel",
          "00 - Unknown",
          "99 - Other",
          "07 - Mud",
          "09 - Spilled liquid"
         ],
         "name": "Road_Surface",
         "showlegend": true,
         "type": "pie",
         "uid": "f5bbab06-a193-11e8-9409-0800275aa47c",
         "values": [
          38362,
          10123,
          3844,
          2650,
          1760,
          1443,
          56,
          50,
          41,
          5,
          4
         ]
        }
       ],
       "layout": {
        "title": "Road_Surface"
       }
      },
      "text/html": [
       "<div id=\"7b220396-2c62-478a-99b7-d0febdd2e43e\" style=\"height: 525px; width: 100%;\" class=\"plotly-graph-div\"></div><script type=\"text/javascript\">require([\"plotly\"], function(Plotly) { window.PLOTLYENV=window.PLOTLYENV || {};window.PLOTLYENV.BASE_URL=\"https://plot.ly\";Plotly.newPlot(\"7b220396-2c62-478a-99b7-d0febdd2e43e\", [{\"domain\": {\"y\": [0, 1.0], \"x\": [0, 0.4]}, \"uid\": \"f5c08c98-a193-11e8-9409-0800275aa47c\", \"columnwidth\": [110, 55, 55], \"cells\": {\"align\": [\"left\", \"right\", \"right\"], \"font\": {\"color\": [\"rgb(40, 40, 40)\", \"rgb(40, 40, 40)\", \"rgb(40, 40, 40)\", \"rgb(40, 40, 40)\", \"rgb(40, 40, 40)\"], \"size\": 12}, \"values\": [[\"01 - Dry\", \"02 - Wet\", \"03 - Loose snow\", \"06 - Ice\", \"04 - Slush\", \"05 - Packed snow\", \"08 - Loose sand or gravel\", \"00 - Unknown\", \"99 - Other\", \"07 - Mud\", \"09 - Spilled liquid\"], [38362, 10123, 3844, 2650, 1760, 1443, 56, 50, 41, 5, 4], [65.75816791799514, 17.352326099626318, 6.589187150742227, 4.542493743357674, 3.0169015050224552, 2.4735164044019338, 0.09599232061435085, 0.08570742911995612, 0.07028009187836401, 0.008570742911995612, 0.006856594329596489]], \"suffix\": [\"\", \"\", \"%\"], \"format\": [null, null, \".2f\"]}, \"header\": {\"values\": [\"<b>Road_Surface</b>\", \"<b># of Cases</b>\", \"<b>Percentage</b>\"]}, \"type\": \"table\"}, {\"showlegend\": true, \"name\": \"Road_Surface\", \"labels\": [\"01 - Dry\", \"02 - Wet\", \"03 - Loose snow\", \"06 - Ice\", \"04 - Slush\", \"05 - Packed snow\", \"08 - Loose sand or gravel\", \"00 - Unknown\", \"99 - Other\", \"07 - Mud\", \"09 - Spilled liquid\"], \"domain\": {\"y\": [0, 1.0], \"x\": [0.6, 1.0]}, \"values\": [38362.0, 10123.0, 3844.0, 2650.0, 1760.0, 1443.0, 56.0, 50.0, 41.0, 5.0, 4.0], \"hoverinfo\": \"label+percent+name\", \"hole\": 0.4, \"type\": \"pie\", \"uid\": \"f5c08f4a-a193-11e8-9409-0800275aa47c\"}], {\"title\": \"Road_Surface\"}, {\"linkText\": \"Export to plot.ly\", \"showLink\": true})});</script>"
      ],
      "text/vnd.plotly.v1+html": [
       "<div id=\"7b220396-2c62-478a-99b7-d0febdd2e43e\" style=\"height: 525px; width: 100%;\" class=\"plotly-graph-div\"></div><script type=\"text/javascript\">require([\"plotly\"], function(Plotly) { window.PLOTLYENV=window.PLOTLYENV || {};window.PLOTLYENV.BASE_URL=\"https://plot.ly\";Plotly.newPlot(\"7b220396-2c62-478a-99b7-d0febdd2e43e\", [{\"domain\": {\"y\": [0, 1.0], \"x\": [0, 0.4]}, \"uid\": \"f5c08c98-a193-11e8-9409-0800275aa47c\", \"columnwidth\": [110, 55, 55], \"cells\": {\"align\": [\"left\", \"right\", \"right\"], \"font\": {\"color\": [\"rgb(40, 40, 40)\", \"rgb(40, 40, 40)\", \"rgb(40, 40, 40)\", \"rgb(40, 40, 40)\", \"rgb(40, 40, 40)\"], \"size\": 12}, \"values\": [[\"01 - Dry\", \"02 - Wet\", \"03 - Loose snow\", \"06 - Ice\", \"04 - Slush\", \"05 - Packed snow\", \"08 - Loose sand or gravel\", \"00 - Unknown\", \"99 - Other\", \"07 - Mud\", \"09 - Spilled liquid\"], [38362, 10123, 3844, 2650, 1760, 1443, 56, 50, 41, 5, 4], [65.75816791799514, 17.352326099626318, 6.589187150742227, 4.542493743357674, 3.0169015050224552, 2.4735164044019338, 0.09599232061435085, 0.08570742911995612, 0.07028009187836401, 0.008570742911995612, 0.006856594329596489]], \"suffix\": [\"\", \"\", \"%\"], \"format\": [null, null, \".2f\"]}, \"header\": {\"values\": [\"<b>Road_Surface</b>\", \"<b># of Cases</b>\", \"<b>Percentage</b>\"]}, \"type\": \"table\"}, {\"showlegend\": true, \"name\": \"Road_Surface\", \"labels\": [\"01 - Dry\", \"02 - Wet\", \"03 - Loose snow\", \"06 - Ice\", \"04 - Slush\", \"05 - Packed snow\", \"08 - Loose sand or gravel\", \"00 - Unknown\", \"99 - Other\", \"07 - Mud\", \"09 - Spilled liquid\"], \"domain\": {\"y\": [0, 1.0], \"x\": [0.6, 1.0]}, \"values\": [38362.0, 10123.0, 3844.0, 2650.0, 1760.0, 1443.0, 56.0, 50.0, 41.0, 5.0, 4.0], \"hoverinfo\": \"label+percent+name\", \"hole\": 0.4, \"type\": \"pie\", \"uid\": \"f5c08f4a-a193-11e8-9409-0800275aa47c\"}], {\"title\": \"Road_Surface\"}, {\"linkText\": \"Export to plot.ly\", \"showLink\": true})});</script>"
      ]
     },
     "metadata": {},
     "output_type": "display_data"
    },
    {
     "data": {
      "application/vnd.plotly.v1+json": {
       "data": [
        {
         "cells": {
          "align": [
           "left",
           "right",
           "right"
          ],
          "font": {
           "color": [
            "rgb(40, 40, 40)",
            "rgb(40, 40, 40)",
            "rgb(40, 40, 40)",
            "rgb(40, 40, 40)",
            "rgb(40, 40, 40)"
           ],
           "size": 12
          },
          "format": [
           null,
           null,
           ".2f"
          ],
          "suffix": [
           "",
           "",
           "%"
          ],
          "values": [
           [
            "10 - No control",
            "01 - Traffic signal",
            "02 - Stop sign",
            "11 - Roundabout",
            "03 - Yield sign",
            "08 - Traffic gate",
            "09 - Traffic controller",
            "07 - School bus",
            "04 - Ped. crossover"
           ],
           [
            27966,
            23314,
            6099,
            526,
            370,
            15,
            9,
            2,
            1
           ],
           [
            47.96747967479675,
            39.98833659222668,
            10.461047648451167,
            0.9021988954066756,
            0.6346265994305512,
            0.025728105382319642,
            0.015436863229391787,
            0.003430414050975953,
            0.0017152070254879766
           ]
          ]
         },
         "columnwidth": [
          110,
          55,
          55
         ],
         "domain": {
          "x": [
           0,
           0.4
          ],
          "y": [
           0,
           1
          ]
         },
         "header": {
          "values": [
           "<b>Traffic_Control</b>",
           "<b># of Cases</b>",
           "<b>Percentage</b>"
          ]
         },
         "type": "table",
         "uid": "f5cc8fe8-a193-11e8-9409-0800275aa47c"
        },
        {
         "domain": {
          "x": [
           0.6,
           1
          ],
          "y": [
           0,
           1
          ]
         },
         "hole": 0.4,
         "hoverinfo": "label+percent+name",
         "labels": [
          "10 - No control",
          "01 - Traffic signal",
          "02 - Stop sign",
          "11 - Roundabout",
          "03 - Yield sign",
          "08 - Traffic gate",
          "09 - Traffic controller",
          "07 - School bus",
          "04 - Ped. crossover"
         ],
         "name": "Traffic_Control",
         "showlegend": true,
         "type": "pie",
         "uid": "f5cc927c-a193-11e8-9409-0800275aa47c",
         "values": [
          27966,
          23314,
          6099,
          526,
          370,
          15,
          9,
          2,
          1
         ]
        }
       ],
       "layout": {
        "title": "Traffic_Control"
       }
      },
      "text/html": [
       "<div id=\"fcced9b7-48e0-43d3-a47a-f2c18d84a186\" style=\"height: 525px; width: 100%;\" class=\"plotly-graph-div\"></div><script type=\"text/javascript\">require([\"plotly\"], function(Plotly) { window.PLOTLYENV=window.PLOTLYENV || {};window.PLOTLYENV.BASE_URL=\"https://plot.ly\";Plotly.newPlot(\"fcced9b7-48e0-43d3-a47a-f2c18d84a186\", [{\"domain\": {\"y\": [0, 1.0], \"x\": [0, 0.4]}, \"uid\": \"f5d087ce-a193-11e8-9409-0800275aa47c\", \"columnwidth\": [110, 55, 55], \"cells\": {\"align\": [\"left\", \"right\", \"right\"], \"font\": {\"color\": [\"rgb(40, 40, 40)\", \"rgb(40, 40, 40)\", \"rgb(40, 40, 40)\", \"rgb(40, 40, 40)\", \"rgb(40, 40, 40)\"], \"size\": 12}, \"values\": [[\"10 - No control\", \"01 - Traffic signal\", \"02 - Stop sign\", \"11 - Roundabout\", \"03 - Yield sign\", \"08 - Traffic gate\", \"09 - Traffic controller\", \"07 - School bus\", \"04 - Ped. crossover\"], [27966, 23314, 6099, 526, 370, 15, 9, 2, 1], [47.96747967479675, 39.98833659222668, 10.461047648451167, 0.9021988954066756, 0.6346265994305512, 0.025728105382319642, 0.015436863229391787, 0.003430414050975953, 0.0017152070254879766]], \"suffix\": [\"\", \"\", \"%\"], \"format\": [null, null, \".2f\"]}, \"header\": {\"values\": [\"<b>Traffic_Control</b>\", \"<b># of Cases</b>\", \"<b>Percentage</b>\"]}, \"type\": \"table\"}, {\"showlegend\": true, \"name\": \"Traffic_Control\", \"labels\": [\"10 - No control\", \"01 - Traffic signal\", \"02 - Stop sign\", \"11 - Roundabout\", \"03 - Yield sign\", \"08 - Traffic gate\", \"09 - Traffic controller\", \"07 - School bus\", \"04 - Ped. crossover\"], \"domain\": {\"y\": [0, 1.0], \"x\": [0.6, 1.0]}, \"values\": [27966.0, 23314.0, 6099.0, 526.0, 370.0, 15.0, 9.0, 2.0, 1.0], \"hoverinfo\": \"label+percent+name\", \"hole\": 0.4, \"type\": \"pie\", \"uid\": \"f5d08bc0-a193-11e8-9409-0800275aa47c\"}], {\"title\": \"Traffic_Control\"}, {\"linkText\": \"Export to plot.ly\", \"showLink\": true})});</script>"
      ],
      "text/vnd.plotly.v1+html": [
       "<div id=\"fcced9b7-48e0-43d3-a47a-f2c18d84a186\" style=\"height: 525px; width: 100%;\" class=\"plotly-graph-div\"></div><script type=\"text/javascript\">require([\"plotly\"], function(Plotly) { window.PLOTLYENV=window.PLOTLYENV || {};window.PLOTLYENV.BASE_URL=\"https://plot.ly\";Plotly.newPlot(\"fcced9b7-48e0-43d3-a47a-f2c18d84a186\", [{\"domain\": {\"y\": [0, 1.0], \"x\": [0, 0.4]}, \"uid\": \"f5d087ce-a193-11e8-9409-0800275aa47c\", \"columnwidth\": [110, 55, 55], \"cells\": {\"align\": [\"left\", \"right\", \"right\"], \"font\": {\"color\": [\"rgb(40, 40, 40)\", \"rgb(40, 40, 40)\", \"rgb(40, 40, 40)\", \"rgb(40, 40, 40)\", \"rgb(40, 40, 40)\"], \"size\": 12}, \"values\": [[\"10 - No control\", \"01 - Traffic signal\", \"02 - Stop sign\", \"11 - Roundabout\", \"03 - Yield sign\", \"08 - Traffic gate\", \"09 - Traffic controller\", \"07 - School bus\", \"04 - Ped. crossover\"], [27966, 23314, 6099, 526, 370, 15, 9, 2, 1], [47.96747967479675, 39.98833659222668, 10.461047648451167, 0.9021988954066756, 0.6346265994305512, 0.025728105382319642, 0.015436863229391787, 0.003430414050975953, 0.0017152070254879766]], \"suffix\": [\"\", \"\", \"%\"], \"format\": [null, null, \".2f\"]}, \"header\": {\"values\": [\"<b>Traffic_Control</b>\", \"<b># of Cases</b>\", \"<b>Percentage</b>\"]}, \"type\": \"table\"}, {\"showlegend\": true, \"name\": \"Traffic_Control\", \"labels\": [\"10 - No control\", \"01 - Traffic signal\", \"02 - Stop sign\", \"11 - Roundabout\", \"03 - Yield sign\", \"08 - Traffic gate\", \"09 - Traffic controller\", \"07 - School bus\", \"04 - Ped. crossover\"], \"domain\": {\"y\": [0, 1.0], \"x\": [0.6, 1.0]}, \"values\": [27966.0, 23314.0, 6099.0, 526.0, 370.0, 15.0, 9.0, 2.0, 1.0], \"hoverinfo\": \"label+percent+name\", \"hole\": 0.4, \"type\": \"pie\", \"uid\": \"f5d08bc0-a193-11e8-9409-0800275aa47c\"}], {\"title\": \"Traffic_Control\"}, {\"linkText\": \"Export to plot.ly\", \"showLink\": true})});</script>"
      ]
     },
     "metadata": {},
     "output_type": "display_data"
    },
    {
     "data": {
      "application/vnd.plotly.v1+json": {
       "data": [
        {
         "cells": {
          "align": [
           "left",
           "right",
           "right"
          ],
          "font": {
           "color": [
            "rgb(40, 40, 40)",
            "rgb(40, 40, 40)",
            "rgb(40, 40, 40)",
            "rgb(40, 40, 40)",
            "rgb(40, 40, 40)"
           ],
           "size": 12
          },
          "format": [
           null,
           null,
           ".2f"
          ],
          "suffix": [
           "",
           "",
           "%"
          ],
          "values": [
           [
            "01 - Non intersection",
            "02 - Intersection related",
            "03 - At intersection",
            "04 - At/near private drive",
            "07 - Overpass or bridge",
            "05 - At railway crossing",
            "06 - Underpass or tunnel",
            "98 - Other",
            "99 - Other"
           ],
           [
            22114,
            18280,
            12523,
            5105,
            240,
            37,
            29,
            3,
            1
           ],
           [
            37.91058081327573,
            31.33785915106631,
            21.46849070835905,
            8.751628608653911,
            0.41143797572515944,
            0.06343002125762875,
            0.0497154220667901,
            0.0051429746965644925,
            0.001714324898854831
           ]
          ]
         },
         "columnwidth": [
          110,
          55,
          55
         ],
         "domain": {
          "x": [
           0,
           0.4
          ],
          "y": [
           0,
           1
          ]
         },
         "header": {
          "values": [
           "<b>Collision_Location</b>",
           "<b># of Cases</b>",
           "<b>Percentage</b>"
          ]
         },
         "type": "table",
         "uid": "f5de2d16-a193-11e8-9409-0800275aa47c"
        },
        {
         "domain": {
          "x": [
           0.6,
           1
          ],
          "y": [
           0,
           1
          ]
         },
         "hole": 0.4,
         "hoverinfo": "label+percent+name",
         "labels": [
          "01 - Non intersection",
          "02 - Intersection related",
          "03 - At intersection",
          "04 - At/near private drive",
          "07 - Overpass or bridge",
          "05 - At railway crossing",
          "06 - Underpass or tunnel",
          "98 - Other",
          "99 - Other"
         ],
         "name": "Collision_Location",
         "showlegend": true,
         "type": "pie",
         "uid": "f5de2f96-a193-11e8-9409-0800275aa47c",
         "values": [
          22114,
          18280,
          12523,
          5105,
          240,
          37,
          29,
          3,
          1
         ]
        }
       ],
       "layout": {
        "title": "Collision_Location"
       }
      },
      "text/html": [
       "<div id=\"408915bb-13b9-4219-a801-df1db034b753\" style=\"height: 525px; width: 100%;\" class=\"plotly-graph-div\"></div><script type=\"text/javascript\">require([\"plotly\"], function(Plotly) { window.PLOTLYENV=window.PLOTLYENV || {};window.PLOTLYENV.BASE_URL=\"https://plot.ly\";Plotly.newPlot(\"408915bb-13b9-4219-a801-df1db034b753\", [{\"domain\": {\"y\": [0, 1.0], \"x\": [0, 0.4]}, \"uid\": \"f5e19762-a193-11e8-9409-0800275aa47c\", \"columnwidth\": [110, 55, 55], \"cells\": {\"align\": [\"left\", \"right\", \"right\"], \"font\": {\"color\": [\"rgb(40, 40, 40)\", \"rgb(40, 40, 40)\", \"rgb(40, 40, 40)\", \"rgb(40, 40, 40)\", \"rgb(40, 40, 40)\"], \"size\": 12}, \"values\": [[\"01 - Non intersection\", \"02 - Intersection related\", \"03 - At intersection\", \"04 - At/near private drive\", \"07 - Overpass or bridge\", \"05 - At railway crossing\", \"06 - Underpass or tunnel\", \"98 - Other\", \"99 - Other\"], [22114, 18280, 12523, 5105, 240, 37, 29, 3, 1], [37.91058081327573, 31.33785915106631, 21.46849070835905, 8.751628608653911, 0.41143797572515944, 0.06343002125762875, 0.0497154220667901, 0.0051429746965644925, 0.001714324898854831]], \"suffix\": [\"\", \"\", \"%\"], \"format\": [null, null, \".2f\"]}, \"header\": {\"values\": [\"<b>Collision_Location</b>\", \"<b># of Cases</b>\", \"<b>Percentage</b>\"]}, \"type\": \"table\"}, {\"showlegend\": true, \"name\": \"Collision_Location\", \"labels\": [\"01 - Non intersection\", \"02 - Intersection related\", \"03 - At intersection\", \"04 - At/near private drive\", \"07 - Overpass or bridge\", \"05 - At railway crossing\", \"06 - Underpass or tunnel\", \"98 - Other\", \"99 - Other\"], \"domain\": {\"y\": [0, 1.0], \"x\": [0.6, 1.0]}, \"values\": [22114.0, 18280.0, 12523.0, 5105.0, 240.0, 37.0, 29.0, 3.0, 1.0], \"hoverinfo\": \"label+percent+name\", \"hole\": 0.4, \"type\": \"pie\", \"uid\": \"f5e199ba-a193-11e8-9409-0800275aa47c\"}], {\"title\": \"Collision_Location\"}, {\"linkText\": \"Export to plot.ly\", \"showLink\": true})});</script>"
      ],
      "text/vnd.plotly.v1+html": [
       "<div id=\"408915bb-13b9-4219-a801-df1db034b753\" style=\"height: 525px; width: 100%;\" class=\"plotly-graph-div\"></div><script type=\"text/javascript\">require([\"plotly\"], function(Plotly) { window.PLOTLYENV=window.PLOTLYENV || {};window.PLOTLYENV.BASE_URL=\"https://plot.ly\";Plotly.newPlot(\"408915bb-13b9-4219-a801-df1db034b753\", [{\"domain\": {\"y\": [0, 1.0], \"x\": [0, 0.4]}, \"uid\": \"f5e19762-a193-11e8-9409-0800275aa47c\", \"columnwidth\": [110, 55, 55], \"cells\": {\"align\": [\"left\", \"right\", \"right\"], \"font\": {\"color\": [\"rgb(40, 40, 40)\", \"rgb(40, 40, 40)\", \"rgb(40, 40, 40)\", \"rgb(40, 40, 40)\", \"rgb(40, 40, 40)\"], \"size\": 12}, \"values\": [[\"01 - Non intersection\", \"02 - Intersection related\", \"03 - At intersection\", \"04 - At/near private drive\", \"07 - Overpass or bridge\", \"05 - At railway crossing\", \"06 - Underpass or tunnel\", \"98 - Other\", \"99 - Other\"], [22114, 18280, 12523, 5105, 240, 37, 29, 3, 1], [37.91058081327573, 31.33785915106631, 21.46849070835905, 8.751628608653911, 0.41143797572515944, 0.06343002125762875, 0.0497154220667901, 0.0051429746965644925, 0.001714324898854831]], \"suffix\": [\"\", \"\", \"%\"], \"format\": [null, null, \".2f\"]}, \"header\": {\"values\": [\"<b>Collision_Location</b>\", \"<b># of Cases</b>\", \"<b>Percentage</b>\"]}, \"type\": \"table\"}, {\"showlegend\": true, \"name\": \"Collision_Location\", \"labels\": [\"01 - Non intersection\", \"02 - Intersection related\", \"03 - At intersection\", \"04 - At/near private drive\", \"07 - Overpass or bridge\", \"05 - At railway crossing\", \"06 - Underpass or tunnel\", \"98 - Other\", \"99 - Other\"], \"domain\": {\"y\": [0, 1.0], \"x\": [0.6, 1.0]}, \"values\": [22114.0, 18280.0, 12523.0, 5105.0, 240.0, 37.0, 29.0, 3.0, 1.0], \"hoverinfo\": \"label+percent+name\", \"hole\": 0.4, \"type\": \"pie\", \"uid\": \"f5e199ba-a193-11e8-9409-0800275aa47c\"}], {\"title\": \"Collision_Location\"}, {\"linkText\": \"Export to plot.ly\", \"showLink\": true})});</script>"
      ]
     },
     "metadata": {},
     "output_type": "display_data"
    },
    {
     "data": {
      "application/vnd.plotly.v1+json": {
       "data": [
        {
         "cells": {
          "align": [
           "left",
           "right",
           "right"
          ],
          "font": {
           "color": [
            "rgb(40, 40, 40)",
            "rgb(40, 40, 40)",
            "rgb(40, 40, 40)",
            "rgb(40, 40, 40)",
            "rgb(40, 40, 40)"
           ],
           "size": 12
          },
          "format": [
           null,
           null,
           ".2f"
          ],
          "suffix": [
           "",
           "",
           "%"
          ],
          "values": [
           [
            "01 - Daylight",
            "07 - Dark",
            "05 - Dusk",
            "03 - Dawn",
            "00 - Unknown",
            "08 - Dark, artificial",
            "99 - Other",
            "04 - Dawn, artificial",
            "06 - Dusk, artificial",
            "02 - Daylight, artificial"
           ],
           [
            39879,
            13237,
            2609,
            1354,
            1163,
            73,
            11,
            6,
            3,
            1
           ],
           [
            68.36087493143171,
            22.690962698848054,
            4.4723669775095996,
            2.321036752605595,
            1.9936231486560614,
            0.12513713658804168,
            0.01885628085573231,
            0.010285244103126714,
            0.005142622051563357,
            0.0017142073505211192
           ]
          ]
         },
         "columnwidth": [
          110,
          55,
          55
         ],
         "domain": {
          "x": [
           0,
           0.4
          ],
          "y": [
           0,
           1
          ]
         },
         "header": {
          "values": [
           "<b>Light</b>",
           "<b># of Cases</b>",
           "<b>Percentage</b>"
          ]
         },
         "type": "table",
         "uid": "f5ecd870-a193-11e8-9409-0800275aa47c"
        },
        {
         "domain": {
          "x": [
           0.6,
           1
          ],
          "y": [
           0,
           1
          ]
         },
         "hole": 0.4,
         "hoverinfo": "label+percent+name",
         "labels": [
          "01 - Daylight",
          "07 - Dark",
          "05 - Dusk",
          "03 - Dawn",
          "00 - Unknown",
          "08 - Dark, artificial",
          "99 - Other",
          "04 - Dawn, artificial",
          "06 - Dusk, artificial",
          "02 - Daylight, artificial"
         ],
         "name": "Light",
         "showlegend": true,
         "type": "pie",
         "uid": "f5ecdae6-a193-11e8-9409-0800275aa47c",
         "values": [
          39879,
          13237,
          2609,
          1354,
          1163,
          73,
          11,
          6,
          3,
          1
         ]
        }
       ],
       "layout": {
        "title": "Light"
       }
      },
      "text/html": [
       "<div id=\"7461ff50-c7ef-47d4-a45b-7740a6211bb7\" style=\"height: 525px; width: 100%;\" class=\"plotly-graph-div\"></div><script type=\"text/javascript\">require([\"plotly\"], function(Plotly) { window.PLOTLYENV=window.PLOTLYENV || {};window.PLOTLYENV.BASE_URL=\"https://plot.ly\";Plotly.newPlot(\"7461ff50-c7ef-47d4-a45b-7740a6211bb7\", [{\"domain\": {\"y\": [0, 1.0], \"x\": [0, 0.4]}, \"uid\": \"f5f05e78-a193-11e8-9409-0800275aa47c\", \"columnwidth\": [110, 55, 55], \"cells\": {\"align\": [\"left\", \"right\", \"right\"], \"font\": {\"color\": [\"rgb(40, 40, 40)\", \"rgb(40, 40, 40)\", \"rgb(40, 40, 40)\", \"rgb(40, 40, 40)\", \"rgb(40, 40, 40)\"], \"size\": 12}, \"values\": [[\"01 - Daylight\", \"07 - Dark\", \"05 - Dusk\", \"03 - Dawn\", \"00 - Unknown\", \"08 - Dark, artificial\", \"99 - Other\", \"04 - Dawn, artificial\", \"06 - Dusk, artificial\", \"02 - Daylight, artificial\"], [39879, 13237, 2609, 1354, 1163, 73, 11, 6, 3, 1], [68.36087493143171, 22.690962698848054, 4.4723669775095996, 2.321036752605595, 1.9936231486560614, 0.12513713658804168, 0.01885628085573231, 0.010285244103126714, 0.005142622051563357, 0.0017142073505211192]], \"suffix\": [\"\", \"\", \"%\"], \"format\": [null, null, \".2f\"]}, \"header\": {\"values\": [\"<b>Light</b>\", \"<b># of Cases</b>\", \"<b>Percentage</b>\"]}, \"type\": \"table\"}, {\"showlegend\": true, \"name\": \"Light\", \"labels\": [\"01 - Daylight\", \"07 - Dark\", \"05 - Dusk\", \"03 - Dawn\", \"00 - Unknown\", \"08 - Dark, artificial\", \"99 - Other\", \"04 - Dawn, artificial\", \"06 - Dusk, artificial\", \"02 - Daylight, artificial\"], \"domain\": {\"y\": [0, 1.0], \"x\": [0.6, 1.0]}, \"values\": [39879.0, 13237.0, 2609.0, 1354.0, 1163.0, 73.0, 11.0, 6.0, 3.0, 1.0], \"hoverinfo\": \"label+percent+name\", \"hole\": 0.4, \"type\": \"pie\", \"uid\": \"f5f06238-a193-11e8-9409-0800275aa47c\"}], {\"title\": \"Light\"}, {\"linkText\": \"Export to plot.ly\", \"showLink\": true})});</script>"
      ],
      "text/vnd.plotly.v1+html": [
       "<div id=\"7461ff50-c7ef-47d4-a45b-7740a6211bb7\" style=\"height: 525px; width: 100%;\" class=\"plotly-graph-div\"></div><script type=\"text/javascript\">require([\"plotly\"], function(Plotly) { window.PLOTLYENV=window.PLOTLYENV || {};window.PLOTLYENV.BASE_URL=\"https://plot.ly\";Plotly.newPlot(\"7461ff50-c7ef-47d4-a45b-7740a6211bb7\", [{\"domain\": {\"y\": [0, 1.0], \"x\": [0, 0.4]}, \"uid\": \"f5f05e78-a193-11e8-9409-0800275aa47c\", \"columnwidth\": [110, 55, 55], \"cells\": {\"align\": [\"left\", \"right\", \"right\"], \"font\": {\"color\": [\"rgb(40, 40, 40)\", \"rgb(40, 40, 40)\", \"rgb(40, 40, 40)\", \"rgb(40, 40, 40)\", \"rgb(40, 40, 40)\"], \"size\": 12}, \"values\": [[\"01 - Daylight\", \"07 - Dark\", \"05 - Dusk\", \"03 - Dawn\", \"00 - Unknown\", \"08 - Dark, artificial\", \"99 - Other\", \"04 - Dawn, artificial\", \"06 - Dusk, artificial\", \"02 - Daylight, artificial\"], [39879, 13237, 2609, 1354, 1163, 73, 11, 6, 3, 1], [68.36087493143171, 22.690962698848054, 4.4723669775095996, 2.321036752605595, 1.9936231486560614, 0.12513713658804168, 0.01885628085573231, 0.010285244103126714, 0.005142622051563357, 0.0017142073505211192]], \"suffix\": [\"\", \"\", \"%\"], \"format\": [null, null, \".2f\"]}, \"header\": {\"values\": [\"<b>Light</b>\", \"<b># of Cases</b>\", \"<b>Percentage</b>\"]}, \"type\": \"table\"}, {\"showlegend\": true, \"name\": \"Light\", \"labels\": [\"01 - Daylight\", \"07 - Dark\", \"05 - Dusk\", \"03 - Dawn\", \"00 - Unknown\", \"08 - Dark, artificial\", \"99 - Other\", \"04 - Dawn, artificial\", \"06 - Dusk, artificial\", \"02 - Daylight, artificial\"], \"domain\": {\"y\": [0, 1.0], \"x\": [0.6, 1.0]}, \"values\": [39879.0, 13237.0, 2609.0, 1354.0, 1163.0, 73.0, 11.0, 6.0, 3.0, 1.0], \"hoverinfo\": \"label+percent+name\", \"hole\": 0.4, \"type\": \"pie\", \"uid\": \"f5f06238-a193-11e8-9409-0800275aa47c\"}], {\"title\": \"Light\"}, {\"linkText\": \"Export to plot.ly\", \"showLink\": true})});</script>"
      ]
     },
     "metadata": {},
     "output_type": "display_data"
    },
    {
     "data": {
      "application/vnd.plotly.v1+json": {
       "data": [
        {
         "cells": {
          "align": [
           "left",
           "right",
           "right"
          ],
          "font": {
           "color": [
            "rgb(40, 40, 40)",
            "rgb(40, 40, 40)",
            "rgb(40, 40, 40)",
            "rgb(40, 40, 40)",
            "rgb(40, 40, 40)"
           ],
           "size": 12
          },
          "format": [
           null,
           null,
           ".2f"
          ],
          "suffix": [
           "",
           "",
           "%"
          ],
          "values": [
           [
            "03 - P.D. only",
            "02 - Non-fatal injury",
            "01 - Fatal injury"
           ],
           [
            47248,
            10991,
            99
           ],
           [
            80.99009222119373,
            18.840207069148754,
            0.1697007096575131
           ]
          ]
         },
         "columnwidth": [
          110,
          55,
          55
         ],
         "domain": {
          "x": [
           0,
           0.4
          ],
          "y": [
           0,
           1
          ]
         },
         "header": {
          "values": [
           "<b>Collision_Classification</b>",
           "<b># of Cases</b>",
           "<b>Percentage</b>"
          ]
         },
         "type": "table",
         "uid": "f60d5168-a193-11e8-9409-0800275aa47c"
        },
        {
         "domain": {
          "x": [
           0.6,
           1
          ],
          "y": [
           0,
           1
          ]
         },
         "hole": 0.4,
         "hoverinfo": "label+percent+name",
         "labels": [
          "03 - P.D. only",
          "02 - Non-fatal injury",
          "01 - Fatal injury"
         ],
         "name": "Collision_Classification",
         "showlegend": true,
         "type": "pie",
         "uid": "f60d58de-a193-11e8-9409-0800275aa47c",
         "values": [
          47248,
          10991,
          99
         ]
        }
       ],
       "layout": {
        "title": "Collision_Classification"
       }
      },
      "text/html": [
       "<div id=\"5b6fb7ac-e7b3-4c4a-b09c-083789c90b5c\" style=\"height: 525px; width: 100%;\" class=\"plotly-graph-div\"></div><script type=\"text/javascript\">require([\"plotly\"], function(Plotly) { window.PLOTLYENV=window.PLOTLYENV || {};window.PLOTLYENV.BASE_URL=\"https://plot.ly\";Plotly.newPlot(\"5b6fb7ac-e7b3-4c4a-b09c-083789c90b5c\", [{\"domain\": {\"y\": [0, 1.0], \"x\": [0, 0.4]}, \"uid\": \"f610ba1a-a193-11e8-9409-0800275aa47c\", \"columnwidth\": [110, 55, 55], \"cells\": {\"align\": [\"left\", \"right\", \"right\"], \"font\": {\"color\": [\"rgb(40, 40, 40)\", \"rgb(40, 40, 40)\", \"rgb(40, 40, 40)\", \"rgb(40, 40, 40)\", \"rgb(40, 40, 40)\"], \"size\": 12}, \"values\": [[\"03 - P.D. only\", \"02 - Non-fatal injury\", \"01 - Fatal injury\"], [47248, 10991, 99], [80.99009222119373, 18.840207069148754, 0.1697007096575131]], \"suffix\": [\"\", \"\", \"%\"], \"format\": [null, null, \".2f\"]}, \"header\": {\"values\": [\"<b>Collision_Classification</b>\", \"<b># of Cases</b>\", \"<b>Percentage</b>\"]}, \"type\": \"table\"}, {\"showlegend\": true, \"name\": \"Collision_Classification\", \"labels\": [\"03 - P.D. only\", \"02 - Non-fatal injury\", \"01 - Fatal injury\"], \"domain\": {\"y\": [0, 1.0], \"x\": [0.6, 1.0]}, \"values\": [47248.0, 10991.0, 99.0], \"hoverinfo\": \"label+percent+name\", \"hole\": 0.4, \"type\": \"pie\", \"uid\": \"f610bc72-a193-11e8-9409-0800275aa47c\"}], {\"title\": \"Collision_Classification\"}, {\"linkText\": \"Export to plot.ly\", \"showLink\": true})});</script>"
      ],
      "text/vnd.plotly.v1+html": [
       "<div id=\"5b6fb7ac-e7b3-4c4a-b09c-083789c90b5c\" style=\"height: 525px; width: 100%;\" class=\"plotly-graph-div\"></div><script type=\"text/javascript\">require([\"plotly\"], function(Plotly) { window.PLOTLYENV=window.PLOTLYENV || {};window.PLOTLYENV.BASE_URL=\"https://plot.ly\";Plotly.newPlot(\"5b6fb7ac-e7b3-4c4a-b09c-083789c90b5c\", [{\"domain\": {\"y\": [0, 1.0], \"x\": [0, 0.4]}, \"uid\": \"f610ba1a-a193-11e8-9409-0800275aa47c\", \"columnwidth\": [110, 55, 55], \"cells\": {\"align\": [\"left\", \"right\", \"right\"], \"font\": {\"color\": [\"rgb(40, 40, 40)\", \"rgb(40, 40, 40)\", \"rgb(40, 40, 40)\", \"rgb(40, 40, 40)\", \"rgb(40, 40, 40)\"], \"size\": 12}, \"values\": [[\"03 - P.D. only\", \"02 - Non-fatal injury\", \"01 - Fatal injury\"], [47248, 10991, 99], [80.99009222119373, 18.840207069148754, 0.1697007096575131]], \"suffix\": [\"\", \"\", \"%\"], \"format\": [null, null, \".2f\"]}, \"header\": {\"values\": [\"<b>Collision_Classification</b>\", \"<b># of Cases</b>\", \"<b>Percentage</b>\"]}, \"type\": \"table\"}, {\"showlegend\": true, \"name\": \"Collision_Classification\", \"labels\": [\"03 - P.D. only\", \"02 - Non-fatal injury\", \"01 - Fatal injury\"], \"domain\": {\"y\": [0, 1.0], \"x\": [0.6, 1.0]}, \"values\": [47248.0, 10991.0, 99.0], \"hoverinfo\": \"label+percent+name\", \"hole\": 0.4, \"type\": \"pie\", \"uid\": \"f610bc72-a193-11e8-9409-0800275aa47c\"}], {\"title\": \"Collision_Classification\"}, {\"linkText\": \"Export to plot.ly\", \"showLink\": true})});</script>"
      ]
     },
     "metadata": {},
     "output_type": "display_data"
    },
    {
     "data": {
      "application/vnd.plotly.v1+json": {
       "data": [
        {
         "cells": {
          "align": [
           "left",
           "right",
           "right"
          ],
          "font": {
           "color": [
            "rgb(40, 40, 40)",
            "rgb(40, 40, 40)",
            "rgb(40, 40, 40)",
            "rgb(40, 40, 40)",
            "rgb(40, 40, 40)"
           ],
           "size": 12
          },
          "format": [
           null,
           null,
           ".2f"
          ],
          "suffix": [
           "",
           "",
           "%"
          ],
          "values": [
           [
            "03 - Rear end",
            "07 - SMV other",
            "02 - Angle",
            "04 - Sideswipe",
            "05 - Turning movement",
            "06 - SMV unattended vehicle",
            "99 - Other",
            "01 - Approaching"
           ],
           [
            19735,
            9661,
            7985,
            7691,
            6233,
            4717,
            1456,
            860
           ],
           [
            33.828722273646676,
            16.56038945455792,
            13.687476430456991,
            13.18351674723165,
            10.684288114093729,
            8.08563886317666,
            2.495800335973122,
            1.4741677808632452
           ]
          ]
         },
         "columnwidth": [
          110,
          55,
          55
         ],
         "domain": {
          "x": [
           0,
           0.4
          ],
          "y": [
           0,
           1
          ]
         },
         "header": {
          "values": [
           "<b>Impact_type</b>",
           "<b># of Cases</b>",
           "<b>Percentage</b>"
          ]
         },
         "type": "table",
         "uid": "f61d4c80-a193-11e8-9409-0800275aa47c"
        },
        {
         "domain": {
          "x": [
           0.6,
           1
          ],
          "y": [
           0,
           1
          ]
         },
         "hole": 0.4,
         "hoverinfo": "label+percent+name",
         "labels": [
          "03 - Rear end",
          "07 - SMV other",
          "02 - Angle",
          "04 - Sideswipe",
          "05 - Turning movement",
          "06 - SMV unattended vehicle",
          "99 - Other",
          "01 - Approaching"
         ],
         "name": "Impact_type",
         "showlegend": true,
         "type": "pie",
         "uid": "f61d4f64-a193-11e8-9409-0800275aa47c",
         "values": [
          19735,
          9661,
          7985,
          7691,
          6233,
          4717,
          1456,
          860
         ]
        }
       ],
       "layout": {
        "title": "Impact_type"
       }
      },
      "text/html": [
       "<div id=\"5bf6ca3d-1d73-4358-83e5-d8cdb83824dc\" style=\"height: 525px; width: 100%;\" class=\"plotly-graph-div\"></div><script type=\"text/javascript\">require([\"plotly\"], function(Plotly) { window.PLOTLYENV=window.PLOTLYENV || {};window.PLOTLYENV.BASE_URL=\"https://plot.ly\";Plotly.newPlot(\"5bf6ca3d-1d73-4358-83e5-d8cdb83824dc\", [{\"domain\": {\"y\": [0, 1.0], \"x\": [0, 0.4]}, \"uid\": \"f620eac0-a193-11e8-9409-0800275aa47c\", \"columnwidth\": [110, 55, 55], \"cells\": {\"align\": [\"left\", \"right\", \"right\"], \"font\": {\"color\": [\"rgb(40, 40, 40)\", \"rgb(40, 40, 40)\", \"rgb(40, 40, 40)\", \"rgb(40, 40, 40)\", \"rgb(40, 40, 40)\"], \"size\": 12}, \"values\": [[\"03 - Rear end\", \"07 - SMV other\", \"02 - Angle\", \"04 - Sideswipe\", \"05 - Turning movement\", \"06 - SMV unattended vehicle\", \"99 - Other\", \"01 - Approaching\"], [19735, 9661, 7985, 7691, 6233, 4717, 1456, 860], [33.828722273646676, 16.56038945455792, 13.687476430456991, 13.18351674723165, 10.684288114093729, 8.08563886317666, 2.495800335973122, 1.4741677808632452]], \"suffix\": [\"\", \"\", \"%\"], \"format\": [null, null, \".2f\"]}, \"header\": {\"values\": [\"<b>Impact_type</b>\", \"<b># of Cases</b>\", \"<b>Percentage</b>\"]}, \"type\": \"table\"}, {\"showlegend\": true, \"name\": \"Impact_type\", \"labels\": [\"03 - Rear end\", \"07 - SMV other\", \"02 - Angle\", \"04 - Sideswipe\", \"05 - Turning movement\", \"06 - SMV unattended vehicle\", \"99 - Other\", \"01 - Approaching\"], \"domain\": {\"y\": [0, 1.0], \"x\": [0.6, 1.0]}, \"values\": [19735.0, 9661.0, 7985.0, 7691.0, 6233.0, 4717.0, 1456.0, 860.0], \"hoverinfo\": \"label+percent+name\", \"hole\": 0.4, \"type\": \"pie\", \"uid\": \"f620ee8a-a193-11e8-9409-0800275aa47c\"}], {\"title\": \"Impact_type\"}, {\"linkText\": \"Export to plot.ly\", \"showLink\": true})});</script>"
      ],
      "text/vnd.plotly.v1+html": [
       "<div id=\"5bf6ca3d-1d73-4358-83e5-d8cdb83824dc\" style=\"height: 525px; width: 100%;\" class=\"plotly-graph-div\"></div><script type=\"text/javascript\">require([\"plotly\"], function(Plotly) { window.PLOTLYENV=window.PLOTLYENV || {};window.PLOTLYENV.BASE_URL=\"https://plot.ly\";Plotly.newPlot(\"5bf6ca3d-1d73-4358-83e5-d8cdb83824dc\", [{\"domain\": {\"y\": [0, 1.0], \"x\": [0, 0.4]}, \"uid\": \"f620eac0-a193-11e8-9409-0800275aa47c\", \"columnwidth\": [110, 55, 55], \"cells\": {\"align\": [\"left\", \"right\", \"right\"], \"font\": {\"color\": [\"rgb(40, 40, 40)\", \"rgb(40, 40, 40)\", \"rgb(40, 40, 40)\", \"rgb(40, 40, 40)\", \"rgb(40, 40, 40)\"], \"size\": 12}, \"values\": [[\"03 - Rear end\", \"07 - SMV other\", \"02 - Angle\", \"04 - Sideswipe\", \"05 - Turning movement\", \"06 - SMV unattended vehicle\", \"99 - Other\", \"01 - Approaching\"], [19735, 9661, 7985, 7691, 6233, 4717, 1456, 860], [33.828722273646676, 16.56038945455792, 13.687476430456991, 13.18351674723165, 10.684288114093729, 8.08563886317666, 2.495800335973122, 1.4741677808632452]], \"suffix\": [\"\", \"\", \"%\"], \"format\": [null, null, \".2f\"]}, \"header\": {\"values\": [\"<b>Impact_type</b>\", \"<b># of Cases</b>\", \"<b>Percentage</b>\"]}, \"type\": \"table\"}, {\"showlegend\": true, \"name\": \"Impact_type\", \"labels\": [\"03 - Rear end\", \"07 - SMV other\", \"02 - Angle\", \"04 - Sideswipe\", \"05 - Turning movement\", \"06 - SMV unattended vehicle\", \"99 - Other\", \"01 - Approaching\"], \"domain\": {\"y\": [0, 1.0], \"x\": [0.6, 1.0]}, \"values\": [19735.0, 9661.0, 7985.0, 7691.0, 6233.0, 4717.0, 1456.0, 860.0], \"hoverinfo\": \"label+percent+name\", \"hole\": 0.4, \"type\": \"pie\", \"uid\": \"f620ee8a-a193-11e8-9409-0800275aa47c\"}], {\"title\": \"Impact_type\"}, {\"linkText\": \"Export to plot.ly\", \"showLink\": true})});</script>"
      ]
     },
     "metadata": {},
     "output_type": "display_data"
    },
    {
     "data": {
      "application/vnd.plotly.v1+json": {
       "data": [
        {
         "cells": {
          "align": [
           "left",
           "right",
           "right"
          ],
          "font": {
           "color": [
            "rgb(40, 40, 40)",
            "rgb(40, 40, 40)",
            "rgb(40, 40, 40)",
            "rgb(40, 40, 40)",
            "rgb(40, 40, 40)"
           ],
           "size": 12
          },
          "format": [
           null,
           null,
           ".2f"
          ],
          "suffix": [
           "",
           "",
           "%"
          ],
          "values": [
           [
            1,
            2,
            12,
            11,
            10,
            6,
            9,
            3,
            5,
            7,
            8,
            4
           ],
           [
            6499,
            6051,
            5774,
            5237,
            4709,
            4615,
            4508,
            4496,
            4401,
            4236,
            4118,
            3694
           ],
           [
            11.140251637011895,
            10.37231307209709,
            9.897493914772532,
            8.976996126024202,
            8.071925674517468,
            7.910795707771949,
            7.727381809455243,
            7.706812026466454,
            7.5439679111385365,
            7.261133395042682,
            7.058863862319587,
            6.332064863382358
           ]
          ]
         },
         "columnwidth": [
          110,
          55,
          55
         ],
         "domain": {
          "x": [
           0,
           0.4
          ],
          "y": [
           0,
           1
          ]
         },
         "header": {
          "values": [
           "<b>Month</b>",
           "<b># of Cases</b>",
           "<b>Percentage</b>"
          ]
         },
         "type": "table",
         "uid": "f62b9cc2-a193-11e8-9409-0800275aa47c"
        },
        {
         "domain": {
          "x": [
           0.6,
           1
          ],
          "y": [
           0,
           1
          ]
         },
         "hole": 0.4,
         "hoverinfo": "label+percent+name",
         "labels": [
          1,
          2,
          12,
          11,
          10,
          6,
          9,
          3,
          5,
          7,
          8,
          4
         ],
         "name": "Month",
         "showlegend": true,
         "type": "pie",
         "uid": "f62ba0b4-a193-11e8-9409-0800275aa47c",
         "values": [
          6499,
          6051,
          5774,
          5237,
          4709,
          4615,
          4508,
          4496,
          4401,
          4236,
          4118,
          3694
         ]
        }
       ],
       "layout": {
        "title": "Month"
       }
      },
      "text/html": [
       "<div id=\"f4c92d04-68a8-428e-afce-0062ad66cf2b\" style=\"height: 525px; width: 100%;\" class=\"plotly-graph-div\"></div><script type=\"text/javascript\">require([\"plotly\"], function(Plotly) { window.PLOTLYENV=window.PLOTLYENV || {};window.PLOTLYENV.BASE_URL=\"https://plot.ly\";Plotly.newPlot(\"f4c92d04-68a8-428e-afce-0062ad66cf2b\", [{\"domain\": {\"y\": [0, 1.0], \"x\": [0, 0.4]}, \"uid\": \"f63015d6-a193-11e8-9409-0800275aa47c\", \"columnwidth\": [110, 55, 55], \"cells\": {\"align\": [\"left\", \"right\", \"right\"], \"font\": {\"color\": [\"rgb(40, 40, 40)\", \"rgb(40, 40, 40)\", \"rgb(40, 40, 40)\", \"rgb(40, 40, 40)\", \"rgb(40, 40, 40)\"], \"size\": 12}, \"values\": [[1, 2, 12, 11, 10, 6, 9, 3, 5, 7, 8, 4], [6499, 6051, 5774, 5237, 4709, 4615, 4508, 4496, 4401, 4236, 4118, 3694], [11.140251637011895, 10.37231307209709, 9.897493914772532, 8.976996126024202, 8.071925674517468, 7.910795707771949, 7.727381809455243, 7.706812026466454, 7.5439679111385365, 7.261133395042682, 7.058863862319587, 6.332064863382358]], \"suffix\": [\"\", \"\", \"%\"], \"format\": [null, null, \".2f\"]}, \"header\": {\"values\": [\"<b>Month</b>\", \"<b># of Cases</b>\", \"<b>Percentage</b>\"]}, \"type\": \"table\"}, {\"showlegend\": true, \"name\": \"Month\", \"labels\": [1.0, 2.0, 12.0, 11.0, 10.0, 6.0, 9.0, 3.0, 5.0, 7.0, 8.0, 4.0], \"domain\": {\"y\": [0, 1.0], \"x\": [0.6, 1.0]}, \"values\": [6499.0, 6051.0, 5774.0, 5237.0, 4709.0, 4615.0, 4508.0, 4496.0, 4401.0, 4236.0, 4118.0, 3694.0], \"hoverinfo\": \"label+percent+name\", \"hole\": 0.4, \"type\": \"pie\", \"uid\": \"f630186a-a193-11e8-9409-0800275aa47c\"}], {\"title\": \"Month\"}, {\"linkText\": \"Export to plot.ly\", \"showLink\": true})});</script>"
      ],
      "text/vnd.plotly.v1+html": [
       "<div id=\"f4c92d04-68a8-428e-afce-0062ad66cf2b\" style=\"height: 525px; width: 100%;\" class=\"plotly-graph-div\"></div><script type=\"text/javascript\">require([\"plotly\"], function(Plotly) { window.PLOTLYENV=window.PLOTLYENV || {};window.PLOTLYENV.BASE_URL=\"https://plot.ly\";Plotly.newPlot(\"f4c92d04-68a8-428e-afce-0062ad66cf2b\", [{\"domain\": {\"y\": [0, 1.0], \"x\": [0, 0.4]}, \"uid\": \"f63015d6-a193-11e8-9409-0800275aa47c\", \"columnwidth\": [110, 55, 55], \"cells\": {\"align\": [\"left\", \"right\", \"right\"], \"font\": {\"color\": [\"rgb(40, 40, 40)\", \"rgb(40, 40, 40)\", \"rgb(40, 40, 40)\", \"rgb(40, 40, 40)\", \"rgb(40, 40, 40)\"], \"size\": 12}, \"values\": [[1, 2, 12, 11, 10, 6, 9, 3, 5, 7, 8, 4], [6499, 6051, 5774, 5237, 4709, 4615, 4508, 4496, 4401, 4236, 4118, 3694], [11.140251637011895, 10.37231307209709, 9.897493914772532, 8.976996126024202, 8.071925674517468, 7.910795707771949, 7.727381809455243, 7.706812026466454, 7.5439679111385365, 7.261133395042682, 7.058863862319587, 6.332064863382358]], \"suffix\": [\"\", \"\", \"%\"], \"format\": [null, null, \".2f\"]}, \"header\": {\"values\": [\"<b>Month</b>\", \"<b># of Cases</b>\", \"<b>Percentage</b>\"]}, \"type\": \"table\"}, {\"showlegend\": true, \"name\": \"Month\", \"labels\": [1.0, 2.0, 12.0, 11.0, 10.0, 6.0, 9.0, 3.0, 5.0, 7.0, 8.0, 4.0], \"domain\": {\"y\": [0, 1.0], \"x\": [0.6, 1.0]}, \"values\": [6499.0, 6051.0, 5774.0, 5237.0, 4709.0, 4615.0, 4508.0, 4496.0, 4401.0, 4236.0, 4118.0, 3694.0], \"hoverinfo\": \"label+percent+name\", \"hole\": 0.4, \"type\": \"pie\", \"uid\": \"f630186a-a193-11e8-9409-0800275aa47c\"}], {\"title\": \"Month\"}, {\"linkText\": \"Export to plot.ly\", \"showLink\": true})});</script>"
      ]
     },
     "metadata": {},
     "output_type": "display_data"
    },
    {
     "data": {
      "application/vnd.plotly.v1+json": {
       "data": [
        {
         "cells": {
          "align": [
           "left",
           "right",
           "right"
          ],
          "font": {
           "color": [
            "rgb(40, 40, 40)",
            "rgb(40, 40, 40)",
            "rgb(40, 40, 40)",
            "rgb(40, 40, 40)",
            "rgb(40, 40, 40)"
           ],
           "size": 12
          },
          "format": [
           null,
           null,
           ".2f"
          ],
          "suffix": [
           "",
           "",
           "%"
          ],
          "values": [
           [
            "T5_Fri",
            "T4_Thu",
            "T3_Wed",
            "T2_Tue",
            "T1_Mon",
            "T6_Sat",
            "T7_Sun"
           ],
           [
            10067,
            9851,
            9366,
            9158,
            7890,
            6688,
            5318
           ],
           [
            17.256333779011964,
            16.886077685213756,
            16.05471562275018,
            15.698172717611161,
            13.524632315129075,
            11.46422571908533,
            9.115842161198533
           ]
          ]
         },
         "columnwidth": [
          110,
          55,
          55
         ],
         "domain": {
          "x": [
           0,
           0.4
          ],
          "y": [
           0,
           1
          ]
         },
         "header": {
          "values": [
           "<b>Day_Of_Week</b>",
           "<b># of Cases</b>",
           "<b>Percentage</b>"
          ]
         },
         "type": "table",
         "uid": "f63b84ca-a193-11e8-9409-0800275aa47c"
        },
        {
         "domain": {
          "x": [
           0.6,
           1
          ],
          "y": [
           0,
           1
          ]
         },
         "hole": 0.4,
         "hoverinfo": "label+percent+name",
         "labels": [
          "T5_Fri",
          "T4_Thu",
          "T3_Wed",
          "T2_Tue",
          "T1_Mon",
          "T6_Sat",
          "T7_Sun"
         ],
         "name": "Day_Of_Week",
         "showlegend": true,
         "type": "pie",
         "uid": "f63b8754-a193-11e8-9409-0800275aa47c",
         "values": [
          10067,
          9851,
          9366,
          9158,
          7890,
          6688,
          5318
         ]
        }
       ],
       "layout": {
        "title": "Day_Of_Week"
       }
      },
      "text/html": [
       "<div id=\"6f17cf3d-0b56-42fd-88b4-3b6a6628966c\" style=\"height: 525px; width: 100%;\" class=\"plotly-graph-div\"></div><script type=\"text/javascript\">require([\"plotly\"], function(Plotly) { window.PLOTLYENV=window.PLOTLYENV || {};window.PLOTLYENV.BASE_URL=\"https://plot.ly\";Plotly.newPlot(\"6f17cf3d-0b56-42fd-88b4-3b6a6628966c\", [{\"domain\": {\"y\": [0, 1.0], \"x\": [0, 0.4]}, \"uid\": \"f63f5d0c-a193-11e8-9409-0800275aa47c\", \"columnwidth\": [110, 55, 55], \"cells\": {\"align\": [\"left\", \"right\", \"right\"], \"font\": {\"color\": [\"rgb(40, 40, 40)\", \"rgb(40, 40, 40)\", \"rgb(40, 40, 40)\", \"rgb(40, 40, 40)\", \"rgb(40, 40, 40)\"], \"size\": 12}, \"values\": [[\"T5_Fri\", \"T4_Thu\", \"T3_Wed\", \"T2_Tue\", \"T1_Mon\", \"T6_Sat\", \"T7_Sun\"], [10067, 9851, 9366, 9158, 7890, 6688, 5318], [17.256333779011964, 16.886077685213756, 16.05471562275018, 15.698172717611161, 13.524632315129075, 11.46422571908533, 9.115842161198533]], \"suffix\": [\"\", \"\", \"%\"], \"format\": [null, null, \".2f\"]}, \"header\": {\"values\": [\"<b>Day_Of_Week</b>\", \"<b># of Cases</b>\", \"<b>Percentage</b>\"]}, \"type\": \"table\"}, {\"showlegend\": true, \"name\": \"Day_Of_Week\", \"labels\": [\"T5_Fri\", \"T4_Thu\", \"T3_Wed\", \"T2_Tue\", \"T1_Mon\", \"T6_Sat\", \"T7_Sun\"], \"domain\": {\"y\": [0, 1.0], \"x\": [0.6, 1.0]}, \"values\": [10067.0, 9851.0, 9366.0, 9158.0, 7890.0, 6688.0, 5318.0], \"hoverinfo\": \"label+percent+name\", \"hole\": 0.4, \"type\": \"pie\", \"uid\": \"f63f5f64-a193-11e8-9409-0800275aa47c\"}], {\"title\": \"Day_Of_Week\"}, {\"linkText\": \"Export to plot.ly\", \"showLink\": true})});</script>"
      ],
      "text/vnd.plotly.v1+html": [
       "<div id=\"6f17cf3d-0b56-42fd-88b4-3b6a6628966c\" style=\"height: 525px; width: 100%;\" class=\"plotly-graph-div\"></div><script type=\"text/javascript\">require([\"plotly\"], function(Plotly) { window.PLOTLYENV=window.PLOTLYENV || {};window.PLOTLYENV.BASE_URL=\"https://plot.ly\";Plotly.newPlot(\"6f17cf3d-0b56-42fd-88b4-3b6a6628966c\", [{\"domain\": {\"y\": [0, 1.0], \"x\": [0, 0.4]}, \"uid\": \"f63f5d0c-a193-11e8-9409-0800275aa47c\", \"columnwidth\": [110, 55, 55], \"cells\": {\"align\": [\"left\", \"right\", \"right\"], \"font\": {\"color\": [\"rgb(40, 40, 40)\", \"rgb(40, 40, 40)\", \"rgb(40, 40, 40)\", \"rgb(40, 40, 40)\", \"rgb(40, 40, 40)\"], \"size\": 12}, \"values\": [[\"T5_Fri\", \"T4_Thu\", \"T3_Wed\", \"T2_Tue\", \"T1_Mon\", \"T6_Sat\", \"T7_Sun\"], [10067, 9851, 9366, 9158, 7890, 6688, 5318], [17.256333779011964, 16.886077685213756, 16.05471562275018, 15.698172717611161, 13.524632315129075, 11.46422571908533, 9.115842161198533]], \"suffix\": [\"\", \"\", \"%\"], \"format\": [null, null, \".2f\"]}, \"header\": {\"values\": [\"<b>Day_Of_Week</b>\", \"<b># of Cases</b>\", \"<b>Percentage</b>\"]}, \"type\": \"table\"}, {\"showlegend\": true, \"name\": \"Day_Of_Week\", \"labels\": [\"T5_Fri\", \"T4_Thu\", \"T3_Wed\", \"T2_Tue\", \"T1_Mon\", \"T6_Sat\", \"T7_Sun\"], \"domain\": {\"y\": [0, 1.0], \"x\": [0.6, 1.0]}, \"values\": [10067.0, 9851.0, 9366.0, 9158.0, 7890.0, 6688.0, 5318.0], \"hoverinfo\": \"label+percent+name\", \"hole\": 0.4, \"type\": \"pie\", \"uid\": \"f63f5f64-a193-11e8-9409-0800275aa47c\"}], {\"title\": \"Day_Of_Week\"}, {\"linkText\": \"Export to plot.ly\", \"showLink\": true})});</script>"
      ]
     },
     "metadata": {},
     "output_type": "display_data"
    }
   ],
   "source": [
    "def analysisInSinglePercent(Col): \n",
    "    count = '# of Cases'\n",
    "    df_cause = pd.crosstab(index = df_csv1417[Col], columns = count, margins = False)\n",
    "    df_cause[Col] = df_cause.index\n",
    "    sumOf = df_cause[count].sum()\n",
    "    df_cause['Percentage'] = df_cause[count]/sumOf*100\n",
    "    df_cause = df_cause[[Col, count, 'Percentage']]\n",
    "    df_cause = df_cause.sort_values([count], ascending=[0])\n",
    "    \n",
    "    tab = go.Table(header = dict(values = ['<b>' + a + '</b>' for a in df_cause.columns.tolist()]),\n",
    "                   domain = dict(x=[0, 0.4], y=[0,1.0]),\n",
    "                   columnwidth = [110,55,55], \n",
    "                   cells = dict(values = [df_cause[b].tolist() for b in df_cause.columns.tolist()],\n",
    "                                font = dict(color=['rgb(40, 40, 40)'] * 5, size=12),\n",
    "                                format = [None] + [None] + ['.2f'],\n",
    "                                suffix = [\"\", \"\", \"%\"], \n",
    "                                align = [\"left\", \"right\", \"right\"]),\n",
    "                  )\n",
    "    pie = go.Pie(values = df_cause[count], \n",
    "                 labels = df_cause.index, \n",
    "                 name = df_cause.index.name,\n",
    "                 domain=dict(x=[0.6, 1.0], y=[0, 1.0]),\n",
    "                 hoverinfo = \"label+percent+name\", hole = .4, showlegend = True)\n",
    "    fig = dict(data = [tab,pie], \n",
    "               layout = go.Layout(title = Col))\n",
    "    iplot(fig)\n",
    "    \n",
    "for n in ['Environment', 'Road_Surface', 'Traffic_Control', 'Collision_Location', \\\n",
    "          'Light', 'Collision_Classification', 'Impact_type', 'Month', \"Day_Of_Week\"]:\n",
    "    analysisInSinglePercent(n) "
   ]
  },
  {
   "cell_type": "markdown",
   "metadata": {},
   "source": [
    "**Brief Conclusion - Most of car collisions happen in:**\n",
    "* environment: clear (78.73%)\n",
    "* road surface: dry (65.76%)\n",
    "* traffic control: no traffic control (47.97%)\n",
    "* collision location: at intersection or intersection related (21.47%+31.34% = 52.81%)\n",
    "* light condition: daylight (68.36%)\n",
    "* collision classification: P.D. only (80.99%)\n",
    "* impact type: varies\n",
    "* month: December, January, February (11.14%+10.37%+9.90% = 31.41%)\n",
    "* day of week: workdays, the trend keeps rising from Monday to Friday\n",
    "\n",
    "**Hypothesis:**\n",
    "* Those weather that seems common, such as clear environment and dry road surface might lead drivers to be careless(it might be not a dependable factor: the proportions of those weathers such as clear days and dry road surfaces is much more bigger than the proportions of wet road surface and snowy environment). \n",
    "* A place without traffic control might lead drivers to ignore some details that perhaps cause accidents, or some drivers could break the rules. \n",
    "* The location where is close to of at intersection requires drivers to control their wheels and gases carefully due to the heavy traffic and roads to different directions. Under this kind of stressful situation, people without enough driving experience are easy to make mistakes. \n",
    "* Of course, most of collisions did not cause injuries, and the impact type varies, either. P.D. only collisions are highly related to SMV other and rear end impacts. \n",
    "* December, January and February are in winter of Ottawa. The season of winter in Ottawa is cold, so that this season causes many potential factors of collision: snow and ice creates terrible road surface condition that let cars slip, low temperature makes drivers' reaction slower, snow and long night reduces their visability, etc. \n",
    "* Objectively, the traffic is heavier on workdays in a week. According to the table, the stress of people on workdays increases step by step, and the proportion of collisions is also divided by days of week step by step. "
   ]
  },
  {
   "cell_type": "markdown",
   "metadata": {},
   "source": [
    "### 2.3 Temperature & Weather Related Variables"
   ]
  },
  {
   "cell_type": "code",
   "execution_count": 6,
   "metadata": {},
   "outputs": [
    {
     "data": {
      "application/vnd.plotly.v1+json": {
       "data": [
        {
         "name": "Number of Collisions",
         "opacity": 0.6,
         "text": [
          "1790",
          "1349",
          "1190",
          "936",
          "1093",
          "1166",
          "1115",
          "1094",
          "1126",
          "1260",
          "1340",
          "1384"
         ],
         "textposition": "auto",
         "type": "bar",
         "uid": "f9ab3ae2-a193-11e8-9409-0800275aa47c",
         "x": [
          1,
          2,
          3,
          4,
          5,
          6,
          7,
          8,
          9,
          10,
          11,
          12
         ],
         "y": [
          1790,
          1349,
          1190,
          936,
          1093,
          1166,
          1115,
          1094,
          1126,
          1260,
          1340,
          1384
         ]
        },
        {
         "mode": "lines",
         "name": "Monthly Mean Max Temp",
         "type": "scatter",
         "uid": "f9ab3e16-a193-11e8-9409-0800275aa47c",
         "x": [
          1,
          2,
          3,
          4,
          5,
          6,
          7,
          8,
          9,
          10,
          11,
          12
         ],
         "xaxis": "x2",
         "y": [
          -6.409677419354837,
          -5.192857142857142,
          -1.4612903225806446,
          10.04,
          19.96774193548387,
          24.766666666666666,
          24.909677419354843,
          24.370967741935484,
          20.99666666666666,
          14.36774193548387,
          4.833333333333333,
          -1.1225806451612907
         ],
         "yaxis": "y2"
        },
        {
         "fill": "tonexty",
         "mode": "lines",
         "name": "Monthly Mean Min Temp",
         "type": "scatter",
         "uid": "f9ab401e-a193-11e8-9409-0800275aa47c",
         "x": [
          1,
          2,
          3,
          4,
          5,
          6,
          7,
          8,
          9,
          10,
          11,
          12
         ],
         "xaxis": "x2",
         "y": [
          -15.283870967741935,
          -14.192857142857141,
          -11.703225806451616,
          0.6699999999999998,
          9.174193548387096,
          14.280000000000001,
          14.94838709677419,
          13.935483870967742,
          10.610000000000001,
          6.267741935483871,
          -2.146666666666667,
          -6.493548387096775
         ],
         "yaxis": "y2"
        }
       ],
       "layout": {
        "title": "Temperature Analysis (2014)",
        "xaxis": {
         "dtick": 1,
         "title": "Month"
        },
        "xaxis2": {
         "anchor": "y2",
         "dtick": 1
        },
        "yaxis": {
         "domain": [
          0,
          0.5
         ],
         "dtick": 500,
         "title": "# of Collisions"
        },
        "yaxis2": {
         "autorange": "reversed",
         "domain": [
          0.55,
          1
         ],
         "dtick": 5,
         "title": "Temp (°C)"
        }
       }
      },
      "text/html": [
       "<div id=\"f0b7c629-3b71-4673-bd97-b174f7a42df6\" style=\"height: 525px; width: 100%;\" class=\"plotly-graph-div\"></div><script type=\"text/javascript\">require([\"plotly\"], function(Plotly) { window.PLOTLYENV=window.PLOTLYENV || {};window.PLOTLYENV.BASE_URL=\"https://plot.ly\";Plotly.newPlot(\"f0b7c629-3b71-4673-bd97-b174f7a42df6\", [{\"opacity\": 0.6, \"textposition\": \"auto\", \"name\": \"Number of Collisions\", \"text\": [\"1790\", \"1349\", \"1190\", \"936\", \"1093\", \"1166\", \"1115\", \"1094\", \"1126\", \"1260\", \"1340\", \"1384\"], \"y\": [1790.0, 1349.0, 1190.0, 936.0, 1093.0, 1166.0, 1115.0, 1094.0, 1126.0, 1260.0, 1340.0, 1384.0], \"x\": [1.0, 2.0, 3.0, 4.0, 5.0, 6.0, 7.0, 8.0, 9.0, 10.0, 11.0, 12.0], \"type\": \"bar\", \"uid\": \"f9b058e2-a193-11e8-9409-0800275aa47c\"}, {\"name\": \"Monthly Mean Max Temp\", \"yaxis\": \"y2\", \"mode\": \"lines\", \"xaxis\": \"x2\", \"y\": [-6.409677419354837, -5.192857142857142, -1.4612903225806446, 10.04, 19.96774193548387, 24.766666666666666, 24.909677419354843, 24.370967741935484, 20.99666666666666, 14.36774193548387, 4.833333333333333, -1.1225806451612907], \"x\": [1.0, 2.0, 3.0, 4.0, 5.0, 6.0, 7.0, 8.0, 9.0, 10.0, 11.0, 12.0], \"type\": \"scatter\", \"uid\": \"f9b05b76-a193-11e8-9409-0800275aa47c\"}, {\"uid\": \"f9b05cf2-a193-11e8-9409-0800275aa47c\", \"yaxis\": \"y2\", \"mode\": \"lines\", \"xaxis\": \"x2\", \"y\": [-15.283870967741935, -14.192857142857141, -11.703225806451616, 0.6699999999999998, 9.174193548387096, 14.280000000000001, 14.94838709677419, 13.935483870967742, 10.610000000000001, 6.267741935483871, -2.146666666666667, -6.493548387096775], \"x\": [1.0, 2.0, 3.0, 4.0, 5.0, 6.0, 7.0, 8.0, 9.0, 10.0, 11.0, 12.0], \"fill\": \"tonexty\", \"type\": \"scatter\", \"name\": \"Monthly Mean Min Temp\"}], {\"yaxis2\": {\"domain\": [0.55, 1.0], \"autorange\": \"reversed\", \"dtick\": 5, \"title\": \"Temp (\\u00b0C)\"}, \"title\": \"Temperature Analysis (2014)\", \"xaxis2\": {\"anchor\": \"y2\", \"dtick\": 1}, \"xaxis\": {\"dtick\": 1, \"title\": \"Month\"}, \"yaxis\": {\"domain\": [0, 0.5], \"dtick\": 500, \"title\": \"# of Collisions\"}}, {\"linkText\": \"Export to plot.ly\", \"showLink\": true})});</script>"
      ],
      "text/vnd.plotly.v1+html": [
       "<div id=\"f0b7c629-3b71-4673-bd97-b174f7a42df6\" style=\"height: 525px; width: 100%;\" class=\"plotly-graph-div\"></div><script type=\"text/javascript\">require([\"plotly\"], function(Plotly) { window.PLOTLYENV=window.PLOTLYENV || {};window.PLOTLYENV.BASE_URL=\"https://plot.ly\";Plotly.newPlot(\"f0b7c629-3b71-4673-bd97-b174f7a42df6\", [{\"opacity\": 0.6, \"textposition\": \"auto\", \"name\": \"Number of Collisions\", \"text\": [\"1790\", \"1349\", \"1190\", \"936\", \"1093\", \"1166\", \"1115\", \"1094\", \"1126\", \"1260\", \"1340\", \"1384\"], \"y\": [1790.0, 1349.0, 1190.0, 936.0, 1093.0, 1166.0, 1115.0, 1094.0, 1126.0, 1260.0, 1340.0, 1384.0], \"x\": [1.0, 2.0, 3.0, 4.0, 5.0, 6.0, 7.0, 8.0, 9.0, 10.0, 11.0, 12.0], \"type\": \"bar\", \"uid\": \"f9b058e2-a193-11e8-9409-0800275aa47c\"}, {\"name\": \"Monthly Mean Max Temp\", \"yaxis\": \"y2\", \"mode\": \"lines\", \"xaxis\": \"x2\", \"y\": [-6.409677419354837, -5.192857142857142, -1.4612903225806446, 10.04, 19.96774193548387, 24.766666666666666, 24.909677419354843, 24.370967741935484, 20.99666666666666, 14.36774193548387, 4.833333333333333, -1.1225806451612907], \"x\": [1.0, 2.0, 3.0, 4.0, 5.0, 6.0, 7.0, 8.0, 9.0, 10.0, 11.0, 12.0], \"type\": \"scatter\", \"uid\": \"f9b05b76-a193-11e8-9409-0800275aa47c\"}, {\"uid\": \"f9b05cf2-a193-11e8-9409-0800275aa47c\", \"yaxis\": \"y2\", \"mode\": \"lines\", \"xaxis\": \"x2\", \"y\": [-15.283870967741935, -14.192857142857141, -11.703225806451616, 0.6699999999999998, 9.174193548387096, 14.280000000000001, 14.94838709677419, 13.935483870967742, 10.610000000000001, 6.267741935483871, -2.146666666666667, -6.493548387096775], \"x\": [1.0, 2.0, 3.0, 4.0, 5.0, 6.0, 7.0, 8.0, 9.0, 10.0, 11.0, 12.0], \"fill\": \"tonexty\", \"type\": \"scatter\", \"name\": \"Monthly Mean Min Temp\"}], {\"yaxis2\": {\"domain\": [0.55, 1.0], \"autorange\": \"reversed\", \"dtick\": 5, \"title\": \"Temp (\\u00b0C)\"}, \"title\": \"Temperature Analysis (2014)\", \"xaxis2\": {\"anchor\": \"y2\", \"dtick\": 1}, \"xaxis\": {\"dtick\": 1, \"title\": \"Month\"}, \"yaxis\": {\"domain\": [0, 0.5], \"dtick\": 500, \"title\": \"# of Collisions\"}}, {\"linkText\": \"Export to plot.ly\", \"showLink\": true})});</script>"
      ]
     },
     "metadata": {},
     "output_type": "display_data"
    },
    {
     "data": {
      "application/vnd.plotly.v1+json": {
       "data": [
        {
         "name": "Number of Collisions",
         "opacity": 0.6,
         "text": [
          "2027",
          "1900",
          "1064",
          "901",
          "1115",
          "1219",
          "1115",
          "1058",
          "1133",
          "1199",
          "1249",
          "1098"
         ],
         "textposition": "auto",
         "type": "bar",
         "uid": "f9bec56c-a193-11e8-9409-0800275aa47c",
         "x": [
          1,
          2,
          3,
          4,
          5,
          6,
          7,
          8,
          9,
          10,
          11,
          12
         ],
         "y": [
          2027,
          1900,
          1064,
          901,
          1115,
          1219,
          1115,
          1058,
          1133,
          1199,
          1249,
          1098
         ]
        },
        {
         "mode": "lines",
         "name": "Monthly Mean Max Temp",
         "type": "scatter",
         "uid": "f9bec896-a193-11e8-9409-0800275aa47c",
         "x": [
          1,
          2,
          3,
          4,
          5,
          6,
          7,
          8,
          9,
          10,
          11,
          12
         ],
         "xaxis": "x2",
         "y": [
          -7.848387096774193,
          -11.12857142857143,
          -0.05483870967741936,
          11.893333333333333,
          22.822580645161292,
          22.996666666666666,
          27.022580645161288,
          25.712903225806446,
          24.13333333333333,
          12.761290322580642,
          9.07666666666667,
          4.906451612903226
         ],
         "yaxis": "y2"
        },
        {
         "fill": "tonexty",
         "mode": "lines",
         "name": "Monthly Mean Min Temp",
         "type": "scatter",
         "uid": "f9beca8a-a193-11e8-9409-0800275aa47c",
         "x": [
          1,
          2,
          3,
          4,
          5,
          6,
          7,
          8,
          9,
          10,
          11,
          12
         ],
         "xaxis": "x2",
         "y": [
          -17.635483870967743,
          -20.41785714285714,
          -9.332258064516129,
          1.1033333333333333,
          9.832258064516127,
          12.486666666666668,
          16.019354838709678,
          14.893548387096772,
          12.866666666666667,
          3.2000000000000006,
          0.8000000000000002,
          -1.2096774193548387
         ],
         "yaxis": "y2"
        }
       ],
       "layout": {
        "title": "Temperature Analysis (2015)",
        "xaxis": {
         "dtick": 1,
         "title": "Month"
        },
        "xaxis2": {
         "anchor": "y2",
         "dtick": 1
        },
        "yaxis": {
         "domain": [
          0,
          0.5
         ],
         "dtick": 500,
         "title": "# of Collisions"
        },
        "yaxis2": {
         "autorange": "reversed",
         "domain": [
          0.55,
          1
         ],
         "dtick": 5,
         "title": "Temp (°C)"
        }
       }
      },
      "text/html": [
       "<div id=\"eb9346ba-1259-4d78-ba55-055fcdcaa3c9\" style=\"height: 525px; width: 100%;\" class=\"plotly-graph-div\"></div><script type=\"text/javascript\">require([\"plotly\"], function(Plotly) { window.PLOTLYENV=window.PLOTLYENV || {};window.PLOTLYENV.BASE_URL=\"https://plot.ly\";Plotly.newPlot(\"eb9346ba-1259-4d78-ba55-055fcdcaa3c9\", [{\"opacity\": 0.6, \"textposition\": \"auto\", \"name\": \"Number of Collisions\", \"text\": [\"2027\", \"1900\", \"1064\", \"901\", \"1115\", \"1219\", \"1115\", \"1058\", \"1133\", \"1199\", \"1249\", \"1098\"], \"y\": [2027.0, 1900.0, 1064.0, 901.0, 1115.0, 1219.0, 1115.0, 1058.0, 1133.0, 1199.0, 1249.0, 1098.0], \"x\": [1.0, 2.0, 3.0, 4.0, 5.0, 6.0, 7.0, 8.0, 9.0, 10.0, 11.0, 12.0], \"type\": \"bar\", \"uid\": \"f9c7fe52-a193-11e8-9409-0800275aa47c\"}, {\"name\": \"Monthly Mean Max Temp\", \"yaxis\": \"y2\", \"mode\": \"lines\", \"xaxis\": \"x2\", \"y\": [-7.848387096774193, -11.12857142857143, -0.05483870967741936, 11.893333333333333, 22.822580645161292, 22.996666666666666, 27.022580645161288, 25.712903225806446, 24.13333333333333, 12.761290322580642, 9.07666666666667, 4.906451612903226], \"x\": [1.0, 2.0, 3.0, 4.0, 5.0, 6.0, 7.0, 8.0, 9.0, 10.0, 11.0, 12.0], \"type\": \"scatter\", \"uid\": \"f9c80118-a193-11e8-9409-0800275aa47c\"}, {\"uid\": \"f9c8029e-a193-11e8-9409-0800275aa47c\", \"yaxis\": \"y2\", \"mode\": \"lines\", \"xaxis\": \"x2\", \"y\": [-17.635483870967743, -20.41785714285714, -9.332258064516129, 1.1033333333333333, 9.832258064516127, 12.486666666666668, 16.019354838709678, 14.893548387096772, 12.866666666666667, 3.2000000000000006, 0.8000000000000002, -1.2096774193548387], \"x\": [1.0, 2.0, 3.0, 4.0, 5.0, 6.0, 7.0, 8.0, 9.0, 10.0, 11.0, 12.0], \"fill\": \"tonexty\", \"type\": \"scatter\", \"name\": \"Monthly Mean Min Temp\"}], {\"yaxis2\": {\"domain\": [0.55, 1.0], \"autorange\": \"reversed\", \"dtick\": 5, \"title\": \"Temp (\\u00b0C)\"}, \"title\": \"Temperature Analysis (2015)\", \"xaxis2\": {\"anchor\": \"y2\", \"dtick\": 1}, \"xaxis\": {\"dtick\": 1, \"title\": \"Month\"}, \"yaxis\": {\"domain\": [0, 0.5], \"dtick\": 500, \"title\": \"# of Collisions\"}}, {\"linkText\": \"Export to plot.ly\", \"showLink\": true})});</script>"
      ],
      "text/vnd.plotly.v1+html": [
       "<div id=\"eb9346ba-1259-4d78-ba55-055fcdcaa3c9\" style=\"height: 525px; width: 100%;\" class=\"plotly-graph-div\"></div><script type=\"text/javascript\">require([\"plotly\"], function(Plotly) { window.PLOTLYENV=window.PLOTLYENV || {};window.PLOTLYENV.BASE_URL=\"https://plot.ly\";Plotly.newPlot(\"eb9346ba-1259-4d78-ba55-055fcdcaa3c9\", [{\"opacity\": 0.6, \"textposition\": \"auto\", \"name\": \"Number of Collisions\", \"text\": [\"2027\", \"1900\", \"1064\", \"901\", \"1115\", \"1219\", \"1115\", \"1058\", \"1133\", \"1199\", \"1249\", \"1098\"], \"y\": [2027.0, 1900.0, 1064.0, 901.0, 1115.0, 1219.0, 1115.0, 1058.0, 1133.0, 1199.0, 1249.0, 1098.0], \"x\": [1.0, 2.0, 3.0, 4.0, 5.0, 6.0, 7.0, 8.0, 9.0, 10.0, 11.0, 12.0], \"type\": \"bar\", \"uid\": \"f9c7fe52-a193-11e8-9409-0800275aa47c\"}, {\"name\": \"Monthly Mean Max Temp\", \"yaxis\": \"y2\", \"mode\": \"lines\", \"xaxis\": \"x2\", \"y\": [-7.848387096774193, -11.12857142857143, -0.05483870967741936, 11.893333333333333, 22.822580645161292, 22.996666666666666, 27.022580645161288, 25.712903225806446, 24.13333333333333, 12.761290322580642, 9.07666666666667, 4.906451612903226], \"x\": [1.0, 2.0, 3.0, 4.0, 5.0, 6.0, 7.0, 8.0, 9.0, 10.0, 11.0, 12.0], \"type\": \"scatter\", \"uid\": \"f9c80118-a193-11e8-9409-0800275aa47c\"}, {\"uid\": \"f9c8029e-a193-11e8-9409-0800275aa47c\", \"yaxis\": \"y2\", \"mode\": \"lines\", \"xaxis\": \"x2\", \"y\": [-17.635483870967743, -20.41785714285714, -9.332258064516129, 1.1033333333333333, 9.832258064516127, 12.486666666666668, 16.019354838709678, 14.893548387096772, 12.866666666666667, 3.2000000000000006, 0.8000000000000002, -1.2096774193548387], \"x\": [1.0, 2.0, 3.0, 4.0, 5.0, 6.0, 7.0, 8.0, 9.0, 10.0, 11.0, 12.0], \"fill\": \"tonexty\", \"type\": \"scatter\", \"name\": \"Monthly Mean Min Temp\"}], {\"yaxis2\": {\"domain\": [0.55, 1.0], \"autorange\": \"reversed\", \"dtick\": 5, \"title\": \"Temp (\\u00b0C)\"}, \"title\": \"Temperature Analysis (2015)\", \"xaxis2\": {\"anchor\": \"y2\", \"dtick\": 1}, \"xaxis\": {\"dtick\": 1, \"title\": \"Month\"}, \"yaxis\": {\"domain\": [0, 0.5], \"dtick\": 500, \"title\": \"# of Collisions\"}}, {\"linkText\": \"Export to plot.ly\", \"showLink\": true})});</script>"
      ]
     },
     "metadata": {},
     "output_type": "display_data"
    },
    {
     "data": {
      "application/vnd.plotly.v1+json": {
       "data": [
        {
         "name": "Number of Collisions",
         "opacity": 0.6,
         "text": [
          "1407",
          "1523",
          "1018",
          "944",
          "1109",
          "1135",
          "1035",
          "976",
          "1073",
          "1111",
          "1155",
          "1537"
         ],
         "textposition": "auto",
         "type": "bar",
         "uid": "f9d52eb0-a193-11e8-9409-0800275aa47c",
         "x": [
          1,
          2,
          3,
          4,
          5,
          6,
          7,
          8,
          9,
          10,
          11,
          12
         ],
         "y": [
          1407,
          1523,
          1018,
          944,
          1109,
          1135,
          1035,
          976,
          1073,
          1111,
          1155,
          1537
         ]
        },
        {
         "mode": "lines",
         "name": "Monthly Mean Max Temp",
         "type": "scatter",
         "uid": "f9d5314e-a193-11e8-9409-0800275aa47c",
         "x": [
          1,
          2,
          3,
          4,
          5,
          6,
          7,
          8,
          9,
          10,
          11,
          12
         ],
         "xaxis": "x2",
         "y": [
          -3.1064516129032262,
          -3.168965517241379,
          3.8290322580645166,
          9.2,
          20.919354838709676,
          24.966666666666665,
          27.370967741935484,
          28.080645161290324,
          22.916666666666668,
          13.725806451612904,
          7.35,
          -1.1129032258064515
         ],
         "yaxis": "y2"
        },
        {
         "fill": "tonexty",
         "mode": "lines",
         "name": "Monthly Mean Min Temp",
         "type": "scatter",
         "uid": "f9d532d4-a193-11e8-9409-0800275aa47c",
         "x": [
          1,
          2,
          3,
          4,
          5,
          6,
          7,
          8,
          9,
          10,
          11,
          12
         ],
         "xaxis": "x2",
         "y": [
          -11.838709677419356,
          -12.320689655172414,
          -5.432258064516129,
          -1.4833333333333334,
          8.580645161290322,
          12.716666666666667,
          15.838709677419354,
          16.43548387096774,
          11.1,
          4.951612903225806,
          0.11666666666666667,
          -8.564516129032258
         ],
         "yaxis": "y2"
        }
       ],
       "layout": {
        "title": "Temperature Analysis (2016)",
        "xaxis": {
         "dtick": 1,
         "title": "Month"
        },
        "xaxis2": {
         "anchor": "y2",
         "dtick": 1
        },
        "yaxis": {
         "domain": [
          0,
          0.5
         ],
         "dtick": 500,
         "title": "# of Collisions"
        },
        "yaxis2": {
         "autorange": "reversed",
         "domain": [
          0.55,
          1
         ],
         "dtick": 5,
         "title": "Temp (°C)"
        }
       }
      },
      "text/html": [
       "<div id=\"2eb1a927-f5a9-481a-bcf9-39b25a0298e2\" style=\"height: 525px; width: 100%;\" class=\"plotly-graph-div\"></div><script type=\"text/javascript\">require([\"plotly\"], function(Plotly) { window.PLOTLYENV=window.PLOTLYENV || {};window.PLOTLYENV.BASE_URL=\"https://plot.ly\";Plotly.newPlot(\"2eb1a927-f5a9-481a-bcf9-39b25a0298e2\", [{\"opacity\": 0.6, \"textposition\": \"auto\", \"name\": \"Number of Collisions\", \"text\": [\"1407\", \"1523\", \"1018\", \"944\", \"1109\", \"1135\", \"1035\", \"976\", \"1073\", \"1111\", \"1155\", \"1537\"], \"y\": [1407.0, 1523.0, 1018.0, 944.0, 1109.0, 1135.0, 1035.0, 976.0, 1073.0, 1111.0, 1155.0, 1537.0], \"x\": [1.0, 2.0, 3.0, 4.0, 5.0, 6.0, 7.0, 8.0, 9.0, 10.0, 11.0, 12.0], \"type\": \"bar\", \"uid\": \"f9db47c8-a193-11e8-9409-0800275aa47c\"}, {\"name\": \"Monthly Mean Max Temp\", \"yaxis\": \"y2\", \"mode\": \"lines\", \"xaxis\": \"x2\", \"y\": [-3.1064516129032262, -3.168965517241379, 3.8290322580645166, 9.2, 20.919354838709676, 24.966666666666665, 27.370967741935484, 28.080645161290324, 22.916666666666668, 13.725806451612904, 7.35, -1.1129032258064515], \"x\": [1.0, 2.0, 3.0, 4.0, 5.0, 6.0, 7.0, 8.0, 9.0, 10.0, 11.0, 12.0], \"type\": \"scatter\", \"uid\": \"f9db4ab6-a193-11e8-9409-0800275aa47c\"}, {\"uid\": \"f9db4c82-a193-11e8-9409-0800275aa47c\", \"yaxis\": \"y2\", \"mode\": \"lines\", \"xaxis\": \"x2\", \"y\": [-11.838709677419356, -12.320689655172414, -5.432258064516129, -1.4833333333333334, 8.580645161290322, 12.716666666666667, 15.838709677419354, 16.43548387096774, 11.1, 4.951612903225806, 0.11666666666666667, -8.564516129032258], \"x\": [1.0, 2.0, 3.0, 4.0, 5.0, 6.0, 7.0, 8.0, 9.0, 10.0, 11.0, 12.0], \"fill\": \"tonexty\", \"type\": \"scatter\", \"name\": \"Monthly Mean Min Temp\"}], {\"yaxis2\": {\"domain\": [0.55, 1.0], \"autorange\": \"reversed\", \"dtick\": 5, \"title\": \"Temp (\\u00b0C)\"}, \"title\": \"Temperature Analysis (2016)\", \"xaxis2\": {\"anchor\": \"y2\", \"dtick\": 1}, \"xaxis\": {\"dtick\": 1, \"title\": \"Month\"}, \"yaxis\": {\"domain\": [0, 0.5], \"dtick\": 500, \"title\": \"# of Collisions\"}}, {\"linkText\": \"Export to plot.ly\", \"showLink\": true})});</script>"
      ],
      "text/vnd.plotly.v1+html": [
       "<div id=\"2eb1a927-f5a9-481a-bcf9-39b25a0298e2\" style=\"height: 525px; width: 100%;\" class=\"plotly-graph-div\"></div><script type=\"text/javascript\">require([\"plotly\"], function(Plotly) { window.PLOTLYENV=window.PLOTLYENV || {};window.PLOTLYENV.BASE_URL=\"https://plot.ly\";Plotly.newPlot(\"2eb1a927-f5a9-481a-bcf9-39b25a0298e2\", [{\"opacity\": 0.6, \"textposition\": \"auto\", \"name\": \"Number of Collisions\", \"text\": [\"1407\", \"1523\", \"1018\", \"944\", \"1109\", \"1135\", \"1035\", \"976\", \"1073\", \"1111\", \"1155\", \"1537\"], \"y\": [1407.0, 1523.0, 1018.0, 944.0, 1109.0, 1135.0, 1035.0, 976.0, 1073.0, 1111.0, 1155.0, 1537.0], \"x\": [1.0, 2.0, 3.0, 4.0, 5.0, 6.0, 7.0, 8.0, 9.0, 10.0, 11.0, 12.0], \"type\": \"bar\", \"uid\": \"f9db47c8-a193-11e8-9409-0800275aa47c\"}, {\"name\": \"Monthly Mean Max Temp\", \"yaxis\": \"y2\", \"mode\": \"lines\", \"xaxis\": \"x2\", \"y\": [-3.1064516129032262, -3.168965517241379, 3.8290322580645166, 9.2, 20.919354838709676, 24.966666666666665, 27.370967741935484, 28.080645161290324, 22.916666666666668, 13.725806451612904, 7.35, -1.1129032258064515], \"x\": [1.0, 2.0, 3.0, 4.0, 5.0, 6.0, 7.0, 8.0, 9.0, 10.0, 11.0, 12.0], \"type\": \"scatter\", \"uid\": \"f9db4ab6-a193-11e8-9409-0800275aa47c\"}, {\"uid\": \"f9db4c82-a193-11e8-9409-0800275aa47c\", \"yaxis\": \"y2\", \"mode\": \"lines\", \"xaxis\": \"x2\", \"y\": [-11.838709677419356, -12.320689655172414, -5.432258064516129, -1.4833333333333334, 8.580645161290322, 12.716666666666667, 15.838709677419354, 16.43548387096774, 11.1, 4.951612903225806, 0.11666666666666667, -8.564516129032258], \"x\": [1.0, 2.0, 3.0, 4.0, 5.0, 6.0, 7.0, 8.0, 9.0, 10.0, 11.0, 12.0], \"fill\": \"tonexty\", \"type\": \"scatter\", \"name\": \"Monthly Mean Min Temp\"}], {\"yaxis2\": {\"domain\": [0.55, 1.0], \"autorange\": \"reversed\", \"dtick\": 5, \"title\": \"Temp (\\u00b0C)\"}, \"title\": \"Temperature Analysis (2016)\", \"xaxis2\": {\"anchor\": \"y2\", \"dtick\": 1}, \"xaxis\": {\"dtick\": 1, \"title\": \"Month\"}, \"yaxis\": {\"domain\": [0, 0.5], \"dtick\": 500, \"title\": \"# of Collisions\"}}, {\"linkText\": \"Export to plot.ly\", \"showLink\": true})});</script>"
      ]
     },
     "metadata": {},
     "output_type": "display_data"
    },
    {
     "data": {
      "application/vnd.plotly.v1+json": {
       "data": [
        {
         "name": "Number of Collisions",
         "opacity": 0.6,
         "text": [
          "1275",
          "1279",
          "1224",
          "913",
          "1084",
          "1095",
          "971",
          "990",
          "1176",
          "1139",
          "1493",
          "1755"
         ],
         "textposition": "auto",
         "type": "bar",
         "uid": "f9f94520-a193-11e8-9409-0800275aa47c",
         "x": [
          1,
          2,
          3,
          4,
          5,
          6,
          7,
          8,
          9,
          10,
          11,
          12
         ],
         "y": [
          1275,
          1279,
          1224,
          913,
          1084,
          1095,
          971,
          990,
          1176,
          1139,
          1493,
          1755
         ]
        },
        {
         "mode": "lines",
         "name": "Monthly Mean Max Temp",
         "type": "scatter",
         "uid": "f9f9480e-a193-11e8-9409-0800275aa47c",
         "x": [
          1,
          2,
          3,
          4,
          5,
          6,
          7,
          8,
          9,
          10,
          11,
          12
         ],
         "xaxis": "x2",
         "y": [
          -1.6935483870967742,
          -0.6785714285714286,
          -0.9516129032258065,
          12.083333333333334,
          17.419354838709676,
          23.166666666666668,
          25.306451612903224,
          24.306451612903224,
          23.6,
          17.532258064516128,
          4.716666666666667,
          -6.041935483870968
         ],
         "yaxis": "y2"
        },
        {
         "fill": "tonexty",
         "mode": "lines",
         "name": "Monthly Mean Min Temp",
         "type": "scatter",
         "uid": "f9f949a8-a193-11e8-9409-0800275aa47c",
         "x": [
          1,
          2,
          3,
          4,
          5,
          6,
          7,
          8,
          9,
          10,
          11,
          12
         ],
         "xaxis": "x2",
         "y": [
          -9.096774193548388,
          -8.839285714285714,
          -9.048387096774194,
          3.3,
          8.258064516129032,
          13.966666666666667,
          15.725806451612904,
          14.387096774193548,
          12.133333333333333,
          7.516129032258065,
          -2.55,
          -12.367741935483872
         ],
         "yaxis": "y2"
        }
       ],
       "layout": {
        "title": "Temperature Analysis (2017)",
        "xaxis": {
         "dtick": 1,
         "title": "Month"
        },
        "xaxis2": {
         "anchor": "y2",
         "dtick": 1
        },
        "yaxis": {
         "domain": [
          0,
          0.5
         ],
         "dtick": 500,
         "title": "# of Collisions"
        },
        "yaxis2": {
         "autorange": "reversed",
         "domain": [
          0.55,
          1
         ],
         "dtick": 5,
         "title": "Temp (°C)"
        }
       }
      },
      "text/html": [
       "<div id=\"fc611b9a-bfb3-4324-8fd3-fdd60613b173\" style=\"height: 525px; width: 100%;\" class=\"plotly-graph-div\"></div><script type=\"text/javascript\">require([\"plotly\"], function(Plotly) { window.PLOTLYENV=window.PLOTLYENV || {};window.PLOTLYENV.BASE_URL=\"https://plot.ly\";Plotly.newPlot(\"fc611b9a-bfb3-4324-8fd3-fdd60613b173\", [{\"opacity\": 0.6, \"textposition\": \"auto\", \"name\": \"Number of Collisions\", \"text\": [\"1275\", \"1279\", \"1224\", \"913\", \"1084\", \"1095\", \"971\", \"990\", \"1176\", \"1139\", \"1493\", \"1755\"], \"y\": [1275.0, 1279.0, 1224.0, 913.0, 1084.0, 1095.0, 971.0, 990.0, 1176.0, 1139.0, 1493.0, 1755.0], \"x\": [1.0, 2.0, 3.0, 4.0, 5.0, 6.0, 7.0, 8.0, 9.0, 10.0, 11.0, 12.0], \"type\": \"bar\", \"uid\": \"f9ff0b2c-a193-11e8-9409-0800275aa47c\"}, {\"name\": \"Monthly Mean Max Temp\", \"yaxis\": \"y2\", \"mode\": \"lines\", \"xaxis\": \"x2\", \"y\": [-1.6935483870967742, -0.6785714285714286, -0.9516129032258065, 12.083333333333334, 17.419354838709676, 23.166666666666668, 25.306451612903224, 24.306451612903224, 23.6, 17.532258064516128, 4.716666666666667, -6.041935483870968], \"x\": [1.0, 2.0, 3.0, 4.0, 5.0, 6.0, 7.0, 8.0, 9.0, 10.0, 11.0, 12.0], \"type\": \"scatter\", \"uid\": \"f9ff0eec-a193-11e8-9409-0800275aa47c\"}, {\"uid\": \"f9ff1162-a193-11e8-9409-0800275aa47c\", \"yaxis\": \"y2\", \"mode\": \"lines\", \"xaxis\": \"x2\", \"y\": [-9.096774193548388, -8.839285714285714, -9.048387096774194, 3.3, 8.258064516129032, 13.966666666666667, 15.725806451612904, 14.387096774193548, 12.133333333333333, 7.516129032258065, -2.55, -12.367741935483872], \"x\": [1.0, 2.0, 3.0, 4.0, 5.0, 6.0, 7.0, 8.0, 9.0, 10.0, 11.0, 12.0], \"fill\": \"tonexty\", \"type\": \"scatter\", \"name\": \"Monthly Mean Min Temp\"}], {\"yaxis2\": {\"domain\": [0.55, 1.0], \"autorange\": \"reversed\", \"dtick\": 5, \"title\": \"Temp (\\u00b0C)\"}, \"title\": \"Temperature Analysis (2017)\", \"xaxis2\": {\"anchor\": \"y2\", \"dtick\": 1}, \"xaxis\": {\"dtick\": 1, \"title\": \"Month\"}, \"yaxis\": {\"domain\": [0, 0.5], \"dtick\": 500, \"title\": \"# of Collisions\"}}, {\"linkText\": \"Export to plot.ly\", \"showLink\": true})});</script>"
      ],
      "text/vnd.plotly.v1+html": [
       "<div id=\"fc611b9a-bfb3-4324-8fd3-fdd60613b173\" style=\"height: 525px; width: 100%;\" class=\"plotly-graph-div\"></div><script type=\"text/javascript\">require([\"plotly\"], function(Plotly) { window.PLOTLYENV=window.PLOTLYENV || {};window.PLOTLYENV.BASE_URL=\"https://plot.ly\";Plotly.newPlot(\"fc611b9a-bfb3-4324-8fd3-fdd60613b173\", [{\"opacity\": 0.6, \"textposition\": \"auto\", \"name\": \"Number of Collisions\", \"text\": [\"1275\", \"1279\", \"1224\", \"913\", \"1084\", \"1095\", \"971\", \"990\", \"1176\", \"1139\", \"1493\", \"1755\"], \"y\": [1275.0, 1279.0, 1224.0, 913.0, 1084.0, 1095.0, 971.0, 990.0, 1176.0, 1139.0, 1493.0, 1755.0], \"x\": [1.0, 2.0, 3.0, 4.0, 5.0, 6.0, 7.0, 8.0, 9.0, 10.0, 11.0, 12.0], \"type\": \"bar\", \"uid\": \"f9ff0b2c-a193-11e8-9409-0800275aa47c\"}, {\"name\": \"Monthly Mean Max Temp\", \"yaxis\": \"y2\", \"mode\": \"lines\", \"xaxis\": \"x2\", \"y\": [-1.6935483870967742, -0.6785714285714286, -0.9516129032258065, 12.083333333333334, 17.419354838709676, 23.166666666666668, 25.306451612903224, 24.306451612903224, 23.6, 17.532258064516128, 4.716666666666667, -6.041935483870968], \"x\": [1.0, 2.0, 3.0, 4.0, 5.0, 6.0, 7.0, 8.0, 9.0, 10.0, 11.0, 12.0], \"type\": \"scatter\", \"uid\": \"f9ff0eec-a193-11e8-9409-0800275aa47c\"}, {\"uid\": \"f9ff1162-a193-11e8-9409-0800275aa47c\", \"yaxis\": \"y2\", \"mode\": \"lines\", \"xaxis\": \"x2\", \"y\": [-9.096774193548388, -8.839285714285714, -9.048387096774194, 3.3, 8.258064516129032, 13.966666666666667, 15.725806451612904, 14.387096774193548, 12.133333333333333, 7.516129032258065, -2.55, -12.367741935483872], \"x\": [1.0, 2.0, 3.0, 4.0, 5.0, 6.0, 7.0, 8.0, 9.0, 10.0, 11.0, 12.0], \"fill\": \"tonexty\", \"type\": \"scatter\", \"name\": \"Monthly Mean Min Temp\"}], {\"yaxis2\": {\"domain\": [0.55, 1.0], \"autorange\": \"reversed\", \"dtick\": 5, \"title\": \"Temp (\\u00b0C)\"}, \"title\": \"Temperature Analysis (2017)\", \"xaxis2\": {\"anchor\": \"y2\", \"dtick\": 1}, \"xaxis\": {\"dtick\": 1, \"title\": \"Month\"}, \"yaxis\": {\"domain\": [0, 0.5], \"dtick\": 500, \"title\": \"# of Collisions\"}}, {\"linkText\": \"Export to plot.ly\", \"showLink\": true})});</script>"
      ]
     },
     "metadata": {},
     "output_type": "display_data"
    },
    {
     "name": "stdout",
     "output_type": "stream",
     "text": [
      "The correlation between number of collisions and mean temperature: \n",
      "all months = -0.7044\n",
      "In each month: \n",
      "\n",
      "January = -0.9936\n",
      "February = -0.9209\n",
      "March = -0.7807\n",
      "April = -0.8263\n",
      "May = 0.9109\n",
      "June = -0.4081\n",
      "July = -0.0211\n",
      "August = -0.5915\n",
      "September = 0.3481\n",
      "October = -0.1837\n",
      "November = -0.7828\n",
      "December = -0.9908\n"
     ]
    }
   ],
   "source": [
    "df_avg = wt1417.groupby([\"Year\",\"Month\"]).mean()\n",
    "df_avg[\"Year\"] = [x[0] for x in df_avg.index]\n",
    "df_avg[\"Month\"] = [x[1] for x in df_avg.index]\n",
    "\n",
    "df_sum = wt1417.groupby([\"Year\",\"Month\"]).sum()\n",
    "df_sum[\"Year\"] = [x[0] for x in df_sum.index]\n",
    "df_sum[\"Month\"] = [x[1] for x in df_sum.index]\n",
    "\n",
    "def printTemInYear(n):\n",
    "    monthCase = go.Bar(x = df_sum[df_sum[\"Year\"]==n][\"Month\"],\n",
    "                       y = df_sum[df_sum[\"Year\"]==n][\"Number of Collisions\"],\n",
    "                       text = df_sum[df_sum[\"Year\"]==n][\"Number of Collisions\"],\n",
    "                       textposition = 'auto',\n",
    "                       opacity = 0.6,\n",
    "                       name = 'Number of Collisions')\n",
    "    max_temp = go.Scatter(x = df_avg[df_avg[\"Year\"]==n][\"Month\"],\n",
    "                         y = df_avg[df_avg[\"Year\"]==n][\"Max Temp (°C)\"],\n",
    "                         mode = 'lines',\n",
    "                         name = 'Monthly Mean Max Temp',\n",
    "                         xaxis = 'x2', \n",
    "                         yaxis = 'y2')\n",
    "    min_temp = go.Scatter(x = df_avg[df_avg[\"Year\"]==n][\"Month\"],\n",
    "                         y = df_avg[df_avg[\"Year\"]==n][\"Min Temp (°C)\"],\n",
    "                         mode = 'lines',\n",
    "                         name = 'Monthly Mean Min Temp',\n",
    "                         fill = 'tonexty', \n",
    "                         xaxis = 'x2', \n",
    "                         yaxis = 'y2')\n",
    "    fig = dict(data = [monthCase, max_temp,min_temp], \n",
    "               layout = go.Layout(title = \"Temperature Analysis (\" + str(n) + \")\",\n",
    "                                  xaxis = dict(title='Month', dtick=1),\n",
    "                                  yaxis = dict(title='# of Collisions', dtick=500, domain = [0,0.5]),\n",
    "                                  yaxis2 = dict(title='Temp (°C)', dtick=5, domain = [0.55,1.0],autorange='reversed'),\n",
    "                                  xaxis2 = dict(dtick=1, anchor = 'y2')\n",
    "                                 )\n",
    "              )\n",
    "    iplot(fig)\n",
    "    \n",
    "for m in range(2014,2018):\n",
    "    printTemInYear(m)\n",
    "    \n",
    "print(\"The correlation between number of collisions and mean temperature: \\n\" \n",
    "      + \"all months = %.4f\" % df_avg[\"Number of Collisions\"].corr(df_avg[\"Mean Temp (°C)\"]) + \"\\n\" \n",
    "      + \"In each month: \" + \"\\n\")\n",
    "\n",
    "def corrInMonth(l):\n",
    "      s = {\n",
    "        1: 'January',\n",
    "        2: 'February',\n",
    "        3: 'March',\n",
    "        4: 'April',\n",
    "        5: 'May',\n",
    "        6: 'June',\n",
    "        7: 'July',\n",
    "        8: 'August',\n",
    "        9: 'September',\n",
    "       10: 'October',\n",
    "       11: 'November',\n",
    "       12: 'December'\n",
    "      }[l]\n",
    "      print(s + \" = %.4f\" % df_avg[df_avg[\"Month\"] == l][\"Number of Collisions\"].corr(df_avg[\"Mean Temp (°C)\"]))\n",
    "        \n",
    "for f in range(1,13):\n",
    "    corrInMonth(f)"
   ]
  },
  {
   "cell_type": "markdown",
   "metadata": {},
   "source": [
    "**Brief Conclusion:**\n",
    "* The number of collisions in winter is always higher than other months in a year. \n",
    "* The correlation between the number of collisions and month becomes extremely low in winter. \n",
    "\n",
    "**Hypothesis:**\n",
    "* Extreme low temperature leads to vehicle collisions, such as vehicle faults and several weathers that are related to low temperature. "
   ]
  },
  {
   "cell_type": "code",
   "execution_count": 7,
   "metadata": {},
   "outputs": [
    {
     "data": {
      "application/vnd.plotly.v1+json": {
       "data": [
        {
         "name": "Number of Collisions",
         "opacity": 0.6,
         "text": [
          "1790",
          "1349",
          "1190",
          "936",
          "1093",
          "1166",
          "1115",
          "1094",
          "1126",
          "1260",
          "1340",
          "1384"
         ],
         "textposition": "auto",
         "type": "bar",
         "uid": "fbfd7a26-a193-11e8-9409-0800275aa47c",
         "x": [
          1,
          2,
          3,
          4,
          5,
          6,
          7,
          8,
          9,
          10,
          11,
          12
         ],
         "y": [
          1790,
          1349,
          1190,
          936,
          1093,
          1166,
          1115,
          1094,
          1126,
          1260,
          1340,
          1384
         ]
        },
        {
         "mode": "lines",
         "name": "Monthly Total Rain",
         "type": "scatter",
         "uid": "fbfd7ca6-a193-11e8-9409-0800275aa47c",
         "x": [
          1,
          2,
          3,
          4,
          5,
          6,
          7,
          8,
          9,
          10,
          11,
          12
         ],
         "xaxis": "x2",
         "y": [
          17.5,
          26.5,
          16.2,
          98.3,
          75.10000000000001,
          156.2,
          85.60000000000001,
          104.3,
          97.10000000000002,
          64.8,
          27.8,
          22.5
         ],
         "yaxis": "y2"
        }
       ],
       "layout": {
        "title": "Rain Analysis (2014)",
        "xaxis": {
         "dtick": 1,
         "title": "Month"
        },
        "xaxis2": {
         "anchor": "y2",
         "dtick": 1
        },
        "yaxis": {
         "domain": [
          0,
          0.5
         ],
         "dtick": 500,
         "title": "# of Collisions"
        },
        "yaxis2": {
         "domain": [
          0.55,
          1
         ],
         "title": "Total Rain (mm)"
        }
       }
      },
      "text/html": [
       "<div id=\"60bd4e48-4ff6-4923-91c2-5b0ef03e7f79\" style=\"height: 525px; width: 100%;\" class=\"plotly-graph-div\"></div><script type=\"text/javascript\">require([\"plotly\"], function(Plotly) { window.PLOTLYENV=window.PLOTLYENV || {};window.PLOTLYENV.BASE_URL=\"https://plot.ly\";Plotly.newPlot(\"60bd4e48-4ff6-4923-91c2-5b0ef03e7f79\", [{\"opacity\": 0.6, \"textposition\": \"auto\", \"name\": \"Number of Collisions\", \"text\": [\"1790\", \"1349\", \"1190\", \"936\", \"1093\", \"1166\", \"1115\", \"1094\", \"1126\", \"1260\", \"1340\", \"1384\"], \"y\": [1790.0, 1349.0, 1190.0, 936.0, 1093.0, 1166.0, 1115.0, 1094.0, 1126.0, 1260.0, 1340.0, 1384.0], \"x\": [1.0, 2.0, 3.0, 4.0, 5.0, 6.0, 7.0, 8.0, 9.0, 10.0, 11.0, 12.0], \"type\": \"bar\", \"uid\": \"fc025988-a193-11e8-9409-0800275aa47c\"}, {\"name\": \"Monthly Total Rain\", \"yaxis\": \"y2\", \"mode\": \"lines\", \"xaxis\": \"x2\", \"y\": [17.5, 26.5, 16.2, 98.3, 75.10000000000001, 156.2, 85.60000000000001, 104.3, 97.10000000000002, 64.8, 27.8, 22.5], \"x\": [1.0, 2.0, 3.0, 4.0, 5.0, 6.0, 7.0, 8.0, 9.0, 10.0, 11.0, 12.0], \"type\": \"scatter\", \"uid\": \"fc025bf4-a193-11e8-9409-0800275aa47c\"}], {\"yaxis2\": {\"domain\": [0.55, 1.0], \"title\": \"Total Rain (mm)\"}, \"title\": \"Rain Analysis (2014)\", \"xaxis2\": {\"anchor\": \"y2\", \"dtick\": 1}, \"xaxis\": {\"dtick\": 1, \"title\": \"Month\"}, \"yaxis\": {\"domain\": [0, 0.5], \"dtick\": 500, \"title\": \"# of Collisions\"}}, {\"linkText\": \"Export to plot.ly\", \"showLink\": true})});</script>"
      ],
      "text/vnd.plotly.v1+html": [
       "<div id=\"60bd4e48-4ff6-4923-91c2-5b0ef03e7f79\" style=\"height: 525px; width: 100%;\" class=\"plotly-graph-div\"></div><script type=\"text/javascript\">require([\"plotly\"], function(Plotly) { window.PLOTLYENV=window.PLOTLYENV || {};window.PLOTLYENV.BASE_URL=\"https://plot.ly\";Plotly.newPlot(\"60bd4e48-4ff6-4923-91c2-5b0ef03e7f79\", [{\"opacity\": 0.6, \"textposition\": \"auto\", \"name\": \"Number of Collisions\", \"text\": [\"1790\", \"1349\", \"1190\", \"936\", \"1093\", \"1166\", \"1115\", \"1094\", \"1126\", \"1260\", \"1340\", \"1384\"], \"y\": [1790.0, 1349.0, 1190.0, 936.0, 1093.0, 1166.0, 1115.0, 1094.0, 1126.0, 1260.0, 1340.0, 1384.0], \"x\": [1.0, 2.0, 3.0, 4.0, 5.0, 6.0, 7.0, 8.0, 9.0, 10.0, 11.0, 12.0], \"type\": \"bar\", \"uid\": \"fc025988-a193-11e8-9409-0800275aa47c\"}, {\"name\": \"Monthly Total Rain\", \"yaxis\": \"y2\", \"mode\": \"lines\", \"xaxis\": \"x2\", \"y\": [17.5, 26.5, 16.2, 98.3, 75.10000000000001, 156.2, 85.60000000000001, 104.3, 97.10000000000002, 64.8, 27.8, 22.5], \"x\": [1.0, 2.0, 3.0, 4.0, 5.0, 6.0, 7.0, 8.0, 9.0, 10.0, 11.0, 12.0], \"type\": \"scatter\", \"uid\": \"fc025bf4-a193-11e8-9409-0800275aa47c\"}], {\"yaxis2\": {\"domain\": [0.55, 1.0], \"title\": \"Total Rain (mm)\"}, \"title\": \"Rain Analysis (2014)\", \"xaxis2\": {\"anchor\": \"y2\", \"dtick\": 1}, \"xaxis\": {\"dtick\": 1, \"title\": \"Month\"}, \"yaxis\": {\"domain\": [0, 0.5], \"dtick\": 500, \"title\": \"# of Collisions\"}}, {\"linkText\": \"Export to plot.ly\", \"showLink\": true})});</script>"
      ]
     },
     "metadata": {},
     "output_type": "display_data"
    },
    {
     "data": {
      "application/vnd.plotly.v1+json": {
       "data": [
        {
         "name": "Number of Collisions",
         "opacity": 0.6,
         "text": [
          "2027",
          "1900",
          "1064",
          "901",
          "1115",
          "1219",
          "1115",
          "1058",
          "1133",
          "1199",
          "1249",
          "1098"
         ],
         "textposition": "auto",
         "type": "bar",
         "uid": "fc0f22b2-a193-11e8-9409-0800275aa47c",
         "x": [
          1,
          2,
          3,
          4,
          5,
          6,
          7,
          8,
          9,
          10,
          11,
          12
         ],
         "y": [
          2027,
          1900,
          1064,
          901,
          1115,
          1219,
          1115,
          1058,
          1133,
          1199,
          1249,
          1098
         ]
        },
        {
         "mode": "lines",
         "name": "Monthly Total Rain",
         "type": "scatter",
         "uid": "fc0f2672-a193-11e8-9409-0800275aa47c",
         "x": [
          1,
          2,
          3,
          4,
          5,
          6,
          7,
          8,
          9,
          10,
          11,
          12
         ],
         "xaxis": "x2",
         "y": [
          10.7,
          0,
          8.1,
          57.900000000000006,
          65,
          107.99999999999999,
          63.10000000000001,
          76.49999999999999,
          96.6,
          83.99999999999999,
          32.4,
          61.5
         ],
         "yaxis": "y2"
        }
       ],
       "layout": {
        "title": "Rain Analysis (2015)",
        "xaxis": {
         "dtick": 1,
         "title": "Month"
        },
        "xaxis2": {
         "anchor": "y2",
         "dtick": 1
        },
        "yaxis": {
         "domain": [
          0,
          0.5
         ],
         "dtick": 500,
         "title": "# of Collisions"
        },
        "yaxis2": {
         "domain": [
          0.55,
          1
         ],
         "title": "Total Rain (mm)"
        }
       }
      },
      "text/html": [
       "<div id=\"0e4949f7-bb8b-4188-9a8b-39189fce43d3\" style=\"height: 525px; width: 100%;\" class=\"plotly-graph-div\"></div><script type=\"text/javascript\">require([\"plotly\"], function(Plotly) { window.PLOTLYENV=window.PLOTLYENV || {};window.PLOTLYENV.BASE_URL=\"https://plot.ly\";Plotly.newPlot(\"0e4949f7-bb8b-4188-9a8b-39189fce43d3\", [{\"opacity\": 0.6, \"textposition\": \"auto\", \"name\": \"Number of Collisions\", \"text\": [\"2027\", \"1900\", \"1064\", \"901\", \"1115\", \"1219\", \"1115\", \"1058\", \"1133\", \"1199\", \"1249\", \"1098\"], \"y\": [2027.0, 1900.0, 1064.0, 901.0, 1115.0, 1219.0, 1115.0, 1058.0, 1133.0, 1199.0, 1249.0, 1098.0], \"x\": [1.0, 2.0, 3.0, 4.0, 5.0, 6.0, 7.0, 8.0, 9.0, 10.0, 11.0, 12.0], \"type\": \"bar\", \"uid\": \"fc1612a2-a193-11e8-9409-0800275aa47c\"}, {\"name\": \"Monthly Total Rain\", \"yaxis\": \"y2\", \"mode\": \"lines\", \"xaxis\": \"x2\", \"y\": [10.7, 0.0, 8.1, 57.900000000000006, 65.0, 107.99999999999999, 63.10000000000001, 76.49999999999999, 96.6, 83.99999999999999, 32.4, 61.5], \"x\": [1.0, 2.0, 3.0, 4.0, 5.0, 6.0, 7.0, 8.0, 9.0, 10.0, 11.0, 12.0], \"type\": \"scatter\", \"uid\": \"fc161932-a193-11e8-9409-0800275aa47c\"}], {\"yaxis2\": {\"domain\": [0.55, 1.0], \"title\": \"Total Rain (mm)\"}, \"title\": \"Rain Analysis (2015)\", \"xaxis2\": {\"anchor\": \"y2\", \"dtick\": 1}, \"xaxis\": {\"dtick\": 1, \"title\": \"Month\"}, \"yaxis\": {\"domain\": [0, 0.5], \"dtick\": 500, \"title\": \"# of Collisions\"}}, {\"linkText\": \"Export to plot.ly\", \"showLink\": true})});</script>"
      ],
      "text/vnd.plotly.v1+html": [
       "<div id=\"0e4949f7-bb8b-4188-9a8b-39189fce43d3\" style=\"height: 525px; width: 100%;\" class=\"plotly-graph-div\"></div><script type=\"text/javascript\">require([\"plotly\"], function(Plotly) { window.PLOTLYENV=window.PLOTLYENV || {};window.PLOTLYENV.BASE_URL=\"https://plot.ly\";Plotly.newPlot(\"0e4949f7-bb8b-4188-9a8b-39189fce43d3\", [{\"opacity\": 0.6, \"textposition\": \"auto\", \"name\": \"Number of Collisions\", \"text\": [\"2027\", \"1900\", \"1064\", \"901\", \"1115\", \"1219\", \"1115\", \"1058\", \"1133\", \"1199\", \"1249\", \"1098\"], \"y\": [2027.0, 1900.0, 1064.0, 901.0, 1115.0, 1219.0, 1115.0, 1058.0, 1133.0, 1199.0, 1249.0, 1098.0], \"x\": [1.0, 2.0, 3.0, 4.0, 5.0, 6.0, 7.0, 8.0, 9.0, 10.0, 11.0, 12.0], \"type\": \"bar\", \"uid\": \"fc1612a2-a193-11e8-9409-0800275aa47c\"}, {\"name\": \"Monthly Total Rain\", \"yaxis\": \"y2\", \"mode\": \"lines\", \"xaxis\": \"x2\", \"y\": [10.7, 0.0, 8.1, 57.900000000000006, 65.0, 107.99999999999999, 63.10000000000001, 76.49999999999999, 96.6, 83.99999999999999, 32.4, 61.5], \"x\": [1.0, 2.0, 3.0, 4.0, 5.0, 6.0, 7.0, 8.0, 9.0, 10.0, 11.0, 12.0], \"type\": \"scatter\", \"uid\": \"fc161932-a193-11e8-9409-0800275aa47c\"}], {\"yaxis2\": {\"domain\": [0.55, 1.0], \"title\": \"Total Rain (mm)\"}, \"title\": \"Rain Analysis (2015)\", \"xaxis2\": {\"anchor\": \"y2\", \"dtick\": 1}, \"xaxis\": {\"dtick\": 1, \"title\": \"Month\"}, \"yaxis\": {\"domain\": [0, 0.5], \"dtick\": 500, \"title\": \"# of Collisions\"}}, {\"linkText\": \"Export to plot.ly\", \"showLink\": true})});</script>"
      ]
     },
     "metadata": {},
     "output_type": "display_data"
    },
    {
     "data": {
      "application/vnd.plotly.v1+json": {
       "data": [
        {
         "name": "Number of Collisions",
         "opacity": 0.6,
         "text": [
          "1407",
          "1523",
          "1018",
          "944",
          "1109",
          "1135",
          "1035",
          "976",
          "1073",
          "1111",
          "1155",
          "1537"
         ],
         "textposition": "auto",
         "type": "bar",
         "uid": "fc25254e-a193-11e8-9409-0800275aa47c",
         "x": [
          1,
          2,
          3,
          4,
          5,
          6,
          7,
          8,
          9,
          10,
          11,
          12
         ],
         "y": [
          1407,
          1523,
          1018,
          944,
          1109,
          1135,
          1035,
          976,
          1073,
          1111,
          1155,
          1537
         ]
        },
        {
         "mode": "lines",
         "name": "Monthly Total Rain",
         "type": "scatter",
         "uid": "fc2527ec-a193-11e8-9409-0800275aa47c",
         "x": [
          1,
          2,
          3,
          4,
          5,
          6,
          7,
          8,
          9,
          10,
          11,
          12
         ],
         "xaxis": "x2",
         "y": [
          28.400000000000002,
          41.4,
          78.5,
          20.8,
          26.4,
          56.60000000000001,
          100.8,
          122.4,
          76.60000000000001,
          91.19999999999999,
          47.3,
          15
         ],
         "yaxis": "y2"
        }
       ],
       "layout": {
        "title": "Rain Analysis (2016)",
        "xaxis": {
         "dtick": 1,
         "title": "Month"
        },
        "xaxis2": {
         "anchor": "y2",
         "dtick": 1
        },
        "yaxis": {
         "domain": [
          0,
          0.5
         ],
         "dtick": 500,
         "title": "# of Collisions"
        },
        "yaxis2": {
         "domain": [
          0.55,
          1
         ],
         "title": "Total Rain (mm)"
        }
       }
      },
      "text/html": [
       "<div id=\"67d36ec3-ca6d-44b6-8059-76b28bc77518\" style=\"height: 525px; width: 100%;\" class=\"plotly-graph-div\"></div><script type=\"text/javascript\">require([\"plotly\"], function(Plotly) { window.PLOTLYENV=window.PLOTLYENV || {};window.PLOTLYENV.BASE_URL=\"https://plot.ly\";Plotly.newPlot(\"67d36ec3-ca6d-44b6-8059-76b28bc77518\", [{\"opacity\": 0.6, \"textposition\": \"auto\", \"name\": \"Number of Collisions\", \"text\": [\"1407\", \"1523\", \"1018\", \"944\", \"1109\", \"1135\", \"1035\", \"976\", \"1073\", \"1111\", \"1155\", \"1537\"], \"y\": [1407.0, 1523.0, 1018.0, 944.0, 1109.0, 1135.0, 1035.0, 976.0, 1073.0, 1111.0, 1155.0, 1537.0], \"x\": [1.0, 2.0, 3.0, 4.0, 5.0, 6.0, 7.0, 8.0, 9.0, 10.0, 11.0, 12.0], \"type\": \"bar\", \"uid\": \"fc2aa186-a193-11e8-9409-0800275aa47c\"}, {\"name\": \"Monthly Total Rain\", \"yaxis\": \"y2\", \"mode\": \"lines\", \"xaxis\": \"x2\", \"y\": [28.400000000000002, 41.4, 78.5, 20.8, 26.4, 56.60000000000001, 100.8, 122.4, 76.60000000000001, 91.19999999999999, 47.3, 15.0], \"x\": [1.0, 2.0, 3.0, 4.0, 5.0, 6.0, 7.0, 8.0, 9.0, 10.0, 11.0, 12.0], \"type\": \"scatter\", \"uid\": \"fc2aa474-a193-11e8-9409-0800275aa47c\"}], {\"yaxis2\": {\"domain\": [0.55, 1.0], \"title\": \"Total Rain (mm)\"}, \"title\": \"Rain Analysis (2016)\", \"xaxis2\": {\"anchor\": \"y2\", \"dtick\": 1}, \"xaxis\": {\"dtick\": 1, \"title\": \"Month\"}, \"yaxis\": {\"domain\": [0, 0.5], \"dtick\": 500, \"title\": \"# of Collisions\"}}, {\"linkText\": \"Export to plot.ly\", \"showLink\": true})});</script>"
      ],
      "text/vnd.plotly.v1+html": [
       "<div id=\"67d36ec3-ca6d-44b6-8059-76b28bc77518\" style=\"height: 525px; width: 100%;\" class=\"plotly-graph-div\"></div><script type=\"text/javascript\">require([\"plotly\"], function(Plotly) { window.PLOTLYENV=window.PLOTLYENV || {};window.PLOTLYENV.BASE_URL=\"https://plot.ly\";Plotly.newPlot(\"67d36ec3-ca6d-44b6-8059-76b28bc77518\", [{\"opacity\": 0.6, \"textposition\": \"auto\", \"name\": \"Number of Collisions\", \"text\": [\"1407\", \"1523\", \"1018\", \"944\", \"1109\", \"1135\", \"1035\", \"976\", \"1073\", \"1111\", \"1155\", \"1537\"], \"y\": [1407.0, 1523.0, 1018.0, 944.0, 1109.0, 1135.0, 1035.0, 976.0, 1073.0, 1111.0, 1155.0, 1537.0], \"x\": [1.0, 2.0, 3.0, 4.0, 5.0, 6.0, 7.0, 8.0, 9.0, 10.0, 11.0, 12.0], \"type\": \"bar\", \"uid\": \"fc2aa186-a193-11e8-9409-0800275aa47c\"}, {\"name\": \"Monthly Total Rain\", \"yaxis\": \"y2\", \"mode\": \"lines\", \"xaxis\": \"x2\", \"y\": [28.400000000000002, 41.4, 78.5, 20.8, 26.4, 56.60000000000001, 100.8, 122.4, 76.60000000000001, 91.19999999999999, 47.3, 15.0], \"x\": [1.0, 2.0, 3.0, 4.0, 5.0, 6.0, 7.0, 8.0, 9.0, 10.0, 11.0, 12.0], \"type\": \"scatter\", \"uid\": \"fc2aa474-a193-11e8-9409-0800275aa47c\"}], {\"yaxis2\": {\"domain\": [0.55, 1.0], \"title\": \"Total Rain (mm)\"}, \"title\": \"Rain Analysis (2016)\", \"xaxis2\": {\"anchor\": \"y2\", \"dtick\": 1}, \"xaxis\": {\"dtick\": 1, \"title\": \"Month\"}, \"yaxis\": {\"domain\": [0, 0.5], \"dtick\": 500, \"title\": \"# of Collisions\"}}, {\"linkText\": \"Export to plot.ly\", \"showLink\": true})});</script>"
      ]
     },
     "metadata": {},
     "output_type": "display_data"
    },
    {
     "data": {
      "application/vnd.plotly.v1+json": {
       "data": [
        {
         "name": "Number of Collisions",
         "opacity": 0.6,
         "text": [
          "1275",
          "1279",
          "1224",
          "913",
          "1084",
          "1095",
          "971",
          "990",
          "1176",
          "1139",
          "1493",
          "1755"
         ],
         "textposition": "auto",
         "type": "bar",
         "uid": "fc39995c-a193-11e8-9409-0800275aa47c",
         "x": [
          1,
          2,
          3,
          4,
          5,
          6,
          7,
          8,
          9,
          10,
          11,
          12
         ],
         "y": [
          1275,
          1279,
          1224,
          913,
          1084,
          1095,
          971,
          990,
          1176,
          1139,
          1493,
          1755
         ]
        },
        {
         "mode": "lines",
         "name": "Monthly Total Rain",
         "type": "scatter",
         "uid": "fc399ef2-a193-11e8-9409-0800275aa47c",
         "x": [
          1,
          2,
          3,
          4,
          5,
          6,
          7,
          8,
          9,
          10,
          11,
          12
         ],
         "xaxis": "x2",
         "y": [
          29.299999999999997,
          34,
          37.00000000000001,
          159,
          172.4,
          156.8,
          169.6,
          82.39999999999999,
          51.6,
          142.40000000000003,
          75.80000000000001,
          4.6000000000000005
         ],
         "yaxis": "y2"
        }
       ],
       "layout": {
        "title": "Rain Analysis (2017)",
        "xaxis": {
         "dtick": 1,
         "title": "Month"
        },
        "xaxis2": {
         "anchor": "y2",
         "dtick": 1
        },
        "yaxis": {
         "domain": [
          0,
          0.5
         ],
         "dtick": 500,
         "title": "# of Collisions"
        },
        "yaxis2": {
         "domain": [
          0.55,
          1
         ],
         "title": "Total Rain (mm)"
        }
       }
      },
      "text/html": [
       "<div id=\"61b75c51-2633-403e-b2d1-c46d7312c83b\" style=\"height: 525px; width: 100%;\" class=\"plotly-graph-div\"></div><script type=\"text/javascript\">require([\"plotly\"], function(Plotly) { window.PLOTLYENV=window.PLOTLYENV || {};window.PLOTLYENV.BASE_URL=\"https://plot.ly\";Plotly.newPlot(\"61b75c51-2633-403e-b2d1-c46d7312c83b\", [{\"opacity\": 0.6, \"textposition\": \"auto\", \"name\": \"Number of Collisions\", \"text\": [\"1275\", \"1279\", \"1224\", \"913\", \"1084\", \"1095\", \"971\", \"990\", \"1176\", \"1139\", \"1493\", \"1755\"], \"y\": [1275.0, 1279.0, 1224.0, 913.0, 1084.0, 1095.0, 971.0, 990.0, 1176.0, 1139.0, 1493.0, 1755.0], \"x\": [1.0, 2.0, 3.0, 4.0, 5.0, 6.0, 7.0, 8.0, 9.0, 10.0, 11.0, 12.0], \"type\": \"bar\", \"uid\": \"fc40a288-a193-11e8-9409-0800275aa47c\"}, {\"name\": \"Monthly Total Rain\", \"yaxis\": \"y2\", \"mode\": \"lines\", \"xaxis\": \"x2\", \"y\": [29.299999999999997, 34.0, 37.00000000000001, 159.0, 172.4, 156.8, 169.6, 82.39999999999999, 51.6, 142.40000000000003, 75.80000000000001, 4.6000000000000005], \"x\": [1.0, 2.0, 3.0, 4.0, 5.0, 6.0, 7.0, 8.0, 9.0, 10.0, 11.0, 12.0], \"type\": \"scatter\", \"uid\": \"fc40acba-a193-11e8-9409-0800275aa47c\"}], {\"yaxis2\": {\"domain\": [0.55, 1.0], \"title\": \"Total Rain (mm)\"}, \"title\": \"Rain Analysis (2017)\", \"xaxis2\": {\"anchor\": \"y2\", \"dtick\": 1}, \"xaxis\": {\"dtick\": 1, \"title\": \"Month\"}, \"yaxis\": {\"domain\": [0, 0.5], \"dtick\": 500, \"title\": \"# of Collisions\"}}, {\"linkText\": \"Export to plot.ly\", \"showLink\": true})});</script>"
      ],
      "text/vnd.plotly.v1+html": [
       "<div id=\"61b75c51-2633-403e-b2d1-c46d7312c83b\" style=\"height: 525px; width: 100%;\" class=\"plotly-graph-div\"></div><script type=\"text/javascript\">require([\"plotly\"], function(Plotly) { window.PLOTLYENV=window.PLOTLYENV || {};window.PLOTLYENV.BASE_URL=\"https://plot.ly\";Plotly.newPlot(\"61b75c51-2633-403e-b2d1-c46d7312c83b\", [{\"opacity\": 0.6, \"textposition\": \"auto\", \"name\": \"Number of Collisions\", \"text\": [\"1275\", \"1279\", \"1224\", \"913\", \"1084\", \"1095\", \"971\", \"990\", \"1176\", \"1139\", \"1493\", \"1755\"], \"y\": [1275.0, 1279.0, 1224.0, 913.0, 1084.0, 1095.0, 971.0, 990.0, 1176.0, 1139.0, 1493.0, 1755.0], \"x\": [1.0, 2.0, 3.0, 4.0, 5.0, 6.0, 7.0, 8.0, 9.0, 10.0, 11.0, 12.0], \"type\": \"bar\", \"uid\": \"fc40a288-a193-11e8-9409-0800275aa47c\"}, {\"name\": \"Monthly Total Rain\", \"yaxis\": \"y2\", \"mode\": \"lines\", \"xaxis\": \"x2\", \"y\": [29.299999999999997, 34.0, 37.00000000000001, 159.0, 172.4, 156.8, 169.6, 82.39999999999999, 51.6, 142.40000000000003, 75.80000000000001, 4.6000000000000005], \"x\": [1.0, 2.0, 3.0, 4.0, 5.0, 6.0, 7.0, 8.0, 9.0, 10.0, 11.0, 12.0], \"type\": \"scatter\", \"uid\": \"fc40acba-a193-11e8-9409-0800275aa47c\"}], {\"yaxis2\": {\"domain\": [0.55, 1.0], \"title\": \"Total Rain (mm)\"}, \"title\": \"Rain Analysis (2017)\", \"xaxis2\": {\"anchor\": \"y2\", \"dtick\": 1}, \"xaxis\": {\"dtick\": 1, \"title\": \"Month\"}, \"yaxis\": {\"domain\": [0, 0.5], \"dtick\": 500, \"title\": \"# of Collisions\"}}, {\"linkText\": \"Export to plot.ly\", \"showLink\": true})});</script>"
      ]
     },
     "metadata": {},
     "output_type": "display_data"
    }
   ],
   "source": [
    "df_avg = wt1417.groupby([\"Year\",\"Month\"]).mean()\n",
    "df_avg[\"Year\"] = [x[0] for x in df_avg.index]\n",
    "df_avg[\"Month\"] = [x[1] for x in df_avg.index]\n",
    "\n",
    "df_sum = wt1417.groupby([\"Year\",\"Month\"]).sum()\n",
    "df_sum[\"Year\"] = [x[0] for x in df_sum.index]\n",
    "df_sum[\"Month\"] = [x[1] for x in df_sum.index]\n",
    "\n",
    "def printRainInYear(n):\n",
    "    monthCase = go.Bar(x = df_sum[df_sum[\"Year\"]==n][\"Month\"],\n",
    "                       y = df_sum[df_sum[\"Year\"]==n][\"Number of Collisions\"],\n",
    "                       text = df_sum[df_sum[\"Year\"]==n][\"Number of Collisions\"],\n",
    "                       textposition = 'auto',\n",
    "                       opacity = 0.6,\n",
    "                       name = 'Number of Collisions')\n",
    "    total_rain = go.Scatter(x = df_sum[df_sum[\"Year\"]==n][\"Month\"],\n",
    "                         y = df_sum[df_sum[\"Year\"]==n][\"Total Rain (mm)\"],\n",
    "                         mode = 'lines',\n",
    "                         name = 'Monthly Total Rain',\n",
    "                         xaxis = 'x2', \n",
    "                         yaxis = 'y2')\n",
    "    fig = dict(data = [monthCase, total_rain], \n",
    "               layout = go.Layout(title = \"Rain Analysis (\" + str(n) + \")\",\n",
    "                                  xaxis = dict(title='Month', dtick=1),\n",
    "                                  yaxis = dict(title='# of Collisions', dtick=500, domain = [0,0.5]),\n",
    "                                  yaxis2 = dict(title='Total Rain (mm)', domain = [0.55,1.0]),\n",
    "                                  xaxis2 = dict(dtick=1, anchor = 'y2')\n",
    "                                 )\n",
    "              )\n",
    "    iplot(fig)\n",
    "    \n",
    "for m in range(2014,2018):\n",
    "    printRainInYear(m)"
   ]
  },
  {
   "cell_type": "markdown",
   "metadata": {},
   "source": [
    "**Brief Conclusion:**\n",
    "* No clear relationship between rain and collisions"
   ]
  },
  {
   "cell_type": "code",
   "execution_count": 8,
   "metadata": {},
   "outputs": [
    {
     "data": {
      "application/vnd.plotly.v1+json": {
       "data": [
        {
         "name": "Number of Collisions",
         "opacity": 0.6,
         "text": [
          "1790",
          "1349",
          "1190",
          "936",
          "1093",
          "1166",
          "1115",
          "1094",
          "1126",
          "1260",
          "1340",
          "1384"
         ],
         "textposition": "auto",
         "type": "bar",
         "uid": "0049fbae-a194-11e8-9409-0800275aa47c",
         "x": [
          1,
          2,
          3,
          4,
          5,
          6,
          7,
          8,
          9,
          10,
          11,
          12
         ],
         "y": [
          1790,
          1349,
          1190,
          936,
          1093,
          1166,
          1115,
          1094,
          1126,
          1260,
          1340,
          1384
         ]
        },
        {
         "mode": "lines",
         "name": "Monthly Total Snow",
         "type": "scatter",
         "uid": "0049fe24-a194-11e8-9409-0800275aa47c",
         "x": [
          1,
          2,
          3,
          4,
          5,
          6,
          7,
          8,
          9,
          10,
          11,
          12
         ],
         "xaxis": "x2",
         "y": [
          29.8,
          39.199999999999996,
          44.400000000000006,
          0,
          0,
          0,
          0,
          0,
          0,
          0,
          10.7,
          21.299999999999997
         ],
         "yaxis": "y2"
        }
       ],
       "layout": {
        "title": "Snow Analysis (2014)",
        "xaxis": {
         "dtick": 1,
         "title": "Month"
        },
        "xaxis2": {
         "anchor": "y2",
         "dtick": 1
        },
        "yaxis": {
         "domain": [
          0,
          0.5
         ],
         "dtick": 500,
         "title": "# of Collisions"
        },
        "yaxis2": {
         "domain": [
          0.55,
          1
         ],
         "title": "Total Snow (cm)"
        }
       }
      },
      "text/html": [
       "<div id=\"789e52e2-f139-4217-a3b6-fcec30d434bd\" style=\"height: 525px; width: 100%;\" class=\"plotly-graph-div\"></div><script type=\"text/javascript\">require([\"plotly\"], function(Plotly) { window.PLOTLYENV=window.PLOTLYENV || {};window.PLOTLYENV.BASE_URL=\"https://plot.ly\";Plotly.newPlot(\"789e52e2-f139-4217-a3b6-fcec30d434bd\", [{\"opacity\": 0.6, \"textposition\": \"auto\", \"name\": \"Number of Collisions\", \"text\": [\"1790\", \"1349\", \"1190\", \"936\", \"1093\", \"1166\", \"1115\", \"1094\", \"1126\", \"1260\", \"1340\", \"1384\"], \"y\": [1790.0, 1349.0, 1190.0, 936.0, 1093.0, 1166.0, 1115.0, 1094.0, 1126.0, 1260.0, 1340.0, 1384.0], \"x\": [1.0, 2.0, 3.0, 4.0, 5.0, 6.0, 7.0, 8.0, 9.0, 10.0, 11.0, 12.0], \"type\": \"bar\", \"uid\": \"004f82c2-a194-11e8-9409-0800275aa47c\"}, {\"name\": \"Monthly Total Snow\", \"yaxis\": \"y2\", \"mode\": \"lines\", \"xaxis\": \"x2\", \"y\": [29.8, 39.199999999999996, 44.400000000000006, 0.0, 0.0, 0.0, 0.0, 0.0, 0.0, 0.0, 10.7, 21.299999999999997], \"x\": [1.0, 2.0, 3.0, 4.0, 5.0, 6.0, 7.0, 8.0, 9.0, 10.0, 11.0, 12.0], \"type\": \"scatter\", \"uid\": \"004f851a-a194-11e8-9409-0800275aa47c\"}], {\"yaxis2\": {\"domain\": [0.55, 1.0], \"title\": \"Total Snow (cm)\"}, \"title\": \"Snow Analysis (2014)\", \"xaxis2\": {\"anchor\": \"y2\", \"dtick\": 1}, \"xaxis\": {\"dtick\": 1, \"title\": \"Month\"}, \"yaxis\": {\"domain\": [0, 0.5], \"dtick\": 500, \"title\": \"# of Collisions\"}}, {\"linkText\": \"Export to plot.ly\", \"showLink\": true})});</script>"
      ],
      "text/vnd.plotly.v1+html": [
       "<div id=\"789e52e2-f139-4217-a3b6-fcec30d434bd\" style=\"height: 525px; width: 100%;\" class=\"plotly-graph-div\"></div><script type=\"text/javascript\">require([\"plotly\"], function(Plotly) { window.PLOTLYENV=window.PLOTLYENV || {};window.PLOTLYENV.BASE_URL=\"https://plot.ly\";Plotly.newPlot(\"789e52e2-f139-4217-a3b6-fcec30d434bd\", [{\"opacity\": 0.6, \"textposition\": \"auto\", \"name\": \"Number of Collisions\", \"text\": [\"1790\", \"1349\", \"1190\", \"936\", \"1093\", \"1166\", \"1115\", \"1094\", \"1126\", \"1260\", \"1340\", \"1384\"], \"y\": [1790.0, 1349.0, 1190.0, 936.0, 1093.0, 1166.0, 1115.0, 1094.0, 1126.0, 1260.0, 1340.0, 1384.0], \"x\": [1.0, 2.0, 3.0, 4.0, 5.0, 6.0, 7.0, 8.0, 9.0, 10.0, 11.0, 12.0], \"type\": \"bar\", \"uid\": \"004f82c2-a194-11e8-9409-0800275aa47c\"}, {\"name\": \"Monthly Total Snow\", \"yaxis\": \"y2\", \"mode\": \"lines\", \"xaxis\": \"x2\", \"y\": [29.8, 39.199999999999996, 44.400000000000006, 0.0, 0.0, 0.0, 0.0, 0.0, 0.0, 0.0, 10.7, 21.299999999999997], \"x\": [1.0, 2.0, 3.0, 4.0, 5.0, 6.0, 7.0, 8.0, 9.0, 10.0, 11.0, 12.0], \"type\": \"scatter\", \"uid\": \"004f851a-a194-11e8-9409-0800275aa47c\"}], {\"yaxis2\": {\"domain\": [0.55, 1.0], \"title\": \"Total Snow (cm)\"}, \"title\": \"Snow Analysis (2014)\", \"xaxis2\": {\"anchor\": \"y2\", \"dtick\": 1}, \"xaxis\": {\"dtick\": 1, \"title\": \"Month\"}, \"yaxis\": {\"domain\": [0, 0.5], \"dtick\": 500, \"title\": \"# of Collisions\"}}, {\"linkText\": \"Export to plot.ly\", \"showLink\": true})});</script>"
      ]
     },
     "metadata": {},
     "output_type": "display_data"
    },
    {
     "data": {
      "application/vnd.plotly.v1+json": {
       "data": [
        {
         "name": "Number of Collisions",
         "opacity": 0.6,
         "text": [
          "2027",
          "1900",
          "1064",
          "901",
          "1115",
          "1219",
          "1115",
          "1058",
          "1133",
          "1199",
          "1249",
          "1098"
         ],
         "textposition": "auto",
         "type": "bar",
         "uid": "005c5f74-a194-11e8-9409-0800275aa47c",
         "x": [
          1,
          2,
          3,
          4,
          5,
          6,
          7,
          8,
          9,
          10,
          11,
          12
         ],
         "y": [
          2027,
          1900,
          1064,
          901,
          1115,
          1219,
          1115,
          1058,
          1133,
          1199,
          1249,
          1098
         ]
        },
        {
         "mode": "lines",
         "name": "Monthly Total Snow",
         "type": "scatter",
         "uid": "005c6208-a194-11e8-9409-0800275aa47c",
         "x": [
          1,
          2,
          3,
          4,
          5,
          6,
          7,
          8,
          9,
          10,
          11,
          12
         ],
         "xaxis": "x2",
         "y": [
          45.70000000000001,
          54,
          18.7,
          4,
          0,
          0,
          0,
          0,
          0,
          0,
          1,
          31.299999999999997
         ],
         "yaxis": "y2"
        }
       ],
       "layout": {
        "title": "Snow Analysis (2015)",
        "xaxis": {
         "dtick": 1,
         "title": "Month"
        },
        "xaxis2": {
         "anchor": "y2",
         "dtick": 1
        },
        "yaxis": {
         "domain": [
          0,
          0.5
         ],
         "dtick": 500,
         "title": "# of Collisions"
        },
        "yaxis2": {
         "domain": [
          0.55,
          1
         ],
         "title": "Total Snow (cm)"
        }
       }
      },
      "text/html": [
       "<div id=\"44c9eaa1-772c-492e-adc6-4a5be6236d22\" style=\"height: 525px; width: 100%;\" class=\"plotly-graph-div\"></div><script type=\"text/javascript\">require([\"plotly\"], function(Plotly) { window.PLOTLYENV=window.PLOTLYENV || {};window.PLOTLYENV.BASE_URL=\"https://plot.ly\";Plotly.newPlot(\"44c9eaa1-772c-492e-adc6-4a5be6236d22\", [{\"opacity\": 0.6, \"textposition\": \"auto\", \"name\": \"Number of Collisions\", \"text\": [\"2027\", \"1900\", \"1064\", \"901\", \"1115\", \"1219\", \"1115\", \"1058\", \"1133\", \"1199\", \"1249\", \"1098\"], \"y\": [2027.0, 1900.0, 1064.0, 901.0, 1115.0, 1219.0, 1115.0, 1058.0, 1133.0, 1199.0, 1249.0, 1098.0], \"x\": [1.0, 2.0, 3.0, 4.0, 5.0, 6.0, 7.0, 8.0, 9.0, 10.0, 11.0, 12.0], \"type\": \"bar\", \"uid\": \"00759f66-a194-11e8-9409-0800275aa47c\"}, {\"name\": \"Monthly Total Snow\", \"yaxis\": \"y2\", \"mode\": \"lines\", \"xaxis\": \"x2\", \"y\": [45.70000000000001, 54.0, 18.7, 4.0, 0.0, 0.0, 0.0, 0.0, 0.0, 0.0, 1.0, 31.299999999999997], \"x\": [1.0, 2.0, 3.0, 4.0, 5.0, 6.0, 7.0, 8.0, 9.0, 10.0, 11.0, 12.0], \"type\": \"scatter\", \"uid\": \"0075a2d6-a194-11e8-9409-0800275aa47c\"}], {\"yaxis2\": {\"domain\": [0.55, 1.0], \"title\": \"Total Snow (cm)\"}, \"title\": \"Snow Analysis (2015)\", \"xaxis2\": {\"anchor\": \"y2\", \"dtick\": 1}, \"xaxis\": {\"dtick\": 1, \"title\": \"Month\"}, \"yaxis\": {\"domain\": [0, 0.5], \"dtick\": 500, \"title\": \"# of Collisions\"}}, {\"linkText\": \"Export to plot.ly\", \"showLink\": true})});</script>"
      ],
      "text/vnd.plotly.v1+html": [
       "<div id=\"44c9eaa1-772c-492e-adc6-4a5be6236d22\" style=\"height: 525px; width: 100%;\" class=\"plotly-graph-div\"></div><script type=\"text/javascript\">require([\"plotly\"], function(Plotly) { window.PLOTLYENV=window.PLOTLYENV || {};window.PLOTLYENV.BASE_URL=\"https://plot.ly\";Plotly.newPlot(\"44c9eaa1-772c-492e-adc6-4a5be6236d22\", [{\"opacity\": 0.6, \"textposition\": \"auto\", \"name\": \"Number of Collisions\", \"text\": [\"2027\", \"1900\", \"1064\", \"901\", \"1115\", \"1219\", \"1115\", \"1058\", \"1133\", \"1199\", \"1249\", \"1098\"], \"y\": [2027.0, 1900.0, 1064.0, 901.0, 1115.0, 1219.0, 1115.0, 1058.0, 1133.0, 1199.0, 1249.0, 1098.0], \"x\": [1.0, 2.0, 3.0, 4.0, 5.0, 6.0, 7.0, 8.0, 9.0, 10.0, 11.0, 12.0], \"type\": \"bar\", \"uid\": \"00759f66-a194-11e8-9409-0800275aa47c\"}, {\"name\": \"Monthly Total Snow\", \"yaxis\": \"y2\", \"mode\": \"lines\", \"xaxis\": \"x2\", \"y\": [45.70000000000001, 54.0, 18.7, 4.0, 0.0, 0.0, 0.0, 0.0, 0.0, 0.0, 1.0, 31.299999999999997], \"x\": [1.0, 2.0, 3.0, 4.0, 5.0, 6.0, 7.0, 8.0, 9.0, 10.0, 11.0, 12.0], \"type\": \"scatter\", \"uid\": \"0075a2d6-a194-11e8-9409-0800275aa47c\"}], {\"yaxis2\": {\"domain\": [0.55, 1.0], \"title\": \"Total Snow (cm)\"}, \"title\": \"Snow Analysis (2015)\", \"xaxis2\": {\"anchor\": \"y2\", \"dtick\": 1}, \"xaxis\": {\"dtick\": 1, \"title\": \"Month\"}, \"yaxis\": {\"domain\": [0, 0.5], \"dtick\": 500, \"title\": \"# of Collisions\"}}, {\"linkText\": \"Export to plot.ly\", \"showLink\": true})});</script>"
      ]
     },
     "metadata": {},
     "output_type": "display_data"
    },
    {
     "data": {
      "application/vnd.plotly.v1+json": {
       "data": [
        {
         "name": "Number of Collisions",
         "opacity": 0.6,
         "text": [
          "1407",
          "1523",
          "1018",
          "944",
          "1109",
          "1135",
          "1035",
          "976",
          "1073",
          "1111",
          "1155",
          "1537"
         ],
         "textposition": "auto",
         "type": "bar",
         "uid": "008435c6-a194-11e8-9409-0800275aa47c",
         "x": [
          1,
          2,
          3,
          4,
          5,
          6,
          7,
          8,
          9,
          10,
          11,
          12
         ],
         "y": [
          1407,
          1523,
          1018,
          944,
          1109,
          1135,
          1035,
          976,
          1073,
          1111,
          1155,
          1537
         ]
        },
        {
         "mode": "lines",
         "name": "Monthly Total Snow",
         "type": "scatter",
         "uid": "00843b34-a194-11e8-9409-0800275aa47c",
         "x": [
          1,
          2,
          3,
          4,
          5,
          6,
          7,
          8,
          9,
          10,
          11,
          12
         ],
         "xaxis": "x2",
         "y": [
          30.799999999999997,
          61.1,
          19.5,
          25.200000000000003,
          0,
          0,
          0,
          0,
          0,
          8,
          14.399999999999999,
          84.19999999999999
         ],
         "yaxis": "y2"
        }
       ],
       "layout": {
        "title": "Snow Analysis (2016)",
        "xaxis": {
         "dtick": 1,
         "title": "Month"
        },
        "xaxis2": {
         "anchor": "y2",
         "dtick": 1
        },
        "yaxis": {
         "domain": [
          0,
          0.5
         ],
         "dtick": 500,
         "title": "# of Collisions"
        },
        "yaxis2": {
         "domain": [
          0.55,
          1
         ],
         "title": "Total Snow (cm)"
        }
       }
      },
      "text/html": [
       "<div id=\"eae96c5d-febd-440c-bae5-e75d5483c74f\" style=\"height: 525px; width: 100%;\" class=\"plotly-graph-div\"></div><script type=\"text/javascript\">require([\"plotly\"], function(Plotly) { window.PLOTLYENV=window.PLOTLYENV || {};window.PLOTLYENV.BASE_URL=\"https://plot.ly\";Plotly.newPlot(\"eae96c5d-febd-440c-bae5-e75d5483c74f\", [{\"opacity\": 0.6, \"textposition\": \"auto\", \"name\": \"Number of Collisions\", \"text\": [\"1407\", \"1523\", \"1018\", \"944\", \"1109\", \"1135\", \"1035\", \"976\", \"1073\", \"1111\", \"1155\", \"1537\"], \"y\": [1407.0, 1523.0, 1018.0, 944.0, 1109.0, 1135.0, 1035.0, 976.0, 1073.0, 1111.0, 1155.0, 1537.0], \"x\": [1.0, 2.0, 3.0, 4.0, 5.0, 6.0, 7.0, 8.0, 9.0, 10.0, 11.0, 12.0], \"type\": \"bar\", \"uid\": \"008c6b38-a194-11e8-9409-0800275aa47c\"}, {\"name\": \"Monthly Total Snow\", \"yaxis\": \"y2\", \"mode\": \"lines\", \"xaxis\": \"x2\", \"y\": [30.799999999999997, 61.1, 19.5, 25.200000000000003, 0.0, 0.0, 0.0, 0.0, 0.0, 8.0, 14.399999999999999, 84.19999999999999], \"x\": [1.0, 2.0, 3.0, 4.0, 5.0, 6.0, 7.0, 8.0, 9.0, 10.0, 11.0, 12.0], \"type\": \"scatter\", \"uid\": \"008c6f84-a194-11e8-9409-0800275aa47c\"}], {\"yaxis2\": {\"domain\": [0.55, 1.0], \"title\": \"Total Snow (cm)\"}, \"title\": \"Snow Analysis (2016)\", \"xaxis2\": {\"anchor\": \"y2\", \"dtick\": 1}, \"xaxis\": {\"dtick\": 1, \"title\": \"Month\"}, \"yaxis\": {\"domain\": [0, 0.5], \"dtick\": 500, \"title\": \"# of Collisions\"}}, {\"linkText\": \"Export to plot.ly\", \"showLink\": true})});</script>"
      ],
      "text/vnd.plotly.v1+html": [
       "<div id=\"eae96c5d-febd-440c-bae5-e75d5483c74f\" style=\"height: 525px; width: 100%;\" class=\"plotly-graph-div\"></div><script type=\"text/javascript\">require([\"plotly\"], function(Plotly) { window.PLOTLYENV=window.PLOTLYENV || {};window.PLOTLYENV.BASE_URL=\"https://plot.ly\";Plotly.newPlot(\"eae96c5d-febd-440c-bae5-e75d5483c74f\", [{\"opacity\": 0.6, \"textposition\": \"auto\", \"name\": \"Number of Collisions\", \"text\": [\"1407\", \"1523\", \"1018\", \"944\", \"1109\", \"1135\", \"1035\", \"976\", \"1073\", \"1111\", \"1155\", \"1537\"], \"y\": [1407.0, 1523.0, 1018.0, 944.0, 1109.0, 1135.0, 1035.0, 976.0, 1073.0, 1111.0, 1155.0, 1537.0], \"x\": [1.0, 2.0, 3.0, 4.0, 5.0, 6.0, 7.0, 8.0, 9.0, 10.0, 11.0, 12.0], \"type\": \"bar\", \"uid\": \"008c6b38-a194-11e8-9409-0800275aa47c\"}, {\"name\": \"Monthly Total Snow\", \"yaxis\": \"y2\", \"mode\": \"lines\", \"xaxis\": \"x2\", \"y\": [30.799999999999997, 61.1, 19.5, 25.200000000000003, 0.0, 0.0, 0.0, 0.0, 0.0, 8.0, 14.399999999999999, 84.19999999999999], \"x\": [1.0, 2.0, 3.0, 4.0, 5.0, 6.0, 7.0, 8.0, 9.0, 10.0, 11.0, 12.0], \"type\": \"scatter\", \"uid\": \"008c6f84-a194-11e8-9409-0800275aa47c\"}], {\"yaxis2\": {\"domain\": [0.55, 1.0], \"title\": \"Total Snow (cm)\"}, \"title\": \"Snow Analysis (2016)\", \"xaxis2\": {\"anchor\": \"y2\", \"dtick\": 1}, \"xaxis\": {\"dtick\": 1, \"title\": \"Month\"}, \"yaxis\": {\"domain\": [0, 0.5], \"dtick\": 500, \"title\": \"# of Collisions\"}}, {\"linkText\": \"Export to plot.ly\", \"showLink\": true})});</script>"
      ]
     },
     "metadata": {},
     "output_type": "display_data"
    },
    {
     "data": {
      "application/vnd.plotly.v1+json": {
       "data": [
        {
         "name": "Number of Collisions",
         "opacity": 0.6,
         "text": [
          "1275",
          "1279",
          "1224",
          "913",
          "1084",
          "1095",
          "971",
          "990",
          "1176",
          "1139",
          "1493",
          "1755"
         ],
         "textposition": "auto",
         "type": "bar",
         "uid": "009b0954-a194-11e8-9409-0800275aa47c",
         "x": [
          1,
          2,
          3,
          4,
          5,
          6,
          7,
          8,
          9,
          10,
          11,
          12
         ],
         "y": [
          1275,
          1279,
          1224,
          913,
          1084,
          1095,
          971,
          990,
          1176,
          1139,
          1493,
          1755
         ]
        },
        {
         "mode": "lines",
         "name": "Monthly Total Snow",
         "type": "scatter",
         "uid": "009b0f58-a194-11e8-9409-0800275aa47c",
         "x": [
          1,
          2,
          3,
          4,
          5,
          6,
          7,
          8,
          9,
          10,
          11,
          12
         ],
         "xaxis": "x2",
         "y": [
          36.400000000000006,
          64.6,
          35.4,
          0,
          0,
          0,
          0,
          0,
          0,
          0,
          14.4,
          38.8
         ],
         "yaxis": "y2"
        }
       ],
       "layout": {
        "title": "Snow Analysis (2017)",
        "xaxis": {
         "dtick": 1,
         "title": "Month"
        },
        "xaxis2": {
         "anchor": "y2",
         "dtick": 1
        },
        "yaxis": {
         "domain": [
          0,
          0.5
         ],
         "dtick": 500,
         "title": "# of Collisions"
        },
        "yaxis2": {
         "domain": [
          0.55,
          1
         ],
         "title": "Total Snow (cm)"
        }
       }
      },
      "text/html": [
       "<div id=\"ed24aafc-2563-45c4-831d-bac3acfddf8b\" style=\"height: 525px; width: 100%;\" class=\"plotly-graph-div\"></div><script type=\"text/javascript\">require([\"plotly\"], function(Plotly) { window.PLOTLYENV=window.PLOTLYENV || {};window.PLOTLYENV.BASE_URL=\"https://plot.ly\";Plotly.newPlot(\"ed24aafc-2563-45c4-831d-bac3acfddf8b\", [{\"opacity\": 0.6, \"textposition\": \"auto\", \"name\": \"Number of Collisions\", \"text\": [\"1275\", \"1279\", \"1224\", \"913\", \"1084\", \"1095\", \"971\", \"990\", \"1176\", \"1139\", \"1493\", \"1755\"], \"y\": [1275.0, 1279.0, 1224.0, 913.0, 1084.0, 1095.0, 971.0, 990.0, 1176.0, 1139.0, 1493.0, 1755.0], \"x\": [1.0, 2.0, 3.0, 4.0, 5.0, 6.0, 7.0, 8.0, 9.0, 10.0, 11.0, 12.0], \"type\": \"bar\", \"uid\": \"00a1d810-a194-11e8-9409-0800275aa47c\"}, {\"name\": \"Monthly Total Snow\", \"yaxis\": \"y2\", \"mode\": \"lines\", \"xaxis\": \"x2\", \"y\": [36.400000000000006, 64.6, 35.4, 0.0, 0.0, 0.0, 0.0, 0.0, 0.0, 0.0, 14.4, 38.8], \"x\": [1.0, 2.0, 3.0, 4.0, 5.0, 6.0, 7.0, 8.0, 9.0, 10.0, 11.0, 12.0], \"type\": \"scatter\", \"uid\": \"00a1dd24-a194-11e8-9409-0800275aa47c\"}], {\"yaxis2\": {\"domain\": [0.55, 1.0], \"title\": \"Total Snow (cm)\"}, \"title\": \"Snow Analysis (2017)\", \"xaxis2\": {\"anchor\": \"y2\", \"dtick\": 1}, \"xaxis\": {\"dtick\": 1, \"title\": \"Month\"}, \"yaxis\": {\"domain\": [0, 0.5], \"dtick\": 500, \"title\": \"# of Collisions\"}}, {\"linkText\": \"Export to plot.ly\", \"showLink\": true})});</script>"
      ],
      "text/vnd.plotly.v1+html": [
       "<div id=\"ed24aafc-2563-45c4-831d-bac3acfddf8b\" style=\"height: 525px; width: 100%;\" class=\"plotly-graph-div\"></div><script type=\"text/javascript\">require([\"plotly\"], function(Plotly) { window.PLOTLYENV=window.PLOTLYENV || {};window.PLOTLYENV.BASE_URL=\"https://plot.ly\";Plotly.newPlot(\"ed24aafc-2563-45c4-831d-bac3acfddf8b\", [{\"opacity\": 0.6, \"textposition\": \"auto\", \"name\": \"Number of Collisions\", \"text\": [\"1275\", \"1279\", \"1224\", \"913\", \"1084\", \"1095\", \"971\", \"990\", \"1176\", \"1139\", \"1493\", \"1755\"], \"y\": [1275.0, 1279.0, 1224.0, 913.0, 1084.0, 1095.0, 971.0, 990.0, 1176.0, 1139.0, 1493.0, 1755.0], \"x\": [1.0, 2.0, 3.0, 4.0, 5.0, 6.0, 7.0, 8.0, 9.0, 10.0, 11.0, 12.0], \"type\": \"bar\", \"uid\": \"00a1d810-a194-11e8-9409-0800275aa47c\"}, {\"name\": \"Monthly Total Snow\", \"yaxis\": \"y2\", \"mode\": \"lines\", \"xaxis\": \"x2\", \"y\": [36.400000000000006, 64.6, 35.4, 0.0, 0.0, 0.0, 0.0, 0.0, 0.0, 0.0, 14.4, 38.8], \"x\": [1.0, 2.0, 3.0, 4.0, 5.0, 6.0, 7.0, 8.0, 9.0, 10.0, 11.0, 12.0], \"type\": \"scatter\", \"uid\": \"00a1dd24-a194-11e8-9409-0800275aa47c\"}], {\"yaxis2\": {\"domain\": [0.55, 1.0], \"title\": \"Total Snow (cm)\"}, \"title\": \"Snow Analysis (2017)\", \"xaxis2\": {\"anchor\": \"y2\", \"dtick\": 1}, \"xaxis\": {\"dtick\": 1, \"title\": \"Month\"}, \"yaxis\": {\"domain\": [0, 0.5], \"dtick\": 500, \"title\": \"# of Collisions\"}}, {\"linkText\": \"Export to plot.ly\", \"showLink\": true})});</script>"
      ]
     },
     "metadata": {},
     "output_type": "display_data"
    }
   ],
   "source": [
    "df_avg = wt1417.groupby([\"Year\",\"Month\"]).mean()\n",
    "df_avg[\"Year\"] = [x[0] for x in df_avg.index]\n",
    "df_avg[\"Month\"] = [x[1] for x in df_avg.index]\n",
    "\n",
    "df_sum = wt1417.groupby([\"Year\",\"Month\"]).sum()\n",
    "df_sum[\"Year\"] = [x[0] for x in df_sum.index]\n",
    "df_sum[\"Month\"] = [x[1] for x in df_sum.index]\n",
    "\n",
    "def printSnowInYear(n):\n",
    "    monthCase = go.Bar(x = df_sum[df_sum[\"Year\"]==n][\"Month\"],\n",
    "                       y = df_sum[df_sum[\"Year\"]==n][\"Number of Collisions\"],\n",
    "                       text = df_sum[df_sum[\"Year\"]==n][\"Number of Collisions\"],\n",
    "                       textposition = 'auto',\n",
    "                       opacity = 0.6,\n",
    "                       name = 'Number of Collisions')\n",
    "    total_snow = go.Scatter(x = df_sum[df_sum[\"Year\"]==n][\"Month\"],\n",
    "                         y = df_sum[df_sum[\"Year\"]==n][\"Total Snow (cm)\"],\n",
    "                         mode = 'lines',\n",
    "                         name = 'Monthly Total Snow',\n",
    "                         xaxis = 'x2', \n",
    "                         yaxis = 'y2')\n",
    "    fig = dict(data = [monthCase, total_snow], \n",
    "               layout = go.Layout(title = \"Snow Analysis (\" + str(n) + \")\",\n",
    "                                  xaxis = dict(title='Month', dtick=1),\n",
    "                                  yaxis = dict(title='# of Collisions', dtick=500, domain = [0,0.5]),\n",
    "                                  yaxis2 = dict(title='Total Snow (cm)', domain = [0.55,1.0]),\n",
    "                                  xaxis2 = dict(dtick=1, anchor = 'y2')\n",
    "                                 )\n",
    "              )\n",
    "    iplot(fig)\n",
    "    \n",
    "for m in range(2014,2018):\n",
    "    printSnowInYear(m)"
   ]
  },
  {
   "cell_type": "code",
   "execution_count": 18,
   "metadata": {},
   "outputs": [
    {
     "data": {
      "application/vnd.plotly.v1+json": {
       "data": [
        {
         "name": "Number of Collisions",
         "opacity": 0.6,
         "text": [
          "1790",
          "1349",
          "1190",
          "936",
          "1093",
          "1166",
          "1115",
          "1094",
          "1126",
          "1260",
          "1340",
          "1384"
         ],
         "textposition": "auto",
         "type": "bar",
         "uid": "28ec24b4-a1a4-11e8-9409-0800275aa47c",
         "x": [
          1,
          2,
          3,
          4,
          5,
          6,
          7,
          8,
          9,
          10,
          11,
          12
         ],
         "y": [
          1790,
          1349,
          1190,
          936,
          1093,
          1166,
          1115,
          1094,
          1126,
          1260,
          1340,
          1384
         ]
        },
        {
         "mode": "lines",
         "name": "Monthly Total Snow on Ground",
         "type": "scatter",
         "uid": "28ec277a-a1a4-11e8-9409-0800275aa47c",
         "x": [
          1,
          2,
          3,
          4,
          5,
          6,
          7,
          8,
          9,
          10,
          11,
          12
         ],
         "xaxis": "x2",
         "y": [
          771,
          1067,
          1214,
          219,
          0,
          0,
          0,
          0,
          0,
          0,
          13,
          116
         ],
         "yaxis": "y2"
        }
       ],
       "layout": {
        "title": "Snow on Ground Analysis (2014)",
        "xaxis": {
         "dtick": 1,
         "title": "Month"
        },
        "xaxis2": {
         "anchor": "y2",
         "dtick": 1
        },
        "yaxis": {
         "domain": [
          0,
          0.5
         ],
         "dtick": 500,
         "title": "# of Collisions"
        },
        "yaxis2": {
         "domain": [
          0.55,
          1
         ],
         "title": "Snow on Grnd (cm)"
        }
       }
      },
      "text/html": [
       "<div id=\"e2ad374b-7dce-4e6a-87b8-683887234881\" style=\"height: 525px; width: 100%;\" class=\"plotly-graph-div\"></div><script type=\"text/javascript\">require([\"plotly\"], function(Plotly) { window.PLOTLYENV=window.PLOTLYENV || {};window.PLOTLYENV.BASE_URL=\"https://plot.ly\";Plotly.newPlot(\"e2ad374b-7dce-4e6a-87b8-683887234881\", [{\"opacity\": 0.6, \"textposition\": \"auto\", \"name\": \"Number of Collisions\", \"text\": [\"1790\", \"1349\", \"1190\", \"936\", \"1093\", \"1166\", \"1115\", \"1094\", \"1126\", \"1260\", \"1340\", \"1384\"], \"y\": [1790.0, 1349.0, 1190.0, 936.0, 1093.0, 1166.0, 1115.0, 1094.0, 1126.0, 1260.0, 1340.0, 1384.0], \"x\": [1.0, 2.0, 3.0, 4.0, 5.0, 6.0, 7.0, 8.0, 9.0, 10.0, 11.0, 12.0], \"type\": \"bar\", \"uid\": \"28f07c8a-a1a4-11e8-9409-0800275aa47c\"}, {\"name\": \"Monthly Total Snow on Ground\", \"yaxis\": \"y2\", \"mode\": \"lines\", \"xaxis\": \"x2\", \"y\": [771.0, 1067.0, 1214.0, 219.0, 0.0, 0.0, 0.0, 0.0, 0.0, 0.0, 13.0, 116.0], \"x\": [1.0, 2.0, 3.0, 4.0, 5.0, 6.0, 7.0, 8.0, 9.0, 10.0, 11.0, 12.0], \"type\": \"scatter\", \"uid\": \"28f07eec-a1a4-11e8-9409-0800275aa47c\"}], {\"yaxis2\": {\"domain\": [0.55, 1.0], \"title\": \"Snow on Grnd (cm)\"}, \"title\": \"Snow on Ground Analysis (2014)\", \"xaxis2\": {\"anchor\": \"y2\", \"dtick\": 1}, \"xaxis\": {\"dtick\": 1, \"title\": \"Month\"}, \"yaxis\": {\"domain\": [0, 0.5], \"dtick\": 500, \"title\": \"# of Collisions\"}}, {\"linkText\": \"Export to plot.ly\", \"showLink\": true})});</script>"
      ],
      "text/vnd.plotly.v1+html": [
       "<div id=\"e2ad374b-7dce-4e6a-87b8-683887234881\" style=\"height: 525px; width: 100%;\" class=\"plotly-graph-div\"></div><script type=\"text/javascript\">require([\"plotly\"], function(Plotly) { window.PLOTLYENV=window.PLOTLYENV || {};window.PLOTLYENV.BASE_URL=\"https://plot.ly\";Plotly.newPlot(\"e2ad374b-7dce-4e6a-87b8-683887234881\", [{\"opacity\": 0.6, \"textposition\": \"auto\", \"name\": \"Number of Collisions\", \"text\": [\"1790\", \"1349\", \"1190\", \"936\", \"1093\", \"1166\", \"1115\", \"1094\", \"1126\", \"1260\", \"1340\", \"1384\"], \"y\": [1790.0, 1349.0, 1190.0, 936.0, 1093.0, 1166.0, 1115.0, 1094.0, 1126.0, 1260.0, 1340.0, 1384.0], \"x\": [1.0, 2.0, 3.0, 4.0, 5.0, 6.0, 7.0, 8.0, 9.0, 10.0, 11.0, 12.0], \"type\": \"bar\", \"uid\": \"28f07c8a-a1a4-11e8-9409-0800275aa47c\"}, {\"name\": \"Monthly Total Snow on Ground\", \"yaxis\": \"y2\", \"mode\": \"lines\", \"xaxis\": \"x2\", \"y\": [771.0, 1067.0, 1214.0, 219.0, 0.0, 0.0, 0.0, 0.0, 0.0, 0.0, 13.0, 116.0], \"x\": [1.0, 2.0, 3.0, 4.0, 5.0, 6.0, 7.0, 8.0, 9.0, 10.0, 11.0, 12.0], \"type\": \"scatter\", \"uid\": \"28f07eec-a1a4-11e8-9409-0800275aa47c\"}], {\"yaxis2\": {\"domain\": [0.55, 1.0], \"title\": \"Snow on Grnd (cm)\"}, \"title\": \"Snow on Ground Analysis (2014)\", \"xaxis2\": {\"anchor\": \"y2\", \"dtick\": 1}, \"xaxis\": {\"dtick\": 1, \"title\": \"Month\"}, \"yaxis\": {\"domain\": [0, 0.5], \"dtick\": 500, \"title\": \"# of Collisions\"}}, {\"linkText\": \"Export to plot.ly\", \"showLink\": true})});</script>"
      ]
     },
     "metadata": {},
     "output_type": "display_data"
    },
    {
     "data": {
      "application/vnd.plotly.v1+json": {
       "data": [
        {
         "name": "Number of Collisions",
         "opacity": 0.6,
         "text": [
          "2027",
          "1900",
          "1064",
          "901",
          "1115",
          "1219",
          "1115",
          "1058",
          "1133",
          "1199",
          "1249",
          "1098"
         ],
         "textposition": "auto",
         "type": "bar",
         "uid": "2907acde-a1a4-11e8-9409-0800275aa47c",
         "x": [
          1,
          2,
          3,
          4,
          5,
          6,
          7,
          8,
          9,
          10,
          11,
          12
         ],
         "y": [
          2027,
          1900,
          1064,
          901,
          1115,
          1219,
          1115,
          1058,
          1133,
          1199,
          1249,
          1098
         ]
        },
        {
         "mode": "lines",
         "name": "Monthly Total Snow on Ground",
         "type": "scatter",
         "uid": "2907af90-a1a4-11e8-9409-0800275aa47c",
         "x": [
          1,
          2,
          3,
          4,
          5,
          6,
          7,
          8,
          9,
          10,
          11,
          12
         ],
         "xaxis": "x2",
         "y": [
          257,
          790,
          840,
          31,
          0,
          0,
          0,
          0,
          0,
          0,
          1,
          47
         ],
         "yaxis": "y2"
        }
       ],
       "layout": {
        "title": "Snow on Ground Analysis (2015)",
        "xaxis": {
         "dtick": 1,
         "title": "Month"
        },
        "xaxis2": {
         "anchor": "y2",
         "dtick": 1
        },
        "yaxis": {
         "domain": [
          0,
          0.5
         ],
         "dtick": 500,
         "title": "# of Collisions"
        },
        "yaxis2": {
         "domain": [
          0.55,
          1
         ],
         "title": "Snow on Grnd (cm)"
        }
       }
      },
      "text/html": [
       "<div id=\"dccf2432-9f43-4d4d-95b6-e852197b879b\" style=\"height: 525px; width: 100%;\" class=\"plotly-graph-div\"></div><script type=\"text/javascript\">require([\"plotly\"], function(Plotly) { window.PLOTLYENV=window.PLOTLYENV || {};window.PLOTLYENV.BASE_URL=\"https://plot.ly\";Plotly.newPlot(\"dccf2432-9f43-4d4d-95b6-e852197b879b\", [{\"opacity\": 0.6, \"textposition\": \"auto\", \"name\": \"Number of Collisions\", \"text\": [\"2027\", \"1900\", \"1064\", \"901\", \"1115\", \"1219\", \"1115\", \"1058\", \"1133\", \"1199\", \"1249\", \"1098\"], \"y\": [2027.0, 1900.0, 1064.0, 901.0, 1115.0, 1219.0, 1115.0, 1058.0, 1133.0, 1199.0, 1249.0, 1098.0], \"x\": [1.0, 2.0, 3.0, 4.0, 5.0, 6.0, 7.0, 8.0, 9.0, 10.0, 11.0, 12.0], \"type\": \"bar\", \"uid\": \"290c2ac0-a1a4-11e8-9409-0800275aa47c\"}, {\"name\": \"Monthly Total Snow on Ground\", \"yaxis\": \"y2\", \"mode\": \"lines\", \"xaxis\": \"x2\", \"y\": [257.0, 790.0, 840.0, 31.0, 0.0, 0.0, 0.0, 0.0, 0.0, 0.0, 1.0, 47.0], \"x\": [1.0, 2.0, 3.0, 4.0, 5.0, 6.0, 7.0, 8.0, 9.0, 10.0, 11.0, 12.0], \"type\": \"scatter\", \"uid\": \"290c2d22-a1a4-11e8-9409-0800275aa47c\"}], {\"yaxis2\": {\"domain\": [0.55, 1.0], \"title\": \"Snow on Grnd (cm)\"}, \"title\": \"Snow on Ground Analysis (2015)\", \"xaxis2\": {\"anchor\": \"y2\", \"dtick\": 1}, \"xaxis\": {\"dtick\": 1, \"title\": \"Month\"}, \"yaxis\": {\"domain\": [0, 0.5], \"dtick\": 500, \"title\": \"# of Collisions\"}}, {\"linkText\": \"Export to plot.ly\", \"showLink\": true})});</script>"
      ],
      "text/vnd.plotly.v1+html": [
       "<div id=\"dccf2432-9f43-4d4d-95b6-e852197b879b\" style=\"height: 525px; width: 100%;\" class=\"plotly-graph-div\"></div><script type=\"text/javascript\">require([\"plotly\"], function(Plotly) { window.PLOTLYENV=window.PLOTLYENV || {};window.PLOTLYENV.BASE_URL=\"https://plot.ly\";Plotly.newPlot(\"dccf2432-9f43-4d4d-95b6-e852197b879b\", [{\"opacity\": 0.6, \"textposition\": \"auto\", \"name\": \"Number of Collisions\", \"text\": [\"2027\", \"1900\", \"1064\", \"901\", \"1115\", \"1219\", \"1115\", \"1058\", \"1133\", \"1199\", \"1249\", \"1098\"], \"y\": [2027.0, 1900.0, 1064.0, 901.0, 1115.0, 1219.0, 1115.0, 1058.0, 1133.0, 1199.0, 1249.0, 1098.0], \"x\": [1.0, 2.0, 3.0, 4.0, 5.0, 6.0, 7.0, 8.0, 9.0, 10.0, 11.0, 12.0], \"type\": \"bar\", \"uid\": \"290c2ac0-a1a4-11e8-9409-0800275aa47c\"}, {\"name\": \"Monthly Total Snow on Ground\", \"yaxis\": \"y2\", \"mode\": \"lines\", \"xaxis\": \"x2\", \"y\": [257.0, 790.0, 840.0, 31.0, 0.0, 0.0, 0.0, 0.0, 0.0, 0.0, 1.0, 47.0], \"x\": [1.0, 2.0, 3.0, 4.0, 5.0, 6.0, 7.0, 8.0, 9.0, 10.0, 11.0, 12.0], \"type\": \"scatter\", \"uid\": \"290c2d22-a1a4-11e8-9409-0800275aa47c\"}], {\"yaxis2\": {\"domain\": [0.55, 1.0], \"title\": \"Snow on Grnd (cm)\"}, \"title\": \"Snow on Ground Analysis (2015)\", \"xaxis2\": {\"anchor\": \"y2\", \"dtick\": 1}, \"xaxis\": {\"dtick\": 1, \"title\": \"Month\"}, \"yaxis\": {\"domain\": [0, 0.5], \"dtick\": 500, \"title\": \"# of Collisions\"}}, {\"linkText\": \"Export to plot.ly\", \"showLink\": true})});</script>"
      ]
     },
     "metadata": {},
     "output_type": "display_data"
    },
    {
     "data": {
      "application/vnd.plotly.v1+json": {
       "data": [
        {
         "name": "Number of Collisions",
         "opacity": 0.6,
         "text": [
          "1407",
          "1523",
          "1018",
          "944",
          "1109",
          "1135",
          "1035",
          "976",
          "1073",
          "1111",
          "1155",
          "1537"
         ],
         "textposition": "auto",
         "type": "bar",
         "uid": "29159538-a1a4-11e8-9409-0800275aa47c",
         "x": [
          1,
          2,
          3,
          4,
          5,
          6,
          7,
          8,
          9,
          10,
          11,
          12
         ],
         "y": [
          1407,
          1523,
          1018,
          944,
          1109,
          1135,
          1035,
          976,
          1073,
          1111,
          1155,
          1537
         ]
        },
        {
         "mode": "lines",
         "name": "Monthly Total Snow on Ground",
         "type": "scatter",
         "uid": "291597cc-a1a4-11e8-9409-0800275aa47c",
         "x": [
          1,
          2,
          3,
          4,
          5,
          6,
          7,
          8,
          9,
          10,
          11,
          12
         ],
         "xaxis": "x2",
         "y": [
          391,
          496,
          376,
          33,
          0,
          0,
          0,
          0,
          0,
          2,
          29,
          369
         ],
         "yaxis": "y2"
        }
       ],
       "layout": {
        "title": "Snow on Ground Analysis (2016)",
        "xaxis": {
         "dtick": 1,
         "title": "Month"
        },
        "xaxis2": {
         "anchor": "y2",
         "dtick": 1
        },
        "yaxis": {
         "domain": [
          0,
          0.5
         ],
         "dtick": 500,
         "title": "# of Collisions"
        },
        "yaxis2": {
         "domain": [
          0.55,
          1
         ],
         "title": "Snow on Grnd (cm)"
        }
       }
      },
      "text/html": [
       "<div id=\"446a679f-260a-41e1-9bc0-02c8e85911d5\" style=\"height: 525px; width: 100%;\" class=\"plotly-graph-div\"></div><script type=\"text/javascript\">require([\"plotly\"], function(Plotly) { window.PLOTLYENV=window.PLOTLYENV || {};window.PLOTLYENV.BASE_URL=\"https://plot.ly\";Plotly.newPlot(\"446a679f-260a-41e1-9bc0-02c8e85911d5\", [{\"opacity\": 0.6, \"textposition\": \"auto\", \"name\": \"Number of Collisions\", \"text\": [\"1407\", \"1523\", \"1018\", \"944\", \"1109\", \"1135\", \"1035\", \"976\", \"1073\", \"1111\", \"1155\", \"1537\"], \"y\": [1407.0, 1523.0, 1018.0, 944.0, 1109.0, 1135.0, 1035.0, 976.0, 1073.0, 1111.0, 1155.0, 1537.0], \"x\": [1.0, 2.0, 3.0, 4.0, 5.0, 6.0, 7.0, 8.0, 9.0, 10.0, 11.0, 12.0], \"type\": \"bar\", \"uid\": \"2919d666-a1a4-11e8-9409-0800275aa47c\"}, {\"name\": \"Monthly Total Snow on Ground\", \"yaxis\": \"y2\", \"mode\": \"lines\", \"xaxis\": \"x2\", \"y\": [391.0, 496.0, 376.0, 33.0, 0.0, 0.0, 0.0, 0.0, 0.0, 2.0, 29.0, 369.0], \"x\": [1.0, 2.0, 3.0, 4.0, 5.0, 6.0, 7.0, 8.0, 9.0, 10.0, 11.0, 12.0], \"type\": \"scatter\", \"uid\": \"2919d8fa-a1a4-11e8-9409-0800275aa47c\"}], {\"yaxis2\": {\"domain\": [0.55, 1.0], \"title\": \"Snow on Grnd (cm)\"}, \"title\": \"Snow on Ground Analysis (2016)\", \"xaxis2\": {\"anchor\": \"y2\", \"dtick\": 1}, \"xaxis\": {\"dtick\": 1, \"title\": \"Month\"}, \"yaxis\": {\"domain\": [0, 0.5], \"dtick\": 500, \"title\": \"# of Collisions\"}}, {\"linkText\": \"Export to plot.ly\", \"showLink\": true})});</script>"
      ],
      "text/vnd.plotly.v1+html": [
       "<div id=\"446a679f-260a-41e1-9bc0-02c8e85911d5\" style=\"height: 525px; width: 100%;\" class=\"plotly-graph-div\"></div><script type=\"text/javascript\">require([\"plotly\"], function(Plotly) { window.PLOTLYENV=window.PLOTLYENV || {};window.PLOTLYENV.BASE_URL=\"https://plot.ly\";Plotly.newPlot(\"446a679f-260a-41e1-9bc0-02c8e85911d5\", [{\"opacity\": 0.6, \"textposition\": \"auto\", \"name\": \"Number of Collisions\", \"text\": [\"1407\", \"1523\", \"1018\", \"944\", \"1109\", \"1135\", \"1035\", \"976\", \"1073\", \"1111\", \"1155\", \"1537\"], \"y\": [1407.0, 1523.0, 1018.0, 944.0, 1109.0, 1135.0, 1035.0, 976.0, 1073.0, 1111.0, 1155.0, 1537.0], \"x\": [1.0, 2.0, 3.0, 4.0, 5.0, 6.0, 7.0, 8.0, 9.0, 10.0, 11.0, 12.0], \"type\": \"bar\", \"uid\": \"2919d666-a1a4-11e8-9409-0800275aa47c\"}, {\"name\": \"Monthly Total Snow on Ground\", \"yaxis\": \"y2\", \"mode\": \"lines\", \"xaxis\": \"x2\", \"y\": [391.0, 496.0, 376.0, 33.0, 0.0, 0.0, 0.0, 0.0, 0.0, 2.0, 29.0, 369.0], \"x\": [1.0, 2.0, 3.0, 4.0, 5.0, 6.0, 7.0, 8.0, 9.0, 10.0, 11.0, 12.0], \"type\": \"scatter\", \"uid\": \"2919d8fa-a1a4-11e8-9409-0800275aa47c\"}], {\"yaxis2\": {\"domain\": [0.55, 1.0], \"title\": \"Snow on Grnd (cm)\"}, \"title\": \"Snow on Ground Analysis (2016)\", \"xaxis2\": {\"anchor\": \"y2\", \"dtick\": 1}, \"xaxis\": {\"dtick\": 1, \"title\": \"Month\"}, \"yaxis\": {\"domain\": [0, 0.5], \"dtick\": 500, \"title\": \"# of Collisions\"}}, {\"linkText\": \"Export to plot.ly\", \"showLink\": true})});</script>"
      ]
     },
     "metadata": {},
     "output_type": "display_data"
    },
    {
     "data": {
      "application/vnd.plotly.v1+json": {
       "data": [
        {
         "name": "Number of Collisions",
         "opacity": 0.6,
         "text": [
          "1275",
          "1279",
          "1224",
          "913",
          "1084",
          "1095",
          "971",
          "990",
          "1176",
          "1139",
          "1493",
          "1755"
         ],
         "textposition": "auto",
         "type": "bar",
         "uid": "2923746e-a1a4-11e8-9409-0800275aa47c",
         "x": [
          1,
          2,
          3,
          4,
          5,
          6,
          7,
          8,
          9,
          10,
          11,
          12
         ],
         "y": [
          1275,
          1279,
          1224,
          913,
          1084,
          1095,
          971,
          990,
          1176,
          1139,
          1493,
          1755
         ]
        },
        {
         "mode": "lines",
         "name": "Monthly Total Snow on Ground",
         "type": "scatter",
         "uid": "292377ca-a1a4-11e8-9409-0800275aa47c",
         "x": [
          1,
          2,
          3,
          4,
          5,
          6,
          7,
          8,
          9,
          10,
          11,
          12
         ],
         "xaxis": "x2",
         "y": [
          742,
          964,
          485,
          6,
          0,
          0,
          0,
          0,
          0,
          0,
          26,
          311
         ],
         "yaxis": "y2"
        }
       ],
       "layout": {
        "title": "Snow on Ground Analysis (2017)",
        "xaxis": {
         "dtick": 1,
         "title": "Month"
        },
        "xaxis2": {
         "anchor": "y2",
         "dtick": 1
        },
        "yaxis": {
         "domain": [
          0,
          0.5
         ],
         "dtick": 500,
         "title": "# of Collisions"
        },
        "yaxis2": {
         "domain": [
          0.55,
          1
         ],
         "title": "Snow on Grnd (cm)"
        }
       }
      },
      "text/html": [
       "<div id=\"311ce9e4-faf6-45cd-8d29-5b3b01fdefaf\" style=\"height: 525px; width: 100%;\" class=\"plotly-graph-div\"></div><script type=\"text/javascript\">require([\"plotly\"], function(Plotly) { window.PLOTLYENV=window.PLOTLYENV || {};window.PLOTLYENV.BASE_URL=\"https://plot.ly\";Plotly.newPlot(\"311ce9e4-faf6-45cd-8d29-5b3b01fdefaf\", [{\"opacity\": 0.6, \"textposition\": \"auto\", \"name\": \"Number of Collisions\", \"text\": [\"1275\", \"1279\", \"1224\", \"913\", \"1084\", \"1095\", \"971\", \"990\", \"1176\", \"1139\", \"1493\", \"1755\"], \"y\": [1275.0, 1279.0, 1224.0, 913.0, 1084.0, 1095.0, 971.0, 990.0, 1176.0, 1139.0, 1493.0, 1755.0], \"x\": [1.0, 2.0, 3.0, 4.0, 5.0, 6.0, 7.0, 8.0, 9.0, 10.0, 11.0, 12.0], \"type\": \"bar\", \"uid\": \"2927b402-a1a4-11e8-9409-0800275aa47c\"}, {\"name\": \"Monthly Total Snow on Ground\", \"yaxis\": \"y2\", \"mode\": \"lines\", \"xaxis\": \"x2\", \"y\": [742.0, 964.0, 485.0, 6.0, 0.0, 0.0, 0.0, 0.0, 0.0, 0.0, 26.0, 311.0], \"x\": [1.0, 2.0, 3.0, 4.0, 5.0, 6.0, 7.0, 8.0, 9.0, 10.0, 11.0, 12.0], \"type\": \"scatter\", \"uid\": \"2927b6aa-a1a4-11e8-9409-0800275aa47c\"}], {\"yaxis2\": {\"domain\": [0.55, 1.0], \"title\": \"Snow on Grnd (cm)\"}, \"title\": \"Snow on Ground Analysis (2017)\", \"xaxis2\": {\"anchor\": \"y2\", \"dtick\": 1}, \"xaxis\": {\"dtick\": 1, \"title\": \"Month\"}, \"yaxis\": {\"domain\": [0, 0.5], \"dtick\": 500, \"title\": \"# of Collisions\"}}, {\"linkText\": \"Export to plot.ly\", \"showLink\": true})});</script>"
      ],
      "text/vnd.plotly.v1+html": [
       "<div id=\"311ce9e4-faf6-45cd-8d29-5b3b01fdefaf\" style=\"height: 525px; width: 100%;\" class=\"plotly-graph-div\"></div><script type=\"text/javascript\">require([\"plotly\"], function(Plotly) { window.PLOTLYENV=window.PLOTLYENV || {};window.PLOTLYENV.BASE_URL=\"https://plot.ly\";Plotly.newPlot(\"311ce9e4-faf6-45cd-8d29-5b3b01fdefaf\", [{\"opacity\": 0.6, \"textposition\": \"auto\", \"name\": \"Number of Collisions\", \"text\": [\"1275\", \"1279\", \"1224\", \"913\", \"1084\", \"1095\", \"971\", \"990\", \"1176\", \"1139\", \"1493\", \"1755\"], \"y\": [1275.0, 1279.0, 1224.0, 913.0, 1084.0, 1095.0, 971.0, 990.0, 1176.0, 1139.0, 1493.0, 1755.0], \"x\": [1.0, 2.0, 3.0, 4.0, 5.0, 6.0, 7.0, 8.0, 9.0, 10.0, 11.0, 12.0], \"type\": \"bar\", \"uid\": \"2927b402-a1a4-11e8-9409-0800275aa47c\"}, {\"name\": \"Monthly Total Snow on Ground\", \"yaxis\": \"y2\", \"mode\": \"lines\", \"xaxis\": \"x2\", \"y\": [742.0, 964.0, 485.0, 6.0, 0.0, 0.0, 0.0, 0.0, 0.0, 0.0, 26.0, 311.0], \"x\": [1.0, 2.0, 3.0, 4.0, 5.0, 6.0, 7.0, 8.0, 9.0, 10.0, 11.0, 12.0], \"type\": \"scatter\", \"uid\": \"2927b6aa-a1a4-11e8-9409-0800275aa47c\"}], {\"yaxis2\": {\"domain\": [0.55, 1.0], \"title\": \"Snow on Grnd (cm)\"}, \"title\": \"Snow on Ground Analysis (2017)\", \"xaxis2\": {\"anchor\": \"y2\", \"dtick\": 1}, \"xaxis\": {\"dtick\": 1, \"title\": \"Month\"}, \"yaxis\": {\"domain\": [0, 0.5], \"dtick\": 500, \"title\": \"# of Collisions\"}}, {\"linkText\": \"Export to plot.ly\", \"showLink\": true})});</script>"
      ]
     },
     "metadata": {},
     "output_type": "display_data"
    }
   ],
   "source": [
    "df_avg = wt1417.groupby([\"Year\",\"Month\"]).mean()\n",
    "df_avg[\"Year\"] = [x[0] for x in df_avg.index]\n",
    "df_avg[\"Month\"] = [x[1] for x in df_avg.index]\n",
    "\n",
    "df_sum = wt1417.groupby([\"Year\",\"Month\"]).sum()\n",
    "df_sum[\"Year\"] = [x[0] for x in df_sum.index]\n",
    "df_sum[\"Month\"] = [x[1] for x in df_sum.index]\n",
    "\n",
    "def printSnowOnGrndInYear(n):\n",
    "    monthCase = go.Bar(x = df_sum[df_sum[\"Year\"]==n][\"Month\"],\n",
    "                       y = df_sum[df_sum[\"Year\"]==n][\"Number of Collisions\"],\n",
    "                       text = df_sum[df_sum[\"Year\"]==n][\"Number of Collisions\"],\n",
    "                       textposition = 'auto',\n",
    "                       opacity = 0.6,\n",
    "                       name = 'Number of Collisions')\n",
    "    total_snowOnGrnd = go.Scatter(x = df_sum[df_sum[\"Year\"]==n][\"Month\"],\n",
    "                         y = df_sum[df_sum[\"Year\"]==n][\"Snow on Grnd (cm)\"],\n",
    "                         mode = 'lines',\n",
    "                         name = 'Monthly Total Snow on Ground',\n",
    "                         xaxis = 'x2', \n",
    "                         yaxis = 'y2')\n",
    "    fig = dict(data = [monthCase, total_snowOnGrnd], \n",
    "               layout = go.Layout(title = \"Snow on Ground Analysis (\" + str(n) + \")\",\n",
    "                                  xaxis = dict(title='Month', dtick=1),\n",
    "                                  yaxis = dict(title='# of Collisions', dtick=500, domain = [0,0.5]),\n",
    "                                  yaxis2 = dict(title='Snow on Grnd (cm)', domain = [0.55,1.0]),\n",
    "                                  xaxis2 = dict(dtick=1, anchor = 'y2')\n",
    "                                 )\n",
    "              )\n",
    "    iplot(fig)\n",
    "    \n",
    "for m in range(2014,2018):\n",
    "    printSnowOnGrndInYear(m)"
   ]
  },
  {
   "cell_type": "markdown",
   "metadata": {},
   "source": [
    "**Brief Conclusion:**\n",
    "* The curve of monthly snowfall and snow on ground is similar to the trend of monthly collisions. \n",
    "**Hypothesis:**\n",
    "* Snowy weather causes collisions from the perspective of reducing visibility and grip. "
   ]
  },
  {
   "cell_type": "code",
   "execution_count": 15,
   "metadata": {},
   "outputs": [
    {
     "data": {
      "application/vnd.plotly.v1+json": {
       "data": [
        {
         "name": "Number of Collisions",
         "opacity": 0.6,
         "text": [
          "1790",
          "1349",
          "1190",
          "936",
          "1093",
          "1166",
          "1115",
          "1094",
          "1126",
          "1260",
          "1340",
          "1384"
         ],
         "textposition": "auto",
         "type": "bar",
         "uid": "7f8784a4-a1a3-11e8-9409-0800275aa47c",
         "x": [
          1,
          2,
          3,
          4,
          5,
          6,
          7,
          8,
          9,
          10,
          11,
          12
         ],
         "y": [
          1790,
          1349,
          1190,
          936,
          1093,
          1166,
          1115,
          1094,
          1126,
          1260,
          1340,
          1384
         ]
        },
        {
         "mode": "lines",
         "name": "Monthly Total Precip",
         "type": "scatter",
         "uid": "7f878ad0-a1a3-11e8-9409-0800275aa47c",
         "x": [
          1,
          2,
          3,
          4,
          5,
          6,
          7,
          8,
          9,
          10,
          11,
          12
         ],
         "xaxis": "x2",
         "y": [
          34.2,
          53.300000000000004,
          54.900000000000006,
          98.3,
          75.10000000000001,
          156.2,
          85.60000000000001,
          104.3,
          97.10000000000002,
          64.8,
          37.2,
          42.1
         ],
         "yaxis": "y2"
        }
       ],
       "layout": {
        "title": "Precip Analysis (2014)",
        "xaxis": {
         "dtick": 1,
         "title": "Month"
        },
        "xaxis2": {
         "anchor": "y2",
         "dtick": 1
        },
        "yaxis": {
         "domain": [
          0,
          0.5
         ],
         "dtick": 500,
         "title": "# of Collisions"
        },
        "yaxis2": {
         "domain": [
          0.55,
          1
         ],
         "title": "Total Precip (mm)"
        }
       }
      },
      "text/html": [
       "<div id=\"8420e451-bad1-486a-b41f-66c63c72baac\" style=\"height: 525px; width: 100%;\" class=\"plotly-graph-div\"></div><script type=\"text/javascript\">require([\"plotly\"], function(Plotly) { window.PLOTLYENV=window.PLOTLYENV || {};window.PLOTLYENV.BASE_URL=\"https://plot.ly\";Plotly.newPlot(\"8420e451-bad1-486a-b41f-66c63c72baac\", [{\"opacity\": 0.6, \"textposition\": \"auto\", \"name\": \"Number of Collisions\", \"text\": [\"1790\", \"1349\", \"1190\", \"936\", \"1093\", \"1166\", \"1115\", \"1094\", \"1126\", \"1260\", \"1340\", \"1384\"], \"y\": [1790.0, 1349.0, 1190.0, 936.0, 1093.0, 1166.0, 1115.0, 1094.0, 1126.0, 1260.0, 1340.0, 1384.0], \"x\": [1.0, 2.0, 3.0, 4.0, 5.0, 6.0, 7.0, 8.0, 9.0, 10.0, 11.0, 12.0], \"type\": \"bar\", \"uid\": \"7f8cef2a-a1a3-11e8-9409-0800275aa47c\"}, {\"name\": \"Monthly Total Precip\", \"yaxis\": \"y2\", \"mode\": \"lines\", \"xaxis\": \"x2\", \"y\": [34.2, 53.300000000000004, 54.900000000000006, 98.3, 75.10000000000001, 156.2, 85.60000000000001, 104.3, 97.10000000000002, 64.8, 37.2, 42.1], \"x\": [1.0, 2.0, 3.0, 4.0, 5.0, 6.0, 7.0, 8.0, 9.0, 10.0, 11.0, 12.0], \"type\": \"scatter\", \"uid\": \"7f8cf1f0-a1a3-11e8-9409-0800275aa47c\"}], {\"yaxis2\": {\"domain\": [0.55, 1.0], \"title\": \"Total Precip (mm)\"}, \"title\": \"Precip Analysis (2014)\", \"xaxis2\": {\"anchor\": \"y2\", \"dtick\": 1}, \"xaxis\": {\"dtick\": 1, \"title\": \"Month\"}, \"yaxis\": {\"domain\": [0, 0.5], \"dtick\": 500, \"title\": \"# of Collisions\"}}, {\"linkText\": \"Export to plot.ly\", \"showLink\": true})});</script>"
      ],
      "text/vnd.plotly.v1+html": [
       "<div id=\"8420e451-bad1-486a-b41f-66c63c72baac\" style=\"height: 525px; width: 100%;\" class=\"plotly-graph-div\"></div><script type=\"text/javascript\">require([\"plotly\"], function(Plotly) { window.PLOTLYENV=window.PLOTLYENV || {};window.PLOTLYENV.BASE_URL=\"https://plot.ly\";Plotly.newPlot(\"8420e451-bad1-486a-b41f-66c63c72baac\", [{\"opacity\": 0.6, \"textposition\": \"auto\", \"name\": \"Number of Collisions\", \"text\": [\"1790\", \"1349\", \"1190\", \"936\", \"1093\", \"1166\", \"1115\", \"1094\", \"1126\", \"1260\", \"1340\", \"1384\"], \"y\": [1790.0, 1349.0, 1190.0, 936.0, 1093.0, 1166.0, 1115.0, 1094.0, 1126.0, 1260.0, 1340.0, 1384.0], \"x\": [1.0, 2.0, 3.0, 4.0, 5.0, 6.0, 7.0, 8.0, 9.0, 10.0, 11.0, 12.0], \"type\": \"bar\", \"uid\": \"7f8cef2a-a1a3-11e8-9409-0800275aa47c\"}, {\"name\": \"Monthly Total Precip\", \"yaxis\": \"y2\", \"mode\": \"lines\", \"xaxis\": \"x2\", \"y\": [34.2, 53.300000000000004, 54.900000000000006, 98.3, 75.10000000000001, 156.2, 85.60000000000001, 104.3, 97.10000000000002, 64.8, 37.2, 42.1], \"x\": [1.0, 2.0, 3.0, 4.0, 5.0, 6.0, 7.0, 8.0, 9.0, 10.0, 11.0, 12.0], \"type\": \"scatter\", \"uid\": \"7f8cf1f0-a1a3-11e8-9409-0800275aa47c\"}], {\"yaxis2\": {\"domain\": [0.55, 1.0], \"title\": \"Total Precip (mm)\"}, \"title\": \"Precip Analysis (2014)\", \"xaxis2\": {\"anchor\": \"y2\", \"dtick\": 1}, \"xaxis\": {\"dtick\": 1, \"title\": \"Month\"}, \"yaxis\": {\"domain\": [0, 0.5], \"dtick\": 500, \"title\": \"# of Collisions\"}}, {\"linkText\": \"Export to plot.ly\", \"showLink\": true})});</script>"
      ]
     },
     "metadata": {},
     "output_type": "display_data"
    },
    {
     "data": {
      "application/vnd.plotly.v1+json": {
       "data": [
        {
         "name": "Number of Collisions",
         "opacity": 0.6,
         "text": [
          "2027",
          "1900",
          "1064",
          "901",
          "1115",
          "1219",
          "1115",
          "1058",
          "1133",
          "1199",
          "1249",
          "1098"
         ],
         "textposition": "auto",
         "type": "bar",
         "uid": "7f96bfaa-a1a3-11e8-9409-0800275aa47c",
         "x": [
          1,
          2,
          3,
          4,
          5,
          6,
          7,
          8,
          9,
          10,
          11,
          12
         ],
         "y": [
          2027,
          1900,
          1064,
          901,
          1115,
          1219,
          1115,
          1058,
          1133,
          1199,
          1249,
          1098
         ]
        },
        {
         "mode": "lines",
         "name": "Monthly Total Precip",
         "type": "scatter",
         "uid": "7f96c22a-a1a3-11e8-9409-0800275aa47c",
         "x": [
          1,
          2,
          3,
          4,
          5,
          6,
          7,
          8,
          9,
          10,
          11,
          12
         ],
         "xaxis": "x2",
         "y": [
          47.6,
          33.800000000000004,
          24.499999999999996,
          61.5,
          65,
          107.99999999999999,
          63.10000000000001,
          76.49999999999999,
          96.6,
          83.99999999999999,
          33,
          92.10000000000001
         ],
         "yaxis": "y2"
        }
       ],
       "layout": {
        "title": "Precip Analysis (2015)",
        "xaxis": {
         "dtick": 1,
         "title": "Month"
        },
        "xaxis2": {
         "anchor": "y2",
         "dtick": 1
        },
        "yaxis": {
         "domain": [
          0,
          0.5
         ],
         "dtick": 500,
         "title": "# of Collisions"
        },
        "yaxis2": {
         "domain": [
          0.55,
          1
         ],
         "title": "Total Precip (mm)"
        }
       }
      },
      "text/html": [
       "<div id=\"80287f82-f889-41da-b4d5-c7f99b1ba1fd\" style=\"height: 525px; width: 100%;\" class=\"plotly-graph-div\"></div><script type=\"text/javascript\">require([\"plotly\"], function(Plotly) { window.PLOTLYENV=window.PLOTLYENV || {};window.PLOTLYENV.BASE_URL=\"https://plot.ly\";Plotly.newPlot(\"80287f82-f889-41da-b4d5-c7f99b1ba1fd\", [{\"opacity\": 0.6, \"textposition\": \"auto\", \"name\": \"Number of Collisions\", \"text\": [\"2027\", \"1900\", \"1064\", \"901\", \"1115\", \"1219\", \"1115\", \"1058\", \"1133\", \"1199\", \"1249\", \"1098\"], \"y\": [2027.0, 1900.0, 1064.0, 901.0, 1115.0, 1219.0, 1115.0, 1058.0, 1133.0, 1199.0, 1249.0, 1098.0], \"x\": [1.0, 2.0, 3.0, 4.0, 5.0, 6.0, 7.0, 8.0, 9.0, 10.0, 11.0, 12.0], \"type\": \"bar\", \"uid\": \"7f9b7752-a1a3-11e8-9409-0800275aa47c\"}, {\"name\": \"Monthly Total Precip\", \"yaxis\": \"y2\", \"mode\": \"lines\", \"xaxis\": \"x2\", \"y\": [47.6, 33.800000000000004, 24.499999999999996, 61.5, 65.0, 107.99999999999999, 63.10000000000001, 76.49999999999999, 96.6, 83.99999999999999, 33.0, 92.10000000000001], \"x\": [1.0, 2.0, 3.0, 4.0, 5.0, 6.0, 7.0, 8.0, 9.0, 10.0, 11.0, 12.0], \"type\": \"scatter\", \"uid\": \"7f9b79c8-a1a3-11e8-9409-0800275aa47c\"}], {\"yaxis2\": {\"domain\": [0.55, 1.0], \"title\": \"Total Precip (mm)\"}, \"title\": \"Precip Analysis (2015)\", \"xaxis2\": {\"anchor\": \"y2\", \"dtick\": 1}, \"xaxis\": {\"dtick\": 1, \"title\": \"Month\"}, \"yaxis\": {\"domain\": [0, 0.5], \"dtick\": 500, \"title\": \"# of Collisions\"}}, {\"linkText\": \"Export to plot.ly\", \"showLink\": true})});</script>"
      ],
      "text/vnd.plotly.v1+html": [
       "<div id=\"80287f82-f889-41da-b4d5-c7f99b1ba1fd\" style=\"height: 525px; width: 100%;\" class=\"plotly-graph-div\"></div><script type=\"text/javascript\">require([\"plotly\"], function(Plotly) { window.PLOTLYENV=window.PLOTLYENV || {};window.PLOTLYENV.BASE_URL=\"https://plot.ly\";Plotly.newPlot(\"80287f82-f889-41da-b4d5-c7f99b1ba1fd\", [{\"opacity\": 0.6, \"textposition\": \"auto\", \"name\": \"Number of Collisions\", \"text\": [\"2027\", \"1900\", \"1064\", \"901\", \"1115\", \"1219\", \"1115\", \"1058\", \"1133\", \"1199\", \"1249\", \"1098\"], \"y\": [2027.0, 1900.0, 1064.0, 901.0, 1115.0, 1219.0, 1115.0, 1058.0, 1133.0, 1199.0, 1249.0, 1098.0], \"x\": [1.0, 2.0, 3.0, 4.0, 5.0, 6.0, 7.0, 8.0, 9.0, 10.0, 11.0, 12.0], \"type\": \"bar\", \"uid\": \"7f9b7752-a1a3-11e8-9409-0800275aa47c\"}, {\"name\": \"Monthly Total Precip\", \"yaxis\": \"y2\", \"mode\": \"lines\", \"xaxis\": \"x2\", \"y\": [47.6, 33.800000000000004, 24.499999999999996, 61.5, 65.0, 107.99999999999999, 63.10000000000001, 76.49999999999999, 96.6, 83.99999999999999, 33.0, 92.10000000000001], \"x\": [1.0, 2.0, 3.0, 4.0, 5.0, 6.0, 7.0, 8.0, 9.0, 10.0, 11.0, 12.0], \"type\": \"scatter\", \"uid\": \"7f9b79c8-a1a3-11e8-9409-0800275aa47c\"}], {\"yaxis2\": {\"domain\": [0.55, 1.0], \"title\": \"Total Precip (mm)\"}, \"title\": \"Precip Analysis (2015)\", \"xaxis2\": {\"anchor\": \"y2\", \"dtick\": 1}, \"xaxis\": {\"dtick\": 1, \"title\": \"Month\"}, \"yaxis\": {\"domain\": [0, 0.5], \"dtick\": 500, \"title\": \"# of Collisions\"}}, {\"linkText\": \"Export to plot.ly\", \"showLink\": true})});</script>"
      ]
     },
     "metadata": {},
     "output_type": "display_data"
    },
    {
     "data": {
      "application/vnd.plotly.v1+json": {
       "data": [
        {
         "name": "Number of Collisions",
         "opacity": 0.6,
         "text": [
          "1407",
          "1523",
          "1018",
          "944",
          "1109",
          "1135",
          "1035",
          "976",
          "1073",
          "1111",
          "1155",
          "1537"
         ],
         "textposition": "auto",
         "type": "bar",
         "uid": "7fa55b5a-a1a3-11e8-9409-0800275aa47c",
         "x": [
          1,
          2,
          3,
          4,
          5,
          6,
          7,
          8,
          9,
          10,
          11,
          12
         ],
         "y": [
          1407,
          1523,
          1018,
          944,
          1109,
          1135,
          1035,
          976,
          1073,
          1111,
          1155,
          1537
         ]
        },
        {
         "mode": "lines",
         "name": "Monthly Total Precip",
         "type": "scatter",
         "uid": "7fa55e66-a1a3-11e8-9409-0800275aa47c",
         "x": [
          1,
          2,
          3,
          4,
          5,
          6,
          7,
          8,
          9,
          10,
          11,
          12
         ],
         "xaxis": "x2",
         "y": [
          52.199999999999996,
          98.39999999999999,
          98,
          42.4,
          26.4,
          56.60000000000001,
          100.8,
          122.4,
          76.60000000000001,
          99.19999999999999,
          60.9,
          84
         ],
         "yaxis": "y2"
        }
       ],
       "layout": {
        "title": "Precip Analysis (2016)",
        "xaxis": {
         "dtick": 1,
         "title": "Month"
        },
        "xaxis2": {
         "anchor": "y2",
         "dtick": 1
        },
        "yaxis": {
         "domain": [
          0,
          0.5
         ],
         "dtick": 500,
         "title": "# of Collisions"
        },
        "yaxis2": {
         "domain": [
          0.55,
          1
         ],
         "title": "Total Precip (mm)"
        }
       }
      },
      "text/html": [
       "<div id=\"383e4a1c-b20d-49e8-ac90-cff4855007f4\" style=\"height: 525px; width: 100%;\" class=\"plotly-graph-div\"></div><script type=\"text/javascript\">require([\"plotly\"], function(Plotly) { window.PLOTLYENV=window.PLOTLYENV || {};window.PLOTLYENV.BASE_URL=\"https://plot.ly\";Plotly.newPlot(\"383e4a1c-b20d-49e8-ac90-cff4855007f4\", [{\"opacity\": 0.6, \"textposition\": \"auto\", \"name\": \"Number of Collisions\", \"text\": [\"1407\", \"1523\", \"1018\", \"944\", \"1109\", \"1135\", \"1035\", \"976\", \"1073\", \"1111\", \"1155\", \"1537\"], \"y\": [1407.0, 1523.0, 1018.0, 944.0, 1109.0, 1135.0, 1035.0, 976.0, 1073.0, 1111.0, 1155.0, 1537.0], \"x\": [1.0, 2.0, 3.0, 4.0, 5.0, 6.0, 7.0, 8.0, 9.0, 10.0, 11.0, 12.0], \"type\": \"bar\", \"uid\": \"7fa99814-a1a3-11e8-9409-0800275aa47c\"}, {\"name\": \"Monthly Total Precip\", \"yaxis\": \"y2\", \"mode\": \"lines\", \"xaxis\": \"x2\", \"y\": [52.199999999999996, 98.39999999999999, 98.0, 42.4, 26.4, 56.60000000000001, 100.8, 122.4, 76.60000000000001, 99.19999999999999, 60.9, 84.0], \"x\": [1.0, 2.0, 3.0, 4.0, 5.0, 6.0, 7.0, 8.0, 9.0, 10.0, 11.0, 12.0], \"type\": \"scatter\", \"uid\": \"7fa99aee-a1a3-11e8-9409-0800275aa47c\"}], {\"yaxis2\": {\"domain\": [0.55, 1.0], \"title\": \"Total Precip (mm)\"}, \"title\": \"Precip Analysis (2016)\", \"xaxis2\": {\"anchor\": \"y2\", \"dtick\": 1}, \"xaxis\": {\"dtick\": 1, \"title\": \"Month\"}, \"yaxis\": {\"domain\": [0, 0.5], \"dtick\": 500, \"title\": \"# of Collisions\"}}, {\"linkText\": \"Export to plot.ly\", \"showLink\": true})});</script>"
      ],
      "text/vnd.plotly.v1+html": [
       "<div id=\"383e4a1c-b20d-49e8-ac90-cff4855007f4\" style=\"height: 525px; width: 100%;\" class=\"plotly-graph-div\"></div><script type=\"text/javascript\">require([\"plotly\"], function(Plotly) { window.PLOTLYENV=window.PLOTLYENV || {};window.PLOTLYENV.BASE_URL=\"https://plot.ly\";Plotly.newPlot(\"383e4a1c-b20d-49e8-ac90-cff4855007f4\", [{\"opacity\": 0.6, \"textposition\": \"auto\", \"name\": \"Number of Collisions\", \"text\": [\"1407\", \"1523\", \"1018\", \"944\", \"1109\", \"1135\", \"1035\", \"976\", \"1073\", \"1111\", \"1155\", \"1537\"], \"y\": [1407.0, 1523.0, 1018.0, 944.0, 1109.0, 1135.0, 1035.0, 976.0, 1073.0, 1111.0, 1155.0, 1537.0], \"x\": [1.0, 2.0, 3.0, 4.0, 5.0, 6.0, 7.0, 8.0, 9.0, 10.0, 11.0, 12.0], \"type\": \"bar\", \"uid\": \"7fa99814-a1a3-11e8-9409-0800275aa47c\"}, {\"name\": \"Monthly Total Precip\", \"yaxis\": \"y2\", \"mode\": \"lines\", \"xaxis\": \"x2\", \"y\": [52.199999999999996, 98.39999999999999, 98.0, 42.4, 26.4, 56.60000000000001, 100.8, 122.4, 76.60000000000001, 99.19999999999999, 60.9, 84.0], \"x\": [1.0, 2.0, 3.0, 4.0, 5.0, 6.0, 7.0, 8.0, 9.0, 10.0, 11.0, 12.0], \"type\": \"scatter\", \"uid\": \"7fa99aee-a1a3-11e8-9409-0800275aa47c\"}], {\"yaxis2\": {\"domain\": [0.55, 1.0], \"title\": \"Total Precip (mm)\"}, \"title\": \"Precip Analysis (2016)\", \"xaxis2\": {\"anchor\": \"y2\", \"dtick\": 1}, \"xaxis\": {\"dtick\": 1, \"title\": \"Month\"}, \"yaxis\": {\"domain\": [0, 0.5], \"dtick\": 500, \"title\": \"# of Collisions\"}}, {\"linkText\": \"Export to plot.ly\", \"showLink\": true})});</script>"
      ]
     },
     "metadata": {},
     "output_type": "display_data"
    },
    {
     "data": {
      "application/vnd.plotly.v1+json": {
       "data": [
        {
         "name": "Number of Collisions",
         "opacity": 0.6,
         "text": [
          "1275",
          "1279",
          "1224",
          "913",
          "1084",
          "1095",
          "971",
          "990",
          "1176",
          "1139",
          "1493",
          "1755"
         ],
         "textposition": "auto",
         "type": "bar",
         "uid": "7fb44016-a1a3-11e8-9409-0800275aa47c",
         "x": [
          1,
          2,
          3,
          4,
          5,
          6,
          7,
          8,
          9,
          10,
          11,
          12
         ],
         "y": [
          1275,
          1279,
          1224,
          913,
          1084,
          1095,
          971,
          990,
          1176,
          1139,
          1493,
          1755
         ]
        },
        {
         "mode": "lines",
         "name": "Monthly Total Precip",
         "type": "scatter",
         "uid": "7fb4443a-a1a3-11e8-9409-0800275aa47c",
         "x": [
          1,
          2,
          3,
          4,
          5,
          6,
          7,
          8,
          9,
          10,
          11,
          12
         ],
         "xaxis": "x2",
         "y": [
          64.89999999999999,
          88.8,
          61.800000000000004,
          159,
          172.4,
          156.8,
          169.6,
          82.39999999999999,
          51.6,
          142.40000000000003,
          86.4,
          32.400000000000006
         ],
         "yaxis": "y2"
        }
       ],
       "layout": {
        "title": "Precip Analysis (2017)",
        "xaxis": {
         "dtick": 1,
         "title": "Month"
        },
        "xaxis2": {
         "anchor": "y2",
         "dtick": 1
        },
        "yaxis": {
         "domain": [
          0,
          0.5
         ],
         "dtick": 500,
         "title": "# of Collisions"
        },
        "yaxis2": {
         "domain": [
          0.55,
          1
         ],
         "title": "Total Precip (mm)"
        }
       }
      },
      "text/html": [
       "<div id=\"ffac274a-29ca-4378-839c-c315e3a034be\" style=\"height: 525px; width: 100%;\" class=\"plotly-graph-div\"></div><script type=\"text/javascript\">require([\"plotly\"], function(Plotly) { window.PLOTLYENV=window.PLOTLYENV || {};window.PLOTLYENV.BASE_URL=\"https://plot.ly\";Plotly.newPlot(\"ffac274a-29ca-4378-839c-c315e3a034be\", [{\"opacity\": 0.6, \"textposition\": \"auto\", \"name\": \"Number of Collisions\", \"text\": [\"1275\", \"1279\", \"1224\", \"913\", \"1084\", \"1095\", \"971\", \"990\", \"1176\", \"1139\", \"1493\", \"1755\"], \"y\": [1275.0, 1279.0, 1224.0, 913.0, 1084.0, 1095.0, 971.0, 990.0, 1176.0, 1139.0, 1493.0, 1755.0], \"x\": [1.0, 2.0, 3.0, 4.0, 5.0, 6.0, 7.0, 8.0, 9.0, 10.0, 11.0, 12.0], \"type\": \"bar\", \"uid\": \"7fb8ab4c-a1a3-11e8-9409-0800275aa47c\"}, {\"name\": \"Monthly Total Precip\", \"yaxis\": \"y2\", \"mode\": \"lines\", \"xaxis\": \"x2\", \"y\": [64.89999999999999, 88.8, 61.800000000000004, 159.0, 172.4, 156.8, 169.6, 82.39999999999999, 51.6, 142.40000000000003, 86.4, 32.400000000000006], \"x\": [1.0, 2.0, 3.0, 4.0, 5.0, 6.0, 7.0, 8.0, 9.0, 10.0, 11.0, 12.0], \"type\": \"scatter\", \"uid\": \"7fb8af70-a1a3-11e8-9409-0800275aa47c\"}], {\"yaxis2\": {\"domain\": [0.55, 1.0], \"title\": \"Total Precip (mm)\"}, \"title\": \"Precip Analysis (2017)\", \"xaxis2\": {\"anchor\": \"y2\", \"dtick\": 1}, \"xaxis\": {\"dtick\": 1, \"title\": \"Month\"}, \"yaxis\": {\"domain\": [0, 0.5], \"dtick\": 500, \"title\": \"# of Collisions\"}}, {\"linkText\": \"Export to plot.ly\", \"showLink\": true})});</script>"
      ],
      "text/vnd.plotly.v1+html": [
       "<div id=\"ffac274a-29ca-4378-839c-c315e3a034be\" style=\"height: 525px; width: 100%;\" class=\"plotly-graph-div\"></div><script type=\"text/javascript\">require([\"plotly\"], function(Plotly) { window.PLOTLYENV=window.PLOTLYENV || {};window.PLOTLYENV.BASE_URL=\"https://plot.ly\";Plotly.newPlot(\"ffac274a-29ca-4378-839c-c315e3a034be\", [{\"opacity\": 0.6, \"textposition\": \"auto\", \"name\": \"Number of Collisions\", \"text\": [\"1275\", \"1279\", \"1224\", \"913\", \"1084\", \"1095\", \"971\", \"990\", \"1176\", \"1139\", \"1493\", \"1755\"], \"y\": [1275.0, 1279.0, 1224.0, 913.0, 1084.0, 1095.0, 971.0, 990.0, 1176.0, 1139.0, 1493.0, 1755.0], \"x\": [1.0, 2.0, 3.0, 4.0, 5.0, 6.0, 7.0, 8.0, 9.0, 10.0, 11.0, 12.0], \"type\": \"bar\", \"uid\": \"7fb8ab4c-a1a3-11e8-9409-0800275aa47c\"}, {\"name\": \"Monthly Total Precip\", \"yaxis\": \"y2\", \"mode\": \"lines\", \"xaxis\": \"x2\", \"y\": [64.89999999999999, 88.8, 61.800000000000004, 159.0, 172.4, 156.8, 169.6, 82.39999999999999, 51.6, 142.40000000000003, 86.4, 32.400000000000006], \"x\": [1.0, 2.0, 3.0, 4.0, 5.0, 6.0, 7.0, 8.0, 9.0, 10.0, 11.0, 12.0], \"type\": \"scatter\", \"uid\": \"7fb8af70-a1a3-11e8-9409-0800275aa47c\"}], {\"yaxis2\": {\"domain\": [0.55, 1.0], \"title\": \"Total Precip (mm)\"}, \"title\": \"Precip Analysis (2017)\", \"xaxis2\": {\"anchor\": \"y2\", \"dtick\": 1}, \"xaxis\": {\"dtick\": 1, \"title\": \"Month\"}, \"yaxis\": {\"domain\": [0, 0.5], \"dtick\": 500, \"title\": \"# of Collisions\"}}, {\"linkText\": \"Export to plot.ly\", \"showLink\": true})});</script>"
      ]
     },
     "metadata": {},
     "output_type": "display_data"
    }
   ],
   "source": [
    "df_avg = wt1417.groupby([\"Year\",\"Month\"]).mean()\n",
    "df_avg[\"Year\"] = [x[0] for x in df_avg.index]\n",
    "df_avg[\"Month\"] = [x[1] for x in df_avg.index]\n",
    "\n",
    "df_sum = wt1417.groupby([\"Year\",\"Month\"]).sum()\n",
    "df_sum[\"Year\"] = [x[0] for x in df_sum.index]\n",
    "df_sum[\"Month\"] = [x[1] for x in df_sum.index]\n",
    "\n",
    "def printPrecipInYear(n):\n",
    "    monthCase = go.Bar(x = df_sum[df_sum[\"Year\"]==n][\"Month\"],\n",
    "                       y = df_sum[df_sum[\"Year\"]==n][\"Number of Collisions\"],\n",
    "                       text = df_sum[df_sum[\"Year\"]==n][\"Number of Collisions\"],\n",
    "                       textposition = 'auto',\n",
    "                       opacity = 0.6,\n",
    "                       name = 'Number of Collisions')\n",
    "    total_precip = go.Scatter(x = df_sum[df_sum[\"Year\"]==n][\"Month\"],\n",
    "                         y = df_sum[df_sum[\"Year\"]==n][\"Total Precip (mm)\"],\n",
    "                         mode = 'lines',\n",
    "                         name = 'Monthly Total Precip',\n",
    "                         xaxis = 'x2', \n",
    "                         yaxis = 'y2')\n",
    "    fig = dict(data = [monthCase, total_precip], \n",
    "               layout = go.Layout(title = \"Precip Analysis (\" + str(n) + \")\",\n",
    "                                  xaxis = dict(title='Month', dtick=1),\n",
    "                                  yaxis = dict(title='# of Collisions', dtick=500, domain = [0,0.5]),\n",
    "                                  yaxis2 = dict(title='Total Precip (mm)', domain = [0.55,1.0]),\n",
    "                                  xaxis2 = dict(dtick=1, anchor = 'y2')\n",
    "                                 )\n",
    "              )\n",
    "    iplot(fig)\n",
    "    \n",
    "for m in range(2014,2018):\n",
    "    printPrecipInYear(m)"
   ]
  },
  {
   "cell_type": "markdown",
   "metadata": {},
   "source": [
    "**Brief Conclusion:**\n",
    "* No clear relationship between monthly precipitation and collisions"
   ]
  },
  {
   "cell_type": "code",
   "execution_count": null,
   "metadata": {},
   "outputs": [],
   "source": []
  },
  {
   "cell_type": "code",
   "execution_count": null,
   "metadata": {},
   "outputs": [],
   "source": []
  },
  {
   "cell_type": "code",
   "execution_count": 9,
   "metadata": {},
   "outputs": [
    {
     "data": {
      "text/html": [
       "<div>\n",
       "<style scoped>\n",
       "    .dataframe tbody tr th:only-of-type {\n",
       "        vertical-align: middle;\n",
       "    }\n",
       "\n",
       "    .dataframe tbody tr th {\n",
       "        vertical-align: top;\n",
       "    }\n",
       "\n",
       "    .dataframe thead th {\n",
       "        text-align: right;\n",
       "    }\n",
       "</style>\n",
       "<table border=\"1\" class=\"dataframe\">\n",
       "  <thead>\n",
       "    <tr style=\"text-align: right;\">\n",
       "      <th></th>\n",
       "      <th></th>\n",
       "      <th>Max Temp (°C)</th>\n",
       "      <th>Min Temp (°C)</th>\n",
       "      <th>Mean Temp (°C)</th>\n",
       "      <th>Total Rain (mm)</th>\n",
       "      <th>Total Snow (cm)</th>\n",
       "      <th>Total Precip (mm)</th>\n",
       "      <th>Snow on Grnd (cm)</th>\n",
       "      <th>Number of Collisions</th>\n",
       "      <th>Day in month</th>\n",
       "      <th>Year</th>\n",
       "      <th>Month</th>\n",
       "    </tr>\n",
       "    <tr>\n",
       "      <th>Year</th>\n",
       "      <th>Month</th>\n",
       "      <th></th>\n",
       "      <th></th>\n",
       "      <th></th>\n",
       "      <th></th>\n",
       "      <th></th>\n",
       "      <th></th>\n",
       "      <th></th>\n",
       "      <th></th>\n",
       "      <th></th>\n",
       "      <th></th>\n",
       "      <th></th>\n",
       "    </tr>\n",
       "  </thead>\n",
       "  <tbody>\n",
       "    <tr>\n",
       "      <th rowspan=\"10\" valign=\"top\">2014</th>\n",
       "      <th>1</th>\n",
       "      <td>-6.409677</td>\n",
       "      <td>-15.283871</td>\n",
       "      <td>-10.870968</td>\n",
       "      <td>0.564516</td>\n",
       "      <td>0.961290</td>\n",
       "      <td>1.103226</td>\n",
       "      <td>24.870968</td>\n",
       "      <td>57.741935</td>\n",
       "      <td>16.0</td>\n",
       "      <td>2014</td>\n",
       "      <td>1</td>\n",
       "    </tr>\n",
       "    <tr>\n",
       "      <th>2</th>\n",
       "      <td>-5.192857</td>\n",
       "      <td>-14.192857</td>\n",
       "      <td>-9.721429</td>\n",
       "      <td>0.946429</td>\n",
       "      <td>1.400000</td>\n",
       "      <td>1.903571</td>\n",
       "      <td>38.107143</td>\n",
       "      <td>48.178571</td>\n",
       "      <td>14.5</td>\n",
       "      <td>2014</td>\n",
       "      <td>2</td>\n",
       "    </tr>\n",
       "    <tr>\n",
       "      <th>3</th>\n",
       "      <td>-1.461290</td>\n",
       "      <td>-11.703226</td>\n",
       "      <td>-6.590323</td>\n",
       "      <td>0.522581</td>\n",
       "      <td>1.432258</td>\n",
       "      <td>1.770968</td>\n",
       "      <td>39.161290</td>\n",
       "      <td>38.387097</td>\n",
       "      <td>16.0</td>\n",
       "      <td>2014</td>\n",
       "      <td>3</td>\n",
       "    </tr>\n",
       "    <tr>\n",
       "      <th>4</th>\n",
       "      <td>10.040000</td>\n",
       "      <td>0.670000</td>\n",
       "      <td>5.380000</td>\n",
       "      <td>3.276667</td>\n",
       "      <td>0.000000</td>\n",
       "      <td>3.276667</td>\n",
       "      <td>7.300000</td>\n",
       "      <td>31.200000</td>\n",
       "      <td>15.5</td>\n",
       "      <td>2014</td>\n",
       "      <td>4</td>\n",
       "    </tr>\n",
       "    <tr>\n",
       "      <th>5</th>\n",
       "      <td>19.967742</td>\n",
       "      <td>9.174194</td>\n",
       "      <td>14.596774</td>\n",
       "      <td>2.422581</td>\n",
       "      <td>0.000000</td>\n",
       "      <td>2.422581</td>\n",
       "      <td>0.000000</td>\n",
       "      <td>35.258065</td>\n",
       "      <td>16.0</td>\n",
       "      <td>2014</td>\n",
       "      <td>5</td>\n",
       "    </tr>\n",
       "    <tr>\n",
       "      <th>6</th>\n",
       "      <td>24.766667</td>\n",
       "      <td>14.280000</td>\n",
       "      <td>19.550000</td>\n",
       "      <td>5.206667</td>\n",
       "      <td>0.000000</td>\n",
       "      <td>5.206667</td>\n",
       "      <td>0.000000</td>\n",
       "      <td>38.866667</td>\n",
       "      <td>15.5</td>\n",
       "      <td>2014</td>\n",
       "      <td>6</td>\n",
       "    </tr>\n",
       "    <tr>\n",
       "      <th>7</th>\n",
       "      <td>24.909677</td>\n",
       "      <td>14.948387</td>\n",
       "      <td>19.948387</td>\n",
       "      <td>2.761290</td>\n",
       "      <td>0.000000</td>\n",
       "      <td>2.761290</td>\n",
       "      <td>0.000000</td>\n",
       "      <td>35.967742</td>\n",
       "      <td>16.0</td>\n",
       "      <td>2014</td>\n",
       "      <td>7</td>\n",
       "    </tr>\n",
       "    <tr>\n",
       "      <th>8</th>\n",
       "      <td>24.370968</td>\n",
       "      <td>13.935484</td>\n",
       "      <td>19.167742</td>\n",
       "      <td>3.364516</td>\n",
       "      <td>0.000000</td>\n",
       "      <td>3.364516</td>\n",
       "      <td>0.000000</td>\n",
       "      <td>35.290323</td>\n",
       "      <td>16.0</td>\n",
       "      <td>2014</td>\n",
       "      <td>8</td>\n",
       "    </tr>\n",
       "    <tr>\n",
       "      <th>9</th>\n",
       "      <td>20.996667</td>\n",
       "      <td>10.610000</td>\n",
       "      <td>15.823333</td>\n",
       "      <td>3.236667</td>\n",
       "      <td>0.000000</td>\n",
       "      <td>3.236667</td>\n",
       "      <td>0.000000</td>\n",
       "      <td>37.533333</td>\n",
       "      <td>15.5</td>\n",
       "      <td>2014</td>\n",
       "      <td>9</td>\n",
       "    </tr>\n",
       "    <tr>\n",
       "      <th>10</th>\n",
       "      <td>14.367742</td>\n",
       "      <td>6.267742</td>\n",
       "      <td>10.341935</td>\n",
       "      <td>2.090323</td>\n",
       "      <td>0.000000</td>\n",
       "      <td>2.090323</td>\n",
       "      <td>0.000000</td>\n",
       "      <td>40.645161</td>\n",
       "      <td>16.0</td>\n",
       "      <td>2014</td>\n",
       "      <td>10</td>\n",
       "    </tr>\n",
       "    <tr>\n",
       "      <th>...</th>\n",
       "      <th>...</th>\n",
       "      <td>...</td>\n",
       "      <td>...</td>\n",
       "      <td>...</td>\n",
       "      <td>...</td>\n",
       "      <td>...</td>\n",
       "      <td>...</td>\n",
       "      <td>...</td>\n",
       "      <td>...</td>\n",
       "      <td>...</td>\n",
       "      <td>...</td>\n",
       "      <td>...</td>\n",
       "    </tr>\n",
       "    <tr>\n",
       "      <th rowspan=\"10\" valign=\"top\">2017</th>\n",
       "      <th>3</th>\n",
       "      <td>-0.951613</td>\n",
       "      <td>-9.048387</td>\n",
       "      <td>-5.009677</td>\n",
       "      <td>1.193548</td>\n",
       "      <td>1.141935</td>\n",
       "      <td>1.993548</td>\n",
       "      <td>15.645161</td>\n",
       "      <td>39.483871</td>\n",
       "      <td>16.0</td>\n",
       "      <td>2017</td>\n",
       "      <td>3</td>\n",
       "    </tr>\n",
       "    <tr>\n",
       "      <th>4</th>\n",
       "      <td>12.083333</td>\n",
       "      <td>3.300000</td>\n",
       "      <td>7.716667</td>\n",
       "      <td>5.300000</td>\n",
       "      <td>0.000000</td>\n",
       "      <td>5.300000</td>\n",
       "      <td>0.200000</td>\n",
       "      <td>30.433333</td>\n",
       "      <td>15.5</td>\n",
       "      <td>2017</td>\n",
       "      <td>4</td>\n",
       "    </tr>\n",
       "    <tr>\n",
       "      <th>5</th>\n",
       "      <td>17.419355</td>\n",
       "      <td>8.258065</td>\n",
       "      <td>12.858065</td>\n",
       "      <td>5.561290</td>\n",
       "      <td>0.000000</td>\n",
       "      <td>5.561290</td>\n",
       "      <td>0.000000</td>\n",
       "      <td>34.967742</td>\n",
       "      <td>16.0</td>\n",
       "      <td>2017</td>\n",
       "      <td>5</td>\n",
       "    </tr>\n",
       "    <tr>\n",
       "      <th>6</th>\n",
       "      <td>23.166667</td>\n",
       "      <td>13.966667</td>\n",
       "      <td>18.593333</td>\n",
       "      <td>5.226667</td>\n",
       "      <td>0.000000</td>\n",
       "      <td>5.226667</td>\n",
       "      <td>0.000000</td>\n",
       "      <td>36.500000</td>\n",
       "      <td>15.5</td>\n",
       "      <td>2017</td>\n",
       "      <td>6</td>\n",
       "    </tr>\n",
       "    <tr>\n",
       "      <th>7</th>\n",
       "      <td>25.306452</td>\n",
       "      <td>15.725806</td>\n",
       "      <td>20.545161</td>\n",
       "      <td>5.470968</td>\n",
       "      <td>0.000000</td>\n",
       "      <td>5.470968</td>\n",
       "      <td>0.000000</td>\n",
       "      <td>31.322581</td>\n",
       "      <td>16.0</td>\n",
       "      <td>2017</td>\n",
       "      <td>7</td>\n",
       "    </tr>\n",
       "    <tr>\n",
       "      <th>8</th>\n",
       "      <td>24.306452</td>\n",
       "      <td>14.387097</td>\n",
       "      <td>19.364516</td>\n",
       "      <td>2.658065</td>\n",
       "      <td>0.000000</td>\n",
       "      <td>2.658065</td>\n",
       "      <td>0.000000</td>\n",
       "      <td>31.935484</td>\n",
       "      <td>16.0</td>\n",
       "      <td>2017</td>\n",
       "      <td>8</td>\n",
       "    </tr>\n",
       "    <tr>\n",
       "      <th>9</th>\n",
       "      <td>23.600000</td>\n",
       "      <td>12.133333</td>\n",
       "      <td>17.880000</td>\n",
       "      <td>1.720000</td>\n",
       "      <td>0.000000</td>\n",
       "      <td>1.720000</td>\n",
       "      <td>0.000000</td>\n",
       "      <td>39.200000</td>\n",
       "      <td>15.5</td>\n",
       "      <td>2017</td>\n",
       "      <td>9</td>\n",
       "    </tr>\n",
       "    <tr>\n",
       "      <th>10</th>\n",
       "      <td>17.532258</td>\n",
       "      <td>7.516129</td>\n",
       "      <td>12.541935</td>\n",
       "      <td>4.593548</td>\n",
       "      <td>0.000000</td>\n",
       "      <td>4.593548</td>\n",
       "      <td>0.000000</td>\n",
       "      <td>36.741935</td>\n",
       "      <td>16.0</td>\n",
       "      <td>2017</td>\n",
       "      <td>10</td>\n",
       "    </tr>\n",
       "    <tr>\n",
       "      <th>11</th>\n",
       "      <td>4.716667</td>\n",
       "      <td>-2.550000</td>\n",
       "      <td>1.096667</td>\n",
       "      <td>2.526667</td>\n",
       "      <td>0.480000</td>\n",
       "      <td>2.880000</td>\n",
       "      <td>0.866667</td>\n",
       "      <td>49.766667</td>\n",
       "      <td>15.5</td>\n",
       "      <td>2017</td>\n",
       "      <td>11</td>\n",
       "    </tr>\n",
       "    <tr>\n",
       "      <th>12</th>\n",
       "      <td>-6.041935</td>\n",
       "      <td>-12.367742</td>\n",
       "      <td>-9.216129</td>\n",
       "      <td>0.148387</td>\n",
       "      <td>1.251613</td>\n",
       "      <td>1.045161</td>\n",
       "      <td>10.032258</td>\n",
       "      <td>56.612903</td>\n",
       "      <td>16.0</td>\n",
       "      <td>2017</td>\n",
       "      <td>12</td>\n",
       "    </tr>\n",
       "  </tbody>\n",
       "</table>\n",
       "<p>48 rows × 11 columns</p>\n",
       "</div>"
      ],
      "text/plain": [
       "            Max Temp (°C)  Min Temp (°C)  Mean Temp (°C)  Total Rain (mm)  \\\n",
       "Year Month                                                                  \n",
       "2014 1          -6.409677     -15.283871      -10.870968         0.564516   \n",
       "     2          -5.192857     -14.192857       -9.721429         0.946429   \n",
       "     3          -1.461290     -11.703226       -6.590323         0.522581   \n",
       "     4          10.040000       0.670000        5.380000         3.276667   \n",
       "     5          19.967742       9.174194       14.596774         2.422581   \n",
       "     6          24.766667      14.280000       19.550000         5.206667   \n",
       "     7          24.909677      14.948387       19.948387         2.761290   \n",
       "     8          24.370968      13.935484       19.167742         3.364516   \n",
       "     9          20.996667      10.610000       15.823333         3.236667   \n",
       "     10         14.367742       6.267742       10.341935         2.090323   \n",
       "...                   ...            ...             ...              ...   \n",
       "2017 3          -0.951613      -9.048387       -5.009677         1.193548   \n",
       "     4          12.083333       3.300000        7.716667         5.300000   \n",
       "     5          17.419355       8.258065       12.858065         5.561290   \n",
       "     6          23.166667      13.966667       18.593333         5.226667   \n",
       "     7          25.306452      15.725806       20.545161         5.470968   \n",
       "     8          24.306452      14.387097       19.364516         2.658065   \n",
       "     9          23.600000      12.133333       17.880000         1.720000   \n",
       "     10         17.532258       7.516129       12.541935         4.593548   \n",
       "     11          4.716667      -2.550000        1.096667         2.526667   \n",
       "     12         -6.041935     -12.367742       -9.216129         0.148387   \n",
       "\n",
       "            Total Snow (cm)  Total Precip (mm)  Snow on Grnd (cm)  \\\n",
       "Year Month                                                          \n",
       "2014 1             0.961290           1.103226          24.870968   \n",
       "     2             1.400000           1.903571          38.107143   \n",
       "     3             1.432258           1.770968          39.161290   \n",
       "     4             0.000000           3.276667           7.300000   \n",
       "     5             0.000000           2.422581           0.000000   \n",
       "     6             0.000000           5.206667           0.000000   \n",
       "     7             0.000000           2.761290           0.000000   \n",
       "     8             0.000000           3.364516           0.000000   \n",
       "     9             0.000000           3.236667           0.000000   \n",
       "     10            0.000000           2.090323           0.000000   \n",
       "...                     ...                ...                ...   \n",
       "2017 3             1.141935           1.993548          15.645161   \n",
       "     4             0.000000           5.300000           0.200000   \n",
       "     5             0.000000           5.561290           0.000000   \n",
       "     6             0.000000           5.226667           0.000000   \n",
       "     7             0.000000           5.470968           0.000000   \n",
       "     8             0.000000           2.658065           0.000000   \n",
       "     9             0.000000           1.720000           0.000000   \n",
       "     10            0.000000           4.593548           0.000000   \n",
       "     11            0.480000           2.880000           0.866667   \n",
       "     12            1.251613           1.045161          10.032258   \n",
       "\n",
       "            Number of Collisions  Day in month  Year  Month  \n",
       "Year Month                                                   \n",
       "2014 1                 57.741935          16.0  2014      1  \n",
       "     2                 48.178571          14.5  2014      2  \n",
       "     3                 38.387097          16.0  2014      3  \n",
       "     4                 31.200000          15.5  2014      4  \n",
       "     5                 35.258065          16.0  2014      5  \n",
       "     6                 38.866667          15.5  2014      6  \n",
       "     7                 35.967742          16.0  2014      7  \n",
       "     8                 35.290323          16.0  2014      8  \n",
       "     9                 37.533333          15.5  2014      9  \n",
       "     10                40.645161          16.0  2014     10  \n",
       "...                          ...           ...   ...    ...  \n",
       "2017 3                 39.483871          16.0  2017      3  \n",
       "     4                 30.433333          15.5  2017      4  \n",
       "     5                 34.967742          16.0  2017      5  \n",
       "     6                 36.500000          15.5  2017      6  \n",
       "     7                 31.322581          16.0  2017      7  \n",
       "     8                 31.935484          16.0  2017      8  \n",
       "     9                 39.200000          15.5  2017      9  \n",
       "     10                36.741935          16.0  2017     10  \n",
       "     11                49.766667          15.5  2017     11  \n",
       "     12                56.612903          16.0  2017     12  \n",
       "\n",
       "[48 rows x 11 columns]"
      ]
     },
     "execution_count": 9,
     "metadata": {},
     "output_type": "execute_result"
    }
   ],
   "source": [
    "df_avg"
   ]
  },
  {
   "cell_type": "code",
   "execution_count": null,
   "metadata": {},
   "outputs": [],
   "source": []
  },
  {
   "cell_type": "code",
   "execution_count": null,
   "metadata": {},
   "outputs": [],
   "source": []
  },
  {
   "cell_type": "code",
   "execution_count": 10,
   "metadata": {},
   "outputs": [
    {
     "data": {
      "text/html": [
       "<div>\n",
       "<style scoped>\n",
       "    .dataframe tbody tr th:only-of-type {\n",
       "        vertical-align: middle;\n",
       "    }\n",
       "\n",
       "    .dataframe tbody tr th {\n",
       "        vertical-align: top;\n",
       "    }\n",
       "\n",
       "    .dataframe thead th {\n",
       "        text-align: right;\n",
       "    }\n",
       "</style>\n",
       "<table border=\"1\" class=\"dataframe\">\n",
       "  <thead>\n",
       "    <tr style=\"text-align: right;\">\n",
       "      <th></th>\n",
       "      <th>Date</th>\n",
       "      <th>Max Temp (°C)</th>\n",
       "      <th>Min Temp (°C)</th>\n",
       "      <th>Mean Temp (°C)</th>\n",
       "      <th>Total Rain (mm)</th>\n",
       "      <th>Total Snow (cm)</th>\n",
       "      <th>Total Precip (mm)</th>\n",
       "      <th>Snow on Grnd (cm)</th>\n",
       "      <th>Number of Collisions</th>\n",
       "      <th>Year</th>\n",
       "      <th>Month</th>\n",
       "      <th>Day in month</th>\n",
       "    </tr>\n",
       "  </thead>\n",
       "  <tbody>\n",
       "    <tr>\n",
       "      <th>2</th>\n",
       "      <td>2014-01-03</td>\n",
       "      <td>-21.0</td>\n",
       "      <td>-28.1</td>\n",
       "      <td>-24.6</td>\n",
       "      <td>0.0</td>\n",
       "      <td>0.3</td>\n",
       "      <td>0.0</td>\n",
       "      <td>29</td>\n",
       "      <td>151</td>\n",
       "      <td>2014</td>\n",
       "      <td>1</td>\n",
       "      <td>3</td>\n",
       "    </tr>\n",
       "    <tr>\n",
       "      <th>44</th>\n",
       "      <td>2014-02-14</td>\n",
       "      <td>-3.5</td>\n",
       "      <td>-7.8</td>\n",
       "      <td>-5.7</td>\n",
       "      <td>0.0</td>\n",
       "      <td>5.0</td>\n",
       "      <td>2.6</td>\n",
       "      <td>40</td>\n",
       "      <td>134</td>\n",
       "      <td>2014</td>\n",
       "      <td>2</td>\n",
       "      <td>14</td>\n",
       "    </tr>\n",
       "    <tr>\n",
       "      <th>26</th>\n",
       "      <td>2014-01-27</td>\n",
       "      <td>-7.3</td>\n",
       "      <td>-17.4</td>\n",
       "      <td>-12.4</td>\n",
       "      <td>0.0</td>\n",
       "      <td>0.0</td>\n",
       "      <td>0.0</td>\n",
       "      <td>27</td>\n",
       "      <td>131</td>\n",
       "      <td>2014</td>\n",
       "      <td>1</td>\n",
       "      <td>27</td>\n",
       "    </tr>\n",
       "    <tr>\n",
       "      <th>343</th>\n",
       "      <td>2014-12-10</td>\n",
       "      <td>-1.5</td>\n",
       "      <td>-2.8</td>\n",
       "      <td>-2.2</td>\n",
       "      <td>0.0</td>\n",
       "      <td>12.0</td>\n",
       "      <td>11.1</td>\n",
       "      <td>0</td>\n",
       "      <td>99</td>\n",
       "      <td>2014</td>\n",
       "      <td>12</td>\n",
       "      <td>10</td>\n",
       "    </tr>\n",
       "    <tr>\n",
       "      <th>48</th>\n",
       "      <td>2014-02-18</td>\n",
       "      <td>-4.0</td>\n",
       "      <td>-18.7</td>\n",
       "      <td>-11.4</td>\n",
       "      <td>0.0</td>\n",
       "      <td>1.5</td>\n",
       "      <td>0.5</td>\n",
       "      <td>41</td>\n",
       "      <td>96</td>\n",
       "      <td>2014</td>\n",
       "      <td>2</td>\n",
       "      <td>18</td>\n",
       "    </tr>\n",
       "    <tr>\n",
       "      <th>10</th>\n",
       "      <td>2014-01-11</td>\n",
       "      <td>6.5</td>\n",
       "      <td>-6.5</td>\n",
       "      <td>0.0</td>\n",
       "      <td>3.2</td>\n",
       "      <td>0.0</td>\n",
       "      <td>3.2</td>\n",
       "      <td>29</td>\n",
       "      <td>93</td>\n",
       "      <td>2014</td>\n",
       "      <td>1</td>\n",
       "      <td>11</td>\n",
       "    </tr>\n",
       "    <tr>\n",
       "      <th>21</th>\n",
       "      <td>2014-01-22</td>\n",
       "      <td>-17.1</td>\n",
       "      <td>-26.7</td>\n",
       "      <td>-21.9</td>\n",
       "      <td>0.0</td>\n",
       "      <td>0.0</td>\n",
       "      <td>0.0</td>\n",
       "      <td>20</td>\n",
       "      <td>89</td>\n",
       "      <td>2014</td>\n",
       "      <td>1</td>\n",
       "      <td>22</td>\n",
       "    </tr>\n",
       "    <tr>\n",
       "      <th>41</th>\n",
       "      <td>2014-02-11</td>\n",
       "      <td>-11.8</td>\n",
       "      <td>-21.0</td>\n",
       "      <td>-16.4</td>\n",
       "      <td>0.0</td>\n",
       "      <td>0.0</td>\n",
       "      <td>0.0</td>\n",
       "      <td>38</td>\n",
       "      <td>85</td>\n",
       "      <td>2014</td>\n",
       "      <td>2</td>\n",
       "      <td>11</td>\n",
       "    </tr>\n",
       "    <tr>\n",
       "      <th>23</th>\n",
       "      <td>2014-01-24</td>\n",
       "      <td>-7.7</td>\n",
       "      <td>-26.4</td>\n",
       "      <td>-17.1</td>\n",
       "      <td>0.0</td>\n",
       "      <td>2.0</td>\n",
       "      <td>0.6</td>\n",
       "      <td>19</td>\n",
       "      <td>85</td>\n",
       "      <td>2014</td>\n",
       "      <td>1</td>\n",
       "      <td>24</td>\n",
       "    </tr>\n",
       "    <tr>\n",
       "      <th>58</th>\n",
       "      <td>2014-02-28</td>\n",
       "      <td>-12.0</td>\n",
       "      <td>-21.2</td>\n",
       "      <td>-16.6</td>\n",
       "      <td>0.0</td>\n",
       "      <td>4.5</td>\n",
       "      <td>3.0</td>\n",
       "      <td>36</td>\n",
       "      <td>79</td>\n",
       "      <td>2014</td>\n",
       "      <td>2</td>\n",
       "      <td>28</td>\n",
       "    </tr>\n",
       "    <tr>\n",
       "      <th>...</th>\n",
       "      <td>...</td>\n",
       "      <td>...</td>\n",
       "      <td>...</td>\n",
       "      <td>...</td>\n",
       "      <td>...</td>\n",
       "      <td>...</td>\n",
       "      <td>...</td>\n",
       "      <td>...</td>\n",
       "      <td>...</td>\n",
       "      <td>...</td>\n",
       "      <td>...</td>\n",
       "      <td>...</td>\n",
       "    </tr>\n",
       "    <tr>\n",
       "      <th>285</th>\n",
       "      <td>2014-10-13</td>\n",
       "      <td>17.0</td>\n",
       "      <td>1.0</td>\n",
       "      <td>9.0</td>\n",
       "      <td>0.0</td>\n",
       "      <td>0.0</td>\n",
       "      <td>0.0</td>\n",
       "      <td>0</td>\n",
       "      <td>17</td>\n",
       "      <td>2014</td>\n",
       "      <td>10</td>\n",
       "      <td>13</td>\n",
       "    </tr>\n",
       "    <tr>\n",
       "      <th>109</th>\n",
       "      <td>2014-04-20</td>\n",
       "      <td>16.0</td>\n",
       "      <td>-1.0</td>\n",
       "      <td>7.5</td>\n",
       "      <td>0.0</td>\n",
       "      <td>0.0</td>\n",
       "      <td>0.0</td>\n",
       "      <td>0</td>\n",
       "      <td>16</td>\n",
       "      <td>2014</td>\n",
       "      <td>4</td>\n",
       "      <td>20</td>\n",
       "    </tr>\n",
       "    <tr>\n",
       "      <th>116</th>\n",
       "      <td>2014-04-27</td>\n",
       "      <td>11.7</td>\n",
       "      <td>4.0</td>\n",
       "      <td>7.9</td>\n",
       "      <td>0.0</td>\n",
       "      <td>0.0</td>\n",
       "      <td>0.0</td>\n",
       "      <td>0</td>\n",
       "      <td>16</td>\n",
       "      <td>2014</td>\n",
       "      <td>4</td>\n",
       "      <td>27</td>\n",
       "    </tr>\n",
       "    <tr>\n",
       "      <th>107</th>\n",
       "      <td>2014-04-18</td>\n",
       "      <td>11.2</td>\n",
       "      <td>0.0</td>\n",
       "      <td>5.6</td>\n",
       "      <td>0.4</td>\n",
       "      <td>0.0</td>\n",
       "      <td>0.4</td>\n",
       "      <td>0</td>\n",
       "      <td>15</td>\n",
       "      <td>2014</td>\n",
       "      <td>4</td>\n",
       "      <td>18</td>\n",
       "    </tr>\n",
       "    <tr>\n",
       "      <th>123</th>\n",
       "      <td>2014-05-04</td>\n",
       "      <td>10.4</td>\n",
       "      <td>6.5</td>\n",
       "      <td>8.5</td>\n",
       "      <td>16.2</td>\n",
       "      <td>0.0</td>\n",
       "      <td>16.2</td>\n",
       "      <td>0</td>\n",
       "      <td>15</td>\n",
       "      <td>2014</td>\n",
       "      <td>5</td>\n",
       "      <td>4</td>\n",
       "    </tr>\n",
       "    <tr>\n",
       "      <th>74</th>\n",
       "      <td>2014-03-16</td>\n",
       "      <td>-10.6</td>\n",
       "      <td>-16.0</td>\n",
       "      <td>-13.3</td>\n",
       "      <td>0.0</td>\n",
       "      <td>0.0</td>\n",
       "      <td>0.0</td>\n",
       "      <td>36</td>\n",
       "      <td>14</td>\n",
       "      <td>2014</td>\n",
       "      <td>3</td>\n",
       "      <td>16</td>\n",
       "    </tr>\n",
       "    <tr>\n",
       "      <th>358</th>\n",
       "      <td>2014-12-25</td>\n",
       "      <td>6.0</td>\n",
       "      <td>2.2</td>\n",
       "      <td>4.1</td>\n",
       "      <td>0.2</td>\n",
       "      <td>0.0</td>\n",
       "      <td>0.2</td>\n",
       "      <td>0</td>\n",
       "      <td>13</td>\n",
       "      <td>2014</td>\n",
       "      <td>12</td>\n",
       "      <td>25</td>\n",
       "    </tr>\n",
       "    <tr>\n",
       "      <th>361</th>\n",
       "      <td>2014-12-28</td>\n",
       "      <td>3.5</td>\n",
       "      <td>1.4</td>\n",
       "      <td>2.5</td>\n",
       "      <td>0.0</td>\n",
       "      <td>0.0</td>\n",
       "      <td>0.0</td>\n",
       "      <td>0</td>\n",
       "      <td>13</td>\n",
       "      <td>2014</td>\n",
       "      <td>12</td>\n",
       "      <td>28</td>\n",
       "    </tr>\n",
       "    <tr>\n",
       "      <th>53</th>\n",
       "      <td>2014-02-23</td>\n",
       "      <td>1.2</td>\n",
       "      <td>-7.5</td>\n",
       "      <td>-3.2</td>\n",
       "      <td>0.0</td>\n",
       "      <td>0.0</td>\n",
       "      <td>0.0</td>\n",
       "      <td>38</td>\n",
       "      <td>12</td>\n",
       "      <td>2014</td>\n",
       "      <td>2</td>\n",
       "      <td>23</td>\n",
       "    </tr>\n",
       "    <tr>\n",
       "      <th>138</th>\n",
       "      <td>2014-05-19</td>\n",
       "      <td>21.7</td>\n",
       "      <td>8.5</td>\n",
       "      <td>15.1</td>\n",
       "      <td>0.0</td>\n",
       "      <td>0.0</td>\n",
       "      <td>0.0</td>\n",
       "      <td>0</td>\n",
       "      <td>11</td>\n",
       "      <td>2014</td>\n",
       "      <td>5</td>\n",
       "      <td>19</td>\n",
       "    </tr>\n",
       "  </tbody>\n",
       "</table>\n",
       "<p>365 rows × 12 columns</p>\n",
       "</div>"
      ],
      "text/plain": [
       "          Date  Max Temp (°C)  Min Temp (°C)  Mean Temp (°C)  Total Rain (mm)  \\\n",
       "2   2014-01-03          -21.0          -28.1           -24.6              0.0   \n",
       "44  2014-02-14           -3.5           -7.8            -5.7              0.0   \n",
       "26  2014-01-27           -7.3          -17.4           -12.4              0.0   \n",
       "343 2014-12-10           -1.5           -2.8            -2.2              0.0   \n",
       "48  2014-02-18           -4.0          -18.7           -11.4              0.0   \n",
       "10  2014-01-11            6.5           -6.5             0.0              3.2   \n",
       "21  2014-01-22          -17.1          -26.7           -21.9              0.0   \n",
       "41  2014-02-11          -11.8          -21.0           -16.4              0.0   \n",
       "23  2014-01-24           -7.7          -26.4           -17.1              0.0   \n",
       "58  2014-02-28          -12.0          -21.2           -16.6              0.0   \n",
       "..         ...            ...            ...             ...              ...   \n",
       "285 2014-10-13           17.0            1.0             9.0              0.0   \n",
       "109 2014-04-20           16.0           -1.0             7.5              0.0   \n",
       "116 2014-04-27           11.7            4.0             7.9              0.0   \n",
       "107 2014-04-18           11.2            0.0             5.6              0.4   \n",
       "123 2014-05-04           10.4            6.5             8.5             16.2   \n",
       "74  2014-03-16          -10.6          -16.0           -13.3              0.0   \n",
       "358 2014-12-25            6.0            2.2             4.1              0.2   \n",
       "361 2014-12-28            3.5            1.4             2.5              0.0   \n",
       "53  2014-02-23            1.2           -7.5            -3.2              0.0   \n",
       "138 2014-05-19           21.7            8.5            15.1              0.0   \n",
       "\n",
       "     Total Snow (cm)  Total Precip (mm)  Snow on Grnd (cm)  \\\n",
       "2                0.3                0.0                 29   \n",
       "44               5.0                2.6                 40   \n",
       "26               0.0                0.0                 27   \n",
       "343             12.0               11.1                  0   \n",
       "48               1.5                0.5                 41   \n",
       "10               0.0                3.2                 29   \n",
       "21               0.0                0.0                 20   \n",
       "41               0.0                0.0                 38   \n",
       "23               2.0                0.6                 19   \n",
       "58               4.5                3.0                 36   \n",
       "..               ...                ...                ...   \n",
       "285              0.0                0.0                  0   \n",
       "109              0.0                0.0                  0   \n",
       "116              0.0                0.0                  0   \n",
       "107              0.0                0.4                  0   \n",
       "123              0.0               16.2                  0   \n",
       "74               0.0                0.0                 36   \n",
       "358              0.0                0.2                  0   \n",
       "361              0.0                0.0                  0   \n",
       "53               0.0                0.0                 38   \n",
       "138              0.0                0.0                  0   \n",
       "\n",
       "     Number of Collisions  Year  Month  Day in month  \n",
       "2                     151  2014      1             3  \n",
       "44                    134  2014      2            14  \n",
       "26                    131  2014      1            27  \n",
       "343                    99  2014     12            10  \n",
       "48                     96  2014      2            18  \n",
       "10                     93  2014      1            11  \n",
       "21                     89  2014      1            22  \n",
       "41                     85  2014      2            11  \n",
       "23                     85  2014      1            24  \n",
       "58                     79  2014      2            28  \n",
       "..                    ...   ...    ...           ...  \n",
       "285                    17  2014     10            13  \n",
       "109                    16  2014      4            20  \n",
       "116                    16  2014      4            27  \n",
       "107                    15  2014      4            18  \n",
       "123                    15  2014      5             4  \n",
       "74                     14  2014      3            16  \n",
       "358                    13  2014     12            25  \n",
       "361                    13  2014     12            28  \n",
       "53                     12  2014      2            23  \n",
       "138                    11  2014      5            19  \n",
       "\n",
       "[365 rows x 12 columns]"
      ]
     },
     "execution_count": 10,
     "metadata": {},
     "output_type": "execute_result"
    }
   ],
   "source": [
    "wt1417[wt1417[\"Year\"]==2014].sort_values([\"Number of Collisions\"], ascending=[0])"
   ]
  },
  {
   "cell_type": "code",
   "execution_count": 11,
   "metadata": {},
   "outputs": [
    {
     "data": {
      "text/html": [
       "<div>\n",
       "<style scoped>\n",
       "    .dataframe tbody tr th:only-of-type {\n",
       "        vertical-align: middle;\n",
       "    }\n",
       "\n",
       "    .dataframe tbody tr th {\n",
       "        vertical-align: top;\n",
       "    }\n",
       "\n",
       "    .dataframe thead th {\n",
       "        text-align: right;\n",
       "    }\n",
       "</style>\n",
       "<table border=\"1\" class=\"dataframe\">\n",
       "  <thead>\n",
       "    <tr style=\"text-align: right;\">\n",
       "      <th></th>\n",
       "      <th>Date</th>\n",
       "      <th>Max Temp (°C)</th>\n",
       "      <th>Min Temp (°C)</th>\n",
       "      <th>Mean Temp (°C)</th>\n",
       "      <th>Total Rain (mm)</th>\n",
       "      <th>Total Snow (cm)</th>\n",
       "      <th>Total Precip (mm)</th>\n",
       "      <th>Snow on Grnd (cm)</th>\n",
       "      <th>Number of Collisions</th>\n",
       "      <th>Year</th>\n",
       "      <th>Month</th>\n",
       "      <th>Day in month</th>\n",
       "    </tr>\n",
       "  </thead>\n",
       "  <tbody>\n",
       "    <tr>\n",
       "      <th>397</th>\n",
       "      <td>2015-02-02</td>\n",
       "      <td>-14.3</td>\n",
       "      <td>-20.4</td>\n",
       "      <td>-17.4</td>\n",
       "      <td>0.0</td>\n",
       "      <td>3.0</td>\n",
       "      <td>1.5</td>\n",
       "      <td>14</td>\n",
       "      <td>160</td>\n",
       "      <td>2015</td>\n",
       "      <td>2</td>\n",
       "      <td>2</td>\n",
       "    </tr>\n",
       "    <tr>\n",
       "      <th>416</th>\n",
       "      <td>2015-02-21</td>\n",
       "      <td>-10.5</td>\n",
       "      <td>-20.0</td>\n",
       "      <td>-15.3</td>\n",
       "      <td>0.0</td>\n",
       "      <td>12.0</td>\n",
       "      <td>12.0</td>\n",
       "      <td>28</td>\n",
       "      <td>114</td>\n",
       "      <td>2015</td>\n",
       "      <td>2</td>\n",
       "      <td>21</td>\n",
       "    </tr>\n",
       "    <tr>\n",
       "      <th>394</th>\n",
       "      <td>2015-01-30</td>\n",
       "      <td>-10.0</td>\n",
       "      <td>-12.9</td>\n",
       "      <td>-11.5</td>\n",
       "      <td>0.0</td>\n",
       "      <td>0.0</td>\n",
       "      <td>0.0</td>\n",
       "      <td>20</td>\n",
       "      <td>113</td>\n",
       "      <td>2015</td>\n",
       "      <td>1</td>\n",
       "      <td>30</td>\n",
       "    </tr>\n",
       "    <tr>\n",
       "      <th>399</th>\n",
       "      <td>2015-02-04</td>\n",
       "      <td>-4.5</td>\n",
       "      <td>-11.7</td>\n",
       "      <td>-8.1</td>\n",
       "      <td>0.0</td>\n",
       "      <td>12.0</td>\n",
       "      <td>4.0</td>\n",
       "      <td>15</td>\n",
       "      <td>111</td>\n",
       "      <td>2015</td>\n",
       "      <td>2</td>\n",
       "      <td>4</td>\n",
       "    </tr>\n",
       "    <tr>\n",
       "      <th>378</th>\n",
       "      <td>2015-01-14</td>\n",
       "      <td>-11.8</td>\n",
       "      <td>-26.2</td>\n",
       "      <td>-19.0</td>\n",
       "      <td>0.0</td>\n",
       "      <td>0.0</td>\n",
       "      <td>0.0</td>\n",
       "      <td>7</td>\n",
       "      <td>106</td>\n",
       "      <td>2015</td>\n",
       "      <td>1</td>\n",
       "      <td>14</td>\n",
       "    </tr>\n",
       "    <tr>\n",
       "      <th>393</th>\n",
       "      <td>2015-01-29</td>\n",
       "      <td>-5.0</td>\n",
       "      <td>-20.0</td>\n",
       "      <td>-12.5</td>\n",
       "      <td>0.0</td>\n",
       "      <td>13.0</td>\n",
       "      <td>11.5</td>\n",
       "      <td>10</td>\n",
       "      <td>105</td>\n",
       "      <td>2015</td>\n",
       "      <td>1</td>\n",
       "      <td>29</td>\n",
       "    </tr>\n",
       "    <tr>\n",
       "      <th>409</th>\n",
       "      <td>2015-02-14</td>\n",
       "      <td>-12.0</td>\n",
       "      <td>-24.0</td>\n",
       "      <td>-18.0</td>\n",
       "      <td>0.0</td>\n",
       "      <td>1.5</td>\n",
       "      <td>1.0</td>\n",
       "      <td>32</td>\n",
       "      <td>101</td>\n",
       "      <td>2015</td>\n",
       "      <td>2</td>\n",
       "      <td>14</td>\n",
       "    </tr>\n",
       "    <tr>\n",
       "      <th>371</th>\n",
       "      <td>2015-01-07</td>\n",
       "      <td>-17.7</td>\n",
       "      <td>-22.0</td>\n",
       "      <td>-19.9</td>\n",
       "      <td>0.0</td>\n",
       "      <td>0.3</td>\n",
       "      <td>0.2</td>\n",
       "      <td>6</td>\n",
       "      <td>99</td>\n",
       "      <td>2015</td>\n",
       "      <td>1</td>\n",
       "      <td>7</td>\n",
       "    </tr>\n",
       "    <tr>\n",
       "      <th>372</th>\n",
       "      <td>2015-01-08</td>\n",
       "      <td>-8.5</td>\n",
       "      <td>-28.0</td>\n",
       "      <td>-18.3</td>\n",
       "      <td>0.0</td>\n",
       "      <td>5.0</td>\n",
       "      <td>3.2</td>\n",
       "      <td>6</td>\n",
       "      <td>98</td>\n",
       "      <td>2015</td>\n",
       "      <td>1</td>\n",
       "      <td>8</td>\n",
       "    </tr>\n",
       "    <tr>\n",
       "      <th>412</th>\n",
       "      <td>2015-02-17</td>\n",
       "      <td>-12.0</td>\n",
       "      <td>-26.7</td>\n",
       "      <td>-19.4</td>\n",
       "      <td>0.0</td>\n",
       "      <td>0.0</td>\n",
       "      <td>0.0</td>\n",
       "      <td>29</td>\n",
       "      <td>93</td>\n",
       "      <td>2015</td>\n",
       "      <td>2</td>\n",
       "      <td>17</td>\n",
       "    </tr>\n",
       "    <tr>\n",
       "      <th>...</th>\n",
       "      <td>...</td>\n",
       "      <td>...</td>\n",
       "      <td>...</td>\n",
       "      <td>...</td>\n",
       "      <td>...</td>\n",
       "      <td>...</td>\n",
       "      <td>...</td>\n",
       "      <td>...</td>\n",
       "      <td>...</td>\n",
       "      <td>...</td>\n",
       "      <td>...</td>\n",
       "      <td>...</td>\n",
       "    </tr>\n",
       "    <tr>\n",
       "      <th>579</th>\n",
       "      <td>2015-08-03</td>\n",
       "      <td>24.6</td>\n",
       "      <td>17.6</td>\n",
       "      <td>21.1</td>\n",
       "      <td>0.4</td>\n",
       "      <td>0.0</td>\n",
       "      <td>0.4</td>\n",
       "      <td>0</td>\n",
       "      <td>16</td>\n",
       "      <td>2015</td>\n",
       "      <td>8</td>\n",
       "      <td>3</td>\n",
       "    </tr>\n",
       "    <tr>\n",
       "      <th>479</th>\n",
       "      <td>2015-04-25</td>\n",
       "      <td>11.5</td>\n",
       "      <td>-1.5</td>\n",
       "      <td>5.0</td>\n",
       "      <td>0.0</td>\n",
       "      <td>0.0</td>\n",
       "      <td>0.0</td>\n",
       "      <td>0</td>\n",
       "      <td>16</td>\n",
       "      <td>2015</td>\n",
       "      <td>4</td>\n",
       "      <td>25</td>\n",
       "    </tr>\n",
       "    <tr>\n",
       "      <th>614</th>\n",
       "      <td>2015-09-07</td>\n",
       "      <td>33.0</td>\n",
       "      <td>19.0</td>\n",
       "      <td>26.0</td>\n",
       "      <td>10.4</td>\n",
       "      <td>0.0</td>\n",
       "      <td>10.4</td>\n",
       "      <td>0</td>\n",
       "      <td>16</td>\n",
       "      <td>2015</td>\n",
       "      <td>9</td>\n",
       "      <td>7</td>\n",
       "    </tr>\n",
       "    <tr>\n",
       "      <th>502</th>\n",
       "      <td>2015-05-18</td>\n",
       "      <td>29.6</td>\n",
       "      <td>10.5</td>\n",
       "      <td>20.1</td>\n",
       "      <td>1.6</td>\n",
       "      <td>0.0</td>\n",
       "      <td>1.6</td>\n",
       "      <td>0</td>\n",
       "      <td>15</td>\n",
       "      <td>2015</td>\n",
       "      <td>5</td>\n",
       "      <td>18</td>\n",
       "    </tr>\n",
       "    <tr>\n",
       "      <th>612</th>\n",
       "      <td>2015-09-05</td>\n",
       "      <td>28.5</td>\n",
       "      <td>12.5</td>\n",
       "      <td>20.5</td>\n",
       "      <td>0.0</td>\n",
       "      <td>0.0</td>\n",
       "      <td>0.0</td>\n",
       "      <td>0</td>\n",
       "      <td>15</td>\n",
       "      <td>2015</td>\n",
       "      <td>9</td>\n",
       "      <td>5</td>\n",
       "    </tr>\n",
       "    <tr>\n",
       "      <th>697</th>\n",
       "      <td>2015-11-29</td>\n",
       "      <td>0.0</td>\n",
       "      <td>-7.0</td>\n",
       "      <td>-3.5</td>\n",
       "      <td>0.0</td>\n",
       "      <td>0.0</td>\n",
       "      <td>0.0</td>\n",
       "      <td>0</td>\n",
       "      <td>15</td>\n",
       "      <td>2015</td>\n",
       "      <td>11</td>\n",
       "      <td>29</td>\n",
       "    </tr>\n",
       "    <tr>\n",
       "      <th>500</th>\n",
       "      <td>2015-05-16</td>\n",
       "      <td>21.2</td>\n",
       "      <td>13.8</td>\n",
       "      <td>17.5</td>\n",
       "      <td>0.0</td>\n",
       "      <td>0.0</td>\n",
       "      <td>0.0</td>\n",
       "      <td>0</td>\n",
       "      <td>14</td>\n",
       "      <td>2015</td>\n",
       "      <td>5</td>\n",
       "      <td>16</td>\n",
       "    </tr>\n",
       "    <tr>\n",
       "      <th>724</th>\n",
       "      <td>2015-12-26</td>\n",
       "      <td>4.7</td>\n",
       "      <td>-2.6</td>\n",
       "      <td>1.1</td>\n",
       "      <td>11.0</td>\n",
       "      <td>1.6</td>\n",
       "      <td>12.6</td>\n",
       "      <td>0</td>\n",
       "      <td>14</td>\n",
       "      <td>2015</td>\n",
       "      <td>12</td>\n",
       "      <td>26</td>\n",
       "    </tr>\n",
       "    <tr>\n",
       "      <th>723</th>\n",
       "      <td>2015-12-25</td>\n",
       "      <td>8.3</td>\n",
       "      <td>3.5</td>\n",
       "      <td>5.9</td>\n",
       "      <td>0.0</td>\n",
       "      <td>0.0</td>\n",
       "      <td>0.0</td>\n",
       "      <td>0</td>\n",
       "      <td>13</td>\n",
       "      <td>2015</td>\n",
       "      <td>12</td>\n",
       "      <td>25</td>\n",
       "    </tr>\n",
       "    <tr>\n",
       "      <th>459</th>\n",
       "      <td>2015-04-05</td>\n",
       "      <td>1.5</td>\n",
       "      <td>-5.0</td>\n",
       "      <td>-1.8</td>\n",
       "      <td>0.0</td>\n",
       "      <td>0.0</td>\n",
       "      <td>0.0</td>\n",
       "      <td>0</td>\n",
       "      <td>12</td>\n",
       "      <td>2015</td>\n",
       "      <td>4</td>\n",
       "      <td>5</td>\n",
       "    </tr>\n",
       "  </tbody>\n",
       "</table>\n",
       "<p>365 rows × 12 columns</p>\n",
       "</div>"
      ],
      "text/plain": [
       "          Date  Max Temp (°C)  Min Temp (°C)  Mean Temp (°C)  Total Rain (mm)  \\\n",
       "397 2015-02-02          -14.3          -20.4           -17.4              0.0   \n",
       "416 2015-02-21          -10.5          -20.0           -15.3              0.0   \n",
       "394 2015-01-30          -10.0          -12.9           -11.5              0.0   \n",
       "399 2015-02-04           -4.5          -11.7            -8.1              0.0   \n",
       "378 2015-01-14          -11.8          -26.2           -19.0              0.0   \n",
       "393 2015-01-29           -5.0          -20.0           -12.5              0.0   \n",
       "409 2015-02-14          -12.0          -24.0           -18.0              0.0   \n",
       "371 2015-01-07          -17.7          -22.0           -19.9              0.0   \n",
       "372 2015-01-08           -8.5          -28.0           -18.3              0.0   \n",
       "412 2015-02-17          -12.0          -26.7           -19.4              0.0   \n",
       "..         ...            ...            ...             ...              ...   \n",
       "579 2015-08-03           24.6           17.6            21.1              0.4   \n",
       "479 2015-04-25           11.5           -1.5             5.0              0.0   \n",
       "614 2015-09-07           33.0           19.0            26.0             10.4   \n",
       "502 2015-05-18           29.6           10.5            20.1              1.6   \n",
       "612 2015-09-05           28.5           12.5            20.5              0.0   \n",
       "697 2015-11-29            0.0           -7.0            -3.5              0.0   \n",
       "500 2015-05-16           21.2           13.8            17.5              0.0   \n",
       "724 2015-12-26            4.7           -2.6             1.1             11.0   \n",
       "723 2015-12-25            8.3            3.5             5.9              0.0   \n",
       "459 2015-04-05            1.5           -5.0            -1.8              0.0   \n",
       "\n",
       "     Total Snow (cm)  Total Precip (mm)  Snow on Grnd (cm)  \\\n",
       "397              3.0                1.5                 14   \n",
       "416             12.0               12.0                 28   \n",
       "394              0.0                0.0                 20   \n",
       "399             12.0                4.0                 15   \n",
       "378              0.0                0.0                  7   \n",
       "393             13.0               11.5                 10   \n",
       "409              1.5                1.0                 32   \n",
       "371              0.3                0.2                  6   \n",
       "372              5.0                3.2                  6   \n",
       "412              0.0                0.0                 29   \n",
       "..               ...                ...                ...   \n",
       "579              0.0                0.4                  0   \n",
       "479              0.0                0.0                  0   \n",
       "614              0.0               10.4                  0   \n",
       "502              0.0                1.6                  0   \n",
       "612              0.0                0.0                  0   \n",
       "697              0.0                0.0                  0   \n",
       "500              0.0                0.0                  0   \n",
       "724              1.6               12.6                  0   \n",
       "723              0.0                0.0                  0   \n",
       "459              0.0                0.0                  0   \n",
       "\n",
       "     Number of Collisions  Year  Month  Day in month  \n",
       "397                   160  2015      2             2  \n",
       "416                   114  2015      2            21  \n",
       "394                   113  2015      1            30  \n",
       "399                   111  2015      2             4  \n",
       "378                   106  2015      1            14  \n",
       "393                   105  2015      1            29  \n",
       "409                   101  2015      2            14  \n",
       "371                    99  2015      1             7  \n",
       "372                    98  2015      1             8  \n",
       "412                    93  2015      2            17  \n",
       "..                    ...   ...    ...           ...  \n",
       "579                    16  2015      8             3  \n",
       "479                    16  2015      4            25  \n",
       "614                    16  2015      9             7  \n",
       "502                    15  2015      5            18  \n",
       "612                    15  2015      9             5  \n",
       "697                    15  2015     11            29  \n",
       "500                    14  2015      5            16  \n",
       "724                    14  2015     12            26  \n",
       "723                    13  2015     12            25  \n",
       "459                    12  2015      4             5  \n",
       "\n",
       "[365 rows x 12 columns]"
      ]
     },
     "execution_count": 11,
     "metadata": {},
     "output_type": "execute_result"
    }
   ],
   "source": [
    "wt1417[wt1417[\"Year\"]==2015].sort_values([\"Number of Collisions\"], ascending=[0])"
   ]
  },
  {
   "cell_type": "code",
   "execution_count": 12,
   "metadata": {},
   "outputs": [
    {
     "data": {
      "text/html": [
       "<div>\n",
       "<style scoped>\n",
       "    .dataframe tbody tr th:only-of-type {\n",
       "        vertical-align: middle;\n",
       "    }\n",
       "\n",
       "    .dataframe tbody tr th {\n",
       "        vertical-align: top;\n",
       "    }\n",
       "\n",
       "    .dataframe thead th {\n",
       "        text-align: right;\n",
       "    }\n",
       "</style>\n",
       "<table border=\"1\" class=\"dataframe\">\n",
       "  <thead>\n",
       "    <tr style=\"text-align: right;\">\n",
       "      <th></th>\n",
       "      <th>Date</th>\n",
       "      <th>Max Temp (°C)</th>\n",
       "      <th>Min Temp (°C)</th>\n",
       "      <th>Mean Temp (°C)</th>\n",
       "      <th>Total Rain (mm)</th>\n",
       "      <th>Total Snow (cm)</th>\n",
       "      <th>Total Precip (mm)</th>\n",
       "      <th>Snow on Grnd (cm)</th>\n",
       "      <th>Number of Collisions</th>\n",
       "      <th>Year</th>\n",
       "      <th>Month</th>\n",
       "      <th>Day in month</th>\n",
       "    </tr>\n",
       "  </thead>\n",
       "  <tbody>\n",
       "    <tr>\n",
       "      <th>777</th>\n",
       "      <td>2016-02-17</td>\n",
       "      <td>0.1</td>\n",
       "      <td>-11.2</td>\n",
       "      <td>-5.6</td>\n",
       "      <td>0.0</td>\n",
       "      <td>0.4</td>\n",
       "      <td>0.4</td>\n",
       "      <td>40</td>\n",
       "      <td>152</td>\n",
       "      <td>2016</td>\n",
       "      <td>2</td>\n",
       "      <td>17</td>\n",
       "    </tr>\n",
       "    <tr>\n",
       "      <th>826</th>\n",
       "      <td>2016-04-06</td>\n",
       "      <td>1.5</td>\n",
       "      <td>-5.0</td>\n",
       "      <td>-1.8</td>\n",
       "      <td>2.0</td>\n",
       "      <td>18.0</td>\n",
       "      <td>16.4</td>\n",
       "      <td>0</td>\n",
       "      <td>123</td>\n",
       "      <td>2016</td>\n",
       "      <td>4</td>\n",
       "      <td>6</td>\n",
       "    </tr>\n",
       "    <tr>\n",
       "      <th>778</th>\n",
       "      <td>2016-02-18</td>\n",
       "      <td>-7.2</td>\n",
       "      <td>-22.0</td>\n",
       "      <td>-14.6</td>\n",
       "      <td>0.0</td>\n",
       "      <td>0.0</td>\n",
       "      <td>0.0</td>\n",
       "      <td>38</td>\n",
       "      <td>117</td>\n",
       "      <td>2016</td>\n",
       "      <td>2</td>\n",
       "      <td>18</td>\n",
       "    </tr>\n",
       "    <tr>\n",
       "      <th>785</th>\n",
       "      <td>2016-02-25</td>\n",
       "      <td>1.5</td>\n",
       "      <td>-1.2</td>\n",
       "      <td>0.2</td>\n",
       "      <td>1.4</td>\n",
       "      <td>1.0</td>\n",
       "      <td>2.2</td>\n",
       "      <td>24</td>\n",
       "      <td>104</td>\n",
       "      <td>2016</td>\n",
       "      <td>2</td>\n",
       "      <td>25</td>\n",
       "    </tr>\n",
       "    <tr>\n",
       "      <th>776</th>\n",
       "      <td>2016-02-16</td>\n",
       "      <td>-3.8</td>\n",
       "      <td>-11.8</td>\n",
       "      <td>-7.8</td>\n",
       "      <td>0.0</td>\n",
       "      <td>37.0</td>\n",
       "      <td>35.3</td>\n",
       "      <td>14</td>\n",
       "      <td>94</td>\n",
       "      <td>2016</td>\n",
       "      <td>2</td>\n",
       "      <td>16</td>\n",
       "    </tr>\n",
       "    <tr>\n",
       "      <th>1069</th>\n",
       "      <td>2016-12-05</td>\n",
       "      <td>-0.5</td>\n",
       "      <td>-5.0</td>\n",
       "      <td>-2.8</td>\n",
       "      <td>0.0</td>\n",
       "      <td>1.4</td>\n",
       "      <td>0.8</td>\n",
       "      <td>3</td>\n",
       "      <td>92</td>\n",
       "      <td>2016</td>\n",
       "      <td>12</td>\n",
       "      <td>5</td>\n",
       "    </tr>\n",
       "    <tr>\n",
       "      <th>1073</th>\n",
       "      <td>2016-12-09</td>\n",
       "      <td>-4.0</td>\n",
       "      <td>-6.5</td>\n",
       "      <td>-5.3</td>\n",
       "      <td>0.0</td>\n",
       "      <td>0.0</td>\n",
       "      <td>0.0</td>\n",
       "      <td>2</td>\n",
       "      <td>91</td>\n",
       "      <td>2016</td>\n",
       "      <td>12</td>\n",
       "      <td>9</td>\n",
       "    </tr>\n",
       "    <tr>\n",
       "      <th>1072</th>\n",
       "      <td>2016-12-08</td>\n",
       "      <td>1.5</td>\n",
       "      <td>-0.5</td>\n",
       "      <td>0.5</td>\n",
       "      <td>0.0</td>\n",
       "      <td>2.2</td>\n",
       "      <td>2.0</td>\n",
       "      <td>2</td>\n",
       "      <td>87</td>\n",
       "      <td>2016</td>\n",
       "      <td>12</td>\n",
       "      <td>8</td>\n",
       "    </tr>\n",
       "    <tr>\n",
       "      <th>813</th>\n",
       "      <td>2016-03-24</td>\n",
       "      <td>-0.5</td>\n",
       "      <td>-7.0</td>\n",
       "      <td>-3.8</td>\n",
       "      <td>9.4</td>\n",
       "      <td>5.0</td>\n",
       "      <td>14.4</td>\n",
       "      <td>0</td>\n",
       "      <td>83</td>\n",
       "      <td>2016</td>\n",
       "      <td>3</td>\n",
       "      <td>24</td>\n",
       "    </tr>\n",
       "    <tr>\n",
       "      <th>1081</th>\n",
       "      <td>2016-12-17</td>\n",
       "      <td>-6.0</td>\n",
       "      <td>-18.5</td>\n",
       "      <td>-12.3</td>\n",
       "      <td>3.0</td>\n",
       "      <td>9.6</td>\n",
       "      <td>13.0</td>\n",
       "      <td>16</td>\n",
       "      <td>80</td>\n",
       "      <td>2016</td>\n",
       "      <td>12</td>\n",
       "      <td>17</td>\n",
       "    </tr>\n",
       "    <tr>\n",
       "      <th>...</th>\n",
       "      <td>...</td>\n",
       "      <td>...</td>\n",
       "      <td>...</td>\n",
       "      <td>...</td>\n",
       "      <td>...</td>\n",
       "      <td>...</td>\n",
       "      <td>...</td>\n",
       "      <td>...</td>\n",
       "      <td>...</td>\n",
       "      <td>...</td>\n",
       "      <td>...</td>\n",
       "      <td>...</td>\n",
       "    </tr>\n",
       "    <tr>\n",
       "      <th>912</th>\n",
       "      <td>2016-07-01</td>\n",
       "      <td>27.0</td>\n",
       "      <td>12.0</td>\n",
       "      <td>19.5</td>\n",
       "      <td>12.6</td>\n",
       "      <td>0.0</td>\n",
       "      <td>12.6</td>\n",
       "      <td>0</td>\n",
       "      <td>14</td>\n",
       "      <td>2016</td>\n",
       "      <td>7</td>\n",
       "      <td>1</td>\n",
       "    </tr>\n",
       "    <tr>\n",
       "      <th>921</th>\n",
       "      <td>2016-07-10</td>\n",
       "      <td>21.5</td>\n",
       "      <td>14.5</td>\n",
       "      <td>18.0</td>\n",
       "      <td>0.0</td>\n",
       "      <td>0.0</td>\n",
       "      <td>0.0</td>\n",
       "      <td>0</td>\n",
       "      <td>14</td>\n",
       "      <td>2016</td>\n",
       "      <td>7</td>\n",
       "      <td>10</td>\n",
       "    </tr>\n",
       "    <tr>\n",
       "      <th>1089</th>\n",
       "      <td>2016-12-25</td>\n",
       "      <td>-5.0</td>\n",
       "      <td>-7.0</td>\n",
       "      <td>-6.0</td>\n",
       "      <td>0.0</td>\n",
       "      <td>0.0</td>\n",
       "      <td>0.0</td>\n",
       "      <td>16</td>\n",
       "      <td>13</td>\n",
       "      <td>2016</td>\n",
       "      <td>12</td>\n",
       "      <td>25</td>\n",
       "    </tr>\n",
       "    <tr>\n",
       "      <th>1061</th>\n",
       "      <td>2016-11-27</td>\n",
       "      <td>1.0</td>\n",
       "      <td>0.0</td>\n",
       "      <td>0.5</td>\n",
       "      <td>0.0</td>\n",
       "      <td>0.0</td>\n",
       "      <td>0.0</td>\n",
       "      <td>1</td>\n",
       "      <td>13</td>\n",
       "      <td>2016</td>\n",
       "      <td>11</td>\n",
       "      <td>27</td>\n",
       "    </tr>\n",
       "    <tr>\n",
       "      <th>893</th>\n",
       "      <td>2016-06-12</td>\n",
       "      <td>13.0</td>\n",
       "      <td>8.5</td>\n",
       "      <td>10.8</td>\n",
       "      <td>0.0</td>\n",
       "      <td>0.0</td>\n",
       "      <td>0.0</td>\n",
       "      <td>0</td>\n",
       "      <td>13</td>\n",
       "      <td>2016</td>\n",
       "      <td>6</td>\n",
       "      <td>12</td>\n",
       "    </tr>\n",
       "    <tr>\n",
       "      <th>1046</th>\n",
       "      <td>2016-11-12</td>\n",
       "      <td>7.5</td>\n",
       "      <td>-2.5</td>\n",
       "      <td>2.5</td>\n",
       "      <td>0.0</td>\n",
       "      <td>0.0</td>\n",
       "      <td>0.0</td>\n",
       "      <td>0</td>\n",
       "      <td>13</td>\n",
       "      <td>2016</td>\n",
       "      <td>11</td>\n",
       "      <td>12</td>\n",
       "    </tr>\n",
       "    <tr>\n",
       "      <th>739</th>\n",
       "      <td>2016-01-10</td>\n",
       "      <td>6.1</td>\n",
       "      <td>1.3</td>\n",
       "      <td>3.7</td>\n",
       "      <td>19.0</td>\n",
       "      <td>0.0</td>\n",
       "      <td>19.0</td>\n",
       "      <td>13</td>\n",
       "      <td>13</td>\n",
       "      <td>2016</td>\n",
       "      <td>1</td>\n",
       "      <td>10</td>\n",
       "    </tr>\n",
       "    <tr>\n",
       "      <th>802</th>\n",
       "      <td>2016-03-13</td>\n",
       "      <td>9.0</td>\n",
       "      <td>0.7</td>\n",
       "      <td>4.9</td>\n",
       "      <td>0.0</td>\n",
       "      <td>0.0</td>\n",
       "      <td>0.0</td>\n",
       "      <td>10</td>\n",
       "      <td>12</td>\n",
       "      <td>2016</td>\n",
       "      <td>3</td>\n",
       "      <td>13</td>\n",
       "    </tr>\n",
       "    <tr>\n",
       "      <th>943</th>\n",
       "      <td>2016-08-01</td>\n",
       "      <td>29.5</td>\n",
       "      <td>18.0</td>\n",
       "      <td>23.8</td>\n",
       "      <td>0.0</td>\n",
       "      <td>0.0</td>\n",
       "      <td>0.0</td>\n",
       "      <td>0</td>\n",
       "      <td>12</td>\n",
       "      <td>2016</td>\n",
       "      <td>8</td>\n",
       "      <td>1</td>\n",
       "    </tr>\n",
       "    <tr>\n",
       "      <th>1012</th>\n",
       "      <td>2016-10-09</td>\n",
       "      <td>11.5</td>\n",
       "      <td>6.0</td>\n",
       "      <td>8.8</td>\n",
       "      <td>0.0</td>\n",
       "      <td>0.0</td>\n",
       "      <td>0.0</td>\n",
       "      <td>0</td>\n",
       "      <td>8</td>\n",
       "      <td>2016</td>\n",
       "      <td>10</td>\n",
       "      <td>9</td>\n",
       "    </tr>\n",
       "  </tbody>\n",
       "</table>\n",
       "<p>366 rows × 12 columns</p>\n",
       "</div>"
      ],
      "text/plain": [
       "           Date  Max Temp (°C)  Min Temp (°C)  Mean Temp (°C)  \\\n",
       "777  2016-02-17            0.1          -11.2            -5.6   \n",
       "826  2016-04-06            1.5           -5.0            -1.8   \n",
       "778  2016-02-18           -7.2          -22.0           -14.6   \n",
       "785  2016-02-25            1.5           -1.2             0.2   \n",
       "776  2016-02-16           -3.8          -11.8            -7.8   \n",
       "1069 2016-12-05           -0.5           -5.0            -2.8   \n",
       "1073 2016-12-09           -4.0           -6.5            -5.3   \n",
       "1072 2016-12-08            1.5           -0.5             0.5   \n",
       "813  2016-03-24           -0.5           -7.0            -3.8   \n",
       "1081 2016-12-17           -6.0          -18.5           -12.3   \n",
       "...         ...            ...            ...             ...   \n",
       "912  2016-07-01           27.0           12.0            19.5   \n",
       "921  2016-07-10           21.5           14.5            18.0   \n",
       "1089 2016-12-25           -5.0           -7.0            -6.0   \n",
       "1061 2016-11-27            1.0            0.0             0.5   \n",
       "893  2016-06-12           13.0            8.5            10.8   \n",
       "1046 2016-11-12            7.5           -2.5             2.5   \n",
       "739  2016-01-10            6.1            1.3             3.7   \n",
       "802  2016-03-13            9.0            0.7             4.9   \n",
       "943  2016-08-01           29.5           18.0            23.8   \n",
       "1012 2016-10-09           11.5            6.0             8.8   \n",
       "\n",
       "      Total Rain (mm)  Total Snow (cm)  Total Precip (mm)  Snow on Grnd (cm)  \\\n",
       "777               0.0              0.4                0.4                 40   \n",
       "826               2.0             18.0               16.4                  0   \n",
       "778               0.0              0.0                0.0                 38   \n",
       "785               1.4              1.0                2.2                 24   \n",
       "776               0.0             37.0               35.3                 14   \n",
       "1069              0.0              1.4                0.8                  3   \n",
       "1073              0.0              0.0                0.0                  2   \n",
       "1072              0.0              2.2                2.0                  2   \n",
       "813               9.4              5.0               14.4                  0   \n",
       "1081              3.0              9.6               13.0                 16   \n",
       "...               ...              ...                ...                ...   \n",
       "912              12.6              0.0               12.6                  0   \n",
       "921               0.0              0.0                0.0                  0   \n",
       "1089              0.0              0.0                0.0                 16   \n",
       "1061              0.0              0.0                0.0                  1   \n",
       "893               0.0              0.0                0.0                  0   \n",
       "1046              0.0              0.0                0.0                  0   \n",
       "739              19.0              0.0               19.0                 13   \n",
       "802               0.0              0.0                0.0                 10   \n",
       "943               0.0              0.0                0.0                  0   \n",
       "1012              0.0              0.0                0.0                  0   \n",
       "\n",
       "      Number of Collisions  Year  Month  Day in month  \n",
       "777                    152  2016      2            17  \n",
       "826                    123  2016      4             6  \n",
       "778                    117  2016      2            18  \n",
       "785                    104  2016      2            25  \n",
       "776                     94  2016      2            16  \n",
       "1069                    92  2016     12             5  \n",
       "1073                    91  2016     12             9  \n",
       "1072                    87  2016     12             8  \n",
       "813                     83  2016      3            24  \n",
       "1081                    80  2016     12            17  \n",
       "...                    ...   ...    ...           ...  \n",
       "912                     14  2016      7             1  \n",
       "921                     14  2016      7            10  \n",
       "1089                    13  2016     12            25  \n",
       "1061                    13  2016     11            27  \n",
       "893                     13  2016      6            12  \n",
       "1046                    13  2016     11            12  \n",
       "739                     13  2016      1            10  \n",
       "802                     12  2016      3            13  \n",
       "943                     12  2016      8             1  \n",
       "1012                     8  2016     10             9  \n",
       "\n",
       "[366 rows x 12 columns]"
      ]
     },
     "execution_count": 12,
     "metadata": {},
     "output_type": "execute_result"
    }
   ],
   "source": [
    "wt1417[wt1417[\"Year\"]==2016].sort_values([\"Number of Collisions\"], ascending=[0])"
   ]
  },
  {
   "cell_type": "code",
   "execution_count": 13,
   "metadata": {},
   "outputs": [
    {
     "data": {
      "text/html": [
       "<div>\n",
       "<style scoped>\n",
       "    .dataframe tbody tr th:only-of-type {\n",
       "        vertical-align: middle;\n",
       "    }\n",
       "\n",
       "    .dataframe tbody tr th {\n",
       "        vertical-align: top;\n",
       "    }\n",
       "\n",
       "    .dataframe thead th {\n",
       "        text-align: right;\n",
       "    }\n",
       "</style>\n",
       "<table border=\"1\" class=\"dataframe\">\n",
       "  <thead>\n",
       "    <tr style=\"text-align: right;\">\n",
       "      <th></th>\n",
       "      <th>Date</th>\n",
       "      <th>Max Temp (°C)</th>\n",
       "      <th>Min Temp (°C)</th>\n",
       "      <th>Mean Temp (°C)</th>\n",
       "      <th>Total Rain (mm)</th>\n",
       "      <th>Total Snow (cm)</th>\n",
       "      <th>Total Precip (mm)</th>\n",
       "      <th>Snow on Grnd (cm)</th>\n",
       "      <th>Number of Collisions</th>\n",
       "      <th>Year</th>\n",
       "      <th>Month</th>\n",
       "      <th>Day in month</th>\n",
       "    </tr>\n",
       "  </thead>\n",
       "  <tbody>\n",
       "    <tr>\n",
       "      <th>1178</th>\n",
       "      <td>2017-03-24</td>\n",
       "      <td>1.0</td>\n",
       "      <td>-4.0</td>\n",
       "      <td>-1.5</td>\n",
       "      <td>6.0</td>\n",
       "      <td>7.0</td>\n",
       "      <td>12.6</td>\n",
       "      <td>17</td>\n",
       "      <td>134</td>\n",
       "      <td>2017</td>\n",
       "      <td>3</td>\n",
       "      <td>24</td>\n",
       "    </tr>\n",
       "    <tr>\n",
       "      <th>1141</th>\n",
       "      <td>2017-02-15</td>\n",
       "      <td>-0.5</td>\n",
       "      <td>-6.0</td>\n",
       "      <td>-3.3</td>\n",
       "      <td>0.0</td>\n",
       "      <td>3.0</td>\n",
       "      <td>2.0</td>\n",
       "      <td>66</td>\n",
       "      <td>113</td>\n",
       "      <td>2017</td>\n",
       "      <td>2</td>\n",
       "      <td>15</td>\n",
       "    </tr>\n",
       "    <tr>\n",
       "      <th>1441</th>\n",
       "      <td>2017-12-12</td>\n",
       "      <td>-6.0</td>\n",
       "      <td>-12.5</td>\n",
       "      <td>-9.3</td>\n",
       "      <td>0.0</td>\n",
       "      <td>8.6</td>\n",
       "      <td>5.2</td>\n",
       "      <td>4</td>\n",
       "      <td>109</td>\n",
       "      <td>2017</td>\n",
       "      <td>12</td>\n",
       "      <td>12</td>\n",
       "    </tr>\n",
       "    <tr>\n",
       "      <th>1443</th>\n",
       "      <td>2017-12-14</td>\n",
       "      <td>-14.0</td>\n",
       "      <td>-19.5</td>\n",
       "      <td>-16.8</td>\n",
       "      <td>0.0</td>\n",
       "      <td>0.0</td>\n",
       "      <td>0.0</td>\n",
       "      <td>9</td>\n",
       "      <td>106</td>\n",
       "      <td>2017</td>\n",
       "      <td>12</td>\n",
       "      <td>14</td>\n",
       "    </tr>\n",
       "    <tr>\n",
       "      <th>1425</th>\n",
       "      <td>2017-11-26</td>\n",
       "      <td>-0.5</td>\n",
       "      <td>-5.0</td>\n",
       "      <td>-2.8</td>\n",
       "      <td>0.0</td>\n",
       "      <td>6.4</td>\n",
       "      <td>2.6</td>\n",
       "      <td>0</td>\n",
       "      <td>93</td>\n",
       "      <td>2017</td>\n",
       "      <td>11</td>\n",
       "      <td>26</td>\n",
       "    </tr>\n",
       "    <tr>\n",
       "      <th>1444</th>\n",
       "      <td>2017-12-15</td>\n",
       "      <td>-11.0</td>\n",
       "      <td>-22.5</td>\n",
       "      <td>-16.8</td>\n",
       "      <td>0.0</td>\n",
       "      <td>4.0</td>\n",
       "      <td>2.4</td>\n",
       "      <td>8</td>\n",
       "      <td>85</td>\n",
       "      <td>2017</td>\n",
       "      <td>12</td>\n",
       "      <td>15</td>\n",
       "    </tr>\n",
       "    <tr>\n",
       "      <th>1447</th>\n",
       "      <td>2017-12-18</td>\n",
       "      <td>-8.5</td>\n",
       "      <td>-17.5</td>\n",
       "      <td>-13.0</td>\n",
       "      <td>0.0</td>\n",
       "      <td>8.0</td>\n",
       "      <td>7.4</td>\n",
       "      <td>11</td>\n",
       "      <td>82</td>\n",
       "      <td>2017</td>\n",
       "      <td>12</td>\n",
       "      <td>18</td>\n",
       "    </tr>\n",
       "    <tr>\n",
       "      <th>1100</th>\n",
       "      <td>2017-01-05</td>\n",
       "      <td>-6.0</td>\n",
       "      <td>-13.5</td>\n",
       "      <td>-9.8</td>\n",
       "      <td>0.0</td>\n",
       "      <td>0.0</td>\n",
       "      <td>0.0</td>\n",
       "      <td>32</td>\n",
       "      <td>78</td>\n",
       "      <td>2017</td>\n",
       "      <td>1</td>\n",
       "      <td>5</td>\n",
       "    </tr>\n",
       "    <tr>\n",
       "      <th>1142</th>\n",
       "      <td>2017-02-16</td>\n",
       "      <td>-3.0</td>\n",
       "      <td>-8.5</td>\n",
       "      <td>-5.8</td>\n",
       "      <td>0.0</td>\n",
       "      <td>0.0</td>\n",
       "      <td>0.0</td>\n",
       "      <td>64</td>\n",
       "      <td>77</td>\n",
       "      <td>2017</td>\n",
       "      <td>2</td>\n",
       "      <td>16</td>\n",
       "    </tr>\n",
       "    <tr>\n",
       "      <th>1168</th>\n",
       "      <td>2017-03-14</td>\n",
       "      <td>-8.0</td>\n",
       "      <td>-11.0</td>\n",
       "      <td>-9.5</td>\n",
       "      <td>0.0</td>\n",
       "      <td>18.0</td>\n",
       "      <td>9.4</td>\n",
       "      <td>11</td>\n",
       "      <td>75</td>\n",
       "      <td>2017</td>\n",
       "      <td>3</td>\n",
       "      <td>14</td>\n",
       "    </tr>\n",
       "    <tr>\n",
       "      <th>...</th>\n",
       "      <td>...</td>\n",
       "      <td>...</td>\n",
       "      <td>...</td>\n",
       "      <td>...</td>\n",
       "      <td>...</td>\n",
       "      <td>...</td>\n",
       "      <td>...</td>\n",
       "      <td>...</td>\n",
       "      <td>...</td>\n",
       "      <td>...</td>\n",
       "      <td>...</td>\n",
       "      <td>...</td>\n",
       "    </tr>\n",
       "    <tr>\n",
       "      <th>1314</th>\n",
       "      <td>2017-08-07</td>\n",
       "      <td>22.0</td>\n",
       "      <td>12.0</td>\n",
       "      <td>17.0</td>\n",
       "      <td>0.0</td>\n",
       "      <td>0.0</td>\n",
       "      <td>0.0</td>\n",
       "      <td>0</td>\n",
       "      <td>16</td>\n",
       "      <td>2017</td>\n",
       "      <td>8</td>\n",
       "      <td>7</td>\n",
       "    </tr>\n",
       "    <tr>\n",
       "      <th>1306</th>\n",
       "      <td>2017-07-30</td>\n",
       "      <td>29.0</td>\n",
       "      <td>11.5</td>\n",
       "      <td>20.3</td>\n",
       "      <td>0.0</td>\n",
       "      <td>0.0</td>\n",
       "      <td>0.0</td>\n",
       "      <td>0</td>\n",
       "      <td>16</td>\n",
       "      <td>2017</td>\n",
       "      <td>7</td>\n",
       "      <td>30</td>\n",
       "    </tr>\n",
       "    <tr>\n",
       "      <th>1167</th>\n",
       "      <td>2017-03-13</td>\n",
       "      <td>-8.5</td>\n",
       "      <td>-16.5</td>\n",
       "      <td>-12.5</td>\n",
       "      <td>0.0</td>\n",
       "      <td>0.0</td>\n",
       "      <td>0.0</td>\n",
       "      <td>11</td>\n",
       "      <td>16</td>\n",
       "      <td>2017</td>\n",
       "      <td>3</td>\n",
       "      <td>13</td>\n",
       "    </tr>\n",
       "    <tr>\n",
       "      <th>1180</th>\n",
       "      <td>2017-03-26</td>\n",
       "      <td>1.0</td>\n",
       "      <td>-6.5</td>\n",
       "      <td>-2.8</td>\n",
       "      <td>2.0</td>\n",
       "      <td>0.0</td>\n",
       "      <td>2.0</td>\n",
       "      <td>20</td>\n",
       "      <td>16</td>\n",
       "      <td>2017</td>\n",
       "      <td>3</td>\n",
       "      <td>26</td>\n",
       "    </tr>\n",
       "    <tr>\n",
       "      <th>1377</th>\n",
       "      <td>2017-10-09</td>\n",
       "      <td>18.0</td>\n",
       "      <td>12.5</td>\n",
       "      <td>15.3</td>\n",
       "      <td>6.4</td>\n",
       "      <td>0.0</td>\n",
       "      <td>6.4</td>\n",
       "      <td>0</td>\n",
       "      <td>15</td>\n",
       "      <td>2017</td>\n",
       "      <td>10</td>\n",
       "      <td>9</td>\n",
       "    </tr>\n",
       "    <tr>\n",
       "      <th>1292</th>\n",
       "      <td>2017-07-16</td>\n",
       "      <td>26.5</td>\n",
       "      <td>18.0</td>\n",
       "      <td>22.3</td>\n",
       "      <td>1.0</td>\n",
       "      <td>0.0</td>\n",
       "      <td>1.0</td>\n",
       "      <td>0</td>\n",
       "      <td>15</td>\n",
       "      <td>2017</td>\n",
       "      <td>7</td>\n",
       "      <td>16</td>\n",
       "    </tr>\n",
       "    <tr>\n",
       "      <th>1117</th>\n",
       "      <td>2017-01-22</td>\n",
       "      <td>2.5</td>\n",
       "      <td>0.5</td>\n",
       "      <td>1.5</td>\n",
       "      <td>0.0</td>\n",
       "      <td>0.0</td>\n",
       "      <td>0.0</td>\n",
       "      <td>20</td>\n",
       "      <td>14</td>\n",
       "      <td>2017</td>\n",
       "      <td>1</td>\n",
       "      <td>22</td>\n",
       "    </tr>\n",
       "    <tr>\n",
       "      <th>1096</th>\n",
       "      <td>2017-01-01</td>\n",
       "      <td>-3.0</td>\n",
       "      <td>-10.0</td>\n",
       "      <td>-6.5</td>\n",
       "      <td>0.0</td>\n",
       "      <td>0.0</td>\n",
       "      <td>0.0</td>\n",
       "      <td>23</td>\n",
       "      <td>14</td>\n",
       "      <td>2017</td>\n",
       "      <td>1</td>\n",
       "      <td>1</td>\n",
       "    </tr>\n",
       "    <tr>\n",
       "      <th>1152</th>\n",
       "      <td>2017-02-26</td>\n",
       "      <td>2.5</td>\n",
       "      <td>-7.0</td>\n",
       "      <td>-2.3</td>\n",
       "      <td>0.0</td>\n",
       "      <td>0.0</td>\n",
       "      <td>0.0</td>\n",
       "      <td>20</td>\n",
       "      <td>13</td>\n",
       "      <td>2017</td>\n",
       "      <td>2</td>\n",
       "      <td>26</td>\n",
       "    </tr>\n",
       "    <tr>\n",
       "      <th>1202</th>\n",
       "      <td>2017-04-17</td>\n",
       "      <td>7.0</td>\n",
       "      <td>4.5</td>\n",
       "      <td>5.8</td>\n",
       "      <td>0.0</td>\n",
       "      <td>0.0</td>\n",
       "      <td>0.0</td>\n",
       "      <td>0</td>\n",
       "      <td>13</td>\n",
       "      <td>2017</td>\n",
       "      <td>4</td>\n",
       "      <td>17</td>\n",
       "    </tr>\n",
       "  </tbody>\n",
       "</table>\n",
       "<p>365 rows × 12 columns</p>\n",
       "</div>"
      ],
      "text/plain": [
       "           Date  Max Temp (°C)  Min Temp (°C)  Mean Temp (°C)  \\\n",
       "1178 2017-03-24            1.0           -4.0            -1.5   \n",
       "1141 2017-02-15           -0.5           -6.0            -3.3   \n",
       "1441 2017-12-12           -6.0          -12.5            -9.3   \n",
       "1443 2017-12-14          -14.0          -19.5           -16.8   \n",
       "1425 2017-11-26           -0.5           -5.0            -2.8   \n",
       "1444 2017-12-15          -11.0          -22.5           -16.8   \n",
       "1447 2017-12-18           -8.5          -17.5           -13.0   \n",
       "1100 2017-01-05           -6.0          -13.5            -9.8   \n",
       "1142 2017-02-16           -3.0           -8.5            -5.8   \n",
       "1168 2017-03-14           -8.0          -11.0            -9.5   \n",
       "...         ...            ...            ...             ...   \n",
       "1314 2017-08-07           22.0           12.0            17.0   \n",
       "1306 2017-07-30           29.0           11.5            20.3   \n",
       "1167 2017-03-13           -8.5          -16.5           -12.5   \n",
       "1180 2017-03-26            1.0           -6.5            -2.8   \n",
       "1377 2017-10-09           18.0           12.5            15.3   \n",
       "1292 2017-07-16           26.5           18.0            22.3   \n",
       "1117 2017-01-22            2.5            0.5             1.5   \n",
       "1096 2017-01-01           -3.0          -10.0            -6.5   \n",
       "1152 2017-02-26            2.5           -7.0            -2.3   \n",
       "1202 2017-04-17            7.0            4.5             5.8   \n",
       "\n",
       "      Total Rain (mm)  Total Snow (cm)  Total Precip (mm)  Snow on Grnd (cm)  \\\n",
       "1178              6.0              7.0               12.6                 17   \n",
       "1141              0.0              3.0                2.0                 66   \n",
       "1441              0.0              8.6                5.2                  4   \n",
       "1443              0.0              0.0                0.0                  9   \n",
       "1425              0.0              6.4                2.6                  0   \n",
       "1444              0.0              4.0                2.4                  8   \n",
       "1447              0.0              8.0                7.4                 11   \n",
       "1100              0.0              0.0                0.0                 32   \n",
       "1142              0.0              0.0                0.0                 64   \n",
       "1168              0.0             18.0                9.4                 11   \n",
       "...               ...              ...                ...                ...   \n",
       "1314              0.0              0.0                0.0                  0   \n",
       "1306              0.0              0.0                0.0                  0   \n",
       "1167              0.0              0.0                0.0                 11   \n",
       "1180              2.0              0.0                2.0                 20   \n",
       "1377              6.4              0.0                6.4                  0   \n",
       "1292              1.0              0.0                1.0                  0   \n",
       "1117              0.0              0.0                0.0                 20   \n",
       "1096              0.0              0.0                0.0                 23   \n",
       "1152              0.0              0.0                0.0                 20   \n",
       "1202              0.0              0.0                0.0                  0   \n",
       "\n",
       "      Number of Collisions  Year  Month  Day in month  \n",
       "1178                   134  2017      3            24  \n",
       "1141                   113  2017      2            15  \n",
       "1441                   109  2017     12            12  \n",
       "1443                   106  2017     12            14  \n",
       "1425                    93  2017     11            26  \n",
       "1444                    85  2017     12            15  \n",
       "1447                    82  2017     12            18  \n",
       "1100                    78  2017      1             5  \n",
       "1142                    77  2017      2            16  \n",
       "1168                    75  2017      3            14  \n",
       "...                    ...   ...    ...           ...  \n",
       "1314                    16  2017      8             7  \n",
       "1306                    16  2017      7            30  \n",
       "1167                    16  2017      3            13  \n",
       "1180                    16  2017      3            26  \n",
       "1377                    15  2017     10             9  \n",
       "1292                    15  2017      7            16  \n",
       "1117                    14  2017      1            22  \n",
       "1096                    14  2017      1             1  \n",
       "1152                    13  2017      2            26  \n",
       "1202                    13  2017      4            17  \n",
       "\n",
       "[365 rows x 12 columns]"
      ]
     },
     "execution_count": 13,
     "metadata": {},
     "output_type": "execute_result"
    }
   ],
   "source": [
    "wt1417[wt1417[\"Year\"]==2017].sort_values([\"Number of Collisions\"], ascending=[0])"
   ]
  },
  {
   "cell_type": "code",
   "execution_count": 21,
   "metadata": {},
   "outputs": [
    {
     "data": {
      "text/plain": [
       "count    1461.000000\n",
       "mean       39.930185\n",
       "std        17.559505\n",
       "min         8.000000\n",
       "25%        28.000000\n",
       "50%        38.000000\n",
       "75%        47.000000\n",
       "max       160.000000\n",
       "Name: Number of Collisions, dtype: float64"
      ]
     },
     "execution_count": 21,
     "metadata": {},
     "output_type": "execute_result"
    }
   ],
   "source": [
    "wt1417[\"Number of Collisions\"].describe()"
   ]
  }
 ],
 "metadata": {
  "kernelspec": {
   "display_name": "Python 2",
   "language": "python",
   "name": "python2"
  },
  "language_info": {
   "codemirror_mode": {
    "name": "ipython",
    "version": 2
   },
   "file_extension": ".py",
   "mimetype": "text/x-python",
   "name": "python",
   "nbconvert_exporter": "python",
   "pygments_lexer": "ipython2",
   "version": "2.7.5"
  }
 },
 "nbformat": 4,
 "nbformat_minor": 2
}
