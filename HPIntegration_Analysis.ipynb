{
 "cells": [
  {
   "cell_type": "code",
   "execution_count": 1,
   "metadata": {},
   "outputs": [
    {
     "data": {
      "text/html": [
       "<script>requirejs.config({paths: { 'plotly': ['https://cdn.plot.ly/plotly-latest.min']},});if(!window.Plotly) {{require(['plotly'],function(plotly) {window.Plotly=plotly;});}}</script>"
      ],
      "text/vnd.plotly.v1+html": [
       "<script>requirejs.config({paths: { 'plotly': ['https://cdn.plot.ly/plotly-latest.min']},});if(!window.Plotly) {{require(['plotly'],function(plotly) {window.Plotly=plotly;});}}</script>"
      ]
     },
     "metadata": {},
     "output_type": "display_data"
    }
   ],
   "source": [
    "import sys\n",
    "import warnings\n",
    "if not sys.warnoptions:\n",
    "    warnings.simplefilter(\"ignore\")\n",
    "\n",
    "%matplotlib  inline               \n",
    "import pandas as pd\n",
    "import numpy as np\n",
    "\n",
    "import plotly.graph_objs as go\n",
    "from plotly.offline import download_plotlyjs, init_notebook_mode, plot, iplot\n",
    "init_notebook_mode(connected=True)\n",
    "\n",
    "import folium\n",
    "import folium.plugins \n",
    "\n",
    "#pd.set_option('html', False)  \n",
    "# unknown error, skip this step\n",
    "pd.set_option('max_columns', 30)\n",
    "pd.set_option('max_rows', 20)"
   ]
  },
  {
   "cell_type": "markdown",
   "metadata": {},
   "source": [
    "## 1. Based on organzied csv files, get a table about all vehicle collisions from 2014 to 2017"
   ]
  },
  {
   "cell_type": "markdown",
   "metadata": {},
   "source": [
    "### 1.1 combine vehicle collisions csv files from 2014 to 2017 (in the order of time)"
   ]
  },
  {
   "cell_type": "code",
   "execution_count": 3,
   "metadata": {},
   "outputs": [
    {
     "data": {
      "text/html": [
       "<div>\n",
       "<style scoped>\n",
       "    .dataframe tbody tr th:only-of-type {\n",
       "        vertical-align: middle;\n",
       "    }\n",
       "\n",
       "    .dataframe tbody tr th {\n",
       "        vertical-align: top;\n",
       "    }\n",
       "\n",
       "    .dataframe thead th {\n",
       "        text-align: right;\n",
       "    }\n",
       "</style>\n",
       "<table border=\"1\" class=\"dataframe\">\n",
       "  <thead>\n",
       "    <tr style=\"text-align: right;\">\n",
       "      <th></th>\n",
       "      <th>Record</th>\n",
       "      <th>Location</th>\n",
       "      <th>Date</th>\n",
       "      <th>Time</th>\n",
       "      <th>Environment</th>\n",
       "      <th>Road_Surface</th>\n",
       "      <th>Traffic_Control</th>\n",
       "      <th>Collision_Location</th>\n",
       "      <th>Light</th>\n",
       "      <th>Collision_Classification</th>\n",
       "      <th>Impact_type</th>\n",
       "      <th>longitude</th>\n",
       "      <th>latitude</th>\n",
       "      <th>Year</th>\n",
       "      <th>Month</th>\n",
       "      <th>Day_Of_Week</th>\n",
       "    </tr>\n",
       "  </thead>\n",
       "  <tbody>\n",
       "    <tr>\n",
       "      <th>0</th>\n",
       "      <td>2014000001</td>\n",
       "      <td>RIDEAU ST @ WALLER ST</td>\n",
       "      <td>2014-02-21</td>\n",
       "      <td>06:07:00</td>\n",
       "      <td>02 - Rain</td>\n",
       "      <td>02 - Wet</td>\n",
       "      <td>01 - Traffic signal</td>\n",
       "      <td>03 - At intersection</td>\n",
       "      <td>07 - Dark</td>\n",
       "      <td>01 - Fatal injury</td>\n",
       "      <td>07 - SMV other</td>\n",
       "      <td>-75.688726</td>\n",
       "      <td>45.427533</td>\n",
       "      <td>2014</td>\n",
       "      <td>2</td>\n",
       "      <td>T5_Fri</td>\n",
       "    </tr>\n",
       "    <tr>\n",
       "      <th>1</th>\n",
       "      <td>2014000002</td>\n",
       "      <td>HINES RD btwn INNOVATION DR &amp; SOLANDT RD</td>\n",
       "      <td>2014-08-02</td>\n",
       "      <td>13:55:00</td>\n",
       "      <td>01 - Clear</td>\n",
       "      <td>01 - Dry</td>\n",
       "      <td>10 - No control</td>\n",
       "      <td>04 - At/near private drive</td>\n",
       "      <td>01 - Daylight</td>\n",
       "      <td>01 - Fatal injury</td>\n",
       "      <td>02 - Angle</td>\n",
       "      <td>-75.921033</td>\n",
       "      <td>45.343152</td>\n",
       "      <td>2014</td>\n",
       "      <td>8</td>\n",
       "      <td>T6_Sat</td>\n",
       "    </tr>\n",
       "    <tr>\n",
       "      <th>2</th>\n",
       "      <td>2014000003</td>\n",
       "      <td>LOGGERS WAY btwn KINGDON MINE RD &amp; GALETTA SID...</td>\n",
       "      <td>2014-06-20</td>\n",
       "      <td>23:15:00</td>\n",
       "      <td>01 - Clear</td>\n",
       "      <td>01 - Dry</td>\n",
       "      <td>10 - No control</td>\n",
       "      <td>01 - Non intersection</td>\n",
       "      <td>07 - Dark</td>\n",
       "      <td>01 - Fatal injury</td>\n",
       "      <td>07 - SMV other</td>\n",
       "      <td>-76.247045</td>\n",
       "      <td>45.438627</td>\n",
       "      <td>2014</td>\n",
       "      <td>6</td>\n",
       "      <td>T5_Fri</td>\n",
       "    </tr>\n",
       "    <tr>\n",
       "      <th>3</th>\n",
       "      <td>2014000004</td>\n",
       "      <td>MONTREAL RD @ BATHGATE DR/BURMA RD</td>\n",
       "      <td>2014-07-29</td>\n",
       "      <td>16:31:00</td>\n",
       "      <td>01 - Clear</td>\n",
       "      <td>01 - Dry</td>\n",
       "      <td>01 - Traffic signal</td>\n",
       "      <td>03 - At intersection</td>\n",
       "      <td>01 - Daylight</td>\n",
       "      <td>01 - Fatal injury</td>\n",
       "      <td>05 - Turning movement</td>\n",
       "      <td>-75.625271</td>\n",
       "      <td>45.447248</td>\n",
       "      <td>2014</td>\n",
       "      <td>7</td>\n",
       "      <td>T2_Tue</td>\n",
       "    </tr>\n",
       "    <tr>\n",
       "      <th>4</th>\n",
       "      <td>2014000005</td>\n",
       "      <td>RICHMOND RD btwn FALLOWFIELD RD &amp; RUSHMORE RD</td>\n",
       "      <td>2014-08-05</td>\n",
       "      <td>20:05:00</td>\n",
       "      <td>01 - Clear</td>\n",
       "      <td>01 - Dry</td>\n",
       "      <td>10 - No control</td>\n",
       "      <td>01 - Non intersection</td>\n",
       "      <td>05 - Dusk</td>\n",
       "      <td>01 - Fatal injury</td>\n",
       "      <td>07 - SMV other</td>\n",
       "      <td>-75.820252</td>\n",
       "      <td>45.251073</td>\n",
       "      <td>2014</td>\n",
       "      <td>8</td>\n",
       "      <td>T2_Tue</td>\n",
       "    </tr>\n",
       "    <tr>\n",
       "      <th>5</th>\n",
       "      <td>2014000006</td>\n",
       "      <td>PARKDALE AVE btwn RUSKIN ST &amp; INGLEWOOD PL</td>\n",
       "      <td>2014-04-19</td>\n",
       "      <td>10:22:00</td>\n",
       "      <td>01 - Clear</td>\n",
       "      <td>01 - Dry</td>\n",
       "      <td>10 - No control</td>\n",
       "      <td>01 - Non intersection</td>\n",
       "      <td>01 - Daylight</td>\n",
       "      <td>01 - Fatal injury</td>\n",
       "      <td>06 - SMV unattended vehicle</td>\n",
       "      <td>-75.724021</td>\n",
       "      <td>45.392357</td>\n",
       "      <td>2014</td>\n",
       "      <td>4</td>\n",
       "      <td>T6_Sat</td>\n",
       "    </tr>\n",
       "    <tr>\n",
       "      <th>6</th>\n",
       "      <td>2014000007</td>\n",
       "      <td>CARLING AVE/STATION RD @ MARCH RD</td>\n",
       "      <td>2014-07-27</td>\n",
       "      <td>13:10:00</td>\n",
       "      <td>01 - Clear</td>\n",
       "      <td>01 - Dry</td>\n",
       "      <td>01 - Traffic signal</td>\n",
       "      <td>02 - Intersection related</td>\n",
       "      <td>01 - Daylight</td>\n",
       "      <td>01 - Fatal injury</td>\n",
       "      <td>99 - Other</td>\n",
       "      <td>-75.911687</td>\n",
       "      <td>45.338652</td>\n",
       "      <td>2014</td>\n",
       "      <td>7</td>\n",
       "      <td>T7_Sun</td>\n",
       "    </tr>\n",
       "    <tr>\n",
       "      <th>7</th>\n",
       "      <td>2014000008</td>\n",
       "      <td>CATHERINE ST @ KENT ST</td>\n",
       "      <td>2014-08-12</td>\n",
       "      <td>22:18:00</td>\n",
       "      <td>02 - Rain</td>\n",
       "      <td>02 - Wet</td>\n",
       "      <td>01 - Traffic signal</td>\n",
       "      <td>03 - At intersection</td>\n",
       "      <td>07 - Dark</td>\n",
       "      <td>01 - Fatal injury</td>\n",
       "      <td>07 - SMV other</td>\n",
       "      <td>-75.693767</td>\n",
       "      <td>45.408797</td>\n",
       "      <td>2014</td>\n",
       "      <td>8</td>\n",
       "      <td>T2_Tue</td>\n",
       "    </tr>\n",
       "    <tr>\n",
       "      <th>8</th>\n",
       "      <td>2014000009</td>\n",
       "      <td>DOYLE RD @ RIVER RD</td>\n",
       "      <td>2014-09-06</td>\n",
       "      <td>10:58:00</td>\n",
       "      <td>02 - Rain</td>\n",
       "      <td>02 - Wet</td>\n",
       "      <td>02 - Stop sign</td>\n",
       "      <td>02 - Intersection related</td>\n",
       "      <td>01 - Daylight</td>\n",
       "      <td>01 - Fatal injury</td>\n",
       "      <td>04 - Sideswipe</td>\n",
       "      <td>-75.622802</td>\n",
       "      <td>45.171309</td>\n",
       "      <td>2014</td>\n",
       "      <td>9</td>\n",
       "      <td>T6_Sat</td>\n",
       "    </tr>\n",
       "    <tr>\n",
       "      <th>9</th>\n",
       "      <td>2014000010</td>\n",
       "      <td>KATIMAVIK RD btwn PEARY WAY &amp; CHIMO DR</td>\n",
       "      <td>2014-04-22</td>\n",
       "      <td>16:17:00</td>\n",
       "      <td>01 - Clear</td>\n",
       "      <td>01 - Dry</td>\n",
       "      <td>10 - No control</td>\n",
       "      <td>01 - Non intersection</td>\n",
       "      <td>01 - Daylight</td>\n",
       "      <td>01 - Fatal injury</td>\n",
       "      <td>07 - SMV other</td>\n",
       "      <td>-75.886024</td>\n",
       "      <td>45.314923</td>\n",
       "      <td>2014</td>\n",
       "      <td>4</td>\n",
       "      <td>T2_Tue</td>\n",
       "    </tr>\n",
       "    <tr>\n",
       "      <th>...</th>\n",
       "      <td>...</td>\n",
       "      <td>...</td>\n",
       "      <td>...</td>\n",
       "      <td>...</td>\n",
       "      <td>...</td>\n",
       "      <td>...</td>\n",
       "      <td>...</td>\n",
       "      <td>...</td>\n",
       "      <td>...</td>\n",
       "      <td>...</td>\n",
       "      <td>...</td>\n",
       "      <td>...</td>\n",
       "      <td>...</td>\n",
       "      <td>...</td>\n",
       "      <td>...</td>\n",
       "      <td>...</td>\n",
       "    </tr>\n",
       "    <tr>\n",
       "      <th>58328</th>\n",
       "      <td>2017014385</td>\n",
       "      <td>YORK ST EB btwn TO BE DETERMINED &amp; CUMBERLAND ST</td>\n",
       "      <td>2017-03-15</td>\n",
       "      <td>10:29:00</td>\n",
       "      <td>03 - Snow</td>\n",
       "      <td>03 - Loose snow</td>\n",
       "      <td>10 - No control</td>\n",
       "      <td>04 - At/near private drive</td>\n",
       "      <td>01 - Daylight</td>\n",
       "      <td>03 - P.D. only</td>\n",
       "      <td>06 - SMV unattended vehicle</td>\n",
       "      <td>-75.689540</td>\n",
       "      <td>45.429505</td>\n",
       "      <td>2017</td>\n",
       "      <td>3</td>\n",
       "      <td>T3_Wed</td>\n",
       "    </tr>\n",
       "    <tr>\n",
       "      <th>58329</th>\n",
       "      <td>2017014386</td>\n",
       "      <td>YORK ST WB btwn BYWARD MARKE SQ &amp; SUSSEX DR</td>\n",
       "      <td>2017-06-25</td>\n",
       "      <td>2:04:00</td>\n",
       "      <td>01 - Clear</td>\n",
       "      <td>01 - Dry</td>\n",
       "      <td>10 - No control</td>\n",
       "      <td>01 - Non intersection</td>\n",
       "      <td>07 - Dark</td>\n",
       "      <td>02 - Non-fatal injury</td>\n",
       "      <td>07 - SMV other</td>\n",
       "      <td>-75.694544</td>\n",
       "      <td>45.427604</td>\n",
       "      <td>2017</td>\n",
       "      <td>6</td>\n",
       "      <td>T7_Sun</td>\n",
       "    </tr>\n",
       "    <tr>\n",
       "      <th>58330</th>\n",
       "      <td>2017014387</td>\n",
       "      <td>YORK ST WB btwn BYWARD MARKE SQ &amp; SUSSEX DR</td>\n",
       "      <td>2017-07-17</td>\n",
       "      <td>2:32:00</td>\n",
       "      <td>01 - Clear</td>\n",
       "      <td>01 - Dry</td>\n",
       "      <td>10 - No control</td>\n",
       "      <td>01 - Non intersection</td>\n",
       "      <td>07 - Dark</td>\n",
       "      <td>03 - P.D. only</td>\n",
       "      <td>07 - SMV other</td>\n",
       "      <td>-75.694788</td>\n",
       "      <td>45.427531</td>\n",
       "      <td>2017</td>\n",
       "      <td>7</td>\n",
       "      <td>T1_Mon</td>\n",
       "    </tr>\n",
       "    <tr>\n",
       "      <th>58331</th>\n",
       "      <td>2017014388</td>\n",
       "      <td>YORK ST WB btwn BYWARD MARKE SQ &amp; SUSSEX DR</td>\n",
       "      <td>2017-11-17</td>\n",
       "      <td>2:33:00</td>\n",
       "      <td>01 - Clear</td>\n",
       "      <td>01 - Dry</td>\n",
       "      <td>10 - No control</td>\n",
       "      <td>04 - At/near private drive</td>\n",
       "      <td>07 - Dark</td>\n",
       "      <td>02 - Non-fatal injury</td>\n",
       "      <td>07 - SMV other</td>\n",
       "      <td>-75.693855</td>\n",
       "      <td>45.427908</td>\n",
       "      <td>2017</td>\n",
       "      <td>11</td>\n",
       "      <td>T5_Fri</td>\n",
       "    </tr>\n",
       "    <tr>\n",
       "      <th>58332</th>\n",
       "      <td>2017014389</td>\n",
       "      <td>YORK ST WB btwn BYWARD MARKE SQ &amp; SUSSEX DR</td>\n",
       "      <td>2017-02-03</td>\n",
       "      <td>20:47:00</td>\n",
       "      <td>01 - Clear</td>\n",
       "      <td>01 - Dry</td>\n",
       "      <td>10 - No control</td>\n",
       "      <td>01 - Non intersection</td>\n",
       "      <td>07 - Dark</td>\n",
       "      <td>03 - P.D. only</td>\n",
       "      <td>02 - Angle</td>\n",
       "      <td>-75.693840</td>\n",
       "      <td>45.427903</td>\n",
       "      <td>2017</td>\n",
       "      <td>2</td>\n",
       "      <td>T5_Fri</td>\n",
       "    </tr>\n",
       "    <tr>\n",
       "      <th>58333</th>\n",
       "      <td>2017014390</td>\n",
       "      <td>YORK ST WB btwn BYWARD MARKE SQ &amp; SUSSEX DR</td>\n",
       "      <td>2017-03-25</td>\n",
       "      <td>13:11:00</td>\n",
       "      <td>01 - Clear</td>\n",
       "      <td>02 - Wet</td>\n",
       "      <td>10 - No control</td>\n",
       "      <td>04 - At/near private drive</td>\n",
       "      <td>01 - Daylight</td>\n",
       "      <td>03 - P.D. only</td>\n",
       "      <td>05 - Turning movement</td>\n",
       "      <td>-75.694409</td>\n",
       "      <td>45.427689</td>\n",
       "      <td>2017</td>\n",
       "      <td>3</td>\n",
       "      <td>T6_Sat</td>\n",
       "    </tr>\n",
       "    <tr>\n",
       "      <th>58334</th>\n",
       "      <td>2017014391</td>\n",
       "      <td>YORK ST WB btwn TO BE DETERMINED &amp; CUMBERLAND ST</td>\n",
       "      <td>2017-07-25</td>\n",
       "      <td>8:40:00</td>\n",
       "      <td>02 - Rain</td>\n",
       "      <td>02 - Wet</td>\n",
       "      <td>10 - No control</td>\n",
       "      <td>01 - Non intersection</td>\n",
       "      <td>01 - Daylight</td>\n",
       "      <td>03 - P.D. only</td>\n",
       "      <td>02 - Angle</td>\n",
       "      <td>-75.689545</td>\n",
       "      <td>45.429707</td>\n",
       "      <td>2017</td>\n",
       "      <td>7</td>\n",
       "      <td>T2_Tue</td>\n",
       "    </tr>\n",
       "    <tr>\n",
       "      <th>58335</th>\n",
       "      <td>2017014392</td>\n",
       "      <td>YORK ST WB btwn TO BE DETERMINED &amp; CUMBERLAND ST</td>\n",
       "      <td>2017-01-23</td>\n",
       "      <td>20:30:00</td>\n",
       "      <td>01 - Clear</td>\n",
       "      <td>01 - Dry</td>\n",
       "      <td>10 - No control</td>\n",
       "      <td>01 - Non intersection</td>\n",
       "      <td>07 - Dark</td>\n",
       "      <td>03 - P.D. only</td>\n",
       "      <td>06 - SMV unattended vehicle</td>\n",
       "      <td>-75.689421</td>\n",
       "      <td>45.429755</td>\n",
       "      <td>2017</td>\n",
       "      <td>1</td>\n",
       "      <td>T1_Mon</td>\n",
       "    </tr>\n",
       "    <tr>\n",
       "      <th>58336</th>\n",
       "      <td>2017014393</td>\n",
       "      <td>YORKS CORNERS RD btwn PANA RD &amp; VICTORIA ST</td>\n",
       "      <td>2017-07-18</td>\n",
       "      <td>18:03:00</td>\n",
       "      <td>01 - Clear</td>\n",
       "      <td>01 - Dry</td>\n",
       "      <td>10 - No control</td>\n",
       "      <td>01 - Non intersection</td>\n",
       "      <td>01 - Daylight</td>\n",
       "      <td>03 - P.D. only</td>\n",
       "      <td>07 - SMV other</td>\n",
       "      <td>-75.431838</td>\n",
       "      <td>45.258973</td>\n",
       "      <td>2017</td>\n",
       "      <td>7</td>\n",
       "      <td>T2_Tue</td>\n",
       "    </tr>\n",
       "    <tr>\n",
       "      <th>58337</th>\n",
       "      <td>2017014394</td>\n",
       "      <td>YORKS CORNERS RD btwn PARKWAY RD &amp; COOPER HILL RD</td>\n",
       "      <td>2017-03-23</td>\n",
       "      <td>16:21:00</td>\n",
       "      <td>01 - Clear</td>\n",
       "      <td>01 - Dry</td>\n",
       "      <td>10 - No control</td>\n",
       "      <td>01 - Non intersection</td>\n",
       "      <td>01 - Daylight</td>\n",
       "      <td>02 - Non-fatal injury</td>\n",
       "      <td>07 - SMV other</td>\n",
       "      <td>-75.453559</td>\n",
       "      <td>45.299801</td>\n",
       "      <td>2017</td>\n",
       "      <td>3</td>\n",
       "      <td>T4_Thu</td>\n",
       "    </tr>\n",
       "  </tbody>\n",
       "</table>\n",
       "<p>58338 rows × 16 columns</p>\n",
       "</div>"
      ],
      "text/plain": [
       "           Record                                           Location  \\\n",
       "0      2014000001                              RIDEAU ST @ WALLER ST   \n",
       "1      2014000002           HINES RD btwn INNOVATION DR & SOLANDT RD   \n",
       "2      2014000003  LOGGERS WAY btwn KINGDON MINE RD & GALETTA SID...   \n",
       "3      2014000004                 MONTREAL RD @ BATHGATE DR/BURMA RD   \n",
       "4      2014000005      RICHMOND RD btwn FALLOWFIELD RD & RUSHMORE RD   \n",
       "5      2014000006         PARKDALE AVE btwn RUSKIN ST & INGLEWOOD PL   \n",
       "6      2014000007                  CARLING AVE/STATION RD @ MARCH RD   \n",
       "7      2014000008                             CATHERINE ST @ KENT ST   \n",
       "8      2014000009                                DOYLE RD @ RIVER RD   \n",
       "9      2014000010             KATIMAVIK RD btwn PEARY WAY & CHIMO DR   \n",
       "...           ...                                                ...   \n",
       "58328  2017014385   YORK ST EB btwn TO BE DETERMINED & CUMBERLAND ST   \n",
       "58329  2017014386        YORK ST WB btwn BYWARD MARKE SQ & SUSSEX DR   \n",
       "58330  2017014387        YORK ST WB btwn BYWARD MARKE SQ & SUSSEX DR   \n",
       "58331  2017014388        YORK ST WB btwn BYWARD MARKE SQ & SUSSEX DR   \n",
       "58332  2017014389        YORK ST WB btwn BYWARD MARKE SQ & SUSSEX DR   \n",
       "58333  2017014390        YORK ST WB btwn BYWARD MARKE SQ & SUSSEX DR   \n",
       "58334  2017014391   YORK ST WB btwn TO BE DETERMINED & CUMBERLAND ST   \n",
       "58335  2017014392   YORK ST WB btwn TO BE DETERMINED & CUMBERLAND ST   \n",
       "58336  2017014393        YORKS CORNERS RD btwn PANA RD & VICTORIA ST   \n",
       "58337  2017014394  YORKS CORNERS RD btwn PARKWAY RD & COOPER HILL RD   \n",
       "\n",
       "            Date      Time Environment     Road_Surface      Traffic_Control  \\\n",
       "0     2014-02-21  06:07:00   02 - Rain         02 - Wet  01 - Traffic signal   \n",
       "1     2014-08-02  13:55:00  01 - Clear         01 - Dry      10 - No control   \n",
       "2     2014-06-20  23:15:00  01 - Clear         01 - Dry      10 - No control   \n",
       "3     2014-07-29  16:31:00  01 - Clear         01 - Dry  01 - Traffic signal   \n",
       "4     2014-08-05  20:05:00  01 - Clear         01 - Dry      10 - No control   \n",
       "5     2014-04-19  10:22:00  01 - Clear         01 - Dry      10 - No control   \n",
       "6     2014-07-27  13:10:00  01 - Clear         01 - Dry  01 - Traffic signal   \n",
       "7     2014-08-12  22:18:00   02 - Rain         02 - Wet  01 - Traffic signal   \n",
       "8     2014-09-06  10:58:00   02 - Rain         02 - Wet       02 - Stop sign   \n",
       "9     2014-04-22  16:17:00  01 - Clear         01 - Dry      10 - No control   \n",
       "...          ...       ...         ...              ...                  ...   \n",
       "58328 2017-03-15  10:29:00   03 - Snow  03 - Loose snow      10 - No control   \n",
       "58329 2017-06-25   2:04:00  01 - Clear         01 - Dry      10 - No control   \n",
       "58330 2017-07-17   2:32:00  01 - Clear         01 - Dry      10 - No control   \n",
       "58331 2017-11-17   2:33:00  01 - Clear         01 - Dry      10 - No control   \n",
       "58332 2017-02-03  20:47:00  01 - Clear         01 - Dry      10 - No control   \n",
       "58333 2017-03-25  13:11:00  01 - Clear         02 - Wet      10 - No control   \n",
       "58334 2017-07-25   8:40:00   02 - Rain         02 - Wet      10 - No control   \n",
       "58335 2017-01-23  20:30:00  01 - Clear         01 - Dry      10 - No control   \n",
       "58336 2017-07-18  18:03:00  01 - Clear         01 - Dry      10 - No control   \n",
       "58337 2017-03-23  16:21:00  01 - Clear         01 - Dry      10 - No control   \n",
       "\n",
       "               Collision_Location          Light Collision_Classification  \\\n",
       "0            03 - At intersection      07 - Dark        01 - Fatal injury   \n",
       "1      04 - At/near private drive  01 - Daylight        01 - Fatal injury   \n",
       "2           01 - Non intersection      07 - Dark        01 - Fatal injury   \n",
       "3            03 - At intersection  01 - Daylight        01 - Fatal injury   \n",
       "4           01 - Non intersection      05 - Dusk        01 - Fatal injury   \n",
       "5           01 - Non intersection  01 - Daylight        01 - Fatal injury   \n",
       "6       02 - Intersection related  01 - Daylight        01 - Fatal injury   \n",
       "7            03 - At intersection      07 - Dark        01 - Fatal injury   \n",
       "8       02 - Intersection related  01 - Daylight        01 - Fatal injury   \n",
       "9           01 - Non intersection  01 - Daylight        01 - Fatal injury   \n",
       "...                           ...            ...                      ...   \n",
       "58328  04 - At/near private drive  01 - Daylight           03 - P.D. only   \n",
       "58329       01 - Non intersection      07 - Dark    02 - Non-fatal injury   \n",
       "58330       01 - Non intersection      07 - Dark           03 - P.D. only   \n",
       "58331  04 - At/near private drive      07 - Dark    02 - Non-fatal injury   \n",
       "58332       01 - Non intersection      07 - Dark           03 - P.D. only   \n",
       "58333  04 - At/near private drive  01 - Daylight           03 - P.D. only   \n",
       "58334       01 - Non intersection  01 - Daylight           03 - P.D. only   \n",
       "58335       01 - Non intersection      07 - Dark           03 - P.D. only   \n",
       "58336       01 - Non intersection  01 - Daylight           03 - P.D. only   \n",
       "58337       01 - Non intersection  01 - Daylight    02 - Non-fatal injury   \n",
       "\n",
       "                       Impact_type  longitude   latitude  Year  Month  \\\n",
       "0                   07 - SMV other -75.688726  45.427533  2014      2   \n",
       "1                       02 - Angle -75.921033  45.343152  2014      8   \n",
       "2                   07 - SMV other -76.247045  45.438627  2014      6   \n",
       "3            05 - Turning movement -75.625271  45.447248  2014      7   \n",
       "4                   07 - SMV other -75.820252  45.251073  2014      8   \n",
       "5      06 - SMV unattended vehicle -75.724021  45.392357  2014      4   \n",
       "6                       99 - Other -75.911687  45.338652  2014      7   \n",
       "7                   07 - SMV other -75.693767  45.408797  2014      8   \n",
       "8                   04 - Sideswipe -75.622802  45.171309  2014      9   \n",
       "9                   07 - SMV other -75.886024  45.314923  2014      4   \n",
       "...                            ...        ...        ...   ...    ...   \n",
       "58328  06 - SMV unattended vehicle -75.689540  45.429505  2017      3   \n",
       "58329               07 - SMV other -75.694544  45.427604  2017      6   \n",
       "58330               07 - SMV other -75.694788  45.427531  2017      7   \n",
       "58331               07 - SMV other -75.693855  45.427908  2017     11   \n",
       "58332                   02 - Angle -75.693840  45.427903  2017      2   \n",
       "58333        05 - Turning movement -75.694409  45.427689  2017      3   \n",
       "58334                   02 - Angle -75.689545  45.429707  2017      7   \n",
       "58335  06 - SMV unattended vehicle -75.689421  45.429755  2017      1   \n",
       "58336               07 - SMV other -75.431838  45.258973  2017      7   \n",
       "58337               07 - SMV other -75.453559  45.299801  2017      3   \n",
       "\n",
       "      Day_Of_Week  \n",
       "0          T5_Fri  \n",
       "1          T6_Sat  \n",
       "2          T5_Fri  \n",
       "3          T2_Tue  \n",
       "4          T2_Tue  \n",
       "5          T6_Sat  \n",
       "6          T7_Sun  \n",
       "7          T2_Tue  \n",
       "8          T6_Sat  \n",
       "9          T2_Tue  \n",
       "...           ...  \n",
       "58328      T3_Wed  \n",
       "58329      T7_Sun  \n",
       "58330      T1_Mon  \n",
       "58331      T5_Fri  \n",
       "58332      T5_Fri  \n",
       "58333      T6_Sat  \n",
       "58334      T2_Tue  \n",
       "58335      T1_Mon  \n",
       "58336      T2_Tue  \n",
       "58337      T4_Thu  \n",
       "\n",
       "[58338 rows x 16 columns]"
      ]
     },
     "execution_count": 3,
     "metadata": {},
     "output_type": "execute_result"
    }
   ],
   "source": [
    "df_csv1417 = pd.DataFrame()\n",
    "\n",
    "for y in range(2014, 2018):\n",
    "    fname = \"collision%d.csv\" % (y)\n",
    "    tmp_df = pd.read_csv(fname)\n",
    "    tmp_df[\"Year\"] = y\n",
    "    df_csv1417 = df_csv1417.append(tmp_df, sort = False)\n",
    "\n",
    "df_csv1417.index = range(df_csv1417.shape[0])\n",
    "df_csv1417[\"Date\"] = pd.to_datetime(df_csv1417[\"Date\"])\n",
    "\n",
    "df_csv1417[\"Month\"] = df_csv1417[\"Date\"].apply(lambda x: x.month)\n",
    "\n",
    "def DayOfWeek(date):\n",
    "    dw = date.weekday()\n",
    "    rst = {\n",
    "        0: 'T1_Mon',\n",
    "        1: 'T2_Tue',\n",
    "        2: 'T3_Wed',\n",
    "        3: 'T4_Thu',\n",
    "        4: 'T5_Fri',\n",
    "        5: 'T6_Sat',\n",
    "        6: 'T7_Sun'\n",
    "    }[dw]\n",
    "    return rst\n",
    "\n",
    "df_csv1417[\"Day_Of_Week\"] = df_csv1417[\"Date\"].apply(lambda x: DayOfWeek(x))\n",
    "\n",
    "df_csv1417[\"Environment\"] = df_csv1417[\"Environment\"].astype(\"category\")\n",
    "df_csv1417[\"Road_Surface\"] = df_csv1417[\"Road_Surface\"].astype(\"category\")\n",
    "df_csv1417[\"Traffic_Control\"] = df_csv1417[\"Traffic_Control\"].astype(\"category\")\n",
    "df_csv1417[\"Collision_Location\"] = df_csv1417[\"Collision_Location\"].astype(\"category\")\n",
    "df_csv1417[\"Light\"] = df_csv1417[\"Light\"].astype(\"category\")\n",
    "df_csv1417[\"Collision_Classification\"] = df_csv1417[\"Collision_Classification\"].astype(\"category\")\n",
    "df_csv1417[\"Impact_type\"] = df_csv1417[\"Impact_type\"].astype(\"category\")\n",
    "\n",
    "df_csv1417"
   ]
  },
  {
   "cell_type": "markdown",
   "metadata": {},
   "source": [
    "### 1.2 append collision table with daily weather"
   ]
  },
  {
   "cell_type": "code",
   "execution_count": 4,
   "metadata": {
    "scrolled": false
   },
   "outputs": [
    {
     "data": {
      "text/html": [
       "<div>\n",
       "<style scoped>\n",
       "    .dataframe tbody tr th:only-of-type {\n",
       "        vertical-align: middle;\n",
       "    }\n",
       "\n",
       "    .dataframe tbody tr th {\n",
       "        vertical-align: top;\n",
       "    }\n",
       "\n",
       "    .dataframe thead th {\n",
       "        text-align: right;\n",
       "    }\n",
       "</style>\n",
       "<table border=\"1\" class=\"dataframe\">\n",
       "  <thead>\n",
       "    <tr style=\"text-align: right;\">\n",
       "      <th></th>\n",
       "      <th>Date</th>\n",
       "      <th>Max Temp (°C)</th>\n",
       "      <th>Min Temp (°C)</th>\n",
       "      <th>Mean Temp (°C)</th>\n",
       "      <th>Total Rain (mm)</th>\n",
       "      <th>Total Snow (cm)</th>\n",
       "      <th>Total Precip (mm)</th>\n",
       "      <th>Snow on Grnd (cm)</th>\n",
       "      <th>Number of Collisions</th>\n",
       "      <th>Year</th>\n",
       "      <th>Month</th>\n",
       "      <th>Day in month</th>\n",
       "    </tr>\n",
       "  </thead>\n",
       "  <tbody>\n",
       "    <tr>\n",
       "      <th>0</th>\n",
       "      <td>2014-01-01</td>\n",
       "      <td>-19.2</td>\n",
       "      <td>-23.0</td>\n",
       "      <td>-21.1</td>\n",
       "      <td>0.0</td>\n",
       "      <td>0.0</td>\n",
       "      <td>0.0</td>\n",
       "      <td>30</td>\n",
       "      <td>31</td>\n",
       "      <td>2014</td>\n",
       "      <td>1</td>\n",
       "      <td>1</td>\n",
       "    </tr>\n",
       "    <tr>\n",
       "      <th>1</th>\n",
       "      <td>2014-01-02</td>\n",
       "      <td>-20.8</td>\n",
       "      <td>-27.1</td>\n",
       "      <td>-24.0</td>\n",
       "      <td>0.0</td>\n",
       "      <td>0.0</td>\n",
       "      <td>0.0</td>\n",
       "      <td>29</td>\n",
       "      <td>74</td>\n",
       "      <td>2014</td>\n",
       "      <td>1</td>\n",
       "      <td>2</td>\n",
       "    </tr>\n",
       "    <tr>\n",
       "      <th>2</th>\n",
       "      <td>2014-01-03</td>\n",
       "      <td>-21.0</td>\n",
       "      <td>-28.1</td>\n",
       "      <td>-24.6</td>\n",
       "      <td>0.0</td>\n",
       "      <td>0.3</td>\n",
       "      <td>0.0</td>\n",
       "      <td>29</td>\n",
       "      <td>151</td>\n",
       "      <td>2014</td>\n",
       "      <td>1</td>\n",
       "      <td>3</td>\n",
       "    </tr>\n",
       "    <tr>\n",
       "      <th>3</th>\n",
       "      <td>2014-01-04</td>\n",
       "      <td>-8.5</td>\n",
       "      <td>-27.5</td>\n",
       "      <td>-18.0</td>\n",
       "      <td>0.0</td>\n",
       "      <td>7.5</td>\n",
       "      <td>2.6</td>\n",
       "      <td>29</td>\n",
       "      <td>51</td>\n",
       "      <td>2014</td>\n",
       "      <td>1</td>\n",
       "      <td>4</td>\n",
       "    </tr>\n",
       "    <tr>\n",
       "      <th>4</th>\n",
       "      <td>2014-01-05</td>\n",
       "      <td>5.8</td>\n",
       "      <td>-12.0</td>\n",
       "      <td>-3.1</td>\n",
       "      <td>13.2</td>\n",
       "      <td>5.5</td>\n",
       "      <td>18.6</td>\n",
       "      <td>36</td>\n",
       "      <td>52</td>\n",
       "      <td>2014</td>\n",
       "      <td>1</td>\n",
       "      <td>5</td>\n",
       "    </tr>\n",
       "    <tr>\n",
       "      <th>5</th>\n",
       "      <td>2014-01-06</td>\n",
       "      <td>5.8</td>\n",
       "      <td>-8.2</td>\n",
       "      <td>-1.2</td>\n",
       "      <td>0.0</td>\n",
       "      <td>0.0</td>\n",
       "      <td>0.0</td>\n",
       "      <td>31</td>\n",
       "      <td>36</td>\n",
       "      <td>2014</td>\n",
       "      <td>1</td>\n",
       "      <td>6</td>\n",
       "    </tr>\n",
       "    <tr>\n",
       "      <th>6</th>\n",
       "      <td>2014-01-07</td>\n",
       "      <td>-14.0</td>\n",
       "      <td>-17.9</td>\n",
       "      <td>-16.0</td>\n",
       "      <td>0.0</td>\n",
       "      <td>0.0</td>\n",
       "      <td>0.0</td>\n",
       "      <td>29</td>\n",
       "      <td>69</td>\n",
       "      <td>2014</td>\n",
       "      <td>1</td>\n",
       "      <td>7</td>\n",
       "    </tr>\n",
       "    <tr>\n",
       "      <th>7</th>\n",
       "      <td>2014-01-08</td>\n",
       "      <td>-9.5</td>\n",
       "      <td>-16.4</td>\n",
       "      <td>-13.0</td>\n",
       "      <td>0.0</td>\n",
       "      <td>0.0</td>\n",
       "      <td>0.0</td>\n",
       "      <td>29</td>\n",
       "      <td>71</td>\n",
       "      <td>2014</td>\n",
       "      <td>1</td>\n",
       "      <td>8</td>\n",
       "    </tr>\n",
       "    <tr>\n",
       "      <th>8</th>\n",
       "      <td>2014-01-09</td>\n",
       "      <td>-7.6</td>\n",
       "      <td>-14.7</td>\n",
       "      <td>-11.2</td>\n",
       "      <td>0.0</td>\n",
       "      <td>0.5</td>\n",
       "      <td>0.2</td>\n",
       "      <td>29</td>\n",
       "      <td>74</td>\n",
       "      <td>2014</td>\n",
       "      <td>1</td>\n",
       "      <td>9</td>\n",
       "    </tr>\n",
       "    <tr>\n",
       "      <th>9</th>\n",
       "      <td>2014-01-10</td>\n",
       "      <td>-1.5</td>\n",
       "      <td>-15.1</td>\n",
       "      <td>-8.3</td>\n",
       "      <td>0.0</td>\n",
       "      <td>0.0</td>\n",
       "      <td>0.0</td>\n",
       "      <td>29</td>\n",
       "      <td>36</td>\n",
       "      <td>2014</td>\n",
       "      <td>1</td>\n",
       "      <td>10</td>\n",
       "    </tr>\n",
       "    <tr>\n",
       "      <th>...</th>\n",
       "      <td>...</td>\n",
       "      <td>...</td>\n",
       "      <td>...</td>\n",
       "      <td>...</td>\n",
       "      <td>...</td>\n",
       "      <td>...</td>\n",
       "      <td>...</td>\n",
       "      <td>...</td>\n",
       "      <td>...</td>\n",
       "      <td>...</td>\n",
       "      <td>...</td>\n",
       "      <td>...</td>\n",
       "    </tr>\n",
       "    <tr>\n",
       "      <th>1451</th>\n",
       "      <td>2017-12-22</td>\n",
       "      <td>-8.5</td>\n",
       "      <td>-16.0</td>\n",
       "      <td>-12.3</td>\n",
       "      <td>0.0</td>\n",
       "      <td>0.0</td>\n",
       "      <td>0.0</td>\n",
       "      <td>14</td>\n",
       "      <td>57</td>\n",
       "      <td>2017</td>\n",
       "      <td>12</td>\n",
       "      <td>22</td>\n",
       "    </tr>\n",
       "    <tr>\n",
       "      <th>1452</th>\n",
       "      <td>2017-12-23</td>\n",
       "      <td>-6.5</td>\n",
       "      <td>-12.5</td>\n",
       "      <td>-9.5</td>\n",
       "      <td>0.0</td>\n",
       "      <td>4.0</td>\n",
       "      <td>3.8</td>\n",
       "      <td>13</td>\n",
       "      <td>75</td>\n",
       "      <td>2017</td>\n",
       "      <td>12</td>\n",
       "      <td>23</td>\n",
       "    </tr>\n",
       "    <tr>\n",
       "      <th>1453</th>\n",
       "      <td>2017-12-24</td>\n",
       "      <td>-6.0</td>\n",
       "      <td>-12.0</td>\n",
       "      <td>-9.0</td>\n",
       "      <td>0.0</td>\n",
       "      <td>4.0</td>\n",
       "      <td>4.0</td>\n",
       "      <td>18</td>\n",
       "      <td>28</td>\n",
       "      <td>2017</td>\n",
       "      <td>12</td>\n",
       "      <td>24</td>\n",
       "    </tr>\n",
       "    <tr>\n",
       "      <th>1454</th>\n",
       "      <td>2017-12-25</td>\n",
       "      <td>-5.5</td>\n",
       "      <td>-9.0</td>\n",
       "      <td>-7.3</td>\n",
       "      <td>0.0</td>\n",
       "      <td>1.0</td>\n",
       "      <td>0.4</td>\n",
       "      <td>22</td>\n",
       "      <td>31</td>\n",
       "      <td>2017</td>\n",
       "      <td>12</td>\n",
       "      <td>25</td>\n",
       "    </tr>\n",
       "    <tr>\n",
       "      <th>1455</th>\n",
       "      <td>2017-12-26</td>\n",
       "      <td>-13.0</td>\n",
       "      <td>-16.0</td>\n",
       "      <td>-14.5</td>\n",
       "      <td>0.0</td>\n",
       "      <td>0.0</td>\n",
       "      <td>0.0</td>\n",
       "      <td>21</td>\n",
       "      <td>44</td>\n",
       "      <td>2017</td>\n",
       "      <td>12</td>\n",
       "      <td>26</td>\n",
       "    </tr>\n",
       "    <tr>\n",
       "      <th>1456</th>\n",
       "      <td>2017-12-27</td>\n",
       "      <td>-20.0</td>\n",
       "      <td>-26.1</td>\n",
       "      <td>-23.1</td>\n",
       "      <td>0.0</td>\n",
       "      <td>0.0</td>\n",
       "      <td>0.0</td>\n",
       "      <td>20</td>\n",
       "      <td>62</td>\n",
       "      <td>2017</td>\n",
       "      <td>12</td>\n",
       "      <td>27</td>\n",
       "    </tr>\n",
       "    <tr>\n",
       "      <th>1457</th>\n",
       "      <td>2017-12-28</td>\n",
       "      <td>-20.3</td>\n",
       "      <td>-27.1</td>\n",
       "      <td>-23.7</td>\n",
       "      <td>0.0</td>\n",
       "      <td>0.0</td>\n",
       "      <td>0.0</td>\n",
       "      <td>20</td>\n",
       "      <td>73</td>\n",
       "      <td>2017</td>\n",
       "      <td>12</td>\n",
       "      <td>28</td>\n",
       "    </tr>\n",
       "    <tr>\n",
       "      <th>1458</th>\n",
       "      <td>2017-12-29</td>\n",
       "      <td>-17.5</td>\n",
       "      <td>-26.2</td>\n",
       "      <td>-21.9</td>\n",
       "      <td>0.0</td>\n",
       "      <td>0.0</td>\n",
       "      <td>0.0</td>\n",
       "      <td>20</td>\n",
       "      <td>63</td>\n",
       "      <td>2017</td>\n",
       "      <td>12</td>\n",
       "      <td>29</td>\n",
       "    </tr>\n",
       "    <tr>\n",
       "      <th>1459</th>\n",
       "      <td>2017-12-30</td>\n",
       "      <td>-16.0</td>\n",
       "      <td>-27.0</td>\n",
       "      <td>-21.5</td>\n",
       "      <td>0.0</td>\n",
       "      <td>1.0</td>\n",
       "      <td>0.4</td>\n",
       "      <td>19</td>\n",
       "      <td>47</td>\n",
       "      <td>2017</td>\n",
       "      <td>12</td>\n",
       "      <td>30</td>\n",
       "    </tr>\n",
       "    <tr>\n",
       "      <th>1460</th>\n",
       "      <td>2017-12-31</td>\n",
       "      <td>-19.5</td>\n",
       "      <td>-24.5</td>\n",
       "      <td>-22.0</td>\n",
       "      <td>0.0</td>\n",
       "      <td>0.0</td>\n",
       "      <td>0.0</td>\n",
       "      <td>20</td>\n",
       "      <td>43</td>\n",
       "      <td>2017</td>\n",
       "      <td>12</td>\n",
       "      <td>31</td>\n",
       "    </tr>\n",
       "  </tbody>\n",
       "</table>\n",
       "<p>1461 rows × 12 columns</p>\n",
       "</div>"
      ],
      "text/plain": [
       "           Date  Max Temp (°C)  Min Temp (°C)  Mean Temp (°C)  \\\n",
       "0    2014-01-01          -19.2          -23.0           -21.1   \n",
       "1    2014-01-02          -20.8          -27.1           -24.0   \n",
       "2    2014-01-03          -21.0          -28.1           -24.6   \n",
       "3    2014-01-04           -8.5          -27.5           -18.0   \n",
       "4    2014-01-05            5.8          -12.0            -3.1   \n",
       "5    2014-01-06            5.8           -8.2            -1.2   \n",
       "6    2014-01-07          -14.0          -17.9           -16.0   \n",
       "7    2014-01-08           -9.5          -16.4           -13.0   \n",
       "8    2014-01-09           -7.6          -14.7           -11.2   \n",
       "9    2014-01-10           -1.5          -15.1            -8.3   \n",
       "...         ...            ...            ...             ...   \n",
       "1451 2017-12-22           -8.5          -16.0           -12.3   \n",
       "1452 2017-12-23           -6.5          -12.5            -9.5   \n",
       "1453 2017-12-24           -6.0          -12.0            -9.0   \n",
       "1454 2017-12-25           -5.5           -9.0            -7.3   \n",
       "1455 2017-12-26          -13.0          -16.0           -14.5   \n",
       "1456 2017-12-27          -20.0          -26.1           -23.1   \n",
       "1457 2017-12-28          -20.3          -27.1           -23.7   \n",
       "1458 2017-12-29          -17.5          -26.2           -21.9   \n",
       "1459 2017-12-30          -16.0          -27.0           -21.5   \n",
       "1460 2017-12-31          -19.5          -24.5           -22.0   \n",
       "\n",
       "      Total Rain (mm)  Total Snow (cm)  Total Precip (mm)  Snow on Grnd (cm)  \\\n",
       "0                 0.0              0.0                0.0                 30   \n",
       "1                 0.0              0.0                0.0                 29   \n",
       "2                 0.0              0.3                0.0                 29   \n",
       "3                 0.0              7.5                2.6                 29   \n",
       "4                13.2              5.5               18.6                 36   \n",
       "5                 0.0              0.0                0.0                 31   \n",
       "6                 0.0              0.0                0.0                 29   \n",
       "7                 0.0              0.0                0.0                 29   \n",
       "8                 0.0              0.5                0.2                 29   \n",
       "9                 0.0              0.0                0.0                 29   \n",
       "...               ...              ...                ...                ...   \n",
       "1451              0.0              0.0                0.0                 14   \n",
       "1452              0.0              4.0                3.8                 13   \n",
       "1453              0.0              4.0                4.0                 18   \n",
       "1454              0.0              1.0                0.4                 22   \n",
       "1455              0.0              0.0                0.0                 21   \n",
       "1456              0.0              0.0                0.0                 20   \n",
       "1457              0.0              0.0                0.0                 20   \n",
       "1458              0.0              0.0                0.0                 20   \n",
       "1459              0.0              1.0                0.4                 19   \n",
       "1460              0.0              0.0                0.0                 20   \n",
       "\n",
       "      Number of Collisions  Year  Month  Day in month  \n",
       "0                       31  2014      1             1  \n",
       "1                       74  2014      1             2  \n",
       "2                      151  2014      1             3  \n",
       "3                       51  2014      1             4  \n",
       "4                       52  2014      1             5  \n",
       "5                       36  2014      1             6  \n",
       "6                       69  2014      1             7  \n",
       "7                       71  2014      1             8  \n",
       "8                       74  2014      1             9  \n",
       "9                       36  2014      1            10  \n",
       "...                    ...   ...    ...           ...  \n",
       "1451                    57  2017     12            22  \n",
       "1452                    75  2017     12            23  \n",
       "1453                    28  2017     12            24  \n",
       "1454                    31  2017     12            25  \n",
       "1455                    44  2017     12            26  \n",
       "1456                    62  2017     12            27  \n",
       "1457                    73  2017     12            28  \n",
       "1458                    63  2017     12            29  \n",
       "1459                    47  2017     12            30  \n",
       "1460                    43  2017     12            31  \n",
       "\n",
       "[1461 rows x 12 columns]"
      ]
     },
     "execution_count": 4,
     "metadata": {},
     "output_type": "execute_result"
    }
   ],
   "source": [
    "wt1417 = pd.read_csv(\"weather1417.csv\")\n",
    "\n",
    "casesByDay = df_csv1417.groupby(['Date']).size().tolist()\n",
    "wt1417[\"Number of Collisions\"] = casesByDay\n",
    "\n",
    "wt1417[\"Date\"] = pd.to_datetime(wt1417[\"Date\"])\n",
    "\n",
    "wt1417[\"Year\"] = wt1417[\"Date\"].apply(lambda x: x.year)\n",
    "wt1417[\"Month\"] = wt1417[\"Date\"].apply(lambda x: x.month)\n",
    "wt1417[\"Day in month\"] = wt1417[\"Date\"].apply(lambda x: x.day)\n",
    "\n",
    "wt1417"
   ]
  },
  {
   "cell_type": "markdown",
   "metadata": {},
   "source": [
    "### 1.3 mark holidays"
   ]
  },
  {
   "cell_type": "code",
   "execution_count": 5,
   "metadata": {},
   "outputs": [
    {
     "data": {
      "text/html": [
       "<div>\n",
       "<style scoped>\n",
       "    .dataframe tbody tr th:only-of-type {\n",
       "        vertical-align: middle;\n",
       "    }\n",
       "\n",
       "    .dataframe tbody tr th {\n",
       "        vertical-align: top;\n",
       "    }\n",
       "\n",
       "    .dataframe thead th {\n",
       "        text-align: right;\n",
       "    }\n",
       "</style>\n",
       "<table border=\"1\" class=\"dataframe\">\n",
       "  <thead>\n",
       "    <tr style=\"text-align: right;\">\n",
       "      <th></th>\n",
       "      <th>Date</th>\n",
       "      <th>Max Temp (°C)</th>\n",
       "      <th>Min Temp (°C)</th>\n",
       "      <th>Mean Temp (°C)</th>\n",
       "      <th>Total Rain (mm)</th>\n",
       "      <th>Total Snow (cm)</th>\n",
       "      <th>Total Precip (mm)</th>\n",
       "      <th>Snow on Grnd (cm)</th>\n",
       "      <th>Number of Collisions</th>\n",
       "      <th>Year</th>\n",
       "      <th>Month</th>\n",
       "      <th>Day in month</th>\n",
       "      <th>Holiday</th>\n",
       "      <th>Day_Of_Week</th>\n",
       "    </tr>\n",
       "  </thead>\n",
       "  <tbody>\n",
       "    <tr>\n",
       "      <th>0</th>\n",
       "      <td>2014-01-01</td>\n",
       "      <td>-19.2</td>\n",
       "      <td>-23.0</td>\n",
       "      <td>-21.1</td>\n",
       "      <td>0.0</td>\n",
       "      <td>0.0</td>\n",
       "      <td>0.0</td>\n",
       "      <td>30</td>\n",
       "      <td>31</td>\n",
       "      <td>2014</td>\n",
       "      <td>1</td>\n",
       "      <td>1</td>\n",
       "      <td>New Years Day</td>\n",
       "      <td>T3_Wed</td>\n",
       "    </tr>\n",
       "    <tr>\n",
       "      <th>1</th>\n",
       "      <td>2014-01-02</td>\n",
       "      <td>-20.8</td>\n",
       "      <td>-27.1</td>\n",
       "      <td>-24.0</td>\n",
       "      <td>0.0</td>\n",
       "      <td>0.0</td>\n",
       "      <td>0.0</td>\n",
       "      <td>29</td>\n",
       "      <td>74</td>\n",
       "      <td>2014</td>\n",
       "      <td>1</td>\n",
       "      <td>2</td>\n",
       "      <td>NaN</td>\n",
       "      <td>T4_Thu</td>\n",
       "    </tr>\n",
       "    <tr>\n",
       "      <th>2</th>\n",
       "      <td>2014-01-03</td>\n",
       "      <td>-21.0</td>\n",
       "      <td>-28.1</td>\n",
       "      <td>-24.6</td>\n",
       "      <td>0.0</td>\n",
       "      <td>0.3</td>\n",
       "      <td>0.0</td>\n",
       "      <td>29</td>\n",
       "      <td>151</td>\n",
       "      <td>2014</td>\n",
       "      <td>1</td>\n",
       "      <td>3</td>\n",
       "      <td>NaN</td>\n",
       "      <td>T5_Fri</td>\n",
       "    </tr>\n",
       "    <tr>\n",
       "      <th>3</th>\n",
       "      <td>2014-01-04</td>\n",
       "      <td>-8.5</td>\n",
       "      <td>-27.5</td>\n",
       "      <td>-18.0</td>\n",
       "      <td>0.0</td>\n",
       "      <td>7.5</td>\n",
       "      <td>2.6</td>\n",
       "      <td>29</td>\n",
       "      <td>51</td>\n",
       "      <td>2014</td>\n",
       "      <td>1</td>\n",
       "      <td>4</td>\n",
       "      <td>NaN</td>\n",
       "      <td>T6_Sat</td>\n",
       "    </tr>\n",
       "    <tr>\n",
       "      <th>4</th>\n",
       "      <td>2014-01-05</td>\n",
       "      <td>5.8</td>\n",
       "      <td>-12.0</td>\n",
       "      <td>-3.1</td>\n",
       "      <td>13.2</td>\n",
       "      <td>5.5</td>\n",
       "      <td>18.6</td>\n",
       "      <td>36</td>\n",
       "      <td>52</td>\n",
       "      <td>2014</td>\n",
       "      <td>1</td>\n",
       "      <td>5</td>\n",
       "      <td>NaN</td>\n",
       "      <td>T7_Sun</td>\n",
       "    </tr>\n",
       "    <tr>\n",
       "      <th>5</th>\n",
       "      <td>2014-01-06</td>\n",
       "      <td>5.8</td>\n",
       "      <td>-8.2</td>\n",
       "      <td>-1.2</td>\n",
       "      <td>0.0</td>\n",
       "      <td>0.0</td>\n",
       "      <td>0.0</td>\n",
       "      <td>31</td>\n",
       "      <td>36</td>\n",
       "      <td>2014</td>\n",
       "      <td>1</td>\n",
       "      <td>6</td>\n",
       "      <td>NaN</td>\n",
       "      <td>T1_Mon</td>\n",
       "    </tr>\n",
       "    <tr>\n",
       "      <th>6</th>\n",
       "      <td>2014-01-07</td>\n",
       "      <td>-14.0</td>\n",
       "      <td>-17.9</td>\n",
       "      <td>-16.0</td>\n",
       "      <td>0.0</td>\n",
       "      <td>0.0</td>\n",
       "      <td>0.0</td>\n",
       "      <td>29</td>\n",
       "      <td>69</td>\n",
       "      <td>2014</td>\n",
       "      <td>1</td>\n",
       "      <td>7</td>\n",
       "      <td>NaN</td>\n",
       "      <td>T2_Tue</td>\n",
       "    </tr>\n",
       "    <tr>\n",
       "      <th>7</th>\n",
       "      <td>2014-01-08</td>\n",
       "      <td>-9.5</td>\n",
       "      <td>-16.4</td>\n",
       "      <td>-13.0</td>\n",
       "      <td>0.0</td>\n",
       "      <td>0.0</td>\n",
       "      <td>0.0</td>\n",
       "      <td>29</td>\n",
       "      <td>71</td>\n",
       "      <td>2014</td>\n",
       "      <td>1</td>\n",
       "      <td>8</td>\n",
       "      <td>NaN</td>\n",
       "      <td>T3_Wed</td>\n",
       "    </tr>\n",
       "    <tr>\n",
       "      <th>8</th>\n",
       "      <td>2014-01-09</td>\n",
       "      <td>-7.6</td>\n",
       "      <td>-14.7</td>\n",
       "      <td>-11.2</td>\n",
       "      <td>0.0</td>\n",
       "      <td>0.5</td>\n",
       "      <td>0.2</td>\n",
       "      <td>29</td>\n",
       "      <td>74</td>\n",
       "      <td>2014</td>\n",
       "      <td>1</td>\n",
       "      <td>9</td>\n",
       "      <td>NaN</td>\n",
       "      <td>T4_Thu</td>\n",
       "    </tr>\n",
       "    <tr>\n",
       "      <th>9</th>\n",
       "      <td>2014-01-10</td>\n",
       "      <td>-1.5</td>\n",
       "      <td>-15.1</td>\n",
       "      <td>-8.3</td>\n",
       "      <td>0.0</td>\n",
       "      <td>0.0</td>\n",
       "      <td>0.0</td>\n",
       "      <td>29</td>\n",
       "      <td>36</td>\n",
       "      <td>2014</td>\n",
       "      <td>1</td>\n",
       "      <td>10</td>\n",
       "      <td>NaN</td>\n",
       "      <td>T5_Fri</td>\n",
       "    </tr>\n",
       "    <tr>\n",
       "      <th>...</th>\n",
       "      <td>...</td>\n",
       "      <td>...</td>\n",
       "      <td>...</td>\n",
       "      <td>...</td>\n",
       "      <td>...</td>\n",
       "      <td>...</td>\n",
       "      <td>...</td>\n",
       "      <td>...</td>\n",
       "      <td>...</td>\n",
       "      <td>...</td>\n",
       "      <td>...</td>\n",
       "      <td>...</td>\n",
       "      <td>...</td>\n",
       "      <td>...</td>\n",
       "    </tr>\n",
       "    <tr>\n",
       "      <th>1451</th>\n",
       "      <td>2017-12-22</td>\n",
       "      <td>-8.5</td>\n",
       "      <td>-16.0</td>\n",
       "      <td>-12.3</td>\n",
       "      <td>0.0</td>\n",
       "      <td>0.0</td>\n",
       "      <td>0.0</td>\n",
       "      <td>14</td>\n",
       "      <td>57</td>\n",
       "      <td>2017</td>\n",
       "      <td>12</td>\n",
       "      <td>22</td>\n",
       "      <td>NaN</td>\n",
       "      <td>T5_Fri</td>\n",
       "    </tr>\n",
       "    <tr>\n",
       "      <th>1452</th>\n",
       "      <td>2017-12-23</td>\n",
       "      <td>-6.5</td>\n",
       "      <td>-12.5</td>\n",
       "      <td>-9.5</td>\n",
       "      <td>0.0</td>\n",
       "      <td>4.0</td>\n",
       "      <td>3.8</td>\n",
       "      <td>13</td>\n",
       "      <td>75</td>\n",
       "      <td>2017</td>\n",
       "      <td>12</td>\n",
       "      <td>23</td>\n",
       "      <td>NaN</td>\n",
       "      <td>T6_Sat</td>\n",
       "    </tr>\n",
       "    <tr>\n",
       "      <th>1453</th>\n",
       "      <td>2017-12-24</td>\n",
       "      <td>-6.0</td>\n",
       "      <td>-12.0</td>\n",
       "      <td>-9.0</td>\n",
       "      <td>0.0</td>\n",
       "      <td>4.0</td>\n",
       "      <td>4.0</td>\n",
       "      <td>18</td>\n",
       "      <td>28</td>\n",
       "      <td>2017</td>\n",
       "      <td>12</td>\n",
       "      <td>24</td>\n",
       "      <td>NaN</td>\n",
       "      <td>T7_Sun</td>\n",
       "    </tr>\n",
       "    <tr>\n",
       "      <th>1454</th>\n",
       "      <td>2017-12-25</td>\n",
       "      <td>-5.5</td>\n",
       "      <td>-9.0</td>\n",
       "      <td>-7.3</td>\n",
       "      <td>0.0</td>\n",
       "      <td>1.0</td>\n",
       "      <td>0.4</td>\n",
       "      <td>22</td>\n",
       "      <td>31</td>\n",
       "      <td>2017</td>\n",
       "      <td>12</td>\n",
       "      <td>25</td>\n",
       "      <td>Christmas Day</td>\n",
       "      <td>T1_Mon</td>\n",
       "    </tr>\n",
       "    <tr>\n",
       "      <th>1455</th>\n",
       "      <td>2017-12-26</td>\n",
       "      <td>-13.0</td>\n",
       "      <td>-16.0</td>\n",
       "      <td>-14.5</td>\n",
       "      <td>0.0</td>\n",
       "      <td>0.0</td>\n",
       "      <td>0.0</td>\n",
       "      <td>21</td>\n",
       "      <td>44</td>\n",
       "      <td>2017</td>\n",
       "      <td>12</td>\n",
       "      <td>26</td>\n",
       "      <td>Boxing Day</td>\n",
       "      <td>T2_Tue</td>\n",
       "    </tr>\n",
       "    <tr>\n",
       "      <th>1456</th>\n",
       "      <td>2017-12-27</td>\n",
       "      <td>-20.0</td>\n",
       "      <td>-26.1</td>\n",
       "      <td>-23.1</td>\n",
       "      <td>0.0</td>\n",
       "      <td>0.0</td>\n",
       "      <td>0.0</td>\n",
       "      <td>20</td>\n",
       "      <td>62</td>\n",
       "      <td>2017</td>\n",
       "      <td>12</td>\n",
       "      <td>27</td>\n",
       "      <td>NaN</td>\n",
       "      <td>T3_Wed</td>\n",
       "    </tr>\n",
       "    <tr>\n",
       "      <th>1457</th>\n",
       "      <td>2017-12-28</td>\n",
       "      <td>-20.3</td>\n",
       "      <td>-27.1</td>\n",
       "      <td>-23.7</td>\n",
       "      <td>0.0</td>\n",
       "      <td>0.0</td>\n",
       "      <td>0.0</td>\n",
       "      <td>20</td>\n",
       "      <td>73</td>\n",
       "      <td>2017</td>\n",
       "      <td>12</td>\n",
       "      <td>28</td>\n",
       "      <td>NaN</td>\n",
       "      <td>T4_Thu</td>\n",
       "    </tr>\n",
       "    <tr>\n",
       "      <th>1458</th>\n",
       "      <td>2017-12-29</td>\n",
       "      <td>-17.5</td>\n",
       "      <td>-26.2</td>\n",
       "      <td>-21.9</td>\n",
       "      <td>0.0</td>\n",
       "      <td>0.0</td>\n",
       "      <td>0.0</td>\n",
       "      <td>20</td>\n",
       "      <td>63</td>\n",
       "      <td>2017</td>\n",
       "      <td>12</td>\n",
       "      <td>29</td>\n",
       "      <td>NaN</td>\n",
       "      <td>T5_Fri</td>\n",
       "    </tr>\n",
       "    <tr>\n",
       "      <th>1459</th>\n",
       "      <td>2017-12-30</td>\n",
       "      <td>-16.0</td>\n",
       "      <td>-27.0</td>\n",
       "      <td>-21.5</td>\n",
       "      <td>0.0</td>\n",
       "      <td>1.0</td>\n",
       "      <td>0.4</td>\n",
       "      <td>19</td>\n",
       "      <td>47</td>\n",
       "      <td>2017</td>\n",
       "      <td>12</td>\n",
       "      <td>30</td>\n",
       "      <td>NaN</td>\n",
       "      <td>T6_Sat</td>\n",
       "    </tr>\n",
       "    <tr>\n",
       "      <th>1460</th>\n",
       "      <td>2017-12-31</td>\n",
       "      <td>-19.5</td>\n",
       "      <td>-24.5</td>\n",
       "      <td>-22.0</td>\n",
       "      <td>0.0</td>\n",
       "      <td>0.0</td>\n",
       "      <td>0.0</td>\n",
       "      <td>20</td>\n",
       "      <td>43</td>\n",
       "      <td>2017</td>\n",
       "      <td>12</td>\n",
       "      <td>31</td>\n",
       "      <td>NaN</td>\n",
       "      <td>T7_Sun</td>\n",
       "    </tr>\n",
       "  </tbody>\n",
       "</table>\n",
       "<p>1461 rows × 14 columns</p>\n",
       "</div>"
      ],
      "text/plain": [
       "           Date  Max Temp (°C)  Min Temp (°C)  Mean Temp (°C)  \\\n",
       "0    2014-01-01          -19.2          -23.0           -21.1   \n",
       "1    2014-01-02          -20.8          -27.1           -24.0   \n",
       "2    2014-01-03          -21.0          -28.1           -24.6   \n",
       "3    2014-01-04           -8.5          -27.5           -18.0   \n",
       "4    2014-01-05            5.8          -12.0            -3.1   \n",
       "5    2014-01-06            5.8           -8.2            -1.2   \n",
       "6    2014-01-07          -14.0          -17.9           -16.0   \n",
       "7    2014-01-08           -9.5          -16.4           -13.0   \n",
       "8    2014-01-09           -7.6          -14.7           -11.2   \n",
       "9    2014-01-10           -1.5          -15.1            -8.3   \n",
       "...         ...            ...            ...             ...   \n",
       "1451 2017-12-22           -8.5          -16.0           -12.3   \n",
       "1452 2017-12-23           -6.5          -12.5            -9.5   \n",
       "1453 2017-12-24           -6.0          -12.0            -9.0   \n",
       "1454 2017-12-25           -5.5           -9.0            -7.3   \n",
       "1455 2017-12-26          -13.0          -16.0           -14.5   \n",
       "1456 2017-12-27          -20.0          -26.1           -23.1   \n",
       "1457 2017-12-28          -20.3          -27.1           -23.7   \n",
       "1458 2017-12-29          -17.5          -26.2           -21.9   \n",
       "1459 2017-12-30          -16.0          -27.0           -21.5   \n",
       "1460 2017-12-31          -19.5          -24.5           -22.0   \n",
       "\n",
       "      Total Rain (mm)  Total Snow (cm)  Total Precip (mm)  Snow on Grnd (cm)  \\\n",
       "0                 0.0              0.0                0.0                 30   \n",
       "1                 0.0              0.0                0.0                 29   \n",
       "2                 0.0              0.3                0.0                 29   \n",
       "3                 0.0              7.5                2.6                 29   \n",
       "4                13.2              5.5               18.6                 36   \n",
       "5                 0.0              0.0                0.0                 31   \n",
       "6                 0.0              0.0                0.0                 29   \n",
       "7                 0.0              0.0                0.0                 29   \n",
       "8                 0.0              0.5                0.2                 29   \n",
       "9                 0.0              0.0                0.0                 29   \n",
       "...               ...              ...                ...                ...   \n",
       "1451              0.0              0.0                0.0                 14   \n",
       "1452              0.0              4.0                3.8                 13   \n",
       "1453              0.0              4.0                4.0                 18   \n",
       "1454              0.0              1.0                0.4                 22   \n",
       "1455              0.0              0.0                0.0                 21   \n",
       "1456              0.0              0.0                0.0                 20   \n",
       "1457              0.0              0.0                0.0                 20   \n",
       "1458              0.0              0.0                0.0                 20   \n",
       "1459              0.0              1.0                0.4                 19   \n",
       "1460              0.0              0.0                0.0                 20   \n",
       "\n",
       "      Number of Collisions  Year  Month  Day in month        Holiday  \\\n",
       "0                       31  2014      1             1  New Years Day   \n",
       "1                       74  2014      1             2            NaN   \n",
       "2                      151  2014      1             3            NaN   \n",
       "3                       51  2014      1             4            NaN   \n",
       "4                       52  2014      1             5            NaN   \n",
       "5                       36  2014      1             6            NaN   \n",
       "6                       69  2014      1             7            NaN   \n",
       "7                       71  2014      1             8            NaN   \n",
       "8                       74  2014      1             9            NaN   \n",
       "9                       36  2014      1            10            NaN   \n",
       "...                    ...   ...    ...           ...            ...   \n",
       "1451                    57  2017     12            22            NaN   \n",
       "1452                    75  2017     12            23            NaN   \n",
       "1453                    28  2017     12            24            NaN   \n",
       "1454                    31  2017     12            25  Christmas Day   \n",
       "1455                    44  2017     12            26     Boxing Day   \n",
       "1456                    62  2017     12            27            NaN   \n",
       "1457                    73  2017     12            28            NaN   \n",
       "1458                    63  2017     12            29            NaN   \n",
       "1459                    47  2017     12            30            NaN   \n",
       "1460                    43  2017     12            31            NaN   \n",
       "\n",
       "     Day_Of_Week  \n",
       "0         T3_Wed  \n",
       "1         T4_Thu  \n",
       "2         T5_Fri  \n",
       "3         T6_Sat  \n",
       "4         T7_Sun  \n",
       "5         T1_Mon  \n",
       "6         T2_Tue  \n",
       "7         T3_Wed  \n",
       "8         T4_Thu  \n",
       "9         T5_Fri  \n",
       "...          ...  \n",
       "1451      T5_Fri  \n",
       "1452      T6_Sat  \n",
       "1453      T7_Sun  \n",
       "1454      T1_Mon  \n",
       "1455      T2_Tue  \n",
       "1456      T3_Wed  \n",
       "1457      T4_Thu  \n",
       "1458      T5_Fri  \n",
       "1459      T6_Sat  \n",
       "1460      T7_Sun  \n",
       "\n",
       "[1461 rows x 14 columns]"
      ]
     },
     "execution_count": 5,
     "metadata": {},
     "output_type": "execute_result"
    }
   ],
   "source": [
    "hd1417 = pd.read_csv('holiday1417.csv')\n",
    "hd1417[\"Date\"] = pd.to_datetime(hd1417[\"Date\"])\n",
    "\n",
    "holidays = hd1417[\"Date\"].tolist()\n",
    "\n",
    "for idx, row in hd1417.iterrows():\n",
    "    wt1417.loc[wt1417[\"Date\"] == row['Date'], 'Holiday'] = row['Holiday']\n",
    "    df_csv1417.loc[df_csv1417[\"Date\"] == row['Date'], 'Holiday'] = row['Holiday']\n",
    "\n",
    "wt1417[\"Holiday\"] = wt1417[\"Holiday\"].astype(\"category\")\n",
    "df_csv1417[\"Holiday\"] = df_csv1417[\"Holiday\"].astype(\"category\")\n",
    "\n",
    "wt1417[\"Day_Of_Week\"] = wt1417[\"Date\"].apply(lambda x: DayOfWeek(x))\n",
    "\n",
    "wt1417"
   ]
  },
  {
   "cell_type": "code",
   "execution_count": 6,
   "metadata": {},
   "outputs": [
    {
     "data": {
      "text/html": [
       "<div>\n",
       "<style scoped>\n",
       "    .dataframe tbody tr th:only-of-type {\n",
       "        vertical-align: middle;\n",
       "    }\n",
       "\n",
       "    .dataframe tbody tr th {\n",
       "        vertical-align: top;\n",
       "    }\n",
       "\n",
       "    .dataframe thead th {\n",
       "        text-align: right;\n",
       "    }\n",
       "</style>\n",
       "<table border=\"1\" class=\"dataframe\">\n",
       "  <thead>\n",
       "    <tr style=\"text-align: right;\">\n",
       "      <th></th>\n",
       "      <th>Record</th>\n",
       "      <th>Location</th>\n",
       "      <th>Date</th>\n",
       "      <th>Time</th>\n",
       "      <th>Environment</th>\n",
       "      <th>Road_Surface</th>\n",
       "      <th>Traffic_Control</th>\n",
       "      <th>Collision_Location</th>\n",
       "      <th>Light</th>\n",
       "      <th>Collision_Classification</th>\n",
       "      <th>Impact_type</th>\n",
       "      <th>longitude</th>\n",
       "      <th>latitude</th>\n",
       "      <th>Year</th>\n",
       "      <th>Month</th>\n",
       "      <th>Day_Of_Week</th>\n",
       "      <th>Holiday</th>\n",
       "    </tr>\n",
       "  </thead>\n",
       "  <tbody>\n",
       "    <tr>\n",
       "      <th>0</th>\n",
       "      <td>2014000001</td>\n",
       "      <td>RIDEAU ST @ WALLER ST</td>\n",
       "      <td>2014-02-21</td>\n",
       "      <td>06:07:00</td>\n",
       "      <td>02 - Rain</td>\n",
       "      <td>02 - Wet</td>\n",
       "      <td>01 - Traffic signal</td>\n",
       "      <td>03 - At intersection</td>\n",
       "      <td>07 - Dark</td>\n",
       "      <td>01 - Fatal injury</td>\n",
       "      <td>07 - SMV other</td>\n",
       "      <td>-75.688726</td>\n",
       "      <td>45.427533</td>\n",
       "      <td>2014</td>\n",
       "      <td>2</td>\n",
       "      <td>T5_Fri</td>\n",
       "      <td>NaN</td>\n",
       "    </tr>\n",
       "    <tr>\n",
       "      <th>1</th>\n",
       "      <td>2014000002</td>\n",
       "      <td>HINES RD btwn INNOVATION DR &amp; SOLANDT RD</td>\n",
       "      <td>2014-08-02</td>\n",
       "      <td>13:55:00</td>\n",
       "      <td>01 - Clear</td>\n",
       "      <td>01 - Dry</td>\n",
       "      <td>10 - No control</td>\n",
       "      <td>04 - At/near private drive</td>\n",
       "      <td>01 - Daylight</td>\n",
       "      <td>01 - Fatal injury</td>\n",
       "      <td>02 - Angle</td>\n",
       "      <td>-75.921033</td>\n",
       "      <td>45.343152</td>\n",
       "      <td>2014</td>\n",
       "      <td>8</td>\n",
       "      <td>T6_Sat</td>\n",
       "      <td>NaN</td>\n",
       "    </tr>\n",
       "    <tr>\n",
       "      <th>2</th>\n",
       "      <td>2014000003</td>\n",
       "      <td>LOGGERS WAY btwn KINGDON MINE RD &amp; GALETTA SID...</td>\n",
       "      <td>2014-06-20</td>\n",
       "      <td>23:15:00</td>\n",
       "      <td>01 - Clear</td>\n",
       "      <td>01 - Dry</td>\n",
       "      <td>10 - No control</td>\n",
       "      <td>01 - Non intersection</td>\n",
       "      <td>07 - Dark</td>\n",
       "      <td>01 - Fatal injury</td>\n",
       "      <td>07 - SMV other</td>\n",
       "      <td>-76.247045</td>\n",
       "      <td>45.438627</td>\n",
       "      <td>2014</td>\n",
       "      <td>6</td>\n",
       "      <td>T5_Fri</td>\n",
       "      <td>NaN</td>\n",
       "    </tr>\n",
       "    <tr>\n",
       "      <th>3</th>\n",
       "      <td>2014000004</td>\n",
       "      <td>MONTREAL RD @ BATHGATE DR/BURMA RD</td>\n",
       "      <td>2014-07-29</td>\n",
       "      <td>16:31:00</td>\n",
       "      <td>01 - Clear</td>\n",
       "      <td>01 - Dry</td>\n",
       "      <td>01 - Traffic signal</td>\n",
       "      <td>03 - At intersection</td>\n",
       "      <td>01 - Daylight</td>\n",
       "      <td>01 - Fatal injury</td>\n",
       "      <td>05 - Turning movement</td>\n",
       "      <td>-75.625271</td>\n",
       "      <td>45.447248</td>\n",
       "      <td>2014</td>\n",
       "      <td>7</td>\n",
       "      <td>T2_Tue</td>\n",
       "      <td>NaN</td>\n",
       "    </tr>\n",
       "    <tr>\n",
       "      <th>4</th>\n",
       "      <td>2014000005</td>\n",
       "      <td>RICHMOND RD btwn FALLOWFIELD RD &amp; RUSHMORE RD</td>\n",
       "      <td>2014-08-05</td>\n",
       "      <td>20:05:00</td>\n",
       "      <td>01 - Clear</td>\n",
       "      <td>01 - Dry</td>\n",
       "      <td>10 - No control</td>\n",
       "      <td>01 - Non intersection</td>\n",
       "      <td>05 - Dusk</td>\n",
       "      <td>01 - Fatal injury</td>\n",
       "      <td>07 - SMV other</td>\n",
       "      <td>-75.820252</td>\n",
       "      <td>45.251073</td>\n",
       "      <td>2014</td>\n",
       "      <td>8</td>\n",
       "      <td>T2_Tue</td>\n",
       "      <td>NaN</td>\n",
       "    </tr>\n",
       "    <tr>\n",
       "      <th>5</th>\n",
       "      <td>2014000006</td>\n",
       "      <td>PARKDALE AVE btwn RUSKIN ST &amp; INGLEWOOD PL</td>\n",
       "      <td>2014-04-19</td>\n",
       "      <td>10:22:00</td>\n",
       "      <td>01 - Clear</td>\n",
       "      <td>01 - Dry</td>\n",
       "      <td>10 - No control</td>\n",
       "      <td>01 - Non intersection</td>\n",
       "      <td>01 - Daylight</td>\n",
       "      <td>01 - Fatal injury</td>\n",
       "      <td>06 - SMV unattended vehicle</td>\n",
       "      <td>-75.724021</td>\n",
       "      <td>45.392357</td>\n",
       "      <td>2014</td>\n",
       "      <td>4</td>\n",
       "      <td>T6_Sat</td>\n",
       "      <td>NaN</td>\n",
       "    </tr>\n",
       "    <tr>\n",
       "      <th>6</th>\n",
       "      <td>2014000007</td>\n",
       "      <td>CARLING AVE/STATION RD @ MARCH RD</td>\n",
       "      <td>2014-07-27</td>\n",
       "      <td>13:10:00</td>\n",
       "      <td>01 - Clear</td>\n",
       "      <td>01 - Dry</td>\n",
       "      <td>01 - Traffic signal</td>\n",
       "      <td>02 - Intersection related</td>\n",
       "      <td>01 - Daylight</td>\n",
       "      <td>01 - Fatal injury</td>\n",
       "      <td>99 - Other</td>\n",
       "      <td>-75.911687</td>\n",
       "      <td>45.338652</td>\n",
       "      <td>2014</td>\n",
       "      <td>7</td>\n",
       "      <td>T7_Sun</td>\n",
       "      <td>NaN</td>\n",
       "    </tr>\n",
       "    <tr>\n",
       "      <th>7</th>\n",
       "      <td>2014000008</td>\n",
       "      <td>CATHERINE ST @ KENT ST</td>\n",
       "      <td>2014-08-12</td>\n",
       "      <td>22:18:00</td>\n",
       "      <td>02 - Rain</td>\n",
       "      <td>02 - Wet</td>\n",
       "      <td>01 - Traffic signal</td>\n",
       "      <td>03 - At intersection</td>\n",
       "      <td>07 - Dark</td>\n",
       "      <td>01 - Fatal injury</td>\n",
       "      <td>07 - SMV other</td>\n",
       "      <td>-75.693767</td>\n",
       "      <td>45.408797</td>\n",
       "      <td>2014</td>\n",
       "      <td>8</td>\n",
       "      <td>T2_Tue</td>\n",
       "      <td>NaN</td>\n",
       "    </tr>\n",
       "    <tr>\n",
       "      <th>8</th>\n",
       "      <td>2014000009</td>\n",
       "      <td>DOYLE RD @ RIVER RD</td>\n",
       "      <td>2014-09-06</td>\n",
       "      <td>10:58:00</td>\n",
       "      <td>02 - Rain</td>\n",
       "      <td>02 - Wet</td>\n",
       "      <td>02 - Stop sign</td>\n",
       "      <td>02 - Intersection related</td>\n",
       "      <td>01 - Daylight</td>\n",
       "      <td>01 - Fatal injury</td>\n",
       "      <td>04 - Sideswipe</td>\n",
       "      <td>-75.622802</td>\n",
       "      <td>45.171309</td>\n",
       "      <td>2014</td>\n",
       "      <td>9</td>\n",
       "      <td>T6_Sat</td>\n",
       "      <td>NaN</td>\n",
       "    </tr>\n",
       "    <tr>\n",
       "      <th>9</th>\n",
       "      <td>2014000010</td>\n",
       "      <td>KATIMAVIK RD btwn PEARY WAY &amp; CHIMO DR</td>\n",
       "      <td>2014-04-22</td>\n",
       "      <td>16:17:00</td>\n",
       "      <td>01 - Clear</td>\n",
       "      <td>01 - Dry</td>\n",
       "      <td>10 - No control</td>\n",
       "      <td>01 - Non intersection</td>\n",
       "      <td>01 - Daylight</td>\n",
       "      <td>01 - Fatal injury</td>\n",
       "      <td>07 - SMV other</td>\n",
       "      <td>-75.886024</td>\n",
       "      <td>45.314923</td>\n",
       "      <td>2014</td>\n",
       "      <td>4</td>\n",
       "      <td>T2_Tue</td>\n",
       "      <td>NaN</td>\n",
       "    </tr>\n",
       "    <tr>\n",
       "      <th>...</th>\n",
       "      <td>...</td>\n",
       "      <td>...</td>\n",
       "      <td>...</td>\n",
       "      <td>...</td>\n",
       "      <td>...</td>\n",
       "      <td>...</td>\n",
       "      <td>...</td>\n",
       "      <td>...</td>\n",
       "      <td>...</td>\n",
       "      <td>...</td>\n",
       "      <td>...</td>\n",
       "      <td>...</td>\n",
       "      <td>...</td>\n",
       "      <td>...</td>\n",
       "      <td>...</td>\n",
       "      <td>...</td>\n",
       "      <td>...</td>\n",
       "    </tr>\n",
       "    <tr>\n",
       "      <th>58328</th>\n",
       "      <td>2017014385</td>\n",
       "      <td>YORK ST EB btwn TO BE DETERMINED &amp; CUMBERLAND ST</td>\n",
       "      <td>2017-03-15</td>\n",
       "      <td>10:29:00</td>\n",
       "      <td>03 - Snow</td>\n",
       "      <td>03 - Loose snow</td>\n",
       "      <td>10 - No control</td>\n",
       "      <td>04 - At/near private drive</td>\n",
       "      <td>01 - Daylight</td>\n",
       "      <td>03 - P.D. only</td>\n",
       "      <td>06 - SMV unattended vehicle</td>\n",
       "      <td>-75.689540</td>\n",
       "      <td>45.429505</td>\n",
       "      <td>2017</td>\n",
       "      <td>3</td>\n",
       "      <td>T3_Wed</td>\n",
       "      <td>NaN</td>\n",
       "    </tr>\n",
       "    <tr>\n",
       "      <th>58329</th>\n",
       "      <td>2017014386</td>\n",
       "      <td>YORK ST WB btwn BYWARD MARKE SQ &amp; SUSSEX DR</td>\n",
       "      <td>2017-06-25</td>\n",
       "      <td>2:04:00</td>\n",
       "      <td>01 - Clear</td>\n",
       "      <td>01 - Dry</td>\n",
       "      <td>10 - No control</td>\n",
       "      <td>01 - Non intersection</td>\n",
       "      <td>07 - Dark</td>\n",
       "      <td>02 - Non-fatal injury</td>\n",
       "      <td>07 - SMV other</td>\n",
       "      <td>-75.694544</td>\n",
       "      <td>45.427604</td>\n",
       "      <td>2017</td>\n",
       "      <td>6</td>\n",
       "      <td>T7_Sun</td>\n",
       "      <td>NaN</td>\n",
       "    </tr>\n",
       "    <tr>\n",
       "      <th>58330</th>\n",
       "      <td>2017014387</td>\n",
       "      <td>YORK ST WB btwn BYWARD MARKE SQ &amp; SUSSEX DR</td>\n",
       "      <td>2017-07-17</td>\n",
       "      <td>2:32:00</td>\n",
       "      <td>01 - Clear</td>\n",
       "      <td>01 - Dry</td>\n",
       "      <td>10 - No control</td>\n",
       "      <td>01 - Non intersection</td>\n",
       "      <td>07 - Dark</td>\n",
       "      <td>03 - P.D. only</td>\n",
       "      <td>07 - SMV other</td>\n",
       "      <td>-75.694788</td>\n",
       "      <td>45.427531</td>\n",
       "      <td>2017</td>\n",
       "      <td>7</td>\n",
       "      <td>T1_Mon</td>\n",
       "      <td>NaN</td>\n",
       "    </tr>\n",
       "    <tr>\n",
       "      <th>58331</th>\n",
       "      <td>2017014388</td>\n",
       "      <td>YORK ST WB btwn BYWARD MARKE SQ &amp; SUSSEX DR</td>\n",
       "      <td>2017-11-17</td>\n",
       "      <td>2:33:00</td>\n",
       "      <td>01 - Clear</td>\n",
       "      <td>01 - Dry</td>\n",
       "      <td>10 - No control</td>\n",
       "      <td>04 - At/near private drive</td>\n",
       "      <td>07 - Dark</td>\n",
       "      <td>02 - Non-fatal injury</td>\n",
       "      <td>07 - SMV other</td>\n",
       "      <td>-75.693855</td>\n",
       "      <td>45.427908</td>\n",
       "      <td>2017</td>\n",
       "      <td>11</td>\n",
       "      <td>T5_Fri</td>\n",
       "      <td>NaN</td>\n",
       "    </tr>\n",
       "    <tr>\n",
       "      <th>58332</th>\n",
       "      <td>2017014389</td>\n",
       "      <td>YORK ST WB btwn BYWARD MARKE SQ &amp; SUSSEX DR</td>\n",
       "      <td>2017-02-03</td>\n",
       "      <td>20:47:00</td>\n",
       "      <td>01 - Clear</td>\n",
       "      <td>01 - Dry</td>\n",
       "      <td>10 - No control</td>\n",
       "      <td>01 - Non intersection</td>\n",
       "      <td>07 - Dark</td>\n",
       "      <td>03 - P.D. only</td>\n",
       "      <td>02 - Angle</td>\n",
       "      <td>-75.693840</td>\n",
       "      <td>45.427903</td>\n",
       "      <td>2017</td>\n",
       "      <td>2</td>\n",
       "      <td>T5_Fri</td>\n",
       "      <td>NaN</td>\n",
       "    </tr>\n",
       "    <tr>\n",
       "      <th>58333</th>\n",
       "      <td>2017014390</td>\n",
       "      <td>YORK ST WB btwn BYWARD MARKE SQ &amp; SUSSEX DR</td>\n",
       "      <td>2017-03-25</td>\n",
       "      <td>13:11:00</td>\n",
       "      <td>01 - Clear</td>\n",
       "      <td>02 - Wet</td>\n",
       "      <td>10 - No control</td>\n",
       "      <td>04 - At/near private drive</td>\n",
       "      <td>01 - Daylight</td>\n",
       "      <td>03 - P.D. only</td>\n",
       "      <td>05 - Turning movement</td>\n",
       "      <td>-75.694409</td>\n",
       "      <td>45.427689</td>\n",
       "      <td>2017</td>\n",
       "      <td>3</td>\n",
       "      <td>T6_Sat</td>\n",
       "      <td>NaN</td>\n",
       "    </tr>\n",
       "    <tr>\n",
       "      <th>58334</th>\n",
       "      <td>2017014391</td>\n",
       "      <td>YORK ST WB btwn TO BE DETERMINED &amp; CUMBERLAND ST</td>\n",
       "      <td>2017-07-25</td>\n",
       "      <td>8:40:00</td>\n",
       "      <td>02 - Rain</td>\n",
       "      <td>02 - Wet</td>\n",
       "      <td>10 - No control</td>\n",
       "      <td>01 - Non intersection</td>\n",
       "      <td>01 - Daylight</td>\n",
       "      <td>03 - P.D. only</td>\n",
       "      <td>02 - Angle</td>\n",
       "      <td>-75.689545</td>\n",
       "      <td>45.429707</td>\n",
       "      <td>2017</td>\n",
       "      <td>7</td>\n",
       "      <td>T2_Tue</td>\n",
       "      <td>NaN</td>\n",
       "    </tr>\n",
       "    <tr>\n",
       "      <th>58335</th>\n",
       "      <td>2017014392</td>\n",
       "      <td>YORK ST WB btwn TO BE DETERMINED &amp; CUMBERLAND ST</td>\n",
       "      <td>2017-01-23</td>\n",
       "      <td>20:30:00</td>\n",
       "      <td>01 - Clear</td>\n",
       "      <td>01 - Dry</td>\n",
       "      <td>10 - No control</td>\n",
       "      <td>01 - Non intersection</td>\n",
       "      <td>07 - Dark</td>\n",
       "      <td>03 - P.D. only</td>\n",
       "      <td>06 - SMV unattended vehicle</td>\n",
       "      <td>-75.689421</td>\n",
       "      <td>45.429755</td>\n",
       "      <td>2017</td>\n",
       "      <td>1</td>\n",
       "      <td>T1_Mon</td>\n",
       "      <td>NaN</td>\n",
       "    </tr>\n",
       "    <tr>\n",
       "      <th>58336</th>\n",
       "      <td>2017014393</td>\n",
       "      <td>YORKS CORNERS RD btwn PANA RD &amp; VICTORIA ST</td>\n",
       "      <td>2017-07-18</td>\n",
       "      <td>18:03:00</td>\n",
       "      <td>01 - Clear</td>\n",
       "      <td>01 - Dry</td>\n",
       "      <td>10 - No control</td>\n",
       "      <td>01 - Non intersection</td>\n",
       "      <td>01 - Daylight</td>\n",
       "      <td>03 - P.D. only</td>\n",
       "      <td>07 - SMV other</td>\n",
       "      <td>-75.431838</td>\n",
       "      <td>45.258973</td>\n",
       "      <td>2017</td>\n",
       "      <td>7</td>\n",
       "      <td>T2_Tue</td>\n",
       "      <td>NaN</td>\n",
       "    </tr>\n",
       "    <tr>\n",
       "      <th>58337</th>\n",
       "      <td>2017014394</td>\n",
       "      <td>YORKS CORNERS RD btwn PARKWAY RD &amp; COOPER HILL RD</td>\n",
       "      <td>2017-03-23</td>\n",
       "      <td>16:21:00</td>\n",
       "      <td>01 - Clear</td>\n",
       "      <td>01 - Dry</td>\n",
       "      <td>10 - No control</td>\n",
       "      <td>01 - Non intersection</td>\n",
       "      <td>01 - Daylight</td>\n",
       "      <td>02 - Non-fatal injury</td>\n",
       "      <td>07 - SMV other</td>\n",
       "      <td>-75.453559</td>\n",
       "      <td>45.299801</td>\n",
       "      <td>2017</td>\n",
       "      <td>3</td>\n",
       "      <td>T4_Thu</td>\n",
       "      <td>NaN</td>\n",
       "    </tr>\n",
       "  </tbody>\n",
       "</table>\n",
       "<p>58338 rows × 17 columns</p>\n",
       "</div>"
      ],
      "text/plain": [
       "           Record                                           Location  \\\n",
       "0      2014000001                              RIDEAU ST @ WALLER ST   \n",
       "1      2014000002           HINES RD btwn INNOVATION DR & SOLANDT RD   \n",
       "2      2014000003  LOGGERS WAY btwn KINGDON MINE RD & GALETTA SID...   \n",
       "3      2014000004                 MONTREAL RD @ BATHGATE DR/BURMA RD   \n",
       "4      2014000005      RICHMOND RD btwn FALLOWFIELD RD & RUSHMORE RD   \n",
       "5      2014000006         PARKDALE AVE btwn RUSKIN ST & INGLEWOOD PL   \n",
       "6      2014000007                  CARLING AVE/STATION RD @ MARCH RD   \n",
       "7      2014000008                             CATHERINE ST @ KENT ST   \n",
       "8      2014000009                                DOYLE RD @ RIVER RD   \n",
       "9      2014000010             KATIMAVIK RD btwn PEARY WAY & CHIMO DR   \n",
       "...           ...                                                ...   \n",
       "58328  2017014385   YORK ST EB btwn TO BE DETERMINED & CUMBERLAND ST   \n",
       "58329  2017014386        YORK ST WB btwn BYWARD MARKE SQ & SUSSEX DR   \n",
       "58330  2017014387        YORK ST WB btwn BYWARD MARKE SQ & SUSSEX DR   \n",
       "58331  2017014388        YORK ST WB btwn BYWARD MARKE SQ & SUSSEX DR   \n",
       "58332  2017014389        YORK ST WB btwn BYWARD MARKE SQ & SUSSEX DR   \n",
       "58333  2017014390        YORK ST WB btwn BYWARD MARKE SQ & SUSSEX DR   \n",
       "58334  2017014391   YORK ST WB btwn TO BE DETERMINED & CUMBERLAND ST   \n",
       "58335  2017014392   YORK ST WB btwn TO BE DETERMINED & CUMBERLAND ST   \n",
       "58336  2017014393        YORKS CORNERS RD btwn PANA RD & VICTORIA ST   \n",
       "58337  2017014394  YORKS CORNERS RD btwn PARKWAY RD & COOPER HILL RD   \n",
       "\n",
       "            Date      Time Environment     Road_Surface      Traffic_Control  \\\n",
       "0     2014-02-21  06:07:00   02 - Rain         02 - Wet  01 - Traffic signal   \n",
       "1     2014-08-02  13:55:00  01 - Clear         01 - Dry      10 - No control   \n",
       "2     2014-06-20  23:15:00  01 - Clear         01 - Dry      10 - No control   \n",
       "3     2014-07-29  16:31:00  01 - Clear         01 - Dry  01 - Traffic signal   \n",
       "4     2014-08-05  20:05:00  01 - Clear         01 - Dry      10 - No control   \n",
       "5     2014-04-19  10:22:00  01 - Clear         01 - Dry      10 - No control   \n",
       "6     2014-07-27  13:10:00  01 - Clear         01 - Dry  01 - Traffic signal   \n",
       "7     2014-08-12  22:18:00   02 - Rain         02 - Wet  01 - Traffic signal   \n",
       "8     2014-09-06  10:58:00   02 - Rain         02 - Wet       02 - Stop sign   \n",
       "9     2014-04-22  16:17:00  01 - Clear         01 - Dry      10 - No control   \n",
       "...          ...       ...         ...              ...                  ...   \n",
       "58328 2017-03-15  10:29:00   03 - Snow  03 - Loose snow      10 - No control   \n",
       "58329 2017-06-25   2:04:00  01 - Clear         01 - Dry      10 - No control   \n",
       "58330 2017-07-17   2:32:00  01 - Clear         01 - Dry      10 - No control   \n",
       "58331 2017-11-17   2:33:00  01 - Clear         01 - Dry      10 - No control   \n",
       "58332 2017-02-03  20:47:00  01 - Clear         01 - Dry      10 - No control   \n",
       "58333 2017-03-25  13:11:00  01 - Clear         02 - Wet      10 - No control   \n",
       "58334 2017-07-25   8:40:00   02 - Rain         02 - Wet      10 - No control   \n",
       "58335 2017-01-23  20:30:00  01 - Clear         01 - Dry      10 - No control   \n",
       "58336 2017-07-18  18:03:00  01 - Clear         01 - Dry      10 - No control   \n",
       "58337 2017-03-23  16:21:00  01 - Clear         01 - Dry      10 - No control   \n",
       "\n",
       "               Collision_Location          Light Collision_Classification  \\\n",
       "0            03 - At intersection      07 - Dark        01 - Fatal injury   \n",
       "1      04 - At/near private drive  01 - Daylight        01 - Fatal injury   \n",
       "2           01 - Non intersection      07 - Dark        01 - Fatal injury   \n",
       "3            03 - At intersection  01 - Daylight        01 - Fatal injury   \n",
       "4           01 - Non intersection      05 - Dusk        01 - Fatal injury   \n",
       "5           01 - Non intersection  01 - Daylight        01 - Fatal injury   \n",
       "6       02 - Intersection related  01 - Daylight        01 - Fatal injury   \n",
       "7            03 - At intersection      07 - Dark        01 - Fatal injury   \n",
       "8       02 - Intersection related  01 - Daylight        01 - Fatal injury   \n",
       "9           01 - Non intersection  01 - Daylight        01 - Fatal injury   \n",
       "...                           ...            ...                      ...   \n",
       "58328  04 - At/near private drive  01 - Daylight           03 - P.D. only   \n",
       "58329       01 - Non intersection      07 - Dark    02 - Non-fatal injury   \n",
       "58330       01 - Non intersection      07 - Dark           03 - P.D. only   \n",
       "58331  04 - At/near private drive      07 - Dark    02 - Non-fatal injury   \n",
       "58332       01 - Non intersection      07 - Dark           03 - P.D. only   \n",
       "58333  04 - At/near private drive  01 - Daylight           03 - P.D. only   \n",
       "58334       01 - Non intersection  01 - Daylight           03 - P.D. only   \n",
       "58335       01 - Non intersection      07 - Dark           03 - P.D. only   \n",
       "58336       01 - Non intersection  01 - Daylight           03 - P.D. only   \n",
       "58337       01 - Non intersection  01 - Daylight    02 - Non-fatal injury   \n",
       "\n",
       "                       Impact_type  longitude   latitude  Year  Month  \\\n",
       "0                   07 - SMV other -75.688726  45.427533  2014      2   \n",
       "1                       02 - Angle -75.921033  45.343152  2014      8   \n",
       "2                   07 - SMV other -76.247045  45.438627  2014      6   \n",
       "3            05 - Turning movement -75.625271  45.447248  2014      7   \n",
       "4                   07 - SMV other -75.820252  45.251073  2014      8   \n",
       "5      06 - SMV unattended vehicle -75.724021  45.392357  2014      4   \n",
       "6                       99 - Other -75.911687  45.338652  2014      7   \n",
       "7                   07 - SMV other -75.693767  45.408797  2014      8   \n",
       "8                   04 - Sideswipe -75.622802  45.171309  2014      9   \n",
       "9                   07 - SMV other -75.886024  45.314923  2014      4   \n",
       "...                            ...        ...        ...   ...    ...   \n",
       "58328  06 - SMV unattended vehicle -75.689540  45.429505  2017      3   \n",
       "58329               07 - SMV other -75.694544  45.427604  2017      6   \n",
       "58330               07 - SMV other -75.694788  45.427531  2017      7   \n",
       "58331               07 - SMV other -75.693855  45.427908  2017     11   \n",
       "58332                   02 - Angle -75.693840  45.427903  2017      2   \n",
       "58333        05 - Turning movement -75.694409  45.427689  2017      3   \n",
       "58334                   02 - Angle -75.689545  45.429707  2017      7   \n",
       "58335  06 - SMV unattended vehicle -75.689421  45.429755  2017      1   \n",
       "58336               07 - SMV other -75.431838  45.258973  2017      7   \n",
       "58337               07 - SMV other -75.453559  45.299801  2017      3   \n",
       "\n",
       "      Day_Of_Week Holiday  \n",
       "0          T5_Fri     NaN  \n",
       "1          T6_Sat     NaN  \n",
       "2          T5_Fri     NaN  \n",
       "3          T2_Tue     NaN  \n",
       "4          T2_Tue     NaN  \n",
       "5          T6_Sat     NaN  \n",
       "6          T7_Sun     NaN  \n",
       "7          T2_Tue     NaN  \n",
       "8          T6_Sat     NaN  \n",
       "9          T2_Tue     NaN  \n",
       "...           ...     ...  \n",
       "58328      T3_Wed     NaN  \n",
       "58329      T7_Sun     NaN  \n",
       "58330      T1_Mon     NaN  \n",
       "58331      T5_Fri     NaN  \n",
       "58332      T5_Fri     NaN  \n",
       "58333      T6_Sat     NaN  \n",
       "58334      T2_Tue     NaN  \n",
       "58335      T1_Mon     NaN  \n",
       "58336      T2_Tue     NaN  \n",
       "58337      T4_Thu     NaN  \n",
       "\n",
       "[58338 rows x 17 columns]"
      ]
     },
     "execution_count": 6,
     "metadata": {},
     "output_type": "execute_result"
    }
   ],
   "source": [
    "df_csv1417"
   ]
  },
  {
   "cell_type": "markdown",
   "metadata": {},
   "source": [
    "## 2. Based on the table we get, do analysis about single variables"
   ]
  },
  {
   "cell_type": "markdown",
   "metadata": {},
   "source": [
    "### 2.1 Overview"
   ]
  },
  {
   "cell_type": "code",
   "execution_count": 7,
   "metadata": {},
   "outputs": [
    {
     "data": {
      "application/vnd.plotly.v1+json": {
       "data": [
        {
         "name": "Number of vehicle collisions in year",
         "opacity": 0.6,
         "text": [
          "14843",
          "15078",
          "14023",
          "14394"
         ],
         "textposition": "auto",
         "type": "bar",
         "uid": "7da7e178-a3ed-11e8-927a-0800275aa47c",
         "x": [
          2014,
          2015,
          2016,
          2017
         ],
         "y": [
          14843,
          15078,
          14023,
          14394
         ]
        },
        {
         "mode": "lines+text+markers",
         "name": "Growth rate of vehicle collisions (compared with the previous year)",
         "text": [
          "",
          "1.58%",
          "-7.00%",
          "2.65%"
         ],
         "textposition": "top center",
         "type": "scatter",
         "uid": "7da7e70e-a3ed-11e8-927a-0800275aa47c",
         "x": [
          2014,
          2015,
          2016,
          2017
         ],
         "y": [
          14843,
          15078,
          14023,
          14394
         ]
        }
       ],
       "layout": {
        "title": "Number of vehicle collisions in year",
        "xaxis": {
         "dtick": 1,
         "title": "Year"
        }
       }
      },
      "text/html": [
       "<div id=\"0345b9c9-8c1f-4c6a-8451-a093ee1ff6a7\" style=\"height: 525px; width: 100%;\" class=\"plotly-graph-div\"></div><script type=\"text/javascript\">require([\"plotly\"], function(Plotly) { window.PLOTLYENV=window.PLOTLYENV || {};window.PLOTLYENV.BASE_URL=\"https://plot.ly\";Plotly.newPlot(\"0345b9c9-8c1f-4c6a-8451-a093ee1ff6a7\", [{\"opacity\": 0.6, \"textposition\": \"auto\", \"name\": \"Number of vehicle collisions in year\", \"text\": [\"14843\", \"15078\", \"14023\", \"14394\"], \"y\": [14843.0, 15078.0, 14023.0, 14394.0], \"x\": [2014, 2015, 2016, 2017], \"type\": \"bar\", \"uid\": \"7dab4cd2-a3ed-11e8-927a-0800275aa47c\"}, {\"textposition\": \"top center\", \"name\": \"Growth rate of vehicle collisions (compared with the previous year)\", \"text\": [\"\", \"1.58%\", \"-7.00%\", \"2.65%\"], \"mode\": \"lines+text+markers\", \"y\": [14843.0, 15078.0, 14023.0, 14394.0], \"x\": [2014, 2015, 2016, 2017], \"type\": \"scatter\", \"uid\": \"7dab4f48-a3ed-11e8-927a-0800275aa47c\"}], {\"xaxis\": {\"dtick\": 1, \"title\": \"Year\"}, \"title\": \"Number of vehicle collisions in year\"}, {\"linkText\": \"Export to plot.ly\", \"showLink\": true})});</script>"
      ],
      "text/vnd.plotly.v1+html": [
       "<div id=\"0345b9c9-8c1f-4c6a-8451-a093ee1ff6a7\" style=\"height: 525px; width: 100%;\" class=\"plotly-graph-div\"></div><script type=\"text/javascript\">require([\"plotly\"], function(Plotly) { window.PLOTLYENV=window.PLOTLYENV || {};window.PLOTLYENV.BASE_URL=\"https://plot.ly\";Plotly.newPlot(\"0345b9c9-8c1f-4c6a-8451-a093ee1ff6a7\", [{\"opacity\": 0.6, \"textposition\": \"auto\", \"name\": \"Number of vehicle collisions in year\", \"text\": [\"14843\", \"15078\", \"14023\", \"14394\"], \"y\": [14843.0, 15078.0, 14023.0, 14394.0], \"x\": [2014, 2015, 2016, 2017], \"type\": \"bar\", \"uid\": \"7dab4cd2-a3ed-11e8-927a-0800275aa47c\"}, {\"textposition\": \"top center\", \"name\": \"Growth rate of vehicle collisions (compared with the previous year)\", \"text\": [\"\", \"1.58%\", \"-7.00%\", \"2.65%\"], \"mode\": \"lines+text+markers\", \"y\": [14843.0, 15078.0, 14023.0, 14394.0], \"x\": [2014, 2015, 2016, 2017], \"type\": \"scatter\", \"uid\": \"7dab4f48-a3ed-11e8-927a-0800275aa47c\"}], {\"xaxis\": {\"dtick\": 1, \"title\": \"Year\"}, \"title\": \"Number of vehicle collisions in year\"}, {\"linkText\": \"Export to plot.ly\", \"showLink\": true})});</script>"
      ]
     },
     "metadata": {},
     "output_type": "display_data"
    },
    {
     "name": "stdout",
     "output_type": "stream",
     "text": [
      "Total number of cases: 58338\n"
     ]
    }
   ],
   "source": [
    "countOfCollision = df_csv1417.groupby(['Year']).size()\n",
    "growthRate = (countOfCollision.pct_change()*100).apply(lambda x: '' if pd.isna(x) else format(x,'.2f') + '%')\n",
    "barOfYear = go.Bar(x = range(2014,2018), \n",
    "                   y = countOfCollision,\n",
    "                   text = countOfCollision,\n",
    "                   textposition = 'auto',\n",
    "                   opacity=0.6, \n",
    "                   name = 'Number of vehicle collisions in year')\n",
    "scatterOfYear = go.Scatter(x = range(2014,2018), \n",
    "                           y = countOfCollision,\n",
    "                           text = growthRate,\n",
    "                           mode = 'lines+text+markers',\n",
    "                           textposition = 'top center',\n",
    "                           name = 'Growth rate of vehicle collisions (compared with the previous year)')\n",
    "\n",
    "fig = dict(data = [barOfYear,scatterOfYear], \n",
    "           layout = go.Layout(title = 'Number of vehicle collisions in year', xaxis=dict(title='Year', dtick=1)))\n",
    "iplot(fig)\n",
    "\n",
    "print(\"Total number of cases: \" + str(countOfCollision.sum()))"
   ]
  },
  {
   "cell_type": "markdown",
   "metadata": {},
   "source": [
    "**Brief Conclusion:**\n",
    "* From January 1, 2014 to December 31, 2017, there were **58338** vehicle collision cases happened in Ottawa. \n",
    "* The differences of vehicle collision cases during 4 years are small. \n",
    "* There is a relatively big decrease of the number of cases between 2015 and 2016(-7.0%), while the rest of growth rate between years are increase. \n",
    "\n",
    "**Hypothesis:**\n",
    "* There's no relationship between year and vehicle collisions, or to say driving in a specific year does not lead to a vehicle collision. "
   ]
  },
  {
   "cell_type": "markdown",
   "metadata": {},
   "source": [
    "### 2.2 Percentage of single possible causes of accident"
   ]
  },
  {
   "cell_type": "code",
   "execution_count": 8,
   "metadata": {},
   "outputs": [
    {
     "data": {
      "application/vnd.plotly.v1+json": {
       "data": [
        {
         "cells": {
          "align": [
           "left",
           "right",
           "right"
          ],
          "font": {
           "color": [
            "rgb(40, 40, 40)",
            "rgb(40, 40, 40)",
            "rgb(40, 40, 40)",
            "rgb(40, 40, 40)",
            "rgb(40, 40, 40)"
           ],
           "size": 12
          },
          "format": [
           null,
           null,
           ".2f"
          ],
          "suffix": [
           "",
           "",
           "%"
          ],
          "values": [
           [
            "01 - Clear",
            "03 - Snow",
            "02 - Rain",
            "04 - Freezing Rain",
            "05 - Drifting Snow",
            "07 - Fog, mist, smoke, dust",
            "06 - Strong wind",
            "00 - Unknown",
            "99 - Other"
           ],
           [
            45929,
            5664,
            5433,
            672,
            304,
            164,
            86,
            67,
            18
           ],
           [
            78.73047979841267,
            9.709103999177195,
            9.31312888904126,
            1.151927593122718,
            0.5211101016507534,
            0.2811251864168538,
            0.1474193050722526,
            0.11484992371908051,
            0.030855203387215663
           ]
          ]
         },
         "columnwidth": [
          110,
          55,
          55
         ],
         "domain": {
          "x": [
           0,
           0.4
          ],
          "y": [
           0,
           1
          ]
         },
         "header": {
          "values": [
           "<b>Environment</b>",
           "<b># of Cases</b>",
           "<b>Percentage</b>"
          ]
         },
         "type": "table",
         "uid": "7dd54910-a3ed-11e8-927a-0800275aa47c"
        },
        {
         "domain": {
          "x": [
           0.6,
           1
          ],
          "y": [
           0,
           1
          ]
         },
         "hole": 0.4,
         "hoverinfo": "label+percent+name",
         "labels": [
          "01 - Clear",
          "03 - Snow",
          "02 - Rain",
          "04 - Freezing Rain",
          "05 - Drifting Snow",
          "07 - Fog, mist, smoke, dust",
          "06 - Strong wind",
          "00 - Unknown",
          "99 - Other"
         ],
         "name": "Environment",
         "showlegend": true,
         "type": "pie",
         "uid": "7dd54b68-a3ed-11e8-927a-0800275aa47c",
         "values": [
          45929,
          5664,
          5433,
          672,
          304,
          164,
          86,
          67,
          18
         ]
        }
       ],
       "layout": {
        "title": "Environment"
       }
      },
      "text/html": [
       "<div id=\"994033b3-71bb-40ae-a419-93951d91e998\" style=\"height: 525px; width: 100%;\" class=\"plotly-graph-div\"></div><script type=\"text/javascript\">require([\"plotly\"], function(Plotly) { window.PLOTLYENV=window.PLOTLYENV || {};window.PLOTLYENV.BASE_URL=\"https://plot.ly\";Plotly.newPlot(\"994033b3-71bb-40ae-a419-93951d91e998\", [{\"domain\": {\"y\": [0, 1.0], \"x\": [0, 0.4]}, \"uid\": \"7dd857ae-a3ed-11e8-927a-0800275aa47c\", \"columnwidth\": [110, 55, 55], \"cells\": {\"align\": [\"left\", \"right\", \"right\"], \"font\": {\"color\": [\"rgb(40, 40, 40)\", \"rgb(40, 40, 40)\", \"rgb(40, 40, 40)\", \"rgb(40, 40, 40)\", \"rgb(40, 40, 40)\"], \"size\": 12}, \"values\": [[\"01 - Clear\", \"03 - Snow\", \"02 - Rain\", \"04 - Freezing Rain\", \"05 - Drifting Snow\", \"07 - Fog, mist, smoke, dust\", \"06 - Strong wind\", \"00 - Unknown\", \"99 - Other\"], [45929, 5664, 5433, 672, 304, 164, 86, 67, 18], [78.73047979841267, 9.709103999177195, 9.31312888904126, 1.151927593122718, 0.5211101016507534, 0.2811251864168538, 0.1474193050722526, 0.11484992371908051, 0.030855203387215663]], \"suffix\": [\"\", \"\", \"%\"], \"format\": [null, null, \".2f\"]}, \"header\": {\"values\": [\"<b>Environment</b>\", \"<b># of Cases</b>\", \"<b>Percentage</b>\"]}, \"type\": \"table\"}, {\"showlegend\": true, \"name\": \"Environment\", \"labels\": [\"01 - Clear\", \"03 - Snow\", \"02 - Rain\", \"04 - Freezing Rain\", \"05 - Drifting Snow\", \"07 - Fog, mist, smoke, dust\", \"06 - Strong wind\", \"00 - Unknown\", \"99 - Other\"], \"domain\": {\"y\": [0, 1.0], \"x\": [0.6, 1.0]}, \"values\": [45929.0, 5664.0, 5433.0, 672.0, 304.0, 164.0, 86.0, 67.0, 18.0], \"hoverinfo\": \"label+percent+name\", \"hole\": 0.4, \"type\": \"pie\", \"uid\": \"7dd859fc-a3ed-11e8-927a-0800275aa47c\"}], {\"title\": \"Environment\"}, {\"linkText\": \"Export to plot.ly\", \"showLink\": true})});</script>"
      ],
      "text/vnd.plotly.v1+html": [
       "<div id=\"994033b3-71bb-40ae-a419-93951d91e998\" style=\"height: 525px; width: 100%;\" class=\"plotly-graph-div\"></div><script type=\"text/javascript\">require([\"plotly\"], function(Plotly) { window.PLOTLYENV=window.PLOTLYENV || {};window.PLOTLYENV.BASE_URL=\"https://plot.ly\";Plotly.newPlot(\"994033b3-71bb-40ae-a419-93951d91e998\", [{\"domain\": {\"y\": [0, 1.0], \"x\": [0, 0.4]}, \"uid\": \"7dd857ae-a3ed-11e8-927a-0800275aa47c\", \"columnwidth\": [110, 55, 55], \"cells\": {\"align\": [\"left\", \"right\", \"right\"], \"font\": {\"color\": [\"rgb(40, 40, 40)\", \"rgb(40, 40, 40)\", \"rgb(40, 40, 40)\", \"rgb(40, 40, 40)\", \"rgb(40, 40, 40)\"], \"size\": 12}, \"values\": [[\"01 - Clear\", \"03 - Snow\", \"02 - Rain\", \"04 - Freezing Rain\", \"05 - Drifting Snow\", \"07 - Fog, mist, smoke, dust\", \"06 - Strong wind\", \"00 - Unknown\", \"99 - Other\"], [45929, 5664, 5433, 672, 304, 164, 86, 67, 18], [78.73047979841267, 9.709103999177195, 9.31312888904126, 1.151927593122718, 0.5211101016507534, 0.2811251864168538, 0.1474193050722526, 0.11484992371908051, 0.030855203387215663]], \"suffix\": [\"\", \"\", \"%\"], \"format\": [null, null, \".2f\"]}, \"header\": {\"values\": [\"<b>Environment</b>\", \"<b># of Cases</b>\", \"<b>Percentage</b>\"]}, \"type\": \"table\"}, {\"showlegend\": true, \"name\": \"Environment\", \"labels\": [\"01 - Clear\", \"03 - Snow\", \"02 - Rain\", \"04 - Freezing Rain\", \"05 - Drifting Snow\", \"07 - Fog, mist, smoke, dust\", \"06 - Strong wind\", \"00 - Unknown\", \"99 - Other\"], \"domain\": {\"y\": [0, 1.0], \"x\": [0.6, 1.0]}, \"values\": [45929.0, 5664.0, 5433.0, 672.0, 304.0, 164.0, 86.0, 67.0, 18.0], \"hoverinfo\": \"label+percent+name\", \"hole\": 0.4, \"type\": \"pie\", \"uid\": \"7dd859fc-a3ed-11e8-927a-0800275aa47c\"}], {\"title\": \"Environment\"}, {\"linkText\": \"Export to plot.ly\", \"showLink\": true})});</script>"
      ]
     },
     "metadata": {},
     "output_type": "display_data"
    },
    {
     "data": {
      "application/vnd.plotly.v1+json": {
       "data": [
        {
         "cells": {
          "align": [
           "left",
           "right",
           "right"
          ],
          "font": {
           "color": [
            "rgb(40, 40, 40)",
            "rgb(40, 40, 40)",
            "rgb(40, 40, 40)",
            "rgb(40, 40, 40)",
            "rgb(40, 40, 40)"
           ],
           "size": 12
          },
          "format": [
           null,
           null,
           ".2f"
          ],
          "suffix": [
           "",
           "",
           "%"
          ],
          "values": [
           [
            "01 - Dry",
            "02 - Wet",
            "03 - Loose snow",
            "06 - Ice",
            "04 - Slush",
            "05 - Packed snow",
            "08 - Loose sand or gravel",
            "00 - Unknown",
            "99 - Other",
            "07 - Mud",
            "09 - Spilled liquid"
           ],
           [
            38362,
            10123,
            3844,
            2650,
            1760,
            1443,
            56,
            50,
            41,
            5,
            4
           ],
           [
            65.75816791799514,
            17.352326099626318,
            6.589187150742227,
            4.542493743357674,
            3.0169015050224552,
            2.4735164044019338,
            0.09599232061435085,
            0.08570742911995612,
            0.07028009187836401,
            0.008570742911995612,
            0.006856594329596489
           ]
          ]
         },
         "columnwidth": [
          110,
          55,
          55
         ],
         "domain": {
          "x": [
           0,
           0.4
          ],
          "y": [
           0,
           1
          ]
         },
         "header": {
          "values": [
           "<b>Road_Surface</b>",
           "<b># of Cases</b>",
           "<b>Percentage</b>"
          ]
         },
         "type": "table",
         "uid": "7de5b8f4-a3ed-11e8-927a-0800275aa47c"
        },
        {
         "domain": {
          "x": [
           0.6,
           1
          ],
          "y": [
           0,
           1
          ]
         },
         "hole": 0.4,
         "hoverinfo": "label+percent+name",
         "labels": [
          "01 - Dry",
          "02 - Wet",
          "03 - Loose snow",
          "06 - Ice",
          "04 - Slush",
          "05 - Packed snow",
          "08 - Loose sand or gravel",
          "00 - Unknown",
          "99 - Other",
          "07 - Mud",
          "09 - Spilled liquid"
         ],
         "name": "Road_Surface",
         "showlegend": true,
         "type": "pie",
         "uid": "7de5bbf6-a3ed-11e8-927a-0800275aa47c",
         "values": [
          38362,
          10123,
          3844,
          2650,
          1760,
          1443,
          56,
          50,
          41,
          5,
          4
         ]
        }
       ],
       "layout": {
        "title": "Road_Surface"
       }
      },
      "text/html": [
       "<div id=\"0896f2eb-3eb5-43a9-bdff-717c6835f545\" style=\"height: 525px; width: 100%;\" class=\"plotly-graph-div\"></div><script type=\"text/javascript\">require([\"plotly\"], function(Plotly) { window.PLOTLYENV=window.PLOTLYENV || {};window.PLOTLYENV.BASE_URL=\"https://plot.ly\";Plotly.newPlot(\"0896f2eb-3eb5-43a9-bdff-717c6835f545\", [{\"domain\": {\"y\": [0, 1.0], \"x\": [0, 0.4]}, \"uid\": \"7de91e54-a3ed-11e8-927a-0800275aa47c\", \"columnwidth\": [110, 55, 55], \"cells\": {\"align\": [\"left\", \"right\", \"right\"], \"font\": {\"color\": [\"rgb(40, 40, 40)\", \"rgb(40, 40, 40)\", \"rgb(40, 40, 40)\", \"rgb(40, 40, 40)\", \"rgb(40, 40, 40)\"], \"size\": 12}, \"values\": [[\"01 - Dry\", \"02 - Wet\", \"03 - Loose snow\", \"06 - Ice\", \"04 - Slush\", \"05 - Packed snow\", \"08 - Loose sand or gravel\", \"00 - Unknown\", \"99 - Other\", \"07 - Mud\", \"09 - Spilled liquid\"], [38362, 10123, 3844, 2650, 1760, 1443, 56, 50, 41, 5, 4], [65.75816791799514, 17.352326099626318, 6.589187150742227, 4.542493743357674, 3.0169015050224552, 2.4735164044019338, 0.09599232061435085, 0.08570742911995612, 0.07028009187836401, 0.008570742911995612, 0.006856594329596489]], \"suffix\": [\"\", \"\", \"%\"], \"format\": [null, null, \".2f\"]}, \"header\": {\"values\": [\"<b>Road_Surface</b>\", \"<b># of Cases</b>\", \"<b>Percentage</b>\"]}, \"type\": \"table\"}, {\"showlegend\": true, \"name\": \"Road_Surface\", \"labels\": [\"01 - Dry\", \"02 - Wet\", \"03 - Loose snow\", \"06 - Ice\", \"04 - Slush\", \"05 - Packed snow\", \"08 - Loose sand or gravel\", \"00 - Unknown\", \"99 - Other\", \"07 - Mud\", \"09 - Spilled liquid\"], \"domain\": {\"y\": [0, 1.0], \"x\": [0.6, 1.0]}, \"values\": [38362.0, 10123.0, 3844.0, 2650.0, 1760.0, 1443.0, 56.0, 50.0, 41.0, 5.0, 4.0], \"hoverinfo\": \"label+percent+name\", \"hole\": 0.4, \"type\": \"pie\", \"uid\": \"7de922f0-a3ed-11e8-927a-0800275aa47c\"}], {\"title\": \"Road_Surface\"}, {\"linkText\": \"Export to plot.ly\", \"showLink\": true})});</script>"
      ],
      "text/vnd.plotly.v1+html": [
       "<div id=\"0896f2eb-3eb5-43a9-bdff-717c6835f545\" style=\"height: 525px; width: 100%;\" class=\"plotly-graph-div\"></div><script type=\"text/javascript\">require([\"plotly\"], function(Plotly) { window.PLOTLYENV=window.PLOTLYENV || {};window.PLOTLYENV.BASE_URL=\"https://plot.ly\";Plotly.newPlot(\"0896f2eb-3eb5-43a9-bdff-717c6835f545\", [{\"domain\": {\"y\": [0, 1.0], \"x\": [0, 0.4]}, \"uid\": \"7de91e54-a3ed-11e8-927a-0800275aa47c\", \"columnwidth\": [110, 55, 55], \"cells\": {\"align\": [\"left\", \"right\", \"right\"], \"font\": {\"color\": [\"rgb(40, 40, 40)\", \"rgb(40, 40, 40)\", \"rgb(40, 40, 40)\", \"rgb(40, 40, 40)\", \"rgb(40, 40, 40)\"], \"size\": 12}, \"values\": [[\"01 - Dry\", \"02 - Wet\", \"03 - Loose snow\", \"06 - Ice\", \"04 - Slush\", \"05 - Packed snow\", \"08 - Loose sand or gravel\", \"00 - Unknown\", \"99 - Other\", \"07 - Mud\", \"09 - Spilled liquid\"], [38362, 10123, 3844, 2650, 1760, 1443, 56, 50, 41, 5, 4], [65.75816791799514, 17.352326099626318, 6.589187150742227, 4.542493743357674, 3.0169015050224552, 2.4735164044019338, 0.09599232061435085, 0.08570742911995612, 0.07028009187836401, 0.008570742911995612, 0.006856594329596489]], \"suffix\": [\"\", \"\", \"%\"], \"format\": [null, null, \".2f\"]}, \"header\": {\"values\": [\"<b>Road_Surface</b>\", \"<b># of Cases</b>\", \"<b>Percentage</b>\"]}, \"type\": \"table\"}, {\"showlegend\": true, \"name\": \"Road_Surface\", \"labels\": [\"01 - Dry\", \"02 - Wet\", \"03 - Loose snow\", \"06 - Ice\", \"04 - Slush\", \"05 - Packed snow\", \"08 - Loose sand or gravel\", \"00 - Unknown\", \"99 - Other\", \"07 - Mud\", \"09 - Spilled liquid\"], \"domain\": {\"y\": [0, 1.0], \"x\": [0.6, 1.0]}, \"values\": [38362.0, 10123.0, 3844.0, 2650.0, 1760.0, 1443.0, 56.0, 50.0, 41.0, 5.0, 4.0], \"hoverinfo\": \"label+percent+name\", \"hole\": 0.4, \"type\": \"pie\", \"uid\": \"7de922f0-a3ed-11e8-927a-0800275aa47c\"}], {\"title\": \"Road_Surface\"}, {\"linkText\": \"Export to plot.ly\", \"showLink\": true})});</script>"
      ]
     },
     "metadata": {},
     "output_type": "display_data"
    },
    {
     "data": {
      "application/vnd.plotly.v1+json": {
       "data": [
        {
         "cells": {
          "align": [
           "left",
           "right",
           "right"
          ],
          "font": {
           "color": [
            "rgb(40, 40, 40)",
            "rgb(40, 40, 40)",
            "rgb(40, 40, 40)",
            "rgb(40, 40, 40)",
            "rgb(40, 40, 40)"
           ],
           "size": 12
          },
          "format": [
           null,
           null,
           ".2f"
          ],
          "suffix": [
           "",
           "",
           "%"
          ],
          "values": [
           [
            "10 - No control",
            "01 - Traffic signal",
            "02 - Stop sign",
            "11 - Roundabout",
            "03 - Yield sign",
            "08 - Traffic gate",
            "09 - Traffic controller",
            "07 - School bus",
            "04 - Ped. crossover"
           ],
           [
            27966,
            23314,
            6099,
            526,
            370,
            15,
            9,
            2,
            1
           ],
           [
            47.96747967479675,
            39.98833659222668,
            10.461047648451167,
            0.9021988954066756,
            0.6346265994305512,
            0.025728105382319642,
            0.015436863229391787,
            0.003430414050975953,
            0.0017152070254879766
           ]
          ]
         },
         "columnwidth": [
          110,
          55,
          55
         ],
         "domain": {
          "x": [
           0,
           0.4
          ],
          "y": [
           0,
           1
          ]
         },
         "header": {
          "values": [
           "<b>Traffic_Control</b>",
           "<b># of Cases</b>",
           "<b>Percentage</b>"
          ]
         },
         "type": "table",
         "uid": "7df43ea6-a3ed-11e8-927a-0800275aa47c"
        },
        {
         "domain": {
          "x": [
           0.6,
           1
          ],
          "y": [
           0,
           1
          ]
         },
         "hole": 0.4,
         "hoverinfo": "label+percent+name",
         "labels": [
          "10 - No control",
          "01 - Traffic signal",
          "02 - Stop sign",
          "11 - Roundabout",
          "03 - Yield sign",
          "08 - Traffic gate",
          "09 - Traffic controller",
          "07 - School bus",
          "04 - Ped. crossover"
         ],
         "name": "Traffic_Control",
         "showlegend": true,
         "type": "pie",
         "uid": "7df44112-a3ed-11e8-927a-0800275aa47c",
         "values": [
          27966,
          23314,
          6099,
          526,
          370,
          15,
          9,
          2,
          1
         ]
        }
       ],
       "layout": {
        "title": "Traffic_Control"
       }
      },
      "text/html": [
       "<div id=\"c51451c9-2d53-41f5-8558-69096de81d6f\" style=\"height: 525px; width: 100%;\" class=\"plotly-graph-div\"></div><script type=\"text/javascript\">require([\"plotly\"], function(Plotly) { window.PLOTLYENV=window.PLOTLYENV || {};window.PLOTLYENV.BASE_URL=\"https://plot.ly\";Plotly.newPlot(\"c51451c9-2d53-41f5-8558-69096de81d6f\", [{\"domain\": {\"y\": [0, 1.0], \"x\": [0, 0.4]}, \"uid\": \"7df73110-a3ed-11e8-927a-0800275aa47c\", \"columnwidth\": [110, 55, 55], \"cells\": {\"align\": [\"left\", \"right\", \"right\"], \"font\": {\"color\": [\"rgb(40, 40, 40)\", \"rgb(40, 40, 40)\", \"rgb(40, 40, 40)\", \"rgb(40, 40, 40)\", \"rgb(40, 40, 40)\"], \"size\": 12}, \"values\": [[\"10 - No control\", \"01 - Traffic signal\", \"02 - Stop sign\", \"11 - Roundabout\", \"03 - Yield sign\", \"08 - Traffic gate\", \"09 - Traffic controller\", \"07 - School bus\", \"04 - Ped. crossover\"], [27966, 23314, 6099, 526, 370, 15, 9, 2, 1], [47.96747967479675, 39.98833659222668, 10.461047648451167, 0.9021988954066756, 0.6346265994305512, 0.025728105382319642, 0.015436863229391787, 0.003430414050975953, 0.0017152070254879766]], \"suffix\": [\"\", \"\", \"%\"], \"format\": [null, null, \".2f\"]}, \"header\": {\"values\": [\"<b>Traffic_Control</b>\", \"<b># of Cases</b>\", \"<b>Percentage</b>\"]}, \"type\": \"table\"}, {\"showlegend\": true, \"name\": \"Traffic_Control\", \"labels\": [\"10 - No control\", \"01 - Traffic signal\", \"02 - Stop sign\", \"11 - Roundabout\", \"03 - Yield sign\", \"08 - Traffic gate\", \"09 - Traffic controller\", \"07 - School bus\", \"04 - Ped. crossover\"], \"domain\": {\"y\": [0, 1.0], \"x\": [0.6, 1.0]}, \"values\": [27966.0, 23314.0, 6099.0, 526.0, 370.0, 15.0, 9.0, 2.0, 1.0], \"hoverinfo\": \"label+percent+name\", \"hole\": 0.4, \"type\": \"pie\", \"uid\": \"7df73368-a3ed-11e8-927a-0800275aa47c\"}], {\"title\": \"Traffic_Control\"}, {\"linkText\": \"Export to plot.ly\", \"showLink\": true})});</script>"
      ],
      "text/vnd.plotly.v1+html": [
       "<div id=\"c51451c9-2d53-41f5-8558-69096de81d6f\" style=\"height: 525px; width: 100%;\" class=\"plotly-graph-div\"></div><script type=\"text/javascript\">require([\"plotly\"], function(Plotly) { window.PLOTLYENV=window.PLOTLYENV || {};window.PLOTLYENV.BASE_URL=\"https://plot.ly\";Plotly.newPlot(\"c51451c9-2d53-41f5-8558-69096de81d6f\", [{\"domain\": {\"y\": [0, 1.0], \"x\": [0, 0.4]}, \"uid\": \"7df73110-a3ed-11e8-927a-0800275aa47c\", \"columnwidth\": [110, 55, 55], \"cells\": {\"align\": [\"left\", \"right\", \"right\"], \"font\": {\"color\": [\"rgb(40, 40, 40)\", \"rgb(40, 40, 40)\", \"rgb(40, 40, 40)\", \"rgb(40, 40, 40)\", \"rgb(40, 40, 40)\"], \"size\": 12}, \"values\": [[\"10 - No control\", \"01 - Traffic signal\", \"02 - Stop sign\", \"11 - Roundabout\", \"03 - Yield sign\", \"08 - Traffic gate\", \"09 - Traffic controller\", \"07 - School bus\", \"04 - Ped. crossover\"], [27966, 23314, 6099, 526, 370, 15, 9, 2, 1], [47.96747967479675, 39.98833659222668, 10.461047648451167, 0.9021988954066756, 0.6346265994305512, 0.025728105382319642, 0.015436863229391787, 0.003430414050975953, 0.0017152070254879766]], \"suffix\": [\"\", \"\", \"%\"], \"format\": [null, null, \".2f\"]}, \"header\": {\"values\": [\"<b>Traffic_Control</b>\", \"<b># of Cases</b>\", \"<b>Percentage</b>\"]}, \"type\": \"table\"}, {\"showlegend\": true, \"name\": \"Traffic_Control\", \"labels\": [\"10 - No control\", \"01 - Traffic signal\", \"02 - Stop sign\", \"11 - Roundabout\", \"03 - Yield sign\", \"08 - Traffic gate\", \"09 - Traffic controller\", \"07 - School bus\", \"04 - Ped. crossover\"], \"domain\": {\"y\": [0, 1.0], \"x\": [0.6, 1.0]}, \"values\": [27966.0, 23314.0, 6099.0, 526.0, 370.0, 15.0, 9.0, 2.0, 1.0], \"hoverinfo\": \"label+percent+name\", \"hole\": 0.4, \"type\": \"pie\", \"uid\": \"7df73368-a3ed-11e8-927a-0800275aa47c\"}], {\"title\": \"Traffic_Control\"}, {\"linkText\": \"Export to plot.ly\", \"showLink\": true})});</script>"
      ]
     },
     "metadata": {},
     "output_type": "display_data"
    },
    {
     "data": {
      "application/vnd.plotly.v1+json": {
       "data": [
        {
         "cells": {
          "align": [
           "left",
           "right",
           "right"
          ],
          "font": {
           "color": [
            "rgb(40, 40, 40)",
            "rgb(40, 40, 40)",
            "rgb(40, 40, 40)",
            "rgb(40, 40, 40)",
            "rgb(40, 40, 40)"
           ],
           "size": 12
          },
          "format": [
           null,
           null,
           ".2f"
          ],
          "suffix": [
           "",
           "",
           "%"
          ],
          "values": [
           [
            "01 - Non intersection",
            "02 - Intersection related",
            "03 - At intersection",
            "04 - At/near private drive",
            "07 - Overpass or bridge",
            "05 - At railway crossing",
            "06 - Underpass or tunnel",
            "98 - Other",
            "99 - Other"
           ],
           [
            22114,
            18280,
            12523,
            5105,
            240,
            37,
            29,
            3,
            1
           ],
           [
            37.91058081327573,
            31.33785915106631,
            21.46849070835905,
            8.751628608653911,
            0.41143797572515944,
            0.06343002125762875,
            0.0497154220667901,
            0.0051429746965644925,
            0.001714324898854831
           ]
          ]
         },
         "columnwidth": [
          110,
          55,
          55
         ],
         "domain": {
          "x": [
           0,
           0.4
          ],
          "y": [
           0,
           1
          ]
         },
         "header": {
          "values": [
           "<b>Collision_Location</b>",
           "<b># of Cases</b>",
           "<b>Percentage</b>"
          ]
         },
         "type": "table",
         "uid": "7e0a78d8-a3ed-11e8-927a-0800275aa47c"
        },
        {
         "domain": {
          "x": [
           0.6,
           1
          ],
          "y": [
           0,
           1
          ]
         },
         "hole": 0.4,
         "hoverinfo": "label+percent+name",
         "labels": [
          "01 - Non intersection",
          "02 - Intersection related",
          "03 - At intersection",
          "04 - At/near private drive",
          "07 - Overpass or bridge",
          "05 - At railway crossing",
          "06 - Underpass or tunnel",
          "98 - Other",
          "99 - Other"
         ],
         "name": "Collision_Location",
         "showlegend": true,
         "type": "pie",
         "uid": "7e0a7bee-a3ed-11e8-927a-0800275aa47c",
         "values": [
          22114,
          18280,
          12523,
          5105,
          240,
          37,
          29,
          3,
          1
         ]
        }
       ],
       "layout": {
        "title": "Collision_Location"
       }
      },
      "text/html": [
       "<div id=\"913fa05e-baea-4336-8c35-22e1319c0e48\" style=\"height: 525px; width: 100%;\" class=\"plotly-graph-div\"></div><script type=\"text/javascript\">require([\"plotly\"], function(Plotly) { window.PLOTLYENV=window.PLOTLYENV || {};window.PLOTLYENV.BASE_URL=\"https://plot.ly\";Plotly.newPlot(\"913fa05e-baea-4336-8c35-22e1319c0e48\", [{\"domain\": {\"y\": [0, 1.0], \"x\": [0, 0.4]}, \"uid\": \"7e0e512e-a3ed-11e8-927a-0800275aa47c\", \"columnwidth\": [110, 55, 55], \"cells\": {\"align\": [\"left\", \"right\", \"right\"], \"font\": {\"color\": [\"rgb(40, 40, 40)\", \"rgb(40, 40, 40)\", \"rgb(40, 40, 40)\", \"rgb(40, 40, 40)\", \"rgb(40, 40, 40)\"], \"size\": 12}, \"values\": [[\"01 - Non intersection\", \"02 - Intersection related\", \"03 - At intersection\", \"04 - At/near private drive\", \"07 - Overpass or bridge\", \"05 - At railway crossing\", \"06 - Underpass or tunnel\", \"98 - Other\", \"99 - Other\"], [22114, 18280, 12523, 5105, 240, 37, 29, 3, 1], [37.91058081327573, 31.33785915106631, 21.46849070835905, 8.751628608653911, 0.41143797572515944, 0.06343002125762875, 0.0497154220667901, 0.0051429746965644925, 0.001714324898854831]], \"suffix\": [\"\", \"\", \"%\"], \"format\": [null, null, \".2f\"]}, \"header\": {\"values\": [\"<b>Collision_Location</b>\", \"<b># of Cases</b>\", \"<b>Percentage</b>\"]}, \"type\": \"table\"}, {\"showlegend\": true, \"name\": \"Collision_Location\", \"labels\": [\"01 - Non intersection\", \"02 - Intersection related\", \"03 - At intersection\", \"04 - At/near private drive\", \"07 - Overpass or bridge\", \"05 - At railway crossing\", \"06 - Underpass or tunnel\", \"98 - Other\", \"99 - Other\"], \"domain\": {\"y\": [0, 1.0], \"x\": [0.6, 1.0]}, \"values\": [22114.0, 18280.0, 12523.0, 5105.0, 240.0, 37.0, 29.0, 3.0, 1.0], \"hoverinfo\": \"label+percent+name\", \"hole\": 0.4, \"type\": \"pie\", \"uid\": \"7e0e537c-a3ed-11e8-927a-0800275aa47c\"}], {\"title\": \"Collision_Location\"}, {\"linkText\": \"Export to plot.ly\", \"showLink\": true})});</script>"
      ],
      "text/vnd.plotly.v1+html": [
       "<div id=\"913fa05e-baea-4336-8c35-22e1319c0e48\" style=\"height: 525px; width: 100%;\" class=\"plotly-graph-div\"></div><script type=\"text/javascript\">require([\"plotly\"], function(Plotly) { window.PLOTLYENV=window.PLOTLYENV || {};window.PLOTLYENV.BASE_URL=\"https://plot.ly\";Plotly.newPlot(\"913fa05e-baea-4336-8c35-22e1319c0e48\", [{\"domain\": {\"y\": [0, 1.0], \"x\": [0, 0.4]}, \"uid\": \"7e0e512e-a3ed-11e8-927a-0800275aa47c\", \"columnwidth\": [110, 55, 55], \"cells\": {\"align\": [\"left\", \"right\", \"right\"], \"font\": {\"color\": [\"rgb(40, 40, 40)\", \"rgb(40, 40, 40)\", \"rgb(40, 40, 40)\", \"rgb(40, 40, 40)\", \"rgb(40, 40, 40)\"], \"size\": 12}, \"values\": [[\"01 - Non intersection\", \"02 - Intersection related\", \"03 - At intersection\", \"04 - At/near private drive\", \"07 - Overpass or bridge\", \"05 - At railway crossing\", \"06 - Underpass or tunnel\", \"98 - Other\", \"99 - Other\"], [22114, 18280, 12523, 5105, 240, 37, 29, 3, 1], [37.91058081327573, 31.33785915106631, 21.46849070835905, 8.751628608653911, 0.41143797572515944, 0.06343002125762875, 0.0497154220667901, 0.0051429746965644925, 0.001714324898854831]], \"suffix\": [\"\", \"\", \"%\"], \"format\": [null, null, \".2f\"]}, \"header\": {\"values\": [\"<b>Collision_Location</b>\", \"<b># of Cases</b>\", \"<b>Percentage</b>\"]}, \"type\": \"table\"}, {\"showlegend\": true, \"name\": \"Collision_Location\", \"labels\": [\"01 - Non intersection\", \"02 - Intersection related\", \"03 - At intersection\", \"04 - At/near private drive\", \"07 - Overpass or bridge\", \"05 - At railway crossing\", \"06 - Underpass or tunnel\", \"98 - Other\", \"99 - Other\"], \"domain\": {\"y\": [0, 1.0], \"x\": [0.6, 1.0]}, \"values\": [22114.0, 18280.0, 12523.0, 5105.0, 240.0, 37.0, 29.0, 3.0, 1.0], \"hoverinfo\": \"label+percent+name\", \"hole\": 0.4, \"type\": \"pie\", \"uid\": \"7e0e537c-a3ed-11e8-927a-0800275aa47c\"}], {\"title\": \"Collision_Location\"}, {\"linkText\": \"Export to plot.ly\", \"showLink\": true})});</script>"
      ]
     },
     "metadata": {},
     "output_type": "display_data"
    },
    {
     "data": {
      "application/vnd.plotly.v1+json": {
       "data": [
        {
         "cells": {
          "align": [
           "left",
           "right",
           "right"
          ],
          "font": {
           "color": [
            "rgb(40, 40, 40)",
            "rgb(40, 40, 40)",
            "rgb(40, 40, 40)",
            "rgb(40, 40, 40)",
            "rgb(40, 40, 40)"
           ],
           "size": 12
          },
          "format": [
           null,
           null,
           ".2f"
          ],
          "suffix": [
           "",
           "",
           "%"
          ],
          "values": [
           [
            "01 - Daylight",
            "07 - Dark",
            "05 - Dusk",
            "03 - Dawn",
            "00 - Unknown",
            "08 - Dark, artificial",
            "99 - Other",
            "04 - Dawn, artificial",
            "06 - Dusk, artificial",
            "02 - Daylight, artificial"
           ],
           [
            39879,
            13237,
            2609,
            1354,
            1163,
            73,
            11,
            6,
            3,
            1
           ],
           [
            68.36087493143171,
            22.690962698848054,
            4.4723669775095996,
            2.321036752605595,
            1.9936231486560614,
            0.12513713658804168,
            0.01885628085573231,
            0.010285244103126714,
            0.005142622051563357,
            0.0017142073505211192
           ]
          ]
         },
         "columnwidth": [
          110,
          55,
          55
         ],
         "domain": {
          "x": [
           0,
           0.4
          ],
          "y": [
           0,
           1
          ]
         },
         "header": {
          "values": [
           "<b>Light</b>",
           "<b># of Cases</b>",
           "<b>Percentage</b>"
          ]
         },
         "type": "table",
         "uid": "7e1a7238-a3ed-11e8-927a-0800275aa47c"
        },
        {
         "domain": {
          "x": [
           0.6,
           1
          ],
          "y": [
           0,
           1
          ]
         },
         "hole": 0.4,
         "hoverinfo": "label+percent+name",
         "labels": [
          "01 - Daylight",
          "07 - Dark",
          "05 - Dusk",
          "03 - Dawn",
          "00 - Unknown",
          "08 - Dark, artificial",
          "99 - Other",
          "04 - Dawn, artificial",
          "06 - Dusk, artificial",
          "02 - Daylight, artificial"
         ],
         "name": "Light",
         "showlegend": true,
         "type": "pie",
         "uid": "7e1a74c2-a3ed-11e8-927a-0800275aa47c",
         "values": [
          39879,
          13237,
          2609,
          1354,
          1163,
          73,
          11,
          6,
          3,
          1
         ]
        }
       ],
       "layout": {
        "title": "Light"
       }
      },
      "text/html": [
       "<div id=\"1fc58a53-2101-4eb7-a885-5b43ffe23949\" style=\"height: 525px; width: 100%;\" class=\"plotly-graph-div\"></div><script type=\"text/javascript\">require([\"plotly\"], function(Plotly) { window.PLOTLYENV=window.PLOTLYENV || {};window.PLOTLYENV.BASE_URL=\"https://plot.ly\";Plotly.newPlot(\"1fc58a53-2101-4eb7-a885-5b43ffe23949\", [{\"domain\": {\"y\": [0, 1.0], \"x\": [0, 0.4]}, \"uid\": \"7e1e6faa-a3ed-11e8-927a-0800275aa47c\", \"columnwidth\": [110, 55, 55], \"cells\": {\"align\": [\"left\", \"right\", \"right\"], \"font\": {\"color\": [\"rgb(40, 40, 40)\", \"rgb(40, 40, 40)\", \"rgb(40, 40, 40)\", \"rgb(40, 40, 40)\", \"rgb(40, 40, 40)\"], \"size\": 12}, \"values\": [[\"01 - Daylight\", \"07 - Dark\", \"05 - Dusk\", \"03 - Dawn\", \"00 - Unknown\", \"08 - Dark, artificial\", \"99 - Other\", \"04 - Dawn, artificial\", \"06 - Dusk, artificial\", \"02 - Daylight, artificial\"], [39879, 13237, 2609, 1354, 1163, 73, 11, 6, 3, 1], [68.36087493143171, 22.690962698848054, 4.4723669775095996, 2.321036752605595, 1.9936231486560614, 0.12513713658804168, 0.01885628085573231, 0.010285244103126714, 0.005142622051563357, 0.0017142073505211192]], \"suffix\": [\"\", \"\", \"%\"], \"format\": [null, null, \".2f\"]}, \"header\": {\"values\": [\"<b>Light</b>\", \"<b># of Cases</b>\", \"<b>Percentage</b>\"]}, \"type\": \"table\"}, {\"showlegend\": true, \"name\": \"Light\", \"labels\": [\"01 - Daylight\", \"07 - Dark\", \"05 - Dusk\", \"03 - Dawn\", \"00 - Unknown\", \"08 - Dark, artificial\", \"99 - Other\", \"04 - Dawn, artificial\", \"06 - Dusk, artificial\", \"02 - Daylight, artificial\"], \"domain\": {\"y\": [0, 1.0], \"x\": [0.6, 1.0]}, \"values\": [39879.0, 13237.0, 2609.0, 1354.0, 1163.0, 73.0, 11.0, 6.0, 3.0, 1.0], \"hoverinfo\": \"label+percent+name\", \"hole\": 0.4, \"type\": \"pie\", \"uid\": \"7e1e7450-a3ed-11e8-927a-0800275aa47c\"}], {\"title\": \"Light\"}, {\"linkText\": \"Export to plot.ly\", \"showLink\": true})});</script>"
      ],
      "text/vnd.plotly.v1+html": [
       "<div id=\"1fc58a53-2101-4eb7-a885-5b43ffe23949\" style=\"height: 525px; width: 100%;\" class=\"plotly-graph-div\"></div><script type=\"text/javascript\">require([\"plotly\"], function(Plotly) { window.PLOTLYENV=window.PLOTLYENV || {};window.PLOTLYENV.BASE_URL=\"https://plot.ly\";Plotly.newPlot(\"1fc58a53-2101-4eb7-a885-5b43ffe23949\", [{\"domain\": {\"y\": [0, 1.0], \"x\": [0, 0.4]}, \"uid\": \"7e1e6faa-a3ed-11e8-927a-0800275aa47c\", \"columnwidth\": [110, 55, 55], \"cells\": {\"align\": [\"left\", \"right\", \"right\"], \"font\": {\"color\": [\"rgb(40, 40, 40)\", \"rgb(40, 40, 40)\", \"rgb(40, 40, 40)\", \"rgb(40, 40, 40)\", \"rgb(40, 40, 40)\"], \"size\": 12}, \"values\": [[\"01 - Daylight\", \"07 - Dark\", \"05 - Dusk\", \"03 - Dawn\", \"00 - Unknown\", \"08 - Dark, artificial\", \"99 - Other\", \"04 - Dawn, artificial\", \"06 - Dusk, artificial\", \"02 - Daylight, artificial\"], [39879, 13237, 2609, 1354, 1163, 73, 11, 6, 3, 1], [68.36087493143171, 22.690962698848054, 4.4723669775095996, 2.321036752605595, 1.9936231486560614, 0.12513713658804168, 0.01885628085573231, 0.010285244103126714, 0.005142622051563357, 0.0017142073505211192]], \"suffix\": [\"\", \"\", \"%\"], \"format\": [null, null, \".2f\"]}, \"header\": {\"values\": [\"<b>Light</b>\", \"<b># of Cases</b>\", \"<b>Percentage</b>\"]}, \"type\": \"table\"}, {\"showlegend\": true, \"name\": \"Light\", \"labels\": [\"01 - Daylight\", \"07 - Dark\", \"05 - Dusk\", \"03 - Dawn\", \"00 - Unknown\", \"08 - Dark, artificial\", \"99 - Other\", \"04 - Dawn, artificial\", \"06 - Dusk, artificial\", \"02 - Daylight, artificial\"], \"domain\": {\"y\": [0, 1.0], \"x\": [0.6, 1.0]}, \"values\": [39879.0, 13237.0, 2609.0, 1354.0, 1163.0, 73.0, 11.0, 6.0, 3.0, 1.0], \"hoverinfo\": \"label+percent+name\", \"hole\": 0.4, \"type\": \"pie\", \"uid\": \"7e1e7450-a3ed-11e8-927a-0800275aa47c\"}], {\"title\": \"Light\"}, {\"linkText\": \"Export to plot.ly\", \"showLink\": true})});</script>"
      ]
     },
     "metadata": {},
     "output_type": "display_data"
    },
    {
     "data": {
      "application/vnd.plotly.v1+json": {
       "data": [
        {
         "cells": {
          "align": [
           "left",
           "right",
           "right"
          ],
          "font": {
           "color": [
            "rgb(40, 40, 40)",
            "rgb(40, 40, 40)",
            "rgb(40, 40, 40)",
            "rgb(40, 40, 40)",
            "rgb(40, 40, 40)"
           ],
           "size": 12
          },
          "format": [
           null,
           null,
           ".2f"
          ],
          "suffix": [
           "",
           "",
           "%"
          ],
          "values": [
           [
            "03 - P.D. only",
            "02 - Non-fatal injury",
            "01 - Fatal injury"
           ],
           [
            47248,
            10991,
            99
           ],
           [
            80.99009222119373,
            18.840207069148754,
            0.1697007096575131
           ]
          ]
         },
         "columnwidth": [
          110,
          55,
          55
         ],
         "domain": {
          "x": [
           0,
           0.4
          ],
          "y": [
           0,
           1
          ]
         },
         "header": {
          "values": [
           "<b>Collision_Classification</b>",
           "<b># of Cases</b>",
           "<b>Percentage</b>"
          ]
         },
         "type": "table",
         "uid": "7e2bcc04-a3ed-11e8-927a-0800275aa47c"
        },
        {
         "domain": {
          "x": [
           0.6,
           1
          ],
          "y": [
           0,
           1
          ]
         },
         "hole": 0.4,
         "hoverinfo": "label+percent+name",
         "labels": [
          "03 - P.D. only",
          "02 - Non-fatal injury",
          "01 - Fatal injury"
         ],
         "name": "Collision_Classification",
         "showlegend": true,
         "type": "pie",
         "uid": "7e2bcfc4-a3ed-11e8-927a-0800275aa47c",
         "values": [
          47248,
          10991,
          99
         ]
        }
       ],
       "layout": {
        "title": "Collision_Classification"
       }
      },
      "text/html": [
       "<div id=\"2a0f753a-663a-4fa8-9459-402dd5a2e0cf\" style=\"height: 525px; width: 100%;\" class=\"plotly-graph-div\"></div><script type=\"text/javascript\">require([\"plotly\"], function(Plotly) { window.PLOTLYENV=window.PLOTLYENV || {};window.PLOTLYENV.BASE_URL=\"https://plot.ly\";Plotly.newPlot(\"2a0f753a-663a-4fa8-9459-402dd5a2e0cf\", [{\"domain\": {\"y\": [0, 1.0], \"x\": [0, 0.4]}, \"uid\": \"7e2f73e0-a3ed-11e8-927a-0800275aa47c\", \"columnwidth\": [110, 55, 55], \"cells\": {\"align\": [\"left\", \"right\", \"right\"], \"font\": {\"color\": [\"rgb(40, 40, 40)\", \"rgb(40, 40, 40)\", \"rgb(40, 40, 40)\", \"rgb(40, 40, 40)\", \"rgb(40, 40, 40)\"], \"size\": 12}, \"values\": [[\"03 - P.D. only\", \"02 - Non-fatal injury\", \"01 - Fatal injury\"], [47248, 10991, 99], [80.99009222119373, 18.840207069148754, 0.1697007096575131]], \"suffix\": [\"\", \"\", \"%\"], \"format\": [null, null, \".2f\"]}, \"header\": {\"values\": [\"<b>Collision_Classification</b>\", \"<b># of Cases</b>\", \"<b>Percentage</b>\"]}, \"type\": \"table\"}, {\"showlegend\": true, \"name\": \"Collision_Classification\", \"labels\": [\"03 - P.D. only\", \"02 - Non-fatal injury\", \"01 - Fatal injury\"], \"domain\": {\"y\": [0, 1.0], \"x\": [0.6, 1.0]}, \"values\": [47248.0, 10991.0, 99.0], \"hoverinfo\": \"label+percent+name\", \"hole\": 0.4, \"type\": \"pie\", \"uid\": \"7e2f76f6-a3ed-11e8-927a-0800275aa47c\"}], {\"title\": \"Collision_Classification\"}, {\"linkText\": \"Export to plot.ly\", \"showLink\": true})});</script>"
      ],
      "text/vnd.plotly.v1+html": [
       "<div id=\"2a0f753a-663a-4fa8-9459-402dd5a2e0cf\" style=\"height: 525px; width: 100%;\" class=\"plotly-graph-div\"></div><script type=\"text/javascript\">require([\"plotly\"], function(Plotly) { window.PLOTLYENV=window.PLOTLYENV || {};window.PLOTLYENV.BASE_URL=\"https://plot.ly\";Plotly.newPlot(\"2a0f753a-663a-4fa8-9459-402dd5a2e0cf\", [{\"domain\": {\"y\": [0, 1.0], \"x\": [0, 0.4]}, \"uid\": \"7e2f73e0-a3ed-11e8-927a-0800275aa47c\", \"columnwidth\": [110, 55, 55], \"cells\": {\"align\": [\"left\", \"right\", \"right\"], \"font\": {\"color\": [\"rgb(40, 40, 40)\", \"rgb(40, 40, 40)\", \"rgb(40, 40, 40)\", \"rgb(40, 40, 40)\", \"rgb(40, 40, 40)\"], \"size\": 12}, \"values\": [[\"03 - P.D. only\", \"02 - Non-fatal injury\", \"01 - Fatal injury\"], [47248, 10991, 99], [80.99009222119373, 18.840207069148754, 0.1697007096575131]], \"suffix\": [\"\", \"\", \"%\"], \"format\": [null, null, \".2f\"]}, \"header\": {\"values\": [\"<b>Collision_Classification</b>\", \"<b># of Cases</b>\", \"<b>Percentage</b>\"]}, \"type\": \"table\"}, {\"showlegend\": true, \"name\": \"Collision_Classification\", \"labels\": [\"03 - P.D. only\", \"02 - Non-fatal injury\", \"01 - Fatal injury\"], \"domain\": {\"y\": [0, 1.0], \"x\": [0.6, 1.0]}, \"values\": [47248.0, 10991.0, 99.0], \"hoverinfo\": \"label+percent+name\", \"hole\": 0.4, \"type\": \"pie\", \"uid\": \"7e2f76f6-a3ed-11e8-927a-0800275aa47c\"}], {\"title\": \"Collision_Classification\"}, {\"linkText\": \"Export to plot.ly\", \"showLink\": true})});</script>"
      ]
     },
     "metadata": {},
     "output_type": "display_data"
    },
    {
     "data": {
      "application/vnd.plotly.v1+json": {
       "data": [
        {
         "cells": {
          "align": [
           "left",
           "right",
           "right"
          ],
          "font": {
           "color": [
            "rgb(40, 40, 40)",
            "rgb(40, 40, 40)",
            "rgb(40, 40, 40)",
            "rgb(40, 40, 40)",
            "rgb(40, 40, 40)"
           ],
           "size": 12
          },
          "format": [
           null,
           null,
           ".2f"
          ],
          "suffix": [
           "",
           "",
           "%"
          ],
          "values": [
           [
            "03 - Rear end",
            "07 - SMV other",
            "02 - Angle",
            "04 - Sideswipe",
            "05 - Turning movement",
            "06 - SMV unattended vehicle",
            "99 - Other",
            "01 - Approaching"
           ],
           [
            19735,
            9661,
            7985,
            7691,
            6233,
            4717,
            1456,
            860
           ],
           [
            33.828722273646676,
            16.56038945455792,
            13.687476430456991,
            13.18351674723165,
            10.684288114093729,
            8.08563886317666,
            2.495800335973122,
            1.4741677808632452
           ]
          ]
         },
         "columnwidth": [
          110,
          55,
          55
         ],
         "domain": {
          "x": [
           0,
           0.4
          ],
          "y": [
           0,
           1
          ]
         },
         "header": {
          "values": [
           "<b>Impact_type</b>",
           "<b># of Cases</b>",
           "<b>Percentage</b>"
          ]
         },
         "type": "table",
         "uid": "7e3e2264-a3ed-11e8-927a-0800275aa47c"
        },
        {
         "domain": {
          "x": [
           0.6,
           1
          ],
          "y": [
           0,
           1
          ]
         },
         "hole": 0.4,
         "hoverinfo": "label+percent+name",
         "labels": [
          "03 - Rear end",
          "07 - SMV other",
          "02 - Angle",
          "04 - Sideswipe",
          "05 - Turning movement",
          "06 - SMV unattended vehicle",
          "99 - Other",
          "01 - Approaching"
         ],
         "name": "Impact_type",
         "showlegend": true,
         "type": "pie",
         "uid": "7e3e2520-a3ed-11e8-927a-0800275aa47c",
         "values": [
          19735,
          9661,
          7985,
          7691,
          6233,
          4717,
          1456,
          860
         ]
        }
       ],
       "layout": {
        "title": "Impact_type"
       }
      },
      "text/html": [
       "<div id=\"6cd9d71a-8d98-4f48-b470-23cfc8c3960e\" style=\"height: 525px; width: 100%;\" class=\"plotly-graph-div\"></div><script type=\"text/javascript\">require([\"plotly\"], function(Plotly) { window.PLOTLYENV=window.PLOTLYENV || {};window.PLOTLYENV.BASE_URL=\"https://plot.ly\";Plotly.newPlot(\"6cd9d71a-8d98-4f48-b470-23cfc8c3960e\", [{\"domain\": {\"y\": [0, 1.0], \"x\": [0, 0.4]}, \"uid\": \"7e419a34-a3ed-11e8-927a-0800275aa47c\", \"columnwidth\": [110, 55, 55], \"cells\": {\"align\": [\"left\", \"right\", \"right\"], \"font\": {\"color\": [\"rgb(40, 40, 40)\", \"rgb(40, 40, 40)\", \"rgb(40, 40, 40)\", \"rgb(40, 40, 40)\", \"rgb(40, 40, 40)\"], \"size\": 12}, \"values\": [[\"03 - Rear end\", \"07 - SMV other\", \"02 - Angle\", \"04 - Sideswipe\", \"05 - Turning movement\", \"06 - SMV unattended vehicle\", \"99 - Other\", \"01 - Approaching\"], [19735, 9661, 7985, 7691, 6233, 4717, 1456, 860], [33.828722273646676, 16.56038945455792, 13.687476430456991, 13.18351674723165, 10.684288114093729, 8.08563886317666, 2.495800335973122, 1.4741677808632452]], \"suffix\": [\"\", \"\", \"%\"], \"format\": [null, null, \".2f\"]}, \"header\": {\"values\": [\"<b>Impact_type</b>\", \"<b># of Cases</b>\", \"<b>Percentage</b>\"]}, \"type\": \"table\"}, {\"showlegend\": true, \"name\": \"Impact_type\", \"labels\": [\"03 - Rear end\", \"07 - SMV other\", \"02 - Angle\", \"04 - Sideswipe\", \"05 - Turning movement\", \"06 - SMV unattended vehicle\", \"99 - Other\", \"01 - Approaching\"], \"domain\": {\"y\": [0, 1.0], \"x\": [0.6, 1.0]}, \"values\": [19735.0, 9661.0, 7985.0, 7691.0, 6233.0, 4717.0, 1456.0, 860.0], \"hoverinfo\": \"label+percent+name\", \"hole\": 0.4, \"type\": \"pie\", \"uid\": \"7e419d9a-a3ed-11e8-927a-0800275aa47c\"}], {\"title\": \"Impact_type\"}, {\"linkText\": \"Export to plot.ly\", \"showLink\": true})});</script>"
      ],
      "text/vnd.plotly.v1+html": [
       "<div id=\"6cd9d71a-8d98-4f48-b470-23cfc8c3960e\" style=\"height: 525px; width: 100%;\" class=\"plotly-graph-div\"></div><script type=\"text/javascript\">require([\"plotly\"], function(Plotly) { window.PLOTLYENV=window.PLOTLYENV || {};window.PLOTLYENV.BASE_URL=\"https://plot.ly\";Plotly.newPlot(\"6cd9d71a-8d98-4f48-b470-23cfc8c3960e\", [{\"domain\": {\"y\": [0, 1.0], \"x\": [0, 0.4]}, \"uid\": \"7e419a34-a3ed-11e8-927a-0800275aa47c\", \"columnwidth\": [110, 55, 55], \"cells\": {\"align\": [\"left\", \"right\", \"right\"], \"font\": {\"color\": [\"rgb(40, 40, 40)\", \"rgb(40, 40, 40)\", \"rgb(40, 40, 40)\", \"rgb(40, 40, 40)\", \"rgb(40, 40, 40)\"], \"size\": 12}, \"values\": [[\"03 - Rear end\", \"07 - SMV other\", \"02 - Angle\", \"04 - Sideswipe\", \"05 - Turning movement\", \"06 - SMV unattended vehicle\", \"99 - Other\", \"01 - Approaching\"], [19735, 9661, 7985, 7691, 6233, 4717, 1456, 860], [33.828722273646676, 16.56038945455792, 13.687476430456991, 13.18351674723165, 10.684288114093729, 8.08563886317666, 2.495800335973122, 1.4741677808632452]], \"suffix\": [\"\", \"\", \"%\"], \"format\": [null, null, \".2f\"]}, \"header\": {\"values\": [\"<b>Impact_type</b>\", \"<b># of Cases</b>\", \"<b>Percentage</b>\"]}, \"type\": \"table\"}, {\"showlegend\": true, \"name\": \"Impact_type\", \"labels\": [\"03 - Rear end\", \"07 - SMV other\", \"02 - Angle\", \"04 - Sideswipe\", \"05 - Turning movement\", \"06 - SMV unattended vehicle\", \"99 - Other\", \"01 - Approaching\"], \"domain\": {\"y\": [0, 1.0], \"x\": [0.6, 1.0]}, \"values\": [19735.0, 9661.0, 7985.0, 7691.0, 6233.0, 4717.0, 1456.0, 860.0], \"hoverinfo\": \"label+percent+name\", \"hole\": 0.4, \"type\": \"pie\", \"uid\": \"7e419d9a-a3ed-11e8-927a-0800275aa47c\"}], {\"title\": \"Impact_type\"}, {\"linkText\": \"Export to plot.ly\", \"showLink\": true})});</script>"
      ]
     },
     "metadata": {},
     "output_type": "display_data"
    },
    {
     "data": {
      "application/vnd.plotly.v1+json": {
       "data": [
        {
         "cells": {
          "align": [
           "left",
           "right",
           "right"
          ],
          "font": {
           "color": [
            "rgb(40, 40, 40)",
            "rgb(40, 40, 40)",
            "rgb(40, 40, 40)",
            "rgb(40, 40, 40)",
            "rgb(40, 40, 40)"
           ],
           "size": 12
          },
          "format": [
           null,
           null,
           ".2f"
          ],
          "suffix": [
           "",
           "",
           "%"
          ],
          "values": [
           [
            1,
            2,
            12,
            11,
            10,
            6,
            9,
            3,
            5,
            7,
            8,
            4
           ],
           [
            6499,
            6051,
            5774,
            5237,
            4709,
            4615,
            4508,
            4496,
            4401,
            4236,
            4118,
            3694
           ],
           [
            11.140251637011895,
            10.37231307209709,
            9.897493914772532,
            8.976996126024202,
            8.071925674517468,
            7.910795707771949,
            7.727381809455243,
            7.706812026466454,
            7.5439679111385365,
            7.261133395042682,
            7.058863862319587,
            6.332064863382358
           ]
          ]
         },
         "columnwidth": [
          110,
          55,
          55
         ],
         "domain": {
          "x": [
           0,
           0.4
          ],
          "y": [
           0,
           1
          ]
         },
         "header": {
          "values": [
           "<b>Month</b>",
           "<b># of Cases</b>",
           "<b>Percentage</b>"
          ]
         },
         "type": "table",
         "uid": "7e54a322-a3ed-11e8-927a-0800275aa47c"
        },
        {
         "domain": {
          "x": [
           0.6,
           1
          ],
          "y": [
           0,
           1
          ]
         },
         "hole": 0.4,
         "hoverinfo": "label+percent+name",
         "labels": [
          1,
          2,
          12,
          11,
          10,
          6,
          9,
          3,
          5,
          7,
          8,
          4
         ],
         "name": "Month",
         "showlegend": true,
         "type": "pie",
         "uid": "7e54a584-a3ed-11e8-927a-0800275aa47c",
         "values": [
          6499,
          6051,
          5774,
          5237,
          4709,
          4615,
          4508,
          4496,
          4401,
          4236,
          4118,
          3694
         ]
        }
       ],
       "layout": {
        "title": "Month"
       }
      },
      "text/html": [
       "<div id=\"e40fe6a2-f431-4b21-bf0c-745dced200b9\" style=\"height: 525px; width: 100%;\" class=\"plotly-graph-div\"></div><script type=\"text/javascript\">require([\"plotly\"], function(Plotly) { window.PLOTLYENV=window.PLOTLYENV || {};window.PLOTLYENV.BASE_URL=\"https://plot.ly\";Plotly.newPlot(\"e40fe6a2-f431-4b21-bf0c-745dced200b9\", [{\"domain\": {\"y\": [0, 1.0], \"x\": [0, 0.4]}, \"uid\": \"7e5796f4-a3ed-11e8-927a-0800275aa47c\", \"columnwidth\": [110, 55, 55], \"cells\": {\"align\": [\"left\", \"right\", \"right\"], \"font\": {\"color\": [\"rgb(40, 40, 40)\", \"rgb(40, 40, 40)\", \"rgb(40, 40, 40)\", \"rgb(40, 40, 40)\", \"rgb(40, 40, 40)\"], \"size\": 12}, \"values\": [[1, 2, 12, 11, 10, 6, 9, 3, 5, 7, 8, 4], [6499, 6051, 5774, 5237, 4709, 4615, 4508, 4496, 4401, 4236, 4118, 3694], [11.140251637011895, 10.37231307209709, 9.897493914772532, 8.976996126024202, 8.071925674517468, 7.910795707771949, 7.727381809455243, 7.706812026466454, 7.5439679111385365, 7.261133395042682, 7.058863862319587, 6.332064863382358]], \"suffix\": [\"\", \"\", \"%\"], \"format\": [null, null, \".2f\"]}, \"header\": {\"values\": [\"<b>Month</b>\", \"<b># of Cases</b>\", \"<b>Percentage</b>\"]}, \"type\": \"table\"}, {\"showlegend\": true, \"name\": \"Month\", \"labels\": [1.0, 2.0, 12.0, 11.0, 10.0, 6.0, 9.0, 3.0, 5.0, 7.0, 8.0, 4.0], \"domain\": {\"y\": [0, 1.0], \"x\": [0.6, 1.0]}, \"values\": [6499.0, 6051.0, 5774.0, 5237.0, 4709.0, 4615.0, 4508.0, 4496.0, 4401.0, 4236.0, 4118.0, 3694.0], \"hoverinfo\": \"label+percent+name\", \"hole\": 0.4, \"type\": \"pie\", \"uid\": \"7e579938-a3ed-11e8-927a-0800275aa47c\"}], {\"title\": \"Month\"}, {\"linkText\": \"Export to plot.ly\", \"showLink\": true})});</script>"
      ],
      "text/vnd.plotly.v1+html": [
       "<div id=\"e40fe6a2-f431-4b21-bf0c-745dced200b9\" style=\"height: 525px; width: 100%;\" class=\"plotly-graph-div\"></div><script type=\"text/javascript\">require([\"plotly\"], function(Plotly) { window.PLOTLYENV=window.PLOTLYENV || {};window.PLOTLYENV.BASE_URL=\"https://plot.ly\";Plotly.newPlot(\"e40fe6a2-f431-4b21-bf0c-745dced200b9\", [{\"domain\": {\"y\": [0, 1.0], \"x\": [0, 0.4]}, \"uid\": \"7e5796f4-a3ed-11e8-927a-0800275aa47c\", \"columnwidth\": [110, 55, 55], \"cells\": {\"align\": [\"left\", \"right\", \"right\"], \"font\": {\"color\": [\"rgb(40, 40, 40)\", \"rgb(40, 40, 40)\", \"rgb(40, 40, 40)\", \"rgb(40, 40, 40)\", \"rgb(40, 40, 40)\"], \"size\": 12}, \"values\": [[1, 2, 12, 11, 10, 6, 9, 3, 5, 7, 8, 4], [6499, 6051, 5774, 5237, 4709, 4615, 4508, 4496, 4401, 4236, 4118, 3694], [11.140251637011895, 10.37231307209709, 9.897493914772532, 8.976996126024202, 8.071925674517468, 7.910795707771949, 7.727381809455243, 7.706812026466454, 7.5439679111385365, 7.261133395042682, 7.058863862319587, 6.332064863382358]], \"suffix\": [\"\", \"\", \"%\"], \"format\": [null, null, \".2f\"]}, \"header\": {\"values\": [\"<b>Month</b>\", \"<b># of Cases</b>\", \"<b>Percentage</b>\"]}, \"type\": \"table\"}, {\"showlegend\": true, \"name\": \"Month\", \"labels\": [1.0, 2.0, 12.0, 11.0, 10.0, 6.0, 9.0, 3.0, 5.0, 7.0, 8.0, 4.0], \"domain\": {\"y\": [0, 1.0], \"x\": [0.6, 1.0]}, \"values\": [6499.0, 6051.0, 5774.0, 5237.0, 4709.0, 4615.0, 4508.0, 4496.0, 4401.0, 4236.0, 4118.0, 3694.0], \"hoverinfo\": \"label+percent+name\", \"hole\": 0.4, \"type\": \"pie\", \"uid\": \"7e579938-a3ed-11e8-927a-0800275aa47c\"}], {\"title\": \"Month\"}, {\"linkText\": \"Export to plot.ly\", \"showLink\": true})});</script>"
      ]
     },
     "metadata": {},
     "output_type": "display_data"
    },
    {
     "data": {
      "application/vnd.plotly.v1+json": {
       "data": [
        {
         "cells": {
          "align": [
           "left",
           "right",
           "right"
          ],
          "font": {
           "color": [
            "rgb(40, 40, 40)",
            "rgb(40, 40, 40)",
            "rgb(40, 40, 40)",
            "rgb(40, 40, 40)",
            "rgb(40, 40, 40)"
           ],
           "size": 12
          },
          "format": [
           null,
           null,
           ".2f"
          ],
          "suffix": [
           "",
           "",
           "%"
          ],
          "values": [
           [
            "T5_Fri",
            "T4_Thu",
            "T3_Wed",
            "T2_Tue",
            "T1_Mon",
            "T6_Sat",
            "T7_Sun"
           ],
           [
            10067,
            9851,
            9366,
            9158,
            7890,
            6688,
            5318
           ],
           [
            17.256333779011964,
            16.886077685213756,
            16.05471562275018,
            15.698172717611161,
            13.524632315129075,
            11.46422571908533,
            9.115842161198533
           ]
          ]
         },
         "columnwidth": [
          110,
          55,
          55
         ],
         "domain": {
          "x": [
           0,
           0.4
          ],
          "y": [
           0,
           1
          ]
         },
         "header": {
          "values": [
           "<b>Day_Of_Week</b>",
           "<b># of Cases</b>",
           "<b>Percentage</b>"
          ]
         },
         "type": "table",
         "uid": "7e647f2c-a3ed-11e8-927a-0800275aa47c"
        },
        {
         "domain": {
          "x": [
           0.6,
           1
          ],
          "y": [
           0,
           1
          ]
         },
         "hole": 0.4,
         "hoverinfo": "label+percent+name",
         "labels": [
          "T5_Fri",
          "T4_Thu",
          "T3_Wed",
          "T2_Tue",
          "T1_Mon",
          "T6_Sat",
          "T7_Sun"
         ],
         "name": "Day_Of_Week",
         "showlegend": true,
         "type": "pie",
         "uid": "7e64818e-a3ed-11e8-927a-0800275aa47c",
         "values": [
          10067,
          9851,
          9366,
          9158,
          7890,
          6688,
          5318
         ]
        }
       ],
       "layout": {
        "title": "Day_Of_Week"
       }
      },
      "text/html": [
       "<div id=\"844699e9-4184-4afc-9771-32ed1985ee56\" style=\"height: 525px; width: 100%;\" class=\"plotly-graph-div\"></div><script type=\"text/javascript\">require([\"plotly\"], function(Plotly) { window.PLOTLYENV=window.PLOTLYENV || {};window.PLOTLYENV.BASE_URL=\"https://plot.ly\";Plotly.newPlot(\"844699e9-4184-4afc-9771-32ed1985ee56\", [{\"domain\": {\"y\": [0, 1.0], \"x\": [0, 0.4]}, \"uid\": \"7e691154-a3ed-11e8-927a-0800275aa47c\", \"columnwidth\": [110, 55, 55], \"cells\": {\"align\": [\"left\", \"right\", \"right\"], \"font\": {\"color\": [\"rgb(40, 40, 40)\", \"rgb(40, 40, 40)\", \"rgb(40, 40, 40)\", \"rgb(40, 40, 40)\", \"rgb(40, 40, 40)\"], \"size\": 12}, \"values\": [[\"T5_Fri\", \"T4_Thu\", \"T3_Wed\", \"T2_Tue\", \"T1_Mon\", \"T6_Sat\", \"T7_Sun\"], [10067, 9851, 9366, 9158, 7890, 6688, 5318], [17.256333779011964, 16.886077685213756, 16.05471562275018, 15.698172717611161, 13.524632315129075, 11.46422571908533, 9.115842161198533]], \"suffix\": [\"\", \"\", \"%\"], \"format\": [null, null, \".2f\"]}, \"header\": {\"values\": [\"<b>Day_Of_Week</b>\", \"<b># of Cases</b>\", \"<b>Percentage</b>\"]}, \"type\": \"table\"}, {\"showlegend\": true, \"name\": \"Day_Of_Week\", \"labels\": [\"T5_Fri\", \"T4_Thu\", \"T3_Wed\", \"T2_Tue\", \"T1_Mon\", \"T6_Sat\", \"T7_Sun\"], \"domain\": {\"y\": [0, 1.0], \"x\": [0.6, 1.0]}, \"values\": [10067.0, 9851.0, 9366.0, 9158.0, 7890.0, 6688.0, 5318.0], \"hoverinfo\": \"label+percent+name\", \"hole\": 0.4, \"type\": \"pie\", \"uid\": \"7e6915e6-a3ed-11e8-927a-0800275aa47c\"}], {\"title\": \"Day_Of_Week\"}, {\"linkText\": \"Export to plot.ly\", \"showLink\": true})});</script>"
      ],
      "text/vnd.plotly.v1+html": [
       "<div id=\"844699e9-4184-4afc-9771-32ed1985ee56\" style=\"height: 525px; width: 100%;\" class=\"plotly-graph-div\"></div><script type=\"text/javascript\">require([\"plotly\"], function(Plotly) { window.PLOTLYENV=window.PLOTLYENV || {};window.PLOTLYENV.BASE_URL=\"https://plot.ly\";Plotly.newPlot(\"844699e9-4184-4afc-9771-32ed1985ee56\", [{\"domain\": {\"y\": [0, 1.0], \"x\": [0, 0.4]}, \"uid\": \"7e691154-a3ed-11e8-927a-0800275aa47c\", \"columnwidth\": [110, 55, 55], \"cells\": {\"align\": [\"left\", \"right\", \"right\"], \"font\": {\"color\": [\"rgb(40, 40, 40)\", \"rgb(40, 40, 40)\", \"rgb(40, 40, 40)\", \"rgb(40, 40, 40)\", \"rgb(40, 40, 40)\"], \"size\": 12}, \"values\": [[\"T5_Fri\", \"T4_Thu\", \"T3_Wed\", \"T2_Tue\", \"T1_Mon\", \"T6_Sat\", \"T7_Sun\"], [10067, 9851, 9366, 9158, 7890, 6688, 5318], [17.256333779011964, 16.886077685213756, 16.05471562275018, 15.698172717611161, 13.524632315129075, 11.46422571908533, 9.115842161198533]], \"suffix\": [\"\", \"\", \"%\"], \"format\": [null, null, \".2f\"]}, \"header\": {\"values\": [\"<b>Day_Of_Week</b>\", \"<b># of Cases</b>\", \"<b>Percentage</b>\"]}, \"type\": \"table\"}, {\"showlegend\": true, \"name\": \"Day_Of_Week\", \"labels\": [\"T5_Fri\", \"T4_Thu\", \"T3_Wed\", \"T2_Tue\", \"T1_Mon\", \"T6_Sat\", \"T7_Sun\"], \"domain\": {\"y\": [0, 1.0], \"x\": [0.6, 1.0]}, \"values\": [10067.0, 9851.0, 9366.0, 9158.0, 7890.0, 6688.0, 5318.0], \"hoverinfo\": \"label+percent+name\", \"hole\": 0.4, \"type\": \"pie\", \"uid\": \"7e6915e6-a3ed-11e8-927a-0800275aa47c\"}], {\"title\": \"Day_Of_Week\"}, {\"linkText\": \"Export to plot.ly\", \"showLink\": true})});</script>"
      ]
     },
     "metadata": {},
     "output_type": "display_data"
    },
    {
     "data": {
      "application/vnd.plotly.v1+json": {
       "data": [
        {
         "cells": {
          "align": [
           "left",
           "right",
           "right"
          ],
          "font": {
           "color": [
            "rgb(40, 40, 40)",
            "rgb(40, 40, 40)",
            "rgb(40, 40, 40)",
            "rgb(40, 40, 40)",
            "rgb(40, 40, 40)"
           ],
           "size": 12
          },
          "format": [
           null,
           null,
           ".2f"
          ],
          "suffix": [
           "",
           "",
           "%"
          ],
          "values": [
           [
            "Boxing Day",
            "Family Day",
            "New Years Day",
            "Good Friday",
            "Canada Day",
            "Labour Day",
            "Thanksgiving",
            "Christmas Day",
            "Victoria Day"
           ],
           [
            135,
            100,
            92,
            78,
            76,
            72,
            72,
            70,
            66
           ],
           [
            17.73981603153745,
            13.14060446780552,
            12.089356110381077,
            10.249671484888305,
            9.986859395532194,
            9.461235216819974,
            9.461235216819974,
            9.198423127463863,
            8.672798948751643
           ]
          ]
         },
         "columnwidth": [
          110,
          55,
          55
         ],
         "domain": {
          "x": [
           0,
           0.4
          ],
          "y": [
           0,
           1
          ]
         },
         "header": {
          "values": [
           "<b>Holiday</b>",
           "<b># of Cases</b>",
           "<b>Percentage</b>"
          ]
         },
         "type": "table",
         "uid": "7e8058b4-a3ed-11e8-927a-0800275aa47c"
        },
        {
         "domain": {
          "x": [
           0.6,
           1
          ],
          "y": [
           0,
           1
          ]
         },
         "hole": 0.4,
         "hoverinfo": "label+percent+name",
         "labels": [
          "Boxing Day",
          "Family Day",
          "New Years Day",
          "Good Friday",
          "Canada Day",
          "Labour Day",
          "Thanksgiving",
          "Christmas Day",
          "Victoria Day"
         ],
         "name": "Holiday",
         "showlegend": true,
         "type": "pie",
         "uid": "7e805af8-a3ed-11e8-927a-0800275aa47c",
         "values": [
          135,
          100,
          92,
          78,
          76,
          72,
          72,
          70,
          66
         ]
        }
       ],
       "layout": {
        "title": "Holiday"
       }
      },
      "text/html": [
       "<div id=\"cb84fe7a-b11d-4896-bd4b-7875f138d30c\" style=\"height: 525px; width: 100%;\" class=\"plotly-graph-div\"></div><script type=\"text/javascript\">require([\"plotly\"], function(Plotly) { window.PLOTLYENV=window.PLOTLYENV || {};window.PLOTLYENV.BASE_URL=\"https://plot.ly\";Plotly.newPlot(\"cb84fe7a-b11d-4896-bd4b-7875f138d30c\", [{\"domain\": {\"y\": [0, 1.0], \"x\": [0, 0.4]}, \"uid\": \"7e83b284-a3ed-11e8-927a-0800275aa47c\", \"columnwidth\": [110, 55, 55], \"cells\": {\"align\": [\"left\", \"right\", \"right\"], \"font\": {\"color\": [\"rgb(40, 40, 40)\", \"rgb(40, 40, 40)\", \"rgb(40, 40, 40)\", \"rgb(40, 40, 40)\", \"rgb(40, 40, 40)\"], \"size\": 12}, \"values\": [[\"Boxing Day\", \"Family Day\", \"New Years Day\", \"Good Friday\", \"Canada Day\", \"Labour Day\", \"Thanksgiving\", \"Christmas Day\", \"Victoria Day\"], [135, 100, 92, 78, 76, 72, 72, 70, 66], [17.73981603153745, 13.14060446780552, 12.089356110381077, 10.249671484888305, 9.986859395532194, 9.461235216819974, 9.461235216819974, 9.198423127463863, 8.672798948751643]], \"suffix\": [\"\", \"\", \"%\"], \"format\": [null, null, \".2f\"]}, \"header\": {\"values\": [\"<b>Holiday</b>\", \"<b># of Cases</b>\", \"<b>Percentage</b>\"]}, \"type\": \"table\"}, {\"showlegend\": true, \"name\": \"Holiday\", \"labels\": [\"Boxing Day\", \"Family Day\", \"New Years Day\", \"Good Friday\", \"Canada Day\", \"Labour Day\", \"Thanksgiving\", \"Christmas Day\", \"Victoria Day\"], \"domain\": {\"y\": [0, 1.0], \"x\": [0.6, 1.0]}, \"values\": [135.0, 100.0, 92.0, 78.0, 76.0, 72.0, 72.0, 70.0, 66.0], \"hoverinfo\": \"label+percent+name\", \"hole\": 0.4, \"type\": \"pie\", \"uid\": \"7e83b57c-a3ed-11e8-927a-0800275aa47c\"}], {\"title\": \"Holiday\"}, {\"linkText\": \"Export to plot.ly\", \"showLink\": true})});</script>"
      ],
      "text/vnd.plotly.v1+html": [
       "<div id=\"cb84fe7a-b11d-4896-bd4b-7875f138d30c\" style=\"height: 525px; width: 100%;\" class=\"plotly-graph-div\"></div><script type=\"text/javascript\">require([\"plotly\"], function(Plotly) { window.PLOTLYENV=window.PLOTLYENV || {};window.PLOTLYENV.BASE_URL=\"https://plot.ly\";Plotly.newPlot(\"cb84fe7a-b11d-4896-bd4b-7875f138d30c\", [{\"domain\": {\"y\": [0, 1.0], \"x\": [0, 0.4]}, \"uid\": \"7e83b284-a3ed-11e8-927a-0800275aa47c\", \"columnwidth\": [110, 55, 55], \"cells\": {\"align\": [\"left\", \"right\", \"right\"], \"font\": {\"color\": [\"rgb(40, 40, 40)\", \"rgb(40, 40, 40)\", \"rgb(40, 40, 40)\", \"rgb(40, 40, 40)\", \"rgb(40, 40, 40)\"], \"size\": 12}, \"values\": [[\"Boxing Day\", \"Family Day\", \"New Years Day\", \"Good Friday\", \"Canada Day\", \"Labour Day\", \"Thanksgiving\", \"Christmas Day\", \"Victoria Day\"], [135, 100, 92, 78, 76, 72, 72, 70, 66], [17.73981603153745, 13.14060446780552, 12.089356110381077, 10.249671484888305, 9.986859395532194, 9.461235216819974, 9.461235216819974, 9.198423127463863, 8.672798948751643]], \"suffix\": [\"\", \"\", \"%\"], \"format\": [null, null, \".2f\"]}, \"header\": {\"values\": [\"<b>Holiday</b>\", \"<b># of Cases</b>\", \"<b>Percentage</b>\"]}, \"type\": \"table\"}, {\"showlegend\": true, \"name\": \"Holiday\", \"labels\": [\"Boxing Day\", \"Family Day\", \"New Years Day\", \"Good Friday\", \"Canada Day\", \"Labour Day\", \"Thanksgiving\", \"Christmas Day\", \"Victoria Day\"], \"domain\": {\"y\": [0, 1.0], \"x\": [0.6, 1.0]}, \"values\": [135.0, 100.0, 92.0, 78.0, 76.0, 72.0, 72.0, 70.0, 66.0], \"hoverinfo\": \"label+percent+name\", \"hole\": 0.4, \"type\": \"pie\", \"uid\": \"7e83b57c-a3ed-11e8-927a-0800275aa47c\"}], {\"title\": \"Holiday\"}, {\"linkText\": \"Export to plot.ly\", \"showLink\": true})});</script>"
      ]
     },
     "metadata": {},
     "output_type": "display_data"
    }
   ],
   "source": [
    "def analysisInSinglePercent(Col): \n",
    "    count = '# of Cases'\n",
    "    df_cause = pd.crosstab(index = df_csv1417[Col], columns = count, margins = False)\n",
    "    df_cause[Col] = df_cause.index\n",
    "    sumOf = df_cause[count].sum()\n",
    "    df_cause['Percentage'] = df_cause[count]/sumOf*100\n",
    "    df_cause = df_cause[[Col, count, 'Percentage']]\n",
    "    df_cause = df_cause.sort_values([count], ascending=[0])\n",
    "    \n",
    "    tab = go.Table(header = dict(values = ['<b>' + a + '</b>' for a in df_cause.columns.tolist()]),\n",
    "                   domain = dict(x=[0, 0.4], y=[0,1.0]),\n",
    "                   columnwidth = [110,55,55], \n",
    "                   cells = dict(values = [df_cause[b].tolist() for b in df_cause.columns.tolist()],\n",
    "                                font = dict(color=['rgb(40, 40, 40)'] * 5, size=12),\n",
    "                                format = [None] + [None] + ['.2f'],\n",
    "                                suffix = [\"\", \"\", \"%\"], \n",
    "                                align = [\"left\", \"right\", \"right\"]),\n",
    "                  )\n",
    "    pie = go.Pie(values = df_cause[count], \n",
    "                 labels = df_cause.index, \n",
    "                 name = df_cause.index.name,\n",
    "                 domain=dict(x=[0.6, 1.0], y=[0, 1.0]),\n",
    "                 hoverinfo = \"label+percent+name\", hole = .4, showlegend = True)\n",
    "    fig = dict(data = [tab,pie], \n",
    "               layout = go.Layout(title = Col))\n",
    "    iplot(fig)\n",
    "    \n",
    "for n in ['Environment', 'Road_Surface', 'Traffic_Control', 'Collision_Location', \\\n",
    "          'Light', 'Collision_Classification', 'Impact_type', 'Month', \"Day_Of_Week\", \"Holiday\"]:\n",
    "    analysisInSinglePercent(n) "
   ]
  },
  {
   "cell_type": "markdown",
   "metadata": {},
   "source": [
    "**Brief Conclusion - Most of car collisions happen in:**\n",
    "* environment: clear (78.73%)\n",
    "* road surface: dry (65.76%)\n",
    "* traffic control: no traffic control (47.97%)\n",
    "* collision location: at intersection or intersection related (21.47%+31.34% = 52.81%)\n",
    "* light condition: daylight (68.36%)\n",
    "* collision classification: P.D. only (80.99%)\n",
    "* impact type: varies\n",
    "* month: December, January, February (11.14%+10.37%+9.90% = 31.41%)\n",
    "* day of week: workdays, the trend keeps rising from Monday to Friday\n",
    "* holiday: Boxing Day (17.74%), Family Day (13.14%), New Years Day (12.09%)\n",
    "\n",
    "**Hypothesis:**\n",
    "* Those weather that seems common, such as clear environment and dry road surface might lead drivers to be careless(it might be not a dependable factor: the proportions of those weathers such as clear days and dry road surfaces is much more bigger than the proportions of wet road surface and snowy environment). \n",
    "* A place without traffic control might lead drivers to ignore some details that perhaps cause accidents, or some drivers could break the rules. \n",
    "* The location where is close to of at intersection requires drivers to control their wheels and gases carefully due to the heavy traffic and roads to different directions. Under this kind of stressful situation, people without enough driving experience are easy to make mistakes. \n",
    "* Of course, most of collisions did not cause injuries, and the impact type varies, either. P.D. only collisions are highly related to SMV other and rear end impacts. \n",
    "* December, January and February are in winter of Ottawa. The season of winter in Ottawa is cold, so that this season causes many potential factors of collision: snow and ice creates terrible road surface condition that let cars slip, low temperature makes drivers' reaction slower, snow and long night reduces their visability, etc. \n",
    "* Objectively, the traffic is heavier on workdays in a week. According to the table, the stress of people on workdays increases step by step, and the proportion of collisions is also divided by days of week step by step.\n",
    "* Boxing Day, Family Day and New Years Day include multiple possible factors that cause collisions: time is in winter, heavy traffic, many crowded people, used to gather at places like supermarkets with complicated routes. "
   ]
  },
  {
   "cell_type": "markdown",
   "metadata": {},
   "source": [
    "### 2.3 Temperature & Weather Related Variables"
   ]
  },
  {
   "cell_type": "code",
   "execution_count": 9,
   "metadata": {},
   "outputs": [
    {
     "data": {
      "application/vnd.plotly.v1+json": {
       "data": [
        {
         "name": "Number of Collisions",
         "opacity": 0.6,
         "text": [
          "1790",
          "1349",
          "1190",
          "936",
          "1093",
          "1166",
          "1115",
          "1094",
          "1126",
          "1260",
          "1340",
          "1384"
         ],
         "textposition": "auto",
         "type": "bar",
         "uid": "7e975208-a3ed-11e8-927a-0800275aa47c",
         "x": [
          1,
          2,
          3,
          4,
          5,
          6,
          7,
          8,
          9,
          10,
          11,
          12
         ],
         "y": [
          1790,
          1349,
          1190,
          936,
          1093,
          1166,
          1115,
          1094,
          1126,
          1260,
          1340,
          1384
         ]
        },
        {
         "mode": "lines",
         "name": "Monthly Mean Max Temp",
         "type": "scatter",
         "uid": "7e975474-a3ed-11e8-927a-0800275aa47c",
         "x": [
          1,
          2,
          3,
          4,
          5,
          6,
          7,
          8,
          9,
          10,
          11,
          12
         ],
         "xaxis": "x2",
         "y": [
          -6.409677419354837,
          -5.192857142857142,
          -1.4612903225806446,
          10.04,
          19.96774193548387,
          24.766666666666666,
          24.909677419354843,
          24.370967741935484,
          20.99666666666666,
          14.36774193548387,
          4.833333333333333,
          -1.1225806451612907
         ],
         "yaxis": "y2"
        },
        {
         "fill": "tonexty",
         "mode": "lines",
         "name": "Monthly Mean Min Temp",
         "type": "scatter",
         "uid": "7e9755fa-a3ed-11e8-927a-0800275aa47c",
         "x": [
          1,
          2,
          3,
          4,
          5,
          6,
          7,
          8,
          9,
          10,
          11,
          12
         ],
         "xaxis": "x2",
         "y": [
          -15.283870967741935,
          -14.192857142857141,
          -11.703225806451616,
          0.6699999999999998,
          9.174193548387096,
          14.280000000000001,
          14.94838709677419,
          13.935483870967742,
          10.610000000000001,
          6.267741935483871,
          -2.146666666666667,
          -6.493548387096775
         ],
         "yaxis": "y2"
        }
       ],
       "layout": {
        "title": "Temperature Analysis (2014)",
        "xaxis": {
         "dtick": 1,
         "title": "Month"
        },
        "xaxis2": {
         "anchor": "y2",
         "dtick": 1
        },
        "yaxis": {
         "domain": [
          0,
          0.5
         ],
         "dtick": 500,
         "title": "# of Collisions"
        },
        "yaxis2": {
         "autorange": "reversed",
         "domain": [
          0.55,
          1
         ],
         "dtick": 5,
         "title": "Temp (°C)"
        }
       }
      },
      "text/html": [
       "<div id=\"b9c309ab-c902-4747-8efa-939a8be149db\" style=\"height: 525px; width: 100%;\" class=\"plotly-graph-div\"></div><script type=\"text/javascript\">require([\"plotly\"], function(Plotly) { window.PLOTLYENV=window.PLOTLYENV || {};window.PLOTLYENV.BASE_URL=\"https://plot.ly\";Plotly.newPlot(\"b9c309ab-c902-4747-8efa-939a8be149db\", [{\"opacity\": 0.6, \"textposition\": \"auto\", \"name\": \"Number of Collisions\", \"text\": [\"1790\", \"1349\", \"1190\", \"936\", \"1093\", \"1166\", \"1115\", \"1094\", \"1126\", \"1260\", \"1340\", \"1384\"], \"y\": [1790.0, 1349.0, 1190.0, 936.0, 1093.0, 1166.0, 1115.0, 1094.0, 1126.0, 1260.0, 1340.0, 1384.0], \"x\": [1.0, 2.0, 3.0, 4.0, 5.0, 6.0, 7.0, 8.0, 9.0, 10.0, 11.0, 12.0], \"type\": \"bar\", \"uid\": \"7e9c3bb0-a3ed-11e8-927a-0800275aa47c\"}, {\"name\": \"Monthly Mean Max Temp\", \"yaxis\": \"y2\", \"mode\": \"lines\", \"xaxis\": \"x2\", \"y\": [-6.409677419354837, -5.192857142857142, -1.4612903225806446, 10.04, 19.96774193548387, 24.766666666666666, 24.909677419354843, 24.370967741935484, 20.99666666666666, 14.36774193548387, 4.833333333333333, -1.1225806451612907], \"x\": [1.0, 2.0, 3.0, 4.0, 5.0, 6.0, 7.0, 8.0, 9.0, 10.0, 11.0, 12.0], \"type\": \"scatter\", \"uid\": \"7e9c3e1c-a3ed-11e8-927a-0800275aa47c\"}, {\"uid\": \"7e9c3fa2-a3ed-11e8-927a-0800275aa47c\", \"yaxis\": \"y2\", \"mode\": \"lines\", \"xaxis\": \"x2\", \"y\": [-15.283870967741935, -14.192857142857141, -11.703225806451616, 0.6699999999999998, 9.174193548387096, 14.280000000000001, 14.94838709677419, 13.935483870967742, 10.610000000000001, 6.267741935483871, -2.146666666666667, -6.493548387096775], \"x\": [1.0, 2.0, 3.0, 4.0, 5.0, 6.0, 7.0, 8.0, 9.0, 10.0, 11.0, 12.0], \"fill\": \"tonexty\", \"type\": \"scatter\", \"name\": \"Monthly Mean Min Temp\"}], {\"yaxis2\": {\"domain\": [0.55, 1.0], \"autorange\": \"reversed\", \"dtick\": 5, \"title\": \"Temp (\\u00b0C)\"}, \"title\": \"Temperature Analysis (2014)\", \"xaxis2\": {\"anchor\": \"y2\", \"dtick\": 1}, \"xaxis\": {\"dtick\": 1, \"title\": \"Month\"}, \"yaxis\": {\"domain\": [0, 0.5], \"dtick\": 500, \"title\": \"# of Collisions\"}}, {\"linkText\": \"Export to plot.ly\", \"showLink\": true})});</script>"
      ],
      "text/vnd.plotly.v1+html": [
       "<div id=\"b9c309ab-c902-4747-8efa-939a8be149db\" style=\"height: 525px; width: 100%;\" class=\"plotly-graph-div\"></div><script type=\"text/javascript\">require([\"plotly\"], function(Plotly) { window.PLOTLYENV=window.PLOTLYENV || {};window.PLOTLYENV.BASE_URL=\"https://plot.ly\";Plotly.newPlot(\"b9c309ab-c902-4747-8efa-939a8be149db\", [{\"opacity\": 0.6, \"textposition\": \"auto\", \"name\": \"Number of Collisions\", \"text\": [\"1790\", \"1349\", \"1190\", \"936\", \"1093\", \"1166\", \"1115\", \"1094\", \"1126\", \"1260\", \"1340\", \"1384\"], \"y\": [1790.0, 1349.0, 1190.0, 936.0, 1093.0, 1166.0, 1115.0, 1094.0, 1126.0, 1260.0, 1340.0, 1384.0], \"x\": [1.0, 2.0, 3.0, 4.0, 5.0, 6.0, 7.0, 8.0, 9.0, 10.0, 11.0, 12.0], \"type\": \"bar\", \"uid\": \"7e9c3bb0-a3ed-11e8-927a-0800275aa47c\"}, {\"name\": \"Monthly Mean Max Temp\", \"yaxis\": \"y2\", \"mode\": \"lines\", \"xaxis\": \"x2\", \"y\": [-6.409677419354837, -5.192857142857142, -1.4612903225806446, 10.04, 19.96774193548387, 24.766666666666666, 24.909677419354843, 24.370967741935484, 20.99666666666666, 14.36774193548387, 4.833333333333333, -1.1225806451612907], \"x\": [1.0, 2.0, 3.0, 4.0, 5.0, 6.0, 7.0, 8.0, 9.0, 10.0, 11.0, 12.0], \"type\": \"scatter\", \"uid\": \"7e9c3e1c-a3ed-11e8-927a-0800275aa47c\"}, {\"uid\": \"7e9c3fa2-a3ed-11e8-927a-0800275aa47c\", \"yaxis\": \"y2\", \"mode\": \"lines\", \"xaxis\": \"x2\", \"y\": [-15.283870967741935, -14.192857142857141, -11.703225806451616, 0.6699999999999998, 9.174193548387096, 14.280000000000001, 14.94838709677419, 13.935483870967742, 10.610000000000001, 6.267741935483871, -2.146666666666667, -6.493548387096775], \"x\": [1.0, 2.0, 3.0, 4.0, 5.0, 6.0, 7.0, 8.0, 9.0, 10.0, 11.0, 12.0], \"fill\": \"tonexty\", \"type\": \"scatter\", \"name\": \"Monthly Mean Min Temp\"}], {\"yaxis2\": {\"domain\": [0.55, 1.0], \"autorange\": \"reversed\", \"dtick\": 5, \"title\": \"Temp (\\u00b0C)\"}, \"title\": \"Temperature Analysis (2014)\", \"xaxis2\": {\"anchor\": \"y2\", \"dtick\": 1}, \"xaxis\": {\"dtick\": 1, \"title\": \"Month\"}, \"yaxis\": {\"domain\": [0, 0.5], \"dtick\": 500, \"title\": \"# of Collisions\"}}, {\"linkText\": \"Export to plot.ly\", \"showLink\": true})});</script>"
      ]
     },
     "metadata": {},
     "output_type": "display_data"
    },
    {
     "data": {
      "application/vnd.plotly.v1+json": {
       "data": [
        {
         "name": "Number of Collisions",
         "opacity": 0.6,
         "text": [
          "2027",
          "1900",
          "1064",
          "901",
          "1115",
          "1219",
          "1115",
          "1058",
          "1133",
          "1199",
          "1249",
          "1098"
         ],
         "textposition": "auto",
         "type": "bar",
         "uid": "7ea9a408-a3ed-11e8-927a-0800275aa47c",
         "x": [
          1,
          2,
          3,
          4,
          5,
          6,
          7,
          8,
          9,
          10,
          11,
          12
         ],
         "y": [
          2027,
          1900,
          1064,
          901,
          1115,
          1219,
          1115,
          1058,
          1133,
          1199,
          1249,
          1098
         ]
        },
        {
         "mode": "lines",
         "name": "Monthly Mean Max Temp",
         "type": "scatter",
         "uid": "7ea9a6a6-a3ed-11e8-927a-0800275aa47c",
         "x": [
          1,
          2,
          3,
          4,
          5,
          6,
          7,
          8,
          9,
          10,
          11,
          12
         ],
         "xaxis": "x2",
         "y": [
          -7.848387096774193,
          -11.12857142857143,
          -0.05483870967741936,
          11.893333333333333,
          22.822580645161292,
          22.996666666666666,
          27.022580645161288,
          25.712903225806446,
          24.13333333333333,
          12.761290322580642,
          9.07666666666667,
          4.906451612903226
         ],
         "yaxis": "y2"
        },
        {
         "fill": "tonexty",
         "mode": "lines",
         "name": "Monthly Mean Min Temp",
         "type": "scatter",
         "uid": "7ea9a836-a3ed-11e8-927a-0800275aa47c",
         "x": [
          1,
          2,
          3,
          4,
          5,
          6,
          7,
          8,
          9,
          10,
          11,
          12
         ],
         "xaxis": "x2",
         "y": [
          -17.635483870967743,
          -20.41785714285714,
          -9.332258064516129,
          1.1033333333333333,
          9.832258064516127,
          12.486666666666668,
          16.019354838709678,
          14.893548387096772,
          12.866666666666667,
          3.2000000000000006,
          0.8000000000000002,
          -1.2096774193548387
         ],
         "yaxis": "y2"
        }
       ],
       "layout": {
        "title": "Temperature Analysis (2015)",
        "xaxis": {
         "dtick": 1,
         "title": "Month"
        },
        "xaxis2": {
         "anchor": "y2",
         "dtick": 1
        },
        "yaxis": {
         "domain": [
          0,
          0.5
         ],
         "dtick": 500,
         "title": "# of Collisions"
        },
        "yaxis2": {
         "autorange": "reversed",
         "domain": [
          0.55,
          1
         ],
         "dtick": 5,
         "title": "Temp (°C)"
        }
       }
      },
      "text/html": [
       "<div id=\"a37f9c13-71ae-4c05-9256-872295c957f5\" style=\"height: 525px; width: 100%;\" class=\"plotly-graph-div\"></div><script type=\"text/javascript\">require([\"plotly\"], function(Plotly) { window.PLOTLYENV=window.PLOTLYENV || {};window.PLOTLYENV.BASE_URL=\"https://plot.ly\";Plotly.newPlot(\"a37f9c13-71ae-4c05-9256-872295c957f5\", [{\"opacity\": 0.6, \"textposition\": \"auto\", \"name\": \"Number of Collisions\", \"text\": [\"2027\", \"1900\", \"1064\", \"901\", \"1115\", \"1219\", \"1115\", \"1058\", \"1133\", \"1199\", \"1249\", \"1098\"], \"y\": [2027.0, 1900.0, 1064.0, 901.0, 1115.0, 1219.0, 1115.0, 1058.0, 1133.0, 1199.0, 1249.0, 1098.0], \"x\": [1.0, 2.0, 3.0, 4.0, 5.0, 6.0, 7.0, 8.0, 9.0, 10.0, 11.0, 12.0], \"type\": \"bar\", \"uid\": \"7eae4eae-a3ed-11e8-927a-0800275aa47c\"}, {\"name\": \"Monthly Mean Max Temp\", \"yaxis\": \"y2\", \"mode\": \"lines\", \"xaxis\": \"x2\", \"y\": [-7.848387096774193, -11.12857142857143, -0.05483870967741936, 11.893333333333333, 22.822580645161292, 22.996666666666666, 27.022580645161288, 25.712903225806446, 24.13333333333333, 12.761290322580642, 9.07666666666667, 4.906451612903226], \"x\": [1.0, 2.0, 3.0, 4.0, 5.0, 6.0, 7.0, 8.0, 9.0, 10.0, 11.0, 12.0], \"type\": \"scatter\", \"uid\": \"7eae532c-a3ed-11e8-927a-0800275aa47c\"}, {\"uid\": \"7eae54bc-a3ed-11e8-927a-0800275aa47c\", \"yaxis\": \"y2\", \"mode\": \"lines\", \"xaxis\": \"x2\", \"y\": [-17.635483870967743, -20.41785714285714, -9.332258064516129, 1.1033333333333333, 9.832258064516127, 12.486666666666668, 16.019354838709678, 14.893548387096772, 12.866666666666667, 3.2000000000000006, 0.8000000000000002, -1.2096774193548387], \"x\": [1.0, 2.0, 3.0, 4.0, 5.0, 6.0, 7.0, 8.0, 9.0, 10.0, 11.0, 12.0], \"fill\": \"tonexty\", \"type\": \"scatter\", \"name\": \"Monthly Mean Min Temp\"}], {\"yaxis2\": {\"domain\": [0.55, 1.0], \"autorange\": \"reversed\", \"dtick\": 5, \"title\": \"Temp (\\u00b0C)\"}, \"title\": \"Temperature Analysis (2015)\", \"xaxis2\": {\"anchor\": \"y2\", \"dtick\": 1}, \"xaxis\": {\"dtick\": 1, \"title\": \"Month\"}, \"yaxis\": {\"domain\": [0, 0.5], \"dtick\": 500, \"title\": \"# of Collisions\"}}, {\"linkText\": \"Export to plot.ly\", \"showLink\": true})});</script>"
      ],
      "text/vnd.plotly.v1+html": [
       "<div id=\"a37f9c13-71ae-4c05-9256-872295c957f5\" style=\"height: 525px; width: 100%;\" class=\"plotly-graph-div\"></div><script type=\"text/javascript\">require([\"plotly\"], function(Plotly) { window.PLOTLYENV=window.PLOTLYENV || {};window.PLOTLYENV.BASE_URL=\"https://plot.ly\";Plotly.newPlot(\"a37f9c13-71ae-4c05-9256-872295c957f5\", [{\"opacity\": 0.6, \"textposition\": \"auto\", \"name\": \"Number of Collisions\", \"text\": [\"2027\", \"1900\", \"1064\", \"901\", \"1115\", \"1219\", \"1115\", \"1058\", \"1133\", \"1199\", \"1249\", \"1098\"], \"y\": [2027.0, 1900.0, 1064.0, 901.0, 1115.0, 1219.0, 1115.0, 1058.0, 1133.0, 1199.0, 1249.0, 1098.0], \"x\": [1.0, 2.0, 3.0, 4.0, 5.0, 6.0, 7.0, 8.0, 9.0, 10.0, 11.0, 12.0], \"type\": \"bar\", \"uid\": \"7eae4eae-a3ed-11e8-927a-0800275aa47c\"}, {\"name\": \"Monthly Mean Max Temp\", \"yaxis\": \"y2\", \"mode\": \"lines\", \"xaxis\": \"x2\", \"y\": [-7.848387096774193, -11.12857142857143, -0.05483870967741936, 11.893333333333333, 22.822580645161292, 22.996666666666666, 27.022580645161288, 25.712903225806446, 24.13333333333333, 12.761290322580642, 9.07666666666667, 4.906451612903226], \"x\": [1.0, 2.0, 3.0, 4.0, 5.0, 6.0, 7.0, 8.0, 9.0, 10.0, 11.0, 12.0], \"type\": \"scatter\", \"uid\": \"7eae532c-a3ed-11e8-927a-0800275aa47c\"}, {\"uid\": \"7eae54bc-a3ed-11e8-927a-0800275aa47c\", \"yaxis\": \"y2\", \"mode\": \"lines\", \"xaxis\": \"x2\", \"y\": [-17.635483870967743, -20.41785714285714, -9.332258064516129, 1.1033333333333333, 9.832258064516127, 12.486666666666668, 16.019354838709678, 14.893548387096772, 12.866666666666667, 3.2000000000000006, 0.8000000000000002, -1.2096774193548387], \"x\": [1.0, 2.0, 3.0, 4.0, 5.0, 6.0, 7.0, 8.0, 9.0, 10.0, 11.0, 12.0], \"fill\": \"tonexty\", \"type\": \"scatter\", \"name\": \"Monthly Mean Min Temp\"}], {\"yaxis2\": {\"domain\": [0.55, 1.0], \"autorange\": \"reversed\", \"dtick\": 5, \"title\": \"Temp (\\u00b0C)\"}, \"title\": \"Temperature Analysis (2015)\", \"xaxis2\": {\"anchor\": \"y2\", \"dtick\": 1}, \"xaxis\": {\"dtick\": 1, \"title\": \"Month\"}, \"yaxis\": {\"domain\": [0, 0.5], \"dtick\": 500, \"title\": \"# of Collisions\"}}, {\"linkText\": \"Export to plot.ly\", \"showLink\": true})});</script>"
      ]
     },
     "metadata": {},
     "output_type": "display_data"
    },
    {
     "data": {
      "application/vnd.plotly.v1+json": {
       "data": [
        {
         "name": "Number of Collisions",
         "opacity": 0.6,
         "text": [
          "1407",
          "1523",
          "1018",
          "944",
          "1109",
          "1135",
          "1035",
          "976",
          "1073",
          "1111",
          "1155",
          "1537"
         ],
         "textposition": "auto",
         "type": "bar",
         "uid": "7ebacb7a-a3ed-11e8-927a-0800275aa47c",
         "x": [
          1,
          2,
          3,
          4,
          5,
          6,
          7,
          8,
          9,
          10,
          11,
          12
         ],
         "y": [
          1407,
          1523,
          1018,
          944,
          1109,
          1135,
          1035,
          976,
          1073,
          1111,
          1155,
          1537
         ]
        },
        {
         "mode": "lines",
         "name": "Monthly Mean Max Temp",
         "type": "scatter",
         "uid": "7ebacdc8-a3ed-11e8-927a-0800275aa47c",
         "x": [
          1,
          2,
          3,
          4,
          5,
          6,
          7,
          8,
          9,
          10,
          11,
          12
         ],
         "xaxis": "x2",
         "y": [
          -3.1064516129032262,
          -3.168965517241379,
          3.8290322580645166,
          9.2,
          20.919354838709676,
          24.966666666666665,
          27.370967741935484,
          28.080645161290324,
          22.916666666666668,
          13.725806451612904,
          7.35,
          -1.1129032258064515
         ],
         "yaxis": "y2"
        },
        {
         "fill": "tonexty",
         "mode": "lines",
         "name": "Monthly Mean Min Temp",
         "type": "scatter",
         "uid": "7ebacf44-a3ed-11e8-927a-0800275aa47c",
         "x": [
          1,
          2,
          3,
          4,
          5,
          6,
          7,
          8,
          9,
          10,
          11,
          12
         ],
         "xaxis": "x2",
         "y": [
          -11.838709677419356,
          -12.320689655172414,
          -5.432258064516129,
          -1.4833333333333334,
          8.580645161290322,
          12.716666666666667,
          15.838709677419354,
          16.43548387096774,
          11.1,
          4.951612903225806,
          0.11666666666666667,
          -8.564516129032258
         ],
         "yaxis": "y2"
        }
       ],
       "layout": {
        "title": "Temperature Analysis (2016)",
        "xaxis": {
         "dtick": 1,
         "title": "Month"
        },
        "xaxis2": {
         "anchor": "y2",
         "dtick": 1
        },
        "yaxis": {
         "domain": [
          0,
          0.5
         ],
         "dtick": 500,
         "title": "# of Collisions"
        },
        "yaxis2": {
         "autorange": "reversed",
         "domain": [
          0.55,
          1
         ],
         "dtick": 5,
         "title": "Temp (°C)"
        }
       }
      },
      "text/html": [
       "<div id=\"0bd4c9b9-7361-4018-b4f7-be664189f869\" style=\"height: 525px; width: 100%;\" class=\"plotly-graph-div\"></div><script type=\"text/javascript\">require([\"plotly\"], function(Plotly) { window.PLOTLYENV=window.PLOTLYENV || {};window.PLOTLYENV.BASE_URL=\"https://plot.ly\";Plotly.newPlot(\"0bd4c9b9-7361-4018-b4f7-be664189f869\", [{\"opacity\": 0.6, \"textposition\": \"auto\", \"name\": \"Number of Collisions\", \"text\": [\"1407\", \"1523\", \"1018\", \"944\", \"1109\", \"1135\", \"1035\", \"976\", \"1073\", \"1111\", \"1155\", \"1537\"], \"y\": [1407.0, 1523.0, 1018.0, 944.0, 1109.0, 1135.0, 1035.0, 976.0, 1073.0, 1111.0, 1155.0, 1537.0], \"x\": [1.0, 2.0, 3.0, 4.0, 5.0, 6.0, 7.0, 8.0, 9.0, 10.0, 11.0, 12.0], \"type\": \"bar\", \"uid\": \"7ebf9146-a3ed-11e8-927a-0800275aa47c\"}, {\"name\": \"Monthly Mean Max Temp\", \"yaxis\": \"y2\", \"mode\": \"lines\", \"xaxis\": \"x2\", \"y\": [-3.1064516129032262, -3.168965517241379, 3.8290322580645166, 9.2, 20.919354838709676, 24.966666666666665, 27.370967741935484, 28.080645161290324, 22.916666666666668, 13.725806451612904, 7.35, -1.1129032258064515], \"x\": [1.0, 2.0, 3.0, 4.0, 5.0, 6.0, 7.0, 8.0, 9.0, 10.0, 11.0, 12.0], \"type\": \"scatter\", \"uid\": \"7ebf9650-a3ed-11e8-927a-0800275aa47c\"}, {\"uid\": \"7ebf9894-a3ed-11e8-927a-0800275aa47c\", \"yaxis\": \"y2\", \"mode\": \"lines\", \"xaxis\": \"x2\", \"y\": [-11.838709677419356, -12.320689655172414, -5.432258064516129, -1.4833333333333334, 8.580645161290322, 12.716666666666667, 15.838709677419354, 16.43548387096774, 11.1, 4.951612903225806, 0.11666666666666667, -8.564516129032258], \"x\": [1.0, 2.0, 3.0, 4.0, 5.0, 6.0, 7.0, 8.0, 9.0, 10.0, 11.0, 12.0], \"fill\": \"tonexty\", \"type\": \"scatter\", \"name\": \"Monthly Mean Min Temp\"}], {\"yaxis2\": {\"domain\": [0.55, 1.0], \"autorange\": \"reversed\", \"dtick\": 5, \"title\": \"Temp (\\u00b0C)\"}, \"title\": \"Temperature Analysis (2016)\", \"xaxis2\": {\"anchor\": \"y2\", \"dtick\": 1}, \"xaxis\": {\"dtick\": 1, \"title\": \"Month\"}, \"yaxis\": {\"domain\": [0, 0.5], \"dtick\": 500, \"title\": \"# of Collisions\"}}, {\"linkText\": \"Export to plot.ly\", \"showLink\": true})});</script>"
      ],
      "text/vnd.plotly.v1+html": [
       "<div id=\"0bd4c9b9-7361-4018-b4f7-be664189f869\" style=\"height: 525px; width: 100%;\" class=\"plotly-graph-div\"></div><script type=\"text/javascript\">require([\"plotly\"], function(Plotly) { window.PLOTLYENV=window.PLOTLYENV || {};window.PLOTLYENV.BASE_URL=\"https://plot.ly\";Plotly.newPlot(\"0bd4c9b9-7361-4018-b4f7-be664189f869\", [{\"opacity\": 0.6, \"textposition\": \"auto\", \"name\": \"Number of Collisions\", \"text\": [\"1407\", \"1523\", \"1018\", \"944\", \"1109\", \"1135\", \"1035\", \"976\", \"1073\", \"1111\", \"1155\", \"1537\"], \"y\": [1407.0, 1523.0, 1018.0, 944.0, 1109.0, 1135.0, 1035.0, 976.0, 1073.0, 1111.0, 1155.0, 1537.0], \"x\": [1.0, 2.0, 3.0, 4.0, 5.0, 6.0, 7.0, 8.0, 9.0, 10.0, 11.0, 12.0], \"type\": \"bar\", \"uid\": \"7ebf9146-a3ed-11e8-927a-0800275aa47c\"}, {\"name\": \"Monthly Mean Max Temp\", \"yaxis\": \"y2\", \"mode\": \"lines\", \"xaxis\": \"x2\", \"y\": [-3.1064516129032262, -3.168965517241379, 3.8290322580645166, 9.2, 20.919354838709676, 24.966666666666665, 27.370967741935484, 28.080645161290324, 22.916666666666668, 13.725806451612904, 7.35, -1.1129032258064515], \"x\": [1.0, 2.0, 3.0, 4.0, 5.0, 6.0, 7.0, 8.0, 9.0, 10.0, 11.0, 12.0], \"type\": \"scatter\", \"uid\": \"7ebf9650-a3ed-11e8-927a-0800275aa47c\"}, {\"uid\": \"7ebf9894-a3ed-11e8-927a-0800275aa47c\", \"yaxis\": \"y2\", \"mode\": \"lines\", \"xaxis\": \"x2\", \"y\": [-11.838709677419356, -12.320689655172414, -5.432258064516129, -1.4833333333333334, 8.580645161290322, 12.716666666666667, 15.838709677419354, 16.43548387096774, 11.1, 4.951612903225806, 0.11666666666666667, -8.564516129032258], \"x\": [1.0, 2.0, 3.0, 4.0, 5.0, 6.0, 7.0, 8.0, 9.0, 10.0, 11.0, 12.0], \"fill\": \"tonexty\", \"type\": \"scatter\", \"name\": \"Monthly Mean Min Temp\"}], {\"yaxis2\": {\"domain\": [0.55, 1.0], \"autorange\": \"reversed\", \"dtick\": 5, \"title\": \"Temp (\\u00b0C)\"}, \"title\": \"Temperature Analysis (2016)\", \"xaxis2\": {\"anchor\": \"y2\", \"dtick\": 1}, \"xaxis\": {\"dtick\": 1, \"title\": \"Month\"}, \"yaxis\": {\"domain\": [0, 0.5], \"dtick\": 500, \"title\": \"# of Collisions\"}}, {\"linkText\": \"Export to plot.ly\", \"showLink\": true})});</script>"
      ]
     },
     "metadata": {},
     "output_type": "display_data"
    },
    {
     "data": {
      "application/vnd.plotly.v1+json": {
       "data": [
        {
         "name": "Number of Collisions",
         "opacity": 0.6,
         "text": [
          "1275",
          "1279",
          "1224",
          "913",
          "1084",
          "1095",
          "971",
          "990",
          "1176",
          "1139",
          "1493",
          "1755"
         ],
         "textposition": "auto",
         "type": "bar",
         "uid": "7ecacdae-a3ed-11e8-927a-0800275aa47c",
         "x": [
          1,
          2,
          3,
          4,
          5,
          6,
          7,
          8,
          9,
          10,
          11,
          12
         ],
         "y": [
          1275,
          1279,
          1224,
          913,
          1084,
          1095,
          971,
          990,
          1176,
          1139,
          1493,
          1755
         ]
        },
        {
         "mode": "lines",
         "name": "Monthly Mean Max Temp",
         "type": "scatter",
         "uid": "7ecad010-a3ed-11e8-927a-0800275aa47c",
         "x": [
          1,
          2,
          3,
          4,
          5,
          6,
          7,
          8,
          9,
          10,
          11,
          12
         ],
         "xaxis": "x2",
         "y": [
          -1.6935483870967742,
          -0.6785714285714286,
          -0.9516129032258065,
          12.083333333333334,
          17.419354838709676,
          23.166666666666668,
          25.306451612903224,
          24.306451612903224,
          23.6,
          17.532258064516128,
          4.716666666666667,
          -6.041935483870968
         ],
         "yaxis": "y2"
        },
        {
         "fill": "tonexty",
         "mode": "lines",
         "name": "Monthly Mean Min Temp",
         "type": "scatter",
         "uid": "7ecad182-a3ed-11e8-927a-0800275aa47c",
         "x": [
          1,
          2,
          3,
          4,
          5,
          6,
          7,
          8,
          9,
          10,
          11,
          12
         ],
         "xaxis": "x2",
         "y": [
          -9.096774193548388,
          -8.839285714285714,
          -9.048387096774194,
          3.3,
          8.258064516129032,
          13.966666666666667,
          15.725806451612904,
          14.387096774193548,
          12.133333333333333,
          7.516129032258065,
          -2.55,
          -12.367741935483872
         ],
         "yaxis": "y2"
        }
       ],
       "layout": {
        "title": "Temperature Analysis (2017)",
        "xaxis": {
         "dtick": 1,
         "title": "Month"
        },
        "xaxis2": {
         "anchor": "y2",
         "dtick": 1
        },
        "yaxis": {
         "domain": [
          0,
          0.5
         ],
         "dtick": 500,
         "title": "# of Collisions"
        },
        "yaxis2": {
         "autorange": "reversed",
         "domain": [
          0.55,
          1
         ],
         "dtick": 5,
         "title": "Temp (°C)"
        }
       }
      },
      "text/html": [
       "<div id=\"dafcf3eb-c964-46b0-9068-ab7aa381ea23\" style=\"height: 525px; width: 100%;\" class=\"plotly-graph-div\"></div><script type=\"text/javascript\">require([\"plotly\"], function(Plotly) { window.PLOTLYENV=window.PLOTLYENV || {};window.PLOTLYENV.BASE_URL=\"https://plot.ly\";Plotly.newPlot(\"dafcf3eb-c964-46b0-9068-ab7aa381ea23\", [{\"opacity\": 0.6, \"textposition\": \"auto\", \"name\": \"Number of Collisions\", \"text\": [\"1275\", \"1279\", \"1224\", \"913\", \"1084\", \"1095\", \"971\", \"990\", \"1176\", \"1139\", \"1493\", \"1755\"], \"y\": [1275.0, 1279.0, 1224.0, 913.0, 1084.0, 1095.0, 971.0, 990.0, 1176.0, 1139.0, 1493.0, 1755.0], \"x\": [1.0, 2.0, 3.0, 4.0, 5.0, 6.0, 7.0, 8.0, 9.0, 10.0, 11.0, 12.0], \"type\": \"bar\", \"uid\": \"7ecf16de-a3ed-11e8-927a-0800275aa47c\"}, {\"name\": \"Monthly Mean Max Temp\", \"yaxis\": \"y2\", \"mode\": \"lines\", \"xaxis\": \"x2\", \"y\": [-1.6935483870967742, -0.6785714285714286, -0.9516129032258065, 12.083333333333334, 17.419354838709676, 23.166666666666668, 25.306451612903224, 24.306451612903224, 23.6, 17.532258064516128, 4.716666666666667, -6.041935483870968], \"x\": [1.0, 2.0, 3.0, 4.0, 5.0, 6.0, 7.0, 8.0, 9.0, 10.0, 11.0, 12.0], \"type\": \"scatter\", \"uid\": \"7ecf1a12-a3ed-11e8-927a-0800275aa47c\"}, {\"uid\": \"7ecf1bb6-a3ed-11e8-927a-0800275aa47c\", \"yaxis\": \"y2\", \"mode\": \"lines\", \"xaxis\": \"x2\", \"y\": [-9.096774193548388, -8.839285714285714, -9.048387096774194, 3.3, 8.258064516129032, 13.966666666666667, 15.725806451612904, 14.387096774193548, 12.133333333333333, 7.516129032258065, -2.55, -12.367741935483872], \"x\": [1.0, 2.0, 3.0, 4.0, 5.0, 6.0, 7.0, 8.0, 9.0, 10.0, 11.0, 12.0], \"fill\": \"tonexty\", \"type\": \"scatter\", \"name\": \"Monthly Mean Min Temp\"}], {\"yaxis2\": {\"domain\": [0.55, 1.0], \"autorange\": \"reversed\", \"dtick\": 5, \"title\": \"Temp (\\u00b0C)\"}, \"title\": \"Temperature Analysis (2017)\", \"xaxis2\": {\"anchor\": \"y2\", \"dtick\": 1}, \"xaxis\": {\"dtick\": 1, \"title\": \"Month\"}, \"yaxis\": {\"domain\": [0, 0.5], \"dtick\": 500, \"title\": \"# of Collisions\"}}, {\"linkText\": \"Export to plot.ly\", \"showLink\": true})});</script>"
      ],
      "text/vnd.plotly.v1+html": [
       "<div id=\"dafcf3eb-c964-46b0-9068-ab7aa381ea23\" style=\"height: 525px; width: 100%;\" class=\"plotly-graph-div\"></div><script type=\"text/javascript\">require([\"plotly\"], function(Plotly) { window.PLOTLYENV=window.PLOTLYENV || {};window.PLOTLYENV.BASE_URL=\"https://plot.ly\";Plotly.newPlot(\"dafcf3eb-c964-46b0-9068-ab7aa381ea23\", [{\"opacity\": 0.6, \"textposition\": \"auto\", \"name\": \"Number of Collisions\", \"text\": [\"1275\", \"1279\", \"1224\", \"913\", \"1084\", \"1095\", \"971\", \"990\", \"1176\", \"1139\", \"1493\", \"1755\"], \"y\": [1275.0, 1279.0, 1224.0, 913.0, 1084.0, 1095.0, 971.0, 990.0, 1176.0, 1139.0, 1493.0, 1755.0], \"x\": [1.0, 2.0, 3.0, 4.0, 5.0, 6.0, 7.0, 8.0, 9.0, 10.0, 11.0, 12.0], \"type\": \"bar\", \"uid\": \"7ecf16de-a3ed-11e8-927a-0800275aa47c\"}, {\"name\": \"Monthly Mean Max Temp\", \"yaxis\": \"y2\", \"mode\": \"lines\", \"xaxis\": \"x2\", \"y\": [-1.6935483870967742, -0.6785714285714286, -0.9516129032258065, 12.083333333333334, 17.419354838709676, 23.166666666666668, 25.306451612903224, 24.306451612903224, 23.6, 17.532258064516128, 4.716666666666667, -6.041935483870968], \"x\": [1.0, 2.0, 3.0, 4.0, 5.0, 6.0, 7.0, 8.0, 9.0, 10.0, 11.0, 12.0], \"type\": \"scatter\", \"uid\": \"7ecf1a12-a3ed-11e8-927a-0800275aa47c\"}, {\"uid\": \"7ecf1bb6-a3ed-11e8-927a-0800275aa47c\", \"yaxis\": \"y2\", \"mode\": \"lines\", \"xaxis\": \"x2\", \"y\": [-9.096774193548388, -8.839285714285714, -9.048387096774194, 3.3, 8.258064516129032, 13.966666666666667, 15.725806451612904, 14.387096774193548, 12.133333333333333, 7.516129032258065, -2.55, -12.367741935483872], \"x\": [1.0, 2.0, 3.0, 4.0, 5.0, 6.0, 7.0, 8.0, 9.0, 10.0, 11.0, 12.0], \"fill\": \"tonexty\", \"type\": \"scatter\", \"name\": \"Monthly Mean Min Temp\"}], {\"yaxis2\": {\"domain\": [0.55, 1.0], \"autorange\": \"reversed\", \"dtick\": 5, \"title\": \"Temp (\\u00b0C)\"}, \"title\": \"Temperature Analysis (2017)\", \"xaxis2\": {\"anchor\": \"y2\", \"dtick\": 1}, \"xaxis\": {\"dtick\": 1, \"title\": \"Month\"}, \"yaxis\": {\"domain\": [0, 0.5], \"dtick\": 500, \"title\": \"# of Collisions\"}}, {\"linkText\": \"Export to plot.ly\", \"showLink\": true})});</script>"
      ]
     },
     "metadata": {},
     "output_type": "display_data"
    },
    {
     "name": "stdout",
     "output_type": "stream",
     "text": [
      "The correlation between number of collisions and mean temperature: \n",
      "all months = -0.7044\n",
      "In each month: \n",
      "\n",
      "January = -0.9936\n",
      "February = -0.9209\n",
      "March = -0.7807\n",
      "April = -0.8263\n",
      "May = 0.9109\n",
      "June = -0.4081\n",
      "July = -0.0211\n",
      "August = -0.5915\n",
      "September = 0.3481\n",
      "October = -0.1837\n",
      "November = -0.7828\n",
      "December = -0.9908\n"
     ]
    }
   ],
   "source": [
    "df_avg = wt1417.groupby([\"Year\",\"Month\"]).mean()\n",
    "df_avg[\"Year\"] = [x[0] for x in df_avg.index]\n",
    "df_avg[\"Month\"] = [x[1] for x in df_avg.index]\n",
    "\n",
    "df_sum = wt1417.groupby([\"Year\",\"Month\"]).sum()\n",
    "df_sum[\"Year\"] = [x[0] for x in df_sum.index]\n",
    "df_sum[\"Month\"] = [x[1] for x in df_sum.index]\n",
    "\n",
    "def printTemInYear(n):\n",
    "    monthCase = go.Bar(x = df_sum[df_sum[\"Year\"]==n][\"Month\"],\n",
    "                       y = df_sum[df_sum[\"Year\"]==n][\"Number of Collisions\"],\n",
    "                       text = df_sum[df_sum[\"Year\"]==n][\"Number of Collisions\"],\n",
    "                       textposition = 'auto',\n",
    "                       opacity = 0.6,\n",
    "                       name = 'Number of Collisions')\n",
    "    max_temp = go.Scatter(x = df_avg[df_avg[\"Year\"]==n][\"Month\"],\n",
    "                         y = df_avg[df_avg[\"Year\"]==n][\"Max Temp (°C)\"],\n",
    "                         mode = 'lines',\n",
    "                         name = 'Monthly Mean Max Temp',\n",
    "                         xaxis = 'x2', \n",
    "                         yaxis = 'y2')\n",
    "    min_temp = go.Scatter(x = df_avg[df_avg[\"Year\"]==n][\"Month\"],\n",
    "                         y = df_avg[df_avg[\"Year\"]==n][\"Min Temp (°C)\"],\n",
    "                         mode = 'lines',\n",
    "                         name = 'Monthly Mean Min Temp',\n",
    "                         fill = 'tonexty', \n",
    "                         xaxis = 'x2', \n",
    "                         yaxis = 'y2')\n",
    "    fig = dict(data = [monthCase, max_temp,min_temp], \n",
    "               layout = go.Layout(title = \"Temperature Analysis (\" + str(n) + \")\",\n",
    "                                  xaxis = dict(title='Month', dtick=1),\n",
    "                                  yaxis = dict(title='# of Collisions', dtick=500, domain = [0,0.5]),\n",
    "                                  yaxis2 = dict(title='Temp (°C)', dtick=5, domain = [0.55,1.0],autorange='reversed'),\n",
    "                                  xaxis2 = dict(dtick=1, anchor = 'y2')\n",
    "                                 )\n",
    "              )\n",
    "    iplot(fig)\n",
    "    \n",
    "for m in range(2014,2018):\n",
    "    printTemInYear(m)\n",
    "    \n",
    "print(\"The correlation between number of collisions and mean temperature: \\n\" \n",
    "      + \"all months = %.4f\" % df_avg[\"Number of Collisions\"].corr(df_avg[\"Mean Temp (°C)\"]) + \"\\n\" \n",
    "      + \"In each month: \" + \"\\n\")\n",
    "\n",
    "def corrInMonth(l):\n",
    "      s = {\n",
    "        1: 'January',\n",
    "        2: 'February',\n",
    "        3: 'March',\n",
    "        4: 'April',\n",
    "        5: 'May',\n",
    "        6: 'June',\n",
    "        7: 'July',\n",
    "        8: 'August',\n",
    "        9: 'September',\n",
    "       10: 'October',\n",
    "       11: 'November',\n",
    "       12: 'December'\n",
    "      }[l]\n",
    "      print(s + \" = %.4f\" % df_avg[df_avg[\"Month\"] == l][\"Number of Collisions\"].corr(df_avg[\"Mean Temp (°C)\"]))\n",
    "        \n",
    "for f in range(1,13):\n",
    "    corrInMonth(f)"
   ]
  },
  {
   "cell_type": "markdown",
   "metadata": {},
   "source": [
    "**Brief Conclusion:**\n",
    "* The number of collisions in winter is always higher than other months in a year. \n",
    "* The correlation between the number of collisions and month becomes extremely low in winter. \n",
    "\n",
    "**Hypothesis:**\n",
    "* Extreme low temperature leads to vehicle collisions, such as vehicle faults and several weathers that are related to low temperature. "
   ]
  },
  {
   "cell_type": "code",
   "execution_count": 10,
   "metadata": {},
   "outputs": [
    {
     "data": {
      "application/vnd.plotly.v1+json": {
       "data": [
        {
         "name": "Number of Collisions",
         "opacity": 0.6,
         "text": [
          "1790",
          "1349",
          "1190",
          "936",
          "1093",
          "1166",
          "1115",
          "1094",
          "1126",
          "1260",
          "1340",
          "1384"
         ],
         "textposition": "auto",
         "type": "bar",
         "uid": "7eed6c42-a3ed-11e8-927a-0800275aa47c",
         "x": [
          1,
          2,
          3,
          4,
          5,
          6,
          7,
          8,
          9,
          10,
          11,
          12
         ],
         "y": [
          1790,
          1349,
          1190,
          936,
          1093,
          1166,
          1115,
          1094,
          1126,
          1260,
          1340,
          1384
         ]
        },
        {
         "mode": "lines",
         "name": "Monthly Total Rain",
         "type": "scatter",
         "uid": "7eed6f76-a3ed-11e8-927a-0800275aa47c",
         "x": [
          1,
          2,
          3,
          4,
          5,
          6,
          7,
          8,
          9,
          10,
          11,
          12
         ],
         "xaxis": "x2",
         "y": [
          17.5,
          26.5,
          16.2,
          98.3,
          75.10000000000001,
          156.2,
          85.60000000000001,
          104.3,
          97.10000000000002,
          64.8,
          27.8,
          22.5
         ],
         "yaxis": "y2"
        }
       ],
       "layout": {
        "title": "Rain Analysis (2014)",
        "xaxis": {
         "dtick": 1,
         "title": "Month"
        },
        "xaxis2": {
         "anchor": "y2",
         "dtick": 1
        },
        "yaxis": {
         "domain": [
          0,
          0.5
         ],
         "dtick": 500,
         "title": "# of Collisions"
        },
        "yaxis2": {
         "domain": [
          0.55,
          1
         ],
         "title": "Total Rain (mm)"
        }
       }
      },
      "text/html": [
       "<div id=\"fd692fb3-55de-4c05-93dd-47d15230a3b2\" style=\"height: 525px; width: 100%;\" class=\"plotly-graph-div\"></div><script type=\"text/javascript\">require([\"plotly\"], function(Plotly) { window.PLOTLYENV=window.PLOTLYENV || {};window.PLOTLYENV.BASE_URL=\"https://plot.ly\";Plotly.newPlot(\"fd692fb3-55de-4c05-93dd-47d15230a3b2\", [{\"opacity\": 0.6, \"textposition\": \"auto\", \"name\": \"Number of Collisions\", \"text\": [\"1790\", \"1349\", \"1190\", \"936\", \"1093\", \"1166\", \"1115\", \"1094\", \"1126\", \"1260\", \"1340\", \"1384\"], \"y\": [1790.0, 1349.0, 1190.0, 936.0, 1093.0, 1166.0, 1115.0, 1094.0, 1126.0, 1260.0, 1340.0, 1384.0], \"x\": [1.0, 2.0, 3.0, 4.0, 5.0, 6.0, 7.0, 8.0, 9.0, 10.0, 11.0, 12.0], \"type\": \"bar\", \"uid\": \"7ef64bc8-a3ed-11e8-927a-0800275aa47c\"}, {\"name\": \"Monthly Total Rain\", \"yaxis\": \"y2\", \"mode\": \"lines\", \"xaxis\": \"x2\", \"y\": [17.5, 26.5, 16.2, 98.3, 75.10000000000001, 156.2, 85.60000000000001, 104.3, 97.10000000000002, 64.8, 27.8, 22.5], \"x\": [1.0, 2.0, 3.0, 4.0, 5.0, 6.0, 7.0, 8.0, 9.0, 10.0, 11.0, 12.0], \"type\": \"scatter\", \"uid\": \"7ef64f4c-a3ed-11e8-927a-0800275aa47c\"}], {\"yaxis2\": {\"domain\": [0.55, 1.0], \"title\": \"Total Rain (mm)\"}, \"title\": \"Rain Analysis (2014)\", \"xaxis2\": {\"anchor\": \"y2\", \"dtick\": 1}, \"xaxis\": {\"dtick\": 1, \"title\": \"Month\"}, \"yaxis\": {\"domain\": [0, 0.5], \"dtick\": 500, \"title\": \"# of Collisions\"}}, {\"linkText\": \"Export to plot.ly\", \"showLink\": true})});</script>"
      ],
      "text/vnd.plotly.v1+html": [
       "<div id=\"fd692fb3-55de-4c05-93dd-47d15230a3b2\" style=\"height: 525px; width: 100%;\" class=\"plotly-graph-div\"></div><script type=\"text/javascript\">require([\"plotly\"], function(Plotly) { window.PLOTLYENV=window.PLOTLYENV || {};window.PLOTLYENV.BASE_URL=\"https://plot.ly\";Plotly.newPlot(\"fd692fb3-55de-4c05-93dd-47d15230a3b2\", [{\"opacity\": 0.6, \"textposition\": \"auto\", \"name\": \"Number of Collisions\", \"text\": [\"1790\", \"1349\", \"1190\", \"936\", \"1093\", \"1166\", \"1115\", \"1094\", \"1126\", \"1260\", \"1340\", \"1384\"], \"y\": [1790.0, 1349.0, 1190.0, 936.0, 1093.0, 1166.0, 1115.0, 1094.0, 1126.0, 1260.0, 1340.0, 1384.0], \"x\": [1.0, 2.0, 3.0, 4.0, 5.0, 6.0, 7.0, 8.0, 9.0, 10.0, 11.0, 12.0], \"type\": \"bar\", \"uid\": \"7ef64bc8-a3ed-11e8-927a-0800275aa47c\"}, {\"name\": \"Monthly Total Rain\", \"yaxis\": \"y2\", \"mode\": \"lines\", \"xaxis\": \"x2\", \"y\": [17.5, 26.5, 16.2, 98.3, 75.10000000000001, 156.2, 85.60000000000001, 104.3, 97.10000000000002, 64.8, 27.8, 22.5], \"x\": [1.0, 2.0, 3.0, 4.0, 5.0, 6.0, 7.0, 8.0, 9.0, 10.0, 11.0, 12.0], \"type\": \"scatter\", \"uid\": \"7ef64f4c-a3ed-11e8-927a-0800275aa47c\"}], {\"yaxis2\": {\"domain\": [0.55, 1.0], \"title\": \"Total Rain (mm)\"}, \"title\": \"Rain Analysis (2014)\", \"xaxis2\": {\"anchor\": \"y2\", \"dtick\": 1}, \"xaxis\": {\"dtick\": 1, \"title\": \"Month\"}, \"yaxis\": {\"domain\": [0, 0.5], \"dtick\": 500, \"title\": \"# of Collisions\"}}, {\"linkText\": \"Export to plot.ly\", \"showLink\": true})});</script>"
      ]
     },
     "metadata": {},
     "output_type": "display_data"
    },
    {
     "data": {
      "application/vnd.plotly.v1+json": {
       "data": [
        {
         "name": "Number of Collisions",
         "opacity": 0.6,
         "text": [
          "2027",
          "1900",
          "1064",
          "901",
          "1115",
          "1219",
          "1115",
          "1058",
          "1133",
          "1199",
          "1249",
          "1098"
         ],
         "textposition": "auto",
         "type": "bar",
         "uid": "7f113e6a-a3ed-11e8-927a-0800275aa47c",
         "x": [
          1,
          2,
          3,
          4,
          5,
          6,
          7,
          8,
          9,
          10,
          11,
          12
         ],
         "y": [
          2027,
          1900,
          1064,
          901,
          1115,
          1219,
          1115,
          1058,
          1133,
          1199,
          1249,
          1098
         ]
        },
        {
         "mode": "lines",
         "name": "Monthly Total Rain",
         "type": "scatter",
         "uid": "7f1140ea-a3ed-11e8-927a-0800275aa47c",
         "x": [
          1,
          2,
          3,
          4,
          5,
          6,
          7,
          8,
          9,
          10,
          11,
          12
         ],
         "xaxis": "x2",
         "y": [
          10.7,
          0,
          8.1,
          57.900000000000006,
          65,
          107.99999999999999,
          63.10000000000001,
          76.49999999999999,
          96.6,
          83.99999999999999,
          32.4,
          61.5
         ],
         "yaxis": "y2"
        }
       ],
       "layout": {
        "title": "Rain Analysis (2015)",
        "xaxis": {
         "dtick": 1,
         "title": "Month"
        },
        "xaxis2": {
         "anchor": "y2",
         "dtick": 1
        },
        "yaxis": {
         "domain": [
          0,
          0.5
         ],
         "dtick": 500,
         "title": "# of Collisions"
        },
        "yaxis2": {
         "domain": [
          0.55,
          1
         ],
         "title": "Total Rain (mm)"
        }
       }
      },
      "text/html": [
       "<div id=\"3107c027-c5bd-4f00-acfb-9ecae10012ba\" style=\"height: 525px; width: 100%;\" class=\"plotly-graph-div\"></div><script type=\"text/javascript\">require([\"plotly\"], function(Plotly) { window.PLOTLYENV=window.PLOTLYENV || {};window.PLOTLYENV.BASE_URL=\"https://plot.ly\";Plotly.newPlot(\"3107c027-c5bd-4f00-acfb-9ecae10012ba\", [{\"opacity\": 0.6, \"textposition\": \"auto\", \"name\": \"Number of Collisions\", \"text\": [\"2027\", \"1900\", \"1064\", \"901\", \"1115\", \"1219\", \"1115\", \"1058\", \"1133\", \"1199\", \"1249\", \"1098\"], \"y\": [2027.0, 1900.0, 1064.0, 901.0, 1115.0, 1219.0, 1115.0, 1058.0, 1133.0, 1199.0, 1249.0, 1098.0], \"x\": [1.0, 2.0, 3.0, 4.0, 5.0, 6.0, 7.0, 8.0, 9.0, 10.0, 11.0, 12.0], \"type\": \"bar\", \"uid\": \"7f181afa-a3ed-11e8-927a-0800275aa47c\"}, {\"name\": \"Monthly Total Rain\", \"yaxis\": \"y2\", \"mode\": \"lines\", \"xaxis\": \"x2\", \"y\": [10.7, 0.0, 8.1, 57.900000000000006, 65.0, 107.99999999999999, 63.10000000000001, 76.49999999999999, 96.6, 83.99999999999999, 32.4, 61.5], \"x\": [1.0, 2.0, 3.0, 4.0, 5.0, 6.0, 7.0, 8.0, 9.0, 10.0, 11.0, 12.0], \"type\": \"scatter\", \"uid\": \"7f181d52-a3ed-11e8-927a-0800275aa47c\"}], {\"yaxis2\": {\"domain\": [0.55, 1.0], \"title\": \"Total Rain (mm)\"}, \"title\": \"Rain Analysis (2015)\", \"xaxis2\": {\"anchor\": \"y2\", \"dtick\": 1}, \"xaxis\": {\"dtick\": 1, \"title\": \"Month\"}, \"yaxis\": {\"domain\": [0, 0.5], \"dtick\": 500, \"title\": \"# of Collisions\"}}, {\"linkText\": \"Export to plot.ly\", \"showLink\": true})});</script>"
      ],
      "text/vnd.plotly.v1+html": [
       "<div id=\"3107c027-c5bd-4f00-acfb-9ecae10012ba\" style=\"height: 525px; width: 100%;\" class=\"plotly-graph-div\"></div><script type=\"text/javascript\">require([\"plotly\"], function(Plotly) { window.PLOTLYENV=window.PLOTLYENV || {};window.PLOTLYENV.BASE_URL=\"https://plot.ly\";Plotly.newPlot(\"3107c027-c5bd-4f00-acfb-9ecae10012ba\", [{\"opacity\": 0.6, \"textposition\": \"auto\", \"name\": \"Number of Collisions\", \"text\": [\"2027\", \"1900\", \"1064\", \"901\", \"1115\", \"1219\", \"1115\", \"1058\", \"1133\", \"1199\", \"1249\", \"1098\"], \"y\": [2027.0, 1900.0, 1064.0, 901.0, 1115.0, 1219.0, 1115.0, 1058.0, 1133.0, 1199.0, 1249.0, 1098.0], \"x\": [1.0, 2.0, 3.0, 4.0, 5.0, 6.0, 7.0, 8.0, 9.0, 10.0, 11.0, 12.0], \"type\": \"bar\", \"uid\": \"7f181afa-a3ed-11e8-927a-0800275aa47c\"}, {\"name\": \"Monthly Total Rain\", \"yaxis\": \"y2\", \"mode\": \"lines\", \"xaxis\": \"x2\", \"y\": [10.7, 0.0, 8.1, 57.900000000000006, 65.0, 107.99999999999999, 63.10000000000001, 76.49999999999999, 96.6, 83.99999999999999, 32.4, 61.5], \"x\": [1.0, 2.0, 3.0, 4.0, 5.0, 6.0, 7.0, 8.0, 9.0, 10.0, 11.0, 12.0], \"type\": \"scatter\", \"uid\": \"7f181d52-a3ed-11e8-927a-0800275aa47c\"}], {\"yaxis2\": {\"domain\": [0.55, 1.0], \"title\": \"Total Rain (mm)\"}, \"title\": \"Rain Analysis (2015)\", \"xaxis2\": {\"anchor\": \"y2\", \"dtick\": 1}, \"xaxis\": {\"dtick\": 1, \"title\": \"Month\"}, \"yaxis\": {\"domain\": [0, 0.5], \"dtick\": 500, \"title\": \"# of Collisions\"}}, {\"linkText\": \"Export to plot.ly\", \"showLink\": true})});</script>"
      ]
     },
     "metadata": {},
     "output_type": "display_data"
    },
    {
     "data": {
      "application/vnd.plotly.v1+json": {
       "data": [
        {
         "name": "Number of Collisions",
         "opacity": 0.6,
         "text": [
          "1407",
          "1523",
          "1018",
          "944",
          "1109",
          "1135",
          "1035",
          "976",
          "1073",
          "1111",
          "1155",
          "1537"
         ],
         "textposition": "auto",
         "type": "bar",
         "uid": "7f22dc7e-a3ed-11e8-927a-0800275aa47c",
         "x": [
          1,
          2,
          3,
          4,
          5,
          6,
          7,
          8,
          9,
          10,
          11,
          12
         ],
         "y": [
          1407,
          1523,
          1018,
          944,
          1109,
          1135,
          1035,
          976,
          1073,
          1111,
          1155,
          1537
         ]
        },
        {
         "mode": "lines",
         "name": "Monthly Total Rain",
         "type": "scatter",
         "uid": "7f22e002-a3ed-11e8-927a-0800275aa47c",
         "x": [
          1,
          2,
          3,
          4,
          5,
          6,
          7,
          8,
          9,
          10,
          11,
          12
         ],
         "xaxis": "x2",
         "y": [
          28.400000000000002,
          41.4,
          78.5,
          20.8,
          26.4,
          56.60000000000001,
          100.8,
          122.4,
          76.60000000000001,
          91.19999999999999,
          47.3,
          15
         ],
         "yaxis": "y2"
        }
       ],
       "layout": {
        "title": "Rain Analysis (2016)",
        "xaxis": {
         "dtick": 1,
         "title": "Month"
        },
        "xaxis2": {
         "anchor": "y2",
         "dtick": 1
        },
        "yaxis": {
         "domain": [
          0,
          0.5
         ],
         "dtick": 500,
         "title": "# of Collisions"
        },
        "yaxis2": {
         "domain": [
          0.55,
          1
         ],
         "title": "Total Rain (mm)"
        }
       }
      },
      "text/html": [
       "<div id=\"605c5715-7615-427e-9c73-a13051f9e0cc\" style=\"height: 525px; width: 100%;\" class=\"plotly-graph-div\"></div><script type=\"text/javascript\">require([\"plotly\"], function(Plotly) { window.PLOTLYENV=window.PLOTLYENV || {};window.PLOTLYENV.BASE_URL=\"https://plot.ly\";Plotly.newPlot(\"605c5715-7615-427e-9c73-a13051f9e0cc\", [{\"opacity\": 0.6, \"textposition\": \"auto\", \"name\": \"Number of Collisions\", \"text\": [\"1407\", \"1523\", \"1018\", \"944\", \"1109\", \"1135\", \"1035\", \"976\", \"1073\", \"1111\", \"1155\", \"1537\"], \"y\": [1407.0, 1523.0, 1018.0, 944.0, 1109.0, 1135.0, 1035.0, 976.0, 1073.0, 1111.0, 1155.0, 1537.0], \"x\": [1.0, 2.0, 3.0, 4.0, 5.0, 6.0, 7.0, 8.0, 9.0, 10.0, 11.0, 12.0], \"type\": \"bar\", \"uid\": \"7f2740e8-a3ed-11e8-927a-0800275aa47c\"}, {\"name\": \"Monthly Total Rain\", \"yaxis\": \"y2\", \"mode\": \"lines\", \"xaxis\": \"x2\", \"y\": [28.400000000000002, 41.4, 78.5, 20.8, 26.4, 56.60000000000001, 100.8, 122.4, 76.60000000000001, 91.19999999999999, 47.3, 15.0], \"x\": [1.0, 2.0, 3.0, 4.0, 5.0, 6.0, 7.0, 8.0, 9.0, 10.0, 11.0, 12.0], \"type\": \"scatter\", \"uid\": \"7f2744e4-a3ed-11e8-927a-0800275aa47c\"}], {\"yaxis2\": {\"domain\": [0.55, 1.0], \"title\": \"Total Rain (mm)\"}, \"title\": \"Rain Analysis (2016)\", \"xaxis2\": {\"anchor\": \"y2\", \"dtick\": 1}, \"xaxis\": {\"dtick\": 1, \"title\": \"Month\"}, \"yaxis\": {\"domain\": [0, 0.5], \"dtick\": 500, \"title\": \"# of Collisions\"}}, {\"linkText\": \"Export to plot.ly\", \"showLink\": true})});</script>"
      ],
      "text/vnd.plotly.v1+html": [
       "<div id=\"605c5715-7615-427e-9c73-a13051f9e0cc\" style=\"height: 525px; width: 100%;\" class=\"plotly-graph-div\"></div><script type=\"text/javascript\">require([\"plotly\"], function(Plotly) { window.PLOTLYENV=window.PLOTLYENV || {};window.PLOTLYENV.BASE_URL=\"https://plot.ly\";Plotly.newPlot(\"605c5715-7615-427e-9c73-a13051f9e0cc\", [{\"opacity\": 0.6, \"textposition\": \"auto\", \"name\": \"Number of Collisions\", \"text\": [\"1407\", \"1523\", \"1018\", \"944\", \"1109\", \"1135\", \"1035\", \"976\", \"1073\", \"1111\", \"1155\", \"1537\"], \"y\": [1407.0, 1523.0, 1018.0, 944.0, 1109.0, 1135.0, 1035.0, 976.0, 1073.0, 1111.0, 1155.0, 1537.0], \"x\": [1.0, 2.0, 3.0, 4.0, 5.0, 6.0, 7.0, 8.0, 9.0, 10.0, 11.0, 12.0], \"type\": \"bar\", \"uid\": \"7f2740e8-a3ed-11e8-927a-0800275aa47c\"}, {\"name\": \"Monthly Total Rain\", \"yaxis\": \"y2\", \"mode\": \"lines\", \"xaxis\": \"x2\", \"y\": [28.400000000000002, 41.4, 78.5, 20.8, 26.4, 56.60000000000001, 100.8, 122.4, 76.60000000000001, 91.19999999999999, 47.3, 15.0], \"x\": [1.0, 2.0, 3.0, 4.0, 5.0, 6.0, 7.0, 8.0, 9.0, 10.0, 11.0, 12.0], \"type\": \"scatter\", \"uid\": \"7f2744e4-a3ed-11e8-927a-0800275aa47c\"}], {\"yaxis2\": {\"domain\": [0.55, 1.0], \"title\": \"Total Rain (mm)\"}, \"title\": \"Rain Analysis (2016)\", \"xaxis2\": {\"anchor\": \"y2\", \"dtick\": 1}, \"xaxis\": {\"dtick\": 1, \"title\": \"Month\"}, \"yaxis\": {\"domain\": [0, 0.5], \"dtick\": 500, \"title\": \"# of Collisions\"}}, {\"linkText\": \"Export to plot.ly\", \"showLink\": true})});</script>"
      ]
     },
     "metadata": {},
     "output_type": "display_data"
    },
    {
     "data": {
      "application/vnd.plotly.v1+json": {
       "data": [
        {
         "name": "Number of Collisions",
         "opacity": 0.6,
         "text": [
          "1275",
          "1279",
          "1224",
          "913",
          "1084",
          "1095",
          "971",
          "990",
          "1176",
          "1139",
          "1493",
          "1755"
         ],
         "textposition": "auto",
         "type": "bar",
         "uid": "7f360718-a3ed-11e8-927a-0800275aa47c",
         "x": [
          1,
          2,
          3,
          4,
          5,
          6,
          7,
          8,
          9,
          10,
          11,
          12
         ],
         "y": [
          1275,
          1279,
          1224,
          913,
          1084,
          1095,
          971,
          990,
          1176,
          1139,
          1493,
          1755
         ]
        },
        {
         "mode": "lines",
         "name": "Monthly Total Rain",
         "type": "scatter",
         "uid": "7f360aa6-a3ed-11e8-927a-0800275aa47c",
         "x": [
          1,
          2,
          3,
          4,
          5,
          6,
          7,
          8,
          9,
          10,
          11,
          12
         ],
         "xaxis": "x2",
         "y": [
          29.299999999999997,
          34,
          37.00000000000001,
          159,
          172.4,
          156.8,
          169.6,
          82.39999999999999,
          51.6,
          142.40000000000003,
          75.80000000000001,
          4.6000000000000005
         ],
         "yaxis": "y2"
        }
       ],
       "layout": {
        "title": "Rain Analysis (2017)",
        "xaxis": {
         "dtick": 1,
         "title": "Month"
        },
        "xaxis2": {
         "anchor": "y2",
         "dtick": 1
        },
        "yaxis": {
         "domain": [
          0,
          0.5
         ],
         "dtick": 500,
         "title": "# of Collisions"
        },
        "yaxis2": {
         "domain": [
          0.55,
          1
         ],
         "title": "Total Rain (mm)"
        }
       }
      },
      "text/html": [
       "<div id=\"4a0a104b-a099-4aef-8242-e070e334d201\" style=\"height: 525px; width: 100%;\" class=\"plotly-graph-div\"></div><script type=\"text/javascript\">require([\"plotly\"], function(Plotly) { window.PLOTLYENV=window.PLOTLYENV || {};window.PLOTLYENV.BASE_URL=\"https://plot.ly\";Plotly.newPlot(\"4a0a104b-a099-4aef-8242-e070e334d201\", [{\"opacity\": 0.6, \"textposition\": \"auto\", \"name\": \"Number of Collisions\", \"text\": [\"1275\", \"1279\", \"1224\", \"913\", \"1084\", \"1095\", \"971\", \"990\", \"1176\", \"1139\", \"1493\", \"1755\"], \"y\": [1275.0, 1279.0, 1224.0, 913.0, 1084.0, 1095.0, 971.0, 990.0, 1176.0, 1139.0, 1493.0, 1755.0], \"x\": [1.0, 2.0, 3.0, 4.0, 5.0, 6.0, 7.0, 8.0, 9.0, 10.0, 11.0, 12.0], \"type\": \"bar\", \"uid\": \"7f3a4828-a3ed-11e8-927a-0800275aa47c\"}, {\"name\": \"Monthly Total Rain\", \"yaxis\": \"y2\", \"mode\": \"lines\", \"xaxis\": \"x2\", \"y\": [29.299999999999997, 34.0, 37.00000000000001, 159.0, 172.4, 156.8, 169.6, 82.39999999999999, 51.6, 142.40000000000003, 75.80000000000001, 4.6000000000000005], \"x\": [1.0, 2.0, 3.0, 4.0, 5.0, 6.0, 7.0, 8.0, 9.0, 10.0, 11.0, 12.0], \"type\": \"scatter\", \"uid\": \"7f3a4a8a-a3ed-11e8-927a-0800275aa47c\"}], {\"yaxis2\": {\"domain\": [0.55, 1.0], \"title\": \"Total Rain (mm)\"}, \"title\": \"Rain Analysis (2017)\", \"xaxis2\": {\"anchor\": \"y2\", \"dtick\": 1}, \"xaxis\": {\"dtick\": 1, \"title\": \"Month\"}, \"yaxis\": {\"domain\": [0, 0.5], \"dtick\": 500, \"title\": \"# of Collisions\"}}, {\"linkText\": \"Export to plot.ly\", \"showLink\": true})});</script>"
      ],
      "text/vnd.plotly.v1+html": [
       "<div id=\"4a0a104b-a099-4aef-8242-e070e334d201\" style=\"height: 525px; width: 100%;\" class=\"plotly-graph-div\"></div><script type=\"text/javascript\">require([\"plotly\"], function(Plotly) { window.PLOTLYENV=window.PLOTLYENV || {};window.PLOTLYENV.BASE_URL=\"https://plot.ly\";Plotly.newPlot(\"4a0a104b-a099-4aef-8242-e070e334d201\", [{\"opacity\": 0.6, \"textposition\": \"auto\", \"name\": \"Number of Collisions\", \"text\": [\"1275\", \"1279\", \"1224\", \"913\", \"1084\", \"1095\", \"971\", \"990\", \"1176\", \"1139\", \"1493\", \"1755\"], \"y\": [1275.0, 1279.0, 1224.0, 913.0, 1084.0, 1095.0, 971.0, 990.0, 1176.0, 1139.0, 1493.0, 1755.0], \"x\": [1.0, 2.0, 3.0, 4.0, 5.0, 6.0, 7.0, 8.0, 9.0, 10.0, 11.0, 12.0], \"type\": \"bar\", \"uid\": \"7f3a4828-a3ed-11e8-927a-0800275aa47c\"}, {\"name\": \"Monthly Total Rain\", \"yaxis\": \"y2\", \"mode\": \"lines\", \"xaxis\": \"x2\", \"y\": [29.299999999999997, 34.0, 37.00000000000001, 159.0, 172.4, 156.8, 169.6, 82.39999999999999, 51.6, 142.40000000000003, 75.80000000000001, 4.6000000000000005], \"x\": [1.0, 2.0, 3.0, 4.0, 5.0, 6.0, 7.0, 8.0, 9.0, 10.0, 11.0, 12.0], \"type\": \"scatter\", \"uid\": \"7f3a4a8a-a3ed-11e8-927a-0800275aa47c\"}], {\"yaxis2\": {\"domain\": [0.55, 1.0], \"title\": \"Total Rain (mm)\"}, \"title\": \"Rain Analysis (2017)\", \"xaxis2\": {\"anchor\": \"y2\", \"dtick\": 1}, \"xaxis\": {\"dtick\": 1, \"title\": \"Month\"}, \"yaxis\": {\"domain\": [0, 0.5], \"dtick\": 500, \"title\": \"# of Collisions\"}}, {\"linkText\": \"Export to plot.ly\", \"showLink\": true})});</script>"
      ]
     },
     "metadata": {},
     "output_type": "display_data"
    }
   ],
   "source": [
    "df_avg = wt1417.groupby([\"Year\",\"Month\"]).mean()\n",
    "df_avg[\"Year\"] = [x[0] for x in df_avg.index]\n",
    "df_avg[\"Month\"] = [x[1] for x in df_avg.index]\n",
    "\n",
    "df_sum = wt1417.groupby([\"Year\",\"Month\"]).sum()\n",
    "df_sum[\"Year\"] = [x[0] for x in df_sum.index]\n",
    "df_sum[\"Month\"] = [x[1] for x in df_sum.index]\n",
    "\n",
    "def printRainInYear(n):\n",
    "    monthCase = go.Bar(x = df_sum[df_sum[\"Year\"]==n][\"Month\"],\n",
    "                       y = df_sum[df_sum[\"Year\"]==n][\"Number of Collisions\"],\n",
    "                       text = df_sum[df_sum[\"Year\"]==n][\"Number of Collisions\"],\n",
    "                       textposition = 'auto',\n",
    "                       opacity = 0.6,\n",
    "                       name = 'Number of Collisions')\n",
    "    total_rain = go.Scatter(x = df_sum[df_sum[\"Year\"]==n][\"Month\"],\n",
    "                         y = df_sum[df_sum[\"Year\"]==n][\"Total Rain (mm)\"],\n",
    "                         mode = 'lines',\n",
    "                         name = 'Monthly Total Rain',\n",
    "                         xaxis = 'x2', \n",
    "                         yaxis = 'y2')\n",
    "    fig = dict(data = [monthCase, total_rain], \n",
    "               layout = go.Layout(title = \"Rain Analysis (\" + str(n) + \")\",\n",
    "                                  xaxis = dict(title='Month', dtick=1),\n",
    "                                  yaxis = dict(title='# of Collisions', dtick=500, domain = [0,0.5]),\n",
    "                                  yaxis2 = dict(title='Total Rain (mm)', domain = [0.55,1.0]),\n",
    "                                  xaxis2 = dict(dtick=1, anchor = 'y2')\n",
    "                                 )\n",
    "              )\n",
    "    iplot(fig)\n",
    "    \n",
    "for m in range(2014,2018):\n",
    "    printRainInYear(m)"
   ]
  },
  {
   "cell_type": "markdown",
   "metadata": {},
   "source": [
    "**Brief Conclusion:**\n",
    "* No clear relationship between rain and collisions"
   ]
  },
  {
   "cell_type": "code",
   "execution_count": 11,
   "metadata": {},
   "outputs": [
    {
     "data": {
      "application/vnd.plotly.v1+json": {
       "data": [
        {
         "name": "Number of Collisions",
         "opacity": 0.6,
         "text": [
          "1790",
          "1349",
          "1190",
          "936",
          "1093",
          "1166",
          "1115",
          "1094",
          "1126",
          "1260",
          "1340",
          "1384"
         ],
         "textposition": "auto",
         "type": "bar",
         "uid": "7f4a066e-a3ed-11e8-927a-0800275aa47c",
         "x": [
          1,
          2,
          3,
          4,
          5,
          6,
          7,
          8,
          9,
          10,
          11,
          12
         ],
         "y": [
          1790,
          1349,
          1190,
          936,
          1093,
          1166,
          1115,
          1094,
          1126,
          1260,
          1340,
          1384
         ]
        },
        {
         "mode": "lines",
         "name": "Monthly Total Snow",
         "type": "scatter",
         "uid": "7f4a0916-a3ed-11e8-927a-0800275aa47c",
         "x": [
          1,
          2,
          3,
          4,
          5,
          6,
          7,
          8,
          9,
          10,
          11,
          12
         ],
         "xaxis": "x2",
         "y": [
          29.8,
          39.199999999999996,
          44.400000000000006,
          0,
          0,
          0,
          0,
          0,
          0,
          0,
          10.7,
          21.299999999999997
         ],
         "yaxis": "y2"
        }
       ],
       "layout": {
        "title": "Snow Analysis (2014)",
        "xaxis": {
         "dtick": 1,
         "title": "Month"
        },
        "xaxis2": {
         "anchor": "y2",
         "dtick": 1
        },
        "yaxis": {
         "domain": [
          0,
          0.5
         ],
         "dtick": 500,
         "title": "# of Collisions"
        },
        "yaxis2": {
         "domain": [
          0.55,
          1
         ],
         "title": "Total Snow (cm)"
        }
       }
      },
      "text/html": [
       "<div id=\"f0667a74-f38a-4ada-8ddc-85c7beee2cc7\" style=\"height: 525px; width: 100%;\" class=\"plotly-graph-div\"></div><script type=\"text/javascript\">require([\"plotly\"], function(Plotly) { window.PLOTLYENV=window.PLOTLYENV || {};window.PLOTLYENV.BASE_URL=\"https://plot.ly\";Plotly.newPlot(\"f0667a74-f38a-4ada-8ddc-85c7beee2cc7\", [{\"opacity\": 0.6, \"textposition\": \"auto\", \"name\": \"Number of Collisions\", \"text\": [\"1790\", \"1349\", \"1190\", \"936\", \"1093\", \"1166\", \"1115\", \"1094\", \"1126\", \"1260\", \"1340\", \"1384\"], \"y\": [1790.0, 1349.0, 1190.0, 936.0, 1093.0, 1166.0, 1115.0, 1094.0, 1126.0, 1260.0, 1340.0, 1384.0], \"x\": [1.0, 2.0, 3.0, 4.0, 5.0, 6.0, 7.0, 8.0, 9.0, 10.0, 11.0, 12.0], \"type\": \"bar\", \"uid\": \"7f4e5afc-a3ed-11e8-927a-0800275aa47c\"}, {\"name\": \"Monthly Total Snow\", \"yaxis\": \"y2\", \"mode\": \"lines\", \"xaxis\": \"x2\", \"y\": [29.8, 39.199999999999996, 44.400000000000006, 0.0, 0.0, 0.0, 0.0, 0.0, 0.0, 0.0, 10.7, 21.299999999999997], \"x\": [1.0, 2.0, 3.0, 4.0, 5.0, 6.0, 7.0, 8.0, 9.0, 10.0, 11.0, 12.0], \"type\": \"scatter\", \"uid\": \"7f4e5d54-a3ed-11e8-927a-0800275aa47c\"}], {\"yaxis2\": {\"domain\": [0.55, 1.0], \"title\": \"Total Snow (cm)\"}, \"title\": \"Snow Analysis (2014)\", \"xaxis2\": {\"anchor\": \"y2\", \"dtick\": 1}, \"xaxis\": {\"dtick\": 1, \"title\": \"Month\"}, \"yaxis\": {\"domain\": [0, 0.5], \"dtick\": 500, \"title\": \"# of Collisions\"}}, {\"linkText\": \"Export to plot.ly\", \"showLink\": true})});</script>"
      ],
      "text/vnd.plotly.v1+html": [
       "<div id=\"f0667a74-f38a-4ada-8ddc-85c7beee2cc7\" style=\"height: 525px; width: 100%;\" class=\"plotly-graph-div\"></div><script type=\"text/javascript\">require([\"plotly\"], function(Plotly) { window.PLOTLYENV=window.PLOTLYENV || {};window.PLOTLYENV.BASE_URL=\"https://plot.ly\";Plotly.newPlot(\"f0667a74-f38a-4ada-8ddc-85c7beee2cc7\", [{\"opacity\": 0.6, \"textposition\": \"auto\", \"name\": \"Number of Collisions\", \"text\": [\"1790\", \"1349\", \"1190\", \"936\", \"1093\", \"1166\", \"1115\", \"1094\", \"1126\", \"1260\", \"1340\", \"1384\"], \"y\": [1790.0, 1349.0, 1190.0, 936.0, 1093.0, 1166.0, 1115.0, 1094.0, 1126.0, 1260.0, 1340.0, 1384.0], \"x\": [1.0, 2.0, 3.0, 4.0, 5.0, 6.0, 7.0, 8.0, 9.0, 10.0, 11.0, 12.0], \"type\": \"bar\", \"uid\": \"7f4e5afc-a3ed-11e8-927a-0800275aa47c\"}, {\"name\": \"Monthly Total Snow\", \"yaxis\": \"y2\", \"mode\": \"lines\", \"xaxis\": \"x2\", \"y\": [29.8, 39.199999999999996, 44.400000000000006, 0.0, 0.0, 0.0, 0.0, 0.0, 0.0, 0.0, 10.7, 21.299999999999997], \"x\": [1.0, 2.0, 3.0, 4.0, 5.0, 6.0, 7.0, 8.0, 9.0, 10.0, 11.0, 12.0], \"type\": \"scatter\", \"uid\": \"7f4e5d54-a3ed-11e8-927a-0800275aa47c\"}], {\"yaxis2\": {\"domain\": [0.55, 1.0], \"title\": \"Total Snow (cm)\"}, \"title\": \"Snow Analysis (2014)\", \"xaxis2\": {\"anchor\": \"y2\", \"dtick\": 1}, \"xaxis\": {\"dtick\": 1, \"title\": \"Month\"}, \"yaxis\": {\"domain\": [0, 0.5], \"dtick\": 500, \"title\": \"# of Collisions\"}}, {\"linkText\": \"Export to plot.ly\", \"showLink\": true})});</script>"
      ]
     },
     "metadata": {},
     "output_type": "display_data"
    },
    {
     "data": {
      "application/vnd.plotly.v1+json": {
       "data": [
        {
         "name": "Number of Collisions",
         "opacity": 0.6,
         "text": [
          "2027",
          "1900",
          "1064",
          "901",
          "1115",
          "1219",
          "1115",
          "1058",
          "1133",
          "1199",
          "1249",
          "1098"
         ],
         "textposition": "auto",
         "type": "bar",
         "uid": "7f5b72d2-a3ed-11e8-927a-0800275aa47c",
         "x": [
          1,
          2,
          3,
          4,
          5,
          6,
          7,
          8,
          9,
          10,
          11,
          12
         ],
         "y": [
          2027,
          1900,
          1064,
          901,
          1115,
          1219,
          1115,
          1058,
          1133,
          1199,
          1249,
          1098
         ]
        },
        {
         "mode": "lines",
         "name": "Monthly Total Snow",
         "type": "scatter",
         "uid": "7f5b753e-a3ed-11e8-927a-0800275aa47c",
         "x": [
          1,
          2,
          3,
          4,
          5,
          6,
          7,
          8,
          9,
          10,
          11,
          12
         ],
         "xaxis": "x2",
         "y": [
          45.70000000000001,
          54,
          18.7,
          4,
          0,
          0,
          0,
          0,
          0,
          0,
          1,
          31.299999999999997
         ],
         "yaxis": "y2"
        }
       ],
       "layout": {
        "title": "Snow Analysis (2015)",
        "xaxis": {
         "dtick": 1,
         "title": "Month"
        },
        "xaxis2": {
         "anchor": "y2",
         "dtick": 1
        },
        "yaxis": {
         "domain": [
          0,
          0.5
         ],
         "dtick": 500,
         "title": "# of Collisions"
        },
        "yaxis2": {
         "domain": [
          0.55,
          1
         ],
         "title": "Total Snow (cm)"
        }
       }
      },
      "text/html": [
       "<div id=\"69614935-b31c-425c-81c1-12c9476bb8be\" style=\"height: 525px; width: 100%;\" class=\"plotly-graph-div\"></div><script type=\"text/javascript\">require([\"plotly\"], function(Plotly) { window.PLOTLYENV=window.PLOTLYENV || {};window.PLOTLYENV.BASE_URL=\"https://plot.ly\";Plotly.newPlot(\"69614935-b31c-425c-81c1-12c9476bb8be\", [{\"opacity\": 0.6, \"textposition\": \"auto\", \"name\": \"Number of Collisions\", \"text\": [\"2027\", \"1900\", \"1064\", \"901\", \"1115\", \"1219\", \"1115\", \"1058\", \"1133\", \"1199\", \"1249\", \"1098\"], \"y\": [2027.0, 1900.0, 1064.0, 901.0, 1115.0, 1219.0, 1115.0, 1058.0, 1133.0, 1199.0, 1249.0, 1098.0], \"x\": [1.0, 2.0, 3.0, 4.0, 5.0, 6.0, 7.0, 8.0, 9.0, 10.0, 11.0, 12.0], \"type\": \"bar\", \"uid\": \"7f5f7b3e-a3ed-11e8-927a-0800275aa47c\"}, {\"name\": \"Monthly Total Snow\", \"yaxis\": \"y2\", \"mode\": \"lines\", \"xaxis\": \"x2\", \"y\": [45.70000000000001, 54.0, 18.7, 4.0, 0.0, 0.0, 0.0, 0.0, 0.0, 0.0, 1.0, 31.299999999999997], \"x\": [1.0, 2.0, 3.0, 4.0, 5.0, 6.0, 7.0, 8.0, 9.0, 10.0, 11.0, 12.0], \"type\": \"scatter\", \"uid\": \"7f5f7f9e-a3ed-11e8-927a-0800275aa47c\"}], {\"yaxis2\": {\"domain\": [0.55, 1.0], \"title\": \"Total Snow (cm)\"}, \"title\": \"Snow Analysis (2015)\", \"xaxis2\": {\"anchor\": \"y2\", \"dtick\": 1}, \"xaxis\": {\"dtick\": 1, \"title\": \"Month\"}, \"yaxis\": {\"domain\": [0, 0.5], \"dtick\": 500, \"title\": \"# of Collisions\"}}, {\"linkText\": \"Export to plot.ly\", \"showLink\": true})});</script>"
      ],
      "text/vnd.plotly.v1+html": [
       "<div id=\"69614935-b31c-425c-81c1-12c9476bb8be\" style=\"height: 525px; width: 100%;\" class=\"plotly-graph-div\"></div><script type=\"text/javascript\">require([\"plotly\"], function(Plotly) { window.PLOTLYENV=window.PLOTLYENV || {};window.PLOTLYENV.BASE_URL=\"https://plot.ly\";Plotly.newPlot(\"69614935-b31c-425c-81c1-12c9476bb8be\", [{\"opacity\": 0.6, \"textposition\": \"auto\", \"name\": \"Number of Collisions\", \"text\": [\"2027\", \"1900\", \"1064\", \"901\", \"1115\", \"1219\", \"1115\", \"1058\", \"1133\", \"1199\", \"1249\", \"1098\"], \"y\": [2027.0, 1900.0, 1064.0, 901.0, 1115.0, 1219.0, 1115.0, 1058.0, 1133.0, 1199.0, 1249.0, 1098.0], \"x\": [1.0, 2.0, 3.0, 4.0, 5.0, 6.0, 7.0, 8.0, 9.0, 10.0, 11.0, 12.0], \"type\": \"bar\", \"uid\": \"7f5f7b3e-a3ed-11e8-927a-0800275aa47c\"}, {\"name\": \"Monthly Total Snow\", \"yaxis\": \"y2\", \"mode\": \"lines\", \"xaxis\": \"x2\", \"y\": [45.70000000000001, 54.0, 18.7, 4.0, 0.0, 0.0, 0.0, 0.0, 0.0, 0.0, 1.0, 31.299999999999997], \"x\": [1.0, 2.0, 3.0, 4.0, 5.0, 6.0, 7.0, 8.0, 9.0, 10.0, 11.0, 12.0], \"type\": \"scatter\", \"uid\": \"7f5f7f9e-a3ed-11e8-927a-0800275aa47c\"}], {\"yaxis2\": {\"domain\": [0.55, 1.0], \"title\": \"Total Snow (cm)\"}, \"title\": \"Snow Analysis (2015)\", \"xaxis2\": {\"anchor\": \"y2\", \"dtick\": 1}, \"xaxis\": {\"dtick\": 1, \"title\": \"Month\"}, \"yaxis\": {\"domain\": [0, 0.5], \"dtick\": 500, \"title\": \"# of Collisions\"}}, {\"linkText\": \"Export to plot.ly\", \"showLink\": true})});</script>"
      ]
     },
     "metadata": {},
     "output_type": "display_data"
    },
    {
     "data": {
      "application/vnd.plotly.v1+json": {
       "data": [
        {
         "name": "Number of Collisions",
         "opacity": 0.6,
         "text": [
          "1407",
          "1523",
          "1018",
          "944",
          "1109",
          "1135",
          "1035",
          "976",
          "1073",
          "1111",
          "1155",
          "1537"
         ],
         "textposition": "auto",
         "type": "bar",
         "uid": "7f6973aa-a3ed-11e8-927a-0800275aa47c",
         "x": [
          1,
          2,
          3,
          4,
          5,
          6,
          7,
          8,
          9,
          10,
          11,
          12
         ],
         "y": [
          1407,
          1523,
          1018,
          944,
          1109,
          1135,
          1035,
          976,
          1073,
          1111,
          1155,
          1537
         ]
        },
        {
         "mode": "lines",
         "name": "Monthly Total Snow",
         "type": "scatter",
         "uid": "7f697602-a3ed-11e8-927a-0800275aa47c",
         "x": [
          1,
          2,
          3,
          4,
          5,
          6,
          7,
          8,
          9,
          10,
          11,
          12
         ],
         "xaxis": "x2",
         "y": [
          30.799999999999997,
          61.1,
          19.5,
          25.200000000000003,
          0,
          0,
          0,
          0,
          0,
          8,
          14.399999999999999,
          84.19999999999999
         ],
         "yaxis": "y2"
        }
       ],
       "layout": {
        "title": "Snow Analysis (2016)",
        "xaxis": {
         "dtick": 1,
         "title": "Month"
        },
        "xaxis2": {
         "anchor": "y2",
         "dtick": 1
        },
        "yaxis": {
         "domain": [
          0,
          0.5
         ],
         "dtick": 500,
         "title": "# of Collisions"
        },
        "yaxis2": {
         "domain": [
          0.55,
          1
         ],
         "title": "Total Snow (cm)"
        }
       }
      },
      "text/html": [
       "<div id=\"6abd293a-fa35-4169-8f4f-5c97cd53c791\" style=\"height: 525px; width: 100%;\" class=\"plotly-graph-div\"></div><script type=\"text/javascript\">require([\"plotly\"], function(Plotly) { window.PLOTLYENV=window.PLOTLYENV || {};window.PLOTLYENV.BASE_URL=\"https://plot.ly\";Plotly.newPlot(\"6abd293a-fa35-4169-8f4f-5c97cd53c791\", [{\"opacity\": 0.6, \"textposition\": \"auto\", \"name\": \"Number of Collisions\", \"text\": [\"1407\", \"1523\", \"1018\", \"944\", \"1109\", \"1135\", \"1035\", \"976\", \"1073\", \"1111\", \"1155\", \"1537\"], \"y\": [1407.0, 1523.0, 1018.0, 944.0, 1109.0, 1135.0, 1035.0, 976.0, 1073.0, 1111.0, 1155.0, 1537.0], \"x\": [1.0, 2.0, 3.0, 4.0, 5.0, 6.0, 7.0, 8.0, 9.0, 10.0, 11.0, 12.0], \"type\": \"bar\", \"uid\": \"7f6d32ba-a3ed-11e8-927a-0800275aa47c\"}, {\"name\": \"Monthly Total Snow\", \"yaxis\": \"y2\", \"mode\": \"lines\", \"xaxis\": \"x2\", \"y\": [30.799999999999997, 61.1, 19.5, 25.200000000000003, 0.0, 0.0, 0.0, 0.0, 0.0, 8.0, 14.399999999999999, 84.19999999999999], \"x\": [1.0, 2.0, 3.0, 4.0, 5.0, 6.0, 7.0, 8.0, 9.0, 10.0, 11.0, 12.0], \"type\": \"scatter\", \"uid\": \"7f6d3508-a3ed-11e8-927a-0800275aa47c\"}], {\"yaxis2\": {\"domain\": [0.55, 1.0], \"title\": \"Total Snow (cm)\"}, \"title\": \"Snow Analysis (2016)\", \"xaxis2\": {\"anchor\": \"y2\", \"dtick\": 1}, \"xaxis\": {\"dtick\": 1, \"title\": \"Month\"}, \"yaxis\": {\"domain\": [0, 0.5], \"dtick\": 500, \"title\": \"# of Collisions\"}}, {\"linkText\": \"Export to plot.ly\", \"showLink\": true})});</script>"
      ],
      "text/vnd.plotly.v1+html": [
       "<div id=\"6abd293a-fa35-4169-8f4f-5c97cd53c791\" style=\"height: 525px; width: 100%;\" class=\"plotly-graph-div\"></div><script type=\"text/javascript\">require([\"plotly\"], function(Plotly) { window.PLOTLYENV=window.PLOTLYENV || {};window.PLOTLYENV.BASE_URL=\"https://plot.ly\";Plotly.newPlot(\"6abd293a-fa35-4169-8f4f-5c97cd53c791\", [{\"opacity\": 0.6, \"textposition\": \"auto\", \"name\": \"Number of Collisions\", \"text\": [\"1407\", \"1523\", \"1018\", \"944\", \"1109\", \"1135\", \"1035\", \"976\", \"1073\", \"1111\", \"1155\", \"1537\"], \"y\": [1407.0, 1523.0, 1018.0, 944.0, 1109.0, 1135.0, 1035.0, 976.0, 1073.0, 1111.0, 1155.0, 1537.0], \"x\": [1.0, 2.0, 3.0, 4.0, 5.0, 6.0, 7.0, 8.0, 9.0, 10.0, 11.0, 12.0], \"type\": \"bar\", \"uid\": \"7f6d32ba-a3ed-11e8-927a-0800275aa47c\"}, {\"name\": \"Monthly Total Snow\", \"yaxis\": \"y2\", \"mode\": \"lines\", \"xaxis\": \"x2\", \"y\": [30.799999999999997, 61.1, 19.5, 25.200000000000003, 0.0, 0.0, 0.0, 0.0, 0.0, 8.0, 14.399999999999999, 84.19999999999999], \"x\": [1.0, 2.0, 3.0, 4.0, 5.0, 6.0, 7.0, 8.0, 9.0, 10.0, 11.0, 12.0], \"type\": \"scatter\", \"uid\": \"7f6d3508-a3ed-11e8-927a-0800275aa47c\"}], {\"yaxis2\": {\"domain\": [0.55, 1.0], \"title\": \"Total Snow (cm)\"}, \"title\": \"Snow Analysis (2016)\", \"xaxis2\": {\"anchor\": \"y2\", \"dtick\": 1}, \"xaxis\": {\"dtick\": 1, \"title\": \"Month\"}, \"yaxis\": {\"domain\": [0, 0.5], \"dtick\": 500, \"title\": \"# of Collisions\"}}, {\"linkText\": \"Export to plot.ly\", \"showLink\": true})});</script>"
      ]
     },
     "metadata": {},
     "output_type": "display_data"
    },
    {
     "data": {
      "application/vnd.plotly.v1+json": {
       "data": [
        {
         "name": "Number of Collisions",
         "opacity": 0.6,
         "text": [
          "1275",
          "1279",
          "1224",
          "913",
          "1084",
          "1095",
          "971",
          "990",
          "1176",
          "1139",
          "1493",
          "1755"
         ],
         "textposition": "auto",
         "type": "bar",
         "uid": "7f77f9fc-a3ed-11e8-927a-0800275aa47c",
         "x": [
          1,
          2,
          3,
          4,
          5,
          6,
          7,
          8,
          9,
          10,
          11,
          12
         ],
         "y": [
          1275,
          1279,
          1224,
          913,
          1084,
          1095,
          971,
          990,
          1176,
          1139,
          1493,
          1755
         ]
        },
        {
         "mode": "lines",
         "name": "Monthly Total Snow",
         "type": "scatter",
         "uid": "7f77fce0-a3ed-11e8-927a-0800275aa47c",
         "x": [
          1,
          2,
          3,
          4,
          5,
          6,
          7,
          8,
          9,
          10,
          11,
          12
         ],
         "xaxis": "x2",
         "y": [
          36.400000000000006,
          64.6,
          35.4,
          0,
          0,
          0,
          0,
          0,
          0,
          0,
          14.4,
          38.8
         ],
         "yaxis": "y2"
        }
       ],
       "layout": {
        "title": "Snow Analysis (2017)",
        "xaxis": {
         "dtick": 1,
         "title": "Month"
        },
        "xaxis2": {
         "anchor": "y2",
         "dtick": 1
        },
        "yaxis": {
         "domain": [
          0,
          0.5
         ],
         "dtick": 500,
         "title": "# of Collisions"
        },
        "yaxis2": {
         "domain": [
          0.55,
          1
         ],
         "title": "Total Snow (cm)"
        }
       }
      },
      "text/html": [
       "<div id=\"e0d41e50-a090-4c0d-b190-e332fad72296\" style=\"height: 525px; width: 100%;\" class=\"plotly-graph-div\"></div><script type=\"text/javascript\">require([\"plotly\"], function(Plotly) { window.PLOTLYENV=window.PLOTLYENV || {};window.PLOTLYENV.BASE_URL=\"https://plot.ly\";Plotly.newPlot(\"e0d41e50-a090-4c0d-b190-e332fad72296\", [{\"opacity\": 0.6, \"textposition\": \"auto\", \"name\": \"Number of Collisions\", \"text\": [\"1275\", \"1279\", \"1224\", \"913\", \"1084\", \"1095\", \"971\", \"990\", \"1176\", \"1139\", \"1493\", \"1755\"], \"y\": [1275.0, 1279.0, 1224.0, 913.0, 1084.0, 1095.0, 971.0, 990.0, 1176.0, 1139.0, 1493.0, 1755.0], \"x\": [1.0, 2.0, 3.0, 4.0, 5.0, 6.0, 7.0, 8.0, 9.0, 10.0, 11.0, 12.0], \"type\": \"bar\", \"uid\": \"7f89394c-a3ed-11e8-927a-0800275aa47c\"}, {\"name\": \"Monthly Total Snow\", \"yaxis\": \"y2\", \"mode\": \"lines\", \"xaxis\": \"x2\", \"y\": [36.400000000000006, 64.6, 35.4, 0.0, 0.0, 0.0, 0.0, 0.0, 0.0, 0.0, 14.4, 38.8], \"x\": [1.0, 2.0, 3.0, 4.0, 5.0, 6.0, 7.0, 8.0, 9.0, 10.0, 11.0, 12.0], \"type\": \"scatter\", \"uid\": \"7f893c4e-a3ed-11e8-927a-0800275aa47c\"}], {\"yaxis2\": {\"domain\": [0.55, 1.0], \"title\": \"Total Snow (cm)\"}, \"title\": \"Snow Analysis (2017)\", \"xaxis2\": {\"anchor\": \"y2\", \"dtick\": 1}, \"xaxis\": {\"dtick\": 1, \"title\": \"Month\"}, \"yaxis\": {\"domain\": [0, 0.5], \"dtick\": 500, \"title\": \"# of Collisions\"}}, {\"linkText\": \"Export to plot.ly\", \"showLink\": true})});</script>"
      ],
      "text/vnd.plotly.v1+html": [
       "<div id=\"e0d41e50-a090-4c0d-b190-e332fad72296\" style=\"height: 525px; width: 100%;\" class=\"plotly-graph-div\"></div><script type=\"text/javascript\">require([\"plotly\"], function(Plotly) { window.PLOTLYENV=window.PLOTLYENV || {};window.PLOTLYENV.BASE_URL=\"https://plot.ly\";Plotly.newPlot(\"e0d41e50-a090-4c0d-b190-e332fad72296\", [{\"opacity\": 0.6, \"textposition\": \"auto\", \"name\": \"Number of Collisions\", \"text\": [\"1275\", \"1279\", \"1224\", \"913\", \"1084\", \"1095\", \"971\", \"990\", \"1176\", \"1139\", \"1493\", \"1755\"], \"y\": [1275.0, 1279.0, 1224.0, 913.0, 1084.0, 1095.0, 971.0, 990.0, 1176.0, 1139.0, 1493.0, 1755.0], \"x\": [1.0, 2.0, 3.0, 4.0, 5.0, 6.0, 7.0, 8.0, 9.0, 10.0, 11.0, 12.0], \"type\": \"bar\", \"uid\": \"7f89394c-a3ed-11e8-927a-0800275aa47c\"}, {\"name\": \"Monthly Total Snow\", \"yaxis\": \"y2\", \"mode\": \"lines\", \"xaxis\": \"x2\", \"y\": [36.400000000000006, 64.6, 35.4, 0.0, 0.0, 0.0, 0.0, 0.0, 0.0, 0.0, 14.4, 38.8], \"x\": [1.0, 2.0, 3.0, 4.0, 5.0, 6.0, 7.0, 8.0, 9.0, 10.0, 11.0, 12.0], \"type\": \"scatter\", \"uid\": \"7f893c4e-a3ed-11e8-927a-0800275aa47c\"}], {\"yaxis2\": {\"domain\": [0.55, 1.0], \"title\": \"Total Snow (cm)\"}, \"title\": \"Snow Analysis (2017)\", \"xaxis2\": {\"anchor\": \"y2\", \"dtick\": 1}, \"xaxis\": {\"dtick\": 1, \"title\": \"Month\"}, \"yaxis\": {\"domain\": [0, 0.5], \"dtick\": 500, \"title\": \"# of Collisions\"}}, {\"linkText\": \"Export to plot.ly\", \"showLink\": true})});</script>"
      ]
     },
     "metadata": {},
     "output_type": "display_data"
    }
   ],
   "source": [
    "df_avg = wt1417.groupby([\"Year\",\"Month\"]).mean()\n",
    "df_avg[\"Year\"] = [x[0] for x in df_avg.index]\n",
    "df_avg[\"Month\"] = [x[1] for x in df_avg.index]\n",
    "\n",
    "df_sum = wt1417.groupby([\"Year\",\"Month\"]).sum()\n",
    "df_sum[\"Year\"] = [x[0] for x in df_sum.index]\n",
    "df_sum[\"Month\"] = [x[1] for x in df_sum.index]\n",
    "\n",
    "def printSnowInYear(n):\n",
    "    monthCase = go.Bar(x = df_sum[df_sum[\"Year\"]==n][\"Month\"],\n",
    "                       y = df_sum[df_sum[\"Year\"]==n][\"Number of Collisions\"],\n",
    "                       text = df_sum[df_sum[\"Year\"]==n][\"Number of Collisions\"],\n",
    "                       textposition = 'auto',\n",
    "                       opacity = 0.6,\n",
    "                       name = 'Number of Collisions')\n",
    "    total_snow = go.Scatter(x = df_sum[df_sum[\"Year\"]==n][\"Month\"],\n",
    "                         y = df_sum[df_sum[\"Year\"]==n][\"Total Snow (cm)\"],\n",
    "                         mode = 'lines',\n",
    "                         name = 'Monthly Total Snow',\n",
    "                         xaxis = 'x2', \n",
    "                         yaxis = 'y2')\n",
    "    fig = dict(data = [monthCase, total_snow], \n",
    "               layout = go.Layout(title = \"Snow Analysis (\" + str(n) + \")\",\n",
    "                                  xaxis = dict(title='Month', dtick=1),\n",
    "                                  yaxis = dict(title='# of Collisions', dtick=500, domain = [0,0.5]),\n",
    "                                  yaxis2 = dict(title='Total Snow (cm)', domain = [0.55,1.0]),\n",
    "                                  xaxis2 = dict(dtick=1, anchor = 'y2')\n",
    "                                 )\n",
    "              )\n",
    "    iplot(fig)\n",
    "    \n",
    "for m in range(2014,2018):\n",
    "    printSnowInYear(m)"
   ]
  },
  {
   "cell_type": "code",
   "execution_count": 12,
   "metadata": {},
   "outputs": [
    {
     "data": {
      "application/vnd.plotly.v1+json": {
       "data": [
        {
         "name": "Number of Collisions",
         "opacity": 0.6,
         "text": [
          "1790",
          "1349",
          "1190",
          "936",
          "1093",
          "1166",
          "1115",
          "1094",
          "1126",
          "1260",
          "1340",
          "1384"
         ],
         "textposition": "auto",
         "type": "bar",
         "uid": "7f9a6294-a3ed-11e8-927a-0800275aa47c",
         "x": [
          1,
          2,
          3,
          4,
          5,
          6,
          7,
          8,
          9,
          10,
          11,
          12
         ],
         "y": [
          1790,
          1349,
          1190,
          936,
          1093,
          1166,
          1115,
          1094,
          1126,
          1260,
          1340,
          1384
         ]
        },
        {
         "mode": "lines",
         "name": "Monthly Total Snow on Ground",
         "type": "scatter",
         "uid": "7f9a650a-a3ed-11e8-927a-0800275aa47c",
         "x": [
          1,
          2,
          3,
          4,
          5,
          6,
          7,
          8,
          9,
          10,
          11,
          12
         ],
         "xaxis": "x2",
         "y": [
          771,
          1067,
          1214,
          219,
          0,
          0,
          0,
          0,
          0,
          0,
          13,
          116
         ],
         "yaxis": "y2"
        }
       ],
       "layout": {
        "title": "Snow on Ground Analysis (2014)",
        "xaxis": {
         "dtick": 1,
         "title": "Month"
        },
        "xaxis2": {
         "anchor": "y2",
         "dtick": 1
        },
        "yaxis": {
         "domain": [
          0,
          0.5
         ],
         "dtick": 500,
         "title": "# of Collisions"
        },
        "yaxis2": {
         "domain": [
          0.55,
          1
         ],
         "title": "Snow on Grnd (cm)"
        }
       }
      },
      "text/html": [
       "<div id=\"98b79649-e8be-40f4-9efb-cbfc3f50436c\" style=\"height: 525px; width: 100%;\" class=\"plotly-graph-div\"></div><script type=\"text/javascript\">require([\"plotly\"], function(Plotly) { window.PLOTLYENV=window.PLOTLYENV || {};window.PLOTLYENV.BASE_URL=\"https://plot.ly\";Plotly.newPlot(\"98b79649-e8be-40f4-9efb-cbfc3f50436c\", [{\"opacity\": 0.6, \"textposition\": \"auto\", \"name\": \"Number of Collisions\", \"text\": [\"1790\", \"1349\", \"1190\", \"936\", \"1093\", \"1166\", \"1115\", \"1094\", \"1126\", \"1260\", \"1340\", \"1384\"], \"y\": [1790.0, 1349.0, 1190.0, 936.0, 1093.0, 1166.0, 1115.0, 1094.0, 1126.0, 1260.0, 1340.0, 1384.0], \"x\": [1.0, 2.0, 3.0, 4.0, 5.0, 6.0, 7.0, 8.0, 9.0, 10.0, 11.0, 12.0], \"type\": \"bar\", \"uid\": \"7f9e4242-a3ed-11e8-927a-0800275aa47c\"}, {\"name\": \"Monthly Total Snow on Ground\", \"yaxis\": \"y2\", \"mode\": \"lines\", \"xaxis\": \"x2\", \"y\": [771.0, 1067.0, 1214.0, 219.0, 0.0, 0.0, 0.0, 0.0, 0.0, 0.0, 13.0, 116.0], \"x\": [1.0, 2.0, 3.0, 4.0, 5.0, 6.0, 7.0, 8.0, 9.0, 10.0, 11.0, 12.0], \"type\": \"scatter\", \"uid\": \"7f9e447c-a3ed-11e8-927a-0800275aa47c\"}], {\"yaxis2\": {\"domain\": [0.55, 1.0], \"title\": \"Snow on Grnd (cm)\"}, \"title\": \"Snow on Ground Analysis (2014)\", \"xaxis2\": {\"anchor\": \"y2\", \"dtick\": 1}, \"xaxis\": {\"dtick\": 1, \"title\": \"Month\"}, \"yaxis\": {\"domain\": [0, 0.5], \"dtick\": 500, \"title\": \"# of Collisions\"}}, {\"linkText\": \"Export to plot.ly\", \"showLink\": true})});</script>"
      ],
      "text/vnd.plotly.v1+html": [
       "<div id=\"98b79649-e8be-40f4-9efb-cbfc3f50436c\" style=\"height: 525px; width: 100%;\" class=\"plotly-graph-div\"></div><script type=\"text/javascript\">require([\"plotly\"], function(Plotly) { window.PLOTLYENV=window.PLOTLYENV || {};window.PLOTLYENV.BASE_URL=\"https://plot.ly\";Plotly.newPlot(\"98b79649-e8be-40f4-9efb-cbfc3f50436c\", [{\"opacity\": 0.6, \"textposition\": \"auto\", \"name\": \"Number of Collisions\", \"text\": [\"1790\", \"1349\", \"1190\", \"936\", \"1093\", \"1166\", \"1115\", \"1094\", \"1126\", \"1260\", \"1340\", \"1384\"], \"y\": [1790.0, 1349.0, 1190.0, 936.0, 1093.0, 1166.0, 1115.0, 1094.0, 1126.0, 1260.0, 1340.0, 1384.0], \"x\": [1.0, 2.0, 3.0, 4.0, 5.0, 6.0, 7.0, 8.0, 9.0, 10.0, 11.0, 12.0], \"type\": \"bar\", \"uid\": \"7f9e4242-a3ed-11e8-927a-0800275aa47c\"}, {\"name\": \"Monthly Total Snow on Ground\", \"yaxis\": \"y2\", \"mode\": \"lines\", \"xaxis\": \"x2\", \"y\": [771.0, 1067.0, 1214.0, 219.0, 0.0, 0.0, 0.0, 0.0, 0.0, 0.0, 13.0, 116.0], \"x\": [1.0, 2.0, 3.0, 4.0, 5.0, 6.0, 7.0, 8.0, 9.0, 10.0, 11.0, 12.0], \"type\": \"scatter\", \"uid\": \"7f9e447c-a3ed-11e8-927a-0800275aa47c\"}], {\"yaxis2\": {\"domain\": [0.55, 1.0], \"title\": \"Snow on Grnd (cm)\"}, \"title\": \"Snow on Ground Analysis (2014)\", \"xaxis2\": {\"anchor\": \"y2\", \"dtick\": 1}, \"xaxis\": {\"dtick\": 1, \"title\": \"Month\"}, \"yaxis\": {\"domain\": [0, 0.5], \"dtick\": 500, \"title\": \"# of Collisions\"}}, {\"linkText\": \"Export to plot.ly\", \"showLink\": true})});</script>"
      ]
     },
     "metadata": {},
     "output_type": "display_data"
    },
    {
     "data": {
      "application/vnd.plotly.v1+json": {
       "data": [
        {
         "name": "Number of Collisions",
         "opacity": 0.6,
         "text": [
          "2027",
          "1900",
          "1064",
          "901",
          "1115",
          "1219",
          "1115",
          "1058",
          "1133",
          "1199",
          "1249",
          "1098"
         ],
         "textposition": "auto",
         "type": "bar",
         "uid": "7fa820aa-a3ed-11e8-927a-0800275aa47c",
         "x": [
          1,
          2,
          3,
          4,
          5,
          6,
          7,
          8,
          9,
          10,
          11,
          12
         ],
         "y": [
          2027,
          1900,
          1064,
          901,
          1115,
          1219,
          1115,
          1058,
          1133,
          1199,
          1249,
          1098
         ]
        },
        {
         "mode": "lines",
         "name": "Monthly Total Snow on Ground",
         "type": "scatter",
         "uid": "7fa82302-a3ed-11e8-927a-0800275aa47c",
         "x": [
          1,
          2,
          3,
          4,
          5,
          6,
          7,
          8,
          9,
          10,
          11,
          12
         ],
         "xaxis": "x2",
         "y": [
          257,
          790,
          840,
          31,
          0,
          0,
          0,
          0,
          0,
          0,
          1,
          47
         ],
         "yaxis": "y2"
        }
       ],
       "layout": {
        "title": "Snow on Ground Analysis (2015)",
        "xaxis": {
         "dtick": 1,
         "title": "Month"
        },
        "xaxis2": {
         "anchor": "y2",
         "dtick": 1
        },
        "yaxis": {
         "domain": [
          0,
          0.5
         ],
         "dtick": 500,
         "title": "# of Collisions"
        },
        "yaxis2": {
         "domain": [
          0.55,
          1
         ],
         "title": "Snow on Grnd (cm)"
        }
       }
      },
      "text/html": [
       "<div id=\"bccfc9b5-647b-4a2b-9885-15c88117fc7b\" style=\"height: 525px; width: 100%;\" class=\"plotly-graph-div\"></div><script type=\"text/javascript\">require([\"plotly\"], function(Plotly) { window.PLOTLYENV=window.PLOTLYENV || {};window.PLOTLYENV.BASE_URL=\"https://plot.ly\";Plotly.newPlot(\"bccfc9b5-647b-4a2b-9885-15c88117fc7b\", [{\"opacity\": 0.6, \"textposition\": \"auto\", \"name\": \"Number of Collisions\", \"text\": [\"2027\", \"1900\", \"1064\", \"901\", \"1115\", \"1219\", \"1115\", \"1058\", \"1133\", \"1199\", \"1249\", \"1098\"], \"y\": [2027.0, 1900.0, 1064.0, 901.0, 1115.0, 1219.0, 1115.0, 1058.0, 1133.0, 1199.0, 1249.0, 1098.0], \"x\": [1.0, 2.0, 3.0, 4.0, 5.0, 6.0, 7.0, 8.0, 9.0, 10.0, 11.0, 12.0], \"type\": \"bar\", \"uid\": \"7fac6408-a3ed-11e8-927a-0800275aa47c\"}, {\"name\": \"Monthly Total Snow on Ground\", \"yaxis\": \"y2\", \"mode\": \"lines\", \"xaxis\": \"x2\", \"y\": [257.0, 790.0, 840.0, 31.0, 0.0, 0.0, 0.0, 0.0, 0.0, 0.0, 1.0, 47.0], \"x\": [1.0, 2.0, 3.0, 4.0, 5.0, 6.0, 7.0, 8.0, 9.0, 10.0, 11.0, 12.0], \"type\": \"scatter\", \"uid\": \"7fac6778-a3ed-11e8-927a-0800275aa47c\"}], {\"yaxis2\": {\"domain\": [0.55, 1.0], \"title\": \"Snow on Grnd (cm)\"}, \"title\": \"Snow on Ground Analysis (2015)\", \"xaxis2\": {\"anchor\": \"y2\", \"dtick\": 1}, \"xaxis\": {\"dtick\": 1, \"title\": \"Month\"}, \"yaxis\": {\"domain\": [0, 0.5], \"dtick\": 500, \"title\": \"# of Collisions\"}}, {\"linkText\": \"Export to plot.ly\", \"showLink\": true})});</script>"
      ],
      "text/vnd.plotly.v1+html": [
       "<div id=\"bccfc9b5-647b-4a2b-9885-15c88117fc7b\" style=\"height: 525px; width: 100%;\" class=\"plotly-graph-div\"></div><script type=\"text/javascript\">require([\"plotly\"], function(Plotly) { window.PLOTLYENV=window.PLOTLYENV || {};window.PLOTLYENV.BASE_URL=\"https://plot.ly\";Plotly.newPlot(\"bccfc9b5-647b-4a2b-9885-15c88117fc7b\", [{\"opacity\": 0.6, \"textposition\": \"auto\", \"name\": \"Number of Collisions\", \"text\": [\"2027\", \"1900\", \"1064\", \"901\", \"1115\", \"1219\", \"1115\", \"1058\", \"1133\", \"1199\", \"1249\", \"1098\"], \"y\": [2027.0, 1900.0, 1064.0, 901.0, 1115.0, 1219.0, 1115.0, 1058.0, 1133.0, 1199.0, 1249.0, 1098.0], \"x\": [1.0, 2.0, 3.0, 4.0, 5.0, 6.0, 7.0, 8.0, 9.0, 10.0, 11.0, 12.0], \"type\": \"bar\", \"uid\": \"7fac6408-a3ed-11e8-927a-0800275aa47c\"}, {\"name\": \"Monthly Total Snow on Ground\", \"yaxis\": \"y2\", \"mode\": \"lines\", \"xaxis\": \"x2\", \"y\": [257.0, 790.0, 840.0, 31.0, 0.0, 0.0, 0.0, 0.0, 0.0, 0.0, 1.0, 47.0], \"x\": [1.0, 2.0, 3.0, 4.0, 5.0, 6.0, 7.0, 8.0, 9.0, 10.0, 11.0, 12.0], \"type\": \"scatter\", \"uid\": \"7fac6778-a3ed-11e8-927a-0800275aa47c\"}], {\"yaxis2\": {\"domain\": [0.55, 1.0], \"title\": \"Snow on Grnd (cm)\"}, \"title\": \"Snow on Ground Analysis (2015)\", \"xaxis2\": {\"anchor\": \"y2\", \"dtick\": 1}, \"xaxis\": {\"dtick\": 1, \"title\": \"Month\"}, \"yaxis\": {\"domain\": [0, 0.5], \"dtick\": 500, \"title\": \"# of Collisions\"}}, {\"linkText\": \"Export to plot.ly\", \"showLink\": true})});</script>"
      ]
     },
     "metadata": {},
     "output_type": "display_data"
    },
    {
     "data": {
      "application/vnd.plotly.v1+json": {
       "data": [
        {
         "name": "Number of Collisions",
         "opacity": 0.6,
         "text": [
          "1407",
          "1523",
          "1018",
          "944",
          "1109",
          "1135",
          "1035",
          "976",
          "1073",
          "1111",
          "1155",
          "1537"
         ],
         "textposition": "auto",
         "type": "bar",
         "uid": "7fb7377a-a3ed-11e8-927a-0800275aa47c",
         "x": [
          1,
          2,
          3,
          4,
          5,
          6,
          7,
          8,
          9,
          10,
          11,
          12
         ],
         "y": [
          1407,
          1523,
          1018,
          944,
          1109,
          1135,
          1035,
          976,
          1073,
          1111,
          1155,
          1537
         ]
        },
        {
         "mode": "lines",
         "name": "Monthly Total Snow on Ground",
         "type": "scatter",
         "uid": "7fb73ab8-a3ed-11e8-927a-0800275aa47c",
         "x": [
          1,
          2,
          3,
          4,
          5,
          6,
          7,
          8,
          9,
          10,
          11,
          12
         ],
         "xaxis": "x2",
         "y": [
          391,
          496,
          376,
          33,
          0,
          0,
          0,
          0,
          0,
          2,
          29,
          369
         ],
         "yaxis": "y2"
        }
       ],
       "layout": {
        "title": "Snow on Ground Analysis (2016)",
        "xaxis": {
         "dtick": 1,
         "title": "Month"
        },
        "xaxis2": {
         "anchor": "y2",
         "dtick": 1
        },
        "yaxis": {
         "domain": [
          0,
          0.5
         ],
         "dtick": 500,
         "title": "# of Collisions"
        },
        "yaxis2": {
         "domain": [
          0.55,
          1
         ],
         "title": "Snow on Grnd (cm)"
        }
       }
      },
      "text/html": [
       "<div id=\"59bbef46-34ee-4270-b162-b42c2454520a\" style=\"height: 525px; width: 100%;\" class=\"plotly-graph-div\"></div><script type=\"text/javascript\">require([\"plotly\"], function(Plotly) { window.PLOTLYENV=window.PLOTLYENV || {};window.PLOTLYENV.BASE_URL=\"https://plot.ly\";Plotly.newPlot(\"59bbef46-34ee-4270-b162-b42c2454520a\", [{\"opacity\": 0.6, \"textposition\": \"auto\", \"name\": \"Number of Collisions\", \"text\": [\"1407\", \"1523\", \"1018\", \"944\", \"1109\", \"1135\", \"1035\", \"976\", \"1073\", \"1111\", \"1155\", \"1537\"], \"y\": [1407.0, 1523.0, 1018.0, 944.0, 1109.0, 1135.0, 1035.0, 976.0, 1073.0, 1111.0, 1155.0, 1537.0], \"x\": [1.0, 2.0, 3.0, 4.0, 5.0, 6.0, 7.0, 8.0, 9.0, 10.0, 11.0, 12.0], \"type\": \"bar\", \"uid\": \"7fbc09b2-a3ed-11e8-927a-0800275aa47c\"}, {\"name\": \"Monthly Total Snow on Ground\", \"yaxis\": \"y2\", \"mode\": \"lines\", \"xaxis\": \"x2\", \"y\": [391.0, 496.0, 376.0, 33.0, 0.0, 0.0, 0.0, 0.0, 0.0, 2.0, 29.0, 369.0], \"x\": [1.0, 2.0, 3.0, 4.0, 5.0, 6.0, 7.0, 8.0, 9.0, 10.0, 11.0, 12.0], \"type\": \"scatter\", \"uid\": \"7fbc0c28-a3ed-11e8-927a-0800275aa47c\"}], {\"yaxis2\": {\"domain\": [0.55, 1.0], \"title\": \"Snow on Grnd (cm)\"}, \"title\": \"Snow on Ground Analysis (2016)\", \"xaxis2\": {\"anchor\": \"y2\", \"dtick\": 1}, \"xaxis\": {\"dtick\": 1, \"title\": \"Month\"}, \"yaxis\": {\"domain\": [0, 0.5], \"dtick\": 500, \"title\": \"# of Collisions\"}}, {\"linkText\": \"Export to plot.ly\", \"showLink\": true})});</script>"
      ],
      "text/vnd.plotly.v1+html": [
       "<div id=\"59bbef46-34ee-4270-b162-b42c2454520a\" style=\"height: 525px; width: 100%;\" class=\"plotly-graph-div\"></div><script type=\"text/javascript\">require([\"plotly\"], function(Plotly) { window.PLOTLYENV=window.PLOTLYENV || {};window.PLOTLYENV.BASE_URL=\"https://plot.ly\";Plotly.newPlot(\"59bbef46-34ee-4270-b162-b42c2454520a\", [{\"opacity\": 0.6, \"textposition\": \"auto\", \"name\": \"Number of Collisions\", \"text\": [\"1407\", \"1523\", \"1018\", \"944\", \"1109\", \"1135\", \"1035\", \"976\", \"1073\", \"1111\", \"1155\", \"1537\"], \"y\": [1407.0, 1523.0, 1018.0, 944.0, 1109.0, 1135.0, 1035.0, 976.0, 1073.0, 1111.0, 1155.0, 1537.0], \"x\": [1.0, 2.0, 3.0, 4.0, 5.0, 6.0, 7.0, 8.0, 9.0, 10.0, 11.0, 12.0], \"type\": \"bar\", \"uid\": \"7fbc09b2-a3ed-11e8-927a-0800275aa47c\"}, {\"name\": \"Monthly Total Snow on Ground\", \"yaxis\": \"y2\", \"mode\": \"lines\", \"xaxis\": \"x2\", \"y\": [391.0, 496.0, 376.0, 33.0, 0.0, 0.0, 0.0, 0.0, 0.0, 2.0, 29.0, 369.0], \"x\": [1.0, 2.0, 3.0, 4.0, 5.0, 6.0, 7.0, 8.0, 9.0, 10.0, 11.0, 12.0], \"type\": \"scatter\", \"uid\": \"7fbc0c28-a3ed-11e8-927a-0800275aa47c\"}], {\"yaxis2\": {\"domain\": [0.55, 1.0], \"title\": \"Snow on Grnd (cm)\"}, \"title\": \"Snow on Ground Analysis (2016)\", \"xaxis2\": {\"anchor\": \"y2\", \"dtick\": 1}, \"xaxis\": {\"dtick\": 1, \"title\": \"Month\"}, \"yaxis\": {\"domain\": [0, 0.5], \"dtick\": 500, \"title\": \"# of Collisions\"}}, {\"linkText\": \"Export to plot.ly\", \"showLink\": true})});</script>"
      ]
     },
     "metadata": {},
     "output_type": "display_data"
    },
    {
     "data": {
      "application/vnd.plotly.v1+json": {
       "data": [
        {
         "name": "Number of Collisions",
         "opacity": 0.6,
         "text": [
          "1275",
          "1279",
          "1224",
          "913",
          "1084",
          "1095",
          "971",
          "990",
          "1176",
          "1139",
          "1493",
          "1755"
         ],
         "textposition": "auto",
         "type": "bar",
         "uid": "7fc5d546-a3ed-11e8-927a-0800275aa47c",
         "x": [
          1,
          2,
          3,
          4,
          5,
          6,
          7,
          8,
          9,
          10,
          11,
          12
         ],
         "y": [
          1275,
          1279,
          1224,
          913,
          1084,
          1095,
          971,
          990,
          1176,
          1139,
          1493,
          1755
         ]
        },
        {
         "mode": "lines",
         "name": "Monthly Total Snow on Ground",
         "type": "scatter",
         "uid": "7fc5d924-a3ed-11e8-927a-0800275aa47c",
         "x": [
          1,
          2,
          3,
          4,
          5,
          6,
          7,
          8,
          9,
          10,
          11,
          12
         ],
         "xaxis": "x2",
         "y": [
          742,
          964,
          485,
          6,
          0,
          0,
          0,
          0,
          0,
          0,
          26,
          311
         ],
         "yaxis": "y2"
        }
       ],
       "layout": {
        "title": "Snow on Ground Analysis (2017)",
        "xaxis": {
         "dtick": 1,
         "title": "Month"
        },
        "xaxis2": {
         "anchor": "y2",
         "dtick": 1
        },
        "yaxis": {
         "domain": [
          0,
          0.5
         ],
         "dtick": 500,
         "title": "# of Collisions"
        },
        "yaxis2": {
         "domain": [
          0.55,
          1
         ],
         "title": "Snow on Grnd (cm)"
        }
       }
      },
      "text/html": [
       "<div id=\"de7492ee-2f9f-4116-97e4-45fbe6bbbda6\" style=\"height: 525px; width: 100%;\" class=\"plotly-graph-div\"></div><script type=\"text/javascript\">require([\"plotly\"], function(Plotly) { window.PLOTLYENV=window.PLOTLYENV || {};window.PLOTLYENV.BASE_URL=\"https://plot.ly\";Plotly.newPlot(\"de7492ee-2f9f-4116-97e4-45fbe6bbbda6\", [{\"opacity\": 0.6, \"textposition\": \"auto\", \"name\": \"Number of Collisions\", \"text\": [\"1275\", \"1279\", \"1224\", \"913\", \"1084\", \"1095\", \"971\", \"990\", \"1176\", \"1139\", \"1493\", \"1755\"], \"y\": [1275.0, 1279.0, 1224.0, 913.0, 1084.0, 1095.0, 971.0, 990.0, 1176.0, 1139.0, 1493.0, 1755.0], \"x\": [1.0, 2.0, 3.0, 4.0, 5.0, 6.0, 7.0, 8.0, 9.0, 10.0, 11.0, 12.0], \"type\": \"bar\", \"uid\": \"7fc9dd94-a3ed-11e8-927a-0800275aa47c\"}, {\"name\": \"Monthly Total Snow on Ground\", \"yaxis\": \"y2\", \"mode\": \"lines\", \"xaxis\": \"x2\", \"y\": [742.0, 964.0, 485.0, 6.0, 0.0, 0.0, 0.0, 0.0, 0.0, 0.0, 26.0, 311.0], \"x\": [1.0, 2.0, 3.0, 4.0, 5.0, 6.0, 7.0, 8.0, 9.0, 10.0, 11.0, 12.0], \"type\": \"scatter\", \"uid\": \"7fc9e064-a3ed-11e8-927a-0800275aa47c\"}], {\"yaxis2\": {\"domain\": [0.55, 1.0], \"title\": \"Snow on Grnd (cm)\"}, \"title\": \"Snow on Ground Analysis (2017)\", \"xaxis2\": {\"anchor\": \"y2\", \"dtick\": 1}, \"xaxis\": {\"dtick\": 1, \"title\": \"Month\"}, \"yaxis\": {\"domain\": [0, 0.5], \"dtick\": 500, \"title\": \"# of Collisions\"}}, {\"linkText\": \"Export to plot.ly\", \"showLink\": true})});</script>"
      ],
      "text/vnd.plotly.v1+html": [
       "<div id=\"de7492ee-2f9f-4116-97e4-45fbe6bbbda6\" style=\"height: 525px; width: 100%;\" class=\"plotly-graph-div\"></div><script type=\"text/javascript\">require([\"plotly\"], function(Plotly) { window.PLOTLYENV=window.PLOTLYENV || {};window.PLOTLYENV.BASE_URL=\"https://plot.ly\";Plotly.newPlot(\"de7492ee-2f9f-4116-97e4-45fbe6bbbda6\", [{\"opacity\": 0.6, \"textposition\": \"auto\", \"name\": \"Number of Collisions\", \"text\": [\"1275\", \"1279\", \"1224\", \"913\", \"1084\", \"1095\", \"971\", \"990\", \"1176\", \"1139\", \"1493\", \"1755\"], \"y\": [1275.0, 1279.0, 1224.0, 913.0, 1084.0, 1095.0, 971.0, 990.0, 1176.0, 1139.0, 1493.0, 1755.0], \"x\": [1.0, 2.0, 3.0, 4.0, 5.0, 6.0, 7.0, 8.0, 9.0, 10.0, 11.0, 12.0], \"type\": \"bar\", \"uid\": \"7fc9dd94-a3ed-11e8-927a-0800275aa47c\"}, {\"name\": \"Monthly Total Snow on Ground\", \"yaxis\": \"y2\", \"mode\": \"lines\", \"xaxis\": \"x2\", \"y\": [742.0, 964.0, 485.0, 6.0, 0.0, 0.0, 0.0, 0.0, 0.0, 0.0, 26.0, 311.0], \"x\": [1.0, 2.0, 3.0, 4.0, 5.0, 6.0, 7.0, 8.0, 9.0, 10.0, 11.0, 12.0], \"type\": \"scatter\", \"uid\": \"7fc9e064-a3ed-11e8-927a-0800275aa47c\"}], {\"yaxis2\": {\"domain\": [0.55, 1.0], \"title\": \"Snow on Grnd (cm)\"}, \"title\": \"Snow on Ground Analysis (2017)\", \"xaxis2\": {\"anchor\": \"y2\", \"dtick\": 1}, \"xaxis\": {\"dtick\": 1, \"title\": \"Month\"}, \"yaxis\": {\"domain\": [0, 0.5], \"dtick\": 500, \"title\": \"# of Collisions\"}}, {\"linkText\": \"Export to plot.ly\", \"showLink\": true})});</script>"
      ]
     },
     "metadata": {},
     "output_type": "display_data"
    }
   ],
   "source": [
    "df_avg = wt1417.groupby([\"Year\",\"Month\"]).mean()\n",
    "df_avg[\"Year\"] = [x[0] for x in df_avg.index]\n",
    "df_avg[\"Month\"] = [x[1] for x in df_avg.index]\n",
    "\n",
    "df_sum = wt1417.groupby([\"Year\",\"Month\"]).sum()\n",
    "df_sum[\"Year\"] = [x[0] for x in df_sum.index]\n",
    "df_sum[\"Month\"] = [x[1] for x in df_sum.index]\n",
    "\n",
    "def printSnowOnGrndInYear(n):\n",
    "    monthCase = go.Bar(x = df_sum[df_sum[\"Year\"]==n][\"Month\"],\n",
    "                       y = df_sum[df_sum[\"Year\"]==n][\"Number of Collisions\"],\n",
    "                       text = df_sum[df_sum[\"Year\"]==n][\"Number of Collisions\"],\n",
    "                       textposition = 'auto',\n",
    "                       opacity = 0.6,\n",
    "                       name = 'Number of Collisions')\n",
    "    total_snowOnGrnd = go.Scatter(x = df_sum[df_sum[\"Year\"]==n][\"Month\"],\n",
    "                         y = df_sum[df_sum[\"Year\"]==n][\"Snow on Grnd (cm)\"],\n",
    "                         mode = 'lines',\n",
    "                         name = 'Monthly Total Snow on Ground',\n",
    "                         xaxis = 'x2', \n",
    "                         yaxis = 'y2')\n",
    "    fig = dict(data = [monthCase, total_snowOnGrnd], \n",
    "               layout = go.Layout(title = \"Snow on Ground Analysis (\" + str(n) + \")\",\n",
    "                                  xaxis = dict(title='Month', dtick=1),\n",
    "                                  yaxis = dict(title='# of Collisions', dtick=500, domain = [0,0.5]),\n",
    "                                  yaxis2 = dict(title='Snow on Grnd (cm)', domain = [0.55,1.0]),\n",
    "                                  xaxis2 = dict(dtick=1, anchor = 'y2')\n",
    "                                 )\n",
    "              )\n",
    "    iplot(fig)\n",
    "    \n",
    "for m in range(2014,2018):\n",
    "    printSnowOnGrndInYear(m)"
   ]
  },
  {
   "cell_type": "markdown",
   "metadata": {},
   "source": [
    "**Brief Conclusion:**\n",
    "* The curve of monthly snowfall and snow on ground is similar to the trend of monthly collisions. \n",
    "\n",
    "**Hypothesis:**\n",
    "* Snowy weather causes collisions from the perspective of reducing visibility and grip. "
   ]
  },
  {
   "cell_type": "code",
   "execution_count": 13,
   "metadata": {},
   "outputs": [
    {
     "data": {
      "application/vnd.plotly.v1+json": {
       "data": [
        {
         "name": "Number of Collisions",
         "opacity": 0.6,
         "text": [
          "1790",
          "1349",
          "1190",
          "936",
          "1093",
          "1166",
          "1115",
          "1094",
          "1126",
          "1260",
          "1340",
          "1384"
         ],
         "textposition": "auto",
         "type": "bar",
         "uid": "7fde8ab4-a3ed-11e8-927a-0800275aa47c",
         "x": [
          1,
          2,
          3,
          4,
          5,
          6,
          7,
          8,
          9,
          10,
          11,
          12
         ],
         "y": [
          1790,
          1349,
          1190,
          936,
          1093,
          1166,
          1115,
          1094,
          1126,
          1260,
          1340,
          1384
         ]
        },
        {
         "mode": "lines",
         "name": "Monthly Total Precip",
         "type": "scatter",
         "uid": "7fde8d34-a3ed-11e8-927a-0800275aa47c",
         "x": [
          1,
          2,
          3,
          4,
          5,
          6,
          7,
          8,
          9,
          10,
          11,
          12
         ],
         "xaxis": "x2",
         "y": [
          34.2,
          53.300000000000004,
          54.900000000000006,
          98.3,
          75.10000000000001,
          156.2,
          85.60000000000001,
          104.3,
          97.10000000000002,
          64.8,
          37.2,
          42.1
         ],
         "yaxis": "y2"
        }
       ],
       "layout": {
        "title": "Precip Analysis (2014)",
        "xaxis": {
         "dtick": 1,
         "title": "Month"
        },
        "xaxis2": {
         "anchor": "y2",
         "dtick": 1
        },
        "yaxis": {
         "domain": [
          0,
          0.5
         ],
         "dtick": 500,
         "title": "# of Collisions"
        },
        "yaxis2": {
         "domain": [
          0.55,
          1
         ],
         "title": "Total Precip (mm)"
        }
       }
      },
      "text/html": [
       "<div id=\"1f1d2ae8-bc12-4026-ac33-2f2d37b7bee1\" style=\"height: 525px; width: 100%;\" class=\"plotly-graph-div\"></div><script type=\"text/javascript\">require([\"plotly\"], function(Plotly) { window.PLOTLYENV=window.PLOTLYENV || {};window.PLOTLYENV.BASE_URL=\"https://plot.ly\";Plotly.newPlot(\"1f1d2ae8-bc12-4026-ac33-2f2d37b7bee1\", [{\"opacity\": 0.6, \"textposition\": \"auto\", \"name\": \"Number of Collisions\", \"text\": [\"1790\", \"1349\", \"1190\", \"936\", \"1093\", \"1166\", \"1115\", \"1094\", \"1126\", \"1260\", \"1340\", \"1384\"], \"y\": [1790.0, 1349.0, 1190.0, 936.0, 1093.0, 1166.0, 1115.0, 1094.0, 1126.0, 1260.0, 1340.0, 1384.0], \"x\": [1.0, 2.0, 3.0, 4.0, 5.0, 6.0, 7.0, 8.0, 9.0, 10.0, 11.0, 12.0], \"type\": \"bar\", \"uid\": \"7fe36052-a3ed-11e8-927a-0800275aa47c\"}, {\"name\": \"Monthly Total Precip\", \"yaxis\": \"y2\", \"mode\": \"lines\", \"xaxis\": \"x2\", \"y\": [34.2, 53.300000000000004, 54.900000000000006, 98.3, 75.10000000000001, 156.2, 85.60000000000001, 104.3, 97.10000000000002, 64.8, 37.2, 42.1], \"x\": [1.0, 2.0, 3.0, 4.0, 5.0, 6.0, 7.0, 8.0, 9.0, 10.0, 11.0, 12.0], \"type\": \"scatter\", \"uid\": \"7fe36322-a3ed-11e8-927a-0800275aa47c\"}], {\"yaxis2\": {\"domain\": [0.55, 1.0], \"title\": \"Total Precip (mm)\"}, \"title\": \"Precip Analysis (2014)\", \"xaxis2\": {\"anchor\": \"y2\", \"dtick\": 1}, \"xaxis\": {\"dtick\": 1, \"title\": \"Month\"}, \"yaxis\": {\"domain\": [0, 0.5], \"dtick\": 500, \"title\": \"# of Collisions\"}}, {\"linkText\": \"Export to plot.ly\", \"showLink\": true})});</script>"
      ],
      "text/vnd.plotly.v1+html": [
       "<div id=\"1f1d2ae8-bc12-4026-ac33-2f2d37b7bee1\" style=\"height: 525px; width: 100%;\" class=\"plotly-graph-div\"></div><script type=\"text/javascript\">require([\"plotly\"], function(Plotly) { window.PLOTLYENV=window.PLOTLYENV || {};window.PLOTLYENV.BASE_URL=\"https://plot.ly\";Plotly.newPlot(\"1f1d2ae8-bc12-4026-ac33-2f2d37b7bee1\", [{\"opacity\": 0.6, \"textposition\": \"auto\", \"name\": \"Number of Collisions\", \"text\": [\"1790\", \"1349\", \"1190\", \"936\", \"1093\", \"1166\", \"1115\", \"1094\", \"1126\", \"1260\", \"1340\", \"1384\"], \"y\": [1790.0, 1349.0, 1190.0, 936.0, 1093.0, 1166.0, 1115.0, 1094.0, 1126.0, 1260.0, 1340.0, 1384.0], \"x\": [1.0, 2.0, 3.0, 4.0, 5.0, 6.0, 7.0, 8.0, 9.0, 10.0, 11.0, 12.0], \"type\": \"bar\", \"uid\": \"7fe36052-a3ed-11e8-927a-0800275aa47c\"}, {\"name\": \"Monthly Total Precip\", \"yaxis\": \"y2\", \"mode\": \"lines\", \"xaxis\": \"x2\", \"y\": [34.2, 53.300000000000004, 54.900000000000006, 98.3, 75.10000000000001, 156.2, 85.60000000000001, 104.3, 97.10000000000002, 64.8, 37.2, 42.1], \"x\": [1.0, 2.0, 3.0, 4.0, 5.0, 6.0, 7.0, 8.0, 9.0, 10.0, 11.0, 12.0], \"type\": \"scatter\", \"uid\": \"7fe36322-a3ed-11e8-927a-0800275aa47c\"}], {\"yaxis2\": {\"domain\": [0.55, 1.0], \"title\": \"Total Precip (mm)\"}, \"title\": \"Precip Analysis (2014)\", \"xaxis2\": {\"anchor\": \"y2\", \"dtick\": 1}, \"xaxis\": {\"dtick\": 1, \"title\": \"Month\"}, \"yaxis\": {\"domain\": [0, 0.5], \"dtick\": 500, \"title\": \"# of Collisions\"}}, {\"linkText\": \"Export to plot.ly\", \"showLink\": true})});</script>"
      ]
     },
     "metadata": {},
     "output_type": "display_data"
    },
    {
     "data": {
      "application/vnd.plotly.v1+json": {
       "data": [
        {
         "name": "Number of Collisions",
         "opacity": 0.6,
         "text": [
          "2027",
          "1900",
          "1064",
          "901",
          "1115",
          "1219",
          "1115",
          "1058",
          "1133",
          "1199",
          "1249",
          "1098"
         ],
         "textposition": "auto",
         "type": "bar",
         "uid": "7fed12c8-a3ed-11e8-927a-0800275aa47c",
         "x": [
          1,
          2,
          3,
          4,
          5,
          6,
          7,
          8,
          9,
          10,
          11,
          12
         ],
         "y": [
          2027,
          1900,
          1064,
          901,
          1115,
          1219,
          1115,
          1058,
          1133,
          1199,
          1249,
          1098
         ]
        },
        {
         "mode": "lines",
         "name": "Monthly Total Precip",
         "type": "scatter",
         "uid": "7fed1566-a3ed-11e8-927a-0800275aa47c",
         "x": [
          1,
          2,
          3,
          4,
          5,
          6,
          7,
          8,
          9,
          10,
          11,
          12
         ],
         "xaxis": "x2",
         "y": [
          47.6,
          33.800000000000004,
          24.499999999999996,
          61.5,
          65,
          107.99999999999999,
          63.10000000000001,
          76.49999999999999,
          96.6,
          83.99999999999999,
          33,
          92.10000000000001
         ],
         "yaxis": "y2"
        }
       ],
       "layout": {
        "title": "Precip Analysis (2015)",
        "xaxis": {
         "dtick": 1,
         "title": "Month"
        },
        "xaxis2": {
         "anchor": "y2",
         "dtick": 1
        },
        "yaxis": {
         "domain": [
          0,
          0.5
         ],
         "dtick": 500,
         "title": "# of Collisions"
        },
        "yaxis2": {
         "domain": [
          0.55,
          1
         ],
         "title": "Total Precip (mm)"
        }
       }
      },
      "text/html": [
       "<div id=\"b5663633-b88a-40e4-a6df-83074cf7a8be\" style=\"height: 525px; width: 100%;\" class=\"plotly-graph-div\"></div><script type=\"text/javascript\">require([\"plotly\"], function(Plotly) { window.PLOTLYENV=window.PLOTLYENV || {};window.PLOTLYENV.BASE_URL=\"https://plot.ly\";Plotly.newPlot(\"b5663633-b88a-40e4-a6df-83074cf7a8be\", [{\"opacity\": 0.6, \"textposition\": \"auto\", \"name\": \"Number of Collisions\", \"text\": [\"2027\", \"1900\", \"1064\", \"901\", \"1115\", \"1219\", \"1115\", \"1058\", \"1133\", \"1199\", \"1249\", \"1098\"], \"y\": [2027.0, 1900.0, 1064.0, 901.0, 1115.0, 1219.0, 1115.0, 1058.0, 1133.0, 1199.0, 1249.0, 1098.0], \"x\": [1.0, 2.0, 3.0, 4.0, 5.0, 6.0, 7.0, 8.0, 9.0, 10.0, 11.0, 12.0], \"type\": \"bar\", \"uid\": \"7ff13d3a-a3ed-11e8-927a-0800275aa47c\"}, {\"name\": \"Monthly Total Precip\", \"yaxis\": \"y2\", \"mode\": \"lines\", \"xaxis\": \"x2\", \"y\": [47.6, 33.800000000000004, 24.499999999999996, 61.5, 65.0, 107.99999999999999, 63.10000000000001, 76.49999999999999, 96.6, 83.99999999999999, 33.0, 92.10000000000001], \"x\": [1.0, 2.0, 3.0, 4.0, 5.0, 6.0, 7.0, 8.0, 9.0, 10.0, 11.0, 12.0], \"type\": \"scatter\", \"uid\": \"7ff13f7e-a3ed-11e8-927a-0800275aa47c\"}], {\"yaxis2\": {\"domain\": [0.55, 1.0], \"title\": \"Total Precip (mm)\"}, \"title\": \"Precip Analysis (2015)\", \"xaxis2\": {\"anchor\": \"y2\", \"dtick\": 1}, \"xaxis\": {\"dtick\": 1, \"title\": \"Month\"}, \"yaxis\": {\"domain\": [0, 0.5], \"dtick\": 500, \"title\": \"# of Collisions\"}}, {\"linkText\": \"Export to plot.ly\", \"showLink\": true})});</script>"
      ],
      "text/vnd.plotly.v1+html": [
       "<div id=\"b5663633-b88a-40e4-a6df-83074cf7a8be\" style=\"height: 525px; width: 100%;\" class=\"plotly-graph-div\"></div><script type=\"text/javascript\">require([\"plotly\"], function(Plotly) { window.PLOTLYENV=window.PLOTLYENV || {};window.PLOTLYENV.BASE_URL=\"https://plot.ly\";Plotly.newPlot(\"b5663633-b88a-40e4-a6df-83074cf7a8be\", [{\"opacity\": 0.6, \"textposition\": \"auto\", \"name\": \"Number of Collisions\", \"text\": [\"2027\", \"1900\", \"1064\", \"901\", \"1115\", \"1219\", \"1115\", \"1058\", \"1133\", \"1199\", \"1249\", \"1098\"], \"y\": [2027.0, 1900.0, 1064.0, 901.0, 1115.0, 1219.0, 1115.0, 1058.0, 1133.0, 1199.0, 1249.0, 1098.0], \"x\": [1.0, 2.0, 3.0, 4.0, 5.0, 6.0, 7.0, 8.0, 9.0, 10.0, 11.0, 12.0], \"type\": \"bar\", \"uid\": \"7ff13d3a-a3ed-11e8-927a-0800275aa47c\"}, {\"name\": \"Monthly Total Precip\", \"yaxis\": \"y2\", \"mode\": \"lines\", \"xaxis\": \"x2\", \"y\": [47.6, 33.800000000000004, 24.499999999999996, 61.5, 65.0, 107.99999999999999, 63.10000000000001, 76.49999999999999, 96.6, 83.99999999999999, 33.0, 92.10000000000001], \"x\": [1.0, 2.0, 3.0, 4.0, 5.0, 6.0, 7.0, 8.0, 9.0, 10.0, 11.0, 12.0], \"type\": \"scatter\", \"uid\": \"7ff13f7e-a3ed-11e8-927a-0800275aa47c\"}], {\"yaxis2\": {\"domain\": [0.55, 1.0], \"title\": \"Total Precip (mm)\"}, \"title\": \"Precip Analysis (2015)\", \"xaxis2\": {\"anchor\": \"y2\", \"dtick\": 1}, \"xaxis\": {\"dtick\": 1, \"title\": \"Month\"}, \"yaxis\": {\"domain\": [0, 0.5], \"dtick\": 500, \"title\": \"# of Collisions\"}}, {\"linkText\": \"Export to plot.ly\", \"showLink\": true})});</script>"
      ]
     },
     "metadata": {},
     "output_type": "display_data"
    },
    {
     "data": {
      "application/vnd.plotly.v1+json": {
       "data": [
        {
         "name": "Number of Collisions",
         "opacity": 0.6,
         "text": [
          "1407",
          "1523",
          "1018",
          "944",
          "1109",
          "1135",
          "1035",
          "976",
          "1073",
          "1111",
          "1155",
          "1537"
         ],
         "textposition": "auto",
         "type": "bar",
         "uid": "800cf4c6-a3ed-11e8-927a-0800275aa47c",
         "x": [
          1,
          2,
          3,
          4,
          5,
          6,
          7,
          8,
          9,
          10,
          11,
          12
         ],
         "y": [
          1407,
          1523,
          1018,
          944,
          1109,
          1135,
          1035,
          976,
          1073,
          1111,
          1155,
          1537
         ]
        },
        {
         "mode": "lines",
         "name": "Monthly Total Precip",
         "type": "scatter",
         "uid": "800cf8e0-a3ed-11e8-927a-0800275aa47c",
         "x": [
          1,
          2,
          3,
          4,
          5,
          6,
          7,
          8,
          9,
          10,
          11,
          12
         ],
         "xaxis": "x2",
         "y": [
          52.199999999999996,
          98.39999999999999,
          98,
          42.4,
          26.4,
          56.60000000000001,
          100.8,
          122.4,
          76.60000000000001,
          99.19999999999999,
          60.9,
          84
         ],
         "yaxis": "y2"
        }
       ],
       "layout": {
        "title": "Precip Analysis (2016)",
        "xaxis": {
         "dtick": 1,
         "title": "Month"
        },
        "xaxis2": {
         "anchor": "y2",
         "dtick": 1
        },
        "yaxis": {
         "domain": [
          0,
          0.5
         ],
         "dtick": 500,
         "title": "# of Collisions"
        },
        "yaxis2": {
         "domain": [
          0.55,
          1
         ],
         "title": "Total Precip (mm)"
        }
       }
      },
      "text/html": [
       "<div id=\"1fb5e729-cfb0-4df1-b57f-f001cde83492\" style=\"height: 525px; width: 100%;\" class=\"plotly-graph-div\"></div><script type=\"text/javascript\">require([\"plotly\"], function(Plotly) { window.PLOTLYENV=window.PLOTLYENV || {};window.PLOTLYENV.BASE_URL=\"https://plot.ly\";Plotly.newPlot(\"1fb5e729-cfb0-4df1-b57f-f001cde83492\", [{\"opacity\": 0.6, \"textposition\": \"auto\", \"name\": \"Number of Collisions\", \"text\": [\"1407\", \"1523\", \"1018\", \"944\", \"1109\", \"1135\", \"1035\", \"976\", \"1073\", \"1111\", \"1155\", \"1537\"], \"y\": [1407.0, 1523.0, 1018.0, 944.0, 1109.0, 1135.0, 1035.0, 976.0, 1073.0, 1111.0, 1155.0, 1537.0], \"x\": [1.0, 2.0, 3.0, 4.0, 5.0, 6.0, 7.0, 8.0, 9.0, 10.0, 11.0, 12.0], \"type\": \"bar\", \"uid\": \"8010afe4-a3ed-11e8-927a-0800275aa47c\"}, {\"name\": \"Monthly Total Precip\", \"yaxis\": \"y2\", \"mode\": \"lines\", \"xaxis\": \"x2\", \"y\": [52.199999999999996, 98.39999999999999, 98.0, 42.4, 26.4, 56.60000000000001, 100.8, 122.4, 76.60000000000001, 99.19999999999999, 60.9, 84.0], \"x\": [1.0, 2.0, 3.0, 4.0, 5.0, 6.0, 7.0, 8.0, 9.0, 10.0, 11.0, 12.0], \"type\": \"scatter\", \"uid\": \"8010b246-a3ed-11e8-927a-0800275aa47c\"}], {\"yaxis2\": {\"domain\": [0.55, 1.0], \"title\": \"Total Precip (mm)\"}, \"title\": \"Precip Analysis (2016)\", \"xaxis2\": {\"anchor\": \"y2\", \"dtick\": 1}, \"xaxis\": {\"dtick\": 1, \"title\": \"Month\"}, \"yaxis\": {\"domain\": [0, 0.5], \"dtick\": 500, \"title\": \"# of Collisions\"}}, {\"linkText\": \"Export to plot.ly\", \"showLink\": true})});</script>"
      ],
      "text/vnd.plotly.v1+html": [
       "<div id=\"1fb5e729-cfb0-4df1-b57f-f001cde83492\" style=\"height: 525px; width: 100%;\" class=\"plotly-graph-div\"></div><script type=\"text/javascript\">require([\"plotly\"], function(Plotly) { window.PLOTLYENV=window.PLOTLYENV || {};window.PLOTLYENV.BASE_URL=\"https://plot.ly\";Plotly.newPlot(\"1fb5e729-cfb0-4df1-b57f-f001cde83492\", [{\"opacity\": 0.6, \"textposition\": \"auto\", \"name\": \"Number of Collisions\", \"text\": [\"1407\", \"1523\", \"1018\", \"944\", \"1109\", \"1135\", \"1035\", \"976\", \"1073\", \"1111\", \"1155\", \"1537\"], \"y\": [1407.0, 1523.0, 1018.0, 944.0, 1109.0, 1135.0, 1035.0, 976.0, 1073.0, 1111.0, 1155.0, 1537.0], \"x\": [1.0, 2.0, 3.0, 4.0, 5.0, 6.0, 7.0, 8.0, 9.0, 10.0, 11.0, 12.0], \"type\": \"bar\", \"uid\": \"8010afe4-a3ed-11e8-927a-0800275aa47c\"}, {\"name\": \"Monthly Total Precip\", \"yaxis\": \"y2\", \"mode\": \"lines\", \"xaxis\": \"x2\", \"y\": [52.199999999999996, 98.39999999999999, 98.0, 42.4, 26.4, 56.60000000000001, 100.8, 122.4, 76.60000000000001, 99.19999999999999, 60.9, 84.0], \"x\": [1.0, 2.0, 3.0, 4.0, 5.0, 6.0, 7.0, 8.0, 9.0, 10.0, 11.0, 12.0], \"type\": \"scatter\", \"uid\": \"8010b246-a3ed-11e8-927a-0800275aa47c\"}], {\"yaxis2\": {\"domain\": [0.55, 1.0], \"title\": \"Total Precip (mm)\"}, \"title\": \"Precip Analysis (2016)\", \"xaxis2\": {\"anchor\": \"y2\", \"dtick\": 1}, \"xaxis\": {\"dtick\": 1, \"title\": \"Month\"}, \"yaxis\": {\"domain\": [0, 0.5], \"dtick\": 500, \"title\": \"# of Collisions\"}}, {\"linkText\": \"Export to plot.ly\", \"showLink\": true})});</script>"
      ]
     },
     "metadata": {},
     "output_type": "display_data"
    },
    {
     "data": {
      "application/vnd.plotly.v1+json": {
       "data": [
        {
         "name": "Number of Collisions",
         "opacity": 0.6,
         "text": [
          "1275",
          "1279",
          "1224",
          "913",
          "1084",
          "1095",
          "971",
          "990",
          "1176",
          "1139",
          "1493",
          "1755"
         ],
         "textposition": "auto",
         "type": "bar",
         "uid": "801a374e-a3ed-11e8-927a-0800275aa47c",
         "x": [
          1,
          2,
          3,
          4,
          5,
          6,
          7,
          8,
          9,
          10,
          11,
          12
         ],
         "y": [
          1275,
          1279,
          1224,
          913,
          1084,
          1095,
          971,
          990,
          1176,
          1139,
          1493,
          1755
         ]
        },
        {
         "mode": "lines",
         "name": "Monthly Total Precip",
         "type": "scatter",
         "uid": "801a399c-a3ed-11e8-927a-0800275aa47c",
         "x": [
          1,
          2,
          3,
          4,
          5,
          6,
          7,
          8,
          9,
          10,
          11,
          12
         ],
         "xaxis": "x2",
         "y": [
          64.89999999999999,
          88.8,
          61.800000000000004,
          159,
          172.4,
          156.8,
          169.6,
          82.39999999999999,
          51.6,
          142.40000000000003,
          86.4,
          32.400000000000006
         ],
         "yaxis": "y2"
        }
       ],
       "layout": {
        "title": "Precip Analysis (2017)",
        "xaxis": {
         "dtick": 1,
         "title": "Month"
        },
        "xaxis2": {
         "anchor": "y2",
         "dtick": 1
        },
        "yaxis": {
         "domain": [
          0,
          0.5
         ],
         "dtick": 500,
         "title": "# of Collisions"
        },
        "yaxis2": {
         "domain": [
          0.55,
          1
         ],
         "title": "Total Precip (mm)"
        }
       }
      },
      "text/html": [
       "<div id=\"a260bb6e-3afc-4b49-85de-fd108b0294b2\" style=\"height: 525px; width: 100%;\" class=\"plotly-graph-div\"></div><script type=\"text/javascript\">require([\"plotly\"], function(Plotly) { window.PLOTLYENV=window.PLOTLYENV || {};window.PLOTLYENV.BASE_URL=\"https://plot.ly\";Plotly.newPlot(\"a260bb6e-3afc-4b49-85de-fd108b0294b2\", [{\"opacity\": 0.6, \"textposition\": \"auto\", \"name\": \"Number of Collisions\", \"text\": [\"1275\", \"1279\", \"1224\", \"913\", \"1084\", \"1095\", \"971\", \"990\", \"1176\", \"1139\", \"1493\", \"1755\"], \"y\": [1275.0, 1279.0, 1224.0, 913.0, 1084.0, 1095.0, 971.0, 990.0, 1176.0, 1139.0, 1493.0, 1755.0], \"x\": [1.0, 2.0, 3.0, 4.0, 5.0, 6.0, 7.0, 8.0, 9.0, 10.0, 11.0, 12.0], \"type\": \"bar\", \"uid\": \"801e2e9e-a3ed-11e8-927a-0800275aa47c\"}, {\"name\": \"Monthly Total Precip\", \"yaxis\": \"y2\", \"mode\": \"lines\", \"xaxis\": \"x2\", \"y\": [64.89999999999999, 88.8, 61.800000000000004, 159.0, 172.4, 156.8, 169.6, 82.39999999999999, 51.6, 142.40000000000003, 86.4, 32.400000000000006], \"x\": [1.0, 2.0, 3.0, 4.0, 5.0, 6.0, 7.0, 8.0, 9.0, 10.0, 11.0, 12.0], \"type\": \"scatter\", \"uid\": \"801e30f6-a3ed-11e8-927a-0800275aa47c\"}], {\"yaxis2\": {\"domain\": [0.55, 1.0], \"title\": \"Total Precip (mm)\"}, \"title\": \"Precip Analysis (2017)\", \"xaxis2\": {\"anchor\": \"y2\", \"dtick\": 1}, \"xaxis\": {\"dtick\": 1, \"title\": \"Month\"}, \"yaxis\": {\"domain\": [0, 0.5], \"dtick\": 500, \"title\": \"# of Collisions\"}}, {\"linkText\": \"Export to plot.ly\", \"showLink\": true})});</script>"
      ],
      "text/vnd.plotly.v1+html": [
       "<div id=\"a260bb6e-3afc-4b49-85de-fd108b0294b2\" style=\"height: 525px; width: 100%;\" class=\"plotly-graph-div\"></div><script type=\"text/javascript\">require([\"plotly\"], function(Plotly) { window.PLOTLYENV=window.PLOTLYENV || {};window.PLOTLYENV.BASE_URL=\"https://plot.ly\";Plotly.newPlot(\"a260bb6e-3afc-4b49-85de-fd108b0294b2\", [{\"opacity\": 0.6, \"textposition\": \"auto\", \"name\": \"Number of Collisions\", \"text\": [\"1275\", \"1279\", \"1224\", \"913\", \"1084\", \"1095\", \"971\", \"990\", \"1176\", \"1139\", \"1493\", \"1755\"], \"y\": [1275.0, 1279.0, 1224.0, 913.0, 1084.0, 1095.0, 971.0, 990.0, 1176.0, 1139.0, 1493.0, 1755.0], \"x\": [1.0, 2.0, 3.0, 4.0, 5.0, 6.0, 7.0, 8.0, 9.0, 10.0, 11.0, 12.0], \"type\": \"bar\", \"uid\": \"801e2e9e-a3ed-11e8-927a-0800275aa47c\"}, {\"name\": \"Monthly Total Precip\", \"yaxis\": \"y2\", \"mode\": \"lines\", \"xaxis\": \"x2\", \"y\": [64.89999999999999, 88.8, 61.800000000000004, 159.0, 172.4, 156.8, 169.6, 82.39999999999999, 51.6, 142.40000000000003, 86.4, 32.400000000000006], \"x\": [1.0, 2.0, 3.0, 4.0, 5.0, 6.0, 7.0, 8.0, 9.0, 10.0, 11.0, 12.0], \"type\": \"scatter\", \"uid\": \"801e30f6-a3ed-11e8-927a-0800275aa47c\"}], {\"yaxis2\": {\"domain\": [0.55, 1.0], \"title\": \"Total Precip (mm)\"}, \"title\": \"Precip Analysis (2017)\", \"xaxis2\": {\"anchor\": \"y2\", \"dtick\": 1}, \"xaxis\": {\"dtick\": 1, \"title\": \"Month\"}, \"yaxis\": {\"domain\": [0, 0.5], \"dtick\": 500, \"title\": \"# of Collisions\"}}, {\"linkText\": \"Export to plot.ly\", \"showLink\": true})});</script>"
      ]
     },
     "metadata": {},
     "output_type": "display_data"
    }
   ],
   "source": [
    "df_avg = wt1417.groupby([\"Year\",\"Month\"]).mean()\n",
    "df_avg[\"Year\"] = [x[0] for x in df_avg.index]\n",
    "df_avg[\"Month\"] = [x[1] for x in df_avg.index]\n",
    "\n",
    "df_sum = wt1417.groupby([\"Year\",\"Month\"]).sum()\n",
    "df_sum[\"Year\"] = [x[0] for x in df_sum.index]\n",
    "df_sum[\"Month\"] = [x[1] for x in df_sum.index]\n",
    "\n",
    "def printPrecipInYear(n):\n",
    "    monthCase = go.Bar(x = df_sum[df_sum[\"Year\"]==n][\"Month\"],\n",
    "                       y = df_sum[df_sum[\"Year\"]==n][\"Number of Collisions\"],\n",
    "                       text = df_sum[df_sum[\"Year\"]==n][\"Number of Collisions\"],\n",
    "                       textposition = 'auto',\n",
    "                       opacity = 0.6,\n",
    "                       name = 'Number of Collisions')\n",
    "    total_precip = go.Scatter(x = df_sum[df_sum[\"Year\"]==n][\"Month\"],\n",
    "                         y = df_sum[df_sum[\"Year\"]==n][\"Total Precip (mm)\"],\n",
    "                         mode = 'lines',\n",
    "                         name = 'Monthly Total Precip',\n",
    "                         xaxis = 'x2', \n",
    "                         yaxis = 'y2')\n",
    "    fig = dict(data = [monthCase, total_precip], \n",
    "               layout = go.Layout(title = \"Precip Analysis (\" + str(n) + \")\",\n",
    "                                  xaxis = dict(title='Month', dtick=1),\n",
    "                                  yaxis = dict(title='# of Collisions', dtick=500, domain = [0,0.5]),\n",
    "                                  yaxis2 = dict(title='Total Precip (mm)', domain = [0.55,1.0]),\n",
    "                                  xaxis2 = dict(dtick=1, anchor = 'y2')\n",
    "                                 )\n",
    "              )\n",
    "    iplot(fig)\n",
    "    \n",
    "for m in range(2014,2018):\n",
    "    printPrecipInYear(m)"
   ]
  },
  {
   "cell_type": "markdown",
   "metadata": {},
   "source": [
    "**Brief Conclusion:**\n",
    "* No clear relationship between monthly precipitation and collisions"
   ]
  },
  {
   "cell_type": "markdown",
   "metadata": {},
   "source": [
    "### 2.4 The day in a year with the largest number of collisions"
   ]
  },
  {
   "cell_type": "markdown",
   "metadata": {},
   "source": [
    "**In 2014:**"
   ]
  },
  {
   "cell_type": "code",
   "execution_count": 14,
   "metadata": {},
   "outputs": [
    {
     "data": {
      "text/html": [
       "<div>\n",
       "<style scoped>\n",
       "    .dataframe tbody tr th:only-of-type {\n",
       "        vertical-align: middle;\n",
       "    }\n",
       "\n",
       "    .dataframe tbody tr th {\n",
       "        vertical-align: top;\n",
       "    }\n",
       "\n",
       "    .dataframe thead th {\n",
       "        text-align: right;\n",
       "    }\n",
       "</style>\n",
       "<table border=\"1\" class=\"dataframe\">\n",
       "  <thead>\n",
       "    <tr style=\"text-align: right;\">\n",
       "      <th></th>\n",
       "      <th>Date</th>\n",
       "      <th>Max Temp (°C)</th>\n",
       "      <th>Min Temp (°C)</th>\n",
       "      <th>Mean Temp (°C)</th>\n",
       "      <th>Total Rain (mm)</th>\n",
       "      <th>Total Snow (cm)</th>\n",
       "      <th>Total Precip (mm)</th>\n",
       "      <th>Snow on Grnd (cm)</th>\n",
       "      <th>Number of Collisions</th>\n",
       "      <th>Year</th>\n",
       "      <th>Month</th>\n",
       "      <th>Day in month</th>\n",
       "      <th>Holiday</th>\n",
       "      <th>Day_Of_Week</th>\n",
       "    </tr>\n",
       "  </thead>\n",
       "  <tbody>\n",
       "    <tr>\n",
       "      <th>2</th>\n",
       "      <td>2014-01-03</td>\n",
       "      <td>-21.0</td>\n",
       "      <td>-28.1</td>\n",
       "      <td>-24.6</td>\n",
       "      <td>0.0</td>\n",
       "      <td>0.3</td>\n",
       "      <td>0.0</td>\n",
       "      <td>29</td>\n",
       "      <td>151</td>\n",
       "      <td>2014</td>\n",
       "      <td>1</td>\n",
       "      <td>3</td>\n",
       "      <td>NaN</td>\n",
       "      <td>T5_Fri</td>\n",
       "    </tr>\n",
       "  </tbody>\n",
       "</table>\n",
       "</div>"
      ],
      "text/plain": [
       "        Date  Max Temp (°C)  Min Temp (°C)  Mean Temp (°C)  Total Rain (mm)  \\\n",
       "2 2014-01-03          -21.0          -28.1           -24.6              0.0   \n",
       "\n",
       "   Total Snow (cm)  Total Precip (mm)  Snow on Grnd (cm)  \\\n",
       "2              0.3                0.0                 29   \n",
       "\n",
       "   Number of Collisions  Year  Month  Day in month Holiday Day_Of_Week  \n",
       "2                   151  2014      1             3     NaN      T5_Fri  "
      ]
     },
     "execution_count": 14,
     "metadata": {},
     "output_type": "execute_result"
    }
   ],
   "source": [
    "maxColl2014 = wt1417[wt1417[\"Year\"]==2014].sort_values([\"Number of Collisions\"], ascending=[0])\n",
    "maxColl2014.iloc[[0]]"
   ]
  },
  {
   "cell_type": "markdown",
   "metadata": {},
   "source": [
    "**In 2015:**"
   ]
  },
  {
   "cell_type": "code",
   "execution_count": 15,
   "metadata": {},
   "outputs": [
    {
     "data": {
      "text/html": [
       "<div>\n",
       "<style scoped>\n",
       "    .dataframe tbody tr th:only-of-type {\n",
       "        vertical-align: middle;\n",
       "    }\n",
       "\n",
       "    .dataframe tbody tr th {\n",
       "        vertical-align: top;\n",
       "    }\n",
       "\n",
       "    .dataframe thead th {\n",
       "        text-align: right;\n",
       "    }\n",
       "</style>\n",
       "<table border=\"1\" class=\"dataframe\">\n",
       "  <thead>\n",
       "    <tr style=\"text-align: right;\">\n",
       "      <th></th>\n",
       "      <th>Date</th>\n",
       "      <th>Max Temp (°C)</th>\n",
       "      <th>Min Temp (°C)</th>\n",
       "      <th>Mean Temp (°C)</th>\n",
       "      <th>Total Rain (mm)</th>\n",
       "      <th>Total Snow (cm)</th>\n",
       "      <th>Total Precip (mm)</th>\n",
       "      <th>Snow on Grnd (cm)</th>\n",
       "      <th>Number of Collisions</th>\n",
       "      <th>Year</th>\n",
       "      <th>Month</th>\n",
       "      <th>Day in month</th>\n",
       "      <th>Holiday</th>\n",
       "      <th>Day_Of_Week</th>\n",
       "    </tr>\n",
       "  </thead>\n",
       "  <tbody>\n",
       "    <tr>\n",
       "      <th>397</th>\n",
       "      <td>2015-02-02</td>\n",
       "      <td>-14.3</td>\n",
       "      <td>-20.4</td>\n",
       "      <td>-17.4</td>\n",
       "      <td>0.0</td>\n",
       "      <td>3.0</td>\n",
       "      <td>1.5</td>\n",
       "      <td>14</td>\n",
       "      <td>160</td>\n",
       "      <td>2015</td>\n",
       "      <td>2</td>\n",
       "      <td>2</td>\n",
       "      <td>NaN</td>\n",
       "      <td>T1_Mon</td>\n",
       "    </tr>\n",
       "  </tbody>\n",
       "</table>\n",
       "</div>"
      ],
      "text/plain": [
       "          Date  Max Temp (°C)  Min Temp (°C)  Mean Temp (°C)  Total Rain (mm)  \\\n",
       "397 2015-02-02          -14.3          -20.4           -17.4              0.0   \n",
       "\n",
       "     Total Snow (cm)  Total Precip (mm)  Snow on Grnd (cm)  \\\n",
       "397              3.0                1.5                 14   \n",
       "\n",
       "     Number of Collisions  Year  Month  Day in month Holiday Day_Of_Week  \n",
       "397                   160  2015      2             2     NaN      T1_Mon  "
      ]
     },
     "execution_count": 15,
     "metadata": {},
     "output_type": "execute_result"
    }
   ],
   "source": [
    "maxColl2015 = wt1417[wt1417[\"Year\"]==2015].sort_values([\"Number of Collisions\"], ascending=[0])\n",
    "maxColl2015.iloc[[0]]"
   ]
  },
  {
   "cell_type": "markdown",
   "metadata": {},
   "source": [
    "**In 2016:**"
   ]
  },
  {
   "cell_type": "code",
   "execution_count": 16,
   "metadata": {},
   "outputs": [
    {
     "data": {
      "text/html": [
       "<div>\n",
       "<style scoped>\n",
       "    .dataframe tbody tr th:only-of-type {\n",
       "        vertical-align: middle;\n",
       "    }\n",
       "\n",
       "    .dataframe tbody tr th {\n",
       "        vertical-align: top;\n",
       "    }\n",
       "\n",
       "    .dataframe thead th {\n",
       "        text-align: right;\n",
       "    }\n",
       "</style>\n",
       "<table border=\"1\" class=\"dataframe\">\n",
       "  <thead>\n",
       "    <tr style=\"text-align: right;\">\n",
       "      <th></th>\n",
       "      <th>Date</th>\n",
       "      <th>Max Temp (°C)</th>\n",
       "      <th>Min Temp (°C)</th>\n",
       "      <th>Mean Temp (°C)</th>\n",
       "      <th>Total Rain (mm)</th>\n",
       "      <th>Total Snow (cm)</th>\n",
       "      <th>Total Precip (mm)</th>\n",
       "      <th>Snow on Grnd (cm)</th>\n",
       "      <th>Number of Collisions</th>\n",
       "      <th>Year</th>\n",
       "      <th>Month</th>\n",
       "      <th>Day in month</th>\n",
       "      <th>Holiday</th>\n",
       "      <th>Day_Of_Week</th>\n",
       "    </tr>\n",
       "  </thead>\n",
       "  <tbody>\n",
       "    <tr>\n",
       "      <th>777</th>\n",
       "      <td>2016-02-17</td>\n",
       "      <td>0.1</td>\n",
       "      <td>-11.2</td>\n",
       "      <td>-5.6</td>\n",
       "      <td>0.0</td>\n",
       "      <td>0.4</td>\n",
       "      <td>0.4</td>\n",
       "      <td>40</td>\n",
       "      <td>152</td>\n",
       "      <td>2016</td>\n",
       "      <td>2</td>\n",
       "      <td>17</td>\n",
       "      <td>NaN</td>\n",
       "      <td>T3_Wed</td>\n",
       "    </tr>\n",
       "  </tbody>\n",
       "</table>\n",
       "</div>"
      ],
      "text/plain": [
       "          Date  Max Temp (°C)  Min Temp (°C)  Mean Temp (°C)  Total Rain (mm)  \\\n",
       "777 2016-02-17            0.1          -11.2            -5.6              0.0   \n",
       "\n",
       "     Total Snow (cm)  Total Precip (mm)  Snow on Grnd (cm)  \\\n",
       "777              0.4                0.4                 40   \n",
       "\n",
       "     Number of Collisions  Year  Month  Day in month Holiday Day_Of_Week  \n",
       "777                   152  2016      2            17     NaN      T3_Wed  "
      ]
     },
     "execution_count": 16,
     "metadata": {},
     "output_type": "execute_result"
    }
   ],
   "source": [
    "maxColl2016 = wt1417[wt1417[\"Year\"]==2016].sort_values([\"Number of Collisions\"], ascending=[0])\n",
    "maxColl2016.iloc[[0]]"
   ]
  },
  {
   "cell_type": "markdown",
   "metadata": {},
   "source": [
    "**In 2017:**"
   ]
  },
  {
   "cell_type": "code",
   "execution_count": 17,
   "metadata": {},
   "outputs": [
    {
     "data": {
      "text/html": [
       "<div>\n",
       "<style scoped>\n",
       "    .dataframe tbody tr th:only-of-type {\n",
       "        vertical-align: middle;\n",
       "    }\n",
       "\n",
       "    .dataframe tbody tr th {\n",
       "        vertical-align: top;\n",
       "    }\n",
       "\n",
       "    .dataframe thead th {\n",
       "        text-align: right;\n",
       "    }\n",
       "</style>\n",
       "<table border=\"1\" class=\"dataframe\">\n",
       "  <thead>\n",
       "    <tr style=\"text-align: right;\">\n",
       "      <th></th>\n",
       "      <th>Date</th>\n",
       "      <th>Max Temp (°C)</th>\n",
       "      <th>Min Temp (°C)</th>\n",
       "      <th>Mean Temp (°C)</th>\n",
       "      <th>Total Rain (mm)</th>\n",
       "      <th>Total Snow (cm)</th>\n",
       "      <th>Total Precip (mm)</th>\n",
       "      <th>Snow on Grnd (cm)</th>\n",
       "      <th>Number of Collisions</th>\n",
       "      <th>Year</th>\n",
       "      <th>Month</th>\n",
       "      <th>Day in month</th>\n",
       "      <th>Holiday</th>\n",
       "      <th>Day_Of_Week</th>\n",
       "    </tr>\n",
       "  </thead>\n",
       "  <tbody>\n",
       "    <tr>\n",
       "      <th>1178</th>\n",
       "      <td>2017-03-24</td>\n",
       "      <td>1.0</td>\n",
       "      <td>-4.0</td>\n",
       "      <td>-1.5</td>\n",
       "      <td>6.0</td>\n",
       "      <td>7.0</td>\n",
       "      <td>12.6</td>\n",
       "      <td>17</td>\n",
       "      <td>134</td>\n",
       "      <td>2017</td>\n",
       "      <td>3</td>\n",
       "      <td>24</td>\n",
       "      <td>NaN</td>\n",
       "      <td>T5_Fri</td>\n",
       "    </tr>\n",
       "  </tbody>\n",
       "</table>\n",
       "</div>"
      ],
      "text/plain": [
       "           Date  Max Temp (°C)  Min Temp (°C)  Mean Temp (°C)  \\\n",
       "1178 2017-03-24            1.0           -4.0            -1.5   \n",
       "\n",
       "      Total Rain (mm)  Total Snow (cm)  Total Precip (mm)  Snow on Grnd (cm)  \\\n",
       "1178              6.0              7.0               12.6                 17   \n",
       "\n",
       "      Number of Collisions  Year  Month  Day in month Holiday Day_Of_Week  \n",
       "1178                   134  2017      3            24     NaN      T5_Fri  "
      ]
     },
     "execution_count": 17,
     "metadata": {},
     "output_type": "execute_result"
    }
   ],
   "source": [
    "maxColl2017 = wt1417[wt1417[\"Year\"]==2017].sort_values([\"Number of Collisions\"], ascending=[0])\n",
    "maxColl2017.iloc[[0]]"
   ]
  },
  {
   "cell_type": "markdown",
   "metadata": {},
   "source": [
    "**Brief Conclusion:**\n",
    "* The day in a year with the largest number of collisions are in winter or close to winter. \n",
    "* low temperature, and with snow\n",
    "\n",
    "**Hypothesis:**\n",
    "* It still supports the hypothesis about weather: low temperature and snowy weather leads to collisions"
   ]
  },
  {
   "cell_type": "markdown",
   "metadata": {},
   "source": [
    "### 2.5 The location of collisions in Ottawa (on the date with the largest number of collisions)"
   ]
  },
  {
   "cell_type": "code",
   "execution_count": 18,
   "metadata": {},
   "outputs": [
    {
     "name": "stdout",
     "output_type": "stream",
     "text": [
      "2014/1/3:\n"
     ]
    },
    {
     "data": {
      "text/html": [
       "<div style=\"width:100%;\"><div style=\"position:relative;width:100%;height:0;padding-bottom:60%;\"><iframe src=\"data:text/html;charset=utf-8;base64,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\" style=\"position:absolute;width:100%;height:100%;left:0;top:0;border:none !important;\" allowfullscreen webkitallowfullscreen mozallowfullscreen></iframe></div></div>"
      ],
      "text/plain": [
       "<folium.folium.Map at 0x942de50>"
      ]
     },
     "metadata": {},
     "output_type": "display_data"
    },
    {
     "name": "stdout",
     "output_type": "stream",
     "text": [
      "2015/2/2:\n"
     ]
    },
    {
     "data": {
      "text/html": [
       "<div style=\"width:100%;\"><div style=\"position:relative;width:100%;height:0;padding-bottom:60%;\"><iframe src=\"data:text/html;charset=utf-8;base64,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\" style=\"position:absolute;width:100%;height:100%;left:0;top:0;border:none !important;\" allowfullscreen webkitallowfullscreen mozallowfullscreen></iframe></div></div>"
      ],
      "text/plain": [
       "<folium.folium.Map at 0x7bc5ed0>"
      ]
     },
     "metadata": {},
     "output_type": "display_data"
    },
    {
     "name": "stdout",
     "output_type": "stream",
     "text": [
      "2016/2/17:\n"
     ]
    },
    {
     "data": {
      "text/html": [
       "<div style=\"width:100%;\"><div style=\"position:relative;width:100%;height:0;padding-bottom:60%;\"><iframe src=\"data:text/html;charset=utf-8;base64,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\" style=\"position:absolute;width:100%;height:100%;left:0;top:0;border:none !important;\" allowfullscreen webkitallowfullscreen mozallowfullscreen></iframe></div></div>"
      ],
      "text/plain": [
       "<folium.folium.Map at 0x9406e10>"
      ]
     },
     "metadata": {},
     "output_type": "display_data"
    },
    {
     "name": "stdout",
     "output_type": "stream",
     "text": [
      "2017/3/24:\n"
     ]
    },
    {
     "data": {
      "text/html": [
       "<div style=\"width:100%;\"><div style=\"position:relative;width:100%;height:0;padding-bottom:60%;\"><iframe src=\"data:text/html;charset=utf-8;base64,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\" style=\"position:absolute;width:100%;height:100%;left:0;top:0;border:none !important;\" allowfullscreen webkitallowfullscreen mozallowfullscreen></iframe></div></div>"
      ],
      "text/plain": [
       "<folium.folium.Map at 0xa94e1d0>"
      ]
     },
     "metadata": {},
     "output_type": "display_data"
    }
   ],
   "source": [
    "dayOf2014 = pd.to_datetime('2014/01/03', format = '%Y/%m/%d')\n",
    "dayOf2015 = pd.to_datetime('2015/02/02', format = '%Y/%m/%d')\n",
    "dayOf2016 = pd.to_datetime('2016/02/17', format = '%Y/%m/%d')\n",
    "dayOf2017 = pd.to_datetime('2017/03/24', format = '%Y/%m/%d')\n",
    "\n",
    "def mapOfMaxCollision(dayOf):\n",
    "    df_day = df_csv1417[df_csv1417[\"Date\"] == dayOf]\n",
    "    lat_lons = [[row['latitude'], row['longitude']] for index, row in df_day.iterrows()]\n",
    "    lats = [lat for [lat, lon] in lat_lons]\n",
    "    lons = [lon for [lat, lon] in lat_lons]\n",
    "\n",
    "    center = [((np.min(lat) + np.max(lat))/2), ((np.min(lon) + np.max(lon))/2)]\n",
    "\n",
    "    map = folium.Map(location=center,\n",
    "                        zoom_start=10,\n",
    "                        tiles='OpenStreetMap'\n",
    "                       )\n",
    "\n",
    "    plugin = folium.plugins.MarkerCluster(locations = lat_lons)\n",
    "    plugin.add_to(map)\n",
    "    print(str(dayOf.year) + \"/\" + str(dayOf.month) + \"/\" + str(dayOf.day) + \":\")\n",
    "    display(map)\n",
    "\n",
    "for dt in [dayOf2014, dayOf2015, dayOf2016, dayOf2017]:\n",
    "    mapOfMaxCollision(dt)"
   ]
  },
  {
   "cell_type": "markdown",
   "metadata": {},
   "source": [
    "## 3. Based on the table we get, do analysis about those combinations of variables"
   ]
  },
  {
   "cell_type": "markdown",
   "metadata": {},
   "source": [
    "### 3.1 Correlation between independent variables"
   ]
  },
  {
   "cell_type": "code",
   "execution_count": 19,
   "metadata": {
    "scrolled": true
   },
   "outputs": [
    {
     "data": {
      "text/html": [
       "<div>\n",
       "<style scoped>\n",
       "    .dataframe tbody tr th:only-of-type {\n",
       "        vertical-align: middle;\n",
       "    }\n",
       "\n",
       "    .dataframe tbody tr th {\n",
       "        vertical-align: top;\n",
       "    }\n",
       "\n",
       "    .dataframe thead th {\n",
       "        text-align: right;\n",
       "    }\n",
       "</style>\n",
       "<table border=\"1\" class=\"dataframe\">\n",
       "  <thead>\n",
       "    <tr style=\"text-align: right;\">\n",
       "      <th></th>\n",
       "      <th>Environment</th>\n",
       "      <th>Road_Surface</th>\n",
       "      <th>Traffic_Control</th>\n",
       "      <th>Collision_Location</th>\n",
       "      <th>Light</th>\n",
       "      <th>Collision_Classification</th>\n",
       "      <th>Impact_type</th>\n",
       "      <th>Year</th>\n",
       "      <th>Month</th>\n",
       "      <th>Day_Of_Week</th>\n",
       "    </tr>\n",
       "  </thead>\n",
       "  <tbody>\n",
       "    <tr>\n",
       "      <th>Environment</th>\n",
       "      <td>1.000000</td>\n",
       "      <td>0.407237</td>\n",
       "      <td>0.033659</td>\n",
       "      <td>0.023043</td>\n",
       "      <td>-0.013634</td>\n",
       "      <td>0.032732</td>\n",
       "      <td>-0.065814</td>\n",
       "      <td>0.028877</td>\n",
       "      <td>0.042192</td>\n",
       "      <td>0.025752</td>\n",
       "    </tr>\n",
       "    <tr>\n",
       "      <th>Road_Surface</th>\n",
       "      <td>0.407237</td>\n",
       "      <td>1.000000</td>\n",
       "      <td>0.052701</td>\n",
       "      <td>0.028649</td>\n",
       "      <td>0.006519</td>\n",
       "      <td>0.062297</td>\n",
       "      <td>-0.066913</td>\n",
       "      <td>0.027234</td>\n",
       "      <td>0.002951</td>\n",
       "      <td>0.026177</td>\n",
       "    </tr>\n",
       "    <tr>\n",
       "      <th>Traffic_Control</th>\n",
       "      <td>0.033659</td>\n",
       "      <td>0.052701</td>\n",
       "      <td>1.000000</td>\n",
       "      <td>-0.143711</td>\n",
       "      <td>0.026917</td>\n",
       "      <td>0.033407</td>\n",
       "      <td>-0.179868</td>\n",
       "      <td>0.006068</td>\n",
       "      <td>-0.000393</td>\n",
       "      <td>-0.005413</td>\n",
       "    </tr>\n",
       "    <tr>\n",
       "      <th>Collision_Location</th>\n",
       "      <td>0.023043</td>\n",
       "      <td>0.028649</td>\n",
       "      <td>-0.143711</td>\n",
       "      <td>1.000000</td>\n",
       "      <td>0.042738</td>\n",
       "      <td>0.116057</td>\n",
       "      <td>0.477705</td>\n",
       "      <td>0.004390</td>\n",
       "      <td>-0.002106</td>\n",
       "      <td>0.005891</td>\n",
       "    </tr>\n",
       "    <tr>\n",
       "      <th>Light</th>\n",
       "      <td>-0.013634</td>\n",
       "      <td>0.006519</td>\n",
       "      <td>0.026917</td>\n",
       "      <td>0.042738</td>\n",
       "      <td>1.000000</td>\n",
       "      <td>0.041628</td>\n",
       "      <td>0.061463</td>\n",
       "      <td>0.016489</td>\n",
       "      <td>-0.009449</td>\n",
       "      <td>0.015724</td>\n",
       "    </tr>\n",
       "    <tr>\n",
       "      <th>Collision_Classification</th>\n",
       "      <td>0.032732</td>\n",
       "      <td>0.062297</td>\n",
       "      <td>0.033407</td>\n",
       "      <td>0.116057</td>\n",
       "      <td>0.041628</td>\n",
       "      <td>1.000000</td>\n",
       "      <td>0.081291</td>\n",
       "      <td>-0.012735</td>\n",
       "      <td>0.011433</td>\n",
       "      <td>0.002105</td>\n",
       "    </tr>\n",
       "    <tr>\n",
       "      <th>Impact_type</th>\n",
       "      <td>-0.065814</td>\n",
       "      <td>-0.066913</td>\n",
       "      <td>-0.179868</td>\n",
       "      <td>0.477705</td>\n",
       "      <td>0.061463</td>\n",
       "      <td>0.081291</td>\n",
       "      <td>1.000000</td>\n",
       "      <td>0.001780</td>\n",
       "      <td>-0.012958</td>\n",
       "      <td>0.023057</td>\n",
       "    </tr>\n",
       "    <tr>\n",
       "      <th>Year</th>\n",
       "      <td>0.028877</td>\n",
       "      <td>0.027234</td>\n",
       "      <td>0.006068</td>\n",
       "      <td>0.004390</td>\n",
       "      <td>0.016489</td>\n",
       "      <td>-0.012735</td>\n",
       "      <td>0.001780</td>\n",
       "      <td>1.000000</td>\n",
       "      <td>0.007460</td>\n",
       "      <td>0.006355</td>\n",
       "    </tr>\n",
       "    <tr>\n",
       "      <th>Month</th>\n",
       "      <td>0.042192</td>\n",
       "      <td>0.002951</td>\n",
       "      <td>-0.000393</td>\n",
       "      <td>-0.002106</td>\n",
       "      <td>-0.009449</td>\n",
       "      <td>0.011433</td>\n",
       "      <td>-0.012958</td>\n",
       "      <td>0.007460</td>\n",
       "      <td>1.000000</td>\n",
       "      <td>-0.009906</td>\n",
       "    </tr>\n",
       "    <tr>\n",
       "      <th>Day_Of_Week</th>\n",
       "      <td>0.025752</td>\n",
       "      <td>0.026177</td>\n",
       "      <td>-0.005413</td>\n",
       "      <td>0.005891</td>\n",
       "      <td>0.015724</td>\n",
       "      <td>0.002105</td>\n",
       "      <td>0.023057</td>\n",
       "      <td>0.006355</td>\n",
       "      <td>-0.009906</td>\n",
       "      <td>1.000000</td>\n",
       "    </tr>\n",
       "  </tbody>\n",
       "</table>\n",
       "</div>"
      ],
      "text/plain": [
       "                          Environment  Road_Surface  Traffic_Control  \\\n",
       "Environment                  1.000000      0.407237         0.033659   \n",
       "Road_Surface                 0.407237      1.000000         0.052701   \n",
       "Traffic_Control              0.033659      0.052701         1.000000   \n",
       "Collision_Location           0.023043      0.028649        -0.143711   \n",
       "Light                       -0.013634      0.006519         0.026917   \n",
       "Collision_Classification     0.032732      0.062297         0.033407   \n",
       "Impact_type                 -0.065814     -0.066913        -0.179868   \n",
       "Year                         0.028877      0.027234         0.006068   \n",
       "Month                        0.042192      0.002951        -0.000393   \n",
       "Day_Of_Week                  0.025752      0.026177        -0.005413   \n",
       "\n",
       "                          Collision_Location     Light  \\\n",
       "Environment                         0.023043 -0.013634   \n",
       "Road_Surface                        0.028649  0.006519   \n",
       "Traffic_Control                    -0.143711  0.026917   \n",
       "Collision_Location                  1.000000  0.042738   \n",
       "Light                               0.042738  1.000000   \n",
       "Collision_Classification            0.116057  0.041628   \n",
       "Impact_type                         0.477705  0.061463   \n",
       "Year                                0.004390  0.016489   \n",
       "Month                              -0.002106 -0.009449   \n",
       "Day_Of_Week                         0.005891  0.015724   \n",
       "\n",
       "                          Collision_Classification  Impact_type      Year  \\\n",
       "Environment                               0.032732    -0.065814  0.028877   \n",
       "Road_Surface                              0.062297    -0.066913  0.027234   \n",
       "Traffic_Control                           0.033407    -0.179868  0.006068   \n",
       "Collision_Location                        0.116057     0.477705  0.004390   \n",
       "Light                                     0.041628     0.061463  0.016489   \n",
       "Collision_Classification                  1.000000     0.081291 -0.012735   \n",
       "Impact_type                               0.081291     1.000000  0.001780   \n",
       "Year                                     -0.012735     0.001780  1.000000   \n",
       "Month                                     0.011433    -0.012958  0.007460   \n",
       "Day_Of_Week                               0.002105     0.023057  0.006355   \n",
       "\n",
       "                             Month  Day_Of_Week  \n",
       "Environment               0.042192     0.025752  \n",
       "Road_Surface              0.002951     0.026177  \n",
       "Traffic_Control          -0.000393    -0.005413  \n",
       "Collision_Location       -0.002106     0.005891  \n",
       "Light                    -0.009449     0.015724  \n",
       "Collision_Classification  0.011433     0.002105  \n",
       "Impact_type              -0.012958     0.023057  \n",
       "Year                      0.007460     0.006355  \n",
       "Month                     1.000000    -0.009906  \n",
       "Day_Of_Week              -0.009906     1.000000  "
      ]
     },
     "execution_count": 19,
     "metadata": {},
     "output_type": "execute_result"
    }
   ],
   "source": [
    "df_vars = df_csv1417[['Environment', 'Road_Surface', 'Traffic_Control', 'Collision_Location', \n",
    "                      'Light', 'Collision_Classification', 'Impact_type', 'Year', 'Month', 'Day_Of_Week']]\n",
    "\n",
    "df_corr = df_vars.apply(lambda x : pd.factorize(x)[0]).corr(method='pearson', min_periods=1)\n",
    "df_corr"
   ]
  },
  {
   "cell_type": "code",
   "execution_count": null,
   "metadata": {},
   "outputs": [],
   "source": []
  },
  {
   "cell_type": "code",
   "execution_count": 21,
   "metadata": {},
   "outputs": [
    {
     "data": {
      "application/vnd.plotly.v1+json": {
       "data": [
        {
         "type": "heatmap",
         "uid": "8af3066e-a3ed-11e8-927a-0800275aa47c",
         "x": [
          "Environment",
          "Environment",
          "Environment",
          "Environment",
          "Environment",
          "Environment",
          "Environment",
          "Environment",
          "Environment",
          "Environment",
          "Road_Surface",
          "Road_Surface",
          "Road_Surface",
          "Road_Surface",
          "Road_Surface",
          "Road_Surface",
          "Road_Surface",
          "Road_Surface",
          "Road_Surface",
          "Road_Surface",
          "Traffic_Control",
          "Traffic_Control",
          "Traffic_Control",
          "Traffic_Control",
          "Traffic_Control",
          "Traffic_Control",
          "Traffic_Control",
          "Traffic_Control",
          "Traffic_Control",
          "Traffic_Control",
          "Collision_Location",
          "Collision_Location",
          "Collision_Location",
          "Collision_Location",
          "Collision_Location",
          "Collision_Location",
          "Collision_Location",
          "Collision_Location",
          "Collision_Location",
          "Collision_Location",
          "Light",
          "Light",
          "Light",
          "Light",
          "Light",
          "Light",
          "Light",
          "Light",
          "Light",
          "Light",
          "Collision_Classification",
          "Collision_Classification",
          "Collision_Classification",
          "Collision_Classification",
          "Collision_Classification",
          "Collision_Classification",
          "Collision_Classification",
          "Collision_Classification",
          "Collision_Classification",
          "Collision_Classification",
          "Impact_type",
          "Impact_type",
          "Impact_type",
          "Impact_type",
          "Impact_type",
          "Impact_type",
          "Impact_type",
          "Impact_type",
          "Impact_type",
          "Impact_type",
          "Year",
          "Year",
          "Year",
          "Year",
          "Year",
          "Year",
          "Year",
          "Year",
          "Year",
          "Year",
          "Month",
          "Month",
          "Month",
          "Month",
          "Month",
          "Month",
          "Month",
          "Month",
          "Month",
          "Month",
          "Day_Of_Week",
          "Day_Of_Week",
          "Day_Of_Week",
          "Day_Of_Week",
          "Day_Of_Week",
          "Day_Of_Week",
          "Day_Of_Week",
          "Day_Of_Week",
          "Day_Of_Week",
          "Day_Of_Week"
         ],
         "y": [
          "Environment",
          "Road_Surface",
          "Traffic_Control",
          "Collision_Location",
          "Light",
          "Collision_Classification",
          "Impact_type",
          "Year",
          "Month",
          "Day_Of_Week",
          "Environment",
          "Road_Surface",
          "Traffic_Control",
          "Collision_Location",
          "Light",
          "Collision_Classification",
          "Impact_type",
          "Year",
          "Month",
          "Day_Of_Week",
          "Environment",
          "Road_Surface",
          "Traffic_Control",
          "Collision_Location",
          "Light",
          "Collision_Classification",
          "Impact_type",
          "Year",
          "Month",
          "Day_Of_Week",
          "Environment",
          "Road_Surface",
          "Traffic_Control",
          "Collision_Location",
          "Light",
          "Collision_Classification",
          "Impact_type",
          "Year",
          "Month",
          "Day_Of_Week",
          "Environment",
          "Road_Surface",
          "Traffic_Control",
          "Collision_Location",
          "Light",
          "Collision_Classification",
          "Impact_type",
          "Year",
          "Month",
          "Day_Of_Week",
          "Environment",
          "Road_Surface",
          "Traffic_Control",
          "Collision_Location",
          "Light",
          "Collision_Classification",
          "Impact_type",
          "Year",
          "Month",
          "Day_Of_Week",
          "Environment",
          "Road_Surface",
          "Traffic_Control",
          "Collision_Location",
          "Light",
          "Collision_Classification",
          "Impact_type",
          "Year",
          "Month",
          "Day_Of_Week",
          "Environment",
          "Road_Surface",
          "Traffic_Control",
          "Collision_Location",
          "Light",
          "Collision_Classification",
          "Impact_type",
          "Year",
          "Month",
          "Day_Of_Week",
          "Environment",
          "Road_Surface",
          "Traffic_Control",
          "Collision_Location",
          "Light",
          "Collision_Classification",
          "Impact_type",
          "Year",
          "Month",
          "Day_Of_Week",
          "Environment",
          "Road_Surface",
          "Traffic_Control",
          "Collision_Location",
          "Light",
          "Collision_Classification",
          "Impact_type",
          "Year",
          "Month",
          "Day_Of_Week"
         ],
         "z": [
          1,
          0.4072369871834664,
          0.033658568702857765,
          0.023043484396722345,
          -0.013634229253574668,
          0.03273212566175706,
          -0.06581427651067992,
          0.028876502298970343,
          0.04219170090590787,
          0.025751597182446254,
          0.4072369871834664,
          1,
          0.05270146278013149,
          0.028649421989299307,
          0.00651864901992285,
          0.062297046860876726,
          -0.0669126410196724,
          0.027234100090145378,
          0.0029508840422938715,
          0.02617721935923829,
          0.033658568702857765,
          0.05270146278013149,
          1,
          -0.14371149051935012,
          0.026916532310199314,
          0.03340667557890571,
          -0.17986796859411552,
          0.006067794675924021,
          -0.0003933954692235262,
          -0.00541348964140966,
          0.023043484396722345,
          0.028649421989299307,
          -0.14371149051935012,
          1,
          0.04273809021434376,
          0.11605698678456294,
          0.4777046297582626,
          0.004390012252474468,
          -0.002105944826842248,
          0.005891089242072931,
          -0.013634229253574668,
          0.00651864901992285,
          0.026916532310199314,
          0.04273809021434376,
          1,
          0.041628200000074875,
          0.06146340186068619,
          0.016489016697336514,
          -0.009448587352404014,
          0.01572430615577022,
          0.03273212566175706,
          0.062297046860876726,
          0.03340667557890571,
          0.11605698678456294,
          0.041628200000074875,
          1,
          0.08129056268538229,
          -0.012735210263866151,
          0.011433474826105242,
          0.0021054966076073777,
          -0.06581427651067992,
          -0.0669126410196724,
          -0.17986796859411552,
          0.4777046297582626,
          0.06146340186068619,
          0.08129056268538229,
          1,
          0.0017803502166531932,
          -0.0129583547807179,
          0.023057006767220358,
          0.028876502298970343,
          0.027234100090145378,
          0.006067794675924021,
          0.004390012252474468,
          0.016489016697336514,
          -0.012735210263866151,
          0.0017803502166531932,
          1,
          0.007459604749502657,
          0.006354850584136215,
          0.04219170090590787,
          0.0029508840422938715,
          -0.0003933954692235262,
          -0.002105944826842248,
          -0.009448587352404014,
          0.011433474826105242,
          -0.0129583547807179,
          0.007459604749502657,
          1,
          -0.009905689285280664,
          0.025751597182446254,
          0.02617721935923829,
          -0.00541348964140966,
          0.005891089242072931,
          0.01572430615577022,
          0.0021054966076073777,
          0.023057006767220358,
          0.006354850584136215,
          -0.009905689285280664,
          1
         ]
        }
       ],
       "layout": {}
      },
      "text/html": [
       "<div id=\"bf69e43a-3aa2-4301-a9d0-bcf2ea28eb30\" style=\"height: 525px; width: 100%;\" class=\"plotly-graph-div\"></div><script type=\"text/javascript\">require([\"plotly\"], function(Plotly) { window.PLOTLYENV=window.PLOTLYENV || {};window.PLOTLYENV.BASE_URL=\"https://plot.ly\";Plotly.newPlot(\"bf69e43a-3aa2-4301-a9d0-bcf2ea28eb30\", [{\"y\": [\"Environment\", \"Road_Surface\", \"Traffic_Control\", \"Collision_Location\", \"Light\", \"Collision_Classification\", \"Impact_type\", \"Year\", \"Month\", \"Day_Of_Week\", \"Environment\", \"Road_Surface\", \"Traffic_Control\", \"Collision_Location\", \"Light\", \"Collision_Classification\", \"Impact_type\", \"Year\", \"Month\", \"Day_Of_Week\", \"Environment\", \"Road_Surface\", \"Traffic_Control\", \"Collision_Location\", \"Light\", \"Collision_Classification\", \"Impact_type\", \"Year\", \"Month\", \"Day_Of_Week\", \"Environment\", \"Road_Surface\", \"Traffic_Control\", \"Collision_Location\", \"Light\", \"Collision_Classification\", \"Impact_type\", \"Year\", \"Month\", \"Day_Of_Week\", \"Environment\", \"Road_Surface\", \"Traffic_Control\", \"Collision_Location\", \"Light\", \"Collision_Classification\", \"Impact_type\", \"Year\", \"Month\", \"Day_Of_Week\", \"Environment\", \"Road_Surface\", \"Traffic_Control\", \"Collision_Location\", \"Light\", \"Collision_Classification\", \"Impact_type\", \"Year\", \"Month\", \"Day_Of_Week\", \"Environment\", \"Road_Surface\", \"Traffic_Control\", \"Collision_Location\", \"Light\", \"Collision_Classification\", \"Impact_type\", \"Year\", \"Month\", \"Day_Of_Week\", \"Environment\", \"Road_Surface\", \"Traffic_Control\", \"Collision_Location\", \"Light\", \"Collision_Classification\", \"Impact_type\", \"Year\", \"Month\", \"Day_Of_Week\", \"Environment\", \"Road_Surface\", \"Traffic_Control\", \"Collision_Location\", \"Light\", \"Collision_Classification\", \"Impact_type\", \"Year\", \"Month\", \"Day_Of_Week\", \"Environment\", \"Road_Surface\", \"Traffic_Control\", \"Collision_Location\", \"Light\", \"Collision_Classification\", \"Impact_type\", \"Year\", \"Month\", \"Day_Of_Week\"], \"x\": [\"Environment\", \"Environment\", \"Environment\", \"Environment\", \"Environment\", \"Environment\", \"Environment\", \"Environment\", \"Environment\", \"Environment\", \"Road_Surface\", \"Road_Surface\", \"Road_Surface\", \"Road_Surface\", \"Road_Surface\", \"Road_Surface\", \"Road_Surface\", \"Road_Surface\", \"Road_Surface\", \"Road_Surface\", \"Traffic_Control\", \"Traffic_Control\", \"Traffic_Control\", \"Traffic_Control\", \"Traffic_Control\", \"Traffic_Control\", \"Traffic_Control\", \"Traffic_Control\", \"Traffic_Control\", \"Traffic_Control\", \"Collision_Location\", \"Collision_Location\", \"Collision_Location\", \"Collision_Location\", \"Collision_Location\", \"Collision_Location\", \"Collision_Location\", \"Collision_Location\", \"Collision_Location\", \"Collision_Location\", \"Light\", \"Light\", \"Light\", \"Light\", \"Light\", \"Light\", \"Light\", \"Light\", \"Light\", \"Light\", \"Collision_Classification\", \"Collision_Classification\", \"Collision_Classification\", \"Collision_Classification\", \"Collision_Classification\", \"Collision_Classification\", \"Collision_Classification\", \"Collision_Classification\", \"Collision_Classification\", \"Collision_Classification\", \"Impact_type\", \"Impact_type\", \"Impact_type\", \"Impact_type\", \"Impact_type\", \"Impact_type\", \"Impact_type\", \"Impact_type\", \"Impact_type\", \"Impact_type\", \"Year\", \"Year\", \"Year\", \"Year\", \"Year\", \"Year\", \"Year\", \"Year\", \"Year\", \"Year\", \"Month\", \"Month\", \"Month\", \"Month\", \"Month\", \"Month\", \"Month\", \"Month\", \"Month\", \"Month\", \"Day_Of_Week\", \"Day_Of_Week\", \"Day_Of_Week\", \"Day_Of_Week\", \"Day_Of_Week\", \"Day_Of_Week\", \"Day_Of_Week\", \"Day_Of_Week\", \"Day_Of_Week\", \"Day_Of_Week\"], \"z\": [1.0, 0.4072369871834664, 0.033658568702857765, 0.023043484396722345, -0.013634229253574668, 0.03273212566175706, -0.06581427651067992, 0.028876502298970343, 0.04219170090590787, 0.025751597182446254, 0.4072369871834664, 1.0, 0.05270146278013149, 0.028649421989299307, 0.00651864901992285, 0.062297046860876726, -0.0669126410196724, 0.027234100090145378, 0.0029508840422938715, 0.02617721935923829, 0.033658568702857765, 0.05270146278013149, 1.0, -0.14371149051935012, 0.026916532310199314, 0.03340667557890571, -0.17986796859411552, 0.006067794675924021, -0.0003933954692235262, -0.00541348964140966, 0.023043484396722345, 0.028649421989299307, -0.14371149051935012, 1.0, 0.04273809021434376, 0.11605698678456294, 0.4777046297582626, 0.004390012252474468, -0.002105944826842248, 0.005891089242072931, -0.013634229253574668, 0.00651864901992285, 0.026916532310199314, 0.04273809021434376, 1.0, 0.041628200000074875, 0.06146340186068619, 0.016489016697336514, -0.009448587352404014, 0.01572430615577022, 0.03273212566175706, 0.062297046860876726, 0.03340667557890571, 0.11605698678456294, 0.041628200000074875, 1.0, 0.08129056268538229, -0.012735210263866151, 0.011433474826105242, 0.0021054966076073777, -0.06581427651067992, -0.0669126410196724, -0.17986796859411552, 0.4777046297582626, 0.06146340186068619, 0.08129056268538229, 1.0, 0.0017803502166531932, -0.0129583547807179, 0.023057006767220358, 0.028876502298970343, 0.027234100090145378, 0.006067794675924021, 0.004390012252474468, 0.016489016697336514, -0.012735210263866151, 0.0017803502166531932, 1.0, 0.007459604749502657, 0.006354850584136215, 0.04219170090590787, 0.0029508840422938715, -0.0003933954692235262, -0.002105944826842248, -0.009448587352404014, 0.011433474826105242, -0.0129583547807179, 0.007459604749502657, 1.0, -0.009905689285280664, 0.025751597182446254, 0.02617721935923829, -0.00541348964140966, 0.005891089242072931, 0.01572430615577022, 0.0021054966076073777, 0.023057006767220358, 0.006354850584136215, -0.009905689285280664, 1.0], \"type\": \"heatmap\", \"uid\": \"8af59708-a3ed-11e8-927a-0800275aa47c\"}], {}, {\"linkText\": \"Export to plot.ly\", \"showLink\": true})});</script>"
      ],
      "text/vnd.plotly.v1+html": [
       "<div id=\"bf69e43a-3aa2-4301-a9d0-bcf2ea28eb30\" style=\"height: 525px; width: 100%;\" class=\"plotly-graph-div\"></div><script type=\"text/javascript\">require([\"plotly\"], function(Plotly) { window.PLOTLYENV=window.PLOTLYENV || {};window.PLOTLYENV.BASE_URL=\"https://plot.ly\";Plotly.newPlot(\"bf69e43a-3aa2-4301-a9d0-bcf2ea28eb30\", [{\"y\": [\"Environment\", \"Road_Surface\", \"Traffic_Control\", \"Collision_Location\", \"Light\", \"Collision_Classification\", \"Impact_type\", \"Year\", \"Month\", \"Day_Of_Week\", \"Environment\", \"Road_Surface\", \"Traffic_Control\", \"Collision_Location\", \"Light\", \"Collision_Classification\", \"Impact_type\", \"Year\", \"Month\", \"Day_Of_Week\", \"Environment\", \"Road_Surface\", \"Traffic_Control\", \"Collision_Location\", \"Light\", \"Collision_Classification\", \"Impact_type\", \"Year\", \"Month\", \"Day_Of_Week\", \"Environment\", \"Road_Surface\", \"Traffic_Control\", \"Collision_Location\", \"Light\", \"Collision_Classification\", \"Impact_type\", \"Year\", \"Month\", \"Day_Of_Week\", \"Environment\", \"Road_Surface\", \"Traffic_Control\", \"Collision_Location\", \"Light\", \"Collision_Classification\", \"Impact_type\", \"Year\", \"Month\", \"Day_Of_Week\", \"Environment\", \"Road_Surface\", \"Traffic_Control\", \"Collision_Location\", \"Light\", \"Collision_Classification\", \"Impact_type\", \"Year\", \"Month\", \"Day_Of_Week\", \"Environment\", \"Road_Surface\", \"Traffic_Control\", \"Collision_Location\", \"Light\", \"Collision_Classification\", \"Impact_type\", \"Year\", \"Month\", \"Day_Of_Week\", \"Environment\", \"Road_Surface\", \"Traffic_Control\", \"Collision_Location\", \"Light\", \"Collision_Classification\", \"Impact_type\", \"Year\", \"Month\", \"Day_Of_Week\", \"Environment\", \"Road_Surface\", \"Traffic_Control\", \"Collision_Location\", \"Light\", \"Collision_Classification\", \"Impact_type\", \"Year\", \"Month\", \"Day_Of_Week\", \"Environment\", \"Road_Surface\", \"Traffic_Control\", \"Collision_Location\", \"Light\", \"Collision_Classification\", \"Impact_type\", \"Year\", \"Month\", \"Day_Of_Week\"], \"x\": [\"Environment\", \"Environment\", \"Environment\", \"Environment\", \"Environment\", \"Environment\", \"Environment\", \"Environment\", \"Environment\", \"Environment\", \"Road_Surface\", \"Road_Surface\", \"Road_Surface\", \"Road_Surface\", \"Road_Surface\", \"Road_Surface\", \"Road_Surface\", \"Road_Surface\", \"Road_Surface\", \"Road_Surface\", \"Traffic_Control\", \"Traffic_Control\", \"Traffic_Control\", \"Traffic_Control\", \"Traffic_Control\", \"Traffic_Control\", \"Traffic_Control\", \"Traffic_Control\", \"Traffic_Control\", \"Traffic_Control\", \"Collision_Location\", \"Collision_Location\", \"Collision_Location\", \"Collision_Location\", \"Collision_Location\", \"Collision_Location\", \"Collision_Location\", \"Collision_Location\", \"Collision_Location\", \"Collision_Location\", \"Light\", \"Light\", \"Light\", \"Light\", \"Light\", \"Light\", \"Light\", \"Light\", \"Light\", \"Light\", \"Collision_Classification\", \"Collision_Classification\", \"Collision_Classification\", \"Collision_Classification\", \"Collision_Classification\", \"Collision_Classification\", \"Collision_Classification\", \"Collision_Classification\", \"Collision_Classification\", \"Collision_Classification\", \"Impact_type\", \"Impact_type\", \"Impact_type\", \"Impact_type\", \"Impact_type\", \"Impact_type\", \"Impact_type\", \"Impact_type\", \"Impact_type\", \"Impact_type\", \"Year\", \"Year\", \"Year\", \"Year\", \"Year\", \"Year\", \"Year\", \"Year\", \"Year\", \"Year\", \"Month\", \"Month\", \"Month\", \"Month\", \"Month\", \"Month\", \"Month\", \"Month\", \"Month\", \"Month\", \"Day_Of_Week\", \"Day_Of_Week\", \"Day_Of_Week\", \"Day_Of_Week\", \"Day_Of_Week\", \"Day_Of_Week\", \"Day_Of_Week\", \"Day_Of_Week\", \"Day_Of_Week\", \"Day_Of_Week\"], \"z\": [1.0, 0.4072369871834664, 0.033658568702857765, 0.023043484396722345, -0.013634229253574668, 0.03273212566175706, -0.06581427651067992, 0.028876502298970343, 0.04219170090590787, 0.025751597182446254, 0.4072369871834664, 1.0, 0.05270146278013149, 0.028649421989299307, 0.00651864901992285, 0.062297046860876726, -0.0669126410196724, 0.027234100090145378, 0.0029508840422938715, 0.02617721935923829, 0.033658568702857765, 0.05270146278013149, 1.0, -0.14371149051935012, 0.026916532310199314, 0.03340667557890571, -0.17986796859411552, 0.006067794675924021, -0.0003933954692235262, -0.00541348964140966, 0.023043484396722345, 0.028649421989299307, -0.14371149051935012, 1.0, 0.04273809021434376, 0.11605698678456294, 0.4777046297582626, 0.004390012252474468, -0.002105944826842248, 0.005891089242072931, -0.013634229253574668, 0.00651864901992285, 0.026916532310199314, 0.04273809021434376, 1.0, 0.041628200000074875, 0.06146340186068619, 0.016489016697336514, -0.009448587352404014, 0.01572430615577022, 0.03273212566175706, 0.062297046860876726, 0.03340667557890571, 0.11605698678456294, 0.041628200000074875, 1.0, 0.08129056268538229, -0.012735210263866151, 0.011433474826105242, 0.0021054966076073777, -0.06581427651067992, -0.0669126410196724, -0.17986796859411552, 0.4777046297582626, 0.06146340186068619, 0.08129056268538229, 1.0, 0.0017803502166531932, -0.0129583547807179, 0.023057006767220358, 0.028876502298970343, 0.027234100090145378, 0.006067794675924021, 0.004390012252474468, 0.016489016697336514, -0.012735210263866151, 0.0017803502166531932, 1.0, 0.007459604749502657, 0.006354850584136215, 0.04219170090590787, 0.0029508840422938715, -0.0003933954692235262, -0.002105944826842248, -0.009448587352404014, 0.011433474826105242, -0.0129583547807179, 0.007459604749502657, 1.0, -0.009905689285280664, 0.025751597182446254, 0.02617721935923829, -0.00541348964140966, 0.005891089242072931, 0.01572430615577022, 0.0021054966076073777, 0.023057006767220358, 0.006354850584136215, -0.009905689285280664, 1.0], \"type\": \"heatmap\", \"uid\": \"8af59708-a3ed-11e8-927a-0800275aa47c\"}], {}, {\"linkText\": \"Export to plot.ly\", \"showLink\": true})});</script>"
      ]
     },
     "metadata": {},
     "output_type": "display_data"
    }
   ],
   "source": [
    "df_inLongList = df_corr.stack(dropna = False).reset_index(name='Correlation')\n",
    "trace = go.Heatmap(x = df_inLongList['level_0'], y = df_inLongList['level_1'], z = df_inLongList['Correlation'])\n",
    "iplot([trace])"
   ]
  },
  {
   "cell_type": "markdown",
   "metadata": {},
   "source": [
    "**Brief Conclusion:**\n",
    "* Independent variables which are related to correlation might leave some effects on each other if one of them changes. For example, rainy environment -> wet road surface. \n",
    "* Then, sometimes it's better to analyze the relationship between the dependent variable and the group of correlated variables together. \n",
    "* According to the pattern of the heatmap, there is a slight correlation between 2 groups: **Environment** and **Road_Surface**, **Collision_Location** and **Impact_type**. "
   ]
  },
  {
   "cell_type": "markdown",
   "metadata": {},
   "source": [
    "### 3.1.1 Environment and Road_Surface"
   ]
  },
  {
   "cell_type": "code",
   "execution_count": null,
   "metadata": {},
   "outputs": [],
   "source": []
  },
  {
   "cell_type": "markdown",
   "metadata": {},
   "source": [
    "### 3.1.2 Collision_Location and Impact_type"
   ]
  },
  {
   "cell_type": "code",
   "execution_count": null,
   "metadata": {},
   "outputs": [],
   "source": []
  },
  {
   "cell_type": "code",
   "execution_count": null,
   "metadata": {},
   "outputs": [],
   "source": []
  },
  {
   "cell_type": "code",
   "execution_count": null,
   "metadata": {},
   "outputs": [],
   "source": []
  }
 ],
 "metadata": {
  "kernelspec": {
   "display_name": "Python 2",
   "language": "python",
   "name": "python2"
  },
  "language_info": {
   "codemirror_mode": {
    "name": "ipython",
    "version": 2
   },
   "file_extension": ".py",
   "mimetype": "text/x-python",
   "name": "python",
   "nbconvert_exporter": "python",
   "pygments_lexer": "ipython2",
   "version": "2.7.5"
  }
 },
 "nbformat": 4,
 "nbformat_minor": 2
}
