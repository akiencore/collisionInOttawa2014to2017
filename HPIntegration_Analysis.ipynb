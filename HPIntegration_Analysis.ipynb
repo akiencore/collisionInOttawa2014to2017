{
 "cells": [
  {
   "cell_type": "code",
   "execution_count": 61,
   "metadata": {},
   "outputs": [
    {
     "data": {
      "text/html": [
       "<script>requirejs.config({paths: { 'plotly': ['https://cdn.plot.ly/plotly-latest.min']},});if(!window.Plotly) {{require(['plotly'],function(plotly) {window.Plotly=plotly;});}}</script>"
      ],
      "text/vnd.plotly.v1+html": [
       "<script>requirejs.config({paths: { 'plotly': ['https://cdn.plot.ly/plotly-latest.min']},});if(!window.Plotly) {{require(['plotly'],function(plotly) {window.Plotly=plotly;});}}</script>"
      ]
     },
     "metadata": {},
     "output_type": "display_data"
    }
   ],
   "source": [
    "import sys\n",
    "import warnings\n",
    "if not sys.warnoptions:\n",
    "    warnings.simplefilter(\"ignore\")\n",
    "\n",
    "%matplotlib  inline               \n",
    "import pandas as pd\n",
    "import numpy as np\n",
    "\n",
    "import plotly.graph_objs as go\n",
    "from plotly.offline import download_plotlyjs, init_notebook_mode, plot, iplot\n",
    "init_notebook_mode(connected=True)\n",
    "\n",
    "import folium\n",
    "import folium.plugins \n",
    "\n",
    "#pd.set_option('html', False)  \n",
    "# unknown error, skip this step\n",
    "pd.set_option('max_columns', 30)\n",
    "pd.set_option('max_rows', 20)"
   ]
  },
  {
   "cell_type": "markdown",
   "metadata": {},
   "source": [
    "## 1. Based on organzied csv files, get a table about all vehicle collisions from 2014 to 2017"
   ]
  },
  {
   "cell_type": "markdown",
   "metadata": {},
   "source": [
    "### 1.1 combine vehicle collisions csv files from 2014 to 2017 (in the order of time)"
   ]
  },
  {
   "cell_type": "code",
   "execution_count": 2,
   "metadata": {},
   "outputs": [
    {
     "data": {
      "text/html": [
       "<div>\n",
       "<style scoped>\n",
       "    .dataframe tbody tr th:only-of-type {\n",
       "        vertical-align: middle;\n",
       "    }\n",
       "\n",
       "    .dataframe tbody tr th {\n",
       "        vertical-align: top;\n",
       "    }\n",
       "\n",
       "    .dataframe thead th {\n",
       "        text-align: right;\n",
       "    }\n",
       "</style>\n",
       "<table border=\"1\" class=\"dataframe\">\n",
       "  <thead>\n",
       "    <tr style=\"text-align: right;\">\n",
       "      <th></th>\n",
       "      <th>Record</th>\n",
       "      <th>Location</th>\n",
       "      <th>Date</th>\n",
       "      <th>Time</th>\n",
       "      <th>Environment</th>\n",
       "      <th>Road_Surface</th>\n",
       "      <th>Traffic_Control</th>\n",
       "      <th>Collision_Location</th>\n",
       "      <th>Light</th>\n",
       "      <th>Collision_Classification</th>\n",
       "      <th>Impact_type</th>\n",
       "      <th>longitude</th>\n",
       "      <th>latitude</th>\n",
       "      <th>Year</th>\n",
       "      <th>Month</th>\n",
       "      <th>Day_Of_Week</th>\n",
       "    </tr>\n",
       "  </thead>\n",
       "  <tbody>\n",
       "    <tr>\n",
       "      <th>0</th>\n",
       "      <td>2014000001</td>\n",
       "      <td>RIDEAU ST @ WALLER ST</td>\n",
       "      <td>2014-02-21</td>\n",
       "      <td>06:07:00</td>\n",
       "      <td>02 - Rain</td>\n",
       "      <td>02 - Wet</td>\n",
       "      <td>01 - Traffic signal</td>\n",
       "      <td>03 - At intersection</td>\n",
       "      <td>07 - Dark</td>\n",
       "      <td>01 - Fatal injury</td>\n",
       "      <td>07 - SMV other</td>\n",
       "      <td>-75.688726</td>\n",
       "      <td>45.427533</td>\n",
       "      <td>2014</td>\n",
       "      <td>2</td>\n",
       "      <td>T5_Fri</td>\n",
       "    </tr>\n",
       "    <tr>\n",
       "      <th>1</th>\n",
       "      <td>2014000002</td>\n",
       "      <td>HINES RD btwn INNOVATION DR &amp; SOLANDT RD</td>\n",
       "      <td>2014-08-02</td>\n",
       "      <td>13:55:00</td>\n",
       "      <td>01 - Clear</td>\n",
       "      <td>01 - Dry</td>\n",
       "      <td>10 - No control</td>\n",
       "      <td>04 - At/near private drive</td>\n",
       "      <td>01 - Daylight</td>\n",
       "      <td>01 - Fatal injury</td>\n",
       "      <td>02 - Angle</td>\n",
       "      <td>-75.921033</td>\n",
       "      <td>45.343152</td>\n",
       "      <td>2014</td>\n",
       "      <td>8</td>\n",
       "      <td>T6_Sat</td>\n",
       "    </tr>\n",
       "    <tr>\n",
       "      <th>2</th>\n",
       "      <td>2014000003</td>\n",
       "      <td>LOGGERS WAY btwn KINGDON MINE RD &amp; GALETTA SID...</td>\n",
       "      <td>2014-06-20</td>\n",
       "      <td>23:15:00</td>\n",
       "      <td>01 - Clear</td>\n",
       "      <td>01 - Dry</td>\n",
       "      <td>10 - No control</td>\n",
       "      <td>01 - Non intersection</td>\n",
       "      <td>07 - Dark</td>\n",
       "      <td>01 - Fatal injury</td>\n",
       "      <td>07 - SMV other</td>\n",
       "      <td>-76.247045</td>\n",
       "      <td>45.438627</td>\n",
       "      <td>2014</td>\n",
       "      <td>6</td>\n",
       "      <td>T5_Fri</td>\n",
       "    </tr>\n",
       "    <tr>\n",
       "      <th>3</th>\n",
       "      <td>2014000004</td>\n",
       "      <td>MONTREAL RD @ BATHGATE DR/BURMA RD</td>\n",
       "      <td>2014-07-29</td>\n",
       "      <td>16:31:00</td>\n",
       "      <td>01 - Clear</td>\n",
       "      <td>01 - Dry</td>\n",
       "      <td>01 - Traffic signal</td>\n",
       "      <td>03 - At intersection</td>\n",
       "      <td>01 - Daylight</td>\n",
       "      <td>01 - Fatal injury</td>\n",
       "      <td>05 - Turning movement</td>\n",
       "      <td>-75.625271</td>\n",
       "      <td>45.447248</td>\n",
       "      <td>2014</td>\n",
       "      <td>7</td>\n",
       "      <td>T2_Tue</td>\n",
       "    </tr>\n",
       "    <tr>\n",
       "      <th>4</th>\n",
       "      <td>2014000005</td>\n",
       "      <td>RICHMOND RD btwn FALLOWFIELD RD &amp; RUSHMORE RD</td>\n",
       "      <td>2014-08-05</td>\n",
       "      <td>20:05:00</td>\n",
       "      <td>01 - Clear</td>\n",
       "      <td>01 - Dry</td>\n",
       "      <td>10 - No control</td>\n",
       "      <td>01 - Non intersection</td>\n",
       "      <td>05 - Dusk</td>\n",
       "      <td>01 - Fatal injury</td>\n",
       "      <td>07 - SMV other</td>\n",
       "      <td>-75.820252</td>\n",
       "      <td>45.251073</td>\n",
       "      <td>2014</td>\n",
       "      <td>8</td>\n",
       "      <td>T2_Tue</td>\n",
       "    </tr>\n",
       "    <tr>\n",
       "      <th>5</th>\n",
       "      <td>2014000006</td>\n",
       "      <td>PARKDALE AVE btwn RUSKIN ST &amp; INGLEWOOD PL</td>\n",
       "      <td>2014-04-19</td>\n",
       "      <td>10:22:00</td>\n",
       "      <td>01 - Clear</td>\n",
       "      <td>01 - Dry</td>\n",
       "      <td>10 - No control</td>\n",
       "      <td>01 - Non intersection</td>\n",
       "      <td>01 - Daylight</td>\n",
       "      <td>01 - Fatal injury</td>\n",
       "      <td>06 - SMV unattended vehicle</td>\n",
       "      <td>-75.724021</td>\n",
       "      <td>45.392357</td>\n",
       "      <td>2014</td>\n",
       "      <td>4</td>\n",
       "      <td>T6_Sat</td>\n",
       "    </tr>\n",
       "    <tr>\n",
       "      <th>6</th>\n",
       "      <td>2014000007</td>\n",
       "      <td>CARLING AVE/STATION RD @ MARCH RD</td>\n",
       "      <td>2014-07-27</td>\n",
       "      <td>13:10:00</td>\n",
       "      <td>01 - Clear</td>\n",
       "      <td>01 - Dry</td>\n",
       "      <td>01 - Traffic signal</td>\n",
       "      <td>02 - Intersection related</td>\n",
       "      <td>01 - Daylight</td>\n",
       "      <td>01 - Fatal injury</td>\n",
       "      <td>99 - Other</td>\n",
       "      <td>-75.911687</td>\n",
       "      <td>45.338652</td>\n",
       "      <td>2014</td>\n",
       "      <td>7</td>\n",
       "      <td>T7_Sun</td>\n",
       "    </tr>\n",
       "    <tr>\n",
       "      <th>7</th>\n",
       "      <td>2014000008</td>\n",
       "      <td>CATHERINE ST @ KENT ST</td>\n",
       "      <td>2014-08-12</td>\n",
       "      <td>22:18:00</td>\n",
       "      <td>02 - Rain</td>\n",
       "      <td>02 - Wet</td>\n",
       "      <td>01 - Traffic signal</td>\n",
       "      <td>03 - At intersection</td>\n",
       "      <td>07 - Dark</td>\n",
       "      <td>01 - Fatal injury</td>\n",
       "      <td>07 - SMV other</td>\n",
       "      <td>-75.693767</td>\n",
       "      <td>45.408797</td>\n",
       "      <td>2014</td>\n",
       "      <td>8</td>\n",
       "      <td>T2_Tue</td>\n",
       "    </tr>\n",
       "    <tr>\n",
       "      <th>8</th>\n",
       "      <td>2014000009</td>\n",
       "      <td>DOYLE RD @ RIVER RD</td>\n",
       "      <td>2014-09-06</td>\n",
       "      <td>10:58:00</td>\n",
       "      <td>02 - Rain</td>\n",
       "      <td>02 - Wet</td>\n",
       "      <td>02 - Stop sign</td>\n",
       "      <td>02 - Intersection related</td>\n",
       "      <td>01 - Daylight</td>\n",
       "      <td>01 - Fatal injury</td>\n",
       "      <td>04 - Sideswipe</td>\n",
       "      <td>-75.622802</td>\n",
       "      <td>45.171309</td>\n",
       "      <td>2014</td>\n",
       "      <td>9</td>\n",
       "      <td>T6_Sat</td>\n",
       "    </tr>\n",
       "    <tr>\n",
       "      <th>9</th>\n",
       "      <td>2014000010</td>\n",
       "      <td>KATIMAVIK RD btwn PEARY WAY &amp; CHIMO DR</td>\n",
       "      <td>2014-04-22</td>\n",
       "      <td>16:17:00</td>\n",
       "      <td>01 - Clear</td>\n",
       "      <td>01 - Dry</td>\n",
       "      <td>10 - No control</td>\n",
       "      <td>01 - Non intersection</td>\n",
       "      <td>01 - Daylight</td>\n",
       "      <td>01 - Fatal injury</td>\n",
       "      <td>07 - SMV other</td>\n",
       "      <td>-75.886024</td>\n",
       "      <td>45.314923</td>\n",
       "      <td>2014</td>\n",
       "      <td>4</td>\n",
       "      <td>T2_Tue</td>\n",
       "    </tr>\n",
       "    <tr>\n",
       "      <th>...</th>\n",
       "      <td>...</td>\n",
       "      <td>...</td>\n",
       "      <td>...</td>\n",
       "      <td>...</td>\n",
       "      <td>...</td>\n",
       "      <td>...</td>\n",
       "      <td>...</td>\n",
       "      <td>...</td>\n",
       "      <td>...</td>\n",
       "      <td>...</td>\n",
       "      <td>...</td>\n",
       "      <td>...</td>\n",
       "      <td>...</td>\n",
       "      <td>...</td>\n",
       "      <td>...</td>\n",
       "      <td>...</td>\n",
       "    </tr>\n",
       "    <tr>\n",
       "      <th>58328</th>\n",
       "      <td>2017014385</td>\n",
       "      <td>YORK ST EB btwn TO BE DETERMINED &amp; CUMBERLAND ST</td>\n",
       "      <td>2017-03-15</td>\n",
       "      <td>10:29:00</td>\n",
       "      <td>03 - Snow</td>\n",
       "      <td>03 - Loose snow</td>\n",
       "      <td>10 - No control</td>\n",
       "      <td>04 - At/near private drive</td>\n",
       "      <td>01 - Daylight</td>\n",
       "      <td>03 - P.D. only</td>\n",
       "      <td>06 - SMV unattended vehicle</td>\n",
       "      <td>-75.689540</td>\n",
       "      <td>45.429505</td>\n",
       "      <td>2017</td>\n",
       "      <td>3</td>\n",
       "      <td>T3_Wed</td>\n",
       "    </tr>\n",
       "    <tr>\n",
       "      <th>58329</th>\n",
       "      <td>2017014386</td>\n",
       "      <td>YORK ST WB btwn BYWARD MARKE SQ &amp; SUSSEX DR</td>\n",
       "      <td>2017-06-25</td>\n",
       "      <td>02:04:00</td>\n",
       "      <td>01 - Clear</td>\n",
       "      <td>01 - Dry</td>\n",
       "      <td>10 - No control</td>\n",
       "      <td>01 - Non intersection</td>\n",
       "      <td>07 - Dark</td>\n",
       "      <td>02 - Non-fatal injury</td>\n",
       "      <td>07 - SMV other</td>\n",
       "      <td>-75.694544</td>\n",
       "      <td>45.427604</td>\n",
       "      <td>2017</td>\n",
       "      <td>6</td>\n",
       "      <td>T7_Sun</td>\n",
       "    </tr>\n",
       "    <tr>\n",
       "      <th>58330</th>\n",
       "      <td>2017014387</td>\n",
       "      <td>YORK ST WB btwn BYWARD MARKE SQ &amp; SUSSEX DR</td>\n",
       "      <td>2017-07-17</td>\n",
       "      <td>02:32:00</td>\n",
       "      <td>01 - Clear</td>\n",
       "      <td>01 - Dry</td>\n",
       "      <td>10 - No control</td>\n",
       "      <td>01 - Non intersection</td>\n",
       "      <td>07 - Dark</td>\n",
       "      <td>03 - P.D. only</td>\n",
       "      <td>07 - SMV other</td>\n",
       "      <td>-75.694788</td>\n",
       "      <td>45.427531</td>\n",
       "      <td>2017</td>\n",
       "      <td>7</td>\n",
       "      <td>T1_Mon</td>\n",
       "    </tr>\n",
       "    <tr>\n",
       "      <th>58331</th>\n",
       "      <td>2017014388</td>\n",
       "      <td>YORK ST WB btwn BYWARD MARKE SQ &amp; SUSSEX DR</td>\n",
       "      <td>2017-11-17</td>\n",
       "      <td>02:33:00</td>\n",
       "      <td>01 - Clear</td>\n",
       "      <td>01 - Dry</td>\n",
       "      <td>10 - No control</td>\n",
       "      <td>04 - At/near private drive</td>\n",
       "      <td>07 - Dark</td>\n",
       "      <td>02 - Non-fatal injury</td>\n",
       "      <td>07 - SMV other</td>\n",
       "      <td>-75.693855</td>\n",
       "      <td>45.427908</td>\n",
       "      <td>2017</td>\n",
       "      <td>11</td>\n",
       "      <td>T5_Fri</td>\n",
       "    </tr>\n",
       "    <tr>\n",
       "      <th>58332</th>\n",
       "      <td>2017014389</td>\n",
       "      <td>YORK ST WB btwn BYWARD MARKE SQ &amp; SUSSEX DR</td>\n",
       "      <td>2017-02-03</td>\n",
       "      <td>20:47:00</td>\n",
       "      <td>01 - Clear</td>\n",
       "      <td>01 - Dry</td>\n",
       "      <td>10 - No control</td>\n",
       "      <td>01 - Non intersection</td>\n",
       "      <td>07 - Dark</td>\n",
       "      <td>03 - P.D. only</td>\n",
       "      <td>02 - Angle</td>\n",
       "      <td>-75.693840</td>\n",
       "      <td>45.427903</td>\n",
       "      <td>2017</td>\n",
       "      <td>2</td>\n",
       "      <td>T5_Fri</td>\n",
       "    </tr>\n",
       "    <tr>\n",
       "      <th>58333</th>\n",
       "      <td>2017014390</td>\n",
       "      <td>YORK ST WB btwn BYWARD MARKE SQ &amp; SUSSEX DR</td>\n",
       "      <td>2017-03-25</td>\n",
       "      <td>13:11:00</td>\n",
       "      <td>01 - Clear</td>\n",
       "      <td>02 - Wet</td>\n",
       "      <td>10 - No control</td>\n",
       "      <td>04 - At/near private drive</td>\n",
       "      <td>01 - Daylight</td>\n",
       "      <td>03 - P.D. only</td>\n",
       "      <td>05 - Turning movement</td>\n",
       "      <td>-75.694409</td>\n",
       "      <td>45.427689</td>\n",
       "      <td>2017</td>\n",
       "      <td>3</td>\n",
       "      <td>T6_Sat</td>\n",
       "    </tr>\n",
       "    <tr>\n",
       "      <th>58334</th>\n",
       "      <td>2017014391</td>\n",
       "      <td>YORK ST WB btwn TO BE DETERMINED &amp; CUMBERLAND ST</td>\n",
       "      <td>2017-07-25</td>\n",
       "      <td>08:40:00</td>\n",
       "      <td>02 - Rain</td>\n",
       "      <td>02 - Wet</td>\n",
       "      <td>10 - No control</td>\n",
       "      <td>01 - Non intersection</td>\n",
       "      <td>01 - Daylight</td>\n",
       "      <td>03 - P.D. only</td>\n",
       "      <td>02 - Angle</td>\n",
       "      <td>-75.689545</td>\n",
       "      <td>45.429707</td>\n",
       "      <td>2017</td>\n",
       "      <td>7</td>\n",
       "      <td>T2_Tue</td>\n",
       "    </tr>\n",
       "    <tr>\n",
       "      <th>58335</th>\n",
       "      <td>2017014392</td>\n",
       "      <td>YORK ST WB btwn TO BE DETERMINED &amp; CUMBERLAND ST</td>\n",
       "      <td>2017-01-23</td>\n",
       "      <td>20:30:00</td>\n",
       "      <td>01 - Clear</td>\n",
       "      <td>01 - Dry</td>\n",
       "      <td>10 - No control</td>\n",
       "      <td>01 - Non intersection</td>\n",
       "      <td>07 - Dark</td>\n",
       "      <td>03 - P.D. only</td>\n",
       "      <td>06 - SMV unattended vehicle</td>\n",
       "      <td>-75.689421</td>\n",
       "      <td>45.429755</td>\n",
       "      <td>2017</td>\n",
       "      <td>1</td>\n",
       "      <td>T1_Mon</td>\n",
       "    </tr>\n",
       "    <tr>\n",
       "      <th>58336</th>\n",
       "      <td>2017014393</td>\n",
       "      <td>YORKS CORNERS RD btwn PANA RD &amp; VICTORIA ST</td>\n",
       "      <td>2017-07-18</td>\n",
       "      <td>18:03:00</td>\n",
       "      <td>01 - Clear</td>\n",
       "      <td>01 - Dry</td>\n",
       "      <td>10 - No control</td>\n",
       "      <td>01 - Non intersection</td>\n",
       "      <td>01 - Daylight</td>\n",
       "      <td>03 - P.D. only</td>\n",
       "      <td>07 - SMV other</td>\n",
       "      <td>-75.431838</td>\n",
       "      <td>45.258973</td>\n",
       "      <td>2017</td>\n",
       "      <td>7</td>\n",
       "      <td>T2_Tue</td>\n",
       "    </tr>\n",
       "    <tr>\n",
       "      <th>58337</th>\n",
       "      <td>2017014394</td>\n",
       "      <td>YORKS CORNERS RD btwn PARKWAY RD &amp; COOPER HILL RD</td>\n",
       "      <td>2017-03-23</td>\n",
       "      <td>16:21:00</td>\n",
       "      <td>01 - Clear</td>\n",
       "      <td>01 - Dry</td>\n",
       "      <td>10 - No control</td>\n",
       "      <td>01 - Non intersection</td>\n",
       "      <td>01 - Daylight</td>\n",
       "      <td>02 - Non-fatal injury</td>\n",
       "      <td>07 - SMV other</td>\n",
       "      <td>-75.453559</td>\n",
       "      <td>45.299801</td>\n",
       "      <td>2017</td>\n",
       "      <td>3</td>\n",
       "      <td>T4_Thu</td>\n",
       "    </tr>\n",
       "  </tbody>\n",
       "</table>\n",
       "<p>58338 rows × 16 columns</p>\n",
       "</div>"
      ],
      "text/plain": [
       "           Record                                           Location  \\\n",
       "0      2014000001                              RIDEAU ST @ WALLER ST   \n",
       "1      2014000002           HINES RD btwn INNOVATION DR & SOLANDT RD   \n",
       "2      2014000003  LOGGERS WAY btwn KINGDON MINE RD & GALETTA SID...   \n",
       "3      2014000004                 MONTREAL RD @ BATHGATE DR/BURMA RD   \n",
       "4      2014000005      RICHMOND RD btwn FALLOWFIELD RD & RUSHMORE RD   \n",
       "5      2014000006         PARKDALE AVE btwn RUSKIN ST & INGLEWOOD PL   \n",
       "6      2014000007                  CARLING AVE/STATION RD @ MARCH RD   \n",
       "7      2014000008                             CATHERINE ST @ KENT ST   \n",
       "8      2014000009                                DOYLE RD @ RIVER RD   \n",
       "9      2014000010             KATIMAVIK RD btwn PEARY WAY & CHIMO DR   \n",
       "...           ...                                                ...   \n",
       "58328  2017014385   YORK ST EB btwn TO BE DETERMINED & CUMBERLAND ST   \n",
       "58329  2017014386        YORK ST WB btwn BYWARD MARKE SQ & SUSSEX DR   \n",
       "58330  2017014387        YORK ST WB btwn BYWARD MARKE SQ & SUSSEX DR   \n",
       "58331  2017014388        YORK ST WB btwn BYWARD MARKE SQ & SUSSEX DR   \n",
       "58332  2017014389        YORK ST WB btwn BYWARD MARKE SQ & SUSSEX DR   \n",
       "58333  2017014390        YORK ST WB btwn BYWARD MARKE SQ & SUSSEX DR   \n",
       "58334  2017014391   YORK ST WB btwn TO BE DETERMINED & CUMBERLAND ST   \n",
       "58335  2017014392   YORK ST WB btwn TO BE DETERMINED & CUMBERLAND ST   \n",
       "58336  2017014393        YORKS CORNERS RD btwn PANA RD & VICTORIA ST   \n",
       "58337  2017014394  YORKS CORNERS RD btwn PARKWAY RD & COOPER HILL RD   \n",
       "\n",
       "            Date      Time Environment     Road_Surface      Traffic_Control  \\\n",
       "0     2014-02-21  06:07:00   02 - Rain         02 - Wet  01 - Traffic signal   \n",
       "1     2014-08-02  13:55:00  01 - Clear         01 - Dry      10 - No control   \n",
       "2     2014-06-20  23:15:00  01 - Clear         01 - Dry      10 - No control   \n",
       "3     2014-07-29  16:31:00  01 - Clear         01 - Dry  01 - Traffic signal   \n",
       "4     2014-08-05  20:05:00  01 - Clear         01 - Dry      10 - No control   \n",
       "5     2014-04-19  10:22:00  01 - Clear         01 - Dry      10 - No control   \n",
       "6     2014-07-27  13:10:00  01 - Clear         01 - Dry  01 - Traffic signal   \n",
       "7     2014-08-12  22:18:00   02 - Rain         02 - Wet  01 - Traffic signal   \n",
       "8     2014-09-06  10:58:00   02 - Rain         02 - Wet       02 - Stop sign   \n",
       "9     2014-04-22  16:17:00  01 - Clear         01 - Dry      10 - No control   \n",
       "...          ...       ...         ...              ...                  ...   \n",
       "58328 2017-03-15  10:29:00   03 - Snow  03 - Loose snow      10 - No control   \n",
       "58329 2017-06-25  02:04:00  01 - Clear         01 - Dry      10 - No control   \n",
       "58330 2017-07-17  02:32:00  01 - Clear         01 - Dry      10 - No control   \n",
       "58331 2017-11-17  02:33:00  01 - Clear         01 - Dry      10 - No control   \n",
       "58332 2017-02-03  20:47:00  01 - Clear         01 - Dry      10 - No control   \n",
       "58333 2017-03-25  13:11:00  01 - Clear         02 - Wet      10 - No control   \n",
       "58334 2017-07-25  08:40:00   02 - Rain         02 - Wet      10 - No control   \n",
       "58335 2017-01-23  20:30:00  01 - Clear         01 - Dry      10 - No control   \n",
       "58336 2017-07-18  18:03:00  01 - Clear         01 - Dry      10 - No control   \n",
       "58337 2017-03-23  16:21:00  01 - Clear         01 - Dry      10 - No control   \n",
       "\n",
       "               Collision_Location          Light Collision_Classification  \\\n",
       "0            03 - At intersection      07 - Dark        01 - Fatal injury   \n",
       "1      04 - At/near private drive  01 - Daylight        01 - Fatal injury   \n",
       "2           01 - Non intersection      07 - Dark        01 - Fatal injury   \n",
       "3            03 - At intersection  01 - Daylight        01 - Fatal injury   \n",
       "4           01 - Non intersection      05 - Dusk        01 - Fatal injury   \n",
       "5           01 - Non intersection  01 - Daylight        01 - Fatal injury   \n",
       "6       02 - Intersection related  01 - Daylight        01 - Fatal injury   \n",
       "7            03 - At intersection      07 - Dark        01 - Fatal injury   \n",
       "8       02 - Intersection related  01 - Daylight        01 - Fatal injury   \n",
       "9           01 - Non intersection  01 - Daylight        01 - Fatal injury   \n",
       "...                           ...            ...                      ...   \n",
       "58328  04 - At/near private drive  01 - Daylight           03 - P.D. only   \n",
       "58329       01 - Non intersection      07 - Dark    02 - Non-fatal injury   \n",
       "58330       01 - Non intersection      07 - Dark           03 - P.D. only   \n",
       "58331  04 - At/near private drive      07 - Dark    02 - Non-fatal injury   \n",
       "58332       01 - Non intersection      07 - Dark           03 - P.D. only   \n",
       "58333  04 - At/near private drive  01 - Daylight           03 - P.D. only   \n",
       "58334       01 - Non intersection  01 - Daylight           03 - P.D. only   \n",
       "58335       01 - Non intersection      07 - Dark           03 - P.D. only   \n",
       "58336       01 - Non intersection  01 - Daylight           03 - P.D. only   \n",
       "58337       01 - Non intersection  01 - Daylight    02 - Non-fatal injury   \n",
       "\n",
       "                       Impact_type  longitude   latitude  Year  Month  \\\n",
       "0                   07 - SMV other -75.688726  45.427533  2014      2   \n",
       "1                       02 - Angle -75.921033  45.343152  2014      8   \n",
       "2                   07 - SMV other -76.247045  45.438627  2014      6   \n",
       "3            05 - Turning movement -75.625271  45.447248  2014      7   \n",
       "4                   07 - SMV other -75.820252  45.251073  2014      8   \n",
       "5      06 - SMV unattended vehicle -75.724021  45.392357  2014      4   \n",
       "6                       99 - Other -75.911687  45.338652  2014      7   \n",
       "7                   07 - SMV other -75.693767  45.408797  2014      8   \n",
       "8                   04 - Sideswipe -75.622802  45.171309  2014      9   \n",
       "9                   07 - SMV other -75.886024  45.314923  2014      4   \n",
       "...                            ...        ...        ...   ...    ...   \n",
       "58328  06 - SMV unattended vehicle -75.689540  45.429505  2017      3   \n",
       "58329               07 - SMV other -75.694544  45.427604  2017      6   \n",
       "58330               07 - SMV other -75.694788  45.427531  2017      7   \n",
       "58331               07 - SMV other -75.693855  45.427908  2017     11   \n",
       "58332                   02 - Angle -75.693840  45.427903  2017      2   \n",
       "58333        05 - Turning movement -75.694409  45.427689  2017      3   \n",
       "58334                   02 - Angle -75.689545  45.429707  2017      7   \n",
       "58335  06 - SMV unattended vehicle -75.689421  45.429755  2017      1   \n",
       "58336               07 - SMV other -75.431838  45.258973  2017      7   \n",
       "58337               07 - SMV other -75.453559  45.299801  2017      3   \n",
       "\n",
       "      Day_Of_Week  \n",
       "0          T5_Fri  \n",
       "1          T6_Sat  \n",
       "2          T5_Fri  \n",
       "3          T2_Tue  \n",
       "4          T2_Tue  \n",
       "5          T6_Sat  \n",
       "6          T7_Sun  \n",
       "7          T2_Tue  \n",
       "8          T6_Sat  \n",
       "9          T2_Tue  \n",
       "...           ...  \n",
       "58328      T3_Wed  \n",
       "58329      T7_Sun  \n",
       "58330      T1_Mon  \n",
       "58331      T5_Fri  \n",
       "58332      T5_Fri  \n",
       "58333      T6_Sat  \n",
       "58334      T2_Tue  \n",
       "58335      T1_Mon  \n",
       "58336      T2_Tue  \n",
       "58337      T4_Thu  \n",
       "\n",
       "[58338 rows x 16 columns]"
      ]
     },
     "execution_count": 2,
     "metadata": {},
     "output_type": "execute_result"
    }
   ],
   "source": [
    "df_csv1417 = pd.DataFrame()\n",
    "\n",
    "for y in range(2014, 2018):\n",
    "    fname = \"collision%d.csv\" % (y)\n",
    "    tmp_df = pd.read_csv(fname)\n",
    "    tmp_df[\"Year\"] = y\n",
    "    df_csv1417 = df_csv1417.append(tmp_df, sort = False)\n",
    "\n",
    "df_csv1417.index = range(df_csv1417.shape[0])\n",
    "df_csv1417[\"Date\"] = pd.to_datetime(df_csv1417[\"Date\"])\n",
    "\n",
    "df_csv1417[\"Month\"] = df_csv1417[\"Date\"].apply(lambda x: x.month)\n",
    "\n",
    "def DayOfWeek(date):\n",
    "    dw = date.weekday()\n",
    "    rst = {\n",
    "        0: 'T1_Mon',\n",
    "        1: 'T2_Tue',\n",
    "        2: 'T3_Wed',\n",
    "        3: 'T4_Thu',\n",
    "        4: 'T5_Fri',\n",
    "        5: 'T6_Sat',\n",
    "        6: 'T7_Sun'\n",
    "    }[dw]\n",
    "    return rst\n",
    "\n",
    "df_csv1417[\"Day_Of_Week\"] = df_csv1417[\"Date\"].apply(lambda x: DayOfWeek(x))\n",
    "\n",
    "df_csv1417[\"Environment\"] = df_csv1417[\"Environment\"].astype(\"category\")\n",
    "df_csv1417[\"Road_Surface\"] = df_csv1417[\"Road_Surface\"].astype(\"category\")\n",
    "df_csv1417[\"Traffic_Control\"] = df_csv1417[\"Traffic_Control\"].astype(\"category\")\n",
    "df_csv1417[\"Collision_Location\"] = df_csv1417[\"Collision_Location\"].astype(\"category\")\n",
    "df_csv1417[\"Light\"] = df_csv1417[\"Light\"].astype(\"category\")\n",
    "df_csv1417[\"Collision_Classification\"] = df_csv1417[\"Collision_Classification\"].astype(\"category\")\n",
    "df_csv1417[\"Impact_type\"] = df_csv1417[\"Impact_type\"].astype(\"category\")\n",
    "\n",
    "df_csv1417"
   ]
  },
  {
   "cell_type": "markdown",
   "metadata": {},
   "source": [
    "### 1.2 append collision table with daily weather"
   ]
  },
  {
   "cell_type": "code",
   "execution_count": 3,
   "metadata": {},
   "outputs": [
    {
     "data": {
      "text/html": [
       "<div>\n",
       "<style scoped>\n",
       "    .dataframe tbody tr th:only-of-type {\n",
       "        vertical-align: middle;\n",
       "    }\n",
       "\n",
       "    .dataframe tbody tr th {\n",
       "        vertical-align: top;\n",
       "    }\n",
       "\n",
       "    .dataframe thead th {\n",
       "        text-align: right;\n",
       "    }\n",
       "</style>\n",
       "<table border=\"1\" class=\"dataframe\">\n",
       "  <thead>\n",
       "    <tr style=\"text-align: right;\">\n",
       "      <th></th>\n",
       "      <th>Date</th>\n",
       "      <th>Max Temp (°C)</th>\n",
       "      <th>Min Temp (°C)</th>\n",
       "      <th>Mean Temp (°C)</th>\n",
       "      <th>Total Rain (mm)</th>\n",
       "      <th>Total Snow (cm)</th>\n",
       "      <th>Total Precip (mm)</th>\n",
       "      <th>Snow on Grnd (cm)</th>\n",
       "      <th>Number of Collisions</th>\n",
       "      <th>Year</th>\n",
       "      <th>Month</th>\n",
       "      <th>Day in month</th>\n",
       "    </tr>\n",
       "  </thead>\n",
       "  <tbody>\n",
       "    <tr>\n",
       "      <th>0</th>\n",
       "      <td>2014-01-01</td>\n",
       "      <td>-19.2</td>\n",
       "      <td>-23.0</td>\n",
       "      <td>-21.1</td>\n",
       "      <td>0.0</td>\n",
       "      <td>0.0</td>\n",
       "      <td>0.0</td>\n",
       "      <td>30</td>\n",
       "      <td>31</td>\n",
       "      <td>2014</td>\n",
       "      <td>1</td>\n",
       "      <td>1</td>\n",
       "    </tr>\n",
       "    <tr>\n",
       "      <th>1</th>\n",
       "      <td>2014-01-02</td>\n",
       "      <td>-20.8</td>\n",
       "      <td>-27.1</td>\n",
       "      <td>-24.0</td>\n",
       "      <td>0.0</td>\n",
       "      <td>0.0</td>\n",
       "      <td>0.0</td>\n",
       "      <td>29</td>\n",
       "      <td>74</td>\n",
       "      <td>2014</td>\n",
       "      <td>1</td>\n",
       "      <td>2</td>\n",
       "    </tr>\n",
       "    <tr>\n",
       "      <th>2</th>\n",
       "      <td>2014-01-03</td>\n",
       "      <td>-21.0</td>\n",
       "      <td>-28.1</td>\n",
       "      <td>-24.6</td>\n",
       "      <td>0.0</td>\n",
       "      <td>0.3</td>\n",
       "      <td>0.0</td>\n",
       "      <td>29</td>\n",
       "      <td>151</td>\n",
       "      <td>2014</td>\n",
       "      <td>1</td>\n",
       "      <td>3</td>\n",
       "    </tr>\n",
       "    <tr>\n",
       "      <th>3</th>\n",
       "      <td>2014-01-04</td>\n",
       "      <td>-8.5</td>\n",
       "      <td>-27.5</td>\n",
       "      <td>-18.0</td>\n",
       "      <td>0.0</td>\n",
       "      <td>7.5</td>\n",
       "      <td>2.6</td>\n",
       "      <td>29</td>\n",
       "      <td>51</td>\n",
       "      <td>2014</td>\n",
       "      <td>1</td>\n",
       "      <td>4</td>\n",
       "    </tr>\n",
       "    <tr>\n",
       "      <th>4</th>\n",
       "      <td>2014-01-05</td>\n",
       "      <td>5.8</td>\n",
       "      <td>-12.0</td>\n",
       "      <td>-3.1</td>\n",
       "      <td>13.2</td>\n",
       "      <td>5.5</td>\n",
       "      <td>18.6</td>\n",
       "      <td>36</td>\n",
       "      <td>52</td>\n",
       "      <td>2014</td>\n",
       "      <td>1</td>\n",
       "      <td>5</td>\n",
       "    </tr>\n",
       "    <tr>\n",
       "      <th>5</th>\n",
       "      <td>2014-01-06</td>\n",
       "      <td>5.8</td>\n",
       "      <td>-8.2</td>\n",
       "      <td>-1.2</td>\n",
       "      <td>0.0</td>\n",
       "      <td>0.0</td>\n",
       "      <td>0.0</td>\n",
       "      <td>31</td>\n",
       "      <td>36</td>\n",
       "      <td>2014</td>\n",
       "      <td>1</td>\n",
       "      <td>6</td>\n",
       "    </tr>\n",
       "    <tr>\n",
       "      <th>6</th>\n",
       "      <td>2014-01-07</td>\n",
       "      <td>-14.0</td>\n",
       "      <td>-17.9</td>\n",
       "      <td>-16.0</td>\n",
       "      <td>0.0</td>\n",
       "      <td>0.0</td>\n",
       "      <td>0.0</td>\n",
       "      <td>29</td>\n",
       "      <td>69</td>\n",
       "      <td>2014</td>\n",
       "      <td>1</td>\n",
       "      <td>7</td>\n",
       "    </tr>\n",
       "    <tr>\n",
       "      <th>7</th>\n",
       "      <td>2014-01-08</td>\n",
       "      <td>-9.5</td>\n",
       "      <td>-16.4</td>\n",
       "      <td>-13.0</td>\n",
       "      <td>0.0</td>\n",
       "      <td>0.0</td>\n",
       "      <td>0.0</td>\n",
       "      <td>29</td>\n",
       "      <td>71</td>\n",
       "      <td>2014</td>\n",
       "      <td>1</td>\n",
       "      <td>8</td>\n",
       "    </tr>\n",
       "    <tr>\n",
       "      <th>8</th>\n",
       "      <td>2014-01-09</td>\n",
       "      <td>-7.6</td>\n",
       "      <td>-14.7</td>\n",
       "      <td>-11.2</td>\n",
       "      <td>0.0</td>\n",
       "      <td>0.5</td>\n",
       "      <td>0.2</td>\n",
       "      <td>29</td>\n",
       "      <td>74</td>\n",
       "      <td>2014</td>\n",
       "      <td>1</td>\n",
       "      <td>9</td>\n",
       "    </tr>\n",
       "    <tr>\n",
       "      <th>9</th>\n",
       "      <td>2014-01-10</td>\n",
       "      <td>-1.5</td>\n",
       "      <td>-15.1</td>\n",
       "      <td>-8.3</td>\n",
       "      <td>0.0</td>\n",
       "      <td>0.0</td>\n",
       "      <td>0.0</td>\n",
       "      <td>29</td>\n",
       "      <td>36</td>\n",
       "      <td>2014</td>\n",
       "      <td>1</td>\n",
       "      <td>10</td>\n",
       "    </tr>\n",
       "    <tr>\n",
       "      <th>...</th>\n",
       "      <td>...</td>\n",
       "      <td>...</td>\n",
       "      <td>...</td>\n",
       "      <td>...</td>\n",
       "      <td>...</td>\n",
       "      <td>...</td>\n",
       "      <td>...</td>\n",
       "      <td>...</td>\n",
       "      <td>...</td>\n",
       "      <td>...</td>\n",
       "      <td>...</td>\n",
       "      <td>...</td>\n",
       "    </tr>\n",
       "    <tr>\n",
       "      <th>1451</th>\n",
       "      <td>2017-12-22</td>\n",
       "      <td>-8.5</td>\n",
       "      <td>-16.0</td>\n",
       "      <td>-12.3</td>\n",
       "      <td>0.0</td>\n",
       "      <td>0.0</td>\n",
       "      <td>0.0</td>\n",
       "      <td>14</td>\n",
       "      <td>57</td>\n",
       "      <td>2017</td>\n",
       "      <td>12</td>\n",
       "      <td>22</td>\n",
       "    </tr>\n",
       "    <tr>\n",
       "      <th>1452</th>\n",
       "      <td>2017-12-23</td>\n",
       "      <td>-6.5</td>\n",
       "      <td>-12.5</td>\n",
       "      <td>-9.5</td>\n",
       "      <td>0.0</td>\n",
       "      <td>4.0</td>\n",
       "      <td>3.8</td>\n",
       "      <td>13</td>\n",
       "      <td>75</td>\n",
       "      <td>2017</td>\n",
       "      <td>12</td>\n",
       "      <td>23</td>\n",
       "    </tr>\n",
       "    <tr>\n",
       "      <th>1453</th>\n",
       "      <td>2017-12-24</td>\n",
       "      <td>-6.0</td>\n",
       "      <td>-12.0</td>\n",
       "      <td>-9.0</td>\n",
       "      <td>0.0</td>\n",
       "      <td>4.0</td>\n",
       "      <td>4.0</td>\n",
       "      <td>18</td>\n",
       "      <td>28</td>\n",
       "      <td>2017</td>\n",
       "      <td>12</td>\n",
       "      <td>24</td>\n",
       "    </tr>\n",
       "    <tr>\n",
       "      <th>1454</th>\n",
       "      <td>2017-12-25</td>\n",
       "      <td>-5.5</td>\n",
       "      <td>-9.0</td>\n",
       "      <td>-7.3</td>\n",
       "      <td>0.0</td>\n",
       "      <td>1.0</td>\n",
       "      <td>0.4</td>\n",
       "      <td>22</td>\n",
       "      <td>31</td>\n",
       "      <td>2017</td>\n",
       "      <td>12</td>\n",
       "      <td>25</td>\n",
       "    </tr>\n",
       "    <tr>\n",
       "      <th>1455</th>\n",
       "      <td>2017-12-26</td>\n",
       "      <td>-13.0</td>\n",
       "      <td>-16.0</td>\n",
       "      <td>-14.5</td>\n",
       "      <td>0.0</td>\n",
       "      <td>0.0</td>\n",
       "      <td>0.0</td>\n",
       "      <td>21</td>\n",
       "      <td>44</td>\n",
       "      <td>2017</td>\n",
       "      <td>12</td>\n",
       "      <td>26</td>\n",
       "    </tr>\n",
       "    <tr>\n",
       "      <th>1456</th>\n",
       "      <td>2017-12-27</td>\n",
       "      <td>-20.0</td>\n",
       "      <td>-26.1</td>\n",
       "      <td>-23.1</td>\n",
       "      <td>0.0</td>\n",
       "      <td>0.0</td>\n",
       "      <td>0.0</td>\n",
       "      <td>20</td>\n",
       "      <td>62</td>\n",
       "      <td>2017</td>\n",
       "      <td>12</td>\n",
       "      <td>27</td>\n",
       "    </tr>\n",
       "    <tr>\n",
       "      <th>1457</th>\n",
       "      <td>2017-12-28</td>\n",
       "      <td>-20.3</td>\n",
       "      <td>-27.1</td>\n",
       "      <td>-23.7</td>\n",
       "      <td>0.0</td>\n",
       "      <td>0.0</td>\n",
       "      <td>0.0</td>\n",
       "      <td>20</td>\n",
       "      <td>73</td>\n",
       "      <td>2017</td>\n",
       "      <td>12</td>\n",
       "      <td>28</td>\n",
       "    </tr>\n",
       "    <tr>\n",
       "      <th>1458</th>\n",
       "      <td>2017-12-29</td>\n",
       "      <td>-17.5</td>\n",
       "      <td>-26.2</td>\n",
       "      <td>-21.9</td>\n",
       "      <td>0.0</td>\n",
       "      <td>0.0</td>\n",
       "      <td>0.0</td>\n",
       "      <td>20</td>\n",
       "      <td>63</td>\n",
       "      <td>2017</td>\n",
       "      <td>12</td>\n",
       "      <td>29</td>\n",
       "    </tr>\n",
       "    <tr>\n",
       "      <th>1459</th>\n",
       "      <td>2017-12-30</td>\n",
       "      <td>-16.0</td>\n",
       "      <td>-27.0</td>\n",
       "      <td>-21.5</td>\n",
       "      <td>0.0</td>\n",
       "      <td>1.0</td>\n",
       "      <td>0.4</td>\n",
       "      <td>19</td>\n",
       "      <td>47</td>\n",
       "      <td>2017</td>\n",
       "      <td>12</td>\n",
       "      <td>30</td>\n",
       "    </tr>\n",
       "    <tr>\n",
       "      <th>1460</th>\n",
       "      <td>2017-12-31</td>\n",
       "      <td>-19.5</td>\n",
       "      <td>-24.5</td>\n",
       "      <td>-22.0</td>\n",
       "      <td>0.0</td>\n",
       "      <td>0.0</td>\n",
       "      <td>0.0</td>\n",
       "      <td>20</td>\n",
       "      <td>43</td>\n",
       "      <td>2017</td>\n",
       "      <td>12</td>\n",
       "      <td>31</td>\n",
       "    </tr>\n",
       "  </tbody>\n",
       "</table>\n",
       "<p>1461 rows × 12 columns</p>\n",
       "</div>"
      ],
      "text/plain": [
       "           Date  Max Temp (°C)  Min Temp (°C)  Mean Temp (°C)  \\\n",
       "0    2014-01-01          -19.2          -23.0           -21.1   \n",
       "1    2014-01-02          -20.8          -27.1           -24.0   \n",
       "2    2014-01-03          -21.0          -28.1           -24.6   \n",
       "3    2014-01-04           -8.5          -27.5           -18.0   \n",
       "4    2014-01-05            5.8          -12.0            -3.1   \n",
       "5    2014-01-06            5.8           -8.2            -1.2   \n",
       "6    2014-01-07          -14.0          -17.9           -16.0   \n",
       "7    2014-01-08           -9.5          -16.4           -13.0   \n",
       "8    2014-01-09           -7.6          -14.7           -11.2   \n",
       "9    2014-01-10           -1.5          -15.1            -8.3   \n",
       "...         ...            ...            ...             ...   \n",
       "1451 2017-12-22           -8.5          -16.0           -12.3   \n",
       "1452 2017-12-23           -6.5          -12.5            -9.5   \n",
       "1453 2017-12-24           -6.0          -12.0            -9.0   \n",
       "1454 2017-12-25           -5.5           -9.0            -7.3   \n",
       "1455 2017-12-26          -13.0          -16.0           -14.5   \n",
       "1456 2017-12-27          -20.0          -26.1           -23.1   \n",
       "1457 2017-12-28          -20.3          -27.1           -23.7   \n",
       "1458 2017-12-29          -17.5          -26.2           -21.9   \n",
       "1459 2017-12-30          -16.0          -27.0           -21.5   \n",
       "1460 2017-12-31          -19.5          -24.5           -22.0   \n",
       "\n",
       "      Total Rain (mm)  Total Snow (cm)  Total Precip (mm)  Snow on Grnd (cm)  \\\n",
       "0                 0.0              0.0                0.0                 30   \n",
       "1                 0.0              0.0                0.0                 29   \n",
       "2                 0.0              0.3                0.0                 29   \n",
       "3                 0.0              7.5                2.6                 29   \n",
       "4                13.2              5.5               18.6                 36   \n",
       "5                 0.0              0.0                0.0                 31   \n",
       "6                 0.0              0.0                0.0                 29   \n",
       "7                 0.0              0.0                0.0                 29   \n",
       "8                 0.0              0.5                0.2                 29   \n",
       "9                 0.0              0.0                0.0                 29   \n",
       "...               ...              ...                ...                ...   \n",
       "1451              0.0              0.0                0.0                 14   \n",
       "1452              0.0              4.0                3.8                 13   \n",
       "1453              0.0              4.0                4.0                 18   \n",
       "1454              0.0              1.0                0.4                 22   \n",
       "1455              0.0              0.0                0.0                 21   \n",
       "1456              0.0              0.0                0.0                 20   \n",
       "1457              0.0              0.0                0.0                 20   \n",
       "1458              0.0              0.0                0.0                 20   \n",
       "1459              0.0              1.0                0.4                 19   \n",
       "1460              0.0              0.0                0.0                 20   \n",
       "\n",
       "      Number of Collisions  Year  Month  Day in month  \n",
       "0                       31  2014      1             1  \n",
       "1                       74  2014      1             2  \n",
       "2                      151  2014      1             3  \n",
       "3                       51  2014      1             4  \n",
       "4                       52  2014      1             5  \n",
       "5                       36  2014      1             6  \n",
       "6                       69  2014      1             7  \n",
       "7                       71  2014      1             8  \n",
       "8                       74  2014      1             9  \n",
       "9                       36  2014      1            10  \n",
       "...                    ...   ...    ...           ...  \n",
       "1451                    57  2017     12            22  \n",
       "1452                    75  2017     12            23  \n",
       "1453                    28  2017     12            24  \n",
       "1454                    31  2017     12            25  \n",
       "1455                    44  2017     12            26  \n",
       "1456                    62  2017     12            27  \n",
       "1457                    73  2017     12            28  \n",
       "1458                    63  2017     12            29  \n",
       "1459                    47  2017     12            30  \n",
       "1460                    43  2017     12            31  \n",
       "\n",
       "[1461 rows x 12 columns]"
      ]
     },
     "execution_count": 3,
     "metadata": {},
     "output_type": "execute_result"
    }
   ],
   "source": [
    "wt1417 = pd.read_csv(\"weather1417.csv\")\n",
    "\n",
    "casesByDay = df_csv1417.groupby(['Date']).size().tolist()\n",
    "wt1417[\"Number of Collisions\"] = casesByDay\n",
    "\n",
    "wt1417[\"Date\"] = pd.to_datetime(wt1417[\"Date\"])\n",
    "\n",
    "wt1417[\"Year\"] = wt1417[\"Date\"].apply(lambda x: x.year)\n",
    "wt1417[\"Month\"] = wt1417[\"Date\"].apply(lambda x: x.month)\n",
    "wt1417[\"Day in month\"] = wt1417[\"Date\"].apply(lambda x: x.day)\n",
    "\n",
    "wt1417"
   ]
  },
  {
   "cell_type": "code",
   "execution_count": 50,
   "metadata": {},
   "outputs": [
    {
     "data": {
      "text/plain": [
       "Date\n",
       "2014-01-01     31\n",
       "2014-01-02     74\n",
       "2014-01-03    151\n",
       "2014-01-04     51\n",
       "2014-01-05     52\n",
       "2014-01-06     36\n",
       "2014-01-07     69\n",
       "2014-01-08     71\n",
       "2014-01-09     74\n",
       "2014-01-10     36\n",
       "             ... \n",
       "2017-12-22     57\n",
       "2017-12-23     75\n",
       "2017-12-24     28\n",
       "2017-12-25     31\n",
       "2017-12-26     44\n",
       "2017-12-27     62\n",
       "2017-12-28     73\n",
       "2017-12-29     63\n",
       "2017-12-30     47\n",
       "2017-12-31     43\n",
       "Length: 1461, dtype: int64"
      ]
     },
     "execution_count": 50,
     "metadata": {},
     "output_type": "execute_result"
    }
   ],
   "source": []
  },
  {
   "cell_type": "markdown",
   "metadata": {},
   "source": [
    "### 1.3 mark holdays"
   ]
  },
  {
   "cell_type": "markdown",
   "metadata": {},
   "source": [
    "## 2. Based on the table we get, do "
   ]
  },
  {
   "cell_type": "markdown",
   "metadata": {},
   "source": [
    "### 2.1 Overview"
   ]
  },
  {
   "cell_type": "code",
   "execution_count": 4,
   "metadata": {},
   "outputs": [
    {
     "data": {
      "application/vnd.plotly.v1+json": {
       "data": [
        {
         "name": "Number of vehicle collisions in year",
         "opacity": 0.6,
         "text": [
          "14843",
          "15078",
          "14023",
          "14394"
         ],
         "textposition": "auto",
         "type": "bar",
         "uid": "f3850cb0-a193-11e8-9409-0800275aa47c",
         "x": [
          2014,
          2015,
          2016,
          2017
         ],
         "y": [
          14843,
          15078,
          14023,
          14394
         ]
        },
        {
         "mode": "lines+text+markers",
         "name": "Growth rate of vehicle collisions (compared with the previous year)",
         "text": [
          "",
          "1.58%",
          "-7.00%",
          "2.65%"
         ],
         "textposition": "top center",
         "type": "scatter",
         "uid": "f3851002-a193-11e8-9409-0800275aa47c",
         "x": [
          2014,
          2015,
          2016,
          2017
         ],
         "y": [
          14843,
          15078,
          14023,
          14394
         ]
        }
       ],
       "layout": {
        "title": "Number of vehicle collisions in year",
        "xaxis": {
         "dtick": 1,
         "title": "Year"
        }
       }
      },
      "text/html": [
       "<div id=\"f0dac0fc-3183-4721-99ec-2329f77d3b06\" style=\"height: 525px; width: 100%;\" class=\"plotly-graph-div\"></div><script type=\"text/javascript\">require([\"plotly\"], function(Plotly) { window.PLOTLYENV=window.PLOTLYENV || {};window.PLOTLYENV.BASE_URL=\"https://plot.ly\";Plotly.newPlot(\"f0dac0fc-3183-4721-99ec-2329f77d3b06\", [{\"opacity\": 0.6, \"textposition\": \"auto\", \"name\": \"Number of vehicle collisions in year\", \"text\": [\"14843\", \"15078\", \"14023\", \"14394\"], \"y\": [14843.0, 15078.0, 14023.0, 14394.0], \"x\": [2014, 2015, 2016, 2017], \"type\": \"bar\", \"uid\": \"f3890ba8-a193-11e8-9409-0800275aa47c\"}, {\"textposition\": \"top center\", \"name\": \"Growth rate of vehicle collisions (compared with the previous year)\", \"text\": [\"\", \"1.58%\", \"-7.00%\", \"2.65%\"], \"mode\": \"lines+text+markers\", \"y\": [14843.0, 15078.0, 14023.0, 14394.0], \"x\": [2014, 2015, 2016, 2017], \"type\": \"scatter\", \"uid\": \"f3890e00-a193-11e8-9409-0800275aa47c\"}], {\"xaxis\": {\"dtick\": 1, \"title\": \"Year\"}, \"title\": \"Number of vehicle collisions in year\"}, {\"linkText\": \"Export to plot.ly\", \"showLink\": true})});</script>"
      ],
      "text/vnd.plotly.v1+html": [
       "<div id=\"f0dac0fc-3183-4721-99ec-2329f77d3b06\" style=\"height: 525px; width: 100%;\" class=\"plotly-graph-div\"></div><script type=\"text/javascript\">require([\"plotly\"], function(Plotly) { window.PLOTLYENV=window.PLOTLYENV || {};window.PLOTLYENV.BASE_URL=\"https://plot.ly\";Plotly.newPlot(\"f0dac0fc-3183-4721-99ec-2329f77d3b06\", [{\"opacity\": 0.6, \"textposition\": \"auto\", \"name\": \"Number of vehicle collisions in year\", \"text\": [\"14843\", \"15078\", \"14023\", \"14394\"], \"y\": [14843.0, 15078.0, 14023.0, 14394.0], \"x\": [2014, 2015, 2016, 2017], \"type\": \"bar\", \"uid\": \"f3890ba8-a193-11e8-9409-0800275aa47c\"}, {\"textposition\": \"top center\", \"name\": \"Growth rate of vehicle collisions (compared with the previous year)\", \"text\": [\"\", \"1.58%\", \"-7.00%\", \"2.65%\"], \"mode\": \"lines+text+markers\", \"y\": [14843.0, 15078.0, 14023.0, 14394.0], \"x\": [2014, 2015, 2016, 2017], \"type\": \"scatter\", \"uid\": \"f3890e00-a193-11e8-9409-0800275aa47c\"}], {\"xaxis\": {\"dtick\": 1, \"title\": \"Year\"}, \"title\": \"Number of vehicle collisions in year\"}, {\"linkText\": \"Export to plot.ly\", \"showLink\": true})});</script>"
      ]
     },
     "metadata": {},
     "output_type": "display_data"
    },
    {
     "name": "stdout",
     "output_type": "stream",
     "text": [
      "Total number of cases: 58338\n"
     ]
    }
   ],
   "source": [
    "countOfCollision = df_csv1417.groupby(['Year']).size()\n",
    "growthRate = (countOfCollision.pct_change()*100).apply(lambda x: '' if pd.isna(x) else format(x,'.2f') + '%')\n",
    "barOfYear = go.Bar(x = range(2014,2018), \n",
    "                   y = countOfCollision,\n",
    "                   text = countOfCollision,\n",
    "                   textposition = 'auto',\n",
    "                   opacity=0.6, \n",
    "                   name = 'Number of vehicle collisions in year')\n",
    "scatterOfYear = go.Scatter(x = range(2014,2018), \n",
    "                           y = countOfCollision,\n",
    "                           text = growthRate,\n",
    "                           mode = 'lines+text+markers',\n",
    "                           textposition = 'top center',\n",
    "                           name = 'Growth rate of vehicle collisions (compared with the previous year)')\n",
    "\n",
    "fig = dict(data = [barOfYear,scatterOfYear], \n",
    "           layout = go.Layout(title = 'Number of vehicle collisions in year', xaxis=dict(title='Year', dtick=1)))\n",
    "iplot(fig)\n",
    "\n",
    "print(\"Total number of cases: \" + str(countOfCollision.sum()))"
   ]
  },
  {
   "cell_type": "markdown",
   "metadata": {},
   "source": [
    "**Brief Conclusion:**\n",
    "* From January 1, 2014 to December 31, 2017, there were **58338** vehicle collision cases happened in Ottawa. \n",
    "* The differences of vehicle collision cases during 4 years are small. \n",
    "* There is a relatively big decrease of the number of cases between 2015 and 2016(-7.0%), while the rest of growth rate between years are increase. \n",
    "\n",
    "**Hypothesis:**\n",
    "* There's no relationship between year and vehicle collisions, or to say driving in a specific year does not lead to a vehicle collision. "
   ]
  },
  {
   "cell_type": "markdown",
   "metadata": {},
   "source": [
    "### 2.2 Percentage of single possible causes of accident"
   ]
  },
  {
   "cell_type": "code",
   "execution_count": 5,
   "metadata": {},
   "outputs": [
    {
     "data": {
      "application/vnd.plotly.v1+json": {
       "data": [
        {
         "cells": {
          "align": [
           "left",
           "right",
           "right"
          ],
          "font": {
           "color": [
            "rgb(40, 40, 40)",
            "rgb(40, 40, 40)",
            "rgb(40, 40, 40)",
            "rgb(40, 40, 40)",
            "rgb(40, 40, 40)"
           ],
           "size": 12
          },
          "format": [
           null,
           null,
           ".2f"
          ],
          "suffix": [
           "",
           "",
           "%"
          ],
          "values": [
           [
            "01 - Clear",
            "03 - Snow",
            "02 - Rain",
            "04 - Freezing Rain",
            "05 - Drifting Snow",
            "07 - Fog, mist, smoke, dust",
            "06 - Strong wind",
            "00 - Unknown",
            "99 - Other"
           ],
           [
            45929,
            5664,
            5433,
            672,
            304,
            164,
            86,
            67,
            18
           ],
           [
            78.73047979841267,
            9.709103999177195,
            9.31312888904126,
            1.151927593122718,
            0.5211101016507534,
            0.2811251864168538,
            0.1474193050722526,
            0.11484992371908051,
            0.030855203387215663
           ]
          ]
         },
         "columnwidth": [
          110,
          55,
          55
         ],
         "domain": {
          "x": [
           0,
           0.4
          ],
          "y": [
           0,
           1
          ]
         },
         "header": {
          "values": [
           "<b>Environment</b>",
           "<b># of Cases</b>",
           "<b>Percentage</b>"
          ]
         },
         "type": "table",
         "uid": "f5aaee2e-a193-11e8-9409-0800275aa47c"
        },
        {
         "domain": {
          "x": [
           0.6,
           1
          ],
          "y": [
           0,
           1
          ]
         },
         "hole": 0.4,
         "hoverinfo": "label+percent+name",
         "labels": [
          "01 - Clear",
          "03 - Snow",
          "02 - Rain",
          "04 - Freezing Rain",
          "05 - Drifting Snow",
          "07 - Fog, mist, smoke, dust",
          "06 - Strong wind",
          "00 - Unknown",
          "99 - Other"
         ],
         "name": "Environment",
         "showlegend": true,
         "type": "pie",
         "uid": "f5aaf0cc-a193-11e8-9409-0800275aa47c",
         "values": [
          45929,
          5664,
          5433,
          672,
          304,
          164,
          86,
          67,
          18
         ]
        }
       ],
       "layout": {
        "title": "Environment"
       }
      },
      "text/html": [
       "<div id=\"aacf4046-b4d8-41de-9a82-acdfa550e809\" style=\"height: 525px; width: 100%;\" class=\"plotly-graph-div\"></div><script type=\"text/javascript\">require([\"plotly\"], function(Plotly) { window.PLOTLYENV=window.PLOTLYENV || {};window.PLOTLYENV.BASE_URL=\"https://plot.ly\";Plotly.newPlot(\"aacf4046-b4d8-41de-9a82-acdfa550e809\", [{\"domain\": {\"y\": [0, 1.0], \"x\": [0, 0.4]}, \"uid\": \"f5ade6ba-a193-11e8-9409-0800275aa47c\", \"columnwidth\": [110, 55, 55], \"cells\": {\"align\": [\"left\", \"right\", \"right\"], \"font\": {\"color\": [\"rgb(40, 40, 40)\", \"rgb(40, 40, 40)\", \"rgb(40, 40, 40)\", \"rgb(40, 40, 40)\", \"rgb(40, 40, 40)\"], \"size\": 12}, \"values\": [[\"01 - Clear\", \"03 - Snow\", \"02 - Rain\", \"04 - Freezing Rain\", \"05 - Drifting Snow\", \"07 - Fog, mist, smoke, dust\", \"06 - Strong wind\", \"00 - Unknown\", \"99 - Other\"], [45929, 5664, 5433, 672, 304, 164, 86, 67, 18], [78.73047979841267, 9.709103999177195, 9.31312888904126, 1.151927593122718, 0.5211101016507534, 0.2811251864168538, 0.1474193050722526, 0.11484992371908051, 0.030855203387215663]], \"suffix\": [\"\", \"\", \"%\"], \"format\": [null, null, \".2f\"]}, \"header\": {\"values\": [\"<b>Environment</b>\", \"<b># of Cases</b>\", \"<b>Percentage</b>\"]}, \"type\": \"table\"}, {\"showlegend\": true, \"name\": \"Environment\", \"labels\": [\"01 - Clear\", \"03 - Snow\", \"02 - Rain\", \"04 - Freezing Rain\", \"05 - Drifting Snow\", \"07 - Fog, mist, smoke, dust\", \"06 - Strong wind\", \"00 - Unknown\", \"99 - Other\"], \"domain\": {\"y\": [0, 1.0], \"x\": [0.6, 1.0]}, \"values\": [45929.0, 5664.0, 5433.0, 672.0, 304.0, 164.0, 86.0, 67.0, 18.0], \"hoverinfo\": \"label+percent+name\", \"hole\": 0.4, \"type\": \"pie\", \"uid\": \"f5ade8ea-a193-11e8-9409-0800275aa47c\"}], {\"title\": \"Environment\"}, {\"linkText\": \"Export to plot.ly\", \"showLink\": true})});</script>"
      ],
      "text/vnd.plotly.v1+html": [
       "<div id=\"aacf4046-b4d8-41de-9a82-acdfa550e809\" style=\"height: 525px; width: 100%;\" class=\"plotly-graph-div\"></div><script type=\"text/javascript\">require([\"plotly\"], function(Plotly) { window.PLOTLYENV=window.PLOTLYENV || {};window.PLOTLYENV.BASE_URL=\"https://plot.ly\";Plotly.newPlot(\"aacf4046-b4d8-41de-9a82-acdfa550e809\", [{\"domain\": {\"y\": [0, 1.0], \"x\": [0, 0.4]}, \"uid\": \"f5ade6ba-a193-11e8-9409-0800275aa47c\", \"columnwidth\": [110, 55, 55], \"cells\": {\"align\": [\"left\", \"right\", \"right\"], \"font\": {\"color\": [\"rgb(40, 40, 40)\", \"rgb(40, 40, 40)\", \"rgb(40, 40, 40)\", \"rgb(40, 40, 40)\", \"rgb(40, 40, 40)\"], \"size\": 12}, \"values\": [[\"01 - Clear\", \"03 - Snow\", \"02 - Rain\", \"04 - Freezing Rain\", \"05 - Drifting Snow\", \"07 - Fog, mist, smoke, dust\", \"06 - Strong wind\", \"00 - Unknown\", \"99 - Other\"], [45929, 5664, 5433, 672, 304, 164, 86, 67, 18], [78.73047979841267, 9.709103999177195, 9.31312888904126, 1.151927593122718, 0.5211101016507534, 0.2811251864168538, 0.1474193050722526, 0.11484992371908051, 0.030855203387215663]], \"suffix\": [\"\", \"\", \"%\"], \"format\": [null, null, \".2f\"]}, \"header\": {\"values\": [\"<b>Environment</b>\", \"<b># of Cases</b>\", \"<b>Percentage</b>\"]}, \"type\": \"table\"}, {\"showlegend\": true, \"name\": \"Environment\", \"labels\": [\"01 - Clear\", \"03 - Snow\", \"02 - Rain\", \"04 - Freezing Rain\", \"05 - Drifting Snow\", \"07 - Fog, mist, smoke, dust\", \"06 - Strong wind\", \"00 - Unknown\", \"99 - Other\"], \"domain\": {\"y\": [0, 1.0], \"x\": [0.6, 1.0]}, \"values\": [45929.0, 5664.0, 5433.0, 672.0, 304.0, 164.0, 86.0, 67.0, 18.0], \"hoverinfo\": \"label+percent+name\", \"hole\": 0.4, \"type\": \"pie\", \"uid\": \"f5ade8ea-a193-11e8-9409-0800275aa47c\"}], {\"title\": \"Environment\"}, {\"linkText\": \"Export to plot.ly\", \"showLink\": true})});</script>"
      ]
     },
     "metadata": {},
     "output_type": "display_data"
    },
    {
     "data": {
      "application/vnd.plotly.v1+json": {
       "data": [
        {
         "cells": {
          "align": [
           "left",
           "right",
           "right"
          ],
          "font": {
           "color": [
            "rgb(40, 40, 40)",
            "rgb(40, 40, 40)",
            "rgb(40, 40, 40)",
            "rgb(40, 40, 40)",
            "rgb(40, 40, 40)"
           ],
           "size": 12
          },
          "format": [
           null,
           null,
           ".2f"
          ],
          "suffix": [
           "",
           "",
           "%"
          ],
          "values": [
           [
            "01 - Dry",
            "02 - Wet",
            "03 - Loose snow",
            "06 - Ice",
            "04 - Slush",
            "05 - Packed snow",
            "08 - Loose sand or gravel",
            "00 - Unknown",
            "99 - Other",
            "07 - Mud",
            "09 - Spilled liquid"
           ],
           [
            38362,
            10123,
            3844,
            2650,
            1760,
            1443,
            56,
            50,
            41,
            5,
            4
           ],
           [
            65.75816791799514,
            17.352326099626318,
            6.589187150742227,
            4.542493743357674,
            3.0169015050224552,
            2.4735164044019338,
            0.09599232061435085,
            0.08570742911995612,
            0.07028009187836401,
            0.008570742911995612,
            0.006856594329596489
           ]
          ]
         },
         "columnwidth": [
          110,
          55,
          55
         ],
         "domain": {
          "x": [
           0,
           0.4
          ],
          "y": [
           0,
           1
          ]
         },
         "header": {
          "values": [
           "<b>Road_Surface</b>",
           "<b># of Cases</b>",
           "<b>Percentage</b>"
          ]
         },
         "type": "table",
         "uid": "f5bba4d0-a193-11e8-9409-0800275aa47c"
        },
        {
         "domain": {
          "x": [
           0.6,
           1
          ],
          "y": [
           0,
           1
          ]
         },
         "hole": 0.4,
         "hoverinfo": "label+percent+name",
         "labels": [
          "01 - Dry",
          "02 - Wet",
          "03 - Loose snow",
          "06 - Ice",
          "04 - Slush",
          "05 - Packed snow",
          "08 - Loose sand or gravel",
          "00 - Unknown",
          "99 - Other",
          "07 - Mud",
          "09 - Spilled liquid"
         ],
         "name": "Road_Surface",
         "showlegend": true,
         "type": "pie",
         "uid": "f5bbab06-a193-11e8-9409-0800275aa47c",
         "values": [
          38362,
          10123,
          3844,
          2650,
          1760,
          1443,
          56,
          50,
          41,
          5,
          4
         ]
        }
       ],
       "layout": {
        "title": "Road_Surface"
       }
      },
      "text/html": [
       "<div id=\"7b220396-2c62-478a-99b7-d0febdd2e43e\" style=\"height: 525px; width: 100%;\" class=\"plotly-graph-div\"></div><script type=\"text/javascript\">require([\"plotly\"], function(Plotly) { window.PLOTLYENV=window.PLOTLYENV || {};window.PLOTLYENV.BASE_URL=\"https://plot.ly\";Plotly.newPlot(\"7b220396-2c62-478a-99b7-d0febdd2e43e\", [{\"domain\": {\"y\": [0, 1.0], \"x\": [0, 0.4]}, \"uid\": \"f5c08c98-a193-11e8-9409-0800275aa47c\", \"columnwidth\": [110, 55, 55], \"cells\": {\"align\": [\"left\", \"right\", \"right\"], \"font\": {\"color\": [\"rgb(40, 40, 40)\", \"rgb(40, 40, 40)\", \"rgb(40, 40, 40)\", \"rgb(40, 40, 40)\", \"rgb(40, 40, 40)\"], \"size\": 12}, \"values\": [[\"01 - Dry\", \"02 - Wet\", \"03 - Loose snow\", \"06 - Ice\", \"04 - Slush\", \"05 - Packed snow\", \"08 - Loose sand or gravel\", \"00 - Unknown\", \"99 - Other\", \"07 - Mud\", \"09 - Spilled liquid\"], [38362, 10123, 3844, 2650, 1760, 1443, 56, 50, 41, 5, 4], [65.75816791799514, 17.352326099626318, 6.589187150742227, 4.542493743357674, 3.0169015050224552, 2.4735164044019338, 0.09599232061435085, 0.08570742911995612, 0.07028009187836401, 0.008570742911995612, 0.006856594329596489]], \"suffix\": [\"\", \"\", \"%\"], \"format\": [null, null, \".2f\"]}, \"header\": {\"values\": [\"<b>Road_Surface</b>\", \"<b># of Cases</b>\", \"<b>Percentage</b>\"]}, \"type\": \"table\"}, {\"showlegend\": true, \"name\": \"Road_Surface\", \"labels\": [\"01 - Dry\", \"02 - Wet\", \"03 - Loose snow\", \"06 - Ice\", \"04 - Slush\", \"05 - Packed snow\", \"08 - Loose sand or gravel\", \"00 - Unknown\", \"99 - Other\", \"07 - Mud\", \"09 - Spilled liquid\"], \"domain\": {\"y\": [0, 1.0], \"x\": [0.6, 1.0]}, \"values\": [38362.0, 10123.0, 3844.0, 2650.0, 1760.0, 1443.0, 56.0, 50.0, 41.0, 5.0, 4.0], \"hoverinfo\": \"label+percent+name\", \"hole\": 0.4, \"type\": \"pie\", \"uid\": \"f5c08f4a-a193-11e8-9409-0800275aa47c\"}], {\"title\": \"Road_Surface\"}, {\"linkText\": \"Export to plot.ly\", \"showLink\": true})});</script>"
      ],
      "text/vnd.plotly.v1+html": [
       "<div id=\"7b220396-2c62-478a-99b7-d0febdd2e43e\" style=\"height: 525px; width: 100%;\" class=\"plotly-graph-div\"></div><script type=\"text/javascript\">require([\"plotly\"], function(Plotly) { window.PLOTLYENV=window.PLOTLYENV || {};window.PLOTLYENV.BASE_URL=\"https://plot.ly\";Plotly.newPlot(\"7b220396-2c62-478a-99b7-d0febdd2e43e\", [{\"domain\": {\"y\": [0, 1.0], \"x\": [0, 0.4]}, \"uid\": \"f5c08c98-a193-11e8-9409-0800275aa47c\", \"columnwidth\": [110, 55, 55], \"cells\": {\"align\": [\"left\", \"right\", \"right\"], \"font\": {\"color\": [\"rgb(40, 40, 40)\", \"rgb(40, 40, 40)\", \"rgb(40, 40, 40)\", \"rgb(40, 40, 40)\", \"rgb(40, 40, 40)\"], \"size\": 12}, \"values\": [[\"01 - Dry\", \"02 - Wet\", \"03 - Loose snow\", \"06 - Ice\", \"04 - Slush\", \"05 - Packed snow\", \"08 - Loose sand or gravel\", \"00 - Unknown\", \"99 - Other\", \"07 - Mud\", \"09 - Spilled liquid\"], [38362, 10123, 3844, 2650, 1760, 1443, 56, 50, 41, 5, 4], [65.75816791799514, 17.352326099626318, 6.589187150742227, 4.542493743357674, 3.0169015050224552, 2.4735164044019338, 0.09599232061435085, 0.08570742911995612, 0.07028009187836401, 0.008570742911995612, 0.006856594329596489]], \"suffix\": [\"\", \"\", \"%\"], \"format\": [null, null, \".2f\"]}, \"header\": {\"values\": [\"<b>Road_Surface</b>\", \"<b># of Cases</b>\", \"<b>Percentage</b>\"]}, \"type\": \"table\"}, {\"showlegend\": true, \"name\": \"Road_Surface\", \"labels\": [\"01 - Dry\", \"02 - Wet\", \"03 - Loose snow\", \"06 - Ice\", \"04 - Slush\", \"05 - Packed snow\", \"08 - Loose sand or gravel\", \"00 - Unknown\", \"99 - Other\", \"07 - Mud\", \"09 - Spilled liquid\"], \"domain\": {\"y\": [0, 1.0], \"x\": [0.6, 1.0]}, \"values\": [38362.0, 10123.0, 3844.0, 2650.0, 1760.0, 1443.0, 56.0, 50.0, 41.0, 5.0, 4.0], \"hoverinfo\": \"label+percent+name\", \"hole\": 0.4, \"type\": \"pie\", \"uid\": \"f5c08f4a-a193-11e8-9409-0800275aa47c\"}], {\"title\": \"Road_Surface\"}, {\"linkText\": \"Export to plot.ly\", \"showLink\": true})});</script>"
      ]
     },
     "metadata": {},
     "output_type": "display_data"
    },
    {
     "data": {
      "application/vnd.plotly.v1+json": {
       "data": [
        {
         "cells": {
          "align": [
           "left",
           "right",
           "right"
          ],
          "font": {
           "color": [
            "rgb(40, 40, 40)",
            "rgb(40, 40, 40)",
            "rgb(40, 40, 40)",
            "rgb(40, 40, 40)",
            "rgb(40, 40, 40)"
           ],
           "size": 12
          },
          "format": [
           null,
           null,
           ".2f"
          ],
          "suffix": [
           "",
           "",
           "%"
          ],
          "values": [
           [
            "10 - No control",
            "01 - Traffic signal",
            "02 - Stop sign",
            "11 - Roundabout",
            "03 - Yield sign",
            "08 - Traffic gate",
            "09 - Traffic controller",
            "07 - School bus",
            "04 - Ped. crossover"
           ],
           [
            27966,
            23314,
            6099,
            526,
            370,
            15,
            9,
            2,
            1
           ],
           [
            47.96747967479675,
            39.98833659222668,
            10.461047648451167,
            0.9021988954066756,
            0.6346265994305512,
            0.025728105382319642,
            0.015436863229391787,
            0.003430414050975953,
            0.0017152070254879766
           ]
          ]
         },
         "columnwidth": [
          110,
          55,
          55
         ],
         "domain": {
          "x": [
           0,
           0.4
          ],
          "y": [
           0,
           1
          ]
         },
         "header": {
          "values": [
           "<b>Traffic_Control</b>",
           "<b># of Cases</b>",
           "<b>Percentage</b>"
          ]
         },
         "type": "table",
         "uid": "f5cc8fe8-a193-11e8-9409-0800275aa47c"
        },
        {
         "domain": {
          "x": [
           0.6,
           1
          ],
          "y": [
           0,
           1
          ]
         },
         "hole": 0.4,
         "hoverinfo": "label+percent+name",
         "labels": [
          "10 - No control",
          "01 - Traffic signal",
          "02 - Stop sign",
          "11 - Roundabout",
          "03 - Yield sign",
          "08 - Traffic gate",
          "09 - Traffic controller",
          "07 - School bus",
          "04 - Ped. crossover"
         ],
         "name": "Traffic_Control",
         "showlegend": true,
         "type": "pie",
         "uid": "f5cc927c-a193-11e8-9409-0800275aa47c",
         "values": [
          27966,
          23314,
          6099,
          526,
          370,
          15,
          9,
          2,
          1
         ]
        }
       ],
       "layout": {
        "title": "Traffic_Control"
       }
      },
      "text/html": [
       "<div id=\"fcced9b7-48e0-43d3-a47a-f2c18d84a186\" style=\"height: 525px; width: 100%;\" class=\"plotly-graph-div\"></div><script type=\"text/javascript\">require([\"plotly\"], function(Plotly) { window.PLOTLYENV=window.PLOTLYENV || {};window.PLOTLYENV.BASE_URL=\"https://plot.ly\";Plotly.newPlot(\"fcced9b7-48e0-43d3-a47a-f2c18d84a186\", [{\"domain\": {\"y\": [0, 1.0], \"x\": [0, 0.4]}, \"uid\": \"f5d087ce-a193-11e8-9409-0800275aa47c\", \"columnwidth\": [110, 55, 55], \"cells\": {\"align\": [\"left\", \"right\", \"right\"], \"font\": {\"color\": [\"rgb(40, 40, 40)\", \"rgb(40, 40, 40)\", \"rgb(40, 40, 40)\", \"rgb(40, 40, 40)\", \"rgb(40, 40, 40)\"], \"size\": 12}, \"values\": [[\"10 - No control\", \"01 - Traffic signal\", \"02 - Stop sign\", \"11 - Roundabout\", \"03 - Yield sign\", \"08 - Traffic gate\", \"09 - Traffic controller\", \"07 - School bus\", \"04 - Ped. crossover\"], [27966, 23314, 6099, 526, 370, 15, 9, 2, 1], [47.96747967479675, 39.98833659222668, 10.461047648451167, 0.9021988954066756, 0.6346265994305512, 0.025728105382319642, 0.015436863229391787, 0.003430414050975953, 0.0017152070254879766]], \"suffix\": [\"\", \"\", \"%\"], \"format\": [null, null, \".2f\"]}, \"header\": {\"values\": [\"<b>Traffic_Control</b>\", \"<b># of Cases</b>\", \"<b>Percentage</b>\"]}, \"type\": \"table\"}, {\"showlegend\": true, \"name\": \"Traffic_Control\", \"labels\": [\"10 - No control\", \"01 - Traffic signal\", \"02 - Stop sign\", \"11 - Roundabout\", \"03 - Yield sign\", \"08 - Traffic gate\", \"09 - Traffic controller\", \"07 - School bus\", \"04 - Ped. crossover\"], \"domain\": {\"y\": [0, 1.0], \"x\": [0.6, 1.0]}, \"values\": [27966.0, 23314.0, 6099.0, 526.0, 370.0, 15.0, 9.0, 2.0, 1.0], \"hoverinfo\": \"label+percent+name\", \"hole\": 0.4, \"type\": \"pie\", \"uid\": \"f5d08bc0-a193-11e8-9409-0800275aa47c\"}], {\"title\": \"Traffic_Control\"}, {\"linkText\": \"Export to plot.ly\", \"showLink\": true})});</script>"
      ],
      "text/vnd.plotly.v1+html": [
       "<div id=\"fcced9b7-48e0-43d3-a47a-f2c18d84a186\" style=\"height: 525px; width: 100%;\" class=\"plotly-graph-div\"></div><script type=\"text/javascript\">require([\"plotly\"], function(Plotly) { window.PLOTLYENV=window.PLOTLYENV || {};window.PLOTLYENV.BASE_URL=\"https://plot.ly\";Plotly.newPlot(\"fcced9b7-48e0-43d3-a47a-f2c18d84a186\", [{\"domain\": {\"y\": [0, 1.0], \"x\": [0, 0.4]}, \"uid\": \"f5d087ce-a193-11e8-9409-0800275aa47c\", \"columnwidth\": [110, 55, 55], \"cells\": {\"align\": [\"left\", \"right\", \"right\"], \"font\": {\"color\": [\"rgb(40, 40, 40)\", \"rgb(40, 40, 40)\", \"rgb(40, 40, 40)\", \"rgb(40, 40, 40)\", \"rgb(40, 40, 40)\"], \"size\": 12}, \"values\": [[\"10 - No control\", \"01 - Traffic signal\", \"02 - Stop sign\", \"11 - Roundabout\", \"03 - Yield sign\", \"08 - Traffic gate\", \"09 - Traffic controller\", \"07 - School bus\", \"04 - Ped. crossover\"], [27966, 23314, 6099, 526, 370, 15, 9, 2, 1], [47.96747967479675, 39.98833659222668, 10.461047648451167, 0.9021988954066756, 0.6346265994305512, 0.025728105382319642, 0.015436863229391787, 0.003430414050975953, 0.0017152070254879766]], \"suffix\": [\"\", \"\", \"%\"], \"format\": [null, null, \".2f\"]}, \"header\": {\"values\": [\"<b>Traffic_Control</b>\", \"<b># of Cases</b>\", \"<b>Percentage</b>\"]}, \"type\": \"table\"}, {\"showlegend\": true, \"name\": \"Traffic_Control\", \"labels\": [\"10 - No control\", \"01 - Traffic signal\", \"02 - Stop sign\", \"11 - Roundabout\", \"03 - Yield sign\", \"08 - Traffic gate\", \"09 - Traffic controller\", \"07 - School bus\", \"04 - Ped. crossover\"], \"domain\": {\"y\": [0, 1.0], \"x\": [0.6, 1.0]}, \"values\": [27966.0, 23314.0, 6099.0, 526.0, 370.0, 15.0, 9.0, 2.0, 1.0], \"hoverinfo\": \"label+percent+name\", \"hole\": 0.4, \"type\": \"pie\", \"uid\": \"f5d08bc0-a193-11e8-9409-0800275aa47c\"}], {\"title\": \"Traffic_Control\"}, {\"linkText\": \"Export to plot.ly\", \"showLink\": true})});</script>"
      ]
     },
     "metadata": {},
     "output_type": "display_data"
    },
    {
     "data": {
      "application/vnd.plotly.v1+json": {
       "data": [
        {
         "cells": {
          "align": [
           "left",
           "right",
           "right"
          ],
          "font": {
           "color": [
            "rgb(40, 40, 40)",
            "rgb(40, 40, 40)",
            "rgb(40, 40, 40)",
            "rgb(40, 40, 40)",
            "rgb(40, 40, 40)"
           ],
           "size": 12
          },
          "format": [
           null,
           null,
           ".2f"
          ],
          "suffix": [
           "",
           "",
           "%"
          ],
          "values": [
           [
            "01 - Non intersection",
            "02 - Intersection related",
            "03 - At intersection",
            "04 - At/near private drive",
            "07 - Overpass or bridge",
            "05 - At railway crossing",
            "06 - Underpass or tunnel",
            "98 - Other",
            "99 - Other"
           ],
           [
            22114,
            18280,
            12523,
            5105,
            240,
            37,
            29,
            3,
            1
           ],
           [
            37.91058081327573,
            31.33785915106631,
            21.46849070835905,
            8.751628608653911,
            0.41143797572515944,
            0.06343002125762875,
            0.0497154220667901,
            0.0051429746965644925,
            0.001714324898854831
           ]
          ]
         },
         "columnwidth": [
          110,
          55,
          55
         ],
         "domain": {
          "x": [
           0,
           0.4
          ],
          "y": [
           0,
           1
          ]
         },
         "header": {
          "values": [
           "<b>Collision_Location</b>",
           "<b># of Cases</b>",
           "<b>Percentage</b>"
          ]
         },
         "type": "table",
         "uid": "f5de2d16-a193-11e8-9409-0800275aa47c"
        },
        {
         "domain": {
          "x": [
           0.6,
           1
          ],
          "y": [
           0,
           1
          ]
         },
         "hole": 0.4,
         "hoverinfo": "label+percent+name",
         "labels": [
          "01 - Non intersection",
          "02 - Intersection related",
          "03 - At intersection",
          "04 - At/near private drive",
          "07 - Overpass or bridge",
          "05 - At railway crossing",
          "06 - Underpass or tunnel",
          "98 - Other",
          "99 - Other"
         ],
         "name": "Collision_Location",
         "showlegend": true,
         "type": "pie",
         "uid": "f5de2f96-a193-11e8-9409-0800275aa47c",
         "values": [
          22114,
          18280,
          12523,
          5105,
          240,
          37,
          29,
          3,
          1
         ]
        }
       ],
       "layout": {
        "title": "Collision_Location"
       }
      },
      "text/html": [
       "<div id=\"408915bb-13b9-4219-a801-df1db034b753\" style=\"height: 525px; width: 100%;\" class=\"plotly-graph-div\"></div><script type=\"text/javascript\">require([\"plotly\"], function(Plotly) { window.PLOTLYENV=window.PLOTLYENV || {};window.PLOTLYENV.BASE_URL=\"https://plot.ly\";Plotly.newPlot(\"408915bb-13b9-4219-a801-df1db034b753\", [{\"domain\": {\"y\": [0, 1.0], \"x\": [0, 0.4]}, \"uid\": \"f5e19762-a193-11e8-9409-0800275aa47c\", \"columnwidth\": [110, 55, 55], \"cells\": {\"align\": [\"left\", \"right\", \"right\"], \"font\": {\"color\": [\"rgb(40, 40, 40)\", \"rgb(40, 40, 40)\", \"rgb(40, 40, 40)\", \"rgb(40, 40, 40)\", \"rgb(40, 40, 40)\"], \"size\": 12}, \"values\": [[\"01 - Non intersection\", \"02 - Intersection related\", \"03 - At intersection\", \"04 - At/near private drive\", \"07 - Overpass or bridge\", \"05 - At railway crossing\", \"06 - Underpass or tunnel\", \"98 - Other\", \"99 - Other\"], [22114, 18280, 12523, 5105, 240, 37, 29, 3, 1], [37.91058081327573, 31.33785915106631, 21.46849070835905, 8.751628608653911, 0.41143797572515944, 0.06343002125762875, 0.0497154220667901, 0.0051429746965644925, 0.001714324898854831]], \"suffix\": [\"\", \"\", \"%\"], \"format\": [null, null, \".2f\"]}, \"header\": {\"values\": [\"<b>Collision_Location</b>\", \"<b># of Cases</b>\", \"<b>Percentage</b>\"]}, \"type\": \"table\"}, {\"showlegend\": true, \"name\": \"Collision_Location\", \"labels\": [\"01 - Non intersection\", \"02 - Intersection related\", \"03 - At intersection\", \"04 - At/near private drive\", \"07 - Overpass or bridge\", \"05 - At railway crossing\", \"06 - Underpass or tunnel\", \"98 - Other\", \"99 - Other\"], \"domain\": {\"y\": [0, 1.0], \"x\": [0.6, 1.0]}, \"values\": [22114.0, 18280.0, 12523.0, 5105.0, 240.0, 37.0, 29.0, 3.0, 1.0], \"hoverinfo\": \"label+percent+name\", \"hole\": 0.4, \"type\": \"pie\", \"uid\": \"f5e199ba-a193-11e8-9409-0800275aa47c\"}], {\"title\": \"Collision_Location\"}, {\"linkText\": \"Export to plot.ly\", \"showLink\": true})});</script>"
      ],
      "text/vnd.plotly.v1+html": [
       "<div id=\"408915bb-13b9-4219-a801-df1db034b753\" style=\"height: 525px; width: 100%;\" class=\"plotly-graph-div\"></div><script type=\"text/javascript\">require([\"plotly\"], function(Plotly) { window.PLOTLYENV=window.PLOTLYENV || {};window.PLOTLYENV.BASE_URL=\"https://plot.ly\";Plotly.newPlot(\"408915bb-13b9-4219-a801-df1db034b753\", [{\"domain\": {\"y\": [0, 1.0], \"x\": [0, 0.4]}, \"uid\": \"f5e19762-a193-11e8-9409-0800275aa47c\", \"columnwidth\": [110, 55, 55], \"cells\": {\"align\": [\"left\", \"right\", \"right\"], \"font\": {\"color\": [\"rgb(40, 40, 40)\", \"rgb(40, 40, 40)\", \"rgb(40, 40, 40)\", \"rgb(40, 40, 40)\", \"rgb(40, 40, 40)\"], \"size\": 12}, \"values\": [[\"01 - Non intersection\", \"02 - Intersection related\", \"03 - At intersection\", \"04 - At/near private drive\", \"07 - Overpass or bridge\", \"05 - At railway crossing\", \"06 - Underpass or tunnel\", \"98 - Other\", \"99 - Other\"], [22114, 18280, 12523, 5105, 240, 37, 29, 3, 1], [37.91058081327573, 31.33785915106631, 21.46849070835905, 8.751628608653911, 0.41143797572515944, 0.06343002125762875, 0.0497154220667901, 0.0051429746965644925, 0.001714324898854831]], \"suffix\": [\"\", \"\", \"%\"], \"format\": [null, null, \".2f\"]}, \"header\": {\"values\": [\"<b>Collision_Location</b>\", \"<b># of Cases</b>\", \"<b>Percentage</b>\"]}, \"type\": \"table\"}, {\"showlegend\": true, \"name\": \"Collision_Location\", \"labels\": [\"01 - Non intersection\", \"02 - Intersection related\", \"03 - At intersection\", \"04 - At/near private drive\", \"07 - Overpass or bridge\", \"05 - At railway crossing\", \"06 - Underpass or tunnel\", \"98 - Other\", \"99 - Other\"], \"domain\": {\"y\": [0, 1.0], \"x\": [0.6, 1.0]}, \"values\": [22114.0, 18280.0, 12523.0, 5105.0, 240.0, 37.0, 29.0, 3.0, 1.0], \"hoverinfo\": \"label+percent+name\", \"hole\": 0.4, \"type\": \"pie\", \"uid\": \"f5e199ba-a193-11e8-9409-0800275aa47c\"}], {\"title\": \"Collision_Location\"}, {\"linkText\": \"Export to plot.ly\", \"showLink\": true})});</script>"
      ]
     },
     "metadata": {},
     "output_type": "display_data"
    },
    {
     "data": {
      "application/vnd.plotly.v1+json": {
       "data": [
        {
         "cells": {
          "align": [
           "left",
           "right",
           "right"
          ],
          "font": {
           "color": [
            "rgb(40, 40, 40)",
            "rgb(40, 40, 40)",
            "rgb(40, 40, 40)",
            "rgb(40, 40, 40)",
            "rgb(40, 40, 40)"
           ],
           "size": 12
          },
          "format": [
           null,
           null,
           ".2f"
          ],
          "suffix": [
           "",
           "",
           "%"
          ],
          "values": [
           [
            "01 - Daylight",
            "07 - Dark",
            "05 - Dusk",
            "03 - Dawn",
            "00 - Unknown",
            "08 - Dark, artificial",
            "99 - Other",
            "04 - Dawn, artificial",
            "06 - Dusk, artificial",
            "02 - Daylight, artificial"
           ],
           [
            39879,
            13237,
            2609,
            1354,
            1163,
            73,
            11,
            6,
            3,
            1
           ],
           [
            68.36087493143171,
            22.690962698848054,
            4.4723669775095996,
            2.321036752605595,
            1.9936231486560614,
            0.12513713658804168,
            0.01885628085573231,
            0.010285244103126714,
            0.005142622051563357,
            0.0017142073505211192
           ]
          ]
         },
         "columnwidth": [
          110,
          55,
          55
         ],
         "domain": {
          "x": [
           0,
           0.4
          ],
          "y": [
           0,
           1
          ]
         },
         "header": {
          "values": [
           "<b>Light</b>",
           "<b># of Cases</b>",
           "<b>Percentage</b>"
          ]
         },
         "type": "table",
         "uid": "f5ecd870-a193-11e8-9409-0800275aa47c"
        },
        {
         "domain": {
          "x": [
           0.6,
           1
          ],
          "y": [
           0,
           1
          ]
         },
         "hole": 0.4,
         "hoverinfo": "label+percent+name",
         "labels": [
          "01 - Daylight",
          "07 - Dark",
          "05 - Dusk",
          "03 - Dawn",
          "00 - Unknown",
          "08 - Dark, artificial",
          "99 - Other",
          "04 - Dawn, artificial",
          "06 - Dusk, artificial",
          "02 - Daylight, artificial"
         ],
         "name": "Light",
         "showlegend": true,
         "type": "pie",
         "uid": "f5ecdae6-a193-11e8-9409-0800275aa47c",
         "values": [
          39879,
          13237,
          2609,
          1354,
          1163,
          73,
          11,
          6,
          3,
          1
         ]
        }
       ],
       "layout": {
        "title": "Light"
       }
      },
      "text/html": [
       "<div id=\"7461ff50-c7ef-47d4-a45b-7740a6211bb7\" style=\"height: 525px; width: 100%;\" class=\"plotly-graph-div\"></div><script type=\"text/javascript\">require([\"plotly\"], function(Plotly) { window.PLOTLYENV=window.PLOTLYENV || {};window.PLOTLYENV.BASE_URL=\"https://plot.ly\";Plotly.newPlot(\"7461ff50-c7ef-47d4-a45b-7740a6211bb7\", [{\"domain\": {\"y\": [0, 1.0], \"x\": [0, 0.4]}, \"uid\": \"f5f05e78-a193-11e8-9409-0800275aa47c\", \"columnwidth\": [110, 55, 55], \"cells\": {\"align\": [\"left\", \"right\", \"right\"], \"font\": {\"color\": [\"rgb(40, 40, 40)\", \"rgb(40, 40, 40)\", \"rgb(40, 40, 40)\", \"rgb(40, 40, 40)\", \"rgb(40, 40, 40)\"], \"size\": 12}, \"values\": [[\"01 - Daylight\", \"07 - Dark\", \"05 - Dusk\", \"03 - Dawn\", \"00 - Unknown\", \"08 - Dark, artificial\", \"99 - Other\", \"04 - Dawn, artificial\", \"06 - Dusk, artificial\", \"02 - Daylight, artificial\"], [39879, 13237, 2609, 1354, 1163, 73, 11, 6, 3, 1], [68.36087493143171, 22.690962698848054, 4.4723669775095996, 2.321036752605595, 1.9936231486560614, 0.12513713658804168, 0.01885628085573231, 0.010285244103126714, 0.005142622051563357, 0.0017142073505211192]], \"suffix\": [\"\", \"\", \"%\"], \"format\": [null, null, \".2f\"]}, \"header\": {\"values\": [\"<b>Light</b>\", \"<b># of Cases</b>\", \"<b>Percentage</b>\"]}, \"type\": \"table\"}, {\"showlegend\": true, \"name\": \"Light\", \"labels\": [\"01 - Daylight\", \"07 - Dark\", \"05 - Dusk\", \"03 - Dawn\", \"00 - Unknown\", \"08 - Dark, artificial\", \"99 - Other\", \"04 - Dawn, artificial\", \"06 - Dusk, artificial\", \"02 - Daylight, artificial\"], \"domain\": {\"y\": [0, 1.0], \"x\": [0.6, 1.0]}, \"values\": [39879.0, 13237.0, 2609.0, 1354.0, 1163.0, 73.0, 11.0, 6.0, 3.0, 1.0], \"hoverinfo\": \"label+percent+name\", \"hole\": 0.4, \"type\": \"pie\", \"uid\": \"f5f06238-a193-11e8-9409-0800275aa47c\"}], {\"title\": \"Light\"}, {\"linkText\": \"Export to plot.ly\", \"showLink\": true})});</script>"
      ],
      "text/vnd.plotly.v1+html": [
       "<div id=\"7461ff50-c7ef-47d4-a45b-7740a6211bb7\" style=\"height: 525px; width: 100%;\" class=\"plotly-graph-div\"></div><script type=\"text/javascript\">require([\"plotly\"], function(Plotly) { window.PLOTLYENV=window.PLOTLYENV || {};window.PLOTLYENV.BASE_URL=\"https://plot.ly\";Plotly.newPlot(\"7461ff50-c7ef-47d4-a45b-7740a6211bb7\", [{\"domain\": {\"y\": [0, 1.0], \"x\": [0, 0.4]}, \"uid\": \"f5f05e78-a193-11e8-9409-0800275aa47c\", \"columnwidth\": [110, 55, 55], \"cells\": {\"align\": [\"left\", \"right\", \"right\"], \"font\": {\"color\": [\"rgb(40, 40, 40)\", \"rgb(40, 40, 40)\", \"rgb(40, 40, 40)\", \"rgb(40, 40, 40)\", \"rgb(40, 40, 40)\"], \"size\": 12}, \"values\": [[\"01 - Daylight\", \"07 - Dark\", \"05 - Dusk\", \"03 - Dawn\", \"00 - Unknown\", \"08 - Dark, artificial\", \"99 - Other\", \"04 - Dawn, artificial\", \"06 - Dusk, artificial\", \"02 - Daylight, artificial\"], [39879, 13237, 2609, 1354, 1163, 73, 11, 6, 3, 1], [68.36087493143171, 22.690962698848054, 4.4723669775095996, 2.321036752605595, 1.9936231486560614, 0.12513713658804168, 0.01885628085573231, 0.010285244103126714, 0.005142622051563357, 0.0017142073505211192]], \"suffix\": [\"\", \"\", \"%\"], \"format\": [null, null, \".2f\"]}, \"header\": {\"values\": [\"<b>Light</b>\", \"<b># of Cases</b>\", \"<b>Percentage</b>\"]}, \"type\": \"table\"}, {\"showlegend\": true, \"name\": \"Light\", \"labels\": [\"01 - Daylight\", \"07 - Dark\", \"05 - Dusk\", \"03 - Dawn\", \"00 - Unknown\", \"08 - Dark, artificial\", \"99 - Other\", \"04 - Dawn, artificial\", \"06 - Dusk, artificial\", \"02 - Daylight, artificial\"], \"domain\": {\"y\": [0, 1.0], \"x\": [0.6, 1.0]}, \"values\": [39879.0, 13237.0, 2609.0, 1354.0, 1163.0, 73.0, 11.0, 6.0, 3.0, 1.0], \"hoverinfo\": \"label+percent+name\", \"hole\": 0.4, \"type\": \"pie\", \"uid\": \"f5f06238-a193-11e8-9409-0800275aa47c\"}], {\"title\": \"Light\"}, {\"linkText\": \"Export to plot.ly\", \"showLink\": true})});</script>"
      ]
     },
     "metadata": {},
     "output_type": "display_data"
    },
    {
     "data": {
      "application/vnd.plotly.v1+json": {
       "data": [
        {
         "cells": {
          "align": [
           "left",
           "right",
           "right"
          ],
          "font": {
           "color": [
            "rgb(40, 40, 40)",
            "rgb(40, 40, 40)",
            "rgb(40, 40, 40)",
            "rgb(40, 40, 40)",
            "rgb(40, 40, 40)"
           ],
           "size": 12
          },
          "format": [
           null,
           null,
           ".2f"
          ],
          "suffix": [
           "",
           "",
           "%"
          ],
          "values": [
           [
            "03 - P.D. only",
            "02 - Non-fatal injury",
            "01 - Fatal injury"
           ],
           [
            47248,
            10991,
            99
           ],
           [
            80.99009222119373,
            18.840207069148754,
            0.1697007096575131
           ]
          ]
         },
         "columnwidth": [
          110,
          55,
          55
         ],
         "domain": {
          "x": [
           0,
           0.4
          ],
          "y": [
           0,
           1
          ]
         },
         "header": {
          "values": [
           "<b>Collision_Classification</b>",
           "<b># of Cases</b>",
           "<b>Percentage</b>"
          ]
         },
         "type": "table",
         "uid": "f60d5168-a193-11e8-9409-0800275aa47c"
        },
        {
         "domain": {
          "x": [
           0.6,
           1
          ],
          "y": [
           0,
           1
          ]
         },
         "hole": 0.4,
         "hoverinfo": "label+percent+name",
         "labels": [
          "03 - P.D. only",
          "02 - Non-fatal injury",
          "01 - Fatal injury"
         ],
         "name": "Collision_Classification",
         "showlegend": true,
         "type": "pie",
         "uid": "f60d58de-a193-11e8-9409-0800275aa47c",
         "values": [
          47248,
          10991,
          99
         ]
        }
       ],
       "layout": {
        "title": "Collision_Classification"
       }
      },
      "text/html": [
       "<div id=\"5b6fb7ac-e7b3-4c4a-b09c-083789c90b5c\" style=\"height: 525px; width: 100%;\" class=\"plotly-graph-div\"></div><script type=\"text/javascript\">require([\"plotly\"], function(Plotly) { window.PLOTLYENV=window.PLOTLYENV || {};window.PLOTLYENV.BASE_URL=\"https://plot.ly\";Plotly.newPlot(\"5b6fb7ac-e7b3-4c4a-b09c-083789c90b5c\", [{\"domain\": {\"y\": [0, 1.0], \"x\": [0, 0.4]}, \"uid\": \"f610ba1a-a193-11e8-9409-0800275aa47c\", \"columnwidth\": [110, 55, 55], \"cells\": {\"align\": [\"left\", \"right\", \"right\"], \"font\": {\"color\": [\"rgb(40, 40, 40)\", \"rgb(40, 40, 40)\", \"rgb(40, 40, 40)\", \"rgb(40, 40, 40)\", \"rgb(40, 40, 40)\"], \"size\": 12}, \"values\": [[\"03 - P.D. only\", \"02 - Non-fatal injury\", \"01 - Fatal injury\"], [47248, 10991, 99], [80.99009222119373, 18.840207069148754, 0.1697007096575131]], \"suffix\": [\"\", \"\", \"%\"], \"format\": [null, null, \".2f\"]}, \"header\": {\"values\": [\"<b>Collision_Classification</b>\", \"<b># of Cases</b>\", \"<b>Percentage</b>\"]}, \"type\": \"table\"}, {\"showlegend\": true, \"name\": \"Collision_Classification\", \"labels\": [\"03 - P.D. only\", \"02 - Non-fatal injury\", \"01 - Fatal injury\"], \"domain\": {\"y\": [0, 1.0], \"x\": [0.6, 1.0]}, \"values\": [47248.0, 10991.0, 99.0], \"hoverinfo\": \"label+percent+name\", \"hole\": 0.4, \"type\": \"pie\", \"uid\": \"f610bc72-a193-11e8-9409-0800275aa47c\"}], {\"title\": \"Collision_Classification\"}, {\"linkText\": \"Export to plot.ly\", \"showLink\": true})});</script>"
      ],
      "text/vnd.plotly.v1+html": [
       "<div id=\"5b6fb7ac-e7b3-4c4a-b09c-083789c90b5c\" style=\"height: 525px; width: 100%;\" class=\"plotly-graph-div\"></div><script type=\"text/javascript\">require([\"plotly\"], function(Plotly) { window.PLOTLYENV=window.PLOTLYENV || {};window.PLOTLYENV.BASE_URL=\"https://plot.ly\";Plotly.newPlot(\"5b6fb7ac-e7b3-4c4a-b09c-083789c90b5c\", [{\"domain\": {\"y\": [0, 1.0], \"x\": [0, 0.4]}, \"uid\": \"f610ba1a-a193-11e8-9409-0800275aa47c\", \"columnwidth\": [110, 55, 55], \"cells\": {\"align\": [\"left\", \"right\", \"right\"], \"font\": {\"color\": [\"rgb(40, 40, 40)\", \"rgb(40, 40, 40)\", \"rgb(40, 40, 40)\", \"rgb(40, 40, 40)\", \"rgb(40, 40, 40)\"], \"size\": 12}, \"values\": [[\"03 - P.D. only\", \"02 - Non-fatal injury\", \"01 - Fatal injury\"], [47248, 10991, 99], [80.99009222119373, 18.840207069148754, 0.1697007096575131]], \"suffix\": [\"\", \"\", \"%\"], \"format\": [null, null, \".2f\"]}, \"header\": {\"values\": [\"<b>Collision_Classification</b>\", \"<b># of Cases</b>\", \"<b>Percentage</b>\"]}, \"type\": \"table\"}, {\"showlegend\": true, \"name\": \"Collision_Classification\", \"labels\": [\"03 - P.D. only\", \"02 - Non-fatal injury\", \"01 - Fatal injury\"], \"domain\": {\"y\": [0, 1.0], \"x\": [0.6, 1.0]}, \"values\": [47248.0, 10991.0, 99.0], \"hoverinfo\": \"label+percent+name\", \"hole\": 0.4, \"type\": \"pie\", \"uid\": \"f610bc72-a193-11e8-9409-0800275aa47c\"}], {\"title\": \"Collision_Classification\"}, {\"linkText\": \"Export to plot.ly\", \"showLink\": true})});</script>"
      ]
     },
     "metadata": {},
     "output_type": "display_data"
    },
    {
     "data": {
      "application/vnd.plotly.v1+json": {
       "data": [
        {
         "cells": {
          "align": [
           "left",
           "right",
           "right"
          ],
          "font": {
           "color": [
            "rgb(40, 40, 40)",
            "rgb(40, 40, 40)",
            "rgb(40, 40, 40)",
            "rgb(40, 40, 40)",
            "rgb(40, 40, 40)"
           ],
           "size": 12
          },
          "format": [
           null,
           null,
           ".2f"
          ],
          "suffix": [
           "",
           "",
           "%"
          ],
          "values": [
           [
            "03 - Rear end",
            "07 - SMV other",
            "02 - Angle",
            "04 - Sideswipe",
            "05 - Turning movement",
            "06 - SMV unattended vehicle",
            "99 - Other",
            "01 - Approaching"
           ],
           [
            19735,
            9661,
            7985,
            7691,
            6233,
            4717,
            1456,
            860
           ],
           [
            33.828722273646676,
            16.56038945455792,
            13.687476430456991,
            13.18351674723165,
            10.684288114093729,
            8.08563886317666,
            2.495800335973122,
            1.4741677808632452
           ]
          ]
         },
         "columnwidth": [
          110,
          55,
          55
         ],
         "domain": {
          "x": [
           0,
           0.4
          ],
          "y": [
           0,
           1
          ]
         },
         "header": {
          "values": [
           "<b>Impact_type</b>",
           "<b># of Cases</b>",
           "<b>Percentage</b>"
          ]
         },
         "type": "table",
         "uid": "f61d4c80-a193-11e8-9409-0800275aa47c"
        },
        {
         "domain": {
          "x": [
           0.6,
           1
          ],
          "y": [
           0,
           1
          ]
         },
         "hole": 0.4,
         "hoverinfo": "label+percent+name",
         "labels": [
          "03 - Rear end",
          "07 - SMV other",
          "02 - Angle",
          "04 - Sideswipe",
          "05 - Turning movement",
          "06 - SMV unattended vehicle",
          "99 - Other",
          "01 - Approaching"
         ],
         "name": "Impact_type",
         "showlegend": true,
         "type": "pie",
         "uid": "f61d4f64-a193-11e8-9409-0800275aa47c",
         "values": [
          19735,
          9661,
          7985,
          7691,
          6233,
          4717,
          1456,
          860
         ]
        }
       ],
       "layout": {
        "title": "Impact_type"
       }
      },
      "text/html": [
       "<div id=\"5bf6ca3d-1d73-4358-83e5-d8cdb83824dc\" style=\"height: 525px; width: 100%;\" class=\"plotly-graph-div\"></div><script type=\"text/javascript\">require([\"plotly\"], function(Plotly) { window.PLOTLYENV=window.PLOTLYENV || {};window.PLOTLYENV.BASE_URL=\"https://plot.ly\";Plotly.newPlot(\"5bf6ca3d-1d73-4358-83e5-d8cdb83824dc\", [{\"domain\": {\"y\": [0, 1.0], \"x\": [0, 0.4]}, \"uid\": \"f620eac0-a193-11e8-9409-0800275aa47c\", \"columnwidth\": [110, 55, 55], \"cells\": {\"align\": [\"left\", \"right\", \"right\"], \"font\": {\"color\": [\"rgb(40, 40, 40)\", \"rgb(40, 40, 40)\", \"rgb(40, 40, 40)\", \"rgb(40, 40, 40)\", \"rgb(40, 40, 40)\"], \"size\": 12}, \"values\": [[\"03 - Rear end\", \"07 - SMV other\", \"02 - Angle\", \"04 - Sideswipe\", \"05 - Turning movement\", \"06 - SMV unattended vehicle\", \"99 - Other\", \"01 - Approaching\"], [19735, 9661, 7985, 7691, 6233, 4717, 1456, 860], [33.828722273646676, 16.56038945455792, 13.687476430456991, 13.18351674723165, 10.684288114093729, 8.08563886317666, 2.495800335973122, 1.4741677808632452]], \"suffix\": [\"\", \"\", \"%\"], \"format\": [null, null, \".2f\"]}, \"header\": {\"values\": [\"<b>Impact_type</b>\", \"<b># of Cases</b>\", \"<b>Percentage</b>\"]}, \"type\": \"table\"}, {\"showlegend\": true, \"name\": \"Impact_type\", \"labels\": [\"03 - Rear end\", \"07 - SMV other\", \"02 - Angle\", \"04 - Sideswipe\", \"05 - Turning movement\", \"06 - SMV unattended vehicle\", \"99 - Other\", \"01 - Approaching\"], \"domain\": {\"y\": [0, 1.0], \"x\": [0.6, 1.0]}, \"values\": [19735.0, 9661.0, 7985.0, 7691.0, 6233.0, 4717.0, 1456.0, 860.0], \"hoverinfo\": \"label+percent+name\", \"hole\": 0.4, \"type\": \"pie\", \"uid\": \"f620ee8a-a193-11e8-9409-0800275aa47c\"}], {\"title\": \"Impact_type\"}, {\"linkText\": \"Export to plot.ly\", \"showLink\": true})});</script>"
      ],
      "text/vnd.plotly.v1+html": [
       "<div id=\"5bf6ca3d-1d73-4358-83e5-d8cdb83824dc\" style=\"height: 525px; width: 100%;\" class=\"plotly-graph-div\"></div><script type=\"text/javascript\">require([\"plotly\"], function(Plotly) { window.PLOTLYENV=window.PLOTLYENV || {};window.PLOTLYENV.BASE_URL=\"https://plot.ly\";Plotly.newPlot(\"5bf6ca3d-1d73-4358-83e5-d8cdb83824dc\", [{\"domain\": {\"y\": [0, 1.0], \"x\": [0, 0.4]}, \"uid\": \"f620eac0-a193-11e8-9409-0800275aa47c\", \"columnwidth\": [110, 55, 55], \"cells\": {\"align\": [\"left\", \"right\", \"right\"], \"font\": {\"color\": [\"rgb(40, 40, 40)\", \"rgb(40, 40, 40)\", \"rgb(40, 40, 40)\", \"rgb(40, 40, 40)\", \"rgb(40, 40, 40)\"], \"size\": 12}, \"values\": [[\"03 - Rear end\", \"07 - SMV other\", \"02 - Angle\", \"04 - Sideswipe\", \"05 - Turning movement\", \"06 - SMV unattended vehicle\", \"99 - Other\", \"01 - Approaching\"], [19735, 9661, 7985, 7691, 6233, 4717, 1456, 860], [33.828722273646676, 16.56038945455792, 13.687476430456991, 13.18351674723165, 10.684288114093729, 8.08563886317666, 2.495800335973122, 1.4741677808632452]], \"suffix\": [\"\", \"\", \"%\"], \"format\": [null, null, \".2f\"]}, \"header\": {\"values\": [\"<b>Impact_type</b>\", \"<b># of Cases</b>\", \"<b>Percentage</b>\"]}, \"type\": \"table\"}, {\"showlegend\": true, \"name\": \"Impact_type\", \"labels\": [\"03 - Rear end\", \"07 - SMV other\", \"02 - Angle\", \"04 - Sideswipe\", \"05 - Turning movement\", \"06 - SMV unattended vehicle\", \"99 - Other\", \"01 - Approaching\"], \"domain\": {\"y\": [0, 1.0], \"x\": [0.6, 1.0]}, \"values\": [19735.0, 9661.0, 7985.0, 7691.0, 6233.0, 4717.0, 1456.0, 860.0], \"hoverinfo\": \"label+percent+name\", \"hole\": 0.4, \"type\": \"pie\", \"uid\": \"f620ee8a-a193-11e8-9409-0800275aa47c\"}], {\"title\": \"Impact_type\"}, {\"linkText\": \"Export to plot.ly\", \"showLink\": true})});</script>"
      ]
     },
     "metadata": {},
     "output_type": "display_data"
    },
    {
     "data": {
      "application/vnd.plotly.v1+json": {
       "data": [
        {
         "cells": {
          "align": [
           "left",
           "right",
           "right"
          ],
          "font": {
           "color": [
            "rgb(40, 40, 40)",
            "rgb(40, 40, 40)",
            "rgb(40, 40, 40)",
            "rgb(40, 40, 40)",
            "rgb(40, 40, 40)"
           ],
           "size": 12
          },
          "format": [
           null,
           null,
           ".2f"
          ],
          "suffix": [
           "",
           "",
           "%"
          ],
          "values": [
           [
            1,
            2,
            12,
            11,
            10,
            6,
            9,
            3,
            5,
            7,
            8,
            4
           ],
           [
            6499,
            6051,
            5774,
            5237,
            4709,
            4615,
            4508,
            4496,
            4401,
            4236,
            4118,
            3694
           ],
           [
            11.140251637011895,
            10.37231307209709,
            9.897493914772532,
            8.976996126024202,
            8.071925674517468,
            7.910795707771949,
            7.727381809455243,
            7.706812026466454,
            7.5439679111385365,
            7.261133395042682,
            7.058863862319587,
            6.332064863382358
           ]
          ]
         },
         "columnwidth": [
          110,
          55,
          55
         ],
         "domain": {
          "x": [
           0,
           0.4
          ],
          "y": [
           0,
           1
          ]
         },
         "header": {
          "values": [
           "<b>Month</b>",
           "<b># of Cases</b>",
           "<b>Percentage</b>"
          ]
         },
         "type": "table",
         "uid": "f62b9cc2-a193-11e8-9409-0800275aa47c"
        },
        {
         "domain": {
          "x": [
           0.6,
           1
          ],
          "y": [
           0,
           1
          ]
         },
         "hole": 0.4,
         "hoverinfo": "label+percent+name",
         "labels": [
          1,
          2,
          12,
          11,
          10,
          6,
          9,
          3,
          5,
          7,
          8,
          4
         ],
         "name": "Month",
         "showlegend": true,
         "type": "pie",
         "uid": "f62ba0b4-a193-11e8-9409-0800275aa47c",
         "values": [
          6499,
          6051,
          5774,
          5237,
          4709,
          4615,
          4508,
          4496,
          4401,
          4236,
          4118,
          3694
         ]
        }
       ],
       "layout": {
        "title": "Month"
       }
      },
      "text/html": [
       "<div id=\"f4c92d04-68a8-428e-afce-0062ad66cf2b\" style=\"height: 525px; width: 100%;\" class=\"plotly-graph-div\"></div><script type=\"text/javascript\">require([\"plotly\"], function(Plotly) { window.PLOTLYENV=window.PLOTLYENV || {};window.PLOTLYENV.BASE_URL=\"https://plot.ly\";Plotly.newPlot(\"f4c92d04-68a8-428e-afce-0062ad66cf2b\", [{\"domain\": {\"y\": [0, 1.0], \"x\": [0, 0.4]}, \"uid\": \"f63015d6-a193-11e8-9409-0800275aa47c\", \"columnwidth\": [110, 55, 55], \"cells\": {\"align\": [\"left\", \"right\", \"right\"], \"font\": {\"color\": [\"rgb(40, 40, 40)\", \"rgb(40, 40, 40)\", \"rgb(40, 40, 40)\", \"rgb(40, 40, 40)\", \"rgb(40, 40, 40)\"], \"size\": 12}, \"values\": [[1, 2, 12, 11, 10, 6, 9, 3, 5, 7, 8, 4], [6499, 6051, 5774, 5237, 4709, 4615, 4508, 4496, 4401, 4236, 4118, 3694], [11.140251637011895, 10.37231307209709, 9.897493914772532, 8.976996126024202, 8.071925674517468, 7.910795707771949, 7.727381809455243, 7.706812026466454, 7.5439679111385365, 7.261133395042682, 7.058863862319587, 6.332064863382358]], \"suffix\": [\"\", \"\", \"%\"], \"format\": [null, null, \".2f\"]}, \"header\": {\"values\": [\"<b>Month</b>\", \"<b># of Cases</b>\", \"<b>Percentage</b>\"]}, \"type\": \"table\"}, {\"showlegend\": true, \"name\": \"Month\", \"labels\": [1.0, 2.0, 12.0, 11.0, 10.0, 6.0, 9.0, 3.0, 5.0, 7.0, 8.0, 4.0], \"domain\": {\"y\": [0, 1.0], \"x\": [0.6, 1.0]}, \"values\": [6499.0, 6051.0, 5774.0, 5237.0, 4709.0, 4615.0, 4508.0, 4496.0, 4401.0, 4236.0, 4118.0, 3694.0], \"hoverinfo\": \"label+percent+name\", \"hole\": 0.4, \"type\": \"pie\", \"uid\": \"f630186a-a193-11e8-9409-0800275aa47c\"}], {\"title\": \"Month\"}, {\"linkText\": \"Export to plot.ly\", \"showLink\": true})});</script>"
      ],
      "text/vnd.plotly.v1+html": [
       "<div id=\"f4c92d04-68a8-428e-afce-0062ad66cf2b\" style=\"height: 525px; width: 100%;\" class=\"plotly-graph-div\"></div><script type=\"text/javascript\">require([\"plotly\"], function(Plotly) { window.PLOTLYENV=window.PLOTLYENV || {};window.PLOTLYENV.BASE_URL=\"https://plot.ly\";Plotly.newPlot(\"f4c92d04-68a8-428e-afce-0062ad66cf2b\", [{\"domain\": {\"y\": [0, 1.0], \"x\": [0, 0.4]}, \"uid\": \"f63015d6-a193-11e8-9409-0800275aa47c\", \"columnwidth\": [110, 55, 55], \"cells\": {\"align\": [\"left\", \"right\", \"right\"], \"font\": {\"color\": [\"rgb(40, 40, 40)\", \"rgb(40, 40, 40)\", \"rgb(40, 40, 40)\", \"rgb(40, 40, 40)\", \"rgb(40, 40, 40)\"], \"size\": 12}, \"values\": [[1, 2, 12, 11, 10, 6, 9, 3, 5, 7, 8, 4], [6499, 6051, 5774, 5237, 4709, 4615, 4508, 4496, 4401, 4236, 4118, 3694], [11.140251637011895, 10.37231307209709, 9.897493914772532, 8.976996126024202, 8.071925674517468, 7.910795707771949, 7.727381809455243, 7.706812026466454, 7.5439679111385365, 7.261133395042682, 7.058863862319587, 6.332064863382358]], \"suffix\": [\"\", \"\", \"%\"], \"format\": [null, null, \".2f\"]}, \"header\": {\"values\": [\"<b>Month</b>\", \"<b># of Cases</b>\", \"<b>Percentage</b>\"]}, \"type\": \"table\"}, {\"showlegend\": true, \"name\": \"Month\", \"labels\": [1.0, 2.0, 12.0, 11.0, 10.0, 6.0, 9.0, 3.0, 5.0, 7.0, 8.0, 4.0], \"domain\": {\"y\": [0, 1.0], \"x\": [0.6, 1.0]}, \"values\": [6499.0, 6051.0, 5774.0, 5237.0, 4709.0, 4615.0, 4508.0, 4496.0, 4401.0, 4236.0, 4118.0, 3694.0], \"hoverinfo\": \"label+percent+name\", \"hole\": 0.4, \"type\": \"pie\", \"uid\": \"f630186a-a193-11e8-9409-0800275aa47c\"}], {\"title\": \"Month\"}, {\"linkText\": \"Export to plot.ly\", \"showLink\": true})});</script>"
      ]
     },
     "metadata": {},
     "output_type": "display_data"
    },
    {
     "data": {
      "application/vnd.plotly.v1+json": {
       "data": [
        {
         "cells": {
          "align": [
           "left",
           "right",
           "right"
          ],
          "font": {
           "color": [
            "rgb(40, 40, 40)",
            "rgb(40, 40, 40)",
            "rgb(40, 40, 40)",
            "rgb(40, 40, 40)",
            "rgb(40, 40, 40)"
           ],
           "size": 12
          },
          "format": [
           null,
           null,
           ".2f"
          ],
          "suffix": [
           "",
           "",
           "%"
          ],
          "values": [
           [
            "T5_Fri",
            "T4_Thu",
            "T3_Wed",
            "T2_Tue",
            "T1_Mon",
            "T6_Sat",
            "T7_Sun"
           ],
           [
            10067,
            9851,
            9366,
            9158,
            7890,
            6688,
            5318
           ],
           [
            17.256333779011964,
            16.886077685213756,
            16.05471562275018,
            15.698172717611161,
            13.524632315129075,
            11.46422571908533,
            9.115842161198533
           ]
          ]
         },
         "columnwidth": [
          110,
          55,
          55
         ],
         "domain": {
          "x": [
           0,
           0.4
          ],
          "y": [
           0,
           1
          ]
         },
         "header": {
          "values": [
           "<b>Day_Of_Week</b>",
           "<b># of Cases</b>",
           "<b>Percentage</b>"
          ]
         },
         "type": "table",
         "uid": "f63b84ca-a193-11e8-9409-0800275aa47c"
        },
        {
         "domain": {
          "x": [
           0.6,
           1
          ],
          "y": [
           0,
           1
          ]
         },
         "hole": 0.4,
         "hoverinfo": "label+percent+name",
         "labels": [
          "T5_Fri",
          "T4_Thu",
          "T3_Wed",
          "T2_Tue",
          "T1_Mon",
          "T6_Sat",
          "T7_Sun"
         ],
         "name": "Day_Of_Week",
         "showlegend": true,
         "type": "pie",
         "uid": "f63b8754-a193-11e8-9409-0800275aa47c",
         "values": [
          10067,
          9851,
          9366,
          9158,
          7890,
          6688,
          5318
         ]
        }
       ],
       "layout": {
        "title": "Day_Of_Week"
       }
      },
      "text/html": [
       "<div id=\"6f17cf3d-0b56-42fd-88b4-3b6a6628966c\" style=\"height: 525px; width: 100%;\" class=\"plotly-graph-div\"></div><script type=\"text/javascript\">require([\"plotly\"], function(Plotly) { window.PLOTLYENV=window.PLOTLYENV || {};window.PLOTLYENV.BASE_URL=\"https://plot.ly\";Plotly.newPlot(\"6f17cf3d-0b56-42fd-88b4-3b6a6628966c\", [{\"domain\": {\"y\": [0, 1.0], \"x\": [0, 0.4]}, \"uid\": \"f63f5d0c-a193-11e8-9409-0800275aa47c\", \"columnwidth\": [110, 55, 55], \"cells\": {\"align\": [\"left\", \"right\", \"right\"], \"font\": {\"color\": [\"rgb(40, 40, 40)\", \"rgb(40, 40, 40)\", \"rgb(40, 40, 40)\", \"rgb(40, 40, 40)\", \"rgb(40, 40, 40)\"], \"size\": 12}, \"values\": [[\"T5_Fri\", \"T4_Thu\", \"T3_Wed\", \"T2_Tue\", \"T1_Mon\", \"T6_Sat\", \"T7_Sun\"], [10067, 9851, 9366, 9158, 7890, 6688, 5318], [17.256333779011964, 16.886077685213756, 16.05471562275018, 15.698172717611161, 13.524632315129075, 11.46422571908533, 9.115842161198533]], \"suffix\": [\"\", \"\", \"%\"], \"format\": [null, null, \".2f\"]}, \"header\": {\"values\": [\"<b>Day_Of_Week</b>\", \"<b># of Cases</b>\", \"<b>Percentage</b>\"]}, \"type\": \"table\"}, {\"showlegend\": true, \"name\": \"Day_Of_Week\", \"labels\": [\"T5_Fri\", \"T4_Thu\", \"T3_Wed\", \"T2_Tue\", \"T1_Mon\", \"T6_Sat\", \"T7_Sun\"], \"domain\": {\"y\": [0, 1.0], \"x\": [0.6, 1.0]}, \"values\": [10067.0, 9851.0, 9366.0, 9158.0, 7890.0, 6688.0, 5318.0], \"hoverinfo\": \"label+percent+name\", \"hole\": 0.4, \"type\": \"pie\", \"uid\": \"f63f5f64-a193-11e8-9409-0800275aa47c\"}], {\"title\": \"Day_Of_Week\"}, {\"linkText\": \"Export to plot.ly\", \"showLink\": true})});</script>"
      ],
      "text/vnd.plotly.v1+html": [
       "<div id=\"6f17cf3d-0b56-42fd-88b4-3b6a6628966c\" style=\"height: 525px; width: 100%;\" class=\"plotly-graph-div\"></div><script type=\"text/javascript\">require([\"plotly\"], function(Plotly) { window.PLOTLYENV=window.PLOTLYENV || {};window.PLOTLYENV.BASE_URL=\"https://plot.ly\";Plotly.newPlot(\"6f17cf3d-0b56-42fd-88b4-3b6a6628966c\", [{\"domain\": {\"y\": [0, 1.0], \"x\": [0, 0.4]}, \"uid\": \"f63f5d0c-a193-11e8-9409-0800275aa47c\", \"columnwidth\": [110, 55, 55], \"cells\": {\"align\": [\"left\", \"right\", \"right\"], \"font\": {\"color\": [\"rgb(40, 40, 40)\", \"rgb(40, 40, 40)\", \"rgb(40, 40, 40)\", \"rgb(40, 40, 40)\", \"rgb(40, 40, 40)\"], \"size\": 12}, \"values\": [[\"T5_Fri\", \"T4_Thu\", \"T3_Wed\", \"T2_Tue\", \"T1_Mon\", \"T6_Sat\", \"T7_Sun\"], [10067, 9851, 9366, 9158, 7890, 6688, 5318], [17.256333779011964, 16.886077685213756, 16.05471562275018, 15.698172717611161, 13.524632315129075, 11.46422571908533, 9.115842161198533]], \"suffix\": [\"\", \"\", \"%\"], \"format\": [null, null, \".2f\"]}, \"header\": {\"values\": [\"<b>Day_Of_Week</b>\", \"<b># of Cases</b>\", \"<b>Percentage</b>\"]}, \"type\": \"table\"}, {\"showlegend\": true, \"name\": \"Day_Of_Week\", \"labels\": [\"T5_Fri\", \"T4_Thu\", \"T3_Wed\", \"T2_Tue\", \"T1_Mon\", \"T6_Sat\", \"T7_Sun\"], \"domain\": {\"y\": [0, 1.0], \"x\": [0.6, 1.0]}, \"values\": [10067.0, 9851.0, 9366.0, 9158.0, 7890.0, 6688.0, 5318.0], \"hoverinfo\": \"label+percent+name\", \"hole\": 0.4, \"type\": \"pie\", \"uid\": \"f63f5f64-a193-11e8-9409-0800275aa47c\"}], {\"title\": \"Day_Of_Week\"}, {\"linkText\": \"Export to plot.ly\", \"showLink\": true})});</script>"
      ]
     },
     "metadata": {},
     "output_type": "display_data"
    }
   ],
   "source": [
    "def analysisInSinglePercent(Col): \n",
    "    count = '# of Cases'\n",
    "    df_cause = pd.crosstab(index = df_csv1417[Col], columns = count, margins = False)\n",
    "    df_cause[Col] = df_cause.index\n",
    "    sumOf = df_cause[count].sum()\n",
    "    df_cause['Percentage'] = df_cause[count]/sumOf*100\n",
    "    df_cause = df_cause[[Col, count, 'Percentage']]\n",
    "    df_cause = df_cause.sort_values([count], ascending=[0])\n",
    "    \n",
    "    tab = go.Table(header = dict(values = ['<b>' + a + '</b>' for a in df_cause.columns.tolist()]),\n",
    "                   domain = dict(x=[0, 0.4], y=[0,1.0]),\n",
    "                   columnwidth = [110,55,55], \n",
    "                   cells = dict(values = [df_cause[b].tolist() for b in df_cause.columns.tolist()],\n",
    "                                font = dict(color=['rgb(40, 40, 40)'] * 5, size=12),\n",
    "                                format = [None] + [None] + ['.2f'],\n",
    "                                suffix = [\"\", \"\", \"%\"], \n",
    "                                align = [\"left\", \"right\", \"right\"]),\n",
    "                  )\n",
    "    pie = go.Pie(values = df_cause[count], \n",
    "                 labels = df_cause.index, \n",
    "                 name = df_cause.index.name,\n",
    "                 domain=dict(x=[0.6, 1.0], y=[0, 1.0]),\n",
    "                 hoverinfo = \"label+percent+name\", hole = .4, showlegend = True)\n",
    "    fig = dict(data = [tab,pie], \n",
    "               layout = go.Layout(title = Col))\n",
    "    iplot(fig)\n",
    "    \n",
    "for n in ['Environment', 'Road_Surface', 'Traffic_Control', 'Collision_Location', \\\n",
    "          'Light', 'Collision_Classification', 'Impact_type', 'Month', \"Day_Of_Week\"]:\n",
    "    analysisInSinglePercent(n) "
   ]
  },
  {
   "cell_type": "markdown",
   "metadata": {},
   "source": [
    "**Brief Conclusion - Most of car collisions happen in:**\n",
    "* environment: clear (78.73%)\n",
    "* road surface: dry (65.76%)\n",
    "* traffic control: no traffic control (47.97%)\n",
    "* collision location: at intersection or intersection related (21.47%+31.34% = 52.81%)\n",
    "* light condition: daylight (68.36%)\n",
    "* collision classification: P.D. only (80.99%)\n",
    "* impact type: varies\n",
    "* month: December, January, February (11.14%+10.37%+9.90% = 31.41%)\n",
    "* day of week: workdays, the trend keeps rising from Monday to Friday\n",
    "\n",
    "**Hypothesis:**\n",
    "* Those weather that seems common, such as clear environment and dry road surface might lead drivers to be careless(it might be not a dependable factor: the proportions of those weathers such as clear days and dry road surfaces is much more bigger than the proportions of wet road surface and snowy environment). \n",
    "* A place without traffic control might lead drivers to ignore some details that perhaps cause accidents, or some drivers could break the rules. \n",
    "* The location where is close to of at intersection requires drivers to control their wheels and gases carefully due to the heavy traffic and roads to different directions. Under this kind of stressful situation, people without enough driving experience are easy to make mistakes. \n",
    "* Of course, most of collisions did not cause injuries, and the impact type varies, either. P.D. only collisions are highly related to SMV other and rear end impacts. \n",
    "* December, January and February are in winter of Ottawa. The season of winter in Ottawa is cold, so that this season causes many potential factors of collision: snow and ice creates terrible road surface condition that let cars slip, low temperature makes drivers' reaction slower, snow and long night reduces their visability, etc. \n",
    "* Objectively, the traffic is heavier on workdays in a week. According to the table, the stress of people on workdays increases step by step, and the proportion of collisions is also divided by days of week step by step. "
   ]
  },
  {
   "cell_type": "markdown",
   "metadata": {},
   "source": [
    "### 2.3 Temperature & Weather Related Variables"
   ]
  },
  {
   "cell_type": "code",
   "execution_count": 6,
   "metadata": {},
   "outputs": [
    {
     "data": {
      "application/vnd.plotly.v1+json": {
       "data": [
        {
         "name": "Number of Collisions",
         "opacity": 0.6,
         "text": [
          "1790",
          "1349",
          "1190",
          "936",
          "1093",
          "1166",
          "1115",
          "1094",
          "1126",
          "1260",
          "1340",
          "1384"
         ],
         "textposition": "auto",
         "type": "bar",
         "uid": "f9ab3ae2-a193-11e8-9409-0800275aa47c",
         "x": [
          1,
          2,
          3,
          4,
          5,
          6,
          7,
          8,
          9,
          10,
          11,
          12
         ],
         "y": [
          1790,
          1349,
          1190,
          936,
          1093,
          1166,
          1115,
          1094,
          1126,
          1260,
          1340,
          1384
         ]
        },
        {
         "mode": "lines",
         "name": "Monthly Mean Max Temp",
         "type": "scatter",
         "uid": "f9ab3e16-a193-11e8-9409-0800275aa47c",
         "x": [
          1,
          2,
          3,
          4,
          5,
          6,
          7,
          8,
          9,
          10,
          11,
          12
         ],
         "xaxis": "x2",
         "y": [
          -6.409677419354837,
          -5.192857142857142,
          -1.4612903225806446,
          10.04,
          19.96774193548387,
          24.766666666666666,
          24.909677419354843,
          24.370967741935484,
          20.99666666666666,
          14.36774193548387,
          4.833333333333333,
          -1.1225806451612907
         ],
         "yaxis": "y2"
        },
        {
         "fill": "tonexty",
         "mode": "lines",
         "name": "Monthly Mean Min Temp",
         "type": "scatter",
         "uid": "f9ab401e-a193-11e8-9409-0800275aa47c",
         "x": [
          1,
          2,
          3,
          4,
          5,
          6,
          7,
          8,
          9,
          10,
          11,
          12
         ],
         "xaxis": "x2",
         "y": [
          -15.283870967741935,
          -14.192857142857141,
          -11.703225806451616,
          0.6699999999999998,
          9.174193548387096,
          14.280000000000001,
          14.94838709677419,
          13.935483870967742,
          10.610000000000001,
          6.267741935483871,
          -2.146666666666667,
          -6.493548387096775
         ],
         "yaxis": "y2"
        }
       ],
       "layout": {
        "title": "Temperature Analysis (2014)",
        "xaxis": {
         "dtick": 1,
         "title": "Month"
        },
        "xaxis2": {
         "anchor": "y2",
         "dtick": 1
        },
        "yaxis": {
         "domain": [
          0,
          0.5
         ],
         "dtick": 500,
         "title": "# of Collisions"
        },
        "yaxis2": {
         "autorange": "reversed",
         "domain": [
          0.55,
          1
         ],
         "dtick": 5,
         "title": "Temp (°C)"
        }
       }
      },
      "text/html": [
       "<div id=\"f0b7c629-3b71-4673-bd97-b174f7a42df6\" style=\"height: 525px; width: 100%;\" class=\"plotly-graph-div\"></div><script type=\"text/javascript\">require([\"plotly\"], function(Plotly) { window.PLOTLYENV=window.PLOTLYENV || {};window.PLOTLYENV.BASE_URL=\"https://plot.ly\";Plotly.newPlot(\"f0b7c629-3b71-4673-bd97-b174f7a42df6\", [{\"opacity\": 0.6, \"textposition\": \"auto\", \"name\": \"Number of Collisions\", \"text\": [\"1790\", \"1349\", \"1190\", \"936\", \"1093\", \"1166\", \"1115\", \"1094\", \"1126\", \"1260\", \"1340\", \"1384\"], \"y\": [1790.0, 1349.0, 1190.0, 936.0, 1093.0, 1166.0, 1115.0, 1094.0, 1126.0, 1260.0, 1340.0, 1384.0], \"x\": [1.0, 2.0, 3.0, 4.0, 5.0, 6.0, 7.0, 8.0, 9.0, 10.0, 11.0, 12.0], \"type\": \"bar\", \"uid\": \"f9b058e2-a193-11e8-9409-0800275aa47c\"}, {\"name\": \"Monthly Mean Max Temp\", \"yaxis\": \"y2\", \"mode\": \"lines\", \"xaxis\": \"x2\", \"y\": [-6.409677419354837, -5.192857142857142, -1.4612903225806446, 10.04, 19.96774193548387, 24.766666666666666, 24.909677419354843, 24.370967741935484, 20.99666666666666, 14.36774193548387, 4.833333333333333, -1.1225806451612907], \"x\": [1.0, 2.0, 3.0, 4.0, 5.0, 6.0, 7.0, 8.0, 9.0, 10.0, 11.0, 12.0], \"type\": \"scatter\", \"uid\": \"f9b05b76-a193-11e8-9409-0800275aa47c\"}, {\"uid\": \"f9b05cf2-a193-11e8-9409-0800275aa47c\", \"yaxis\": \"y2\", \"mode\": \"lines\", \"xaxis\": \"x2\", \"y\": [-15.283870967741935, -14.192857142857141, -11.703225806451616, 0.6699999999999998, 9.174193548387096, 14.280000000000001, 14.94838709677419, 13.935483870967742, 10.610000000000001, 6.267741935483871, -2.146666666666667, -6.493548387096775], \"x\": [1.0, 2.0, 3.0, 4.0, 5.0, 6.0, 7.0, 8.0, 9.0, 10.0, 11.0, 12.0], \"fill\": \"tonexty\", \"type\": \"scatter\", \"name\": \"Monthly Mean Min Temp\"}], {\"yaxis2\": {\"domain\": [0.55, 1.0], \"autorange\": \"reversed\", \"dtick\": 5, \"title\": \"Temp (\\u00b0C)\"}, \"title\": \"Temperature Analysis (2014)\", \"xaxis2\": {\"anchor\": \"y2\", \"dtick\": 1}, \"xaxis\": {\"dtick\": 1, \"title\": \"Month\"}, \"yaxis\": {\"domain\": [0, 0.5], \"dtick\": 500, \"title\": \"# of Collisions\"}}, {\"linkText\": \"Export to plot.ly\", \"showLink\": true})});</script>"
      ],
      "text/vnd.plotly.v1+html": [
       "<div id=\"f0b7c629-3b71-4673-bd97-b174f7a42df6\" style=\"height: 525px; width: 100%;\" class=\"plotly-graph-div\"></div><script type=\"text/javascript\">require([\"plotly\"], function(Plotly) { window.PLOTLYENV=window.PLOTLYENV || {};window.PLOTLYENV.BASE_URL=\"https://plot.ly\";Plotly.newPlot(\"f0b7c629-3b71-4673-bd97-b174f7a42df6\", [{\"opacity\": 0.6, \"textposition\": \"auto\", \"name\": \"Number of Collisions\", \"text\": [\"1790\", \"1349\", \"1190\", \"936\", \"1093\", \"1166\", \"1115\", \"1094\", \"1126\", \"1260\", \"1340\", \"1384\"], \"y\": [1790.0, 1349.0, 1190.0, 936.0, 1093.0, 1166.0, 1115.0, 1094.0, 1126.0, 1260.0, 1340.0, 1384.0], \"x\": [1.0, 2.0, 3.0, 4.0, 5.0, 6.0, 7.0, 8.0, 9.0, 10.0, 11.0, 12.0], \"type\": \"bar\", \"uid\": \"f9b058e2-a193-11e8-9409-0800275aa47c\"}, {\"name\": \"Monthly Mean Max Temp\", \"yaxis\": \"y2\", \"mode\": \"lines\", \"xaxis\": \"x2\", \"y\": [-6.409677419354837, -5.192857142857142, -1.4612903225806446, 10.04, 19.96774193548387, 24.766666666666666, 24.909677419354843, 24.370967741935484, 20.99666666666666, 14.36774193548387, 4.833333333333333, -1.1225806451612907], \"x\": [1.0, 2.0, 3.0, 4.0, 5.0, 6.0, 7.0, 8.0, 9.0, 10.0, 11.0, 12.0], \"type\": \"scatter\", \"uid\": \"f9b05b76-a193-11e8-9409-0800275aa47c\"}, {\"uid\": \"f9b05cf2-a193-11e8-9409-0800275aa47c\", \"yaxis\": \"y2\", \"mode\": \"lines\", \"xaxis\": \"x2\", \"y\": [-15.283870967741935, -14.192857142857141, -11.703225806451616, 0.6699999999999998, 9.174193548387096, 14.280000000000001, 14.94838709677419, 13.935483870967742, 10.610000000000001, 6.267741935483871, -2.146666666666667, -6.493548387096775], \"x\": [1.0, 2.0, 3.0, 4.0, 5.0, 6.0, 7.0, 8.0, 9.0, 10.0, 11.0, 12.0], \"fill\": \"tonexty\", \"type\": \"scatter\", \"name\": \"Monthly Mean Min Temp\"}], {\"yaxis2\": {\"domain\": [0.55, 1.0], \"autorange\": \"reversed\", \"dtick\": 5, \"title\": \"Temp (\\u00b0C)\"}, \"title\": \"Temperature Analysis (2014)\", \"xaxis2\": {\"anchor\": \"y2\", \"dtick\": 1}, \"xaxis\": {\"dtick\": 1, \"title\": \"Month\"}, \"yaxis\": {\"domain\": [0, 0.5], \"dtick\": 500, \"title\": \"# of Collisions\"}}, {\"linkText\": \"Export to plot.ly\", \"showLink\": true})});</script>"
      ]
     },
     "metadata": {},
     "output_type": "display_data"
    },
    {
     "data": {
      "application/vnd.plotly.v1+json": {
       "data": [
        {
         "name": "Number of Collisions",
         "opacity": 0.6,
         "text": [
          "2027",
          "1900",
          "1064",
          "901",
          "1115",
          "1219",
          "1115",
          "1058",
          "1133",
          "1199",
          "1249",
          "1098"
         ],
         "textposition": "auto",
         "type": "bar",
         "uid": "f9bec56c-a193-11e8-9409-0800275aa47c",
         "x": [
          1,
          2,
          3,
          4,
          5,
          6,
          7,
          8,
          9,
          10,
          11,
          12
         ],
         "y": [
          2027,
          1900,
          1064,
          901,
          1115,
          1219,
          1115,
          1058,
          1133,
          1199,
          1249,
          1098
         ]
        },
        {
         "mode": "lines",
         "name": "Monthly Mean Max Temp",
         "type": "scatter",
         "uid": "f9bec896-a193-11e8-9409-0800275aa47c",
         "x": [
          1,
          2,
          3,
          4,
          5,
          6,
          7,
          8,
          9,
          10,
          11,
          12
         ],
         "xaxis": "x2",
         "y": [
          -7.848387096774193,
          -11.12857142857143,
          -0.05483870967741936,
          11.893333333333333,
          22.822580645161292,
          22.996666666666666,
          27.022580645161288,
          25.712903225806446,
          24.13333333333333,
          12.761290322580642,
          9.07666666666667,
          4.906451612903226
         ],
         "yaxis": "y2"
        },
        {
         "fill": "tonexty",
         "mode": "lines",
         "name": "Monthly Mean Min Temp",
         "type": "scatter",
         "uid": "f9beca8a-a193-11e8-9409-0800275aa47c",
         "x": [
          1,
          2,
          3,
          4,
          5,
          6,
          7,
          8,
          9,
          10,
          11,
          12
         ],
         "xaxis": "x2",
         "y": [
          -17.635483870967743,
          -20.41785714285714,
          -9.332258064516129,
          1.1033333333333333,
          9.832258064516127,
          12.486666666666668,
          16.019354838709678,
          14.893548387096772,
          12.866666666666667,
          3.2000000000000006,
          0.8000000000000002,
          -1.2096774193548387
         ],
         "yaxis": "y2"
        }
       ],
       "layout": {
        "title": "Temperature Analysis (2015)",
        "xaxis": {
         "dtick": 1,
         "title": "Month"
        },
        "xaxis2": {
         "anchor": "y2",
         "dtick": 1
        },
        "yaxis": {
         "domain": [
          0,
          0.5
         ],
         "dtick": 500,
         "title": "# of Collisions"
        },
        "yaxis2": {
         "autorange": "reversed",
         "domain": [
          0.55,
          1
         ],
         "dtick": 5,
         "title": "Temp (°C)"
        }
       }
      },
      "text/html": [
       "<div id=\"eb9346ba-1259-4d78-ba55-055fcdcaa3c9\" style=\"height: 525px; width: 100%;\" class=\"plotly-graph-div\"></div><script type=\"text/javascript\">require([\"plotly\"], function(Plotly) { window.PLOTLYENV=window.PLOTLYENV || {};window.PLOTLYENV.BASE_URL=\"https://plot.ly\";Plotly.newPlot(\"eb9346ba-1259-4d78-ba55-055fcdcaa3c9\", [{\"opacity\": 0.6, \"textposition\": \"auto\", \"name\": \"Number of Collisions\", \"text\": [\"2027\", \"1900\", \"1064\", \"901\", \"1115\", \"1219\", \"1115\", \"1058\", \"1133\", \"1199\", \"1249\", \"1098\"], \"y\": [2027.0, 1900.0, 1064.0, 901.0, 1115.0, 1219.0, 1115.0, 1058.0, 1133.0, 1199.0, 1249.0, 1098.0], \"x\": [1.0, 2.0, 3.0, 4.0, 5.0, 6.0, 7.0, 8.0, 9.0, 10.0, 11.0, 12.0], \"type\": \"bar\", \"uid\": \"f9c7fe52-a193-11e8-9409-0800275aa47c\"}, {\"name\": \"Monthly Mean Max Temp\", \"yaxis\": \"y2\", \"mode\": \"lines\", \"xaxis\": \"x2\", \"y\": [-7.848387096774193, -11.12857142857143, -0.05483870967741936, 11.893333333333333, 22.822580645161292, 22.996666666666666, 27.022580645161288, 25.712903225806446, 24.13333333333333, 12.761290322580642, 9.07666666666667, 4.906451612903226], \"x\": [1.0, 2.0, 3.0, 4.0, 5.0, 6.0, 7.0, 8.0, 9.0, 10.0, 11.0, 12.0], \"type\": \"scatter\", \"uid\": \"f9c80118-a193-11e8-9409-0800275aa47c\"}, {\"uid\": \"f9c8029e-a193-11e8-9409-0800275aa47c\", \"yaxis\": \"y2\", \"mode\": \"lines\", \"xaxis\": \"x2\", \"y\": [-17.635483870967743, -20.41785714285714, -9.332258064516129, 1.1033333333333333, 9.832258064516127, 12.486666666666668, 16.019354838709678, 14.893548387096772, 12.866666666666667, 3.2000000000000006, 0.8000000000000002, -1.2096774193548387], \"x\": [1.0, 2.0, 3.0, 4.0, 5.0, 6.0, 7.0, 8.0, 9.0, 10.0, 11.0, 12.0], \"fill\": \"tonexty\", \"type\": \"scatter\", \"name\": \"Monthly Mean Min Temp\"}], {\"yaxis2\": {\"domain\": [0.55, 1.0], \"autorange\": \"reversed\", \"dtick\": 5, \"title\": \"Temp (\\u00b0C)\"}, \"title\": \"Temperature Analysis (2015)\", \"xaxis2\": {\"anchor\": \"y2\", \"dtick\": 1}, \"xaxis\": {\"dtick\": 1, \"title\": \"Month\"}, \"yaxis\": {\"domain\": [0, 0.5], \"dtick\": 500, \"title\": \"# of Collisions\"}}, {\"linkText\": \"Export to plot.ly\", \"showLink\": true})});</script>"
      ],
      "text/vnd.plotly.v1+html": [
       "<div id=\"eb9346ba-1259-4d78-ba55-055fcdcaa3c9\" style=\"height: 525px; width: 100%;\" class=\"plotly-graph-div\"></div><script type=\"text/javascript\">require([\"plotly\"], function(Plotly) { window.PLOTLYENV=window.PLOTLYENV || {};window.PLOTLYENV.BASE_URL=\"https://plot.ly\";Plotly.newPlot(\"eb9346ba-1259-4d78-ba55-055fcdcaa3c9\", [{\"opacity\": 0.6, \"textposition\": \"auto\", \"name\": \"Number of Collisions\", \"text\": [\"2027\", \"1900\", \"1064\", \"901\", \"1115\", \"1219\", \"1115\", \"1058\", \"1133\", \"1199\", \"1249\", \"1098\"], \"y\": [2027.0, 1900.0, 1064.0, 901.0, 1115.0, 1219.0, 1115.0, 1058.0, 1133.0, 1199.0, 1249.0, 1098.0], \"x\": [1.0, 2.0, 3.0, 4.0, 5.0, 6.0, 7.0, 8.0, 9.0, 10.0, 11.0, 12.0], \"type\": \"bar\", \"uid\": \"f9c7fe52-a193-11e8-9409-0800275aa47c\"}, {\"name\": \"Monthly Mean Max Temp\", \"yaxis\": \"y2\", \"mode\": \"lines\", \"xaxis\": \"x2\", \"y\": [-7.848387096774193, -11.12857142857143, -0.05483870967741936, 11.893333333333333, 22.822580645161292, 22.996666666666666, 27.022580645161288, 25.712903225806446, 24.13333333333333, 12.761290322580642, 9.07666666666667, 4.906451612903226], \"x\": [1.0, 2.0, 3.0, 4.0, 5.0, 6.0, 7.0, 8.0, 9.0, 10.0, 11.0, 12.0], \"type\": \"scatter\", \"uid\": \"f9c80118-a193-11e8-9409-0800275aa47c\"}, {\"uid\": \"f9c8029e-a193-11e8-9409-0800275aa47c\", \"yaxis\": \"y2\", \"mode\": \"lines\", \"xaxis\": \"x2\", \"y\": [-17.635483870967743, -20.41785714285714, -9.332258064516129, 1.1033333333333333, 9.832258064516127, 12.486666666666668, 16.019354838709678, 14.893548387096772, 12.866666666666667, 3.2000000000000006, 0.8000000000000002, -1.2096774193548387], \"x\": [1.0, 2.0, 3.0, 4.0, 5.0, 6.0, 7.0, 8.0, 9.0, 10.0, 11.0, 12.0], \"fill\": \"tonexty\", \"type\": \"scatter\", \"name\": \"Monthly Mean Min Temp\"}], {\"yaxis2\": {\"domain\": [0.55, 1.0], \"autorange\": \"reversed\", \"dtick\": 5, \"title\": \"Temp (\\u00b0C)\"}, \"title\": \"Temperature Analysis (2015)\", \"xaxis2\": {\"anchor\": \"y2\", \"dtick\": 1}, \"xaxis\": {\"dtick\": 1, \"title\": \"Month\"}, \"yaxis\": {\"domain\": [0, 0.5], \"dtick\": 500, \"title\": \"# of Collisions\"}}, {\"linkText\": \"Export to plot.ly\", \"showLink\": true})});</script>"
      ]
     },
     "metadata": {},
     "output_type": "display_data"
    },
    {
     "data": {
      "application/vnd.plotly.v1+json": {
       "data": [
        {
         "name": "Number of Collisions",
         "opacity": 0.6,
         "text": [
          "1407",
          "1523",
          "1018",
          "944",
          "1109",
          "1135",
          "1035",
          "976",
          "1073",
          "1111",
          "1155",
          "1537"
         ],
         "textposition": "auto",
         "type": "bar",
         "uid": "f9d52eb0-a193-11e8-9409-0800275aa47c",
         "x": [
          1,
          2,
          3,
          4,
          5,
          6,
          7,
          8,
          9,
          10,
          11,
          12
         ],
         "y": [
          1407,
          1523,
          1018,
          944,
          1109,
          1135,
          1035,
          976,
          1073,
          1111,
          1155,
          1537
         ]
        },
        {
         "mode": "lines",
         "name": "Monthly Mean Max Temp",
         "type": "scatter",
         "uid": "f9d5314e-a193-11e8-9409-0800275aa47c",
         "x": [
          1,
          2,
          3,
          4,
          5,
          6,
          7,
          8,
          9,
          10,
          11,
          12
         ],
         "xaxis": "x2",
         "y": [
          -3.1064516129032262,
          -3.168965517241379,
          3.8290322580645166,
          9.2,
          20.919354838709676,
          24.966666666666665,
          27.370967741935484,
          28.080645161290324,
          22.916666666666668,
          13.725806451612904,
          7.35,
          -1.1129032258064515
         ],
         "yaxis": "y2"
        },
        {
         "fill": "tonexty",
         "mode": "lines",
         "name": "Monthly Mean Min Temp",
         "type": "scatter",
         "uid": "f9d532d4-a193-11e8-9409-0800275aa47c",
         "x": [
          1,
          2,
          3,
          4,
          5,
          6,
          7,
          8,
          9,
          10,
          11,
          12
         ],
         "xaxis": "x2",
         "y": [
          -11.838709677419356,
          -12.320689655172414,
          -5.432258064516129,
          -1.4833333333333334,
          8.580645161290322,
          12.716666666666667,
          15.838709677419354,
          16.43548387096774,
          11.1,
          4.951612903225806,
          0.11666666666666667,
          -8.564516129032258
         ],
         "yaxis": "y2"
        }
       ],
       "layout": {
        "title": "Temperature Analysis (2016)",
        "xaxis": {
         "dtick": 1,
         "title": "Month"
        },
        "xaxis2": {
         "anchor": "y2",
         "dtick": 1
        },
        "yaxis": {
         "domain": [
          0,
          0.5
         ],
         "dtick": 500,
         "title": "# of Collisions"
        },
        "yaxis2": {
         "autorange": "reversed",
         "domain": [
          0.55,
          1
         ],
         "dtick": 5,
         "title": "Temp (°C)"
        }
       }
      },
      "text/html": [
       "<div id=\"2eb1a927-f5a9-481a-bcf9-39b25a0298e2\" style=\"height: 525px; width: 100%;\" class=\"plotly-graph-div\"></div><script type=\"text/javascript\">require([\"plotly\"], function(Plotly) { window.PLOTLYENV=window.PLOTLYENV || {};window.PLOTLYENV.BASE_URL=\"https://plot.ly\";Plotly.newPlot(\"2eb1a927-f5a9-481a-bcf9-39b25a0298e2\", [{\"opacity\": 0.6, \"textposition\": \"auto\", \"name\": \"Number of Collisions\", \"text\": [\"1407\", \"1523\", \"1018\", \"944\", \"1109\", \"1135\", \"1035\", \"976\", \"1073\", \"1111\", \"1155\", \"1537\"], \"y\": [1407.0, 1523.0, 1018.0, 944.0, 1109.0, 1135.0, 1035.0, 976.0, 1073.0, 1111.0, 1155.0, 1537.0], \"x\": [1.0, 2.0, 3.0, 4.0, 5.0, 6.0, 7.0, 8.0, 9.0, 10.0, 11.0, 12.0], \"type\": \"bar\", \"uid\": \"f9db47c8-a193-11e8-9409-0800275aa47c\"}, {\"name\": \"Monthly Mean Max Temp\", \"yaxis\": \"y2\", \"mode\": \"lines\", \"xaxis\": \"x2\", \"y\": [-3.1064516129032262, -3.168965517241379, 3.8290322580645166, 9.2, 20.919354838709676, 24.966666666666665, 27.370967741935484, 28.080645161290324, 22.916666666666668, 13.725806451612904, 7.35, -1.1129032258064515], \"x\": [1.0, 2.0, 3.0, 4.0, 5.0, 6.0, 7.0, 8.0, 9.0, 10.0, 11.0, 12.0], \"type\": \"scatter\", \"uid\": \"f9db4ab6-a193-11e8-9409-0800275aa47c\"}, {\"uid\": \"f9db4c82-a193-11e8-9409-0800275aa47c\", \"yaxis\": \"y2\", \"mode\": \"lines\", \"xaxis\": \"x2\", \"y\": [-11.838709677419356, -12.320689655172414, -5.432258064516129, -1.4833333333333334, 8.580645161290322, 12.716666666666667, 15.838709677419354, 16.43548387096774, 11.1, 4.951612903225806, 0.11666666666666667, -8.564516129032258], \"x\": [1.0, 2.0, 3.0, 4.0, 5.0, 6.0, 7.0, 8.0, 9.0, 10.0, 11.0, 12.0], \"fill\": \"tonexty\", \"type\": \"scatter\", \"name\": \"Monthly Mean Min Temp\"}], {\"yaxis2\": {\"domain\": [0.55, 1.0], \"autorange\": \"reversed\", \"dtick\": 5, \"title\": \"Temp (\\u00b0C)\"}, \"title\": \"Temperature Analysis (2016)\", \"xaxis2\": {\"anchor\": \"y2\", \"dtick\": 1}, \"xaxis\": {\"dtick\": 1, \"title\": \"Month\"}, \"yaxis\": {\"domain\": [0, 0.5], \"dtick\": 500, \"title\": \"# of Collisions\"}}, {\"linkText\": \"Export to plot.ly\", \"showLink\": true})});</script>"
      ],
      "text/vnd.plotly.v1+html": [
       "<div id=\"2eb1a927-f5a9-481a-bcf9-39b25a0298e2\" style=\"height: 525px; width: 100%;\" class=\"plotly-graph-div\"></div><script type=\"text/javascript\">require([\"plotly\"], function(Plotly) { window.PLOTLYENV=window.PLOTLYENV || {};window.PLOTLYENV.BASE_URL=\"https://plot.ly\";Plotly.newPlot(\"2eb1a927-f5a9-481a-bcf9-39b25a0298e2\", [{\"opacity\": 0.6, \"textposition\": \"auto\", \"name\": \"Number of Collisions\", \"text\": [\"1407\", \"1523\", \"1018\", \"944\", \"1109\", \"1135\", \"1035\", \"976\", \"1073\", \"1111\", \"1155\", \"1537\"], \"y\": [1407.0, 1523.0, 1018.0, 944.0, 1109.0, 1135.0, 1035.0, 976.0, 1073.0, 1111.0, 1155.0, 1537.0], \"x\": [1.0, 2.0, 3.0, 4.0, 5.0, 6.0, 7.0, 8.0, 9.0, 10.0, 11.0, 12.0], \"type\": \"bar\", \"uid\": \"f9db47c8-a193-11e8-9409-0800275aa47c\"}, {\"name\": \"Monthly Mean Max Temp\", \"yaxis\": \"y2\", \"mode\": \"lines\", \"xaxis\": \"x2\", \"y\": [-3.1064516129032262, -3.168965517241379, 3.8290322580645166, 9.2, 20.919354838709676, 24.966666666666665, 27.370967741935484, 28.080645161290324, 22.916666666666668, 13.725806451612904, 7.35, -1.1129032258064515], \"x\": [1.0, 2.0, 3.0, 4.0, 5.0, 6.0, 7.0, 8.0, 9.0, 10.0, 11.0, 12.0], \"type\": \"scatter\", \"uid\": \"f9db4ab6-a193-11e8-9409-0800275aa47c\"}, {\"uid\": \"f9db4c82-a193-11e8-9409-0800275aa47c\", \"yaxis\": \"y2\", \"mode\": \"lines\", \"xaxis\": \"x2\", \"y\": [-11.838709677419356, -12.320689655172414, -5.432258064516129, -1.4833333333333334, 8.580645161290322, 12.716666666666667, 15.838709677419354, 16.43548387096774, 11.1, 4.951612903225806, 0.11666666666666667, -8.564516129032258], \"x\": [1.0, 2.0, 3.0, 4.0, 5.0, 6.0, 7.0, 8.0, 9.0, 10.0, 11.0, 12.0], \"fill\": \"tonexty\", \"type\": \"scatter\", \"name\": \"Monthly Mean Min Temp\"}], {\"yaxis2\": {\"domain\": [0.55, 1.0], \"autorange\": \"reversed\", \"dtick\": 5, \"title\": \"Temp (\\u00b0C)\"}, \"title\": \"Temperature Analysis (2016)\", \"xaxis2\": {\"anchor\": \"y2\", \"dtick\": 1}, \"xaxis\": {\"dtick\": 1, \"title\": \"Month\"}, \"yaxis\": {\"domain\": [0, 0.5], \"dtick\": 500, \"title\": \"# of Collisions\"}}, {\"linkText\": \"Export to plot.ly\", \"showLink\": true})});</script>"
      ]
     },
     "metadata": {},
     "output_type": "display_data"
    },
    {
     "data": {
      "application/vnd.plotly.v1+json": {
       "data": [
        {
         "name": "Number of Collisions",
         "opacity": 0.6,
         "text": [
          "1275",
          "1279",
          "1224",
          "913",
          "1084",
          "1095",
          "971",
          "990",
          "1176",
          "1139",
          "1493",
          "1755"
         ],
         "textposition": "auto",
         "type": "bar",
         "uid": "f9f94520-a193-11e8-9409-0800275aa47c",
         "x": [
          1,
          2,
          3,
          4,
          5,
          6,
          7,
          8,
          9,
          10,
          11,
          12
         ],
         "y": [
          1275,
          1279,
          1224,
          913,
          1084,
          1095,
          971,
          990,
          1176,
          1139,
          1493,
          1755
         ]
        },
        {
         "mode": "lines",
         "name": "Monthly Mean Max Temp",
         "type": "scatter",
         "uid": "f9f9480e-a193-11e8-9409-0800275aa47c",
         "x": [
          1,
          2,
          3,
          4,
          5,
          6,
          7,
          8,
          9,
          10,
          11,
          12
         ],
         "xaxis": "x2",
         "y": [
          -1.6935483870967742,
          -0.6785714285714286,
          -0.9516129032258065,
          12.083333333333334,
          17.419354838709676,
          23.166666666666668,
          25.306451612903224,
          24.306451612903224,
          23.6,
          17.532258064516128,
          4.716666666666667,
          -6.041935483870968
         ],
         "yaxis": "y2"
        },
        {
         "fill": "tonexty",
         "mode": "lines",
         "name": "Monthly Mean Min Temp",
         "type": "scatter",
         "uid": "f9f949a8-a193-11e8-9409-0800275aa47c",
         "x": [
          1,
          2,
          3,
          4,
          5,
          6,
          7,
          8,
          9,
          10,
          11,
          12
         ],
         "xaxis": "x2",
         "y": [
          -9.096774193548388,
          -8.839285714285714,
          -9.048387096774194,
          3.3,
          8.258064516129032,
          13.966666666666667,
          15.725806451612904,
          14.387096774193548,
          12.133333333333333,
          7.516129032258065,
          -2.55,
          -12.367741935483872
         ],
         "yaxis": "y2"
        }
       ],
       "layout": {
        "title": "Temperature Analysis (2017)",
        "xaxis": {
         "dtick": 1,
         "title": "Month"
        },
        "xaxis2": {
         "anchor": "y2",
         "dtick": 1
        },
        "yaxis": {
         "domain": [
          0,
          0.5
         ],
         "dtick": 500,
         "title": "# of Collisions"
        },
        "yaxis2": {
         "autorange": "reversed",
         "domain": [
          0.55,
          1
         ],
         "dtick": 5,
         "title": "Temp (°C)"
        }
       }
      },
      "text/html": [
       "<div id=\"fc611b9a-bfb3-4324-8fd3-fdd60613b173\" style=\"height: 525px; width: 100%;\" class=\"plotly-graph-div\"></div><script type=\"text/javascript\">require([\"plotly\"], function(Plotly) { window.PLOTLYENV=window.PLOTLYENV || {};window.PLOTLYENV.BASE_URL=\"https://plot.ly\";Plotly.newPlot(\"fc611b9a-bfb3-4324-8fd3-fdd60613b173\", [{\"opacity\": 0.6, \"textposition\": \"auto\", \"name\": \"Number of Collisions\", \"text\": [\"1275\", \"1279\", \"1224\", \"913\", \"1084\", \"1095\", \"971\", \"990\", \"1176\", \"1139\", \"1493\", \"1755\"], \"y\": [1275.0, 1279.0, 1224.0, 913.0, 1084.0, 1095.0, 971.0, 990.0, 1176.0, 1139.0, 1493.0, 1755.0], \"x\": [1.0, 2.0, 3.0, 4.0, 5.0, 6.0, 7.0, 8.0, 9.0, 10.0, 11.0, 12.0], \"type\": \"bar\", \"uid\": \"f9ff0b2c-a193-11e8-9409-0800275aa47c\"}, {\"name\": \"Monthly Mean Max Temp\", \"yaxis\": \"y2\", \"mode\": \"lines\", \"xaxis\": \"x2\", \"y\": [-1.6935483870967742, -0.6785714285714286, -0.9516129032258065, 12.083333333333334, 17.419354838709676, 23.166666666666668, 25.306451612903224, 24.306451612903224, 23.6, 17.532258064516128, 4.716666666666667, -6.041935483870968], \"x\": [1.0, 2.0, 3.0, 4.0, 5.0, 6.0, 7.0, 8.0, 9.0, 10.0, 11.0, 12.0], \"type\": \"scatter\", \"uid\": \"f9ff0eec-a193-11e8-9409-0800275aa47c\"}, {\"uid\": \"f9ff1162-a193-11e8-9409-0800275aa47c\", \"yaxis\": \"y2\", \"mode\": \"lines\", \"xaxis\": \"x2\", \"y\": [-9.096774193548388, -8.839285714285714, -9.048387096774194, 3.3, 8.258064516129032, 13.966666666666667, 15.725806451612904, 14.387096774193548, 12.133333333333333, 7.516129032258065, -2.55, -12.367741935483872], \"x\": [1.0, 2.0, 3.0, 4.0, 5.0, 6.0, 7.0, 8.0, 9.0, 10.0, 11.0, 12.0], \"fill\": \"tonexty\", \"type\": \"scatter\", \"name\": \"Monthly Mean Min Temp\"}], {\"yaxis2\": {\"domain\": [0.55, 1.0], \"autorange\": \"reversed\", \"dtick\": 5, \"title\": \"Temp (\\u00b0C)\"}, \"title\": \"Temperature Analysis (2017)\", \"xaxis2\": {\"anchor\": \"y2\", \"dtick\": 1}, \"xaxis\": {\"dtick\": 1, \"title\": \"Month\"}, \"yaxis\": {\"domain\": [0, 0.5], \"dtick\": 500, \"title\": \"# of Collisions\"}}, {\"linkText\": \"Export to plot.ly\", \"showLink\": true})});</script>"
      ],
      "text/vnd.plotly.v1+html": [
       "<div id=\"fc611b9a-bfb3-4324-8fd3-fdd60613b173\" style=\"height: 525px; width: 100%;\" class=\"plotly-graph-div\"></div><script type=\"text/javascript\">require([\"plotly\"], function(Plotly) { window.PLOTLYENV=window.PLOTLYENV || {};window.PLOTLYENV.BASE_URL=\"https://plot.ly\";Plotly.newPlot(\"fc611b9a-bfb3-4324-8fd3-fdd60613b173\", [{\"opacity\": 0.6, \"textposition\": \"auto\", \"name\": \"Number of Collisions\", \"text\": [\"1275\", \"1279\", \"1224\", \"913\", \"1084\", \"1095\", \"971\", \"990\", \"1176\", \"1139\", \"1493\", \"1755\"], \"y\": [1275.0, 1279.0, 1224.0, 913.0, 1084.0, 1095.0, 971.0, 990.0, 1176.0, 1139.0, 1493.0, 1755.0], \"x\": [1.0, 2.0, 3.0, 4.0, 5.0, 6.0, 7.0, 8.0, 9.0, 10.0, 11.0, 12.0], \"type\": \"bar\", \"uid\": \"f9ff0b2c-a193-11e8-9409-0800275aa47c\"}, {\"name\": \"Monthly Mean Max Temp\", \"yaxis\": \"y2\", \"mode\": \"lines\", \"xaxis\": \"x2\", \"y\": [-1.6935483870967742, -0.6785714285714286, -0.9516129032258065, 12.083333333333334, 17.419354838709676, 23.166666666666668, 25.306451612903224, 24.306451612903224, 23.6, 17.532258064516128, 4.716666666666667, -6.041935483870968], \"x\": [1.0, 2.0, 3.0, 4.0, 5.0, 6.0, 7.0, 8.0, 9.0, 10.0, 11.0, 12.0], \"type\": \"scatter\", \"uid\": \"f9ff0eec-a193-11e8-9409-0800275aa47c\"}, {\"uid\": \"f9ff1162-a193-11e8-9409-0800275aa47c\", \"yaxis\": \"y2\", \"mode\": \"lines\", \"xaxis\": \"x2\", \"y\": [-9.096774193548388, -8.839285714285714, -9.048387096774194, 3.3, 8.258064516129032, 13.966666666666667, 15.725806451612904, 14.387096774193548, 12.133333333333333, 7.516129032258065, -2.55, -12.367741935483872], \"x\": [1.0, 2.0, 3.0, 4.0, 5.0, 6.0, 7.0, 8.0, 9.0, 10.0, 11.0, 12.0], \"fill\": \"tonexty\", \"type\": \"scatter\", \"name\": \"Monthly Mean Min Temp\"}], {\"yaxis2\": {\"domain\": [0.55, 1.0], \"autorange\": \"reversed\", \"dtick\": 5, \"title\": \"Temp (\\u00b0C)\"}, \"title\": \"Temperature Analysis (2017)\", \"xaxis2\": {\"anchor\": \"y2\", \"dtick\": 1}, \"xaxis\": {\"dtick\": 1, \"title\": \"Month\"}, \"yaxis\": {\"domain\": [0, 0.5], \"dtick\": 500, \"title\": \"# of Collisions\"}}, {\"linkText\": \"Export to plot.ly\", \"showLink\": true})});</script>"
      ]
     },
     "metadata": {},
     "output_type": "display_data"
    },
    {
     "name": "stdout",
     "output_type": "stream",
     "text": [
      "The correlation between number of collisions and mean temperature: \n",
      "all months = -0.7044\n",
      "In each month: \n",
      "\n",
      "January = -0.9936\n",
      "February = -0.9209\n",
      "March = -0.7807\n",
      "April = -0.8263\n",
      "May = 0.9109\n",
      "June = -0.4081\n",
      "July = -0.0211\n",
      "August = -0.5915\n",
      "September = 0.3481\n",
      "October = -0.1837\n",
      "November = -0.7828\n",
      "December = -0.9908\n"
     ]
    }
   ],
   "source": [
    "df_avg = wt1417.groupby([\"Year\",\"Month\"]).mean()\n",
    "df_avg[\"Year\"] = [x[0] for x in df_avg.index]\n",
    "df_avg[\"Month\"] = [x[1] for x in df_avg.index]\n",
    "\n",
    "df_sum = wt1417.groupby([\"Year\",\"Month\"]).sum()\n",
    "df_sum[\"Year\"] = [x[0] for x in df_sum.index]\n",
    "df_sum[\"Month\"] = [x[1] for x in df_sum.index]\n",
    "\n",
    "def printTemInYear(n):\n",
    "    monthCase = go.Bar(x = df_sum[df_sum[\"Year\"]==n][\"Month\"],\n",
    "                       y = df_sum[df_sum[\"Year\"]==n][\"Number of Collisions\"],\n",
    "                       text = df_sum[df_sum[\"Year\"]==n][\"Number of Collisions\"],\n",
    "                       textposition = 'auto',\n",
    "                       opacity = 0.6,\n",
    "                       name = 'Number of Collisions')\n",
    "    max_temp = go.Scatter(x = df_avg[df_avg[\"Year\"]==n][\"Month\"],\n",
    "                         y = df_avg[df_avg[\"Year\"]==n][\"Max Temp (°C)\"],\n",
    "                         mode = 'lines',\n",
    "                         name = 'Monthly Mean Max Temp',\n",
    "                         xaxis = 'x2', \n",
    "                         yaxis = 'y2')\n",
    "    min_temp = go.Scatter(x = df_avg[df_avg[\"Year\"]==n][\"Month\"],\n",
    "                         y = df_avg[df_avg[\"Year\"]==n][\"Min Temp (°C)\"],\n",
    "                         mode = 'lines',\n",
    "                         name = 'Monthly Mean Min Temp',\n",
    "                         fill = 'tonexty', \n",
    "                         xaxis = 'x2', \n",
    "                         yaxis = 'y2')\n",
    "    fig = dict(data = [monthCase, max_temp,min_temp], \n",
    "               layout = go.Layout(title = \"Temperature Analysis (\" + str(n) + \")\",\n",
    "                                  xaxis = dict(title='Month', dtick=1),\n",
    "                                  yaxis = dict(title='# of Collisions', dtick=500, domain = [0,0.5]),\n",
    "                                  yaxis2 = dict(title='Temp (°C)', dtick=5, domain = [0.55,1.0],autorange='reversed'),\n",
    "                                  xaxis2 = dict(dtick=1, anchor = 'y2')\n",
    "                                 )\n",
    "              )\n",
    "    iplot(fig)\n",
    "    \n",
    "for m in range(2014,2018):\n",
    "    printTemInYear(m)\n",
    "    \n",
    "print(\"The correlation between number of collisions and mean temperature: \\n\" \n",
    "      + \"all months = %.4f\" % df_avg[\"Number of Collisions\"].corr(df_avg[\"Mean Temp (°C)\"]) + \"\\n\" \n",
    "      + \"In each month: \" + \"\\n\")\n",
    "\n",
    "def corrInMonth(l):\n",
    "      s = {\n",
    "        1: 'January',\n",
    "        2: 'February',\n",
    "        3: 'March',\n",
    "        4: 'April',\n",
    "        5: 'May',\n",
    "        6: 'June',\n",
    "        7: 'July',\n",
    "        8: 'August',\n",
    "        9: 'September',\n",
    "       10: 'October',\n",
    "       11: 'November',\n",
    "       12: 'December'\n",
    "      }[l]\n",
    "      print(s + \" = %.4f\" % df_avg[df_avg[\"Month\"] == l][\"Number of Collisions\"].corr(df_avg[\"Mean Temp (°C)\"]))\n",
    "        \n",
    "for f in range(1,13):\n",
    "    corrInMonth(f)"
   ]
  },
  {
   "cell_type": "markdown",
   "metadata": {},
   "source": [
    "**Brief Conclusion:**\n",
    "* The number of collisions in winter is always higher than other months in a year. \n",
    "* The correlation between the number of collisions and month becomes extremely low in winter. \n",
    "\n",
    "**Hypothesis:**\n",
    "* Extreme low temperature leads to vehicle collisions, such as vehicle faults and several weathers that are related to low temperature. "
   ]
  },
  {
   "cell_type": "code",
   "execution_count": 7,
   "metadata": {},
   "outputs": [
    {
     "data": {
      "application/vnd.plotly.v1+json": {
       "data": [
        {
         "name": "Number of Collisions",
         "opacity": 0.6,
         "text": [
          "1790",
          "1349",
          "1190",
          "936",
          "1093",
          "1166",
          "1115",
          "1094",
          "1126",
          "1260",
          "1340",
          "1384"
         ],
         "textposition": "auto",
         "type": "bar",
         "uid": "fbfd7a26-a193-11e8-9409-0800275aa47c",
         "x": [
          1,
          2,
          3,
          4,
          5,
          6,
          7,
          8,
          9,
          10,
          11,
          12
         ],
         "y": [
          1790,
          1349,
          1190,
          936,
          1093,
          1166,
          1115,
          1094,
          1126,
          1260,
          1340,
          1384
         ]
        },
        {
         "mode": "lines",
         "name": "Monthly Total Rain",
         "type": "scatter",
         "uid": "fbfd7ca6-a193-11e8-9409-0800275aa47c",
         "x": [
          1,
          2,
          3,
          4,
          5,
          6,
          7,
          8,
          9,
          10,
          11,
          12
         ],
         "xaxis": "x2",
         "y": [
          17.5,
          26.5,
          16.2,
          98.3,
          75.10000000000001,
          156.2,
          85.60000000000001,
          104.3,
          97.10000000000002,
          64.8,
          27.8,
          22.5
         ],
         "yaxis": "y2"
        }
       ],
       "layout": {
        "title": "Rain Analysis (2014)",
        "xaxis": {
         "dtick": 1,
         "title": "Month"
        },
        "xaxis2": {
         "anchor": "y2",
         "dtick": 1
        },
        "yaxis": {
         "domain": [
          0,
          0.5
         ],
         "dtick": 500,
         "title": "# of Collisions"
        },
        "yaxis2": {
         "domain": [
          0.55,
          1
         ],
         "title": "Total Rain (mm)"
        }
       }
      },
      "text/html": [
       "<div id=\"60bd4e48-4ff6-4923-91c2-5b0ef03e7f79\" style=\"height: 525px; width: 100%;\" class=\"plotly-graph-div\"></div><script type=\"text/javascript\">require([\"plotly\"], function(Plotly) { window.PLOTLYENV=window.PLOTLYENV || {};window.PLOTLYENV.BASE_URL=\"https://plot.ly\";Plotly.newPlot(\"60bd4e48-4ff6-4923-91c2-5b0ef03e7f79\", [{\"opacity\": 0.6, \"textposition\": \"auto\", \"name\": \"Number of Collisions\", \"text\": [\"1790\", \"1349\", \"1190\", \"936\", \"1093\", \"1166\", \"1115\", \"1094\", \"1126\", \"1260\", \"1340\", \"1384\"], \"y\": [1790.0, 1349.0, 1190.0, 936.0, 1093.0, 1166.0, 1115.0, 1094.0, 1126.0, 1260.0, 1340.0, 1384.0], \"x\": [1.0, 2.0, 3.0, 4.0, 5.0, 6.0, 7.0, 8.0, 9.0, 10.0, 11.0, 12.0], \"type\": \"bar\", \"uid\": \"fc025988-a193-11e8-9409-0800275aa47c\"}, {\"name\": \"Monthly Total Rain\", \"yaxis\": \"y2\", \"mode\": \"lines\", \"xaxis\": \"x2\", \"y\": [17.5, 26.5, 16.2, 98.3, 75.10000000000001, 156.2, 85.60000000000001, 104.3, 97.10000000000002, 64.8, 27.8, 22.5], \"x\": [1.0, 2.0, 3.0, 4.0, 5.0, 6.0, 7.0, 8.0, 9.0, 10.0, 11.0, 12.0], \"type\": \"scatter\", \"uid\": \"fc025bf4-a193-11e8-9409-0800275aa47c\"}], {\"yaxis2\": {\"domain\": [0.55, 1.0], \"title\": \"Total Rain (mm)\"}, \"title\": \"Rain Analysis (2014)\", \"xaxis2\": {\"anchor\": \"y2\", \"dtick\": 1}, \"xaxis\": {\"dtick\": 1, \"title\": \"Month\"}, \"yaxis\": {\"domain\": [0, 0.5], \"dtick\": 500, \"title\": \"# of Collisions\"}}, {\"linkText\": \"Export to plot.ly\", \"showLink\": true})});</script>"
      ],
      "text/vnd.plotly.v1+html": [
       "<div id=\"60bd4e48-4ff6-4923-91c2-5b0ef03e7f79\" style=\"height: 525px; width: 100%;\" class=\"plotly-graph-div\"></div><script type=\"text/javascript\">require([\"plotly\"], function(Plotly) { window.PLOTLYENV=window.PLOTLYENV || {};window.PLOTLYENV.BASE_URL=\"https://plot.ly\";Plotly.newPlot(\"60bd4e48-4ff6-4923-91c2-5b0ef03e7f79\", [{\"opacity\": 0.6, \"textposition\": \"auto\", \"name\": \"Number of Collisions\", \"text\": [\"1790\", \"1349\", \"1190\", \"936\", \"1093\", \"1166\", \"1115\", \"1094\", \"1126\", \"1260\", \"1340\", \"1384\"], \"y\": [1790.0, 1349.0, 1190.0, 936.0, 1093.0, 1166.0, 1115.0, 1094.0, 1126.0, 1260.0, 1340.0, 1384.0], \"x\": [1.0, 2.0, 3.0, 4.0, 5.0, 6.0, 7.0, 8.0, 9.0, 10.0, 11.0, 12.0], \"type\": \"bar\", \"uid\": \"fc025988-a193-11e8-9409-0800275aa47c\"}, {\"name\": \"Monthly Total Rain\", \"yaxis\": \"y2\", \"mode\": \"lines\", \"xaxis\": \"x2\", \"y\": [17.5, 26.5, 16.2, 98.3, 75.10000000000001, 156.2, 85.60000000000001, 104.3, 97.10000000000002, 64.8, 27.8, 22.5], \"x\": [1.0, 2.0, 3.0, 4.0, 5.0, 6.0, 7.0, 8.0, 9.0, 10.0, 11.0, 12.0], \"type\": \"scatter\", \"uid\": \"fc025bf4-a193-11e8-9409-0800275aa47c\"}], {\"yaxis2\": {\"domain\": [0.55, 1.0], \"title\": \"Total Rain (mm)\"}, \"title\": \"Rain Analysis (2014)\", \"xaxis2\": {\"anchor\": \"y2\", \"dtick\": 1}, \"xaxis\": {\"dtick\": 1, \"title\": \"Month\"}, \"yaxis\": {\"domain\": [0, 0.5], \"dtick\": 500, \"title\": \"# of Collisions\"}}, {\"linkText\": \"Export to plot.ly\", \"showLink\": true})});</script>"
      ]
     },
     "metadata": {},
     "output_type": "display_data"
    },
    {
     "data": {
      "application/vnd.plotly.v1+json": {
       "data": [
        {
         "name": "Number of Collisions",
         "opacity": 0.6,
         "text": [
          "2027",
          "1900",
          "1064",
          "901",
          "1115",
          "1219",
          "1115",
          "1058",
          "1133",
          "1199",
          "1249",
          "1098"
         ],
         "textposition": "auto",
         "type": "bar",
         "uid": "fc0f22b2-a193-11e8-9409-0800275aa47c",
         "x": [
          1,
          2,
          3,
          4,
          5,
          6,
          7,
          8,
          9,
          10,
          11,
          12
         ],
         "y": [
          2027,
          1900,
          1064,
          901,
          1115,
          1219,
          1115,
          1058,
          1133,
          1199,
          1249,
          1098
         ]
        },
        {
         "mode": "lines",
         "name": "Monthly Total Rain",
         "type": "scatter",
         "uid": "fc0f2672-a193-11e8-9409-0800275aa47c",
         "x": [
          1,
          2,
          3,
          4,
          5,
          6,
          7,
          8,
          9,
          10,
          11,
          12
         ],
         "xaxis": "x2",
         "y": [
          10.7,
          0,
          8.1,
          57.900000000000006,
          65,
          107.99999999999999,
          63.10000000000001,
          76.49999999999999,
          96.6,
          83.99999999999999,
          32.4,
          61.5
         ],
         "yaxis": "y2"
        }
       ],
       "layout": {
        "title": "Rain Analysis (2015)",
        "xaxis": {
         "dtick": 1,
         "title": "Month"
        },
        "xaxis2": {
         "anchor": "y2",
         "dtick": 1
        },
        "yaxis": {
         "domain": [
          0,
          0.5
         ],
         "dtick": 500,
         "title": "# of Collisions"
        },
        "yaxis2": {
         "domain": [
          0.55,
          1
         ],
         "title": "Total Rain (mm)"
        }
       }
      },
      "text/html": [
       "<div id=\"0e4949f7-bb8b-4188-9a8b-39189fce43d3\" style=\"height: 525px; width: 100%;\" class=\"plotly-graph-div\"></div><script type=\"text/javascript\">require([\"plotly\"], function(Plotly) { window.PLOTLYENV=window.PLOTLYENV || {};window.PLOTLYENV.BASE_URL=\"https://plot.ly\";Plotly.newPlot(\"0e4949f7-bb8b-4188-9a8b-39189fce43d3\", [{\"opacity\": 0.6, \"textposition\": \"auto\", \"name\": \"Number of Collisions\", \"text\": [\"2027\", \"1900\", \"1064\", \"901\", \"1115\", \"1219\", \"1115\", \"1058\", \"1133\", \"1199\", \"1249\", \"1098\"], \"y\": [2027.0, 1900.0, 1064.0, 901.0, 1115.0, 1219.0, 1115.0, 1058.0, 1133.0, 1199.0, 1249.0, 1098.0], \"x\": [1.0, 2.0, 3.0, 4.0, 5.0, 6.0, 7.0, 8.0, 9.0, 10.0, 11.0, 12.0], \"type\": \"bar\", \"uid\": \"fc1612a2-a193-11e8-9409-0800275aa47c\"}, {\"name\": \"Monthly Total Rain\", \"yaxis\": \"y2\", \"mode\": \"lines\", \"xaxis\": \"x2\", \"y\": [10.7, 0.0, 8.1, 57.900000000000006, 65.0, 107.99999999999999, 63.10000000000001, 76.49999999999999, 96.6, 83.99999999999999, 32.4, 61.5], \"x\": [1.0, 2.0, 3.0, 4.0, 5.0, 6.0, 7.0, 8.0, 9.0, 10.0, 11.0, 12.0], \"type\": \"scatter\", \"uid\": \"fc161932-a193-11e8-9409-0800275aa47c\"}], {\"yaxis2\": {\"domain\": [0.55, 1.0], \"title\": \"Total Rain (mm)\"}, \"title\": \"Rain Analysis (2015)\", \"xaxis2\": {\"anchor\": \"y2\", \"dtick\": 1}, \"xaxis\": {\"dtick\": 1, \"title\": \"Month\"}, \"yaxis\": {\"domain\": [0, 0.5], \"dtick\": 500, \"title\": \"# of Collisions\"}}, {\"linkText\": \"Export to plot.ly\", \"showLink\": true})});</script>"
      ],
      "text/vnd.plotly.v1+html": [
       "<div id=\"0e4949f7-bb8b-4188-9a8b-39189fce43d3\" style=\"height: 525px; width: 100%;\" class=\"plotly-graph-div\"></div><script type=\"text/javascript\">require([\"plotly\"], function(Plotly) { window.PLOTLYENV=window.PLOTLYENV || {};window.PLOTLYENV.BASE_URL=\"https://plot.ly\";Plotly.newPlot(\"0e4949f7-bb8b-4188-9a8b-39189fce43d3\", [{\"opacity\": 0.6, \"textposition\": \"auto\", \"name\": \"Number of Collisions\", \"text\": [\"2027\", \"1900\", \"1064\", \"901\", \"1115\", \"1219\", \"1115\", \"1058\", \"1133\", \"1199\", \"1249\", \"1098\"], \"y\": [2027.0, 1900.0, 1064.0, 901.0, 1115.0, 1219.0, 1115.0, 1058.0, 1133.0, 1199.0, 1249.0, 1098.0], \"x\": [1.0, 2.0, 3.0, 4.0, 5.0, 6.0, 7.0, 8.0, 9.0, 10.0, 11.0, 12.0], \"type\": \"bar\", \"uid\": \"fc1612a2-a193-11e8-9409-0800275aa47c\"}, {\"name\": \"Monthly Total Rain\", \"yaxis\": \"y2\", \"mode\": \"lines\", \"xaxis\": \"x2\", \"y\": [10.7, 0.0, 8.1, 57.900000000000006, 65.0, 107.99999999999999, 63.10000000000001, 76.49999999999999, 96.6, 83.99999999999999, 32.4, 61.5], \"x\": [1.0, 2.0, 3.0, 4.0, 5.0, 6.0, 7.0, 8.0, 9.0, 10.0, 11.0, 12.0], \"type\": \"scatter\", \"uid\": \"fc161932-a193-11e8-9409-0800275aa47c\"}], {\"yaxis2\": {\"domain\": [0.55, 1.0], \"title\": \"Total Rain (mm)\"}, \"title\": \"Rain Analysis (2015)\", \"xaxis2\": {\"anchor\": \"y2\", \"dtick\": 1}, \"xaxis\": {\"dtick\": 1, \"title\": \"Month\"}, \"yaxis\": {\"domain\": [0, 0.5], \"dtick\": 500, \"title\": \"# of Collisions\"}}, {\"linkText\": \"Export to plot.ly\", \"showLink\": true})});</script>"
      ]
     },
     "metadata": {},
     "output_type": "display_data"
    },
    {
     "data": {
      "application/vnd.plotly.v1+json": {
       "data": [
        {
         "name": "Number of Collisions",
         "opacity": 0.6,
         "text": [
          "1407",
          "1523",
          "1018",
          "944",
          "1109",
          "1135",
          "1035",
          "976",
          "1073",
          "1111",
          "1155",
          "1537"
         ],
         "textposition": "auto",
         "type": "bar",
         "uid": "fc25254e-a193-11e8-9409-0800275aa47c",
         "x": [
          1,
          2,
          3,
          4,
          5,
          6,
          7,
          8,
          9,
          10,
          11,
          12
         ],
         "y": [
          1407,
          1523,
          1018,
          944,
          1109,
          1135,
          1035,
          976,
          1073,
          1111,
          1155,
          1537
         ]
        },
        {
         "mode": "lines",
         "name": "Monthly Total Rain",
         "type": "scatter",
         "uid": "fc2527ec-a193-11e8-9409-0800275aa47c",
         "x": [
          1,
          2,
          3,
          4,
          5,
          6,
          7,
          8,
          9,
          10,
          11,
          12
         ],
         "xaxis": "x2",
         "y": [
          28.400000000000002,
          41.4,
          78.5,
          20.8,
          26.4,
          56.60000000000001,
          100.8,
          122.4,
          76.60000000000001,
          91.19999999999999,
          47.3,
          15
         ],
         "yaxis": "y2"
        }
       ],
       "layout": {
        "title": "Rain Analysis (2016)",
        "xaxis": {
         "dtick": 1,
         "title": "Month"
        },
        "xaxis2": {
         "anchor": "y2",
         "dtick": 1
        },
        "yaxis": {
         "domain": [
          0,
          0.5
         ],
         "dtick": 500,
         "title": "# of Collisions"
        },
        "yaxis2": {
         "domain": [
          0.55,
          1
         ],
         "title": "Total Rain (mm)"
        }
       }
      },
      "text/html": [
       "<div id=\"67d36ec3-ca6d-44b6-8059-76b28bc77518\" style=\"height: 525px; width: 100%;\" class=\"plotly-graph-div\"></div><script type=\"text/javascript\">require([\"plotly\"], function(Plotly) { window.PLOTLYENV=window.PLOTLYENV || {};window.PLOTLYENV.BASE_URL=\"https://plot.ly\";Plotly.newPlot(\"67d36ec3-ca6d-44b6-8059-76b28bc77518\", [{\"opacity\": 0.6, \"textposition\": \"auto\", \"name\": \"Number of Collisions\", \"text\": [\"1407\", \"1523\", \"1018\", \"944\", \"1109\", \"1135\", \"1035\", \"976\", \"1073\", \"1111\", \"1155\", \"1537\"], \"y\": [1407.0, 1523.0, 1018.0, 944.0, 1109.0, 1135.0, 1035.0, 976.0, 1073.0, 1111.0, 1155.0, 1537.0], \"x\": [1.0, 2.0, 3.0, 4.0, 5.0, 6.0, 7.0, 8.0, 9.0, 10.0, 11.0, 12.0], \"type\": \"bar\", \"uid\": \"fc2aa186-a193-11e8-9409-0800275aa47c\"}, {\"name\": \"Monthly Total Rain\", \"yaxis\": \"y2\", \"mode\": \"lines\", \"xaxis\": \"x2\", \"y\": [28.400000000000002, 41.4, 78.5, 20.8, 26.4, 56.60000000000001, 100.8, 122.4, 76.60000000000001, 91.19999999999999, 47.3, 15.0], \"x\": [1.0, 2.0, 3.0, 4.0, 5.0, 6.0, 7.0, 8.0, 9.0, 10.0, 11.0, 12.0], \"type\": \"scatter\", \"uid\": \"fc2aa474-a193-11e8-9409-0800275aa47c\"}], {\"yaxis2\": {\"domain\": [0.55, 1.0], \"title\": \"Total Rain (mm)\"}, \"title\": \"Rain Analysis (2016)\", \"xaxis2\": {\"anchor\": \"y2\", \"dtick\": 1}, \"xaxis\": {\"dtick\": 1, \"title\": \"Month\"}, \"yaxis\": {\"domain\": [0, 0.5], \"dtick\": 500, \"title\": \"# of Collisions\"}}, {\"linkText\": \"Export to plot.ly\", \"showLink\": true})});</script>"
      ],
      "text/vnd.plotly.v1+html": [
       "<div id=\"67d36ec3-ca6d-44b6-8059-76b28bc77518\" style=\"height: 525px; width: 100%;\" class=\"plotly-graph-div\"></div><script type=\"text/javascript\">require([\"plotly\"], function(Plotly) { window.PLOTLYENV=window.PLOTLYENV || {};window.PLOTLYENV.BASE_URL=\"https://plot.ly\";Plotly.newPlot(\"67d36ec3-ca6d-44b6-8059-76b28bc77518\", [{\"opacity\": 0.6, \"textposition\": \"auto\", \"name\": \"Number of Collisions\", \"text\": [\"1407\", \"1523\", \"1018\", \"944\", \"1109\", \"1135\", \"1035\", \"976\", \"1073\", \"1111\", \"1155\", \"1537\"], \"y\": [1407.0, 1523.0, 1018.0, 944.0, 1109.0, 1135.0, 1035.0, 976.0, 1073.0, 1111.0, 1155.0, 1537.0], \"x\": [1.0, 2.0, 3.0, 4.0, 5.0, 6.0, 7.0, 8.0, 9.0, 10.0, 11.0, 12.0], \"type\": \"bar\", \"uid\": \"fc2aa186-a193-11e8-9409-0800275aa47c\"}, {\"name\": \"Monthly Total Rain\", \"yaxis\": \"y2\", \"mode\": \"lines\", \"xaxis\": \"x2\", \"y\": [28.400000000000002, 41.4, 78.5, 20.8, 26.4, 56.60000000000001, 100.8, 122.4, 76.60000000000001, 91.19999999999999, 47.3, 15.0], \"x\": [1.0, 2.0, 3.0, 4.0, 5.0, 6.0, 7.0, 8.0, 9.0, 10.0, 11.0, 12.0], \"type\": \"scatter\", \"uid\": \"fc2aa474-a193-11e8-9409-0800275aa47c\"}], {\"yaxis2\": {\"domain\": [0.55, 1.0], \"title\": \"Total Rain (mm)\"}, \"title\": \"Rain Analysis (2016)\", \"xaxis2\": {\"anchor\": \"y2\", \"dtick\": 1}, \"xaxis\": {\"dtick\": 1, \"title\": \"Month\"}, \"yaxis\": {\"domain\": [0, 0.5], \"dtick\": 500, \"title\": \"# of Collisions\"}}, {\"linkText\": \"Export to plot.ly\", \"showLink\": true})});</script>"
      ]
     },
     "metadata": {},
     "output_type": "display_data"
    },
    {
     "data": {
      "application/vnd.plotly.v1+json": {
       "data": [
        {
         "name": "Number of Collisions",
         "opacity": 0.6,
         "text": [
          "1275",
          "1279",
          "1224",
          "913",
          "1084",
          "1095",
          "971",
          "990",
          "1176",
          "1139",
          "1493",
          "1755"
         ],
         "textposition": "auto",
         "type": "bar",
         "uid": "fc39995c-a193-11e8-9409-0800275aa47c",
         "x": [
          1,
          2,
          3,
          4,
          5,
          6,
          7,
          8,
          9,
          10,
          11,
          12
         ],
         "y": [
          1275,
          1279,
          1224,
          913,
          1084,
          1095,
          971,
          990,
          1176,
          1139,
          1493,
          1755
         ]
        },
        {
         "mode": "lines",
         "name": "Monthly Total Rain",
         "type": "scatter",
         "uid": "fc399ef2-a193-11e8-9409-0800275aa47c",
         "x": [
          1,
          2,
          3,
          4,
          5,
          6,
          7,
          8,
          9,
          10,
          11,
          12
         ],
         "xaxis": "x2",
         "y": [
          29.299999999999997,
          34,
          37.00000000000001,
          159,
          172.4,
          156.8,
          169.6,
          82.39999999999999,
          51.6,
          142.40000000000003,
          75.80000000000001,
          4.6000000000000005
         ],
         "yaxis": "y2"
        }
       ],
       "layout": {
        "title": "Rain Analysis (2017)",
        "xaxis": {
         "dtick": 1,
         "title": "Month"
        },
        "xaxis2": {
         "anchor": "y2",
         "dtick": 1
        },
        "yaxis": {
         "domain": [
          0,
          0.5
         ],
         "dtick": 500,
         "title": "# of Collisions"
        },
        "yaxis2": {
         "domain": [
          0.55,
          1
         ],
         "title": "Total Rain (mm)"
        }
       }
      },
      "text/html": [
       "<div id=\"61b75c51-2633-403e-b2d1-c46d7312c83b\" style=\"height: 525px; width: 100%;\" class=\"plotly-graph-div\"></div><script type=\"text/javascript\">require([\"plotly\"], function(Plotly) { window.PLOTLYENV=window.PLOTLYENV || {};window.PLOTLYENV.BASE_URL=\"https://plot.ly\";Plotly.newPlot(\"61b75c51-2633-403e-b2d1-c46d7312c83b\", [{\"opacity\": 0.6, \"textposition\": \"auto\", \"name\": \"Number of Collisions\", \"text\": [\"1275\", \"1279\", \"1224\", \"913\", \"1084\", \"1095\", \"971\", \"990\", \"1176\", \"1139\", \"1493\", \"1755\"], \"y\": [1275.0, 1279.0, 1224.0, 913.0, 1084.0, 1095.0, 971.0, 990.0, 1176.0, 1139.0, 1493.0, 1755.0], \"x\": [1.0, 2.0, 3.0, 4.0, 5.0, 6.0, 7.0, 8.0, 9.0, 10.0, 11.0, 12.0], \"type\": \"bar\", \"uid\": \"fc40a288-a193-11e8-9409-0800275aa47c\"}, {\"name\": \"Monthly Total Rain\", \"yaxis\": \"y2\", \"mode\": \"lines\", \"xaxis\": \"x2\", \"y\": [29.299999999999997, 34.0, 37.00000000000001, 159.0, 172.4, 156.8, 169.6, 82.39999999999999, 51.6, 142.40000000000003, 75.80000000000001, 4.6000000000000005], \"x\": [1.0, 2.0, 3.0, 4.0, 5.0, 6.0, 7.0, 8.0, 9.0, 10.0, 11.0, 12.0], \"type\": \"scatter\", \"uid\": \"fc40acba-a193-11e8-9409-0800275aa47c\"}], {\"yaxis2\": {\"domain\": [0.55, 1.0], \"title\": \"Total Rain (mm)\"}, \"title\": \"Rain Analysis (2017)\", \"xaxis2\": {\"anchor\": \"y2\", \"dtick\": 1}, \"xaxis\": {\"dtick\": 1, \"title\": \"Month\"}, \"yaxis\": {\"domain\": [0, 0.5], \"dtick\": 500, \"title\": \"# of Collisions\"}}, {\"linkText\": \"Export to plot.ly\", \"showLink\": true})});</script>"
      ],
      "text/vnd.plotly.v1+html": [
       "<div id=\"61b75c51-2633-403e-b2d1-c46d7312c83b\" style=\"height: 525px; width: 100%;\" class=\"plotly-graph-div\"></div><script type=\"text/javascript\">require([\"plotly\"], function(Plotly) { window.PLOTLYENV=window.PLOTLYENV || {};window.PLOTLYENV.BASE_URL=\"https://plot.ly\";Plotly.newPlot(\"61b75c51-2633-403e-b2d1-c46d7312c83b\", [{\"opacity\": 0.6, \"textposition\": \"auto\", \"name\": \"Number of Collisions\", \"text\": [\"1275\", \"1279\", \"1224\", \"913\", \"1084\", \"1095\", \"971\", \"990\", \"1176\", \"1139\", \"1493\", \"1755\"], \"y\": [1275.0, 1279.0, 1224.0, 913.0, 1084.0, 1095.0, 971.0, 990.0, 1176.0, 1139.0, 1493.0, 1755.0], \"x\": [1.0, 2.0, 3.0, 4.0, 5.0, 6.0, 7.0, 8.0, 9.0, 10.0, 11.0, 12.0], \"type\": \"bar\", \"uid\": \"fc40a288-a193-11e8-9409-0800275aa47c\"}, {\"name\": \"Monthly Total Rain\", \"yaxis\": \"y2\", \"mode\": \"lines\", \"xaxis\": \"x2\", \"y\": [29.299999999999997, 34.0, 37.00000000000001, 159.0, 172.4, 156.8, 169.6, 82.39999999999999, 51.6, 142.40000000000003, 75.80000000000001, 4.6000000000000005], \"x\": [1.0, 2.0, 3.0, 4.0, 5.0, 6.0, 7.0, 8.0, 9.0, 10.0, 11.0, 12.0], \"type\": \"scatter\", \"uid\": \"fc40acba-a193-11e8-9409-0800275aa47c\"}], {\"yaxis2\": {\"domain\": [0.55, 1.0], \"title\": \"Total Rain (mm)\"}, \"title\": \"Rain Analysis (2017)\", \"xaxis2\": {\"anchor\": \"y2\", \"dtick\": 1}, \"xaxis\": {\"dtick\": 1, \"title\": \"Month\"}, \"yaxis\": {\"domain\": [0, 0.5], \"dtick\": 500, \"title\": \"# of Collisions\"}}, {\"linkText\": \"Export to plot.ly\", \"showLink\": true})});</script>"
      ]
     },
     "metadata": {},
     "output_type": "display_data"
    }
   ],
   "source": [
    "df_avg = wt1417.groupby([\"Year\",\"Month\"]).mean()\n",
    "df_avg[\"Year\"] = [x[0] for x in df_avg.index]\n",
    "df_avg[\"Month\"] = [x[1] for x in df_avg.index]\n",
    "\n",
    "df_sum = wt1417.groupby([\"Year\",\"Month\"]).sum()\n",
    "df_sum[\"Year\"] = [x[0] for x in df_sum.index]\n",
    "df_sum[\"Month\"] = [x[1] for x in df_sum.index]\n",
    "\n",
    "def printRainInYear(n):\n",
    "    monthCase = go.Bar(x = df_sum[df_sum[\"Year\"]==n][\"Month\"],\n",
    "                       y = df_sum[df_sum[\"Year\"]==n][\"Number of Collisions\"],\n",
    "                       text = df_sum[df_sum[\"Year\"]==n][\"Number of Collisions\"],\n",
    "                       textposition = 'auto',\n",
    "                       opacity = 0.6,\n",
    "                       name = 'Number of Collisions')\n",
    "    total_rain = go.Scatter(x = df_sum[df_sum[\"Year\"]==n][\"Month\"],\n",
    "                         y = df_sum[df_sum[\"Year\"]==n][\"Total Rain (mm)\"],\n",
    "                         mode = 'lines',\n",
    "                         name = 'Monthly Total Rain',\n",
    "                         xaxis = 'x2', \n",
    "                         yaxis = 'y2')\n",
    "    fig = dict(data = [monthCase, total_rain], \n",
    "               layout = go.Layout(title = \"Rain Analysis (\" + str(n) + \")\",\n",
    "                                  xaxis = dict(title='Month', dtick=1),\n",
    "                                  yaxis = dict(title='# of Collisions', dtick=500, domain = [0,0.5]),\n",
    "                                  yaxis2 = dict(title='Total Rain (mm)', domain = [0.55,1.0]),\n",
    "                                  xaxis2 = dict(dtick=1, anchor = 'y2')\n",
    "                                 )\n",
    "              )\n",
    "    iplot(fig)\n",
    "    \n",
    "for m in range(2014,2018):\n",
    "    printRainInYear(m)"
   ]
  },
  {
   "cell_type": "markdown",
   "metadata": {},
   "source": [
    "**Brief Conclusion:**\n",
    "* No clear relationship between rain and collisions"
   ]
  },
  {
   "cell_type": "code",
   "execution_count": 8,
   "metadata": {},
   "outputs": [
    {
     "data": {
      "application/vnd.plotly.v1+json": {
       "data": [
        {
         "name": "Number of Collisions",
         "opacity": 0.6,
         "text": [
          "1790",
          "1349",
          "1190",
          "936",
          "1093",
          "1166",
          "1115",
          "1094",
          "1126",
          "1260",
          "1340",
          "1384"
         ],
         "textposition": "auto",
         "type": "bar",
         "uid": "0049fbae-a194-11e8-9409-0800275aa47c",
         "x": [
          1,
          2,
          3,
          4,
          5,
          6,
          7,
          8,
          9,
          10,
          11,
          12
         ],
         "y": [
          1790,
          1349,
          1190,
          936,
          1093,
          1166,
          1115,
          1094,
          1126,
          1260,
          1340,
          1384
         ]
        },
        {
         "mode": "lines",
         "name": "Monthly Total Snow",
         "type": "scatter",
         "uid": "0049fe24-a194-11e8-9409-0800275aa47c",
         "x": [
          1,
          2,
          3,
          4,
          5,
          6,
          7,
          8,
          9,
          10,
          11,
          12
         ],
         "xaxis": "x2",
         "y": [
          29.8,
          39.199999999999996,
          44.400000000000006,
          0,
          0,
          0,
          0,
          0,
          0,
          0,
          10.7,
          21.299999999999997
         ],
         "yaxis": "y2"
        }
       ],
       "layout": {
        "title": "Snow Analysis (2014)",
        "xaxis": {
         "dtick": 1,
         "title": "Month"
        },
        "xaxis2": {
         "anchor": "y2",
         "dtick": 1
        },
        "yaxis": {
         "domain": [
          0,
          0.5
         ],
         "dtick": 500,
         "title": "# of Collisions"
        },
        "yaxis2": {
         "domain": [
          0.55,
          1
         ],
         "title": "Total Snow (cm)"
        }
       }
      },
      "text/html": [
       "<div id=\"789e52e2-f139-4217-a3b6-fcec30d434bd\" style=\"height: 525px; width: 100%;\" class=\"plotly-graph-div\"></div><script type=\"text/javascript\">require([\"plotly\"], function(Plotly) { window.PLOTLYENV=window.PLOTLYENV || {};window.PLOTLYENV.BASE_URL=\"https://plot.ly\";Plotly.newPlot(\"789e52e2-f139-4217-a3b6-fcec30d434bd\", [{\"opacity\": 0.6, \"textposition\": \"auto\", \"name\": \"Number of Collisions\", \"text\": [\"1790\", \"1349\", \"1190\", \"936\", \"1093\", \"1166\", \"1115\", \"1094\", \"1126\", \"1260\", \"1340\", \"1384\"], \"y\": [1790.0, 1349.0, 1190.0, 936.0, 1093.0, 1166.0, 1115.0, 1094.0, 1126.0, 1260.0, 1340.0, 1384.0], \"x\": [1.0, 2.0, 3.0, 4.0, 5.0, 6.0, 7.0, 8.0, 9.0, 10.0, 11.0, 12.0], \"type\": \"bar\", \"uid\": \"004f82c2-a194-11e8-9409-0800275aa47c\"}, {\"name\": \"Monthly Total Snow\", \"yaxis\": \"y2\", \"mode\": \"lines\", \"xaxis\": \"x2\", \"y\": [29.8, 39.199999999999996, 44.400000000000006, 0.0, 0.0, 0.0, 0.0, 0.0, 0.0, 0.0, 10.7, 21.299999999999997], \"x\": [1.0, 2.0, 3.0, 4.0, 5.0, 6.0, 7.0, 8.0, 9.0, 10.0, 11.0, 12.0], \"type\": \"scatter\", \"uid\": \"004f851a-a194-11e8-9409-0800275aa47c\"}], {\"yaxis2\": {\"domain\": [0.55, 1.0], \"title\": \"Total Snow (cm)\"}, \"title\": \"Snow Analysis (2014)\", \"xaxis2\": {\"anchor\": \"y2\", \"dtick\": 1}, \"xaxis\": {\"dtick\": 1, \"title\": \"Month\"}, \"yaxis\": {\"domain\": [0, 0.5], \"dtick\": 500, \"title\": \"# of Collisions\"}}, {\"linkText\": \"Export to plot.ly\", \"showLink\": true})});</script>"
      ],
      "text/vnd.plotly.v1+html": [
       "<div id=\"789e52e2-f139-4217-a3b6-fcec30d434bd\" style=\"height: 525px; width: 100%;\" class=\"plotly-graph-div\"></div><script type=\"text/javascript\">require([\"plotly\"], function(Plotly) { window.PLOTLYENV=window.PLOTLYENV || {};window.PLOTLYENV.BASE_URL=\"https://plot.ly\";Plotly.newPlot(\"789e52e2-f139-4217-a3b6-fcec30d434bd\", [{\"opacity\": 0.6, \"textposition\": \"auto\", \"name\": \"Number of Collisions\", \"text\": [\"1790\", \"1349\", \"1190\", \"936\", \"1093\", \"1166\", \"1115\", \"1094\", \"1126\", \"1260\", \"1340\", \"1384\"], \"y\": [1790.0, 1349.0, 1190.0, 936.0, 1093.0, 1166.0, 1115.0, 1094.0, 1126.0, 1260.0, 1340.0, 1384.0], \"x\": [1.0, 2.0, 3.0, 4.0, 5.0, 6.0, 7.0, 8.0, 9.0, 10.0, 11.0, 12.0], \"type\": \"bar\", \"uid\": \"004f82c2-a194-11e8-9409-0800275aa47c\"}, {\"name\": \"Monthly Total Snow\", \"yaxis\": \"y2\", \"mode\": \"lines\", \"xaxis\": \"x2\", \"y\": [29.8, 39.199999999999996, 44.400000000000006, 0.0, 0.0, 0.0, 0.0, 0.0, 0.0, 0.0, 10.7, 21.299999999999997], \"x\": [1.0, 2.0, 3.0, 4.0, 5.0, 6.0, 7.0, 8.0, 9.0, 10.0, 11.0, 12.0], \"type\": \"scatter\", \"uid\": \"004f851a-a194-11e8-9409-0800275aa47c\"}], {\"yaxis2\": {\"domain\": [0.55, 1.0], \"title\": \"Total Snow (cm)\"}, \"title\": \"Snow Analysis (2014)\", \"xaxis2\": {\"anchor\": \"y2\", \"dtick\": 1}, \"xaxis\": {\"dtick\": 1, \"title\": \"Month\"}, \"yaxis\": {\"domain\": [0, 0.5], \"dtick\": 500, \"title\": \"# of Collisions\"}}, {\"linkText\": \"Export to plot.ly\", \"showLink\": true})});</script>"
      ]
     },
     "metadata": {},
     "output_type": "display_data"
    },
    {
     "data": {
      "application/vnd.plotly.v1+json": {
       "data": [
        {
         "name": "Number of Collisions",
         "opacity": 0.6,
         "text": [
          "2027",
          "1900",
          "1064",
          "901",
          "1115",
          "1219",
          "1115",
          "1058",
          "1133",
          "1199",
          "1249",
          "1098"
         ],
         "textposition": "auto",
         "type": "bar",
         "uid": "005c5f74-a194-11e8-9409-0800275aa47c",
         "x": [
          1,
          2,
          3,
          4,
          5,
          6,
          7,
          8,
          9,
          10,
          11,
          12
         ],
         "y": [
          2027,
          1900,
          1064,
          901,
          1115,
          1219,
          1115,
          1058,
          1133,
          1199,
          1249,
          1098
         ]
        },
        {
         "mode": "lines",
         "name": "Monthly Total Snow",
         "type": "scatter",
         "uid": "005c6208-a194-11e8-9409-0800275aa47c",
         "x": [
          1,
          2,
          3,
          4,
          5,
          6,
          7,
          8,
          9,
          10,
          11,
          12
         ],
         "xaxis": "x2",
         "y": [
          45.70000000000001,
          54,
          18.7,
          4,
          0,
          0,
          0,
          0,
          0,
          0,
          1,
          31.299999999999997
         ],
         "yaxis": "y2"
        }
       ],
       "layout": {
        "title": "Snow Analysis (2015)",
        "xaxis": {
         "dtick": 1,
         "title": "Month"
        },
        "xaxis2": {
         "anchor": "y2",
         "dtick": 1
        },
        "yaxis": {
         "domain": [
          0,
          0.5
         ],
         "dtick": 500,
         "title": "# of Collisions"
        },
        "yaxis2": {
         "domain": [
          0.55,
          1
         ],
         "title": "Total Snow (cm)"
        }
       }
      },
      "text/html": [
       "<div id=\"44c9eaa1-772c-492e-adc6-4a5be6236d22\" style=\"height: 525px; width: 100%;\" class=\"plotly-graph-div\"></div><script type=\"text/javascript\">require([\"plotly\"], function(Plotly) { window.PLOTLYENV=window.PLOTLYENV || {};window.PLOTLYENV.BASE_URL=\"https://plot.ly\";Plotly.newPlot(\"44c9eaa1-772c-492e-adc6-4a5be6236d22\", [{\"opacity\": 0.6, \"textposition\": \"auto\", \"name\": \"Number of Collisions\", \"text\": [\"2027\", \"1900\", \"1064\", \"901\", \"1115\", \"1219\", \"1115\", \"1058\", \"1133\", \"1199\", \"1249\", \"1098\"], \"y\": [2027.0, 1900.0, 1064.0, 901.0, 1115.0, 1219.0, 1115.0, 1058.0, 1133.0, 1199.0, 1249.0, 1098.0], \"x\": [1.0, 2.0, 3.0, 4.0, 5.0, 6.0, 7.0, 8.0, 9.0, 10.0, 11.0, 12.0], \"type\": \"bar\", \"uid\": \"00759f66-a194-11e8-9409-0800275aa47c\"}, {\"name\": \"Monthly Total Snow\", \"yaxis\": \"y2\", \"mode\": \"lines\", \"xaxis\": \"x2\", \"y\": [45.70000000000001, 54.0, 18.7, 4.0, 0.0, 0.0, 0.0, 0.0, 0.0, 0.0, 1.0, 31.299999999999997], \"x\": [1.0, 2.0, 3.0, 4.0, 5.0, 6.0, 7.0, 8.0, 9.0, 10.0, 11.0, 12.0], \"type\": \"scatter\", \"uid\": \"0075a2d6-a194-11e8-9409-0800275aa47c\"}], {\"yaxis2\": {\"domain\": [0.55, 1.0], \"title\": \"Total Snow (cm)\"}, \"title\": \"Snow Analysis (2015)\", \"xaxis2\": {\"anchor\": \"y2\", \"dtick\": 1}, \"xaxis\": {\"dtick\": 1, \"title\": \"Month\"}, \"yaxis\": {\"domain\": [0, 0.5], \"dtick\": 500, \"title\": \"# of Collisions\"}}, {\"linkText\": \"Export to plot.ly\", \"showLink\": true})});</script>"
      ],
      "text/vnd.plotly.v1+html": [
       "<div id=\"44c9eaa1-772c-492e-adc6-4a5be6236d22\" style=\"height: 525px; width: 100%;\" class=\"plotly-graph-div\"></div><script type=\"text/javascript\">require([\"plotly\"], function(Plotly) { window.PLOTLYENV=window.PLOTLYENV || {};window.PLOTLYENV.BASE_URL=\"https://plot.ly\";Plotly.newPlot(\"44c9eaa1-772c-492e-adc6-4a5be6236d22\", [{\"opacity\": 0.6, \"textposition\": \"auto\", \"name\": \"Number of Collisions\", \"text\": [\"2027\", \"1900\", \"1064\", \"901\", \"1115\", \"1219\", \"1115\", \"1058\", \"1133\", \"1199\", \"1249\", \"1098\"], \"y\": [2027.0, 1900.0, 1064.0, 901.0, 1115.0, 1219.0, 1115.0, 1058.0, 1133.0, 1199.0, 1249.0, 1098.0], \"x\": [1.0, 2.0, 3.0, 4.0, 5.0, 6.0, 7.0, 8.0, 9.0, 10.0, 11.0, 12.0], \"type\": \"bar\", \"uid\": \"00759f66-a194-11e8-9409-0800275aa47c\"}, {\"name\": \"Monthly Total Snow\", \"yaxis\": \"y2\", \"mode\": \"lines\", \"xaxis\": \"x2\", \"y\": [45.70000000000001, 54.0, 18.7, 4.0, 0.0, 0.0, 0.0, 0.0, 0.0, 0.0, 1.0, 31.299999999999997], \"x\": [1.0, 2.0, 3.0, 4.0, 5.0, 6.0, 7.0, 8.0, 9.0, 10.0, 11.0, 12.0], \"type\": \"scatter\", \"uid\": \"0075a2d6-a194-11e8-9409-0800275aa47c\"}], {\"yaxis2\": {\"domain\": [0.55, 1.0], \"title\": \"Total Snow (cm)\"}, \"title\": \"Snow Analysis (2015)\", \"xaxis2\": {\"anchor\": \"y2\", \"dtick\": 1}, \"xaxis\": {\"dtick\": 1, \"title\": \"Month\"}, \"yaxis\": {\"domain\": [0, 0.5], \"dtick\": 500, \"title\": \"# of Collisions\"}}, {\"linkText\": \"Export to plot.ly\", \"showLink\": true})});</script>"
      ]
     },
     "metadata": {},
     "output_type": "display_data"
    },
    {
     "data": {
      "application/vnd.plotly.v1+json": {
       "data": [
        {
         "name": "Number of Collisions",
         "opacity": 0.6,
         "text": [
          "1407",
          "1523",
          "1018",
          "944",
          "1109",
          "1135",
          "1035",
          "976",
          "1073",
          "1111",
          "1155",
          "1537"
         ],
         "textposition": "auto",
         "type": "bar",
         "uid": "008435c6-a194-11e8-9409-0800275aa47c",
         "x": [
          1,
          2,
          3,
          4,
          5,
          6,
          7,
          8,
          9,
          10,
          11,
          12
         ],
         "y": [
          1407,
          1523,
          1018,
          944,
          1109,
          1135,
          1035,
          976,
          1073,
          1111,
          1155,
          1537
         ]
        },
        {
         "mode": "lines",
         "name": "Monthly Total Snow",
         "type": "scatter",
         "uid": "00843b34-a194-11e8-9409-0800275aa47c",
         "x": [
          1,
          2,
          3,
          4,
          5,
          6,
          7,
          8,
          9,
          10,
          11,
          12
         ],
         "xaxis": "x2",
         "y": [
          30.799999999999997,
          61.1,
          19.5,
          25.200000000000003,
          0,
          0,
          0,
          0,
          0,
          8,
          14.399999999999999,
          84.19999999999999
         ],
         "yaxis": "y2"
        }
       ],
       "layout": {
        "title": "Snow Analysis (2016)",
        "xaxis": {
         "dtick": 1,
         "title": "Month"
        },
        "xaxis2": {
         "anchor": "y2",
         "dtick": 1
        },
        "yaxis": {
         "domain": [
          0,
          0.5
         ],
         "dtick": 500,
         "title": "# of Collisions"
        },
        "yaxis2": {
         "domain": [
          0.55,
          1
         ],
         "title": "Total Snow (cm)"
        }
       }
      },
      "text/html": [
       "<div id=\"eae96c5d-febd-440c-bae5-e75d5483c74f\" style=\"height: 525px; width: 100%;\" class=\"plotly-graph-div\"></div><script type=\"text/javascript\">require([\"plotly\"], function(Plotly) { window.PLOTLYENV=window.PLOTLYENV || {};window.PLOTLYENV.BASE_URL=\"https://plot.ly\";Plotly.newPlot(\"eae96c5d-febd-440c-bae5-e75d5483c74f\", [{\"opacity\": 0.6, \"textposition\": \"auto\", \"name\": \"Number of Collisions\", \"text\": [\"1407\", \"1523\", \"1018\", \"944\", \"1109\", \"1135\", \"1035\", \"976\", \"1073\", \"1111\", \"1155\", \"1537\"], \"y\": [1407.0, 1523.0, 1018.0, 944.0, 1109.0, 1135.0, 1035.0, 976.0, 1073.0, 1111.0, 1155.0, 1537.0], \"x\": [1.0, 2.0, 3.0, 4.0, 5.0, 6.0, 7.0, 8.0, 9.0, 10.0, 11.0, 12.0], \"type\": \"bar\", \"uid\": \"008c6b38-a194-11e8-9409-0800275aa47c\"}, {\"name\": \"Monthly Total Snow\", \"yaxis\": \"y2\", \"mode\": \"lines\", \"xaxis\": \"x2\", \"y\": [30.799999999999997, 61.1, 19.5, 25.200000000000003, 0.0, 0.0, 0.0, 0.0, 0.0, 8.0, 14.399999999999999, 84.19999999999999], \"x\": [1.0, 2.0, 3.0, 4.0, 5.0, 6.0, 7.0, 8.0, 9.0, 10.0, 11.0, 12.0], \"type\": \"scatter\", \"uid\": \"008c6f84-a194-11e8-9409-0800275aa47c\"}], {\"yaxis2\": {\"domain\": [0.55, 1.0], \"title\": \"Total Snow (cm)\"}, \"title\": \"Snow Analysis (2016)\", \"xaxis2\": {\"anchor\": \"y2\", \"dtick\": 1}, \"xaxis\": {\"dtick\": 1, \"title\": \"Month\"}, \"yaxis\": {\"domain\": [0, 0.5], \"dtick\": 500, \"title\": \"# of Collisions\"}}, {\"linkText\": \"Export to plot.ly\", \"showLink\": true})});</script>"
      ],
      "text/vnd.plotly.v1+html": [
       "<div id=\"eae96c5d-febd-440c-bae5-e75d5483c74f\" style=\"height: 525px; width: 100%;\" class=\"plotly-graph-div\"></div><script type=\"text/javascript\">require([\"plotly\"], function(Plotly) { window.PLOTLYENV=window.PLOTLYENV || {};window.PLOTLYENV.BASE_URL=\"https://plot.ly\";Plotly.newPlot(\"eae96c5d-febd-440c-bae5-e75d5483c74f\", [{\"opacity\": 0.6, \"textposition\": \"auto\", \"name\": \"Number of Collisions\", \"text\": [\"1407\", \"1523\", \"1018\", \"944\", \"1109\", \"1135\", \"1035\", \"976\", \"1073\", \"1111\", \"1155\", \"1537\"], \"y\": [1407.0, 1523.0, 1018.0, 944.0, 1109.0, 1135.0, 1035.0, 976.0, 1073.0, 1111.0, 1155.0, 1537.0], \"x\": [1.0, 2.0, 3.0, 4.0, 5.0, 6.0, 7.0, 8.0, 9.0, 10.0, 11.0, 12.0], \"type\": \"bar\", \"uid\": \"008c6b38-a194-11e8-9409-0800275aa47c\"}, {\"name\": \"Monthly Total Snow\", \"yaxis\": \"y2\", \"mode\": \"lines\", \"xaxis\": \"x2\", \"y\": [30.799999999999997, 61.1, 19.5, 25.200000000000003, 0.0, 0.0, 0.0, 0.0, 0.0, 8.0, 14.399999999999999, 84.19999999999999], \"x\": [1.0, 2.0, 3.0, 4.0, 5.0, 6.0, 7.0, 8.0, 9.0, 10.0, 11.0, 12.0], \"type\": \"scatter\", \"uid\": \"008c6f84-a194-11e8-9409-0800275aa47c\"}], {\"yaxis2\": {\"domain\": [0.55, 1.0], \"title\": \"Total Snow (cm)\"}, \"title\": \"Snow Analysis (2016)\", \"xaxis2\": {\"anchor\": \"y2\", \"dtick\": 1}, \"xaxis\": {\"dtick\": 1, \"title\": \"Month\"}, \"yaxis\": {\"domain\": [0, 0.5], \"dtick\": 500, \"title\": \"# of Collisions\"}}, {\"linkText\": \"Export to plot.ly\", \"showLink\": true})});</script>"
      ]
     },
     "metadata": {},
     "output_type": "display_data"
    },
    {
     "data": {
      "application/vnd.plotly.v1+json": {
       "data": [
        {
         "name": "Number of Collisions",
         "opacity": 0.6,
         "text": [
          "1275",
          "1279",
          "1224",
          "913",
          "1084",
          "1095",
          "971",
          "990",
          "1176",
          "1139",
          "1493",
          "1755"
         ],
         "textposition": "auto",
         "type": "bar",
         "uid": "009b0954-a194-11e8-9409-0800275aa47c",
         "x": [
          1,
          2,
          3,
          4,
          5,
          6,
          7,
          8,
          9,
          10,
          11,
          12
         ],
         "y": [
          1275,
          1279,
          1224,
          913,
          1084,
          1095,
          971,
          990,
          1176,
          1139,
          1493,
          1755
         ]
        },
        {
         "mode": "lines",
         "name": "Monthly Total Snow",
         "type": "scatter",
         "uid": "009b0f58-a194-11e8-9409-0800275aa47c",
         "x": [
          1,
          2,
          3,
          4,
          5,
          6,
          7,
          8,
          9,
          10,
          11,
          12
         ],
         "xaxis": "x2",
         "y": [
          36.400000000000006,
          64.6,
          35.4,
          0,
          0,
          0,
          0,
          0,
          0,
          0,
          14.4,
          38.8
         ],
         "yaxis": "y2"
        }
       ],
       "layout": {
        "title": "Snow Analysis (2017)",
        "xaxis": {
         "dtick": 1,
         "title": "Month"
        },
        "xaxis2": {
         "anchor": "y2",
         "dtick": 1
        },
        "yaxis": {
         "domain": [
          0,
          0.5
         ],
         "dtick": 500,
         "title": "# of Collisions"
        },
        "yaxis2": {
         "domain": [
          0.55,
          1
         ],
         "title": "Total Snow (cm)"
        }
       }
      },
      "text/html": [
       "<div id=\"ed24aafc-2563-45c4-831d-bac3acfddf8b\" style=\"height: 525px; width: 100%;\" class=\"plotly-graph-div\"></div><script type=\"text/javascript\">require([\"plotly\"], function(Plotly) { window.PLOTLYENV=window.PLOTLYENV || {};window.PLOTLYENV.BASE_URL=\"https://plot.ly\";Plotly.newPlot(\"ed24aafc-2563-45c4-831d-bac3acfddf8b\", [{\"opacity\": 0.6, \"textposition\": \"auto\", \"name\": \"Number of Collisions\", \"text\": [\"1275\", \"1279\", \"1224\", \"913\", \"1084\", \"1095\", \"971\", \"990\", \"1176\", \"1139\", \"1493\", \"1755\"], \"y\": [1275.0, 1279.0, 1224.0, 913.0, 1084.0, 1095.0, 971.0, 990.0, 1176.0, 1139.0, 1493.0, 1755.0], \"x\": [1.0, 2.0, 3.0, 4.0, 5.0, 6.0, 7.0, 8.0, 9.0, 10.0, 11.0, 12.0], \"type\": \"bar\", \"uid\": \"00a1d810-a194-11e8-9409-0800275aa47c\"}, {\"name\": \"Monthly Total Snow\", \"yaxis\": \"y2\", \"mode\": \"lines\", \"xaxis\": \"x2\", \"y\": [36.400000000000006, 64.6, 35.4, 0.0, 0.0, 0.0, 0.0, 0.0, 0.0, 0.0, 14.4, 38.8], \"x\": [1.0, 2.0, 3.0, 4.0, 5.0, 6.0, 7.0, 8.0, 9.0, 10.0, 11.0, 12.0], \"type\": \"scatter\", \"uid\": \"00a1dd24-a194-11e8-9409-0800275aa47c\"}], {\"yaxis2\": {\"domain\": [0.55, 1.0], \"title\": \"Total Snow (cm)\"}, \"title\": \"Snow Analysis (2017)\", \"xaxis2\": {\"anchor\": \"y2\", \"dtick\": 1}, \"xaxis\": {\"dtick\": 1, \"title\": \"Month\"}, \"yaxis\": {\"domain\": [0, 0.5], \"dtick\": 500, \"title\": \"# of Collisions\"}}, {\"linkText\": \"Export to plot.ly\", \"showLink\": true})});</script>"
      ],
      "text/vnd.plotly.v1+html": [
       "<div id=\"ed24aafc-2563-45c4-831d-bac3acfddf8b\" style=\"height: 525px; width: 100%;\" class=\"plotly-graph-div\"></div><script type=\"text/javascript\">require([\"plotly\"], function(Plotly) { window.PLOTLYENV=window.PLOTLYENV || {};window.PLOTLYENV.BASE_URL=\"https://plot.ly\";Plotly.newPlot(\"ed24aafc-2563-45c4-831d-bac3acfddf8b\", [{\"opacity\": 0.6, \"textposition\": \"auto\", \"name\": \"Number of Collisions\", \"text\": [\"1275\", \"1279\", \"1224\", \"913\", \"1084\", \"1095\", \"971\", \"990\", \"1176\", \"1139\", \"1493\", \"1755\"], \"y\": [1275.0, 1279.0, 1224.0, 913.0, 1084.0, 1095.0, 971.0, 990.0, 1176.0, 1139.0, 1493.0, 1755.0], \"x\": [1.0, 2.0, 3.0, 4.0, 5.0, 6.0, 7.0, 8.0, 9.0, 10.0, 11.0, 12.0], \"type\": \"bar\", \"uid\": \"00a1d810-a194-11e8-9409-0800275aa47c\"}, {\"name\": \"Monthly Total Snow\", \"yaxis\": \"y2\", \"mode\": \"lines\", \"xaxis\": \"x2\", \"y\": [36.400000000000006, 64.6, 35.4, 0.0, 0.0, 0.0, 0.0, 0.0, 0.0, 0.0, 14.4, 38.8], \"x\": [1.0, 2.0, 3.0, 4.0, 5.0, 6.0, 7.0, 8.0, 9.0, 10.0, 11.0, 12.0], \"type\": \"scatter\", \"uid\": \"00a1dd24-a194-11e8-9409-0800275aa47c\"}], {\"yaxis2\": {\"domain\": [0.55, 1.0], \"title\": \"Total Snow (cm)\"}, \"title\": \"Snow Analysis (2017)\", \"xaxis2\": {\"anchor\": \"y2\", \"dtick\": 1}, \"xaxis\": {\"dtick\": 1, \"title\": \"Month\"}, \"yaxis\": {\"domain\": [0, 0.5], \"dtick\": 500, \"title\": \"# of Collisions\"}}, {\"linkText\": \"Export to plot.ly\", \"showLink\": true})});</script>"
      ]
     },
     "metadata": {},
     "output_type": "display_data"
    }
   ],
   "source": [
    "df_avg = wt1417.groupby([\"Year\",\"Month\"]).mean()\n",
    "df_avg[\"Year\"] = [x[0] for x in df_avg.index]\n",
    "df_avg[\"Month\"] = [x[1] for x in df_avg.index]\n",
    "\n",
    "df_sum = wt1417.groupby([\"Year\",\"Month\"]).sum()\n",
    "df_sum[\"Year\"] = [x[0] for x in df_sum.index]\n",
    "df_sum[\"Month\"] = [x[1] for x in df_sum.index]\n",
    "\n",
    "def printSnowInYear(n):\n",
    "    monthCase = go.Bar(x = df_sum[df_sum[\"Year\"]==n][\"Month\"],\n",
    "                       y = df_sum[df_sum[\"Year\"]==n][\"Number of Collisions\"],\n",
    "                       text = df_sum[df_sum[\"Year\"]==n][\"Number of Collisions\"],\n",
    "                       textposition = 'auto',\n",
    "                       opacity = 0.6,\n",
    "                       name = 'Number of Collisions')\n",
    "    total_snow = go.Scatter(x = df_sum[df_sum[\"Year\"]==n][\"Month\"],\n",
    "                         y = df_sum[df_sum[\"Year\"]==n][\"Total Snow (cm)\"],\n",
    "                         mode = 'lines',\n",
    "                         name = 'Monthly Total Snow',\n",
    "                         xaxis = 'x2', \n",
    "                         yaxis = 'y2')\n",
    "    fig = dict(data = [monthCase, total_snow], \n",
    "               layout = go.Layout(title = \"Snow Analysis (\" + str(n) + \")\",\n",
    "                                  xaxis = dict(title='Month', dtick=1),\n",
    "                                  yaxis = dict(title='# of Collisions', dtick=500, domain = [0,0.5]),\n",
    "                                  yaxis2 = dict(title='Total Snow (cm)', domain = [0.55,1.0]),\n",
    "                                  xaxis2 = dict(dtick=1, anchor = 'y2')\n",
    "                                 )\n",
    "              )\n",
    "    iplot(fig)\n",
    "    \n",
    "for m in range(2014,2018):\n",
    "    printSnowInYear(m)"
   ]
  },
  {
   "cell_type": "code",
   "execution_count": 18,
   "metadata": {},
   "outputs": [
    {
     "data": {
      "application/vnd.plotly.v1+json": {
       "data": [
        {
         "name": "Number of Collisions",
         "opacity": 0.6,
         "text": [
          "1790",
          "1349",
          "1190",
          "936",
          "1093",
          "1166",
          "1115",
          "1094",
          "1126",
          "1260",
          "1340",
          "1384"
         ],
         "textposition": "auto",
         "type": "bar",
         "uid": "28ec24b4-a1a4-11e8-9409-0800275aa47c",
         "x": [
          1,
          2,
          3,
          4,
          5,
          6,
          7,
          8,
          9,
          10,
          11,
          12
         ],
         "y": [
          1790,
          1349,
          1190,
          936,
          1093,
          1166,
          1115,
          1094,
          1126,
          1260,
          1340,
          1384
         ]
        },
        {
         "mode": "lines",
         "name": "Monthly Total Snow on Ground",
         "type": "scatter",
         "uid": "28ec277a-a1a4-11e8-9409-0800275aa47c",
         "x": [
          1,
          2,
          3,
          4,
          5,
          6,
          7,
          8,
          9,
          10,
          11,
          12
         ],
         "xaxis": "x2",
         "y": [
          771,
          1067,
          1214,
          219,
          0,
          0,
          0,
          0,
          0,
          0,
          13,
          116
         ],
         "yaxis": "y2"
        }
       ],
       "layout": {
        "title": "Snow on Ground Analysis (2014)",
        "xaxis": {
         "dtick": 1,
         "title": "Month"
        },
        "xaxis2": {
         "anchor": "y2",
         "dtick": 1
        },
        "yaxis": {
         "domain": [
          0,
          0.5
         ],
         "dtick": 500,
         "title": "# of Collisions"
        },
        "yaxis2": {
         "domain": [
          0.55,
          1
         ],
         "title": "Snow on Grnd (cm)"
        }
       }
      },
      "text/html": [
       "<div id=\"e2ad374b-7dce-4e6a-87b8-683887234881\" style=\"height: 525px; width: 100%;\" class=\"plotly-graph-div\"></div><script type=\"text/javascript\">require([\"plotly\"], function(Plotly) { window.PLOTLYENV=window.PLOTLYENV || {};window.PLOTLYENV.BASE_URL=\"https://plot.ly\";Plotly.newPlot(\"e2ad374b-7dce-4e6a-87b8-683887234881\", [{\"opacity\": 0.6, \"textposition\": \"auto\", \"name\": \"Number of Collisions\", \"text\": [\"1790\", \"1349\", \"1190\", \"936\", \"1093\", \"1166\", \"1115\", \"1094\", \"1126\", \"1260\", \"1340\", \"1384\"], \"y\": [1790.0, 1349.0, 1190.0, 936.0, 1093.0, 1166.0, 1115.0, 1094.0, 1126.0, 1260.0, 1340.0, 1384.0], \"x\": [1.0, 2.0, 3.0, 4.0, 5.0, 6.0, 7.0, 8.0, 9.0, 10.0, 11.0, 12.0], \"type\": \"bar\", \"uid\": \"28f07c8a-a1a4-11e8-9409-0800275aa47c\"}, {\"name\": \"Monthly Total Snow on Ground\", \"yaxis\": \"y2\", \"mode\": \"lines\", \"xaxis\": \"x2\", \"y\": [771.0, 1067.0, 1214.0, 219.0, 0.0, 0.0, 0.0, 0.0, 0.0, 0.0, 13.0, 116.0], \"x\": [1.0, 2.0, 3.0, 4.0, 5.0, 6.0, 7.0, 8.0, 9.0, 10.0, 11.0, 12.0], \"type\": \"scatter\", \"uid\": \"28f07eec-a1a4-11e8-9409-0800275aa47c\"}], {\"yaxis2\": {\"domain\": [0.55, 1.0], \"title\": \"Snow on Grnd (cm)\"}, \"title\": \"Snow on Ground Analysis (2014)\", \"xaxis2\": {\"anchor\": \"y2\", \"dtick\": 1}, \"xaxis\": {\"dtick\": 1, \"title\": \"Month\"}, \"yaxis\": {\"domain\": [0, 0.5], \"dtick\": 500, \"title\": \"# of Collisions\"}}, {\"linkText\": \"Export to plot.ly\", \"showLink\": true})});</script>"
      ],
      "text/vnd.plotly.v1+html": [
       "<div id=\"e2ad374b-7dce-4e6a-87b8-683887234881\" style=\"height: 525px; width: 100%;\" class=\"plotly-graph-div\"></div><script type=\"text/javascript\">require([\"plotly\"], function(Plotly) { window.PLOTLYENV=window.PLOTLYENV || {};window.PLOTLYENV.BASE_URL=\"https://plot.ly\";Plotly.newPlot(\"e2ad374b-7dce-4e6a-87b8-683887234881\", [{\"opacity\": 0.6, \"textposition\": \"auto\", \"name\": \"Number of Collisions\", \"text\": [\"1790\", \"1349\", \"1190\", \"936\", \"1093\", \"1166\", \"1115\", \"1094\", \"1126\", \"1260\", \"1340\", \"1384\"], \"y\": [1790.0, 1349.0, 1190.0, 936.0, 1093.0, 1166.0, 1115.0, 1094.0, 1126.0, 1260.0, 1340.0, 1384.0], \"x\": [1.0, 2.0, 3.0, 4.0, 5.0, 6.0, 7.0, 8.0, 9.0, 10.0, 11.0, 12.0], \"type\": \"bar\", \"uid\": \"28f07c8a-a1a4-11e8-9409-0800275aa47c\"}, {\"name\": \"Monthly Total Snow on Ground\", \"yaxis\": \"y2\", \"mode\": \"lines\", \"xaxis\": \"x2\", \"y\": [771.0, 1067.0, 1214.0, 219.0, 0.0, 0.0, 0.0, 0.0, 0.0, 0.0, 13.0, 116.0], \"x\": [1.0, 2.0, 3.0, 4.0, 5.0, 6.0, 7.0, 8.0, 9.0, 10.0, 11.0, 12.0], \"type\": \"scatter\", \"uid\": \"28f07eec-a1a4-11e8-9409-0800275aa47c\"}], {\"yaxis2\": {\"domain\": [0.55, 1.0], \"title\": \"Snow on Grnd (cm)\"}, \"title\": \"Snow on Ground Analysis (2014)\", \"xaxis2\": {\"anchor\": \"y2\", \"dtick\": 1}, \"xaxis\": {\"dtick\": 1, \"title\": \"Month\"}, \"yaxis\": {\"domain\": [0, 0.5], \"dtick\": 500, \"title\": \"# of Collisions\"}}, {\"linkText\": \"Export to plot.ly\", \"showLink\": true})});</script>"
      ]
     },
     "metadata": {},
     "output_type": "display_data"
    },
    {
     "data": {
      "application/vnd.plotly.v1+json": {
       "data": [
        {
         "name": "Number of Collisions",
         "opacity": 0.6,
         "text": [
          "2027",
          "1900",
          "1064",
          "901",
          "1115",
          "1219",
          "1115",
          "1058",
          "1133",
          "1199",
          "1249",
          "1098"
         ],
         "textposition": "auto",
         "type": "bar",
         "uid": "2907acde-a1a4-11e8-9409-0800275aa47c",
         "x": [
          1,
          2,
          3,
          4,
          5,
          6,
          7,
          8,
          9,
          10,
          11,
          12
         ],
         "y": [
          2027,
          1900,
          1064,
          901,
          1115,
          1219,
          1115,
          1058,
          1133,
          1199,
          1249,
          1098
         ]
        },
        {
         "mode": "lines",
         "name": "Monthly Total Snow on Ground",
         "type": "scatter",
         "uid": "2907af90-a1a4-11e8-9409-0800275aa47c",
         "x": [
          1,
          2,
          3,
          4,
          5,
          6,
          7,
          8,
          9,
          10,
          11,
          12
         ],
         "xaxis": "x2",
         "y": [
          257,
          790,
          840,
          31,
          0,
          0,
          0,
          0,
          0,
          0,
          1,
          47
         ],
         "yaxis": "y2"
        }
       ],
       "layout": {
        "title": "Snow on Ground Analysis (2015)",
        "xaxis": {
         "dtick": 1,
         "title": "Month"
        },
        "xaxis2": {
         "anchor": "y2",
         "dtick": 1
        },
        "yaxis": {
         "domain": [
          0,
          0.5
         ],
         "dtick": 500,
         "title": "# of Collisions"
        },
        "yaxis2": {
         "domain": [
          0.55,
          1
         ],
         "title": "Snow on Grnd (cm)"
        }
       }
      },
      "text/html": [
       "<div id=\"dccf2432-9f43-4d4d-95b6-e852197b879b\" style=\"height: 525px; width: 100%;\" class=\"plotly-graph-div\"></div><script type=\"text/javascript\">require([\"plotly\"], function(Plotly) { window.PLOTLYENV=window.PLOTLYENV || {};window.PLOTLYENV.BASE_URL=\"https://plot.ly\";Plotly.newPlot(\"dccf2432-9f43-4d4d-95b6-e852197b879b\", [{\"opacity\": 0.6, \"textposition\": \"auto\", \"name\": \"Number of Collisions\", \"text\": [\"2027\", \"1900\", \"1064\", \"901\", \"1115\", \"1219\", \"1115\", \"1058\", \"1133\", \"1199\", \"1249\", \"1098\"], \"y\": [2027.0, 1900.0, 1064.0, 901.0, 1115.0, 1219.0, 1115.0, 1058.0, 1133.0, 1199.0, 1249.0, 1098.0], \"x\": [1.0, 2.0, 3.0, 4.0, 5.0, 6.0, 7.0, 8.0, 9.0, 10.0, 11.0, 12.0], \"type\": \"bar\", \"uid\": \"290c2ac0-a1a4-11e8-9409-0800275aa47c\"}, {\"name\": \"Monthly Total Snow on Ground\", \"yaxis\": \"y2\", \"mode\": \"lines\", \"xaxis\": \"x2\", \"y\": [257.0, 790.0, 840.0, 31.0, 0.0, 0.0, 0.0, 0.0, 0.0, 0.0, 1.0, 47.0], \"x\": [1.0, 2.0, 3.0, 4.0, 5.0, 6.0, 7.0, 8.0, 9.0, 10.0, 11.0, 12.0], \"type\": \"scatter\", \"uid\": \"290c2d22-a1a4-11e8-9409-0800275aa47c\"}], {\"yaxis2\": {\"domain\": [0.55, 1.0], \"title\": \"Snow on Grnd (cm)\"}, \"title\": \"Snow on Ground Analysis (2015)\", \"xaxis2\": {\"anchor\": \"y2\", \"dtick\": 1}, \"xaxis\": {\"dtick\": 1, \"title\": \"Month\"}, \"yaxis\": {\"domain\": [0, 0.5], \"dtick\": 500, \"title\": \"# of Collisions\"}}, {\"linkText\": \"Export to plot.ly\", \"showLink\": true})});</script>"
      ],
      "text/vnd.plotly.v1+html": [
       "<div id=\"dccf2432-9f43-4d4d-95b6-e852197b879b\" style=\"height: 525px; width: 100%;\" class=\"plotly-graph-div\"></div><script type=\"text/javascript\">require([\"plotly\"], function(Plotly) { window.PLOTLYENV=window.PLOTLYENV || {};window.PLOTLYENV.BASE_URL=\"https://plot.ly\";Plotly.newPlot(\"dccf2432-9f43-4d4d-95b6-e852197b879b\", [{\"opacity\": 0.6, \"textposition\": \"auto\", \"name\": \"Number of Collisions\", \"text\": [\"2027\", \"1900\", \"1064\", \"901\", \"1115\", \"1219\", \"1115\", \"1058\", \"1133\", \"1199\", \"1249\", \"1098\"], \"y\": [2027.0, 1900.0, 1064.0, 901.0, 1115.0, 1219.0, 1115.0, 1058.0, 1133.0, 1199.0, 1249.0, 1098.0], \"x\": [1.0, 2.0, 3.0, 4.0, 5.0, 6.0, 7.0, 8.0, 9.0, 10.0, 11.0, 12.0], \"type\": \"bar\", \"uid\": \"290c2ac0-a1a4-11e8-9409-0800275aa47c\"}, {\"name\": \"Monthly Total Snow on Ground\", \"yaxis\": \"y2\", \"mode\": \"lines\", \"xaxis\": \"x2\", \"y\": [257.0, 790.0, 840.0, 31.0, 0.0, 0.0, 0.0, 0.0, 0.0, 0.0, 1.0, 47.0], \"x\": [1.0, 2.0, 3.0, 4.0, 5.0, 6.0, 7.0, 8.0, 9.0, 10.0, 11.0, 12.0], \"type\": \"scatter\", \"uid\": \"290c2d22-a1a4-11e8-9409-0800275aa47c\"}], {\"yaxis2\": {\"domain\": [0.55, 1.0], \"title\": \"Snow on Grnd (cm)\"}, \"title\": \"Snow on Ground Analysis (2015)\", \"xaxis2\": {\"anchor\": \"y2\", \"dtick\": 1}, \"xaxis\": {\"dtick\": 1, \"title\": \"Month\"}, \"yaxis\": {\"domain\": [0, 0.5], \"dtick\": 500, \"title\": \"# of Collisions\"}}, {\"linkText\": \"Export to plot.ly\", \"showLink\": true})});</script>"
      ]
     },
     "metadata": {},
     "output_type": "display_data"
    },
    {
     "data": {
      "application/vnd.plotly.v1+json": {
       "data": [
        {
         "name": "Number of Collisions",
         "opacity": 0.6,
         "text": [
          "1407",
          "1523",
          "1018",
          "944",
          "1109",
          "1135",
          "1035",
          "976",
          "1073",
          "1111",
          "1155",
          "1537"
         ],
         "textposition": "auto",
         "type": "bar",
         "uid": "29159538-a1a4-11e8-9409-0800275aa47c",
         "x": [
          1,
          2,
          3,
          4,
          5,
          6,
          7,
          8,
          9,
          10,
          11,
          12
         ],
         "y": [
          1407,
          1523,
          1018,
          944,
          1109,
          1135,
          1035,
          976,
          1073,
          1111,
          1155,
          1537
         ]
        },
        {
         "mode": "lines",
         "name": "Monthly Total Snow on Ground",
         "type": "scatter",
         "uid": "291597cc-a1a4-11e8-9409-0800275aa47c",
         "x": [
          1,
          2,
          3,
          4,
          5,
          6,
          7,
          8,
          9,
          10,
          11,
          12
         ],
         "xaxis": "x2",
         "y": [
          391,
          496,
          376,
          33,
          0,
          0,
          0,
          0,
          0,
          2,
          29,
          369
         ],
         "yaxis": "y2"
        }
       ],
       "layout": {
        "title": "Snow on Ground Analysis (2016)",
        "xaxis": {
         "dtick": 1,
         "title": "Month"
        },
        "xaxis2": {
         "anchor": "y2",
         "dtick": 1
        },
        "yaxis": {
         "domain": [
          0,
          0.5
         ],
         "dtick": 500,
         "title": "# of Collisions"
        },
        "yaxis2": {
         "domain": [
          0.55,
          1
         ],
         "title": "Snow on Grnd (cm)"
        }
       }
      },
      "text/html": [
       "<div id=\"446a679f-260a-41e1-9bc0-02c8e85911d5\" style=\"height: 525px; width: 100%;\" class=\"plotly-graph-div\"></div><script type=\"text/javascript\">require([\"plotly\"], function(Plotly) { window.PLOTLYENV=window.PLOTLYENV || {};window.PLOTLYENV.BASE_URL=\"https://plot.ly\";Plotly.newPlot(\"446a679f-260a-41e1-9bc0-02c8e85911d5\", [{\"opacity\": 0.6, \"textposition\": \"auto\", \"name\": \"Number of Collisions\", \"text\": [\"1407\", \"1523\", \"1018\", \"944\", \"1109\", \"1135\", \"1035\", \"976\", \"1073\", \"1111\", \"1155\", \"1537\"], \"y\": [1407.0, 1523.0, 1018.0, 944.0, 1109.0, 1135.0, 1035.0, 976.0, 1073.0, 1111.0, 1155.0, 1537.0], \"x\": [1.0, 2.0, 3.0, 4.0, 5.0, 6.0, 7.0, 8.0, 9.0, 10.0, 11.0, 12.0], \"type\": \"bar\", \"uid\": \"2919d666-a1a4-11e8-9409-0800275aa47c\"}, {\"name\": \"Monthly Total Snow on Ground\", \"yaxis\": \"y2\", \"mode\": \"lines\", \"xaxis\": \"x2\", \"y\": [391.0, 496.0, 376.0, 33.0, 0.0, 0.0, 0.0, 0.0, 0.0, 2.0, 29.0, 369.0], \"x\": [1.0, 2.0, 3.0, 4.0, 5.0, 6.0, 7.0, 8.0, 9.0, 10.0, 11.0, 12.0], \"type\": \"scatter\", \"uid\": \"2919d8fa-a1a4-11e8-9409-0800275aa47c\"}], {\"yaxis2\": {\"domain\": [0.55, 1.0], \"title\": \"Snow on Grnd (cm)\"}, \"title\": \"Snow on Ground Analysis (2016)\", \"xaxis2\": {\"anchor\": \"y2\", \"dtick\": 1}, \"xaxis\": {\"dtick\": 1, \"title\": \"Month\"}, \"yaxis\": {\"domain\": [0, 0.5], \"dtick\": 500, \"title\": \"# of Collisions\"}}, {\"linkText\": \"Export to plot.ly\", \"showLink\": true})});</script>"
      ],
      "text/vnd.plotly.v1+html": [
       "<div id=\"446a679f-260a-41e1-9bc0-02c8e85911d5\" style=\"height: 525px; width: 100%;\" class=\"plotly-graph-div\"></div><script type=\"text/javascript\">require([\"plotly\"], function(Plotly) { window.PLOTLYENV=window.PLOTLYENV || {};window.PLOTLYENV.BASE_URL=\"https://plot.ly\";Plotly.newPlot(\"446a679f-260a-41e1-9bc0-02c8e85911d5\", [{\"opacity\": 0.6, \"textposition\": \"auto\", \"name\": \"Number of Collisions\", \"text\": [\"1407\", \"1523\", \"1018\", \"944\", \"1109\", \"1135\", \"1035\", \"976\", \"1073\", \"1111\", \"1155\", \"1537\"], \"y\": [1407.0, 1523.0, 1018.0, 944.0, 1109.0, 1135.0, 1035.0, 976.0, 1073.0, 1111.0, 1155.0, 1537.0], \"x\": [1.0, 2.0, 3.0, 4.0, 5.0, 6.0, 7.0, 8.0, 9.0, 10.0, 11.0, 12.0], \"type\": \"bar\", \"uid\": \"2919d666-a1a4-11e8-9409-0800275aa47c\"}, {\"name\": \"Monthly Total Snow on Ground\", \"yaxis\": \"y2\", \"mode\": \"lines\", \"xaxis\": \"x2\", \"y\": [391.0, 496.0, 376.0, 33.0, 0.0, 0.0, 0.0, 0.0, 0.0, 2.0, 29.0, 369.0], \"x\": [1.0, 2.0, 3.0, 4.0, 5.0, 6.0, 7.0, 8.0, 9.0, 10.0, 11.0, 12.0], \"type\": \"scatter\", \"uid\": \"2919d8fa-a1a4-11e8-9409-0800275aa47c\"}], {\"yaxis2\": {\"domain\": [0.55, 1.0], \"title\": \"Snow on Grnd (cm)\"}, \"title\": \"Snow on Ground Analysis (2016)\", \"xaxis2\": {\"anchor\": \"y2\", \"dtick\": 1}, \"xaxis\": {\"dtick\": 1, \"title\": \"Month\"}, \"yaxis\": {\"domain\": [0, 0.5], \"dtick\": 500, \"title\": \"# of Collisions\"}}, {\"linkText\": \"Export to plot.ly\", \"showLink\": true})});</script>"
      ]
     },
     "metadata": {},
     "output_type": "display_data"
    },
    {
     "data": {
      "application/vnd.plotly.v1+json": {
       "data": [
        {
         "name": "Number of Collisions",
         "opacity": 0.6,
         "text": [
          "1275",
          "1279",
          "1224",
          "913",
          "1084",
          "1095",
          "971",
          "990",
          "1176",
          "1139",
          "1493",
          "1755"
         ],
         "textposition": "auto",
         "type": "bar",
         "uid": "2923746e-a1a4-11e8-9409-0800275aa47c",
         "x": [
          1,
          2,
          3,
          4,
          5,
          6,
          7,
          8,
          9,
          10,
          11,
          12
         ],
         "y": [
          1275,
          1279,
          1224,
          913,
          1084,
          1095,
          971,
          990,
          1176,
          1139,
          1493,
          1755
         ]
        },
        {
         "mode": "lines",
         "name": "Monthly Total Snow on Ground",
         "type": "scatter",
         "uid": "292377ca-a1a4-11e8-9409-0800275aa47c",
         "x": [
          1,
          2,
          3,
          4,
          5,
          6,
          7,
          8,
          9,
          10,
          11,
          12
         ],
         "xaxis": "x2",
         "y": [
          742,
          964,
          485,
          6,
          0,
          0,
          0,
          0,
          0,
          0,
          26,
          311
         ],
         "yaxis": "y2"
        }
       ],
       "layout": {
        "title": "Snow on Ground Analysis (2017)",
        "xaxis": {
         "dtick": 1,
         "title": "Month"
        },
        "xaxis2": {
         "anchor": "y2",
         "dtick": 1
        },
        "yaxis": {
         "domain": [
          0,
          0.5
         ],
         "dtick": 500,
         "title": "# of Collisions"
        },
        "yaxis2": {
         "domain": [
          0.55,
          1
         ],
         "title": "Snow on Grnd (cm)"
        }
       }
      },
      "text/html": [
       "<div id=\"311ce9e4-faf6-45cd-8d29-5b3b01fdefaf\" style=\"height: 525px; width: 100%;\" class=\"plotly-graph-div\"></div><script type=\"text/javascript\">require([\"plotly\"], function(Plotly) { window.PLOTLYENV=window.PLOTLYENV || {};window.PLOTLYENV.BASE_URL=\"https://plot.ly\";Plotly.newPlot(\"311ce9e4-faf6-45cd-8d29-5b3b01fdefaf\", [{\"opacity\": 0.6, \"textposition\": \"auto\", \"name\": \"Number of Collisions\", \"text\": [\"1275\", \"1279\", \"1224\", \"913\", \"1084\", \"1095\", \"971\", \"990\", \"1176\", \"1139\", \"1493\", \"1755\"], \"y\": [1275.0, 1279.0, 1224.0, 913.0, 1084.0, 1095.0, 971.0, 990.0, 1176.0, 1139.0, 1493.0, 1755.0], \"x\": [1.0, 2.0, 3.0, 4.0, 5.0, 6.0, 7.0, 8.0, 9.0, 10.0, 11.0, 12.0], \"type\": \"bar\", \"uid\": \"2927b402-a1a4-11e8-9409-0800275aa47c\"}, {\"name\": \"Monthly Total Snow on Ground\", \"yaxis\": \"y2\", \"mode\": \"lines\", \"xaxis\": \"x2\", \"y\": [742.0, 964.0, 485.0, 6.0, 0.0, 0.0, 0.0, 0.0, 0.0, 0.0, 26.0, 311.0], \"x\": [1.0, 2.0, 3.0, 4.0, 5.0, 6.0, 7.0, 8.0, 9.0, 10.0, 11.0, 12.0], \"type\": \"scatter\", \"uid\": \"2927b6aa-a1a4-11e8-9409-0800275aa47c\"}], {\"yaxis2\": {\"domain\": [0.55, 1.0], \"title\": \"Snow on Grnd (cm)\"}, \"title\": \"Snow on Ground Analysis (2017)\", \"xaxis2\": {\"anchor\": \"y2\", \"dtick\": 1}, \"xaxis\": {\"dtick\": 1, \"title\": \"Month\"}, \"yaxis\": {\"domain\": [0, 0.5], \"dtick\": 500, \"title\": \"# of Collisions\"}}, {\"linkText\": \"Export to plot.ly\", \"showLink\": true})});</script>"
      ],
      "text/vnd.plotly.v1+html": [
       "<div id=\"311ce9e4-faf6-45cd-8d29-5b3b01fdefaf\" style=\"height: 525px; width: 100%;\" class=\"plotly-graph-div\"></div><script type=\"text/javascript\">require([\"plotly\"], function(Plotly) { window.PLOTLYENV=window.PLOTLYENV || {};window.PLOTLYENV.BASE_URL=\"https://plot.ly\";Plotly.newPlot(\"311ce9e4-faf6-45cd-8d29-5b3b01fdefaf\", [{\"opacity\": 0.6, \"textposition\": \"auto\", \"name\": \"Number of Collisions\", \"text\": [\"1275\", \"1279\", \"1224\", \"913\", \"1084\", \"1095\", \"971\", \"990\", \"1176\", \"1139\", \"1493\", \"1755\"], \"y\": [1275.0, 1279.0, 1224.0, 913.0, 1084.0, 1095.0, 971.0, 990.0, 1176.0, 1139.0, 1493.0, 1755.0], \"x\": [1.0, 2.0, 3.0, 4.0, 5.0, 6.0, 7.0, 8.0, 9.0, 10.0, 11.0, 12.0], \"type\": \"bar\", \"uid\": \"2927b402-a1a4-11e8-9409-0800275aa47c\"}, {\"name\": \"Monthly Total Snow on Ground\", \"yaxis\": \"y2\", \"mode\": \"lines\", \"xaxis\": \"x2\", \"y\": [742.0, 964.0, 485.0, 6.0, 0.0, 0.0, 0.0, 0.0, 0.0, 0.0, 26.0, 311.0], \"x\": [1.0, 2.0, 3.0, 4.0, 5.0, 6.0, 7.0, 8.0, 9.0, 10.0, 11.0, 12.0], \"type\": \"scatter\", \"uid\": \"2927b6aa-a1a4-11e8-9409-0800275aa47c\"}], {\"yaxis2\": {\"domain\": [0.55, 1.0], \"title\": \"Snow on Grnd (cm)\"}, \"title\": \"Snow on Ground Analysis (2017)\", \"xaxis2\": {\"anchor\": \"y2\", \"dtick\": 1}, \"xaxis\": {\"dtick\": 1, \"title\": \"Month\"}, \"yaxis\": {\"domain\": [0, 0.5], \"dtick\": 500, \"title\": \"# of Collisions\"}}, {\"linkText\": \"Export to plot.ly\", \"showLink\": true})});</script>"
      ]
     },
     "metadata": {},
     "output_type": "display_data"
    }
   ],
   "source": [
    "df_avg = wt1417.groupby([\"Year\",\"Month\"]).mean()\n",
    "df_avg[\"Year\"] = [x[0] for x in df_avg.index]\n",
    "df_avg[\"Month\"] = [x[1] for x in df_avg.index]\n",
    "\n",
    "df_sum = wt1417.groupby([\"Year\",\"Month\"]).sum()\n",
    "df_sum[\"Year\"] = [x[0] for x in df_sum.index]\n",
    "df_sum[\"Month\"] = [x[1] for x in df_sum.index]\n",
    "\n",
    "def printSnowOnGrndInYear(n):\n",
    "    monthCase = go.Bar(x = df_sum[df_sum[\"Year\"]==n][\"Month\"],\n",
    "                       y = df_sum[df_sum[\"Year\"]==n][\"Number of Collisions\"],\n",
    "                       text = df_sum[df_sum[\"Year\"]==n][\"Number of Collisions\"],\n",
    "                       textposition = 'auto',\n",
    "                       opacity = 0.6,\n",
    "                       name = 'Number of Collisions')\n",
    "    total_snowOnGrnd = go.Scatter(x = df_sum[df_sum[\"Year\"]==n][\"Month\"],\n",
    "                         y = df_sum[df_sum[\"Year\"]==n][\"Snow on Grnd (cm)\"],\n",
    "                         mode = 'lines',\n",
    "                         name = 'Monthly Total Snow on Ground',\n",
    "                         xaxis = 'x2', \n",
    "                         yaxis = 'y2')\n",
    "    fig = dict(data = [monthCase, total_snowOnGrnd], \n",
    "               layout = go.Layout(title = \"Snow on Ground Analysis (\" + str(n) + \")\",\n",
    "                                  xaxis = dict(title='Month', dtick=1),\n",
    "                                  yaxis = dict(title='# of Collisions', dtick=500, domain = [0,0.5]),\n",
    "                                  yaxis2 = dict(title='Snow on Grnd (cm)', domain = [0.55,1.0]),\n",
    "                                  xaxis2 = dict(dtick=1, anchor = 'y2')\n",
    "                                 )\n",
    "              )\n",
    "    iplot(fig)\n",
    "    \n",
    "for m in range(2014,2018):\n",
    "    printSnowOnGrndInYear(m)"
   ]
  },
  {
   "cell_type": "markdown",
   "metadata": {},
   "source": [
    "**Brief Conclusion:**\n",
    "* The curve of monthly snowfall and snow on ground is similar to the trend of monthly collisions. \n",
    "**Hypothesis:**\n",
    "* Snowy weather causes collisions from the perspective of reducing visibility and grip. "
   ]
  },
  {
   "cell_type": "code",
   "execution_count": 15,
   "metadata": {},
   "outputs": [
    {
     "data": {
      "application/vnd.plotly.v1+json": {
       "data": [
        {
         "name": "Number of Collisions",
         "opacity": 0.6,
         "text": [
          "1790",
          "1349",
          "1190",
          "936",
          "1093",
          "1166",
          "1115",
          "1094",
          "1126",
          "1260",
          "1340",
          "1384"
         ],
         "textposition": "auto",
         "type": "bar",
         "uid": "7f8784a4-a1a3-11e8-9409-0800275aa47c",
         "x": [
          1,
          2,
          3,
          4,
          5,
          6,
          7,
          8,
          9,
          10,
          11,
          12
         ],
         "y": [
          1790,
          1349,
          1190,
          936,
          1093,
          1166,
          1115,
          1094,
          1126,
          1260,
          1340,
          1384
         ]
        },
        {
         "mode": "lines",
         "name": "Monthly Total Precip",
         "type": "scatter",
         "uid": "7f878ad0-a1a3-11e8-9409-0800275aa47c",
         "x": [
          1,
          2,
          3,
          4,
          5,
          6,
          7,
          8,
          9,
          10,
          11,
          12
         ],
         "xaxis": "x2",
         "y": [
          34.2,
          53.300000000000004,
          54.900000000000006,
          98.3,
          75.10000000000001,
          156.2,
          85.60000000000001,
          104.3,
          97.10000000000002,
          64.8,
          37.2,
          42.1
         ],
         "yaxis": "y2"
        }
       ],
       "layout": {
        "title": "Precip Analysis (2014)",
        "xaxis": {
         "dtick": 1,
         "title": "Month"
        },
        "xaxis2": {
         "anchor": "y2",
         "dtick": 1
        },
        "yaxis": {
         "domain": [
          0,
          0.5
         ],
         "dtick": 500,
         "title": "# of Collisions"
        },
        "yaxis2": {
         "domain": [
          0.55,
          1
         ],
         "title": "Total Precip (mm)"
        }
       }
      },
      "text/html": [
       "<div id=\"8420e451-bad1-486a-b41f-66c63c72baac\" style=\"height: 525px; width: 100%;\" class=\"plotly-graph-div\"></div><script type=\"text/javascript\">require([\"plotly\"], function(Plotly) { window.PLOTLYENV=window.PLOTLYENV || {};window.PLOTLYENV.BASE_URL=\"https://plot.ly\";Plotly.newPlot(\"8420e451-bad1-486a-b41f-66c63c72baac\", [{\"opacity\": 0.6, \"textposition\": \"auto\", \"name\": \"Number of Collisions\", \"text\": [\"1790\", \"1349\", \"1190\", \"936\", \"1093\", \"1166\", \"1115\", \"1094\", \"1126\", \"1260\", \"1340\", \"1384\"], \"y\": [1790.0, 1349.0, 1190.0, 936.0, 1093.0, 1166.0, 1115.0, 1094.0, 1126.0, 1260.0, 1340.0, 1384.0], \"x\": [1.0, 2.0, 3.0, 4.0, 5.0, 6.0, 7.0, 8.0, 9.0, 10.0, 11.0, 12.0], \"type\": \"bar\", \"uid\": \"7f8cef2a-a1a3-11e8-9409-0800275aa47c\"}, {\"name\": \"Monthly Total Precip\", \"yaxis\": \"y2\", \"mode\": \"lines\", \"xaxis\": \"x2\", \"y\": [34.2, 53.300000000000004, 54.900000000000006, 98.3, 75.10000000000001, 156.2, 85.60000000000001, 104.3, 97.10000000000002, 64.8, 37.2, 42.1], \"x\": [1.0, 2.0, 3.0, 4.0, 5.0, 6.0, 7.0, 8.0, 9.0, 10.0, 11.0, 12.0], \"type\": \"scatter\", \"uid\": \"7f8cf1f0-a1a3-11e8-9409-0800275aa47c\"}], {\"yaxis2\": {\"domain\": [0.55, 1.0], \"title\": \"Total Precip (mm)\"}, \"title\": \"Precip Analysis (2014)\", \"xaxis2\": {\"anchor\": \"y2\", \"dtick\": 1}, \"xaxis\": {\"dtick\": 1, \"title\": \"Month\"}, \"yaxis\": {\"domain\": [0, 0.5], \"dtick\": 500, \"title\": \"# of Collisions\"}}, {\"linkText\": \"Export to plot.ly\", \"showLink\": true})});</script>"
      ],
      "text/vnd.plotly.v1+html": [
       "<div id=\"8420e451-bad1-486a-b41f-66c63c72baac\" style=\"height: 525px; width: 100%;\" class=\"plotly-graph-div\"></div><script type=\"text/javascript\">require([\"plotly\"], function(Plotly) { window.PLOTLYENV=window.PLOTLYENV || {};window.PLOTLYENV.BASE_URL=\"https://plot.ly\";Plotly.newPlot(\"8420e451-bad1-486a-b41f-66c63c72baac\", [{\"opacity\": 0.6, \"textposition\": \"auto\", \"name\": \"Number of Collisions\", \"text\": [\"1790\", \"1349\", \"1190\", \"936\", \"1093\", \"1166\", \"1115\", \"1094\", \"1126\", \"1260\", \"1340\", \"1384\"], \"y\": [1790.0, 1349.0, 1190.0, 936.0, 1093.0, 1166.0, 1115.0, 1094.0, 1126.0, 1260.0, 1340.0, 1384.0], \"x\": [1.0, 2.0, 3.0, 4.0, 5.0, 6.0, 7.0, 8.0, 9.0, 10.0, 11.0, 12.0], \"type\": \"bar\", \"uid\": \"7f8cef2a-a1a3-11e8-9409-0800275aa47c\"}, {\"name\": \"Monthly Total Precip\", \"yaxis\": \"y2\", \"mode\": \"lines\", \"xaxis\": \"x2\", \"y\": [34.2, 53.300000000000004, 54.900000000000006, 98.3, 75.10000000000001, 156.2, 85.60000000000001, 104.3, 97.10000000000002, 64.8, 37.2, 42.1], \"x\": [1.0, 2.0, 3.0, 4.0, 5.0, 6.0, 7.0, 8.0, 9.0, 10.0, 11.0, 12.0], \"type\": \"scatter\", \"uid\": \"7f8cf1f0-a1a3-11e8-9409-0800275aa47c\"}], {\"yaxis2\": {\"domain\": [0.55, 1.0], \"title\": \"Total Precip (mm)\"}, \"title\": \"Precip Analysis (2014)\", \"xaxis2\": {\"anchor\": \"y2\", \"dtick\": 1}, \"xaxis\": {\"dtick\": 1, \"title\": \"Month\"}, \"yaxis\": {\"domain\": [0, 0.5], \"dtick\": 500, \"title\": \"# of Collisions\"}}, {\"linkText\": \"Export to plot.ly\", \"showLink\": true})});</script>"
      ]
     },
     "metadata": {},
     "output_type": "display_data"
    },
    {
     "data": {
      "application/vnd.plotly.v1+json": {
       "data": [
        {
         "name": "Number of Collisions",
         "opacity": 0.6,
         "text": [
          "2027",
          "1900",
          "1064",
          "901",
          "1115",
          "1219",
          "1115",
          "1058",
          "1133",
          "1199",
          "1249",
          "1098"
         ],
         "textposition": "auto",
         "type": "bar",
         "uid": "7f96bfaa-a1a3-11e8-9409-0800275aa47c",
         "x": [
          1,
          2,
          3,
          4,
          5,
          6,
          7,
          8,
          9,
          10,
          11,
          12
         ],
         "y": [
          2027,
          1900,
          1064,
          901,
          1115,
          1219,
          1115,
          1058,
          1133,
          1199,
          1249,
          1098
         ]
        },
        {
         "mode": "lines",
         "name": "Monthly Total Precip",
         "type": "scatter",
         "uid": "7f96c22a-a1a3-11e8-9409-0800275aa47c",
         "x": [
          1,
          2,
          3,
          4,
          5,
          6,
          7,
          8,
          9,
          10,
          11,
          12
         ],
         "xaxis": "x2",
         "y": [
          47.6,
          33.800000000000004,
          24.499999999999996,
          61.5,
          65,
          107.99999999999999,
          63.10000000000001,
          76.49999999999999,
          96.6,
          83.99999999999999,
          33,
          92.10000000000001
         ],
         "yaxis": "y2"
        }
       ],
       "layout": {
        "title": "Precip Analysis (2015)",
        "xaxis": {
         "dtick": 1,
         "title": "Month"
        },
        "xaxis2": {
         "anchor": "y2",
         "dtick": 1
        },
        "yaxis": {
         "domain": [
          0,
          0.5
         ],
         "dtick": 500,
         "title": "# of Collisions"
        },
        "yaxis2": {
         "domain": [
          0.55,
          1
         ],
         "title": "Total Precip (mm)"
        }
       }
      },
      "text/html": [
       "<div id=\"80287f82-f889-41da-b4d5-c7f99b1ba1fd\" style=\"height: 525px; width: 100%;\" class=\"plotly-graph-div\"></div><script type=\"text/javascript\">require([\"plotly\"], function(Plotly) { window.PLOTLYENV=window.PLOTLYENV || {};window.PLOTLYENV.BASE_URL=\"https://plot.ly\";Plotly.newPlot(\"80287f82-f889-41da-b4d5-c7f99b1ba1fd\", [{\"opacity\": 0.6, \"textposition\": \"auto\", \"name\": \"Number of Collisions\", \"text\": [\"2027\", \"1900\", \"1064\", \"901\", \"1115\", \"1219\", \"1115\", \"1058\", \"1133\", \"1199\", \"1249\", \"1098\"], \"y\": [2027.0, 1900.0, 1064.0, 901.0, 1115.0, 1219.0, 1115.0, 1058.0, 1133.0, 1199.0, 1249.0, 1098.0], \"x\": [1.0, 2.0, 3.0, 4.0, 5.0, 6.0, 7.0, 8.0, 9.0, 10.0, 11.0, 12.0], \"type\": \"bar\", \"uid\": \"7f9b7752-a1a3-11e8-9409-0800275aa47c\"}, {\"name\": \"Monthly Total Precip\", \"yaxis\": \"y2\", \"mode\": \"lines\", \"xaxis\": \"x2\", \"y\": [47.6, 33.800000000000004, 24.499999999999996, 61.5, 65.0, 107.99999999999999, 63.10000000000001, 76.49999999999999, 96.6, 83.99999999999999, 33.0, 92.10000000000001], \"x\": [1.0, 2.0, 3.0, 4.0, 5.0, 6.0, 7.0, 8.0, 9.0, 10.0, 11.0, 12.0], \"type\": \"scatter\", \"uid\": \"7f9b79c8-a1a3-11e8-9409-0800275aa47c\"}], {\"yaxis2\": {\"domain\": [0.55, 1.0], \"title\": \"Total Precip (mm)\"}, \"title\": \"Precip Analysis (2015)\", \"xaxis2\": {\"anchor\": \"y2\", \"dtick\": 1}, \"xaxis\": {\"dtick\": 1, \"title\": \"Month\"}, \"yaxis\": {\"domain\": [0, 0.5], \"dtick\": 500, \"title\": \"# of Collisions\"}}, {\"linkText\": \"Export to plot.ly\", \"showLink\": true})});</script>"
      ],
      "text/vnd.plotly.v1+html": [
       "<div id=\"80287f82-f889-41da-b4d5-c7f99b1ba1fd\" style=\"height: 525px; width: 100%;\" class=\"plotly-graph-div\"></div><script type=\"text/javascript\">require([\"plotly\"], function(Plotly) { window.PLOTLYENV=window.PLOTLYENV || {};window.PLOTLYENV.BASE_URL=\"https://plot.ly\";Plotly.newPlot(\"80287f82-f889-41da-b4d5-c7f99b1ba1fd\", [{\"opacity\": 0.6, \"textposition\": \"auto\", \"name\": \"Number of Collisions\", \"text\": [\"2027\", \"1900\", \"1064\", \"901\", \"1115\", \"1219\", \"1115\", \"1058\", \"1133\", \"1199\", \"1249\", \"1098\"], \"y\": [2027.0, 1900.0, 1064.0, 901.0, 1115.0, 1219.0, 1115.0, 1058.0, 1133.0, 1199.0, 1249.0, 1098.0], \"x\": [1.0, 2.0, 3.0, 4.0, 5.0, 6.0, 7.0, 8.0, 9.0, 10.0, 11.0, 12.0], \"type\": \"bar\", \"uid\": \"7f9b7752-a1a3-11e8-9409-0800275aa47c\"}, {\"name\": \"Monthly Total Precip\", \"yaxis\": \"y2\", \"mode\": \"lines\", \"xaxis\": \"x2\", \"y\": [47.6, 33.800000000000004, 24.499999999999996, 61.5, 65.0, 107.99999999999999, 63.10000000000001, 76.49999999999999, 96.6, 83.99999999999999, 33.0, 92.10000000000001], \"x\": [1.0, 2.0, 3.0, 4.0, 5.0, 6.0, 7.0, 8.0, 9.0, 10.0, 11.0, 12.0], \"type\": \"scatter\", \"uid\": \"7f9b79c8-a1a3-11e8-9409-0800275aa47c\"}], {\"yaxis2\": {\"domain\": [0.55, 1.0], \"title\": \"Total Precip (mm)\"}, \"title\": \"Precip Analysis (2015)\", \"xaxis2\": {\"anchor\": \"y2\", \"dtick\": 1}, \"xaxis\": {\"dtick\": 1, \"title\": \"Month\"}, \"yaxis\": {\"domain\": [0, 0.5], \"dtick\": 500, \"title\": \"# of Collisions\"}}, {\"linkText\": \"Export to plot.ly\", \"showLink\": true})});</script>"
      ]
     },
     "metadata": {},
     "output_type": "display_data"
    },
    {
     "data": {
      "application/vnd.plotly.v1+json": {
       "data": [
        {
         "name": "Number of Collisions",
         "opacity": 0.6,
         "text": [
          "1407",
          "1523",
          "1018",
          "944",
          "1109",
          "1135",
          "1035",
          "976",
          "1073",
          "1111",
          "1155",
          "1537"
         ],
         "textposition": "auto",
         "type": "bar",
         "uid": "7fa55b5a-a1a3-11e8-9409-0800275aa47c",
         "x": [
          1,
          2,
          3,
          4,
          5,
          6,
          7,
          8,
          9,
          10,
          11,
          12
         ],
         "y": [
          1407,
          1523,
          1018,
          944,
          1109,
          1135,
          1035,
          976,
          1073,
          1111,
          1155,
          1537
         ]
        },
        {
         "mode": "lines",
         "name": "Monthly Total Precip",
         "type": "scatter",
         "uid": "7fa55e66-a1a3-11e8-9409-0800275aa47c",
         "x": [
          1,
          2,
          3,
          4,
          5,
          6,
          7,
          8,
          9,
          10,
          11,
          12
         ],
         "xaxis": "x2",
         "y": [
          52.199999999999996,
          98.39999999999999,
          98,
          42.4,
          26.4,
          56.60000000000001,
          100.8,
          122.4,
          76.60000000000001,
          99.19999999999999,
          60.9,
          84
         ],
         "yaxis": "y2"
        }
       ],
       "layout": {
        "title": "Precip Analysis (2016)",
        "xaxis": {
         "dtick": 1,
         "title": "Month"
        },
        "xaxis2": {
         "anchor": "y2",
         "dtick": 1
        },
        "yaxis": {
         "domain": [
          0,
          0.5
         ],
         "dtick": 500,
         "title": "# of Collisions"
        },
        "yaxis2": {
         "domain": [
          0.55,
          1
         ],
         "title": "Total Precip (mm)"
        }
       }
      },
      "text/html": [
       "<div id=\"383e4a1c-b20d-49e8-ac90-cff4855007f4\" style=\"height: 525px; width: 100%;\" class=\"plotly-graph-div\"></div><script type=\"text/javascript\">require([\"plotly\"], function(Plotly) { window.PLOTLYENV=window.PLOTLYENV || {};window.PLOTLYENV.BASE_URL=\"https://plot.ly\";Plotly.newPlot(\"383e4a1c-b20d-49e8-ac90-cff4855007f4\", [{\"opacity\": 0.6, \"textposition\": \"auto\", \"name\": \"Number of Collisions\", \"text\": [\"1407\", \"1523\", \"1018\", \"944\", \"1109\", \"1135\", \"1035\", \"976\", \"1073\", \"1111\", \"1155\", \"1537\"], \"y\": [1407.0, 1523.0, 1018.0, 944.0, 1109.0, 1135.0, 1035.0, 976.0, 1073.0, 1111.0, 1155.0, 1537.0], \"x\": [1.0, 2.0, 3.0, 4.0, 5.0, 6.0, 7.0, 8.0, 9.0, 10.0, 11.0, 12.0], \"type\": \"bar\", \"uid\": \"7fa99814-a1a3-11e8-9409-0800275aa47c\"}, {\"name\": \"Monthly Total Precip\", \"yaxis\": \"y2\", \"mode\": \"lines\", \"xaxis\": \"x2\", \"y\": [52.199999999999996, 98.39999999999999, 98.0, 42.4, 26.4, 56.60000000000001, 100.8, 122.4, 76.60000000000001, 99.19999999999999, 60.9, 84.0], \"x\": [1.0, 2.0, 3.0, 4.0, 5.0, 6.0, 7.0, 8.0, 9.0, 10.0, 11.0, 12.0], \"type\": \"scatter\", \"uid\": \"7fa99aee-a1a3-11e8-9409-0800275aa47c\"}], {\"yaxis2\": {\"domain\": [0.55, 1.0], \"title\": \"Total Precip (mm)\"}, \"title\": \"Precip Analysis (2016)\", \"xaxis2\": {\"anchor\": \"y2\", \"dtick\": 1}, \"xaxis\": {\"dtick\": 1, \"title\": \"Month\"}, \"yaxis\": {\"domain\": [0, 0.5], \"dtick\": 500, \"title\": \"# of Collisions\"}}, {\"linkText\": \"Export to plot.ly\", \"showLink\": true})});</script>"
      ],
      "text/vnd.plotly.v1+html": [
       "<div id=\"383e4a1c-b20d-49e8-ac90-cff4855007f4\" style=\"height: 525px; width: 100%;\" class=\"plotly-graph-div\"></div><script type=\"text/javascript\">require([\"plotly\"], function(Plotly) { window.PLOTLYENV=window.PLOTLYENV || {};window.PLOTLYENV.BASE_URL=\"https://plot.ly\";Plotly.newPlot(\"383e4a1c-b20d-49e8-ac90-cff4855007f4\", [{\"opacity\": 0.6, \"textposition\": \"auto\", \"name\": \"Number of Collisions\", \"text\": [\"1407\", \"1523\", \"1018\", \"944\", \"1109\", \"1135\", \"1035\", \"976\", \"1073\", \"1111\", \"1155\", \"1537\"], \"y\": [1407.0, 1523.0, 1018.0, 944.0, 1109.0, 1135.0, 1035.0, 976.0, 1073.0, 1111.0, 1155.0, 1537.0], \"x\": [1.0, 2.0, 3.0, 4.0, 5.0, 6.0, 7.0, 8.0, 9.0, 10.0, 11.0, 12.0], \"type\": \"bar\", \"uid\": \"7fa99814-a1a3-11e8-9409-0800275aa47c\"}, {\"name\": \"Monthly Total Precip\", \"yaxis\": \"y2\", \"mode\": \"lines\", \"xaxis\": \"x2\", \"y\": [52.199999999999996, 98.39999999999999, 98.0, 42.4, 26.4, 56.60000000000001, 100.8, 122.4, 76.60000000000001, 99.19999999999999, 60.9, 84.0], \"x\": [1.0, 2.0, 3.0, 4.0, 5.0, 6.0, 7.0, 8.0, 9.0, 10.0, 11.0, 12.0], \"type\": \"scatter\", \"uid\": \"7fa99aee-a1a3-11e8-9409-0800275aa47c\"}], {\"yaxis2\": {\"domain\": [0.55, 1.0], \"title\": \"Total Precip (mm)\"}, \"title\": \"Precip Analysis (2016)\", \"xaxis2\": {\"anchor\": \"y2\", \"dtick\": 1}, \"xaxis\": {\"dtick\": 1, \"title\": \"Month\"}, \"yaxis\": {\"domain\": [0, 0.5], \"dtick\": 500, \"title\": \"# of Collisions\"}}, {\"linkText\": \"Export to plot.ly\", \"showLink\": true})});</script>"
      ]
     },
     "metadata": {},
     "output_type": "display_data"
    },
    {
     "data": {
      "application/vnd.plotly.v1+json": {
       "data": [
        {
         "name": "Number of Collisions",
         "opacity": 0.6,
         "text": [
          "1275",
          "1279",
          "1224",
          "913",
          "1084",
          "1095",
          "971",
          "990",
          "1176",
          "1139",
          "1493",
          "1755"
         ],
         "textposition": "auto",
         "type": "bar",
         "uid": "7fb44016-a1a3-11e8-9409-0800275aa47c",
         "x": [
          1,
          2,
          3,
          4,
          5,
          6,
          7,
          8,
          9,
          10,
          11,
          12
         ],
         "y": [
          1275,
          1279,
          1224,
          913,
          1084,
          1095,
          971,
          990,
          1176,
          1139,
          1493,
          1755
         ]
        },
        {
         "mode": "lines",
         "name": "Monthly Total Precip",
         "type": "scatter",
         "uid": "7fb4443a-a1a3-11e8-9409-0800275aa47c",
         "x": [
          1,
          2,
          3,
          4,
          5,
          6,
          7,
          8,
          9,
          10,
          11,
          12
         ],
         "xaxis": "x2",
         "y": [
          64.89999999999999,
          88.8,
          61.800000000000004,
          159,
          172.4,
          156.8,
          169.6,
          82.39999999999999,
          51.6,
          142.40000000000003,
          86.4,
          32.400000000000006
         ],
         "yaxis": "y2"
        }
       ],
       "layout": {
        "title": "Precip Analysis (2017)",
        "xaxis": {
         "dtick": 1,
         "title": "Month"
        },
        "xaxis2": {
         "anchor": "y2",
         "dtick": 1
        },
        "yaxis": {
         "domain": [
          0,
          0.5
         ],
         "dtick": 500,
         "title": "# of Collisions"
        },
        "yaxis2": {
         "domain": [
          0.55,
          1
         ],
         "title": "Total Precip (mm)"
        }
       }
      },
      "text/html": [
       "<div id=\"ffac274a-29ca-4378-839c-c315e3a034be\" style=\"height: 525px; width: 100%;\" class=\"plotly-graph-div\"></div><script type=\"text/javascript\">require([\"plotly\"], function(Plotly) { window.PLOTLYENV=window.PLOTLYENV || {};window.PLOTLYENV.BASE_URL=\"https://plot.ly\";Plotly.newPlot(\"ffac274a-29ca-4378-839c-c315e3a034be\", [{\"opacity\": 0.6, \"textposition\": \"auto\", \"name\": \"Number of Collisions\", \"text\": [\"1275\", \"1279\", \"1224\", \"913\", \"1084\", \"1095\", \"971\", \"990\", \"1176\", \"1139\", \"1493\", \"1755\"], \"y\": [1275.0, 1279.0, 1224.0, 913.0, 1084.0, 1095.0, 971.0, 990.0, 1176.0, 1139.0, 1493.0, 1755.0], \"x\": [1.0, 2.0, 3.0, 4.0, 5.0, 6.0, 7.0, 8.0, 9.0, 10.0, 11.0, 12.0], \"type\": \"bar\", \"uid\": \"7fb8ab4c-a1a3-11e8-9409-0800275aa47c\"}, {\"name\": \"Monthly Total Precip\", \"yaxis\": \"y2\", \"mode\": \"lines\", \"xaxis\": \"x2\", \"y\": [64.89999999999999, 88.8, 61.800000000000004, 159.0, 172.4, 156.8, 169.6, 82.39999999999999, 51.6, 142.40000000000003, 86.4, 32.400000000000006], \"x\": [1.0, 2.0, 3.0, 4.0, 5.0, 6.0, 7.0, 8.0, 9.0, 10.0, 11.0, 12.0], \"type\": \"scatter\", \"uid\": \"7fb8af70-a1a3-11e8-9409-0800275aa47c\"}], {\"yaxis2\": {\"domain\": [0.55, 1.0], \"title\": \"Total Precip (mm)\"}, \"title\": \"Precip Analysis (2017)\", \"xaxis2\": {\"anchor\": \"y2\", \"dtick\": 1}, \"xaxis\": {\"dtick\": 1, \"title\": \"Month\"}, \"yaxis\": {\"domain\": [0, 0.5], \"dtick\": 500, \"title\": \"# of Collisions\"}}, {\"linkText\": \"Export to plot.ly\", \"showLink\": true})});</script>"
      ],
      "text/vnd.plotly.v1+html": [
       "<div id=\"ffac274a-29ca-4378-839c-c315e3a034be\" style=\"height: 525px; width: 100%;\" class=\"plotly-graph-div\"></div><script type=\"text/javascript\">require([\"plotly\"], function(Plotly) { window.PLOTLYENV=window.PLOTLYENV || {};window.PLOTLYENV.BASE_URL=\"https://plot.ly\";Plotly.newPlot(\"ffac274a-29ca-4378-839c-c315e3a034be\", [{\"opacity\": 0.6, \"textposition\": \"auto\", \"name\": \"Number of Collisions\", \"text\": [\"1275\", \"1279\", \"1224\", \"913\", \"1084\", \"1095\", \"971\", \"990\", \"1176\", \"1139\", \"1493\", \"1755\"], \"y\": [1275.0, 1279.0, 1224.0, 913.0, 1084.0, 1095.0, 971.0, 990.0, 1176.0, 1139.0, 1493.0, 1755.0], \"x\": [1.0, 2.0, 3.0, 4.0, 5.0, 6.0, 7.0, 8.0, 9.0, 10.0, 11.0, 12.0], \"type\": \"bar\", \"uid\": \"7fb8ab4c-a1a3-11e8-9409-0800275aa47c\"}, {\"name\": \"Monthly Total Precip\", \"yaxis\": \"y2\", \"mode\": \"lines\", \"xaxis\": \"x2\", \"y\": [64.89999999999999, 88.8, 61.800000000000004, 159.0, 172.4, 156.8, 169.6, 82.39999999999999, 51.6, 142.40000000000003, 86.4, 32.400000000000006], \"x\": [1.0, 2.0, 3.0, 4.0, 5.0, 6.0, 7.0, 8.0, 9.0, 10.0, 11.0, 12.0], \"type\": \"scatter\", \"uid\": \"7fb8af70-a1a3-11e8-9409-0800275aa47c\"}], {\"yaxis2\": {\"domain\": [0.55, 1.0], \"title\": \"Total Precip (mm)\"}, \"title\": \"Precip Analysis (2017)\", \"xaxis2\": {\"anchor\": \"y2\", \"dtick\": 1}, \"xaxis\": {\"dtick\": 1, \"title\": \"Month\"}, \"yaxis\": {\"domain\": [0, 0.5], \"dtick\": 500, \"title\": \"# of Collisions\"}}, {\"linkText\": \"Export to plot.ly\", \"showLink\": true})});</script>"
      ]
     },
     "metadata": {},
     "output_type": "display_data"
    }
   ],
   "source": [
    "df_avg = wt1417.groupby([\"Year\",\"Month\"]).mean()\n",
    "df_avg[\"Year\"] = [x[0] for x in df_avg.index]\n",
    "df_avg[\"Month\"] = [x[1] for x in df_avg.index]\n",
    "\n",
    "df_sum = wt1417.groupby([\"Year\",\"Month\"]).sum()\n",
    "df_sum[\"Year\"] = [x[0] for x in df_sum.index]\n",
    "df_sum[\"Month\"] = [x[1] for x in df_sum.index]\n",
    "\n",
    "def printPrecipInYear(n):\n",
    "    monthCase = go.Bar(x = df_sum[df_sum[\"Year\"]==n][\"Month\"],\n",
    "                       y = df_sum[df_sum[\"Year\"]==n][\"Number of Collisions\"],\n",
    "                       text = df_sum[df_sum[\"Year\"]==n][\"Number of Collisions\"],\n",
    "                       textposition = 'auto',\n",
    "                       opacity = 0.6,\n",
    "                       name = 'Number of Collisions')\n",
    "    total_precip = go.Scatter(x = df_sum[df_sum[\"Year\"]==n][\"Month\"],\n",
    "                         y = df_sum[df_sum[\"Year\"]==n][\"Total Precip (mm)\"],\n",
    "                         mode = 'lines',\n",
    "                         name = 'Monthly Total Precip',\n",
    "                         xaxis = 'x2', \n",
    "                         yaxis = 'y2')\n",
    "    fig = dict(data = [monthCase, total_precip], \n",
    "               layout = go.Layout(title = \"Precip Analysis (\" + str(n) + \")\",\n",
    "                                  xaxis = dict(title='Month', dtick=1),\n",
    "                                  yaxis = dict(title='# of Collisions', dtick=500, domain = [0,0.5]),\n",
    "                                  yaxis2 = dict(title='Total Precip (mm)', domain = [0.55,1.0]),\n",
    "                                  xaxis2 = dict(dtick=1, anchor = 'y2')\n",
    "                                 )\n",
    "              )\n",
    "    iplot(fig)\n",
    "    \n",
    "for m in range(2014,2018):\n",
    "    printPrecipInYear(m)"
   ]
  },
  {
   "cell_type": "markdown",
   "metadata": {},
   "source": [
    "**Brief Conclusion:**\n",
    "* No clear relationship between monthly precipitation and collisions"
   ]
  },
  {
   "cell_type": "markdown",
   "metadata": {},
   "source": [
    "### 2.4 The day in a year with the largest number of collisions"
   ]
  },
  {
   "cell_type": "markdown",
   "metadata": {},
   "source": [
    "**In 2014:**"
   ]
  },
  {
   "cell_type": "code",
   "execution_count": 43,
   "metadata": {},
   "outputs": [
    {
     "data": {
      "text/html": [
       "<div>\n",
       "<style scoped>\n",
       "    .dataframe tbody tr th:only-of-type {\n",
       "        vertical-align: middle;\n",
       "    }\n",
       "\n",
       "    .dataframe tbody tr th {\n",
       "        vertical-align: top;\n",
       "    }\n",
       "\n",
       "    .dataframe thead th {\n",
       "        text-align: right;\n",
       "    }\n",
       "</style>\n",
       "<table border=\"1\" class=\"dataframe\">\n",
       "  <thead>\n",
       "    <tr style=\"text-align: right;\">\n",
       "      <th></th>\n",
       "      <th>Date</th>\n",
       "      <th>Max Temp (°C)</th>\n",
       "      <th>Min Temp (°C)</th>\n",
       "      <th>Mean Temp (°C)</th>\n",
       "      <th>Total Rain (mm)</th>\n",
       "      <th>Total Snow (cm)</th>\n",
       "      <th>Total Precip (mm)</th>\n",
       "      <th>Snow on Grnd (cm)</th>\n",
       "      <th>Number of Collisions</th>\n",
       "      <th>Year</th>\n",
       "      <th>Month</th>\n",
       "      <th>Day in month</th>\n",
       "    </tr>\n",
       "  </thead>\n",
       "  <tbody>\n",
       "    <tr>\n",
       "      <th>2</th>\n",
       "      <td>2014-01-03</td>\n",
       "      <td>-21.0</td>\n",
       "      <td>-28.1</td>\n",
       "      <td>-24.6</td>\n",
       "      <td>0.0</td>\n",
       "      <td>0.3</td>\n",
       "      <td>0.0</td>\n",
       "      <td>29</td>\n",
       "      <td>151</td>\n",
       "      <td>2014</td>\n",
       "      <td>1</td>\n",
       "      <td>3</td>\n",
       "    </tr>\n",
       "  </tbody>\n",
       "</table>\n",
       "</div>"
      ],
      "text/plain": [
       "        Date  Max Temp (°C)  Min Temp (°C)  Mean Temp (°C)  Total Rain (mm)  \\\n",
       "2 2014-01-03          -21.0          -28.1           -24.6              0.0   \n",
       "\n",
       "   Total Snow (cm)  Total Precip (mm)  Snow on Grnd (cm)  \\\n",
       "2              0.3                0.0                 29   \n",
       "\n",
       "   Number of Collisions  Year  Month  Day in month  \n",
       "2                   151  2014      1             3  "
      ]
     },
     "execution_count": 43,
     "metadata": {},
     "output_type": "execute_result"
    }
   ],
   "source": [
    "maxColl2014 = wt1417[wt1417[\"Year\"]==2014].sort_values([\"Number of Collisions\"], ascending=[0])\n",
    "maxColl2014.iloc[[0]]"
   ]
  },
  {
   "cell_type": "markdown",
   "metadata": {},
   "source": [
    "**In 2015:**"
   ]
  },
  {
   "cell_type": "code",
   "execution_count": 44,
   "metadata": {},
   "outputs": [
    {
     "data": {
      "text/html": [
       "<div>\n",
       "<style scoped>\n",
       "    .dataframe tbody tr th:only-of-type {\n",
       "        vertical-align: middle;\n",
       "    }\n",
       "\n",
       "    .dataframe tbody tr th {\n",
       "        vertical-align: top;\n",
       "    }\n",
       "\n",
       "    .dataframe thead th {\n",
       "        text-align: right;\n",
       "    }\n",
       "</style>\n",
       "<table border=\"1\" class=\"dataframe\">\n",
       "  <thead>\n",
       "    <tr style=\"text-align: right;\">\n",
       "      <th></th>\n",
       "      <th>Date</th>\n",
       "      <th>Max Temp (°C)</th>\n",
       "      <th>Min Temp (°C)</th>\n",
       "      <th>Mean Temp (°C)</th>\n",
       "      <th>Total Rain (mm)</th>\n",
       "      <th>Total Snow (cm)</th>\n",
       "      <th>Total Precip (mm)</th>\n",
       "      <th>Snow on Grnd (cm)</th>\n",
       "      <th>Number of Collisions</th>\n",
       "      <th>Year</th>\n",
       "      <th>Month</th>\n",
       "      <th>Day in month</th>\n",
       "    </tr>\n",
       "  </thead>\n",
       "  <tbody>\n",
       "    <tr>\n",
       "      <th>397</th>\n",
       "      <td>2015-02-02</td>\n",
       "      <td>-14.3</td>\n",
       "      <td>-20.4</td>\n",
       "      <td>-17.4</td>\n",
       "      <td>0.0</td>\n",
       "      <td>3.0</td>\n",
       "      <td>1.5</td>\n",
       "      <td>14</td>\n",
       "      <td>160</td>\n",
       "      <td>2015</td>\n",
       "      <td>2</td>\n",
       "      <td>2</td>\n",
       "    </tr>\n",
       "  </tbody>\n",
       "</table>\n",
       "</div>"
      ],
      "text/plain": [
       "          Date  Max Temp (°C)  Min Temp (°C)  Mean Temp (°C)  Total Rain (mm)  \\\n",
       "397 2015-02-02          -14.3          -20.4           -17.4              0.0   \n",
       "\n",
       "     Total Snow (cm)  Total Precip (mm)  Snow on Grnd (cm)  \\\n",
       "397              3.0                1.5                 14   \n",
       "\n",
       "     Number of Collisions  Year  Month  Day in month  \n",
       "397                   160  2015      2             2  "
      ]
     },
     "execution_count": 44,
     "metadata": {},
     "output_type": "execute_result"
    }
   ],
   "source": [
    "maxColl2015 = wt1417[wt1417[\"Year\"]==2015].sort_values([\"Number of Collisions\"], ascending=[0])\n",
    "maxColl2015.iloc[[0]]"
   ]
  },
  {
   "cell_type": "markdown",
   "metadata": {},
   "source": [
    "**In 2016:**"
   ]
  },
  {
   "cell_type": "code",
   "execution_count": 45,
   "metadata": {},
   "outputs": [
    {
     "data": {
      "text/html": [
       "<div>\n",
       "<style scoped>\n",
       "    .dataframe tbody tr th:only-of-type {\n",
       "        vertical-align: middle;\n",
       "    }\n",
       "\n",
       "    .dataframe tbody tr th {\n",
       "        vertical-align: top;\n",
       "    }\n",
       "\n",
       "    .dataframe thead th {\n",
       "        text-align: right;\n",
       "    }\n",
       "</style>\n",
       "<table border=\"1\" class=\"dataframe\">\n",
       "  <thead>\n",
       "    <tr style=\"text-align: right;\">\n",
       "      <th></th>\n",
       "      <th>Date</th>\n",
       "      <th>Max Temp (°C)</th>\n",
       "      <th>Min Temp (°C)</th>\n",
       "      <th>Mean Temp (°C)</th>\n",
       "      <th>Total Rain (mm)</th>\n",
       "      <th>Total Snow (cm)</th>\n",
       "      <th>Total Precip (mm)</th>\n",
       "      <th>Snow on Grnd (cm)</th>\n",
       "      <th>Number of Collisions</th>\n",
       "      <th>Year</th>\n",
       "      <th>Month</th>\n",
       "      <th>Day in month</th>\n",
       "    </tr>\n",
       "  </thead>\n",
       "  <tbody>\n",
       "    <tr>\n",
       "      <th>777</th>\n",
       "      <td>2016-02-17</td>\n",
       "      <td>0.1</td>\n",
       "      <td>-11.2</td>\n",
       "      <td>-5.6</td>\n",
       "      <td>0.0</td>\n",
       "      <td>0.4</td>\n",
       "      <td>0.4</td>\n",
       "      <td>40</td>\n",
       "      <td>152</td>\n",
       "      <td>2016</td>\n",
       "      <td>2</td>\n",
       "      <td>17</td>\n",
       "    </tr>\n",
       "  </tbody>\n",
       "</table>\n",
       "</div>"
      ],
      "text/plain": [
       "          Date  Max Temp (°C)  Min Temp (°C)  Mean Temp (°C)  Total Rain (mm)  \\\n",
       "777 2016-02-17            0.1          -11.2            -5.6              0.0   \n",
       "\n",
       "     Total Snow (cm)  Total Precip (mm)  Snow on Grnd (cm)  \\\n",
       "777              0.4                0.4                 40   \n",
       "\n",
       "     Number of Collisions  Year  Month  Day in month  \n",
       "777                   152  2016      2            17  "
      ]
     },
     "execution_count": 45,
     "metadata": {},
     "output_type": "execute_result"
    }
   ],
   "source": [
    "maxColl2016 = wt1417[wt1417[\"Year\"]==2016].sort_values([\"Number of Collisions\"], ascending=[0])\n",
    "maxColl2016.iloc[[0]]"
   ]
  },
  {
   "cell_type": "markdown",
   "metadata": {},
   "source": [
    "**In 2017:**"
   ]
  },
  {
   "cell_type": "code",
   "execution_count": 46,
   "metadata": {},
   "outputs": [
    {
     "data": {
      "text/html": [
       "<div>\n",
       "<style scoped>\n",
       "    .dataframe tbody tr th:only-of-type {\n",
       "        vertical-align: middle;\n",
       "    }\n",
       "\n",
       "    .dataframe tbody tr th {\n",
       "        vertical-align: top;\n",
       "    }\n",
       "\n",
       "    .dataframe thead th {\n",
       "        text-align: right;\n",
       "    }\n",
       "</style>\n",
       "<table border=\"1\" class=\"dataframe\">\n",
       "  <thead>\n",
       "    <tr style=\"text-align: right;\">\n",
       "      <th></th>\n",
       "      <th>Date</th>\n",
       "      <th>Max Temp (°C)</th>\n",
       "      <th>Min Temp (°C)</th>\n",
       "      <th>Mean Temp (°C)</th>\n",
       "      <th>Total Rain (mm)</th>\n",
       "      <th>Total Snow (cm)</th>\n",
       "      <th>Total Precip (mm)</th>\n",
       "      <th>Snow on Grnd (cm)</th>\n",
       "      <th>Number of Collisions</th>\n",
       "      <th>Year</th>\n",
       "      <th>Month</th>\n",
       "      <th>Day in month</th>\n",
       "    </tr>\n",
       "  </thead>\n",
       "  <tbody>\n",
       "    <tr>\n",
       "      <th>1178</th>\n",
       "      <td>2017-03-24</td>\n",
       "      <td>1.0</td>\n",
       "      <td>-4.0</td>\n",
       "      <td>-1.5</td>\n",
       "      <td>6.0</td>\n",
       "      <td>7.0</td>\n",
       "      <td>12.6</td>\n",
       "      <td>17</td>\n",
       "      <td>134</td>\n",
       "      <td>2017</td>\n",
       "      <td>3</td>\n",
       "      <td>24</td>\n",
       "    </tr>\n",
       "  </tbody>\n",
       "</table>\n",
       "</div>"
      ],
      "text/plain": [
       "           Date  Max Temp (°C)  Min Temp (°C)  Mean Temp (°C)  \\\n",
       "1178 2017-03-24            1.0           -4.0            -1.5   \n",
       "\n",
       "      Total Rain (mm)  Total Snow (cm)  Total Precip (mm)  Snow on Grnd (cm)  \\\n",
       "1178              6.0              7.0               12.6                 17   \n",
       "\n",
       "      Number of Collisions  Year  Month  Day in month  \n",
       "1178                   134  2017      3            24  "
      ]
     },
     "execution_count": 46,
     "metadata": {},
     "output_type": "execute_result"
    }
   ],
   "source": [
    "maxColl2017 = wt1417[wt1417[\"Year\"]==2017].sort_values([\"Number of Collisions\"], ascending=[0])\n",
    "maxColl2017.iloc[[0]]"
   ]
  },
  {
   "cell_type": "markdown",
   "metadata": {},
   "source": [
    "**Brief Conclusion:**\n",
    "* The day in a year with the largest number of collisions are in winter or close to winter. \n",
    "* low temperature, and with snow\n",
    "\n",
    "**Hypothesis:**\n",
    "* It still supports the hypothesis about weather: low temperature and snowy weather leads to collisions"
   ]
  },
  {
   "cell_type": "markdown",
   "metadata": {},
   "source": [
    "### 2.5 The location of collisions in Ottawa (on the date with the largest number of collisions)"
   ]
  },
  {
   "cell_type": "code",
   "execution_count": 103,
   "metadata": {},
   "outputs": [
    {
     "data": {
      "text/html": [
       "<div style=\"width:100%;\"><div style=\"position:relative;width:100%;height:0;padding-bottom:60%;\"><iframe src=\"data:text/html;charset=utf-8;base64,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\" style=\"position:absolute;width:100%;height:100%;left:0;top:0;border:none !important;\" allowfullscreen webkitallowfullscreen mozallowfullscreen></iframe></div></div>"
      ],
      "text/plain": [
       "<folium.folium.Map at 0x83270d0>"
      ]
     },
     "execution_count": 103,
     "metadata": {},
     "output_type": "execute_result"
    }
   ],
   "source": [
    "dayOf2014 = pd.to_datetime('2014/01/03', format = '%Y/%m/%d')\n",
    "dayOf2015 = pd.to_datetime('2015/02/02', format = '%Y/%m/%d')\n",
    "dayOf2016 = pd.to_datetime('2016/02/17', format = '%Y/%m/%d')\n",
    "dayOf2017 = pd.to_datetime('2015/03/24', format = '%Y/%m/%d')\n",
    "\n",
    "df_dayOf2014 = df_csv1417[df_csv1417[\"Date\"] == dayOf2014]\n",
    "lat_lons2014 = [[row['latitude'], row['longitude']] for index, row in df_dayOf2014.iterrows()]\n",
    "lat2014 = [lat for [lat, lon] in lat_lons]\n",
    "lon2014 = [lon for [lat, lon] in lat_lons]\n",
    "\n",
    "center2014 = [((np.min(lat2014) + np.max(lat2014))/2), ((np.min(lon2014) + np.max(lon2014))/2)]\n",
    "\n",
    "in2014 = folium.Map(location=center2014,\n",
    "                    zoom_start=10,\n",
    "                    tiles='OpenStreetMap'\n",
    "                   )\n",
    "\n",
    "plugin = folium.plugins.MarkerCluster(locations = lat_lons2014)\n",
    "plugin.add_to(in2014)\n",
    "\n",
    "in2014"
   ]
  },
  {
   "cell_type": "code",
   "execution_count": 104,
   "metadata": {},
   "outputs": [
    {
     "data": {
      "text/html": [
       "<div style=\"width:100%;\"><div style=\"position:relative;width:100%;height:0;padding-bottom:60%;\"><iframe src=\"data:text/html;charset=utf-8;base64,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\" style=\"position:absolute;width:100%;height:100%;left:0;top:0;border:none !important;\" allowfullscreen webkitallowfullscreen mozallowfullscreen></iframe></div></div>"
      ],
      "text/plain": [
       "<folium.folium.Map at 0x77a01d0>"
      ]
     },
     "execution_count": 104,
     "metadata": {},
     "output_type": "execute_result"
    }
   ],
   "source": [
    "df_dayOf2015 = df_csv1417[df_csv1417[\"Date\"] == dayOf2015]\n",
    "lat_lons2015 = [[row['latitude'], row['longitude']] for index, row in df_dayOf2015.iterrows()]\n",
    "lat2015 = [lat for [lat, lon] in lat_lons]\n",
    "lon2015 = [lon for [lat, lon] in lat_lons]\n",
    "\n",
    "center2015 = [((np.min(lat2015) + np.max(lat2015))/2), ((np.min(lon2015) + np.max(lon2015))/2)]\n",
    "\n",
    "in2015 = folium.Map(location=center2015,\n",
    "                    zoom_start=10,\n",
    "                    tiles='OpenStreetMap'\n",
    "                   )\n",
    "\n",
    "plugin = folium.plugins.MarkerCluster(locations = lat_lons2015)\n",
    "plugin.add_to(in2015)\n",
    "\n",
    "in2015"
   ]
  },
  {
   "cell_type": "code",
   "execution_count": 108,
   "metadata": {},
   "outputs": [
    {
     "data": {
      "text/html": [
       "<div style=\"width:100%;\"><div style=\"position:relative;width:100%;height:0;padding-bottom:60%;\"><iframe src=\"data:text/html;charset=utf-8;base64,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\" style=\"position:absolute;width:100%;height:100%;left:0;top:0;border:none !important;\" allowfullscreen webkitallowfullscreen mozallowfullscreen></iframe></div></div>"
      ],
      "text/plain": [
       "<folium.folium.Map at 0x8685e50>"
      ]
     },
     "execution_count": 108,
     "metadata": {},
     "output_type": "execute_result"
    }
   ],
   "source": [
    "df_dayOf2016 = df_csv1417[df_csv1417[\"Date\"] == dayOf2016]\n",
    "lat_lons2016 = [[row['latitude'], row['longitude']] for index, row in df_dayOf2016.iterrows()]\n",
    "lat2016 = [lat for [lat, lon] in lat_lons]\n",
    "lon2016 = [lon for [lat, lon] in lat_lons]\n",
    "\n",
    "center2016 = [((np.min(lat2016) + np.max(lat2016))/2), ((np.min(lon2016) + np.max(lon2016))/2)]\n",
    "\n",
    "in2016 = folium.Map(location=center2016,\n",
    "                    zoom_start=10,\n",
    "                    tiles='OpenStreetMap'\n",
    "                   )\n",
    "\n",
    "plugin = folium.plugins.MarkerCluster(locations = lat_lons2016)\n",
    "plugin.add_to(in2016)\n",
    "\n",
    "in2016"
   ]
  },
  {
   "cell_type": "code",
   "execution_count": 109,
   "metadata": {},
   "outputs": [
    {
     "data": {
      "text/html": [
       "<div style=\"width:100%;\"><div style=\"position:relative;width:100%;height:0;padding-bottom:60%;\"><iframe src=\"data:text/html;charset=utf-8;base64,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\" style=\"position:absolute;width:100%;height:100%;left:0;top:0;border:none !important;\" allowfullscreen webkitallowfullscreen mozallowfullscreen></iframe></div></div>"
      ],
      "text/plain": [
       "<folium.folium.Map at 0x864f190>"
      ]
     },
     "execution_count": 109,
     "metadata": {},
     "output_type": "execute_result"
    }
   ],
   "source": [
    "df_dayOf2017 = df_csv1417[df_csv1417[\"Date\"] == dayOf2016]\n",
    "lat_lons2017 = [[row['latitude'], row['longitude']] for index, row in df_dayOf2017.iterrows()]\n",
    "lat2017 = [lat for [lat, lon] in lat_lons]\n",
    "lon2017 = [lon for [lat, lon] in lat_lons]\n",
    "\n",
    "center2017 = [((np.min(lat2017) + np.max(lat2017))/2), ((np.min(lon2017) + np.max(lon2017))/2)]\n",
    "\n",
    "in2017 = folium.Map(location=center2017,\n",
    "                    zoom_start=10,\n",
    "                    tiles='OpenStreetMap'\n",
    "                   )\n",
    "\n",
    "plugin = folium.plugins.MarkerCluster(locations = lat_lons2017)\n",
    "plugin.add_to(in2017)\n",
    "\n",
    "in2017"
   ]
  }
 ],
 "metadata": {
  "kernelspec": {
   "display_name": "Python 2",
   "language": "python",
   "name": "python2"
  },
  "language_info": {
   "codemirror_mode": {
    "name": "ipython",
    "version": 2
   },
   "file_extension": ".py",
   "mimetype": "text/x-python",
   "name": "python",
   "nbconvert_exporter": "python",
   "pygments_lexer": "ipython2",
   "version": "2.7.5"
  }
 },
 "nbformat": 4,
 "nbformat_minor": 2
}
