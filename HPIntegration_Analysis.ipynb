{
 "cells": [
  {
   "cell_type": "code",
   "execution_count": 61,
   "metadata": {},
   "outputs": [
    {
     "data": {
      "text/html": [
       "<script>requirejs.config({paths: { 'plotly': ['https://cdn.plot.ly/plotly-latest.min']},});if(!window.Plotly) {{require(['plotly'],function(plotly) {window.Plotly=plotly;});}}</script>"
      ],
      "text/vnd.plotly.v1+html": [
       "<script>requirejs.config({paths: { 'plotly': ['https://cdn.plot.ly/plotly-latest.min']},});if(!window.Plotly) {{require(['plotly'],function(plotly) {window.Plotly=plotly;});}}</script>"
      ]
     },
     "metadata": {},
     "output_type": "display_data"
    }
   ],
   "source": [
    "import sys\n",
    "import warnings\n",
    "if not sys.warnoptions:\n",
    "    warnings.simplefilter(\"ignore\")\n",
    "\n",
    "%matplotlib  inline               \n",
    "import pandas as pd\n",
    "import numpy as np\n",
    "\n",
    "import plotly.graph_objs as go\n",
    "from plotly.offline import download_plotlyjs, init_notebook_mode, plot, iplot\n",
    "init_notebook_mode(connected=True)\n",
    "\n",
    "import folium\n",
    "import folium.plugins \n",
    "\n",
    "#pd.set_option('html', False)  \n",
    "# unknown error, skip this step\n",
    "pd.set_option('max_columns', 30)\n",
    "pd.set_option('max_rows', 20)"
   ]
  },
  {
   "cell_type": "markdown",
   "metadata": {},
   "source": [
    "## 1. Based on organzied csv files, get a table about all vehicle collisions from 2014 to 2017"
   ]
  },
  {
   "cell_type": "markdown",
   "metadata": {},
   "source": [
    "### 1.1 combine vehicle collisions csv files from 2014 to 2017 (in the order of time)"
   ]
  },
  {
   "cell_type": "code",
   "execution_count": 2,
   "metadata": {},
   "outputs": [
    {
     "data": {
      "text/html": [
       "<div>\n",
       "<style scoped>\n",
       "    .dataframe tbody tr th:only-of-type {\n",
       "        vertical-align: middle;\n",
       "    }\n",
       "\n",
       "    .dataframe tbody tr th {\n",
       "        vertical-align: top;\n",
       "    }\n",
       "\n",
       "    .dataframe thead th {\n",
       "        text-align: right;\n",
       "    }\n",
       "</style>\n",
       "<table border=\"1\" class=\"dataframe\">\n",
       "  <thead>\n",
       "    <tr style=\"text-align: right;\">\n",
       "      <th></th>\n",
       "      <th>Record</th>\n",
       "      <th>Location</th>\n",
       "      <th>Date</th>\n",
       "      <th>Time</th>\n",
       "      <th>Environment</th>\n",
       "      <th>Road_Surface</th>\n",
       "      <th>Traffic_Control</th>\n",
       "      <th>Collision_Location</th>\n",
       "      <th>Light</th>\n",
       "      <th>Collision_Classification</th>\n",
       "      <th>Impact_type</th>\n",
       "      <th>longitude</th>\n",
       "      <th>latitude</th>\n",
       "      <th>Year</th>\n",
       "      <th>Month</th>\n",
       "      <th>Day_Of_Week</th>\n",
       "    </tr>\n",
       "  </thead>\n",
       "  <tbody>\n",
       "    <tr>\n",
       "      <th>0</th>\n",
       "      <td>2014000001</td>\n",
       "      <td>RIDEAU ST @ WALLER ST</td>\n",
       "      <td>2014-02-21</td>\n",
       "      <td>06:07:00</td>\n",
       "      <td>02 - Rain</td>\n",
       "      <td>02 - Wet</td>\n",
       "      <td>01 - Traffic signal</td>\n",
       "      <td>03 - At intersection</td>\n",
       "      <td>07 - Dark</td>\n",
       "      <td>01 - Fatal injury</td>\n",
       "      <td>07 - SMV other</td>\n",
       "      <td>-75.688726</td>\n",
       "      <td>45.427533</td>\n",
       "      <td>2014</td>\n",
       "      <td>2</td>\n",
       "      <td>T5_Fri</td>\n",
       "    </tr>\n",
       "    <tr>\n",
       "      <th>1</th>\n",
       "      <td>2014000002</td>\n",
       "      <td>HINES RD btwn INNOVATION DR &amp; SOLANDT RD</td>\n",
       "      <td>2014-08-02</td>\n",
       "      <td>13:55:00</td>\n",
       "      <td>01 - Clear</td>\n",
       "      <td>01 - Dry</td>\n",
       "      <td>10 - No control</td>\n",
       "      <td>04 - At/near private drive</td>\n",
       "      <td>01 - Daylight</td>\n",
       "      <td>01 - Fatal injury</td>\n",
       "      <td>02 - Angle</td>\n",
       "      <td>-75.921033</td>\n",
       "      <td>45.343152</td>\n",
       "      <td>2014</td>\n",
       "      <td>8</td>\n",
       "      <td>T6_Sat</td>\n",
       "    </tr>\n",
       "    <tr>\n",
       "      <th>2</th>\n",
       "      <td>2014000003</td>\n",
       "      <td>LOGGERS WAY btwn KINGDON MINE RD &amp; GALETTA SID...</td>\n",
       "      <td>2014-06-20</td>\n",
       "      <td>23:15:00</td>\n",
       "      <td>01 - Clear</td>\n",
       "      <td>01 - Dry</td>\n",
       "      <td>10 - No control</td>\n",
       "      <td>01 - Non intersection</td>\n",
       "      <td>07 - Dark</td>\n",
       "      <td>01 - Fatal injury</td>\n",
       "      <td>07 - SMV other</td>\n",
       "      <td>-76.247045</td>\n",
       "      <td>45.438627</td>\n",
       "      <td>2014</td>\n",
       "      <td>6</td>\n",
       "      <td>T5_Fri</td>\n",
       "    </tr>\n",
       "    <tr>\n",
       "      <th>3</th>\n",
       "      <td>2014000004</td>\n",
       "      <td>MONTREAL RD @ BATHGATE DR/BURMA RD</td>\n",
       "      <td>2014-07-29</td>\n",
       "      <td>16:31:00</td>\n",
       "      <td>01 - Clear</td>\n",
       "      <td>01 - Dry</td>\n",
       "      <td>01 - Traffic signal</td>\n",
       "      <td>03 - At intersection</td>\n",
       "      <td>01 - Daylight</td>\n",
       "      <td>01 - Fatal injury</td>\n",
       "      <td>05 - Turning movement</td>\n",
       "      <td>-75.625271</td>\n",
       "      <td>45.447248</td>\n",
       "      <td>2014</td>\n",
       "      <td>7</td>\n",
       "      <td>T2_Tue</td>\n",
       "    </tr>\n",
       "    <tr>\n",
       "      <th>4</th>\n",
       "      <td>2014000005</td>\n",
       "      <td>RICHMOND RD btwn FALLOWFIELD RD &amp; RUSHMORE RD</td>\n",
       "      <td>2014-08-05</td>\n",
       "      <td>20:05:00</td>\n",
       "      <td>01 - Clear</td>\n",
       "      <td>01 - Dry</td>\n",
       "      <td>10 - No control</td>\n",
       "      <td>01 - Non intersection</td>\n",
       "      <td>05 - Dusk</td>\n",
       "      <td>01 - Fatal injury</td>\n",
       "      <td>07 - SMV other</td>\n",
       "      <td>-75.820252</td>\n",
       "      <td>45.251073</td>\n",
       "      <td>2014</td>\n",
       "      <td>8</td>\n",
       "      <td>T2_Tue</td>\n",
       "    </tr>\n",
       "    <tr>\n",
       "      <th>5</th>\n",
       "      <td>2014000006</td>\n",
       "      <td>PARKDALE AVE btwn RUSKIN ST &amp; INGLEWOOD PL</td>\n",
       "      <td>2014-04-19</td>\n",
       "      <td>10:22:00</td>\n",
       "      <td>01 - Clear</td>\n",
       "      <td>01 - Dry</td>\n",
       "      <td>10 - No control</td>\n",
       "      <td>01 - Non intersection</td>\n",
       "      <td>01 - Daylight</td>\n",
       "      <td>01 - Fatal injury</td>\n",
       "      <td>06 - SMV unattended vehicle</td>\n",
       "      <td>-75.724021</td>\n",
       "      <td>45.392357</td>\n",
       "      <td>2014</td>\n",
       "      <td>4</td>\n",
       "      <td>T6_Sat</td>\n",
       "    </tr>\n",
       "    <tr>\n",
       "      <th>6</th>\n",
       "      <td>2014000007</td>\n",
       "      <td>CARLING AVE/STATION RD @ MARCH RD</td>\n",
       "      <td>2014-07-27</td>\n",
       "      <td>13:10:00</td>\n",
       "      <td>01 - Clear</td>\n",
       "      <td>01 - Dry</td>\n",
       "      <td>01 - Traffic signal</td>\n",
       "      <td>02 - Intersection related</td>\n",
       "      <td>01 - Daylight</td>\n",
       "      <td>01 - Fatal injury</td>\n",
       "      <td>99 - Other</td>\n",
       "      <td>-75.911687</td>\n",
       "      <td>45.338652</td>\n",
       "      <td>2014</td>\n",
       "      <td>7</td>\n",
       "      <td>T7_Sun</td>\n",
       "    </tr>\n",
       "    <tr>\n",
       "      <th>7</th>\n",
       "      <td>2014000008</td>\n",
       "      <td>CATHERINE ST @ KENT ST</td>\n",
       "      <td>2014-08-12</td>\n",
       "      <td>22:18:00</td>\n",
       "      <td>02 - Rain</td>\n",
       "      <td>02 - Wet</td>\n",
       "      <td>01 - Traffic signal</td>\n",
       "      <td>03 - At intersection</td>\n",
       "      <td>07 - Dark</td>\n",
       "      <td>01 - Fatal injury</td>\n",
       "      <td>07 - SMV other</td>\n",
       "      <td>-75.693767</td>\n",
       "      <td>45.408797</td>\n",
       "      <td>2014</td>\n",
       "      <td>8</td>\n",
       "      <td>T2_Tue</td>\n",
       "    </tr>\n",
       "    <tr>\n",
       "      <th>8</th>\n",
       "      <td>2014000009</td>\n",
       "      <td>DOYLE RD @ RIVER RD</td>\n",
       "      <td>2014-09-06</td>\n",
       "      <td>10:58:00</td>\n",
       "      <td>02 - Rain</td>\n",
       "      <td>02 - Wet</td>\n",
       "      <td>02 - Stop sign</td>\n",
       "      <td>02 - Intersection related</td>\n",
       "      <td>01 - Daylight</td>\n",
       "      <td>01 - Fatal injury</td>\n",
       "      <td>04 - Sideswipe</td>\n",
       "      <td>-75.622802</td>\n",
       "      <td>45.171309</td>\n",
       "      <td>2014</td>\n",
       "      <td>9</td>\n",
       "      <td>T6_Sat</td>\n",
       "    </tr>\n",
       "    <tr>\n",
       "      <th>9</th>\n",
       "      <td>2014000010</td>\n",
       "      <td>KATIMAVIK RD btwn PEARY WAY &amp; CHIMO DR</td>\n",
       "      <td>2014-04-22</td>\n",
       "      <td>16:17:00</td>\n",
       "      <td>01 - Clear</td>\n",
       "      <td>01 - Dry</td>\n",
       "      <td>10 - No control</td>\n",
       "      <td>01 - Non intersection</td>\n",
       "      <td>01 - Daylight</td>\n",
       "      <td>01 - Fatal injury</td>\n",
       "      <td>07 - SMV other</td>\n",
       "      <td>-75.886024</td>\n",
       "      <td>45.314923</td>\n",
       "      <td>2014</td>\n",
       "      <td>4</td>\n",
       "      <td>T2_Tue</td>\n",
       "    </tr>\n",
       "    <tr>\n",
       "      <th>...</th>\n",
       "      <td>...</td>\n",
       "      <td>...</td>\n",
       "      <td>...</td>\n",
       "      <td>...</td>\n",
       "      <td>...</td>\n",
       "      <td>...</td>\n",
       "      <td>...</td>\n",
       "      <td>...</td>\n",
       "      <td>...</td>\n",
       "      <td>...</td>\n",
       "      <td>...</td>\n",
       "      <td>...</td>\n",
       "      <td>...</td>\n",
       "      <td>...</td>\n",
       "      <td>...</td>\n",
       "      <td>...</td>\n",
       "    </tr>\n",
       "    <tr>\n",
       "      <th>58328</th>\n",
       "      <td>2017014385</td>\n",
       "      <td>YORK ST EB btwn TO BE DETERMINED &amp; CUMBERLAND ST</td>\n",
       "      <td>2017-03-15</td>\n",
       "      <td>10:29:00</td>\n",
       "      <td>03 - Snow</td>\n",
       "      <td>03 - Loose snow</td>\n",
       "      <td>10 - No control</td>\n",
       "      <td>04 - At/near private drive</td>\n",
       "      <td>01 - Daylight</td>\n",
       "      <td>03 - P.D. only</td>\n",
       "      <td>06 - SMV unattended vehicle</td>\n",
       "      <td>-75.689540</td>\n",
       "      <td>45.429505</td>\n",
       "      <td>2017</td>\n",
       "      <td>3</td>\n",
       "      <td>T3_Wed</td>\n",
       "    </tr>\n",
       "    <tr>\n",
       "      <th>58329</th>\n",
       "      <td>2017014386</td>\n",
       "      <td>YORK ST WB btwn BYWARD MARKE SQ &amp; SUSSEX DR</td>\n",
       "      <td>2017-06-25</td>\n",
       "      <td>02:04:00</td>\n",
       "      <td>01 - Clear</td>\n",
       "      <td>01 - Dry</td>\n",
       "      <td>10 - No control</td>\n",
       "      <td>01 - Non intersection</td>\n",
       "      <td>07 - Dark</td>\n",
       "      <td>02 - Non-fatal injury</td>\n",
       "      <td>07 - SMV other</td>\n",
       "      <td>-75.694544</td>\n",
       "      <td>45.427604</td>\n",
       "      <td>2017</td>\n",
       "      <td>6</td>\n",
       "      <td>T7_Sun</td>\n",
       "    </tr>\n",
       "    <tr>\n",
       "      <th>58330</th>\n",
       "      <td>2017014387</td>\n",
       "      <td>YORK ST WB btwn BYWARD MARKE SQ &amp; SUSSEX DR</td>\n",
       "      <td>2017-07-17</td>\n",
       "      <td>02:32:00</td>\n",
       "      <td>01 - Clear</td>\n",
       "      <td>01 - Dry</td>\n",
       "      <td>10 - No control</td>\n",
       "      <td>01 - Non intersection</td>\n",
       "      <td>07 - Dark</td>\n",
       "      <td>03 - P.D. only</td>\n",
       "      <td>07 - SMV other</td>\n",
       "      <td>-75.694788</td>\n",
       "      <td>45.427531</td>\n",
       "      <td>2017</td>\n",
       "      <td>7</td>\n",
       "      <td>T1_Mon</td>\n",
       "    </tr>\n",
       "    <tr>\n",
       "      <th>58331</th>\n",
       "      <td>2017014388</td>\n",
       "      <td>YORK ST WB btwn BYWARD MARKE SQ &amp; SUSSEX DR</td>\n",
       "      <td>2017-11-17</td>\n",
       "      <td>02:33:00</td>\n",
       "      <td>01 - Clear</td>\n",
       "      <td>01 - Dry</td>\n",
       "      <td>10 - No control</td>\n",
       "      <td>04 - At/near private drive</td>\n",
       "      <td>07 - Dark</td>\n",
       "      <td>02 - Non-fatal injury</td>\n",
       "      <td>07 - SMV other</td>\n",
       "      <td>-75.693855</td>\n",
       "      <td>45.427908</td>\n",
       "      <td>2017</td>\n",
       "      <td>11</td>\n",
       "      <td>T5_Fri</td>\n",
       "    </tr>\n",
       "    <tr>\n",
       "      <th>58332</th>\n",
       "      <td>2017014389</td>\n",
       "      <td>YORK ST WB btwn BYWARD MARKE SQ &amp; SUSSEX DR</td>\n",
       "      <td>2017-02-03</td>\n",
       "      <td>20:47:00</td>\n",
       "      <td>01 - Clear</td>\n",
       "      <td>01 - Dry</td>\n",
       "      <td>10 - No control</td>\n",
       "      <td>01 - Non intersection</td>\n",
       "      <td>07 - Dark</td>\n",
       "      <td>03 - P.D. only</td>\n",
       "      <td>02 - Angle</td>\n",
       "      <td>-75.693840</td>\n",
       "      <td>45.427903</td>\n",
       "      <td>2017</td>\n",
       "      <td>2</td>\n",
       "      <td>T5_Fri</td>\n",
       "    </tr>\n",
       "    <tr>\n",
       "      <th>58333</th>\n",
       "      <td>2017014390</td>\n",
       "      <td>YORK ST WB btwn BYWARD MARKE SQ &amp; SUSSEX DR</td>\n",
       "      <td>2017-03-25</td>\n",
       "      <td>13:11:00</td>\n",
       "      <td>01 - Clear</td>\n",
       "      <td>02 - Wet</td>\n",
       "      <td>10 - No control</td>\n",
       "      <td>04 - At/near private drive</td>\n",
       "      <td>01 - Daylight</td>\n",
       "      <td>03 - P.D. only</td>\n",
       "      <td>05 - Turning movement</td>\n",
       "      <td>-75.694409</td>\n",
       "      <td>45.427689</td>\n",
       "      <td>2017</td>\n",
       "      <td>3</td>\n",
       "      <td>T6_Sat</td>\n",
       "    </tr>\n",
       "    <tr>\n",
       "      <th>58334</th>\n",
       "      <td>2017014391</td>\n",
       "      <td>YORK ST WB btwn TO BE DETERMINED &amp; CUMBERLAND ST</td>\n",
       "      <td>2017-07-25</td>\n",
       "      <td>08:40:00</td>\n",
       "      <td>02 - Rain</td>\n",
       "      <td>02 - Wet</td>\n",
       "      <td>10 - No control</td>\n",
       "      <td>01 - Non intersection</td>\n",
       "      <td>01 - Daylight</td>\n",
       "      <td>03 - P.D. only</td>\n",
       "      <td>02 - Angle</td>\n",
       "      <td>-75.689545</td>\n",
       "      <td>45.429707</td>\n",
       "      <td>2017</td>\n",
       "      <td>7</td>\n",
       "      <td>T2_Tue</td>\n",
       "    </tr>\n",
       "    <tr>\n",
       "      <th>58335</th>\n",
       "      <td>2017014392</td>\n",
       "      <td>YORK ST WB btwn TO BE DETERMINED &amp; CUMBERLAND ST</td>\n",
       "      <td>2017-01-23</td>\n",
       "      <td>20:30:00</td>\n",
       "      <td>01 - Clear</td>\n",
       "      <td>01 - Dry</td>\n",
       "      <td>10 - No control</td>\n",
       "      <td>01 - Non intersection</td>\n",
       "      <td>07 - Dark</td>\n",
       "      <td>03 - P.D. only</td>\n",
       "      <td>06 - SMV unattended vehicle</td>\n",
       "      <td>-75.689421</td>\n",
       "      <td>45.429755</td>\n",
       "      <td>2017</td>\n",
       "      <td>1</td>\n",
       "      <td>T1_Mon</td>\n",
       "    </tr>\n",
       "    <tr>\n",
       "      <th>58336</th>\n",
       "      <td>2017014393</td>\n",
       "      <td>YORKS CORNERS RD btwn PANA RD &amp; VICTORIA ST</td>\n",
       "      <td>2017-07-18</td>\n",
       "      <td>18:03:00</td>\n",
       "      <td>01 - Clear</td>\n",
       "      <td>01 - Dry</td>\n",
       "      <td>10 - No control</td>\n",
       "      <td>01 - Non intersection</td>\n",
       "      <td>01 - Daylight</td>\n",
       "      <td>03 - P.D. only</td>\n",
       "      <td>07 - SMV other</td>\n",
       "      <td>-75.431838</td>\n",
       "      <td>45.258973</td>\n",
       "      <td>2017</td>\n",
       "      <td>7</td>\n",
       "      <td>T2_Tue</td>\n",
       "    </tr>\n",
       "    <tr>\n",
       "      <th>58337</th>\n",
       "      <td>2017014394</td>\n",
       "      <td>YORKS CORNERS RD btwn PARKWAY RD &amp; COOPER HILL RD</td>\n",
       "      <td>2017-03-23</td>\n",
       "      <td>16:21:00</td>\n",
       "      <td>01 - Clear</td>\n",
       "      <td>01 - Dry</td>\n",
       "      <td>10 - No control</td>\n",
       "      <td>01 - Non intersection</td>\n",
       "      <td>01 - Daylight</td>\n",
       "      <td>02 - Non-fatal injury</td>\n",
       "      <td>07 - SMV other</td>\n",
       "      <td>-75.453559</td>\n",
       "      <td>45.299801</td>\n",
       "      <td>2017</td>\n",
       "      <td>3</td>\n",
       "      <td>T4_Thu</td>\n",
       "    </tr>\n",
       "  </tbody>\n",
       "</table>\n",
       "<p>58338 rows × 16 columns</p>\n",
       "</div>"
      ],
      "text/plain": [
       "           Record                                           Location  \\\n",
       "0      2014000001                              RIDEAU ST @ WALLER ST   \n",
       "1      2014000002           HINES RD btwn INNOVATION DR & SOLANDT RD   \n",
       "2      2014000003  LOGGERS WAY btwn KINGDON MINE RD & GALETTA SID...   \n",
       "3      2014000004                 MONTREAL RD @ BATHGATE DR/BURMA RD   \n",
       "4      2014000005      RICHMOND RD btwn FALLOWFIELD RD & RUSHMORE RD   \n",
       "5      2014000006         PARKDALE AVE btwn RUSKIN ST & INGLEWOOD PL   \n",
       "6      2014000007                  CARLING AVE/STATION RD @ MARCH RD   \n",
       "7      2014000008                             CATHERINE ST @ KENT ST   \n",
       "8      2014000009                                DOYLE RD @ RIVER RD   \n",
       "9      2014000010             KATIMAVIK RD btwn PEARY WAY & CHIMO DR   \n",
       "...           ...                                                ...   \n",
       "58328  2017014385   YORK ST EB btwn TO BE DETERMINED & CUMBERLAND ST   \n",
       "58329  2017014386        YORK ST WB btwn BYWARD MARKE SQ & SUSSEX DR   \n",
       "58330  2017014387        YORK ST WB btwn BYWARD MARKE SQ & SUSSEX DR   \n",
       "58331  2017014388        YORK ST WB btwn BYWARD MARKE SQ & SUSSEX DR   \n",
       "58332  2017014389        YORK ST WB btwn BYWARD MARKE SQ & SUSSEX DR   \n",
       "58333  2017014390        YORK ST WB btwn BYWARD MARKE SQ & SUSSEX DR   \n",
       "58334  2017014391   YORK ST WB btwn TO BE DETERMINED & CUMBERLAND ST   \n",
       "58335  2017014392   YORK ST WB btwn TO BE DETERMINED & CUMBERLAND ST   \n",
       "58336  2017014393        YORKS CORNERS RD btwn PANA RD & VICTORIA ST   \n",
       "58337  2017014394  YORKS CORNERS RD btwn PARKWAY RD & COOPER HILL RD   \n",
       "\n",
       "            Date      Time Environment     Road_Surface      Traffic_Control  \\\n",
       "0     2014-02-21  06:07:00   02 - Rain         02 - Wet  01 - Traffic signal   \n",
       "1     2014-08-02  13:55:00  01 - Clear         01 - Dry      10 - No control   \n",
       "2     2014-06-20  23:15:00  01 - Clear         01 - Dry      10 - No control   \n",
       "3     2014-07-29  16:31:00  01 - Clear         01 - Dry  01 - Traffic signal   \n",
       "4     2014-08-05  20:05:00  01 - Clear         01 - Dry      10 - No control   \n",
       "5     2014-04-19  10:22:00  01 - Clear         01 - Dry      10 - No control   \n",
       "6     2014-07-27  13:10:00  01 - Clear         01 - Dry  01 - Traffic signal   \n",
       "7     2014-08-12  22:18:00   02 - Rain         02 - Wet  01 - Traffic signal   \n",
       "8     2014-09-06  10:58:00   02 - Rain         02 - Wet       02 - Stop sign   \n",
       "9     2014-04-22  16:17:00  01 - Clear         01 - Dry      10 - No control   \n",
       "...          ...       ...         ...              ...                  ...   \n",
       "58328 2017-03-15  10:29:00   03 - Snow  03 - Loose snow      10 - No control   \n",
       "58329 2017-06-25  02:04:00  01 - Clear         01 - Dry      10 - No control   \n",
       "58330 2017-07-17  02:32:00  01 - Clear         01 - Dry      10 - No control   \n",
       "58331 2017-11-17  02:33:00  01 - Clear         01 - Dry      10 - No control   \n",
       "58332 2017-02-03  20:47:00  01 - Clear         01 - Dry      10 - No control   \n",
       "58333 2017-03-25  13:11:00  01 - Clear         02 - Wet      10 - No control   \n",
       "58334 2017-07-25  08:40:00   02 - Rain         02 - Wet      10 - No control   \n",
       "58335 2017-01-23  20:30:00  01 - Clear         01 - Dry      10 - No control   \n",
       "58336 2017-07-18  18:03:00  01 - Clear         01 - Dry      10 - No control   \n",
       "58337 2017-03-23  16:21:00  01 - Clear         01 - Dry      10 - No control   \n",
       "\n",
       "               Collision_Location          Light Collision_Classification  \\\n",
       "0            03 - At intersection      07 - Dark        01 - Fatal injury   \n",
       "1      04 - At/near private drive  01 - Daylight        01 - Fatal injury   \n",
       "2           01 - Non intersection      07 - Dark        01 - Fatal injury   \n",
       "3            03 - At intersection  01 - Daylight        01 - Fatal injury   \n",
       "4           01 - Non intersection      05 - Dusk        01 - Fatal injury   \n",
       "5           01 - Non intersection  01 - Daylight        01 - Fatal injury   \n",
       "6       02 - Intersection related  01 - Daylight        01 - Fatal injury   \n",
       "7            03 - At intersection      07 - Dark        01 - Fatal injury   \n",
       "8       02 - Intersection related  01 - Daylight        01 - Fatal injury   \n",
       "9           01 - Non intersection  01 - Daylight        01 - Fatal injury   \n",
       "...                           ...            ...                      ...   \n",
       "58328  04 - At/near private drive  01 - Daylight           03 - P.D. only   \n",
       "58329       01 - Non intersection      07 - Dark    02 - Non-fatal injury   \n",
       "58330       01 - Non intersection      07 - Dark           03 - P.D. only   \n",
       "58331  04 - At/near private drive      07 - Dark    02 - Non-fatal injury   \n",
       "58332       01 - Non intersection      07 - Dark           03 - P.D. only   \n",
       "58333  04 - At/near private drive  01 - Daylight           03 - P.D. only   \n",
       "58334       01 - Non intersection  01 - Daylight           03 - P.D. only   \n",
       "58335       01 - Non intersection      07 - Dark           03 - P.D. only   \n",
       "58336       01 - Non intersection  01 - Daylight           03 - P.D. only   \n",
       "58337       01 - Non intersection  01 - Daylight    02 - Non-fatal injury   \n",
       "\n",
       "                       Impact_type  longitude   latitude  Year  Month  \\\n",
       "0                   07 - SMV other -75.688726  45.427533  2014      2   \n",
       "1                       02 - Angle -75.921033  45.343152  2014      8   \n",
       "2                   07 - SMV other -76.247045  45.438627  2014      6   \n",
       "3            05 - Turning movement -75.625271  45.447248  2014      7   \n",
       "4                   07 - SMV other -75.820252  45.251073  2014      8   \n",
       "5      06 - SMV unattended vehicle -75.724021  45.392357  2014      4   \n",
       "6                       99 - Other -75.911687  45.338652  2014      7   \n",
       "7                   07 - SMV other -75.693767  45.408797  2014      8   \n",
       "8                   04 - Sideswipe -75.622802  45.171309  2014      9   \n",
       "9                   07 - SMV other -75.886024  45.314923  2014      4   \n",
       "...                            ...        ...        ...   ...    ...   \n",
       "58328  06 - SMV unattended vehicle -75.689540  45.429505  2017      3   \n",
       "58329               07 - SMV other -75.694544  45.427604  2017      6   \n",
       "58330               07 - SMV other -75.694788  45.427531  2017      7   \n",
       "58331               07 - SMV other -75.693855  45.427908  2017     11   \n",
       "58332                   02 - Angle -75.693840  45.427903  2017      2   \n",
       "58333        05 - Turning movement -75.694409  45.427689  2017      3   \n",
       "58334                   02 - Angle -75.689545  45.429707  2017      7   \n",
       "58335  06 - SMV unattended vehicle -75.689421  45.429755  2017      1   \n",
       "58336               07 - SMV other -75.431838  45.258973  2017      7   \n",
       "58337               07 - SMV other -75.453559  45.299801  2017      3   \n",
       "\n",
       "      Day_Of_Week  \n",
       "0          T5_Fri  \n",
       "1          T6_Sat  \n",
       "2          T5_Fri  \n",
       "3          T2_Tue  \n",
       "4          T2_Tue  \n",
       "5          T6_Sat  \n",
       "6          T7_Sun  \n",
       "7          T2_Tue  \n",
       "8          T6_Sat  \n",
       "9          T2_Tue  \n",
       "...           ...  \n",
       "58328      T3_Wed  \n",
       "58329      T7_Sun  \n",
       "58330      T1_Mon  \n",
       "58331      T5_Fri  \n",
       "58332      T5_Fri  \n",
       "58333      T6_Sat  \n",
       "58334      T2_Tue  \n",
       "58335      T1_Mon  \n",
       "58336      T2_Tue  \n",
       "58337      T4_Thu  \n",
       "\n",
       "[58338 rows x 16 columns]"
      ]
     },
     "execution_count": 2,
     "metadata": {},
     "output_type": "execute_result"
    }
   ],
   "source": [
    "df_csv1417 = pd.DataFrame()\n",
    "\n",
    "for y in range(2014, 2018):\n",
    "    fname = \"collision%d.csv\" % (y)\n",
    "    tmp_df = pd.read_csv(fname)\n",
    "    tmp_df[\"Year\"] = y\n",
    "    df_csv1417 = df_csv1417.append(tmp_df, sort = False)\n",
    "\n",
    "df_csv1417.index = range(df_csv1417.shape[0])\n",
    "df_csv1417[\"Date\"] = pd.to_datetime(df_csv1417[\"Date\"])\n",
    "\n",
    "df_csv1417[\"Month\"] = df_csv1417[\"Date\"].apply(lambda x: x.month)\n",
    "\n",
    "def DayOfWeek(date):\n",
    "    dw = date.weekday()\n",
    "    rst = {\n",
    "        0: 'T1_Mon',\n",
    "        1: 'T2_Tue',\n",
    "        2: 'T3_Wed',\n",
    "        3: 'T4_Thu',\n",
    "        4: 'T5_Fri',\n",
    "        5: 'T6_Sat',\n",
    "        6: 'T7_Sun'\n",
    "    }[dw]\n",
    "    return rst\n",
    "\n",
    "df_csv1417[\"Day_Of_Week\"] = df_csv1417[\"Date\"].apply(lambda x: DayOfWeek(x))\n",
    "\n",
    "df_csv1417[\"Environment\"] = df_csv1417[\"Environment\"].astype(\"category\")\n",
    "df_csv1417[\"Road_Surface\"] = df_csv1417[\"Road_Surface\"].astype(\"category\")\n",
    "df_csv1417[\"Traffic_Control\"] = df_csv1417[\"Traffic_Control\"].astype(\"category\")\n",
    "df_csv1417[\"Collision_Location\"] = df_csv1417[\"Collision_Location\"].astype(\"category\")\n",
    "df_csv1417[\"Light\"] = df_csv1417[\"Light\"].astype(\"category\")\n",
    "df_csv1417[\"Collision_Classification\"] = df_csv1417[\"Collision_Classification\"].astype(\"category\")\n",
    "df_csv1417[\"Impact_type\"] = df_csv1417[\"Impact_type\"].astype(\"category\")\n",
    "\n",
    "df_csv1417"
   ]
  },
  {
   "cell_type": "markdown",
   "metadata": {},
   "source": [
    "### 1.2 append collision table with daily weather"
   ]
  },
  {
   "cell_type": "code",
   "execution_count": 3,
   "metadata": {},
   "outputs": [
    {
     "data": {
      "text/html": [
       "<div>\n",
       "<style scoped>\n",
       "    .dataframe tbody tr th:only-of-type {\n",
       "        vertical-align: middle;\n",
       "    }\n",
       "\n",
       "    .dataframe tbody tr th {\n",
       "        vertical-align: top;\n",
       "    }\n",
       "\n",
       "    .dataframe thead th {\n",
       "        text-align: right;\n",
       "    }\n",
       "</style>\n",
       "<table border=\"1\" class=\"dataframe\">\n",
       "  <thead>\n",
       "    <tr style=\"text-align: right;\">\n",
       "      <th></th>\n",
       "      <th>Date</th>\n",
       "      <th>Max Temp (°C)</th>\n",
       "      <th>Min Temp (°C)</th>\n",
       "      <th>Mean Temp (°C)</th>\n",
       "      <th>Total Rain (mm)</th>\n",
       "      <th>Total Snow (cm)</th>\n",
       "      <th>Total Precip (mm)</th>\n",
       "      <th>Snow on Grnd (cm)</th>\n",
       "      <th>Number of Collisions</th>\n",
       "      <th>Year</th>\n",
       "      <th>Month</th>\n",
       "      <th>Day in month</th>\n",
       "    </tr>\n",
       "  </thead>\n",
       "  <tbody>\n",
       "    <tr>\n",
       "      <th>0</th>\n",
       "      <td>2014-01-01</td>\n",
       "      <td>-19.2</td>\n",
       "      <td>-23.0</td>\n",
       "      <td>-21.1</td>\n",
       "      <td>0.0</td>\n",
       "      <td>0.0</td>\n",
       "      <td>0.0</td>\n",
       "      <td>30</td>\n",
       "      <td>31</td>\n",
       "      <td>2014</td>\n",
       "      <td>1</td>\n",
       "      <td>1</td>\n",
       "    </tr>\n",
       "    <tr>\n",
       "      <th>1</th>\n",
       "      <td>2014-01-02</td>\n",
       "      <td>-20.8</td>\n",
       "      <td>-27.1</td>\n",
       "      <td>-24.0</td>\n",
       "      <td>0.0</td>\n",
       "      <td>0.0</td>\n",
       "      <td>0.0</td>\n",
       "      <td>29</td>\n",
       "      <td>74</td>\n",
       "      <td>2014</td>\n",
       "      <td>1</td>\n",
       "      <td>2</td>\n",
       "    </tr>\n",
       "    <tr>\n",
       "      <th>2</th>\n",
       "      <td>2014-01-03</td>\n",
       "      <td>-21.0</td>\n",
       "      <td>-28.1</td>\n",
       "      <td>-24.6</td>\n",
       "      <td>0.0</td>\n",
       "      <td>0.3</td>\n",
       "      <td>0.0</td>\n",
       "      <td>29</td>\n",
       "      <td>151</td>\n",
       "      <td>2014</td>\n",
       "      <td>1</td>\n",
       "      <td>3</td>\n",
       "    </tr>\n",
       "    <tr>\n",
       "      <th>3</th>\n",
       "      <td>2014-01-04</td>\n",
       "      <td>-8.5</td>\n",
       "      <td>-27.5</td>\n",
       "      <td>-18.0</td>\n",
       "      <td>0.0</td>\n",
       "      <td>7.5</td>\n",
       "      <td>2.6</td>\n",
       "      <td>29</td>\n",
       "      <td>51</td>\n",
       "      <td>2014</td>\n",
       "      <td>1</td>\n",
       "      <td>4</td>\n",
       "    </tr>\n",
       "    <tr>\n",
       "      <th>4</th>\n",
       "      <td>2014-01-05</td>\n",
       "      <td>5.8</td>\n",
       "      <td>-12.0</td>\n",
       "      <td>-3.1</td>\n",
       "      <td>13.2</td>\n",
       "      <td>5.5</td>\n",
       "      <td>18.6</td>\n",
       "      <td>36</td>\n",
       "      <td>52</td>\n",
       "      <td>2014</td>\n",
       "      <td>1</td>\n",
       "      <td>5</td>\n",
       "    </tr>\n",
       "    <tr>\n",
       "      <th>5</th>\n",
       "      <td>2014-01-06</td>\n",
       "      <td>5.8</td>\n",
       "      <td>-8.2</td>\n",
       "      <td>-1.2</td>\n",
       "      <td>0.0</td>\n",
       "      <td>0.0</td>\n",
       "      <td>0.0</td>\n",
       "      <td>31</td>\n",
       "      <td>36</td>\n",
       "      <td>2014</td>\n",
       "      <td>1</td>\n",
       "      <td>6</td>\n",
       "    </tr>\n",
       "    <tr>\n",
       "      <th>6</th>\n",
       "      <td>2014-01-07</td>\n",
       "      <td>-14.0</td>\n",
       "      <td>-17.9</td>\n",
       "      <td>-16.0</td>\n",
       "      <td>0.0</td>\n",
       "      <td>0.0</td>\n",
       "      <td>0.0</td>\n",
       "      <td>29</td>\n",
       "      <td>69</td>\n",
       "      <td>2014</td>\n",
       "      <td>1</td>\n",
       "      <td>7</td>\n",
       "    </tr>\n",
       "    <tr>\n",
       "      <th>7</th>\n",
       "      <td>2014-01-08</td>\n",
       "      <td>-9.5</td>\n",
       "      <td>-16.4</td>\n",
       "      <td>-13.0</td>\n",
       "      <td>0.0</td>\n",
       "      <td>0.0</td>\n",
       "      <td>0.0</td>\n",
       "      <td>29</td>\n",
       "      <td>71</td>\n",
       "      <td>2014</td>\n",
       "      <td>1</td>\n",
       "      <td>8</td>\n",
       "    </tr>\n",
       "    <tr>\n",
       "      <th>8</th>\n",
       "      <td>2014-01-09</td>\n",
       "      <td>-7.6</td>\n",
       "      <td>-14.7</td>\n",
       "      <td>-11.2</td>\n",
       "      <td>0.0</td>\n",
       "      <td>0.5</td>\n",
       "      <td>0.2</td>\n",
       "      <td>29</td>\n",
       "      <td>74</td>\n",
       "      <td>2014</td>\n",
       "      <td>1</td>\n",
       "      <td>9</td>\n",
       "    </tr>\n",
       "    <tr>\n",
       "      <th>9</th>\n",
       "      <td>2014-01-10</td>\n",
       "      <td>-1.5</td>\n",
       "      <td>-15.1</td>\n",
       "      <td>-8.3</td>\n",
       "      <td>0.0</td>\n",
       "      <td>0.0</td>\n",
       "      <td>0.0</td>\n",
       "      <td>29</td>\n",
       "      <td>36</td>\n",
       "      <td>2014</td>\n",
       "      <td>1</td>\n",
       "      <td>10</td>\n",
       "    </tr>\n",
       "    <tr>\n",
       "      <th>...</th>\n",
       "      <td>...</td>\n",
       "      <td>...</td>\n",
       "      <td>...</td>\n",
       "      <td>...</td>\n",
       "      <td>...</td>\n",
       "      <td>...</td>\n",
       "      <td>...</td>\n",
       "      <td>...</td>\n",
       "      <td>...</td>\n",
       "      <td>...</td>\n",
       "      <td>...</td>\n",
       "      <td>...</td>\n",
       "    </tr>\n",
       "    <tr>\n",
       "      <th>1451</th>\n",
       "      <td>2017-12-22</td>\n",
       "      <td>-8.5</td>\n",
       "      <td>-16.0</td>\n",
       "      <td>-12.3</td>\n",
       "      <td>0.0</td>\n",
       "      <td>0.0</td>\n",
       "      <td>0.0</td>\n",
       "      <td>14</td>\n",
       "      <td>57</td>\n",
       "      <td>2017</td>\n",
       "      <td>12</td>\n",
       "      <td>22</td>\n",
       "    </tr>\n",
       "    <tr>\n",
       "      <th>1452</th>\n",
       "      <td>2017-12-23</td>\n",
       "      <td>-6.5</td>\n",
       "      <td>-12.5</td>\n",
       "      <td>-9.5</td>\n",
       "      <td>0.0</td>\n",
       "      <td>4.0</td>\n",
       "      <td>3.8</td>\n",
       "      <td>13</td>\n",
       "      <td>75</td>\n",
       "      <td>2017</td>\n",
       "      <td>12</td>\n",
       "      <td>23</td>\n",
       "    </tr>\n",
       "    <tr>\n",
       "      <th>1453</th>\n",
       "      <td>2017-12-24</td>\n",
       "      <td>-6.0</td>\n",
       "      <td>-12.0</td>\n",
       "      <td>-9.0</td>\n",
       "      <td>0.0</td>\n",
       "      <td>4.0</td>\n",
       "      <td>4.0</td>\n",
       "      <td>18</td>\n",
       "      <td>28</td>\n",
       "      <td>2017</td>\n",
       "      <td>12</td>\n",
       "      <td>24</td>\n",
       "    </tr>\n",
       "    <tr>\n",
       "      <th>1454</th>\n",
       "      <td>2017-12-25</td>\n",
       "      <td>-5.5</td>\n",
       "      <td>-9.0</td>\n",
       "      <td>-7.3</td>\n",
       "      <td>0.0</td>\n",
       "      <td>1.0</td>\n",
       "      <td>0.4</td>\n",
       "      <td>22</td>\n",
       "      <td>31</td>\n",
       "      <td>2017</td>\n",
       "      <td>12</td>\n",
       "      <td>25</td>\n",
       "    </tr>\n",
       "    <tr>\n",
       "      <th>1455</th>\n",
       "      <td>2017-12-26</td>\n",
       "      <td>-13.0</td>\n",
       "      <td>-16.0</td>\n",
       "      <td>-14.5</td>\n",
       "      <td>0.0</td>\n",
       "      <td>0.0</td>\n",
       "      <td>0.0</td>\n",
       "      <td>21</td>\n",
       "      <td>44</td>\n",
       "      <td>2017</td>\n",
       "      <td>12</td>\n",
       "      <td>26</td>\n",
       "    </tr>\n",
       "    <tr>\n",
       "      <th>1456</th>\n",
       "      <td>2017-12-27</td>\n",
       "      <td>-20.0</td>\n",
       "      <td>-26.1</td>\n",
       "      <td>-23.1</td>\n",
       "      <td>0.0</td>\n",
       "      <td>0.0</td>\n",
       "      <td>0.0</td>\n",
       "      <td>20</td>\n",
       "      <td>62</td>\n",
       "      <td>2017</td>\n",
       "      <td>12</td>\n",
       "      <td>27</td>\n",
       "    </tr>\n",
       "    <tr>\n",
       "      <th>1457</th>\n",
       "      <td>2017-12-28</td>\n",
       "      <td>-20.3</td>\n",
       "      <td>-27.1</td>\n",
       "      <td>-23.7</td>\n",
       "      <td>0.0</td>\n",
       "      <td>0.0</td>\n",
       "      <td>0.0</td>\n",
       "      <td>20</td>\n",
       "      <td>73</td>\n",
       "      <td>2017</td>\n",
       "      <td>12</td>\n",
       "      <td>28</td>\n",
       "    </tr>\n",
       "    <tr>\n",
       "      <th>1458</th>\n",
       "      <td>2017-12-29</td>\n",
       "      <td>-17.5</td>\n",
       "      <td>-26.2</td>\n",
       "      <td>-21.9</td>\n",
       "      <td>0.0</td>\n",
       "      <td>0.0</td>\n",
       "      <td>0.0</td>\n",
       "      <td>20</td>\n",
       "      <td>63</td>\n",
       "      <td>2017</td>\n",
       "      <td>12</td>\n",
       "      <td>29</td>\n",
       "    </tr>\n",
       "    <tr>\n",
       "      <th>1459</th>\n",
       "      <td>2017-12-30</td>\n",
       "      <td>-16.0</td>\n",
       "      <td>-27.0</td>\n",
       "      <td>-21.5</td>\n",
       "      <td>0.0</td>\n",
       "      <td>1.0</td>\n",
       "      <td>0.4</td>\n",
       "      <td>19</td>\n",
       "      <td>47</td>\n",
       "      <td>2017</td>\n",
       "      <td>12</td>\n",
       "      <td>30</td>\n",
       "    </tr>\n",
       "    <tr>\n",
       "      <th>1460</th>\n",
       "      <td>2017-12-31</td>\n",
       "      <td>-19.5</td>\n",
       "      <td>-24.5</td>\n",
       "      <td>-22.0</td>\n",
       "      <td>0.0</td>\n",
       "      <td>0.0</td>\n",
       "      <td>0.0</td>\n",
       "      <td>20</td>\n",
       "      <td>43</td>\n",
       "      <td>2017</td>\n",
       "      <td>12</td>\n",
       "      <td>31</td>\n",
       "    </tr>\n",
       "  </tbody>\n",
       "</table>\n",
       "<p>1461 rows × 12 columns</p>\n",
       "</div>"
      ],
      "text/plain": [
       "           Date  Max Temp (°C)  Min Temp (°C)  Mean Temp (°C)  \\\n",
       "0    2014-01-01          -19.2          -23.0           -21.1   \n",
       "1    2014-01-02          -20.8          -27.1           -24.0   \n",
       "2    2014-01-03          -21.0          -28.1           -24.6   \n",
       "3    2014-01-04           -8.5          -27.5           -18.0   \n",
       "4    2014-01-05            5.8          -12.0            -3.1   \n",
       "5    2014-01-06            5.8           -8.2            -1.2   \n",
       "6    2014-01-07          -14.0          -17.9           -16.0   \n",
       "7    2014-01-08           -9.5          -16.4           -13.0   \n",
       "8    2014-01-09           -7.6          -14.7           -11.2   \n",
       "9    2014-01-10           -1.5          -15.1            -8.3   \n",
       "...         ...            ...            ...             ...   \n",
       "1451 2017-12-22           -8.5          -16.0           -12.3   \n",
       "1452 2017-12-23           -6.5          -12.5            -9.5   \n",
       "1453 2017-12-24           -6.0          -12.0            -9.0   \n",
       "1454 2017-12-25           -5.5           -9.0            -7.3   \n",
       "1455 2017-12-26          -13.0          -16.0           -14.5   \n",
       "1456 2017-12-27          -20.0          -26.1           -23.1   \n",
       "1457 2017-12-28          -20.3          -27.1           -23.7   \n",
       "1458 2017-12-29          -17.5          -26.2           -21.9   \n",
       "1459 2017-12-30          -16.0          -27.0           -21.5   \n",
       "1460 2017-12-31          -19.5          -24.5           -22.0   \n",
       "\n",
       "      Total Rain (mm)  Total Snow (cm)  Total Precip (mm)  Snow on Grnd (cm)  \\\n",
       "0                 0.0              0.0                0.0                 30   \n",
       "1                 0.0              0.0                0.0                 29   \n",
       "2                 0.0              0.3                0.0                 29   \n",
       "3                 0.0              7.5                2.6                 29   \n",
       "4                13.2              5.5               18.6                 36   \n",
       "5                 0.0              0.0                0.0                 31   \n",
       "6                 0.0              0.0                0.0                 29   \n",
       "7                 0.0              0.0                0.0                 29   \n",
       "8                 0.0              0.5                0.2                 29   \n",
       "9                 0.0              0.0                0.0                 29   \n",
       "...               ...              ...                ...                ...   \n",
       "1451              0.0              0.0                0.0                 14   \n",
       "1452              0.0              4.0                3.8                 13   \n",
       "1453              0.0              4.0                4.0                 18   \n",
       "1454              0.0              1.0                0.4                 22   \n",
       "1455              0.0              0.0                0.0                 21   \n",
       "1456              0.0              0.0                0.0                 20   \n",
       "1457              0.0              0.0                0.0                 20   \n",
       "1458              0.0              0.0                0.0                 20   \n",
       "1459              0.0              1.0                0.4                 19   \n",
       "1460              0.0              0.0                0.0                 20   \n",
       "\n",
       "      Number of Collisions  Year  Month  Day in month  \n",
       "0                       31  2014      1             1  \n",
       "1                       74  2014      1             2  \n",
       "2                      151  2014      1             3  \n",
       "3                       51  2014      1             4  \n",
       "4                       52  2014      1             5  \n",
       "5                       36  2014      1             6  \n",
       "6                       69  2014      1             7  \n",
       "7                       71  2014      1             8  \n",
       "8                       74  2014      1             9  \n",
       "9                       36  2014      1            10  \n",
       "...                    ...   ...    ...           ...  \n",
       "1451                    57  2017     12            22  \n",
       "1452                    75  2017     12            23  \n",
       "1453                    28  2017     12            24  \n",
       "1454                    31  2017     12            25  \n",
       "1455                    44  2017     12            26  \n",
       "1456                    62  2017     12            27  \n",
       "1457                    73  2017     12            28  \n",
       "1458                    63  2017     12            29  \n",
       "1459                    47  2017     12            30  \n",
       "1460                    43  2017     12            31  \n",
       "\n",
       "[1461 rows x 12 columns]"
      ]
     },
     "execution_count": 3,
     "metadata": {},
     "output_type": "execute_result"
    }
   ],
   "source": [
    "wt1417 = pd.read_csv(\"weather1417.csv\")\n",
    "\n",
    "casesByDay = df_csv1417.groupby(['Date']).size().tolist()\n",
    "wt1417[\"Number of Collisions\"] = casesByDay\n",
    "\n",
    "wt1417[\"Date\"] = pd.to_datetime(wt1417[\"Date\"])\n",
    "\n",
    "wt1417[\"Year\"] = wt1417[\"Date\"].apply(lambda x: x.year)\n",
    "wt1417[\"Month\"] = wt1417[\"Date\"].apply(lambda x: x.month)\n",
    "wt1417[\"Day in month\"] = wt1417[\"Date\"].apply(lambda x: x.day)\n",
    "\n",
    "wt1417"
   ]
  },
  {
   "cell_type": "code",
   "execution_count": 50,
   "metadata": {},
   "outputs": [
    {
     "data": {
      "text/plain": [
       "Date\n",
       "2014-01-01     31\n",
       "2014-01-02     74\n",
       "2014-01-03    151\n",
       "2014-01-04     51\n",
       "2014-01-05     52\n",
       "2014-01-06     36\n",
       "2014-01-07     69\n",
       "2014-01-08     71\n",
       "2014-01-09     74\n",
       "2014-01-10     36\n",
       "             ... \n",
       "2017-12-22     57\n",
       "2017-12-23     75\n",
       "2017-12-24     28\n",
       "2017-12-25     31\n",
       "2017-12-26     44\n",
       "2017-12-27     62\n",
       "2017-12-28     73\n",
       "2017-12-29     63\n",
       "2017-12-30     47\n",
       "2017-12-31     43\n",
       "Length: 1461, dtype: int64"
      ]
     },
     "execution_count": 50,
     "metadata": {},
     "output_type": "execute_result"
    }
   ],
   "source": []
  },
  {
   "cell_type": "markdown",
   "metadata": {},
   "source": [
    "### 1.3 mark holdays"
   ]
  },
  {
   "cell_type": "markdown",
   "metadata": {},
   "source": [
    "## 2. Based on the table we get, do "
   ]
  },
  {
   "cell_type": "markdown",
   "metadata": {},
   "source": [
    "### 2.1 Overview"
   ]
  },
  {
   "cell_type": "code",
   "execution_count": 4,
   "metadata": {},
   "outputs": [
    {
     "data": {
      "application/vnd.plotly.v1+json": {
       "data": [
        {
         "name": "Number of vehicle collisions in year",
         "opacity": 0.6,
         "text": [
          "14843",
          "15078",
          "14023",
          "14394"
         ],
         "textposition": "auto",
         "type": "bar",
         "uid": "f3850cb0-a193-11e8-9409-0800275aa47c",
         "x": [
          2014,
          2015,
          2016,
          2017
         ],
         "y": [
          14843,
          15078,
          14023,
          14394
         ]
        },
        {
         "mode": "lines+text+markers",
         "name": "Growth rate of vehicle collisions (compared with the previous year)",
         "text": [
          "",
          "1.58%",
          "-7.00%",
          "2.65%"
         ],
         "textposition": "top center",
         "type": "scatter",
         "uid": "f3851002-a193-11e8-9409-0800275aa47c",
         "x": [
          2014,
          2015,
          2016,
          2017
         ],
         "y": [
          14843,
          15078,
          14023,
          14394
         ]
        }
       ],
       "layout": {
        "title": "Number of vehicle collisions in year",
        "xaxis": {
         "dtick": 1,
         "title": "Year"
        }
       }
      },
      "text/html": [
       "<div id=\"f0dac0fc-3183-4721-99ec-2329f77d3b06\" style=\"height: 525px; width: 100%;\" class=\"plotly-graph-div\"></div><script type=\"text/javascript\">require([\"plotly\"], function(Plotly) { window.PLOTLYENV=window.PLOTLYENV || {};window.PLOTLYENV.BASE_URL=\"https://plot.ly\";Plotly.newPlot(\"f0dac0fc-3183-4721-99ec-2329f77d3b06\", [{\"opacity\": 0.6, \"textposition\": \"auto\", \"name\": \"Number of vehicle collisions in year\", \"text\": [\"14843\", \"15078\", \"14023\", \"14394\"], \"y\": [14843.0, 15078.0, 14023.0, 14394.0], \"x\": [2014, 2015, 2016, 2017], \"type\": \"bar\", \"uid\": \"f3890ba8-a193-11e8-9409-0800275aa47c\"}, {\"textposition\": \"top center\", \"name\": \"Growth rate of vehicle collisions (compared with the previous year)\", \"text\": [\"\", \"1.58%\", \"-7.00%\", \"2.65%\"], \"mode\": \"lines+text+markers\", \"y\": [14843.0, 15078.0, 14023.0, 14394.0], \"x\": [2014, 2015, 2016, 2017], \"type\": \"scatter\", \"uid\": \"f3890e00-a193-11e8-9409-0800275aa47c\"}], {\"xaxis\": {\"dtick\": 1, \"title\": \"Year\"}, \"title\": \"Number of vehicle collisions in year\"}, {\"linkText\": \"Export to plot.ly\", \"showLink\": true})});</script>"
      ],
      "text/vnd.plotly.v1+html": [
       "<div id=\"f0dac0fc-3183-4721-99ec-2329f77d3b06\" style=\"height: 525px; width: 100%;\" class=\"plotly-graph-div\"></div><script type=\"text/javascript\">require([\"plotly\"], function(Plotly) { window.PLOTLYENV=window.PLOTLYENV || {};window.PLOTLYENV.BASE_URL=\"https://plot.ly\";Plotly.newPlot(\"f0dac0fc-3183-4721-99ec-2329f77d3b06\", [{\"opacity\": 0.6, \"textposition\": \"auto\", \"name\": \"Number of vehicle collisions in year\", \"text\": [\"14843\", \"15078\", \"14023\", \"14394\"], \"y\": [14843.0, 15078.0, 14023.0, 14394.0], \"x\": [2014, 2015, 2016, 2017], \"type\": \"bar\", \"uid\": \"f3890ba8-a193-11e8-9409-0800275aa47c\"}, {\"textposition\": \"top center\", \"name\": \"Growth rate of vehicle collisions (compared with the previous year)\", \"text\": [\"\", \"1.58%\", \"-7.00%\", \"2.65%\"], \"mode\": \"lines+text+markers\", \"y\": [14843.0, 15078.0, 14023.0, 14394.0], \"x\": [2014, 2015, 2016, 2017], \"type\": \"scatter\", \"uid\": \"f3890e00-a193-11e8-9409-0800275aa47c\"}], {\"xaxis\": {\"dtick\": 1, \"title\": \"Year\"}, \"title\": \"Number of vehicle collisions in year\"}, {\"linkText\": \"Export to plot.ly\", \"showLink\": true})});</script>"
      ]
     },
     "metadata": {},
     "output_type": "display_data"
    },
    {
     "name": "stdout",
     "output_type": "stream",
     "text": [
      "Total number of cases: 58338\n"
     ]
    }
   ],
   "source": [
    "countOfCollision = df_csv1417.groupby(['Year']).size()\n",
    "growthRate = (countOfCollision.pct_change()*100).apply(lambda x: '' if pd.isna(x) else format(x,'.2f') + '%')\n",
    "barOfYear = go.Bar(x = range(2014,2018), \n",
    "                   y = countOfCollision,\n",
    "                   text = countOfCollision,\n",
    "                   textposition = 'auto',\n",
    "                   opacity=0.6, \n",
    "                   name = 'Number of vehicle collisions in year')\n",
    "scatterOfYear = go.Scatter(x = range(2014,2018), \n",
    "                           y = countOfCollision,\n",
    "                           text = growthRate,\n",
    "                           mode = 'lines+text+markers',\n",
    "                           textposition = 'top center',\n",
    "                           name = 'Growth rate of vehicle collisions (compared with the previous year)')\n",
    "\n",
    "fig = dict(data = [barOfYear,scatterOfYear], \n",
    "           layout = go.Layout(title = 'Number of vehicle collisions in year', xaxis=dict(title='Year', dtick=1)))\n",
    "iplot(fig)\n",
    "\n",
    "print(\"Total number of cases: \" + str(countOfCollision.sum()))"
   ]
  },
  {
   "cell_type": "markdown",
   "metadata": {},
   "source": [
    "**Brief Conclusion:**\n",
    "* From January 1, 2014 to December 31, 2017, there were **58338** vehicle collision cases happened in Ottawa. \n",
    "* The differences of vehicle collision cases during 4 years are small. \n",
    "* There is a relatively big decrease of the number of cases between 2015 and 2016(-7.0%), while the rest of growth rate between years are increase. \n",
    "\n",
    "**Hypothesis:**\n",
    "* There's no relationship between year and vehicle collisions, or to say driving in a specific year does not lead to a vehicle collision. "
   ]
  },
  {
   "cell_type": "markdown",
   "metadata": {},
   "source": [
    "### 2.2 Percentage of single possible causes of accident"
   ]
  },
  {
   "cell_type": "code",
   "execution_count": 5,
   "metadata": {},
   "outputs": [
    {
     "data": {
      "application/vnd.plotly.v1+json": {
       "data": [
        {
         "cells": {
          "align": [
           "left",
           "right",
           "right"
          ],
          "font": {
           "color": [
            "rgb(40, 40, 40)",
            "rgb(40, 40, 40)",
            "rgb(40, 40, 40)",
            "rgb(40, 40, 40)",
            "rgb(40, 40, 40)"
           ],
           "size": 12
          },
          "format": [
           null,
           null,
           ".2f"
          ],
          "suffix": [
           "",
           "",
           "%"
          ],
          "values": [
           [
            "01 - Clear",
            "03 - Snow",
            "02 - Rain",
            "04 - Freezing Rain",
            "05 - Drifting Snow",
            "07 - Fog, mist, smoke, dust",
            "06 - Strong wind",
            "00 - Unknown",
            "99 - Other"
           ],
           [
            45929,
            5664,
            5433,
            672,
            304,
            164,
            86,
            67,
            18
           ],
           [
            78.73047979841267,
            9.709103999177195,
            9.31312888904126,
            1.151927593122718,
            0.5211101016507534,
            0.2811251864168538,
            0.1474193050722526,
            0.11484992371908051,
            0.030855203387215663
           ]
          ]
         },
         "columnwidth": [
          110,
          55,
          55
         ],
         "domain": {
          "x": [
           0,
           0.4
          ],
          "y": [
           0,
           1
          ]
         },
         "header": {
          "values": [
           "<b>Environment</b>",
           "<b># of Cases</b>",
           "<b>Percentage</b>"
          ]
         },
         "type": "table",
         "uid": "f5aaee2e-a193-11e8-9409-0800275aa47c"
        },
        {
         "domain": {
          "x": [
           0.6,
           1
          ],
          "y": [
           0,
           1
          ]
         },
         "hole": 0.4,
         "hoverinfo": "label+percent+name",
         "labels": [
          "01 - Clear",
          "03 - Snow",
          "02 - Rain",
          "04 - Freezing Rain",
          "05 - Drifting Snow",
          "07 - Fog, mist, smoke, dust",
          "06 - Strong wind",
          "00 - Unknown",
          "99 - Other"
         ],
         "name": "Environment",
         "showlegend": true,
         "type": "pie",
         "uid": "f5aaf0cc-a193-11e8-9409-0800275aa47c",
         "values": [
          45929,
          5664,
          5433,
          672,
          304,
          164,
          86,
          67,
          18
         ]
        }
       ],
       "layout": {
        "title": "Environment"
       }
      },
      "text/html": [
       "<div id=\"aacf4046-b4d8-41de-9a82-acdfa550e809\" style=\"height: 525px; width: 100%;\" class=\"plotly-graph-div\"></div><script type=\"text/javascript\">require([\"plotly\"], function(Plotly) { window.PLOTLYENV=window.PLOTLYENV || {};window.PLOTLYENV.BASE_URL=\"https://plot.ly\";Plotly.newPlot(\"aacf4046-b4d8-41de-9a82-acdfa550e809\", [{\"domain\": {\"y\": [0, 1.0], \"x\": [0, 0.4]}, \"uid\": \"f5ade6ba-a193-11e8-9409-0800275aa47c\", \"columnwidth\": [110, 55, 55], \"cells\": {\"align\": [\"left\", \"right\", \"right\"], \"font\": {\"color\": [\"rgb(40, 40, 40)\", \"rgb(40, 40, 40)\", \"rgb(40, 40, 40)\", \"rgb(40, 40, 40)\", \"rgb(40, 40, 40)\"], \"size\": 12}, \"values\": [[\"01 - Clear\", \"03 - Snow\", \"02 - Rain\", \"04 - Freezing Rain\", \"05 - Drifting Snow\", \"07 - Fog, mist, smoke, dust\", \"06 - Strong wind\", \"00 - Unknown\", \"99 - Other\"], [45929, 5664, 5433, 672, 304, 164, 86, 67, 18], [78.73047979841267, 9.709103999177195, 9.31312888904126, 1.151927593122718, 0.5211101016507534, 0.2811251864168538, 0.1474193050722526, 0.11484992371908051, 0.030855203387215663]], \"suffix\": [\"\", \"\", \"%\"], \"format\": [null, null, \".2f\"]}, \"header\": {\"values\": [\"<b>Environment</b>\", \"<b># of Cases</b>\", \"<b>Percentage</b>\"]}, \"type\": \"table\"}, {\"showlegend\": true, \"name\": \"Environment\", \"labels\": [\"01 - Clear\", \"03 - Snow\", \"02 - Rain\", \"04 - Freezing Rain\", \"05 - Drifting Snow\", \"07 - Fog, mist, smoke, dust\", \"06 - Strong wind\", \"00 - Unknown\", \"99 - Other\"], \"domain\": {\"y\": [0, 1.0], \"x\": [0.6, 1.0]}, \"values\": [45929.0, 5664.0, 5433.0, 672.0, 304.0, 164.0, 86.0, 67.0, 18.0], \"hoverinfo\": \"label+percent+name\", \"hole\": 0.4, \"type\": \"pie\", \"uid\": \"f5ade8ea-a193-11e8-9409-0800275aa47c\"}], {\"title\": \"Environment\"}, {\"linkText\": \"Export to plot.ly\", \"showLink\": true})});</script>"
      ],
      "text/vnd.plotly.v1+html": [
       "<div id=\"aacf4046-b4d8-41de-9a82-acdfa550e809\" style=\"height: 525px; width: 100%;\" class=\"plotly-graph-div\"></div><script type=\"text/javascript\">require([\"plotly\"], function(Plotly) { window.PLOTLYENV=window.PLOTLYENV || {};window.PLOTLYENV.BASE_URL=\"https://plot.ly\";Plotly.newPlot(\"aacf4046-b4d8-41de-9a82-acdfa550e809\", [{\"domain\": {\"y\": [0, 1.0], \"x\": [0, 0.4]}, \"uid\": \"f5ade6ba-a193-11e8-9409-0800275aa47c\", \"columnwidth\": [110, 55, 55], \"cells\": {\"align\": [\"left\", \"right\", \"right\"], \"font\": {\"color\": [\"rgb(40, 40, 40)\", \"rgb(40, 40, 40)\", \"rgb(40, 40, 40)\", \"rgb(40, 40, 40)\", \"rgb(40, 40, 40)\"], \"size\": 12}, \"values\": [[\"01 - Clear\", \"03 - Snow\", \"02 - Rain\", \"04 - Freezing Rain\", \"05 - Drifting Snow\", \"07 - Fog, mist, smoke, dust\", \"06 - Strong wind\", \"00 - Unknown\", \"99 - Other\"], [45929, 5664, 5433, 672, 304, 164, 86, 67, 18], [78.73047979841267, 9.709103999177195, 9.31312888904126, 1.151927593122718, 0.5211101016507534, 0.2811251864168538, 0.1474193050722526, 0.11484992371908051, 0.030855203387215663]], \"suffix\": [\"\", \"\", \"%\"], \"format\": [null, null, \".2f\"]}, \"header\": {\"values\": [\"<b>Environment</b>\", \"<b># of Cases</b>\", \"<b>Percentage</b>\"]}, \"type\": \"table\"}, {\"showlegend\": true, \"name\": \"Environment\", \"labels\": [\"01 - Clear\", \"03 - Snow\", \"02 - Rain\", \"04 - Freezing Rain\", \"05 - Drifting Snow\", \"07 - Fog, mist, smoke, dust\", \"06 - Strong wind\", \"00 - Unknown\", \"99 - Other\"], \"domain\": {\"y\": [0, 1.0], \"x\": [0.6, 1.0]}, \"values\": [45929.0, 5664.0, 5433.0, 672.0, 304.0, 164.0, 86.0, 67.0, 18.0], \"hoverinfo\": \"label+percent+name\", \"hole\": 0.4, \"type\": \"pie\", \"uid\": \"f5ade8ea-a193-11e8-9409-0800275aa47c\"}], {\"title\": \"Environment\"}, {\"linkText\": \"Export to plot.ly\", \"showLink\": true})});</script>"
      ]
     },
     "metadata": {},
     "output_type": "display_data"
    },
    {
     "data": {
      "application/vnd.plotly.v1+json": {
       "data": [
        {
         "cells": {
          "align": [
           "left",
           "right",
           "right"
          ],
          "font": {
           "color": [
            "rgb(40, 40, 40)",
            "rgb(40, 40, 40)",
            "rgb(40, 40, 40)",
            "rgb(40, 40, 40)",
            "rgb(40, 40, 40)"
           ],
           "size": 12
          },
          "format": [
           null,
           null,
           ".2f"
          ],
          "suffix": [
           "",
           "",
           "%"
          ],
          "values": [
           [
            "01 - Dry",
            "02 - Wet",
            "03 - Loose snow",
            "06 - Ice",
            "04 - Slush",
            "05 - Packed snow",
            "08 - Loose sand or gravel",
            "00 - Unknown",
            "99 - Other",
            "07 - Mud",
            "09 - Spilled liquid"
           ],
           [
            38362,
            10123,
            3844,
            2650,
            1760,
            1443,
            56,
            50,
            41,
            5,
            4
           ],
           [
            65.75816791799514,
            17.352326099626318,
            6.589187150742227,
            4.542493743357674,
            3.0169015050224552,
            2.4735164044019338,
            0.09599232061435085,
            0.08570742911995612,
            0.07028009187836401,
            0.008570742911995612,
            0.006856594329596489
           ]
          ]
         },
         "columnwidth": [
          110,
          55,
          55
         ],
         "domain": {
          "x": [
           0,
           0.4
          ],
          "y": [
           0,
           1
          ]
         },
         "header": {
          "values": [
           "<b>Road_Surface</b>",
           "<b># of Cases</b>",
           "<b>Percentage</b>"
          ]
         },
         "type": "table",
         "uid": "f5bba4d0-a193-11e8-9409-0800275aa47c"
        },
        {
         "domain": {
          "x": [
           0.6,
           1
          ],
          "y": [
           0,
           1
          ]
         },
         "hole": 0.4,
         "hoverinfo": "label+percent+name",
         "labels": [
          "01 - Dry",
          "02 - Wet",
          "03 - Loose snow",
          "06 - Ice",
          "04 - Slush",
          "05 - Packed snow",
          "08 - Loose sand or gravel",
          "00 - Unknown",
          "99 - Other",
          "07 - Mud",
          "09 - Spilled liquid"
         ],
         "name": "Road_Surface",
         "showlegend": true,
         "type": "pie",
         "uid": "f5bbab06-a193-11e8-9409-0800275aa47c",
         "values": [
          38362,
          10123,
          3844,
          2650,
          1760,
          1443,
          56,
          50,
          41,
          5,
          4
         ]
        }
       ],
       "layout": {
        "title": "Road_Surface"
       }
      },
      "text/html": [
       "<div id=\"7b220396-2c62-478a-99b7-d0febdd2e43e\" style=\"height: 525px; width: 100%;\" class=\"plotly-graph-div\"></div><script type=\"text/javascript\">require([\"plotly\"], function(Plotly) { window.PLOTLYENV=window.PLOTLYENV || {};window.PLOTLYENV.BASE_URL=\"https://plot.ly\";Plotly.newPlot(\"7b220396-2c62-478a-99b7-d0febdd2e43e\", [{\"domain\": {\"y\": [0, 1.0], \"x\": [0, 0.4]}, \"uid\": \"f5c08c98-a193-11e8-9409-0800275aa47c\", \"columnwidth\": [110, 55, 55], \"cells\": {\"align\": [\"left\", \"right\", \"right\"], \"font\": {\"color\": [\"rgb(40, 40, 40)\", \"rgb(40, 40, 40)\", \"rgb(40, 40, 40)\", \"rgb(40, 40, 40)\", \"rgb(40, 40, 40)\"], \"size\": 12}, \"values\": [[\"01 - Dry\", \"02 - Wet\", \"03 - Loose snow\", \"06 - Ice\", \"04 - Slush\", \"05 - Packed snow\", \"08 - Loose sand or gravel\", \"00 - Unknown\", \"99 - Other\", \"07 - Mud\", \"09 - Spilled liquid\"], [38362, 10123, 3844, 2650, 1760, 1443, 56, 50, 41, 5, 4], [65.75816791799514, 17.352326099626318, 6.589187150742227, 4.542493743357674, 3.0169015050224552, 2.4735164044019338, 0.09599232061435085, 0.08570742911995612, 0.07028009187836401, 0.008570742911995612, 0.006856594329596489]], \"suffix\": [\"\", \"\", \"%\"], \"format\": [null, null, \".2f\"]}, \"header\": {\"values\": [\"<b>Road_Surface</b>\", \"<b># of Cases</b>\", \"<b>Percentage</b>\"]}, \"type\": \"table\"}, {\"showlegend\": true, \"name\": \"Road_Surface\", \"labels\": [\"01 - Dry\", \"02 - Wet\", \"03 - Loose snow\", \"06 - Ice\", \"04 - Slush\", \"05 - Packed snow\", \"08 - Loose sand or gravel\", \"00 - Unknown\", \"99 - Other\", \"07 - Mud\", \"09 - Spilled liquid\"], \"domain\": {\"y\": [0, 1.0], \"x\": [0.6, 1.0]}, \"values\": [38362.0, 10123.0, 3844.0, 2650.0, 1760.0, 1443.0, 56.0, 50.0, 41.0, 5.0, 4.0], \"hoverinfo\": \"label+percent+name\", \"hole\": 0.4, \"type\": \"pie\", \"uid\": \"f5c08f4a-a193-11e8-9409-0800275aa47c\"}], {\"title\": \"Road_Surface\"}, {\"linkText\": \"Export to plot.ly\", \"showLink\": true})});</script>"
      ],
      "text/vnd.plotly.v1+html": [
       "<div id=\"7b220396-2c62-478a-99b7-d0febdd2e43e\" style=\"height: 525px; width: 100%;\" class=\"plotly-graph-div\"></div><script type=\"text/javascript\">require([\"plotly\"], function(Plotly) { window.PLOTLYENV=window.PLOTLYENV || {};window.PLOTLYENV.BASE_URL=\"https://plot.ly\";Plotly.newPlot(\"7b220396-2c62-478a-99b7-d0febdd2e43e\", [{\"domain\": {\"y\": [0, 1.0], \"x\": [0, 0.4]}, \"uid\": \"f5c08c98-a193-11e8-9409-0800275aa47c\", \"columnwidth\": [110, 55, 55], \"cells\": {\"align\": [\"left\", \"right\", \"right\"], \"font\": {\"color\": [\"rgb(40, 40, 40)\", \"rgb(40, 40, 40)\", \"rgb(40, 40, 40)\", \"rgb(40, 40, 40)\", \"rgb(40, 40, 40)\"], \"size\": 12}, \"values\": [[\"01 - Dry\", \"02 - Wet\", \"03 - Loose snow\", \"06 - Ice\", \"04 - Slush\", \"05 - Packed snow\", \"08 - Loose sand or gravel\", \"00 - Unknown\", \"99 - Other\", \"07 - Mud\", \"09 - Spilled liquid\"], [38362, 10123, 3844, 2650, 1760, 1443, 56, 50, 41, 5, 4], [65.75816791799514, 17.352326099626318, 6.589187150742227, 4.542493743357674, 3.0169015050224552, 2.4735164044019338, 0.09599232061435085, 0.08570742911995612, 0.07028009187836401, 0.008570742911995612, 0.006856594329596489]], \"suffix\": [\"\", \"\", \"%\"], \"format\": [null, null, \".2f\"]}, \"header\": {\"values\": [\"<b>Road_Surface</b>\", \"<b># of Cases</b>\", \"<b>Percentage</b>\"]}, \"type\": \"table\"}, {\"showlegend\": true, \"name\": \"Road_Surface\", \"labels\": [\"01 - Dry\", \"02 - Wet\", \"03 - Loose snow\", \"06 - Ice\", \"04 - Slush\", \"05 - Packed snow\", \"08 - Loose sand or gravel\", \"00 - Unknown\", \"99 - Other\", \"07 - Mud\", \"09 - Spilled liquid\"], \"domain\": {\"y\": [0, 1.0], \"x\": [0.6, 1.0]}, \"values\": [38362.0, 10123.0, 3844.0, 2650.0, 1760.0, 1443.0, 56.0, 50.0, 41.0, 5.0, 4.0], \"hoverinfo\": \"label+percent+name\", \"hole\": 0.4, \"type\": \"pie\", \"uid\": \"f5c08f4a-a193-11e8-9409-0800275aa47c\"}], {\"title\": \"Road_Surface\"}, {\"linkText\": \"Export to plot.ly\", \"showLink\": true})});</script>"
      ]
     },
     "metadata": {},
     "output_type": "display_data"
    },
    {
     "data": {
      "application/vnd.plotly.v1+json": {
       "data": [
        {
         "cells": {
          "align": [
           "left",
           "right",
           "right"
          ],
          "font": {
           "color": [
            "rgb(40, 40, 40)",
            "rgb(40, 40, 40)",
            "rgb(40, 40, 40)",
            "rgb(40, 40, 40)",
            "rgb(40, 40, 40)"
           ],
           "size": 12
          },
          "format": [
           null,
           null,
           ".2f"
          ],
          "suffix": [
           "",
           "",
           "%"
          ],
          "values": [
           [
            "10 - No control",
            "01 - Traffic signal",
            "02 - Stop sign",
            "11 - Roundabout",
            "03 - Yield sign",
            "08 - Traffic gate",
            "09 - Traffic controller",
            "07 - School bus",
            "04 - Ped. crossover"
           ],
           [
            27966,
            23314,
            6099,
            526,
            370,
            15,
            9,
            2,
            1
           ],
           [
            47.96747967479675,
            39.98833659222668,
            10.461047648451167,
            0.9021988954066756,
            0.6346265994305512,
            0.025728105382319642,
            0.015436863229391787,
            0.003430414050975953,
            0.0017152070254879766
           ]
          ]
         },
         "columnwidth": [
          110,
          55,
          55
         ],
         "domain": {
          "x": [
           0,
           0.4
          ],
          "y": [
           0,
           1
          ]
         },
         "header": {
          "values": [
           "<b>Traffic_Control</b>",
           "<b># of Cases</b>",
           "<b>Percentage</b>"
          ]
         },
         "type": "table",
         "uid": "f5cc8fe8-a193-11e8-9409-0800275aa47c"
        },
        {
         "domain": {
          "x": [
           0.6,
           1
          ],
          "y": [
           0,
           1
          ]
         },
         "hole": 0.4,
         "hoverinfo": "label+percent+name",
         "labels": [
          "10 - No control",
          "01 - Traffic signal",
          "02 - Stop sign",
          "11 - Roundabout",
          "03 - Yield sign",
          "08 - Traffic gate",
          "09 - Traffic controller",
          "07 - School bus",
          "04 - Ped. crossover"
         ],
         "name": "Traffic_Control",
         "showlegend": true,
         "type": "pie",
         "uid": "f5cc927c-a193-11e8-9409-0800275aa47c",
         "values": [
          27966,
          23314,
          6099,
          526,
          370,
          15,
          9,
          2,
          1
         ]
        }
       ],
       "layout": {
        "title": "Traffic_Control"
       }
      },
      "text/html": [
       "<div id=\"fcced9b7-48e0-43d3-a47a-f2c18d84a186\" style=\"height: 525px; width: 100%;\" class=\"plotly-graph-div\"></div><script type=\"text/javascript\">require([\"plotly\"], function(Plotly) { window.PLOTLYENV=window.PLOTLYENV || {};window.PLOTLYENV.BASE_URL=\"https://plot.ly\";Plotly.newPlot(\"fcced9b7-48e0-43d3-a47a-f2c18d84a186\", [{\"domain\": {\"y\": [0, 1.0], \"x\": [0, 0.4]}, \"uid\": \"f5d087ce-a193-11e8-9409-0800275aa47c\", \"columnwidth\": [110, 55, 55], \"cells\": {\"align\": [\"left\", \"right\", \"right\"], \"font\": {\"color\": [\"rgb(40, 40, 40)\", \"rgb(40, 40, 40)\", \"rgb(40, 40, 40)\", \"rgb(40, 40, 40)\", \"rgb(40, 40, 40)\"], \"size\": 12}, \"values\": [[\"10 - No control\", \"01 - Traffic signal\", \"02 - Stop sign\", \"11 - Roundabout\", \"03 - Yield sign\", \"08 - Traffic gate\", \"09 - Traffic controller\", \"07 - School bus\", \"04 - Ped. crossover\"], [27966, 23314, 6099, 526, 370, 15, 9, 2, 1], [47.96747967479675, 39.98833659222668, 10.461047648451167, 0.9021988954066756, 0.6346265994305512, 0.025728105382319642, 0.015436863229391787, 0.003430414050975953, 0.0017152070254879766]], \"suffix\": [\"\", \"\", \"%\"], \"format\": [null, null, \".2f\"]}, \"header\": {\"values\": [\"<b>Traffic_Control</b>\", \"<b># of Cases</b>\", \"<b>Percentage</b>\"]}, \"type\": \"table\"}, {\"showlegend\": true, \"name\": \"Traffic_Control\", \"labels\": [\"10 - No control\", \"01 - Traffic signal\", \"02 - Stop sign\", \"11 - Roundabout\", \"03 - Yield sign\", \"08 - Traffic gate\", \"09 - Traffic controller\", \"07 - School bus\", \"04 - Ped. crossover\"], \"domain\": {\"y\": [0, 1.0], \"x\": [0.6, 1.0]}, \"values\": [27966.0, 23314.0, 6099.0, 526.0, 370.0, 15.0, 9.0, 2.0, 1.0], \"hoverinfo\": \"label+percent+name\", \"hole\": 0.4, \"type\": \"pie\", \"uid\": \"f5d08bc0-a193-11e8-9409-0800275aa47c\"}], {\"title\": \"Traffic_Control\"}, {\"linkText\": \"Export to plot.ly\", \"showLink\": true})});</script>"
      ],
      "text/vnd.plotly.v1+html": [
       "<div id=\"fcced9b7-48e0-43d3-a47a-f2c18d84a186\" style=\"height: 525px; width: 100%;\" class=\"plotly-graph-div\"></div><script type=\"text/javascript\">require([\"plotly\"], function(Plotly) { window.PLOTLYENV=window.PLOTLYENV || {};window.PLOTLYENV.BASE_URL=\"https://plot.ly\";Plotly.newPlot(\"fcced9b7-48e0-43d3-a47a-f2c18d84a186\", [{\"domain\": {\"y\": [0, 1.0], \"x\": [0, 0.4]}, \"uid\": \"f5d087ce-a193-11e8-9409-0800275aa47c\", \"columnwidth\": [110, 55, 55], \"cells\": {\"align\": [\"left\", \"right\", \"right\"], \"font\": {\"color\": [\"rgb(40, 40, 40)\", \"rgb(40, 40, 40)\", \"rgb(40, 40, 40)\", \"rgb(40, 40, 40)\", \"rgb(40, 40, 40)\"], \"size\": 12}, \"values\": [[\"10 - No control\", \"01 - Traffic signal\", \"02 - Stop sign\", \"11 - Roundabout\", \"03 - Yield sign\", \"08 - Traffic gate\", \"09 - Traffic controller\", \"07 - School bus\", \"04 - Ped. crossover\"], [27966, 23314, 6099, 526, 370, 15, 9, 2, 1], [47.96747967479675, 39.98833659222668, 10.461047648451167, 0.9021988954066756, 0.6346265994305512, 0.025728105382319642, 0.015436863229391787, 0.003430414050975953, 0.0017152070254879766]], \"suffix\": [\"\", \"\", \"%\"], \"format\": [null, null, \".2f\"]}, \"header\": {\"values\": [\"<b>Traffic_Control</b>\", \"<b># of Cases</b>\", \"<b>Percentage</b>\"]}, \"type\": \"table\"}, {\"showlegend\": true, \"name\": \"Traffic_Control\", \"labels\": [\"10 - No control\", \"01 - Traffic signal\", \"02 - Stop sign\", \"11 - Roundabout\", \"03 - Yield sign\", \"08 - Traffic gate\", \"09 - Traffic controller\", \"07 - School bus\", \"04 - Ped. crossover\"], \"domain\": {\"y\": [0, 1.0], \"x\": [0.6, 1.0]}, \"values\": [27966.0, 23314.0, 6099.0, 526.0, 370.0, 15.0, 9.0, 2.0, 1.0], \"hoverinfo\": \"label+percent+name\", \"hole\": 0.4, \"type\": \"pie\", \"uid\": \"f5d08bc0-a193-11e8-9409-0800275aa47c\"}], {\"title\": \"Traffic_Control\"}, {\"linkText\": \"Export to plot.ly\", \"showLink\": true})});</script>"
      ]
     },
     "metadata": {},
     "output_type": "display_data"
    },
    {
     "data": {
      "application/vnd.plotly.v1+json": {
       "data": [
        {
         "cells": {
          "align": [
           "left",
           "right",
           "right"
          ],
          "font": {
           "color": [
            "rgb(40, 40, 40)",
            "rgb(40, 40, 40)",
            "rgb(40, 40, 40)",
            "rgb(40, 40, 40)",
            "rgb(40, 40, 40)"
           ],
           "size": 12
          },
          "format": [
           null,
           null,
           ".2f"
          ],
          "suffix": [
           "",
           "",
           "%"
          ],
          "values": [
           [
            "01 - Non intersection",
            "02 - Intersection related",
            "03 - At intersection",
            "04 - At/near private drive",
            "07 - Overpass or bridge",
            "05 - At railway crossing",
            "06 - Underpass or tunnel",
            "98 - Other",
            "99 - Other"
           ],
           [
            22114,
            18280,
            12523,
            5105,
            240,
            37,
            29,
            3,
            1
           ],
           [
            37.91058081327573,
            31.33785915106631,
            21.46849070835905,
            8.751628608653911,
            0.41143797572515944,
            0.06343002125762875,
            0.0497154220667901,
            0.0051429746965644925,
            0.001714324898854831
           ]
          ]
         },
         "columnwidth": [
          110,
          55,
          55
         ],
         "domain": {
          "x": [
           0,
           0.4
          ],
          "y": [
           0,
           1
          ]
         },
         "header": {
          "values": [
           "<b>Collision_Location</b>",
           "<b># of Cases</b>",
           "<b>Percentage</b>"
          ]
         },
         "type": "table",
         "uid": "f5de2d16-a193-11e8-9409-0800275aa47c"
        },
        {
         "domain": {
          "x": [
           0.6,
           1
          ],
          "y": [
           0,
           1
          ]
         },
         "hole": 0.4,
         "hoverinfo": "label+percent+name",
         "labels": [
          "01 - Non intersection",
          "02 - Intersection related",
          "03 - At intersection",
          "04 - At/near private drive",
          "07 - Overpass or bridge",
          "05 - At railway crossing",
          "06 - Underpass or tunnel",
          "98 - Other",
          "99 - Other"
         ],
         "name": "Collision_Location",
         "showlegend": true,
         "type": "pie",
         "uid": "f5de2f96-a193-11e8-9409-0800275aa47c",
         "values": [
          22114,
          18280,
          12523,
          5105,
          240,
          37,
          29,
          3,
          1
         ]
        }
       ],
       "layout": {
        "title": "Collision_Location"
       }
      },
      "text/html": [
       "<div id=\"408915bb-13b9-4219-a801-df1db034b753\" style=\"height: 525px; width: 100%;\" class=\"plotly-graph-div\"></div><script type=\"text/javascript\">require([\"plotly\"], function(Plotly) { window.PLOTLYENV=window.PLOTLYENV || {};window.PLOTLYENV.BASE_URL=\"https://plot.ly\";Plotly.newPlot(\"408915bb-13b9-4219-a801-df1db034b753\", [{\"domain\": {\"y\": [0, 1.0], \"x\": [0, 0.4]}, \"uid\": \"f5e19762-a193-11e8-9409-0800275aa47c\", \"columnwidth\": [110, 55, 55], \"cells\": {\"align\": [\"left\", \"right\", \"right\"], \"font\": {\"color\": [\"rgb(40, 40, 40)\", \"rgb(40, 40, 40)\", \"rgb(40, 40, 40)\", \"rgb(40, 40, 40)\", \"rgb(40, 40, 40)\"], \"size\": 12}, \"values\": [[\"01 - Non intersection\", \"02 - Intersection related\", \"03 - At intersection\", \"04 - At/near private drive\", \"07 - Overpass or bridge\", \"05 - At railway crossing\", \"06 - Underpass or tunnel\", \"98 - Other\", \"99 - Other\"], [22114, 18280, 12523, 5105, 240, 37, 29, 3, 1], [37.91058081327573, 31.33785915106631, 21.46849070835905, 8.751628608653911, 0.41143797572515944, 0.06343002125762875, 0.0497154220667901, 0.0051429746965644925, 0.001714324898854831]], \"suffix\": [\"\", \"\", \"%\"], \"format\": [null, null, \".2f\"]}, \"header\": {\"values\": [\"<b>Collision_Location</b>\", \"<b># of Cases</b>\", \"<b>Percentage</b>\"]}, \"type\": \"table\"}, {\"showlegend\": true, \"name\": \"Collision_Location\", \"labels\": [\"01 - Non intersection\", \"02 - Intersection related\", \"03 - At intersection\", \"04 - At/near private drive\", \"07 - Overpass or bridge\", \"05 - At railway crossing\", \"06 - Underpass or tunnel\", \"98 - Other\", \"99 - Other\"], \"domain\": {\"y\": [0, 1.0], \"x\": [0.6, 1.0]}, \"values\": [22114.0, 18280.0, 12523.0, 5105.0, 240.0, 37.0, 29.0, 3.0, 1.0], \"hoverinfo\": \"label+percent+name\", \"hole\": 0.4, \"type\": \"pie\", \"uid\": \"f5e199ba-a193-11e8-9409-0800275aa47c\"}], {\"title\": \"Collision_Location\"}, {\"linkText\": \"Export to plot.ly\", \"showLink\": true})});</script>"
      ],
      "text/vnd.plotly.v1+html": [
       "<div id=\"408915bb-13b9-4219-a801-df1db034b753\" style=\"height: 525px; width: 100%;\" class=\"plotly-graph-div\"></div><script type=\"text/javascript\">require([\"plotly\"], function(Plotly) { window.PLOTLYENV=window.PLOTLYENV || {};window.PLOTLYENV.BASE_URL=\"https://plot.ly\";Plotly.newPlot(\"408915bb-13b9-4219-a801-df1db034b753\", [{\"domain\": {\"y\": [0, 1.0], \"x\": [0, 0.4]}, \"uid\": \"f5e19762-a193-11e8-9409-0800275aa47c\", \"columnwidth\": [110, 55, 55], \"cells\": {\"align\": [\"left\", \"right\", \"right\"], \"font\": {\"color\": [\"rgb(40, 40, 40)\", \"rgb(40, 40, 40)\", \"rgb(40, 40, 40)\", \"rgb(40, 40, 40)\", \"rgb(40, 40, 40)\"], \"size\": 12}, \"values\": [[\"01 - Non intersection\", \"02 - Intersection related\", \"03 - At intersection\", \"04 - At/near private drive\", \"07 - Overpass or bridge\", \"05 - At railway crossing\", \"06 - Underpass or tunnel\", \"98 - Other\", \"99 - Other\"], [22114, 18280, 12523, 5105, 240, 37, 29, 3, 1], [37.91058081327573, 31.33785915106631, 21.46849070835905, 8.751628608653911, 0.41143797572515944, 0.06343002125762875, 0.0497154220667901, 0.0051429746965644925, 0.001714324898854831]], \"suffix\": [\"\", \"\", \"%\"], \"format\": [null, null, \".2f\"]}, \"header\": {\"values\": [\"<b>Collision_Location</b>\", \"<b># of Cases</b>\", \"<b>Percentage</b>\"]}, \"type\": \"table\"}, {\"showlegend\": true, \"name\": \"Collision_Location\", \"labels\": [\"01 - Non intersection\", \"02 - Intersection related\", \"03 - At intersection\", \"04 - At/near private drive\", \"07 - Overpass or bridge\", \"05 - At railway crossing\", \"06 - Underpass or tunnel\", \"98 - Other\", \"99 - Other\"], \"domain\": {\"y\": [0, 1.0], \"x\": [0.6, 1.0]}, \"values\": [22114.0, 18280.0, 12523.0, 5105.0, 240.0, 37.0, 29.0, 3.0, 1.0], \"hoverinfo\": \"label+percent+name\", \"hole\": 0.4, \"type\": \"pie\", \"uid\": \"f5e199ba-a193-11e8-9409-0800275aa47c\"}], {\"title\": \"Collision_Location\"}, {\"linkText\": \"Export to plot.ly\", \"showLink\": true})});</script>"
      ]
     },
     "metadata": {},
     "output_type": "display_data"
    },
    {
     "data": {
      "application/vnd.plotly.v1+json": {
       "data": [
        {
         "cells": {
          "align": [
           "left",
           "right",
           "right"
          ],
          "font": {
           "color": [
            "rgb(40, 40, 40)",
            "rgb(40, 40, 40)",
            "rgb(40, 40, 40)",
            "rgb(40, 40, 40)",
            "rgb(40, 40, 40)"
           ],
           "size": 12
          },
          "format": [
           null,
           null,
           ".2f"
          ],
          "suffix": [
           "",
           "",
           "%"
          ],
          "values": [
           [
            "01 - Daylight",
            "07 - Dark",
            "05 - Dusk",
            "03 - Dawn",
            "00 - Unknown",
            "08 - Dark, artificial",
            "99 - Other",
            "04 - Dawn, artificial",
            "06 - Dusk, artificial",
            "02 - Daylight, artificial"
           ],
           [
            39879,
            13237,
            2609,
            1354,
            1163,
            73,
            11,
            6,
            3,
            1
           ],
           [
            68.36087493143171,
            22.690962698848054,
            4.4723669775095996,
            2.321036752605595,
            1.9936231486560614,
            0.12513713658804168,
            0.01885628085573231,
            0.010285244103126714,
            0.005142622051563357,
            0.0017142073505211192
           ]
          ]
         },
         "columnwidth": [
          110,
          55,
          55
         ],
         "domain": {
          "x": [
           0,
           0.4
          ],
          "y": [
           0,
           1
          ]
         },
         "header": {
          "values": [
           "<b>Light</b>",
           "<b># of Cases</b>",
           "<b>Percentage</b>"
          ]
         },
         "type": "table",
         "uid": "f5ecd870-a193-11e8-9409-0800275aa47c"
        },
        {
         "domain": {
          "x": [
           0.6,
           1
          ],
          "y": [
           0,
           1
          ]
         },
         "hole": 0.4,
         "hoverinfo": "label+percent+name",
         "labels": [
          "01 - Daylight",
          "07 - Dark",
          "05 - Dusk",
          "03 - Dawn",
          "00 - Unknown",
          "08 - Dark, artificial",
          "99 - Other",
          "04 - Dawn, artificial",
          "06 - Dusk, artificial",
          "02 - Daylight, artificial"
         ],
         "name": "Light",
         "showlegend": true,
         "type": "pie",
         "uid": "f5ecdae6-a193-11e8-9409-0800275aa47c",
         "values": [
          39879,
          13237,
          2609,
          1354,
          1163,
          73,
          11,
          6,
          3,
          1
         ]
        }
       ],
       "layout": {
        "title": "Light"
       }
      },
      "text/html": [
       "<div id=\"7461ff50-c7ef-47d4-a45b-7740a6211bb7\" style=\"height: 525px; width: 100%;\" class=\"plotly-graph-div\"></div><script type=\"text/javascript\">require([\"plotly\"], function(Plotly) { window.PLOTLYENV=window.PLOTLYENV || {};window.PLOTLYENV.BASE_URL=\"https://plot.ly\";Plotly.newPlot(\"7461ff50-c7ef-47d4-a45b-7740a6211bb7\", [{\"domain\": {\"y\": [0, 1.0], \"x\": [0, 0.4]}, \"uid\": \"f5f05e78-a193-11e8-9409-0800275aa47c\", \"columnwidth\": [110, 55, 55], \"cells\": {\"align\": [\"left\", \"right\", \"right\"], \"font\": {\"color\": [\"rgb(40, 40, 40)\", \"rgb(40, 40, 40)\", \"rgb(40, 40, 40)\", \"rgb(40, 40, 40)\", \"rgb(40, 40, 40)\"], \"size\": 12}, \"values\": [[\"01 - Daylight\", \"07 - Dark\", \"05 - Dusk\", \"03 - Dawn\", \"00 - Unknown\", \"08 - Dark, artificial\", \"99 - Other\", \"04 - Dawn, artificial\", \"06 - Dusk, artificial\", \"02 - Daylight, artificial\"], [39879, 13237, 2609, 1354, 1163, 73, 11, 6, 3, 1], [68.36087493143171, 22.690962698848054, 4.4723669775095996, 2.321036752605595, 1.9936231486560614, 0.12513713658804168, 0.01885628085573231, 0.010285244103126714, 0.005142622051563357, 0.0017142073505211192]], \"suffix\": [\"\", \"\", \"%\"], \"format\": [null, null, \".2f\"]}, \"header\": {\"values\": [\"<b>Light</b>\", \"<b># of Cases</b>\", \"<b>Percentage</b>\"]}, \"type\": \"table\"}, {\"showlegend\": true, \"name\": \"Light\", \"labels\": [\"01 - Daylight\", \"07 - Dark\", \"05 - Dusk\", \"03 - Dawn\", \"00 - Unknown\", \"08 - Dark, artificial\", \"99 - Other\", \"04 - Dawn, artificial\", \"06 - Dusk, artificial\", \"02 - Daylight, artificial\"], \"domain\": {\"y\": [0, 1.0], \"x\": [0.6, 1.0]}, \"values\": [39879.0, 13237.0, 2609.0, 1354.0, 1163.0, 73.0, 11.0, 6.0, 3.0, 1.0], \"hoverinfo\": \"label+percent+name\", \"hole\": 0.4, \"type\": \"pie\", \"uid\": \"f5f06238-a193-11e8-9409-0800275aa47c\"}], {\"title\": \"Light\"}, {\"linkText\": \"Export to plot.ly\", \"showLink\": true})});</script>"
      ],
      "text/vnd.plotly.v1+html": [
       "<div id=\"7461ff50-c7ef-47d4-a45b-7740a6211bb7\" style=\"height: 525px; width: 100%;\" class=\"plotly-graph-div\"></div><script type=\"text/javascript\">require([\"plotly\"], function(Plotly) { window.PLOTLYENV=window.PLOTLYENV || {};window.PLOTLYENV.BASE_URL=\"https://plot.ly\";Plotly.newPlot(\"7461ff50-c7ef-47d4-a45b-7740a6211bb7\", [{\"domain\": {\"y\": [0, 1.0], \"x\": [0, 0.4]}, \"uid\": \"f5f05e78-a193-11e8-9409-0800275aa47c\", \"columnwidth\": [110, 55, 55], \"cells\": {\"align\": [\"left\", \"right\", \"right\"], \"font\": {\"color\": [\"rgb(40, 40, 40)\", \"rgb(40, 40, 40)\", \"rgb(40, 40, 40)\", \"rgb(40, 40, 40)\", \"rgb(40, 40, 40)\"], \"size\": 12}, \"values\": [[\"01 - Daylight\", \"07 - Dark\", \"05 - Dusk\", \"03 - Dawn\", \"00 - Unknown\", \"08 - Dark, artificial\", \"99 - Other\", \"04 - Dawn, artificial\", \"06 - Dusk, artificial\", \"02 - Daylight, artificial\"], [39879, 13237, 2609, 1354, 1163, 73, 11, 6, 3, 1], [68.36087493143171, 22.690962698848054, 4.4723669775095996, 2.321036752605595, 1.9936231486560614, 0.12513713658804168, 0.01885628085573231, 0.010285244103126714, 0.005142622051563357, 0.0017142073505211192]], \"suffix\": [\"\", \"\", \"%\"], \"format\": [null, null, \".2f\"]}, \"header\": {\"values\": [\"<b>Light</b>\", \"<b># of Cases</b>\", \"<b>Percentage</b>\"]}, \"type\": \"table\"}, {\"showlegend\": true, \"name\": \"Light\", \"labels\": [\"01 - Daylight\", \"07 - Dark\", \"05 - Dusk\", \"03 - Dawn\", \"00 - Unknown\", \"08 - Dark, artificial\", \"99 - Other\", \"04 - Dawn, artificial\", \"06 - Dusk, artificial\", \"02 - Daylight, artificial\"], \"domain\": {\"y\": [0, 1.0], \"x\": [0.6, 1.0]}, \"values\": [39879.0, 13237.0, 2609.0, 1354.0, 1163.0, 73.0, 11.0, 6.0, 3.0, 1.0], \"hoverinfo\": \"label+percent+name\", \"hole\": 0.4, \"type\": \"pie\", \"uid\": \"f5f06238-a193-11e8-9409-0800275aa47c\"}], {\"title\": \"Light\"}, {\"linkText\": \"Export to plot.ly\", \"showLink\": true})});</script>"
      ]
     },
     "metadata": {},
     "output_type": "display_data"
    },
    {
     "data": {
      "application/vnd.plotly.v1+json": {
       "data": [
        {
         "cells": {
          "align": [
           "left",
           "right",
           "right"
          ],
          "font": {
           "color": [
            "rgb(40, 40, 40)",
            "rgb(40, 40, 40)",
            "rgb(40, 40, 40)",
            "rgb(40, 40, 40)",
            "rgb(40, 40, 40)"
           ],
           "size": 12
          },
          "format": [
           null,
           null,
           ".2f"
          ],
          "suffix": [
           "",
           "",
           "%"
          ],
          "values": [
           [
            "03 - P.D. only",
            "02 - Non-fatal injury",
            "01 - Fatal injury"
           ],
           [
            47248,
            10991,
            99
           ],
           [
            80.99009222119373,
            18.840207069148754,
            0.1697007096575131
           ]
          ]
         },
         "columnwidth": [
          110,
          55,
          55
         ],
         "domain": {
          "x": [
           0,
           0.4
          ],
          "y": [
           0,
           1
          ]
         },
         "header": {
          "values": [
           "<b>Collision_Classification</b>",
           "<b># of Cases</b>",
           "<b>Percentage</b>"
          ]
         },
         "type": "table",
         "uid": "f60d5168-a193-11e8-9409-0800275aa47c"
        },
        {
         "domain": {
          "x": [
           0.6,
           1
          ],
          "y": [
           0,
           1
          ]
         },
         "hole": 0.4,
         "hoverinfo": "label+percent+name",
         "labels": [
          "03 - P.D. only",
          "02 - Non-fatal injury",
          "01 - Fatal injury"
         ],
         "name": "Collision_Classification",
         "showlegend": true,
         "type": "pie",
         "uid": "f60d58de-a193-11e8-9409-0800275aa47c",
         "values": [
          47248,
          10991,
          99
         ]
        }
       ],
       "layout": {
        "title": "Collision_Classification"
       }
      },
      "text/html": [
       "<div id=\"5b6fb7ac-e7b3-4c4a-b09c-083789c90b5c\" style=\"height: 525px; width: 100%;\" class=\"plotly-graph-div\"></div><script type=\"text/javascript\">require([\"plotly\"], function(Plotly) { window.PLOTLYENV=window.PLOTLYENV || {};window.PLOTLYENV.BASE_URL=\"https://plot.ly\";Plotly.newPlot(\"5b6fb7ac-e7b3-4c4a-b09c-083789c90b5c\", [{\"domain\": {\"y\": [0, 1.0], \"x\": [0, 0.4]}, \"uid\": \"f610ba1a-a193-11e8-9409-0800275aa47c\", \"columnwidth\": [110, 55, 55], \"cells\": {\"align\": [\"left\", \"right\", \"right\"], \"font\": {\"color\": [\"rgb(40, 40, 40)\", \"rgb(40, 40, 40)\", \"rgb(40, 40, 40)\", \"rgb(40, 40, 40)\", \"rgb(40, 40, 40)\"], \"size\": 12}, \"values\": [[\"03 - P.D. only\", \"02 - Non-fatal injury\", \"01 - Fatal injury\"], [47248, 10991, 99], [80.99009222119373, 18.840207069148754, 0.1697007096575131]], \"suffix\": [\"\", \"\", \"%\"], \"format\": [null, null, \".2f\"]}, \"header\": {\"values\": [\"<b>Collision_Classification</b>\", \"<b># of Cases</b>\", \"<b>Percentage</b>\"]}, \"type\": \"table\"}, {\"showlegend\": true, \"name\": \"Collision_Classification\", \"labels\": [\"03 - P.D. only\", \"02 - Non-fatal injury\", \"01 - Fatal injury\"], \"domain\": {\"y\": [0, 1.0], \"x\": [0.6, 1.0]}, \"values\": [47248.0, 10991.0, 99.0], \"hoverinfo\": \"label+percent+name\", \"hole\": 0.4, \"type\": \"pie\", \"uid\": \"f610bc72-a193-11e8-9409-0800275aa47c\"}], {\"title\": \"Collision_Classification\"}, {\"linkText\": \"Export to plot.ly\", \"showLink\": true})});</script>"
      ],
      "text/vnd.plotly.v1+html": [
       "<div id=\"5b6fb7ac-e7b3-4c4a-b09c-083789c90b5c\" style=\"height: 525px; width: 100%;\" class=\"plotly-graph-div\"></div><script type=\"text/javascript\">require([\"plotly\"], function(Plotly) { window.PLOTLYENV=window.PLOTLYENV || {};window.PLOTLYENV.BASE_URL=\"https://plot.ly\";Plotly.newPlot(\"5b6fb7ac-e7b3-4c4a-b09c-083789c90b5c\", [{\"domain\": {\"y\": [0, 1.0], \"x\": [0, 0.4]}, \"uid\": \"f610ba1a-a193-11e8-9409-0800275aa47c\", \"columnwidth\": [110, 55, 55], \"cells\": {\"align\": [\"left\", \"right\", \"right\"], \"font\": {\"color\": [\"rgb(40, 40, 40)\", \"rgb(40, 40, 40)\", \"rgb(40, 40, 40)\", \"rgb(40, 40, 40)\", \"rgb(40, 40, 40)\"], \"size\": 12}, \"values\": [[\"03 - P.D. only\", \"02 - Non-fatal injury\", \"01 - Fatal injury\"], [47248, 10991, 99], [80.99009222119373, 18.840207069148754, 0.1697007096575131]], \"suffix\": [\"\", \"\", \"%\"], \"format\": [null, null, \".2f\"]}, \"header\": {\"values\": [\"<b>Collision_Classification</b>\", \"<b># of Cases</b>\", \"<b>Percentage</b>\"]}, \"type\": \"table\"}, {\"showlegend\": true, \"name\": \"Collision_Classification\", \"labels\": [\"03 - P.D. only\", \"02 - Non-fatal injury\", \"01 - Fatal injury\"], \"domain\": {\"y\": [0, 1.0], \"x\": [0.6, 1.0]}, \"values\": [47248.0, 10991.0, 99.0], \"hoverinfo\": \"label+percent+name\", \"hole\": 0.4, \"type\": \"pie\", \"uid\": \"f610bc72-a193-11e8-9409-0800275aa47c\"}], {\"title\": \"Collision_Classification\"}, {\"linkText\": \"Export to plot.ly\", \"showLink\": true})});</script>"
      ]
     },
     "metadata": {},
     "output_type": "display_data"
    },
    {
     "data": {
      "application/vnd.plotly.v1+json": {
       "data": [
        {
         "cells": {
          "align": [
           "left",
           "right",
           "right"
          ],
          "font": {
           "color": [
            "rgb(40, 40, 40)",
            "rgb(40, 40, 40)",
            "rgb(40, 40, 40)",
            "rgb(40, 40, 40)",
            "rgb(40, 40, 40)"
           ],
           "size": 12
          },
          "format": [
           null,
           null,
           ".2f"
          ],
          "suffix": [
           "",
           "",
           "%"
          ],
          "values": [
           [
            "03 - Rear end",
            "07 - SMV other",
            "02 - Angle",
            "04 - Sideswipe",
            "05 - Turning movement",
            "06 - SMV unattended vehicle",
            "99 - Other",
            "01 - Approaching"
           ],
           [
            19735,
            9661,
            7985,
            7691,
            6233,
            4717,
            1456,
            860
           ],
           [
            33.828722273646676,
            16.56038945455792,
            13.687476430456991,
            13.18351674723165,
            10.684288114093729,
            8.08563886317666,
            2.495800335973122,
            1.4741677808632452
           ]
          ]
         },
         "columnwidth": [
          110,
          55,
          55
         ],
         "domain": {
          "x": [
           0,
           0.4
          ],
          "y": [
           0,
           1
          ]
         },
         "header": {
          "values": [
           "<b>Impact_type</b>",
           "<b># of Cases</b>",
           "<b>Percentage</b>"
          ]
         },
         "type": "table",
         "uid": "f61d4c80-a193-11e8-9409-0800275aa47c"
        },
        {
         "domain": {
          "x": [
           0.6,
           1
          ],
          "y": [
           0,
           1
          ]
         },
         "hole": 0.4,
         "hoverinfo": "label+percent+name",
         "labels": [
          "03 - Rear end",
          "07 - SMV other",
          "02 - Angle",
          "04 - Sideswipe",
          "05 - Turning movement",
          "06 - SMV unattended vehicle",
          "99 - Other",
          "01 - Approaching"
         ],
         "name": "Impact_type",
         "showlegend": true,
         "type": "pie",
         "uid": "f61d4f64-a193-11e8-9409-0800275aa47c",
         "values": [
          19735,
          9661,
          7985,
          7691,
          6233,
          4717,
          1456,
          860
         ]
        }
       ],
       "layout": {
        "title": "Impact_type"
       }
      },
      "text/html": [
       "<div id=\"5bf6ca3d-1d73-4358-83e5-d8cdb83824dc\" style=\"height: 525px; width: 100%;\" class=\"plotly-graph-div\"></div><script type=\"text/javascript\">require([\"plotly\"], function(Plotly) { window.PLOTLYENV=window.PLOTLYENV || {};window.PLOTLYENV.BASE_URL=\"https://plot.ly\";Plotly.newPlot(\"5bf6ca3d-1d73-4358-83e5-d8cdb83824dc\", [{\"domain\": {\"y\": [0, 1.0], \"x\": [0, 0.4]}, \"uid\": \"f620eac0-a193-11e8-9409-0800275aa47c\", \"columnwidth\": [110, 55, 55], \"cells\": {\"align\": [\"left\", \"right\", \"right\"], \"font\": {\"color\": [\"rgb(40, 40, 40)\", \"rgb(40, 40, 40)\", \"rgb(40, 40, 40)\", \"rgb(40, 40, 40)\", \"rgb(40, 40, 40)\"], \"size\": 12}, \"values\": [[\"03 - Rear end\", \"07 - SMV other\", \"02 - Angle\", \"04 - Sideswipe\", \"05 - Turning movement\", \"06 - SMV unattended vehicle\", \"99 - Other\", \"01 - Approaching\"], [19735, 9661, 7985, 7691, 6233, 4717, 1456, 860], [33.828722273646676, 16.56038945455792, 13.687476430456991, 13.18351674723165, 10.684288114093729, 8.08563886317666, 2.495800335973122, 1.4741677808632452]], \"suffix\": [\"\", \"\", \"%\"], \"format\": [null, null, \".2f\"]}, \"header\": {\"values\": [\"<b>Impact_type</b>\", \"<b># of Cases</b>\", \"<b>Percentage</b>\"]}, \"type\": \"table\"}, {\"showlegend\": true, \"name\": \"Impact_type\", \"labels\": [\"03 - Rear end\", \"07 - SMV other\", \"02 - Angle\", \"04 - Sideswipe\", \"05 - Turning movement\", \"06 - SMV unattended vehicle\", \"99 - Other\", \"01 - Approaching\"], \"domain\": {\"y\": [0, 1.0], \"x\": [0.6, 1.0]}, \"values\": [19735.0, 9661.0, 7985.0, 7691.0, 6233.0, 4717.0, 1456.0, 860.0], \"hoverinfo\": \"label+percent+name\", \"hole\": 0.4, \"type\": \"pie\", \"uid\": \"f620ee8a-a193-11e8-9409-0800275aa47c\"}], {\"title\": \"Impact_type\"}, {\"linkText\": \"Export to plot.ly\", \"showLink\": true})});</script>"
      ],
      "text/vnd.plotly.v1+html": [
       "<div id=\"5bf6ca3d-1d73-4358-83e5-d8cdb83824dc\" style=\"height: 525px; width: 100%;\" class=\"plotly-graph-div\"></div><script type=\"text/javascript\">require([\"plotly\"], function(Plotly) { window.PLOTLYENV=window.PLOTLYENV || {};window.PLOTLYENV.BASE_URL=\"https://plot.ly\";Plotly.newPlot(\"5bf6ca3d-1d73-4358-83e5-d8cdb83824dc\", [{\"domain\": {\"y\": [0, 1.0], \"x\": [0, 0.4]}, \"uid\": \"f620eac0-a193-11e8-9409-0800275aa47c\", \"columnwidth\": [110, 55, 55], \"cells\": {\"align\": [\"left\", \"right\", \"right\"], \"font\": {\"color\": [\"rgb(40, 40, 40)\", \"rgb(40, 40, 40)\", \"rgb(40, 40, 40)\", \"rgb(40, 40, 40)\", \"rgb(40, 40, 40)\"], \"size\": 12}, \"values\": [[\"03 - Rear end\", \"07 - SMV other\", \"02 - Angle\", \"04 - Sideswipe\", \"05 - Turning movement\", \"06 - SMV unattended vehicle\", \"99 - Other\", \"01 - Approaching\"], [19735, 9661, 7985, 7691, 6233, 4717, 1456, 860], [33.828722273646676, 16.56038945455792, 13.687476430456991, 13.18351674723165, 10.684288114093729, 8.08563886317666, 2.495800335973122, 1.4741677808632452]], \"suffix\": [\"\", \"\", \"%\"], \"format\": [null, null, \".2f\"]}, \"header\": {\"values\": [\"<b>Impact_type</b>\", \"<b># of Cases</b>\", \"<b>Percentage</b>\"]}, \"type\": \"table\"}, {\"showlegend\": true, \"name\": \"Impact_type\", \"labels\": [\"03 - Rear end\", \"07 - SMV other\", \"02 - Angle\", \"04 - Sideswipe\", \"05 - Turning movement\", \"06 - SMV unattended vehicle\", \"99 - Other\", \"01 - Approaching\"], \"domain\": {\"y\": [0, 1.0], \"x\": [0.6, 1.0]}, \"values\": [19735.0, 9661.0, 7985.0, 7691.0, 6233.0, 4717.0, 1456.0, 860.0], \"hoverinfo\": \"label+percent+name\", \"hole\": 0.4, \"type\": \"pie\", \"uid\": \"f620ee8a-a193-11e8-9409-0800275aa47c\"}], {\"title\": \"Impact_type\"}, {\"linkText\": \"Export to plot.ly\", \"showLink\": true})});</script>"
      ]
     },
     "metadata": {},
     "output_type": "display_data"
    },
    {
     "data": {
      "application/vnd.plotly.v1+json": {
       "data": [
        {
         "cells": {
          "align": [
           "left",
           "right",
           "right"
          ],
          "font": {
           "color": [
            "rgb(40, 40, 40)",
            "rgb(40, 40, 40)",
            "rgb(40, 40, 40)",
            "rgb(40, 40, 40)",
            "rgb(40, 40, 40)"
           ],
           "size": 12
          },
          "format": [
           null,
           null,
           ".2f"
          ],
          "suffix": [
           "",
           "",
           "%"
          ],
          "values": [
           [
            1,
            2,
            12,
            11,
            10,
            6,
            9,
            3,
            5,
            7,
            8,
            4
           ],
           [
            6499,
            6051,
            5774,
            5237,
            4709,
            4615,
            4508,
            4496,
            4401,
            4236,
            4118,
            3694
           ],
           [
            11.140251637011895,
            10.37231307209709,
            9.897493914772532,
            8.976996126024202,
            8.071925674517468,
            7.910795707771949,
            7.727381809455243,
            7.706812026466454,
            7.5439679111385365,
            7.261133395042682,
            7.058863862319587,
            6.332064863382358
           ]
          ]
         },
         "columnwidth": [
          110,
          55,
          55
         ],
         "domain": {
          "x": [
           0,
           0.4
          ],
          "y": [
           0,
           1
          ]
         },
         "header": {
          "values": [
           "<b>Month</b>",
           "<b># of Cases</b>",
           "<b>Percentage</b>"
          ]
         },
         "type": "table",
         "uid": "f62b9cc2-a193-11e8-9409-0800275aa47c"
        },
        {
         "domain": {
          "x": [
           0.6,
           1
          ],
          "y": [
           0,
           1
          ]
         },
         "hole": 0.4,
         "hoverinfo": "label+percent+name",
         "labels": [
          1,
          2,
          12,
          11,
          10,
          6,
          9,
          3,
          5,
          7,
          8,
          4
         ],
         "name": "Month",
         "showlegend": true,
         "type": "pie",
         "uid": "f62ba0b4-a193-11e8-9409-0800275aa47c",
         "values": [
          6499,
          6051,
          5774,
          5237,
          4709,
          4615,
          4508,
          4496,
          4401,
          4236,
          4118,
          3694
         ]
        }
       ],
       "layout": {
        "title": "Month"
       }
      },
      "text/html": [
       "<div id=\"f4c92d04-68a8-428e-afce-0062ad66cf2b\" style=\"height: 525px; width: 100%;\" class=\"plotly-graph-div\"></div><script type=\"text/javascript\">require([\"plotly\"], function(Plotly) { window.PLOTLYENV=window.PLOTLYENV || {};window.PLOTLYENV.BASE_URL=\"https://plot.ly\";Plotly.newPlot(\"f4c92d04-68a8-428e-afce-0062ad66cf2b\", [{\"domain\": {\"y\": [0, 1.0], \"x\": [0, 0.4]}, \"uid\": \"f63015d6-a193-11e8-9409-0800275aa47c\", \"columnwidth\": [110, 55, 55], \"cells\": {\"align\": [\"left\", \"right\", \"right\"], \"font\": {\"color\": [\"rgb(40, 40, 40)\", \"rgb(40, 40, 40)\", \"rgb(40, 40, 40)\", \"rgb(40, 40, 40)\", \"rgb(40, 40, 40)\"], \"size\": 12}, \"values\": [[1, 2, 12, 11, 10, 6, 9, 3, 5, 7, 8, 4], [6499, 6051, 5774, 5237, 4709, 4615, 4508, 4496, 4401, 4236, 4118, 3694], [11.140251637011895, 10.37231307209709, 9.897493914772532, 8.976996126024202, 8.071925674517468, 7.910795707771949, 7.727381809455243, 7.706812026466454, 7.5439679111385365, 7.261133395042682, 7.058863862319587, 6.332064863382358]], \"suffix\": [\"\", \"\", \"%\"], \"format\": [null, null, \".2f\"]}, \"header\": {\"values\": [\"<b>Month</b>\", \"<b># of Cases</b>\", \"<b>Percentage</b>\"]}, \"type\": \"table\"}, {\"showlegend\": true, \"name\": \"Month\", \"labels\": [1.0, 2.0, 12.0, 11.0, 10.0, 6.0, 9.0, 3.0, 5.0, 7.0, 8.0, 4.0], \"domain\": {\"y\": [0, 1.0], \"x\": [0.6, 1.0]}, \"values\": [6499.0, 6051.0, 5774.0, 5237.0, 4709.0, 4615.0, 4508.0, 4496.0, 4401.0, 4236.0, 4118.0, 3694.0], \"hoverinfo\": \"label+percent+name\", \"hole\": 0.4, \"type\": \"pie\", \"uid\": \"f630186a-a193-11e8-9409-0800275aa47c\"}], {\"title\": \"Month\"}, {\"linkText\": \"Export to plot.ly\", \"showLink\": true})});</script>"
      ],
      "text/vnd.plotly.v1+html": [
       "<div id=\"f4c92d04-68a8-428e-afce-0062ad66cf2b\" style=\"height: 525px; width: 100%;\" class=\"plotly-graph-div\"></div><script type=\"text/javascript\">require([\"plotly\"], function(Plotly) { window.PLOTLYENV=window.PLOTLYENV || {};window.PLOTLYENV.BASE_URL=\"https://plot.ly\";Plotly.newPlot(\"f4c92d04-68a8-428e-afce-0062ad66cf2b\", [{\"domain\": {\"y\": [0, 1.0], \"x\": [0, 0.4]}, \"uid\": \"f63015d6-a193-11e8-9409-0800275aa47c\", \"columnwidth\": [110, 55, 55], \"cells\": {\"align\": [\"left\", \"right\", \"right\"], \"font\": {\"color\": [\"rgb(40, 40, 40)\", \"rgb(40, 40, 40)\", \"rgb(40, 40, 40)\", \"rgb(40, 40, 40)\", \"rgb(40, 40, 40)\"], \"size\": 12}, \"values\": [[1, 2, 12, 11, 10, 6, 9, 3, 5, 7, 8, 4], [6499, 6051, 5774, 5237, 4709, 4615, 4508, 4496, 4401, 4236, 4118, 3694], [11.140251637011895, 10.37231307209709, 9.897493914772532, 8.976996126024202, 8.071925674517468, 7.910795707771949, 7.727381809455243, 7.706812026466454, 7.5439679111385365, 7.261133395042682, 7.058863862319587, 6.332064863382358]], \"suffix\": [\"\", \"\", \"%\"], \"format\": [null, null, \".2f\"]}, \"header\": {\"values\": [\"<b>Month</b>\", \"<b># of Cases</b>\", \"<b>Percentage</b>\"]}, \"type\": \"table\"}, {\"showlegend\": true, \"name\": \"Month\", \"labels\": [1.0, 2.0, 12.0, 11.0, 10.0, 6.0, 9.0, 3.0, 5.0, 7.0, 8.0, 4.0], \"domain\": {\"y\": [0, 1.0], \"x\": [0.6, 1.0]}, \"values\": [6499.0, 6051.0, 5774.0, 5237.0, 4709.0, 4615.0, 4508.0, 4496.0, 4401.0, 4236.0, 4118.0, 3694.0], \"hoverinfo\": \"label+percent+name\", \"hole\": 0.4, \"type\": \"pie\", \"uid\": \"f630186a-a193-11e8-9409-0800275aa47c\"}], {\"title\": \"Month\"}, {\"linkText\": \"Export to plot.ly\", \"showLink\": true})});</script>"
      ]
     },
     "metadata": {},
     "output_type": "display_data"
    },
    {
     "data": {
      "application/vnd.plotly.v1+json": {
       "data": [
        {
         "cells": {
          "align": [
           "left",
           "right",
           "right"
          ],
          "font": {
           "color": [
            "rgb(40, 40, 40)",
            "rgb(40, 40, 40)",
            "rgb(40, 40, 40)",
            "rgb(40, 40, 40)",
            "rgb(40, 40, 40)"
           ],
           "size": 12
          },
          "format": [
           null,
           null,
           ".2f"
          ],
          "suffix": [
           "",
           "",
           "%"
          ],
          "values": [
           [
            "T5_Fri",
            "T4_Thu",
            "T3_Wed",
            "T2_Tue",
            "T1_Mon",
            "T6_Sat",
            "T7_Sun"
           ],
           [
            10067,
            9851,
            9366,
            9158,
            7890,
            6688,
            5318
           ],
           [
            17.256333779011964,
            16.886077685213756,
            16.05471562275018,
            15.698172717611161,
            13.524632315129075,
            11.46422571908533,
            9.115842161198533
           ]
          ]
         },
         "columnwidth": [
          110,
          55,
          55
         ],
         "domain": {
          "x": [
           0,
           0.4
          ],
          "y": [
           0,
           1
          ]
         },
         "header": {
          "values": [
           "<b>Day_Of_Week</b>",
           "<b># of Cases</b>",
           "<b>Percentage</b>"
          ]
         },
         "type": "table",
         "uid": "f63b84ca-a193-11e8-9409-0800275aa47c"
        },
        {
         "domain": {
          "x": [
           0.6,
           1
          ],
          "y": [
           0,
           1
          ]
         },
         "hole": 0.4,
         "hoverinfo": "label+percent+name",
         "labels": [
          "T5_Fri",
          "T4_Thu",
          "T3_Wed",
          "T2_Tue",
          "T1_Mon",
          "T6_Sat",
          "T7_Sun"
         ],
         "name": "Day_Of_Week",
         "showlegend": true,
         "type": "pie",
         "uid": "f63b8754-a193-11e8-9409-0800275aa47c",
         "values": [
          10067,
          9851,
          9366,
          9158,
          7890,
          6688,
          5318
         ]
        }
       ],
       "layout": {
        "title": "Day_Of_Week"
       }
      },
      "text/html": [
       "<div id=\"6f17cf3d-0b56-42fd-88b4-3b6a6628966c\" style=\"height: 525px; width: 100%;\" class=\"plotly-graph-div\"></div><script type=\"text/javascript\">require([\"plotly\"], function(Plotly) { window.PLOTLYENV=window.PLOTLYENV || {};window.PLOTLYENV.BASE_URL=\"https://plot.ly\";Plotly.newPlot(\"6f17cf3d-0b56-42fd-88b4-3b6a6628966c\", [{\"domain\": {\"y\": [0, 1.0], \"x\": [0, 0.4]}, \"uid\": \"f63f5d0c-a193-11e8-9409-0800275aa47c\", \"columnwidth\": [110, 55, 55], \"cells\": {\"align\": [\"left\", \"right\", \"right\"], \"font\": {\"color\": [\"rgb(40, 40, 40)\", \"rgb(40, 40, 40)\", \"rgb(40, 40, 40)\", \"rgb(40, 40, 40)\", \"rgb(40, 40, 40)\"], \"size\": 12}, \"values\": [[\"T5_Fri\", \"T4_Thu\", \"T3_Wed\", \"T2_Tue\", \"T1_Mon\", \"T6_Sat\", \"T7_Sun\"], [10067, 9851, 9366, 9158, 7890, 6688, 5318], [17.256333779011964, 16.886077685213756, 16.05471562275018, 15.698172717611161, 13.524632315129075, 11.46422571908533, 9.115842161198533]], \"suffix\": [\"\", \"\", \"%\"], \"format\": [null, null, \".2f\"]}, \"header\": {\"values\": [\"<b>Day_Of_Week</b>\", \"<b># of Cases</b>\", \"<b>Percentage</b>\"]}, \"type\": \"table\"}, {\"showlegend\": true, \"name\": \"Day_Of_Week\", \"labels\": [\"T5_Fri\", \"T4_Thu\", \"T3_Wed\", \"T2_Tue\", \"T1_Mon\", \"T6_Sat\", \"T7_Sun\"], \"domain\": {\"y\": [0, 1.0], \"x\": [0.6, 1.0]}, \"values\": [10067.0, 9851.0, 9366.0, 9158.0, 7890.0, 6688.0, 5318.0], \"hoverinfo\": \"label+percent+name\", \"hole\": 0.4, \"type\": \"pie\", \"uid\": \"f63f5f64-a193-11e8-9409-0800275aa47c\"}], {\"title\": \"Day_Of_Week\"}, {\"linkText\": \"Export to plot.ly\", \"showLink\": true})});</script>"
      ],
      "text/vnd.plotly.v1+html": [
       "<div id=\"6f17cf3d-0b56-42fd-88b4-3b6a6628966c\" style=\"height: 525px; width: 100%;\" class=\"plotly-graph-div\"></div><script type=\"text/javascript\">require([\"plotly\"], function(Plotly) { window.PLOTLYENV=window.PLOTLYENV || {};window.PLOTLYENV.BASE_URL=\"https://plot.ly\";Plotly.newPlot(\"6f17cf3d-0b56-42fd-88b4-3b6a6628966c\", [{\"domain\": {\"y\": [0, 1.0], \"x\": [0, 0.4]}, \"uid\": \"f63f5d0c-a193-11e8-9409-0800275aa47c\", \"columnwidth\": [110, 55, 55], \"cells\": {\"align\": [\"left\", \"right\", \"right\"], \"font\": {\"color\": [\"rgb(40, 40, 40)\", \"rgb(40, 40, 40)\", \"rgb(40, 40, 40)\", \"rgb(40, 40, 40)\", \"rgb(40, 40, 40)\"], \"size\": 12}, \"values\": [[\"T5_Fri\", \"T4_Thu\", \"T3_Wed\", \"T2_Tue\", \"T1_Mon\", \"T6_Sat\", \"T7_Sun\"], [10067, 9851, 9366, 9158, 7890, 6688, 5318], [17.256333779011964, 16.886077685213756, 16.05471562275018, 15.698172717611161, 13.524632315129075, 11.46422571908533, 9.115842161198533]], \"suffix\": [\"\", \"\", \"%\"], \"format\": [null, null, \".2f\"]}, \"header\": {\"values\": [\"<b>Day_Of_Week</b>\", \"<b># of Cases</b>\", \"<b>Percentage</b>\"]}, \"type\": \"table\"}, {\"showlegend\": true, \"name\": \"Day_Of_Week\", \"labels\": [\"T5_Fri\", \"T4_Thu\", \"T3_Wed\", \"T2_Tue\", \"T1_Mon\", \"T6_Sat\", \"T7_Sun\"], \"domain\": {\"y\": [0, 1.0], \"x\": [0.6, 1.0]}, \"values\": [10067.0, 9851.0, 9366.0, 9158.0, 7890.0, 6688.0, 5318.0], \"hoverinfo\": \"label+percent+name\", \"hole\": 0.4, \"type\": \"pie\", \"uid\": \"f63f5f64-a193-11e8-9409-0800275aa47c\"}], {\"title\": \"Day_Of_Week\"}, {\"linkText\": \"Export to plot.ly\", \"showLink\": true})});</script>"
      ]
     },
     "metadata": {},
     "output_type": "display_data"
    }
   ],
   "source": [
    "def analysisInSinglePercent(Col): \n",
    "    count = '# of Cases'\n",
    "    df_cause = pd.crosstab(index = df_csv1417[Col], columns = count, margins = False)\n",
    "    df_cause[Col] = df_cause.index\n",
    "    sumOf = df_cause[count].sum()\n",
    "    df_cause['Percentage'] = df_cause[count]/sumOf*100\n",
    "    df_cause = df_cause[[Col, count, 'Percentage']]\n",
    "    df_cause = df_cause.sort_values([count], ascending=[0])\n",
    "    \n",
    "    tab = go.Table(header = dict(values = ['<b>' + a + '</b>' for a in df_cause.columns.tolist()]),\n",
    "                   domain = dict(x=[0, 0.4], y=[0,1.0]),\n",
    "                   columnwidth = [110,55,55], \n",
    "                   cells = dict(values = [df_cause[b].tolist() for b in df_cause.columns.tolist()],\n",
    "                                font = dict(color=['rgb(40, 40, 40)'] * 5, size=12),\n",
    "                                format = [None] + [None] + ['.2f'],\n",
    "                                suffix = [\"\", \"\", \"%\"], \n",
    "                                align = [\"left\", \"right\", \"right\"]),\n",
    "                  )\n",
    "    pie = go.Pie(values = df_cause[count], \n",
    "                 labels = df_cause.index, \n",
    "                 name = df_cause.index.name,\n",
    "                 domain=dict(x=[0.6, 1.0], y=[0, 1.0]),\n",
    "                 hoverinfo = \"label+percent+name\", hole = .4, showlegend = True)\n",
    "    fig = dict(data = [tab,pie], \n",
    "               layout = go.Layout(title = Col))\n",
    "    iplot(fig)\n",
    "    \n",
    "for n in ['Environment', 'Road_Surface', 'Traffic_Control', 'Collision_Location', \\\n",
    "          'Light', 'Collision_Classification', 'Impact_type', 'Month', \"Day_Of_Week\"]:\n",
    "    analysisInSinglePercent(n) "
   ]
  },
  {
   "cell_type": "markdown",
   "metadata": {},
   "source": [
    "**Brief Conclusion - Most of car collisions happen in:**\n",
    "* environment: clear (78.73%)\n",
    "* road surface: dry (65.76%)\n",
    "* traffic control: no traffic control (47.97%)\n",
    "* collision location: at intersection or intersection related (21.47%+31.34% = 52.81%)\n",
    "* light condition: daylight (68.36%)\n",
    "* collision classification: P.D. only (80.99%)\n",
    "* impact type: varies\n",
    "* month: December, January, February (11.14%+10.37%+9.90% = 31.41%)\n",
    "* day of week: workdays, the trend keeps rising from Monday to Friday\n",
    "\n",
    "**Hypothesis:**\n",
    "* Those weather that seems common, such as clear environment and dry road surface might lead drivers to be careless(it might be not a dependable factor: the proportions of those weathers such as clear days and dry road surfaces is much more bigger than the proportions of wet road surface and snowy environment). \n",
    "* A place without traffic control might lead drivers to ignore some details that perhaps cause accidents, or some drivers could break the rules. \n",
    "* The location where is close to of at intersection requires drivers to control their wheels and gases carefully due to the heavy traffic and roads to different directions. Under this kind of stressful situation, people without enough driving experience are easy to make mistakes. \n",
    "* Of course, most of collisions did not cause injuries, and the impact type varies, either. P.D. only collisions are highly related to SMV other and rear end impacts. \n",
    "* December, January and February are in winter of Ottawa. The season of winter in Ottawa is cold, so that this season causes many potential factors of collision: snow and ice creates terrible road surface condition that let cars slip, low temperature makes drivers' reaction slower, snow and long night reduces their visability, etc. \n",
    "* Objectively, the traffic is heavier on workdays in a week. According to the table, the stress of people on workdays increases step by step, and the proportion of collisions is also divided by days of week step by step. "
   ]
  },
  {
   "cell_type": "markdown",
   "metadata": {},
   "source": [
    "### 2.3 Temperature & Weather Related Variables"
   ]
  },
  {
   "cell_type": "code",
   "execution_count": 6,
   "metadata": {},
   "outputs": [
    {
     "data": {
      "application/vnd.plotly.v1+json": {
       "data": [
        {
         "name": "Number of Collisions",
         "opacity": 0.6,
         "text": [
          "1790",
          "1349",
          "1190",
          "936",
          "1093",
          "1166",
          "1115",
          "1094",
          "1126",
          "1260",
          "1340",
          "1384"
         ],
         "textposition": "auto",
         "type": "bar",
         "uid": "f9ab3ae2-a193-11e8-9409-0800275aa47c",
         "x": [
          1,
          2,
          3,
          4,
          5,
          6,
          7,
          8,
          9,
          10,
          11,
          12
         ],
         "y": [
          1790,
          1349,
          1190,
          936,
          1093,
          1166,
          1115,
          1094,
          1126,
          1260,
          1340,
          1384
         ]
        },
        {
         "mode": "lines",
         "name": "Monthly Mean Max Temp",
         "type": "scatter",
         "uid": "f9ab3e16-a193-11e8-9409-0800275aa47c",
         "x": [
          1,
          2,
          3,
          4,
          5,
          6,
          7,
          8,
          9,
          10,
          11,
          12
         ],
         "xaxis": "x2",
         "y": [
          -6.409677419354837,
          -5.192857142857142,
          -1.4612903225806446,
          10.04,
          19.96774193548387,
          24.766666666666666,
          24.909677419354843,
          24.370967741935484,
          20.99666666666666,
          14.36774193548387,
          4.833333333333333,
          -1.1225806451612907
         ],
         "yaxis": "y2"
        },
        {
         "fill": "tonexty",
         "mode": "lines",
         "name": "Monthly Mean Min Temp",
         "type": "scatter",
         "uid": "f9ab401e-a193-11e8-9409-0800275aa47c",
         "x": [
          1,
          2,
          3,
          4,
          5,
          6,
          7,
          8,
          9,
          10,
          11,
          12
         ],
         "xaxis": "x2",
         "y": [
          -15.283870967741935,
          -14.192857142857141,
          -11.703225806451616,
          0.6699999999999998,
          9.174193548387096,
          14.280000000000001,
          14.94838709677419,
          13.935483870967742,
          10.610000000000001,
          6.267741935483871,
          -2.146666666666667,
          -6.493548387096775
         ],
         "yaxis": "y2"
        }
       ],
       "layout": {
        "title": "Temperature Analysis (2014)",
        "xaxis": {
         "dtick": 1,
         "title": "Month"
        },
        "xaxis2": {
         "anchor": "y2",
         "dtick": 1
        },
        "yaxis": {
         "domain": [
          0,
          0.5
         ],
         "dtick": 500,
         "title": "# of Collisions"
        },
        "yaxis2": {
         "autorange": "reversed",
         "domain": [
          0.55,
          1
         ],
         "dtick": 5,
         "title": "Temp (°C)"
        }
       }
      },
      "text/html": [
       "<div id=\"f0b7c629-3b71-4673-bd97-b174f7a42df6\" style=\"height: 525px; width: 100%;\" class=\"plotly-graph-div\"></div><script type=\"text/javascript\">require([\"plotly\"], function(Plotly) { window.PLOTLYENV=window.PLOTLYENV || {};window.PLOTLYENV.BASE_URL=\"https://plot.ly\";Plotly.newPlot(\"f0b7c629-3b71-4673-bd97-b174f7a42df6\", [{\"opacity\": 0.6, \"textposition\": \"auto\", \"name\": \"Number of Collisions\", \"text\": [\"1790\", \"1349\", \"1190\", \"936\", \"1093\", \"1166\", \"1115\", \"1094\", \"1126\", \"1260\", \"1340\", \"1384\"], \"y\": [1790.0, 1349.0, 1190.0, 936.0, 1093.0, 1166.0, 1115.0, 1094.0, 1126.0, 1260.0, 1340.0, 1384.0], \"x\": [1.0, 2.0, 3.0, 4.0, 5.0, 6.0, 7.0, 8.0, 9.0, 10.0, 11.0, 12.0], \"type\": \"bar\", \"uid\": \"f9b058e2-a193-11e8-9409-0800275aa47c\"}, {\"name\": \"Monthly Mean Max Temp\", \"yaxis\": \"y2\", \"mode\": \"lines\", \"xaxis\": \"x2\", \"y\": [-6.409677419354837, -5.192857142857142, -1.4612903225806446, 10.04, 19.96774193548387, 24.766666666666666, 24.909677419354843, 24.370967741935484, 20.99666666666666, 14.36774193548387, 4.833333333333333, -1.1225806451612907], \"x\": [1.0, 2.0, 3.0, 4.0, 5.0, 6.0, 7.0, 8.0, 9.0, 10.0, 11.0, 12.0], \"type\": \"scatter\", \"uid\": \"f9b05b76-a193-11e8-9409-0800275aa47c\"}, {\"uid\": \"f9b05cf2-a193-11e8-9409-0800275aa47c\", \"yaxis\": \"y2\", \"mode\": \"lines\", \"xaxis\": \"x2\", \"y\": [-15.283870967741935, -14.192857142857141, -11.703225806451616, 0.6699999999999998, 9.174193548387096, 14.280000000000001, 14.94838709677419, 13.935483870967742, 10.610000000000001, 6.267741935483871, -2.146666666666667, -6.493548387096775], \"x\": [1.0, 2.0, 3.0, 4.0, 5.0, 6.0, 7.0, 8.0, 9.0, 10.0, 11.0, 12.0], \"fill\": \"tonexty\", \"type\": \"scatter\", \"name\": \"Monthly Mean Min Temp\"}], {\"yaxis2\": {\"domain\": [0.55, 1.0], \"autorange\": \"reversed\", \"dtick\": 5, \"title\": \"Temp (\\u00b0C)\"}, \"title\": \"Temperature Analysis (2014)\", \"xaxis2\": {\"anchor\": \"y2\", \"dtick\": 1}, \"xaxis\": {\"dtick\": 1, \"title\": \"Month\"}, \"yaxis\": {\"domain\": [0, 0.5], \"dtick\": 500, \"title\": \"# of Collisions\"}}, {\"linkText\": \"Export to plot.ly\", \"showLink\": true})});</script>"
      ],
      "text/vnd.plotly.v1+html": [
       "<div id=\"f0b7c629-3b71-4673-bd97-b174f7a42df6\" style=\"height: 525px; width: 100%;\" class=\"plotly-graph-div\"></div><script type=\"text/javascript\">require([\"plotly\"], function(Plotly) { window.PLOTLYENV=window.PLOTLYENV || {};window.PLOTLYENV.BASE_URL=\"https://plot.ly\";Plotly.newPlot(\"f0b7c629-3b71-4673-bd97-b174f7a42df6\", [{\"opacity\": 0.6, \"textposition\": \"auto\", \"name\": \"Number of Collisions\", \"text\": [\"1790\", \"1349\", \"1190\", \"936\", \"1093\", \"1166\", \"1115\", \"1094\", \"1126\", \"1260\", \"1340\", \"1384\"], \"y\": [1790.0, 1349.0, 1190.0, 936.0, 1093.0, 1166.0, 1115.0, 1094.0, 1126.0, 1260.0, 1340.0, 1384.0], \"x\": [1.0, 2.0, 3.0, 4.0, 5.0, 6.0, 7.0, 8.0, 9.0, 10.0, 11.0, 12.0], \"type\": \"bar\", \"uid\": \"f9b058e2-a193-11e8-9409-0800275aa47c\"}, {\"name\": \"Monthly Mean Max Temp\", \"yaxis\": \"y2\", \"mode\": \"lines\", \"xaxis\": \"x2\", \"y\": [-6.409677419354837, -5.192857142857142, -1.4612903225806446, 10.04, 19.96774193548387, 24.766666666666666, 24.909677419354843, 24.370967741935484, 20.99666666666666, 14.36774193548387, 4.833333333333333, -1.1225806451612907], \"x\": [1.0, 2.0, 3.0, 4.0, 5.0, 6.0, 7.0, 8.0, 9.0, 10.0, 11.0, 12.0], \"type\": \"scatter\", \"uid\": \"f9b05b76-a193-11e8-9409-0800275aa47c\"}, {\"uid\": \"f9b05cf2-a193-11e8-9409-0800275aa47c\", \"yaxis\": \"y2\", \"mode\": \"lines\", \"xaxis\": \"x2\", \"y\": [-15.283870967741935, -14.192857142857141, -11.703225806451616, 0.6699999999999998, 9.174193548387096, 14.280000000000001, 14.94838709677419, 13.935483870967742, 10.610000000000001, 6.267741935483871, -2.146666666666667, -6.493548387096775], \"x\": [1.0, 2.0, 3.0, 4.0, 5.0, 6.0, 7.0, 8.0, 9.0, 10.0, 11.0, 12.0], \"fill\": \"tonexty\", \"type\": \"scatter\", \"name\": \"Monthly Mean Min Temp\"}], {\"yaxis2\": {\"domain\": [0.55, 1.0], \"autorange\": \"reversed\", \"dtick\": 5, \"title\": \"Temp (\\u00b0C)\"}, \"title\": \"Temperature Analysis (2014)\", \"xaxis2\": {\"anchor\": \"y2\", \"dtick\": 1}, \"xaxis\": {\"dtick\": 1, \"title\": \"Month\"}, \"yaxis\": {\"domain\": [0, 0.5], \"dtick\": 500, \"title\": \"# of Collisions\"}}, {\"linkText\": \"Export to plot.ly\", \"showLink\": true})});</script>"
      ]
     },
     "metadata": {},
     "output_type": "display_data"
    },
    {
     "data": {
      "application/vnd.plotly.v1+json": {
       "data": [
        {
         "name": "Number of Collisions",
         "opacity": 0.6,
         "text": [
          "2027",
          "1900",
          "1064",
          "901",
          "1115",
          "1219",
          "1115",
          "1058",
          "1133",
          "1199",
          "1249",
          "1098"
         ],
         "textposition": "auto",
         "type": "bar",
         "uid": "f9bec56c-a193-11e8-9409-0800275aa47c",
         "x": [
          1,
          2,
          3,
          4,
          5,
          6,
          7,
          8,
          9,
          10,
          11,
          12
         ],
         "y": [
          2027,
          1900,
          1064,
          901,
          1115,
          1219,
          1115,
          1058,
          1133,
          1199,
          1249,
          1098
         ]
        },
        {
         "mode": "lines",
         "name": "Monthly Mean Max Temp",
         "type": "scatter",
         "uid": "f9bec896-a193-11e8-9409-0800275aa47c",
         "x": [
          1,
          2,
          3,
          4,
          5,
          6,
          7,
          8,
          9,
          10,
          11,
          12
         ],
         "xaxis": "x2",
         "y": [
          -7.848387096774193,
          -11.12857142857143,
          -0.05483870967741936,
          11.893333333333333,
          22.822580645161292,
          22.996666666666666,
          27.022580645161288,
          25.712903225806446,
          24.13333333333333,
          12.761290322580642,
          9.07666666666667,
          4.906451612903226
         ],
         "yaxis": "y2"
        },
        {
         "fill": "tonexty",
         "mode": "lines",
         "name": "Monthly Mean Min Temp",
         "type": "scatter",
         "uid": "f9beca8a-a193-11e8-9409-0800275aa47c",
         "x": [
          1,
          2,
          3,
          4,
          5,
          6,
          7,
          8,
          9,
          10,
          11,
          12
         ],
         "xaxis": "x2",
         "y": [
          -17.635483870967743,
          -20.41785714285714,
          -9.332258064516129,
          1.1033333333333333,
          9.832258064516127,
          12.486666666666668,
          16.019354838709678,
          14.893548387096772,
          12.866666666666667,
          3.2000000000000006,
          0.8000000000000002,
          -1.2096774193548387
         ],
         "yaxis": "y2"
        }
       ],
       "layout": {
        "title": "Temperature Analysis (2015)",
        "xaxis": {
         "dtick": 1,
         "title": "Month"
        },
        "xaxis2": {
         "anchor": "y2",
         "dtick": 1
        },
        "yaxis": {
         "domain": [
          0,
          0.5
         ],
         "dtick": 500,
         "title": "# of Collisions"
        },
        "yaxis2": {
         "autorange": "reversed",
         "domain": [
          0.55,
          1
         ],
         "dtick": 5,
         "title": "Temp (°C)"
        }
       }
      },
      "text/html": [
       "<div id=\"eb9346ba-1259-4d78-ba55-055fcdcaa3c9\" style=\"height: 525px; width: 100%;\" class=\"plotly-graph-div\"></div><script type=\"text/javascript\">require([\"plotly\"], function(Plotly) { window.PLOTLYENV=window.PLOTLYENV || {};window.PLOTLYENV.BASE_URL=\"https://plot.ly\";Plotly.newPlot(\"eb9346ba-1259-4d78-ba55-055fcdcaa3c9\", [{\"opacity\": 0.6, \"textposition\": \"auto\", \"name\": \"Number of Collisions\", \"text\": [\"2027\", \"1900\", \"1064\", \"901\", \"1115\", \"1219\", \"1115\", \"1058\", \"1133\", \"1199\", \"1249\", \"1098\"], \"y\": [2027.0, 1900.0, 1064.0, 901.0, 1115.0, 1219.0, 1115.0, 1058.0, 1133.0, 1199.0, 1249.0, 1098.0], \"x\": [1.0, 2.0, 3.0, 4.0, 5.0, 6.0, 7.0, 8.0, 9.0, 10.0, 11.0, 12.0], \"type\": \"bar\", \"uid\": \"f9c7fe52-a193-11e8-9409-0800275aa47c\"}, {\"name\": \"Monthly Mean Max Temp\", \"yaxis\": \"y2\", \"mode\": \"lines\", \"xaxis\": \"x2\", \"y\": [-7.848387096774193, -11.12857142857143, -0.05483870967741936, 11.893333333333333, 22.822580645161292, 22.996666666666666, 27.022580645161288, 25.712903225806446, 24.13333333333333, 12.761290322580642, 9.07666666666667, 4.906451612903226], \"x\": [1.0, 2.0, 3.0, 4.0, 5.0, 6.0, 7.0, 8.0, 9.0, 10.0, 11.0, 12.0], \"type\": \"scatter\", \"uid\": \"f9c80118-a193-11e8-9409-0800275aa47c\"}, {\"uid\": \"f9c8029e-a193-11e8-9409-0800275aa47c\", \"yaxis\": \"y2\", \"mode\": \"lines\", \"xaxis\": \"x2\", \"y\": [-17.635483870967743, -20.41785714285714, -9.332258064516129, 1.1033333333333333, 9.832258064516127, 12.486666666666668, 16.019354838709678, 14.893548387096772, 12.866666666666667, 3.2000000000000006, 0.8000000000000002, -1.2096774193548387], \"x\": [1.0, 2.0, 3.0, 4.0, 5.0, 6.0, 7.0, 8.0, 9.0, 10.0, 11.0, 12.0], \"fill\": \"tonexty\", \"type\": \"scatter\", \"name\": \"Monthly Mean Min Temp\"}], {\"yaxis2\": {\"domain\": [0.55, 1.0], \"autorange\": \"reversed\", \"dtick\": 5, \"title\": \"Temp (\\u00b0C)\"}, \"title\": \"Temperature Analysis (2015)\", \"xaxis2\": {\"anchor\": \"y2\", \"dtick\": 1}, \"xaxis\": {\"dtick\": 1, \"title\": \"Month\"}, \"yaxis\": {\"domain\": [0, 0.5], \"dtick\": 500, \"title\": \"# of Collisions\"}}, {\"linkText\": \"Export to plot.ly\", \"showLink\": true})});</script>"
      ],
      "text/vnd.plotly.v1+html": [
       "<div id=\"eb9346ba-1259-4d78-ba55-055fcdcaa3c9\" style=\"height: 525px; width: 100%;\" class=\"plotly-graph-div\"></div><script type=\"text/javascript\">require([\"plotly\"], function(Plotly) { window.PLOTLYENV=window.PLOTLYENV || {};window.PLOTLYENV.BASE_URL=\"https://plot.ly\";Plotly.newPlot(\"eb9346ba-1259-4d78-ba55-055fcdcaa3c9\", [{\"opacity\": 0.6, \"textposition\": \"auto\", \"name\": \"Number of Collisions\", \"text\": [\"2027\", \"1900\", \"1064\", \"901\", \"1115\", \"1219\", \"1115\", \"1058\", \"1133\", \"1199\", \"1249\", \"1098\"], \"y\": [2027.0, 1900.0, 1064.0, 901.0, 1115.0, 1219.0, 1115.0, 1058.0, 1133.0, 1199.0, 1249.0, 1098.0], \"x\": [1.0, 2.0, 3.0, 4.0, 5.0, 6.0, 7.0, 8.0, 9.0, 10.0, 11.0, 12.0], \"type\": \"bar\", \"uid\": \"f9c7fe52-a193-11e8-9409-0800275aa47c\"}, {\"name\": \"Monthly Mean Max Temp\", \"yaxis\": \"y2\", \"mode\": \"lines\", \"xaxis\": \"x2\", \"y\": [-7.848387096774193, -11.12857142857143, -0.05483870967741936, 11.893333333333333, 22.822580645161292, 22.996666666666666, 27.022580645161288, 25.712903225806446, 24.13333333333333, 12.761290322580642, 9.07666666666667, 4.906451612903226], \"x\": [1.0, 2.0, 3.0, 4.0, 5.0, 6.0, 7.0, 8.0, 9.0, 10.0, 11.0, 12.0], \"type\": \"scatter\", \"uid\": \"f9c80118-a193-11e8-9409-0800275aa47c\"}, {\"uid\": \"f9c8029e-a193-11e8-9409-0800275aa47c\", \"yaxis\": \"y2\", \"mode\": \"lines\", \"xaxis\": \"x2\", \"y\": [-17.635483870967743, -20.41785714285714, -9.332258064516129, 1.1033333333333333, 9.832258064516127, 12.486666666666668, 16.019354838709678, 14.893548387096772, 12.866666666666667, 3.2000000000000006, 0.8000000000000002, -1.2096774193548387], \"x\": [1.0, 2.0, 3.0, 4.0, 5.0, 6.0, 7.0, 8.0, 9.0, 10.0, 11.0, 12.0], \"fill\": \"tonexty\", \"type\": \"scatter\", \"name\": \"Monthly Mean Min Temp\"}], {\"yaxis2\": {\"domain\": [0.55, 1.0], \"autorange\": \"reversed\", \"dtick\": 5, \"title\": \"Temp (\\u00b0C)\"}, \"title\": \"Temperature Analysis (2015)\", \"xaxis2\": {\"anchor\": \"y2\", \"dtick\": 1}, \"xaxis\": {\"dtick\": 1, \"title\": \"Month\"}, \"yaxis\": {\"domain\": [0, 0.5], \"dtick\": 500, \"title\": \"# of Collisions\"}}, {\"linkText\": \"Export to plot.ly\", \"showLink\": true})});</script>"
      ]
     },
     "metadata": {},
     "output_type": "display_data"
    },
    {
     "data": {
      "application/vnd.plotly.v1+json": {
       "data": [
        {
         "name": "Number of Collisions",
         "opacity": 0.6,
         "text": [
          "1407",
          "1523",
          "1018",
          "944",
          "1109",
          "1135",
          "1035",
          "976",
          "1073",
          "1111",
          "1155",
          "1537"
         ],
         "textposition": "auto",
         "type": "bar",
         "uid": "f9d52eb0-a193-11e8-9409-0800275aa47c",
         "x": [
          1,
          2,
          3,
          4,
          5,
          6,
          7,
          8,
          9,
          10,
          11,
          12
         ],
         "y": [
          1407,
          1523,
          1018,
          944,
          1109,
          1135,
          1035,
          976,
          1073,
          1111,
          1155,
          1537
         ]
        },
        {
         "mode": "lines",
         "name": "Monthly Mean Max Temp",
         "type": "scatter",
         "uid": "f9d5314e-a193-11e8-9409-0800275aa47c",
         "x": [
          1,
          2,
          3,
          4,
          5,
          6,
          7,
          8,
          9,
          10,
          11,
          12
         ],
         "xaxis": "x2",
         "y": [
          -3.1064516129032262,
          -3.168965517241379,
          3.8290322580645166,
          9.2,
          20.919354838709676,
          24.966666666666665,
          27.370967741935484,
          28.080645161290324,
          22.916666666666668,
          13.725806451612904,
          7.35,
          -1.1129032258064515
         ],
         "yaxis": "y2"
        },
        {
         "fill": "tonexty",
         "mode": "lines",
         "name": "Monthly Mean Min Temp",
         "type": "scatter",
         "uid": "f9d532d4-a193-11e8-9409-0800275aa47c",
         "x": [
          1,
          2,
          3,
          4,
          5,
          6,
          7,
          8,
          9,
          10,
          11,
          12
         ],
         "xaxis": "x2",
         "y": [
          -11.838709677419356,
          -12.320689655172414,
          -5.432258064516129,
          -1.4833333333333334,
          8.580645161290322,
          12.716666666666667,
          15.838709677419354,
          16.43548387096774,
          11.1,
          4.951612903225806,
          0.11666666666666667,
          -8.564516129032258
         ],
         "yaxis": "y2"
        }
       ],
       "layout": {
        "title": "Temperature Analysis (2016)",
        "xaxis": {
         "dtick": 1,
         "title": "Month"
        },
        "xaxis2": {
         "anchor": "y2",
         "dtick": 1
        },
        "yaxis": {
         "domain": [
          0,
          0.5
         ],
         "dtick": 500,
         "title": "# of Collisions"
        },
        "yaxis2": {
         "autorange": "reversed",
         "domain": [
          0.55,
          1
         ],
         "dtick": 5,
         "title": "Temp (°C)"
        }
       }
      },
      "text/html": [
       "<div id=\"2eb1a927-f5a9-481a-bcf9-39b25a0298e2\" style=\"height: 525px; width: 100%;\" class=\"plotly-graph-div\"></div><script type=\"text/javascript\">require([\"plotly\"], function(Plotly) { window.PLOTLYENV=window.PLOTLYENV || {};window.PLOTLYENV.BASE_URL=\"https://plot.ly\";Plotly.newPlot(\"2eb1a927-f5a9-481a-bcf9-39b25a0298e2\", [{\"opacity\": 0.6, \"textposition\": \"auto\", \"name\": \"Number of Collisions\", \"text\": [\"1407\", \"1523\", \"1018\", \"944\", \"1109\", \"1135\", \"1035\", \"976\", \"1073\", \"1111\", \"1155\", \"1537\"], \"y\": [1407.0, 1523.0, 1018.0, 944.0, 1109.0, 1135.0, 1035.0, 976.0, 1073.0, 1111.0, 1155.0, 1537.0], \"x\": [1.0, 2.0, 3.0, 4.0, 5.0, 6.0, 7.0, 8.0, 9.0, 10.0, 11.0, 12.0], \"type\": \"bar\", \"uid\": \"f9db47c8-a193-11e8-9409-0800275aa47c\"}, {\"name\": \"Monthly Mean Max Temp\", \"yaxis\": \"y2\", \"mode\": \"lines\", \"xaxis\": \"x2\", \"y\": [-3.1064516129032262, -3.168965517241379, 3.8290322580645166, 9.2, 20.919354838709676, 24.966666666666665, 27.370967741935484, 28.080645161290324, 22.916666666666668, 13.725806451612904, 7.35, -1.1129032258064515], \"x\": [1.0, 2.0, 3.0, 4.0, 5.0, 6.0, 7.0, 8.0, 9.0, 10.0, 11.0, 12.0], \"type\": \"scatter\", \"uid\": \"f9db4ab6-a193-11e8-9409-0800275aa47c\"}, {\"uid\": \"f9db4c82-a193-11e8-9409-0800275aa47c\", \"yaxis\": \"y2\", \"mode\": \"lines\", \"xaxis\": \"x2\", \"y\": [-11.838709677419356, -12.320689655172414, -5.432258064516129, -1.4833333333333334, 8.580645161290322, 12.716666666666667, 15.838709677419354, 16.43548387096774, 11.1, 4.951612903225806, 0.11666666666666667, -8.564516129032258], \"x\": [1.0, 2.0, 3.0, 4.0, 5.0, 6.0, 7.0, 8.0, 9.0, 10.0, 11.0, 12.0], \"fill\": \"tonexty\", \"type\": \"scatter\", \"name\": \"Monthly Mean Min Temp\"}], {\"yaxis2\": {\"domain\": [0.55, 1.0], \"autorange\": \"reversed\", \"dtick\": 5, \"title\": \"Temp (\\u00b0C)\"}, \"title\": \"Temperature Analysis (2016)\", \"xaxis2\": {\"anchor\": \"y2\", \"dtick\": 1}, \"xaxis\": {\"dtick\": 1, \"title\": \"Month\"}, \"yaxis\": {\"domain\": [0, 0.5], \"dtick\": 500, \"title\": \"# of Collisions\"}}, {\"linkText\": \"Export to plot.ly\", \"showLink\": true})});</script>"
      ],
      "text/vnd.plotly.v1+html": [
       "<div id=\"2eb1a927-f5a9-481a-bcf9-39b25a0298e2\" style=\"height: 525px; width: 100%;\" class=\"plotly-graph-div\"></div><script type=\"text/javascript\">require([\"plotly\"], function(Plotly) { window.PLOTLYENV=window.PLOTLYENV || {};window.PLOTLYENV.BASE_URL=\"https://plot.ly\";Plotly.newPlot(\"2eb1a927-f5a9-481a-bcf9-39b25a0298e2\", [{\"opacity\": 0.6, \"textposition\": \"auto\", \"name\": \"Number of Collisions\", \"text\": [\"1407\", \"1523\", \"1018\", \"944\", \"1109\", \"1135\", \"1035\", \"976\", \"1073\", \"1111\", \"1155\", \"1537\"], \"y\": [1407.0, 1523.0, 1018.0, 944.0, 1109.0, 1135.0, 1035.0, 976.0, 1073.0, 1111.0, 1155.0, 1537.0], \"x\": [1.0, 2.0, 3.0, 4.0, 5.0, 6.0, 7.0, 8.0, 9.0, 10.0, 11.0, 12.0], \"type\": \"bar\", \"uid\": \"f9db47c8-a193-11e8-9409-0800275aa47c\"}, {\"name\": \"Monthly Mean Max Temp\", \"yaxis\": \"y2\", \"mode\": \"lines\", \"xaxis\": \"x2\", \"y\": [-3.1064516129032262, -3.168965517241379, 3.8290322580645166, 9.2, 20.919354838709676, 24.966666666666665, 27.370967741935484, 28.080645161290324, 22.916666666666668, 13.725806451612904, 7.35, -1.1129032258064515], \"x\": [1.0, 2.0, 3.0, 4.0, 5.0, 6.0, 7.0, 8.0, 9.0, 10.0, 11.0, 12.0], \"type\": \"scatter\", \"uid\": \"f9db4ab6-a193-11e8-9409-0800275aa47c\"}, {\"uid\": \"f9db4c82-a193-11e8-9409-0800275aa47c\", \"yaxis\": \"y2\", \"mode\": \"lines\", \"xaxis\": \"x2\", \"y\": [-11.838709677419356, -12.320689655172414, -5.432258064516129, -1.4833333333333334, 8.580645161290322, 12.716666666666667, 15.838709677419354, 16.43548387096774, 11.1, 4.951612903225806, 0.11666666666666667, -8.564516129032258], \"x\": [1.0, 2.0, 3.0, 4.0, 5.0, 6.0, 7.0, 8.0, 9.0, 10.0, 11.0, 12.0], \"fill\": \"tonexty\", \"type\": \"scatter\", \"name\": \"Monthly Mean Min Temp\"}], {\"yaxis2\": {\"domain\": [0.55, 1.0], \"autorange\": \"reversed\", \"dtick\": 5, \"title\": \"Temp (\\u00b0C)\"}, \"title\": \"Temperature Analysis (2016)\", \"xaxis2\": {\"anchor\": \"y2\", \"dtick\": 1}, \"xaxis\": {\"dtick\": 1, \"title\": \"Month\"}, \"yaxis\": {\"domain\": [0, 0.5], \"dtick\": 500, \"title\": \"# of Collisions\"}}, {\"linkText\": \"Export to plot.ly\", \"showLink\": true})});</script>"
      ]
     },
     "metadata": {},
     "output_type": "display_data"
    },
    {
     "data": {
      "application/vnd.plotly.v1+json": {
       "data": [
        {
         "name": "Number of Collisions",
         "opacity": 0.6,
         "text": [
          "1275",
          "1279",
          "1224",
          "913",
          "1084",
          "1095",
          "971",
          "990",
          "1176",
          "1139",
          "1493",
          "1755"
         ],
         "textposition": "auto",
         "type": "bar",
         "uid": "f9f94520-a193-11e8-9409-0800275aa47c",
         "x": [
          1,
          2,
          3,
          4,
          5,
          6,
          7,
          8,
          9,
          10,
          11,
          12
         ],
         "y": [
          1275,
          1279,
          1224,
          913,
          1084,
          1095,
          971,
          990,
          1176,
          1139,
          1493,
          1755
         ]
        },
        {
         "mode": "lines",
         "name": "Monthly Mean Max Temp",
         "type": "scatter",
         "uid": "f9f9480e-a193-11e8-9409-0800275aa47c",
         "x": [
          1,
          2,
          3,
          4,
          5,
          6,
          7,
          8,
          9,
          10,
          11,
          12
         ],
         "xaxis": "x2",
         "y": [
          -1.6935483870967742,
          -0.6785714285714286,
          -0.9516129032258065,
          12.083333333333334,
          17.419354838709676,
          23.166666666666668,
          25.306451612903224,
          24.306451612903224,
          23.6,
          17.532258064516128,
          4.716666666666667,
          -6.041935483870968
         ],
         "yaxis": "y2"
        },
        {
         "fill": "tonexty",
         "mode": "lines",
         "name": "Monthly Mean Min Temp",
         "type": "scatter",
         "uid": "f9f949a8-a193-11e8-9409-0800275aa47c",
         "x": [
          1,
          2,
          3,
          4,
          5,
          6,
          7,
          8,
          9,
          10,
          11,
          12
         ],
         "xaxis": "x2",
         "y": [
          -9.096774193548388,
          -8.839285714285714,
          -9.048387096774194,
          3.3,
          8.258064516129032,
          13.966666666666667,
          15.725806451612904,
          14.387096774193548,
          12.133333333333333,
          7.516129032258065,
          -2.55,
          -12.367741935483872
         ],
         "yaxis": "y2"
        }
       ],
       "layout": {
        "title": "Temperature Analysis (2017)",
        "xaxis": {
         "dtick": 1,
         "title": "Month"
        },
        "xaxis2": {
         "anchor": "y2",
         "dtick": 1
        },
        "yaxis": {
         "domain": [
          0,
          0.5
         ],
         "dtick": 500,
         "title": "# of Collisions"
        },
        "yaxis2": {
         "autorange": "reversed",
         "domain": [
          0.55,
          1
         ],
         "dtick": 5,
         "title": "Temp (°C)"
        }
       }
      },
      "text/html": [
       "<div id=\"fc611b9a-bfb3-4324-8fd3-fdd60613b173\" style=\"height: 525px; width: 100%;\" class=\"plotly-graph-div\"></div><script type=\"text/javascript\">require([\"plotly\"], function(Plotly) { window.PLOTLYENV=window.PLOTLYENV || {};window.PLOTLYENV.BASE_URL=\"https://plot.ly\";Plotly.newPlot(\"fc611b9a-bfb3-4324-8fd3-fdd60613b173\", [{\"opacity\": 0.6, \"textposition\": \"auto\", \"name\": \"Number of Collisions\", \"text\": [\"1275\", \"1279\", \"1224\", \"913\", \"1084\", \"1095\", \"971\", \"990\", \"1176\", \"1139\", \"1493\", \"1755\"], \"y\": [1275.0, 1279.0, 1224.0, 913.0, 1084.0, 1095.0, 971.0, 990.0, 1176.0, 1139.0, 1493.0, 1755.0], \"x\": [1.0, 2.0, 3.0, 4.0, 5.0, 6.0, 7.0, 8.0, 9.0, 10.0, 11.0, 12.0], \"type\": \"bar\", \"uid\": \"f9ff0b2c-a193-11e8-9409-0800275aa47c\"}, {\"name\": \"Monthly Mean Max Temp\", \"yaxis\": \"y2\", \"mode\": \"lines\", \"xaxis\": \"x2\", \"y\": [-1.6935483870967742, -0.6785714285714286, -0.9516129032258065, 12.083333333333334, 17.419354838709676, 23.166666666666668, 25.306451612903224, 24.306451612903224, 23.6, 17.532258064516128, 4.716666666666667, -6.041935483870968], \"x\": [1.0, 2.0, 3.0, 4.0, 5.0, 6.0, 7.0, 8.0, 9.0, 10.0, 11.0, 12.0], \"type\": \"scatter\", \"uid\": \"f9ff0eec-a193-11e8-9409-0800275aa47c\"}, {\"uid\": \"f9ff1162-a193-11e8-9409-0800275aa47c\", \"yaxis\": \"y2\", \"mode\": \"lines\", \"xaxis\": \"x2\", \"y\": [-9.096774193548388, -8.839285714285714, -9.048387096774194, 3.3, 8.258064516129032, 13.966666666666667, 15.725806451612904, 14.387096774193548, 12.133333333333333, 7.516129032258065, -2.55, -12.367741935483872], \"x\": [1.0, 2.0, 3.0, 4.0, 5.0, 6.0, 7.0, 8.0, 9.0, 10.0, 11.0, 12.0], \"fill\": \"tonexty\", \"type\": \"scatter\", \"name\": \"Monthly Mean Min Temp\"}], {\"yaxis2\": {\"domain\": [0.55, 1.0], \"autorange\": \"reversed\", \"dtick\": 5, \"title\": \"Temp (\\u00b0C)\"}, \"title\": \"Temperature Analysis (2017)\", \"xaxis2\": {\"anchor\": \"y2\", \"dtick\": 1}, \"xaxis\": {\"dtick\": 1, \"title\": \"Month\"}, \"yaxis\": {\"domain\": [0, 0.5], \"dtick\": 500, \"title\": \"# of Collisions\"}}, {\"linkText\": \"Export to plot.ly\", \"showLink\": true})});</script>"
      ],
      "text/vnd.plotly.v1+html": [
       "<div id=\"fc611b9a-bfb3-4324-8fd3-fdd60613b173\" style=\"height: 525px; width: 100%;\" class=\"plotly-graph-div\"></div><script type=\"text/javascript\">require([\"plotly\"], function(Plotly) { window.PLOTLYENV=window.PLOTLYENV || {};window.PLOTLYENV.BASE_URL=\"https://plot.ly\";Plotly.newPlot(\"fc611b9a-bfb3-4324-8fd3-fdd60613b173\", [{\"opacity\": 0.6, \"textposition\": \"auto\", \"name\": \"Number of Collisions\", \"text\": [\"1275\", \"1279\", \"1224\", \"913\", \"1084\", \"1095\", \"971\", \"990\", \"1176\", \"1139\", \"1493\", \"1755\"], \"y\": [1275.0, 1279.0, 1224.0, 913.0, 1084.0, 1095.0, 971.0, 990.0, 1176.0, 1139.0, 1493.0, 1755.0], \"x\": [1.0, 2.0, 3.0, 4.0, 5.0, 6.0, 7.0, 8.0, 9.0, 10.0, 11.0, 12.0], \"type\": \"bar\", \"uid\": \"f9ff0b2c-a193-11e8-9409-0800275aa47c\"}, {\"name\": \"Monthly Mean Max Temp\", \"yaxis\": \"y2\", \"mode\": \"lines\", \"xaxis\": \"x2\", \"y\": [-1.6935483870967742, -0.6785714285714286, -0.9516129032258065, 12.083333333333334, 17.419354838709676, 23.166666666666668, 25.306451612903224, 24.306451612903224, 23.6, 17.532258064516128, 4.716666666666667, -6.041935483870968], \"x\": [1.0, 2.0, 3.0, 4.0, 5.0, 6.0, 7.0, 8.0, 9.0, 10.0, 11.0, 12.0], \"type\": \"scatter\", \"uid\": \"f9ff0eec-a193-11e8-9409-0800275aa47c\"}, {\"uid\": \"f9ff1162-a193-11e8-9409-0800275aa47c\", \"yaxis\": \"y2\", \"mode\": \"lines\", \"xaxis\": \"x2\", \"y\": [-9.096774193548388, -8.839285714285714, -9.048387096774194, 3.3, 8.258064516129032, 13.966666666666667, 15.725806451612904, 14.387096774193548, 12.133333333333333, 7.516129032258065, -2.55, -12.367741935483872], \"x\": [1.0, 2.0, 3.0, 4.0, 5.0, 6.0, 7.0, 8.0, 9.0, 10.0, 11.0, 12.0], \"fill\": \"tonexty\", \"type\": \"scatter\", \"name\": \"Monthly Mean Min Temp\"}], {\"yaxis2\": {\"domain\": [0.55, 1.0], \"autorange\": \"reversed\", \"dtick\": 5, \"title\": \"Temp (\\u00b0C)\"}, \"title\": \"Temperature Analysis (2017)\", \"xaxis2\": {\"anchor\": \"y2\", \"dtick\": 1}, \"xaxis\": {\"dtick\": 1, \"title\": \"Month\"}, \"yaxis\": {\"domain\": [0, 0.5], \"dtick\": 500, \"title\": \"# of Collisions\"}}, {\"linkText\": \"Export to plot.ly\", \"showLink\": true})});</script>"
      ]
     },
     "metadata": {},
     "output_type": "display_data"
    },
    {
     "name": "stdout",
     "output_type": "stream",
     "text": [
      "The correlation between number of collisions and mean temperature: \n",
      "all months = -0.7044\n",
      "In each month: \n",
      "\n",
      "January = -0.9936\n",
      "February = -0.9209\n",
      "March = -0.7807\n",
      "April = -0.8263\n",
      "May = 0.9109\n",
      "June = -0.4081\n",
      "July = -0.0211\n",
      "August = -0.5915\n",
      "September = 0.3481\n",
      "October = -0.1837\n",
      "November = -0.7828\n",
      "December = -0.9908\n"
     ]
    }
   ],
   "source": [
    "df_avg = wt1417.groupby([\"Year\",\"Month\"]).mean()\n",
    "df_avg[\"Year\"] = [x[0] for x in df_avg.index]\n",
    "df_avg[\"Month\"] = [x[1] for x in df_avg.index]\n",
    "\n",
    "df_sum = wt1417.groupby([\"Year\",\"Month\"]).sum()\n",
    "df_sum[\"Year\"] = [x[0] for x in df_sum.index]\n",
    "df_sum[\"Month\"] = [x[1] for x in df_sum.index]\n",
    "\n",
    "def printTemInYear(n):\n",
    "    monthCase = go.Bar(x = df_sum[df_sum[\"Year\"]==n][\"Month\"],\n",
    "                       y = df_sum[df_sum[\"Year\"]==n][\"Number of Collisions\"],\n",
    "                       text = df_sum[df_sum[\"Year\"]==n][\"Number of Collisions\"],\n",
    "                       textposition = 'auto',\n",
    "                       opacity = 0.6,\n",
    "                       name = 'Number of Collisions')\n",
    "    max_temp = go.Scatter(x = df_avg[df_avg[\"Year\"]==n][\"Month\"],\n",
    "                         y = df_avg[df_avg[\"Year\"]==n][\"Max Temp (°C)\"],\n",
    "                         mode = 'lines',\n",
    "                         name = 'Monthly Mean Max Temp',\n",
    "                         xaxis = 'x2', \n",
    "                         yaxis = 'y2')\n",
    "    min_temp = go.Scatter(x = df_avg[df_avg[\"Year\"]==n][\"Month\"],\n",
    "                         y = df_avg[df_avg[\"Year\"]==n][\"Min Temp (°C)\"],\n",
    "                         mode = 'lines',\n",
    "                         name = 'Monthly Mean Min Temp',\n",
    "                         fill = 'tonexty', \n",
    "                         xaxis = 'x2', \n",
    "                         yaxis = 'y2')\n",
    "    fig = dict(data = [monthCase, max_temp,min_temp], \n",
    "               layout = go.Layout(title = \"Temperature Analysis (\" + str(n) + \")\",\n",
    "                                  xaxis = dict(title='Month', dtick=1),\n",
    "                                  yaxis = dict(title='# of Collisions', dtick=500, domain = [0,0.5]),\n",
    "                                  yaxis2 = dict(title='Temp (°C)', dtick=5, domain = [0.55,1.0],autorange='reversed'),\n",
    "                                  xaxis2 = dict(dtick=1, anchor = 'y2')\n",
    "                                 )\n",
    "              )\n",
    "    iplot(fig)\n",
    "    \n",
    "for m in range(2014,2018):\n",
    "    printTemInYear(m)\n",
    "    \n",
    "print(\"The correlation between number of collisions and mean temperature: \\n\" \n",
    "      + \"all months = %.4f\" % df_avg[\"Number of Collisions\"].corr(df_avg[\"Mean Temp (°C)\"]) + \"\\n\" \n",
    "      + \"In each month: \" + \"\\n\")\n",
    "\n",
    "def corrInMonth(l):\n",
    "      s = {\n",
    "        1: 'January',\n",
    "        2: 'February',\n",
    "        3: 'March',\n",
    "        4: 'April',\n",
    "        5: 'May',\n",
    "        6: 'June',\n",
    "        7: 'July',\n",
    "        8: 'August',\n",
    "        9: 'September',\n",
    "       10: 'October',\n",
    "       11: 'November',\n",
    "       12: 'December'\n",
    "      }[l]\n",
    "      print(s + \" = %.4f\" % df_avg[df_avg[\"Month\"] == l][\"Number of Collisions\"].corr(df_avg[\"Mean Temp (°C)\"]))\n",
    "        \n",
    "for f in range(1,13):\n",
    "    corrInMonth(f)"
   ]
  },
  {
   "cell_type": "markdown",
   "metadata": {},
   "source": [
    "**Brief Conclusion:**\n",
    "* The number of collisions in winter is always higher than other months in a year. \n",
    "* The correlation between the number of collisions and month becomes extremely low in winter. \n",
    "\n",
    "**Hypothesis:**\n",
    "* Extreme low temperature leads to vehicle collisions, such as vehicle faults and several weathers that are related to low temperature. "
   ]
  },
  {
   "cell_type": "code",
   "execution_count": 7,
   "metadata": {},
   "outputs": [
    {
     "data": {
      "application/vnd.plotly.v1+json": {
       "data": [
        {
         "name": "Number of Collisions",
         "opacity": 0.6,
         "text": [
          "1790",
          "1349",
          "1190",
          "936",
          "1093",
          "1166",
          "1115",
          "1094",
          "1126",
          "1260",
          "1340",
          "1384"
         ],
         "textposition": "auto",
         "type": "bar",
         "uid": "fbfd7a26-a193-11e8-9409-0800275aa47c",
         "x": [
          1,
          2,
          3,
          4,
          5,
          6,
          7,
          8,
          9,
          10,
          11,
          12
         ],
         "y": [
          1790,
          1349,
          1190,
          936,
          1093,
          1166,
          1115,
          1094,
          1126,
          1260,
          1340,
          1384
         ]
        },
        {
         "mode": "lines",
         "name": "Monthly Total Rain",
         "type": "scatter",
         "uid": "fbfd7ca6-a193-11e8-9409-0800275aa47c",
         "x": [
          1,
          2,
          3,
          4,
          5,
          6,
          7,
          8,
          9,
          10,
          11,
          12
         ],
         "xaxis": "x2",
         "y": [
          17.5,
          26.5,
          16.2,
          98.3,
          75.10000000000001,
          156.2,
          85.60000000000001,
          104.3,
          97.10000000000002,
          64.8,
          27.8,
          22.5
         ],
         "yaxis": "y2"
        }
       ],
       "layout": {
        "title": "Rain Analysis (2014)",
        "xaxis": {
         "dtick": 1,
         "title": "Month"
        },
        "xaxis2": {
         "anchor": "y2",
         "dtick": 1
        },
        "yaxis": {
         "domain": [
          0,
          0.5
         ],
         "dtick": 500,
         "title": "# of Collisions"
        },
        "yaxis2": {
         "domain": [
          0.55,
          1
         ],
         "title": "Total Rain (mm)"
        }
       }
      },
      "text/html": [
       "<div id=\"60bd4e48-4ff6-4923-91c2-5b0ef03e7f79\" style=\"height: 525px; width: 100%;\" class=\"plotly-graph-div\"></div><script type=\"text/javascript\">require([\"plotly\"], function(Plotly) { window.PLOTLYENV=window.PLOTLYENV || {};window.PLOTLYENV.BASE_URL=\"https://plot.ly\";Plotly.newPlot(\"60bd4e48-4ff6-4923-91c2-5b0ef03e7f79\", [{\"opacity\": 0.6, \"textposition\": \"auto\", \"name\": \"Number of Collisions\", \"text\": [\"1790\", \"1349\", \"1190\", \"936\", \"1093\", \"1166\", \"1115\", \"1094\", \"1126\", \"1260\", \"1340\", \"1384\"], \"y\": [1790.0, 1349.0, 1190.0, 936.0, 1093.0, 1166.0, 1115.0, 1094.0, 1126.0, 1260.0, 1340.0, 1384.0], \"x\": [1.0, 2.0, 3.0, 4.0, 5.0, 6.0, 7.0, 8.0, 9.0, 10.0, 11.0, 12.0], \"type\": \"bar\", \"uid\": \"fc025988-a193-11e8-9409-0800275aa47c\"}, {\"name\": \"Monthly Total Rain\", \"yaxis\": \"y2\", \"mode\": \"lines\", \"xaxis\": \"x2\", \"y\": [17.5, 26.5, 16.2, 98.3, 75.10000000000001, 156.2, 85.60000000000001, 104.3, 97.10000000000002, 64.8, 27.8, 22.5], \"x\": [1.0, 2.0, 3.0, 4.0, 5.0, 6.0, 7.0, 8.0, 9.0, 10.0, 11.0, 12.0], \"type\": \"scatter\", \"uid\": \"fc025bf4-a193-11e8-9409-0800275aa47c\"}], {\"yaxis2\": {\"domain\": [0.55, 1.0], \"title\": \"Total Rain (mm)\"}, \"title\": \"Rain Analysis (2014)\", \"xaxis2\": {\"anchor\": \"y2\", \"dtick\": 1}, \"xaxis\": {\"dtick\": 1, \"title\": \"Month\"}, \"yaxis\": {\"domain\": [0, 0.5], \"dtick\": 500, \"title\": \"# of Collisions\"}}, {\"linkText\": \"Export to plot.ly\", \"showLink\": true})});</script>"
      ],
      "text/vnd.plotly.v1+html": [
       "<div id=\"60bd4e48-4ff6-4923-91c2-5b0ef03e7f79\" style=\"height: 525px; width: 100%;\" class=\"plotly-graph-div\"></div><script type=\"text/javascript\">require([\"plotly\"], function(Plotly) { window.PLOTLYENV=window.PLOTLYENV || {};window.PLOTLYENV.BASE_URL=\"https://plot.ly\";Plotly.newPlot(\"60bd4e48-4ff6-4923-91c2-5b0ef03e7f79\", [{\"opacity\": 0.6, \"textposition\": \"auto\", \"name\": \"Number of Collisions\", \"text\": [\"1790\", \"1349\", \"1190\", \"936\", \"1093\", \"1166\", \"1115\", \"1094\", \"1126\", \"1260\", \"1340\", \"1384\"], \"y\": [1790.0, 1349.0, 1190.0, 936.0, 1093.0, 1166.0, 1115.0, 1094.0, 1126.0, 1260.0, 1340.0, 1384.0], \"x\": [1.0, 2.0, 3.0, 4.0, 5.0, 6.0, 7.0, 8.0, 9.0, 10.0, 11.0, 12.0], \"type\": \"bar\", \"uid\": \"fc025988-a193-11e8-9409-0800275aa47c\"}, {\"name\": \"Monthly Total Rain\", \"yaxis\": \"y2\", \"mode\": \"lines\", \"xaxis\": \"x2\", \"y\": [17.5, 26.5, 16.2, 98.3, 75.10000000000001, 156.2, 85.60000000000001, 104.3, 97.10000000000002, 64.8, 27.8, 22.5], \"x\": [1.0, 2.0, 3.0, 4.0, 5.0, 6.0, 7.0, 8.0, 9.0, 10.0, 11.0, 12.0], \"type\": \"scatter\", \"uid\": \"fc025bf4-a193-11e8-9409-0800275aa47c\"}], {\"yaxis2\": {\"domain\": [0.55, 1.0], \"title\": \"Total Rain (mm)\"}, \"title\": \"Rain Analysis (2014)\", \"xaxis2\": {\"anchor\": \"y2\", \"dtick\": 1}, \"xaxis\": {\"dtick\": 1, \"title\": \"Month\"}, \"yaxis\": {\"domain\": [0, 0.5], \"dtick\": 500, \"title\": \"# of Collisions\"}}, {\"linkText\": \"Export to plot.ly\", \"showLink\": true})});</script>"
      ]
     },
     "metadata": {},
     "output_type": "display_data"
    },
    {
     "data": {
      "application/vnd.plotly.v1+json": {
       "data": [
        {
         "name": "Number of Collisions",
         "opacity": 0.6,
         "text": [
          "2027",
          "1900",
          "1064",
          "901",
          "1115",
          "1219",
          "1115",
          "1058",
          "1133",
          "1199",
          "1249",
          "1098"
         ],
         "textposition": "auto",
         "type": "bar",
         "uid": "fc0f22b2-a193-11e8-9409-0800275aa47c",
         "x": [
          1,
          2,
          3,
          4,
          5,
          6,
          7,
          8,
          9,
          10,
          11,
          12
         ],
         "y": [
          2027,
          1900,
          1064,
          901,
          1115,
          1219,
          1115,
          1058,
          1133,
          1199,
          1249,
          1098
         ]
        },
        {
         "mode": "lines",
         "name": "Monthly Total Rain",
         "type": "scatter",
         "uid": "fc0f2672-a193-11e8-9409-0800275aa47c",
         "x": [
          1,
          2,
          3,
          4,
          5,
          6,
          7,
          8,
          9,
          10,
          11,
          12
         ],
         "xaxis": "x2",
         "y": [
          10.7,
          0,
          8.1,
          57.900000000000006,
          65,
          107.99999999999999,
          63.10000000000001,
          76.49999999999999,
          96.6,
          83.99999999999999,
          32.4,
          61.5
         ],
         "yaxis": "y2"
        }
       ],
       "layout": {
        "title": "Rain Analysis (2015)",
        "xaxis": {
         "dtick": 1,
         "title": "Month"
        },
        "xaxis2": {
         "anchor": "y2",
         "dtick": 1
        },
        "yaxis": {
         "domain": [
          0,
          0.5
         ],
         "dtick": 500,
         "title": "# of Collisions"
        },
        "yaxis2": {
         "domain": [
          0.55,
          1
         ],
         "title": "Total Rain (mm)"
        }
       }
      },
      "text/html": [
       "<div id=\"0e4949f7-bb8b-4188-9a8b-39189fce43d3\" style=\"height: 525px; width: 100%;\" class=\"plotly-graph-div\"></div><script type=\"text/javascript\">require([\"plotly\"], function(Plotly) { window.PLOTLYENV=window.PLOTLYENV || {};window.PLOTLYENV.BASE_URL=\"https://plot.ly\";Plotly.newPlot(\"0e4949f7-bb8b-4188-9a8b-39189fce43d3\", [{\"opacity\": 0.6, \"textposition\": \"auto\", \"name\": \"Number of Collisions\", \"text\": [\"2027\", \"1900\", \"1064\", \"901\", \"1115\", \"1219\", \"1115\", \"1058\", \"1133\", \"1199\", \"1249\", \"1098\"], \"y\": [2027.0, 1900.0, 1064.0, 901.0, 1115.0, 1219.0, 1115.0, 1058.0, 1133.0, 1199.0, 1249.0, 1098.0], \"x\": [1.0, 2.0, 3.0, 4.0, 5.0, 6.0, 7.0, 8.0, 9.0, 10.0, 11.0, 12.0], \"type\": \"bar\", \"uid\": \"fc1612a2-a193-11e8-9409-0800275aa47c\"}, {\"name\": \"Monthly Total Rain\", \"yaxis\": \"y2\", \"mode\": \"lines\", \"xaxis\": \"x2\", \"y\": [10.7, 0.0, 8.1, 57.900000000000006, 65.0, 107.99999999999999, 63.10000000000001, 76.49999999999999, 96.6, 83.99999999999999, 32.4, 61.5], \"x\": [1.0, 2.0, 3.0, 4.0, 5.0, 6.0, 7.0, 8.0, 9.0, 10.0, 11.0, 12.0], \"type\": \"scatter\", \"uid\": \"fc161932-a193-11e8-9409-0800275aa47c\"}], {\"yaxis2\": {\"domain\": [0.55, 1.0], \"title\": \"Total Rain (mm)\"}, \"title\": \"Rain Analysis (2015)\", \"xaxis2\": {\"anchor\": \"y2\", \"dtick\": 1}, \"xaxis\": {\"dtick\": 1, \"title\": \"Month\"}, \"yaxis\": {\"domain\": [0, 0.5], \"dtick\": 500, \"title\": \"# of Collisions\"}}, {\"linkText\": \"Export to plot.ly\", \"showLink\": true})});</script>"
      ],
      "text/vnd.plotly.v1+html": [
       "<div id=\"0e4949f7-bb8b-4188-9a8b-39189fce43d3\" style=\"height: 525px; width: 100%;\" class=\"plotly-graph-div\"></div><script type=\"text/javascript\">require([\"plotly\"], function(Plotly) { window.PLOTLYENV=window.PLOTLYENV || {};window.PLOTLYENV.BASE_URL=\"https://plot.ly\";Plotly.newPlot(\"0e4949f7-bb8b-4188-9a8b-39189fce43d3\", [{\"opacity\": 0.6, \"textposition\": \"auto\", \"name\": \"Number of Collisions\", \"text\": [\"2027\", \"1900\", \"1064\", \"901\", \"1115\", \"1219\", \"1115\", \"1058\", \"1133\", \"1199\", \"1249\", \"1098\"], \"y\": [2027.0, 1900.0, 1064.0, 901.0, 1115.0, 1219.0, 1115.0, 1058.0, 1133.0, 1199.0, 1249.0, 1098.0], \"x\": [1.0, 2.0, 3.0, 4.0, 5.0, 6.0, 7.0, 8.0, 9.0, 10.0, 11.0, 12.0], \"type\": \"bar\", \"uid\": \"fc1612a2-a193-11e8-9409-0800275aa47c\"}, {\"name\": \"Monthly Total Rain\", \"yaxis\": \"y2\", \"mode\": \"lines\", \"xaxis\": \"x2\", \"y\": [10.7, 0.0, 8.1, 57.900000000000006, 65.0, 107.99999999999999, 63.10000000000001, 76.49999999999999, 96.6, 83.99999999999999, 32.4, 61.5], \"x\": [1.0, 2.0, 3.0, 4.0, 5.0, 6.0, 7.0, 8.0, 9.0, 10.0, 11.0, 12.0], \"type\": \"scatter\", \"uid\": \"fc161932-a193-11e8-9409-0800275aa47c\"}], {\"yaxis2\": {\"domain\": [0.55, 1.0], \"title\": \"Total Rain (mm)\"}, \"title\": \"Rain Analysis (2015)\", \"xaxis2\": {\"anchor\": \"y2\", \"dtick\": 1}, \"xaxis\": {\"dtick\": 1, \"title\": \"Month\"}, \"yaxis\": {\"domain\": [0, 0.5], \"dtick\": 500, \"title\": \"# of Collisions\"}}, {\"linkText\": \"Export to plot.ly\", \"showLink\": true})});</script>"
      ]
     },
     "metadata": {},
     "output_type": "display_data"
    },
    {
     "data": {
      "application/vnd.plotly.v1+json": {
       "data": [
        {
         "name": "Number of Collisions",
         "opacity": 0.6,
         "text": [
          "1407",
          "1523",
          "1018",
          "944",
          "1109",
          "1135",
          "1035",
          "976",
          "1073",
          "1111",
          "1155",
          "1537"
         ],
         "textposition": "auto",
         "type": "bar",
         "uid": "fc25254e-a193-11e8-9409-0800275aa47c",
         "x": [
          1,
          2,
          3,
          4,
          5,
          6,
          7,
          8,
          9,
          10,
          11,
          12
         ],
         "y": [
          1407,
          1523,
          1018,
          944,
          1109,
          1135,
          1035,
          976,
          1073,
          1111,
          1155,
          1537
         ]
        },
        {
         "mode": "lines",
         "name": "Monthly Total Rain",
         "type": "scatter",
         "uid": "fc2527ec-a193-11e8-9409-0800275aa47c",
         "x": [
          1,
          2,
          3,
          4,
          5,
          6,
          7,
          8,
          9,
          10,
          11,
          12
         ],
         "xaxis": "x2",
         "y": [
          28.400000000000002,
          41.4,
          78.5,
          20.8,
          26.4,
          56.60000000000001,
          100.8,
          122.4,
          76.60000000000001,
          91.19999999999999,
          47.3,
          15
         ],
         "yaxis": "y2"
        }
       ],
       "layout": {
        "title": "Rain Analysis (2016)",
        "xaxis": {
         "dtick": 1,
         "title": "Month"
        },
        "xaxis2": {
         "anchor": "y2",
         "dtick": 1
        },
        "yaxis": {
         "domain": [
          0,
          0.5
         ],
         "dtick": 500,
         "title": "# of Collisions"
        },
        "yaxis2": {
         "domain": [
          0.55,
          1
         ],
         "title": "Total Rain (mm)"
        }
       }
      },
      "text/html": [
       "<div id=\"67d36ec3-ca6d-44b6-8059-76b28bc77518\" style=\"height: 525px; width: 100%;\" class=\"plotly-graph-div\"></div><script type=\"text/javascript\">require([\"plotly\"], function(Plotly) { window.PLOTLYENV=window.PLOTLYENV || {};window.PLOTLYENV.BASE_URL=\"https://plot.ly\";Plotly.newPlot(\"67d36ec3-ca6d-44b6-8059-76b28bc77518\", [{\"opacity\": 0.6, \"textposition\": \"auto\", \"name\": \"Number of Collisions\", \"text\": [\"1407\", \"1523\", \"1018\", \"944\", \"1109\", \"1135\", \"1035\", \"976\", \"1073\", \"1111\", \"1155\", \"1537\"], \"y\": [1407.0, 1523.0, 1018.0, 944.0, 1109.0, 1135.0, 1035.0, 976.0, 1073.0, 1111.0, 1155.0, 1537.0], \"x\": [1.0, 2.0, 3.0, 4.0, 5.0, 6.0, 7.0, 8.0, 9.0, 10.0, 11.0, 12.0], \"type\": \"bar\", \"uid\": \"fc2aa186-a193-11e8-9409-0800275aa47c\"}, {\"name\": \"Monthly Total Rain\", \"yaxis\": \"y2\", \"mode\": \"lines\", \"xaxis\": \"x2\", \"y\": [28.400000000000002, 41.4, 78.5, 20.8, 26.4, 56.60000000000001, 100.8, 122.4, 76.60000000000001, 91.19999999999999, 47.3, 15.0], \"x\": [1.0, 2.0, 3.0, 4.0, 5.0, 6.0, 7.0, 8.0, 9.0, 10.0, 11.0, 12.0], \"type\": \"scatter\", \"uid\": \"fc2aa474-a193-11e8-9409-0800275aa47c\"}], {\"yaxis2\": {\"domain\": [0.55, 1.0], \"title\": \"Total Rain (mm)\"}, \"title\": \"Rain Analysis (2016)\", \"xaxis2\": {\"anchor\": \"y2\", \"dtick\": 1}, \"xaxis\": {\"dtick\": 1, \"title\": \"Month\"}, \"yaxis\": {\"domain\": [0, 0.5], \"dtick\": 500, \"title\": \"# of Collisions\"}}, {\"linkText\": \"Export to plot.ly\", \"showLink\": true})});</script>"
      ],
      "text/vnd.plotly.v1+html": [
       "<div id=\"67d36ec3-ca6d-44b6-8059-76b28bc77518\" style=\"height: 525px; width: 100%;\" class=\"plotly-graph-div\"></div><script type=\"text/javascript\">require([\"plotly\"], function(Plotly) { window.PLOTLYENV=window.PLOTLYENV || {};window.PLOTLYENV.BASE_URL=\"https://plot.ly\";Plotly.newPlot(\"67d36ec3-ca6d-44b6-8059-76b28bc77518\", [{\"opacity\": 0.6, \"textposition\": \"auto\", \"name\": \"Number of Collisions\", \"text\": [\"1407\", \"1523\", \"1018\", \"944\", \"1109\", \"1135\", \"1035\", \"976\", \"1073\", \"1111\", \"1155\", \"1537\"], \"y\": [1407.0, 1523.0, 1018.0, 944.0, 1109.0, 1135.0, 1035.0, 976.0, 1073.0, 1111.0, 1155.0, 1537.0], \"x\": [1.0, 2.0, 3.0, 4.0, 5.0, 6.0, 7.0, 8.0, 9.0, 10.0, 11.0, 12.0], \"type\": \"bar\", \"uid\": \"fc2aa186-a193-11e8-9409-0800275aa47c\"}, {\"name\": \"Monthly Total Rain\", \"yaxis\": \"y2\", \"mode\": \"lines\", \"xaxis\": \"x2\", \"y\": [28.400000000000002, 41.4, 78.5, 20.8, 26.4, 56.60000000000001, 100.8, 122.4, 76.60000000000001, 91.19999999999999, 47.3, 15.0], \"x\": [1.0, 2.0, 3.0, 4.0, 5.0, 6.0, 7.0, 8.0, 9.0, 10.0, 11.0, 12.0], \"type\": \"scatter\", \"uid\": \"fc2aa474-a193-11e8-9409-0800275aa47c\"}], {\"yaxis2\": {\"domain\": [0.55, 1.0], \"title\": \"Total Rain (mm)\"}, \"title\": \"Rain Analysis (2016)\", \"xaxis2\": {\"anchor\": \"y2\", \"dtick\": 1}, \"xaxis\": {\"dtick\": 1, \"title\": \"Month\"}, \"yaxis\": {\"domain\": [0, 0.5], \"dtick\": 500, \"title\": \"# of Collisions\"}}, {\"linkText\": \"Export to plot.ly\", \"showLink\": true})});</script>"
      ]
     },
     "metadata": {},
     "output_type": "display_data"
    },
    {
     "data": {
      "application/vnd.plotly.v1+json": {
       "data": [
        {
         "name": "Number of Collisions",
         "opacity": 0.6,
         "text": [
          "1275",
          "1279",
          "1224",
          "913",
          "1084",
          "1095",
          "971",
          "990",
          "1176",
          "1139",
          "1493",
          "1755"
         ],
         "textposition": "auto",
         "type": "bar",
         "uid": "fc39995c-a193-11e8-9409-0800275aa47c",
         "x": [
          1,
          2,
          3,
          4,
          5,
          6,
          7,
          8,
          9,
          10,
          11,
          12
         ],
         "y": [
          1275,
          1279,
          1224,
          913,
          1084,
          1095,
          971,
          990,
          1176,
          1139,
          1493,
          1755
         ]
        },
        {
         "mode": "lines",
         "name": "Monthly Total Rain",
         "type": "scatter",
         "uid": "fc399ef2-a193-11e8-9409-0800275aa47c",
         "x": [
          1,
          2,
          3,
          4,
          5,
          6,
          7,
          8,
          9,
          10,
          11,
          12
         ],
         "xaxis": "x2",
         "y": [
          29.299999999999997,
          34,
          37.00000000000001,
          159,
          172.4,
          156.8,
          169.6,
          82.39999999999999,
          51.6,
          142.40000000000003,
          75.80000000000001,
          4.6000000000000005
         ],
         "yaxis": "y2"
        }
       ],
       "layout": {
        "title": "Rain Analysis (2017)",
        "xaxis": {
         "dtick": 1,
         "title": "Month"
        },
        "xaxis2": {
         "anchor": "y2",
         "dtick": 1
        },
        "yaxis": {
         "domain": [
          0,
          0.5
         ],
         "dtick": 500,
         "title": "# of Collisions"
        },
        "yaxis2": {
         "domain": [
          0.55,
          1
         ],
         "title": "Total Rain (mm)"
        }
       }
      },
      "text/html": [
       "<div id=\"61b75c51-2633-403e-b2d1-c46d7312c83b\" style=\"height: 525px; width: 100%;\" class=\"plotly-graph-div\"></div><script type=\"text/javascript\">require([\"plotly\"], function(Plotly) { window.PLOTLYENV=window.PLOTLYENV || {};window.PLOTLYENV.BASE_URL=\"https://plot.ly\";Plotly.newPlot(\"61b75c51-2633-403e-b2d1-c46d7312c83b\", [{\"opacity\": 0.6, \"textposition\": \"auto\", \"name\": \"Number of Collisions\", \"text\": [\"1275\", \"1279\", \"1224\", \"913\", \"1084\", \"1095\", \"971\", \"990\", \"1176\", \"1139\", \"1493\", \"1755\"], \"y\": [1275.0, 1279.0, 1224.0, 913.0, 1084.0, 1095.0, 971.0, 990.0, 1176.0, 1139.0, 1493.0, 1755.0], \"x\": [1.0, 2.0, 3.0, 4.0, 5.0, 6.0, 7.0, 8.0, 9.0, 10.0, 11.0, 12.0], \"type\": \"bar\", \"uid\": \"fc40a288-a193-11e8-9409-0800275aa47c\"}, {\"name\": \"Monthly Total Rain\", \"yaxis\": \"y2\", \"mode\": \"lines\", \"xaxis\": \"x2\", \"y\": [29.299999999999997, 34.0, 37.00000000000001, 159.0, 172.4, 156.8, 169.6, 82.39999999999999, 51.6, 142.40000000000003, 75.80000000000001, 4.6000000000000005], \"x\": [1.0, 2.0, 3.0, 4.0, 5.0, 6.0, 7.0, 8.0, 9.0, 10.0, 11.0, 12.0], \"type\": \"scatter\", \"uid\": \"fc40acba-a193-11e8-9409-0800275aa47c\"}], {\"yaxis2\": {\"domain\": [0.55, 1.0], \"title\": \"Total Rain (mm)\"}, \"title\": \"Rain Analysis (2017)\", \"xaxis2\": {\"anchor\": \"y2\", \"dtick\": 1}, \"xaxis\": {\"dtick\": 1, \"title\": \"Month\"}, \"yaxis\": {\"domain\": [0, 0.5], \"dtick\": 500, \"title\": \"# of Collisions\"}}, {\"linkText\": \"Export to plot.ly\", \"showLink\": true})});</script>"
      ],
      "text/vnd.plotly.v1+html": [
       "<div id=\"61b75c51-2633-403e-b2d1-c46d7312c83b\" style=\"height: 525px; width: 100%;\" class=\"plotly-graph-div\"></div><script type=\"text/javascript\">require([\"plotly\"], function(Plotly) { window.PLOTLYENV=window.PLOTLYENV || {};window.PLOTLYENV.BASE_URL=\"https://plot.ly\";Plotly.newPlot(\"61b75c51-2633-403e-b2d1-c46d7312c83b\", [{\"opacity\": 0.6, \"textposition\": \"auto\", \"name\": \"Number of Collisions\", \"text\": [\"1275\", \"1279\", \"1224\", \"913\", \"1084\", \"1095\", \"971\", \"990\", \"1176\", \"1139\", \"1493\", \"1755\"], \"y\": [1275.0, 1279.0, 1224.0, 913.0, 1084.0, 1095.0, 971.0, 990.0, 1176.0, 1139.0, 1493.0, 1755.0], \"x\": [1.0, 2.0, 3.0, 4.0, 5.0, 6.0, 7.0, 8.0, 9.0, 10.0, 11.0, 12.0], \"type\": \"bar\", \"uid\": \"fc40a288-a193-11e8-9409-0800275aa47c\"}, {\"name\": \"Monthly Total Rain\", \"yaxis\": \"y2\", \"mode\": \"lines\", \"xaxis\": \"x2\", \"y\": [29.299999999999997, 34.0, 37.00000000000001, 159.0, 172.4, 156.8, 169.6, 82.39999999999999, 51.6, 142.40000000000003, 75.80000000000001, 4.6000000000000005], \"x\": [1.0, 2.0, 3.0, 4.0, 5.0, 6.0, 7.0, 8.0, 9.0, 10.0, 11.0, 12.0], \"type\": \"scatter\", \"uid\": \"fc40acba-a193-11e8-9409-0800275aa47c\"}], {\"yaxis2\": {\"domain\": [0.55, 1.0], \"title\": \"Total Rain (mm)\"}, \"title\": \"Rain Analysis (2017)\", \"xaxis2\": {\"anchor\": \"y2\", \"dtick\": 1}, \"xaxis\": {\"dtick\": 1, \"title\": \"Month\"}, \"yaxis\": {\"domain\": [0, 0.5], \"dtick\": 500, \"title\": \"# of Collisions\"}}, {\"linkText\": \"Export to plot.ly\", \"showLink\": true})});</script>"
      ]
     },
     "metadata": {},
     "output_type": "display_data"
    }
   ],
   "source": [
    "df_avg = wt1417.groupby([\"Year\",\"Month\"]).mean()\n",
    "df_avg[\"Year\"] = [x[0] for x in df_avg.index]\n",
    "df_avg[\"Month\"] = [x[1] for x in df_avg.index]\n",
    "\n",
    "df_sum = wt1417.groupby([\"Year\",\"Month\"]).sum()\n",
    "df_sum[\"Year\"] = [x[0] for x in df_sum.index]\n",
    "df_sum[\"Month\"] = [x[1] for x in df_sum.index]\n",
    "\n",
    "def printRainInYear(n):\n",
    "    monthCase = go.Bar(x = df_sum[df_sum[\"Year\"]==n][\"Month\"],\n",
    "                       y = df_sum[df_sum[\"Year\"]==n][\"Number of Collisions\"],\n",
    "                       text = df_sum[df_sum[\"Year\"]==n][\"Number of Collisions\"],\n",
    "                       textposition = 'auto',\n",
    "                       opacity = 0.6,\n",
    "                       name = 'Number of Collisions')\n",
    "    total_rain = go.Scatter(x = df_sum[df_sum[\"Year\"]==n][\"Month\"],\n",
    "                         y = df_sum[df_sum[\"Year\"]==n][\"Total Rain (mm)\"],\n",
    "                         mode = 'lines',\n",
    "                         name = 'Monthly Total Rain',\n",
    "                         xaxis = 'x2', \n",
    "                         yaxis = 'y2')\n",
    "    fig = dict(data = [monthCase, total_rain], \n",
    "               layout = go.Layout(title = \"Rain Analysis (\" + str(n) + \")\",\n",
    "                                  xaxis = dict(title='Month', dtick=1),\n",
    "                                  yaxis = dict(title='# of Collisions', dtick=500, domain = [0,0.5]),\n",
    "                                  yaxis2 = dict(title='Total Rain (mm)', domain = [0.55,1.0]),\n",
    "                                  xaxis2 = dict(dtick=1, anchor = 'y2')\n",
    "                                 )\n",
    "              )\n",
    "    iplot(fig)\n",
    "    \n",
    "for m in range(2014,2018):\n",
    "    printRainInYear(m)"
   ]
  },
  {
   "cell_type": "markdown",
   "metadata": {},
   "source": [
    "**Brief Conclusion:**\n",
    "* No clear relationship between rain and collisions"
   ]
  },
  {
   "cell_type": "code",
   "execution_count": 8,
   "metadata": {},
   "outputs": [
    {
     "data": {
      "application/vnd.plotly.v1+json": {
       "data": [
        {
         "name": "Number of Collisions",
         "opacity": 0.6,
         "text": [
          "1790",
          "1349",
          "1190",
          "936",
          "1093",
          "1166",
          "1115",
          "1094",
          "1126",
          "1260",
          "1340",
          "1384"
         ],
         "textposition": "auto",
         "type": "bar",
         "uid": "0049fbae-a194-11e8-9409-0800275aa47c",
         "x": [
          1,
          2,
          3,
          4,
          5,
          6,
          7,
          8,
          9,
          10,
          11,
          12
         ],
         "y": [
          1790,
          1349,
          1190,
          936,
          1093,
          1166,
          1115,
          1094,
          1126,
          1260,
          1340,
          1384
         ]
        },
        {
         "mode": "lines",
         "name": "Monthly Total Snow",
         "type": "scatter",
         "uid": "0049fe24-a194-11e8-9409-0800275aa47c",
         "x": [
          1,
          2,
          3,
          4,
          5,
          6,
          7,
          8,
          9,
          10,
          11,
          12
         ],
         "xaxis": "x2",
         "y": [
          29.8,
          39.199999999999996,
          44.400000000000006,
          0,
          0,
          0,
          0,
          0,
          0,
          0,
          10.7,
          21.299999999999997
         ],
         "yaxis": "y2"
        }
       ],
       "layout": {
        "title": "Snow Analysis (2014)",
        "xaxis": {
         "dtick": 1,
         "title": "Month"
        },
        "xaxis2": {
         "anchor": "y2",
         "dtick": 1
        },
        "yaxis": {
         "domain": [
          0,
          0.5
         ],
         "dtick": 500,
         "title": "# of Collisions"
        },
        "yaxis2": {
         "domain": [
          0.55,
          1
         ],
         "title": "Total Snow (cm)"
        }
       }
      },
      "text/html": [
       "<div id=\"789e52e2-f139-4217-a3b6-fcec30d434bd\" style=\"height: 525px; width: 100%;\" class=\"plotly-graph-div\"></div><script type=\"text/javascript\">require([\"plotly\"], function(Plotly) { window.PLOTLYENV=window.PLOTLYENV || {};window.PLOTLYENV.BASE_URL=\"https://plot.ly\";Plotly.newPlot(\"789e52e2-f139-4217-a3b6-fcec30d434bd\", [{\"opacity\": 0.6, \"textposition\": \"auto\", \"name\": \"Number of Collisions\", \"text\": [\"1790\", \"1349\", \"1190\", \"936\", \"1093\", \"1166\", \"1115\", \"1094\", \"1126\", \"1260\", \"1340\", \"1384\"], \"y\": [1790.0, 1349.0, 1190.0, 936.0, 1093.0, 1166.0, 1115.0, 1094.0, 1126.0, 1260.0, 1340.0, 1384.0], \"x\": [1.0, 2.0, 3.0, 4.0, 5.0, 6.0, 7.0, 8.0, 9.0, 10.0, 11.0, 12.0], \"type\": \"bar\", \"uid\": \"004f82c2-a194-11e8-9409-0800275aa47c\"}, {\"name\": \"Monthly Total Snow\", \"yaxis\": \"y2\", \"mode\": \"lines\", \"xaxis\": \"x2\", \"y\": [29.8, 39.199999999999996, 44.400000000000006, 0.0, 0.0, 0.0, 0.0, 0.0, 0.0, 0.0, 10.7, 21.299999999999997], \"x\": [1.0, 2.0, 3.0, 4.0, 5.0, 6.0, 7.0, 8.0, 9.0, 10.0, 11.0, 12.0], \"type\": \"scatter\", \"uid\": \"004f851a-a194-11e8-9409-0800275aa47c\"}], {\"yaxis2\": {\"domain\": [0.55, 1.0], \"title\": \"Total Snow (cm)\"}, \"title\": \"Snow Analysis (2014)\", \"xaxis2\": {\"anchor\": \"y2\", \"dtick\": 1}, \"xaxis\": {\"dtick\": 1, \"title\": \"Month\"}, \"yaxis\": {\"domain\": [0, 0.5], \"dtick\": 500, \"title\": \"# of Collisions\"}}, {\"linkText\": \"Export to plot.ly\", \"showLink\": true})});</script>"
      ],
      "text/vnd.plotly.v1+html": [
       "<div id=\"789e52e2-f139-4217-a3b6-fcec30d434bd\" style=\"height: 525px; width: 100%;\" class=\"plotly-graph-div\"></div><script type=\"text/javascript\">require([\"plotly\"], function(Plotly) { window.PLOTLYENV=window.PLOTLYENV || {};window.PLOTLYENV.BASE_URL=\"https://plot.ly\";Plotly.newPlot(\"789e52e2-f139-4217-a3b6-fcec30d434bd\", [{\"opacity\": 0.6, \"textposition\": \"auto\", \"name\": \"Number of Collisions\", \"text\": [\"1790\", \"1349\", \"1190\", \"936\", \"1093\", \"1166\", \"1115\", \"1094\", \"1126\", \"1260\", \"1340\", \"1384\"], \"y\": [1790.0, 1349.0, 1190.0, 936.0, 1093.0, 1166.0, 1115.0, 1094.0, 1126.0, 1260.0, 1340.0, 1384.0], \"x\": [1.0, 2.0, 3.0, 4.0, 5.0, 6.0, 7.0, 8.0, 9.0, 10.0, 11.0, 12.0], \"type\": \"bar\", \"uid\": \"004f82c2-a194-11e8-9409-0800275aa47c\"}, {\"name\": \"Monthly Total Snow\", \"yaxis\": \"y2\", \"mode\": \"lines\", \"xaxis\": \"x2\", \"y\": [29.8, 39.199999999999996, 44.400000000000006, 0.0, 0.0, 0.0, 0.0, 0.0, 0.0, 0.0, 10.7, 21.299999999999997], \"x\": [1.0, 2.0, 3.0, 4.0, 5.0, 6.0, 7.0, 8.0, 9.0, 10.0, 11.0, 12.0], \"type\": \"scatter\", \"uid\": \"004f851a-a194-11e8-9409-0800275aa47c\"}], {\"yaxis2\": {\"domain\": [0.55, 1.0], \"title\": \"Total Snow (cm)\"}, \"title\": \"Snow Analysis (2014)\", \"xaxis2\": {\"anchor\": \"y2\", \"dtick\": 1}, \"xaxis\": {\"dtick\": 1, \"title\": \"Month\"}, \"yaxis\": {\"domain\": [0, 0.5], \"dtick\": 500, \"title\": \"# of Collisions\"}}, {\"linkText\": \"Export to plot.ly\", \"showLink\": true})});</script>"
      ]
     },
     "metadata": {},
     "output_type": "display_data"
    },
    {
     "data": {
      "application/vnd.plotly.v1+json": {
       "data": [
        {
         "name": "Number of Collisions",
         "opacity": 0.6,
         "text": [
          "2027",
          "1900",
          "1064",
          "901",
          "1115",
          "1219",
          "1115",
          "1058",
          "1133",
          "1199",
          "1249",
          "1098"
         ],
         "textposition": "auto",
         "type": "bar",
         "uid": "005c5f74-a194-11e8-9409-0800275aa47c",
         "x": [
          1,
          2,
          3,
          4,
          5,
          6,
          7,
          8,
          9,
          10,
          11,
          12
         ],
         "y": [
          2027,
          1900,
          1064,
          901,
          1115,
          1219,
          1115,
          1058,
          1133,
          1199,
          1249,
          1098
         ]
        },
        {
         "mode": "lines",
         "name": "Monthly Total Snow",
         "type": "scatter",
         "uid": "005c6208-a194-11e8-9409-0800275aa47c",
         "x": [
          1,
          2,
          3,
          4,
          5,
          6,
          7,
          8,
          9,
          10,
          11,
          12
         ],
         "xaxis": "x2",
         "y": [
          45.70000000000001,
          54,
          18.7,
          4,
          0,
          0,
          0,
          0,
          0,
          0,
          1,
          31.299999999999997
         ],
         "yaxis": "y2"
        }
       ],
       "layout": {
        "title": "Snow Analysis (2015)",
        "xaxis": {
         "dtick": 1,
         "title": "Month"
        },
        "xaxis2": {
         "anchor": "y2",
         "dtick": 1
        },
        "yaxis": {
         "domain": [
          0,
          0.5
         ],
         "dtick": 500,
         "title": "# of Collisions"
        },
        "yaxis2": {
         "domain": [
          0.55,
          1
         ],
         "title": "Total Snow (cm)"
        }
       }
      },
      "text/html": [
       "<div id=\"44c9eaa1-772c-492e-adc6-4a5be6236d22\" style=\"height: 525px; width: 100%;\" class=\"plotly-graph-div\"></div><script type=\"text/javascript\">require([\"plotly\"], function(Plotly) { window.PLOTLYENV=window.PLOTLYENV || {};window.PLOTLYENV.BASE_URL=\"https://plot.ly\";Plotly.newPlot(\"44c9eaa1-772c-492e-adc6-4a5be6236d22\", [{\"opacity\": 0.6, \"textposition\": \"auto\", \"name\": \"Number of Collisions\", \"text\": [\"2027\", \"1900\", \"1064\", \"901\", \"1115\", \"1219\", \"1115\", \"1058\", \"1133\", \"1199\", \"1249\", \"1098\"], \"y\": [2027.0, 1900.0, 1064.0, 901.0, 1115.0, 1219.0, 1115.0, 1058.0, 1133.0, 1199.0, 1249.0, 1098.0], \"x\": [1.0, 2.0, 3.0, 4.0, 5.0, 6.0, 7.0, 8.0, 9.0, 10.0, 11.0, 12.0], \"type\": \"bar\", \"uid\": \"00759f66-a194-11e8-9409-0800275aa47c\"}, {\"name\": \"Monthly Total Snow\", \"yaxis\": \"y2\", \"mode\": \"lines\", \"xaxis\": \"x2\", \"y\": [45.70000000000001, 54.0, 18.7, 4.0, 0.0, 0.0, 0.0, 0.0, 0.0, 0.0, 1.0, 31.299999999999997], \"x\": [1.0, 2.0, 3.0, 4.0, 5.0, 6.0, 7.0, 8.0, 9.0, 10.0, 11.0, 12.0], \"type\": \"scatter\", \"uid\": \"0075a2d6-a194-11e8-9409-0800275aa47c\"}], {\"yaxis2\": {\"domain\": [0.55, 1.0], \"title\": \"Total Snow (cm)\"}, \"title\": \"Snow Analysis (2015)\", \"xaxis2\": {\"anchor\": \"y2\", \"dtick\": 1}, \"xaxis\": {\"dtick\": 1, \"title\": \"Month\"}, \"yaxis\": {\"domain\": [0, 0.5], \"dtick\": 500, \"title\": \"# of Collisions\"}}, {\"linkText\": \"Export to plot.ly\", \"showLink\": true})});</script>"
      ],
      "text/vnd.plotly.v1+html": [
       "<div id=\"44c9eaa1-772c-492e-adc6-4a5be6236d22\" style=\"height: 525px; width: 100%;\" class=\"plotly-graph-div\"></div><script type=\"text/javascript\">require([\"plotly\"], function(Plotly) { window.PLOTLYENV=window.PLOTLYENV || {};window.PLOTLYENV.BASE_URL=\"https://plot.ly\";Plotly.newPlot(\"44c9eaa1-772c-492e-adc6-4a5be6236d22\", [{\"opacity\": 0.6, \"textposition\": \"auto\", \"name\": \"Number of Collisions\", \"text\": [\"2027\", \"1900\", \"1064\", \"901\", \"1115\", \"1219\", \"1115\", \"1058\", \"1133\", \"1199\", \"1249\", \"1098\"], \"y\": [2027.0, 1900.0, 1064.0, 901.0, 1115.0, 1219.0, 1115.0, 1058.0, 1133.0, 1199.0, 1249.0, 1098.0], \"x\": [1.0, 2.0, 3.0, 4.0, 5.0, 6.0, 7.0, 8.0, 9.0, 10.0, 11.0, 12.0], \"type\": \"bar\", \"uid\": \"00759f66-a194-11e8-9409-0800275aa47c\"}, {\"name\": \"Monthly Total Snow\", \"yaxis\": \"y2\", \"mode\": \"lines\", \"xaxis\": \"x2\", \"y\": [45.70000000000001, 54.0, 18.7, 4.0, 0.0, 0.0, 0.0, 0.0, 0.0, 0.0, 1.0, 31.299999999999997], \"x\": [1.0, 2.0, 3.0, 4.0, 5.0, 6.0, 7.0, 8.0, 9.0, 10.0, 11.0, 12.0], \"type\": \"scatter\", \"uid\": \"0075a2d6-a194-11e8-9409-0800275aa47c\"}], {\"yaxis2\": {\"domain\": [0.55, 1.0], \"title\": \"Total Snow (cm)\"}, \"title\": \"Snow Analysis (2015)\", \"xaxis2\": {\"anchor\": \"y2\", \"dtick\": 1}, \"xaxis\": {\"dtick\": 1, \"title\": \"Month\"}, \"yaxis\": {\"domain\": [0, 0.5], \"dtick\": 500, \"title\": \"# of Collisions\"}}, {\"linkText\": \"Export to plot.ly\", \"showLink\": true})});</script>"
      ]
     },
     "metadata": {},
     "output_type": "display_data"
    },
    {
     "data": {
      "application/vnd.plotly.v1+json": {
       "data": [
        {
         "name": "Number of Collisions",
         "opacity": 0.6,
         "text": [
          "1407",
          "1523",
          "1018",
          "944",
          "1109",
          "1135",
          "1035",
          "976",
          "1073",
          "1111",
          "1155",
          "1537"
         ],
         "textposition": "auto",
         "type": "bar",
         "uid": "008435c6-a194-11e8-9409-0800275aa47c",
         "x": [
          1,
          2,
          3,
          4,
          5,
          6,
          7,
          8,
          9,
          10,
          11,
          12
         ],
         "y": [
          1407,
          1523,
          1018,
          944,
          1109,
          1135,
          1035,
          976,
          1073,
          1111,
          1155,
          1537
         ]
        },
        {
         "mode": "lines",
         "name": "Monthly Total Snow",
         "type": "scatter",
         "uid": "00843b34-a194-11e8-9409-0800275aa47c",
         "x": [
          1,
          2,
          3,
          4,
          5,
          6,
          7,
          8,
          9,
          10,
          11,
          12
         ],
         "xaxis": "x2",
         "y": [
          30.799999999999997,
          61.1,
          19.5,
          25.200000000000003,
          0,
          0,
          0,
          0,
          0,
          8,
          14.399999999999999,
          84.19999999999999
         ],
         "yaxis": "y2"
        }
       ],
       "layout": {
        "title": "Snow Analysis (2016)",
        "xaxis": {
         "dtick": 1,
         "title": "Month"
        },
        "xaxis2": {
         "anchor": "y2",
         "dtick": 1
        },
        "yaxis": {
         "domain": [
          0,
          0.5
         ],
         "dtick": 500,
         "title": "# of Collisions"
        },
        "yaxis2": {
         "domain": [
          0.55,
          1
         ],
         "title": "Total Snow (cm)"
        }
       }
      },
      "text/html": [
       "<div id=\"eae96c5d-febd-440c-bae5-e75d5483c74f\" style=\"height: 525px; width: 100%;\" class=\"plotly-graph-div\"></div><script type=\"text/javascript\">require([\"plotly\"], function(Plotly) { window.PLOTLYENV=window.PLOTLYENV || {};window.PLOTLYENV.BASE_URL=\"https://plot.ly\";Plotly.newPlot(\"eae96c5d-febd-440c-bae5-e75d5483c74f\", [{\"opacity\": 0.6, \"textposition\": \"auto\", \"name\": \"Number of Collisions\", \"text\": [\"1407\", \"1523\", \"1018\", \"944\", \"1109\", \"1135\", \"1035\", \"976\", \"1073\", \"1111\", \"1155\", \"1537\"], \"y\": [1407.0, 1523.0, 1018.0, 944.0, 1109.0, 1135.0, 1035.0, 976.0, 1073.0, 1111.0, 1155.0, 1537.0], \"x\": [1.0, 2.0, 3.0, 4.0, 5.0, 6.0, 7.0, 8.0, 9.0, 10.0, 11.0, 12.0], \"type\": \"bar\", \"uid\": \"008c6b38-a194-11e8-9409-0800275aa47c\"}, {\"name\": \"Monthly Total Snow\", \"yaxis\": \"y2\", \"mode\": \"lines\", \"xaxis\": \"x2\", \"y\": [30.799999999999997, 61.1, 19.5, 25.200000000000003, 0.0, 0.0, 0.0, 0.0, 0.0, 8.0, 14.399999999999999, 84.19999999999999], \"x\": [1.0, 2.0, 3.0, 4.0, 5.0, 6.0, 7.0, 8.0, 9.0, 10.0, 11.0, 12.0], \"type\": \"scatter\", \"uid\": \"008c6f84-a194-11e8-9409-0800275aa47c\"}], {\"yaxis2\": {\"domain\": [0.55, 1.0], \"title\": \"Total Snow (cm)\"}, \"title\": \"Snow Analysis (2016)\", \"xaxis2\": {\"anchor\": \"y2\", \"dtick\": 1}, \"xaxis\": {\"dtick\": 1, \"title\": \"Month\"}, \"yaxis\": {\"domain\": [0, 0.5], \"dtick\": 500, \"title\": \"# of Collisions\"}}, {\"linkText\": \"Export to plot.ly\", \"showLink\": true})});</script>"
      ],
      "text/vnd.plotly.v1+html": [
       "<div id=\"eae96c5d-febd-440c-bae5-e75d5483c74f\" style=\"height: 525px; width: 100%;\" class=\"plotly-graph-div\"></div><script type=\"text/javascript\">require([\"plotly\"], function(Plotly) { window.PLOTLYENV=window.PLOTLYENV || {};window.PLOTLYENV.BASE_URL=\"https://plot.ly\";Plotly.newPlot(\"eae96c5d-febd-440c-bae5-e75d5483c74f\", [{\"opacity\": 0.6, \"textposition\": \"auto\", \"name\": \"Number of Collisions\", \"text\": [\"1407\", \"1523\", \"1018\", \"944\", \"1109\", \"1135\", \"1035\", \"976\", \"1073\", \"1111\", \"1155\", \"1537\"], \"y\": [1407.0, 1523.0, 1018.0, 944.0, 1109.0, 1135.0, 1035.0, 976.0, 1073.0, 1111.0, 1155.0, 1537.0], \"x\": [1.0, 2.0, 3.0, 4.0, 5.0, 6.0, 7.0, 8.0, 9.0, 10.0, 11.0, 12.0], \"type\": \"bar\", \"uid\": \"008c6b38-a194-11e8-9409-0800275aa47c\"}, {\"name\": \"Monthly Total Snow\", \"yaxis\": \"y2\", \"mode\": \"lines\", \"xaxis\": \"x2\", \"y\": [30.799999999999997, 61.1, 19.5, 25.200000000000003, 0.0, 0.0, 0.0, 0.0, 0.0, 8.0, 14.399999999999999, 84.19999999999999], \"x\": [1.0, 2.0, 3.0, 4.0, 5.0, 6.0, 7.0, 8.0, 9.0, 10.0, 11.0, 12.0], \"type\": \"scatter\", \"uid\": \"008c6f84-a194-11e8-9409-0800275aa47c\"}], {\"yaxis2\": {\"domain\": [0.55, 1.0], \"title\": \"Total Snow (cm)\"}, \"title\": \"Snow Analysis (2016)\", \"xaxis2\": {\"anchor\": \"y2\", \"dtick\": 1}, \"xaxis\": {\"dtick\": 1, \"title\": \"Month\"}, \"yaxis\": {\"domain\": [0, 0.5], \"dtick\": 500, \"title\": \"# of Collisions\"}}, {\"linkText\": \"Export to plot.ly\", \"showLink\": true})});</script>"
      ]
     },
     "metadata": {},
     "output_type": "display_data"
    },
    {
     "data": {
      "application/vnd.plotly.v1+json": {
       "data": [
        {
         "name": "Number of Collisions",
         "opacity": 0.6,
         "text": [
          "1275",
          "1279",
          "1224",
          "913",
          "1084",
          "1095",
          "971",
          "990",
          "1176",
          "1139",
          "1493",
          "1755"
         ],
         "textposition": "auto",
         "type": "bar",
         "uid": "009b0954-a194-11e8-9409-0800275aa47c",
         "x": [
          1,
          2,
          3,
          4,
          5,
          6,
          7,
          8,
          9,
          10,
          11,
          12
         ],
         "y": [
          1275,
          1279,
          1224,
          913,
          1084,
          1095,
          971,
          990,
          1176,
          1139,
          1493,
          1755
         ]
        },
        {
         "mode": "lines",
         "name": "Monthly Total Snow",
         "type": "scatter",
         "uid": "009b0f58-a194-11e8-9409-0800275aa47c",
         "x": [
          1,
          2,
          3,
          4,
          5,
          6,
          7,
          8,
          9,
          10,
          11,
          12
         ],
         "xaxis": "x2",
         "y": [
          36.400000000000006,
          64.6,
          35.4,
          0,
          0,
          0,
          0,
          0,
          0,
          0,
          14.4,
          38.8
         ],
         "yaxis": "y2"
        }
       ],
       "layout": {
        "title": "Snow Analysis (2017)",
        "xaxis": {
         "dtick": 1,
         "title": "Month"
        },
        "xaxis2": {
         "anchor": "y2",
         "dtick": 1
        },
        "yaxis": {
         "domain": [
          0,
          0.5
         ],
         "dtick": 500,
         "title": "# of Collisions"
        },
        "yaxis2": {
         "domain": [
          0.55,
          1
         ],
         "title": "Total Snow (cm)"
        }
       }
      },
      "text/html": [
       "<div id=\"ed24aafc-2563-45c4-831d-bac3acfddf8b\" style=\"height: 525px; width: 100%;\" class=\"plotly-graph-div\"></div><script type=\"text/javascript\">require([\"plotly\"], function(Plotly) { window.PLOTLYENV=window.PLOTLYENV || {};window.PLOTLYENV.BASE_URL=\"https://plot.ly\";Plotly.newPlot(\"ed24aafc-2563-45c4-831d-bac3acfddf8b\", [{\"opacity\": 0.6, \"textposition\": \"auto\", \"name\": \"Number of Collisions\", \"text\": [\"1275\", \"1279\", \"1224\", \"913\", \"1084\", \"1095\", \"971\", \"990\", \"1176\", \"1139\", \"1493\", \"1755\"], \"y\": [1275.0, 1279.0, 1224.0, 913.0, 1084.0, 1095.0, 971.0, 990.0, 1176.0, 1139.0, 1493.0, 1755.0], \"x\": [1.0, 2.0, 3.0, 4.0, 5.0, 6.0, 7.0, 8.0, 9.0, 10.0, 11.0, 12.0], \"type\": \"bar\", \"uid\": \"00a1d810-a194-11e8-9409-0800275aa47c\"}, {\"name\": \"Monthly Total Snow\", \"yaxis\": \"y2\", \"mode\": \"lines\", \"xaxis\": \"x2\", \"y\": [36.400000000000006, 64.6, 35.4, 0.0, 0.0, 0.0, 0.0, 0.0, 0.0, 0.0, 14.4, 38.8], \"x\": [1.0, 2.0, 3.0, 4.0, 5.0, 6.0, 7.0, 8.0, 9.0, 10.0, 11.0, 12.0], \"type\": \"scatter\", \"uid\": \"00a1dd24-a194-11e8-9409-0800275aa47c\"}], {\"yaxis2\": {\"domain\": [0.55, 1.0], \"title\": \"Total Snow (cm)\"}, \"title\": \"Snow Analysis (2017)\", \"xaxis2\": {\"anchor\": \"y2\", \"dtick\": 1}, \"xaxis\": {\"dtick\": 1, \"title\": \"Month\"}, \"yaxis\": {\"domain\": [0, 0.5], \"dtick\": 500, \"title\": \"# of Collisions\"}}, {\"linkText\": \"Export to plot.ly\", \"showLink\": true})});</script>"
      ],
      "text/vnd.plotly.v1+html": [
       "<div id=\"ed24aafc-2563-45c4-831d-bac3acfddf8b\" style=\"height: 525px; width: 100%;\" class=\"plotly-graph-div\"></div><script type=\"text/javascript\">require([\"plotly\"], function(Plotly) { window.PLOTLYENV=window.PLOTLYENV || {};window.PLOTLYENV.BASE_URL=\"https://plot.ly\";Plotly.newPlot(\"ed24aafc-2563-45c4-831d-bac3acfddf8b\", [{\"opacity\": 0.6, \"textposition\": \"auto\", \"name\": \"Number of Collisions\", \"text\": [\"1275\", \"1279\", \"1224\", \"913\", \"1084\", \"1095\", \"971\", \"990\", \"1176\", \"1139\", \"1493\", \"1755\"], \"y\": [1275.0, 1279.0, 1224.0, 913.0, 1084.0, 1095.0, 971.0, 990.0, 1176.0, 1139.0, 1493.0, 1755.0], \"x\": [1.0, 2.0, 3.0, 4.0, 5.0, 6.0, 7.0, 8.0, 9.0, 10.0, 11.0, 12.0], \"type\": \"bar\", \"uid\": \"00a1d810-a194-11e8-9409-0800275aa47c\"}, {\"name\": \"Monthly Total Snow\", \"yaxis\": \"y2\", \"mode\": \"lines\", \"xaxis\": \"x2\", \"y\": [36.400000000000006, 64.6, 35.4, 0.0, 0.0, 0.0, 0.0, 0.0, 0.0, 0.0, 14.4, 38.8], \"x\": [1.0, 2.0, 3.0, 4.0, 5.0, 6.0, 7.0, 8.0, 9.0, 10.0, 11.0, 12.0], \"type\": \"scatter\", \"uid\": \"00a1dd24-a194-11e8-9409-0800275aa47c\"}], {\"yaxis2\": {\"domain\": [0.55, 1.0], \"title\": \"Total Snow (cm)\"}, \"title\": \"Snow Analysis (2017)\", \"xaxis2\": {\"anchor\": \"y2\", \"dtick\": 1}, \"xaxis\": {\"dtick\": 1, \"title\": \"Month\"}, \"yaxis\": {\"domain\": [0, 0.5], \"dtick\": 500, \"title\": \"# of Collisions\"}}, {\"linkText\": \"Export to plot.ly\", \"showLink\": true})});</script>"
      ]
     },
     "metadata": {},
     "output_type": "display_data"
    }
   ],
   "source": [
    "df_avg = wt1417.groupby([\"Year\",\"Month\"]).mean()\n",
    "df_avg[\"Year\"] = [x[0] for x in df_avg.index]\n",
    "df_avg[\"Month\"] = [x[1] for x in df_avg.index]\n",
    "\n",
    "df_sum = wt1417.groupby([\"Year\",\"Month\"]).sum()\n",
    "df_sum[\"Year\"] = [x[0] for x in df_sum.index]\n",
    "df_sum[\"Month\"] = [x[1] for x in df_sum.index]\n",
    "\n",
    "def printSnowInYear(n):\n",
    "    monthCase = go.Bar(x = df_sum[df_sum[\"Year\"]==n][\"Month\"],\n",
    "                       y = df_sum[df_sum[\"Year\"]==n][\"Number of Collisions\"],\n",
    "                       text = df_sum[df_sum[\"Year\"]==n][\"Number of Collisions\"],\n",
    "                       textposition = 'auto',\n",
    "                       opacity = 0.6,\n",
    "                       name = 'Number of Collisions')\n",
    "    total_snow = go.Scatter(x = df_sum[df_sum[\"Year\"]==n][\"Month\"],\n",
    "                         y = df_sum[df_sum[\"Year\"]==n][\"Total Snow (cm)\"],\n",
    "                         mode = 'lines',\n",
    "                         name = 'Monthly Total Snow',\n",
    "                         xaxis = 'x2', \n",
    "                         yaxis = 'y2')\n",
    "    fig = dict(data = [monthCase, total_snow], \n",
    "               layout = go.Layout(title = \"Snow Analysis (\" + str(n) + \")\",\n",
    "                                  xaxis = dict(title='Month', dtick=1),\n",
    "                                  yaxis = dict(title='# of Collisions', dtick=500, domain = [0,0.5]),\n",
    "                                  yaxis2 = dict(title='Total Snow (cm)', domain = [0.55,1.0]),\n",
    "                                  xaxis2 = dict(dtick=1, anchor = 'y2')\n",
    "                                 )\n",
    "              )\n",
    "    iplot(fig)\n",
    "    \n",
    "for m in range(2014,2018):\n",
    "    printSnowInYear(m)"
   ]
  },
  {
   "cell_type": "code",
   "execution_count": 18,
   "metadata": {},
   "outputs": [
    {
     "data": {
      "application/vnd.plotly.v1+json": {
       "data": [
        {
         "name": "Number of Collisions",
         "opacity": 0.6,
         "text": [
          "1790",
          "1349",
          "1190",
          "936",
          "1093",
          "1166",
          "1115",
          "1094",
          "1126",
          "1260",
          "1340",
          "1384"
         ],
         "textposition": "auto",
         "type": "bar",
         "uid": "28ec24b4-a1a4-11e8-9409-0800275aa47c",
         "x": [
          1,
          2,
          3,
          4,
          5,
          6,
          7,
          8,
          9,
          10,
          11,
          12
         ],
         "y": [
          1790,
          1349,
          1190,
          936,
          1093,
          1166,
          1115,
          1094,
          1126,
          1260,
          1340,
          1384
         ]
        },
        {
         "mode": "lines",
         "name": "Monthly Total Snow on Ground",
         "type": "scatter",
         "uid": "28ec277a-a1a4-11e8-9409-0800275aa47c",
         "x": [
          1,
          2,
          3,
          4,
          5,
          6,
          7,
          8,
          9,
          10,
          11,
          12
         ],
         "xaxis": "x2",
         "y": [
          771,
          1067,
          1214,
          219,
          0,
          0,
          0,
          0,
          0,
          0,
          13,
          116
         ],
         "yaxis": "y2"
        }
       ],
       "layout": {
        "title": "Snow on Ground Analysis (2014)",
        "xaxis": {
         "dtick": 1,
         "title": "Month"
        },
        "xaxis2": {
         "anchor": "y2",
         "dtick": 1
        },
        "yaxis": {
         "domain": [
          0,
          0.5
         ],
         "dtick": 500,
         "title": "# of Collisions"
        },
        "yaxis2": {
         "domain": [
          0.55,
          1
         ],
         "title": "Snow on Grnd (cm)"
        }
       }
      },
      "text/html": [
       "<div id=\"e2ad374b-7dce-4e6a-87b8-683887234881\" style=\"height: 525px; width: 100%;\" class=\"plotly-graph-div\"></div><script type=\"text/javascript\">require([\"plotly\"], function(Plotly) { window.PLOTLYENV=window.PLOTLYENV || {};window.PLOTLYENV.BASE_URL=\"https://plot.ly\";Plotly.newPlot(\"e2ad374b-7dce-4e6a-87b8-683887234881\", [{\"opacity\": 0.6, \"textposition\": \"auto\", \"name\": \"Number of Collisions\", \"text\": [\"1790\", \"1349\", \"1190\", \"936\", \"1093\", \"1166\", \"1115\", \"1094\", \"1126\", \"1260\", \"1340\", \"1384\"], \"y\": [1790.0, 1349.0, 1190.0, 936.0, 1093.0, 1166.0, 1115.0, 1094.0, 1126.0, 1260.0, 1340.0, 1384.0], \"x\": [1.0, 2.0, 3.0, 4.0, 5.0, 6.0, 7.0, 8.0, 9.0, 10.0, 11.0, 12.0], \"type\": \"bar\", \"uid\": \"28f07c8a-a1a4-11e8-9409-0800275aa47c\"}, {\"name\": \"Monthly Total Snow on Ground\", \"yaxis\": \"y2\", \"mode\": \"lines\", \"xaxis\": \"x2\", \"y\": [771.0, 1067.0, 1214.0, 219.0, 0.0, 0.0, 0.0, 0.0, 0.0, 0.0, 13.0, 116.0], \"x\": [1.0, 2.0, 3.0, 4.0, 5.0, 6.0, 7.0, 8.0, 9.0, 10.0, 11.0, 12.0], \"type\": \"scatter\", \"uid\": \"28f07eec-a1a4-11e8-9409-0800275aa47c\"}], {\"yaxis2\": {\"domain\": [0.55, 1.0], \"title\": \"Snow on Grnd (cm)\"}, \"title\": \"Snow on Ground Analysis (2014)\", \"xaxis2\": {\"anchor\": \"y2\", \"dtick\": 1}, \"xaxis\": {\"dtick\": 1, \"title\": \"Month\"}, \"yaxis\": {\"domain\": [0, 0.5], \"dtick\": 500, \"title\": \"# of Collisions\"}}, {\"linkText\": \"Export to plot.ly\", \"showLink\": true})});</script>"
      ],
      "text/vnd.plotly.v1+html": [
       "<div id=\"e2ad374b-7dce-4e6a-87b8-683887234881\" style=\"height: 525px; width: 100%;\" class=\"plotly-graph-div\"></div><script type=\"text/javascript\">require([\"plotly\"], function(Plotly) { window.PLOTLYENV=window.PLOTLYENV || {};window.PLOTLYENV.BASE_URL=\"https://plot.ly\";Plotly.newPlot(\"e2ad374b-7dce-4e6a-87b8-683887234881\", [{\"opacity\": 0.6, \"textposition\": \"auto\", \"name\": \"Number of Collisions\", \"text\": [\"1790\", \"1349\", \"1190\", \"936\", \"1093\", \"1166\", \"1115\", \"1094\", \"1126\", \"1260\", \"1340\", \"1384\"], \"y\": [1790.0, 1349.0, 1190.0, 936.0, 1093.0, 1166.0, 1115.0, 1094.0, 1126.0, 1260.0, 1340.0, 1384.0], \"x\": [1.0, 2.0, 3.0, 4.0, 5.0, 6.0, 7.0, 8.0, 9.0, 10.0, 11.0, 12.0], \"type\": \"bar\", \"uid\": \"28f07c8a-a1a4-11e8-9409-0800275aa47c\"}, {\"name\": \"Monthly Total Snow on Ground\", \"yaxis\": \"y2\", \"mode\": \"lines\", \"xaxis\": \"x2\", \"y\": [771.0, 1067.0, 1214.0, 219.0, 0.0, 0.0, 0.0, 0.0, 0.0, 0.0, 13.0, 116.0], \"x\": [1.0, 2.0, 3.0, 4.0, 5.0, 6.0, 7.0, 8.0, 9.0, 10.0, 11.0, 12.0], \"type\": \"scatter\", \"uid\": \"28f07eec-a1a4-11e8-9409-0800275aa47c\"}], {\"yaxis2\": {\"domain\": [0.55, 1.0], \"title\": \"Snow on Grnd (cm)\"}, \"title\": \"Snow on Ground Analysis (2014)\", \"xaxis2\": {\"anchor\": \"y2\", \"dtick\": 1}, \"xaxis\": {\"dtick\": 1, \"title\": \"Month\"}, \"yaxis\": {\"domain\": [0, 0.5], \"dtick\": 500, \"title\": \"# of Collisions\"}}, {\"linkText\": \"Export to plot.ly\", \"showLink\": true})});</script>"
      ]
     },
     "metadata": {},
     "output_type": "display_data"
    },
    {
     "data": {
      "application/vnd.plotly.v1+json": {
       "data": [
        {
         "name": "Number of Collisions",
         "opacity": 0.6,
         "text": [
          "2027",
          "1900",
          "1064",
          "901",
          "1115",
          "1219",
          "1115",
          "1058",
          "1133",
          "1199",
          "1249",
          "1098"
         ],
         "textposition": "auto",
         "type": "bar",
         "uid": "2907acde-a1a4-11e8-9409-0800275aa47c",
         "x": [
          1,
          2,
          3,
          4,
          5,
          6,
          7,
          8,
          9,
          10,
          11,
          12
         ],
         "y": [
          2027,
          1900,
          1064,
          901,
          1115,
          1219,
          1115,
          1058,
          1133,
          1199,
          1249,
          1098
         ]
        },
        {
         "mode": "lines",
         "name": "Monthly Total Snow on Ground",
         "type": "scatter",
         "uid": "2907af90-a1a4-11e8-9409-0800275aa47c",
         "x": [
          1,
          2,
          3,
          4,
          5,
          6,
          7,
          8,
          9,
          10,
          11,
          12
         ],
         "xaxis": "x2",
         "y": [
          257,
          790,
          840,
          31,
          0,
          0,
          0,
          0,
          0,
          0,
          1,
          47
         ],
         "yaxis": "y2"
        }
       ],
       "layout": {
        "title": "Snow on Ground Analysis (2015)",
        "xaxis": {
         "dtick": 1,
         "title": "Month"
        },
        "xaxis2": {
         "anchor": "y2",
         "dtick": 1
        },
        "yaxis": {
         "domain": [
          0,
          0.5
         ],
         "dtick": 500,
         "title": "# of Collisions"
        },
        "yaxis2": {
         "domain": [
          0.55,
          1
         ],
         "title": "Snow on Grnd (cm)"
        }
       }
      },
      "text/html": [
       "<div id=\"dccf2432-9f43-4d4d-95b6-e852197b879b\" style=\"height: 525px; width: 100%;\" class=\"plotly-graph-div\"></div><script type=\"text/javascript\">require([\"plotly\"], function(Plotly) { window.PLOTLYENV=window.PLOTLYENV || {};window.PLOTLYENV.BASE_URL=\"https://plot.ly\";Plotly.newPlot(\"dccf2432-9f43-4d4d-95b6-e852197b879b\", [{\"opacity\": 0.6, \"textposition\": \"auto\", \"name\": \"Number of Collisions\", \"text\": [\"2027\", \"1900\", \"1064\", \"901\", \"1115\", \"1219\", \"1115\", \"1058\", \"1133\", \"1199\", \"1249\", \"1098\"], \"y\": [2027.0, 1900.0, 1064.0, 901.0, 1115.0, 1219.0, 1115.0, 1058.0, 1133.0, 1199.0, 1249.0, 1098.0], \"x\": [1.0, 2.0, 3.0, 4.0, 5.0, 6.0, 7.0, 8.0, 9.0, 10.0, 11.0, 12.0], \"type\": \"bar\", \"uid\": \"290c2ac0-a1a4-11e8-9409-0800275aa47c\"}, {\"name\": \"Monthly Total Snow on Ground\", \"yaxis\": \"y2\", \"mode\": \"lines\", \"xaxis\": \"x2\", \"y\": [257.0, 790.0, 840.0, 31.0, 0.0, 0.0, 0.0, 0.0, 0.0, 0.0, 1.0, 47.0], \"x\": [1.0, 2.0, 3.0, 4.0, 5.0, 6.0, 7.0, 8.0, 9.0, 10.0, 11.0, 12.0], \"type\": \"scatter\", \"uid\": \"290c2d22-a1a4-11e8-9409-0800275aa47c\"}], {\"yaxis2\": {\"domain\": [0.55, 1.0], \"title\": \"Snow on Grnd (cm)\"}, \"title\": \"Snow on Ground Analysis (2015)\", \"xaxis2\": {\"anchor\": \"y2\", \"dtick\": 1}, \"xaxis\": {\"dtick\": 1, \"title\": \"Month\"}, \"yaxis\": {\"domain\": [0, 0.5], \"dtick\": 500, \"title\": \"# of Collisions\"}}, {\"linkText\": \"Export to plot.ly\", \"showLink\": true})});</script>"
      ],
      "text/vnd.plotly.v1+html": [
       "<div id=\"dccf2432-9f43-4d4d-95b6-e852197b879b\" style=\"height: 525px; width: 100%;\" class=\"plotly-graph-div\"></div><script type=\"text/javascript\">require([\"plotly\"], function(Plotly) { window.PLOTLYENV=window.PLOTLYENV || {};window.PLOTLYENV.BASE_URL=\"https://plot.ly\";Plotly.newPlot(\"dccf2432-9f43-4d4d-95b6-e852197b879b\", [{\"opacity\": 0.6, \"textposition\": \"auto\", \"name\": \"Number of Collisions\", \"text\": [\"2027\", \"1900\", \"1064\", \"901\", \"1115\", \"1219\", \"1115\", \"1058\", \"1133\", \"1199\", \"1249\", \"1098\"], \"y\": [2027.0, 1900.0, 1064.0, 901.0, 1115.0, 1219.0, 1115.0, 1058.0, 1133.0, 1199.0, 1249.0, 1098.0], \"x\": [1.0, 2.0, 3.0, 4.0, 5.0, 6.0, 7.0, 8.0, 9.0, 10.0, 11.0, 12.0], \"type\": \"bar\", \"uid\": \"290c2ac0-a1a4-11e8-9409-0800275aa47c\"}, {\"name\": \"Monthly Total Snow on Ground\", \"yaxis\": \"y2\", \"mode\": \"lines\", \"xaxis\": \"x2\", \"y\": [257.0, 790.0, 840.0, 31.0, 0.0, 0.0, 0.0, 0.0, 0.0, 0.0, 1.0, 47.0], \"x\": [1.0, 2.0, 3.0, 4.0, 5.0, 6.0, 7.0, 8.0, 9.0, 10.0, 11.0, 12.0], \"type\": \"scatter\", \"uid\": \"290c2d22-a1a4-11e8-9409-0800275aa47c\"}], {\"yaxis2\": {\"domain\": [0.55, 1.0], \"title\": \"Snow on Grnd (cm)\"}, \"title\": \"Snow on Ground Analysis (2015)\", \"xaxis2\": {\"anchor\": \"y2\", \"dtick\": 1}, \"xaxis\": {\"dtick\": 1, \"title\": \"Month\"}, \"yaxis\": {\"domain\": [0, 0.5], \"dtick\": 500, \"title\": \"# of Collisions\"}}, {\"linkText\": \"Export to plot.ly\", \"showLink\": true})});</script>"
      ]
     },
     "metadata": {},
     "output_type": "display_data"
    },
    {
     "data": {
      "application/vnd.plotly.v1+json": {
       "data": [
        {
         "name": "Number of Collisions",
         "opacity": 0.6,
         "text": [
          "1407",
          "1523",
          "1018",
          "944",
          "1109",
          "1135",
          "1035",
          "976",
          "1073",
          "1111",
          "1155",
          "1537"
         ],
         "textposition": "auto",
         "type": "bar",
         "uid": "29159538-a1a4-11e8-9409-0800275aa47c",
         "x": [
          1,
          2,
          3,
          4,
          5,
          6,
          7,
          8,
          9,
          10,
          11,
          12
         ],
         "y": [
          1407,
          1523,
          1018,
          944,
          1109,
          1135,
          1035,
          976,
          1073,
          1111,
          1155,
          1537
         ]
        },
        {
         "mode": "lines",
         "name": "Monthly Total Snow on Ground",
         "type": "scatter",
         "uid": "291597cc-a1a4-11e8-9409-0800275aa47c",
         "x": [
          1,
          2,
          3,
          4,
          5,
          6,
          7,
          8,
          9,
          10,
          11,
          12
         ],
         "xaxis": "x2",
         "y": [
          391,
          496,
          376,
          33,
          0,
          0,
          0,
          0,
          0,
          2,
          29,
          369
         ],
         "yaxis": "y2"
        }
       ],
       "layout": {
        "title": "Snow on Ground Analysis (2016)",
        "xaxis": {
         "dtick": 1,
         "title": "Month"
        },
        "xaxis2": {
         "anchor": "y2",
         "dtick": 1
        },
        "yaxis": {
         "domain": [
          0,
          0.5
         ],
         "dtick": 500,
         "title": "# of Collisions"
        },
        "yaxis2": {
         "domain": [
          0.55,
          1
         ],
         "title": "Snow on Grnd (cm)"
        }
       }
      },
      "text/html": [
       "<div id=\"446a679f-260a-41e1-9bc0-02c8e85911d5\" style=\"height: 525px; width: 100%;\" class=\"plotly-graph-div\"></div><script type=\"text/javascript\">require([\"plotly\"], function(Plotly) { window.PLOTLYENV=window.PLOTLYENV || {};window.PLOTLYENV.BASE_URL=\"https://plot.ly\";Plotly.newPlot(\"446a679f-260a-41e1-9bc0-02c8e85911d5\", [{\"opacity\": 0.6, \"textposition\": \"auto\", \"name\": \"Number of Collisions\", \"text\": [\"1407\", \"1523\", \"1018\", \"944\", \"1109\", \"1135\", \"1035\", \"976\", \"1073\", \"1111\", \"1155\", \"1537\"], \"y\": [1407.0, 1523.0, 1018.0, 944.0, 1109.0, 1135.0, 1035.0, 976.0, 1073.0, 1111.0, 1155.0, 1537.0], \"x\": [1.0, 2.0, 3.0, 4.0, 5.0, 6.0, 7.0, 8.0, 9.0, 10.0, 11.0, 12.0], \"type\": \"bar\", \"uid\": \"2919d666-a1a4-11e8-9409-0800275aa47c\"}, {\"name\": \"Monthly Total Snow on Ground\", \"yaxis\": \"y2\", \"mode\": \"lines\", \"xaxis\": \"x2\", \"y\": [391.0, 496.0, 376.0, 33.0, 0.0, 0.0, 0.0, 0.0, 0.0, 2.0, 29.0, 369.0], \"x\": [1.0, 2.0, 3.0, 4.0, 5.0, 6.0, 7.0, 8.0, 9.0, 10.0, 11.0, 12.0], \"type\": \"scatter\", \"uid\": \"2919d8fa-a1a4-11e8-9409-0800275aa47c\"}], {\"yaxis2\": {\"domain\": [0.55, 1.0], \"title\": \"Snow on Grnd (cm)\"}, \"title\": \"Snow on Ground Analysis (2016)\", \"xaxis2\": {\"anchor\": \"y2\", \"dtick\": 1}, \"xaxis\": {\"dtick\": 1, \"title\": \"Month\"}, \"yaxis\": {\"domain\": [0, 0.5], \"dtick\": 500, \"title\": \"# of Collisions\"}}, {\"linkText\": \"Export to plot.ly\", \"showLink\": true})});</script>"
      ],
      "text/vnd.plotly.v1+html": [
       "<div id=\"446a679f-260a-41e1-9bc0-02c8e85911d5\" style=\"height: 525px; width: 100%;\" class=\"plotly-graph-div\"></div><script type=\"text/javascript\">require([\"plotly\"], function(Plotly) { window.PLOTLYENV=window.PLOTLYENV || {};window.PLOTLYENV.BASE_URL=\"https://plot.ly\";Plotly.newPlot(\"446a679f-260a-41e1-9bc0-02c8e85911d5\", [{\"opacity\": 0.6, \"textposition\": \"auto\", \"name\": \"Number of Collisions\", \"text\": [\"1407\", \"1523\", \"1018\", \"944\", \"1109\", \"1135\", \"1035\", \"976\", \"1073\", \"1111\", \"1155\", \"1537\"], \"y\": [1407.0, 1523.0, 1018.0, 944.0, 1109.0, 1135.0, 1035.0, 976.0, 1073.0, 1111.0, 1155.0, 1537.0], \"x\": [1.0, 2.0, 3.0, 4.0, 5.0, 6.0, 7.0, 8.0, 9.0, 10.0, 11.0, 12.0], \"type\": \"bar\", \"uid\": \"2919d666-a1a4-11e8-9409-0800275aa47c\"}, {\"name\": \"Monthly Total Snow on Ground\", \"yaxis\": \"y2\", \"mode\": \"lines\", \"xaxis\": \"x2\", \"y\": [391.0, 496.0, 376.0, 33.0, 0.0, 0.0, 0.0, 0.0, 0.0, 2.0, 29.0, 369.0], \"x\": [1.0, 2.0, 3.0, 4.0, 5.0, 6.0, 7.0, 8.0, 9.0, 10.0, 11.0, 12.0], \"type\": \"scatter\", \"uid\": \"2919d8fa-a1a4-11e8-9409-0800275aa47c\"}], {\"yaxis2\": {\"domain\": [0.55, 1.0], \"title\": \"Snow on Grnd (cm)\"}, \"title\": \"Snow on Ground Analysis (2016)\", \"xaxis2\": {\"anchor\": \"y2\", \"dtick\": 1}, \"xaxis\": {\"dtick\": 1, \"title\": \"Month\"}, \"yaxis\": {\"domain\": [0, 0.5], \"dtick\": 500, \"title\": \"# of Collisions\"}}, {\"linkText\": \"Export to plot.ly\", \"showLink\": true})});</script>"
      ]
     },
     "metadata": {},
     "output_type": "display_data"
    },
    {
     "data": {
      "application/vnd.plotly.v1+json": {
       "data": [
        {
         "name": "Number of Collisions",
         "opacity": 0.6,
         "text": [
          "1275",
          "1279",
          "1224",
          "913",
          "1084",
          "1095",
          "971",
          "990",
          "1176",
          "1139",
          "1493",
          "1755"
         ],
         "textposition": "auto",
         "type": "bar",
         "uid": "2923746e-a1a4-11e8-9409-0800275aa47c",
         "x": [
          1,
          2,
          3,
          4,
          5,
          6,
          7,
          8,
          9,
          10,
          11,
          12
         ],
         "y": [
          1275,
          1279,
          1224,
          913,
          1084,
          1095,
          971,
          990,
          1176,
          1139,
          1493,
          1755
         ]
        },
        {
         "mode": "lines",
         "name": "Monthly Total Snow on Ground",
         "type": "scatter",
         "uid": "292377ca-a1a4-11e8-9409-0800275aa47c",
         "x": [
          1,
          2,
          3,
          4,
          5,
          6,
          7,
          8,
          9,
          10,
          11,
          12
         ],
         "xaxis": "x2",
         "y": [
          742,
          964,
          485,
          6,
          0,
          0,
          0,
          0,
          0,
          0,
          26,
          311
         ],
         "yaxis": "y2"
        }
       ],
       "layout": {
        "title": "Snow on Ground Analysis (2017)",
        "xaxis": {
         "dtick": 1,
         "title": "Month"
        },
        "xaxis2": {
         "anchor": "y2",
         "dtick": 1
        },
        "yaxis": {
         "domain": [
          0,
          0.5
         ],
         "dtick": 500,
         "title": "# of Collisions"
        },
        "yaxis2": {
         "domain": [
          0.55,
          1
         ],
         "title": "Snow on Grnd (cm)"
        }
       }
      },
      "text/html": [
       "<div id=\"311ce9e4-faf6-45cd-8d29-5b3b01fdefaf\" style=\"height: 525px; width: 100%;\" class=\"plotly-graph-div\"></div><script type=\"text/javascript\">require([\"plotly\"], function(Plotly) { window.PLOTLYENV=window.PLOTLYENV || {};window.PLOTLYENV.BASE_URL=\"https://plot.ly\";Plotly.newPlot(\"311ce9e4-faf6-45cd-8d29-5b3b01fdefaf\", [{\"opacity\": 0.6, \"textposition\": \"auto\", \"name\": \"Number of Collisions\", \"text\": [\"1275\", \"1279\", \"1224\", \"913\", \"1084\", \"1095\", \"971\", \"990\", \"1176\", \"1139\", \"1493\", \"1755\"], \"y\": [1275.0, 1279.0, 1224.0, 913.0, 1084.0, 1095.0, 971.0, 990.0, 1176.0, 1139.0, 1493.0, 1755.0], \"x\": [1.0, 2.0, 3.0, 4.0, 5.0, 6.0, 7.0, 8.0, 9.0, 10.0, 11.0, 12.0], \"type\": \"bar\", \"uid\": \"2927b402-a1a4-11e8-9409-0800275aa47c\"}, {\"name\": \"Monthly Total Snow on Ground\", \"yaxis\": \"y2\", \"mode\": \"lines\", \"xaxis\": \"x2\", \"y\": [742.0, 964.0, 485.0, 6.0, 0.0, 0.0, 0.0, 0.0, 0.0, 0.0, 26.0, 311.0], \"x\": [1.0, 2.0, 3.0, 4.0, 5.0, 6.0, 7.0, 8.0, 9.0, 10.0, 11.0, 12.0], \"type\": \"scatter\", \"uid\": \"2927b6aa-a1a4-11e8-9409-0800275aa47c\"}], {\"yaxis2\": {\"domain\": [0.55, 1.0], \"title\": \"Snow on Grnd (cm)\"}, \"title\": \"Snow on Ground Analysis (2017)\", \"xaxis2\": {\"anchor\": \"y2\", \"dtick\": 1}, \"xaxis\": {\"dtick\": 1, \"title\": \"Month\"}, \"yaxis\": {\"domain\": [0, 0.5], \"dtick\": 500, \"title\": \"# of Collisions\"}}, {\"linkText\": \"Export to plot.ly\", \"showLink\": true})});</script>"
      ],
      "text/vnd.plotly.v1+html": [
       "<div id=\"311ce9e4-faf6-45cd-8d29-5b3b01fdefaf\" style=\"height: 525px; width: 100%;\" class=\"plotly-graph-div\"></div><script type=\"text/javascript\">require([\"plotly\"], function(Plotly) { window.PLOTLYENV=window.PLOTLYENV || {};window.PLOTLYENV.BASE_URL=\"https://plot.ly\";Plotly.newPlot(\"311ce9e4-faf6-45cd-8d29-5b3b01fdefaf\", [{\"opacity\": 0.6, \"textposition\": \"auto\", \"name\": \"Number of Collisions\", \"text\": [\"1275\", \"1279\", \"1224\", \"913\", \"1084\", \"1095\", \"971\", \"990\", \"1176\", \"1139\", \"1493\", \"1755\"], \"y\": [1275.0, 1279.0, 1224.0, 913.0, 1084.0, 1095.0, 971.0, 990.0, 1176.0, 1139.0, 1493.0, 1755.0], \"x\": [1.0, 2.0, 3.0, 4.0, 5.0, 6.0, 7.0, 8.0, 9.0, 10.0, 11.0, 12.0], \"type\": \"bar\", \"uid\": \"2927b402-a1a4-11e8-9409-0800275aa47c\"}, {\"name\": \"Monthly Total Snow on Ground\", \"yaxis\": \"y2\", \"mode\": \"lines\", \"xaxis\": \"x2\", \"y\": [742.0, 964.0, 485.0, 6.0, 0.0, 0.0, 0.0, 0.0, 0.0, 0.0, 26.0, 311.0], \"x\": [1.0, 2.0, 3.0, 4.0, 5.0, 6.0, 7.0, 8.0, 9.0, 10.0, 11.0, 12.0], \"type\": \"scatter\", \"uid\": \"2927b6aa-a1a4-11e8-9409-0800275aa47c\"}], {\"yaxis2\": {\"domain\": [0.55, 1.0], \"title\": \"Snow on Grnd (cm)\"}, \"title\": \"Snow on Ground Analysis (2017)\", \"xaxis2\": {\"anchor\": \"y2\", \"dtick\": 1}, \"xaxis\": {\"dtick\": 1, \"title\": \"Month\"}, \"yaxis\": {\"domain\": [0, 0.5], \"dtick\": 500, \"title\": \"# of Collisions\"}}, {\"linkText\": \"Export to plot.ly\", \"showLink\": true})});</script>"
      ]
     },
     "metadata": {},
     "output_type": "display_data"
    }
   ],
   "source": [
    "df_avg = wt1417.groupby([\"Year\",\"Month\"]).mean()\n",
    "df_avg[\"Year\"] = [x[0] for x in df_avg.index]\n",
    "df_avg[\"Month\"] = [x[1] for x in df_avg.index]\n",
    "\n",
    "df_sum = wt1417.groupby([\"Year\",\"Month\"]).sum()\n",
    "df_sum[\"Year\"] = [x[0] for x in df_sum.index]\n",
    "df_sum[\"Month\"] = [x[1] for x in df_sum.index]\n",
    "\n",
    "def printSnowOnGrndInYear(n):\n",
    "    monthCase = go.Bar(x = df_sum[df_sum[\"Year\"]==n][\"Month\"],\n",
    "                       y = df_sum[df_sum[\"Year\"]==n][\"Number of Collisions\"],\n",
    "                       text = df_sum[df_sum[\"Year\"]==n][\"Number of Collisions\"],\n",
    "                       textposition = 'auto',\n",
    "                       opacity = 0.6,\n",
    "                       name = 'Number of Collisions')\n",
    "    total_snowOnGrnd = go.Scatter(x = df_sum[df_sum[\"Year\"]==n][\"Month\"],\n",
    "                         y = df_sum[df_sum[\"Year\"]==n][\"Snow on Grnd (cm)\"],\n",
    "                         mode = 'lines',\n",
    "                         name = 'Monthly Total Snow on Ground',\n",
    "                         xaxis = 'x2', \n",
    "                         yaxis = 'y2')\n",
    "    fig = dict(data = [monthCase, total_snowOnGrnd], \n",
    "               layout = go.Layout(title = \"Snow on Ground Analysis (\" + str(n) + \")\",\n",
    "                                  xaxis = dict(title='Month', dtick=1),\n",
    "                                  yaxis = dict(title='# of Collisions', dtick=500, domain = [0,0.5]),\n",
    "                                  yaxis2 = dict(title='Snow on Grnd (cm)', domain = [0.55,1.0]),\n",
    "                                  xaxis2 = dict(dtick=1, anchor = 'y2')\n",
    "                                 )\n",
    "              )\n",
    "    iplot(fig)\n",
    "    \n",
    "for m in range(2014,2018):\n",
    "    printSnowOnGrndInYear(m)"
   ]
  },
  {
   "cell_type": "markdown",
   "metadata": {},
   "source": [
    "**Brief Conclusion:**\n",
    "* The curve of monthly snowfall and snow on ground is similar to the trend of monthly collisions. \n",
    "**Hypothesis:**\n",
    "* Snowy weather causes collisions from the perspective of reducing visibility and grip. "
   ]
  },
  {
   "cell_type": "code",
   "execution_count": 15,
   "metadata": {},
   "outputs": [
    {
     "data": {
      "application/vnd.plotly.v1+json": {
       "data": [
        {
         "name": "Number of Collisions",
         "opacity": 0.6,
         "text": [
          "1790",
          "1349",
          "1190",
          "936",
          "1093",
          "1166",
          "1115",
          "1094",
          "1126",
          "1260",
          "1340",
          "1384"
         ],
         "textposition": "auto",
         "type": "bar",
         "uid": "7f8784a4-a1a3-11e8-9409-0800275aa47c",
         "x": [
          1,
          2,
          3,
          4,
          5,
          6,
          7,
          8,
          9,
          10,
          11,
          12
         ],
         "y": [
          1790,
          1349,
          1190,
          936,
          1093,
          1166,
          1115,
          1094,
          1126,
          1260,
          1340,
          1384
         ]
        },
        {
         "mode": "lines",
         "name": "Monthly Total Precip",
         "type": "scatter",
         "uid": "7f878ad0-a1a3-11e8-9409-0800275aa47c",
         "x": [
          1,
          2,
          3,
          4,
          5,
          6,
          7,
          8,
          9,
          10,
          11,
          12
         ],
         "xaxis": "x2",
         "y": [
          34.2,
          53.300000000000004,
          54.900000000000006,
          98.3,
          75.10000000000001,
          156.2,
          85.60000000000001,
          104.3,
          97.10000000000002,
          64.8,
          37.2,
          42.1
         ],
         "yaxis": "y2"
        }
       ],
       "layout": {
        "title": "Precip Analysis (2014)",
        "xaxis": {
         "dtick": 1,
         "title": "Month"
        },
        "xaxis2": {
         "anchor": "y2",
         "dtick": 1
        },
        "yaxis": {
         "domain": [
          0,
          0.5
         ],
         "dtick": 500,
         "title": "# of Collisions"
        },
        "yaxis2": {
         "domain": [
          0.55,
          1
         ],
         "title": "Total Precip (mm)"
        }
       }
      },
      "text/html": [
       "<div id=\"8420e451-bad1-486a-b41f-66c63c72baac\" style=\"height: 525px; width: 100%;\" class=\"plotly-graph-div\"></div><script type=\"text/javascript\">require([\"plotly\"], function(Plotly) { window.PLOTLYENV=window.PLOTLYENV || {};window.PLOTLYENV.BASE_URL=\"https://plot.ly\";Plotly.newPlot(\"8420e451-bad1-486a-b41f-66c63c72baac\", [{\"opacity\": 0.6, \"textposition\": \"auto\", \"name\": \"Number of Collisions\", \"text\": [\"1790\", \"1349\", \"1190\", \"936\", \"1093\", \"1166\", \"1115\", \"1094\", \"1126\", \"1260\", \"1340\", \"1384\"], \"y\": [1790.0, 1349.0, 1190.0, 936.0, 1093.0, 1166.0, 1115.0, 1094.0, 1126.0, 1260.0, 1340.0, 1384.0], \"x\": [1.0, 2.0, 3.0, 4.0, 5.0, 6.0, 7.0, 8.0, 9.0, 10.0, 11.0, 12.0], \"type\": \"bar\", \"uid\": \"7f8cef2a-a1a3-11e8-9409-0800275aa47c\"}, {\"name\": \"Monthly Total Precip\", \"yaxis\": \"y2\", \"mode\": \"lines\", \"xaxis\": \"x2\", \"y\": [34.2, 53.300000000000004, 54.900000000000006, 98.3, 75.10000000000001, 156.2, 85.60000000000001, 104.3, 97.10000000000002, 64.8, 37.2, 42.1], \"x\": [1.0, 2.0, 3.0, 4.0, 5.0, 6.0, 7.0, 8.0, 9.0, 10.0, 11.0, 12.0], \"type\": \"scatter\", \"uid\": \"7f8cf1f0-a1a3-11e8-9409-0800275aa47c\"}], {\"yaxis2\": {\"domain\": [0.55, 1.0], \"title\": \"Total Precip (mm)\"}, \"title\": \"Precip Analysis (2014)\", \"xaxis2\": {\"anchor\": \"y2\", \"dtick\": 1}, \"xaxis\": {\"dtick\": 1, \"title\": \"Month\"}, \"yaxis\": {\"domain\": [0, 0.5], \"dtick\": 500, \"title\": \"# of Collisions\"}}, {\"linkText\": \"Export to plot.ly\", \"showLink\": true})});</script>"
      ],
      "text/vnd.plotly.v1+html": [
       "<div id=\"8420e451-bad1-486a-b41f-66c63c72baac\" style=\"height: 525px; width: 100%;\" class=\"plotly-graph-div\"></div><script type=\"text/javascript\">require([\"plotly\"], function(Plotly) { window.PLOTLYENV=window.PLOTLYENV || {};window.PLOTLYENV.BASE_URL=\"https://plot.ly\";Plotly.newPlot(\"8420e451-bad1-486a-b41f-66c63c72baac\", [{\"opacity\": 0.6, \"textposition\": \"auto\", \"name\": \"Number of Collisions\", \"text\": [\"1790\", \"1349\", \"1190\", \"936\", \"1093\", \"1166\", \"1115\", \"1094\", \"1126\", \"1260\", \"1340\", \"1384\"], \"y\": [1790.0, 1349.0, 1190.0, 936.0, 1093.0, 1166.0, 1115.0, 1094.0, 1126.0, 1260.0, 1340.0, 1384.0], \"x\": [1.0, 2.0, 3.0, 4.0, 5.0, 6.0, 7.0, 8.0, 9.0, 10.0, 11.0, 12.0], \"type\": \"bar\", \"uid\": \"7f8cef2a-a1a3-11e8-9409-0800275aa47c\"}, {\"name\": \"Monthly Total Precip\", \"yaxis\": \"y2\", \"mode\": \"lines\", \"xaxis\": \"x2\", \"y\": [34.2, 53.300000000000004, 54.900000000000006, 98.3, 75.10000000000001, 156.2, 85.60000000000001, 104.3, 97.10000000000002, 64.8, 37.2, 42.1], \"x\": [1.0, 2.0, 3.0, 4.0, 5.0, 6.0, 7.0, 8.0, 9.0, 10.0, 11.0, 12.0], \"type\": \"scatter\", \"uid\": \"7f8cf1f0-a1a3-11e8-9409-0800275aa47c\"}], {\"yaxis2\": {\"domain\": [0.55, 1.0], \"title\": \"Total Precip (mm)\"}, \"title\": \"Precip Analysis (2014)\", \"xaxis2\": {\"anchor\": \"y2\", \"dtick\": 1}, \"xaxis\": {\"dtick\": 1, \"title\": \"Month\"}, \"yaxis\": {\"domain\": [0, 0.5], \"dtick\": 500, \"title\": \"# of Collisions\"}}, {\"linkText\": \"Export to plot.ly\", \"showLink\": true})});</script>"
      ]
     },
     "metadata": {},
     "output_type": "display_data"
    },
    {
     "data": {
      "application/vnd.plotly.v1+json": {
       "data": [
        {
         "name": "Number of Collisions",
         "opacity": 0.6,
         "text": [
          "2027",
          "1900",
          "1064",
          "901",
          "1115",
          "1219",
          "1115",
          "1058",
          "1133",
          "1199",
          "1249",
          "1098"
         ],
         "textposition": "auto",
         "type": "bar",
         "uid": "7f96bfaa-a1a3-11e8-9409-0800275aa47c",
         "x": [
          1,
          2,
          3,
          4,
          5,
          6,
          7,
          8,
          9,
          10,
          11,
          12
         ],
         "y": [
          2027,
          1900,
          1064,
          901,
          1115,
          1219,
          1115,
          1058,
          1133,
          1199,
          1249,
          1098
         ]
        },
        {
         "mode": "lines",
         "name": "Monthly Total Precip",
         "type": "scatter",
         "uid": "7f96c22a-a1a3-11e8-9409-0800275aa47c",
         "x": [
          1,
          2,
          3,
          4,
          5,
          6,
          7,
          8,
          9,
          10,
          11,
          12
         ],
         "xaxis": "x2",
         "y": [
          47.6,
          33.800000000000004,
          24.499999999999996,
          61.5,
          65,
          107.99999999999999,
          63.10000000000001,
          76.49999999999999,
          96.6,
          83.99999999999999,
          33,
          92.10000000000001
         ],
         "yaxis": "y2"
        }
       ],
       "layout": {
        "title": "Precip Analysis (2015)",
        "xaxis": {
         "dtick": 1,
         "title": "Month"
        },
        "xaxis2": {
         "anchor": "y2",
         "dtick": 1
        },
        "yaxis": {
         "domain": [
          0,
          0.5
         ],
         "dtick": 500,
         "title": "# of Collisions"
        },
        "yaxis2": {
         "domain": [
          0.55,
          1
         ],
         "title": "Total Precip (mm)"
        }
       }
      },
      "text/html": [
       "<div id=\"80287f82-f889-41da-b4d5-c7f99b1ba1fd\" style=\"height: 525px; width: 100%;\" class=\"plotly-graph-div\"></div><script type=\"text/javascript\">require([\"plotly\"], function(Plotly) { window.PLOTLYENV=window.PLOTLYENV || {};window.PLOTLYENV.BASE_URL=\"https://plot.ly\";Plotly.newPlot(\"80287f82-f889-41da-b4d5-c7f99b1ba1fd\", [{\"opacity\": 0.6, \"textposition\": \"auto\", \"name\": \"Number of Collisions\", \"text\": [\"2027\", \"1900\", \"1064\", \"901\", \"1115\", \"1219\", \"1115\", \"1058\", \"1133\", \"1199\", \"1249\", \"1098\"], \"y\": [2027.0, 1900.0, 1064.0, 901.0, 1115.0, 1219.0, 1115.0, 1058.0, 1133.0, 1199.0, 1249.0, 1098.0], \"x\": [1.0, 2.0, 3.0, 4.0, 5.0, 6.0, 7.0, 8.0, 9.0, 10.0, 11.0, 12.0], \"type\": \"bar\", \"uid\": \"7f9b7752-a1a3-11e8-9409-0800275aa47c\"}, {\"name\": \"Monthly Total Precip\", \"yaxis\": \"y2\", \"mode\": \"lines\", \"xaxis\": \"x2\", \"y\": [47.6, 33.800000000000004, 24.499999999999996, 61.5, 65.0, 107.99999999999999, 63.10000000000001, 76.49999999999999, 96.6, 83.99999999999999, 33.0, 92.10000000000001], \"x\": [1.0, 2.0, 3.0, 4.0, 5.0, 6.0, 7.0, 8.0, 9.0, 10.0, 11.0, 12.0], \"type\": \"scatter\", \"uid\": \"7f9b79c8-a1a3-11e8-9409-0800275aa47c\"}], {\"yaxis2\": {\"domain\": [0.55, 1.0], \"title\": \"Total Precip (mm)\"}, \"title\": \"Precip Analysis (2015)\", \"xaxis2\": {\"anchor\": \"y2\", \"dtick\": 1}, \"xaxis\": {\"dtick\": 1, \"title\": \"Month\"}, \"yaxis\": {\"domain\": [0, 0.5], \"dtick\": 500, \"title\": \"# of Collisions\"}}, {\"linkText\": \"Export to plot.ly\", \"showLink\": true})});</script>"
      ],
      "text/vnd.plotly.v1+html": [
       "<div id=\"80287f82-f889-41da-b4d5-c7f99b1ba1fd\" style=\"height: 525px; width: 100%;\" class=\"plotly-graph-div\"></div><script type=\"text/javascript\">require([\"plotly\"], function(Plotly) { window.PLOTLYENV=window.PLOTLYENV || {};window.PLOTLYENV.BASE_URL=\"https://plot.ly\";Plotly.newPlot(\"80287f82-f889-41da-b4d5-c7f99b1ba1fd\", [{\"opacity\": 0.6, \"textposition\": \"auto\", \"name\": \"Number of Collisions\", \"text\": [\"2027\", \"1900\", \"1064\", \"901\", \"1115\", \"1219\", \"1115\", \"1058\", \"1133\", \"1199\", \"1249\", \"1098\"], \"y\": [2027.0, 1900.0, 1064.0, 901.0, 1115.0, 1219.0, 1115.0, 1058.0, 1133.0, 1199.0, 1249.0, 1098.0], \"x\": [1.0, 2.0, 3.0, 4.0, 5.0, 6.0, 7.0, 8.0, 9.0, 10.0, 11.0, 12.0], \"type\": \"bar\", \"uid\": \"7f9b7752-a1a3-11e8-9409-0800275aa47c\"}, {\"name\": \"Monthly Total Precip\", \"yaxis\": \"y2\", \"mode\": \"lines\", \"xaxis\": \"x2\", \"y\": [47.6, 33.800000000000004, 24.499999999999996, 61.5, 65.0, 107.99999999999999, 63.10000000000001, 76.49999999999999, 96.6, 83.99999999999999, 33.0, 92.10000000000001], \"x\": [1.0, 2.0, 3.0, 4.0, 5.0, 6.0, 7.0, 8.0, 9.0, 10.0, 11.0, 12.0], \"type\": \"scatter\", \"uid\": \"7f9b79c8-a1a3-11e8-9409-0800275aa47c\"}], {\"yaxis2\": {\"domain\": [0.55, 1.0], \"title\": \"Total Precip (mm)\"}, \"title\": \"Precip Analysis (2015)\", \"xaxis2\": {\"anchor\": \"y2\", \"dtick\": 1}, \"xaxis\": {\"dtick\": 1, \"title\": \"Month\"}, \"yaxis\": {\"domain\": [0, 0.5], \"dtick\": 500, \"title\": \"# of Collisions\"}}, {\"linkText\": \"Export to plot.ly\", \"showLink\": true})});</script>"
      ]
     },
     "metadata": {},
     "output_type": "display_data"
    },
    {
     "data": {
      "application/vnd.plotly.v1+json": {
       "data": [
        {
         "name": "Number of Collisions",
         "opacity": 0.6,
         "text": [
          "1407",
          "1523",
          "1018",
          "944",
          "1109",
          "1135",
          "1035",
          "976",
          "1073",
          "1111",
          "1155",
          "1537"
         ],
         "textposition": "auto",
         "type": "bar",
         "uid": "7fa55b5a-a1a3-11e8-9409-0800275aa47c",
         "x": [
          1,
          2,
          3,
          4,
          5,
          6,
          7,
          8,
          9,
          10,
          11,
          12
         ],
         "y": [
          1407,
          1523,
          1018,
          944,
          1109,
          1135,
          1035,
          976,
          1073,
          1111,
          1155,
          1537
         ]
        },
        {
         "mode": "lines",
         "name": "Monthly Total Precip",
         "type": "scatter",
         "uid": "7fa55e66-a1a3-11e8-9409-0800275aa47c",
         "x": [
          1,
          2,
          3,
          4,
          5,
          6,
          7,
          8,
          9,
          10,
          11,
          12
         ],
         "xaxis": "x2",
         "y": [
          52.199999999999996,
          98.39999999999999,
          98,
          42.4,
          26.4,
          56.60000000000001,
          100.8,
          122.4,
          76.60000000000001,
          99.19999999999999,
          60.9,
          84
         ],
         "yaxis": "y2"
        }
       ],
       "layout": {
        "title": "Precip Analysis (2016)",
        "xaxis": {
         "dtick": 1,
         "title": "Month"
        },
        "xaxis2": {
         "anchor": "y2",
         "dtick": 1
        },
        "yaxis": {
         "domain": [
          0,
          0.5
         ],
         "dtick": 500,
         "title": "# of Collisions"
        },
        "yaxis2": {
         "domain": [
          0.55,
          1
         ],
         "title": "Total Precip (mm)"
        }
       }
      },
      "text/html": [
       "<div id=\"383e4a1c-b20d-49e8-ac90-cff4855007f4\" style=\"height: 525px; width: 100%;\" class=\"plotly-graph-div\"></div><script type=\"text/javascript\">require([\"plotly\"], function(Plotly) { window.PLOTLYENV=window.PLOTLYENV || {};window.PLOTLYENV.BASE_URL=\"https://plot.ly\";Plotly.newPlot(\"383e4a1c-b20d-49e8-ac90-cff4855007f4\", [{\"opacity\": 0.6, \"textposition\": \"auto\", \"name\": \"Number of Collisions\", \"text\": [\"1407\", \"1523\", \"1018\", \"944\", \"1109\", \"1135\", \"1035\", \"976\", \"1073\", \"1111\", \"1155\", \"1537\"], \"y\": [1407.0, 1523.0, 1018.0, 944.0, 1109.0, 1135.0, 1035.0, 976.0, 1073.0, 1111.0, 1155.0, 1537.0], \"x\": [1.0, 2.0, 3.0, 4.0, 5.0, 6.0, 7.0, 8.0, 9.0, 10.0, 11.0, 12.0], \"type\": \"bar\", \"uid\": \"7fa99814-a1a3-11e8-9409-0800275aa47c\"}, {\"name\": \"Monthly Total Precip\", \"yaxis\": \"y2\", \"mode\": \"lines\", \"xaxis\": \"x2\", \"y\": [52.199999999999996, 98.39999999999999, 98.0, 42.4, 26.4, 56.60000000000001, 100.8, 122.4, 76.60000000000001, 99.19999999999999, 60.9, 84.0], \"x\": [1.0, 2.0, 3.0, 4.0, 5.0, 6.0, 7.0, 8.0, 9.0, 10.0, 11.0, 12.0], \"type\": \"scatter\", \"uid\": \"7fa99aee-a1a3-11e8-9409-0800275aa47c\"}], {\"yaxis2\": {\"domain\": [0.55, 1.0], \"title\": \"Total Precip (mm)\"}, \"title\": \"Precip Analysis (2016)\", \"xaxis2\": {\"anchor\": \"y2\", \"dtick\": 1}, \"xaxis\": {\"dtick\": 1, \"title\": \"Month\"}, \"yaxis\": {\"domain\": [0, 0.5], \"dtick\": 500, \"title\": \"# of Collisions\"}}, {\"linkText\": \"Export to plot.ly\", \"showLink\": true})});</script>"
      ],
      "text/vnd.plotly.v1+html": [
       "<div id=\"383e4a1c-b20d-49e8-ac90-cff4855007f4\" style=\"height: 525px; width: 100%;\" class=\"plotly-graph-div\"></div><script type=\"text/javascript\">require([\"plotly\"], function(Plotly) { window.PLOTLYENV=window.PLOTLYENV || {};window.PLOTLYENV.BASE_URL=\"https://plot.ly\";Plotly.newPlot(\"383e4a1c-b20d-49e8-ac90-cff4855007f4\", [{\"opacity\": 0.6, \"textposition\": \"auto\", \"name\": \"Number of Collisions\", \"text\": [\"1407\", \"1523\", \"1018\", \"944\", \"1109\", \"1135\", \"1035\", \"976\", \"1073\", \"1111\", \"1155\", \"1537\"], \"y\": [1407.0, 1523.0, 1018.0, 944.0, 1109.0, 1135.0, 1035.0, 976.0, 1073.0, 1111.0, 1155.0, 1537.0], \"x\": [1.0, 2.0, 3.0, 4.0, 5.0, 6.0, 7.0, 8.0, 9.0, 10.0, 11.0, 12.0], \"type\": \"bar\", \"uid\": \"7fa99814-a1a3-11e8-9409-0800275aa47c\"}, {\"name\": \"Monthly Total Precip\", \"yaxis\": \"y2\", \"mode\": \"lines\", \"xaxis\": \"x2\", \"y\": [52.199999999999996, 98.39999999999999, 98.0, 42.4, 26.4, 56.60000000000001, 100.8, 122.4, 76.60000000000001, 99.19999999999999, 60.9, 84.0], \"x\": [1.0, 2.0, 3.0, 4.0, 5.0, 6.0, 7.0, 8.0, 9.0, 10.0, 11.0, 12.0], \"type\": \"scatter\", \"uid\": \"7fa99aee-a1a3-11e8-9409-0800275aa47c\"}], {\"yaxis2\": {\"domain\": [0.55, 1.0], \"title\": \"Total Precip (mm)\"}, \"title\": \"Precip Analysis (2016)\", \"xaxis2\": {\"anchor\": \"y2\", \"dtick\": 1}, \"xaxis\": {\"dtick\": 1, \"title\": \"Month\"}, \"yaxis\": {\"domain\": [0, 0.5], \"dtick\": 500, \"title\": \"# of Collisions\"}}, {\"linkText\": \"Export to plot.ly\", \"showLink\": true})});</script>"
      ]
     },
     "metadata": {},
     "output_type": "display_data"
    },
    {
     "data": {
      "application/vnd.plotly.v1+json": {
       "data": [
        {
         "name": "Number of Collisions",
         "opacity": 0.6,
         "text": [
          "1275",
          "1279",
          "1224",
          "913",
          "1084",
          "1095",
          "971",
          "990",
          "1176",
          "1139",
          "1493",
          "1755"
         ],
         "textposition": "auto",
         "type": "bar",
         "uid": "7fb44016-a1a3-11e8-9409-0800275aa47c",
         "x": [
          1,
          2,
          3,
          4,
          5,
          6,
          7,
          8,
          9,
          10,
          11,
          12
         ],
         "y": [
          1275,
          1279,
          1224,
          913,
          1084,
          1095,
          971,
          990,
          1176,
          1139,
          1493,
          1755
         ]
        },
        {
         "mode": "lines",
         "name": "Monthly Total Precip",
         "type": "scatter",
         "uid": "7fb4443a-a1a3-11e8-9409-0800275aa47c",
         "x": [
          1,
          2,
          3,
          4,
          5,
          6,
          7,
          8,
          9,
          10,
          11,
          12
         ],
         "xaxis": "x2",
         "y": [
          64.89999999999999,
          88.8,
          61.800000000000004,
          159,
          172.4,
          156.8,
          169.6,
          82.39999999999999,
          51.6,
          142.40000000000003,
          86.4,
          32.400000000000006
         ],
         "yaxis": "y2"
        }
       ],
       "layout": {
        "title": "Precip Analysis (2017)",
        "xaxis": {
         "dtick": 1,
         "title": "Month"
        },
        "xaxis2": {
         "anchor": "y2",
         "dtick": 1
        },
        "yaxis": {
         "domain": [
          0,
          0.5
         ],
         "dtick": 500,
         "title": "# of Collisions"
        },
        "yaxis2": {
         "domain": [
          0.55,
          1
         ],
         "title": "Total Precip (mm)"
        }
       }
      },
      "text/html": [
       "<div id=\"ffac274a-29ca-4378-839c-c315e3a034be\" style=\"height: 525px; width: 100%;\" class=\"plotly-graph-div\"></div><script type=\"text/javascript\">require([\"plotly\"], function(Plotly) { window.PLOTLYENV=window.PLOTLYENV || {};window.PLOTLYENV.BASE_URL=\"https://plot.ly\";Plotly.newPlot(\"ffac274a-29ca-4378-839c-c315e3a034be\", [{\"opacity\": 0.6, \"textposition\": \"auto\", \"name\": \"Number of Collisions\", \"text\": [\"1275\", \"1279\", \"1224\", \"913\", \"1084\", \"1095\", \"971\", \"990\", \"1176\", \"1139\", \"1493\", \"1755\"], \"y\": [1275.0, 1279.0, 1224.0, 913.0, 1084.0, 1095.0, 971.0, 990.0, 1176.0, 1139.0, 1493.0, 1755.0], \"x\": [1.0, 2.0, 3.0, 4.0, 5.0, 6.0, 7.0, 8.0, 9.0, 10.0, 11.0, 12.0], \"type\": \"bar\", \"uid\": \"7fb8ab4c-a1a3-11e8-9409-0800275aa47c\"}, {\"name\": \"Monthly Total Precip\", \"yaxis\": \"y2\", \"mode\": \"lines\", \"xaxis\": \"x2\", \"y\": [64.89999999999999, 88.8, 61.800000000000004, 159.0, 172.4, 156.8, 169.6, 82.39999999999999, 51.6, 142.40000000000003, 86.4, 32.400000000000006], \"x\": [1.0, 2.0, 3.0, 4.0, 5.0, 6.0, 7.0, 8.0, 9.0, 10.0, 11.0, 12.0], \"type\": \"scatter\", \"uid\": \"7fb8af70-a1a3-11e8-9409-0800275aa47c\"}], {\"yaxis2\": {\"domain\": [0.55, 1.0], \"title\": \"Total Precip (mm)\"}, \"title\": \"Precip Analysis (2017)\", \"xaxis2\": {\"anchor\": \"y2\", \"dtick\": 1}, \"xaxis\": {\"dtick\": 1, \"title\": \"Month\"}, \"yaxis\": {\"domain\": [0, 0.5], \"dtick\": 500, \"title\": \"# of Collisions\"}}, {\"linkText\": \"Export to plot.ly\", \"showLink\": true})});</script>"
      ],
      "text/vnd.plotly.v1+html": [
       "<div id=\"ffac274a-29ca-4378-839c-c315e3a034be\" style=\"height: 525px; width: 100%;\" class=\"plotly-graph-div\"></div><script type=\"text/javascript\">require([\"plotly\"], function(Plotly) { window.PLOTLYENV=window.PLOTLYENV || {};window.PLOTLYENV.BASE_URL=\"https://plot.ly\";Plotly.newPlot(\"ffac274a-29ca-4378-839c-c315e3a034be\", [{\"opacity\": 0.6, \"textposition\": \"auto\", \"name\": \"Number of Collisions\", \"text\": [\"1275\", \"1279\", \"1224\", \"913\", \"1084\", \"1095\", \"971\", \"990\", \"1176\", \"1139\", \"1493\", \"1755\"], \"y\": [1275.0, 1279.0, 1224.0, 913.0, 1084.0, 1095.0, 971.0, 990.0, 1176.0, 1139.0, 1493.0, 1755.0], \"x\": [1.0, 2.0, 3.0, 4.0, 5.0, 6.0, 7.0, 8.0, 9.0, 10.0, 11.0, 12.0], \"type\": \"bar\", \"uid\": \"7fb8ab4c-a1a3-11e8-9409-0800275aa47c\"}, {\"name\": \"Monthly Total Precip\", \"yaxis\": \"y2\", \"mode\": \"lines\", \"xaxis\": \"x2\", \"y\": [64.89999999999999, 88.8, 61.800000000000004, 159.0, 172.4, 156.8, 169.6, 82.39999999999999, 51.6, 142.40000000000003, 86.4, 32.400000000000006], \"x\": [1.0, 2.0, 3.0, 4.0, 5.0, 6.0, 7.0, 8.0, 9.0, 10.0, 11.0, 12.0], \"type\": \"scatter\", \"uid\": \"7fb8af70-a1a3-11e8-9409-0800275aa47c\"}], {\"yaxis2\": {\"domain\": [0.55, 1.0], \"title\": \"Total Precip (mm)\"}, \"title\": \"Precip Analysis (2017)\", \"xaxis2\": {\"anchor\": \"y2\", \"dtick\": 1}, \"xaxis\": {\"dtick\": 1, \"title\": \"Month\"}, \"yaxis\": {\"domain\": [0, 0.5], \"dtick\": 500, \"title\": \"# of Collisions\"}}, {\"linkText\": \"Export to plot.ly\", \"showLink\": true})});</script>"
      ]
     },
     "metadata": {},
     "output_type": "display_data"
    }
   ],
   "source": [
    "df_avg = wt1417.groupby([\"Year\",\"Month\"]).mean()\n",
    "df_avg[\"Year\"] = [x[0] for x in df_avg.index]\n",
    "df_avg[\"Month\"] = [x[1] for x in df_avg.index]\n",
    "\n",
    "df_sum = wt1417.groupby([\"Year\",\"Month\"]).sum()\n",
    "df_sum[\"Year\"] = [x[0] for x in df_sum.index]\n",
    "df_sum[\"Month\"] = [x[1] for x in df_sum.index]\n",
    "\n",
    "def printPrecipInYear(n):\n",
    "    monthCase = go.Bar(x = df_sum[df_sum[\"Year\"]==n][\"Month\"],\n",
    "                       y = df_sum[df_sum[\"Year\"]==n][\"Number of Collisions\"],\n",
    "                       text = df_sum[df_sum[\"Year\"]==n][\"Number of Collisions\"],\n",
    "                       textposition = 'auto',\n",
    "                       opacity = 0.6,\n",
    "                       name = 'Number of Collisions')\n",
    "    total_precip = go.Scatter(x = df_sum[df_sum[\"Year\"]==n][\"Month\"],\n",
    "                         y = df_sum[df_sum[\"Year\"]==n][\"Total Precip (mm)\"],\n",
    "                         mode = 'lines',\n",
    "                         name = 'Monthly Total Precip',\n",
    "                         xaxis = 'x2', \n",
    "                         yaxis = 'y2')\n",
    "    fig = dict(data = [monthCase, total_precip], \n",
    "               layout = go.Layout(title = \"Precip Analysis (\" + str(n) + \")\",\n",
    "                                  xaxis = dict(title='Month', dtick=1),\n",
    "                                  yaxis = dict(title='# of Collisions', dtick=500, domain = [0,0.5]),\n",
    "                                  yaxis2 = dict(title='Total Precip (mm)', domain = [0.55,1.0]),\n",
    "                                  xaxis2 = dict(dtick=1, anchor = 'y2')\n",
    "                                 )\n",
    "              )\n",
    "    iplot(fig)\n",
    "    \n",
    "for m in range(2014,2018):\n",
    "    printPrecipInYear(m)"
   ]
  },
  {
   "cell_type": "markdown",
   "metadata": {},
   "source": [
    "**Brief Conclusion:**\n",
    "* No clear relationship between monthly precipitation and collisions"
   ]
  },
  {
   "cell_type": "markdown",
   "metadata": {},
   "source": [
    "### 2.4 The day in a year with the largest number of collisions"
   ]
  },
  {
   "cell_type": "markdown",
   "metadata": {},
   "source": [
    "**In 2014:**"
   ]
  },
  {
   "cell_type": "code",
   "execution_count": 43,
   "metadata": {},
   "outputs": [
    {
     "data": {
      "text/html": [
       "<div>\n",
       "<style scoped>\n",
       "    .dataframe tbody tr th:only-of-type {\n",
       "        vertical-align: middle;\n",
       "    }\n",
       "\n",
       "    .dataframe tbody tr th {\n",
       "        vertical-align: top;\n",
       "    }\n",
       "\n",
       "    .dataframe thead th {\n",
       "        text-align: right;\n",
       "    }\n",
       "</style>\n",
       "<table border=\"1\" class=\"dataframe\">\n",
       "  <thead>\n",
       "    <tr style=\"text-align: right;\">\n",
       "      <th></th>\n",
       "      <th>Date</th>\n",
       "      <th>Max Temp (°C)</th>\n",
       "      <th>Min Temp (°C)</th>\n",
       "      <th>Mean Temp (°C)</th>\n",
       "      <th>Total Rain (mm)</th>\n",
       "      <th>Total Snow (cm)</th>\n",
       "      <th>Total Precip (mm)</th>\n",
       "      <th>Snow on Grnd (cm)</th>\n",
       "      <th>Number of Collisions</th>\n",
       "      <th>Year</th>\n",
       "      <th>Month</th>\n",
       "      <th>Day in month</th>\n",
       "    </tr>\n",
       "  </thead>\n",
       "  <tbody>\n",
       "    <tr>\n",
       "      <th>2</th>\n",
       "      <td>2014-01-03</td>\n",
       "      <td>-21.0</td>\n",
       "      <td>-28.1</td>\n",
       "      <td>-24.6</td>\n",
       "      <td>0.0</td>\n",
       "      <td>0.3</td>\n",
       "      <td>0.0</td>\n",
       "      <td>29</td>\n",
       "      <td>151</td>\n",
       "      <td>2014</td>\n",
       "      <td>1</td>\n",
       "      <td>3</td>\n",
       "    </tr>\n",
       "  </tbody>\n",
       "</table>\n",
       "</div>"
      ],
      "text/plain": [
       "        Date  Max Temp (°C)  Min Temp (°C)  Mean Temp (°C)  Total Rain (mm)  \\\n",
       "2 2014-01-03          -21.0          -28.1           -24.6              0.0   \n",
       "\n",
       "   Total Snow (cm)  Total Precip (mm)  Snow on Grnd (cm)  \\\n",
       "2              0.3                0.0                 29   \n",
       "\n",
       "   Number of Collisions  Year  Month  Day in month  \n",
       "2                   151  2014      1             3  "
      ]
     },
     "execution_count": 43,
     "metadata": {},
     "output_type": "execute_result"
    }
   ],
   "source": [
    "maxColl2014 = wt1417[wt1417[\"Year\"]==2014].sort_values([\"Number of Collisions\"], ascending=[0])\n",
    "maxColl2014.iloc[[0]]"
   ]
  },
  {
   "cell_type": "markdown",
   "metadata": {},
   "source": [
    "**In 2015:**"
   ]
  },
  {
   "cell_type": "code",
   "execution_count": 44,
   "metadata": {},
   "outputs": [
    {
     "data": {
      "text/html": [
       "<div>\n",
       "<style scoped>\n",
       "    .dataframe tbody tr th:only-of-type {\n",
       "        vertical-align: middle;\n",
       "    }\n",
       "\n",
       "    .dataframe tbody tr th {\n",
       "        vertical-align: top;\n",
       "    }\n",
       "\n",
       "    .dataframe thead th {\n",
       "        text-align: right;\n",
       "    }\n",
       "</style>\n",
       "<table border=\"1\" class=\"dataframe\">\n",
       "  <thead>\n",
       "    <tr style=\"text-align: right;\">\n",
       "      <th></th>\n",
       "      <th>Date</th>\n",
       "      <th>Max Temp (°C)</th>\n",
       "      <th>Min Temp (°C)</th>\n",
       "      <th>Mean Temp (°C)</th>\n",
       "      <th>Total Rain (mm)</th>\n",
       "      <th>Total Snow (cm)</th>\n",
       "      <th>Total Precip (mm)</th>\n",
       "      <th>Snow on Grnd (cm)</th>\n",
       "      <th>Number of Collisions</th>\n",
       "      <th>Year</th>\n",
       "      <th>Month</th>\n",
       "      <th>Day in month</th>\n",
       "    </tr>\n",
       "  </thead>\n",
       "  <tbody>\n",
       "    <tr>\n",
       "      <th>397</th>\n",
       "      <td>2015-02-02</td>\n",
       "      <td>-14.3</td>\n",
       "      <td>-20.4</td>\n",
       "      <td>-17.4</td>\n",
       "      <td>0.0</td>\n",
       "      <td>3.0</td>\n",
       "      <td>1.5</td>\n",
       "      <td>14</td>\n",
       "      <td>160</td>\n",
       "      <td>2015</td>\n",
       "      <td>2</td>\n",
       "      <td>2</td>\n",
       "    </tr>\n",
       "  </tbody>\n",
       "</table>\n",
       "</div>"
      ],
      "text/plain": [
       "          Date  Max Temp (°C)  Min Temp (°C)  Mean Temp (°C)  Total Rain (mm)  \\\n",
       "397 2015-02-02          -14.3          -20.4           -17.4              0.0   \n",
       "\n",
       "     Total Snow (cm)  Total Precip (mm)  Snow on Grnd (cm)  \\\n",
       "397              3.0                1.5                 14   \n",
       "\n",
       "     Number of Collisions  Year  Month  Day in month  \n",
       "397                   160  2015      2             2  "
      ]
     },
     "execution_count": 44,
     "metadata": {},
     "output_type": "execute_result"
    }
   ],
   "source": [
    "maxColl2015 = wt1417[wt1417[\"Year\"]==2015].sort_values([\"Number of Collisions\"], ascending=[0])\n",
    "maxColl2015.iloc[[0]]"
   ]
  },
  {
   "cell_type": "markdown",
   "metadata": {},
   "source": [
    "**In 2016:**"
   ]
  },
  {
   "cell_type": "code",
   "execution_count": 45,
   "metadata": {},
   "outputs": [
    {
     "data": {
      "text/html": [
       "<div>\n",
       "<style scoped>\n",
       "    .dataframe tbody tr th:only-of-type {\n",
       "        vertical-align: middle;\n",
       "    }\n",
       "\n",
       "    .dataframe tbody tr th {\n",
       "        vertical-align: top;\n",
       "    }\n",
       "\n",
       "    .dataframe thead th {\n",
       "        text-align: right;\n",
       "    }\n",
       "</style>\n",
       "<table border=\"1\" class=\"dataframe\">\n",
       "  <thead>\n",
       "    <tr style=\"text-align: right;\">\n",
       "      <th></th>\n",
       "      <th>Date</th>\n",
       "      <th>Max Temp (°C)</th>\n",
       "      <th>Min Temp (°C)</th>\n",
       "      <th>Mean Temp (°C)</th>\n",
       "      <th>Total Rain (mm)</th>\n",
       "      <th>Total Snow (cm)</th>\n",
       "      <th>Total Precip (mm)</th>\n",
       "      <th>Snow on Grnd (cm)</th>\n",
       "      <th>Number of Collisions</th>\n",
       "      <th>Year</th>\n",
       "      <th>Month</th>\n",
       "      <th>Day in month</th>\n",
       "    </tr>\n",
       "  </thead>\n",
       "  <tbody>\n",
       "    <tr>\n",
       "      <th>777</th>\n",
       "      <td>2016-02-17</td>\n",
       "      <td>0.1</td>\n",
       "      <td>-11.2</td>\n",
       "      <td>-5.6</td>\n",
       "      <td>0.0</td>\n",
       "      <td>0.4</td>\n",
       "      <td>0.4</td>\n",
       "      <td>40</td>\n",
       "      <td>152</td>\n",
       "      <td>2016</td>\n",
       "      <td>2</td>\n",
       "      <td>17</td>\n",
       "    </tr>\n",
       "  </tbody>\n",
       "</table>\n",
       "</div>"
      ],
      "text/plain": [
       "          Date  Max Temp (°C)  Min Temp (°C)  Mean Temp (°C)  Total Rain (mm)  \\\n",
       "777 2016-02-17            0.1          -11.2            -5.6              0.0   \n",
       "\n",
       "     Total Snow (cm)  Total Precip (mm)  Snow on Grnd (cm)  \\\n",
       "777              0.4                0.4                 40   \n",
       "\n",
       "     Number of Collisions  Year  Month  Day in month  \n",
       "777                   152  2016      2            17  "
      ]
     },
     "execution_count": 45,
     "metadata": {},
     "output_type": "execute_result"
    }
   ],
   "source": [
    "maxColl2016 = wt1417[wt1417[\"Year\"]==2016].sort_values([\"Number of Collisions\"], ascending=[0])\n",
    "maxColl2016.iloc[[0]]"
   ]
  },
  {
   "cell_type": "markdown",
   "metadata": {},
   "source": [
    "**In 2017:**"
   ]
  },
  {
   "cell_type": "code",
   "execution_count": 46,
   "metadata": {},
   "outputs": [
    {
     "data": {
      "text/html": [
       "<div>\n",
       "<style scoped>\n",
       "    .dataframe tbody tr th:only-of-type {\n",
       "        vertical-align: middle;\n",
       "    }\n",
       "\n",
       "    .dataframe tbody tr th {\n",
       "        vertical-align: top;\n",
       "    }\n",
       "\n",
       "    .dataframe thead th {\n",
       "        text-align: right;\n",
       "    }\n",
       "</style>\n",
       "<table border=\"1\" class=\"dataframe\">\n",
       "  <thead>\n",
       "    <tr style=\"text-align: right;\">\n",
       "      <th></th>\n",
       "      <th>Date</th>\n",
       "      <th>Max Temp (°C)</th>\n",
       "      <th>Min Temp (°C)</th>\n",
       "      <th>Mean Temp (°C)</th>\n",
       "      <th>Total Rain (mm)</th>\n",
       "      <th>Total Snow (cm)</th>\n",
       "      <th>Total Precip (mm)</th>\n",
       "      <th>Snow on Grnd (cm)</th>\n",
       "      <th>Number of Collisions</th>\n",
       "      <th>Year</th>\n",
       "      <th>Month</th>\n",
       "      <th>Day in month</th>\n",
       "    </tr>\n",
       "  </thead>\n",
       "  <tbody>\n",
       "    <tr>\n",
       "      <th>1178</th>\n",
       "      <td>2017-03-24</td>\n",
       "      <td>1.0</td>\n",
       "      <td>-4.0</td>\n",
       "      <td>-1.5</td>\n",
       "      <td>6.0</td>\n",
       "      <td>7.0</td>\n",
       "      <td>12.6</td>\n",
       "      <td>17</td>\n",
       "      <td>134</td>\n",
       "      <td>2017</td>\n",
       "      <td>3</td>\n",
       "      <td>24</td>\n",
       "    </tr>\n",
       "  </tbody>\n",
       "</table>\n",
       "</div>"
      ],
      "text/plain": [
       "           Date  Max Temp (°C)  Min Temp (°C)  Mean Temp (°C)  \\\n",
       "1178 2017-03-24            1.0           -4.0            -1.5   \n",
       "\n",
       "      Total Rain (mm)  Total Snow (cm)  Total Precip (mm)  Snow on Grnd (cm)  \\\n",
       "1178              6.0              7.0               12.6                 17   \n",
       "\n",
       "      Number of Collisions  Year  Month  Day in month  \n",
       "1178                   134  2017      3            24  "
      ]
     },
     "execution_count": 46,
     "metadata": {},
     "output_type": "execute_result"
    }
   ],
   "source": [
    "maxColl2017 = wt1417[wt1417[\"Year\"]==2017].sort_values([\"Number of Collisions\"], ascending=[0])\n",
    "maxColl2017.iloc[[0]]"
   ]
  },
  {
   "cell_type": "markdown",
   "metadata": {},
   "source": [
    "**Brief Conclusion:**\n",
    "* The day in a year with the largest number of collisions are in winter or close to winter. \n",
    "* low temperature, and with snow\n",
    "\n",
    "**Hypothesis:**\n",
    "* It still supports the hypothesis about weather: low temperature and snowy weather leads to collisions"
   ]
  },
  {
   "cell_type": "markdown",
   "metadata": {},
   "source": [
    "### 2.5 The location of collisions in Ottawa (on the date with the largest number of collisions)"
   ]
  },
  {
   "cell_type": "code",
   "execution_count": 125,
   "metadata": {},
   "outputs": [
    {
     "name": "stdout",
     "output_type": "stream",
     "text": [
      "2014/1/3:\n"
     ]
    },
    {
     "data": {
      "text/html": [
       "<div style=\"width:100%;\"><div style=\"position:relative;width:100%;height:0;padding-bottom:60%;\"><iframe src=\"data:text/html;charset=utf-8;base64,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\" style=\"position:absolute;width:100%;height:100%;left:0;top:0;border:none !important;\" allowfullscreen webkitallowfullscreen mozallowfullscreen></iframe></div></div>"
      ],
      "text/plain": [
       "<folium.folium.Map at 0x9a76590>"
      ]
     },
     "metadata": {},
     "output_type": "display_data"
    },
    {
     "name": "stdout",
     "output_type": "stream",
     "text": [
      "2015/2/2:\n"
     ]
    },
    {
     "data": {
      "text/html": [
       "<div style=\"width:100%;\"><div style=\"position:relative;width:100%;height:0;padding-bottom:60%;\"><iframe src=\"data:text/html;charset=utf-8;base64,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\" style=\"position:absolute;width:100%;height:100%;left:0;top:0;border:none !important;\" allowfullscreen webkitallowfullscreen mozallowfullscreen></iframe></div></div>"
      ],
      "text/plain": [
       "<folium.folium.Map at 0x9a76110>"
      ]
     },
     "metadata": {},
     "output_type": "display_data"
    },
    {
     "name": "stdout",
     "output_type": "stream",
     "text": [
      "2016/2/17:\n"
     ]
    },
    {
     "data": {
      "text/html": [
       "<div style=\"width:100%;\"><div style=\"position:relative;width:100%;height:0;padding-bottom:60%;\"><iframe src=\"data:text/html;charset=utf-8;base64,PCFET0NUWVBFIGh0bWw+CjxoZWFkPiAgICAKICAgIDxtZXRhIGh0dHAtZXF1aXY9ImNvbnRlbnQtdHlwZSIgY29udGVudD0idGV4dC9odG1sOyBjaGFyc2V0PVVURi04IiAvPgogICAgPHNjcmlwdD5MX1BSRUZFUl9DQU5WQVM9ZmFsc2U7IExfTk9fVE9VQ0g9ZmFsc2U7IExfRElTQUJMRV8zRD1mYWxzZTs8L3NjcmlwdD4KICAgIDxzY3JpcHQgc3JjPSJodHRwczovL2Nkbi5qc2RlbGl2ci5uZXQvbnBtL2xlYWZsZXRAMS4yLjAvZGlzdC9sZWFmbGV0LmpzIj48L3NjcmlwdD4KICAgIDxzY3JpcHQgc3JjPSJodHRwczovL2FqYXguZ29vZ2xlYXBpcy5jb20vYWpheC9saWJzL2pxdWVyeS8xLjExLjEvanF1ZXJ5Lm1pbi5qcyI+PC9zY3JpcHQ+CiAgICA8c2NyaXB0IHNyYz0iaHR0cHM6Ly9tYXhjZG4uYm9vdHN0cmFwY2RuLmNvbS9ib290c3RyYXAvMy4yLjAvanMvYm9vdHN0cmFwLm1pbi5qcyI+PC9zY3JpcHQ+CiAgICA8c2NyaXB0IHNyYz0iaHR0cHM6Ly9jZG5qcy5jbG91ZGZsYXJlLmNvbS9hamF4L2xpYnMvTGVhZmxldC5hd2Vzb21lLW1hcmtlcnMvMi4wLjIvbGVhZmxldC5hd2Vzb21lLW1hcmtlcnMuanMiPjwvc2NyaXB0PgogICAgPGxpbmsgcmVsPSJzdHlsZXNoZWV0IiBocmVmPSJodHRwczovL2Nkbi5qc2RlbGl2ci5uZXQvbnBtL2xlYWZsZXRAMS4yLjAvZGlzdC9sZWFmbGV0LmNzcyIvPgogICAgPGxpbmsgcmVsPSJzdHlsZXNoZWV0IiBocmVmPSJodHRwczovL21heGNkbi5ib290c3RyYXBjZG4uY29tL2Jvb3RzdHJhcC8zLjIuMC9jc3MvYm9vdHN0cmFwLm1pbi5jc3MiLz4KICAgIDxsaW5rIHJlbD0ic3R5bGVzaGVldCIgaHJlZj0iaHR0cHM6Ly9tYXhjZG4uYm9vdHN0cmFwY2RuLmNvbS9ib290c3RyYXAvMy4yLjAvY3NzL2Jvb3RzdHJhcC10aGVtZS5taW4uY3NzIi8+CiAgICA8bGluayByZWw9InN0eWxlc2hlZXQiIGhyZWY9Imh0dHBzOi8vbWF4Y2RuLmJvb3RzdHJhcGNkbi5jb20vZm9udC1hd2Vzb21lLzQuNi4zL2Nzcy9mb250LWF3ZXNvbWUubWluLmNzcyIvPgogICAgPGxpbmsgcmVsPSJzdHlsZXNoZWV0IiBocmVmPSJodHRwczovL2NkbmpzLmNsb3VkZmxhcmUuY29tL2FqYXgvbGlicy9MZWFmbGV0LmF3ZXNvbWUtbWFya2Vycy8yLjAuMi9sZWFmbGV0LmF3ZXNvbWUtbWFya2Vycy5jc3MiLz4KICAgIDxsaW5rIHJlbD0ic3R5bGVzaGVldCIgaHJlZj0iaHR0cHM6Ly9yYXdnaXQuY29tL3B5dGhvbi12aXN1YWxpemF0aW9uL2ZvbGl1bS9tYXN0ZXIvZm9saXVtL3RlbXBsYXRlcy9sZWFmbGV0LmF3ZXNvbWUucm90YXRlLmNzcyIvPgogICAgPHN0eWxlPmh0bWwsIGJvZHkge3dpZHRoOiAxMDAlO2hlaWdodDogMTAwJTttYXJnaW46IDA7cGFkZGluZzogMDt9PC9zdHlsZT4KICAgIDxzdHlsZT4jbWFwIHtwb3NpdGlvbjphYnNvbHV0ZTt0b3A6MDtib3R0b206MDtyaWdodDowO2xlZnQ6MDt9PC9zdHlsZT4KICAgIAogICAgPHN0eWxlPiNtYXBfZWQwMGViYTFiY2RmNDAzMThkZTRiZTAyYmExYzBhZDggewogICAgICAgIHBvc2l0aW9uOiByZWxhdGl2ZTsKICAgICAgICB3aWR0aDogMTAwLjAlOwogICAgICAgIGhlaWdodDogMTAwLjAlOwogICAgICAgIGxlZnQ6IDAuMCU7CiAgICAgICAgdG9wOiAwLjAlOwogICAgICAgIH0KICAgIDwvc3R5bGU+CiAgICA8c2NyaXB0IHNyYz0iaHR0cHM6Ly9jZG5qcy5jbG91ZGZsYXJlLmNvbS9hamF4L2xpYnMvbGVhZmxldC5tYXJrZXJjbHVzdGVyLzEuMS4wL2xlYWZsZXQubWFya2VyY2x1c3Rlci5qcyI+PC9zY3JpcHQ+CiAgICA8bGluayByZWw9InN0eWxlc2hlZXQiIGhyZWY9Imh0dHBzOi8vY2RuanMuY2xvdWRmbGFyZS5jb20vYWpheC9saWJzL2xlYWZsZXQubWFya2VyY2x1c3Rlci8xLjEuMC9NYXJrZXJDbHVzdGVyLmNzcyIvPgogICAgPGxpbmsgcmVsPSJzdHlsZXNoZWV0IiBocmVmPSJodHRwczovL2NkbmpzLmNsb3VkZmxhcmUuY29tL2FqYXgvbGlicy9sZWFmbGV0Lm1hcmtlcmNsdXN0ZXIvMS4xLjAvTWFya2VyQ2x1c3Rlci5EZWZhdWx0LmNzcyIvPgo8L2hlYWQ+Cjxib2R5PiAgICAKICAgIAogICAgPGRpdiBjbGFzcz0iZm9saXVtLW1hcCIgaWQ9Im1hcF9lZDAwZWJhMWJjZGY0MDMxOGRlNGJlMDJiYTFjMGFkOCIgPjwvZGl2Pgo8L2JvZHk+CjxzY3JpcHQ+ICAgIAogICAgCiAgICAKICAgICAgICB2YXIgYm91bmRzID0gbnVsbDsKICAgIAoKICAgIHZhciBtYXBfZWQwMGViYTFiY2RmNDAzMThkZTRiZTAyYmExYzBhZDggPSBMLm1hcCgKICAgICAgICAnbWFwX2VkMDBlYmExYmNkZjQwMzE4ZGU0YmUwMmJhMWMwYWQ4JywgewogICAgICAgIGNlbnRlcjogWzQ1LjI4MDk3MzUwMzUsIC03NS43MjE0OTA5MDcyXSwKICAgICAgICB6b29tOiAxMCwKICAgICAgICBtYXhCb3VuZHM6IGJvdW5kcywKICAgICAgICBsYXllcnM6IFtdLAogICAgICAgIHdvcmxkQ29weUp1bXA6IGZhbHNlLAogICAgICAgIGNyczogTC5DUlMuRVBTRzM4NTcsCiAgICAgICAgem9vbUNvbnRyb2w6IHRydWUsCiAgICAgICAgfSk7CgogICAgCiAgICAKICAgIHZhciB0aWxlX2xheWVyXzU3YzBhYzg2ZTc0NjQzMTM5ZmQyYTI3OTk1YTM2N2E1ID0gTC50aWxlTGF5ZXIoCiAgICAgICAgJ2h0dHBzOi8ve3N9LnRpbGUub3BlbnN0cmVldG1hcC5vcmcve3p9L3t4fS97eX0ucG5nJywKICAgICAgICB7CiAgICAgICAgImF0dHJpYnV0aW9uIjogbnVsbCwgCiAgICAgICAgImRldGVjdFJldGluYSI6IGZhbHNlLCAKICAgICAgICAibWF4TmF0aXZlWm9vbSI6IDE4LCAKICAgICAgICAibWF4Wm9vbSI6IDE4LCAKICAgICAgICAibWluWm9vbSI6IDAsIAogICAgICAgICJub1dyYXAiOiBmYWxzZSwgCiAgICAgICAgInN1YmRvbWFpbnMiOiAiYWJjIgp9KS5hZGRUbyhtYXBfZWQwMGViYTFiY2RmNDAzMThkZTRiZTAyYmExYzBhZDgpOwogICAgCiAgICAgICAgICAgIHZhciBtYXJrZXJfY2x1c3Rlcl9kNDIxYWM5NDg0NmI0ZDA3ODZhMzU2OTdiZTdjMmFjNCA9IEwubWFya2VyQ2x1c3Rlckdyb3VwKHt9KTsKICAgICAgICAgICAgbWFwX2VkMDBlYmExYmNkZjQwMzE4ZGU0YmUwMmJhMWMwYWQ4LmFkZExheWVyKG1hcmtlcl9jbHVzdGVyX2Q0MjFhYzk0ODQ2YjRkMDc4NmEzNTY5N2JlN2MyYWM0KTsKICAgICAgICAgICAgCiAgICAKICAgICAgICB2YXIgbWFya2VyX2JkNGVlNGQzZDlhYzQ2MGY4ODNkYzJjZWE3OGZkMmQ5ID0gTC5tYXJrZXIoCiAgICAgICAgICAgIFs0NS40MDEyOTg0OTQ1LCAtNzUuNzA5OTM4Mjc2Ml0sCiAgICAgICAgICAgIHsKICAgICAgICAgICAgICAgIGljb246IG5ldyBMLkljb24uRGVmYXVsdCgpCiAgICAgICAgICAgICAgICB9CiAgICAgICAgICAgICkuYWRkVG8obWFya2VyX2NsdXN0ZXJfZDQyMWFjOTQ4NDZiNGQwNzg2YTM1Njk3YmU3YzJhYzQpOwogICAgICAgIAogICAgCiAgICAgICAgdmFyIG1hcmtlcl9iZTJlY2Y0ZTFiYmE0MzZjYjQwMDdjNWI4NjFhZTYyNCA9IEwubWFya2VyKAogICAgICAgICAgICBbNDUuMzk4NjYxMzMwNywgLTc1LjcwODM0NzQxNjNdLAogICAgICAgICAgICB7CiAgICAgICAgICAgICAgICBpY29uOiBuZXcgTC5JY29uLkRlZmF1bHQoKQogICAgICAgICAgICAgICAgfQogICAgICAgICAgICApLmFkZFRvKG1hcmtlcl9jbHVzdGVyX2Q0MjFhYzk0ODQ2YjRkMDc4NmEzNTY5N2JlN2MyYWM0KTsKICAgICAgICAKICAgIAogICAgICAgIHZhciBtYXJrZXJfM2VlZGFjNGQ4YTI1NDRkMzllN2M2NGVkNmI4ZGMzMDYgPSBMLm1hcmtlcigKICAgICAgICAgICAgWzQ1LjM1MDE0OTEzNDMsIC03NS42NTQ5MTc2MDldLAogICAgICAgICAgICB7CiAgICAgICAgICAgICAgICBpY29uOiBuZXcgTC5JY29uLkRlZmF1bHQoKQogICAgICAgICAgICAgICAgfQogICAgICAgICAgICApLmFkZFRvKG1hcmtlcl9jbHVzdGVyX2Q0MjFhYzk0ODQ2YjRkMDc4NmEzNTY5N2JlN2MyYWM0KTsKICAgICAgICAKICAgIAogICAgICAgIHZhciBtYXJrZXJfY2MzMGJmYTQwNjUyNDczZmJkMmYwYzBmMzljMDIyNDAgPSBMLm1hcmtlcigKICAgICAgICAgICAgWzQ1LjQxMjg3MDM1MzEsIC03NS43MTI2MTgyNTAyXSwKICAgICAgICAgICAgewogICAgICAgICAgICAgICAgaWNvbjogbmV3IEwuSWNvbi5EZWZhdWx0KCkKICAgICAgICAgICAgICAgIH0KICAgICAgICAgICAgKS5hZGRUbyhtYXJrZXJfY2x1c3Rlcl9kNDIxYWM5NDg0NmI0ZDA3ODZhMzU2OTdiZTdjMmFjNCk7CiAgICAgICAgCiAgICAKICAgICAgICB2YXIgbWFya2VyXzI2OTZiODQ0NTEzZDRlMmU5YjQ0NzI2MTIyOGU0NmE1ID0gTC5tYXJrZXIoCiAgICAgICAgICAgIFs0NS40MjI1MDgyNTk4LCAtNzUuNjk0MzA5NjkyNF0sCiAgICAgICAgICAgIHsKICAgICAgICAgICAgICAgIGljb246IG5ldyBMLkljb24uRGVmYXVsdCgpCiAgICAgICAgICAgICAgICB9CiAgICAgICAgICAgICkuYWRkVG8obWFya2VyX2NsdXN0ZXJfZDQyMWFjOTQ4NDZiNGQwNzg2YTM1Njk3YmU3YzJhYzQpOwogICAgICAgIAogICAgCiAgICAgICAgdmFyIG1hcmtlcl84YjM5YTUxNjIyZDY0YjUyYjFkZDA2OGE4ZWU0YmMyYiA9IEwubWFya2VyKAogICAgICAgICAgICBbNDUuNDI4ODY2OTIyNCwgLTc1LjY0MTI4ODY5MDNdLAogICAgICAgICAgICB7CiAgICAgICAgICAgICAgICBpY29uOiBuZXcgTC5JY29uLkRlZmF1bHQoKQogICAgICAgICAgICAgICAgfQogICAgICAgICAgICApLmFkZFRvKG1hcmtlcl9jbHVzdGVyX2Q0MjFhYzk0ODQ2YjRkMDc4NmEzNTY5N2JlN2MyYWM0KTsKICAgICAgICAKICAgIAogICAgICAgIHZhciBtYXJrZXJfODZkZjQyOGY2NjQxNDEzNzk2Y2FlNTJhZGU3NmM4YmUgPSBMLm1hcmtlcigKICAgICAgICAgICAgWzQ1LjQ2MTE0OTIzNDIsIC03NS40OTY5NTYyMDY1XSwKICAgICAgICAgICAgewogICAgICAgICAgICAgICAgaWNvbjogbmV3IEwuSWNvbi5EZWZhdWx0KCkKICAgICAgICAgICAgICAgIH0KICAgICAgICAgICAgKS5hZGRUbyhtYXJrZXJfY2x1c3Rlcl9kNDIxYWM5NDg0NmI0ZDA3ODZhMzU2OTdiZTdjMmFjNCk7CiAgICAgICAgCiAgICAKICAgICAgICB2YXIgbWFya2VyXzAxNjFhMTQzOTIxYTQ5YjM5ZjE4NmIwZDU5MjA4NjM0ID0gTC5tYXJrZXIoCiAgICAgICAgICAgIFs0NS4zNzg1OTA4MjIsIC03NS42Njc1NTY1NF0sCiAgICAgICAgICAgIHsKICAgICAgICAgICAgICAgIGljb246IG5ldyBMLkljb24uRGVmYXVsdCgpCiAgICAgICAgICAgICAgICB9CiAgICAgICAgICAgICkuYWRkVG8obWFya2VyX2NsdXN0ZXJfZDQyMWFjOTQ4NDZiNGQwNzg2YTM1Njk3YmU3YzJhYzQpOwogICAgICAgIAogICAgCiAgICAgICAgdmFyIG1hcmtlcl8zYmQ3MDM3NTFhOWQ0MGI1YTFlNDgyMmYzZGUyYmRjMCA9IEwubWFya2VyKAogICAgICAgICAgICBbNDUuMzkwMDQxODczNiwgLTc1LjY3OTExNDYwNDhdLAogICAgICAgICAgICB7CiAgICAgICAgICAgICAgICBpY29uOiBuZXcgTC5JY29uLkRlZmF1bHQoKQogICAgICAgICAgICAgICAgfQogICAgICAgICAgICApLmFkZFRvKG1hcmtlcl9jbHVzdGVyX2Q0MjFhYzk0ODQ2YjRkMDc4NmEzNTY5N2JlN2MyYWM0KTsKICAgICAgICAKICAgIAogICAgICAgIHZhciBtYXJrZXJfOWZjYzE5M2Y3NTgxNDY1YmJhZTk0ZDhjMDZiMzdjYTggPSBMLm1hcmtlcigKICAgICAgICAgICAgWzQ1LjM4Mjg0Njg1MDgsIC03NS42NzEwNzc5NjcxXSwKICAgICAgICAgICAgewogICAgICAgICAgICAgICAgaWNvbjogbmV3IEwuSWNvbi5EZWZhdWx0KCkKICAgICAgICAgICAgICAgIH0KICAgICAgICAgICAgKS5hZGRUbyhtYXJrZXJfY2x1c3Rlcl9kNDIxYWM5NDg0NmI0ZDA3ODZhMzU2OTdiZTdjMmFjNCk7CiAgICAgICAgCiAgICAKICAgICAgICB2YXIgbWFya2VyXzcxMDUwZjRjZmRkYTQzN2I4MTliMzg5MjYyNDdiNzBkID0gTC5tYXJrZXIoCiAgICAgICAgICAgIFs0NS40MTUzNjgxOTA3LCAtNzUuNjk2NDEzMDMxMV0sCiAgICAgICAgICAgIHsKICAgICAgICAgICAgICAgIGljb246IG5ldyBMLkljb24uRGVmYXVsdCgpCiAgICAgICAgICAgICAgICB9CiAgICAgICAgICAgICkuYWRkVG8obWFya2VyX2NsdXN0ZXJfZDQyMWFjOTQ4NDZiNGQwNzg2YTM1Njk3YmU3YzJhYzQpOwogICAgICAgIAogICAgCiAgICAgICAgdmFyIG1hcmtlcl9jNDAwNWNjODE5NDg0NzgwYmRiYzQzZWIxYjA1ZDEyMiA9IEwubWFya2VyKAogICAgICAgICAgICBbNDUuMzU3NTIxMTMxNSwgLTc1LjY1Mzk3MDE5OTNdLAogICAgICAgICAgICB7CiAgICAgICAgICAgICAgICBpY29uOiBuZXcgTC5JY29uLkRlZmF1bHQoKQogICAgICAgICAgICAgICAgfQogICAgICAgICAgICApLmFkZFRvKG1hcmtlcl9jbHVzdGVyX2Q0MjFhYzk0ODQ2YjRkMDc4NmEzNTY5N2JlN2MyYWM0KTsKICAgICAgICAKICAgIAogICAgICAgIHZhciBtYXJrZXJfMTJjZTIyNDFjMmI2NDkzMmI1MDU5MTA2MTRiZjJkMWEgPSBMLm1hcmtlcigKICAgICAgICAgICAgWzQ1LjM2MjA0MDEwNDcsIC03NS42NTgwMDAyNjY5XSwKICAgICAgICAgICAgewogICAgICAgICAgICAgICAgaWNvbjogbmV3IEwuSWNvbi5EZWZhdWx0KCkKICAgICAgICAgICAgICAgIH0KICAgICAgICAgICAgKS5hZGRUbyhtYXJrZXJfY2x1c3Rlcl9kNDIxYWM5NDg0NmI0ZDA3ODZhMzU2OTdiZTdjMmFjNCk7CiAgICAgICAgCiAgICAKICAgICAgICB2YXIgbWFya2VyXzBlZmUyYTMyNWUzMDQ1NDJiYmZhZGIzYjlkNjdlNWMyID0gTC5tYXJrZXIoCiAgICAgICAgICAgIFs0NS4zNjEyNDYxMjM2LCAtNzUuNjU3NDM0MDI2Nl0sCiAgICAgICAgICAgIHsKICAgICAgICAgICAgICAgIGljb246IG5ldyBMLkljb24uRGVmYXVsdCgpCiAgICAgICAgICAgICAgICB9CiAgICAgICAgICAgICkuYWRkVG8obWFya2VyX2NsdXN0ZXJfZDQyMWFjOTQ4NDZiNGQwNzg2YTM1Njk3YmU3YzJhYzQpOwogICAgICAgIAogICAgCiAgICAgICAgdmFyIG1hcmtlcl9lNmMwYjBjMTkxOWY0NzBmYjNhYjk2OTYyNGRkMTg5NiA9IEwubWFya2VyKAogICAgICAgICAgICBbNDUuNDEwMjAwOTY4NSwgLTc1LjYxOTY5MTk2OTddLAogICAgICAgICAgICB7CiAgICAgICAgICAgICAgICBpY29uOiBuZXcgTC5JY29uLkRlZmF1bHQoKQogICAgICAgICAgICAgICAgfQogICAgICAgICAgICApLmFkZFRvKG1hcmtlcl9jbHVzdGVyX2Q0MjFhYzk0ODQ2YjRkMDc4NmEzNTY5N2JlN2MyYWM0KTsKICAgICAgICAKICAgIAogICAgICAgIHZhciBtYXJrZXJfZGE4MDU2ZWU5ZDhkNDFlNDlhZmFjZjEyOWRkZjI1ZDEgPSBMLm1hcmtlcigKICAgICAgICAgICAgWzQ1LjQ0MDUyNjkwNTUsIC03NS42NzMzNTU1NzgzXSwKICAgICAgICAgICAgewogICAgICAgICAgICAgICAgaWNvbjogbmV3IEwuSWNvbi5EZWZhdWx0KCkKICAgICAgICAgICAgICAgIH0KICAgICAgICAgICAgKS5hZGRUbyhtYXJrZXJfY2x1c3Rlcl9kNDIxYWM5NDg0NmI0ZDA3ODZhMzU2OTdiZTdjMmFjNCk7CiAgICAgICAgCiAgICAKICAgICAgICB2YXIgbWFya2VyX2JlNmRkZjkwMDI1ZjQ1NDNiZjljMGI1OTlkMTQ2YjBhID0gTC5tYXJrZXIoCiAgICAgICAgICAgIFs0NS4zNDA5OTU2NzQsIC03NS43ODgwMjY3MDQ5XSwKICAgICAgICAgICAgewogICAgICAgICAgICAgICAgaWNvbjogbmV3IEwuSWNvbi5EZWZhdWx0KCkKICAgICAgICAgICAgICAgIH0KICAgICAgICAgICAgKS5hZGRUbyhtYXJrZXJfY2x1c3Rlcl9kNDIxYWM5NDg0NmI0ZDA3ODZhMzU2OTdiZTdjMmFjNCk7CiAgICAgICAgCiAgICAKICAgICAgICB2YXIgbWFya2VyX2U5NzkyMzIyZjM2YTRlYmM5MzJkYmZjZjBhNjRmODRjID0gTC5tYXJrZXIoCiAgICAgICAgICAgIFs0NS4zNjUyOTAyNjUzLCAtNzUuNzMwODI2MTY0NV0sCiAgICAgICAgICAgIHsKICAgICAgICAgICAgICAgIGljb246IG5ldyBMLkljb24uRGVmYXVsdCgpCiAgICAgICAgICAgICAgICB9CiAgICAgICAgICAgICkuYWRkVG8obWFya2VyX2NsdXN0ZXJfZDQyMWFjOTQ4NDZiNGQwNzg2YTM1Njk3YmU3YzJhYzQpOwogICAgICAgIAogICAgCiAgICAgICAgdmFyIG1hcmtlcl80MWQxZjA3MTVhMDg0ZDdjOWEwMzc0OTRmNmM2MmZiNyA9IEwubWFya2VyKAogICAgICAgICAgICBbNDUuNDEzNjQxNDIxMywgLTc1LjcwMjczMDQyODldLAogICAgICAgICAgICB7CiAgICAgICAgICAgICAgICBpY29uOiBuZXcgTC5JY29uLkRlZmF1bHQoKQogICAgICAgICAgICAgICAgfQogICAgICAgICAgICApLmFkZFRvKG1hcmtlcl9jbHVzdGVyX2Q0MjFhYzk0ODQ2YjRkMDc4NmEzNTY5N2JlN2MyYWM0KTsKICAgICAgICAKICAgIAogICAgICAgIHZhciBtYXJrZXJfZWEwZjQ1ODU4MmM3NDgyYmI3YjkxOTYyMjU0YzdiODkgPSBMLm1hcmtlcigKICAgICAgICAgICAgWzQ1LjQwOTczNTMzOSwgLTc1LjY5OTQ1OTU2MzddLAogICAgICAgICAgICB7CiAgICAgICAgICAgICAgICBpY29uOiBuZXcgTC5JY29uLkRlZmF1bHQoKQogICAgICAgICAgICAgICAgfQogICAgICAgICAgICApLmFkZFRvKG1hcmtlcl9jbHVzdGVyX2Q0MjFhYzk0ODQ2YjRkMDc4NmEzNTY5N2JlN2MyYWM0KTsKICAgICAgICAKICAgIAogICAgICAgIHZhciBtYXJrZXJfMDdkMjQ3ZjBiNWQ0NGYzZGFhN2IxN2YyZGUxZDlhMjQgPSBMLm1hcmtlcigKICAgICAgICAgICAgWzQ1LjM3NzgzNjM1MjYsIC03NS42NTE3MDk0MTUxXSwKICAgICAgICAgICAgewogICAgICAgICAgICAgICAgaWNvbjogbmV3IEwuSWNvbi5EZWZhdWx0KCkKICAgICAgICAgICAgICAgIH0KICAgICAgICAgICAgKS5hZGRUbyhtYXJrZXJfY2x1c3Rlcl9kNDIxYWM5NDg0NmI0ZDA3ODZhMzU2OTdiZTdjMmFjNCk7CiAgICAgICAgCiAgICAKICAgICAgICB2YXIgbWFya2VyXzJmNGIyYWU4ZTY1YjQ2OThhZTc2NTAxNzMwYmQ5OWIxID0gTC5tYXJrZXIoCiAgICAgICAgICAgIFs0NS40NTMzNjYyMjU3LCAtNzUuNTc1Mjc4OTAwNV0sCiAgICAgICAgICAgIHsKICAgICAgICAgICAgICAgIGljb246IG5ldyBMLkljb24uRGVmYXVsdCgpCiAgICAgICAgICAgICAgICB9CiAgICAgICAgICAgICkuYWRkVG8obWFya2VyX2NsdXN0ZXJfZDQyMWFjOTQ4NDZiNGQwNzg2YTM1Njk3YmU3YzJhYzQpOwogICAgICAgIAogICAgCiAgICAgICAgdmFyIG1hcmtlcl80Y2NhNjZlYjE3MDQ0YmQ2OTk1NTFhMmQyZmQ2NjRmZiA9IEwubWFya2VyKAogICAgICAgICAgICBbNDUuNDAxMTgyMDc2NCwgLTc1LjcwNzY0NzAwNjVdLAogICAgICAgICAgICB7CiAgICAgICAgICAgICAgICBpY29uOiBuZXcgTC5JY29uLkRlZmF1bHQoKQogICAgICAgICAgICAgICAgfQogICAgICAgICAgICApLmFkZFRvKG1hcmtlcl9jbHVzdGVyX2Q0MjFhYzk0ODQ2YjRkMDc4NmEzNTY5N2JlN2MyYWM0KTsKICAgICAgICAKICAgIAogICAgICAgIHZhciBtYXJrZXJfMzcwY2FhNTBjZjU2NDBhNDllOTI2OGRlNzQ3ZTBkMjggPSBMLm1hcmtlcigKICAgICAgICAgICAgWzQ1LjI3ODI2MTc5MTcsIC03NS43NDE1NDQxNjc4XSwKICAgICAgICAgICAgewogICAgICAgICAgICAgICAgaWNvbjogbmV3IEwuSWNvbi5EZWZhdWx0KCkKICAgICAgICAgICAgICAgIH0KICAgICAgICAgICAgKS5hZGRUbyhtYXJrZXJfY2x1c3Rlcl9kNDIxYWM5NDg0NmI0ZDA3ODZhMzU2OTdiZTdjMmFjNCk7CiAgICAgICAgCiAgICAKICAgICAgICB2YXIgbWFya2VyX2JkY2YxZGVmZDNmYTQzZTJhN2MwMTNmNWE4ODAwODcxID0gTC5tYXJrZXIoCiAgICAgICAgICAgIFs0NS4yNzgyNzM3NzU3LCAtNzUuNzQxNTQ0MDA4Ml0sCiAgICAgICAgICAgIHsKICAgICAgICAgICAgICAgIGljb246IG5ldyBMLkljb24uRGVmYXVsdCgpCiAgICAgICAgICAgICAgICB9CiAgICAgICAgICAgICkuYWRkVG8obWFya2VyX2NsdXN0ZXJfZDQyMWFjOTQ4NDZiNGQwNzg2YTM1Njk3YmU3YzJhYzQpOwogICAgICAgIAogICAgCiAgICAgICAgdmFyIG1hcmtlcl9jZWQ2NGYxOGUwMGM0YmE2YTg0NTIxNDFiMjUxMzdkMiA9IEwubWFya2VyKAogICAgICAgICAgICBbNDUuNDM2Nzg3MjUzNywgLTc1LjYwNTI5Mjc1OTFdLAogICAgICAgICAgICB7CiAgICAgICAgICAgICAgICBpY29uOiBuZXcgTC5JY29uLkRlZmF1bHQoKQogICAgICAgICAgICAgICAgfQogICAgICAgICAgICApLmFkZFRvKG1hcmtlcl9jbHVzdGVyX2Q0MjFhYzk0ODQ2YjRkMDc4NmEzNTY5N2JlN2MyYWM0KTsKICAgICAgICAKICAgIAogICAgICAgIHZhciBtYXJrZXJfOWRlMzhlM2IxMmI4NGMwZWIyMTJmOTg4NTVkNDNiMGEgPSBMLm1hcmtlcigKICAgICAgICAgICAgWzQ1LjQwNTg2NDAxOTYsIC03NS43MDgzNjg1NTU0XSwKICAgICAgICAgICAgewogICAgICAgICAgICAgICAgaWNvbjogbmV3IEwuSWNvbi5EZWZhdWx0KCkKICAgICAgICAgICAgICAgIH0KICAgICAgICAgICAgKS5hZGRUbyhtYXJrZXJfY2x1c3Rlcl9kNDIxYWM5NDg0NmI0ZDA3ODZhMzU2OTdiZTdjMmFjNCk7CiAgICAgICAgCiAgICAKICAgICAgICB2YXIgbWFya2VyXzJkZDRlNTE2NGIwNzRkYTNiZTEzNzIwM2Q2NmNjZTJkID0gTC5tYXJrZXIoCiAgICAgICAgICAgIFs0NS40MDM4NDkwMzIzLCAtNzUuNjI1Nzk1NzgwNF0sCiAgICAgICAgICAgIHsKICAgICAgICAgICAgICAgIGljb246IG5ldyBMLkljb24uRGVmYXVsdCgpCiAgICAgICAgICAgICAgICB9CiAgICAgICAgICAgICkuYWRkVG8obWFya2VyX2NsdXN0ZXJfZDQyMWFjOTQ4NDZiNGQwNzg2YTM1Njk3YmU3YzJhYzQpOwogICAgICAgIAogICAgCiAgICAgICAgdmFyIG1hcmtlcl80MDQyNTZjNzk3M2U0MzJmYTUxYWE0ZjMyMDFhYjZiMyA9IEwubWFya2VyKAogICAgICAgICAgICBbNDUuMzE0NTExOTk3MywgLTc1LjYxNzE1NzM0MTRdLAogICAgICAgICAgICB7CiAgICAgICAgICAgICAgICBpY29uOiBuZXcgTC5JY29uLkRlZmF1bHQoKQogICAgICAgICAgICAgICAgfQogICAgICAgICAgICApLmFkZFRvKG1hcmtlcl9jbHVzdGVyX2Q0MjFhYzk0ODQ2YjRkMDc4NmEzNTY5N2JlN2MyYWM0KTsKICAgICAgICAKICAgIAogICAgICAgIHZhciBtYXJrZXJfYzk3NjQ4YTYwYzcwNGUxNDgxOGI2NjM5ZGQyMDIwMzkgPSBMLm1hcmtlcigKICAgICAgICAgICAgWzQ1LjM1NzU3MDUzMjcsIC03NS42MzcwODU1MTFdLAogICAgICAgICAgICB7CiAgICAgICAgICAgICAgICBpY29uOiBuZXcgTC5JY29uLkRlZmF1bHQoKQogICAgICAgICAgICAgICAgfQogICAgICAgICAgICApLmFkZFRvKG1hcmtlcl9jbHVzdGVyX2Q0MjFhYzk0ODQ2YjRkMDc4NmEzNTY5N2JlN2MyYWM0KTsKICAgICAgICAKICAgIAogICAgICAgIHZhciBtYXJrZXJfZDcyODAyYjY1YTYzNDlhZmI1ZmMyZTI1ZGRjOWU2MjIgPSBMLm1hcmtlcigKICAgICAgICAgICAgWzQ1LjMyMjU0MzcyNjMsIC03NS44OTA3NDM3MDYxXSwKICAgICAgICAgICAgewogICAgICAgICAgICAgICAgaWNvbjogbmV3IEwuSWNvbi5EZWZhdWx0KCkKICAgICAgICAgICAgICAgIH0KICAgICAgICAgICAgKS5hZGRUbyhtYXJrZXJfY2x1c3Rlcl9kNDIxYWM5NDg0NmI0ZDA3ODZhMzU2OTdiZTdjMmFjNCk7CiAgICAgICAgCiAgICAKICAgICAgICB2YXIgbWFya2VyXzQ1NTllNzMzNjU3ZjRmNWViNzljODNhMTQ3ZTgwZTkzID0gTC5tYXJrZXIoCiAgICAgICAgICAgIFs0NS4zNzYzOTc0MDgsIC03NS43NTY1NTg4NjcxXSwKICAgICAgICAgICAgewogICAgICAgICAgICAgICAgaWNvbjogbmV3IEwuSWNvbi5EZWZhdWx0KCkKICAgICAgICAgICAgICAgIH0KICAgICAgICAgICAgKS5hZGRUbyhtYXJrZXJfY2x1c3Rlcl9kNDIxYWM5NDg0NmI0ZDA3ODZhMzU2OTdiZTdjMmFjNCk7CiAgICAgICAgCiAgICAKICAgICAgICB2YXIgbWFya2VyX2U4M2UwODlmNzkwMDRkMjdhZTFiMjA1NjUzMmRmN2ZjID0gTC5tYXJrZXIoCiAgICAgICAgICAgIFs0NS40MDg3OTU2MjU1LCAtNzUuNjkzODAyNjQ4Ml0sCiAgICAgICAgICAgIHsKICAgICAgICAgICAgICAgIGljb246IG5ldyBMLkljb24uRGVmYXVsdCgpCiAgICAgICAgICAgICAgICB9CiAgICAgICAgICAgICkuYWRkVG8obWFya2VyX2NsdXN0ZXJfZDQyMWFjOTQ4NDZiNGQwNzg2YTM1Njk3YmU3YzJhYzQpOwogICAgICAgIAogICAgCiAgICAgICAgdmFyIG1hcmtlcl8wYmMwMzM1ZDkxNGI0Y2U3YWUzMzMwZTRjZGU3Mzg2MCA9IEwubWFya2VyKAogICAgICAgICAgICBbNDUuNDAyNzk1NDI0NSwgLTc1LjY3MTA4MTE0MzFdLAogICAgICAgICAgICB7CiAgICAgICAgICAgICAgICBpY29uOiBuZXcgTC5JY29uLkRlZmF1bHQoKQogICAgICAgICAgICAgICAgfQogICAgICAgICAgICApLmFkZFRvKG1hcmtlcl9jbHVzdGVyX2Q0MjFhYzk0ODQ2YjRkMDc4NmEzNTY5N2JlN2MyYWM0KTsKICAgICAgICAKICAgIAogICAgICAgIHZhciBtYXJrZXJfNWQ3YmE1ZTRmOWU0NDZhZjljNjViNjk2ZTBlNDBkNTYgPSBMLm1hcmtlcigKICAgICAgICAgICAgWzQ1LjQ4NDI1MDY0NjUsIC03NS41MjAzNjc4OTY1XSwKICAgICAgICAgICAgewogICAgICAgICAgICAgICAgaWNvbjogbmV3IEwuSWNvbi5EZWZhdWx0KCkKICAgICAgICAgICAgICAgIH0KICAgICAgICAgICAgKS5hZGRUbyhtYXJrZXJfY2x1c3Rlcl9kNDIxYWM5NDg0NmI0ZDA3ODZhMzU2OTdiZTdjMmFjNCk7CiAgICAgICAgCiAgICAKICAgICAgICB2YXIgbWFya2VyXzdkNWQ3ZmE3ZWI1YzQzOWU5MzFkNGRiZGJiNDZmZDRkID0gTC5tYXJrZXIoCiAgICAgICAgICAgIFs0NS4zNjI4NTI4NDc0LCAtNzUuNzQwNjA3OTMzN10sCiAgICAgICAgICAgIHsKICAgICAgICAgICAgICAgIGljb246IG5ldyBMLkljb24uRGVmYXVsdCgpCiAgICAgICAgICAgICAgICB9CiAgICAgICAgICAgICkuYWRkVG8obWFya2VyX2NsdXN0ZXJfZDQyMWFjOTQ4NDZiNGQwNzg2YTM1Njk3YmU3YzJhYzQpOwogICAgICAgIAogICAgCiAgICAgICAgdmFyIG1hcmtlcl84OTFkYTY4ZDg4NTc0ZGZjOTgwMjEwMWFiNWE2NWYwMSA9IEwubWFya2VyKAogICAgICAgICAgICBbNDUuMjg5ODA2Njk0OSwgLTc1Ljc0NTcyOTgxNTldLAogICAgICAgICAgICB7CiAgICAgICAgICAgICAgICBpY29uOiBuZXcgTC5JY29uLkRlZmF1bHQoKQogICAgICAgICAgICAgICAgfQogICAgICAgICAgICApLmFkZFRvKG1hcmtlcl9jbHVzdGVyX2Q0MjFhYzk0ODQ2YjRkMDc4NmEzNTY5N2JlN2MyYWM0KTsKICAgICAgICAKICAgIAogICAgICAgIHZhciBtYXJrZXJfYjY5OTNmZjUyY2M0NDBhMTk1ZWIwZmM5YTY0M2JjNGMgPSBMLm1hcmtlcigKICAgICAgICAgICAgWzQ1LjM3NzQxNDkyMDksIC03NS42NjQxMjQ4NjE2XSwKICAgICAgICAgICAgewogICAgICAgICAgICAgICAgaWNvbjogbmV3IEwuSWNvbi5EZWZhdWx0KCkKICAgICAgICAgICAgICAgIH0KICAgICAgICAgICAgKS5hZGRUbyhtYXJrZXJfY2x1c3Rlcl9kNDIxYWM5NDg0NmI0ZDA3ODZhMzU2OTdiZTdjMmFjNCk7CiAgICAgICAgCiAgICAKICAgICAgICB2YXIgbWFya2VyX2UzYTc3NmJjNzM4YjQ5NTE5MmM3NmVjMTI3YTk0YTc4ID0gTC5tYXJrZXIoCiAgICAgICAgICAgIFs0NS40MTUyMzk0NDc1LCAtNzUuNjgxNTI0OTAwN10sCiAgICAgICAgICAgIHsKICAgICAgICAgICAgICAgIGljb246IG5ldyBMLkljb24uRGVmYXVsdCgpCiAgICAgICAgICAgICAgICB9CiAgICAgICAgICAgICkuYWRkVG8obWFya2VyX2NsdXN0ZXJfZDQyMWFjOTQ4NDZiNGQwNzg2YTM1Njk3YmU3YzJhYzQpOwogICAgICAgIAogICAgCiAgICAgICAgdmFyIG1hcmtlcl80NWVlNGM2N2Q4NWI0MDI0OTNmOTUxMjMyMWZjNzFhYiA9IEwubWFya2VyKAogICAgICAgICAgICBbNDUuMzAzNTk5OTAyMiwgLTc1LjkzMzU4MDA0NTNdLAogICAgICAgICAgICB7CiAgICAgICAgICAgICAgICBpY29uOiBuZXcgTC5JY29uLkRlZmF1bHQoKQogICAgICAgICAgICAgICAgfQogICAgICAgICAgICApLmFkZFRvKG1hcmtlcl9jbHVzdGVyX2Q0MjFhYzk0ODQ2YjRkMDc4NmEzNTY5N2JlN2MyYWM0KTsKICAgICAgICAKICAgIAogICAgICAgIHZhciBtYXJrZXJfNzcxNTRkMDQxYzIxNDIyMTg5NjUwNWViYzFjOTJkZjAgPSBMLm1hcmtlcigKICAgICAgICAgICAgWzQ1LjI3OTg1NTkyNTgsIC03NS43MTQ5MjI1ODQ5XSwKICAgICAgICAgICAgewogICAgICAgICAgICAgICAgaWNvbjogbmV3IEwuSWNvbi5EZWZhdWx0KCkKICAgICAgICAgICAgICAgIH0KICAgICAgICAgICAgKS5hZGRUbyhtYXJrZXJfY2x1c3Rlcl9kNDIxYWM5NDg0NmI0ZDA3ODZhMzU2OTdiZTdjMmFjNCk7CiAgICAgICAgCiAgICAKICAgICAgICB2YXIgbWFya2VyXzhkMzBlODgyZjZlZTQ1NmY5YmM3ZTNhNWRiNjg1NWY1ID0gTC5tYXJrZXIoCiAgICAgICAgICAgIFs0NS4zNjUxODI1MjE0LCAtNzUuNzg4Mzg3MTU3N10sCiAgICAgICAgICAgIHsKICAgICAgICAgICAgICAgIGljb246IG5ldyBMLkljb24uRGVmYXVsdCgpCiAgICAgICAgICAgICAgICB9CiAgICAgICAgICAgICkuYWRkVG8obWFya2VyX2NsdXN0ZXJfZDQyMWFjOTQ4NDZiNGQwNzg2YTM1Njk3YmU3YzJhYzQpOwogICAgICAgIAogICAgCiAgICAgICAgdmFyIG1hcmtlcl9jYjc4MjQ2NzJhYTY0MzliYTMxNTE2OThhMDgxZDVlOCA9IEwubWFya2VyKAogICAgICAgICAgICBbNDUuNDI2MTc5NjUwMiwgLTc1LjYzMTY3NjE5NjddLAogICAgICAgICAgICB7CiAgICAgICAgICAgICAgICBpY29uOiBuZXcgTC5JY29uLkRlZmF1bHQoKQogICAgICAgICAgICAgICAgfQogICAgICAgICAgICApLmFkZFRvKG1hcmtlcl9jbHVzdGVyX2Q0MjFhYzk0ODQ2YjRkMDc4NmEzNTY5N2JlN2MyYWM0KTsKICAgICAgICAKICAgIAogICAgICAgIHZhciBtYXJrZXJfM2ExM2RhNGIxNzIyNDI2M2E1NDVhZmM0ODY1NGNmN2UgPSBMLm1hcmtlcigKICAgICAgICAgICAgWzQ1LjQyNjE3OTYyOCwgLTc1LjYzMTY3NjE2NTldLAogICAgICAgICAgICB7CiAgICAgICAgICAgICAgICBpY29uOiBuZXcgTC5JY29uLkRlZmF1bHQoKQogICAgICAgICAgICAgICAgfQogICAgICAgICAgICApLmFkZFRvKG1hcmtlcl9jbHVzdGVyX2Q0MjFhYzk0ODQ2YjRkMDc4NmEzNTY5N2JlN2MyYWM0KTsKICAgICAgICAKICAgIAogICAgICAgIHZhciBtYXJrZXJfZjQ1MWY5NmNiMjA4NDU4YmI2OTA2MGQwZjBlNGU5NTMgPSBMLm1hcmtlcigKICAgICAgICAgICAgWzQ1LjQyNjE3NTQzMTUsIC03NS42MzE2NTU4MTg0XSwKICAgICAgICAgICAgewogICAgICAgICAgICAgICAgaWNvbjogbmV3IEwuSWNvbi5EZWZhdWx0KCkKICAgICAgICAgICAgICAgIH0KICAgICAgICAgICAgKS5hZGRUbyhtYXJrZXJfY2x1c3Rlcl9kNDIxYWM5NDg0NmI0ZDA3ODZhMzU2OTdiZTdjMmFjNCk7CiAgICAgICAgCiAgICAKICAgICAgICB2YXIgbWFya2VyXzAwODk5OTIxMWJhMjRhZWJhNWFjYzkwNGU2YTkyZjM5ID0gTC5tYXJrZXIoCiAgICAgICAgICAgIFs0NS40MjUwMDE1NzI5LCAtNzUuNjM2MDUxMjM2M10sCiAgICAgICAgICAgIHsKICAgICAgICAgICAgICAgIGljb246IG5ldyBMLkljb24uRGVmYXVsdCgpCiAgICAgICAgICAgICAgICB9CiAgICAgICAgICAgICkuYWRkVG8obWFya2VyX2NsdXN0ZXJfZDQyMWFjOTQ4NDZiNGQwNzg2YTM1Njk3YmU3YzJhYzQpOwogICAgICAgIAogICAgCiAgICAgICAgdmFyIG1hcmtlcl81NmQ1MDQ1MjRiM2M0NzdjYmU1M2QyZjAxYzM2YjgwMSA9IEwubWFya2VyKAogICAgICAgICAgICBbNDUuNDE3MzM3NDczOSwgLTc1LjYwNjU3MjI1OTddLAogICAgICAgICAgICB7CiAgICAgICAgICAgICAgICBpY29uOiBuZXcgTC5JY29uLkRlZmF1bHQoKQogICAgICAgICAgICAgICAgfQogICAgICAgICAgICApLmFkZFRvKG1hcmtlcl9jbHVzdGVyX2Q0MjFhYzk0ODQ2YjRkMDc4NmEzNTY5N2JlN2MyYWM0KTsKICAgICAgICAKICAgIAogICAgICAgIHZhciBtYXJrZXJfZDc1N2UzMTM2ODc5NDE4YTg1MWM5ZDY5ZWFmN2I0OWYgPSBMLm1hcmtlcigKICAgICAgICAgICAgWzQ1LjQzMjE0ODA2NTcsIC03NS42OTM5MjgzNDk0XSwKICAgICAgICAgICAgewogICAgICAgICAgICAgICAgaWNvbjogbmV3IEwuSWNvbi5EZWZhdWx0KCkKICAgICAgICAgICAgICAgIH0KICAgICAgICAgICAgKS5hZGRUbyhtYXJrZXJfY2x1c3Rlcl9kNDIxYWM5NDg0NmI0ZDA3ODZhMzU2OTdiZTdjMmFjNCk7CiAgICAgICAgCiAgICAKICAgICAgICB2YXIgbWFya2VyXzI4YWU4ZWJkMGEwMDQ0YzQ4MmZmMjM5M2RhMWIxNDJmID0gTC5tYXJrZXIoCiAgICAgICAgICAgIFs0NS4yMzMyNDc3MTgzLCAtNzUuNDc0MDExMzM4N10sCiAgICAgICAgICAgIHsKICAgICAgICAgICAgICAgIGljb246IG5ldyBMLkljb24uRGVmYXVsdCgpCiAgICAgICAgICAgICAgICB9CiAgICAgICAgICAgICkuYWRkVG8obWFya2VyX2NsdXN0ZXJfZDQyMWFjOTQ4NDZiNGQwNzg2YTM1Njk3YmU3YzJhYzQpOwogICAgICAgIAogICAgCiAgICAgICAgdmFyIG1hcmtlcl82OGM4NDZlMjgxNzM0OWI4YWE5MjM3MDZhMGFlYjFjOCA9IEwubWFya2VyKAogICAgICAgICAgICBbNDUuNDA4NDQ0NDg5OSwgLTc2LjAwMzg3ODAzMzJdLAogICAgICAgICAgICB7CiAgICAgICAgICAgICAgICBpY29uOiBuZXcgTC5JY29uLkRlZmF1bHQoKQogICAgICAgICAgICAgICAgfQogICAgICAgICAgICApLmFkZFRvKG1hcmtlcl9jbHVzdGVyX2Q0MjFhYzk0ODQ2YjRkMDc4NmEzNTY5N2JlN2MyYWM0KTsKICAgICAgICAKICAgIAogICAgICAgIHZhciBtYXJrZXJfYjM3NDM2YjQ3Yzg1NDZhOTliMzdmYTg2MjcwYzM2YmEgPSBMLm1hcmtlcigKICAgICAgICAgICAgWzQ1LjI5NjQ5NDQwNzUsIC03NS44NzI2MTAwMzgyXSwKICAgICAgICAgICAgewogICAgICAgICAgICAgICAgaWNvbjogbmV3IEwuSWNvbi5EZWZhdWx0KCkKICAgICAgICAgICAgICAgIH0KICAgICAgICAgICAgKS5hZGRUbyhtYXJrZXJfY2x1c3Rlcl9kNDIxYWM5NDg0NmI0ZDA3ODZhMzU2OTdiZTdjMmFjNCk7CiAgICAgICAgCiAgICAKICAgICAgICB2YXIgbWFya2VyXzYzYzM3N2EyNTRiZjRhYjhhZmQ5ZGRiZjZhNTk3NGM2ID0gTC5tYXJrZXIoCiAgICAgICAgICAgIFs0NS4yOTI1OTQzOTE5LCAtNzUuNzM0ODg3ODAxNl0sCiAgICAgICAgICAgIHsKICAgICAgICAgICAgICAgIGljb246IG5ldyBMLkljb24uRGVmYXVsdCgpCiAgICAgICAgICAgICAgICB9CiAgICAgICAgICAgICkuYWRkVG8obWFya2VyX2NsdXN0ZXJfZDQyMWFjOTQ4NDZiNGQwNzg2YTM1Njk3YmU3YzJhYzQpOwogICAgICAgIAogICAgCiAgICAgICAgdmFyIG1hcmtlcl9mZDBlNWRiNDM5M2Y0NTA2ODE5NDNjODU3NWNlOWRmNCA9IEwubWFya2VyKAogICAgICAgICAgICBbNDUuMjk0OTE0NTA5OSwgLTc1LjcyOTI4NDc0MzVdLAogICAgICAgICAgICB7CiAgICAgICAgICAgICAgICBpY29uOiBuZXcgTC5JY29uLkRlZmF1bHQoKQogICAgICAgICAgICAgICAgfQogICAgICAgICAgICApLmFkZFRvKG1hcmtlcl9jbHVzdGVyX2Q0MjFhYzk0ODQ2YjRkMDc4NmEzNTY5N2JlN2MyYWM0KTsKICAgICAgICAKICAgIAogICAgICAgIHZhciBtYXJrZXJfZTM4YjZlNjU5MjdjNDM3OWExNDllMTZjYTJhMmEwMzcgPSBMLm1hcmtlcigKICAgICAgICAgICAgWzQ1LjI5NDkxNDQwNjUsIC03NS43MjkyNzkxNzc4XSwKICAgICAgICAgICAgewogICAgICAgICAgICAgICAgaWNvbjogbmV3IEwuSWNvbi5EZWZhdWx0KCkKICAgICAgICAgICAgICAgIH0KICAgICAgICAgICAgKS5hZGRUbyhtYXJrZXJfY2x1c3Rlcl9kNDIxYWM5NDg0NmI0ZDA3ODZhMzU2OTdiZTdjMmFjNCk7CiAgICAgICAgCiAgICAKICAgICAgICB2YXIgbWFya2VyX2E0YzU4YTk3MWIzNDQxNDA4MzY1OWYxMWU1MjZmM2UwID0gTC5tYXJrZXIoCiAgICAgICAgICAgIFs0NS40MjQ3OTczNDE3LCAtNzUuNjk0ODk2MzY4Nl0sCiAgICAgICAgICAgIHsKICAgICAgICAgICAgICAgIGljb246IG5ldyBMLkljb24uRGVmYXVsdCgpCiAgICAgICAgICAgICAgICB9CiAgICAgICAgICAgICkuYWRkVG8obWFya2VyX2NsdXN0ZXJfZDQyMWFjOTQ4NDZiNGQwNzg2YTM1Njk3YmU3YzJhYzQpOwogICAgICAgIAogICAgCiAgICAgICAgdmFyIG1hcmtlcl83Y2JlNzNmYmFhMWU0MmZlYmQ3MDllMzY4ZWY0ZWI0NyA9IEwubWFya2VyKAogICAgICAgICAgICBbNDUuMjg4MTM2ODkwNSwgLTc1Ljc1NzAzNDU3MTFdLAogICAgICAgICAgICB7CiAgICAgICAgICAgICAgICBpY29uOiBuZXcgTC5JY29uLkRlZmF1bHQoKQogICAgICAgICAgICAgICAgfQogICAgICAgICAgICApLmFkZFRvKG1hcmtlcl9jbHVzdGVyX2Q0MjFhYzk0ODQ2YjRkMDc4NmEzNTY5N2JlN2MyYWM0KTsKICAgICAgICAKICAgIAogICAgICAgIHZhciBtYXJrZXJfOTE5MThkOWU1YjdkNDIyZmEzNGUzODZjNjRjNTMzYTQgPSBMLm1hcmtlcigKICAgICAgICAgICAgWzQ1LjM4Mjk4NzcyNjYsIC03NS43MjMyODc3MDA5XSwKICAgICAgICAgICAgewogICAgICAgICAgICAgICAgaWNvbjogbmV3IEwuSWNvbi5EZWZhdWx0KCkKICAgICAgICAgICAgICAgIH0KICAgICAgICAgICAgKS5hZGRUbyhtYXJrZXJfY2x1c3Rlcl9kNDIxYWM5NDg0NmI0ZDA3ODZhMzU2OTdiZTdjMmFjNCk7CiAgICAgICAgCiAgICAKICAgICAgICB2YXIgbWFya2VyX2JjYzJlM2U4M2UwYjRmNzBiZDIxMjU4MDMyMTEzMGNjID0gTC5tYXJrZXIoCiAgICAgICAgICAgIFs0NS4zNTM5MjE0NzQ0LCAtNzUuNzA2NDcyNjA5XSwKICAgICAgICAgICAgewogICAgICAgICAgICAgICAgaWNvbjogbmV3IEwuSWNvbi5EZWZhdWx0KCkKICAgICAgICAgICAgICAgIH0KICAgICAgICAgICAgKS5hZGRUbyhtYXJrZXJfY2x1c3Rlcl9kNDIxYWM5NDg0NmI0ZDA3ODZhMzU2OTdiZTdjMmFjNCk7CiAgICAgICAgCiAgICAKICAgICAgICB2YXIgbWFya2VyXzNjYzY0OGQ2NzY1NDQ4ZGU5YmIwZjg0NjYzYThiNGZkID0gTC5tYXJrZXIoCiAgICAgICAgICAgIFs0NS4zODIxNDI2Mjg1LCAtNzUuNzIyODA0OTI4MV0sCiAgICAgICAgICAgIHsKICAgICAgICAgICAgICAgIGljb246IG5ldyBMLkljb24uRGVmYXVsdCgpCiAgICAgICAgICAgICAgICB9CiAgICAgICAgICAgICkuYWRkVG8obWFya2VyX2NsdXN0ZXJfZDQyMWFjOTQ4NDZiNGQwNzg2YTM1Njk3YmU3YzJhYzQpOwogICAgICAgIAogICAgCiAgICAgICAgdmFyIG1hcmtlcl81Nzk3Y2IxM2MyZGQ0ZDlmOTM3NjIzYjBkMTZiNTI0OSA9IEwubWFya2VyKAogICAgICAgICAgICBbNDUuMzgyNzAzMTAzNywgLTc1LjcyMzEyNzI5MTFdLAogICAgICAgICAgICB7CiAgICAgICAgICAgICAgICBpY29uOiBuZXcgTC5JY29uLkRlZmF1bHQoKQogICAgICAgICAgICAgICAgfQogICAgICAgICAgICApLmFkZFRvKG1hcmtlcl9jbHVzdGVyX2Q0MjFhYzk0ODQ2YjRkMDc4NmEzNTY5N2JlN2MyYWM0KTsKICAgICAgICAKICAgIAogICAgICAgIHZhciBtYXJrZXJfMDQ0NzliZGYwYjdiNDc3ZDk0NDVkYWRjNTUxMTY1YWMgPSBMLm1hcmtlcigKICAgICAgICAgICAgWzQ1LjQ0MjU3MDc2NDUsIC03NS42Njg1NzkxNDM1XSwKICAgICAgICAgICAgewogICAgICAgICAgICAgICAgaWNvbjogbmV3IEwuSWNvbi5EZWZhdWx0KCkKICAgICAgICAgICAgICAgIH0KICAgICAgICAgICAgKS5hZGRUbyhtYXJrZXJfY2x1c3Rlcl9kNDIxYWM5NDg0NmI0ZDA3ODZhMzU2OTdiZTdjMmFjNCk7CiAgICAgICAgCiAgICAKICAgICAgICB2YXIgbWFya2VyXzIxZWE1NGM1YTYwMzQ1ZDU4YjJkNzU2OGM4NzNlMzY2ID0gTC5tYXJrZXIoCiAgICAgICAgICAgIFs0NS4zMjMyMzI2ODE5LCAtNzUuNzc3NjI0OTQwNl0sCiAgICAgICAgICAgIHsKICAgICAgICAgICAgICAgIGljb246IG5ldyBMLkljb24uRGVmYXVsdCgpCiAgICAgICAgICAgICAgICB9CiAgICAgICAgICAgICkuYWRkVG8obWFya2VyX2NsdXN0ZXJfZDQyMWFjOTQ4NDZiNGQwNzg2YTM1Njk3YmU3YzJhYzQpOwogICAgICAgIAogICAgCiAgICAgICAgdmFyIG1hcmtlcl8wNmM2MjU0NjUyM2M0YjQ4OGNjNWQ1NTAyMWU1ZWZhNiA9IEwubWFya2VyKAogICAgICAgICAgICBbNDUuNDE4MzkwMTIwOCwgLTc1LjY5NzQzMjQyNjVdLAogICAgICAgICAgICB7CiAgICAgICAgICAgICAgICBpY29uOiBuZXcgTC5JY29uLkRlZmF1bHQoKQogICAgICAgICAgICAgICAgfQogICAgICAgICAgICApLmFkZFRvKG1hcmtlcl9jbHVzdGVyX2Q0MjFhYzk0ODQ2YjRkMDc4NmEzNTY5N2JlN2MyYWM0KTsKICAgICAgICAKICAgIAogICAgICAgIHZhciBtYXJrZXJfYmVhMzRmYzM3MjNiNDk0Y2I4M2EwMmNmNjI1ZDcxMzUgPSBMLm1hcmtlcigKICAgICAgICAgICAgWzQ1LjMxMjU2MjM4NDcsIC03NS45MjY4MDMzMDQ4XSwKICAgICAgICAgICAgewogICAgICAgICAgICAgICAgaWNvbjogbmV3IEwuSWNvbi5EZWZhdWx0KCkKICAgICAgICAgICAgICAgIH0KICAgICAgICAgICAgKS5hZGRUbyhtYXJrZXJfY2x1c3Rlcl9kNDIxYWM5NDg0NmI0ZDA3ODZhMzU2OTdiZTdjMmFjNCk7CiAgICAgICAgCiAgICAKICAgICAgICB2YXIgbWFya2VyX2JmMDBiYTNjMTYzNDQ2OWNiMTJkY2E2MjkzM2FiMjc1ID0gTC5tYXJrZXIoCiAgICAgICAgICAgIFs0NS4zNTI0NzA5NTIsIC03NS43MzEwMjcxMjYzXSwKICAgICAgICAgICAgewogICAgICAgICAgICAgICAgaWNvbjogbmV3IEwuSWNvbi5EZWZhdWx0KCkKICAgICAgICAgICAgICAgIH0KICAgICAgICAgICAgKS5hZGRUbyhtYXJrZXJfY2x1c3Rlcl9kNDIxYWM5NDg0NmI0ZDA3ODZhMzU2OTdiZTdjMmFjNCk7CiAgICAgICAgCiAgICAKICAgICAgICB2YXIgbWFya2VyXzI1ZTdhZDcxYjEyYTRkOWU4Y2FkOTIwMDBkZjlmMDQ3ID0gTC5tYXJrZXIoCiAgICAgICAgICAgIFs0NS4zNDM3ODc2MjkyLCAtNzUuNzg4NTQ5NDUxOV0sCiAgICAgICAgICAgIHsKICAgICAgICAgICAgICAgIGljb246IG5ldyBMLkljb24uRGVmYXVsdCgpCiAgICAgICAgICAgICAgICB9CiAgICAgICAgICAgICkuYWRkVG8obWFya2VyX2NsdXN0ZXJfZDQyMWFjOTQ4NDZiNGQwNzg2YTM1Njk3YmU3YzJhYzQpOwogICAgICAgIAogICAgCiAgICAgICAgdmFyIG1hcmtlcl85NDQ4YTUxNmQyMmY0MzJmYjFlYmJlODg5ODI1Nzc2YSA9IEwubWFya2VyKAogICAgICAgICAgICBbNDUuMjcwNTQ5NTUwMSwgLTc1Ljc0NjM5OTAzMjZdLAogICAgICAgICAgICB7CiAgICAgICAgICAgICAgICBpY29uOiBuZXcgTC5JY29uLkRlZmF1bHQoKQogICAgICAgICAgICAgICAgfQogICAgICAgICAgICApLmFkZFRvKG1hcmtlcl9jbHVzdGVyX2Q0MjFhYzk0ODQ2YjRkMDc4NmEzNTY5N2JlN2MyYWM0KTsKICAgICAgICAKICAgIAogICAgICAgIHZhciBtYXJrZXJfNmIwYjc1MDY4NTE3NDQ1MmIxN2IyMzhiMGU0NmQ5NGMgPSBMLm1hcmtlcigKICAgICAgICAgICAgWzQ1LjMyMjE4NzAyNDYsIC03NS43NzcwMTE4MjMxXSwKICAgICAgICAgICAgewogICAgICAgICAgICAgICAgaWNvbjogbmV3IEwuSWNvbi5EZWZhdWx0KCkKICAgICAgICAgICAgICAgIH0KICAgICAgICAgICAgKS5hZGRUbyhtYXJrZXJfY2x1c3Rlcl9kNDIxYWM5NDg0NmI0ZDA3ODZhMzU2OTdiZTdjMmFjNCk7CiAgICAgICAgCiAgICAKICAgICAgICB2YXIgbWFya2VyXzQ1N2ViNDgxNDkxOTRhODBiMjFkYzdmMTIzNGE2NWUxID0gTC5tYXJrZXIoCiAgICAgICAgICAgIFs0NS4zNDk4NTczNTk0LCAtNzUuOTQwNjA5NjQ3Nl0sCiAgICAgICAgICAgIHsKICAgICAgICAgICAgICAgIGljb246IG5ldyBMLkljb24uRGVmYXVsdCgpCiAgICAgICAgICAgICAgICB9CiAgICAgICAgICAgICkuYWRkVG8obWFya2VyX2NsdXN0ZXJfZDQyMWFjOTQ4NDZiNGQwNzg2YTM1Njk3YmU3YzJhYzQpOwogICAgICAgIAogICAgCiAgICAgICAgdmFyIG1hcmtlcl8yYjY1YzYwYjJjZTE0MjBhOTNiODI4OWVmZmU3YjhlZCA9IEwubWFya2VyKAogICAgICAgICAgICBbNDUuMzc0MDQ5MjA5MywgLTc1LjU5NzI0MDc5NjNdLAogICAgICAgICAgICB7CiAgICAgICAgICAgICAgICBpY29uOiBuZXcgTC5JY29uLkRlZmF1bHQoKQogICAgICAgICAgICAgICAgfQogICAgICAgICAgICApLmFkZFRvKG1hcmtlcl9jbHVzdGVyX2Q0MjFhYzk0ODQ2YjRkMDc4NmEzNTY5N2JlN2MyYWM0KTsKICAgICAgICAKICAgIAogICAgICAgIHZhciBtYXJrZXJfNDM5MjFiZTllZmY5NGI0NmIxZjMyYTRmMmFmNGFlZGEgPSBMLm1hcmtlcigKICAgICAgICAgICAgWzQ1LjM3NzMyODc5MTIsIC03NS42ODQxMTAxOTQ4XSwKICAgICAgICAgICAgewogICAgICAgICAgICAgICAgaWNvbjogbmV3IEwuSWNvbi5EZWZhdWx0KCkKICAgICAgICAgICAgICAgIH0KICAgICAgICAgICAgKS5hZGRUbyhtYXJrZXJfY2x1c3Rlcl9kNDIxYWM5NDg0NmI0ZDA3ODZhMzU2OTdiZTdjMmFjNCk7CiAgICAgICAgCiAgICAKICAgICAgICB2YXIgbWFya2VyXzYyNTBlZjg3NTQ1ZjQ1NTRiYTlmZWMzMTQxNTEyMzExID0gTC5tYXJrZXIoCiAgICAgICAgICAgIFs0NS4zMjAzMDk0MzUzLCAtNzUuODg1NTM1MDE4NV0sCiAgICAgICAgICAgIHsKICAgICAgICAgICAgICAgIGljb246IG5ldyBMLkljb24uRGVmYXVsdCgpCiAgICAgICAgICAgICAgICB9CiAgICAgICAgICAgICkuYWRkVG8obWFya2VyX2NsdXN0ZXJfZDQyMWFjOTQ4NDZiNGQwNzg2YTM1Njk3YmU3YzJhYzQpOwogICAgICAgIAogICAgCiAgICAgICAgdmFyIG1hcmtlcl82MzIwMWZmM2JlMjk0MWU3OGVjNGFkZmMwNWI3OWJkNCA9IEwubWFya2VyKAogICAgICAgICAgICBbNDUuMzIwMzAwNTg1NCwgLTc1Ljg4NTYwMDMyNjZdLAogICAgICAgICAgICB7CiAgICAgICAgICAgICAgICBpY29uOiBuZXcgTC5JY29uLkRlZmF1bHQoKQogICAgICAgICAgICAgICAgfQogICAgICAgICAgICApLmFkZFRvKG1hcmtlcl9jbHVzdGVyX2Q0MjFhYzk0ODQ2YjRkMDc4NmEzNTY5N2JlN2MyYWM0KTsKICAgICAgICAKICAgIAogICAgICAgIHZhciBtYXJrZXJfZDUyMzQ5MGM4N2U1NDQyODg1YTdkMjVjYzk2NjI2NWMgPSBMLm1hcmtlcigKICAgICAgICAgICAgWzQ1LjMyMDIyNzQ3MDQsIC03NS44ODU2OTI0MTQyXSwKICAgICAgICAgICAgewogICAgICAgICAgICAgICAgaWNvbjogbmV3IEwuSWNvbi5EZWZhdWx0KCkKICAgICAgICAgICAgICAgIH0KICAgICAgICAgICAgKS5hZGRUbyhtYXJrZXJfY2x1c3Rlcl9kNDIxYWM5NDg0NmI0ZDA3ODZhMzU2OTdiZTdjMmFjNCk7CiAgICAgICAgCiAgICAKICAgICAgICB2YXIgbWFya2VyXzIxNjRiOGVkNDU2MTRmOTFiZjgzMzY3MmFlNTZjYjIzID0gTC5tYXJrZXIoCiAgICAgICAgICAgIFs0NS40MDUwNDM3MzkxLCAtNzUuNzAxODk0NDMyOV0sCiAgICAgICAgICAgIHsKICAgICAgICAgICAgICAgIGljb246IG5ldyBMLkljb24uRGVmYXVsdCgpCiAgICAgICAgICAgICAgICB9CiAgICAgICAgICAgICkuYWRkVG8obWFya2VyX2NsdXN0ZXJfZDQyMWFjOTQ4NDZiNGQwNzg2YTM1Njk3YmU3YzJhYzQpOwogICAgICAgIAogICAgCiAgICAgICAgdmFyIG1hcmtlcl9hZmJiYjllZDc0NDI0NjBjYWM5NDA3YzBjNWMyMzY3OCA9IEwubWFya2VyKAogICAgICAgICAgICBbNDUuMzk3MzU1NDkyMywgLTc1LjcyNjg5MDI2MjVdLAogICAgICAgICAgICB7CiAgICAgICAgICAgICAgICBpY29uOiBuZXcgTC5JY29uLkRlZmF1bHQoKQogICAgICAgICAgICAgICAgfQogICAgICAgICAgICApLmFkZFRvKG1hcmtlcl9jbHVzdGVyX2Q0MjFhYzk0ODQ2YjRkMDc4NmEzNTY5N2JlN2MyYWM0KTsKICAgICAgICAKICAgIAogICAgICAgIHZhciBtYXJrZXJfM2E3NWI3MmM3YjQ5NDQ4OTk2OWNmNGE5MzY0ZmIwYmMgPSBMLm1hcmtlcigKICAgICAgICAgICAgWzQ1LjM5NzMzNzk1MSwgLTc1LjcyNjkwMzAxMjFdLAogICAgICAgICAgICB7CiAgICAgICAgICAgICAgICBpY29uOiBuZXcgTC5JY29uLkRlZmF1bHQoKQogICAgICAgICAgICAgICAgfQogICAgICAgICAgICApLmFkZFRvKG1hcmtlcl9jbHVzdGVyX2Q0MjFhYzk0ODQ2YjRkMDc4NmEzNTY5N2JlN2MyYWM0KTsKICAgICAgICAKICAgIAogICAgICAgIHZhciBtYXJrZXJfMDZjOWZlNWMzYTA2NDM3NzkxNTExYzI5ZTE3ZWU1Y2EgPSBMLm1hcmtlcigKICAgICAgICAgICAgWzQ1LjM5NzM2NDQzMjMsIC03NS43MjY5MDg5MDYxXSwKICAgICAgICAgICAgewogICAgICAgICAgICAgICAgaWNvbjogbmV3IEwuSWNvbi5EZWZhdWx0KCkKICAgICAgICAgICAgICAgIH0KICAgICAgICAgICAgKS5hZGRUbyhtYXJrZXJfY2x1c3Rlcl9kNDIxYWM5NDg0NmI0ZDA3ODZhMzU2OTdiZTdjMmFjNCk7CiAgICAgICAgCiAgICAKICAgICAgICB2YXIgbWFya2VyXzUzMDc2YmJjYzI0NzQ3YTVhYmIzYjE3NTI2YjIyMTFiID0gTC5tYXJrZXIoCiAgICAgICAgICAgIFs0NS4zOTczNTIzNzk5LCAtNzUuNzI2ODk4MzA0Ml0sCiAgICAgICAgICAgIHsKICAgICAgICAgICAgICAgIGljb246IG5ldyBMLkljb24uRGVmYXVsdCgpCiAgICAgICAgICAgICAgICB9CiAgICAgICAgICAgICkuYWRkVG8obWFya2VyX2NsdXN0ZXJfZDQyMWFjOTQ4NDZiNGQwNzg2YTM1Njk3YmU3YzJhYzQpOwogICAgICAgIAogICAgCiAgICAgICAgdmFyIG1hcmtlcl85Yzg1M2ZhODU0NGM0OTFhOTAyOTIzNmFiM2U1Y2I2MiA9IEwubWFya2VyKAogICAgICAgICAgICBbNDUuMzk1NzkxMTk4OSwgLTc1LjcyOTM3OTQzOTldLAogICAgICAgICAgICB7CiAgICAgICAgICAgICAgICBpY29uOiBuZXcgTC5JY29uLkRlZmF1bHQoKQogICAgICAgICAgICAgICAgfQogICAgICAgICAgICApLmFkZFRvKG1hcmtlcl9jbHVzdGVyX2Q0MjFhYzk0ODQ2YjRkMDc4NmEzNTY5N2JlN2MyYWM0KTsKICAgICAgICAKICAgIAogICAgICAgIHZhciBtYXJrZXJfNmFlM2QwYTFjMDc0NGM0ZDljYWJkYTFhMGVjNGRjZWQgPSBMLm1hcmtlcigKICAgICAgICAgICAgWzQ1LjI5MzU3Njc4ODUsIC03NS45MzcxNTA2ODY1XSwKICAgICAgICAgICAgewogICAgICAgICAgICAgICAgaWNvbjogbmV3IEwuSWNvbi5EZWZhdWx0KCkKICAgICAgICAgICAgICAgIH0KICAgICAgICAgICAgKS5hZGRUbyhtYXJrZXJfY2x1c3Rlcl9kNDIxYWM5NDg0NmI0ZDA3ODZhMzU2OTdiZTdjMmFjNCk7CiAgICAgICAgCiAgICAKICAgICAgICB2YXIgbWFya2VyXzA4ZjZhMWY3ZDlhMzRhMjc4ZTNlMzU2MDBiZmUzODc2ID0gTC5tYXJrZXIoCiAgICAgICAgICAgIFs0NS4yODEwODY3MjA2LCAtNzUuOTU2NzQxNTY1OV0sCiAgICAgICAgICAgIHsKICAgICAgICAgICAgICAgIGljb246IG5ldyBMLkljb24uRGVmYXVsdCgpCiAgICAgICAgICAgICAgICB9CiAgICAgICAgICAgICkuYWRkVG8obWFya2VyX2NsdXN0ZXJfZDQyMWFjOTQ4NDZiNGQwNzg2YTM1Njk3YmU3YzJhYzQpOwogICAgICAgIAogICAgCiAgICAgICAgdmFyIG1hcmtlcl85OWFlOTVjMmZmZjk0YTdmYTY1NjZlNTE1MDA2YTY0OSA9IEwubWFya2VyKAogICAgICAgICAgICBbNDUuMzIxNDE3NjcxNywgLTc2LjEwMDQ0NTQzNTRdLAogICAgICAgICAgICB7CiAgICAgICAgICAgICAgICBpY29uOiBuZXcgTC5JY29uLkRlZmF1bHQoKQogICAgICAgICAgICAgICAgfQogICAgICAgICAgICApLmFkZFRvKG1hcmtlcl9jbHVzdGVyX2Q0MjFhYzk0ODQ2YjRkMDc4NmEzNTY5N2JlN2MyYWM0KTsKICAgICAgICAKICAgIAogICAgICAgIHZhciBtYXJrZXJfYWZhZTQ3OTAwMjhlNDc4ZWIwMzhjODhkODZjMmM0ZTUgPSBMLm1hcmtlcigKICAgICAgICAgICAgWzQ1LjQwMzc0Mjc3NTYsIC03NS43MzQzNTYwOTE2XSwKICAgICAgICAgICAgewogICAgICAgICAgICAgICAgaWNvbjogbmV3IEwuSWNvbi5EZWZhdWx0KCkKICAgICAgICAgICAgICAgIH0KICAgICAgICAgICAgKS5hZGRUbyhtYXJrZXJfY2x1c3Rlcl9kNDIxYWM5NDg0NmI0ZDA3ODZhMzU2OTdiZTdjMmFjNCk7CiAgICAgICAgCiAgICAKICAgICAgICB2YXIgbWFya2VyXzc0MWI1YzQ1Mjg4MjRlZmFiY2YwMmYzNzNmMDgxNDY0ID0gTC5tYXJrZXIoCiAgICAgICAgICAgIFs0NS4zMzc4NTE0OTc2LCAtNzUuNjg1MTczMDg3NF0sCiAgICAgICAgICAgIHsKICAgICAgICAgICAgICAgIGljb246IG5ldyBMLkljb24uRGVmYXVsdCgpCiAgICAgICAgICAgICAgICB9CiAgICAgICAgICAgICkuYWRkVG8obWFya2VyX2NsdXN0ZXJfZDQyMWFjOTQ4NDZiNGQwNzg2YTM1Njk3YmU3YzJhYzQpOwogICAgICAgIAogICAgCiAgICAgICAgdmFyIG1hcmtlcl85ZGQ4NjhkNDA3ZmQ0NDczYTcxZmVhZjkxZTE3OGFmYyA9IEwubWFya2VyKAogICAgICAgICAgICBbNDUuMzU3OTIzNzM4MiwgLTc1LjYzNjI1MTQ4NDddLAogICAgICAgICAgICB7CiAgICAgICAgICAgICAgICBpY29uOiBuZXcgTC5JY29uLkRlZmF1bHQoKQogICAgICAgICAgICAgICAgfQogICAgICAgICAgICApLmFkZFRvKG1hcmtlcl9jbHVzdGVyX2Q0MjFhYzk0ODQ2YjRkMDc4NmEzNTY5N2JlN2MyYWM0KTsKICAgICAgICAKICAgIAogICAgICAgIHZhciBtYXJrZXJfOGI5YjgyYTY2M2NiNDViMTgzMTVmOWVlOTEwY2Y4MjYgPSBMLm1hcmtlcigKICAgICAgICAgICAgWzQ1LjQ1NTcxMjIzODQsIC03NS41MDQ3ODMxMjg3XSwKICAgICAgICAgICAgewogICAgICAgICAgICAgICAgaWNvbjogbmV3IEwuSWNvbi5EZWZhdWx0KCkKICAgICAgICAgICAgICAgIH0KICAgICAgICAgICAgKS5hZGRUbyhtYXJrZXJfY2x1c3Rlcl9kNDIxYWM5NDg0NmI0ZDA3ODZhMzU2OTdiZTdjMmFjNCk7CiAgICAgICAgCiAgICAKICAgICAgICB2YXIgbWFya2VyX2ZjOGYyNjIwNWJmMzQ3MzY4NTIwMDk1ZWQ2NDI1ZGVlID0gTC5tYXJrZXIoCiAgICAgICAgICAgIFs0NS40NjA4OTA5MjgyLCAtNzUuNDg3ODg0MDczMl0sCiAgICAgICAgICAgIHsKICAgICAgICAgICAgICAgIGljb246IG5ldyBMLkljb24uRGVmYXVsdCgpCiAgICAgICAgICAgICAgICB9CiAgICAgICAgICAgICkuYWRkVG8obWFya2VyX2NsdXN0ZXJfZDQyMWFjOTQ4NDZiNGQwNzg2YTM1Njk3YmU3YzJhYzQpOwogICAgICAgIAogICAgCiAgICAgICAgdmFyIG1hcmtlcl82MzhkZTY0MjRkZWY0YzUwODQ1OGQ1NzM5NzEwNjNjYiA9IEwubWFya2VyKAogICAgICAgICAgICBbNDUuNDYwODgyOTg3MywgLTc1LjQ4Nzg5NTY0NTNdLAogICAgICAgICAgICB7CiAgICAgICAgICAgICAgICBpY29uOiBuZXcgTC5JY29uLkRlZmF1bHQoKQogICAgICAgICAgICAgICAgfQogICAgICAgICAgICApLmFkZFRvKG1hcmtlcl9jbHVzdGVyX2Q0MjFhYzk0ODQ2YjRkMDc4NmEzNTY5N2JlN2MyYWM0KTsKICAgICAgICAKICAgIAogICAgICAgIHZhciBtYXJrZXJfYjgzOWE1OGIyMWU2NDkyODgxNDhkMzJmMzE3ZjllYTggPSBMLm1hcmtlcigKICAgICAgICAgICAgWzQ1LjQ1NzQxNTQ1LCAtNzUuNDk4Njk2NDE4NF0sCiAgICAgICAgICAgIHsKICAgICAgICAgICAgICAgIGljb246IG5ldyBMLkljb24uRGVmYXVsdCgpCiAgICAgICAgICAgICAgICB9CiAgICAgICAgICAgICkuYWRkVG8obWFya2VyX2NsdXN0ZXJfZDQyMWFjOTQ4NDZiNGQwNzg2YTM1Njk3YmU3YzJhYzQpOwogICAgICAgIAogICAgCiAgICAgICAgdmFyIG1hcmtlcl80ZTBkNDRmNDU0ODY0ODAzOTg2ZjcwMWRlODViYjQ1MCA9IEwubWFya2VyKAogICAgICAgICAgICBbNDUuNDQ3MTEwNzc2NiwgLTc1LjUyNjE5OTYzNDVdLAogICAgICAgICAgICB7CiAgICAgICAgICAgICAgICBpY29uOiBuZXcgTC5JY29uLkRlZmF1bHQoKQogICAgICAgICAgICAgICAgfQogICAgICAgICAgICApLmFkZFRvKG1hcmtlcl9jbHVzdGVyX2Q0MjFhYzk0ODQ2YjRkMDc4NmEzNTY5N2JlN2MyYWM0KTsKICAgICAgICAKICAgIAogICAgICAgIHZhciBtYXJrZXJfMmZlMzc2NWViMmQ4NDNmMGJlMjEzYmVkOTJjYzYzYzQgPSBMLm1hcmtlcigKICAgICAgICAgICAgWzQ1LjQ2MDkzNDEwOTIsIC03NS40ODc3NTE1Mzg0XSwKICAgICAgICAgICAgewogICAgICAgICAgICAgICAgaWNvbjogbmV3IEwuSWNvbi5EZWZhdWx0KCkKICAgICAgICAgICAgICAgIH0KICAgICAgICAgICAgKS5hZGRUbyhtYXJrZXJfY2x1c3Rlcl9kNDIxYWM5NDg0NmI0ZDA3ODZhMzU2OTdiZTdjMmFjNCk7CiAgICAgICAgCiAgICAKICAgICAgICB2YXIgbWFya2VyXzUzYjZmNzVjN2ZmZDQyMTVhYzgwODM0ODg5ZWU0MTQ5ID0gTC5tYXJrZXIoCiAgICAgICAgICAgIFs0NS4zNDU3NzAyNTc0LCAtNzUuOTM0Mjk0NjQ2OV0sCiAgICAgICAgICAgIHsKICAgICAgICAgICAgICAgIGljb246IG5ldyBMLkljb24uRGVmYXVsdCgpCiAgICAgICAgICAgICAgICB9CiAgICAgICAgICAgICkuYWRkVG8obWFya2VyX2NsdXN0ZXJfZDQyMWFjOTQ4NDZiNGQwNzg2YTM1Njk3YmU3YzJhYzQpOwogICAgICAgIAogICAgCiAgICAgICAgdmFyIG1hcmtlcl8yMzlhNjY4NDhlZTU0YzM5OWU3ZjA2NzdhZmU2MTEzYSA9IEwubWFya2VyKAogICAgICAgICAgICBbNDUuMzU5MjIyMDE1OCwgLTc1Ljc2MjQ0MTc5NDhdLAogICAgICAgICAgICB7CiAgICAgICAgICAgICAgICBpY29uOiBuZXcgTC5JY29uLkRlZmF1bHQoKQogICAgICAgICAgICAgICAgfQogICAgICAgICAgICApLmFkZFRvKG1hcmtlcl9jbHVzdGVyX2Q0MjFhYzk0ODQ2YjRkMDc4NmEzNTY5N2JlN2MyYWM0KTsKICAgICAgICAKICAgIAogICAgICAgIHZhciBtYXJrZXJfMzRhNGI1ZmFiZDI1NDIxNmJkZDY3ZDdkMmViZDRhZTQgPSBMLm1hcmtlcigKICAgICAgICAgICAgWzQ1LjQwMzc2Njc2NywgLTc1LjcyMTg5NzQ0OTZdLAogICAgICAgICAgICB7CiAgICAgICAgICAgICAgICBpY29uOiBuZXcgTC5JY29uLkRlZmF1bHQoKQogICAgICAgICAgICAgICAgfQogICAgICAgICAgICApLmFkZFRvKG1hcmtlcl9jbHVzdGVyX2Q0MjFhYzk0ODQ2YjRkMDc4NmEzNTY5N2JlN2MyYWM0KTsKICAgICAgICAKICAgIAogICAgICAgIHZhciBtYXJrZXJfYTNjNDFhMTNjZTI2NDdjOTg0YTE0ODkwMzVkNmJlM2UgPSBMLm1hcmtlcigKICAgICAgICAgICAgWzQ1LjQ2MjAzOTA0MzgsIC03NS41MjYzNzA1NTA5XSwKICAgICAgICAgICAgewogICAgICAgICAgICAgICAgaWNvbjogbmV3IEwuSWNvbi5EZWZhdWx0KCkKICAgICAgICAgICAgICAgIH0KICAgICAgICAgICAgKS5hZGRUbyhtYXJrZXJfY2x1c3Rlcl9kNDIxYWM5NDg0NmI0ZDA3ODZhMzU2OTdiZTdjMmFjNCk7CiAgICAgICAgCiAgICAKICAgICAgICB2YXIgbWFya2VyXzI0NDBiNDg5NWMyMDQ3NjQ4MWMzNjRkYTdlN2NlMWM4ID0gTC5tYXJrZXIoCiAgICAgICAgICAgIFs0NS40NjIwMzgxMDkyLCAtNzUuNTI2Mzc5NzQ1Nl0sCiAgICAgICAgICAgIHsKICAgICAgICAgICAgICAgIGljb246IG5ldyBMLkljb24uRGVmYXVsdCgpCiAgICAgICAgICAgICAgICB9CiAgICAgICAgICAgICkuYWRkVG8obWFya2VyX2NsdXN0ZXJfZDQyMWFjOTQ4NDZiNGQwNzg2YTM1Njk3YmU3YzJhYzQpOwogICAgICAgIAogICAgCiAgICAgICAgdmFyIG1hcmtlcl80ODRkOTkzNDBiM2I0NTQxYWJkMTJkYmZlYTFkOWM0ZSA9IEwubWFya2VyKAogICAgICAgICAgICBbNDUuMjU2MzcyMjU4LCAtNzUuNzI4MTEzNDQ2MV0sCiAgICAgICAgICAgIHsKICAgICAgICAgICAgICAgIGljb246IG5ldyBMLkljb24uRGVmYXVsdCgpCiAgICAgICAgICAgICAgICB9CiAgICAgICAgICAgICkuYWRkVG8obWFya2VyX2NsdXN0ZXJfZDQyMWFjOTQ4NDZiNGQwNzg2YTM1Njk3YmU3YzJhYzQpOwogICAgICAgIAogICAgCiAgICAgICAgdmFyIG1hcmtlcl9mYTIyNmI2MmE4ZTQ0NzU1YWI0ODBhNjYxMDYwMmMwMCA9IEwubWFya2VyKAogICAgICAgICAgICBbNDUuNDMxODQ4MDQ1LCAtNzUuNjg4NTU3Nzg4OF0sCiAgICAgICAgICAgIHsKICAgICAgICAgICAgICAgIGljb246IG5ldyBMLkljb24uRGVmYXVsdCgpCiAgICAgICAgICAgICAgICB9CiAgICAgICAgICAgICkuYWRkVG8obWFya2VyX2NsdXN0ZXJfZDQyMWFjOTQ4NDZiNGQwNzg2YTM1Njk3YmU3YzJhYzQpOwogICAgICAgIAogICAgCiAgICAgICAgdmFyIG1hcmtlcl9kOGYxZTNiOWE0NTA0MWUzODJlY2YwMDYyYjc5NDA4OCA9IEwubWFya2VyKAogICAgICAgICAgICBbNDUuNDM2MTc2NDY1NiwgLTc1LjY5MjE4MjY4NTldLAogICAgICAgICAgICB7CiAgICAgICAgICAgICAgICBpY29uOiBuZXcgTC5JY29uLkRlZmF1bHQoKQogICAgICAgICAgICAgICAgfQogICAgICAgICAgICApLmFkZFRvKG1hcmtlcl9jbHVzdGVyX2Q0MjFhYzk0ODQ2YjRkMDc4NmEzNTY5N2JlN2MyYWM0KTsKICAgICAgICAKICAgIAogICAgICAgIHZhciBtYXJrZXJfOGU4YjdmYTUyZTFkNGM4OGEzYWIyMzI0N2U5NTdhNzkgPSBMLm1hcmtlcigKICAgICAgICAgICAgWzQ1LjM4MDAzNzY5NDgsIC03NS43Mzc0NTc1MjQ4XSwKICAgICAgICAgICAgewogICAgICAgICAgICAgICAgaWNvbjogbmV3IEwuSWNvbi5EZWZhdWx0KCkKICAgICAgICAgICAgICAgIH0KICAgICAgICAgICAgKS5hZGRUbyhtYXJrZXJfY2x1c3Rlcl9kNDIxYWM5NDg0NmI0ZDA3ODZhMzU2OTdiZTdjMmFjNCk7CiAgICAgICAgCiAgICAKICAgICAgICB2YXIgbWFya2VyX2EzYmYzM2M3Y2RmNDQxMzJiMDE2OWYzOTBlMjYzZmMzID0gTC5tYXJrZXIoCiAgICAgICAgICAgIFs0NS4zNzcxOTc4OTQyLCAtNzUuNzMzMjMxMDY5OF0sCiAgICAgICAgICAgIHsKICAgICAgICAgICAgICAgIGljb246IG5ldyBMLkljb24uRGVmYXVsdCgpCiAgICAgICAgICAgICAgICB9CiAgICAgICAgICAgICkuYWRkVG8obWFya2VyX2NsdXN0ZXJfZDQyMWFjOTQ4NDZiNGQwNzg2YTM1Njk3YmU3YzJhYzQpOwogICAgICAgIAogICAgCiAgICAgICAgdmFyIG1hcmtlcl8xMzRjZDZkNmE4YTM0ODc5OTQwZjhmM2RkNmNiOTIwZiA9IEwubWFya2VyKAogICAgICAgICAgICBbNDUuMzc3MTkzODYxNSwgLTc1LjczMzIyNTQ1NThdLAogICAgICAgICAgICB7CiAgICAgICAgICAgICAgICBpY29uOiBuZXcgTC5JY29uLkRlZmF1bHQoKQogICAgICAgICAgICAgICAgfQogICAgICAgICAgICApLmFkZFRvKG1hcmtlcl9jbHVzdGVyX2Q0MjFhYzk0ODQ2YjRkMDc4NmEzNTY5N2JlN2MyYWM0KTsKICAgICAgICAKICAgIAogICAgICAgIHZhciBtYXJrZXJfMWI4NGI1ODg5MDc5NDJiYThiYjQyZDlkMDE5NzAwY2QgPSBMLm1hcmtlcigKICAgICAgICAgICAgWzQ1LjM0NjI5MTkyNTUsIC03NS45NDYzMDM2ODk4XSwKICAgICAgICAgICAgewogICAgICAgICAgICAgICAgaWNvbjogbmV3IEwuSWNvbi5EZWZhdWx0KCkKICAgICAgICAgICAgICAgIH0KICAgICAgICAgICAgKS5hZGRUbyhtYXJrZXJfY2x1c3Rlcl9kNDIxYWM5NDg0NmI0ZDA3ODZhMzU2OTdiZTdjMmFjNCk7CiAgICAgICAgCiAgICAKICAgICAgICB2YXIgbWFya2VyX2MzNzNhZTY2Yzk0ZTQzZjQ4ODAyMGY2ZTllYzFmYWM5ID0gTC5tYXJrZXIoCiAgICAgICAgICAgIFs0NS40Mjk4MjY5Mzg3LCAtNzUuNjYxNDI3Mzk1NV0sCiAgICAgICAgICAgIHsKICAgICAgICAgICAgICAgIGljb246IG5ldyBMLkljb24uRGVmYXVsdCgpCiAgICAgICAgICAgICAgICB9CiAgICAgICAgICAgICkuYWRkVG8obWFya2VyX2NsdXN0ZXJfZDQyMWFjOTQ4NDZiNGQwNzg2YTM1Njk3YmU3YzJhYzQpOwogICAgICAgIAogICAgCiAgICAgICAgdmFyIG1hcmtlcl80MTQ2MGE3ZWVjM2M0MmJmODVhZjFhNzYyYjZkNGQ2YiA9IEwubWFya2VyKAogICAgICAgICAgICBbNDUuNDAyNDAxMzI5MiwgLTc1LjYwNTAyNTA3Ml0sCiAgICAgICAgICAgIHsKICAgICAgICAgICAgICAgIGljb246IG5ldyBMLkljb24uRGVmYXVsdCgpCiAgICAgICAgICAgICAgICB9CiAgICAgICAgICAgICkuYWRkVG8obWFya2VyX2NsdXN0ZXJfZDQyMWFjOTQ4NDZiNGQwNzg2YTM1Njk3YmU3YzJhYzQpOwogICAgICAgIAogICAgCiAgICAgICAgdmFyIG1hcmtlcl9kODg3ZTQ3MzEyNjY0Y2YwOWExN2JhNDQ4MWE5NjA1NiA9IEwubWFya2VyKAogICAgICAgICAgICBbNDUuNDI4MDMzNzA3NSwgLTc1LjY1Mjc4NzIyNDNdLAogICAgICAgICAgICB7CiAgICAgICAgICAgICAgICBpY29uOiBuZXcgTC5JY29uLkRlZmF1bHQoKQogICAgICAgICAgICAgICAgfQogICAgICAgICAgICApLmFkZFRvKG1hcmtlcl9jbHVzdGVyX2Q0MjFhYzk0ODQ2YjRkMDc4NmEzNTY5N2JlN2MyYWM0KTsKICAgICAgICAKICAgIAogICAgICAgIHZhciBtYXJrZXJfOTAwMzU2ZDE3NDhmNDdiOWFiYjk2YTA2YjY3ZjY1ZjkgPSBMLm1hcmtlcigKICAgICAgICAgICAgWzQ1LjI4OTgxMTQwMzIsIC03NS45MTg5MDYxNTEzXSwKICAgICAgICAgICAgewogICAgICAgICAgICAgICAgaWNvbjogbmV3IEwuSWNvbi5EZWZhdWx0KCkKICAgICAgICAgICAgICAgIH0KICAgICAgICAgICAgKS5hZGRUbyhtYXJrZXJfY2x1c3Rlcl9kNDIxYWM5NDg0NmI0ZDA3ODZhMzU2OTdiZTdjMmFjNCk7CiAgICAgICAgCiAgICAKICAgICAgICB2YXIgbWFya2VyX2Y5MzJjYWJkYzQzOTQ4ODc5OGEwZjhmZjE4ZjIxNThhID0gTC5tYXJrZXIoCiAgICAgICAgICAgIFs0NS40NDgyMjUyNjAxLCAtNzUuNTk5MDI2NjM4M10sCiAgICAgICAgICAgIHsKICAgICAgICAgICAgICAgIGljb246IG5ldyBMLkljb24uRGVmYXVsdCgpCiAgICAgICAgICAgICAgICB9CiAgICAgICAgICAgICkuYWRkVG8obWFya2VyX2NsdXN0ZXJfZDQyMWFjOTQ4NDZiNGQwNzg2YTM1Njk3YmU3YzJhYzQpOwogICAgICAgIAogICAgCiAgICAgICAgdmFyIG1hcmtlcl83ZGZmYjBkYTE1MzY0YjNlYTEzNGRhOWViOGY1Mjg5NCA9IEwubWFya2VyKAogICAgICAgICAgICBbNDUuMzU0NzAyNjk2LCAtNzUuNjcyODczMjA1XSwKICAgICAgICAgICAgewogICAgICAgICAgICAgICAgaWNvbjogbmV3IEwuSWNvbi5EZWZhdWx0KCkKICAgICAgICAgICAgICAgIH0KICAgICAgICAgICAgKS5hZGRUbyhtYXJrZXJfY2x1c3Rlcl9kNDIxYWM5NDg0NmI0ZDA3ODZhMzU2OTdiZTdjMmFjNCk7CiAgICAgICAgCiAgICAKICAgICAgICB2YXIgbWFya2VyXzc1MGEwZDg0M2ZkMTQyOTI5YmZlM2I0Yjc1MDQyMzIwID0gTC5tYXJrZXIoCiAgICAgICAgICAgIFs0NS4zNjQ2ODQ4ODY2LCAtNzUuNjc3MjgwMDU5XSwKICAgICAgICAgICAgewogICAgICAgICAgICAgICAgaWNvbjogbmV3IEwuSWNvbi5EZWZhdWx0KCkKICAgICAgICAgICAgICAgIH0KICAgICAgICAgICAgKS5hZGRUbyhtYXJrZXJfY2x1c3Rlcl9kNDIxYWM5NDg0NmI0ZDA3ODZhMzU2OTdiZTdjMmFjNCk7CiAgICAgICAgCiAgICAKICAgICAgICB2YXIgbWFya2VyX2QxN2U5YWM4NzJmYTQyNGQ4MDI1MjhlY2IxNTY2N2Y0ID0gTC5tYXJrZXIoCiAgICAgICAgICAgIFs0NS41MTMyMDQ5NzY1LCAtNzUuNDU3MTY2ODE0M10sCiAgICAgICAgICAgIHsKICAgICAgICAgICAgICAgIGljb246IG5ldyBMLkljb24uRGVmYXVsdCgpCiAgICAgICAgICAgICAgICB9CiAgICAgICAgICAgICkuYWRkVG8obWFya2VyX2NsdXN0ZXJfZDQyMWFjOTQ4NDZiNGQwNzg2YTM1Njk3YmU3YzJhYzQpOwogICAgICAgIAogICAgCiAgICAgICAgdmFyIG1hcmtlcl82NGQwMjYxZTUwYjQ0ODE2OGUwOGVjYWMyZjEwYjYxYSA9IEwubWFya2VyKAogICAgICAgICAgICBbNDUuNDU0MDg2NjgzMywgLTc1LjUwMzY4NjI1NThdLAogICAgICAgICAgICB7CiAgICAgICAgICAgICAgICBpY29uOiBuZXcgTC5JY29uLkRlZmF1bHQoKQogICAgICAgICAgICAgICAgfQogICAgICAgICAgICApLmFkZFRvKG1hcmtlcl9jbHVzdGVyX2Q0MjFhYzk0ODQ2YjRkMDc4NmEzNTY5N2JlN2MyYWM0KTsKICAgICAgICAKICAgIAogICAgICAgIHZhciBtYXJrZXJfZjk3MTE0MjgyM2QwNDA1ZTljODI4Yzc4NTQ5MDFmMTkgPSBMLm1hcmtlcigKICAgICAgICAgICAgWzQ1LjM3ODY3MzE1MTksIC03NS43MzMzMjYxMDY5XSwKICAgICAgICAgICAgewogICAgICAgICAgICAgICAgaWNvbjogbmV3IEwuSWNvbi5EZWZhdWx0KCkKICAgICAgICAgICAgICAgIH0KICAgICAgICAgICAgKS5hZGRUbyhtYXJrZXJfY2x1c3Rlcl9kNDIxYWM5NDg0NmI0ZDA3ODZhMzU2OTdiZTdjMmFjNCk7CiAgICAgICAgCiAgICAKICAgICAgICB2YXIgbWFya2VyXzkzMGE3OWJiM2ZlOTQ5MTliOTEyOWRkMWY1YmNmODQ4ID0gTC5tYXJrZXIoCiAgICAgICAgICAgIFs0NS4zMzc2ODc1MjQxLCAtNzUuNzI1NzkzMDQ5N10sCiAgICAgICAgICAgIHsKICAgICAgICAgICAgICAgIGljb246IG5ldyBMLkljb24uRGVmYXVsdCgpCiAgICAgICAgICAgICAgICB9CiAgICAgICAgICAgICkuYWRkVG8obWFya2VyX2NsdXN0ZXJfZDQyMWFjOTQ4NDZiNGQwNzg2YTM1Njk3YmU3YzJhYzQpOwogICAgICAgIAogICAgCiAgICAgICAgdmFyIG1hcmtlcl85NmVmODBlMjRmZDg0NDZhYWU2OTRiMDFlZTlkYzUyNCA9IEwubWFya2VyKAogICAgICAgICAgICBbNDUuNDIzNDgzNjYyOSwgLTc1LjY5Nzk1ODQ4MDhdLAogICAgICAgICAgICB7CiAgICAgICAgICAgICAgICBpY29uOiBuZXcgTC5JY29uLkRlZmF1bHQoKQogICAgICAgICAgICAgICAgfQogICAgICAgICAgICApLmFkZFRvKG1hcmtlcl9jbHVzdGVyX2Q0MjFhYzk0ODQ2YjRkMDc4NmEzNTY5N2JlN2MyYWM0KTsKICAgICAgICAKICAgIAogICAgICAgIHZhciBtYXJrZXJfZjZjODU0NDM0YWU3NGY4NWFjNGNkNDg0NWRmZDQ5OTggPSBMLm1hcmtlcigKICAgICAgICAgICAgWzQ1LjQ0NDY2NDYzMzIsIC03NS42MzYwMjAyMTUxXSwKICAgICAgICAgICAgewogICAgICAgICAgICAgICAgaWNvbjogbmV3IEwuSWNvbi5EZWZhdWx0KCkKICAgICAgICAgICAgICAgIH0KICAgICAgICAgICAgKS5hZGRUbyhtYXJrZXJfY2x1c3Rlcl9kNDIxYWM5NDg0NmI0ZDA3ODZhMzU2OTdiZTdjMmFjNCk7CiAgICAgICAgCiAgICAKICAgICAgICB2YXIgbWFya2VyXzMzZjE3NTkxOThkODRiZjk5ZWUwOTZkZDQ1OTc1Y2E5ID0gTC5tYXJrZXIoCiAgICAgICAgICAgIFs0NS40NDM5ODMwNzc5LCAtNzUuNjM4MTMzNjU3OF0sCiAgICAgICAgICAgIHsKICAgICAgICAgICAgICAgIGljb246IG5ldyBMLkljb24uRGVmYXVsdCgpCiAgICAgICAgICAgICAgICB9CiAgICAgICAgICAgICkuYWRkVG8obWFya2VyX2NsdXN0ZXJfZDQyMWFjOTQ4NDZiNGQwNzg2YTM1Njk3YmU3YzJhYzQpOwogICAgICAgIAogICAgCiAgICAgICAgdmFyIG1hcmtlcl9iOGY4YzI0MDNjMWY0NmI5YmFmNzU2MTVmYmZkNzY2YiA9IEwubWFya2VyKAogICAgICAgICAgICBbNDUuNDQxMTE0NTk3MywgLTc1LjY0NjgzNjExODJdLAogICAgICAgICAgICB7CiAgICAgICAgICAgICAgICBpY29uOiBuZXcgTC5JY29uLkRlZmF1bHQoKQogICAgICAgICAgICAgICAgfQogICAgICAgICAgICApLmFkZFRvKG1hcmtlcl9jbHVzdGVyX2Q0MjFhYzk0ODQ2YjRkMDc4NmEzNTY5N2JlN2MyYWM0KTsKICAgICAgICAKICAgIAogICAgICAgIHZhciBtYXJrZXJfYWVhMzUxZTdhZDIzNGUwYmIwZTRjNjUyOGIzMDk3MDggPSBMLm1hcmtlcigKICAgICAgICAgICAgWzQ1LjQzNDQ4NzMwMzgsIC03NS42NjU3Mzk3MjU2XSwKICAgICAgICAgICAgewogICAgICAgICAgICAgICAgaWNvbjogbmV3IEwuSWNvbi5EZWZhdWx0KCkKICAgICAgICAgICAgICAgIH0KICAgICAgICAgICAgKS5hZGRUbyhtYXJrZXJfY2x1c3Rlcl9kNDIxYWM5NDg0NmI0ZDA3ODZhMzU2OTdiZTdjMmFjNCk7CiAgICAgICAgCiAgICAKICAgICAgICB2YXIgbWFya2VyXzNhNGQ2ZjVmYzg0ZjQ5YmU4OWJlMTRmY2M4N2E4MTE3ID0gTC5tYXJrZXIoCiAgICAgICAgICAgIFs0NS40MzQ0ODc1MTg4LCAtNzUuNjY1NzU3MTE5OF0sCiAgICAgICAgICAgIHsKICAgICAgICAgICAgICAgIGljb246IG5ldyBMLkljb24uRGVmYXVsdCgpCiAgICAgICAgICAgICAgICB9CiAgICAgICAgICAgICkuYWRkVG8obWFya2VyX2NsdXN0ZXJfZDQyMWFjOTQ4NDZiNGQwNzg2YTM1Njk3YmU3YzJhYzQpOwogICAgICAgIAogICAgCiAgICAgICAgdmFyIG1hcmtlcl8wZWI4YTQ3ZGNiOWY0ODM5OWRjMDdkMDBlY2M1NWUzMyA9IEwubWFya2VyKAogICAgICAgICAgICBbNDUuMjcxMTU2ODkyMSwgLTc1LjcxNzA5Mzg2MDJdLAogICAgICAgICAgICB7CiAgICAgICAgICAgICAgICBpY29uOiBuZXcgTC5JY29uLkRlZmF1bHQoKQogICAgICAgICAgICAgICAgfQogICAgICAgICAgICApLmFkZFRvKG1hcmtlcl9jbHVzdGVyX2Q0MjFhYzk0ODQ2YjRkMDc4NmEzNTY5N2JlN2MyYWM0KTsKICAgICAgICAKICAgIAogICAgICAgIHZhciBtYXJrZXJfYThiYjY1YjEzY2ZmNDcyN2E2Y2Q5MDliYWUwNzI2N2EgPSBMLm1hcmtlcigKICAgICAgICAgICAgWzQ1LjQzMDc0MDczNTUsIC03NS41MTgzNjc5MzEyXSwKICAgICAgICAgICAgewogICAgICAgICAgICAgICAgaWNvbjogbmV3IEwuSWNvbi5EZWZhdWx0KCkKICAgICAgICAgICAgICAgIH0KICAgICAgICAgICAgKS5hZGRUbyhtYXJrZXJfY2x1c3Rlcl9kNDIxYWM5NDg0NmI0ZDA3ODZhMzU2OTdiZTdjMmFjNCk7CiAgICAgICAgCiAgICAKICAgICAgICB2YXIgbWFya2VyXzI0N2U0OTA0NmE4NTQ5YzU4YzYxYWI3NDc0NTZkMGVkID0gTC5tYXJrZXIoCiAgICAgICAgICAgIFs0NS40MDg0MjMyODkxLCAtNzUuNzQyMDQyNDg1MV0sCiAgICAgICAgICAgIHsKICAgICAgICAgICAgICAgIGljb246IG5ldyBMLkljb24uRGVmYXVsdCgpCiAgICAgICAgICAgICAgICB9CiAgICAgICAgICAgICkuYWRkVG8obWFya2VyX2NsdXN0ZXJfZDQyMWFjOTQ4NDZiNGQwNzg2YTM1Njk3YmU3YzJhYzQpOwogICAgICAgIAogICAgCiAgICAgICAgdmFyIG1hcmtlcl8yNzZlOWMyMzBiMTA0NmNkYTBjNDBkNDliZDY1NTcwOSA9IEwubWFya2VyKAogICAgICAgICAgICBbNDUuMzkzMDg3NzEyMywgLTc1LjY2MjYxMTg1NTJdLAogICAgICAgICAgICB7CiAgICAgICAgICAgICAgICBpY29uOiBuZXcgTC5JY29uLkRlZmF1bHQoKQogICAgICAgICAgICAgICAgfQogICAgICAgICAgICApLmFkZFRvKG1hcmtlcl9jbHVzdGVyX2Q0MjFhYzk0ODQ2YjRkMDc4NmEzNTY5N2JlN2MyYWM0KTsKICAgICAgICAKICAgIAogICAgICAgIHZhciBtYXJrZXJfMjcxZmUzNDdhNmU5NDgyZDgzOTI3ZWJlOGFhOWUyYTEgPSBMLm1hcmtlcigKICAgICAgICAgICAgWzQ1LjQ2OTMxNjIyNzUsIC03NS40Njc1MTgxNzQ5XSwKICAgICAgICAgICAgewogICAgICAgICAgICAgICAgaWNvbjogbmV3IEwuSWNvbi5EZWZhdWx0KCkKICAgICAgICAgICAgICAgIH0KICAgICAgICAgICAgKS5hZGRUbyhtYXJrZXJfY2x1c3Rlcl9kNDIxYWM5NDg0NmI0ZDA3ODZhMzU2OTdiZTdjMmFjNCk7CiAgICAgICAgCiAgICAKICAgICAgICB2YXIgbWFya2VyXzEzNTYwYTc0NjZmNDRjYjRiM2E0NjU3MDJkYThmZTZjID0gTC5tYXJrZXIoCiAgICAgICAgICAgIFs0NS40MDgzOTAxMzY4LCAtNzUuNzE0MjMwNTg2Ml0sCiAgICAgICAgICAgIHsKICAgICAgICAgICAgICAgIGljb246IG5ldyBMLkljb24uRGVmYXVsdCgpCiAgICAgICAgICAgICAgICB9CiAgICAgICAgICAgICkuYWRkVG8obWFya2VyX2NsdXN0ZXJfZDQyMWFjOTQ4NDZiNGQwNzg2YTM1Njk3YmU3YzJhYzQpOwogICAgICAgIAogICAgCiAgICAgICAgdmFyIG1hcmtlcl8zYmExOGY0YTZiYmU0NGNlYjcwZDJlNDlkYjQzOWE0NSA9IEwubWFya2VyKAogICAgICAgICAgICBbNDUuMjcwNjE5MzY1NywgLTc1LjcwNTA4MDY3NThdLAogICAgICAgICAgICB7CiAgICAgICAgICAgICAgICBpY29uOiBuZXcgTC5JY29uLkRlZmF1bHQoKQogICAgICAgICAgICAgICAgfQogICAgICAgICAgICApLmFkZFRvKG1hcmtlcl9jbHVzdGVyX2Q0MjFhYzk0ODQ2YjRkMDc4NmEzNTY5N2JlN2MyYWM0KTsKICAgICAgICAKICAgIAogICAgICAgIHZhciBtYXJrZXJfNjg1ZTg2NDkzMWQ1NGI4ZGEzMmRkN2M1M2NkMWE4YTkgPSBMLm1hcmtlcigKICAgICAgICAgICAgWzQ1LjI4ODY0ODEwODMsIC03NS43MDIwMzE3MTgyXSwKICAgICAgICAgICAgewogICAgICAgICAgICAgICAgaWNvbjogbmV3IEwuSWNvbi5EZWZhdWx0KCkKICAgICAgICAgICAgICAgIH0KICAgICAgICAgICAgKS5hZGRUbyhtYXJrZXJfY2x1c3Rlcl9kNDIxYWM5NDg0NmI0ZDA3ODZhMzU2OTdiZTdjMmFjNCk7CiAgICAgICAgCiAgICAKICAgICAgICB2YXIgbWFya2VyXzczYmY4MjIzMzFhNzQ2MTQ4ODIwNTE5MTI0MTgxZWRiID0gTC5tYXJrZXIoCiAgICAgICAgICAgIFs0NS4zMjIxNTI1Mjk1LCAtNzUuNzAwNzMwMjE1OF0sCiAgICAgICAgICAgIHsKICAgICAgICAgICAgICAgIGljb246IG5ldyBMLkljb24uRGVmYXVsdCgpCiAgICAgICAgICAgICAgICB9CiAgICAgICAgICAgICkuYWRkVG8obWFya2VyX2NsdXN0ZXJfZDQyMWFjOTQ4NDZiNGQwNzg2YTM1Njk3YmU3YzJhYzQpOwogICAgICAgIAogICAgCiAgICAgICAgdmFyIG1hcmtlcl9lNjJjYTk4NGFmMmU0NDVlYjdiYjU3NjAyMTJhYWUwYSA9IEwubWFya2VyKAogICAgICAgICAgICBbNDUuNDQ5MDUxMTgwMiwgLTc1LjU4NTA4MDAzMThdLAogICAgICAgICAgICB7CiAgICAgICAgICAgICAgICBpY29uOiBuZXcgTC5JY29uLkRlZmF1bHQoKQogICAgICAgICAgICAgICAgfQogICAgICAgICAgICApLmFkZFRvKG1hcmtlcl9jbHVzdGVyX2Q0MjFhYzk0ODQ2YjRkMDc4NmEzNTY5N2JlN2MyYWM0KTsKICAgICAgICAKICAgIAogICAgICAgIHZhciBtYXJrZXJfOGYyMTBiZWNjOTVhNGE1N2E1ZGRkMDY1MjRlZGUxYjIgPSBMLm1hcmtlcigKICAgICAgICAgICAgWzQ1LjMxMTgyMjczMDEsIC03NS44MjkxNzk1NzE4XSwKICAgICAgICAgICAgewogICAgICAgICAgICAgICAgaWNvbjogbmV3IEwuSWNvbi5EZWZhdWx0KCkKICAgICAgICAgICAgICAgIH0KICAgICAgICAgICAgKS5hZGRUbyhtYXJrZXJfY2x1c3Rlcl9kNDIxYWM5NDg0NmI0ZDA3ODZhMzU2OTdiZTdjMmFjNCk7CiAgICAgICAgCiAgICAKICAgICAgICB2YXIgbWFya2VyXzE0NTk4NjEzMWNiNDQ5N2E5YjYzMmRiMzdiYjJmZWM1ID0gTC5tYXJrZXIoCiAgICAgICAgICAgIFs0NS40MzM2MDE3MjgxLCAtNzUuNjcyNjQzMzE5Ml0sCiAgICAgICAgICAgIHsKICAgICAgICAgICAgICAgIGljb246IG5ldyBMLkljb24uRGVmYXVsdCgpCiAgICAgICAgICAgICAgICB9CiAgICAgICAgICAgICkuYWRkVG8obWFya2VyX2NsdXN0ZXJfZDQyMWFjOTQ4NDZiNGQwNzg2YTM1Njk3YmU3YzJhYzQpOwogICAgICAgIAogICAgCiAgICAgICAgdmFyIG1hcmtlcl8wZGQyMzZhODRmMDc0NWM0OTg0NTJlNGVkMjVlODlkMCA9IEwubWFya2VyKAogICAgICAgICAgICBbNDUuMjQ4MjkxODkxLCAtNzUuNjk0MTM0MDQwOV0sCiAgICAgICAgICAgIHsKICAgICAgICAgICAgICAgIGljb246IG5ldyBMLkljb24uRGVmYXVsdCgpCiAgICAgICAgICAgICAgICB9CiAgICAgICAgICAgICkuYWRkVG8obWFya2VyX2NsdXN0ZXJfZDQyMWFjOTQ4NDZiNGQwNzg2YTM1Njk3YmU3YzJhYzQpOwogICAgICAgIAogICAgCiAgICAgICAgdmFyIG1hcmtlcl9kZGRhMDI2NGY5NjM0ZDY5YWIyMmVjZGZjMGJjMGY5NSA9IEwubWFya2VyKAogICAgICAgICAgICBbNDUuMzYwNTkyOTY1NiwgLTc1LjY4ODAyNjQ2MzVdLAogICAgICAgICAgICB7CiAgICAgICAgICAgICAgICBpY29uOiBuZXcgTC5JY29uLkRlZmF1bHQoKQogICAgICAgICAgICAgICAgfQogICAgICAgICAgICApLmFkZFRvKG1hcmtlcl9jbHVzdGVyX2Q0MjFhYzk0ODQ2YjRkMDc4NmEzNTY5N2JlN2MyYWM0KTsKICAgICAgICAKICAgIAogICAgICAgIHZhciBtYXJrZXJfNDA3NGE1NzE1NDJlNDVlMWJmOTA5OGY5ODM2YTRjODQgPSBMLm1hcmtlcigKICAgICAgICAgICAgWzQ1LjMyMzc5OTYyMTYsIC03NS44MjkwOTg5MjJdLAogICAgICAgICAgICB7CiAgICAgICAgICAgICAgICBpY29uOiBuZXcgTC5JY29uLkRlZmF1bHQoKQogICAgICAgICAgICAgICAgfQogICAgICAgICAgICApLmFkZFRvKG1hcmtlcl9jbHVzdGVyX2Q0MjFhYzk0ODQ2YjRkMDc4NmEzNTY5N2JlN2MyYWM0KTsKICAgICAgICAKICAgIAogICAgICAgIHZhciBtYXJrZXJfNWYyZGJiYTM3MTM2NDc1ZDlmZDJlY2I1MWU0NGU0OTUgPSBMLm1hcmtlcigKICAgICAgICAgICAgWzQ1LjQwNTc5NDg1MjEsIC03NS42MzQyNjk4NTA1XSwKICAgICAgICAgICAgewogICAgICAgICAgICAgICAgaWNvbjogbmV3IEwuSWNvbi5EZWZhdWx0KCkKICAgICAgICAgICAgICAgIH0KICAgICAgICAgICAgKS5hZGRUbyhtYXJrZXJfY2x1c3Rlcl9kNDIxYWM5NDg0NmI0ZDA3ODZhMzU2OTdiZTdjMmFjNCk7CiAgICAgICAgCiAgICAKICAgICAgICB2YXIgbWFya2VyXzBiNjgzOGI2ODg4OTQ5MTc4YzQyOTZjZmI4YzY1MjcwID0gTC5tYXJrZXIoCiAgICAgICAgICAgIFs0NS40MzM1MDc0OTc5LCAtNzUuNjkwODgwNzg0Ml0sCiAgICAgICAgICAgIHsKICAgICAgICAgICAgICAgIGljb246IG5ldyBMLkljb24uRGVmYXVsdCgpCiAgICAgICAgICAgICAgICB9CiAgICAgICAgICAgICkuYWRkVG8obWFya2VyX2NsdXN0ZXJfZDQyMWFjOTQ4NDZiNGQwNzg2YTM1Njk3YmU3YzJhYzQpOwogICAgICAgIAogICAgCiAgICAgICAgdmFyIG1hcmtlcl85MDNjNDJlZWIxNjA0YTk3ODg3ZWYzYjhmNWQ0NjMxOSA9IEwubWFya2VyKAogICAgICAgICAgICBbNDUuMzkyMzEwODQ1OSwgLTc1LjYxOTM4MDg4MTFdLAogICAgICAgICAgICB7CiAgICAgICAgICAgICAgICBpY29uOiBuZXcgTC5JY29uLkRlZmF1bHQoKQogICAgICAgICAgICAgICAgfQogICAgICAgICAgICApLmFkZFRvKG1hcmtlcl9jbHVzdGVyX2Q0MjFhYzk0ODQ2YjRkMDc4NmEzNTY5N2JlN2MyYWM0KTsKICAgICAgICAKICAgIAogICAgICAgIHZhciBtYXJrZXJfM2I3ZTA3MmM5NTdkNGUzOTliNDEwYWIzNTRhZTU1YmYgPSBMLm1hcmtlcigKICAgICAgICAgICAgWzQ1LjI3NTg1MDg1MTQsIC03NS43MTg2Mzk3NjYyXSwKICAgICAgICAgICAgewogICAgICAgICAgICAgICAgaWNvbjogbmV3IEwuSWNvbi5EZWZhdWx0KCkKICAgICAgICAgICAgICAgIH0KICAgICAgICAgICAgKS5hZGRUbyhtYXJrZXJfY2x1c3Rlcl9kNDIxYWM5NDg0NmI0ZDA3ODZhMzU2OTdiZTdjMmFjNCk7CiAgICAgICAgCiAgICAKICAgICAgICB2YXIgbWFya2VyXzNhZjMyODllMzQyMjQwNmFiOWY2OTI1NTU2MTExNmMwID0gTC5tYXJrZXIoCiAgICAgICAgICAgIFs0NS4yNzU4NDI3MTIzLCAtNzUuNzE4NjI4NjA5N10sCiAgICAgICAgICAgIHsKICAgICAgICAgICAgICAgIGljb246IG5ldyBMLkljb24uRGVmYXVsdCgpCiAgICAgICAgICAgICAgICB9CiAgICAgICAgICAgICkuYWRkVG8obWFya2VyX2NsdXN0ZXJfZDQyMWFjOTQ4NDZiNGQwNzg2YTM1Njk3YmU3YzJhYzQpOwogICAgICAgIAogICAgCiAgICAgICAgdmFyIG1hcmtlcl9hYjZmODUxYzQ5ZTI0MzgzOTM0YjEyZmU2NTMyMDJhNSA9IEwubWFya2VyKAogICAgICAgICAgICBbNDUuMjczNDg0ODUzOSwgLTc1LjczOTg1NjY1MjhdLAogICAgICAgICAgICB7CiAgICAgICAgICAgICAgICBpY29uOiBuZXcgTC5JY29uLkRlZmF1bHQoKQogICAgICAgICAgICAgICAgfQogICAgICAgICAgICApLmFkZFRvKG1hcmtlcl9jbHVzdGVyX2Q0MjFhYzk0ODQ2YjRkMDc4NmEzNTY5N2JlN2MyYWM0KTsKICAgICAgICAKICAgIAogICAgICAgIHZhciBtYXJrZXJfNWZjMmFmOWMyMThjNDQ1OGJjODU3OGE2ZWYxOWFkOGEgPSBMLm1hcmtlcigKICAgICAgICAgICAgWzQ1LjQ2NzU5MDAwMjYsIC03NS40OTE3NDE1MTQ4XSwKICAgICAgICAgICAgewogICAgICAgICAgICAgICAgaWNvbjogbmV3IEwuSWNvbi5EZWZhdWx0KCkKICAgICAgICAgICAgICAgIH0KICAgICAgICAgICAgKS5hZGRUbyhtYXJrZXJfY2x1c3Rlcl9kNDIxYWM5NDg0NmI0ZDA3ODZhMzU2OTdiZTdjMmFjNCk7CiAgICAgICAgCiAgICAKICAgICAgICB2YXIgbWFya2VyXzFjNzJmYjJiMmViNTQ5OWViNWIwMzRkYmUwMGQ4NmY4ID0gTC5tYXJrZXIoCiAgICAgICAgICAgIFs0NS40NzE5NjQwNDY3LCAtNzUuNDk0MzUwNzUzMV0sCiAgICAgICAgICAgIHsKICAgICAgICAgICAgICAgIGljb246IG5ldyBMLkljb24uRGVmYXVsdCgpCiAgICAgICAgICAgICAgICB9CiAgICAgICAgICAgICkuYWRkVG8obWFya2VyX2NsdXN0ZXJfZDQyMWFjOTQ4NDZiNGQwNzg2YTM1Njk3YmU3YzJhYzQpOwogICAgICAgIAogICAgCiAgICAgICAgdmFyIG1hcmtlcl8zMDBhMTk4ZTJiNTM0MWMzOTFhNjJmYzE1M2RkOThlNyA9IEwubWFya2VyKAogICAgICAgICAgICBbNDUuNDIxMzM0OTA3MSwgLTc1LjY1ODY5MzgyNjhdLAogICAgICAgICAgICB7CiAgICAgICAgICAgICAgICBpY29uOiBuZXcgTC5JY29uLkRlZmF1bHQoKQogICAgICAgICAgICAgICAgfQogICAgICAgICAgICApLmFkZFRvKG1hcmtlcl9jbHVzdGVyX2Q0MjFhYzk0ODQ2YjRkMDc4NmEzNTY5N2JlN2MyYWM0KTsKICAgICAgICAKICAgIAogICAgICAgIHZhciBtYXJrZXJfOGNjOGUxZjAwNzQwNGNmM2E4ZDliYmVkMTg4YzllY2YgPSBMLm1hcmtlcigKICAgICAgICAgICAgWzQ1LjQzODM4OTQ4MDgsIC03NS42Nzc3MjI1NTAzXSwKICAgICAgICAgICAgewogICAgICAgICAgICAgICAgaWNvbjogbmV3IEwuSWNvbi5EZWZhdWx0KCkKICAgICAgICAgICAgICAgIH0KICAgICAgICAgICAgKS5hZGRUbyhtYXJrZXJfY2x1c3Rlcl9kNDIxYWM5NDg0NmI0ZDA3ODZhMzU2OTdiZTdjMmFjNCk7CiAgICAgICAgCiAgICAKICAgICAgICB2YXIgbWFya2VyX2FmY2Q2ZmI4YzQwMjRmMjJiZTQ1OWUwMmM0OThmMjI2ID0gTC5tYXJrZXIoCiAgICAgICAgICAgIFs0NS40MzgzNjcwNDk4LCAtNzUuNjc3NzY5NTIxOF0sCiAgICAgICAgICAgIHsKICAgICAgICAgICAgICAgIGljb246IG5ldyBMLkljb24uRGVmYXVsdCgpCiAgICAgICAgICAgICAgICB9CiAgICAgICAgICAgICkuYWRkVG8obWFya2VyX2NsdXN0ZXJfZDQyMWFjOTQ4NDZiNGQwNzg2YTM1Njk3YmU3YzJhYzQpOwogICAgICAgIAogICAgCiAgICAgICAgdmFyIG1hcmtlcl9iYmU2MWY1MDk1N2U0NDhmOWQxZjU0NDI4ODBjZDc2YSA9IEwubWFya2VyKAogICAgICAgICAgICBbNDUuMzYxODc4NDg2OCwgLTc1LjY4NDA2MjgxODldLAogICAgICAgICAgICB7CiAgICAgICAgICAgICAgICBpY29uOiBuZXcgTC5JY29uLkRlZmF1bHQoKQogICAgICAgICAgICAgICAgfQogICAgICAgICAgICApLmFkZFRvKG1hcmtlcl9jbHVzdGVyX2Q0MjFhYzk0ODQ2YjRkMDc4NmEzNTY5N2JlN2MyYWM0KTsKICAgICAgICAKICAgIAogICAgICAgIHZhciBtYXJrZXJfNGU2ZDUyYWVkYTFlNGZjMjhkZTlhNjQwMmI0ZTIwZjkgPSBMLm1hcmtlcigKICAgICAgICAgICAgWzQ1LjM2MDY5ODkyNTEsIC03NS42ODc3NTg2MDg3XSwKICAgICAgICAgICAgewogICAgICAgICAgICAgICAgaWNvbjogbmV3IEwuSWNvbi5EZWZhdWx0KCkKICAgICAgICAgICAgICAgIH0KICAgICAgICAgICAgKS5hZGRUbyhtYXJrZXJfY2x1c3Rlcl9kNDIxYWM5NDg0NmI0ZDA3ODZhMzU2OTdiZTdjMmFjNCk7CiAgICAgICAgCiAgICAKICAgICAgICB2YXIgbWFya2VyXzI3NDVjMjczNDFhYzQxMDVhODgyMmExNWU2OTlhMDUwID0gTC5tYXJrZXIoCiAgICAgICAgICAgIFs0NS4zMzQ1MTE4NTg0LCAtNzUuNzI0NzkzODcyNl0sCiAgICAgICAgICAgIHsKICAgICAgICAgICAgICAgIGljb246IG5ldyBMLkljb24uRGVmYXVsdCgpCiAgICAgICAgICAgICAgICB9CiAgICAgICAgICAgICkuYWRkVG8obWFya2VyX2NsdXN0ZXJfZDQyMWFjOTQ4NDZiNGQwNzg2YTM1Njk3YmU3YzJhYzQpOwogICAgICAgIAogICAgCiAgICAgICAgdmFyIG1hcmtlcl81NzU5YjA0ZjY0OWM0Njk5OTQ2ZmE3MTVlZGViMDUwZiA9IEwubWFya2VyKAogICAgICAgICAgICBbNDUuMjQzNTE2MDU0MywgLTc1LjkxOTM4OTU5Ml0sCiAgICAgICAgICAgIHsKICAgICAgICAgICAgICAgIGljb246IG5ldyBMLkljb24uRGVmYXVsdCgpCiAgICAgICAgICAgICAgICB9CiAgICAgICAgICAgICkuYWRkVG8obWFya2VyX2NsdXN0ZXJfZDQyMWFjOTQ4NDZiNGQwNzg2YTM1Njk3YmU3YzJhYzQpOwogICAgICAgIAogICAgCiAgICAgICAgdmFyIG1hcmtlcl8zZDBmZDJmZDNlOTQ0NDI2YTllYjM0MTgwODZiODU4MyA9IEwubWFya2VyKAogICAgICAgICAgICBbNDUuMjgwOTczNTAzNSwgLTc1LjcyMTQ5MDkwNzJdLAogICAgICAgICAgICB7CiAgICAgICAgICAgICAgICBpY29uOiBuZXcgTC5JY29uLkRlZmF1bHQoKQogICAgICAgICAgICAgICAgfQogICAgICAgICAgICApLmFkZFRvKG1hcmtlcl9jbHVzdGVyX2Q0MjFhYzk0ODQ2YjRkMDc4NmEzNTY5N2JlN2MyYWM0KTsKICAgICAgICAKPC9zY3JpcHQ+\" style=\"position:absolute;width:100%;height:100%;left:0;top:0;border:none !important;\" allowfullscreen webkitallowfullscreen mozallowfullscreen></iframe></div></div>"
      ],
      "text/plain": [
       "<folium.folium.Map at 0x9333ad0>"
      ]
     },
     "metadata": {},
     "output_type": "display_data"
    },
    {
     "name": "stdout",
     "output_type": "stream",
     "text": [
      "2017/3/24:\n"
     ]
    },
    {
     "data": {
      "text/html": [
       "<div style=\"width:100%;\"><div style=\"position:relative;width:100%;height:0;padding-bottom:60%;\"><iframe src=\"data:text/html;charset=utf-8;base64,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\" style=\"position:absolute;width:100%;height:100%;left:0;top:0;border:none !important;\" allowfullscreen webkitallowfullscreen mozallowfullscreen></iframe></div></div>"
      ],
      "text/plain": [
       "<folium.folium.Map at 0x9a764d0>"
      ]
     },
     "metadata": {},
     "output_type": "display_data"
    }
   ],
   "source": [
    "dayOf2014 = pd.to_datetime('2014/01/03', format = '%Y/%m/%d')\n",
    "dayOf2015 = pd.to_datetime('2015/02/02', format = '%Y/%m/%d')\n",
    "dayOf2016 = pd.to_datetime('2016/02/17', format = '%Y/%m/%d')\n",
    "dayOf2017 = pd.to_datetime('2017/03/24', format = '%Y/%m/%d')\n",
    "\n",
    "def mapOfMaxCollision(dayOf):\n",
    "    df_day = df_csv1417[df_csv1417[\"Date\"] == dayOf]\n",
    "    lat_lons = [[row['latitude'], row['longitude']] for index, row in df_day.iterrows()]\n",
    "    lats = [lat for [lat, lon] in lat_lons]\n",
    "    lons = [lon for [lat, lon] in lat_lons]\n",
    "\n",
    "    center = [((np.min(lat) + np.max(lat))/2), ((np.min(lon) + np.max(lon))/2)]\n",
    "\n",
    "    map = folium.Map(location=center,\n",
    "                        zoom_start=10,\n",
    "                        tiles='OpenStreetMap'\n",
    "                       )\n",
    "\n",
    "    plugin = folium.plugins.MarkerCluster(locations = lat_lons)\n",
    "    plugin.add_to(map)\n",
    "    print(str(dayOf.year) + \"/\" + str(dayOf.month) + \"/\" + str(dayOf.day) + \":\")\n",
    "    display(map)\n",
    "\n",
    "for dt in [dayOf2014, dayOf2015, dayOf2016, dayOf2017]:\n",
    "    mapOfMaxCollision(dt)"
   ]
  },
  {
   "cell_type": "markdown",
   "metadata": {},
   "source": [
    "**Brief Conclusion:**\n",
    "* If we consider those 4 days with the largest annual number of collisions as a representative example, we have some locations with more collisions than others: \n",
    "* Gladstone Avenue (Chinatown)\n",
    "* Parliament Hill (city centre)\n",
    "* Longfields (a developing community)\n",
    "* Place d'Orleans (supermarket)\n",
    "* Billings Bridge (supermarket with a big bus stop beside)\n",
    "\n",
    "**Hypothesis:**\n",
    "* Locations such as supermarket: \n",
    "* more crowded people, heavier traffic, more big vehicles with stuff, complex streets and roads\n",
    "* more dangerous possibilities"
   ]
  },
  {
   "cell_type": "code",
   "execution_count": 116,
   "metadata": {},
   "outputs": [
    {
     "data": {
      "text/plain": [
       "True"
      ]
     },
     "execution_count": 116,
     "metadata": {},
     "output_type": "execute_result"
    }
   ],
   "source": [
    "dt in [dayOf2014, dayOf2015, dayOf2016, dayOf2017]"
   ]
  },
  {
   "cell_type": "code",
   "execution_count": null,
   "metadata": {},
   "outputs": [],
   "source": []
  },
  {
   "cell_type": "code",
   "execution_count": null,
   "metadata": {},
   "outputs": [],
   "source": []
  }
 ],
 "metadata": {
  "kernelspec": {
   "display_name": "Python 2",
   "language": "python",
   "name": "python2"
  },
  "language_info": {
   "codemirror_mode": {
    "name": "ipython",
    "version": 2
   },
   "file_extension": ".py",
   "mimetype": "text/x-python",
   "name": "python",
   "nbconvert_exporter": "python",
   "pygments_lexer": "ipython2",
   "version": "2.7.5"
  }
 },
 "nbformat": 4,
 "nbformat_minor": 2
}
